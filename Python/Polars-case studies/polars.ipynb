{
 "cells": [
  {
   "cell_type": "code",
   "execution_count": 509,
   "metadata": {},
   "outputs": [],
   "source": [
    "import polars as pl\n",
    "import numpy as np\n",
    "import pandas as pd"
   ]
  },
  {
   "cell_type": "markdown",
   "metadata": {},
   "source": [
    "# Create Dataframe"
   ]
  },
  {
   "cell_type": "code",
   "execution_count": 510,
   "metadata": {},
   "outputs": [
    {
     "data": {
      "text/html": [
       "<div><style>\n",
       ".dataframe > thead > tr,\n",
       ".dataframe > tbody > tr {\n",
       "  text-align: right;\n",
       "  white-space: pre-wrap;\n",
       "}\n",
       "</style>\n",
       "<small>shape: (5, 3)</small><table border=\"1\" class=\"dataframe\"><thead><tr><th>teacher</th><th>price</th><th>lessons</th></tr><tr><td>str</td><td>i32</td><td>i32</td></tr></thead><tbody><tr><td>&quot;John&quot;</td><td>37</td><td>19</td></tr><tr><td>&quot;Lucy&quot;</td><td>27</td><td>19</td></tr><tr><td>&quot;John&quot;</td><td>20</td><td>16</td></tr><tr><td>&quot;Tom&quot;</td><td>23</td><td>23</td></tr><tr><td>&quot;Helen&quot;</td><td>22</td><td>17</td></tr></tbody></table></div>"
      ],
      "text/plain": [
       "shape: (5, 3)\n",
       "┌─────────┬───────┬─────────┐\n",
       "│ teacher ┆ price ┆ lessons │\n",
       "│ ---     ┆ ---   ┆ ---     │\n",
       "│ str     ┆ i32   ┆ i32     │\n",
       "╞═════════╪═══════╪═════════╡\n",
       "│ John    ┆ 37    ┆ 19      │\n",
       "│ Lucy    ┆ 27    ┆ 19      │\n",
       "│ John    ┆ 20    ┆ 16      │\n",
       "│ Tom     ┆ 23    ┆ 23      │\n",
       "│ Helen   ┆ 22    ┆ 17      │\n",
       "└─────────┴───────┴─────────┘"
      ]
     },
     "execution_count": 510,
     "metadata": {},
     "output_type": "execute_result"
    }
   ],
   "source": [
    "df = pl.DataFrame({'teacher':['John', 'Lucy', 'John', 'Tom', 'Helen'],\n",
    "                   'price': np.random.randint(20,45,5),\n",
    "                   'lessons': np.random.randint(10,25,5)\n",
    "                   })\n",
    "df.head(5)"
   ]
  },
  {
   "cell_type": "code",
   "execution_count": 511,
   "metadata": {},
   "outputs": [
    {
     "data": {
      "text/html": [
       "<div>\n",
       "<style scoped>\n",
       "    .dataframe tbody tr th:only-of-type {\n",
       "        vertical-align: middle;\n",
       "    }\n",
       "\n",
       "    .dataframe tbody tr th {\n",
       "        vertical-align: top;\n",
       "    }\n",
       "\n",
       "    .dataframe thead th {\n",
       "        text-align: right;\n",
       "    }\n",
       "</style>\n",
       "<table border=\"1\" class=\"dataframe\">\n",
       "  <thead>\n",
       "    <tr style=\"text-align: right;\">\n",
       "      <th></th>\n",
       "      <th>teacher</th>\n",
       "      <th>price</th>\n",
       "      <th>lessons</th>\n",
       "    </tr>\n",
       "  </thead>\n",
       "  <tbody>\n",
       "    <tr>\n",
       "      <th>0</th>\n",
       "      <td>John</td>\n",
       "      <td>40</td>\n",
       "      <td>18</td>\n",
       "    </tr>\n",
       "    <tr>\n",
       "      <th>1</th>\n",
       "      <td>Lucy</td>\n",
       "      <td>38</td>\n",
       "      <td>20</td>\n",
       "    </tr>\n",
       "    <tr>\n",
       "      <th>2</th>\n",
       "      <td>John</td>\n",
       "      <td>32</td>\n",
       "      <td>24</td>\n",
       "    </tr>\n",
       "    <tr>\n",
       "      <th>3</th>\n",
       "      <td>Tom</td>\n",
       "      <td>41</td>\n",
       "      <td>19</td>\n",
       "    </tr>\n",
       "    <tr>\n",
       "      <th>4</th>\n",
       "      <td>Helen</td>\n",
       "      <td>24</td>\n",
       "      <td>18</td>\n",
       "    </tr>\n",
       "  </tbody>\n",
       "</table>\n",
       "</div>"
      ],
      "text/plain": [
       "  teacher  price  lessons\n",
       "0    John     40       18\n",
       "1    Lucy     38       20\n",
       "2    John     32       24\n",
       "3     Tom     41       19\n",
       "4   Helen     24       18"
      ]
     },
     "execution_count": 511,
     "metadata": {},
     "output_type": "execute_result"
    }
   ],
   "source": [
    "df_pd = pd.DataFrame({'teacher':['John', 'Lucy', 'John', 'Tom', 'Helen'],\n",
    "                   'price': np.random.randint(20,45,5),\n",
    "                   'lessons': np.random.randint(10,25,5)\n",
    "                   })\n",
    "df_pd.head(5)"
   ]
  },
  {
   "cell_type": "markdown",
   "metadata": {},
   "source": [
    "# Convert Pandas->Polars and Polars->Pandas"
   ]
  },
  {
   "cell_type": "code",
   "execution_count": 512,
   "metadata": {},
   "outputs": [
    {
     "data": {
      "text/html": [
       "<div><style>\n",
       ".dataframe > thead > tr,\n",
       ".dataframe > tbody > tr {\n",
       "  text-align: right;\n",
       "  white-space: pre-wrap;\n",
       "}\n",
       "</style>\n",
       "<small>shape: (5, 3)</small><table border=\"1\" class=\"dataframe\"><thead><tr><th>teacher</th><th>price</th><th>lessons</th></tr><tr><td>str</td><td>i32</td><td>i32</td></tr></thead><tbody><tr><td>&quot;John&quot;</td><td>40</td><td>18</td></tr><tr><td>&quot;Lucy&quot;</td><td>38</td><td>20</td></tr><tr><td>&quot;John&quot;</td><td>32</td><td>24</td></tr><tr><td>&quot;Tom&quot;</td><td>41</td><td>19</td></tr><tr><td>&quot;Helen&quot;</td><td>24</td><td>18</td></tr></tbody></table></div>"
      ],
      "text/plain": [
       "shape: (5, 3)\n",
       "┌─────────┬───────┬─────────┐\n",
       "│ teacher ┆ price ┆ lessons │\n",
       "│ ---     ┆ ---   ┆ ---     │\n",
       "│ str     ┆ i32   ┆ i32     │\n",
       "╞═════════╪═══════╪═════════╡\n",
       "│ John    ┆ 40    ┆ 18      │\n",
       "│ Lucy    ┆ 38    ┆ 20      │\n",
       "│ John    ┆ 32    ┆ 24      │\n",
       "│ Tom     ┆ 41    ┆ 19      │\n",
       "│ Helen   ┆ 24    ┆ 18      │\n",
       "└─────────┴───────┴─────────┘"
      ]
     },
     "execution_count": 512,
     "metadata": {},
     "output_type": "execute_result"
    }
   ],
   "source": [
    "polars_df = pl.from_pandas(df_pd)\n",
    "polars_df"
   ]
  },
  {
   "cell_type": "code",
   "execution_count": 513,
   "metadata": {},
   "outputs": [
    {
     "data": {
      "text/html": [
       "<div>\n",
       "<style scoped>\n",
       "    .dataframe tbody tr th:only-of-type {\n",
       "        vertical-align: middle;\n",
       "    }\n",
       "\n",
       "    .dataframe tbody tr th {\n",
       "        vertical-align: top;\n",
       "    }\n",
       "\n",
       "    .dataframe thead th {\n",
       "        text-align: right;\n",
       "    }\n",
       "</style>\n",
       "<table border=\"1\" class=\"dataframe\">\n",
       "  <thead>\n",
       "    <tr style=\"text-align: right;\">\n",
       "      <th></th>\n",
       "      <th>teacher</th>\n",
       "      <th>price</th>\n",
       "      <th>lessons</th>\n",
       "    </tr>\n",
       "  </thead>\n",
       "  <tbody>\n",
       "    <tr>\n",
       "      <th>0</th>\n",
       "      <td>John</td>\n",
       "      <td>37</td>\n",
       "      <td>19</td>\n",
       "    </tr>\n",
       "    <tr>\n",
       "      <th>1</th>\n",
       "      <td>Lucy</td>\n",
       "      <td>27</td>\n",
       "      <td>19</td>\n",
       "    </tr>\n",
       "    <tr>\n",
       "      <th>2</th>\n",
       "      <td>John</td>\n",
       "      <td>20</td>\n",
       "      <td>16</td>\n",
       "    </tr>\n",
       "    <tr>\n",
       "      <th>3</th>\n",
       "      <td>Tom</td>\n",
       "      <td>23</td>\n",
       "      <td>23</td>\n",
       "    </tr>\n",
       "    <tr>\n",
       "      <th>4</th>\n",
       "      <td>Helen</td>\n",
       "      <td>22</td>\n",
       "      <td>17</td>\n",
       "    </tr>\n",
       "  </tbody>\n",
       "</table>\n",
       "</div>"
      ],
      "text/plain": [
       "  teacher  price  lessons\n",
       "0    John     37       19\n",
       "1    Lucy     27       19\n",
       "2    John     20       16\n",
       "3     Tom     23       23\n",
       "4   Helen     22       17"
      ]
     },
     "execution_count": 513,
     "metadata": {},
     "output_type": "execute_result"
    }
   ],
   "source": [
    "pandas_df = df.to_pandas()\n",
    "pandas_df"
   ]
  },
  {
   "cell_type": "markdown",
   "metadata": {},
   "source": [
    "# Filter"
   ]
  },
  {
   "cell_type": "code",
   "execution_count": 514,
   "metadata": {},
   "outputs": [
    {
     "data": {
      "text/html": [
       "<div><style>\n",
       ".dataframe > thead > tr,\n",
       ".dataframe > tbody > tr {\n",
       "  text-align: right;\n",
       "  white-space: pre-wrap;\n",
       "}\n",
       "</style>\n",
       "<small>shape: (2, 3)</small><table border=\"1\" class=\"dataframe\"><thead><tr><th>teacher</th><th>price</th><th>lessons</th></tr><tr><td>str</td><td>i32</td><td>i32</td></tr></thead><tbody><tr><td>&quot;John&quot;</td><td>37</td><td>19</td></tr><tr><td>&quot;John&quot;</td><td>20</td><td>16</td></tr></tbody></table></div>"
      ],
      "text/plain": [
       "shape: (2, 3)\n",
       "┌─────────┬───────┬─────────┐\n",
       "│ teacher ┆ price ┆ lessons │\n",
       "│ ---     ┆ ---   ┆ ---     │\n",
       "│ str     ┆ i32   ┆ i32     │\n",
       "╞═════════╪═══════╪═════════╡\n",
       "│ John    ┆ 37    ┆ 19      │\n",
       "│ John    ┆ 20    ┆ 16      │\n",
       "└─────────┴───────┴─────────┘"
      ]
     },
     "execution_count": 514,
     "metadata": {},
     "output_type": "execute_result"
    }
   ],
   "source": [
    "df_filtered = df.filter(\n",
    "                        (pl.col('teacher')=='John') & (pl.col('price')>10)\n",
    "                        )\n",
    "\n",
    "df_filtered"
   ]
  },
  {
   "cell_type": "code",
   "execution_count": 515,
   "metadata": {},
   "outputs": [
    {
     "data": {
      "text/html": [
       "<div>\n",
       "<style scoped>\n",
       "    .dataframe tbody tr th:only-of-type {\n",
       "        vertical-align: middle;\n",
       "    }\n",
       "\n",
       "    .dataframe tbody tr th {\n",
       "        vertical-align: top;\n",
       "    }\n",
       "\n",
       "    .dataframe thead th {\n",
       "        text-align: right;\n",
       "    }\n",
       "</style>\n",
       "<table border=\"1\" class=\"dataframe\">\n",
       "  <thead>\n",
       "    <tr style=\"text-align: right;\">\n",
       "      <th></th>\n",
       "      <th>teacher</th>\n",
       "      <th>price</th>\n",
       "      <th>lessons</th>\n",
       "    </tr>\n",
       "  </thead>\n",
       "  <tbody>\n",
       "    <tr>\n",
       "      <th>0</th>\n",
       "      <td>John</td>\n",
       "      <td>40</td>\n",
       "      <td>18</td>\n",
       "    </tr>\n",
       "    <tr>\n",
       "      <th>2</th>\n",
       "      <td>John</td>\n",
       "      <td>32</td>\n",
       "      <td>24</td>\n",
       "    </tr>\n",
       "  </tbody>\n",
       "</table>\n",
       "</div>"
      ],
      "text/plain": [
       "  teacher  price  lessons\n",
       "0    John     40       18\n",
       "2    John     32       24"
      ]
     },
     "execution_count": 515,
     "metadata": {},
     "output_type": "execute_result"
    }
   ],
   "source": [
    "df_pd_filtered = df_pd[(df_pd['teacher']=='John') & (df_pd['price']>10)]\n",
    "\n",
    "df_pd_filtered"
   ]
  },
  {
   "cell_type": "markdown",
   "metadata": {},
   "source": [
    "# GREATER or NOT GREATER (~)"
   ]
  },
  {
   "cell_type": "code",
   "execution_count": 516,
   "metadata": {},
   "outputs": [],
   "source": [
    "import polars as pl\n",
    "\n",
    "# Sample DataFrame\n",
    "df = pl.DataFrame({\"A\": [1, -2, 0], \n",
    "                   \"B\": [4, 5, -6], \n",
    "                   \"C\": [-7, 8, 9]\n",
    "                   })"
   ]
  },
  {
   "cell_type": "code",
   "execution_count": 517,
   "metadata": {},
   "outputs": [
    {
     "name": "stdout",
     "output_type": "stream",
     "text": [
      "shape: (1, 3)\n",
      "┌─────┬─────┬─────┐\n",
      "│ A   ┆ B   ┆ C   │\n",
      "│ --- ┆ --- ┆ --- │\n",
      "│ i64 ┆ i64 ┆ i64 │\n",
      "╞═════╪═════╪═════╡\n",
      "│ -2  ┆ 5   ┆ 8   │\n",
      "└─────┴─────┴─────┘\n"
     ]
    }
   ],
   "source": [
    "# Filter rows where all values are not greater than 0 (<= 0)\n",
    "filtered_df = df.filter(~pl.col('A').ge(0))  # Logical negation with `~`\n",
    "print(filtered_df)"
   ]
  },
  {
   "cell_type": "code",
   "execution_count": 518,
   "metadata": {},
   "outputs": [
    {
     "name": "stdout",
     "output_type": "stream",
     "text": [
      "shape: (2, 3)\n",
      "┌─────┬─────┬─────┐\n",
      "│ A   ┆ B   ┆ C   │\n",
      "│ --- ┆ --- ┆ --- │\n",
      "│ i64 ┆ i64 ┆ i64 │\n",
      "╞═════╪═════╪═════╡\n",
      "│ -2  ┆ 5   ┆ 8   │\n",
      "│ 0   ┆ -6  ┆ 9   │\n",
      "└─────┴─────┴─────┘\n"
     ]
    }
   ],
   "source": [
    "# Filter rows where all values are not greater than 0 (<= 0)\n",
    "filtered_df = df.filter(~pl.col('A').gt(0))  # Logical negation with `~`\n",
    "print(filtered_df)"
   ]
  },
  {
   "cell_type": "markdown",
   "metadata": {},
   "source": [
    "# Operations with columns"
   ]
  },
  {
   "cell_type": "markdown",
   "metadata": {},
   "source": [
    "**Divide-Polars-way1**"
   ]
  },
  {
   "cell_type": "code",
   "execution_count": 519,
   "metadata": {},
   "outputs": [],
   "source": [
    "import polars as pl\n",
    "\n",
    "# Sample DataFrame\n",
    "df = pl.DataFrame({\"price\": [10, 20, 35], \n",
    "                   \"lessons\": [4, 5, 6]\n",
    "                   })"
   ]
  },
  {
   "cell_type": "code",
   "execution_count": 520,
   "metadata": {},
   "outputs": [
    {
     "data": {
      "text/html": [
       "<div><style>\n",
       ".dataframe > thead > tr,\n",
       ".dataframe > tbody > tr {\n",
       "  text-align: right;\n",
       "  white-space: pre-wrap;\n",
       "}\n",
       "</style>\n",
       "<small>shape: (3, 3)</small><table border=\"1\" class=\"dataframe\"><thead><tr><th>price</th><th>lessons</th><th>profit</th></tr><tr><td>i64</td><td>i64</td><td>f64</td></tr></thead><tbody><tr><td>10</td><td>4</td><td>250.0</td></tr><tr><td>20</td><td>5</td><td>400.0</td></tr><tr><td>35</td><td>6</td><td>583.333333</td></tr></tbody></table></div>"
      ],
      "text/plain": [
       "shape: (3, 3)\n",
       "┌───────┬─────────┬────────────┐\n",
       "│ price ┆ lessons ┆ profit     │\n",
       "│ ---   ┆ ---     ┆ ---        │\n",
       "│ i64   ┆ i64     ┆ f64        │\n",
       "╞═══════╪═════════╪════════════╡\n",
       "│ 10    ┆ 4       ┆ 250.0      │\n",
       "│ 20    ┆ 5       ┆ 400.0      │\n",
       "│ 35    ┆ 6       ┆ 583.333333 │\n",
       "└───────┴─────────┴────────────┘"
      ]
     },
     "execution_count": 520,
     "metadata": {},
     "output_type": "execute_result"
    }
   ],
   "source": [
    "df = df.with_columns(\n",
    "                    ((pl.col('price') / pl.col('lessons'))*100).alias('profit')\n",
    "                    )\n",
    "\n",
    "df.head(5)"
   ]
  },
  {
   "cell_type": "markdown",
   "metadata": {},
   "source": [
    "**Divide-Polars-way2**"
   ]
  },
  {
   "cell_type": "code",
   "execution_count": 521,
   "metadata": {},
   "outputs": [
    {
     "data": {
      "text/html": [
       "<div><style>\n",
       ".dataframe > thead > tr,\n",
       ".dataframe > tbody > tr {\n",
       "  text-align: right;\n",
       "  white-space: pre-wrap;\n",
       "}\n",
       "</style>\n",
       "<small>shape: (3, 3)</small><table border=\"1\" class=\"dataframe\"><thead><tr><th>price</th><th>lessons</th><th>profit</th></tr><tr><td>i64</td><td>i64</td><td>f64</td></tr></thead><tbody><tr><td>10</td><td>4</td><td>250.0</td></tr><tr><td>20</td><td>5</td><td>400.0</td></tr><tr><td>35</td><td>6</td><td>583.333333</td></tr></tbody></table></div>"
      ],
      "text/plain": [
       "shape: (3, 3)\n",
       "┌───────┬─────────┬────────────┐\n",
       "│ price ┆ lessons ┆ profit     │\n",
       "│ ---   ┆ ---     ┆ ---        │\n",
       "│ i64   ┆ i64     ┆ f64        │\n",
       "╞═══════╪═════════╪════════════╡\n",
       "│ 10    ┆ 4       ┆ 250.0      │\n",
       "│ 20    ┆ 5       ┆ 400.0      │\n",
       "│ 35    ┆ 6       ┆ 583.333333 │\n",
       "└───────┴─────────┴────────────┘"
      ]
     },
     "execution_count": 521,
     "metadata": {},
     "output_type": "execute_result"
    }
   ],
   "source": [
    "df = df.with_columns(\n",
    "                    ((df['price'] / df['lessons'])*100).alias('profit')\n",
    "                    )\n",
    "\n",
    "df.head(5)"
   ]
  },
  {
   "cell_type": "markdown",
   "metadata": {},
   "source": [
    "**SQRT**"
   ]
  },
  {
   "cell_type": "code",
   "execution_count": 522,
   "metadata": {},
   "outputs": [
    {
     "data": {
      "text/html": [
       "<div><style>\n",
       ".dataframe > thead > tr,\n",
       ".dataframe > tbody > tr {\n",
       "  text-align: right;\n",
       "  white-space: pre-wrap;\n",
       "}\n",
       "</style>\n",
       "<small>shape: (3, 4)</small><table border=\"1\" class=\"dataframe\"><thead><tr><th>price</th><th>lessons</th><th>profit</th><th>sqrt</th></tr><tr><td>i64</td><td>i64</td><td>f64</td><td>f64</td></tr></thead><tbody><tr><td>10</td><td>4</td><td>250.0</td><td>15.811388</td></tr><tr><td>20</td><td>5</td><td>400.0</td><td>20.0</td></tr><tr><td>35</td><td>6</td><td>583.333333</td><td>24.152295</td></tr></tbody></table></div>"
      ],
      "text/plain": [
       "shape: (3, 4)\n",
       "┌───────┬─────────┬────────────┬───────────┐\n",
       "│ price ┆ lessons ┆ profit     ┆ sqrt      │\n",
       "│ ---   ┆ ---     ┆ ---        ┆ ---       │\n",
       "│ i64   ┆ i64     ┆ f64        ┆ f64       │\n",
       "╞═══════╪═════════╪════════════╪═══════════╡\n",
       "│ 10    ┆ 4       ┆ 250.0      ┆ 15.811388 │\n",
       "│ 20    ┆ 5       ┆ 400.0      ┆ 20.0      │\n",
       "│ 35    ┆ 6       ┆ 583.333333 ┆ 24.152295 │\n",
       "└───────┴─────────┴────────────┴───────────┘"
      ]
     },
     "execution_count": 522,
     "metadata": {},
     "output_type": "execute_result"
    }
   ],
   "source": [
    "df = df.with_columns(\n",
    "                        pl.col('profit').sqrt().alias('sqrt')\n",
    "                    )\n",
    "\n",
    "df.head(5)"
   ]
  },
  {
   "cell_type": "markdown",
   "metadata": {},
   "source": [
    "# Bins and value counts"
   ]
  },
  {
   "cell_type": "code",
   "execution_count": 523,
   "metadata": {},
   "outputs": [],
   "source": [
    "import polars as pl\n",
    "\n",
    "# Sample DataFrame\n",
    "df = pl.DataFrame({\"age\": [85, 15 , 18, 33, 32, 44, 45, 46, 82, 65],\n",
    "                   \"freq\": [3,1 , 2, 1, 3, 1, 2, 1, 1, 100]\n",
    "                   })"
   ]
  },
  {
   "cell_type": "markdown",
   "metadata": {},
   "source": [
    "**Without duplicates**"
   ]
  },
  {
   "cell_type": "code",
   "execution_count": 524,
   "metadata": {},
   "outputs": [
    {
     "data": {
      "text/html": [
       "<div><style>\n",
       ".dataframe > thead > tr,\n",
       ".dataframe > tbody > tr {\n",
       "  text-align: right;\n",
       "  white-space: pre-wrap;\n",
       "}\n",
       "</style>\n",
       "<small>shape: (10, 3)</small><table border=\"1\" class=\"dataframe\"><thead><tr><th>age</th><th>freq</th><th>categories-age</th></tr><tr><td>i64</td><td>i64</td><td>cat</td></tr></thead><tbody><tr><td>15</td><td>1</td><td>&quot;Low&quot;</td></tr><tr><td>18</td><td>2</td><td>&quot;Low&quot;</td></tr><tr><td>32</td><td>3</td><td>&quot;Medium Low&quot;</td></tr><tr><td>33</td><td>1</td><td>&quot;Medium Low&quot;</td></tr><tr><td>44</td><td>1</td><td>&quot;Medium&quot;</td></tr><tr><td>45</td><td>2</td><td>&quot;Medium&quot;</td></tr><tr><td>46</td><td>1</td><td>&quot;Medium High&quot;</td></tr><tr><td>65</td><td>100</td><td>&quot;Medium High&quot;</td></tr><tr><td>82</td><td>1</td><td>&quot;High&quot;</td></tr><tr><td>85</td><td>3</td><td>&quot;High&quot;</td></tr></tbody></table></div>"
      ],
      "text/plain": [
       "shape: (10, 3)\n",
       "┌─────┬──────┬────────────────┐\n",
       "│ age ┆ freq ┆ categories-age │\n",
       "│ --- ┆ ---  ┆ ---            │\n",
       "│ i64 ┆ i64  ┆ cat            │\n",
       "╞═════╪══════╪════════════════╡\n",
       "│ 15  ┆ 1    ┆ Low            │\n",
       "│ 18  ┆ 2    ┆ Low            │\n",
       "│ 32  ┆ 3    ┆ Medium Low     │\n",
       "│ 33  ┆ 1    ┆ Medium Low     │\n",
       "│ 44  ┆ 1    ┆ Medium         │\n",
       "│ 45  ┆ 2    ┆ Medium         │\n",
       "│ 46  ┆ 1    ┆ Medium High    │\n",
       "│ 65  ┆ 100  ┆ Medium High    │\n",
       "│ 82  ┆ 1    ┆ High           │\n",
       "│ 85  ┆ 3    ┆ High           │\n",
       "└─────┴──────┴────────────────┘"
      ]
     },
     "execution_count": 524,
     "metadata": {},
     "output_type": "execute_result"
    }
   ],
   "source": [
    "df_rfm = df.with_columns(df['age'].qcut(quantiles=5, \n",
    "                                        labels=[\"Low\", \"Medium Low\", \"Medium\", \"Medium High\", \"High\"])\n",
    "                                        .alias('categories-age'))\n",
    "\n",
    "df_rfm = df_rfm.sort('age', descending=False)\n",
    "df_rfm"
   ]
  },
  {
   "cell_type": "markdown",
   "metadata": {},
   "source": [
    "**With duplicates**"
   ]
  },
  {
   "cell_type": "code",
   "execution_count": 525,
   "metadata": {},
   "outputs": [
    {
     "data": {
      "text/html": [
       "<div><style>\n",
       ".dataframe > thead > tr,\n",
       ".dataframe > tbody > tr {\n",
       "  text-align: right;\n",
       "  white-space: pre-wrap;\n",
       "}\n",
       "</style>\n",
       "<small>shape: (10, 3)</small><table border=\"1\" class=\"dataframe\"><thead><tr><th>age</th><th>freq</th><th>categories-freq</th></tr><tr><td>i64</td><td>i64</td><td>cat</td></tr></thead><tbody><tr><td>15</td><td>1</td><td>&quot;Low&quot;</td></tr><tr><td>33</td><td>1</td><td>&quot;Low&quot;</td></tr><tr><td>44</td><td>1</td><td>&quot;Low&quot;</td></tr><tr><td>46</td><td>1</td><td>&quot;Low&quot;</td></tr><tr><td>82</td><td>1</td><td>&quot;Low&quot;</td></tr><tr><td>18</td><td>2</td><td>&quot;Medium&quot;</td></tr><tr><td>45</td><td>2</td><td>&quot;Medium&quot;</td></tr><tr><td>85</td><td>3</td><td>&quot;Medium High&quot;</td></tr><tr><td>32</td><td>3</td><td>&quot;Medium High&quot;</td></tr><tr><td>65</td><td>100</td><td>&quot;High&quot;</td></tr></tbody></table></div>"
      ],
      "text/plain": [
       "shape: (10, 3)\n",
       "┌─────┬──────┬─────────────────┐\n",
       "│ age ┆ freq ┆ categories-freq │\n",
       "│ --- ┆ ---  ┆ ---             │\n",
       "│ i64 ┆ i64  ┆ cat             │\n",
       "╞═════╪══════╪═════════════════╡\n",
       "│ 15  ┆ 1    ┆ Low             │\n",
       "│ 33  ┆ 1    ┆ Low             │\n",
       "│ 44  ┆ 1    ┆ Low             │\n",
       "│ 46  ┆ 1    ┆ Low             │\n",
       "│ 82  ┆ 1    ┆ Low             │\n",
       "│ 18  ┆ 2    ┆ Medium          │\n",
       "│ 45  ┆ 2    ┆ Medium          │\n",
       "│ 85  ┆ 3    ┆ Medium High     │\n",
       "│ 32  ┆ 3    ┆ Medium High     │\n",
       "│ 65  ┆ 100  ┆ High            │\n",
       "└─────┴──────┴─────────────────┘"
      ]
     },
     "execution_count": 525,
     "metadata": {},
     "output_type": "execute_result"
    }
   ],
   "source": [
    "df_rfm = df.with_columns(df['freq'].qcut(quantiles=5, \n",
    "                                         labels=[\"Low\", \"Medium Low\", \"Medium\", \"Medium High\", \"High\"], \n",
    "                                         allow_duplicates=True)\n",
    "                                         .alias('categories-freq'))\n",
    "\n",
    "df_rfm = df_rfm.sort('freq', descending=False)\n",
    "df_rfm"
   ]
  },
  {
   "cell_type": "code",
   "execution_count": 526,
   "metadata": {},
   "outputs": [
    {
     "data": {
      "text/html": [
       "<div><style>\n",
       ".dataframe > thead > tr,\n",
       ".dataframe > tbody > tr {\n",
       "  text-align: right;\n",
       "  white-space: pre-wrap;\n",
       "}\n",
       "</style>\n",
       "<small>shape: (4, 1)</small><table border=\"1\" class=\"dataframe\"><thead><tr><th>categories-freq</th></tr><tr><td>struct[2]</td></tr></thead><tbody><tr><td>{&quot;Low&quot;,5}</td></tr><tr><td>{&quot;Medium&quot;,2}</td></tr><tr><td>{&quot;Medium High&quot;,2}</td></tr><tr><td>{&quot;High&quot;,1}</td></tr></tbody></table></div>"
      ],
      "text/plain": [
       "shape: (4, 1)\n",
       "┌───────────────────┐\n",
       "│ categories-freq   │\n",
       "│ ---               │\n",
       "│ struct[2]         │\n",
       "╞═══════════════════╡\n",
       "│ {\"Low\",5}         │\n",
       "│ {\"Medium\",2}      │\n",
       "│ {\"Medium High\",2} │\n",
       "│ {\"High\",1}        │\n",
       "└───────────────────┘"
      ]
     },
     "execution_count": 526,
     "metadata": {},
     "output_type": "execute_result"
    }
   ],
   "source": [
    "number = df_rfm.select(pl.col('categories-freq').value_counts(sort=True))\n",
    "number.head(20)"
   ]
  },
  {
   "cell_type": "markdown",
   "metadata": {},
   "source": [
    "# Conditions"
   ]
  },
  {
   "cell_type": "markdown",
   "metadata": {},
   "source": [
    "**Condition with new column created**"
   ]
  },
  {
   "cell_type": "code",
   "execution_count": 527,
   "metadata": {},
   "outputs": [
    {
     "data": {
      "text/html": [
       "<div><style>\n",
       ".dataframe > thead > tr,\n",
       ".dataframe > tbody > tr {\n",
       "  text-align: right;\n",
       "  white-space: pre-wrap;\n",
       "}\n",
       "</style>\n",
       "<small>shape: (5, 3)</small><table border=\"1\" class=\"dataframe\"><thead><tr><th>teacher</th><th>price</th><th>lessons</th></tr><tr><td>str</td><td>i32</td><td>i32</td></tr></thead><tbody><tr><td>&quot;John&quot;</td><td>42</td><td>14</td></tr><tr><td>&quot;Lucy&quot;</td><td>22</td><td>18</td></tr><tr><td>&quot;John&quot;</td><td>30</td><td>16</td></tr><tr><td>&quot;Tom&quot;</td><td>37</td><td>22</td></tr><tr><td>&quot;Helen&quot;</td><td>39</td><td>23</td></tr></tbody></table></div>"
      ],
      "text/plain": [
       "shape: (5, 3)\n",
       "┌─────────┬───────┬─────────┐\n",
       "│ teacher ┆ price ┆ lessons │\n",
       "│ ---     ┆ ---   ┆ ---     │\n",
       "│ str     ┆ i32   ┆ i32     │\n",
       "╞═════════╪═══════╪═════════╡\n",
       "│ John    ┆ 42    ┆ 14      │\n",
       "│ Lucy    ┆ 22    ┆ 18      │\n",
       "│ John    ┆ 30    ┆ 16      │\n",
       "│ Tom     ┆ 37    ┆ 22      │\n",
       "│ Helen   ┆ 39    ┆ 23      │\n",
       "└─────────┴───────┴─────────┘"
      ]
     },
     "execution_count": 527,
     "metadata": {},
     "output_type": "execute_result"
    }
   ],
   "source": [
    "df = pl.DataFrame({'teacher':['John', 'Lucy', 'John', 'Tom', 'Helen'],\n",
    "                   'price': np.random.randint(20,45,5),\n",
    "                   'lessons': np.random.randint(10,25,5)\n",
    "                   })\n",
    "df.head(5)"
   ]
  },
  {
   "cell_type": "code",
   "execution_count": 528,
   "metadata": {},
   "outputs": [
    {
     "data": {
      "text/html": [
       "<div><style>\n",
       ".dataframe > thead > tr,\n",
       ".dataframe > tbody > tr {\n",
       "  text-align: right;\n",
       "  white-space: pre-wrap;\n",
       "}\n",
       "</style>\n",
       "<small>shape: (5, 4)</small><table border=\"1\" class=\"dataframe\"><thead><tr><th>teacher</th><th>price</th><th>lessons</th><th>new column</th></tr><tr><td>str</td><td>i32</td><td>i32</td><td>i32</td></tr></thead><tbody><tr><td>&quot;John&quot;</td><td>42</td><td>14</td><td>1</td></tr><tr><td>&quot;Lucy&quot;</td><td>22</td><td>18</td><td>0</td></tr><tr><td>&quot;John&quot;</td><td>30</td><td>16</td><td>1</td></tr><tr><td>&quot;Tom&quot;</td><td>37</td><td>22</td><td>0</td></tr><tr><td>&quot;Helen&quot;</td><td>39</td><td>23</td><td>0</td></tr></tbody></table></div>"
      ],
      "text/plain": [
       "shape: (5, 4)\n",
       "┌─────────┬───────┬─────────┬────────────┐\n",
       "│ teacher ┆ price ┆ lessons ┆ new column │\n",
       "│ ---     ┆ ---   ┆ ---     ┆ ---        │\n",
       "│ str     ┆ i32   ┆ i32     ┆ i32        │\n",
       "╞═════════╪═══════╪═════════╪════════════╡\n",
       "│ John    ┆ 42    ┆ 14      ┆ 1          │\n",
       "│ Lucy    ┆ 22    ┆ 18      ┆ 0          │\n",
       "│ John    ┆ 30    ┆ 16      ┆ 1          │\n",
       "│ Tom     ┆ 37    ┆ 22      ┆ 0          │\n",
       "│ Helen   ┆ 39    ┆ 23      ┆ 0          │\n",
       "└─────────┴───────┴─────────┴────────────┘"
      ]
     },
     "execution_count": 528,
     "metadata": {},
     "output_type": "execute_result"
    }
   ],
   "source": [
    "\"\"\" # Pandas version\n",
    "df_pd['new column'] = np.where(df_pd['teacher']=='John', 1, 0)\n",
    "df_pd.head(5)  \"\"\" \n",
    "\n",
    "df_con = df.with_columns(\n",
    "                        pl.when(pl.col('teacher')=='John').then(1).otherwise(0).alias('new column')\n",
    "                        )\n",
    "df_con.head(5)"
   ]
  },
  {
   "cell_type": "markdown",
   "metadata": {},
   "source": [
    "**Condition - with modifing an existing column - using lit**"
   ]
  },
  {
   "cell_type": "code",
   "execution_count": 529,
   "metadata": {},
   "outputs": [
    {
     "data": {
      "text/html": [
       "<div><style>\n",
       ".dataframe > thead > tr,\n",
       ".dataframe > tbody > tr {\n",
       "  text-align: right;\n",
       "  white-space: pre-wrap;\n",
       "}\n",
       "</style>\n",
       "<small>shape: (5, 3)</small><table border=\"1\" class=\"dataframe\"><thead><tr><th>teacher</th><th>price</th><th>lessons</th></tr><tr><td>str</td><td>i32</td><td>i32</td></tr></thead><tbody><tr><td>&quot;John&quot;</td><td>0</td><td>14</td></tr><tr><td>&quot;Lucy&quot;</td><td>22</td><td>18</td></tr><tr><td>&quot;John&quot;</td><td>0</td><td>16</td></tr><tr><td>&quot;Tom&quot;</td><td>37</td><td>22</td></tr><tr><td>&quot;Helen&quot;</td><td>39</td><td>23</td></tr></tbody></table></div>"
      ],
      "text/plain": [
       "shape: (5, 3)\n",
       "┌─────────┬───────┬─────────┐\n",
       "│ teacher ┆ price ┆ lessons │\n",
       "│ ---     ┆ ---   ┆ ---     │\n",
       "│ str     ┆ i32   ┆ i32     │\n",
       "╞═════════╪═══════╪═════════╡\n",
       "│ John    ┆ 0     ┆ 14      │\n",
       "│ Lucy    ┆ 22    ┆ 18      │\n",
       "│ John    ┆ 0     ┆ 16      │\n",
       "│ Tom     ┆ 37    ┆ 22      │\n",
       "│ Helen   ┆ 39    ┆ 23      │\n",
       "└─────────┴───────┴─────────┘"
      ]
     },
     "execution_count": 529,
     "metadata": {},
     "output_type": "execute_result"
    }
   ],
   "source": [
    "df = df.with_columns(\n",
    "                    pl.when(pl.col('teacher')=='John')\n",
    "                    .then(pl.lit(0))\n",
    "                    .otherwise('price')\n",
    "                    .name.keep()\n",
    "                    )                     \n",
    "df"
   ]
  },
  {
   "cell_type": "markdown",
   "metadata": {},
   "source": [
    "# NULL and NaN"
   ]
  },
  {
   "cell_type": "code",
   "execution_count": 530,
   "metadata": {},
   "outputs": [
    {
     "data": {
      "text/html": [
       "<div><style>\n",
       ".dataframe > thead > tr,\n",
       ".dataframe > tbody > tr {\n",
       "  text-align: right;\n",
       "  white-space: pre-wrap;\n",
       "}\n",
       "</style>\n",
       "<small>shape: (5, 2)</small><table border=\"1\" class=\"dataframe\"><thead><tr><th>a</th><th>b</th></tr><tr><td>i64</td><td>f64</td></tr></thead><tbody><tr><td>1</td><td>1.0</td></tr><tr><td>2</td><td>NaN</td></tr><tr><td>null</td><td>2.0</td></tr><tr><td>1</td><td>1.0</td></tr><tr><td>null</td><td>5.0</td></tr></tbody></table></div>"
      ],
      "text/plain": [
       "shape: (5, 2)\n",
       "┌──────┬─────┐\n",
       "│ a    ┆ b   │\n",
       "│ ---  ┆ --- │\n",
       "│ i64  ┆ f64 │\n",
       "╞══════╪═════╡\n",
       "│ 1    ┆ 1.0 │\n",
       "│ 2    ┆ NaN │\n",
       "│ null ┆ 2.0 │\n",
       "│ 1    ┆ 1.0 │\n",
       "│ null ┆ 5.0 │\n",
       "└──────┴─────┘"
      ]
     },
     "execution_count": 530,
     "metadata": {},
     "output_type": "execute_result"
    }
   ],
   "source": [
    "import polars as pl\n",
    "\n",
    "df = pl.DataFrame({\n",
    "        \"a\": [1, 2, None, 1, None],\n",
    "        \"b\": [1.0, float(\"nan\"), 2.0, 1.0, 5.0],\n",
    "    })\n",
    "\n",
    "df\n"
   ]
  },
  {
   "cell_type": "code",
   "execution_count": 531,
   "metadata": {},
   "outputs": [
    {
     "name": "stdout",
     "output_type": "stream",
     "text": [
      "shape: (1, 1)\n",
      "┌─────┐\n",
      "│ a   │\n",
      "│ --- │\n",
      "│ u32 │\n",
      "╞═════╡\n",
      "│ 2   │\n",
      "└─────┘\n"
     ]
    }
   ],
   "source": [
    "print(\n",
    "    df.select(pl.col('a').null_count())\n",
    "    ) "
   ]
  },
  {
   "cell_type": "code",
   "execution_count": 532,
   "metadata": {},
   "outputs": [
    {
     "data": {
      "text/html": [
       "<div><style>\n",
       ".dataframe > thead > tr,\n",
       ".dataframe > tbody > tr {\n",
       "  text-align: right;\n",
       "  white-space: pre-wrap;\n",
       "}\n",
       "</style>\n",
       "<small>shape: (5, 2)</small><table border=\"1\" class=\"dataframe\"><thead><tr><th>a</th><th>b</th></tr><tr><td>f64</td><td>f64</td></tr></thead><tbody><tr><td>1.0</td><td>1.0</td></tr><tr><td>2.0</td><td>NaN</td></tr><tr><td>2.0</td><td>2.0</td></tr><tr><td>1.0</td><td>1.0</td></tr><tr><td>5.0</td><td>5.0</td></tr></tbody></table></div>"
      ],
      "text/plain": [
       "shape: (5, 2)\n",
       "┌─────┬─────┐\n",
       "│ a   ┆ b   │\n",
       "│ --- ┆ --- │\n",
       "│ f64 ┆ f64 │\n",
       "╞═════╪═════╡\n",
       "│ 1.0 ┆ 1.0 │\n",
       "│ 2.0 ┆ NaN │\n",
       "│ 2.0 ┆ 2.0 │\n",
       "│ 1.0 ┆ 1.0 │\n",
       "│ 5.0 ┆ 5.0 │\n",
       "└─────┴─────┘"
      ]
     },
     "execution_count": 532,
     "metadata": {},
     "output_type": "execute_result"
    }
   ],
   "source": [
    "df =  df.with_columns(pl.col('a').fill_null(pl.col('b')))\n",
    "df"
   ]
  },
  {
   "cell_type": "code",
   "execution_count": 533,
   "metadata": {},
   "outputs": [
    {
     "data": {
      "text/html": [
       "<div><style>\n",
       ".dataframe > thead > tr,\n",
       ".dataframe > tbody > tr {\n",
       "  text-align: right;\n",
       "  white-space: pre-wrap;\n",
       "}\n",
       "</style>\n",
       "<small>shape: (5, 2)</small><table border=\"1\" class=\"dataframe\"><thead><tr><th>a</th><th>b</th></tr><tr><td>f64</td><td>str</td></tr></thead><tbody><tr><td>1.0</td><td>&quot;1.0&quot;</td></tr><tr><td>2.0</td><td>&quot;vole&quot;</td></tr><tr><td>2.0</td><td>&quot;2.0&quot;</td></tr><tr><td>1.0</td><td>&quot;1.0&quot;</td></tr><tr><td>5.0</td><td>&quot;5.0&quot;</td></tr></tbody></table></div>"
      ],
      "text/plain": [
       "shape: (5, 2)\n",
       "┌─────┬──────┐\n",
       "│ a   ┆ b    │\n",
       "│ --- ┆ ---  │\n",
       "│ f64 ┆ str  │\n",
       "╞═════╪══════╡\n",
       "│ 1.0 ┆ 1.0  │\n",
       "│ 2.0 ┆ vole │\n",
       "│ 2.0 ┆ 2.0  │\n",
       "│ 1.0 ┆ 1.0  │\n",
       "│ 5.0 ┆ 5.0  │\n",
       "└─────┴──────┘"
      ]
     },
     "execution_count": 533,
     "metadata": {},
     "output_type": "execute_result"
    }
   ],
   "source": [
    "df = df.with_columns(pl.col('b').fill_nan('vole'))\n",
    "df"
   ]
  },
  {
   "cell_type": "markdown",
   "metadata": {},
   "source": [
    "# Date"
   ]
  },
  {
   "cell_type": "markdown",
   "metadata": {},
   "source": [
    "**Period range**"
   ]
  },
  {
   "cell_type": "code",
   "execution_count": 534,
   "metadata": {},
   "outputs": [],
   "source": [
    "from dateutil.relativedelta import relativedelta\n",
    "\n",
    "start = pd.to_datetime('2024-01-01') - relativedelta(months=1)\n",
    "end = start + relativedelta(months=5)"
   ]
  },
  {
   "cell_type": "code",
   "execution_count": 535,
   "metadata": {},
   "outputs": [
    {
     "data": {
      "text/html": [
       "<div><style>\n",
       ".dataframe > thead > tr,\n",
       ".dataframe > tbody > tr {\n",
       "  text-align: right;\n",
       "  white-space: pre-wrap;\n",
       "}\n",
       "</style>\n",
       "<small>shape: (3, 1)</small><table border=\"1\" class=\"dataframe\"><thead><tr><th>date</th></tr><tr><td>datetime[μs]</td></tr></thead><tbody><tr><td>2023-12-01 00:00:00</td></tr><tr><td>2024-02-01 00:00:00</td></tr><tr><td>2024-04-01 00:00:00</td></tr></tbody></table></div>"
      ],
      "text/plain": [
       "shape: (3, 1)\n",
       "┌─────────────────────┐\n",
       "│ date                │\n",
       "│ ---                 │\n",
       "│ datetime[μs]        │\n",
       "╞═════════════════════╡\n",
       "│ 2023-12-01 00:00:00 │\n",
       "│ 2024-02-01 00:00:00 │\n",
       "│ 2024-04-01 00:00:00 │\n",
       "└─────────────────────┘"
      ]
     },
     "execution_count": 535,
     "metadata": {},
     "output_type": "execute_result"
    }
   ],
   "source": [
    "# start and end can be timestamp or datime object\n",
    "\n",
    "df_new = pl.DataFrame(\n",
    "                        pl.datetime_range(\n",
    "                        start,\n",
    "                        end,\n",
    "                        interval='2mo',\n",
    "                        eager=True,\n",
    "                        )\n",
    "                        .alias('date')\n",
    "                    )\n",
    "df_new"
   ]
  },
  {
   "cell_type": "code",
   "execution_count": 536,
   "metadata": {},
   "outputs": [
    {
     "data": {
      "text/plain": [
       "pandas._libs.tslibs.timestamps.Timestamp"
      ]
     },
     "execution_count": 536,
     "metadata": {},
     "output_type": "execute_result"
    }
   ],
   "source": [
    "type(start)"
   ]
  },
  {
   "cell_type": "code",
   "execution_count": 537,
   "metadata": {},
   "outputs": [
    {
     "data": {
      "text/html": [
       "<div>\n",
       "<style scoped>\n",
       "    .dataframe tbody tr th:only-of-type {\n",
       "        vertical-align: middle;\n",
       "    }\n",
       "\n",
       "    .dataframe tbody tr th {\n",
       "        vertical-align: top;\n",
       "    }\n",
       "\n",
       "    .dataframe thead th {\n",
       "        text-align: right;\n",
       "    }\n",
       "</style>\n",
       "<table border=\"1\" class=\"dataframe\">\n",
       "  <thead>\n",
       "    <tr style=\"text-align: right;\">\n",
       "      <th></th>\n",
       "      <th>date</th>\n",
       "    </tr>\n",
       "  </thead>\n",
       "  <tbody>\n",
       "    <tr>\n",
       "      <th>0</th>\n",
       "      <td>2024-01</td>\n",
       "    </tr>\n",
       "    <tr>\n",
       "      <th>1</th>\n",
       "      <td>2024-02</td>\n",
       "    </tr>\n",
       "    <tr>\n",
       "      <th>2</th>\n",
       "      <td>2024-03</td>\n",
       "    </tr>\n",
       "    <tr>\n",
       "      <th>3</th>\n",
       "      <td>2024-04</td>\n",
       "    </tr>\n",
       "    <tr>\n",
       "      <th>4</th>\n",
       "      <td>2024-05</td>\n",
       "    </tr>\n",
       "    <tr>\n",
       "      <th>5</th>\n",
       "      <td>2024-06</td>\n",
       "    </tr>\n",
       "    <tr>\n",
       "      <th>6</th>\n",
       "      <td>2024-07</td>\n",
       "    </tr>\n",
       "    <tr>\n",
       "      <th>7</th>\n",
       "      <td>2024-08</td>\n",
       "    </tr>\n",
       "    <tr>\n",
       "      <th>8</th>\n",
       "      <td>2024-09</td>\n",
       "    </tr>\n",
       "    <tr>\n",
       "      <th>9</th>\n",
       "      <td>2024-10</td>\n",
       "    </tr>\n",
       "    <tr>\n",
       "      <th>10</th>\n",
       "      <td>2024-11</td>\n",
       "    </tr>\n",
       "    <tr>\n",
       "      <th>11</th>\n",
       "      <td>2024-12</td>\n",
       "    </tr>\n",
       "  </tbody>\n",
       "</table>\n",
       "</div>"
      ],
      "text/plain": [
       "       date\n",
       "0   2024-01\n",
       "1   2024-02\n",
       "2   2024-03\n",
       "3   2024-04\n",
       "4   2024-05\n",
       "5   2024-06\n",
       "6   2024-07\n",
       "7   2024-08\n",
       "8   2024-09\n",
       "9   2024-10\n",
       "10  2024-11\n",
       "11  2024-12"
      ]
     },
     "execution_count": 537,
     "metadata": {},
     "output_type": "execute_result"
    }
   ],
   "source": [
    "date_pd = pd.DataFrame({'date': pd.period_range('2024-01-01', periods=12, freq='M')\n",
    "                        })\n",
    "date_pd"
   ]
  },
  {
   "cell_type": "code",
   "execution_count": 538,
   "metadata": {},
   "outputs": [
    {
     "data": {
      "text/plain": [
       "pandas.core.series.Series"
      ]
     },
     "execution_count": 538,
     "metadata": {},
     "output_type": "execute_result"
    }
   ],
   "source": [
    "type(date_pd['date'])"
   ]
  },
  {
   "cell_type": "markdown",
   "metadata": {},
   "source": [
    "**Datetime object, timestamp, duration**"
   ]
  },
  {
   "cell_type": "code",
   "execution_count": 539,
   "metadata": {},
   "outputs": [
    {
     "data": {
      "text/plain": [
       "datetime.datetime(2024, 1, 1, 0, 0)"
      ]
     },
     "execution_count": 539,
     "metadata": {},
     "output_type": "execute_result"
    }
   ],
   "source": [
    "from datetime import datetime\n",
    "\n",
    "start = datetime.strptime('2024-01-01', '%Y-%m-%d')\n",
    "start"
   ]
  },
  {
   "cell_type": "code",
   "execution_count": 540,
   "metadata": {},
   "outputs": [
    {
     "data": {
      "text/plain": [
       "datetime.datetime(2024, 1, 15, 0, 0)"
      ]
     },
     "execution_count": 540,
     "metadata": {},
     "output_type": "execute_result"
    }
   ],
   "source": [
    "end = start + relativedelta(days=14)\n",
    "end"
   ]
  },
  {
   "cell_type": "code",
   "execution_count": 541,
   "metadata": {},
   "outputs": [
    {
     "data": {
      "text/html": [
       "<div><style>\n",
       ".dataframe > thead > tr,\n",
       ".dataframe > tbody > tr {\n",
       "  text-align: right;\n",
       "  white-space: pre-wrap;\n",
       "}\n",
       "</style>\n",
       "<small>shape: (8, 1)</small><table border=\"1\" class=\"dataframe\"><thead><tr><th>date</th></tr><tr><td>datetime[μs]</td></tr></thead><tbody><tr><td>2024-01-01 00:00:00</td></tr><tr><td>2024-01-03 00:00:00</td></tr><tr><td>2024-01-05 00:00:00</td></tr><tr><td>2024-01-07 00:00:00</td></tr><tr><td>2024-01-09 00:00:00</td></tr><tr><td>2024-01-11 00:00:00</td></tr><tr><td>2024-01-13 00:00:00</td></tr><tr><td>2024-01-15 00:00:00</td></tr></tbody></table></div>"
      ],
      "text/plain": [
       "shape: (8, 1)\n",
       "┌─────────────────────┐\n",
       "│ date                │\n",
       "│ ---                 │\n",
       "│ datetime[μs]        │\n",
       "╞═════════════════════╡\n",
       "│ 2024-01-01 00:00:00 │\n",
       "│ 2024-01-03 00:00:00 │\n",
       "│ 2024-01-05 00:00:00 │\n",
       "│ 2024-01-07 00:00:00 │\n",
       "│ 2024-01-09 00:00:00 │\n",
       "│ 2024-01-11 00:00:00 │\n",
       "│ 2024-01-13 00:00:00 │\n",
       "│ 2024-01-15 00:00:00 │\n",
       "└─────────────────────┘"
      ]
     },
     "execution_count": 541,
     "metadata": {},
     "output_type": "execute_result"
    }
   ],
   "source": [
    "pl_df = pl.DataFrame(pl.datetime_range(\n",
    "                                    start=start,\n",
    "                                    end=end,\n",
    "                                    interval='2d',\n",
    "                                    eager=True).alias('date'))\n",
    "\n",
    "pl_df"
   ]
  },
  {
   "cell_type": "code",
   "execution_count": 542,
   "metadata": {},
   "outputs": [],
   "source": [
    "today = datetime.strptime('2024-04-01', '%Y-%m-%d')"
   ]
  },
  {
   "cell_type": "code",
   "execution_count": 543,
   "metadata": {},
   "outputs": [
    {
     "data": {
      "text/html": [
       "<div><style>\n",
       ".dataframe > thead > tr,\n",
       ".dataframe > tbody > tr {\n",
       "  text-align: right;\n",
       "  white-space: pre-wrap;\n",
       "}\n",
       "</style>\n",
       "<small>shape: (8, 3)</small><table border=\"1\" class=\"dataframe\"><thead><tr><th>date</th><th>delta</th><th>delta-int</th></tr><tr><td>datetime[μs]</td><td>duration[μs]</td><td>i64</td></tr></thead><tbody><tr><td>2024-01-01 00:00:00</td><td>91d</td><td>91</td></tr><tr><td>2024-01-03 00:00:00</td><td>89d</td><td>89</td></tr><tr><td>2024-01-05 00:00:00</td><td>87d</td><td>87</td></tr><tr><td>2024-01-07 00:00:00</td><td>85d</td><td>85</td></tr><tr><td>2024-01-09 00:00:00</td><td>83d</td><td>83</td></tr><tr><td>2024-01-11 00:00:00</td><td>81d</td><td>81</td></tr><tr><td>2024-01-13 00:00:00</td><td>79d</td><td>79</td></tr><tr><td>2024-01-15 00:00:00</td><td>77d</td><td>77</td></tr></tbody></table></div>"
      ],
      "text/plain": [
       "shape: (8, 3)\n",
       "┌─────────────────────┬──────────────┬───────────┐\n",
       "│ date                ┆ delta        ┆ delta-int │\n",
       "│ ---                 ┆ ---          ┆ ---       │\n",
       "│ datetime[μs]        ┆ duration[μs] ┆ i64       │\n",
       "╞═════════════════════╪══════════════╪═══════════╡\n",
       "│ 2024-01-01 00:00:00 ┆ 91d          ┆ 91        │\n",
       "│ 2024-01-03 00:00:00 ┆ 89d          ┆ 89        │\n",
       "│ 2024-01-05 00:00:00 ┆ 87d          ┆ 87        │\n",
       "│ 2024-01-07 00:00:00 ┆ 85d          ┆ 85        │\n",
       "│ 2024-01-09 00:00:00 ┆ 83d          ┆ 83        │\n",
       "│ 2024-01-11 00:00:00 ┆ 81d          ┆ 81        │\n",
       "│ 2024-01-13 00:00:00 ┆ 79d          ┆ 79        │\n",
       "│ 2024-01-15 00:00:00 ┆ 77d          ┆ 77        │\n",
       "└─────────────────────┴──────────────┴───────────┘"
      ]
     },
     "execution_count": 543,
     "metadata": {},
     "output_type": "execute_result"
    }
   ],
   "source": [
    "# Crerate new column delta\n",
    "pl_df = pl_df.with_columns((today-pl.col('date')).alias('delta'))\n",
    "\n",
    "# Create new column duration as integer\n",
    "pl_df = pl_df.with_columns(pl.col('delta').dt.total_days().alias('delta-int'))\n",
    "\n",
    "pl_df\n"
   ]
  },
  {
   "cell_type": "markdown",
   "metadata": {},
   "source": [
    "# Group by + agg"
   ]
  },
  {
   "cell_type": "code",
   "execution_count": 544,
   "metadata": {},
   "outputs": [],
   "source": [
    "import polars as pl\n",
    "\n",
    "# Sample data (replace this with your actual data)\n",
    "data = {\n",
    "    'name': ['Alice', 'Bob', 'Alice', 'Bob', 'Alice'],\n",
    "    'money': [100, 150, 200, 75, 300],\n",
    "    'date': ['2022-01-01', '2022-02-15', '2022-03-10', '2022-04-20', '2022-05-05']\n",
    "}\n",
    "\n",
    "# Create a DataFrame\n",
    "df = pl.DataFrame(data)"
   ]
  },
  {
   "cell_type": "code",
   "execution_count": 545,
   "metadata": {},
   "outputs": [
    {
     "data": {
      "text/html": [
       "<div><style>\n",
       ".dataframe > thead > tr,\n",
       ".dataframe > tbody > tr {\n",
       "  text-align: right;\n",
       "  white-space: pre-wrap;\n",
       "}\n",
       "</style>\n",
       "<small>shape: (5, 3)</small><table border=\"1\" class=\"dataframe\"><thead><tr><th>name</th><th>money</th><th>date</th></tr><tr><td>str</td><td>i64</td><td>datetime[μs]</td></tr></thead><tbody><tr><td>&quot;Alice&quot;</td><td>100</td><td>2022-01-01 00:00:00</td></tr><tr><td>&quot;Bob&quot;</td><td>150</td><td>2022-02-15 00:00:00</td></tr><tr><td>&quot;Alice&quot;</td><td>200</td><td>2022-03-10 00:00:00</td></tr><tr><td>&quot;Bob&quot;</td><td>75</td><td>2022-04-20 00:00:00</td></tr><tr><td>&quot;Alice&quot;</td><td>300</td><td>2022-05-05 00:00:00</td></tr></tbody></table></div>"
      ],
      "text/plain": [
       "shape: (5, 3)\n",
       "┌───────┬───────┬─────────────────────┐\n",
       "│ name  ┆ money ┆ date                │\n",
       "│ ---   ┆ ---   ┆ ---                 │\n",
       "│ str   ┆ i64   ┆ datetime[μs]        │\n",
       "╞═══════╪═══════╪═════════════════════╡\n",
       "│ Alice ┆ 100   ┆ 2022-01-01 00:00:00 │\n",
       "│ Bob   ┆ 150   ┆ 2022-02-15 00:00:00 │\n",
       "│ Alice ┆ 200   ┆ 2022-03-10 00:00:00 │\n",
       "│ Bob   ┆ 75    ┆ 2022-04-20 00:00:00 │\n",
       "│ Alice ┆ 300   ┆ 2022-05-05 00:00:00 │\n",
       "└───────┴───────┴─────────────────────┘"
      ]
     },
     "execution_count": 545,
     "metadata": {},
     "output_type": "execute_result"
    }
   ],
   "source": [
    "# Add dtypes\n",
    "df = df.with_columns([\n",
    "  pl.col('date').str.to_datetime(\"%Y-%m-%d\")\n",
    "])\n",
    "\n",
    "df"
   ]
  },
  {
   "cell_type": "code",
   "execution_count": 546,
   "metadata": {},
   "outputs": [
    {
     "data": {
      "text/html": [
       "<div><style>\n",
       ".dataframe > thead > tr,\n",
       ".dataframe > tbody > tr {\n",
       "  text-align: right;\n",
       "  white-space: pre-wrap;\n",
       "}\n",
       "</style>\n",
       "<small>shape: (2, 3)</small><table border=\"1\" class=\"dataframe\"><thead><tr><th>name</th><th>money</th><th>date</th></tr><tr><td>str</td><td>i64</td><td>datetime[μs]</td></tr></thead><tbody><tr><td>&quot;Bob&quot;</td><td>225</td><td>2022-04-20 00:00:00</td></tr><tr><td>&quot;Alice&quot;</td><td>600</td><td>2022-05-05 00:00:00</td></tr></tbody></table></div>"
      ],
      "text/plain": [
       "shape: (2, 3)\n",
       "┌───────┬───────┬─────────────────────┐\n",
       "│ name  ┆ money ┆ date                │\n",
       "│ ---   ┆ ---   ┆ ---                 │\n",
       "│ str   ┆ i64   ┆ datetime[μs]        │\n",
       "╞═══════╪═══════╪═════════════════════╡\n",
       "│ Bob   ┆ 225   ┆ 2022-04-20 00:00:00 │\n",
       "│ Alice ┆ 600   ┆ 2022-05-05 00:00:00 │\n",
       "└───────┴───────┴─────────────────────┘"
      ]
     },
     "execution_count": 546,
     "metadata": {},
     "output_type": "execute_result"
    }
   ],
   "source": [
    "grouped_data = (df.group_by(\"name\")\n",
    "                .agg(pl.col(\"money\").sum(), \n",
    "                     pl.col(\"date\").max())\n",
    "                )\n",
    "grouped_data"
   ]
  },
  {
   "cell_type": "markdown",
   "metadata": {},
   "source": [
    "**Count**"
   ]
  },
  {
   "cell_type": "code",
   "execution_count": 547,
   "metadata": {},
   "outputs": [
    {
     "data": {
      "text/html": [
       "<div><style>\n",
       ".dataframe > thead > tr,\n",
       ".dataframe > tbody > tr {\n",
       "  text-align: right;\n",
       "  white-space: pre-wrap;\n",
       "}\n",
       "</style>\n",
       "<small>shape: (2, 3)</small><table border=\"1\" class=\"dataframe\"><thead><tr><th>name</th><th>money</th><th>count</th></tr><tr><td>str</td><td>i64</td><td>u32</td></tr></thead><tbody><tr><td>&quot;Bob&quot;</td><td>225</td><td>2</td></tr><tr><td>&quot;Alice&quot;</td><td>600</td><td>3</td></tr></tbody></table></div>"
      ],
      "text/plain": [
       "shape: (2, 3)\n",
       "┌───────┬───────┬───────┐\n",
       "│ name  ┆ money ┆ count │\n",
       "│ ---   ┆ ---   ┆ ---   │\n",
       "│ str   ┆ i64   ┆ u32   │\n",
       "╞═══════╪═══════╪═══════╡\n",
       "│ Bob   ┆ 225   ┆ 2     │\n",
       "│ Alice ┆ 600   ┆ 3     │\n",
       "└───────┴───────┴───────┘"
      ]
     },
     "execution_count": 547,
     "metadata": {},
     "output_type": "execute_result"
    }
   ],
   "source": [
    "grouped_data2 = (df.group_by(\"name\")\n",
    "                .agg(pl.col(\"money\").sum(), \n",
    "                     pl.col(\"date\").count().alias('count'))\n",
    "                )\n",
    "grouped_data2"
   ]
  },
  {
   "cell_type": "markdown",
   "metadata": {},
   "source": [
    "**Polars - Iloc**"
   ]
  },
  {
   "cell_type": "code",
   "execution_count": 548,
   "metadata": {},
   "outputs": [
    {
     "data": {
      "text/html": [
       "<div><style>\n",
       ".dataframe > thead > tr,\n",
       ".dataframe > tbody > tr {\n",
       "  text-align: right;\n",
       "  white-space: pre-wrap;\n",
       "}\n",
       "</style>\n",
       "<small>shape: (5, 3)</small><table border=\"1\" class=\"dataframe\"><thead><tr><th>name</th><th>money</th><th>date</th></tr><tr><td>str</td><td>i64</td><td>str</td></tr></thead><tbody><tr><td>&quot;Alice&quot;</td><td>100</td><td>&quot;2022-01-01&quot;</td></tr><tr><td>&quot;Bob&quot;</td><td>150</td><td>&quot;2022-02-15&quot;</td></tr><tr><td>&quot;Alice&quot;</td><td>200</td><td>&quot;2022-03-10&quot;</td></tr><tr><td>&quot;Bob&quot;</td><td>75</td><td>&quot;2022-04-20&quot;</td></tr><tr><td>&quot;Alice&quot;</td><td>300</td><td>&quot;2022-05-05&quot;</td></tr></tbody></table></div>"
      ],
      "text/plain": [
       "shape: (5, 3)\n",
       "┌───────┬───────┬────────────┐\n",
       "│ name  ┆ money ┆ date       │\n",
       "│ ---   ┆ ---   ┆ ---        │\n",
       "│ str   ┆ i64   ┆ str        │\n",
       "╞═══════╪═══════╪════════════╡\n",
       "│ Alice ┆ 100   ┆ 2022-01-01 │\n",
       "│ Bob   ┆ 150   ┆ 2022-02-15 │\n",
       "│ Alice ┆ 200   ┆ 2022-03-10 │\n",
       "│ Bob   ┆ 75    ┆ 2022-04-20 │\n",
       "│ Alice ┆ 300   ┆ 2022-05-05 │\n",
       "└───────┴───────┴────────────┘"
      ]
     },
     "execution_count": 548,
     "metadata": {},
     "output_type": "execute_result"
    }
   ],
   "source": [
    "# Sample data (replace this with your actual data)\n",
    "data = {\n",
    "    'name': ['Alice', 'Bob', 'Alice', 'Bob', 'Alice'],\n",
    "    'money': [100, 150, 200, 75, 300],\n",
    "    'date': ['2022-01-01', '2022-02-15', '2022-03-10', '2022-04-20', '2022-05-05']\n",
    "}\n",
    "\n",
    "# Create a DataFrame\n",
    "df = pl.DataFrame(data)\n",
    "df"
   ]
  },
  {
   "cell_type": "code",
   "execution_count": 549,
   "metadata": {},
   "outputs": [
    {
     "data": {
      "text/plain": [
       "'2022-01-01'"
      ]
     },
     "execution_count": 549,
     "metadata": {},
     "output_type": "execute_result"
    }
   ],
   "source": [
    "df[0,-1]"
   ]
  },
  {
   "cell_type": "markdown",
   "metadata": {},
   "source": [
    "# Join"
   ]
  },
  {
   "cell_type": "code",
   "execution_count": 550,
   "metadata": {},
   "outputs": [
    {
     "data": {
      "text/plain": [
       "' # Strip off column from df and convert into a frame\\nnew_column = df_rfm_eval[\\'cluster\\'].to_frame(\"keys\")\\n\\n\\n# Add new column\\ndf_rfm_eval = df_rfm_eval.with_columns(pl.lit(new_column.join(mapper, on=\"keys\", how=\"left\").to_series(1)).alias(\\'description\\'))\\ndf_rfm_eval '"
      ]
     },
     "execution_count": 550,
     "metadata": {},
     "output_type": "execute_result"
    }
   ],
   "source": [
    "import polars as pl\n",
    "\n",
    "dic = { 1: 'a', \n",
    "       2: 'b', \n",
    "       3: 'c' \n",
    "       }\n",
    "\n",
    "\n",
    "mapper = pl.DataFrame({\n",
    "    \"keys\": list(dic.keys()),\n",
    "    \"values\": list(dic.values())\n",
    "})\n",
    "\n",
    "\n",
    "pl.Series([1, 2, 3, 4]).to_frame(\"keys\").join(mapper, on=\"keys\", how=\"left\")\n",
    "\n",
    "\n",
    "\n",
    "\n",
    "\n",
    "\"\"\" # Strip off column from df and convert into a frame\n",
    "new_column = df_rfm_eval['cluster'].to_frame(\"keys\")\n",
    "\n",
    "\n",
    "# Add new column\n",
    "df_rfm_eval = df_rfm_eval.with_columns(pl.lit(new_column.join(mapper, on=\"keys\", how=\"left\").to_series(1)).alias('description'))\n",
    "df_rfm_eval \"\"\""
   ]
  },
  {
   "cell_type": "markdown",
   "metadata": {},
   "source": [
    "# Cast"
   ]
  },
  {
   "cell_type": "markdown",
   "metadata": {},
   "source": [
    "**Map items**"
   ]
  },
  {
   "cell_type": "code",
   "execution_count": 551,
   "metadata": {},
   "outputs": [
    {
     "data": {
      "text/html": [
       "<div><style>\n",
       ".dataframe > thead > tr,\n",
       ".dataframe > tbody > tr {\n",
       "  text-align: right;\n",
       "  white-space: pre-wrap;\n",
       "}\n",
       "</style>\n",
       "<small>shape: (3, 3)</small><table border=\"1\" class=\"dataframe\"><thead><tr><th>R</th><th>F</th><th>M</th></tr><tr><td>i64</td><td>i64</td><td>i64</td></tr></thead><tbody><tr><td>1</td><td>4</td><td>7</td></tr><tr><td>2</td><td>5</td><td>8</td></tr><tr><td>3</td><td>6</td><td>9</td></tr></tbody></table></div>"
      ],
      "text/plain": [
       "shape: (3, 3)\n",
       "┌─────┬─────┬─────┐\n",
       "│ R   ┆ F   ┆ M   │\n",
       "│ --- ┆ --- ┆ --- │\n",
       "│ i64 ┆ i64 ┆ i64 │\n",
       "╞═════╪═════╪═════╡\n",
       "│ 1   ┆ 4   ┆ 7   │\n",
       "│ 2   ┆ 5   ┆ 8   │\n",
       "│ 3   ┆ 6   ┆ 9   │\n",
       "└─────┴─────┴─────┘"
      ]
     },
     "execution_count": 551,
     "metadata": {},
     "output_type": "execute_result"
    }
   ],
   "source": [
    "import polars as pl\n",
    "\n",
    "# Assuming rfm is a Polars DataFrame\n",
    "rfm = pl.DataFrame({\n",
    "    'R': [1, 2, 3],\n",
    "    'F': [4, 5, 6],\n",
    "    'M': [7, 8, 9]\n",
    "})\n",
    "\n",
    "rfm"
   ]
  },
  {
   "cell_type": "code",
   "execution_count": 552,
   "metadata": {},
   "outputs": [
    {
     "data": {
      "text/html": [
       "<div><style>\n",
       ".dataframe > thead > tr,\n",
       ".dataframe > tbody > tr {\n",
       "  text-align: right;\n",
       "  white-space: pre-wrap;\n",
       "}\n",
       "</style>\n",
       "<small>shape: (3, 4)</small><table border=\"1\" class=\"dataframe\"><thead><tr><th>R</th><th>F</th><th>M</th><th>segment</th></tr><tr><td>i64</td><td>i64</td><td>i64</td><td>str</td></tr></thead><tbody><tr><td>1</td><td>4</td><td>7</td><td>&quot;147&quot;</td></tr><tr><td>2</td><td>5</td><td>8</td><td>&quot;258&quot;</td></tr><tr><td>3</td><td>6</td><td>9</td><td>&quot;369&quot;</td></tr></tbody></table></div>"
      ],
      "text/plain": [
       "shape: (3, 4)\n",
       "┌─────┬─────┬─────┬─────────┐\n",
       "│ R   ┆ F   ┆ M   ┆ segment │\n",
       "│ --- ┆ --- ┆ --- ┆ ---     │\n",
       "│ i64 ┆ i64 ┆ i64 ┆ str     │\n",
       "╞═════╪═════╪═════╪═════════╡\n",
       "│ 1   ┆ 4   ┆ 7   ┆ 147     │\n",
       "│ 2   ┆ 5   ┆ 8   ┆ 258     │\n",
       "│ 3   ┆ 6   ┆ 9   ┆ 369     │\n",
       "└─────┴─────┴─────┴─────────┘"
      ]
     },
     "execution_count": 552,
     "metadata": {},
     "output_type": "execute_result"
    }
   ],
   "source": [
    "rfm = rfm.with_columns((rfm['R'].cast(str) + rfm['F'].cast(str) + rfm['M'].cast(str)).alias('segment'))\n",
    "\n",
    "rfm"
   ]
  },
  {
   "cell_type": "markdown",
   "metadata": {},
   "source": [
    "# Replace and str.replace (REGEX)"
   ]
  },
  {
   "cell_type": "markdown",
   "metadata": {},
   "source": [
    "**Replace from dictionary map**"
   ]
  },
  {
   "cell_type": "code",
   "execution_count": 553,
   "metadata": {},
   "outputs": [
    {
     "data": {
      "text/html": [
       "<div><style>\n",
       ".dataframe > thead > tr,\n",
       ".dataframe > tbody > tr {\n",
       "  text-align: right;\n",
       "  white-space: pre-wrap;\n",
       "}\n",
       "</style>\n",
       "<small>shape: (4, 1)</small><table border=\"1\" class=\"dataframe\"><thead><tr><th>name</th></tr><tr><td>str</td></tr></thead><tbody><tr><td>&quot;John&quot;</td></tr><tr><td>&quot;Alice&quot;</td></tr><tr><td>&quot;David&quot;</td></tr><tr><td>&quot;Kate&quot;</td></tr></tbody></table></div>"
      ],
      "text/plain": [
       "shape: (4, 1)\n",
       "┌───────┐\n",
       "│ name  │\n",
       "│ ---   │\n",
       "│ str   │\n",
       "╞═══════╡\n",
       "│ John  │\n",
       "│ Alice │\n",
       "│ David │\n",
       "│ Kate  │\n",
       "└───────┘"
      ]
     },
     "execution_count": 553,
     "metadata": {},
     "output_type": "execute_result"
    }
   ],
   "source": [
    "import polars as pl\n",
    "\n",
    "df = pl.DataFrame({'name':['John' , 'Alice', 'David', 'Kate']})\n",
    "df"
   ]
  },
  {
   "cell_type": "code",
   "execution_count": 554,
   "metadata": {},
   "outputs": [],
   "source": [
    "seg_dict = {'John' : 'idiot',\n",
    "            'Alice' : 'hooker',\n",
    "            'David' : 'gay'\n",
    "            }"
   ]
  },
  {
   "cell_type": "code",
   "execution_count": 555,
   "metadata": {},
   "outputs": [
    {
     "data": {
      "text/html": [
       "<div><style>\n",
       ".dataframe > thead > tr,\n",
       ".dataframe > tbody > tr {\n",
       "  text-align: right;\n",
       "  white-space: pre-wrap;\n",
       "}\n",
       "</style>\n",
       "<small>shape: (4, 2)</small><table border=\"1\" class=\"dataframe\"><thead><tr><th>name</th><th>new</th></tr><tr><td>str</td><td>str</td></tr></thead><tbody><tr><td>&quot;John&quot;</td><td>&quot;idiot&quot;</td></tr><tr><td>&quot;Alice&quot;</td><td>&quot;hooker&quot;</td></tr><tr><td>&quot;David&quot;</td><td>&quot;gay&quot;</td></tr><tr><td>&quot;Kate&quot;</td><td>&quot;not found&quot;</td></tr></tbody></table></div>"
      ],
      "text/plain": [
       "shape: (4, 2)\n",
       "┌───────┬───────────┐\n",
       "│ name  ┆ new       │\n",
       "│ ---   ┆ ---       │\n",
       "│ str   ┆ str       │\n",
       "╞═══════╪═══════════╡\n",
       "│ John  ┆ idiot     │\n",
       "│ Alice ┆ hooker    │\n",
       "│ David ┆ gay       │\n",
       "│ Kate  ┆ not found │\n",
       "└───────┴───────────┘"
      ]
     },
     "execution_count": 555,
     "metadata": {},
     "output_type": "execute_result"
    }
   ],
   "source": [
    "df = df.with_columns((pl.col(\"name\").replace(seg_dict, default='not found')).alias('new'))\n",
    "df"
   ]
  },
  {
   "cell_type": "markdown",
   "metadata": {},
   "source": [
    "**Replace string using Regex**"
   ]
  },
  {
   "cell_type": "code",
   "execution_count": 556,
   "metadata": {},
   "outputs": [
    {
     "data": {
      "text/html": [
       "<div><style>\n",
       ".dataframe > thead > tr,\n",
       ".dataframe > tbody > tr {\n",
       "  text-align: right;\n",
       "  white-space: pre-wrap;\n",
       "}\n",
       "</style>\n",
       "<small>shape: (6, 2)</small><table border=\"1\" class=\"dataframe\"><thead><tr><th>name</th><th>age</th></tr><tr><td>str</td><td>i64</td></tr></thead><tbody><tr><td>&quot;Martin&quot;</td><td>35</td></tr><tr><td>&quot;John&quot;</td><td>13</td></tr><tr><td>&quot;Evita&quot;</td><td>6</td></tr><tr><td>&quot;Alice&quot;</td><td>15</td></tr><tr><td>&quot;David&quot;</td><td>40</td></tr><tr><td>&quot;Anna&quot;</td><td>85</td></tr></tbody></table></div>"
      ],
      "text/plain": [
       "shape: (6, 2)\n",
       "┌────────┬─────┐\n",
       "│ name   ┆ age │\n",
       "│ ---    ┆ --- │\n",
       "│ str    ┆ i64 │\n",
       "╞════════╪═════╡\n",
       "│ Martin ┆ 35  │\n",
       "│ John   ┆ 13  │\n",
       "│ Evita  ┆ 6   │\n",
       "│ Alice  ┆ 15  │\n",
       "│ David  ┆ 40  │\n",
       "│ Anna   ┆ 85  │\n",
       "└────────┴─────┘"
      ]
     },
     "execution_count": 556,
     "metadata": {},
     "output_type": "execute_result"
    }
   ],
   "source": [
    "import polars as pl\n",
    "df = pl.DataFrame({\n",
    "                   'name' : ['Martin', 'John', 'Evita', 'Alice', 'David', 'Anna'],\n",
    "                   'age' : [35, 13, 6, 15, 40, 85]\n",
    "                   \n",
    "                   })\n",
    "df"
   ]
  },
  {
   "cell_type": "code",
   "execution_count": 557,
   "metadata": {},
   "outputs": [],
   "source": [
    "'''\n",
    "^ = Matches \"pattern\" only if it appears at the beginning of a line or string.\n",
    "$ = Matches \"pattern\" only if it appears at the END of a line or string.\n",
    "'''\n",
    "\n",
    "dict_map = {  '^[1-9]$':'kid', \n",
    "              '[1][1-9]':'teen',\n",
    "              '[2-5][0-9]' :'adult',\n",
    "              '[5-9][0-9]' :'elderly'\n",
    "       }"
   ]
  },
  {
   "cell_type": "code",
   "execution_count": 558,
   "metadata": {},
   "outputs": [
    {
     "data": {
      "text/plain": [
       "['^[1-9]$', '[1][1-9]', '[2-5][0-9]', '[5-9][0-9]']"
      ]
     },
     "execution_count": 558,
     "metadata": {},
     "output_type": "execute_result"
    }
   ],
   "source": [
    "# Convert dictionary KEYS onto a list\n",
    "keys = list(dict_map)\n",
    "keys"
   ]
  },
  {
   "cell_type": "code",
   "execution_count": 559,
   "metadata": {},
   "outputs": [
    {
     "data": {
      "text/plain": [
       "['kid', 'teen', 'adult', 'elderly']"
      ]
     },
     "execution_count": 559,
     "metadata": {},
     "output_type": "execute_result"
    }
   ],
   "source": [
    "# Convert dictionary VALUES into a list\n",
    "values = list(dict_map.values())\n",
    "values"
   ]
  },
  {
   "cell_type": "code",
   "execution_count": 560,
   "metadata": {},
   "outputs": [
    {
     "data": {
      "text/plain": [
       "'^[1-9]$'"
      ]
     },
     "execution_count": 560,
     "metadata": {},
     "output_type": "execute_result"
    }
   ],
   "source": [
    "keys[0]"
   ]
  },
  {
   "cell_type": "code",
   "execution_count": 561,
   "metadata": {},
   "outputs": [
    {
     "data": {
      "text/html": [
       "<div><style>\n",
       ".dataframe > thead > tr,\n",
       ".dataframe > tbody > tr {\n",
       "  text-align: right;\n",
       "  white-space: pre-wrap;\n",
       "}\n",
       "</style>\n",
       "<small>shape: (6, 3)</small><table border=\"1\" class=\"dataframe\"><thead><tr><th>name</th><th>age</th><th>age group</th></tr><tr><td>str</td><td>i64</td><td>str</td></tr></thead><tbody><tr><td>&quot;Martin&quot;</td><td>35</td><td>&quot;adult&quot;</td></tr><tr><td>&quot;John&quot;</td><td>13</td><td>&quot;teen&quot;</td></tr><tr><td>&quot;Evita&quot;</td><td>6</td><td>&quot;kid&quot;</td></tr><tr><td>&quot;Alice&quot;</td><td>15</td><td>&quot;teen&quot;</td></tr><tr><td>&quot;David&quot;</td><td>40</td><td>&quot;adult&quot;</td></tr><tr><td>&quot;Anna&quot;</td><td>85</td><td>&quot;elderly&quot;</td></tr></tbody></table></div>"
      ],
      "text/plain": [
       "shape: (6, 3)\n",
       "┌────────┬─────┬───────────┐\n",
       "│ name   ┆ age ┆ age group │\n",
       "│ ---    ┆ --- ┆ ---       │\n",
       "│ str    ┆ i64 ┆ str       │\n",
       "╞════════╪═════╪═══════════╡\n",
       "│ Martin ┆ 35  ┆ adult     │\n",
       "│ John   ┆ 13  ┆ teen      │\n",
       "│ Evita  ┆ 6   ┆ kid       │\n",
       "│ Alice  ┆ 15  ┆ teen      │\n",
       "│ David  ┆ 40  ┆ adult     │\n",
       "│ Anna   ┆ 85  ┆ elderly   │\n",
       "└────────┴─────┴───────────┘"
      ]
     },
     "execution_count": 561,
     "metadata": {},
     "output_type": "execute_result"
    }
   ],
   "source": [
    "df = df.with_columns((pl.col(\"age\")\n",
    "                      .str.replace(keys[0], values[0])\n",
    "                      .str.replace(keys[1], values[1])\n",
    "                      .str.replace(keys[2], values[2])\n",
    "                      .str.replace(keys[3], values[3])\n",
    "                      ).alias('age group')\n",
    "                      )\n",
    "df"
   ]
  },
  {
   "cell_type": "markdown",
   "metadata": {},
   "source": [
    "# Add column - 2 ways"
   ]
  },
  {
   "cell_type": "markdown",
   "metadata": {},
   "source": [
    "**First way - using alias**"
   ]
  },
  {
   "cell_type": "code",
   "execution_count": 562,
   "metadata": {},
   "outputs": [
    {
     "data": {
      "text/html": [
       "<div><style>\n",
       ".dataframe > thead > tr,\n",
       ".dataframe > tbody > tr {\n",
       "  text-align: right;\n",
       "  white-space: pre-wrap;\n",
       "}\n",
       "</style>\n",
       "<small>shape: (4, 2)</small><table border=\"1\" class=\"dataframe\"><thead><tr><th>age</th><th>salary</th></tr><tr><td>i64</td><td>i64</td></tr></thead><tbody><tr><td>15</td><td>450</td></tr><tr><td>20</td><td>350</td></tr><tr><td>36</td><td>600</td></tr><tr><td>45</td><td>700</td></tr></tbody></table></div>"
      ],
      "text/plain": [
       "shape: (4, 2)\n",
       "┌─────┬────────┐\n",
       "│ age ┆ salary │\n",
       "│ --- ┆ ---    │\n",
       "│ i64 ┆ i64    │\n",
       "╞═════╪════════╡\n",
       "│ 15  ┆ 450    │\n",
       "│ 20  ┆ 350    │\n",
       "│ 36  ┆ 600    │\n",
       "│ 45  ┆ 700    │\n",
       "└─────┴────────┘"
      ]
     },
     "execution_count": 562,
     "metadata": {},
     "output_type": "execute_result"
    }
   ],
   "source": [
    "import polars as pl\n",
    "\n",
    "df = pl.DataFrame({'age':[15, 20 , 36, 45],\n",
    "                   'salary':[450, 350 , 600, 700],\n",
    "                   })\n",
    "df"
   ]
  },
  {
   "cell_type": "code",
   "execution_count": 563,
   "metadata": {},
   "outputs": [
    {
     "data": {
      "text/html": [
       "<div><style>\n",
       ".dataframe > thead > tr,\n",
       ".dataframe > tbody > tr {\n",
       "  text-align: right;\n",
       "  white-space: pre-wrap;\n",
       "}\n",
       "</style>\n",
       "<small>shape: (4, 3)</small><table border=\"1\" class=\"dataframe\"><thead><tr><th>age</th><th>salary</th><th>divided</th></tr><tr><td>i64</td><td>i64</td><td>f64</td></tr></thead><tbody><tr><td>15</td><td>450</td><td>0.033333</td></tr><tr><td>20</td><td>350</td><td>0.057143</td></tr><tr><td>36</td><td>600</td><td>0.06</td></tr><tr><td>45</td><td>700</td><td>0.064286</td></tr></tbody></table></div>"
      ],
      "text/plain": [
       "shape: (4, 3)\n",
       "┌─────┬────────┬──────────┐\n",
       "│ age ┆ salary ┆ divided  │\n",
       "│ --- ┆ ---    ┆ ---      │\n",
       "│ i64 ┆ i64    ┆ f64      │\n",
       "╞═════╪════════╪══════════╡\n",
       "│ 15  ┆ 450    ┆ 0.033333 │\n",
       "│ 20  ┆ 350    ┆ 0.057143 │\n",
       "│ 36  ┆ 600    ┆ 0.06     │\n",
       "│ 45  ┆ 700    ┆ 0.064286 │\n",
       "└─────┴────────┴──────────┘"
      ]
     },
     "execution_count": 563,
     "metadata": {},
     "output_type": "execute_result"
    }
   ],
   "source": [
    "# first way\n",
    "df = df.with_columns((pl.col('age')/pl.col('salary')).alias('divided'))\n",
    "df"
   ]
  },
  {
   "cell_type": "markdown",
   "metadata": {},
   "source": [
    "**Second way - define name of column as variable**"
   ]
  },
  {
   "cell_type": "code",
   "execution_count": 564,
   "metadata": {},
   "outputs": [
    {
     "data": {
      "text/html": [
       "<div><style>\n",
       ".dataframe > thead > tr,\n",
       ".dataframe > tbody > tr {\n",
       "  text-align: right;\n",
       "  white-space: pre-wrap;\n",
       "}\n",
       "</style>\n",
       "<small>shape: (4, 4)</small><table border=\"1\" class=\"dataframe\"><thead><tr><th>age</th><th>salary</th><th>divided</th><th>multiplied</th></tr><tr><td>i64</td><td>i64</td><td>f64</td><td>i64</td></tr></thead><tbody><tr><td>15</td><td>450</td><td>0.033333</td><td>6750</td></tr><tr><td>20</td><td>350</td><td>0.057143</td><td>7000</td></tr><tr><td>36</td><td>600</td><td>0.06</td><td>21600</td></tr><tr><td>45</td><td>700</td><td>0.064286</td><td>31500</td></tr></tbody></table></div>"
      ],
      "text/plain": [
       "shape: (4, 4)\n",
       "┌─────┬────────┬──────────┬────────────┐\n",
       "│ age ┆ salary ┆ divided  ┆ multiplied │\n",
       "│ --- ┆ ---    ┆ ---      ┆ ---        │\n",
       "│ i64 ┆ i64    ┆ f64      ┆ i64        │\n",
       "╞═════╪════════╪══════════╪════════════╡\n",
       "│ 15  ┆ 450    ┆ 0.033333 ┆ 6750       │\n",
       "│ 20  ┆ 350    ┆ 0.057143 ┆ 7000       │\n",
       "│ 36  ┆ 600    ┆ 0.06     ┆ 21600      │\n",
       "│ 45  ┆ 700    ┆ 0.064286 ┆ 31500      │\n",
       "└─────┴────────┴──────────┴────────────┘"
      ]
     },
     "execution_count": 564,
     "metadata": {},
     "output_type": "execute_result"
    }
   ],
   "source": [
    "# second way\n",
    "df = df.with_columns(multiplied=(pl.col('age')*pl.col('salary')))\n",
    "df"
   ]
  }
 ],
 "metadata": {
  "kernelspec": {
   "display_name": "venv_portfolio-hkOMkeu3",
   "language": "python",
   "name": "python3"
  },
  "language_info": {
   "codemirror_mode": {
    "name": "ipython",
    "version": 3
   },
   "file_extension": ".py",
   "mimetype": "text/x-python",
   "name": "python",
   "nbconvert_exporter": "python",
   "pygments_lexer": "ipython3",
   "version": "3.10.10"
  }
 },
 "nbformat": 4,
 "nbformat_minor": 2
}
