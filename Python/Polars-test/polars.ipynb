{
 "cells": [
  {
   "cell_type": "code",
   "execution_count": 423,
   "metadata": {},
   "outputs": [],
   "source": [
    "import polars as pl\n",
    "import numpy as np\n",
    "import pandas as pd"
   ]
  },
  {
   "cell_type": "markdown",
   "metadata": {},
   "source": [
    "# Create Dataframe"
   ]
  },
  {
   "cell_type": "code",
   "execution_count": 424,
   "metadata": {},
   "outputs": [
    {
     "data": {
      "text/html": [
       "<div><style>\n",
       ".dataframe > thead > tr,\n",
       ".dataframe > tbody > tr {\n",
       "  text-align: right;\n",
       "  white-space: pre-wrap;\n",
       "}\n",
       "</style>\n",
       "<small>shape: (5, 3)</small><table border=\"1\" class=\"dataframe\"><thead><tr><th>teacher</th><th>price</th><th>lessons</th></tr><tr><td>str</td><td>i32</td><td>i32</td></tr></thead><tbody><tr><td>&quot;John&quot;</td><td>44</td><td>24</td></tr><tr><td>&quot;Lucy&quot;</td><td>39</td><td>19</td></tr><tr><td>&quot;John&quot;</td><td>37</td><td>14</td></tr><tr><td>&quot;Tom&quot;</td><td>32</td><td>19</td></tr><tr><td>&quot;Helen&quot;</td><td>44</td><td>10</td></tr></tbody></table></div>"
      ],
      "text/plain": [
       "shape: (5, 3)\n",
       "┌─────────┬───────┬─────────┐\n",
       "│ teacher ┆ price ┆ lessons │\n",
       "│ ---     ┆ ---   ┆ ---     │\n",
       "│ str     ┆ i32   ┆ i32     │\n",
       "╞═════════╪═══════╪═════════╡\n",
       "│ John    ┆ 44    ┆ 24      │\n",
       "│ Lucy    ┆ 39    ┆ 19      │\n",
       "│ John    ┆ 37    ┆ 14      │\n",
       "│ Tom     ┆ 32    ┆ 19      │\n",
       "│ Helen   ┆ 44    ┆ 10      │\n",
       "└─────────┴───────┴─────────┘"
      ]
     },
     "execution_count": 424,
     "metadata": {},
     "output_type": "execute_result"
    }
   ],
   "source": [
    "df = pl.DataFrame({'teacher':['John', 'Lucy', 'John', 'Tom', 'Helen'],\n",
    "                   'price': np.random.randint(20,45,5),\n",
    "                   'lessons': np.random.randint(10,25,5)\n",
    "                   })\n",
    "df.head(5)"
   ]
  },
  {
   "cell_type": "code",
   "execution_count": 425,
   "metadata": {},
   "outputs": [
    {
     "data": {
      "text/html": [
       "<div>\n",
       "<style scoped>\n",
       "    .dataframe tbody tr th:only-of-type {\n",
       "        vertical-align: middle;\n",
       "    }\n",
       "\n",
       "    .dataframe tbody tr th {\n",
       "        vertical-align: top;\n",
       "    }\n",
       "\n",
       "    .dataframe thead th {\n",
       "        text-align: right;\n",
       "    }\n",
       "</style>\n",
       "<table border=\"1\" class=\"dataframe\">\n",
       "  <thead>\n",
       "    <tr style=\"text-align: right;\">\n",
       "      <th></th>\n",
       "      <th>teacher</th>\n",
       "      <th>price</th>\n",
       "      <th>lessons</th>\n",
       "    </tr>\n",
       "  </thead>\n",
       "  <tbody>\n",
       "    <tr>\n",
       "      <th>0</th>\n",
       "      <td>John</td>\n",
       "      <td>23</td>\n",
       "      <td>22</td>\n",
       "    </tr>\n",
       "    <tr>\n",
       "      <th>1</th>\n",
       "      <td>Lucy</td>\n",
       "      <td>35</td>\n",
       "      <td>18</td>\n",
       "    </tr>\n",
       "    <tr>\n",
       "      <th>2</th>\n",
       "      <td>John</td>\n",
       "      <td>34</td>\n",
       "      <td>22</td>\n",
       "    </tr>\n",
       "    <tr>\n",
       "      <th>3</th>\n",
       "      <td>Tom</td>\n",
       "      <td>44</td>\n",
       "      <td>15</td>\n",
       "    </tr>\n",
       "    <tr>\n",
       "      <th>4</th>\n",
       "      <td>Helen</td>\n",
       "      <td>31</td>\n",
       "      <td>24</td>\n",
       "    </tr>\n",
       "  </tbody>\n",
       "</table>\n",
       "</div>"
      ],
      "text/plain": [
       "  teacher  price  lessons\n",
       "0    John     23       22\n",
       "1    Lucy     35       18\n",
       "2    John     34       22\n",
       "3     Tom     44       15\n",
       "4   Helen     31       24"
      ]
     },
     "execution_count": 425,
     "metadata": {},
     "output_type": "execute_result"
    }
   ],
   "source": [
    "df_pd = pd.DataFrame({'teacher':['John', 'Lucy', 'John', 'Tom', 'Helen'],\n",
    "                   'price': np.random.randint(20,45,5),\n",
    "                   'lessons': np.random.randint(10,25,5)\n",
    "                   })\n",
    "df_pd.head(5)"
   ]
  },
  {
   "cell_type": "markdown",
   "metadata": {},
   "source": [
    "# Filter"
   ]
  },
  {
   "cell_type": "code",
   "execution_count": 426,
   "metadata": {},
   "outputs": [
    {
     "data": {
      "text/html": [
       "<div><style>\n",
       ".dataframe > thead > tr,\n",
       ".dataframe > tbody > tr {\n",
       "  text-align: right;\n",
       "  white-space: pre-wrap;\n",
       "}\n",
       "</style>\n",
       "<small>shape: (2, 3)</small><table border=\"1\" class=\"dataframe\"><thead><tr><th>teacher</th><th>price</th><th>lessons</th></tr><tr><td>str</td><td>i32</td><td>i32</td></tr></thead><tbody><tr><td>&quot;John&quot;</td><td>44</td><td>24</td></tr><tr><td>&quot;John&quot;</td><td>37</td><td>14</td></tr></tbody></table></div>"
      ],
      "text/plain": [
       "shape: (2, 3)\n",
       "┌─────────┬───────┬─────────┐\n",
       "│ teacher ┆ price ┆ lessons │\n",
       "│ ---     ┆ ---   ┆ ---     │\n",
       "│ str     ┆ i32   ┆ i32     │\n",
       "╞═════════╪═══════╪═════════╡\n",
       "│ John    ┆ 44    ┆ 24      │\n",
       "│ John    ┆ 37    ┆ 14      │\n",
       "└─────────┴───────┴─────────┘"
      ]
     },
     "execution_count": 426,
     "metadata": {},
     "output_type": "execute_result"
    }
   ],
   "source": [
    "df_filtered = df.filter(\n",
    "                        (pl.col('teacher')=='John') & (pl.col('price')>10)\n",
    "                        )\n",
    "\n",
    "df_filtered"
   ]
  },
  {
   "cell_type": "code",
   "execution_count": 427,
   "metadata": {},
   "outputs": [
    {
     "data": {
      "text/html": [
       "<div>\n",
       "<style scoped>\n",
       "    .dataframe tbody tr th:only-of-type {\n",
       "        vertical-align: middle;\n",
       "    }\n",
       "\n",
       "    .dataframe tbody tr th {\n",
       "        vertical-align: top;\n",
       "    }\n",
       "\n",
       "    .dataframe thead th {\n",
       "        text-align: right;\n",
       "    }\n",
       "</style>\n",
       "<table border=\"1\" class=\"dataframe\">\n",
       "  <thead>\n",
       "    <tr style=\"text-align: right;\">\n",
       "      <th></th>\n",
       "      <th>teacher</th>\n",
       "      <th>price</th>\n",
       "      <th>lessons</th>\n",
       "    </tr>\n",
       "  </thead>\n",
       "  <tbody>\n",
       "    <tr>\n",
       "      <th>0</th>\n",
       "      <td>John</td>\n",
       "      <td>23</td>\n",
       "      <td>22</td>\n",
       "    </tr>\n",
       "    <tr>\n",
       "      <th>2</th>\n",
       "      <td>John</td>\n",
       "      <td>34</td>\n",
       "      <td>22</td>\n",
       "    </tr>\n",
       "  </tbody>\n",
       "</table>\n",
       "</div>"
      ],
      "text/plain": [
       "  teacher  price  lessons\n",
       "0    John     23       22\n",
       "2    John     34       22"
      ]
     },
     "execution_count": 427,
     "metadata": {},
     "output_type": "execute_result"
    }
   ],
   "source": [
    "df_pd_filtered = df_pd[(df_pd['teacher']=='John') & (df_pd['price']>10)]\n",
    "\n",
    "df_pd_filtered"
   ]
  },
  {
   "cell_type": "markdown",
   "metadata": {},
   "source": [
    "# Operations with columns"
   ]
  },
  {
   "cell_type": "markdown",
   "metadata": {},
   "source": [
    "**Divide**"
   ]
  },
  {
   "cell_type": "code",
   "execution_count": 428,
   "metadata": {},
   "outputs": [
    {
     "data": {
      "text/html": [
       "<div><style>\n",
       ".dataframe > thead > tr,\n",
       ".dataframe > tbody > tr {\n",
       "  text-align: right;\n",
       "  white-space: pre-wrap;\n",
       "}\n",
       "</style>\n",
       "<small>shape: (5, 4)</small><table border=\"1\" class=\"dataframe\"><thead><tr><th>teacher</th><th>price</th><th>lessons</th><th>profit</th></tr><tr><td>str</td><td>i32</td><td>i32</td><td>f64</td></tr></thead><tbody><tr><td>&quot;John&quot;</td><td>44</td><td>24</td><td>183.333333</td></tr><tr><td>&quot;Lucy&quot;</td><td>39</td><td>19</td><td>205.263158</td></tr><tr><td>&quot;John&quot;</td><td>37</td><td>14</td><td>264.285714</td></tr><tr><td>&quot;Tom&quot;</td><td>32</td><td>19</td><td>168.421053</td></tr><tr><td>&quot;Helen&quot;</td><td>44</td><td>10</td><td>440.0</td></tr></tbody></table></div>"
      ],
      "text/plain": [
       "shape: (5, 4)\n",
       "┌─────────┬───────┬─────────┬────────────┐\n",
       "│ teacher ┆ price ┆ lessons ┆ profit     │\n",
       "│ ---     ┆ ---   ┆ ---     ┆ ---        │\n",
       "│ str     ┆ i32   ┆ i32     ┆ f64        │\n",
       "╞═════════╪═══════╪═════════╪════════════╡\n",
       "│ John    ┆ 44    ┆ 24      ┆ 183.333333 │\n",
       "│ Lucy    ┆ 39    ┆ 19      ┆ 205.263158 │\n",
       "│ John    ┆ 37    ┆ 14      ┆ 264.285714 │\n",
       "│ Tom     ┆ 32    ┆ 19      ┆ 168.421053 │\n",
       "│ Helen   ┆ 44    ┆ 10      ┆ 440.0      │\n",
       "└─────────┴───────┴─────────┴────────────┘"
      ]
     },
     "execution_count": 428,
     "metadata": {},
     "output_type": "execute_result"
    }
   ],
   "source": [
    "df = df.with_columns(\n",
    "                    ((pl.col('price') / pl.col('lessons'))*100).alias('profit')\n",
    "                    )\n",
    "\n",
    "df.head(5)"
   ]
  },
  {
   "cell_type": "code",
   "execution_count": 429,
   "metadata": {},
   "outputs": [
    {
     "data": {
      "text/html": [
       "<div>\n",
       "<style scoped>\n",
       "    .dataframe tbody tr th:only-of-type {\n",
       "        vertical-align: middle;\n",
       "    }\n",
       "\n",
       "    .dataframe tbody tr th {\n",
       "        vertical-align: top;\n",
       "    }\n",
       "\n",
       "    .dataframe thead th {\n",
       "        text-align: right;\n",
       "    }\n",
       "</style>\n",
       "<table border=\"1\" class=\"dataframe\">\n",
       "  <thead>\n",
       "    <tr style=\"text-align: right;\">\n",
       "      <th></th>\n",
       "      <th>teacher</th>\n",
       "      <th>price</th>\n",
       "      <th>lessons</th>\n",
       "      <th>profit</th>\n",
       "    </tr>\n",
       "  </thead>\n",
       "  <tbody>\n",
       "    <tr>\n",
       "      <th>0</th>\n",
       "      <td>John</td>\n",
       "      <td>23</td>\n",
       "      <td>22</td>\n",
       "      <td>104.545455</td>\n",
       "    </tr>\n",
       "    <tr>\n",
       "      <th>1</th>\n",
       "      <td>Lucy</td>\n",
       "      <td>35</td>\n",
       "      <td>18</td>\n",
       "      <td>194.444444</td>\n",
       "    </tr>\n",
       "    <tr>\n",
       "      <th>2</th>\n",
       "      <td>John</td>\n",
       "      <td>34</td>\n",
       "      <td>22</td>\n",
       "      <td>154.545455</td>\n",
       "    </tr>\n",
       "    <tr>\n",
       "      <th>3</th>\n",
       "      <td>Tom</td>\n",
       "      <td>44</td>\n",
       "      <td>15</td>\n",
       "      <td>293.333333</td>\n",
       "    </tr>\n",
       "    <tr>\n",
       "      <th>4</th>\n",
       "      <td>Helen</td>\n",
       "      <td>31</td>\n",
       "      <td>24</td>\n",
       "      <td>129.166667</td>\n",
       "    </tr>\n",
       "  </tbody>\n",
       "</table>\n",
       "</div>"
      ],
      "text/plain": [
       "  teacher  price  lessons      profit\n",
       "0    John     23       22  104.545455\n",
       "1    Lucy     35       18  194.444444\n",
       "2    John     34       22  154.545455\n",
       "3     Tom     44       15  293.333333\n",
       "4   Helen     31       24  129.166667"
      ]
     },
     "execution_count": 429,
     "metadata": {},
     "output_type": "execute_result"
    }
   ],
   "source": [
    "df_pd['profit'] = (df_pd['price'] / df_pd['lessons'])*100\n",
    "df_pd"
   ]
  },
  {
   "cell_type": "markdown",
   "metadata": {},
   "source": [
    "**SQRT**"
   ]
  },
  {
   "cell_type": "code",
   "execution_count": 430,
   "metadata": {},
   "outputs": [
    {
     "data": {
      "text/html": [
       "<div><style>\n",
       ".dataframe > thead > tr,\n",
       ".dataframe > tbody > tr {\n",
       "  text-align: right;\n",
       "  white-space: pre-wrap;\n",
       "}\n",
       "</style>\n",
       "<small>shape: (5, 5)</small><table border=\"1\" class=\"dataframe\"><thead><tr><th>teacher</th><th>price</th><th>lessons</th><th>profit</th><th>sqrt</th></tr><tr><td>str</td><td>i32</td><td>i32</td><td>f64</td><td>f64</td></tr></thead><tbody><tr><td>&quot;John&quot;</td><td>44</td><td>24</td><td>183.333333</td><td>13.540064</td></tr><tr><td>&quot;Lucy&quot;</td><td>39</td><td>19</td><td>205.263158</td><td>14.327008</td></tr><tr><td>&quot;John&quot;</td><td>37</td><td>14</td><td>264.285714</td><td>16.256867</td></tr><tr><td>&quot;Tom&quot;</td><td>32</td><td>19</td><td>168.421053</td><td>12.977714</td></tr><tr><td>&quot;Helen&quot;</td><td>44</td><td>10</td><td>440.0</td><td>20.976177</td></tr></tbody></table></div>"
      ],
      "text/plain": [
       "shape: (5, 5)\n",
       "┌─────────┬───────┬─────────┬────────────┬───────────┐\n",
       "│ teacher ┆ price ┆ lessons ┆ profit     ┆ sqrt      │\n",
       "│ ---     ┆ ---   ┆ ---     ┆ ---        ┆ ---       │\n",
       "│ str     ┆ i32   ┆ i32     ┆ f64        ┆ f64       │\n",
       "╞═════════╪═══════╪═════════╪════════════╪═══════════╡\n",
       "│ John    ┆ 44    ┆ 24      ┆ 183.333333 ┆ 13.540064 │\n",
       "│ Lucy    ┆ 39    ┆ 19      ┆ 205.263158 ┆ 14.327008 │\n",
       "│ John    ┆ 37    ┆ 14      ┆ 264.285714 ┆ 16.256867 │\n",
       "│ Tom     ┆ 32    ┆ 19      ┆ 168.421053 ┆ 12.977714 │\n",
       "│ Helen   ┆ 44    ┆ 10      ┆ 440.0      ┆ 20.976177 │\n",
       "└─────────┴───────┴─────────┴────────────┴───────────┘"
      ]
     },
     "execution_count": 430,
     "metadata": {},
     "output_type": "execute_result"
    }
   ],
   "source": [
    "df = df.with_columns(\n",
    "                        pl.col('profit').sqrt().alias('sqrt')\n",
    "                    )\n",
    "\n",
    "df.head(5)"
   ]
  },
  {
   "cell_type": "code",
   "execution_count": 431,
   "metadata": {},
   "outputs": [
    {
     "data": {
      "text/html": [
       "<div>\n",
       "<style scoped>\n",
       "    .dataframe tbody tr th:only-of-type {\n",
       "        vertical-align: middle;\n",
       "    }\n",
       "\n",
       "    .dataframe tbody tr th {\n",
       "        vertical-align: top;\n",
       "    }\n",
       "\n",
       "    .dataframe thead th {\n",
       "        text-align: right;\n",
       "    }\n",
       "</style>\n",
       "<table border=\"1\" class=\"dataframe\">\n",
       "  <thead>\n",
       "    <tr style=\"text-align: right;\">\n",
       "      <th></th>\n",
       "      <th>teacher</th>\n",
       "      <th>price</th>\n",
       "      <th>lessons</th>\n",
       "      <th>profit</th>\n",
       "      <th>sqrt</th>\n",
       "    </tr>\n",
       "  </thead>\n",
       "  <tbody>\n",
       "    <tr>\n",
       "      <th>0</th>\n",
       "      <td>John</td>\n",
       "      <td>23</td>\n",
       "      <td>22</td>\n",
       "      <td>104.545455</td>\n",
       "      <td>10.224747</td>\n",
       "    </tr>\n",
       "    <tr>\n",
       "      <th>1</th>\n",
       "      <td>Lucy</td>\n",
       "      <td>35</td>\n",
       "      <td>18</td>\n",
       "      <td>194.444444</td>\n",
       "      <td>13.944334</td>\n",
       "    </tr>\n",
       "    <tr>\n",
       "      <th>2</th>\n",
       "      <td>John</td>\n",
       "      <td>34</td>\n",
       "      <td>22</td>\n",
       "      <td>154.545455</td>\n",
       "      <td>12.431631</td>\n",
       "    </tr>\n",
       "    <tr>\n",
       "      <th>3</th>\n",
       "      <td>Tom</td>\n",
       "      <td>44</td>\n",
       "      <td>15</td>\n",
       "      <td>293.333333</td>\n",
       "      <td>17.126977</td>\n",
       "    </tr>\n",
       "    <tr>\n",
       "      <th>4</th>\n",
       "      <td>Helen</td>\n",
       "      <td>31</td>\n",
       "      <td>24</td>\n",
       "      <td>129.166667</td>\n",
       "      <td>11.365151</td>\n",
       "    </tr>\n",
       "  </tbody>\n",
       "</table>\n",
       "</div>"
      ],
      "text/plain": [
       "  teacher  price  lessons      profit       sqrt\n",
       "0    John     23       22  104.545455  10.224747\n",
       "1    Lucy     35       18  194.444444  13.944334\n",
       "2    John     34       22  154.545455  12.431631\n",
       "3     Tom     44       15  293.333333  17.126977\n",
       "4   Helen     31       24  129.166667  11.365151"
      ]
     },
     "execution_count": 431,
     "metadata": {},
     "output_type": "execute_result"
    }
   ],
   "source": [
    "df_pd['sqrt'] = np.sqrt(df_pd['profit'])\n",
    "df_pd.head(5)"
   ]
  },
  {
   "cell_type": "markdown",
   "metadata": {},
   "source": [
    "# Conditions"
   ]
  },
  {
   "cell_type": "code",
   "execution_count": 432,
   "metadata": {},
   "outputs": [
    {
     "data": {
      "text/html": [
       "<div><style>\n",
       ".dataframe > thead > tr,\n",
       ".dataframe > tbody > tr {\n",
       "  text-align: right;\n",
       "  white-space: pre-wrap;\n",
       "}\n",
       "</style>\n",
       "<small>shape: (5, 6)</small><table border=\"1\" class=\"dataframe\"><thead><tr><th>teacher</th><th>price</th><th>lessons</th><th>profit</th><th>sqrt</th><th>new column</th></tr><tr><td>str</td><td>i32</td><td>i32</td><td>f64</td><td>f64</td><td>i32</td></tr></thead><tbody><tr><td>&quot;John&quot;</td><td>44</td><td>24</td><td>183.333333</td><td>13.540064</td><td>1</td></tr><tr><td>&quot;Lucy&quot;</td><td>39</td><td>19</td><td>205.263158</td><td>14.327008</td><td>0</td></tr><tr><td>&quot;John&quot;</td><td>37</td><td>14</td><td>264.285714</td><td>16.256867</td><td>1</td></tr><tr><td>&quot;Tom&quot;</td><td>32</td><td>19</td><td>168.421053</td><td>12.977714</td><td>0</td></tr><tr><td>&quot;Helen&quot;</td><td>44</td><td>10</td><td>440.0</td><td>20.976177</td><td>0</td></tr></tbody></table></div>"
      ],
      "text/plain": [
       "shape: (5, 6)\n",
       "┌─────────┬───────┬─────────┬────────────┬───────────┬────────────┐\n",
       "│ teacher ┆ price ┆ lessons ┆ profit     ┆ sqrt      ┆ new column │\n",
       "│ ---     ┆ ---   ┆ ---     ┆ ---        ┆ ---       ┆ ---        │\n",
       "│ str     ┆ i32   ┆ i32     ┆ f64        ┆ f64       ┆ i32        │\n",
       "╞═════════╪═══════╪═════════╪════════════╪═══════════╪════════════╡\n",
       "│ John    ┆ 44    ┆ 24      ┆ 183.333333 ┆ 13.540064 ┆ 1          │\n",
       "│ Lucy    ┆ 39    ┆ 19      ┆ 205.263158 ┆ 14.327008 ┆ 0          │\n",
       "│ John    ┆ 37    ┆ 14      ┆ 264.285714 ┆ 16.256867 ┆ 1          │\n",
       "│ Tom     ┆ 32    ┆ 19      ┆ 168.421053 ┆ 12.977714 ┆ 0          │\n",
       "│ Helen   ┆ 44    ┆ 10      ┆ 440.0      ┆ 20.976177 ┆ 0          │\n",
       "└─────────┴───────┴─────────┴────────────┴───────────┴────────────┘"
      ]
     },
     "execution_count": 432,
     "metadata": {},
     "output_type": "execute_result"
    }
   ],
   "source": [
    "df_con = df.with_columns(\n",
    "                        pl.when(pl.col('teacher')=='John').then(1).otherwise(0).alias('new column')\n",
    "                        )\n",
    "df_con.head(5)  "
   ]
  },
  {
   "cell_type": "code",
   "execution_count": 433,
   "metadata": {},
   "outputs": [
    {
     "data": {
      "text/html": [
       "<div>\n",
       "<style scoped>\n",
       "    .dataframe tbody tr th:only-of-type {\n",
       "        vertical-align: middle;\n",
       "    }\n",
       "\n",
       "    .dataframe tbody tr th {\n",
       "        vertical-align: top;\n",
       "    }\n",
       "\n",
       "    .dataframe thead th {\n",
       "        text-align: right;\n",
       "    }\n",
       "</style>\n",
       "<table border=\"1\" class=\"dataframe\">\n",
       "  <thead>\n",
       "    <tr style=\"text-align: right;\">\n",
       "      <th></th>\n",
       "      <th>teacher</th>\n",
       "      <th>price</th>\n",
       "      <th>lessons</th>\n",
       "      <th>profit</th>\n",
       "      <th>sqrt</th>\n",
       "      <th>new column</th>\n",
       "    </tr>\n",
       "  </thead>\n",
       "  <tbody>\n",
       "    <tr>\n",
       "      <th>0</th>\n",
       "      <td>John</td>\n",
       "      <td>23</td>\n",
       "      <td>22</td>\n",
       "      <td>104.545455</td>\n",
       "      <td>10.224747</td>\n",
       "      <td>1</td>\n",
       "    </tr>\n",
       "    <tr>\n",
       "      <th>1</th>\n",
       "      <td>Lucy</td>\n",
       "      <td>35</td>\n",
       "      <td>18</td>\n",
       "      <td>194.444444</td>\n",
       "      <td>13.944334</td>\n",
       "      <td>0</td>\n",
       "    </tr>\n",
       "    <tr>\n",
       "      <th>2</th>\n",
       "      <td>John</td>\n",
       "      <td>34</td>\n",
       "      <td>22</td>\n",
       "      <td>154.545455</td>\n",
       "      <td>12.431631</td>\n",
       "      <td>1</td>\n",
       "    </tr>\n",
       "    <tr>\n",
       "      <th>3</th>\n",
       "      <td>Tom</td>\n",
       "      <td>44</td>\n",
       "      <td>15</td>\n",
       "      <td>293.333333</td>\n",
       "      <td>17.126977</td>\n",
       "      <td>0</td>\n",
       "    </tr>\n",
       "    <tr>\n",
       "      <th>4</th>\n",
       "      <td>Helen</td>\n",
       "      <td>31</td>\n",
       "      <td>24</td>\n",
       "      <td>129.166667</td>\n",
       "      <td>11.365151</td>\n",
       "      <td>0</td>\n",
       "    </tr>\n",
       "  </tbody>\n",
       "</table>\n",
       "</div>"
      ],
      "text/plain": [
       "  teacher  price  lessons      profit       sqrt  new column\n",
       "0    John     23       22  104.545455  10.224747           1\n",
       "1    Lucy     35       18  194.444444  13.944334           0\n",
       "2    John     34       22  154.545455  12.431631           1\n",
       "3     Tom     44       15  293.333333  17.126977           0\n",
       "4   Helen     31       24  129.166667  11.365151           0"
      ]
     },
     "execution_count": 433,
     "metadata": {},
     "output_type": "execute_result"
    }
   ],
   "source": [
    "df_pd['new column'] = np.where(df_pd['teacher']=='John', 1, 0)\n",
    "df_pd.head(5)  "
   ]
  },
  {
   "cell_type": "markdown",
   "metadata": {},
   "source": [
    "# Date"
   ]
  },
  {
   "cell_type": "code",
   "execution_count": 434,
   "metadata": {},
   "outputs": [],
   "source": [
    "start = pd.to_datetime('2024-01-01')\n",
    "end = start + pd.DateOffset(months=11)"
   ]
  },
  {
   "cell_type": "code",
   "execution_count": 435,
   "metadata": {},
   "outputs": [
    {
     "data": {
      "text/html": [
       "<div><style>\n",
       ".dataframe > thead > tr,\n",
       ".dataframe > tbody > tr {\n",
       "  text-align: right;\n",
       "  white-space: pre-wrap;\n",
       "}\n",
       "</style>\n",
       "<small>shape: (12, 1)</small><table border=\"1\" class=\"dataframe\"><thead><tr><th>date</th></tr><tr><td>datetime[μs]</td></tr></thead><tbody><tr><td>2024-01-01 00:00:00</td></tr><tr><td>2024-02-01 00:00:00</td></tr><tr><td>2024-03-01 00:00:00</td></tr><tr><td>2024-04-01 00:00:00</td></tr><tr><td>2024-05-01 00:00:00</td></tr><tr><td>&hellip;</td></tr><tr><td>2024-08-01 00:00:00</td></tr><tr><td>2024-09-01 00:00:00</td></tr><tr><td>2024-10-01 00:00:00</td></tr><tr><td>2024-11-01 00:00:00</td></tr><tr><td>2024-12-01 00:00:00</td></tr></tbody></table></div>"
      ],
      "text/plain": [
       "shape: (12, 1)\n",
       "┌─────────────────────┐\n",
       "│ date                │\n",
       "│ ---                 │\n",
       "│ datetime[μs]        │\n",
       "╞═════════════════════╡\n",
       "│ 2024-01-01 00:00:00 │\n",
       "│ 2024-02-01 00:00:00 │\n",
       "│ 2024-03-01 00:00:00 │\n",
       "│ 2024-04-01 00:00:00 │\n",
       "│ 2024-05-01 00:00:00 │\n",
       "│ …                   │\n",
       "│ 2024-08-01 00:00:00 │\n",
       "│ 2024-09-01 00:00:00 │\n",
       "│ 2024-10-01 00:00:00 │\n",
       "│ 2024-11-01 00:00:00 │\n",
       "│ 2024-12-01 00:00:00 │\n",
       "└─────────────────────┘"
      ]
     },
     "execution_count": 435,
     "metadata": {},
     "output_type": "execute_result"
    }
   ],
   "source": [
    "df_new = pl.DataFrame(\n",
    "                        pl.datetime_range(\n",
    "                        start,\n",
    "                        end,\n",
    "                        interval='1mo',\n",
    "                        eager=True,\n",
    "                        ).alias('date')\n",
    "                    )\n",
    "df_new"
   ]
  },
  {
   "cell_type": "code",
   "execution_count": 436,
   "metadata": {},
   "outputs": [
    {
     "data": {
      "text/html": [
       "<div>\n",
       "<style scoped>\n",
       "    .dataframe tbody tr th:only-of-type {\n",
       "        vertical-align: middle;\n",
       "    }\n",
       "\n",
       "    .dataframe tbody tr th {\n",
       "        vertical-align: top;\n",
       "    }\n",
       "\n",
       "    .dataframe thead th {\n",
       "        text-align: right;\n",
       "    }\n",
       "</style>\n",
       "<table border=\"1\" class=\"dataframe\">\n",
       "  <thead>\n",
       "    <tr style=\"text-align: right;\">\n",
       "      <th></th>\n",
       "      <th>date</th>\n",
       "    </tr>\n",
       "  </thead>\n",
       "  <tbody>\n",
       "    <tr>\n",
       "      <th>0</th>\n",
       "      <td>2024-01</td>\n",
       "    </tr>\n",
       "    <tr>\n",
       "      <th>1</th>\n",
       "      <td>2024-02</td>\n",
       "    </tr>\n",
       "    <tr>\n",
       "      <th>2</th>\n",
       "      <td>2024-03</td>\n",
       "    </tr>\n",
       "    <tr>\n",
       "      <th>3</th>\n",
       "      <td>2024-04</td>\n",
       "    </tr>\n",
       "    <tr>\n",
       "      <th>4</th>\n",
       "      <td>2024-05</td>\n",
       "    </tr>\n",
       "    <tr>\n",
       "      <th>5</th>\n",
       "      <td>2024-06</td>\n",
       "    </tr>\n",
       "    <tr>\n",
       "      <th>6</th>\n",
       "      <td>2024-07</td>\n",
       "    </tr>\n",
       "    <tr>\n",
       "      <th>7</th>\n",
       "      <td>2024-08</td>\n",
       "    </tr>\n",
       "    <tr>\n",
       "      <th>8</th>\n",
       "      <td>2024-09</td>\n",
       "    </tr>\n",
       "    <tr>\n",
       "      <th>9</th>\n",
       "      <td>2024-10</td>\n",
       "    </tr>\n",
       "    <tr>\n",
       "      <th>10</th>\n",
       "      <td>2024-11</td>\n",
       "    </tr>\n",
       "    <tr>\n",
       "      <th>11</th>\n",
       "      <td>2024-12</td>\n",
       "    </tr>\n",
       "  </tbody>\n",
       "</table>\n",
       "</div>"
      ],
      "text/plain": [
       "       date\n",
       "0   2024-01\n",
       "1   2024-02\n",
       "2   2024-03\n",
       "3   2024-04\n",
       "4   2024-05\n",
       "5   2024-06\n",
       "6   2024-07\n",
       "7   2024-08\n",
       "8   2024-09\n",
       "9   2024-10\n",
       "10  2024-11\n",
       "11  2024-12"
      ]
     },
     "execution_count": 436,
     "metadata": {},
     "output_type": "execute_result"
    }
   ],
   "source": [
    "date_pd = pd.DataFrame({'date': pd.period_range('2024-01-01', periods=12, freq='M')\n",
    "                        })\n",
    "date_pd"
   ]
  },
  {
   "cell_type": "code",
   "execution_count": 437,
   "metadata": {},
   "outputs": [
    {
     "data": {
      "text/plain": [
       "pandas.core.series.Series"
      ]
     },
     "execution_count": 437,
     "metadata": {},
     "output_type": "execute_result"
    }
   ],
   "source": [
    "type(date_pd['date'])\n"
   ]
  }
 ],
 "metadata": {
  "kernelspec": {
   "display_name": "venv_portfolio-hkOMkeu3",
   "language": "python",
   "name": "python3"
  },
  "language_info": {
   "codemirror_mode": {
    "name": "ipython",
    "version": 3
   },
   "file_extension": ".py",
   "mimetype": "text/x-python",
   "name": "python",
   "nbconvert_exporter": "python",
   "pygments_lexer": "ipython3",
   "version": "3.10.10"
  }
 },
 "nbformat": 4,
 "nbformat_minor": 2
}
