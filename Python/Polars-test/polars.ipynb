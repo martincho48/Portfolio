{
 "cells": [
  {
   "cell_type": "code",
   "execution_count": 1,
   "metadata": {},
   "outputs": [],
   "source": [
    "import polars as pl\n",
    "import numpy as np\n",
    "import pandas as pd"
   ]
  },
  {
   "cell_type": "markdown",
   "metadata": {},
   "source": [
    "# Create Dataframe"
   ]
  },
  {
   "cell_type": "code",
   "execution_count": 2,
   "metadata": {},
   "outputs": [
    {
     "data": {
      "text/html": [
       "<div><style>\n",
       ".dataframe > thead > tr,\n",
       ".dataframe > tbody > tr {\n",
       "  text-align: right;\n",
       "  white-space: pre-wrap;\n",
       "}\n",
       "</style>\n",
       "<small>shape: (5, 3)</small><table border=\"1\" class=\"dataframe\"><thead><tr><th>teacher</th><th>price</th><th>lessons</th></tr><tr><td>str</td><td>i32</td><td>i32</td></tr></thead><tbody><tr><td>&quot;John&quot;</td><td>29</td><td>10</td></tr><tr><td>&quot;Lucy&quot;</td><td>36</td><td>21</td></tr><tr><td>&quot;John&quot;</td><td>22</td><td>17</td></tr><tr><td>&quot;Tom&quot;</td><td>43</td><td>23</td></tr><tr><td>&quot;Helen&quot;</td><td>20</td><td>20</td></tr></tbody></table></div>"
      ],
      "text/plain": [
       "shape: (5, 3)\n",
       "┌─────────┬───────┬─────────┐\n",
       "│ teacher ┆ price ┆ lessons │\n",
       "│ ---     ┆ ---   ┆ ---     │\n",
       "│ str     ┆ i32   ┆ i32     │\n",
       "╞═════════╪═══════╪═════════╡\n",
       "│ John    ┆ 29    ┆ 10      │\n",
       "│ Lucy    ┆ 36    ┆ 21      │\n",
       "│ John    ┆ 22    ┆ 17      │\n",
       "│ Tom     ┆ 43    ┆ 23      │\n",
       "│ Helen   ┆ 20    ┆ 20      │\n",
       "└─────────┴───────┴─────────┘"
      ]
     },
     "execution_count": 2,
     "metadata": {},
     "output_type": "execute_result"
    }
   ],
   "source": [
    "df = pl.DataFrame({'teacher':['John', 'Lucy', 'John', 'Tom', 'Helen'],\n",
    "                   'price': np.random.randint(20,45,5),\n",
    "                   'lessons': np.random.randint(10,25,5)\n",
    "                   })\n",
    "df.head(5)"
   ]
  },
  {
   "cell_type": "code",
   "execution_count": 3,
   "metadata": {},
   "outputs": [
    {
     "data": {
      "text/html": [
       "<div>\n",
       "<style scoped>\n",
       "    .dataframe tbody tr th:only-of-type {\n",
       "        vertical-align: middle;\n",
       "    }\n",
       "\n",
       "    .dataframe tbody tr th {\n",
       "        vertical-align: top;\n",
       "    }\n",
       "\n",
       "    .dataframe thead th {\n",
       "        text-align: right;\n",
       "    }\n",
       "</style>\n",
       "<table border=\"1\" class=\"dataframe\">\n",
       "  <thead>\n",
       "    <tr style=\"text-align: right;\">\n",
       "      <th></th>\n",
       "      <th>teacher</th>\n",
       "      <th>price</th>\n",
       "      <th>lessons</th>\n",
       "    </tr>\n",
       "  </thead>\n",
       "  <tbody>\n",
       "    <tr>\n",
       "      <th>0</th>\n",
       "      <td>John</td>\n",
       "      <td>44</td>\n",
       "      <td>18</td>\n",
       "    </tr>\n",
       "    <tr>\n",
       "      <th>1</th>\n",
       "      <td>Lucy</td>\n",
       "      <td>21</td>\n",
       "      <td>18</td>\n",
       "    </tr>\n",
       "    <tr>\n",
       "      <th>2</th>\n",
       "      <td>John</td>\n",
       "      <td>29</td>\n",
       "      <td>19</td>\n",
       "    </tr>\n",
       "    <tr>\n",
       "      <th>3</th>\n",
       "      <td>Tom</td>\n",
       "      <td>32</td>\n",
       "      <td>15</td>\n",
       "    </tr>\n",
       "    <tr>\n",
       "      <th>4</th>\n",
       "      <td>Helen</td>\n",
       "      <td>38</td>\n",
       "      <td>10</td>\n",
       "    </tr>\n",
       "  </tbody>\n",
       "</table>\n",
       "</div>"
      ],
      "text/plain": [
       "  teacher  price  lessons\n",
       "0    John     44       18\n",
       "1    Lucy     21       18\n",
       "2    John     29       19\n",
       "3     Tom     32       15\n",
       "4   Helen     38       10"
      ]
     },
     "execution_count": 3,
     "metadata": {},
     "output_type": "execute_result"
    }
   ],
   "source": [
    "df_pd = pd.DataFrame({'teacher':['John', 'Lucy', 'John', 'Tom', 'Helen'],\n",
    "                   'price': np.random.randint(20,45,5),\n",
    "                   'lessons': np.random.randint(10,25,5)\n",
    "                   })\n",
    "df_pd.head(5)"
   ]
  },
  {
   "cell_type": "markdown",
   "metadata": {},
   "source": [
    "# Filter"
   ]
  },
  {
   "cell_type": "code",
   "execution_count": 4,
   "metadata": {},
   "outputs": [
    {
     "data": {
      "text/html": [
       "<div><style>\n",
       ".dataframe > thead > tr,\n",
       ".dataframe > tbody > tr {\n",
       "  text-align: right;\n",
       "  white-space: pre-wrap;\n",
       "}\n",
       "</style>\n",
       "<small>shape: (2, 3)</small><table border=\"1\" class=\"dataframe\"><thead><tr><th>teacher</th><th>price</th><th>lessons</th></tr><tr><td>str</td><td>i32</td><td>i32</td></tr></thead><tbody><tr><td>&quot;John&quot;</td><td>29</td><td>10</td></tr><tr><td>&quot;John&quot;</td><td>22</td><td>17</td></tr></tbody></table></div>"
      ],
      "text/plain": [
       "shape: (2, 3)\n",
       "┌─────────┬───────┬─────────┐\n",
       "│ teacher ┆ price ┆ lessons │\n",
       "│ ---     ┆ ---   ┆ ---     │\n",
       "│ str     ┆ i32   ┆ i32     │\n",
       "╞═════════╪═══════╪═════════╡\n",
       "│ John    ┆ 29    ┆ 10      │\n",
       "│ John    ┆ 22    ┆ 17      │\n",
       "└─────────┴───────┴─────────┘"
      ]
     },
     "execution_count": 4,
     "metadata": {},
     "output_type": "execute_result"
    }
   ],
   "source": [
    "df_filtered = df.filter(\n",
    "                        (pl.col('teacher')=='John') & (pl.col('price')>10)\n",
    "                        )\n",
    "\n",
    "df_filtered"
   ]
  },
  {
   "cell_type": "code",
   "execution_count": 5,
   "metadata": {},
   "outputs": [
    {
     "data": {
      "text/html": [
       "<div>\n",
       "<style scoped>\n",
       "    .dataframe tbody tr th:only-of-type {\n",
       "        vertical-align: middle;\n",
       "    }\n",
       "\n",
       "    .dataframe tbody tr th {\n",
       "        vertical-align: top;\n",
       "    }\n",
       "\n",
       "    .dataframe thead th {\n",
       "        text-align: right;\n",
       "    }\n",
       "</style>\n",
       "<table border=\"1\" class=\"dataframe\">\n",
       "  <thead>\n",
       "    <tr style=\"text-align: right;\">\n",
       "      <th></th>\n",
       "      <th>teacher</th>\n",
       "      <th>price</th>\n",
       "      <th>lessons</th>\n",
       "    </tr>\n",
       "  </thead>\n",
       "  <tbody>\n",
       "    <tr>\n",
       "      <th>0</th>\n",
       "      <td>John</td>\n",
       "      <td>44</td>\n",
       "      <td>18</td>\n",
       "    </tr>\n",
       "    <tr>\n",
       "      <th>2</th>\n",
       "      <td>John</td>\n",
       "      <td>29</td>\n",
       "      <td>19</td>\n",
       "    </tr>\n",
       "  </tbody>\n",
       "</table>\n",
       "</div>"
      ],
      "text/plain": [
       "  teacher  price  lessons\n",
       "0    John     44       18\n",
       "2    John     29       19"
      ]
     },
     "execution_count": 5,
     "metadata": {},
     "output_type": "execute_result"
    }
   ],
   "source": [
    "df_pd_filtered = df_pd[(df_pd['teacher']=='John') & (df_pd['price']>10)]\n",
    "\n",
    "df_pd_filtered"
   ]
  },
  {
   "cell_type": "markdown",
   "metadata": {},
   "source": [
    "# Operations with columns"
   ]
  },
  {
   "cell_type": "markdown",
   "metadata": {},
   "source": [
    "**Divide**"
   ]
  },
  {
   "cell_type": "code",
   "execution_count": 6,
   "metadata": {},
   "outputs": [
    {
     "data": {
      "text/html": [
       "<div><style>\n",
       ".dataframe > thead > tr,\n",
       ".dataframe > tbody > tr {\n",
       "  text-align: right;\n",
       "  white-space: pre-wrap;\n",
       "}\n",
       "</style>\n",
       "<small>shape: (5, 4)</small><table border=\"1\" class=\"dataframe\"><thead><tr><th>teacher</th><th>price</th><th>lessons</th><th>profit</th></tr><tr><td>str</td><td>i32</td><td>i32</td><td>f64</td></tr></thead><tbody><tr><td>&quot;John&quot;</td><td>29</td><td>10</td><td>290.0</td></tr><tr><td>&quot;Lucy&quot;</td><td>36</td><td>21</td><td>171.428571</td></tr><tr><td>&quot;John&quot;</td><td>22</td><td>17</td><td>129.411765</td></tr><tr><td>&quot;Tom&quot;</td><td>43</td><td>23</td><td>186.956522</td></tr><tr><td>&quot;Helen&quot;</td><td>20</td><td>20</td><td>100.0</td></tr></tbody></table></div>"
      ],
      "text/plain": [
       "shape: (5, 4)\n",
       "┌─────────┬───────┬─────────┬────────────┐\n",
       "│ teacher ┆ price ┆ lessons ┆ profit     │\n",
       "│ ---     ┆ ---   ┆ ---     ┆ ---        │\n",
       "│ str     ┆ i32   ┆ i32     ┆ f64        │\n",
       "╞═════════╪═══════╪═════════╪════════════╡\n",
       "│ John    ┆ 29    ┆ 10      ┆ 290.0      │\n",
       "│ Lucy    ┆ 36    ┆ 21      ┆ 171.428571 │\n",
       "│ John    ┆ 22    ┆ 17      ┆ 129.411765 │\n",
       "│ Tom     ┆ 43    ┆ 23      ┆ 186.956522 │\n",
       "│ Helen   ┆ 20    ┆ 20      ┆ 100.0      │\n",
       "└─────────┴───────┴─────────┴────────────┘"
      ]
     },
     "execution_count": 6,
     "metadata": {},
     "output_type": "execute_result"
    }
   ],
   "source": [
    "df = df.with_columns(\n",
    "                    ((pl.col('price') / pl.col('lessons'))*100).alias('profit')\n",
    "                    )\n",
    "\n",
    "df.head(5)"
   ]
  },
  {
   "cell_type": "code",
   "execution_count": 7,
   "metadata": {},
   "outputs": [
    {
     "data": {
      "text/html": [
       "<div>\n",
       "<style scoped>\n",
       "    .dataframe tbody tr th:only-of-type {\n",
       "        vertical-align: middle;\n",
       "    }\n",
       "\n",
       "    .dataframe tbody tr th {\n",
       "        vertical-align: top;\n",
       "    }\n",
       "\n",
       "    .dataframe thead th {\n",
       "        text-align: right;\n",
       "    }\n",
       "</style>\n",
       "<table border=\"1\" class=\"dataframe\">\n",
       "  <thead>\n",
       "    <tr style=\"text-align: right;\">\n",
       "      <th></th>\n",
       "      <th>teacher</th>\n",
       "      <th>price</th>\n",
       "      <th>lessons</th>\n",
       "      <th>profit</th>\n",
       "    </tr>\n",
       "  </thead>\n",
       "  <tbody>\n",
       "    <tr>\n",
       "      <th>0</th>\n",
       "      <td>John</td>\n",
       "      <td>44</td>\n",
       "      <td>18</td>\n",
       "      <td>244.444444</td>\n",
       "    </tr>\n",
       "    <tr>\n",
       "      <th>1</th>\n",
       "      <td>Lucy</td>\n",
       "      <td>21</td>\n",
       "      <td>18</td>\n",
       "      <td>116.666667</td>\n",
       "    </tr>\n",
       "    <tr>\n",
       "      <th>2</th>\n",
       "      <td>John</td>\n",
       "      <td>29</td>\n",
       "      <td>19</td>\n",
       "      <td>152.631579</td>\n",
       "    </tr>\n",
       "    <tr>\n",
       "      <th>3</th>\n",
       "      <td>Tom</td>\n",
       "      <td>32</td>\n",
       "      <td>15</td>\n",
       "      <td>213.333333</td>\n",
       "    </tr>\n",
       "    <tr>\n",
       "      <th>4</th>\n",
       "      <td>Helen</td>\n",
       "      <td>38</td>\n",
       "      <td>10</td>\n",
       "      <td>380.000000</td>\n",
       "    </tr>\n",
       "  </tbody>\n",
       "</table>\n",
       "</div>"
      ],
      "text/plain": [
       "  teacher  price  lessons      profit\n",
       "0    John     44       18  244.444444\n",
       "1    Lucy     21       18  116.666667\n",
       "2    John     29       19  152.631579\n",
       "3     Tom     32       15  213.333333\n",
       "4   Helen     38       10  380.000000"
      ]
     },
     "execution_count": 7,
     "metadata": {},
     "output_type": "execute_result"
    }
   ],
   "source": [
    "df_pd['profit'] = (df_pd['price'] / df_pd['lessons'])*100\n",
    "df_pd"
   ]
  },
  {
   "cell_type": "markdown",
   "metadata": {},
   "source": [
    "**SQRT**"
   ]
  },
  {
   "cell_type": "code",
   "execution_count": 8,
   "metadata": {},
   "outputs": [
    {
     "data": {
      "text/html": [
       "<div><style>\n",
       ".dataframe > thead > tr,\n",
       ".dataframe > tbody > tr {\n",
       "  text-align: right;\n",
       "  white-space: pre-wrap;\n",
       "}\n",
       "</style>\n",
       "<small>shape: (5, 5)</small><table border=\"1\" class=\"dataframe\"><thead><tr><th>teacher</th><th>price</th><th>lessons</th><th>profit</th><th>sqrt</th></tr><tr><td>str</td><td>i32</td><td>i32</td><td>f64</td><td>f64</td></tr></thead><tbody><tr><td>&quot;John&quot;</td><td>29</td><td>10</td><td>290.0</td><td>17.029386</td></tr><tr><td>&quot;Lucy&quot;</td><td>36</td><td>21</td><td>171.428571</td><td>13.093073</td></tr><tr><td>&quot;John&quot;</td><td>22</td><td>17</td><td>129.411765</td><td>11.375929</td></tr><tr><td>&quot;Tom&quot;</td><td>43</td><td>23</td><td>186.956522</td><td>13.673205</td></tr><tr><td>&quot;Helen&quot;</td><td>20</td><td>20</td><td>100.0</td><td>10.0</td></tr></tbody></table></div>"
      ],
      "text/plain": [
       "shape: (5, 5)\n",
       "┌─────────┬───────┬─────────┬────────────┬───────────┐\n",
       "│ teacher ┆ price ┆ lessons ┆ profit     ┆ sqrt      │\n",
       "│ ---     ┆ ---   ┆ ---     ┆ ---        ┆ ---       │\n",
       "│ str     ┆ i32   ┆ i32     ┆ f64        ┆ f64       │\n",
       "╞═════════╪═══════╪═════════╪════════════╪═══════════╡\n",
       "│ John    ┆ 29    ┆ 10      ┆ 290.0      ┆ 17.029386 │\n",
       "│ Lucy    ┆ 36    ┆ 21      ┆ 171.428571 ┆ 13.093073 │\n",
       "│ John    ┆ 22    ┆ 17      ┆ 129.411765 ┆ 11.375929 │\n",
       "│ Tom     ┆ 43    ┆ 23      ┆ 186.956522 ┆ 13.673205 │\n",
       "│ Helen   ┆ 20    ┆ 20      ┆ 100.0      ┆ 10.0      │\n",
       "└─────────┴───────┴─────────┴────────────┴───────────┘"
      ]
     },
     "execution_count": 8,
     "metadata": {},
     "output_type": "execute_result"
    }
   ],
   "source": [
    "df = df.with_columns(\n",
    "                        pl.col('profit').sqrt().alias('sqrt')\n",
    "                    )\n",
    "\n",
    "df.head(5)"
   ]
  },
  {
   "cell_type": "code",
   "execution_count": 9,
   "metadata": {},
   "outputs": [
    {
     "data": {
      "text/html": [
       "<div>\n",
       "<style scoped>\n",
       "    .dataframe tbody tr th:only-of-type {\n",
       "        vertical-align: middle;\n",
       "    }\n",
       "\n",
       "    .dataframe tbody tr th {\n",
       "        vertical-align: top;\n",
       "    }\n",
       "\n",
       "    .dataframe thead th {\n",
       "        text-align: right;\n",
       "    }\n",
       "</style>\n",
       "<table border=\"1\" class=\"dataframe\">\n",
       "  <thead>\n",
       "    <tr style=\"text-align: right;\">\n",
       "      <th></th>\n",
       "      <th>teacher</th>\n",
       "      <th>price</th>\n",
       "      <th>lessons</th>\n",
       "      <th>profit</th>\n",
       "      <th>sqrt</th>\n",
       "    </tr>\n",
       "  </thead>\n",
       "  <tbody>\n",
       "    <tr>\n",
       "      <th>0</th>\n",
       "      <td>John</td>\n",
       "      <td>44</td>\n",
       "      <td>18</td>\n",
       "      <td>244.444444</td>\n",
       "      <td>15.634719</td>\n",
       "    </tr>\n",
       "    <tr>\n",
       "      <th>1</th>\n",
       "      <td>Lucy</td>\n",
       "      <td>21</td>\n",
       "      <td>18</td>\n",
       "      <td>116.666667</td>\n",
       "      <td>10.801234</td>\n",
       "    </tr>\n",
       "    <tr>\n",
       "      <th>2</th>\n",
       "      <td>John</td>\n",
       "      <td>29</td>\n",
       "      <td>19</td>\n",
       "      <td>152.631579</td>\n",
       "      <td>12.354415</td>\n",
       "    </tr>\n",
       "    <tr>\n",
       "      <th>3</th>\n",
       "      <td>Tom</td>\n",
       "      <td>32</td>\n",
       "      <td>15</td>\n",
       "      <td>213.333333</td>\n",
       "      <td>14.605935</td>\n",
       "    </tr>\n",
       "    <tr>\n",
       "      <th>4</th>\n",
       "      <td>Helen</td>\n",
       "      <td>38</td>\n",
       "      <td>10</td>\n",
       "      <td>380.000000</td>\n",
       "      <td>19.493589</td>\n",
       "    </tr>\n",
       "  </tbody>\n",
       "</table>\n",
       "</div>"
      ],
      "text/plain": [
       "  teacher  price  lessons      profit       sqrt\n",
       "0    John     44       18  244.444444  15.634719\n",
       "1    Lucy     21       18  116.666667  10.801234\n",
       "2    John     29       19  152.631579  12.354415\n",
       "3     Tom     32       15  213.333333  14.605935\n",
       "4   Helen     38       10  380.000000  19.493589"
      ]
     },
     "execution_count": 9,
     "metadata": {},
     "output_type": "execute_result"
    }
   ],
   "source": [
    "df_pd['sqrt'] = np.sqrt(df_pd['profit'])\n",
    "df_pd.head(5)"
   ]
  },
  {
   "cell_type": "markdown",
   "metadata": {},
   "source": [
    "# Conditions"
   ]
  },
  {
   "cell_type": "code",
   "execution_count": 10,
   "metadata": {},
   "outputs": [
    {
     "data": {
      "text/html": [
       "<div><style>\n",
       ".dataframe > thead > tr,\n",
       ".dataframe > tbody > tr {\n",
       "  text-align: right;\n",
       "  white-space: pre-wrap;\n",
       "}\n",
       "</style>\n",
       "<small>shape: (5, 6)</small><table border=\"1\" class=\"dataframe\"><thead><tr><th>teacher</th><th>price</th><th>lessons</th><th>profit</th><th>sqrt</th><th>new column</th></tr><tr><td>str</td><td>i32</td><td>i32</td><td>f64</td><td>f64</td><td>i32</td></tr></thead><tbody><tr><td>&quot;John&quot;</td><td>29</td><td>10</td><td>290.0</td><td>17.029386</td><td>1</td></tr><tr><td>&quot;Lucy&quot;</td><td>36</td><td>21</td><td>171.428571</td><td>13.093073</td><td>0</td></tr><tr><td>&quot;John&quot;</td><td>22</td><td>17</td><td>129.411765</td><td>11.375929</td><td>1</td></tr><tr><td>&quot;Tom&quot;</td><td>43</td><td>23</td><td>186.956522</td><td>13.673205</td><td>0</td></tr><tr><td>&quot;Helen&quot;</td><td>20</td><td>20</td><td>100.0</td><td>10.0</td><td>0</td></tr></tbody></table></div>"
      ],
      "text/plain": [
       "shape: (5, 6)\n",
       "┌─────────┬───────┬─────────┬────────────┬───────────┬────────────┐\n",
       "│ teacher ┆ price ┆ lessons ┆ profit     ┆ sqrt      ┆ new column │\n",
       "│ ---     ┆ ---   ┆ ---     ┆ ---        ┆ ---       ┆ ---        │\n",
       "│ str     ┆ i32   ┆ i32     ┆ f64        ┆ f64       ┆ i32        │\n",
       "╞═════════╪═══════╪═════════╪════════════╪═══════════╪════════════╡\n",
       "│ John    ┆ 29    ┆ 10      ┆ 290.0      ┆ 17.029386 ┆ 1          │\n",
       "│ Lucy    ┆ 36    ┆ 21      ┆ 171.428571 ┆ 13.093073 ┆ 0          │\n",
       "│ John    ┆ 22    ┆ 17      ┆ 129.411765 ┆ 11.375929 ┆ 1          │\n",
       "│ Tom     ┆ 43    ┆ 23      ┆ 186.956522 ┆ 13.673205 ┆ 0          │\n",
       "│ Helen   ┆ 20    ┆ 20      ┆ 100.0      ┆ 10.0      ┆ 0          │\n",
       "└─────────┴───────┴─────────┴────────────┴───────────┴────────────┘"
      ]
     },
     "execution_count": 10,
     "metadata": {},
     "output_type": "execute_result"
    }
   ],
   "source": [
    "df_con = df.with_columns(\n",
    "                        pl.when(pl.col('teacher')=='John').then(1).otherwise(0).alias('new column')\n",
    "                        )\n",
    "df_con.head(5)  "
   ]
  },
  {
   "cell_type": "code",
   "execution_count": 11,
   "metadata": {},
   "outputs": [
    {
     "data": {
      "text/html": [
       "<div>\n",
       "<style scoped>\n",
       "    .dataframe tbody tr th:only-of-type {\n",
       "        vertical-align: middle;\n",
       "    }\n",
       "\n",
       "    .dataframe tbody tr th {\n",
       "        vertical-align: top;\n",
       "    }\n",
       "\n",
       "    .dataframe thead th {\n",
       "        text-align: right;\n",
       "    }\n",
       "</style>\n",
       "<table border=\"1\" class=\"dataframe\">\n",
       "  <thead>\n",
       "    <tr style=\"text-align: right;\">\n",
       "      <th></th>\n",
       "      <th>teacher</th>\n",
       "      <th>price</th>\n",
       "      <th>lessons</th>\n",
       "      <th>profit</th>\n",
       "      <th>sqrt</th>\n",
       "      <th>new column</th>\n",
       "    </tr>\n",
       "  </thead>\n",
       "  <tbody>\n",
       "    <tr>\n",
       "      <th>0</th>\n",
       "      <td>John</td>\n",
       "      <td>44</td>\n",
       "      <td>18</td>\n",
       "      <td>244.444444</td>\n",
       "      <td>15.634719</td>\n",
       "      <td>1</td>\n",
       "    </tr>\n",
       "    <tr>\n",
       "      <th>1</th>\n",
       "      <td>Lucy</td>\n",
       "      <td>21</td>\n",
       "      <td>18</td>\n",
       "      <td>116.666667</td>\n",
       "      <td>10.801234</td>\n",
       "      <td>0</td>\n",
       "    </tr>\n",
       "    <tr>\n",
       "      <th>2</th>\n",
       "      <td>John</td>\n",
       "      <td>29</td>\n",
       "      <td>19</td>\n",
       "      <td>152.631579</td>\n",
       "      <td>12.354415</td>\n",
       "      <td>1</td>\n",
       "    </tr>\n",
       "    <tr>\n",
       "      <th>3</th>\n",
       "      <td>Tom</td>\n",
       "      <td>32</td>\n",
       "      <td>15</td>\n",
       "      <td>213.333333</td>\n",
       "      <td>14.605935</td>\n",
       "      <td>0</td>\n",
       "    </tr>\n",
       "    <tr>\n",
       "      <th>4</th>\n",
       "      <td>Helen</td>\n",
       "      <td>38</td>\n",
       "      <td>10</td>\n",
       "      <td>380.000000</td>\n",
       "      <td>19.493589</td>\n",
       "      <td>0</td>\n",
       "    </tr>\n",
       "  </tbody>\n",
       "</table>\n",
       "</div>"
      ],
      "text/plain": [
       "  teacher  price  lessons      profit       sqrt  new column\n",
       "0    John     44       18  244.444444  15.634719           1\n",
       "1    Lucy     21       18  116.666667  10.801234           0\n",
       "2    John     29       19  152.631579  12.354415           1\n",
       "3     Tom     32       15  213.333333  14.605935           0\n",
       "4   Helen     38       10  380.000000  19.493589           0"
      ]
     },
     "execution_count": 11,
     "metadata": {},
     "output_type": "execute_result"
    }
   ],
   "source": [
    "df_pd['new column'] = np.where(df_pd['teacher']=='John', 1, 0)\n",
    "df_pd.head(5)  "
   ]
  },
  {
   "cell_type": "markdown",
   "metadata": {},
   "source": [
    "# Date"
   ]
  },
  {
   "cell_type": "code",
   "execution_count": 12,
   "metadata": {},
   "outputs": [],
   "source": [
    "start = pd.to_datetime('2024-01-01')\n",
    "end = start + pd.DateOffset(months=11)"
   ]
  },
  {
   "cell_type": "code",
   "execution_count": 13,
   "metadata": {},
   "outputs": [
    {
     "data": {
      "text/html": [
       "<div><style>\n",
       ".dataframe > thead > tr,\n",
       ".dataframe > tbody > tr {\n",
       "  text-align: right;\n",
       "  white-space: pre-wrap;\n",
       "}\n",
       "</style>\n",
       "<small>shape: (12, 1)</small><table border=\"1\" class=\"dataframe\"><thead><tr><th>date</th></tr><tr><td>datetime[μs]</td></tr></thead><tbody><tr><td>2024-01-01 00:00:00</td></tr><tr><td>2024-02-01 00:00:00</td></tr><tr><td>2024-03-01 00:00:00</td></tr><tr><td>2024-04-01 00:00:00</td></tr><tr><td>2024-05-01 00:00:00</td></tr><tr><td>&hellip;</td></tr><tr><td>2024-08-01 00:00:00</td></tr><tr><td>2024-09-01 00:00:00</td></tr><tr><td>2024-10-01 00:00:00</td></tr><tr><td>2024-11-01 00:00:00</td></tr><tr><td>2024-12-01 00:00:00</td></tr></tbody></table></div>"
      ],
      "text/plain": [
       "shape: (12, 1)\n",
       "┌─────────────────────┐\n",
       "│ date                │\n",
       "│ ---                 │\n",
       "│ datetime[μs]        │\n",
       "╞═════════════════════╡\n",
       "│ 2024-01-01 00:00:00 │\n",
       "│ 2024-02-01 00:00:00 │\n",
       "│ 2024-03-01 00:00:00 │\n",
       "│ 2024-04-01 00:00:00 │\n",
       "│ 2024-05-01 00:00:00 │\n",
       "│ …                   │\n",
       "│ 2024-08-01 00:00:00 │\n",
       "│ 2024-09-01 00:00:00 │\n",
       "│ 2024-10-01 00:00:00 │\n",
       "│ 2024-11-01 00:00:00 │\n",
       "│ 2024-12-01 00:00:00 │\n",
       "└─────────────────────┘"
      ]
     },
     "execution_count": 13,
     "metadata": {},
     "output_type": "execute_result"
    }
   ],
   "source": [
    "df_new = pl.DataFrame(\n",
    "                        pl.datetime_range(\n",
    "                        start,\n",
    "                        end,\n",
    "                        interval='1mo',\n",
    "                        eager=True,\n",
    "                        ).alias('date')\n",
    "                    )\n",
    "df_new"
   ]
  },
  {
   "cell_type": "code",
   "execution_count": 14,
   "metadata": {},
   "outputs": [
    {
     "data": {
      "text/html": [
       "<div>\n",
       "<style scoped>\n",
       "    .dataframe tbody tr th:only-of-type {\n",
       "        vertical-align: middle;\n",
       "    }\n",
       "\n",
       "    .dataframe tbody tr th {\n",
       "        vertical-align: top;\n",
       "    }\n",
       "\n",
       "    .dataframe thead th {\n",
       "        text-align: right;\n",
       "    }\n",
       "</style>\n",
       "<table border=\"1\" class=\"dataframe\">\n",
       "  <thead>\n",
       "    <tr style=\"text-align: right;\">\n",
       "      <th></th>\n",
       "      <th>date</th>\n",
       "    </tr>\n",
       "  </thead>\n",
       "  <tbody>\n",
       "    <tr>\n",
       "      <th>0</th>\n",
       "      <td>2024-01</td>\n",
       "    </tr>\n",
       "    <tr>\n",
       "      <th>1</th>\n",
       "      <td>2024-02</td>\n",
       "    </tr>\n",
       "    <tr>\n",
       "      <th>2</th>\n",
       "      <td>2024-03</td>\n",
       "    </tr>\n",
       "    <tr>\n",
       "      <th>3</th>\n",
       "      <td>2024-04</td>\n",
       "    </tr>\n",
       "    <tr>\n",
       "      <th>4</th>\n",
       "      <td>2024-05</td>\n",
       "    </tr>\n",
       "    <tr>\n",
       "      <th>5</th>\n",
       "      <td>2024-06</td>\n",
       "    </tr>\n",
       "    <tr>\n",
       "      <th>6</th>\n",
       "      <td>2024-07</td>\n",
       "    </tr>\n",
       "    <tr>\n",
       "      <th>7</th>\n",
       "      <td>2024-08</td>\n",
       "    </tr>\n",
       "    <tr>\n",
       "      <th>8</th>\n",
       "      <td>2024-09</td>\n",
       "    </tr>\n",
       "    <tr>\n",
       "      <th>9</th>\n",
       "      <td>2024-10</td>\n",
       "    </tr>\n",
       "    <tr>\n",
       "      <th>10</th>\n",
       "      <td>2024-11</td>\n",
       "    </tr>\n",
       "    <tr>\n",
       "      <th>11</th>\n",
       "      <td>2024-12</td>\n",
       "    </tr>\n",
       "  </tbody>\n",
       "</table>\n",
       "</div>"
      ],
      "text/plain": [
       "       date\n",
       "0   2024-01\n",
       "1   2024-02\n",
       "2   2024-03\n",
       "3   2024-04\n",
       "4   2024-05\n",
       "5   2024-06\n",
       "6   2024-07\n",
       "7   2024-08\n",
       "8   2024-09\n",
       "9   2024-10\n",
       "10  2024-11\n",
       "11  2024-12"
      ]
     },
     "execution_count": 14,
     "metadata": {},
     "output_type": "execute_result"
    }
   ],
   "source": [
    "date_pd = pd.DataFrame({'date': pd.period_range('2024-01-01', periods=12, freq='M')\n",
    "                        })\n",
    "date_pd"
   ]
  },
  {
   "cell_type": "code",
   "execution_count": 15,
   "metadata": {},
   "outputs": [
    {
     "data": {
      "text/plain": [
       "pandas.core.series.Series"
      ]
     },
     "execution_count": 15,
     "metadata": {},
     "output_type": "execute_result"
    }
   ],
   "source": [
    "type(date_pd['date'])\n"
   ]
  }
 ],
 "metadata": {
  "kernelspec": {
   "display_name": "venv_portfolio-hkOMkeu3",
   "language": "python",
   "name": "python3"
  },
  "language_info": {
   "codemirror_mode": {
    "name": "ipython",
    "version": 3
   },
   "file_extension": ".py",
   "mimetype": "text/x-python",
   "name": "python",
   "nbconvert_exporter": "python",
   "pygments_lexer": "ipython3",
   "version": "3.10.10"
  }
 },
 "nbformat": 4,
 "nbformat_minor": 2
}
