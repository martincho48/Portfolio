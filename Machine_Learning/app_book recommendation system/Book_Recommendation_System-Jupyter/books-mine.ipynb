{
 "cells": [
  {
   "cell_type": "code",
   "execution_count": 74,
   "metadata": {},
   "outputs": [],
   "source": [
    "import pandas as pd\n",
    "import numpy as np\n",
    "import matplotlib.pyplot as plt\n",
    "from books_functions import *"
   ]
  },
  {
   "cell_type": "code",
   "execution_count": 75,
   "metadata": {},
   "outputs": [],
   "source": [
    "#set inputs\n",
    "file_name_ratings='BX-Book-Ratings.csv'\n",
    "file_name_books='BX-Books.csv'\n",
    "file_name_users='BX-Users.csv'"
   ]
  },
  {
   "cell_type": "code",
   "execution_count": 76,
   "metadata": {},
   "outputs": [
    {
     "name": "stdout",
     "output_type": "stream",
     "text": [
      "cp1252\n"
     ]
    }
   ],
   "source": [
    "#get the encoding\n",
    "with open(file_name_users) as file: \n",
    "    enc=file.encoding\n",
    "    print(enc) "
   ]
  },
  {
   "cell_type": "markdown",
   "metadata": {},
   "source": [
    "**Read USER file**"
   ]
  },
  {
   "cell_type": "code",
   "execution_count": 77,
   "metadata": {},
   "outputs": [
    {
     "data": {
      "text/html": [
       "<div>\n",
       "<style scoped>\n",
       "    .dataframe tbody tr th:only-of-type {\n",
       "        vertical-align: middle;\n",
       "    }\n",
       "\n",
       "    .dataframe tbody tr th {\n",
       "        vertical-align: top;\n",
       "    }\n",
       "\n",
       "    .dataframe thead th {\n",
       "        text-align: right;\n",
       "    }\n",
       "</style>\n",
       "<table border=\"1\" class=\"dataframe\">\n",
       "  <thead>\n",
       "    <tr style=\"text-align: right;\">\n",
       "      <th></th>\n",
       "      <th>User-ID</th>\n",
       "      <th>Location</th>\n",
       "      <th>Age</th>\n",
       "    </tr>\n",
       "  </thead>\n",
       "  <tbody>\n",
       "    <tr>\n",
       "      <th>0</th>\n",
       "      <td>1</td>\n",
       "      <td>nyc, new york, usa</td>\n",
       "      <td>NaN</td>\n",
       "    </tr>\n",
       "    <tr>\n",
       "      <th>1</th>\n",
       "      <td>2</td>\n",
       "      <td>stockton, california, usa</td>\n",
       "      <td>18.0</td>\n",
       "    </tr>\n",
       "    <tr>\n",
       "      <th>2</th>\n",
       "      <td>3</td>\n",
       "      <td>moscow, yukon territory, russia</td>\n",
       "      <td>NaN</td>\n",
       "    </tr>\n",
       "    <tr>\n",
       "      <th>3</th>\n",
       "      <td>4</td>\n",
       "      <td>porto, v.n.gaia, portugal</td>\n",
       "      <td>17.0</td>\n",
       "    </tr>\n",
       "    <tr>\n",
       "      <th>4</th>\n",
       "      <td>5</td>\n",
       "      <td>farnborough, hants, united kingdom</td>\n",
       "      <td>NaN</td>\n",
       "    </tr>\n",
       "  </tbody>\n",
       "</table>\n",
       "</div>"
      ],
      "text/plain": [
       "   User-ID                            Location   Age\n",
       "0        1                  nyc, new york, usa   NaN\n",
       "1        2           stockton, california, usa  18.0\n",
       "2        3     moscow, yukon territory, russia   NaN\n",
       "3        4           porto, v.n.gaia, portugal  17.0\n",
       "4        5  farnborough, hants, united kingdom   NaN"
      ]
     },
     "execution_count": 77,
     "metadata": {},
     "output_type": "execute_result"
    }
   ],
   "source": [
    "users = pd.read_csv(file_name_users, encoding=enc, delimiter=';')\n",
    "users.head(5)"
   ]
  },
  {
   "cell_type": "markdown",
   "metadata": {},
   "source": [
    "**Read RATINGS file**"
   ]
  },
  {
   "cell_type": "code",
   "execution_count": 78,
   "metadata": {},
   "outputs": [
    {
     "data": {
      "text/html": [
       "<div>\n",
       "<style scoped>\n",
       "    .dataframe tbody tr th:only-of-type {\n",
       "        vertical-align: middle;\n",
       "    }\n",
       "\n",
       "    .dataframe tbody tr th {\n",
       "        vertical-align: top;\n",
       "    }\n",
       "\n",
       "    .dataframe thead th {\n",
       "        text-align: right;\n",
       "    }\n",
       "</style>\n",
       "<table border=\"1\" class=\"dataframe\">\n",
       "  <thead>\n",
       "    <tr style=\"text-align: right;\">\n",
       "      <th></th>\n",
       "      <th>User-ID</th>\n",
       "      <th>ISBN</th>\n",
       "      <th>Book-Rating</th>\n",
       "    </tr>\n",
       "  </thead>\n",
       "  <tbody>\n",
       "    <tr>\n",
       "      <th>0</th>\n",
       "      <td>276725</td>\n",
       "      <td>034545104X</td>\n",
       "      <td>0</td>\n",
       "    </tr>\n",
       "    <tr>\n",
       "      <th>1</th>\n",
       "      <td>276726</td>\n",
       "      <td>0155061224</td>\n",
       "      <td>5</td>\n",
       "    </tr>\n",
       "    <tr>\n",
       "      <th>2</th>\n",
       "      <td>276727</td>\n",
       "      <td>0446520802</td>\n",
       "      <td>0</td>\n",
       "    </tr>\n",
       "  </tbody>\n",
       "</table>\n",
       "</div>"
      ],
      "text/plain": [
       "   User-ID        ISBN  Book-Rating\n",
       "0   276725  034545104X            0\n",
       "1   276726  0155061224            5\n",
       "2   276727  0446520802            0"
      ]
     },
     "execution_count": 78,
     "metadata": {},
     "output_type": "execute_result"
    }
   ],
   "source": [
    "ratings = pd.read_csv(file_name_ratings, encoding=enc, delimiter=';')\n",
    "ratings.head(3)"
   ]
  },
  {
   "cell_type": "code",
   "execution_count": 79,
   "metadata": {},
   "outputs": [
    {
     "data": {
      "text/plain": [
       "(1149780, 3)"
      ]
     },
     "execution_count": 79,
     "metadata": {},
     "output_type": "execute_result"
    }
   ],
   "source": [
    "#rename columns\n",
    "ratings=ratings.rename(columns={'User-ID': 'user',\n",
    "                                'ISBN': 'isbn',\n",
    "                                'Book-Rating':'rating'})\n",
    "ratings.head(3)\n",
    "\n",
    "\n",
    "ratings.shape\n"
   ]
  },
  {
   "cell_type": "code",
   "execution_count": 80,
   "metadata": {},
   "outputs": [
    {
     "data": {
      "text/plain": [
       "340556"
      ]
     },
     "execution_count": 80,
     "metadata": {},
     "output_type": "execute_result"
    }
   ],
   "source": [
    "titles_count_before=len(ratings.groupby(['isbn']))\n",
    "titles_count_before"
   ]
  },
  {
   "cell_type": "code",
   "execution_count": 81,
   "metadata": {},
   "outputs": [
    {
     "data": {
      "image/png": "[encoded data removed]",
      "text/plain": [
       "<Figure size 640x480 with 1 Axes>"
      ]
     },
     "metadata": {},
     "output_type": "display_data"
    }
   ],
   "source": [
    "#check if there are some ratings out of scale 0-10\n",
    "\n",
    "chart=(ratings['rating'].value_counts()\n",
    "                        .sort_index()      \n",
    ")\n",
    "\n",
    "#Call the function\n",
    "bar_chart(chart, x_label='value of the rate', y_label='amount of ratings')"
   ]
  },
  {
   "cell_type": "code",
   "execution_count": 82,
   "metadata": {},
   "outputs": [
    {
     "data": {
      "text/plain": [
       "414242"
      ]
     },
     "execution_count": 82,
     "metadata": {},
     "output_type": "execute_result"
    }
   ],
   "source": [
    "#filter out those with zero - justify it !!!\n",
    "ratings=ratings.query('rating >4')\n",
    "\n",
    "ratings.shape[0]\n"
   ]
  },
  {
   "cell_type": "code",
   "execution_count": 83,
   "metadata": {},
   "outputs": [
    {
     "name": "stdout",
     "output_type": "stream",
     "text": [
      "179376\n",
      "unique title loss: 47%\n"
     ]
    }
   ],
   "source": [
    "titles_count_after=len(ratings.groupby(['isbn']))\n",
    "print(titles_count_after)\n",
    "\n",
    "delta=(titles_count_before-titles_count_after)\n",
    "\n",
    "loss_percentage=(round(delta/titles_count_before*100))\n",
    "print(f'unique title loss: {loss_percentage}%')"
   ]
  },
  {
   "cell_type": "code",
   "execution_count": 84,
   "metadata": {},
   "outputs": [
    {
     "data": {
      "image/png": "[encoded data removed]",
      "text/plain": [
       "<Figure size 640x480 with 1 Axes>"
      ]
     },
     "metadata": {},
     "output_type": "display_data"
    }
   ],
   "source": [
    "#check if there are some ratings out of scale 0-10\n",
    "\n",
    "chart=(ratings['rating'].value_counts()\n",
    "                        .sort_index()      \n",
    ")\n",
    "\n",
    "#Call the function\n",
    "bar_chart(chart, x_label='value of the rate', y_label='amount of ratings')"
   ]
  },
  {
   "cell_type": "code",
   "execution_count": 85,
   "metadata": {},
   "outputs": [
    {
     "data": {
      "text/html": [
       "<div>\n",
       "<style scoped>\n",
       "    .dataframe tbody tr th:only-of-type {\n",
       "        vertical-align: middle;\n",
       "    }\n",
       "\n",
       "    .dataframe tbody tr th {\n",
       "        vertical-align: top;\n",
       "    }\n",
       "\n",
       "    .dataframe thead th {\n",
       "        text-align: right;\n",
       "    }\n",
       "</style>\n",
       "<table border=\"1\" class=\"dataframe\">\n",
       "  <thead>\n",
       "    <tr style=\"text-align: right;\">\n",
       "      <th></th>\n",
       "      <th>user id</th>\n",
       "      <th>ratings per user</th>\n",
       "    </tr>\n",
       "  </thead>\n",
       "  <tbody>\n",
       "    <tr>\n",
       "      <th>0</th>\n",
       "      <td>11676</td>\n",
       "      <td>7768</td>\n",
       "    </tr>\n",
       "    <tr>\n",
       "      <th>1</th>\n",
       "      <td>98391</td>\n",
       "      <td>5802</td>\n",
       "    </tr>\n",
       "    <tr>\n",
       "      <th>2</th>\n",
       "      <td>153662</td>\n",
       "      <td>1958</td>\n",
       "    </tr>\n",
       "    <tr>\n",
       "      <th>3</th>\n",
       "      <td>189835</td>\n",
       "      <td>1901</td>\n",
       "    </tr>\n",
       "    <tr>\n",
       "      <th>4</th>\n",
       "      <td>23902</td>\n",
       "      <td>1375</td>\n",
       "    </tr>\n",
       "    <tr>\n",
       "      <th>5</th>\n",
       "      <td>171118</td>\n",
       "      <td>1020</td>\n",
       "    </tr>\n",
       "    <tr>\n",
       "      <th>6</th>\n",
       "      <td>235105</td>\n",
       "      <td>1014</td>\n",
       "    </tr>\n",
       "    <tr>\n",
       "      <th>7</th>\n",
       "      <td>76499</td>\n",
       "      <td>994</td>\n",
       "    </tr>\n",
       "    <tr>\n",
       "      <th>8</th>\n",
       "      <td>16795</td>\n",
       "      <td>944</td>\n",
       "    </tr>\n",
       "    <tr>\n",
       "      <th>9</th>\n",
       "      <td>56399</td>\n",
       "      <td>911</td>\n",
       "    </tr>\n",
       "  </tbody>\n",
       "</table>\n",
       "</div>"
      ],
      "text/plain": [
       "   user id  ratings per user\n",
       "0    11676              7768\n",
       "1    98391              5802\n",
       "2   153662              1958\n",
       "3   189835              1901\n",
       "4    23902              1375\n",
       "5   171118              1020\n",
       "6   235105              1014\n",
       "7    76499               994\n",
       "8    16795               944\n",
       "9    56399               911"
      ]
     },
     "execution_count": 85,
     "metadata": {},
     "output_type": "execute_result"
    }
   ],
   "source": [
    "#number of ratings from users\n",
    "ratings_per_user=pd.DataFrame()\n",
    "ratings_per_user['ratings per user'] = ratings['user'].value_counts()\n",
    "\n",
    "\n",
    "#Reset the index and drop it after reseting\n",
    "ratings_per_user=(ratings_per_user.reset_index()\n",
    "             .sort_values('ratings per user',ascending=False)\n",
    ")\n",
    "\n",
    "\n",
    "#get the first column name\n",
    "first_column_name=ratings_per_user.columns[0]\n",
    "\n",
    "ratings_per_user=ratings_per_user.rename(columns=({first_column_name:'user id'}))\n",
    "\n",
    "ratings_per_user.head(10)"
   ]
  },
  {
   "cell_type": "code",
   "execution_count": 86,
   "metadata": {},
   "outputs": [
    {
     "data": {
      "text/html": [
       "<div>\n",
       "<style scoped>\n",
       "    .dataframe tbody tr th:only-of-type {\n",
       "        vertical-align: middle;\n",
       "    }\n",
       "\n",
       "    .dataframe tbody tr th {\n",
       "        vertical-align: top;\n",
       "    }\n",
       "\n",
       "    .dataframe thead th {\n",
       "        text-align: right;\n",
       "    }\n",
       "</style>\n",
       "<table border=\"1\" class=\"dataframe\">\n",
       "  <thead>\n",
       "    <tr style=\"text-align: right;\">\n",
       "      <th></th>\n",
       "      <th>ratings per user</th>\n",
       "      <th>number of users</th>\n",
       "    </tr>\n",
       "  </thead>\n",
       "  <tbody>\n",
       "    <tr>\n",
       "      <th>0</th>\n",
       "      <td>1</td>\n",
       "      <td>43929</td>\n",
       "    </tr>\n",
       "    <tr>\n",
       "      <th>1</th>\n",
       "      <td>2</td>\n",
       "      <td>9588</td>\n",
       "    </tr>\n",
       "    <tr>\n",
       "      <th>2</th>\n",
       "      <td>3</td>\n",
       "      <td>4988</td>\n",
       "    </tr>\n",
       "    <tr>\n",
       "      <th>3</th>\n",
       "      <td>4</td>\n",
       "      <td>3031</td>\n",
       "    </tr>\n",
       "    <tr>\n",
       "      <th>4</th>\n",
       "      <td>5</td>\n",
       "      <td>2150</td>\n",
       "    </tr>\n",
       "  </tbody>\n",
       "</table>\n",
       "</div>"
      ],
      "text/plain": [
       "   ratings per user  number of users\n",
       "0                 1            43929\n",
       "1                 2             9588\n",
       "2                 3             4988\n",
       "3                 4             3031\n",
       "4                 5             2150"
      ]
     },
     "execution_count": 86,
     "metadata": {},
     "output_type": "execute_result"
    }
   ],
   "source": [
    "#this helps to determine how much should I slice the df\n",
    "\n",
    "users_and_ratings=(ratings_per_user.groupby(['ratings per user'])\n",
    "                .agg({'user id':'count'})\n",
    "                .reset_index()\n",
    "                .rename(columns=({'user id':'number of users'}))\n",
    "                )  \n",
    "\n",
    "users_and_ratings.head(5)"
   ]
  },
  {
   "cell_type": "code",
   "execution_count": 87,
   "metadata": {},
   "outputs": [
    {
     "data": {
      "image/png": "[encoded data removed]",
      "text/plain": [
       "<Figure size 640x480 with 1 Axes>"
      ]
     },
     "metadata": {},
     "output_type": "display_data"
    }
   ],
   "source": [
    "#plot the chart\n",
    "curve_chart(df=users_and_ratings, \n",
    "            x_col='ratings per user',\n",
    "            y_col='number of users',\n",
    "            x_lim=30, \n",
    "            y_lim=15000, \n",
    "            x_label='Number of ratings', \n",
    "            y_label='Number of users'\n",
    "            )\n"
   ]
  },
  {
   "cell_type": "code",
   "execution_count": 88,
   "metadata": {},
   "outputs": [],
   "source": [
    "#Filter out the ids of users who did at least 200 ratings\n",
    "#I need users who had more than 1 rating = otherwise there would be no recommendation from them on ther titles\n",
    "\n",
    "ratings_per_user_sliced=ratings_per_user.query('`ratings per user` >10')"
   ]
  },
  {
   "cell_type": "code",
   "execution_count": 89,
   "metadata": {},
   "outputs": [
    {
     "name": "stdout",
     "output_type": "stream",
     "text": [
      "before: 75117\n",
      "after: 6312\n",
      "lost users: 92%\n"
     ]
    }
   ],
   "source": [
    "#how much data will I loose after slice??? - count it!!!\n",
    "users_before=ratings_per_user.shape[0]\n",
    "print(f'before: {users_before}')\n",
    "\n",
    "users_after=ratings_per_user_sliced.shape[0]\n",
    "\n",
    "delta=users_before-users_after\n",
    "\n",
    "print(f'after: {users_after}')\n",
    "print(f'lost users: {round(delta/users_before*100)}%')"
   ]
  },
  {
   "cell_type": "code",
   "execution_count": 90,
   "metadata": {},
   "outputs": [
    {
     "data": {
      "text/plain": [
       "6312"
      ]
     },
     "execution_count": 90,
     "metadata": {},
     "output_type": "execute_result"
    }
   ],
   "source": [
    "#convert filtered data into a list\n",
    "best_users = ratings_per_user_sliced['user id'].tolist()\n",
    "len(best_users)"
   ]
  },
  {
   "cell_type": "code",
   "execution_count": 91,
   "metadata": {},
   "outputs": [
    {
     "data": {
      "text/html": [
       "<div>\n",
       "<style scoped>\n",
       "    .dataframe tbody tr th:only-of-type {\n",
       "        vertical-align: middle;\n",
       "    }\n",
       "\n",
       "    .dataframe tbody tr th {\n",
       "        vertical-align: top;\n",
       "    }\n",
       "\n",
       "    .dataframe thead th {\n",
       "        text-align: right;\n",
       "    }\n",
       "</style>\n",
       "<table border=\"1\" class=\"dataframe\">\n",
       "  <thead>\n",
       "    <tr style=\"text-align: right;\">\n",
       "      <th></th>\n",
       "      <th>best users</th>\n",
       "      <th>isbn</th>\n",
       "      <th>rating</th>\n",
       "    </tr>\n",
       "  </thead>\n",
       "  <tbody>\n",
       "    <tr>\n",
       "      <th>0</th>\n",
       "      <td>276822</td>\n",
       "      <td>0060096195</td>\n",
       "      <td>10</td>\n",
       "    </tr>\n",
       "    <tr>\n",
       "      <th>1</th>\n",
       "      <td>276822</td>\n",
       "      <td>0141310340</td>\n",
       "      <td>9</td>\n",
       "    </tr>\n",
       "  </tbody>\n",
       "</table>\n",
       "</div>"
      ],
      "text/plain": [
       "   best users        isbn  rating\n",
       "0      276822  0060096195      10\n",
       "1      276822  0141310340       9"
      ]
     },
     "execution_count": 91,
     "metadata": {},
     "output_type": "execute_result"
    }
   ],
   "source": [
    "#choose just the ids from the list=those who have > 1 rating\n",
    "ratings_filter=(ratings.query('user in @best_users')\n",
    "       .reset_index(drop=True)\n",
    "       .rename(columns={'user':'best users'})\n",
    ")\n",
    "\n",
    "ratings_filter.head(2)"
   ]
  },
  {
   "cell_type": "markdown",
   "metadata": {},
   "source": [
    "**Read BOOKS file**"
   ]
  },
  {
   "cell_type": "code",
   "execution_count": 92,
   "metadata": {},
   "outputs": [
    {
     "name": "stderr",
     "output_type": "stream",
     "text": [
      "C:\\Users\\Martin\\AppData\\Local\\Temp\\ipykernel_12624\\961455818.py:1: DtypeWarning: Columns (3) have mixed types. Specify dtype option on import or set low_memory=False.\n",
      "  books = pd.read_csv(file_name_books, encoding=enc, delimiter=';', on_bad_lines='skip')\n"
     ]
    },
    {
     "data": {
      "text/html": [
       "<div>\n",
       "<style scoped>\n",
       "    .dataframe tbody tr th:only-of-type {\n",
       "        vertical-align: middle;\n",
       "    }\n",
       "\n",
       "    .dataframe tbody tr th {\n",
       "        vertical-align: top;\n",
       "    }\n",
       "\n",
       "    .dataframe thead th {\n",
       "        text-align: right;\n",
       "    }\n",
       "</style>\n",
       "<table border=\"1\" class=\"dataframe\">\n",
       "  <thead>\n",
       "    <tr style=\"text-align: right;\">\n",
       "      <th></th>\n",
       "      <th>isbn</th>\n",
       "      <th>title</th>\n",
       "      <th>author</th>\n",
       "      <th>Image-URL-M</th>\n",
       "    </tr>\n",
       "  </thead>\n",
       "  <tbody>\n",
       "    <tr>\n",
       "      <th>0</th>\n",
       "      <td>0195153448</td>\n",
       "      <td>Classical Mythology</td>\n",
       "      <td>Mark P. O. Morford</td>\n",
       "      <td>http://images.amazon.com/images/P/0195153448.0...</td>\n",
       "    </tr>\n",
       "    <tr>\n",
       "      <th>1</th>\n",
       "      <td>0002005018</td>\n",
       "      <td>Clara Callan</td>\n",
       "      <td>Richard Bruce Wright</td>\n",
       "      <td>http://images.amazon.com/images/P/0002005018.0...</td>\n",
       "    </tr>\n",
       "    <tr>\n",
       "      <th>2</th>\n",
       "      <td>0060973129</td>\n",
       "      <td>Decision in Normandy</td>\n",
       "      <td>Carlo D'Este</td>\n",
       "      <td>http://images.amazon.com/images/P/0060973129.0...</td>\n",
       "    </tr>\n",
       "  </tbody>\n",
       "</table>\n",
       "</div>"
      ],
      "text/plain": [
       "         isbn                 title                author  \\\n",
       "0  0195153448   Classical Mythology    Mark P. O. Morford   \n",
       "1  0002005018          Clara Callan  Richard Bruce Wright   \n",
       "2  0060973129  Decision in Normandy          Carlo D'Este   \n",
       "\n",
       "                                         Image-URL-M  \n",
       "0  http://images.amazon.com/images/P/0195153448.0...  \n",
       "1  http://images.amazon.com/images/P/0002005018.0...  \n",
       "2  http://images.amazon.com/images/P/0060973129.0...  "
      ]
     },
     "execution_count": 92,
     "metadata": {},
     "output_type": "execute_result"
    }
   ],
   "source": [
    "books = pd.read_csv(file_name_books, encoding=enc, delimiter=';', on_bad_lines='skip')\n",
    "\n",
    "#drop and rename columns\n",
    "books=(books.drop(['Image-URL-S','Image-URL-L', 'Year-Of-Publication', 'Publisher'], axis=1)\n",
    "       .rename(columns={'ISBN':'isbn',\n",
    "                     'Book-Title':'title',\n",
    "                     'Book-Author':'author'})       \n",
    ")\n",
    "\n",
    "books.head(3)"
   ]
  },
  {
   "cell_type": "code",
   "execution_count": 93,
   "metadata": {},
   "outputs": [
    {
     "data": {
      "text/plain": [
       "(271360, 4)"
      ]
     },
     "execution_count": 93,
     "metadata": {},
     "output_type": "execute_result"
    }
   ],
   "source": [
    "books.shape"
   ]
  },
  {
   "cell_type": "markdown",
   "metadata": {},
   "source": [
    "**Clean from weird symbols**"
   ]
  },
  {
   "cell_type": "code",
   "execution_count": 94,
   "metadata": {},
   "outputs": [
    {
     "data": {
      "text/html": [
       "<div>\n",
       "<style scoped>\n",
       "    .dataframe tbody tr th:only-of-type {\n",
       "        vertical-align: middle;\n",
       "    }\n",
       "\n",
       "    .dataframe tbody tr th {\n",
       "        vertical-align: top;\n",
       "    }\n",
       "\n",
       "    .dataframe thead th {\n",
       "        text-align: right;\n",
       "    }\n",
       "</style>\n",
       "<table border=\"1\" class=\"dataframe\">\n",
       "  <thead>\n",
       "    <tr style=\"text-align: right;\">\n",
       "      <th></th>\n",
       "      <th>isbn</th>\n",
       "      <th>title</th>\n",
       "      <th>author</th>\n",
       "      <th>Image-URL-M</th>\n",
       "    </tr>\n",
       "  </thead>\n",
       "  <tbody>\n",
       "    <tr>\n",
       "      <th>86876</th>\n",
       "      <td>3423127945</td>\n",
       "      <td>KÃ?Â¶niginnen.</td>\n",
       "      <td>Elke Naters</td>\n",
       "      <td>http://images.amazon.com/images/P/3423127945.0...</td>\n",
       "    </tr>\n",
       "    <tr>\n",
       "      <th>37722</th>\n",
       "      <td>3453151771</td>\n",
       "      <td>Das MÃ?Â¤dchen aus der Pentecost Alley.</td>\n",
       "      <td>Anne Perry</td>\n",
       "      <td>http://images.amazon.com/images/P/3453151771.0...</td>\n",
       "    </tr>\n",
       "    <tr>\n",
       "      <th>163447</th>\n",
       "      <td>3442357918</td>\n",
       "      <td>Die VorgÃ?Â¤ngerin.</td>\n",
       "      <td>Claudia Keller</td>\n",
       "      <td>http://images.amazon.com/images/P/3442357918.0...</td>\n",
       "    </tr>\n",
       "    <tr>\n",
       "      <th>106835</th>\n",
       "      <td>2253139599</td>\n",
       "      <td>Les Aventures de Sherlock Holmes : Un scandale...</td>\n",
       "      <td>Sir Arthur Conan Doyle</td>\n",
       "      <td>http://images.amazon.com/images/P/2253139599.0...</td>\n",
       "    </tr>\n",
       "    <tr>\n",
       "      <th>225640</th>\n",
       "      <td>3492207790</td>\n",
       "      <td>Das groÃ?Â?e Heft.</td>\n",
       "      <td>Agota Kristof</td>\n",
       "      <td>http://images.amazon.com/images/P/3492207790.0...</td>\n",
       "    </tr>\n",
       "  </tbody>\n",
       "</table>\n",
       "</div>"
      ],
      "text/plain": [
       "              isbn                                              title  \\\n",
       "86876   3423127945                                     KÃ?Â¶niginnen.   \n",
       "37722   3453151771            Das MÃ?Â¤dchen aus der Pentecost Alley.   \n",
       "163447  3442357918                                Die VorgÃ?Â¤ngerin.   \n",
       "106835  2253139599  Les Aventures de Sherlock Holmes : Un scandale...   \n",
       "225640  3492207790                                 Das groÃ?Â?e Heft.   \n",
       "\n",
       "                        author  \\\n",
       "86876              Elke Naters   \n",
       "37722               Anne Perry   \n",
       "163447          Claudia Keller   \n",
       "106835  Sir Arthur Conan Doyle   \n",
       "225640           Agota Kristof   \n",
       "\n",
       "                                              Image-URL-M  \n",
       "86876   http://images.amazon.com/images/P/3423127945.0...  \n",
       "37722   http://images.amazon.com/images/P/3453151771.0...  \n",
       "163447  http://images.amazon.com/images/P/3442357918.0...  \n",
       "106835  http://images.amazon.com/images/P/2253139599.0...  \n",
       "225640  http://images.amazon.com/images/P/3492207790.0...  "
      ]
     },
     "execution_count": 94,
     "metadata": {},
     "output_type": "execute_result"
    }
   ],
   "source": [
    "#check for special symbols in titles\n",
    "\n",
    "import re\n",
    "\n",
    "# Define a regex pattern to match titles with weird symbols\n",
    "weird_symbols = r'[ÃÂª¶¤@©¿¡µ]' #,Â,¤\n",
    "\n",
    "\n",
    "# Use query function\n",
    "titles_with_weird_symbols = books.query('title.str.contains(@weird_symbols)')\n",
    "\n",
    "# Display the titles with weird symbols\n",
    "titles_with_weird_symbols.sample(5)"
   ]
  },
  {
   "cell_type": "code",
   "execution_count": 95,
   "metadata": {},
   "outputs": [
    {
     "name": "stdout",
     "output_type": "stream",
     "text": [
      "6662\n"
     ]
    }
   ],
   "source": [
    "#check how many\n",
    "print(len(titles_with_weird_symbols))"
   ]
  },
  {
   "cell_type": "code",
   "execution_count": 96,
   "metadata": {},
   "outputs": [
    {
     "data": {
      "text/plain": [
       "(264698, 4)"
      ]
     },
     "execution_count": 96,
     "metadata": {},
     "output_type": "execute_result"
    }
   ],
   "source": [
    "#cut off the weird titles\n",
    "list_weird_titles=list(titles_with_weird_symbols['title'])\n",
    "\n",
    "\n",
    "#filter out titles with weird symbols based on the list\n",
    "books=(books.query('title not in @list_weird_titles')\n",
    "       .reset_index(drop=True)\n",
    "       #.rename(columns={'user':'best users'})\n",
    ")\n",
    "\n",
    "books.shape"
   ]
  },
  {
   "cell_type": "markdown",
   "metadata": {},
   "source": [
    "**Add to the most active users extra columns**"
   ]
  },
  {
   "cell_type": "code",
   "execution_count": 97,
   "metadata": {},
   "outputs": [
    {
     "data": {
      "text/html": [
       "<div>\n",
       "<style scoped>\n",
       "    .dataframe tbody tr th:only-of-type {\n",
       "        vertical-align: middle;\n",
       "    }\n",
       "\n",
       "    .dataframe tbody tr th {\n",
       "        vertical-align: top;\n",
       "    }\n",
       "\n",
       "    .dataframe thead th {\n",
       "        text-align: right;\n",
       "    }\n",
       "</style>\n",
       "<table border=\"1\" class=\"dataframe\">\n",
       "  <thead>\n",
       "    <tr style=\"text-align: right;\">\n",
       "      <th></th>\n",
       "      <th>best users</th>\n",
       "      <th>isbn</th>\n",
       "      <th>rating</th>\n",
       "    </tr>\n",
       "  </thead>\n",
       "  <tbody>\n",
       "    <tr>\n",
       "      <th>0</th>\n",
       "      <td>276822</td>\n",
       "      <td>0060096195</td>\n",
       "      <td>10</td>\n",
       "    </tr>\n",
       "    <tr>\n",
       "      <th>1</th>\n",
       "      <td>276822</td>\n",
       "      <td>0141310340</td>\n",
       "      <td>9</td>\n",
       "    </tr>\n",
       "  </tbody>\n",
       "</table>\n",
       "</div>"
      ],
      "text/plain": [
       "   best users        isbn  rating\n",
       "0      276822  0060096195      10\n",
       "1      276822  0141310340       9"
      ]
     },
     "execution_count": 97,
     "metadata": {},
     "output_type": "execute_result"
    }
   ],
   "source": [
    "#reminder previous df\n",
    "ratings_filter.head(2)"
   ]
  },
  {
   "cell_type": "code",
   "execution_count": 98,
   "metadata": {},
   "outputs": [
    {
     "data": {
      "text/html": [
       "<div>\n",
       "<style scoped>\n",
       "    .dataframe tbody tr th:only-of-type {\n",
       "        vertical-align: middle;\n",
       "    }\n",
       "\n",
       "    .dataframe tbody tr th {\n",
       "        vertical-align: top;\n",
       "    }\n",
       "\n",
       "    .dataframe thead th {\n",
       "        text-align: right;\n",
       "    }\n",
       "</style>\n",
       "<table border=\"1\" class=\"dataframe\">\n",
       "  <thead>\n",
       "    <tr style=\"text-align: right;\">\n",
       "      <th></th>\n",
       "      <th>best users</th>\n",
       "      <th>isbn</th>\n",
       "      <th>rating</th>\n",
       "      <th>title</th>\n",
       "      <th>author</th>\n",
       "      <th>Image-URL-M</th>\n",
       "    </tr>\n",
       "  </thead>\n",
       "  <tbody>\n",
       "    <tr>\n",
       "      <th>214436</th>\n",
       "      <td>256264</td>\n",
       "      <td>1580050247</td>\n",
       "      <td>7</td>\n",
       "      <td>Night Shade: Gothic Tales by Women</td>\n",
       "      <td>Victoria A. Brownworth</td>\n",
       "      <td>http://images.amazon.com/images/P/1580050247.0...</td>\n",
       "    </tr>\n",
       "    <tr>\n",
       "      <th>88169</th>\n",
       "      <td>258152</td>\n",
       "      <td>0553286587</td>\n",
       "      <td>7</td>\n",
       "      <td>Rama II: The Sequel to Rendezvous with Rama</td>\n",
       "      <td>Arthur C. Clarke</td>\n",
       "      <td>http://images.amazon.com/images/P/0553286587.0...</td>\n",
       "    </tr>\n",
       "    <tr>\n",
       "      <th>241407</th>\n",
       "      <td>262998</td>\n",
       "      <td>0415304393</td>\n",
       "      <td>8</td>\n",
       "      <td>The Spirit in Man, Art and Literature (Routled...</td>\n",
       "      <td>C.G. Jung</td>\n",
       "      <td>http://images.amazon.com/images/P/0415304393.0...</td>\n",
       "    </tr>\n",
       "  </tbody>\n",
       "</table>\n",
       "</div>"
      ],
      "text/plain": [
       "        best users        isbn  rating  \\\n",
       "214436      256264  1580050247       7   \n",
       "88169       258152  0553286587       7   \n",
       "241407      262998  0415304393       8   \n",
       "\n",
       "                                                    title  \\\n",
       "214436                 Night Shade: Gothic Tales by Women   \n",
       "88169         Rama II: The Sequel to Rendezvous with Rama   \n",
       "241407  The Spirit in Man, Art and Literature (Routled...   \n",
       "\n",
       "                        author  \\\n",
       "214436  Victoria A. Brownworth   \n",
       "88169         Arthur C. Clarke   \n",
       "241407               C.G. Jung   \n",
       "\n",
       "                                              Image-URL-M  \n",
       "214436  http://images.amazon.com/images/P/1580050247.0...  \n",
       "88169   http://images.amazon.com/images/P/0553286587.0...  \n",
       "241407  http://images.amazon.com/images/P/0415304393.0...  "
      ]
     },
     "execution_count": 98,
     "metadata": {},
     "output_type": "execute_result"
    }
   ],
   "source": [
    "#merge 2 dataframes 'ratings-filtered' and 'books'\n",
    "ratings_filter_merge = ratings_filter.merge(books, on='isbn')\n",
    "ratings_filter_merge.sample(3)"
   ]
  },
  {
   "cell_type": "code",
   "execution_count": 99,
   "metadata": {},
   "outputs": [
    {
     "name": "stdout",
     "output_type": "stream",
     "text": [
      "274573 244608 29965\n",
      "percentage loss: 11%\n"
     ]
    }
   ],
   "source": [
    "#check the loses\n",
    "before=ratings_filter.shape[0]\n",
    "after=ratings_filter_merge.shape[0]\n",
    "delta=before-after\n",
    "\n",
    "print(before, after, delta)\n",
    "\n",
    "print(f'percentage loss: {round(delta/before*100)}%')"
   ]
  },
  {
   "cell_type": "markdown",
   "metadata": {},
   "source": [
    "**Count how many times was book rated and add this column in previous df**"
   ]
  },
  {
   "cell_type": "code",
   "execution_count": 100,
   "metadata": {},
   "outputs": [
    {
     "data": {
      "text/html": [
       "<div>\n",
       "<style scoped>\n",
       "    .dataframe tbody tr th:only-of-type {\n",
       "        vertical-align: middle;\n",
       "    }\n",
       "\n",
       "    .dataframe tbody tr th {\n",
       "        vertical-align: top;\n",
       "    }\n",
       "\n",
       "    .dataframe thead th {\n",
       "        text-align: right;\n",
       "    }\n",
       "</style>\n",
       "<table border=\"1\" class=\"dataframe\">\n",
       "  <thead>\n",
       "    <tr style=\"text-align: right;\">\n",
       "      <th></th>\n",
       "      <th>isbn</th>\n",
       "      <th>title-number of ratings</th>\n",
       "    </tr>\n",
       "  </thead>\n",
       "  <tbody>\n",
       "    <tr>\n",
       "      <th>0</th>\n",
       "      <td>0316666343</td>\n",
       "      <td>312</td>\n",
       "    </tr>\n",
       "    <tr>\n",
       "      <th>1</th>\n",
       "      <td>0385504209</td>\n",
       "      <td>262</td>\n",
       "    </tr>\n",
       "    <tr>\n",
       "      <th>2</th>\n",
       "      <td>0312195516</td>\n",
       "      <td>178</td>\n",
       "    </tr>\n",
       "    <tr>\n",
       "      <th>3</th>\n",
       "      <td>059035342X</td>\n",
       "      <td>175</td>\n",
       "    </tr>\n",
       "    <tr>\n",
       "      <th>4</th>\n",
       "      <td>0142001740</td>\n",
       "      <td>160</td>\n",
       "    </tr>\n",
       "    <tr>\n",
       "      <th>...</th>\n",
       "      <td>...</td>\n",
       "      <td>...</td>\n",
       "    </tr>\n",
       "    <tr>\n",
       "      <th>114721</th>\n",
       "      <td>0460872974</td>\n",
       "      <td>1</td>\n",
       "    </tr>\n",
       "    <tr>\n",
       "      <th>114722</th>\n",
       "      <td>0460872931</td>\n",
       "      <td>1</td>\n",
       "    </tr>\n",
       "    <tr>\n",
       "      <th>114723</th>\n",
       "      <td>B000234N3A</td>\n",
       "      <td>1</td>\n",
       "    </tr>\n",
       "    <tr>\n",
       "      <th>114724</th>\n",
       "      <td>9627982032</td>\n",
       "      <td>0</td>\n",
       "    </tr>\n",
       "    <tr>\n",
       "      <th>114725</th>\n",
       "      <td>0751352497</td>\n",
       "      <td>0</td>\n",
       "    </tr>\n",
       "  </tbody>\n",
       "</table>\n",
       "<p>114726 rows × 2 columns</p>\n",
       "</div>"
      ],
      "text/plain": [
       "              isbn  title-number of ratings\n",
       "0       0316666343                      312\n",
       "1       0385504209                      262\n",
       "2       0312195516                      178\n",
       "3       059035342X                      175\n",
       "4       0142001740                      160\n",
       "...            ...                      ...\n",
       "114721  0460872974                        1\n",
       "114722  0460872931                        1\n",
       "114723  B000234N3A                        1\n",
       "114724  9627982032                        0\n",
       "114725  0751352497                        0\n",
       "\n",
       "[114726 rows x 2 columns]"
      ]
     },
     "execution_count": 100,
     "metadata": {},
     "output_type": "execute_result"
    }
   ],
   "source": [
    "book_rating_count = (ratings_filter_merge.groupby(['isbn'])\n",
    "                    .agg({'author': 'count'})\n",
    "                    .reset_index()\n",
    "                    .sort_values('author', ascending=False)                 \n",
    ")\n",
    "\n",
    "book_rating_count = book_rating_count.reset_index(drop=True)\n",
    "\n",
    "#rename the column\n",
    "book_rating_count.rename(columns = {'author':'title-number of ratings'}, inplace=True)\n",
    "book_rating_count"
   ]
  },
  {
   "cell_type": "code",
   "execution_count": 101,
   "metadata": {},
   "outputs": [
    {
     "data": {
      "text/html": [
       "<div>\n",
       "<style scoped>\n",
       "    .dataframe tbody tr th:only-of-type {\n",
       "        vertical-align: middle;\n",
       "    }\n",
       "\n",
       "    .dataframe tbody tr th {\n",
       "        vertical-align: top;\n",
       "    }\n",
       "\n",
       "    .dataframe thead th {\n",
       "        text-align: right;\n",
       "    }\n",
       "</style>\n",
       "<table border=\"1\" class=\"dataframe\">\n",
       "  <thead>\n",
       "    <tr style=\"text-align: right;\">\n",
       "      <th></th>\n",
       "      <th>title-number of ratings</th>\n",
       "      <th>number of books with the same number of ratings</th>\n",
       "    </tr>\n",
       "  </thead>\n",
       "  <tbody>\n",
       "    <tr>\n",
       "      <th>122</th>\n",
       "      <td>312</td>\n",
       "      <td>1</td>\n",
       "    </tr>\n",
       "    <tr>\n",
       "      <th>121</th>\n",
       "      <td>262</td>\n",
       "      <td>1</td>\n",
       "    </tr>\n",
       "    <tr>\n",
       "      <th>120</th>\n",
       "      <td>178</td>\n",
       "      <td>1</td>\n",
       "    </tr>\n",
       "    <tr>\n",
       "      <th>119</th>\n",
       "      <td>175</td>\n",
       "      <td>1</td>\n",
       "    </tr>\n",
       "    <tr>\n",
       "      <th>118</th>\n",
       "      <td>160</td>\n",
       "      <td>1</td>\n",
       "    </tr>\n",
       "    <tr>\n",
       "      <th>...</th>\n",
       "      <td>...</td>\n",
       "      <td>...</td>\n",
       "    </tr>\n",
       "    <tr>\n",
       "      <th>4</th>\n",
       "      <td>4</td>\n",
       "      <td>3373</td>\n",
       "    </tr>\n",
       "    <tr>\n",
       "      <th>3</th>\n",
       "      <td>3</td>\n",
       "      <td>6323</td>\n",
       "    </tr>\n",
       "    <tr>\n",
       "      <th>2</th>\n",
       "      <td>2</td>\n",
       "      <td>16335</td>\n",
       "    </tr>\n",
       "    <tr>\n",
       "      <th>1</th>\n",
       "      <td>1</td>\n",
       "      <td>80338</td>\n",
       "    </tr>\n",
       "    <tr>\n",
       "      <th>0</th>\n",
       "      <td>0</td>\n",
       "      <td>2</td>\n",
       "    </tr>\n",
       "  </tbody>\n",
       "</table>\n",
       "<p>123 rows × 2 columns</p>\n",
       "</div>"
      ],
      "text/plain": [
       "     title-number of ratings  number of books with the same number of ratings\n",
       "122                      312                                                1\n",
       "121                      262                                                1\n",
       "120                      178                                                1\n",
       "119                      175                                                1\n",
       "118                      160                                                1\n",
       "..                       ...                                              ...\n",
       "4                          4                                             3373\n",
       "3                          3                                             6323\n",
       "2                          2                                            16335\n",
       "1                          1                                            80338\n",
       "0                          0                                                2\n",
       "\n",
       "[123 rows x 2 columns]"
      ]
     },
     "execution_count": 101,
     "metadata": {},
     "output_type": "execute_result"
    }
   ],
   "source": [
    "#count how many isbns have same amount of ratings\n",
    "isbn_same_number_rating = (book_rating_count.groupby(['title-number of ratings'])\n",
    "                    .agg({'isbn': 'count'})\n",
    "                    .reset_index()\n",
    "                    .sort_values('title-number of ratings', ascending=False)\n",
    "                    .rename(columns=({'isbn':'number of books with the same number of ratings'})) \n",
    ")\n",
    "\n",
    "isbn_same_number_rating"
   ]
  },
  {
   "cell_type": "code",
   "execution_count": 102,
   "metadata": {},
   "outputs": [
    {
     "data": {
      "text/html": [
       "<div>\n",
       "<style scoped>\n",
       "    .dataframe tbody tr th:only-of-type {\n",
       "        vertical-align: middle;\n",
       "    }\n",
       "\n",
       "    .dataframe tbody tr th {\n",
       "        vertical-align: top;\n",
       "    }\n",
       "\n",
       "    .dataframe thead th {\n",
       "        text-align: right;\n",
       "    }\n",
       "</style>\n",
       "<table border=\"1\" class=\"dataframe\">\n",
       "  <thead>\n",
       "    <tr style=\"text-align: right;\">\n",
       "      <th></th>\n",
       "      <th>best users</th>\n",
       "      <th>isbn</th>\n",
       "      <th>rating</th>\n",
       "      <th>title</th>\n",
       "      <th>author</th>\n",
       "      <th>Image-URL-M</th>\n",
       "      <th>title-number of ratings</th>\n",
       "    </tr>\n",
       "  </thead>\n",
       "  <tbody>\n",
       "    <tr>\n",
       "      <th>92871</th>\n",
       "      <td>153662</td>\n",
       "      <td>0671778633</td>\n",
       "      <td>9</td>\n",
       "      <td>Bewitching</td>\n",
       "      <td>Jill Barnett</td>\n",
       "      <td>http://images.amazon.com/images/P/0671778633.0...</td>\n",
       "      <td>6</td>\n",
       "    </tr>\n",
       "    <tr>\n",
       "      <th>55524</th>\n",
       "      <td>10590</td>\n",
       "      <td>0553563084</td>\n",
       "      <td>8</td>\n",
       "      <td>College Girls (Sweet Valley University (Paperb...</td>\n",
       "      <td>FRANCINE PASCAL</td>\n",
       "      <td>http://images.amazon.com/images/P/0553563084.0...</td>\n",
       "      <td>1</td>\n",
       "    </tr>\n",
       "    <tr>\n",
       "      <th>139558</th>\n",
       "      <td>55892</td>\n",
       "      <td>1578151929</td>\n",
       "      <td>7</td>\n",
       "      <td>The Cereal Murders (Culinary Mystery)</td>\n",
       "      <td>Diane Mott Davidson</td>\n",
       "      <td>http://images.amazon.com/images/P/1578151929.0...</td>\n",
       "      <td>2</td>\n",
       "    </tr>\n",
       "    <tr>\n",
       "      <th>41011</th>\n",
       "      <td>264657</td>\n",
       "      <td>0375706771</td>\n",
       "      <td>8</td>\n",
       "      <td>Midwives: A Novel</td>\n",
       "      <td>Chris Bohjalian</td>\n",
       "      <td>http://images.amazon.com/images/P/0375706771.0...</td>\n",
       "      <td>86</td>\n",
       "    </tr>\n",
       "    <tr>\n",
       "      <th>204455</th>\n",
       "      <td>154345</td>\n",
       "      <td>0140245316</td>\n",
       "      <td>5</td>\n",
       "      <td>The Penguin Book of Erotic Stories by Women</td>\n",
       "      <td>Richard Glyn Jones</td>\n",
       "      <td>http://images.amazon.com/images/P/0140245316.0...</td>\n",
       "      <td>1</td>\n",
       "    </tr>\n",
       "  </tbody>\n",
       "</table>\n",
       "</div>"
      ],
      "text/plain": [
       "        best users        isbn  rating  \\\n",
       "92871       153662  0671778633       9   \n",
       "55524        10590  0553563084       8   \n",
       "139558       55892  1578151929       7   \n",
       "41011       264657  0375706771       8   \n",
       "204455      154345  0140245316       5   \n",
       "\n",
       "                                                    title  \\\n",
       "92871                                          Bewitching   \n",
       "55524   College Girls (Sweet Valley University (Paperb...   \n",
       "139558              The Cereal Murders (Culinary Mystery)   \n",
       "41011                                   Midwives: A Novel   \n",
       "204455        The Penguin Book of Erotic Stories by Women   \n",
       "\n",
       "                     author  \\\n",
       "92871          Jill Barnett   \n",
       "55524       FRANCINE PASCAL   \n",
       "139558  Diane Mott Davidson   \n",
       "41011       Chris Bohjalian   \n",
       "204455   Richard Glyn Jones   \n",
       "\n",
       "                                              Image-URL-M  \\\n",
       "92871   http://images.amazon.com/images/P/0671778633.0...   \n",
       "55524   http://images.amazon.com/images/P/0553563084.0...   \n",
       "139558  http://images.amazon.com/images/P/1578151929.0...   \n",
       "41011   http://images.amazon.com/images/P/0375706771.0...   \n",
       "204455  http://images.amazon.com/images/P/0140245316.0...   \n",
       "\n",
       "        title-number of ratings  \n",
       "92871                         6  \n",
       "55524                         1  \n",
       "139558                        2  \n",
       "41011                        86  \n",
       "204455                        1  "
      ]
     },
     "execution_count": 102,
     "metadata": {},
     "output_type": "execute_result"
    }
   ],
   "source": [
    "#Add column Book-Rating-Count into main df - using merge\n",
    "final_df = ratings_filter_merge.merge(book_rating_count, on='isbn')\n",
    "final_df.sample(5)"
   ]
  },
  {
   "cell_type": "markdown",
   "metadata": {},
   "source": [
    "**Filter out based on number of rates**"
   ]
  },
  {
   "cell_type": "code",
   "execution_count": 103,
   "metadata": {},
   "outputs": [
    {
     "data": {
      "image/png": "[encoded data removed]",
      "text/plain": [
       "<Figure size 640x480 with 1 Axes>"
      ]
     },
     "metadata": {},
     "output_type": "display_data"
    }
   ],
   "source": [
    "#plot the chart\n",
    "curve_chart(df=isbn_same_number_rating, \n",
    "            x_col='title-number of ratings',\n",
    "            y_col='number of books with the same number of ratings',\n",
    "            x_lim=30, \n",
    "            y_lim=6000, \n",
    "            x_label='Number of ratings', \n",
    "            y_label='Number of titles'\n",
    ")"
   ]
  },
  {
   "cell_type": "code",
   "execution_count": 104,
   "metadata": {},
   "outputs": [
    {
     "data": {
      "text/html": [
       "<div>\n",
       "<style scoped>\n",
       "    .dataframe tbody tr th:only-of-type {\n",
       "        vertical-align: middle;\n",
       "    }\n",
       "\n",
       "    .dataframe tbody tr th {\n",
       "        vertical-align: top;\n",
       "    }\n",
       "\n",
       "    .dataframe thead th {\n",
       "        text-align: right;\n",
       "    }\n",
       "</style>\n",
       "<table border=\"1\" class=\"dataframe\">\n",
       "  <thead>\n",
       "    <tr style=\"text-align: right;\">\n",
       "      <th></th>\n",
       "      <th>best users</th>\n",
       "      <th>isbn</th>\n",
       "      <th>rating</th>\n",
       "      <th>title</th>\n",
       "      <th>author</th>\n",
       "      <th>Image-URL-M</th>\n",
       "      <th>title-number of ratings</th>\n",
       "    </tr>\n",
       "  </thead>\n",
       "  <tbody>\n",
       "    <tr>\n",
       "      <th>187285</th>\n",
       "      <td>184513</td>\n",
       "      <td>0312958129</td>\n",
       "      <td>7</td>\n",
       "      <td>Coming Home</td>\n",
       "      <td>Rosamunde Pilcher</td>\n",
       "      <td>http://images.amazon.com/images/P/0312958129.0...</td>\n",
       "      <td>12</td>\n",
       "    </tr>\n",
       "    <tr>\n",
       "      <th>187286</th>\n",
       "      <td>233117</td>\n",
       "      <td>0312958129</td>\n",
       "      <td>10</td>\n",
       "      <td>Coming Home</td>\n",
       "      <td>Rosamunde Pilcher</td>\n",
       "      <td>http://images.amazon.com/images/P/0312958129.0...</td>\n",
       "      <td>12</td>\n",
       "    </tr>\n",
       "    <tr>\n",
       "      <th>187287</th>\n",
       "      <td>245645</td>\n",
       "      <td>0312958129</td>\n",
       "      <td>10</td>\n",
       "      <td>Coming Home</td>\n",
       "      <td>Rosamunde Pilcher</td>\n",
       "      <td>http://images.amazon.com/images/P/0312958129.0...</td>\n",
       "      <td>12</td>\n",
       "    </tr>\n",
       "    <tr>\n",
       "      <th>187288</th>\n",
       "      <td>270352</td>\n",
       "      <td>0312958129</td>\n",
       "      <td>6</td>\n",
       "      <td>Coming Home</td>\n",
       "      <td>Rosamunde Pilcher</td>\n",
       "      <td>http://images.amazon.com/images/P/0312958129.0...</td>\n",
       "      <td>12</td>\n",
       "    </tr>\n",
       "    <tr>\n",
       "      <th>187289</th>\n",
       "      <td>274301</td>\n",
       "      <td>0312958129</td>\n",
       "      <td>10</td>\n",
       "      <td>Coming Home</td>\n",
       "      <td>Rosamunde Pilcher</td>\n",
       "      <td>http://images.amazon.com/images/P/0312958129.0...</td>\n",
       "      <td>12</td>\n",
       "    </tr>\n",
       "  </tbody>\n",
       "</table>\n",
       "</div>"
      ],
      "text/plain": [
       "        best users        isbn  rating        title             author  \\\n",
       "187285      184513  0312958129       7  Coming Home  Rosamunde Pilcher   \n",
       "187286      233117  0312958129      10  Coming Home  Rosamunde Pilcher   \n",
       "187287      245645  0312958129      10  Coming Home  Rosamunde Pilcher   \n",
       "187288      270352  0312958129       6  Coming Home  Rosamunde Pilcher   \n",
       "187289      274301  0312958129      10  Coming Home  Rosamunde Pilcher   \n",
       "\n",
       "                                              Image-URL-M  \\\n",
       "187285  http://images.amazon.com/images/P/0312958129.0...   \n",
       "187286  http://images.amazon.com/images/P/0312958129.0...   \n",
       "187287  http://images.amazon.com/images/P/0312958129.0...   \n",
       "187288  http://images.amazon.com/images/P/0312958129.0...   \n",
       "187289  http://images.amazon.com/images/P/0312958129.0...   \n",
       "\n",
       "        title-number of ratings  \n",
       "187285                       12  \n",
       "187286                       12  \n",
       "187287                       12  \n",
       "187288                       12  \n",
       "187289                       12  "
      ]
     },
     "execution_count": 104,
     "metadata": {},
     "output_type": "execute_result"
    }
   ],
   "source": [
    "#filter books with the rating >= 1\n",
    "#If I kept the rating just 1, I would recommend other books to the same user!!!\n",
    "\n",
    "final_df_filtered=final_df.query('`title-number of ratings`>10')\n",
    "\n",
    "final_df_filtered.tail(5)"
   ]
  },
  {
   "cell_type": "code",
   "execution_count": 105,
   "metadata": {},
   "outputs": [
    {
     "name": "stdout",
     "output_type": "stream",
     "text": [
      "244608 61573 183035\n",
      "percentage loss: 75%\n"
     ]
    }
   ],
   "source": [
    "before=final_df.shape[0]\n",
    "after=final_df_filtered.shape[0]\n",
    "delta=before-after\n",
    "\n",
    "print(before, after, delta)\n",
    "print(f'percentage loss: {round(delta/before*100)}%')"
   ]
  },
  {
   "cell_type": "markdown",
   "metadata": {},
   "source": [
    "**Check the unique titles and isbn**"
   ]
  },
  {
   "cell_type": "code",
   "execution_count": 106,
   "metadata": {},
   "outputs": [
    {
     "name": "stdout",
     "output_type": "stream",
     "text": [
      "2647 2389\n"
     ]
    }
   ],
   "source": [
    "unique_isbn_check=final_df_filtered.groupby(['isbn'])\n",
    "unique_title_check=final_df_filtered.groupby(['title'])\n",
    "\n",
    "\n",
    "isbn_count=len(unique_isbn_check['isbn'])\n",
    "title_count=len(unique_title_check['title'])\n",
    "\n",
    "print(isbn_count,title_count)"
   ]
  },
  {
   "cell_type": "code",
   "execution_count": 107,
   "metadata": {},
   "outputs": [
    {
     "data": {
      "text/plain": [
       "0"
      ]
     },
     "execution_count": 107,
     "metadata": {},
     "output_type": "execute_result"
    }
   ],
   "source": [
    "#check duplicates user rates on the same isbn more than once\n",
    "check_duplicates = final_df_filtered[['best users', 'isbn']].duplicated().sum()\n",
    "check_duplicates"
   ]
  },
  {
   "cell_type": "markdown",
   "metadata": {},
   "source": [
    "**PIVOT TABLE**"
   ]
  },
  {
   "cell_type": "code",
   "execution_count": 108,
   "metadata": {},
   "outputs": [
    {
     "data": {
      "text/plain": [
       "(2389, 5538)"
      ]
     },
     "execution_count": 108,
     "metadata": {},
     "output_type": "execute_result"
    }
   ],
   "source": [
    "final_df_filtered = final_df_filtered.reset_index(drop=True)\n",
    "\n",
    "recommend_pivot = final_df_filtered.pivot_table(columns='best users', index='title' , values=\"rating\")\n",
    "\n",
    "# #missing values NaN are replaced by zeros\n",
    "recommend_pivot.fillna(0, inplace=True)\n",
    "\n",
    "recommend_pivot.shape"
   ]
  },
  {
   "cell_type": "code",
   "execution_count": 109,
   "metadata": {},
   "outputs": [
    {
     "data": {
      "text/html": [
       "<div>\n",
       "<style scoped>\n",
       "    .dataframe tbody tr th:only-of-type {\n",
       "        vertical-align: middle;\n",
       "    }\n",
       "\n",
       "    .dataframe tbody tr th {\n",
       "        vertical-align: top;\n",
       "    }\n",
       "\n",
       "    .dataframe thead th {\n",
       "        text-align: right;\n",
       "    }\n",
       "</style>\n",
       "<table border=\"1\" class=\"dataframe\">\n",
       "  <thead>\n",
       "    <tr style=\"text-align: right;\">\n",
       "      <th>best users</th>\n",
       "      <th>242</th>\n",
       "      <th>243</th>\n",
       "      <th>254</th>\n",
       "      <th>388</th>\n",
       "      <th>446</th>\n",
       "      <th>503</th>\n",
       "      <th>505</th>\n",
       "      <th>507</th>\n",
       "      <th>638</th>\n",
       "      <th>643</th>\n",
       "      <th>...</th>\n",
       "      <th>278221</th>\n",
       "      <th>278356</th>\n",
       "      <th>278390</th>\n",
       "      <th>278418</th>\n",
       "      <th>278535</th>\n",
       "      <th>278554</th>\n",
       "      <th>278582</th>\n",
       "      <th>278633</th>\n",
       "      <th>278843</th>\n",
       "      <th>278851</th>\n",
       "    </tr>\n",
       "    <tr>\n",
       "      <th>title</th>\n",
       "      <th></th>\n",
       "      <th></th>\n",
       "      <th></th>\n",
       "      <th></th>\n",
       "      <th></th>\n",
       "      <th></th>\n",
       "      <th></th>\n",
       "      <th></th>\n",
       "      <th></th>\n",
       "      <th></th>\n",
       "      <th></th>\n",
       "      <th></th>\n",
       "      <th></th>\n",
       "      <th></th>\n",
       "      <th></th>\n",
       "      <th></th>\n",
       "      <th></th>\n",
       "      <th></th>\n",
       "      <th></th>\n",
       "      <th></th>\n",
       "      <th></th>\n",
       "    </tr>\n",
       "  </thead>\n",
       "  <tbody>\n",
       "    <tr>\n",
       "      <th>10 Lb. Penalty</th>\n",
       "      <td>0.0</td>\n",
       "      <td>0.0</td>\n",
       "      <td>0.0</td>\n",
       "      <td>0.0</td>\n",
       "      <td>0.0</td>\n",
       "      <td>0.0</td>\n",
       "      <td>0.0</td>\n",
       "      <td>0.0</td>\n",
       "      <td>0.0</td>\n",
       "      <td>0.0</td>\n",
       "      <td>...</td>\n",
       "      <td>0.0</td>\n",
       "      <td>0.0</td>\n",
       "      <td>0.0</td>\n",
       "      <td>0.0</td>\n",
       "      <td>0.0</td>\n",
       "      <td>0.0</td>\n",
       "      <td>0.0</td>\n",
       "      <td>0.0</td>\n",
       "      <td>0.0</td>\n",
       "      <td>0.0</td>\n",
       "    </tr>\n",
       "    <tr>\n",
       "      <th>16 Lighthouse Road</th>\n",
       "      <td>0.0</td>\n",
       "      <td>0.0</td>\n",
       "      <td>0.0</td>\n",
       "      <td>0.0</td>\n",
       "      <td>0.0</td>\n",
       "      <td>0.0</td>\n",
       "      <td>0.0</td>\n",
       "      <td>0.0</td>\n",
       "      <td>0.0</td>\n",
       "      <td>0.0</td>\n",
       "      <td>...</td>\n",
       "      <td>0.0</td>\n",
       "      <td>0.0</td>\n",
       "      <td>0.0</td>\n",
       "      <td>0.0</td>\n",
       "      <td>0.0</td>\n",
       "      <td>0.0</td>\n",
       "      <td>0.0</td>\n",
       "      <td>0.0</td>\n",
       "      <td>0.0</td>\n",
       "      <td>0.0</td>\n",
       "    </tr>\n",
       "    <tr>\n",
       "      <th>1984</th>\n",
       "      <td>0.0</td>\n",
       "      <td>0.0</td>\n",
       "      <td>9.0</td>\n",
       "      <td>0.0</td>\n",
       "      <td>0.0</td>\n",
       "      <td>0.0</td>\n",
       "      <td>0.0</td>\n",
       "      <td>0.0</td>\n",
       "      <td>0.0</td>\n",
       "      <td>0.0</td>\n",
       "      <td>...</td>\n",
       "      <td>0.0</td>\n",
       "      <td>0.0</td>\n",
       "      <td>0.0</td>\n",
       "      <td>0.0</td>\n",
       "      <td>0.0</td>\n",
       "      <td>0.0</td>\n",
       "      <td>0.0</td>\n",
       "      <td>0.0</td>\n",
       "      <td>0.0</td>\n",
       "      <td>0.0</td>\n",
       "    </tr>\n",
       "  </tbody>\n",
       "</table>\n",
       "<p>3 rows × 5538 columns</p>\n",
       "</div>"
      ],
      "text/plain": [
       "best users          242     243     254     388     446     503     505     \\\n",
       "title                                                                        \n",
       "10 Lb. Penalty         0.0     0.0     0.0     0.0     0.0     0.0     0.0   \n",
       "16 Lighthouse Road     0.0     0.0     0.0     0.0     0.0     0.0     0.0   \n",
       "1984                   0.0     0.0     9.0     0.0     0.0     0.0     0.0   \n",
       "\n",
       "best users          507     638     643     ...  278221  278356  278390  \\\n",
       "title                                       ...                           \n",
       "10 Lb. Penalty         0.0     0.0     0.0  ...     0.0     0.0     0.0   \n",
       "16 Lighthouse Road     0.0     0.0     0.0  ...     0.0     0.0     0.0   \n",
       "1984                   0.0     0.0     0.0  ...     0.0     0.0     0.0   \n",
       "\n",
       "best users          278418  278535  278554  278582  278633  278843  278851  \n",
       "title                                                                       \n",
       "10 Lb. Penalty         0.0     0.0     0.0     0.0     0.0     0.0     0.0  \n",
       "16 Lighthouse Road     0.0     0.0     0.0     0.0     0.0     0.0     0.0  \n",
       "1984                   0.0     0.0     0.0     0.0     0.0     0.0     0.0  \n",
       "\n",
       "[3 rows x 5538 columns]"
      ]
     },
     "execution_count": 109,
     "metadata": {},
     "output_type": "execute_result"
    }
   ],
   "source": [
    "recommend_pivot.head(3)"
   ]
  },
  {
   "cell_type": "markdown",
   "metadata": {},
   "source": [
    "**--------------------------------------**"
   ]
  },
  {
   "cell_type": "markdown",
   "metadata": {},
   "source": [
    "\n",
    "**MY APPROACH**\n"
   ]
  },
  {
   "cell_type": "markdown",
   "metadata": {},
   "source": [
    "**--------------------------------------**"
   ]
  },
  {
   "cell_type": "code",
   "execution_count": 110,
   "metadata": {},
   "outputs": [
    {
     "data": {
      "text/html": [
       "<div>\n",
       "<style scoped>\n",
       "    .dataframe tbody tr th:only-of-type {\n",
       "        vertical-align: middle;\n",
       "    }\n",
       "\n",
       "    .dataframe tbody tr th {\n",
       "        vertical-align: top;\n",
       "    }\n",
       "\n",
       "    .dataframe thead th {\n",
       "        text-align: right;\n",
       "    }\n",
       "</style>\n",
       "<table border=\"1\" class=\"dataframe\">\n",
       "  <thead>\n",
       "    <tr style=\"text-align: right;\">\n",
       "      <th>best users</th>\n",
       "      <th>242</th>\n",
       "      <th>243</th>\n",
       "      <th>254</th>\n",
       "      <th>388</th>\n",
       "      <th>446</th>\n",
       "      <th>503</th>\n",
       "      <th>505</th>\n",
       "      <th>507</th>\n",
       "      <th>638</th>\n",
       "      <th>643</th>\n",
       "      <th>...</th>\n",
       "      <th>278221</th>\n",
       "      <th>278356</th>\n",
       "      <th>278390</th>\n",
       "      <th>278418</th>\n",
       "      <th>278535</th>\n",
       "      <th>278554</th>\n",
       "      <th>278582</th>\n",
       "      <th>278633</th>\n",
       "      <th>278843</th>\n",
       "      <th>278851</th>\n",
       "    </tr>\n",
       "    <tr>\n",
       "      <th>title</th>\n",
       "      <th></th>\n",
       "      <th></th>\n",
       "      <th></th>\n",
       "      <th></th>\n",
       "      <th></th>\n",
       "      <th></th>\n",
       "      <th></th>\n",
       "      <th></th>\n",
       "      <th></th>\n",
       "      <th></th>\n",
       "      <th></th>\n",
       "      <th></th>\n",
       "      <th></th>\n",
       "      <th></th>\n",
       "      <th></th>\n",
       "      <th></th>\n",
       "      <th></th>\n",
       "      <th></th>\n",
       "      <th></th>\n",
       "      <th></th>\n",
       "      <th></th>\n",
       "    </tr>\n",
       "  </thead>\n",
       "  <tbody>\n",
       "    <tr>\n",
       "      <th>10 Lb. Penalty</th>\n",
       "      <td>0.0</td>\n",
       "      <td>0.0</td>\n",
       "      <td>0.0</td>\n",
       "      <td>0.0</td>\n",
       "      <td>0.0</td>\n",
       "      <td>0.0</td>\n",
       "      <td>0.0</td>\n",
       "      <td>0.0</td>\n",
       "      <td>0.0</td>\n",
       "      <td>0.0</td>\n",
       "      <td>...</td>\n",
       "      <td>0.0</td>\n",
       "      <td>0.0</td>\n",
       "      <td>0.0</td>\n",
       "      <td>0.0</td>\n",
       "      <td>0.0</td>\n",
       "      <td>0.0</td>\n",
       "      <td>0.0</td>\n",
       "      <td>0.0</td>\n",
       "      <td>0.0</td>\n",
       "      <td>0.0</td>\n",
       "    </tr>\n",
       "    <tr>\n",
       "      <th>16 Lighthouse Road</th>\n",
       "      <td>0.0</td>\n",
       "      <td>0.0</td>\n",
       "      <td>0.0</td>\n",
       "      <td>0.0</td>\n",
       "      <td>0.0</td>\n",
       "      <td>0.0</td>\n",
       "      <td>0.0</td>\n",
       "      <td>0.0</td>\n",
       "      <td>0.0</td>\n",
       "      <td>0.0</td>\n",
       "      <td>...</td>\n",
       "      <td>0.0</td>\n",
       "      <td>0.0</td>\n",
       "      <td>0.0</td>\n",
       "      <td>0.0</td>\n",
       "      <td>0.0</td>\n",
       "      <td>0.0</td>\n",
       "      <td>0.0</td>\n",
       "      <td>0.0</td>\n",
       "      <td>0.0</td>\n",
       "      <td>0.0</td>\n",
       "    </tr>\n",
       "  </tbody>\n",
       "</table>\n",
       "<p>2 rows × 5538 columns</p>\n",
       "</div>"
      ],
      "text/plain": [
       "best users          242     243     254     388     446     503     505     \\\n",
       "title                                                                        \n",
       "10 Lb. Penalty         0.0     0.0     0.0     0.0     0.0     0.0     0.0   \n",
       "16 Lighthouse Road     0.0     0.0     0.0     0.0     0.0     0.0     0.0   \n",
       "\n",
       "best users          507     638     643     ...  278221  278356  278390  \\\n",
       "title                                       ...                           \n",
       "10 Lb. Penalty         0.0     0.0     0.0  ...     0.0     0.0     0.0   \n",
       "16 Lighthouse Road     0.0     0.0     0.0  ...     0.0     0.0     0.0   \n",
       "\n",
       "best users          278418  278535  278554  278582  278633  278843  278851  \n",
       "title                                                                       \n",
       "10 Lb. Penalty         0.0     0.0     0.0     0.0     0.0     0.0     0.0  \n",
       "16 Lighthouse Road     0.0     0.0     0.0     0.0     0.0     0.0     0.0  \n",
       "\n",
       "[2 rows x 5538 columns]"
      ]
     },
     "execution_count": 110,
     "metadata": {},
     "output_type": "execute_result"
    }
   ],
   "source": [
    "#rename the pivot table \n",
    "pivot_mine = recommend_pivot\n",
    "pivot_mine.head(2)"
   ]
  },
  {
   "cell_type": "code",
   "execution_count": 111,
   "metadata": {},
   "outputs": [
    {
     "name": "stdout",
     "output_type": "stream",
     "text": [
      "The index of 'It' is at location 876.\n"
     ]
    }
   ],
   "source": [
    "#whisper function - get the index of certain book:\n",
    "index_location=book_index_finder('It', pivot_mine)"
   ]
  },
  {
   "cell_type": "code",
   "execution_count": 112,
   "metadata": {},
   "outputs": [
    {
     "data": {
      "text/plain": [
       "best users\n",
       "242    0.0\n",
       "243    0.0\n",
       "254    0.0\n",
       "388    0.0\n",
       "446    0.0\n",
       "Name: It, dtype: float64"
      ]
     },
     "execution_count": 112,
     "metadata": {},
     "output_type": "execute_result"
    }
   ],
   "source": [
    "#choose the searched book=row => columns with those who rated same book\n",
    "searched_book=pivot_mine.iloc[index_location, :]\n",
    "searched_book.head(5)"
   ]
  },
  {
   "cell_type": "code",
   "execution_count": 113,
   "metadata": {},
   "outputs": [
    {
     "data": {
      "text/html": [
       "<div>\n",
       "<style scoped>\n",
       "    .dataframe tbody tr th:only-of-type {\n",
       "        vertical-align: middle;\n",
       "    }\n",
       "\n",
       "    .dataframe tbody tr th {\n",
       "        vertical-align: top;\n",
       "    }\n",
       "\n",
       "    .dataframe thead th {\n",
       "        text-align: right;\n",
       "    }\n",
       "</style>\n",
       "<table border=\"1\" class=\"dataframe\">\n",
       "  <thead>\n",
       "    <tr style=\"text-align: right;\">\n",
       "      <th></th>\n",
       "      <th>rating</th>\n",
       "    </tr>\n",
       "    <tr>\n",
       "      <th>best users</th>\n",
       "      <th></th>\n",
       "    </tr>\n",
       "  </thead>\n",
       "  <tbody>\n",
       "    <tr>\n",
       "      <th>242</th>\n",
       "      <td>0.0</td>\n",
       "    </tr>\n",
       "    <tr>\n",
       "      <th>243</th>\n",
       "      <td>0.0</td>\n",
       "    </tr>\n",
       "    <tr>\n",
       "      <th>254</th>\n",
       "      <td>0.0</td>\n",
       "    </tr>\n",
       "    <tr>\n",
       "      <th>388</th>\n",
       "      <td>0.0</td>\n",
       "    </tr>\n",
       "    <tr>\n",
       "      <th>446</th>\n",
       "      <td>0.0</td>\n",
       "    </tr>\n",
       "  </tbody>\n",
       "</table>\n",
       "</div>"
      ],
      "text/plain": [
       "            rating\n",
       "best users        \n",
       "242            0.0\n",
       "243            0.0\n",
       "254            0.0\n",
       "388            0.0\n",
       "446            0.0"
      ]
     },
     "execution_count": 113,
     "metadata": {},
     "output_type": "execute_result"
    }
   ],
   "source": [
    "#convert Series into dataframe\n",
    "same_book_readers=pd.DataFrame({'rating':searched_book})\n",
    "same_book_readers.head(5)"
   ]
  },
  {
   "cell_type": "code",
   "execution_count": 114,
   "metadata": {},
   "outputs": [
    {
     "name": "stdout",
     "output_type": "stream",
     "text": [
      "(41, 2)\n"
     ]
    },
    {
     "data": {
      "text/html": [
       "<div>\n",
       "<style scoped>\n",
       "    .dataframe tbody tr th:only-of-type {\n",
       "        vertical-align: middle;\n",
       "    }\n",
       "\n",
       "    .dataframe tbody tr th {\n",
       "        vertical-align: top;\n",
       "    }\n",
       "\n",
       "    .dataframe thead th {\n",
       "        text-align: right;\n",
       "    }\n",
       "</style>\n",
       "<table border=\"1\" class=\"dataframe\">\n",
       "  <thead>\n",
       "    <tr style=\"text-align: right;\">\n",
       "      <th></th>\n",
       "      <th>best users</th>\n",
       "      <th>rating</th>\n",
       "    </tr>\n",
       "  </thead>\n",
       "  <tbody>\n",
       "    <tr>\n",
       "      <th>0</th>\n",
       "      <td>4334</td>\n",
       "      <td>8.0</td>\n",
       "    </tr>\n",
       "    <tr>\n",
       "      <th>1</th>\n",
       "      <td>11676</td>\n",
       "      <td>8.0</td>\n",
       "    </tr>\n",
       "    <tr>\n",
       "      <th>2</th>\n",
       "      <td>16795</td>\n",
       "      <td>8.0</td>\n",
       "    </tr>\n",
       "    <tr>\n",
       "      <th>3</th>\n",
       "      <td>31826</td>\n",
       "      <td>10.0</td>\n",
       "    </tr>\n",
       "    <tr>\n",
       "      <th>4</th>\n",
       "      <td>32569</td>\n",
       "      <td>10.0</td>\n",
       "    </tr>\n",
       "  </tbody>\n",
       "</table>\n",
       "</div>"
      ],
      "text/plain": [
       "   best users  rating\n",
       "0        4334     8.0\n",
       "1       11676     8.0\n",
       "2       16795     8.0\n",
       "3       31826    10.0\n",
       "4       32569    10.0"
      ]
     },
     "execution_count": 114,
     "metadata": {},
     "output_type": "execute_result"
    }
   ],
   "source": [
    "#keep just those who rated > 8, those who liked the book\n",
    "same_book_readers=same_book_readers.query('rating >= 8').reset_index()\n",
    "print(same_book_readers.shape)\n",
    "same_book_readers.head(5)"
   ]
  },
  {
   "cell_type": "code",
   "execution_count": 115,
   "metadata": {},
   "outputs": [
    {
     "data": {
      "text/plain": [
       "[4334, 11676, 16795]"
      ]
     },
     "execution_count": 115,
     "metadata": {},
     "output_type": "execute_result"
    }
   ],
   "source": [
    "#convert a df into a list\n",
    "columns_to_keep=same_book_readers['best users'].tolist()\n",
    "columns_to_keep[0:3]"
   ]
  },
  {
   "cell_type": "code",
   "execution_count": 116,
   "metadata": {},
   "outputs": [
    {
     "data": {
      "text/html": [
       "<div>\n",
       "<style scoped>\n",
       "    .dataframe tbody tr th:only-of-type {\n",
       "        vertical-align: middle;\n",
       "    }\n",
       "\n",
       "    .dataframe tbody tr th {\n",
       "        vertical-align: top;\n",
       "    }\n",
       "\n",
       "    .dataframe thead th {\n",
       "        text-align: right;\n",
       "    }\n",
       "</style>\n",
       "<table border=\"1\" class=\"dataframe\">\n",
       "  <thead>\n",
       "    <tr style=\"text-align: right;\">\n",
       "      <th>best users</th>\n",
       "      <th>4334</th>\n",
       "      <th>11676</th>\n",
       "      <th>16795</th>\n",
       "      <th>31826</th>\n",
       "      <th>32569</th>\n",
       "      <th>32599</th>\n",
       "      <th>35859</th>\n",
       "      <th>37293</th>\n",
       "      <th>43806</th>\n",
       "      <th>53392</th>\n",
       "      <th>...</th>\n",
       "      <th>211426</th>\n",
       "      <th>219683</th>\n",
       "      <th>224764</th>\n",
       "      <th>232106</th>\n",
       "      <th>234597</th>\n",
       "      <th>236283</th>\n",
       "      <th>254206</th>\n",
       "      <th>258534</th>\n",
       "      <th>259901</th>\n",
       "      <th>274061</th>\n",
       "    </tr>\n",
       "    <tr>\n",
       "      <th>title</th>\n",
       "      <th></th>\n",
       "      <th></th>\n",
       "      <th></th>\n",
       "      <th></th>\n",
       "      <th></th>\n",
       "      <th></th>\n",
       "      <th></th>\n",
       "      <th></th>\n",
       "      <th></th>\n",
       "      <th></th>\n",
       "      <th></th>\n",
       "      <th></th>\n",
       "      <th></th>\n",
       "      <th></th>\n",
       "      <th></th>\n",
       "      <th></th>\n",
       "      <th></th>\n",
       "      <th></th>\n",
       "      <th></th>\n",
       "      <th></th>\n",
       "      <th></th>\n",
       "    </tr>\n",
       "  </thead>\n",
       "  <tbody>\n",
       "    <tr>\n",
       "      <th>10 Lb. Penalty</th>\n",
       "      <td>0.0</td>\n",
       "      <td>0.0</td>\n",
       "      <td>0.0</td>\n",
       "      <td>0.0</td>\n",
       "      <td>0.0</td>\n",
       "      <td>0.0</td>\n",
       "      <td>0.0</td>\n",
       "      <td>0.0</td>\n",
       "      <td>0.0</td>\n",
       "      <td>0.0</td>\n",
       "      <td>...</td>\n",
       "      <td>0.0</td>\n",
       "      <td>0.0</td>\n",
       "      <td>0.0</td>\n",
       "      <td>0.0</td>\n",
       "      <td>0.0</td>\n",
       "      <td>0.0</td>\n",
       "      <td>0.0</td>\n",
       "      <td>0.0</td>\n",
       "      <td>0.0</td>\n",
       "      <td>0.0</td>\n",
       "    </tr>\n",
       "    <tr>\n",
       "      <th>16 Lighthouse Road</th>\n",
       "      <td>0.0</td>\n",
       "      <td>0.0</td>\n",
       "      <td>0.0</td>\n",
       "      <td>0.0</td>\n",
       "      <td>0.0</td>\n",
       "      <td>0.0</td>\n",
       "      <td>0.0</td>\n",
       "      <td>0.0</td>\n",
       "      <td>0.0</td>\n",
       "      <td>0.0</td>\n",
       "      <td>...</td>\n",
       "      <td>0.0</td>\n",
       "      <td>0.0</td>\n",
       "      <td>0.0</td>\n",
       "      <td>0.0</td>\n",
       "      <td>0.0</td>\n",
       "      <td>0.0</td>\n",
       "      <td>0.0</td>\n",
       "      <td>0.0</td>\n",
       "      <td>0.0</td>\n",
       "      <td>0.0</td>\n",
       "    </tr>\n",
       "    <tr>\n",
       "      <th>1984</th>\n",
       "      <td>0.0</td>\n",
       "      <td>0.0</td>\n",
       "      <td>8.0</td>\n",
       "      <td>0.0</td>\n",
       "      <td>0.0</td>\n",
       "      <td>8.0</td>\n",
       "      <td>0.0</td>\n",
       "      <td>0.0</td>\n",
       "      <td>0.0</td>\n",
       "      <td>0.0</td>\n",
       "      <td>...</td>\n",
       "      <td>0.0</td>\n",
       "      <td>7.0</td>\n",
       "      <td>0.0</td>\n",
       "      <td>0.0</td>\n",
       "      <td>0.0</td>\n",
       "      <td>0.0</td>\n",
       "      <td>0.0</td>\n",
       "      <td>0.0</td>\n",
       "      <td>0.0</td>\n",
       "      <td>0.0</td>\n",
       "    </tr>\n",
       "  </tbody>\n",
       "</table>\n",
       "<p>3 rows × 41 columns</p>\n",
       "</div>"
      ],
      "text/plain": [
       "best users          4334    11676   16795   31826   32569   32599   35859   \\\n",
       "title                                                                        \n",
       "10 Lb. Penalty         0.0     0.0     0.0     0.0     0.0     0.0     0.0   \n",
       "16 Lighthouse Road     0.0     0.0     0.0     0.0     0.0     0.0     0.0   \n",
       "1984                   0.0     0.0     8.0     0.0     0.0     8.0     0.0   \n",
       "\n",
       "best users          37293   43806   53392   ...  211426  219683  224764  \\\n",
       "title                                       ...                           \n",
       "10 Lb. Penalty         0.0     0.0     0.0  ...     0.0     0.0     0.0   \n",
       "16 Lighthouse Road     0.0     0.0     0.0  ...     0.0     0.0     0.0   \n",
       "1984                   0.0     0.0     0.0  ...     0.0     7.0     0.0   \n",
       "\n",
       "best users          232106  234597  236283  254206  258534  259901  274061  \n",
       "title                                                                       \n",
       "10 Lb. Penalty         0.0     0.0     0.0     0.0     0.0     0.0     0.0  \n",
       "16 Lighthouse Road     0.0     0.0     0.0     0.0     0.0     0.0     0.0  \n",
       "1984                   0.0     0.0     0.0     0.0     0.0     0.0     0.0  \n",
       "\n",
       "[3 rows x 41 columns]"
      ]
     },
     "execution_count": 116,
     "metadata": {},
     "output_type": "execute_result"
    }
   ],
   "source": [
    "#filter the columns\n",
    "filtered_pivot_table = pivot_mine[columns_to_keep]\n",
    "filtered_pivot_table.head(3)"
   ]
  },
  {
   "cell_type": "code",
   "execution_count": 117,
   "metadata": {},
   "outputs": [
    {
     "data": {
      "text/html": [
       "<div>\n",
       "<style scoped>\n",
       "    .dataframe tbody tr th:only-of-type {\n",
       "        vertical-align: middle;\n",
       "    }\n",
       "\n",
       "    .dataframe tbody tr th {\n",
       "        vertical-align: top;\n",
       "    }\n",
       "\n",
       "    .dataframe thead th {\n",
       "        text-align: right;\n",
       "    }\n",
       "</style>\n",
       "<table border=\"1\" class=\"dataframe\">\n",
       "  <thead>\n",
       "    <tr style=\"text-align: right;\">\n",
       "      <th></th>\n",
       "      <th>score</th>\n",
       "    </tr>\n",
       "    <tr>\n",
       "      <th>title</th>\n",
       "      <th></th>\n",
       "    </tr>\n",
       "  </thead>\n",
       "  <tbody>\n",
       "    <tr>\n",
       "      <th>It</th>\n",
       "      <td>377.000000</td>\n",
       "    </tr>\n",
       "    <tr>\n",
       "      <th>Nightmares &amp;amp; Dreamscapes</th>\n",
       "      <td>120.000000</td>\n",
       "    </tr>\n",
       "    <tr>\n",
       "      <th>Misery</th>\n",
       "      <td>120.000000</td>\n",
       "    </tr>\n",
       "    <tr>\n",
       "      <th>The Tommyknockers</th>\n",
       "      <td>111.500000</td>\n",
       "    </tr>\n",
       "    <tr>\n",
       "      <th>Four Past Midnight</th>\n",
       "      <td>106.000000</td>\n",
       "    </tr>\n",
       "    <tr>\n",
       "      <th>Dolores Claiborne</th>\n",
       "      <td>106.000000</td>\n",
       "    </tr>\n",
       "    <tr>\n",
       "      <th>Insomnia</th>\n",
       "      <td>103.500000</td>\n",
       "    </tr>\n",
       "    <tr>\n",
       "      <th>Desperation</th>\n",
       "      <td>103.000000</td>\n",
       "    </tr>\n",
       "    <tr>\n",
       "      <th>Skeleton Crew</th>\n",
       "      <td>100.000000</td>\n",
       "    </tr>\n",
       "    <tr>\n",
       "      <th>Pet Sematary</th>\n",
       "      <td>98.000000</td>\n",
       "    </tr>\n",
       "    <tr>\n",
       "      <th>Rose Madder</th>\n",
       "      <td>97.000000</td>\n",
       "    </tr>\n",
       "    <tr>\n",
       "      <th>Dreamcatcher</th>\n",
       "      <td>93.666667</td>\n",
       "    </tr>\n",
       "    <tr>\n",
       "      <th>The Green Mile</th>\n",
       "      <td>92.000000</td>\n",
       "    </tr>\n",
       "    <tr>\n",
       "      <th>The Fellowship of the Ring (The Lord of the Rings, Part 1)</th>\n",
       "      <td>86.000000</td>\n",
       "    </tr>\n",
       "    <tr>\n",
       "      <th>The Dark Half</th>\n",
       "      <td>85.000000</td>\n",
       "    </tr>\n",
       "  </tbody>\n",
       "</table>\n",
       "</div>"
      ],
      "text/plain": [
       "                                                         score\n",
       "title                                                         \n",
       "It                                                  377.000000\n",
       "Nightmares &amp; Dreamscapes                        120.000000\n",
       "Misery                                              120.000000\n",
       "The Tommyknockers                                   111.500000\n",
       "Four Past Midnight                                  106.000000\n",
       "Dolores Claiborne                                   106.000000\n",
       "Insomnia                                            103.500000\n",
       "Desperation                                         103.000000\n",
       "Skeleton Crew                                       100.000000\n",
       "Pet Sematary                                         98.000000\n",
       "Rose Madder                                          97.000000\n",
       "Dreamcatcher                                         93.666667\n",
       "The Green Mile                                       92.000000\n",
       "The Fellowship of the Ring (The Lord of the Rin...   86.000000\n",
       "The Dark Half                                        85.000000"
      ]
     },
     "execution_count": 117,
     "metadata": {},
     "output_type": "execute_result"
    }
   ],
   "source": [
    "#sum the rows\n",
    "score=filtered_pivot_table.sum(axis=1)\n",
    "\n",
    "#create df\n",
    "df_recommendation = pd.DataFrame({'score':score}).sort_values('score', ascending=False)\n",
    "df_recommendation.head(15)\n"
   ]
  },
  {
   "cell_type": "code",
   "execution_count": 118,
   "metadata": {},
   "outputs": [
    {
     "data": {
      "text/html": [
       "<div>\n",
       "<style scoped>\n",
       "    .dataframe tbody tr th:only-of-type {\n",
       "        vertical-align: middle;\n",
       "    }\n",
       "\n",
       "    .dataframe tbody tr th {\n",
       "        vertical-align: top;\n",
       "    }\n",
       "\n",
       "    .dataframe thead th {\n",
       "        text-align: right;\n",
       "    }\n",
       "</style>\n",
       "<table border=\"1\" class=\"dataframe\">\n",
       "  <thead>\n",
       "    <tr style=\"text-align: right;\">\n",
       "      <th></th>\n",
       "      <th>score</th>\n",
       "    </tr>\n",
       "    <tr>\n",
       "      <th>title</th>\n",
       "      <th></th>\n",
       "    </tr>\n",
       "  </thead>\n",
       "  <tbody>\n",
       "    <tr>\n",
       "      <th>It</th>\n",
       "      <td>377.0</td>\n",
       "    </tr>\n",
       "    <tr>\n",
       "      <th>Nightmares &amp;amp; Dreamscapes</th>\n",
       "      <td>120.0</td>\n",
       "    </tr>\n",
       "    <tr>\n",
       "      <th>Misery</th>\n",
       "      <td>120.0</td>\n",
       "    </tr>\n",
       "    <tr>\n",
       "      <th>The Tommyknockers</th>\n",
       "      <td>111.5</td>\n",
       "    </tr>\n",
       "    <tr>\n",
       "      <th>Four Past Midnight</th>\n",
       "      <td>106.0</td>\n",
       "    </tr>\n",
       "    <tr>\n",
       "      <th>...</th>\n",
       "      <td>...</td>\n",
       "    </tr>\n",
       "    <tr>\n",
       "      <th>The Eyre Affair: A Novel</th>\n",
       "      <td>0.0</td>\n",
       "    </tr>\n",
       "    <tr>\n",
       "      <th>Jennifer Government : A Novel</th>\n",
       "      <td>0.0</td>\n",
       "    </tr>\n",
       "    <tr>\n",
       "      <th>The Face of Deception</th>\n",
       "      <td>0.0</td>\n",
       "    </tr>\n",
       "    <tr>\n",
       "      <th>Jemima J: A Novel About Ugly Ducklings and Swans</th>\n",
       "      <td>0.0</td>\n",
       "    </tr>\n",
       "    <tr>\n",
       "      <th>10 Lb. Penalty</th>\n",
       "      <td>0.0</td>\n",
       "    </tr>\n",
       "  </tbody>\n",
       "</table>\n",
       "<p>2389 rows × 1 columns</p>\n",
       "</div>"
      ],
      "text/plain": [
       "                                                  score\n",
       "title                                                  \n",
       "It                                                377.0\n",
       "Nightmares &amp; Dreamscapes                      120.0\n",
       "Misery                                            120.0\n",
       "The Tommyknockers                                 111.5\n",
       "Four Past Midnight                                106.0\n",
       "...                                                 ...\n",
       "The Eyre Affair: A Novel                            0.0\n",
       "Jennifer Government : A Novel                       0.0\n",
       "The Face of Deception                               0.0\n",
       "Jemima J: A Novel About Ugly Ducklings and Swans    0.0\n",
       "10 Lb. Penalty                                      0.0\n",
       "\n",
       "[2389 rows x 1 columns]"
      ]
     },
     "execution_count": 118,
     "metadata": {},
     "output_type": "execute_result"
    }
   ],
   "source": [
    "#slice first 10 best titles                   \n",
    "df_recommendation=df_recommendation[0:100000]\n",
    "df_recommendation"
   ]
  },
  {
   "cell_type": "code",
   "execution_count": 119,
   "metadata": {},
   "outputs": [
    {
     "data": {
      "text/plain": [
       "['It',\n",
       " 'Nightmares &amp; Dreamscapes',\n",
       " 'Misery',\n",
       " 'The Tommyknockers',\n",
       " 'Four Past Midnight',\n",
       " 'Dolores Claiborne',\n",
       " 'Insomnia',\n",
       " 'Desperation',\n",
       " 'Skeleton Crew',\n",
       " 'Pet Sematary',\n",
       " 'Rose Madder',\n",
       " 'Dreamcatcher',\n",
       " 'The Green Mile',\n",
       " 'The Fellowship of the Ring (The Lord of the Rings, Part 1)',\n",
       " 'The Dark Half']"
      ]
     },
     "execution_count": 119,
     "metadata": {},
     "output_type": "execute_result"
    }
   ],
   "source": [
    "suggestions_mine=df_recommendation.index.tolist()\n",
    "suggestions_mine[0:15]"
   ]
  },
  {
   "cell_type": "markdown",
   "metadata": {},
   "source": [
    "**--------------------------------------**"
   ]
  },
  {
   "cell_type": "markdown",
   "metadata": {},
   "source": [
    "**KNN**"
   ]
  },
  {
   "cell_type": "markdown",
   "metadata": {},
   "source": [
    "**--------------------------------------**"
   ]
  },
  {
   "cell_type": "code",
   "execution_count": 120,
   "metadata": {},
   "outputs": [
    {
     "data": {
      "text/plain": [
       "(2389, 5538)"
      ]
     },
     "execution_count": 120,
     "metadata": {},
     "output_type": "execute_result"
    }
   ],
   "source": [
    "#rename the matrix\n",
    "recommend_pivot_knn = recommend_pivot\n",
    "\n",
    "#missing values NaN are replaced by zeros\n",
    "recommend_pivot_knn.fillna(0, inplace=True)\n",
    "\n",
    "recommend_pivot_knn.shape"
   ]
  },
  {
   "cell_type": "code",
   "execution_count": 121,
   "metadata": {},
   "outputs": [
    {
     "data": {
      "text/plain": [
       "(2389, 5538)"
      ]
     },
     "execution_count": 121,
     "metadata": {},
     "output_type": "execute_result"
    }
   ],
   "source": [
    "#too many zeros in the matrix = computationaly demanding in clustering = CRS matrix = non zero matrix\n",
    "from scipy.sparse import csr_matrix\n",
    "recommend_sparse = csr_matrix(recommend_pivot_knn)\n",
    "recommend_sparse.shape"
   ]
  },
  {
   "cell_type": "code",
   "execution_count": 122,
   "metadata": {},
   "outputs": [
    {
     "data": {
      "text/html": [
       "<style>#sk-container-id-2 {color: black;}#sk-container-id-2 pre{padding: 0;}#sk-container-id-2 div.sk-toggleable {background-color: white;}#sk-container-id-2 label.sk-toggleable__label {cursor: pointer;display: block;width: 100%;margin-bottom: 0;padding: 0.3em;box-sizing: border-box;text-align: center;}#sk-container-id-2 label.sk-toggleable__label-arrow:before {content: \"▸\";float: left;margin-right: 0.25em;color: #696969;}#sk-container-id-2 label.sk-toggleable__label-arrow:hover:before {color: black;}#sk-container-id-2 div.sk-estimator:hover label.sk-toggleable__label-arrow:before {color: black;}#sk-container-id-2 div.sk-toggleable__content {max-height: 0;max-width: 0;overflow: hidden;text-align: left;background-color: #f0f8ff;}#sk-container-id-2 div.sk-toggleable__content pre {margin: 0.2em;color: black;border-radius: 0.25em;background-color: #f0f8ff;}#sk-container-id-2 input.sk-toggleable__control:checked~div.sk-toggleable__content {max-height: 200px;max-width: 100%;overflow: auto;}#sk-container-id-2 input.sk-toggleable__control:checked~label.sk-toggleable__label-arrow:before {content: \"▾\";}#sk-container-id-2 div.sk-estimator input.sk-toggleable__control:checked~label.sk-toggleable__label {background-color: #d4ebff;}#sk-container-id-2 div.sk-label input.sk-toggleable__control:checked~label.sk-toggleable__label {background-color: #d4ebff;}#sk-container-id-2 input.sk-hidden--visually {border: 0;clip: rect(1px 1px 1px 1px);clip: rect(1px, 1px, 1px, 1px);height: 1px;margin: -1px;overflow: hidden;padding: 0;position: absolute;width: 1px;}#sk-container-id-2 div.sk-estimator {font-family: monospace;background-color: #f0f8ff;border: 1px dotted black;border-radius: 0.25em;box-sizing: border-box;margin-bottom: 0.5em;}#sk-container-id-2 div.sk-estimator:hover {background-color: #d4ebff;}#sk-container-id-2 div.sk-parallel-item::after {content: \"\";width: 100%;border-bottom: 1px solid gray;flex-grow: 1;}#sk-container-id-2 div.sk-label:hover label.sk-toggleable__label {background-color: #d4ebff;}#sk-container-id-2 div.sk-serial::before {content: \"\";position: absolute;border-left: 1px solid gray;box-sizing: border-box;top: 0;bottom: 0;left: 50%;z-index: 0;}#sk-container-id-2 div.sk-serial {display: flex;flex-direction: column;align-items: center;background-color: white;padding-right: 0.2em;padding-left: 0.2em;position: relative;}#sk-container-id-2 div.sk-item {position: relative;z-index: 1;}#sk-container-id-2 div.sk-parallel {display: flex;align-items: stretch;justify-content: center;background-color: white;position: relative;}#sk-container-id-2 div.sk-item::before, #sk-container-id-2 div.sk-parallel-item::before {content: \"\";position: absolute;border-left: 1px solid gray;box-sizing: border-box;top: 0;bottom: 0;left: 50%;z-index: -1;}#sk-container-id-2 div.sk-parallel-item {display: flex;flex-direction: column;z-index: 1;position: relative;background-color: white;}#sk-container-id-2 div.sk-parallel-item:first-child::after {align-self: flex-end;width: 50%;}#sk-container-id-2 div.sk-parallel-item:last-child::after {align-self: flex-start;width: 50%;}#sk-container-id-2 div.sk-parallel-item:only-child::after {width: 0;}#sk-container-id-2 div.sk-dashed-wrapped {border: 1px dashed gray;margin: 0 0.4em 0.5em 0.4em;box-sizing: border-box;padding-bottom: 0.4em;background-color: white;}#sk-container-id-2 div.sk-label label {font-family: monospace;font-weight: bold;display: inline-block;line-height: 1.2em;}#sk-container-id-2 div.sk-label-container {text-align: center;}#sk-container-id-2 div.sk-container {/* jupyter's `normalize.less` sets `[hidden] { display: none; }` but bootstrap.min.css set `[hidden] { display: none !important; }` so we also need the `!important` here to be able to override the default hidden behavior on the sphinx rendered scikit-learn.org. See: https://github.com/scikit-learn/scikit-learn/issues/21755 */display: inline-block !important;position: relative;}#sk-container-id-2 div.sk-text-repr-fallback {display: none;}</style><div id=\"sk-container-id-2\" class=\"sk-top-container\"><div class=\"sk-text-repr-fallback\"><pre>NearestNeighbors(algorithm=&#x27;brute&#x27;, metric=&#x27;cosine&#x27;)</pre><b>In a Jupyter environment, please rerun this cell to show the HTML representation or trust the notebook. <br />On GitHub, the HTML representation is unable to render, please try loading this page with nbviewer.org.</b></div><div class=\"sk-container\" hidden><div class=\"sk-item\"><div class=\"sk-estimator sk-toggleable\"><input class=\"sk-toggleable__control sk-hidden--visually\" id=\"sk-estimator-id-2\" type=\"checkbox\" checked><label for=\"sk-estimator-id-2\" class=\"sk-toggleable__label sk-toggleable__label-arrow\">NearestNeighbors</label><div class=\"sk-toggleable__content\"><pre>NearestNeighbors(algorithm=&#x27;brute&#x27;, metric=&#x27;cosine&#x27;)</pre></div></div></div></div></div>"
      ],
      "text/plain": [
       "NearestNeighbors(algorithm='brute', metric='cosine')"
      ]
     },
     "execution_count": 122,
     "metadata": {},
     "output_type": "execute_result"
    }
   ],
   "source": [
    "from sklearn.neighbors import NearestNeighbors\n",
    "model = NearestNeighbors(metric='cosine', algorithm='brute')\n",
    "fitted_model=model.fit(recommend_sparse)\n",
    "fitted_model"
   ]
  },
  {
   "cell_type": "code",
   "execution_count": 123,
   "metadata": {},
   "outputs": [
    {
     "name": "stdout",
     "output_type": "stream",
     "text": [
      "The index of 'Misery' is at location 1063.\n"
     ]
    }
   ],
   "source": [
    "index_location=book_index_finder('Misery', recommend_pivot_knn)"
   ]
  },
  {
   "cell_type": "code",
   "execution_count": 124,
   "metadata": {},
   "outputs": [],
   "source": [
    "#find the nearest\n",
    "query_point = recommend_pivot_knn.iloc[index_location, :].values.reshape(1, -1)\n",
    "distances, suggestions = fitted_model.kneighbors(query_point)"
   ]
  },
  {
   "cell_type": "code",
   "execution_count": 125,
   "metadata": {},
   "outputs": [
    {
     "data": {
      "text/plain": [
       "(1, 5538)"
      ]
     },
     "execution_count": 125,
     "metadata": {},
     "output_type": "execute_result"
    }
   ],
   "source": [
    "query_point.shape"
   ]
  },
  {
   "cell_type": "code",
   "execution_count": 126,
   "metadata": {},
   "outputs": [
    {
     "data": {
      "text/plain": [
       "array([[1063,  857, 1145,  876, 2139]], dtype=int64)"
      ]
     },
     "execution_count": 126,
     "metadata": {},
     "output_type": "execute_result"
    }
   ],
   "source": [
    "suggestions"
   ]
  },
  {
   "cell_type": "code",
   "execution_count": 127,
   "metadata": {},
   "outputs": [
    {
     "data": {
      "text/plain": [
       "['Misery',\n",
       " 'Insomnia',\n",
       " 'Nightmares &amp; Dreamscapes',\n",
       " 'It',\n",
       " 'The Tommyknockers']"
      ]
     },
     "execution_count": 127,
     "metadata": {},
     "output_type": "execute_result"
    }
   ],
   "source": [
    "for i in range(len(suggestions)):\n",
    "        suggestions_knn = list(recommend_pivot_knn.index[suggestions[i]])\n",
    "\n",
    "\n",
    "suggestions_knn\n",
    "  "
   ]
  },
  {
   "cell_type": "markdown",
   "metadata": {},
   "source": [
    "**--------------------------------------**"
   ]
  },
  {
   "cell_type": "markdown",
   "metadata": {},
   "source": [
    "**Truncated SVD**"
   ]
  },
  {
   "cell_type": "markdown",
   "metadata": {},
   "source": [
    "**--------------------------------------**"
   ]
  },
  {
   "cell_type": "code",
   "execution_count": 128,
   "metadata": {},
   "outputs": [
    {
     "data": {
      "text/plain": [
       "'\\n*reducing the dimensionality\\n*latent factors=improves recommendation quality\\n'"
      ]
     },
     "execution_count": 128,
     "metadata": {},
     "output_type": "execute_result"
    }
   ],
   "source": [
    "'''\n",
    "*reducing the dimensionality\n",
    "*latent factors=improves recommendation quality\n",
    "'''"
   ]
  },
  {
   "cell_type": "code",
   "execution_count": 129,
   "metadata": {},
   "outputs": [
    {
     "data": {
      "text/html": [
       "<div>\n",
       "<style scoped>\n",
       "    .dataframe tbody tr th:only-of-type {\n",
       "        vertical-align: middle;\n",
       "    }\n",
       "\n",
       "    .dataframe tbody tr th {\n",
       "        vertical-align: top;\n",
       "    }\n",
       "\n",
       "    .dataframe thead th {\n",
       "        text-align: right;\n",
       "    }\n",
       "</style>\n",
       "<table border=\"1\" class=\"dataframe\">\n",
       "  <thead>\n",
       "    <tr style=\"text-align: right;\">\n",
       "      <th>best users</th>\n",
       "      <th>242</th>\n",
       "      <th>243</th>\n",
       "      <th>254</th>\n",
       "      <th>388</th>\n",
       "      <th>446</th>\n",
       "      <th>503</th>\n",
       "      <th>505</th>\n",
       "      <th>507</th>\n",
       "      <th>638</th>\n",
       "      <th>643</th>\n",
       "      <th>...</th>\n",
       "      <th>278221</th>\n",
       "      <th>278356</th>\n",
       "      <th>278390</th>\n",
       "      <th>278418</th>\n",
       "      <th>278535</th>\n",
       "      <th>278554</th>\n",
       "      <th>278582</th>\n",
       "      <th>278633</th>\n",
       "      <th>278843</th>\n",
       "      <th>278851</th>\n",
       "    </tr>\n",
       "    <tr>\n",
       "      <th>title</th>\n",
       "      <th></th>\n",
       "      <th></th>\n",
       "      <th></th>\n",
       "      <th></th>\n",
       "      <th></th>\n",
       "      <th></th>\n",
       "      <th></th>\n",
       "      <th></th>\n",
       "      <th></th>\n",
       "      <th></th>\n",
       "      <th></th>\n",
       "      <th></th>\n",
       "      <th></th>\n",
       "      <th></th>\n",
       "      <th></th>\n",
       "      <th></th>\n",
       "      <th></th>\n",
       "      <th></th>\n",
       "      <th></th>\n",
       "      <th></th>\n",
       "      <th></th>\n",
       "    </tr>\n",
       "  </thead>\n",
       "  <tbody>\n",
       "    <tr>\n",
       "      <th>10 Lb. Penalty</th>\n",
       "      <td>0.0</td>\n",
       "      <td>0.0</td>\n",
       "      <td>0.0</td>\n",
       "      <td>0.0</td>\n",
       "      <td>0.0</td>\n",
       "      <td>0.0</td>\n",
       "      <td>0.0</td>\n",
       "      <td>0.0</td>\n",
       "      <td>0.0</td>\n",
       "      <td>0.0</td>\n",
       "      <td>...</td>\n",
       "      <td>0.0</td>\n",
       "      <td>0.0</td>\n",
       "      <td>0.0</td>\n",
       "      <td>0.0</td>\n",
       "      <td>0.0</td>\n",
       "      <td>0.0</td>\n",
       "      <td>0.0</td>\n",
       "      <td>0.0</td>\n",
       "      <td>0.0</td>\n",
       "      <td>0.0</td>\n",
       "    </tr>\n",
       "    <tr>\n",
       "      <th>16 Lighthouse Road</th>\n",
       "      <td>0.0</td>\n",
       "      <td>0.0</td>\n",
       "      <td>0.0</td>\n",
       "      <td>0.0</td>\n",
       "      <td>0.0</td>\n",
       "      <td>0.0</td>\n",
       "      <td>0.0</td>\n",
       "      <td>0.0</td>\n",
       "      <td>0.0</td>\n",
       "      <td>0.0</td>\n",
       "      <td>...</td>\n",
       "      <td>0.0</td>\n",
       "      <td>0.0</td>\n",
       "      <td>0.0</td>\n",
       "      <td>0.0</td>\n",
       "      <td>0.0</td>\n",
       "      <td>0.0</td>\n",
       "      <td>0.0</td>\n",
       "      <td>0.0</td>\n",
       "      <td>0.0</td>\n",
       "      <td>0.0</td>\n",
       "    </tr>\n",
       "    <tr>\n",
       "      <th>1984</th>\n",
       "      <td>0.0</td>\n",
       "      <td>0.0</td>\n",
       "      <td>9.0</td>\n",
       "      <td>0.0</td>\n",
       "      <td>0.0</td>\n",
       "      <td>0.0</td>\n",
       "      <td>0.0</td>\n",
       "      <td>0.0</td>\n",
       "      <td>0.0</td>\n",
       "      <td>0.0</td>\n",
       "      <td>...</td>\n",
       "      <td>0.0</td>\n",
       "      <td>0.0</td>\n",
       "      <td>0.0</td>\n",
       "      <td>0.0</td>\n",
       "      <td>0.0</td>\n",
       "      <td>0.0</td>\n",
       "      <td>0.0</td>\n",
       "      <td>0.0</td>\n",
       "      <td>0.0</td>\n",
       "      <td>0.0</td>\n",
       "    </tr>\n",
       "  </tbody>\n",
       "</table>\n",
       "<p>3 rows × 5538 columns</p>\n",
       "</div>"
      ],
      "text/plain": [
       "best users          242     243     254     388     446     503     505     \\\n",
       "title                                                                        \n",
       "10 Lb. Penalty         0.0     0.0     0.0     0.0     0.0     0.0     0.0   \n",
       "16 Lighthouse Road     0.0     0.0     0.0     0.0     0.0     0.0     0.0   \n",
       "1984                   0.0     0.0     9.0     0.0     0.0     0.0     0.0   \n",
       "\n",
       "best users          507     638     643     ...  278221  278356  278390  \\\n",
       "title                                       ...                           \n",
       "10 Lb. Penalty         0.0     0.0     0.0  ...     0.0     0.0     0.0   \n",
       "16 Lighthouse Road     0.0     0.0     0.0  ...     0.0     0.0     0.0   \n",
       "1984                   0.0     0.0     0.0  ...     0.0     0.0     0.0   \n",
       "\n",
       "best users          278418  278535  278554  278582  278633  278843  278851  \n",
       "title                                                                       \n",
       "10 Lb. Penalty         0.0     0.0     0.0     0.0     0.0     0.0     0.0  \n",
       "16 Lighthouse Road     0.0     0.0     0.0     0.0     0.0     0.0     0.0  \n",
       "1984                   0.0     0.0     0.0     0.0     0.0     0.0     0.0  \n",
       "\n",
       "[3 rows x 5538 columns]"
      ]
     },
     "execution_count": 129,
     "metadata": {},
     "output_type": "execute_result"
    }
   ],
   "source": [
    "#rename the pivot table\n",
    "recommend_pivot_svd=recommend_pivot\n",
    "recommend_pivot_svd.head(3)"
   ]
  },
  {
   "cell_type": "code",
   "execution_count": 130,
   "metadata": {},
   "outputs": [
    {
     "data": {
      "text/plain": [
       "(2389, 5538)"
      ]
     },
     "execution_count": 130,
     "metadata": {},
     "output_type": "execute_result"
    }
   ],
   "source": [
    "#get the array from the pivot\n",
    "X=recommend_pivot_svd.values\n",
    "X.shape"
   ]
  },
  {
   "cell_type": "code",
   "execution_count": 131,
   "metadata": {},
   "outputs": [
    {
     "data": {
      "text/plain": [
       "(2389, 12)"
      ]
     },
     "execution_count": 131,
     "metadata": {},
     "output_type": "execute_result"
    }
   ],
   "source": [
    "from sklearn.decomposition import TruncatedSVD\n",
    "\n",
    "SVD=TruncatedSVD(n_components=12, random_state=17)\n",
    "matrix=SVD.fit_transform(X)\n",
    "matrix.shape"
   ]
  },
  {
   "cell_type": "code",
   "execution_count": 132,
   "metadata": {},
   "outputs": [
    {
     "data": {
      "text/plain": [
       "(2389, 2389)"
      ]
     },
     "execution_count": 132,
     "metadata": {},
     "output_type": "execute_result"
    }
   ],
   "source": [
    "#Compute correlations in the matrix\n",
    "corr=np.corrcoef(matrix)\n",
    "corr.shape"
   ]
  },
  {
   "cell_type": "code",
   "execution_count": 133,
   "metadata": {},
   "outputs": [
    {
     "name": "stdout",
     "output_type": "stream",
     "text": [
      "The index of 'The Fellowship of the Ring (The Lord of the Rings, Part 1)' is at location 1783.\n"
     ]
    }
   ],
   "source": [
    "index_location=book_index_finder('The Fellowship of the Ring (The Lord of the Rings, Part 1)', recommend_pivot_svd)"
   ]
  },
  {
   "cell_type": "code",
   "execution_count": 134,
   "metadata": {},
   "outputs": [],
   "source": [
    "#pass the index into a corr matrix\n",
    "corr_index=corr[index_location]"
   ]
  },
  {
   "cell_type": "code",
   "execution_count": 135,
   "metadata": {},
   "outputs": [
    {
     "data": {
      "text/plain": [
       "(2389,)"
      ]
     },
     "execution_count": 135,
     "metadata": {},
     "output_type": "execute_result"
    }
   ],
   "source": [
    "#get all the book titles in the pivot table columns\n",
    "title=recommend_pivot_svd.index\n",
    "title.shape\n"
   ]
  },
  {
   "cell_type": "code",
   "execution_count": 136,
   "metadata": {},
   "outputs": [
    {
     "data": {
      "text/plain": [
       "(2389,)"
      ]
     },
     "execution_count": 136,
     "metadata": {},
     "output_type": "execute_result"
    }
   ],
   "source": [
    "corr_index.shape"
   ]
  },
  {
   "cell_type": "code",
   "execution_count": 137,
   "metadata": {},
   "outputs": [
    {
     "data": {
      "text/plain": [
       "['Hyperion',\n",
       " 'The Fellowship of the Ring (The Lord of the Rings, Part 1)',\n",
       " 'The Hobbit : The Enchanting Prelude to The Lord of the Rings',\n",
       " 'The Illustrated Man (Grand Master Editions)',\n",
       " 'The Return of the King (The Lord of the Rings, Part 3)',\n",
       " 'The Two Towers (The Lord of the Rings, Part 2)']"
      ]
     },
     "execution_count": 137,
     "metadata": {},
     "output_type": "execute_result"
    }
   ],
   "source": [
    "#filter the most similar books\n",
    "suggestion_svd=list(title[(corr_index<1)&(corr_index>0.9)])\n",
    "suggestion_svd"
   ]
  },
  {
   "cell_type": "markdown",
   "metadata": {},
   "source": [
    "**Comparing results**"
   ]
  },
  {
   "cell_type": "code",
   "execution_count": 138,
   "metadata": {},
   "outputs": [
    {
     "name": "stdout",
     "output_type": "stream",
     "text": [
      "['It', 'Nightmares &amp; Dreamscapes', 'Misery', 'The Tommyknockers', 'Four Past Midnight', 'Dolores Claiborne', 'Insomnia', 'Desperation', 'Skeleton Crew', 'Pet Sematary', 'Rose Madder', 'Dreamcatcher', 'The Green Mile', 'The Fellowship of the Ring (The Lord of the Rings, Part 1)', 'The Dark Half', 'The Talisman', \"Gerald's Game\", 'The Regulators', \"Everything's Eventual : 14 Dark Tales\", 'Different Seasons', 'Watchers', 'Thinner', 'Needful Things', 'Bag of Bones', 'The Girl Who Loved Tom Gordon', 'Silence of the Lambs', 'Needful Things: The Last Castle Rock Story', 'The Drawing of the Three (The Dark Tower, Book 2)', 'Wizard and Glass (The Dark Tower, Book 4)', 'Hannibal', 'The Green Mile: The Bad Death of Eduard Delacroix (Green Mile Series)', 'The Return of the King (The Lord of the Rings, Part 3)', 'Black House', 'Harry Potter and the Chamber of Secrets (Book 2)', 'The Eyes of the Dragon', 'The Stand (The Complete and Uncut Edition)', 'The Client', 'The Waste Lands (The Dark Tower, Book 3)', 'Two for the Dough', 'Carrie', \"Stephen King's Danse Macabre\", 'From the Corner of His Eye', 'To Kill a Mockingbird', 'The Two Towers (The Lord of the Rings, Part 2)', 'Harry Potter and the Prisoner of Azkaban (Book 3)', 'Intensity', \"The Green Mile: Coffey's Hands (Green Mile Series)\", 'The Bachman Books: Rage, the Long Walk, Roadwork, the Running Man', 'Firestarter', 'The Face', 'Eyes of the Dragon', 'Dune Messiah (Dune Chronicles, Book 2)', 'Fahrenheit 451', 'One for the Money (Stephanie Plum Novels (Paperback))', \"Harry Potter and the Sorcerer's Stone (Harry Potter (Paperback))\", 'The Tale of the Body Thief (Vampire Chronicles (Paperback))', 'What Looks Like Crazy On An Ordinary Day', 'The Divine Secrets of the Ya-Ya Sisterhood: A Novel', 'Three To Get Deadly : A Stephanie Plum Novel (A Stephanie Plum Novel)', 'The Vampire Lestat (Vampire Chronicles, Book II)', 'Fried Green Tomatoes at the Whistle Stop Cafe', 'Hearts In Atlantis', 'Christine', 'Hot Six : A Stephanie Plum Novel (A Stephanie Plum Novel)', 'The Alienist', 'Four To Score (A Stephanie Plum Novel)', 'Different Seasons (Signet)', 'The Runaway Jury', 'Seven Up (A Stephanie Plum Novel)', 'The Green Mile: The Complete Serial Novel', 'The Partner', 'The Pelican Brief', '1984', \"Ender's Game (Ender Wiggins Saga (Paperback))\", 'The Green Mile: The Mouse on the Mile (Green Mile Series)', 'Chosen Prey', 'One Door Away from Heaven', 'The Da Vinci Code', \"Bridget Jones's Diary\", 'Key of Valor (Roberts, Nora. Key Trilogy, 3.)', 'The Summons', 'The Dead Zone', 'The Lovely Bones: A Novel', 'The Red Tent (Bestselling Backlist)', 'Brave New World', \"The Plains of Passage (Earth's Children (Paperback))\", 'The Gunslinger (The Dark Tower, Book 1)', 'Hard Eight : A Stephanie Plum Novel (A Stephanie Plum Novel)', 'The Tao of Pooh', 'High Five (A Stephanie Plum Novel)', 'The Secret Life of Bees', \"Left Behind: A Novel of the Earth's Last Days (Left Behind No. 1)\", 'Christmas Box (Christmas Box Trilogy)', 'Lord of the Flies', 'The Testament', 'Dr. Death (Alex Delaware Novels (Paperback))', 'The Cat in the Hat', 'Ellen Foster', 'The Queen of the Damned (Vampire Chronicles (Paperback))', 'All That Remains (Kay Scarpetta Mysteries (Paperback))', 'Red Dragon', 'The Diary of Ellen Rimbauer: My Life at Rose Red', 'Harry Potter and the Goblet of Fire (Book 4)', 'DEAD BY SUNSET : DEAD BY SUNSET', 'Nicolae: The Rise of Antichrist (Left Behind No. 3)', 'BAG OF BONES : A NOVEL', 'Cradle and All', 'On the Street Where You Live', 'Chapterhouse Dune (Dune Chronicles, Book 6)', 'Interview with the Vampire', 'Divine Evil', 'The Green Mile: Coffey on the Mile (Green Mile Series)', 'Cruel &amp; Unusual (Kay Scarpetta Mysteries (Paperback))', 'White Oleander : A Novel', 'From a Buick 8 : A Novel', 'The Two Dead Girls (Green Mile Series)', 'Fight Club', 'All I Really Need to Know', '\\\\O\\\\\" Is for Outlaw\"', 'Where Are the Children?', 'The Green Mile: Night Journey (Green Mile Series)', 'A Time to Kill', 'Jurassic Park', 'Toxin', 'Congo', \"The Clan of the Cave Bear (Earth's Children (Paperback))\", \"Salem's Lot\", 'The Stand: Complete and Uncut', 'The Nanny Diaries: A Novel', 'The Clinic (Alex Delaware Novels (Paperback))', 'I Is for Innocent', '1st to Die: A Novel', 'The Midnight Club', 'Bearing an Hourglass (Incarnations of Immortality (Paperback))', 'The Prince of Tides', 'Icebound', 'The Hobbit : The Enchanting Prelude to The Lord of the Rings', 'Small Sacrifices: A True Story of Passion and Murder', \"Tuesdays with Morrie: An Old Man, a Young Man, and Life's Greatest Lesson\", 'House of Sand and Fog', 'One Fish Two Fish Red Fish Blue Fish (I Can Read It All by Myself Beginner Books)', 'Memnoch the Devil (Vampire Chronicles, No 5)', 'Flesh and Blood', 'Whispers', 'Green Eggs and Ham (I Can Read It All by Myself Beginner Books)', 'Friday', 'Cujo', 'The Great Gatsby', 'Watership Down', 'Love You Forever', 'Dune (Remembering Tomorrow)', 'A Painted House', 'The Te of Piglet', 'Stillwatch', 'The Notebook', 'Sanctuary', 'N Is for Noose', 'The Secret Garden', 'House Atreides (Dune: House Trilogy, Book 1)', 'The Shining (Signet Book)', 'Nights in Rodanthe', 'Cry Wolf', 'I Know This Much Is True', 'To the Nines: A Stephanie Plum Novel', 'The Brethren', \"The Hitchhiker's Guide to the Galaxy\", \"The Lost Boy: A Foster Child's Search for the Love of a Family\", 'Face the Fire (Three Sisters Island Trilogy)', 'Night Whispers', 'Sick Puppy', 'B Is for Burglar (Kinsey Millhone Mysteries (Paperback))', 'The Unbearable Lightness of Being', 'Hideaway', 'The Bone Collector (Lincoln Rhyme Novels (Paperback))', 'Heaven and Earth (Three Sisters Island Trilogy)', 'You Belong to Me', 'Black and Blue', \"Life's Little Instruction Book (Life's Little Instruction Books (Paperback))\", 'Firestarter (Signet Book)', 'Lightning', \"Charlotte's Web (Trophy Newbery)\", 'Jewels of the Sun (Irish Trilogy)', 'The Ritual Bath (Peter Decker &amp; Rina Lazarus Novels (Paperback))', 'C Is for Corpse (Kinsey Millhone Mysteries (Paperback))', 'Anne of Green Gables (Anne of Green Gables Novels (Paperback))', 'The Five People You Meet in Heaven', 'That Camden Summer', \"Chicken Soup for the Woman's Soul (Chicken Soup for the Soul Series (Paper))\", 'Chicken Soup for the Soul at Work (Chicken Soup for the Soul Series (Paper))', 'The Mummy or Ramses the Damned', 'Silent Prey', 'The Reptile Room (A Series of Unfortunate Events, Book 2)', 'The Gift', 'A Walk to Remember', \"Daddy's Little Girl\", 'The Fulfillment', 'Life of Pi', 'Fast Food Nation: The Dark Side of the All-American Meal', 'Sea Glass: A Novel', 'Survivor : A Novel', \"The Shelters of Stone (Earth's Children Series, No 5)\", 'Animal Farm', 'Cause of Death', 'Fear Nothing', 'The Servants of Twilight', 'The Bad Place', 'Blood Work', 'On the Street Where You Live : A Novel', 'The English Patient', 'The Postman (Bantam Classics)', 'Dragon Tears', 'The Door to December', 'The Firm', 'Unnatural Exposure', 'Isle of Dogs', 'Disclosure', 'Foundation (Foundation Novels (Paperback))', 'Key of Knowledge (Key Trilogy (Paperback))', 'Skipping Christmas', 'Book Club', 'Eyes of Prey', 'The Girl Who Loved Tom Gordon : A Novel', 'Good Omens', 'By the Light of the Moon', \"The Kitchen God's Wife\", 'The Street Lawyer', 'The Magic of You (Malory Novels (Paperback))', 'Cold Fire', 'The Deep End of the Ocean', 'Hearts in Atlantis', 'The King of Torts', 'L Is for Lawless', 'Harry Potter and the Order of the Phoenix (Book 5)', 'Cat &amp; Mouse (Alex Cross Novels)', 'Scarlett : The Sequel to Margaret Mitchell\\'s \\\\Gone With the Wind\\\\\"\"', 'The Bad Beginning (A Series of Unfortunate Events, Book 1)', 'STONES FROM THE RIVER', 'The Book of Questions', 'A Spell for Chameleon (Xanth Novels (Paperback))', 'The Rescue', 'Red Storm Rising', 'Stranger in a Strange Land (Remembering Tomorrow)', 'You Belong To Me', 'Good in Bed', 'I Is for Innocent (A Kinsey Millhone Mystery)', 'Acceptable Risk', 'Outbreak', 'The Rapture of Canaan', 'Then Came Heaven', 'Monster : A Novel (Alex Delaware Novels (Paperback))', 'Cold Mountain', 'Nightshade', 'Zen and the Art of Motorcycle Maintenance: An Inquiry into Values', 'The Murder Book', 'The Lottery Winner : Alvirah And Willy Stories', 'A Knight in Shining Armor', 'Message in a Bottle', 'The Catcher in the Rye', 'Killing Dance (Anita Blake Vampire Hunter (Paperback))', 'Neuromancer (Remembering Tomorrow)', 'Anne of Avonlea (Anne of Green Gables Novels (Paperback))', 'H Is for Homicide (Kinsey Millhone Mysteries (Paperback))', 'A Is for Alibi (Kinsey Millhone Mysteries (Paperback))', 'The Web (Alex Delaware Series, No. 10)', 'The Wedding', 'Angels &amp; Demons', 'The Scarlet Letter', \"Don't Sweat the Small Stuff and It's All Small Stuff : Simple Ways to Keep the Little Things from Taking Over Your Life (Don't Sweat the Small Stuff Series)\", 'Children of Dune (Dune Chronicles, Book 3)', 'Blood Work (Blood Work)', 'E Is for Evidence: A Kinsey Millhone Mystery (Kinsey Millhone Mysteries (Paperback))', 'Fall On Your Knees (Oprah #45)', 'Rage of Angels', 'Heart of the Sea (Irish Trilogy)', 'The Poet', 'Timeline', 'Gone with the Wind', 'The Shining', \"Slaughterhouse Five or the Children's Crusade: A Duty Dance With Death\", 'Violets Are Blue', \"Drowning Ruth (Oprah's Book Club)\", 'Servant of the Bones', 'Seize the Night', 'Girl in Hyacinth Blue', 'Midwives: A Novel', 'Being a Green Mother (Incarnations of Immortality (Paperback))', 'Vittorio the Vampire: New Tales of the Vampires', 'The First Wives Club Movie Tie In', 'Silent Partner (Alex Delaware Novels (Paperback))', 'Who Moved My Cheese? An Amazing Way to Deal with Change in Your Work and in Your Life', 'Illusions: The Adventures of a Reluctant Messiah', 'Lucky Man: A Memoir', 'Second Foundation (Foundation Novels (Paperback))', 'Xanth 15: The Color of Her Panties', 'Charming the Prince', 'The Magic School Bus Lost in the Solar System (Magic School Bus (Paperback))', 'Weep No More My Lady', 'The Giving Tree', 'The Rainmaker', \"The Time Traveler's Wife (Today Show Book Club #15)\", 'Fox in Socks (I Can Read It All by Myself Beginner Books)', \"Chicken Soup for the Cat and Dog Lover's Soul - Celebrating Pets as Family with Stories About Cats, Dogs and Other Critters\", 'The Endearment', 'Snow Falling on Cedars', 'Manhattan Hunt Club', 'A Thin Dark Line (Mysteries &amp; Horror)', 'Winter Moon', 'The Second Time Around : A Novel', 'Hop on Pop (I Can Read It All by Myself Beginner Books)', \"A Rose For Her Grave &amp; Other True Cases (Ann Rule's Crime Files)\", \"The Handmaid's Tale\", 'Before I Say Good-Bye', \"The Hobbit (Leatherette Collector's Edition)\", 'Silent Night : A Christmas Suspense Story', 'Purity in Death', 'Phantoms', 'A Man Named Dave: A Story of Triumph and Forgiveness', 'Anne of Windy Poplars (Anne of Green Gables Novels (Paperback))', 'Darkfall', 'Moreta: Dragonlady of Pern', 'Are You My Mother?', \"My Sister's Keeper : A Novel (Picoult, Jodi)\", 'Anne of the Island', 'Go, Dog, Go (I Can Read It All by Myself Beginner Books)', 'Every Breath You Take : A True Story of Obsession, Revenge, and Murder', 'Naked in Death', 'The Reader', 'The Blue Day Book', 'When the Wind Blows', 'Portrait in Death', 'Narcissus in Chains (Anita Blake Vampire Hunter (Hardcover))', 'Macgregor Brides (Macgregors)', 'Deception Point', \"Harry Potter and the Sorcerer's Stone (Book 1)\", 'Crow Lake (Today Show Book Club #7)', 'The Little Prince', \"The Dive From Clausen's Pier (Alex Awards)\", 'James and the Giant Peach', 'The Color Purple', 'Me Talk Pretty One Day', 'False Memory', \"A Second Chicken Soup for the Woman's Soul (Chicken Soup for the Soul Series)\", 'The Woman Warrior : Memoirs of a Girlhood Among Ghosts', \"Left Behind: A Novel of the Earth's Last Days (Left Behind #1)\", '2010: Odyssey Two', 'The Eyes of Darkness', 'The Witching Hour (Lives of the Mayfair Witches)', 'Q Is for Quarry', 'The Essential Calvin and Hobbes', 'Midnight in the Garden of Good and Evil', 'Roses Are Red', 'Chain Letter (Avon Camelot Books (Paperback))', 'The Dogs of Babel (Today Show Book Club #12)', 'I, Robot', 'Dance upon the Air (Three Sisters Island Trilogy)', 'Night Sins', \"Anne's House of Dreams\", 'Killing Mr. Griffin (Laurel Leaf Books)', 'On the Banks of Plum Creek', 'The Clan of the Cave Bear : a novel', 'The Lord of the Rings (Movie Art Cover)', 'Sanctuary (Peter Decker &amp; Rina Lazarus Novels (Paperback))', 'The Key to Midnight', 'One for the Money (A Stephanie Plum Novel)', \"Angela's Ashes: A Memoir\", 'Carolina Moon', 'YOU BELONG TO ME', 'Three Fates', 'Shell Seekers', \"She's Come Undone (Oprah's Book Club)\", 'Hearts In Atlantis : New Fiction', 'Red Mars (Mars Trilogy)', 'Girl With a Pearl Earring', 'The Shadow Rising (The Wheel of Time, Book 4)', 'The Left Hand of Darkness (Remembering Tomorrow)', 'Lucky You', \"Sabine's Notebook: In Which the Extraordinary Correspondence of Griffin &amp; Sabine Continues\", 'Rilla of Ingleside (Anne of Green Gables Novels (Paperback))', 'The Last Precinct', 'Reunion in Death', 'Time And Again', 'Riptide', 'A Game of Thrones (A Song of Ice and Fire, Book 1)', \"Life's Little Instruction Book; Volume II\", 'Rendezvous with Rama', 'The Perfect Storm : A True Story of Men Against the Sea', 'Remember When (Roberts, Nora)', 'A Clockwork Orange (Norton Paperback Fiction)', 'Savage Thunder', 'Heartbreaker', 'The Shipping News : A Novel', 'Shadowfires', 'Shogun', 'The Stand: The Complete &amp; Uncut Edition', 'Rules of Prey', 'Gone For Good', 'Mistaken Identity', \"I'll Be Seeing You\", 'Midnight', 'Dragonsdawn', 'All Around the Town', 'Of Mice and Men (Penguin Great Books of the 20th Century)', 'Prey: A Novel', 'Bloody Bones (Anita Blake Vampire Hunter (Paperback))', 'The Dragon Reborn (The Wheel of Time, Book 3)', 'Middlesex: A Novel', 'Survival of the Fittest: An Alex Delaware Novel', 'American Psycho (Vintage Contemporaries)', 'The Face of Fear', 'Night Chills', 'Catch 22', 'Tribulation Force: The Continuing Drama of Those Left Behind (Left Behind No. 2)', 'Killjoy', 'Anne of Ingleside (Anne of Green Gables Novels (Paperback))', 'The Alchemist: A Fable About Following Your Dream', 'Vector', 'N Is for Noose (Kinsey Millhone Mysteries (Hardcover))', \"Chicken Soup for the Pet Lover's Soul (Chicken Soup for the Soul)\", 'The Renegades of Pern (Dragonriders of Pern (Paperback))', 'Pearl in the Mist (Landry)', 'Soul Harvest: The World Takes Sides (Left Behind No. 4)', 'Montana Sky', \"The Hangman's Beautiful Daughter\", \"Where the Heart Is (Oprah's Book Club (Paperback))\", 'The Outsiders (Now in Speak!)', 'Slammerkin', 'Where Are the Children', 'Chromosome 6', 'Small Town Girl', 'Family: The Ties That Bind and Gag', 'Call of the Wild', 'Chocolat', 'The Bourne Identity', 'The Grapes of Wrath: John Steinbeck Centennial Edition (1902-2002)', 'Mercy', 'I Capture the Castle', 'Mr. Perfect', \"Fortune's Rocks : A Novel\", 'Midnight Bayou', 'The Return of the Indian (Indian in the Cupboard)', 'Fine Things', 'The Mothman Prophecies', 'The Mistress of Spices', 'Do Androids Dream of Electric Sheep?', 'Flowers for Algernon (Bantam Classic)', 'First Lady', 'The Night Crew', 'Flowers In The Attic (Dollanganger)', 'The Lost World', 'Five Days in Paris', \"The No. 1 Ladies' Detective Agency\", 'Dracula (Signet Classics (Paperback))', 'Easy Prey', 'The Maze', \"From Potter's Field\", 'Born in Fire', 'The Corrections (Oprah Edition)', 'A Map of the World', 'The Fires of Heaven (The Wheel of Time, Book 5)', 'Jane Eyre (Bantam Classics)', 'The Edge of Town', \"The Dress Lodger (Ballantine Reader's Circle)\", \"The Doctor's Book of Home Remedies : Thousands of Tips and Techniques Anyone Can Use to Heal Everyday Health Problems\", 'Pay It Forward', 'Lasher: Lives of the Mayfair Witches (Lives of the Mayfair Witches)', 'Let Me Call You Sweetheart', 'Lies and the Lying Liars Who Tell Them: A Fair and Balanced Look at the Right', 'The Curious Incident of the Dog in the Night-Time (Today Show Book Club #13)', 'Living Dead in Dallas (Southern Vampire Mysteries)', 'The Silmarillion', 'About a Boy (Movie Tie-In)', 'The Bridges of Madison County', 'Melody (Logan)', 'Balzac and the Little Chinese Seamstress : A Novel', 'Back When We Were Grownups: A Novel', 'Mortal Prey', 'Assassins: Assignment: Jerusalem, Target: Antichrist (Left Behind #6)', 'My Gal Sunday', 'Welcome to Temptation', 'Tell Me Your Dreams', 'Neverwhere', 'Tears of the Giraffe (No.1 Ladies Detective Agency)', 'Amber Beach (Donovan)', 'Stone Kiss', 'Storm Front (The Dresden Files, Book 1)', 'Island of the Blue Dolphins (Laurel Leaf Books)', \"Pretend You Don't See Her\", 'Rainbow Six', 'The Stone Monkey (Lincoln Rhyme Novels (Paperback))', 'Coraline', 'Hello, Darkness', 'The Hours: A Novel', 'Creature', 'A Cold Heart: An Alex Delaware Novel', 'Writ of Execution', 'The Joy Luck Club', 'Icy Sparks', 'Seabiscuit', 'Griffin &amp; Sabine: An Extraordinary Correspondence', 'Sea Swept (Quinn Brothers (Paperback))', 'Gone But Not Forgotten', 'Sacred Sins', 'Darkness', 'Confessions of an Ugly Stepsister : A Novel', 'The Guardian', 'On Writing', 'Shadow Prey', 'Circle of Friends', 'How Reading Changed My Life (Library of Contemporary Thought)', 'Rising Sun', 'Without Remorse', 'Chicken Soup for the Soul (Chicken Soup for the Soul)', 'The Ugly Duckling', \"Hornet's Nest\", 'Postmortem', 'Shopgirl', 'Simple Abundance:  A Daybook of Comfort and Joy', 'Strangers', 'Seven Habits Of Highly Effective People', 'One True Thing', 'Speaking in Tongues', 'Sole Survivor', 'Out of This World', \"River's End\", \"Patty Jane's House of Curl (Ballantine Reader's Circle)\", 'Sphere', 'Passage', 'Running with Scissors: A Memoir', 'The Last Time They Met : A Novel', 'OLD MAN AND THE SEA', 'It Was on Fire When I Lay Down on It', 'The Last Juror', 'Grendel', 'Guardian Angel', 'The Indispensable Calvin And Hobbes', 'G Is for Gumshoe (Kinsey Millhone Mysteries (Paperback))', 'The Hunt for Red October', 'From a Buick 8', 'Friendship Cake', 'How to Be Good', \"I'll Take Manhattan\", \"Ice Bound: A Doctor's Incredible Battle for Survival at the South Pole\", 'The Funhouse', 'The Forgotten (Peter Decker &amp; Rina Lazarus Novels (Paperback))', 'J Is for Judgment', 'Sudden Prey', 'Jack &amp; Jill (Alex Cross Novels)', 'Johnny Angel', 'Kiss the Girls', \"The Dilbert Principle: A Cubicle's-Eye View of Bosses, Meetings, Management Fads &amp; Other Workplace Afflictions\", 'Leap of Faith', 'Like Water for Chocolate : A Novel in Monthly Installments with Recipes, Romances, and Home Remedies', 'Little Altars Everywhere: A Novel', 'The Cobra Event', 'The Celestine Prophecy (Celestine Prophecy)', 'The Andromeda Strain', 'The Anastasia Syndrome', \"Nerilka's Story (Dragonriders of Pern (Paperback))\", 'Summer Sisters', 'Eva Luna', 'Girl, Interrupted', 'Blue Diary', 'Clear and Present Danger (Jack Ryan Novels)', 'Wicked: The Life and Times of the Wicked Witch of the West', 'Acts of Malice', 'Along Came a Spider (Alex Cross Novels)', 'Amy and Isabelle : A novel', 'Brazen Virtue', 'The Thorn Birds', 'A Wind in the Door', 'A Cry In The Night', 'The Search', 'Basket Case', 'The Weight of Water', 'Wielding a Red Sword (Incarnations of Immortality (Paperback))', 'The Vision', 'The Vineyard', 'Critical Mass', \"We'll Meet Again\", 'Dance Hall of the Dead (Joe Leaphorn Novels)', '2061: Odyssey Three', 'D Is for Deadbeat (Kinsey Millhone Mysteries (Paperback))', 'Chicken Soup for the Christian Soul (Chicken Soup for the Soul Series (Paper))', \"The Ultimate Hitchhiker's Guide\", 'This Present Darkness', 'Four Blind Mice', 'Pop Goes the Weasel', 'Doomsday Book', 'Patron Saint of Liars : A Novel', 'Patriot Games (Jack Ryan Novels)', 'Lake Wobegon Days', 'Space', 'The Jester', 'Miss Julia Speaks Her Mind : A Novel', 'For Love of Evil : Book Six of Incarnations of Immortality (Incarnations of Immortality (Paperback))', \"Dr. Atkins' New Diet Revolution\", 'Forever and Always', 'Season of the Machete', 'Midnight Voices', 'The Terminal Man', 'Pelican Brief', 'Time Bomb (Alex Delaware Novels (Paperback))', 'Blood Shot (V.I. Warshawski Novels (Paperback))', 'Demon Seed', 'Dark Rivers of the Heart', 'Black Notice', 'Seventh Son (Tales of Alvin Maker, Book 1)', 'The Darwin Awards: Evolution in Action', 'Tis: A Memoir', \"Big Stone Gap: A Novel (Ballantine Reader's Circle)\", 'To Sir Phillip, With Love', 'Prehistory of the Far Side', 'TickTock', 'Genuine Lies', 'Pandora: New Tales of the Vampires (New Tales of the Vampires)', 'The Empress File', 'Blessings', 'Body for Life: 12 Weeks to Mental and Physical Strength', 'Gap Creek: The Story Of A Marriage', 'The Seven Spiritual Laws of Success: A Practical Guide to the Fulfillment of Your Dreams (based on Creating Affluence)', 'The Secret of the Old Clock (Nancy Drew Mystery Stories, No 1)', \"Songs in Ordinary Time (Oprah's Book Club (Paperback))\", 'Private Eyes (Alex Delaware Novels (Paperback))', 'The Blue Nowhere : A Novel', 'All Quiet on the Western Front', 'Empty Promises', '2nd Chance', 'About a Boy', 'White Noise (Contemporary American Fiction)', 'Absolute Power', 'Anne Frank: The Diary of a Young Girl', 'My Sergei: A Love Story', 'A Light in the Attic', 'Special Delivery: A Novel', 'The Glass Lake', 'The Pillars of the Earth', 'Year of Wonders: A Novel of the Plague', \"The Pilot's Wife : A Novel Tag: Author of the Weight of Water (Oprah's Book Club (Hardcover))\", 'Invasion', 'Alias Grace : A Novel', 'Wanderlust', 'A Bend in the Road', 'Death du Jour', 'Breathing Lessons', 'Debt of Honor (Jack Ryan Novels)', 'M Is for Malice', 'SHIPPING NEWS', 'Bel Canto: A Novel', 'Critical Judgment', \"The Idiot Girls' Action Adventure Club\", 'Body of Evidence (Kay Scarpetta Mysteries (Paperback))', 'Charming Billy', 'Blindsight', 'On a Pale Horse (Incarnations of Immortality, Bk. 1)', 'The Robber Bride', 'Queen of the Damned (Vampire Chronicles, Book III)', 'Blow Fly: A Scarpetta Novel', 'Silver Wedding', \"ANGELA'S ASHES\", 'Peace Like a River', 'Mutation', 'Carnal Innocence', 'Undue Influence', 'The Body Farm', 'Politically Correct Bedtime Stories: Modern Tales for Our Life and Times', 'Divine Secrets of the Ya-Ya Sisterhood: A Novel', 'To Love Again', 'Girl with a Pearl Earring', 'Mortal Fear', 'River, Cross My Heart', 'The Grapes of Wrath (20th Century Classics)', 'Name of the Rose-Nla', 'The List', 'The Cider House Rules', \"Suzanne's Diary for Nicholas\", 'The Sum of All Fears (Jack Ryan Novels)', 'The Things They Carried', 'The Switch', \"Sophie's Choice\", 'Speaker for the Dead (Ender Wiggins Saga (Paperback))', 'Angel Falls', 'The Burden of Proof', 'Faking It', 'The Vampire Armand : The Vampire Chronicles (Rice, Anne, Vampire Chronicles)', 'Hide &amp; Seek', 'The Jungle (Bantam Classics)', 'The Fourth Hand', \"A Cup of Tea (Ballantine Reader's Circle)\", 'Butterfly (Orphans)', 'L Is for Lawless (Kinsey Millhone Mysteries)', 'The Screwtape Letters', 'Winter Solstice', 'Julie and Romeo: A Novel', 'The Vile Village (A Series of Unfortunate Events, Book 7)', 'Cerulean Sins: An Anita Blake, Vampire Hunter Novel', 'Prodigal Summer', 'While My Pretty One Sleeps', 'It Came From The Far Side', 'If There Be Thorns (Dollanganger)', 'Skin Tight', 'Ishmael: An Adventure of the Mind and Spirit', 'Body of Lies', \"Kushiel's Dart\", \"I Know This Much Is True (Oprah's Book Club)\", \"Charlotte's Web\", \"The Girls' Guide to Hunting and Fishing\", 'The Girl Who Heard Dragons', 'The Voice of the Night', 'A Separate Peace', 'A Prayer for Owen Meany', 'The World According to Garp', \"The Venetian's Wife: A Strangely Sensual Tale of a Renaissance Explorer, a Computer, and a Metamorphosis\", 'The Fountainhead', 'Pride &amp; Prejudice (Wordsworth Classics)', 'The Fallen Man (Joe Leaphorn Novels)', 'Where the Red Fern Grows', \"Jewel (Oprah's Book Club)\", 'Jitterbug Perfume', 'Job: A Comedy of Justice', 'Catch Me If You Can: The True Story of a Real Fake', 'Johnny Got His Gun', 'The Witch of Blackbird Pond (Yearling Newbery)', 'Judgment in Death', 'The First Horseman', 'Kill and Tell', 'Cat and Mouse', 'In Her Shoes : A Novel', 'Siddhartha', 'K Is for Killer (Grafton, Sue. Kinsey Millhone Mysteries.)', 'JITTERBUG PERFUME', 'Key of Light (Key Trilogy (Paperback))', 'J is for Judgment', 'Sink Reflections', 'Catering to Nobody', 'Illusions', 'Illuminati.', 'Imitation in Death (Eve Dallas Mysteries (Paperback))', 'The First Counsel', 'A Simple Plan', 'My Antonia', 'Starship Troopers', 'Stanislaski Sisters', 'Neanderthal: A Novel', 'Angus, Thongs and Full-Frontal Snogging: Confessions of Georgia Nicolson', 'Stalker: A Peter Decker and Rina Lazarus Novel', \"Split Second (Maggie O'Dell Novels (Paperback))\", 'Naked', 'My Side of the Mountain', 'P Is for Peril (Kinsey Millhone Mysteries (Hardcover))', 'And Then There Were None', 'The Authoritative Calvin and Hobbes (Calvin and Hobbes)', 'As Nature Made Him: The Boy Who Was Raised As a Girl', 'Paradise', 'Speak', 'Paris to the Moon', 'At Home in Mitford (The Mitford Years)', 'Morning Glory', \"More Than Complete Hitchhiker's Guide\", 'Night', 'Open House', 'The Bear and the Dragon (Jack Ryan Novels)', 'All That Glitters (Landry)', 'On the Road', \"Ahab's Wife: Or, The Star-Gazer: A Novel\", 'Still Waters', 'Stormy Weather', 'Story of O', \"Oh, the Places You'll Go!\", 'All I Need to Know I Learned from My Cat', 'Strange Highways', 'Still Life with Woodpecker', 'Sweet Liar', 'Numbered Account', 'Strip Tease', 'Now You See Me', 'We Were the Mulvaneys', 'Stiff: The Curious Lives of Human Cadavers', 'All the Weyrs of Pern (Dragonriders of Pern (Paperback))', 'No Second  Chance', 'Swan Song', 'Moonlight Becomes You', 'A Wrinkle in Time', 'Things Fall Apart : A Novel', 'The Dark Highlander', 'Betrayal in Death', \"Plains of Passage (Earth's Children)\", 'Plum Island', 'Tipping the Velvet', 'The Curious Incident of the Dog in the Night-Time (Vintage Contemporaries)', 'Birdman', 'Like Water for Chocolate: A Novel in Monthly Installments With Recipes, Romances and Home Remedies', 'Birthright', 'Time Flies', 'Loves Music, Loves to Dance', 'The Dark Is Rising', 'Blackwood Farm (The Vampire Chronicles)', 'The Demon-Haunted World: Science As a Candle in the Dark', \"Pope Joan (Ballantine Reader's Circle)\", 'Bleachers', \"Le Parfum : Histoire d'un meurtrier\", \"The Dilbert Principle: A Cubicle'S-Eye View of Bosses, Meetings, Management Fads &amp; Other Workplace Afflictions\", 'Lair of the Lion', \"Chicken Soup for the Couple's Soul (Chicken Soup for the Soul)\", 'Lucky : A Memoir', 'Paula', 'Tourist Season', 'The Big Bad Wolf: A Novel', 'The Birth of Venus', 'Mind Prey', 'Pearl Cove (Donovan)', 'Traveling Mercies: Some Thoughts on Faith', 'Middle of Nowhere', 'Trading Places', 'Message from Nam', 'Beach Music', 'The Chronicles of Pern: 1st Fall (The Dragonriders of Pern)', \"Perfect Evil (Maggie O'Dell Novels (Paperback))\", 'The Bridge Across Forever', 'The Cat Who Brought Down the House', 'Before I Say Good-Bye : A Novel', 'The Cat in the Hat Comes Back (I Can Read It All by Myself Beginner Books)', 'What to Expect the First Year', 'M Is for Malice (Kinsey Millhone Mysteries (Hardcover))', 'Someone to Watch Over Me : A Novel', 'Beloved', 'Stolen Lives: Twenty Years in a Desert Jail', \"Chicken Soup for the Mother's Soul (Chicken Soup for the Soul Series (Paper))\", 'A 5th Portion of Chicken Soup for the Soul : 101 Stories to Open the Heart and Rekindle the Spirit', 'The Sparrow', 'A Caress of Twilight (Meredith Gentry Novels (Hardcover))', \"Don't Let's Go to the Dogs Tonight : An African Childhood\", 'The Spirit Catches You and You Fall Down', 'The Millionaires', 'Dandelion Wine (Grand Master Editions)', 'The Mists of Avalon', 'Seabiscuit: An American Legend', 'Fire Ice: A Novel from the Numa Files (Kurt Austin Adventures (Paperback))', 'Remembrance', 'Dream Country', 'Crystal Line', 'SILENT NIGHT : The Story of the World War I Christmas Truce', 'The Macgregors: Serena - Caine (The Macgregors)', 'Feast of All Saints', \"East of Eden (Oprah's Book Club)\", 'The House of Thunder', 'Dune', \"The Sweet Potato Queens' Book of Love\", 'A 4th Course of Chicken Soup for the Soul: 101 More Stories to Open the Heart and Rekindle the Spirit', 'Courting Trouble', 'The Ranch', 'A Kiss of Shadows (Meredith Gentry Novels (Paperback))', 'Hemlock Bay', 'Wifey', 'Fatal Voyage', 'The Hot Zone', 'The Next Accident', 'Hidden Riches', 'Rebecca', 'Flirting with Pete : A Novel', 'Dark Challenge', 'The Killer Angels', 'Dark Desire (Paranormal Romance)', 'The Macgregors: Alan - Grant (The Macgregors)', 'A Child Called \\\\It\\\\\": One Child\\'s Courage to Survive\"', 'Defy Not The Heart', 'The Secret', 'Xanth 14: Question Quest', 'The Scottish Bride (Bride Trilogy (Paperback))', 'The Shell Seekers (Shell Seekers)', 'The Sherbrooke Bride (Bride Trilogy (Paperback))', 'French Silk', 'The Ship Who Sang', 'Xenocide (Ender Wiggins Saga (Paperback))', 'Seduction in Death', \"The Samurai's Garden : A Novel\", 'Dirty Work', \"The Liar's Club: A Memoir\", \"Daughter of Fortune : A Novel (Oprah's Book Club (Hardcover))\", 'Glory in Death', 'Wolves of the Calla (The Dark Tower, Book 5)', 'Go Ask Alice (Avon/Flare Book)', \"The Magician's Nephew (rack) (Narnia)\", 'The Revenge Of The Baby-Sat', \"The Mammoth Hunters (Earth's Children (Paperback))\", 'Dark Symphony', 'The Mammy', 'Dark Magic', 'Dark Guardian', 'Dark Gold', 'The Martian Chronicles', 'The Skies of Pern', 'The Talented Mr. Ripley (Vintage Crime/Black Lizard)', 'The Indian in the Cupboard (rack) (Indian in the Cupboard)', 'The Hobbit: or There and Back Again', 'The Poisonwood Bible', 'Colony', 'False Pretenses', 'The Pull of the Moon', 'Falling Leaves Brit Edition', 'Echoes', 'Honest Illusions', 'The Once and Future King', \"Scientific Progress Goes 'Boink':  A Calvin and Hobbes Collection\", \"Your Oasis on Flame Lake (Ballantine Reader's Circle)\", 'The Professor and the Madman: A Tale of Murder, Insanity, and the Making of The Oxford English Dictionary', 'Chocolate Chip Cookie Murder (Hannah Swensen Mysteries (Paperback))', 'The Outsiders', 'Exclusive', 'The Phantom Tollbooth', 'The Playboy', \"The Time Traveler's Wife\", 'Eva Moves the Furniture: A Novel', \"The Pilot's Wife\", 'The God of Small Things', 'REMEMBER ME', \"Scarlett: The Sequel to Margaret Mitchell's Gone With the Wind\", 'I Am Legend', 'Holes', 'Shiloh (Yearling Newbery)', 'The Other Daughter', 'Shattered', 'Considering Kate (The Stanislaskis) (Silhouette Special Edition)', 'Confessions of a Shopaholic (Summer Display Opportunity)', 'Far Side Gallery 2', 'Sabriel (The Abhorsen Trilogy)', \"Hitchhikers's Guide to the Galaxy\", 'The Other Boleyn Girl', 'Over the Edge', 'Tears of the Moon (Irish Trilogy)', 'Frankenstein (Changing Our World)', 'Stanislaski Brothers (Silhouette Promo)', 'Perfect', 'Straight Man : A Novel (Vintage Contemporaries)', 'Saving Grace', 'Secrets', 'Bad Boy', 'Bastard Out of Carolina', 'Secret Prey', 'Saving Faith', 'Travels With Charley: In Search of America', 'Never Change', 'Sarum: The Novel of England', 'The Poisonwood Bible: A Novel', 'Obasan', 'F Is for Fugitive (Kinsey Millhone Mysteries (Paperback))', 'Forever... : A Novel of Good and Evil, Love and Hope', 'Men Are from Mars, Women Are from Venus: A Practical Guide for Improving Communication and Getting What You Want in Your Relationships', 'Memnoch the Devil : The Vampire Chronicles (Vampire Chronicles)', 'Memoirs of a Geisha', 'Many Waters', 'Standing in the Rainbow : A Novel', \"Mammoth Hunters (Earth's Children)\", 'Tell No One', 'Envy', 'Persepolis : The Story of a Childhood (Alex Awards (Awards))', 'The Cat Who Knew Shakespeare', 'Perfume: The Story of a Murderer (Vintage International)', 'The Magic Circle', 'The Calvin and Hobbes Tenth Anniversary Book', 'The Calvin &amp; Hobbes Lazy Sunday Book', 'A Wizard of Earthsea (Earthsea Trilogy, Book 1)', 'Dying for Chocolate (Culinary Mysteries (Paperback))', 'Seeds of Yesterday (Dollanganger)', 'Bee Season: A Novel', 'Dust to Dust', 'Touching Evil', 'Ruby (Landry)', \"Ender's Shadow\", 'Nerd in Shining Armor', 'Diary of a Mad Mom-To-Be', 'Sarah (Card, Orson Scott. Women of Genesis.)', 'Yukon Ho!', 'For the Roses', 'The Remnant: On the Brink of Armageddon (Left Behind No. 10)', 'Double Standards', 'The Miserable Mill (A Series of Unfortunate Events, Book 4)', 'Dragonflight (Dragonriders of Pern Trilogy (Paperback))', 'Until You', 'And Never Let Her Go : Thomas Capano: The Deadly Seducer', 'Move to Strike', 'The Namesake', 'Fingersmith', 'Night Shield (Intimate Moments, 1027)', 'The Mulberry Tree', 'Falling Leaves: The True Story of an Unwanted Chinese Daughter', 'What Dreams May Come : A Novel', 'Murder on the Orient Express (Hercule Poirot Mysteries (Paperback))', 'Feet of Clay (Discworld Novels (Paperback))', 'P Is for Peril', 'The Arctic Incident (Artemis Fowl, Book 2)', 'The Apprentice', 'Dry: A Memoir', 'Eats, Shoots &amp; Leaves: The Zero Tolerance Approach to Punctuation', 'Talk Before Sleep', 'Amsterdam : A Novel', 'Secret Fire', 'Felidae. Roman.', 'Apocalipstick', 'Pay It Forward: A Novel', 'Truly, Madly Manhattan', 'Stupid White Men. Eine Abrechnung mit dem Amerika unter George W. Bush', 'The Mark: The Beast Rules the World (Left Behind #8)', 'Southern Cross', 'The Prize', 'Notes From a Small Planet', \"Angela's Ashes (MMP) : A Memoir\", \"Sullivan's Island: A Lowcountry Tale\", \"The Beekeeper's Apprentice\", 'Nighttime Is My Time (Clark, Mary Higgins)', \"Valley of the Horses (Auel, Jean M. , Earth's Children.)\", 'Tunnel Vision (V.I. Warshawski Novels (Paperback))', 'Stargirl', 'Disobedience: A Novel', 'Apollyon: The Destroyer Is Unleashed (Left Behind No. 5)', 'Secret History, The', 'The Masterharper of Pern (Dragonriders of Pern (Paperback))', 'The Bear and the Dragon', 'One Night of Scandal', 'The Cat Who Smelled a Rat (Cat Who... (Paperback))', 'The Crucible: A Play in Four Acts (Penguin Plays)', 'Born in Ice', 'Inner Harbor (Quinn Brothers (Paperback))', 'Single White Vampire', 'K Is for Killer (Kinsey Millhone Mysteries (Paperback))', 'Preludes and Nocturnes (Sandman, Book 1)', 'A Heartbreaking Work of Staggering Genius', 'The House on Mango Street (Vintage Contemporaries)', 'The Hundred Secret Senses', 'Sister of My Heart', 'Total Control', 'Bookends : A Novel', 'Remember Me', 'Cry to Heaven', 'The Empty Chair', 'Cryptonomicon', 'With a Tangled Skein (Incarnations of Immortality (Paperback))', 'The Education of Little Tree (A Zia Book)', 'Indemnity Only (V.I. Warshawski Novels (Paperback))', 'Body of Evidence', 'The Subtle Knife (His Dark Materials, Book 2)', 'Cold Mountain (MTI) (Vintage Contemporaries)', 'A Short Guide to a Happy Life', 'Hamlet', \"Ralph's Party\", 'A Girl Named Zippy: Growing Up Small in Mooreland Indiana (Today Show Book Club #3)', 'Possessing the Secret of Joy', 'Guns, Germs, and Steel: The Fates of Human Societies', 'Wish You Well', \"Jupiter's Bones : A Peter Decker/Rina Lazarus Novel (Peter Decker &amp; Rina Lazarus Novels (Paperback))\", \"A Rage To Kill and Other True Cases : Anne Rule's Crime Files, Vol. 6 (Ann Rule's Crime Files)\", 'Winter Prey', 'Reckless', 'The Villa', 'Home Song', \"The Handmaid's Tale : A Novel\", 'Airframe', 'Prisoner of My Desire', 'Holding the Dream (Dream Trilogy)', 'The Temple of My Familiar', 'Princess: A True Story of Life Behind the Veil in Saudi Arabia', 'White Dragon', \"It's A Magical World: A Calvin and Hobbes Collection\", \"A Patchwork Planet (Ballantine Reader's Circle)\", 'The Heiress', 'The Footprints of God : A Novel', 'Calvin and Hobbes', 'The Forest House', 'Silent Witness', 'Jackdaws', 'Homicidal Psycho Jungle Cat: A Calvin and Hobbes Collection', 'Contact', 'Jane Eyre (Penguin Classics)', 'Castles', 'Simply Divine', 'The Witch of Blackbird Pond (Laurel Leaf Books)', 'The Horse Whisperer', 'Bridge to Terabithia', 'A Thief of Time (Joe Leaphorn/Jim Chee Novels)', 'Horse Whisperer', 'Club Dead (Southern Vampire Mysteries)', 'The Cottage', 'The Vagina Monologues: The V-Day Edition', 'Shutter Island: A Novel', 'The Golden Mean: In Which the Extraordinary Correspondence of Griffin &amp; Sabine Concludes', 'Changes', 'The Concrete Blonde (A Harry Bosch Novel)', \"The Color of Water: A Black Man's Tribute to His White Mother\", 'To Say Nothing of the Dog', 'Roll of Thunder, Hear My Cry', 'The Club Dumas: A Novel', 'Between Friends', 'A Natural History of the Senses', 'Romancing Mister Bridgerton', 'A Walk in the Woods: Rediscovering America on the Appalachian Trail', 'The Claiming of Sleeping Beauty (Erotic Adventures of Sleeping Beauty)', 'The Lone Ranger and Tonto Fistfight in Heaven', 'Hunting Badger (Joe Leaphorn/Jim Chee Novels)', \"White Oleander : A Novel (Oprah's Book Club)\", 'The Loop: A Novel', 'The Christmas Train', 'Gap Creek: The Story of a Marriage', 'The Lost Continent: Travels in Small-Town America', 'GARDEN OF SHADOWS (Dollanger Saga (Paperback))', 'The Christmas Box Collection : The Christmas Box Timepiece The Letter', \"Tom Clancy's Op-Center (Tom Clancy's Op Center (Paperback))\", \"Tom Clancy's Op-Center: Line of Control (Tom Clancy's Op Center (Paperback))\", 'The Vampire Armand (The Vampire Chronicles, Book 6)', 'Rising Tides', 'Private Scandals', 'The Great Hunt (The Wheel of Time, Book 2)', 'Last Man Standing', 'Bless Me, Ultima', \"The Devil's Teardrop\", 'Shock Wave (Dirk Pitt Adventures (Paperback))', 'Witness in Death (Eve Dallas Mysteries (Paperback))', 'The Darwin Awards II: Unnatural Selection', 'Choke', 'The Sisterhood of the Traveling Pants', 'The Sinner', 'Blindness (Harvest Book)', 'Time Enough for Love', 'Children of the Mind (Ender Wiggins Saga (Paperback))', 'The Simple Truth', \"Darwin's Radio\", 'Rainbow Valley (Anne of Green Gables Novels (Paperback))', 'A Tree Grows in Brooklyn', 'Public Secrets', 'Wonder Boys : A Novel (Bestselling Backlist)', '84 Charing Cross Road', 'Final Target', 'Cold Sassy Tree', \"The Bonesetter's Daughter\", 'Proof', 'Shopgirl : A Novella', 'Shipping News', \"She's Not There : A Life in Two Genders\", '16 Lighthouse Road', 'A Light in the Window (The Mitford Years)', \"Against All Enemies: Inside America's War on Terror\", 'A New Song (Mitford Years (Paperback))', 'Shopaholic Takes Manhattan (Summer Display Opportunity)', 'One Hundred Years of Solitude', \"Sam's Letters to Jennifer\", 'Once a Princess', 'Personal Injuries', 'Accordion Crimes', 'September', 'A Wrinkle In Time', 'Pompeii: A Novel', 'Ringworld', 'Sleepers', \"What We Keep : A Novel (Ballantine Reader's Circle)\", 'Point of Origin', 'Word Freak: Heartbreak, Triumph, Genius, and Obsession in the World of Competitive Scrabble Players', \"A Virtuous Woman (Oprah's Book Club (Paperback))\", 'Plainsong (Vintage Contemporaries)', \"Sophie's World: A Novel About the History of Philosophy\", 'Pendragon', 'Plain Truth', 'Pigs in Heaven', 'Roots', 'Roses Are Red (Alex Cross Novels)', 'Seinlanguage', \"Serpent's Tooth : A Peter Decker/Rina Lazarus Novel (Peter Decker &amp; Rina Lazarus Novels (Paperback))\", \"Open House (Oprah's Book Club (Paperback))\", 'When the Storm Breaks', '9-11', 'Where the Sidewalk Ends : Poems and Drawings', 'She Said Yes: The Unlikely Martyrdom of Cassie Bernall', 'Standoff', 'Pride and Prejudice', 'Out to Canaan (The Mitford Years)', 'Sex &amp; the City', 'Remember When', 'A Yellow Raft in Blue Water', 'A Great Deliverance', 'Skinwalkers (Joe Leaphorn/Jim Chee Novels)', 'A Son of the Circus', 'Wish You Were Here (Mrs. Murphy Mysteries (Paperback))', 'Sleep No More', \"Patty Jane's House of Curl\", 'A Walk in the Woods: Rediscovering America on the Appalachian Trail (Official Guides to the Appalachian Trail)', 'Endstation Venedig. Commissario Brunettis zweiter Fall.', 'Alaska', 'Code to Zero', 'Charlie and the Chocolate Factory (Puffin Novels)', 'I Know Why the Caged Bird Sings', 'The True Confessions of Charlotte Doyle (rack)', 'Hunting Season (Anna Pigeon Novels (Paperback))', 'How the Garcia Girls Lost Their Accents (Plume Contemporary Fiction)', 'Chopping Spree', 'The Tightwad Gazette: Promoting Thrift As a Viable Alternative Lifestyle', 'City of Bones', 'The Third Twin', 'The Thief Lord', 'Kitchen', 'Cold Paradise (Stone Barrington Novels (Paperback))', 'The Grilling Season', 'Homeport', 'Compelling Evidence', 'High Fidelity', 'The Honk and Holler Opening Soon', 'Here on Earth', \"Cordina's Crown Jewel\", \"Corelli's Mandolin : A Novel\", 'Certain Prey', 'If Looks Could Kill', 'Cathedral', \"The Giant's House : A Romance\", 'The Woman Next Door', \"Boy's Life\", 'Kaleidoscope', 'The Witness', 'The Eye of the World (The Wheel of Time, Book 1)', 'Burn Marks (V.I. Warshawski Novels (Paperback))', 'Jemima J', \"Je Voudrais Que Quelqu'un M'Attende Quelque Part\", 'The Far Side Gallery 4', 'By the Shores of Silver Lake (Little House)', \"It's Not About the Bike: My Journey Back to Life\", 'The Final Judgment', 'Candide (Penguin Classics)', 'The Virgin Suicides', 'The First Eagle (Jim Chee Novels)', 'The Five Love Languages: Five Love Languages', 'Interpreter of Maladies', 'The Genesis Code', 'The Ghost', 'The Surgeon', 'Creative Companion: How to Free Your Creative Spirit', 'The Importance of Being Earnest (Dover Thrift Editions)', 'Diary of a Mad Bride (Summer Display Opportunity)', \"Foucault's Pendulum\", 'Dog Handling', 'Doing Good', 'The Memory of Earth (Homecoming (Paperback))', 'Firebrand (Mira Historical Romance)', 'Dragonfly in Amber', 'Fatherland', 'Farmer Boy (Little House)', 'Fantasy Lover', 'Falling Up', 'The Pact: A Love Story', 'The Program', 'Ella Enchanted (Trophy Newbery)', 'The Passion of Artemisia', 'The Prayer of Jabez: Breaking Through to the Blessed Life', 'Empire Falls', 'The Perks of Being a Wallflower', 'The Persian Pickle Club', 'Engaging The Enemy', 'Die Weiss Lowin / Contemporary German Lit', 'Deja Dead', 'Harry Potter und der Stein der Weisen', 'Degree of Guilt', 'The Summerhouse', \"Cry, the Beloved Country (Oprah's Book Club)\", \"Hanna's Daughters (Ballantine Reader's Circle)\", 'The Indwelling: The Beast Takes Possession (Left Behind No. 7)', 'Gunpowder Green', 'Guilty Pleasures (Anita Blake Vampire Hunter (Paperback))', 'The Judge', 'Dangerous Angels: The Weetzie Bat Books', 'The Kiss', \"The Ladies Auxiliary (Ballantine Reader's Circle)\", 'Good Harbor: A Novel', 'The Lake House', 'God Save the Sweet Potato Queens', 'The Sigma Protocol', 'Scarlet Feather', 'Daughter of Fortune: A Novel', 'The Lilac Bus: Stories', 'The Little Friend', 'Gentle Rogue (Malory Novels (Paperback))', 'The Ersatz Elevator (A Series of Unfortunate Events, Book 6)', \"It's My F---ing Birthday : A Novel\", 'stardust', 'Man from Mundania (Xanth Trilogy, No 12)', 'The Worst-Case Scenario Survival Handbook', 'The Bean Trees', 'Under the Tuscan Sun', 'More Letters from a Nut', 'Waiting (Vintage International)', 'Montana 1948 : Montana 1948', 'Autobiography of a Fat Bride : True Tales of a Pretend Adulthood', 'Tuck Everlasting', 'Mirror Image', 'Waiting to Exhale', 'Mindbend', 'The Bluest Eye', 'Babyville', \"Bachelor Brothers' Bed &amp; Breakfast\", 'Nine Parts of Desire: The Hidden World of Islamic Women', 'Balzac and the Little Chinese Seamstress', 'Merrick (Vampire Chronicles)', 'Under the Tuscan Sun : At Home in Italy', \"Mostly Harmless (Hitchhiker's Trilogy, No 5)\", 'Mother of Pearl', 'Valley of the Dolls: A Novel', 'Vital Signs', 'Angels', 'Visions of Sugar Plums: A Stephanie Plum Holiday Novel', \"Vinegar Hill (Oprah's Book Club (Paperback))\", 'Vertical Run', 'Angelas Ashes', 'Taltos: Lives of the Mayfair Witches', 'The Amazing Adventures of Kavalier &amp; Clay', 'Ashes to Ashes', 'Unspeakable', 'Unraveled Sleeve (Needlecraft Mysteries)', 'Must Love Dogs', 'The Art of Happiness: A Handbook for Living', 'The Attorney', 'Night Prey', 'The Awakening', 'Beauty Fades, Dumb Is Forever: The Making of a Happy Woman', 'Trans-Sister Radio (Vintage Contemporaries (Paperback))', 'The Cat Who Knew a Cardinal', 'Nothing Lasts Forever', 'The Crimson Petal and the White', 'The Cat Who Talked to Ghosts', 'All the Pretty Horses (The Border Trilogy, Vol 1)', 'Birdsong: A Novel of Love and War', 'Strapless (Red Dress Ink (Paperback))', 'Bitter Harvest', \"Life, the Universe, and Everything (Hitchhiker's Trilogy (Paperback))\", 'All I Need Is You', 'Blade Runner: (Do Androids Dream of Electric Sheep)', 'Last Chance Saloon', 'Thurston House', 'All He Ever Wanted', \"The Dive From Clausen's Pier : A Novel (Vintage Contemporaries (Paperback))\", 'The Diving Bell and the Butterfly : A Memoir of Life in Death', 'These High, Green Hills (The Mitford Years)', 'These Happy Golden Years (Little House)', 'LIFE AFTER GOD : LIFE AFTER GOD', 'The Copper Beech', 'The Plague Tales', \"Tom Clancy's Op-Center Balance of Power (Tom Clancy's Op Center (Paperback))\", 'Bellwether', 'Summer Pleasures', 'Macgregor Grooms (Macgregors)', 'Lullaby: A Novel', 'The Cat Who Went Up the Creek', 'Bell Jar', 'Sudden Mischief', 'Beloved (Plume Contemporary Fiction)', 'Lost: A Novel', 'Big Stone Gap', 'Long After Midnight', 'The Devil Wears Prada : A Novel', 'Quentins', 'Digital Fortress : A Thriller', \"The Magician's Nephew (Narnia)\", \"Schindler's List\", 'You Shall Know Our Velocity', 'Summer Island', 'Void Moon', 'The Path of Daggers (The Wheel of Time, Book 8)', 'Second Nature', \"The Restaurant at the End of the Universe (Hitchhiker's Trilogy (Paperback))\", 'The Mother Tongue', 'The Penwyth Curse', 'Talk Before Sleep: A Novel', 'Tales Too Ticklish to Tell: Bloom County', 'The Reef', 'The Name of the Rose: including Postscript to the Name of the Rose', 'The Pursuit (Avon Historical Romance)', 'Waiting: The True Confessions of a Waitress', \"The World According to Garp (Ballantine Reader's Circle)\", 'See How They Run', 'The Lunatic Cafe (Anita Blake Vampire Hunter (Paperback))', 'The Wide Window (A Series of Unfortunate Events, Book 3)', 'The Weight of Water : A Novel Tag: Author of Resistance and Strange Fits of Passion', 'Watermelon', 'The Wailing Wind', 'The Conspiracy Club', \"Smilla's Sense of Snow\", 'Sideways Stories from Wayside School (Wayside School)', 'The Giver (21st Century Reference)', 'The Chamber', 'Shopaholic Ties the Knot', 'Why Do Clocks Run Clockwise?', \"The Book of Ruth (Oprah's Book Club (Paperback))\", 'The Heart of a Woman', 'The Hours : A Novel', 'Soul Mountain', 'Turtle Moon', 'What The Lady Wants', 'The Smoke Jumper', 'Sense and Sensibility (Penguin Popular Classics)', 'Self-Defense (Alex Delaware Novels (Paperback))', 'The Associate', 'Unnatural Selections', 'The Laughing Corpse (Anita Blake Vampire Hunter (Paperback))', 'The Light Fantastic (Discworld Novels (Paperback))', 'Spencerville', 'The Adventures of Huckleberry Finn (Bantam Classics)', 'The Loop', 'The Indwelling: The Beast Takes Possession (Left Behind #7)', 'One Thousand White Women : The Journals of May Dodd: A Novel', 'Queen of Sorcery (The Belgariad, Book 2)', 'Castle of Wizardry (The Belgariad, Book 4)', 'Miss Julia Takes over', \"James Herriot's Cat Stories\", 'Half Asleep in Frog Pajamas', 'On the Beach', \"Magician's Gambit (The Belgariad, Book 3)\", 'Moo', 'Extreme Measures', 'Practical Demonkeeping', 'Pride and Prejudice (Penguin Popular Classics)', 'Anthem', 'Billy Straight : A Novel', 'A Night to Remember', 'Prime Witness', 'George W. Bushisms : The Slate Book of The Accidental Wit and Wisdom of our 43rd President', 'Heart of Darkness (Dover Thrift Editions)', \"A Maiden's Grave\", 'Lullaby : A Novel', 'Heartbeat', 'Into Thin Air : A Personal Account of the Mount Everest Disaster', 'Geek Love', \"Galileo's Daughter: A Historical Memoir of Science, Faith, and Love\", 'Galapagos', 'Notes from a Small Island', 'An Angel for Emily', 'Isle of Woman (Geodyssey)', 'Girls Night', 'A Wind in the Door (Laurel Leaf Books)', 'Palomino', \"Enchanters' End Game (The Belgariad, Book 5)\", 'Pattern Recognition', 'Embraced by the Light', 'Master and Commander (Aubrey-Maturin (Paperback))', 'Ella Minnow Pea: A Novel in Letters', 'Accident', 'Guardians of the West (Book 1 of the Malloreon)', 'Manner of Death', 'Boy Meets Girl', \"Our Dumb Century: The Onion Presents 100 Years of Headlines from America's Finest News Source\", 'Playing for the Ashes', 'Picture of Dorian Gray (Wordsworth Classics)', 'Bridget Jones : The Edge of Reason', 'Dead Aim', 'Invisible Monsters', 'God Emperor of Dune (Dune Chronicles, Book 4)', 'Bloodstream', 'Go Ask Alice', 'American Gods: A Novel', 'Nickel and Dimed: On (Not) Getting By in America', 'Blood and Gold (Vampire Chronicles)', 'A Lesson Before Dying (Vintage Contemporaries (Paperback))', 'Acorna: The Unicorn Girl (Acorna (Paperback))', 'Chasing the Dime', 'EVERYTHING SHE EVER WANTED', 'Restaurant At the End of the Universe', 'Hocus Pocus', 'Hornet Flight', 'Five Quarters of the Orange', 'Killer Pancake', 'A Confederacy of Dunces (Evergreen Book)', 'Running With the Demon (The Word and the Void Trilogy, Book 1)', 'Ladder of Years', 'Bad Love (Alex Delaware Novels (Paperback))', 'Cold Mountain : A Novel', 'Christy', 'Like Water for Chocolate: A Novel in Monthly Installments, With Recipes, Romances, and Home Remedies', 'Disgrace', 'Circus of the Damned (Anita Blake Vampire Hunter (Paperback))', 'Round Ireland With a Fridge', 'Dragons of Autumn Twilight (Dragonlance Chronicles, Vol 1)', 'A Case of Need', 'Natural Causes', 'Charlie and the Chocolate Factory', 'Nice', 'Communion : A True Story', 'Legal Tender', 'Night Mare (Xanth Novels (Paperback))', 'Daddy', 'Awakening', 'Devices and Desires', \"Devil's Waltz (Alex Delaware Novels (Paperback))\", \"Dude, Where's My Country?\", 'Safe Harbor', 'SEAT OF THE SOUL', 'Contagion', 'Longitude: The True Story of a Lone Genius Who Solved the Greatest Scientific Problem of His Time', 'Holidays on Ice : Stories', 'Reap the Wind', 'Falling Angels', 'Fish! A Remarkable Way to Boost Morale and Improve Results', 'A Darkness More Than Night', 'DAUGHTER OF TIME', 'Relic', 'Elfstones of Shannara', 'Split Second', 'Dr. Death: A Novel', 'Big Fish', 'Triggerfish Twist', 'The Future Homemakers of America', \"Big Cherry Holler: A Big Stone Gap Novel (Ballantine Reader's Circle)\", 'The House of the Spirits', 'Hidden Jewel (Landry)', 'Stupid White Men ...and Other Sorry Excuses for the State of the Nation!', 'Bel Canto', 'Desecration: Antichrist Takes the Throne (Left Behind No. 9)', 'Heart Song (Logan)', 'Mutant Message Down Under', 'Odd Thomas', 'Tis : A Memoir', 'The Beach House', 'Deerskin', 'Angry Housewives Eating Bon Bons', 'Mystic River', 'On the Road (Penguin 20th Century Classics)', 'Still Pumped From Using The Mouse', 'The River King', 'Mama Makes Up Her Mind: And Other Dangers of Southern Living', 'Island of the Blue Dolphins', 'The Killing Game: Only One Can Win...and the Loser Dies', 'Practical Magic', 'Prey', 'The Cereal Murders', 'The Face on the Milk Carton', 'Book Lust: Recommended Reading for Every Mood, Moment, and Reason', 'A Man in Full', 'Protect and Defend', 'Lucky', 'Shoeless Joe', 'Wild Animus', 'Windmills of the Gods', 'Lost Boys', 'Fallen Hearts', 'She Walks These Hills', 'The Stone Diaries', \"The Mammoth Hunters (Auel, Jean M. , Earth's Children.)\", 'Forbidden Fruit (Mira)', 'The Narrows: A Novel', 'The Death of Vishnu: A Novel', 'Fierce Invalids Home from Hot Climates', 'Secret History', \"The Devil's Code\", 'Saint Maybe', \"Last Dance, Last Chance (Ann Rule's Crime Files)\", 'The Celestine Prophecy', 'Jennifer Government', 'Smart Women', \"Politika (Tom Clancy's Power Plays (Paperback))\", 'Mariette in Ecstasy', 'Abduction', 'The Wind-Up Bird Chronicle', 'So Many Books, So Little Time: A Year of Passionate Reading', 'Glorious Angel', 'Dark Rivers of the Heart: A Novel', 'Jane Eyre (Wordsworth Classics)', 'Firestorm (Anna Pigeon Mysteries (Paperback))', 'The Life and Loves of a She-Devil', 'Tara Road', 'Portrait in Sepia', 'Make the Connection: Ten Steps to a Better Body and a Better Life', 'Possession : A Romance', 'Ex Libris : Confessions of a Common Reader', 'Blood Orchid', 'La Sombra Del Viento/The Shadow Of The Wind', 'Into Thin Air : A Personal Account of the Mt. Everest Disaster', 'The Far Side Observer', \"The Soul Catcher: A Maggie O'Dell Novel\", \"Honor's Splendour\", 'Les Fourmis', 'Breath, Eyes, Memory', 'Hope for the Flowers', 'Their Eyes Were Watching God', 'Daisy Fay and the Miracle Man', 'Big Trouble', 'Life Strategies: Doing What Works, Doing What Matters', 'The Stars Shine Down', 'The Westing Game (Now in Speak!)', 'Three Wishes', 'The Crush', 'Naked Came the Manatee: A Novel', 'The Corrections', 'Caribbean', \"Tom Clancy's Op-Center: Mirror Image (Tom Clancy's Op Center (Paperback))\", 'Black Friday', 'Loose Screws (Red Dress Ink (Paperback))', 'Blackberry Wine : A Novel', 'Der Hahn ist tot. Roman.', \"Lamb : The Gospel According to Biff, Christ's Childhood Pal\", 'Slow Waltz in Cedar Bend', 'Shock', 'Unfit to Practice', 'Asking for Trouble: A Novel', 'Getting Over It', 'Silence in Hanover Close', 'The Quiet Game', 'Eaters of the Dead', 'Fast Women', 'Organizing from the Inside Out', 'A Year in Provence', 'Walk Two Moons', 'Stardust', 'Eleventh Hour: An FBI Thriller (FBI Thriller (Jove Paperback))', 'Waiting', 'Hard Time (V.I. Warshawski Novels (Paperback))', \"Full Speed (Janet Evanovich's Full Series)\", 'A Kiss for Little Bear', 'Enemy Women: A Novel', 'WAITING TO EXHALE', 'Gone for Good', 'Table For Two', 'Downsize This! Random Threats from an Unarmed American', 'Sword of Shannara', \"Don't Stand Too Close to a Naked Man\", 'A Place of Execution', 'The Laws of Our Fathers', 'When I Am an Old Woman I Shall Wear Purple', 'SKINNY LEGS AND ALL', 'The Piano Tuner : A Novel', 'Dark Force Rising (Star Wars: The Thrawn Trilogy, Vol. 2)', 'The Passion', 'FORREST GUMP (Movie Tie in)', 'Dark Angel', 'Dances With Wolves', 'Dangerous', 'The South Beach Diet: The Delicious, Doctor-Designed, Foolproof Plan for Fast and Healthy Weight Loss', 'Daring to Dream', 'The Perfect Husband', 'Every Living Thing', 'FOREVER : A Novel of Good and Evil, Love and Hope', 'The Songcatcher: A Ballad Novel', 'The Pearl', 'FIRST WIVES CLUB', 'Eyes of a Child', \"FROM POTTER'S FIELD\", 'Executive Orders (Jack Ryan Novels)', 'The Perfect Summer', 'The Perfect Neighbor (The Macgregors) (The Macgregors : Special Edition Series, No 1232)', 'The Source', 'The Return of the King (The Lord of The Rings, Part 3)', 'The PMS Outlaws : An Elizabeth MacPherson Novel', 'Fat Tuesday', 'Cows Of Our Planet (Far Side Series)', 'Fatal Cure', 'The New York Trilogy: City of Glass, Ghosts, the Locked Room (Contemporary American Fiction Series)', 'Couplehood', 'The Neverending Story', 'Fatherhood', 'Fear and Loathing in Las Vegas : A Savage Journey to the Heart of the American Dream', \"Cordina'S Royal Family\", 'The Tale of the Body Thief (Vampire Chronicles)', 'Filthy Rich', 'Find Me', 'Finding Moon', 'Conversations with God : An Uncommon Dialogue (Book 1)', 'Finding the Dream', 'Firefly Beach', 'The Survivors Club', 'Fat Girls and Lawn Chairs', 'The Stepford Wives', \"The No. 1 Ladies' Detective Agency (Today Show Book Club #8)\", 'Family Honor', 'The Pigman', 'Farewell to Manzanar: A True Story of Japanese American Experience During and  After the World War II Internment', 'Farm Fatale: A Comedy of Country Manors', \"The Orchid Thief (Ballantine Reader's Circle)\", 'Fast Food Nation', 'The Stranger', 'The Straw Men', \"Cybernation (Tom Clancy's Net Force, No. 6)\", 'Crystal Singer', 'The Sum of All Fears', 'Crossings', 'Crocodile on the Sandbank', 'Crazy for You', 'Crazy Ladies : A Novel', 'The Outlaws of Sherwood', 'Equal Rites (Discworld Novels (Paperback))', 'The Sixteen Pleasures: A Novel', \"The Salaryman's Wife (Children of Violence Series)\", \"Einstein's Dreams\", 'Eden Close', 'The Prometheus Deception', 'The Second Summer of the Sisterhood', 'The Prophet', 'Eats, Shoots and Leaves: The Zero Tolerance Approach to Punctuation', 'The Purpose-Driven Life: What on Earth Am I Here For?', 'Dying to Please', 'Duplicate Keys', 'Drums of Autumn', 'Dilbert Fugitive From The Cubicle Police', 'The Scandalous Summer of Sissy LeBlanc : A Novel', 'The Saving Graces: A Novel', 'Dilbert: A Book of Postcards', 'The SECRET DIARY OF ANNE BOLEYN', 'The Secret Diary of Adrian Mole Aged 13 3/4', 'Dilbert: Seven Years Of Highly Defective People (P', 'The Rule of Four', 'Drowning Ruth', 'The Rosewood Casket', 'Dress Your Family in Corduroy and Denim', \"Dirk Gently's Holistic Detective Agency\", 'Dragonsong (Harper Hall Trilogy)', 'Confessions of a Shopaholic', 'Dirty Jokes and Beer : Stories of the Unrefined', 'The Right Hand of Evil', 'Dragons of Autumn Twilight (Dragonlance: Dragonlance Chronicles)', 'Divine Secrets of the Ya-Ya Sisterhood : A Novel', 'Dragonquest (Dragonquest)', 'The Return Journey', 'The Professor and the Madman', 'The Probable Future', 'Evening Class', 'The Presence', 'Dark Paradise', 'Darkness, Take My Hand (Patrick Kenzie/Angela Gennaro Novels)', 'Eragon (Inheritance, Book 1)', \"The Pilot's Wife : A Novel\", 'The Silver Wolf', 'Engaging Men (Red Dress Ink (Paperback))', 'The Silver Chair', 'Dating Big Bird', 'The Silence of the Lambs', 'Endangered Species (Anna Pigeon Mysteries (Paperback))', 'Daughter of Fortune', 'The Pleasure of My Company: A Novel', 'Emma (Penguin Popular Classics)', 'Emma (Penguin Classics)', 'Daughter of the Blood (Black Jewels Trilogy)', 'Deep South', 'The Ship Who Searched', 'Dawn (Cutler)', 'Day of Confession', 'Dead Run', \"The Princess Bride: S Morgenstern's Classic Tale of True Love and High Adventure\", 'Dead Sleep', 'Dead Until Dark (Southern Vampire Mysteries)', 'The Shape of Snakes', 'The Princess Diaries', 'Deadly Decisions', 'Dealing With Dragons (Enchanted Forest Chronicles (Paperback))', 'Death in Holy Orders : An Adam Dalgliesh Mystery', 'Death of A Salesman', 'Decked : A Regan Reilly Mystery', 'The Remains of the Day (Vintage International)', 'Say You Love Me (Malory, No. 5)', 'The Target', 'A RIVER RUNS THROUGH IT AND OTHER STORIES : AND OTHER STORIES', 'American Indian Myths and Legends (Pantheon Fairy Tale and Folklore Library)', 'American Gods', 'All I Really Need to Know I Learned in Kindergarten: Uncommon Thoughts on Common Things', 'Alive : The Story of the Andes Survivors (Avon Nonfiction)', 'Affinity', 'Wayside School is Falling Down', \"Acts of War (Tom Clancy's Op Center (Paperback))\", 'Across the Nightingale Floor: Tales of the Otori, Book One', 'Weirdos From Another Planet!', 'Welcome to My Planet: Where English Is Sometimes Spoken', 'Accidental Tourist', 'Welcome to the World, Baby Girl!', 'Well-Schooled in Murder', 'What We Keep', \"What to Expect When You're Expecting (Revised Edition)\", 'A Widow for One Year', 'When Bad Things Happen to Good People', 'When Rabbit Howls', 'A Traitor to Memory', \"A Thousand Acres (Ballantine Reader's Circle)\", 'A Swiftly Tilting Planet', \"A Room of One's Own\", 'Where is Joe Merchant?', 'WLD ACCORDNG GARP', 'Voyager', 'And Then You Die', 'Archangel', 'Assassins: Assignment: Jerusalem, Target: Antichrist (Left Behind No. 6)', 'Unfinished Symphony (Logan)', 'Artemis Fowl (Artemis Fowl, Book 1)', 'Armageddon: The Cosmic Battle of the Ages (Left Behind #11)', \"Are You There God?  It's Me, Margaret\", 'Untamed', 'Until Forever', 'Archangel (Samaria Trilogy, Book 1)', 'Up Country', 'Valhalla Rising (Dirk Pitt Adventures (Paperback))', 'Apollyon: The Destroyer Is Unleashed (Left Behind #5)', 'Angelas Ashes: A Memoir', 'Apollo 13 : Lost Moon', 'Velvet Angel', 'Venezianisches Finale. Commissario Brunettis erster Fall.', 'Vengeance in Death', 'Veronika Decides to Die', 'Animal Dreams', \"Angry Housewives Eating Bon Bons (Ballantine Reader's Circle)\", 'Violin', 'Visions of Sugar Plums', 'Angels Flight (Detective Harry Bosch Mysteries)', 'Where or When  : A Novel', 'Where the Heart Is: A Novel', 'Complete Chronicles of Narnia', \"A Prayer for Owen Meany (Ballantine Reader's Circle)\", 'A Crown of Swords (The Wheel of Time, Book 7)', 'Women of the Silk : A Novel', 'A Confederacy of Dunces', \"Wouldn't Take Nothing for My Journey Now\", 'A Cold Heart (Alex Delaware Novels (Paperback))', 'Writing Down the Bones', 'Written on the Body', 'Wuthering Heights', 'Wuthering Heights (Wordsworth Classics)', 'A Civil Action', 'A Caress of Twilight (Meredith Gentry Novels (Paperback))', 'A Beautiful Mind: The Life of Mathematical Genius and Nobel Laureate John Nash', 'Year of Wonders', 'A 2nd Helping of Chicken Soup for the Soul (Chicken Soup for the Soul Series (Paper))', '52 Deck Series: 52 Ways to Celebrate Friendship', '50 Simple Things You Can Do to Save the Earth', '4 Blondes', '3rd Degree', '311 Pelican Court', '24 Hours', '204 Rosewood Lane', '\\\\Surely You\\'re Joking, Mr. Feynman!\\\\\": Adventures of a Curious Character\"', 'e', \"Wizard's First Rule (Sword of Truth, Book 1)\", 'A Dangerous Fortune', 'A Density of Souls', 'Why Girls Are Weird : A Novel', 'A Place of Hiding', 'While I Was Gone', 'Whirlwind (The X-Files)', 'Whirlwind (Tyler, Book 1)', 'Whisper of Evil (Hooper, Kay. Evil Trilogy.)', 'A Perfect Stranger', 'A Patchwork Planet', 'A Passage to India', 'A Monstrous Regiment of Women', 'White Teeth: A Novel', 'Wicca: A Guide for the Solitary Practitioner', 'A Drink Before the War (Patrick Kenzie/Angela Gennaro Novels)', 'Wicked : The Life and Times of the Wicked Witch of the West', 'A Little Princess', 'A Letter of Mary (Mary Russell Novels (Paperback))', 'Wiener Dog Art', 'Wild Swans: Three Daughters of China', 'Wings', 'A History of the World in 10 1/2 Chapters (Vintage International)', 'A Heartbreaking Work Of Staggering Genius : A Memoir Based on a True Story', 'A Fire Upon The Deep (Zones of Thought)', 'A Fine Balance', 'At Risk', 'Atlantis Found', 'Under the Duvet : Shoes, Reviews, Having the Blues, Builders, Babies, Families and Other Calamities', 'Under the Banner of Heaven : A Story of Violent Faith', \"Cat's Cradle\", 'The View from Saturday (Jean Karl Books (Paperback))', 'Captive Star', 'The Virgin Blue', 'Captain Underpants and the Perilous Plot of Professor Poopypants: The Fourth Epic Novel (Captain Underpants (Paperback))', \"Cane River (Oprah's Book Club (Paperback))\", 'Cane River', 'The Voyage of the Dawn Treader (rack) (Narnia)', 'The WEDDING', 'Candide (Candide)', 'The Wasp Factory', 'Can You Keep a Secret?', 'The Water Is Wide', \"CUCKOO'S EGG\", \"CAT'S EYE\", 'Burnt Offerings (Anita Blake, Vampire Hunter)', 'The Weight of Water : A Novel Tag - Author of Resistance and Strange Fits of Passion', 'Burning The Map', 'Bridget Jones: The Edge of Reason', 'The Winner', 'Breakfast of Champions', \"Breakfast at Tiffany's: And Three Stories (First Vintage International)\", 'Born in Shame', 'The Velvet Promise', 'The Vanished Man : A Lincoln Rhyme Novel', \"Cat's Eye\", 'Child of My Heart', 'The Teeth of the Tiger', 'The Tenth Insight : Holding the Vision', 'Coming Home', 'Cold Tea On A Hot Day', 'The Thin Woman', 'Coast Road: A Novel', 'Cloud Nine', 'The Third Victim', \"Childhood's End\", \"The Time Traveler's Wife (Harvest Book)\", 'Chicken Soup for the Teenage Soul II (Chicken Soup for the Soul Series)', 'Catcher in the Rye', 'Chicken Soup for the Teenage Soul (Chicken Soup for the Soul)', 'The True and Outstanding Adventures of the Hunt Sisters: A Novel', 'Chicken Soup for the College Soul : Inspiring and Humorous Stories for College Students (Chicken Soup for the Soul)', 'Chesapeake Blue (Quinn Brothers (Hardcover))', 'Cheet (Plume Books)', 'The Ultimate Weight Solution: The 7 Keys to Weight Loss Freedom', 'The Unbearable Lightness of Being : A Novel (Perennial Classics)', 'Ceremony in Death (Eve Dallas Mysteries (Paperback))', 'The Valley of Horses', 'Catherine, Called Birdy (Trophy Newbery)', \"The Woman's Comfort Book : A Self-Nurturing Guide for Restoring Balance in Your Life\", 'Booked to Die (Cliff Janeway Novels (Paperback))', 'Blue Moon (Anita Blake Vampire Hunter)', 'Back Roads', 'Bee Season', 'Tough Cookie', 'Toujours Provence (Vintage Departures)', 'Beach House', 'Barrel Fever : Stories and Essays (Barrel Fever)', 'Track of the Cat (Anna Pigeon Mysteries (Paperback))', 'Trading Spaces Behind the Scenes: Including Decorating Tips and Tricks', 'Bad Heir Day', 'Bad Business', \"Back When We Were Grownups : A Novel (Ballantine Reader's Circle)\", 'True Betrayals', 'Behind the Scenes at the Museum', 'True Blue', 'BODY FARM', 'Trunk Music (Detective Harry Bosch Mysteries)', 'Attack Of The Deranged Mutant Killer Snow Goons', 'Tulip Fever', 'Atonement: A Novel', 'Atonement : A Novel', \"Twilight's Child (Cutler)\", 'Atlas Shrugged', 'Undead and Unwed (Berkley Sensation)', \"Before Women Had Wings (Ballantine Reader's Circle)\", \"Tom Clancy's Op-Center: Games of State (Tom Clancy's Op Center (Paperback))\", 'Their Eyes Were Watching God: A Novel', \"Thursday'S At Eight\", 'Blue Moon', 'Therapy', 'Bloom County Babylon : Five Years of Basic Naughtiness (Bloom County)', 'Bloodsucking Fiends: A Love Story', 'Blood of the Fold (Sword of Truth, Book 3)', 'This Heart of Mine (Avon Romance)', 'This Year It Will Be Different: And Other Stories', 'Thousand Acres', 'Three Junes', 'Blithe Images', 'Blindsighted', 'Behind the Scenes at the Museum : A Novel', 'Blackberry Wine', 'Black and Blue : A Novel', 'Black Like Me', 'Bittersweet', 'Timequake', 'Bird by Bird: Some Instructions on Writing and Life', 'Billy and the Boingers Bootleg (Bloom County Book)', 'To Ride a Silver Broomstick: New Generation Witchcraft', 'To the Nines (A Stephanie Plum Novel)', 'Belinda', 'Firefly Summer', 'Going Home: Unfinished Business/ Island of Flowers/ Mind Over Matter', 'Firestorm (Johansen, Iris)', 'Ten Big Ones: A Stephanie Plum Novel', 'Tai-Pan', 'Night Of Crash-Test Dummies', 'Tales of a Fourth Grade Nothing', 'Tales of the City (Tales of the City Series, V. 1)', 'Taliesin : Book One of the Pendragon Cycle (Pendragon Cycle)', 'Night Embrace (Dark-Hunter)', 'Tarnished Gold (Landry)', 'Net Force', 'Tell Me Lies (Tell Me Lies)', 'Narcissus in Chains (Anita Blake Vampire Hunter (Paperback))', 'Temple of the Winds (Sword of Truth, Book 4)', 'Tender at the Bone: Growing Up at the Table', 'The Miracle Life of Edgar Mint: A Novel', 'Name &amp; Address Withheld (Red Dress Ink (Paperback))', 'The Absence of Nectar', 'The Accidental Tourist', 'Naked Prey', 'The Alibi', 'My Year of Meats', 'The Amber Spyglass (His Dark Materials, Book 3)', 'My Sweet Audrina', 'My Point...And I Do Have One', 'The Angel of Darkness', 'Must Love Dogs: A Novel', 'TIME AND AGAIN', 'Sweet Revenge', 'Night Pleasures (Dark-Hunters)', 'Night Tales', 'Obsidian Butterfly (Anita Blake Vampire Hunter (Paperback))', 'Obsidian Butterfly', 'Object Lessons', 'Number the Stars (Yearling Newbery)', 'Stuart Little', 'Stupeur Et Tremblements', 'Now You See Her', 'Succulent Wild Woman', 'Not Without My Daughter', 'Northern Lights (His Dark Materials S.)', \"Sullivan's Woman (Silhouette Single Title)\", 'No One to Trust', 'No Greater Love', 'Nine Stories', 'Summer in Eclipse Bay', \"Summer's End\", 'Summon the Keeper', 'Sun Also Rises', 'Sunset in St. Tropez', 'Superfudge (Yearling Books (Paperback))', 'Nine Princes In Amber', 'Night over Water', 'Night of the Mary Kay Commandos Featuring Smell O-Toons', 'Music in the Night (Logan)', \"The Artist's Way : A Spiritual Path to Higher Creativity\", \"Murder on a Girls' Night Out: A Southern Sisters Mystery\", 'Midnight Whispers (Cutler)', 'Microserfs', 'Messiah', 'Memoirs of a Geisha Uk', 'The Bourne Supremacy', 'The Bourne Ultimatum', 'The Boy Next Door', 'The Breaker', \"McNally's Secret (Archy McNally Novels (Paperback))\", 'The Bride', 'Maya Angelou: Poems', 'Matilda', 'The Broke Diaries: The Completely True and Hilarious Misadventures of a Good Girl Gone Broke', 'The Cabinet of Curiosities', 'The Cardinal of the Kremlin (Jack Ryan Novels)', 'The Carnivorous Carnival (A Series of Unfortunate Events, Book 9)', 'The Cat Who Ate Danish Modern (Cat Who... (Paperback))', 'Manhunting (Mira)', 'The Cat Who Came to Breakfast', 'The Cat Who Could Read Backwards', 'Man and Boy: A Novel', 'Man Who Mistook His Wife for a Hat', 'The Cat Who Lived High', 'The Cat Who Played Brahms', 'The Bonfire of the Vanities', 'Midnight in the Garden of Good and Evil: A Savannah Story', 'Murder on a Bad Hair Day: A Southern Sisters Mystery', \"Midnight's Children\", 'The Austere Academy (A Series of Unfortunate Events, Book 5)', 'Mrs Dalloway', 'The Autobiography of Malcolm X', 'Mr. Murder', 'The Bachelor (Warner Books Contemporary Romance)', 'Mr. Maybe', 'Moving Target', 'Mossflower (Redwall, Book 2)', 'The Ballad of Frankie Silver', 'The Beach', 'Mort (Discworld Novels (Paperback))', 'Morality for Beautiful Girls (No.1 Ladies Detective Agency)', 'Mona Lisa Overdrive (Bantam Spectra Book)', 'The Bell Jar', 'The Bell Jar : A Novel (Perennial Classics)', 'The Bestseller', 'Moment of Truth', 'The Big Sleep', 'Missing Joseph', 'The Black Unicorn (Magic Kingdom of Landover Novel)', 'The Blind Assassin', \"Mindhunter : Inside the FBI's Elite Serial Crime Unit\", 'Milkrun', 'Strange Fits of Passion: A Novel', \"Old Possum's Book of Practical Cats, Illustrated Edition\", 'Oldest Living Confederate Widow Tells All', 'Resistance : A Novel', 'Redwall (Redwall, Book 1)', 'Shadow of the Hegemon (Ender Wiggins Saga (Paperback))', 'Red Rabbit', 'Reading Lolita in Tehran: A Memoir in Books', 'She Went All the Way (Avon Light Contemporary Romances)', \"She's Come Undone (Oprah's Book Club (Paperback))\", 'Reading Lolita in Tehran : A Memoir in Books', 'Rapture in Death', 'Range of Motion', 'Shepherds Abiding', 'Ramona and Her Mother (Ramona Quimby (Paperback))', 'Ramona Quimby, Age 8 (Avon Camelot Books (Paperback))', \"Rachel's Holiday\", 'ROMEO AND JULIET', 'ROAD LESS TRAVELED : A New Psychology of Love, Traditional Values, and Spritual Growth (Touchstone Books (Paperback))', 'R is for Ricochet', 'Quidditch Through the Ages', 'Pyramids (Discworld Novels (Paperback))', 'Prozac Nation: Young and Depressed in America : A Memoir', 'Prodigal Summer: A Novel', 'Sights Unseen', 'Princess in the Spotlight (The Princess Diaries, Vol. 2)', 'Prince Caspian (rack) : The Return to Narnia (Narnia)', 'Reflections And Dreams', 'Retribution', 'Primary Colors: A Novel of Politics', 'Revenge of the Cootie Girls: A Robin Hudson Mystery (Robin Hudson Mysteries (Paperback))', 'Saint Nick', 'Sacred Clowns (Joe Leaphorn/Jim Chee Novels)', 'SHAMPOO PLANET : SHAMPOO PLANET', 'SEEDS OF YESTERDY (Dollanger Saga (Paperback))', 'Russka : The Novel of Russia', 'Rush Limbaugh Is a Big Fat Idiot: And Other Observations', 'Secret History : A Novel', 'Running with Scissors', 'Secret Star', 'Running Scared', 'Secrets of the Morning (Cutler)', 'Runaway Ralph (Cleary Reissue)', 'Rubyfruit Jungle', 'See Jane Date (Red Dress Ink (Paperback))', 'See Jane Run', 'Sein Language', 'Riding in Cars With Boys: Confessions of a Bad Girl Who Makes Good', 'Rich Dad, Poor Dad: What the Rich Teach Their Kids About Money--That the Poor and Middle Class Do Not!', \"Reviving Ophelia: Saving the Selves of Adolescent Girls (Ballantine Reader's Circle)\", 'Sense and Sensibility', 'Reversible Errors: A Novel', 'Separate Beds', 'Revenge of the Middle-Aged Woman', 'Prime Cut', 'Pride and Prejudice (The Penguin English Library, El 72)', 'On Mystic Lake', 'Peace Is Every Step: The Path of Mindfulness in Everyday Life', 'Pawn of Prophecy (The Belgariad, Book 1)', 'Parallel Lies', 'Pandora : New Tales of the Vampires', 'Over the Edge: An Alex Delaware Novel (Alex Delaware Novels (Paperback))', 'Outlander', 'Outer Banks', 'Out of the Shadows (Shadows Trilogy (Paperback))', 'Out of the Blue (Red Dress Ink (Paperback))', 'Standing in the Rainbow', 'Oryx and Crake', 'Orfe', 'Star Wars Episode 1: The Phantom Menace', 'Oranges Are Not the Only Fruit', 'Open Season', 'Stealing Shadows (Shadows Trilogy (Paperback))', \"One Hundred Years of Solitude (Oprah's Book Club)\", 'Sticks &amp; Scones', \"One Flew Over the Cuckoo's Nest\", 'One', 'Once upon a More Enlightened Time: More Politically Correct Bedtime Stories', 'Once and Always', 'Stone of Tears (Sword of Truth, Book 2)', 'On a Wicked Dawn (Cynster Novels)', 'Payment in Blood', 'Sorceress of Darshiva (Malloreon (Paperback Random House))', 'Presumed Innocent', 'Pen Pals', 'Sisterhood of the Traveling Pants', 'Pot Shot', 'Postmortem (Kay Scarpetta Mysteries (Paperback))', 'Portrait of a Killer: Jack the Ripper-- Case Closed (Berkley True Crime)', 'Portrait of a Killer: Jack the Ripper -- Case Closed', 'Portrait in Sepia : A Novel', 'Slightly Single (Red Dress Ink (Paperback))', 'Sloppy Firsts : A Novel', 'Small Gods (Discworld Novels (Paperback))', 'Politically Correct Holiday Stories: For an Enlightened Yuletide Season', 'Plantation: A Lowcountry Tale', 'Smoke and Mirrors: Short Fictions and Illusions', 'Snow Crash', 'Pink Slip', 'Snow White, Blood Red', 'So Long and Thanks for all the Fish', 'So Long, and Thanks for All the Fish', 'So You Want to Be a Wizard: The First Book in the Young Wizards Series', 'Piercing the Darkness', 'Something Under the Bed Is Drooling', \"Song of Solomon (Oprah's Book Club (Paperback))\", \"Phule's Company (Phule's Company, No 1)\", 'Petals on the Wind (Dollanganger)', 'The Cat Who Played Post Office (Cat Who... (Paperback))', 'The Cat Who Robbed a Bank (Cat Who... (Paperback))', 'The Cat Who Sang for the Birds (Cat Who... (Paperback))', 'The Hero and the Crown', 'High Maintenance', 'Hiding in the Shadows (Shadows Trilogy (Paperback))', 'Hiding Place', 'Hidden Star (The Star Series)', 'Hidden Prey', 'The Horse You Came In On', 'The Horse and His Boy', 'The Hostile Hospital (A Series of Unfortunate Events, Book 8)', \"Here on Earth (Oprah's Book Club)\", 'Heir to the Empire (Star Wars: The Thrawn Trilogy, Vol. 1)', 'Hearts Aflame', 'The Human Stain : A Novel', 'The Hunt for Red October (Jack Ryan Novels)', 'Heart Full of Lies: A True Story of Desire and Death', 'The Illuminatus Trilogy: The Eye in the Pyramid, the Golden Apple &amp; Leviathan', 'The Illustrated Man (Grand Master Editions)', \"Having Our Say : The Delany Sisters' First 100 Years\", 'The Indian in the Cupboard', 'Haunted', 'Harry Potter and the Chamber of Secrets Postcard Book', 'The Inn at Lake Devine', 'Guilty as Sin', 'Guilt', 'High Tide in Tucson : Essays from Now or Never', \"Hinds' Feet on High Places\", \"The Kalahari Typing School for Men (No. 1 Ladies' Detective Agency)\", 'Hiroshima', 'The Giver (Readers Circle)', \"I Do (But I Don't)\", 'Hyperion', 'How to Murder a Millionaire', 'The Godfather', 'The Gold Coast', 'The Golden Compass (His Dark Materials, Book 1)', 'How to Make an American Quilt', 'The Grapes of Wrath', 'How to Clean Practically Anything', 'How to Be a Canadian: Even If You Already are One', \"How the Irish Saved Civilization: The Untold Story of Ireland's Heroic Role from the Fall of Rome to the Rise of Medieval Europe (Hinges of History)\", 'How Stella Got Her Groove Back', 'The Greatest Generation', 'House of Leaves', 'House Harkonnen (Dune: House Trilogy, Book 2)', 'Hound Of The Far Side (Far Side Books, Collection No 7)', 'Hot Six (A Stephanie Plum Novel)', 'Hostage', 'Homeland and Other Stories', 'Holes (Yearling Newbery)', 'Holes (Newbery Medal Book)', 'The Hearing', 'Guards! Guards! (Discworld Novels (Paperback))', 'Guardian', 'I Never Promised You a Rose Garden', 'Funny in Farsi : A Memoir of Growing Up Iranian in America', \"Full Tilt (Janet Evanovich's Full Series)\", 'The Lust Lizard of Melancholy Cove', \"Full House (Janet Evanovich's Full Series)\", 'The Macgregors: Daniel-Ian', \"Full Blast (Janet Evanovich's Full Series)\", 'From the Mixed-Up Files of Mrs. Basil E. Frankweiler', 'Franny and Zooey', 'Fourplay: A Novel', 'Four Blondes', \"Fortune's Rocks: A Novel\", 'The Main Corpse (Culinary Mysteries (Paperback))', 'For Better, for Worse: A Novel', 'The Man Who Mistook His Wife For A Hat : And Other Clinical Tales', 'Footfall', 'The Mark: The Beast Rules the World (Left Behind No. 8)', 'Fluke : Or, I Know Why the Winged Whale Sings', 'The Mask', 'Flesh Tones: A Novel', 'The Meaning Of Life', 'Fishbowl (Red Dress Ink (Paperback))', 'The Metamorphosis (Bantam Classics)', \"The Midwife's Apprentice (Trophy Newbery)\", 'First Offense', 'The Lovely Bones', 'The Lost World: A Novel', 'Greenwitch', 'GREAT GATSBY (REISSUE)', 'Grave Secrets', 'The Kingdom by the Sea: A Journey Around the Coast of Great Britain', 'Grand Avenue', 'Gossip Girl #1 : A Novel by Cecily von Ziegesar (Gossip Girl)', 'Gorky Park', 'The Last Battle', 'The Last Continent (Discworld Novels (Paperback))', 'Say No to Joe?', 'The Last Suppers', 'The League of Extraordinary Gentlemen, Vol. 1', 'Girlfriends: Invisible Bonds, Enduring Ties', 'Girlfriend in a Coma', 'Gift from the Sea', \"The Lion's Game\", \"The Lion, the Witch and the Wardrobe (Full-Color Collector's Edition)\", 'The Lion, the Witch and the Wardrobe (rpkg) (Narnia)', 'The Lion, the Witch, and the Wardrobe (The Chronicles of Narnia, Book 2)', 'Getting Rid Of Bradley', 'Getting Over Jack Wagner', 'The Long Road Home', 'The Long Walk', 'Generation X: Tales for an Accelerated Culture', 'Gap Creek: A Novel', \"I Don't Know How She Does It: The Life of Kate Reddy, Working Mother\", \"The Girlfriends' Guide to Pregnancy\", 'The Cat Who Saw Red', 'The Corrections: A Novel', 'The Cove', 'The Cradle Will Fall', \"Living Wicca: A Further Guide for the Solitary Practitioner (Llewellyn's Practical Magick)\", 'Little House on the Prairie', 'Little House in the Big Woods', 'Little Altars Everywhere', 'The Curious Incident of the Dog in the Night-Time : A Novel', 'Lion, the Witch and the Wardrobe', 'The Dante Club : A Novel', 'Life,the Universe and Everything', 'Life Support', 'The Dark Room', 'Lies My Teacher Told Me : Everything Your American History Textbook Got Wrong', 'The Day After Tomorrow', 'Letters from the Earth', 'Letters from a Nut', \"The Deep End of the Ocean (Oprah's Book Club (Hardcover))\", 'Less Of A Stranger (Silhouette Single Title)', 'The Devil in the White City : Murder, Magic, and Madness at the Fair That Changed America (Illinois)', 'The Diamond Age', 'Lawless', 'Lasher', 'The Dim Sum of All Things', 'Lolita (Vintage International)', 'London : The Novel', 'Lady of Avalon', 'London Transports', 'The Cat Who Saw Stars (Cat Who... (Paperback))', 'Making Minty Malone', 'The Cat Who Turned on and Off (Cat Who... (Paperback))', \"The Cat Who Wasn't There\", \"Magic's Promise (The Last Herald-Mage Series, Book 2)\", \"Magic's Price (The Last Herald-Mage Series, Book 3)\", 'The Cater Street Hangman', \"Magic's Pawn (The Last Herald-Mage Series, Book 1)\", 'Magic Kingdom for Sale - Sold! (Magic Kingdom of Landover)', 'The Chosen', 'MOONLIGHT BECOMES YOU', 'Lucy Sullivan Is Getting Married', \"Lucifer's Hammer\", 'The Claiming of Sleeping Beauty (Sleeping Beauty)', 'Loyalty in Death', 'Love in the Time of Cholera (Penguin Great Books of the 20th Century)', 'Love Me Forever (Sherring Cross (Paperback))', 'Lost in a Good Book: A Thursday Next Novel', 'Lost Light', 'The Coffin Dancer (Lincoln Rhyme Novels (Paperback))', 'The Color of Magic', 'Long Dark Tea Time of the Soul', 'Lonesome Dove', 'Lake Wobegon days', \"Lady Sophia's Lover\", 'I Thee Wed', 'The Fifth Sacred Thing', 'Island of the Sequined Love Nun', 'Irish Rebel (Special Edition, 1328)', 'Irish Hearts', 'The First Time', 'Invisible Man', 'Into the Wild', 'The Flanders Panel', \"The Fool's Run\", 'Into the Night', 'Inca Gold (Clive Cussler)', 'The Four Agreements: A Practical Guide to Personal Freedom', 'In the Presence of the Enemy', \"In the Kitchen With Rosie: Oprah's Favorite Recipes\", 'In a Sunburned Country', 'The Funny Thing Is...', \"The Gate to Women's Country\", \"The General's Daughter\", 'In Cold Blood (Vintage International)', 'Immortal in Death', 'Ill Wind (Anna Pigeon Mysteries (Paperback))', 'If Only It Were True', \"I'm a Stranger Here Myself: Notes on Returning to America After 20 Years Away\", \"I'm Not Really Here\", \"It's Always Something\", 'The Feast of Love (Vintage Contemporaries (Paperback))', \"Lady Chatterley's Lover: Complete and Unexpurgated 1928 Orioli Edition\", 'The Family Tree', \"The Doll's House (Sandman, Book 2)\", 'LONESOME DOVE', 'LET ME CALL YOU SWEETHEART', \"L'Etranger (Collection Folio, 2)\", \"Kushiel's Chosen (Kushiel's Legacy)\", 'Kitchen Confidential: Adventures in the Culinary Underbelly', 'The Egypt Game (Yearling Newbery)', 'The Eight', 'The Emperor of Ocean Park (Today Show Book Club #1)', 'Kitchen Confidential : Adventures in the Culinary Underbelly', 'Kindred (Black Women Writers Series)', 'Killing Time', 'Killashandra', 'Keeping Faith : A Novel', 'The Eternity Code (Artemis Fowl, Book 3)', 'Julie of the Wolves (Julie of the Wolves)', 'Jonathan Livingston Seagull', 'Jewel', 'The Eyre Affair (Alex Awards (Awards))', 'The Eyre Affair: A Novel', 'Jennifer Government : A Novel', 'The Face of Deception', 'Jemima J: A Novel About Ugly Ducklings and Swans', '10 Lb. Penalty']\n",
      "['Misery', 'Insomnia', 'Nightmares &amp; Dreamscapes', 'It', 'The Tommyknockers']\n",
      "['Hyperion', 'The Fellowship of the Ring (The Lord of the Rings, Part 1)', 'The Hobbit : The Enchanting Prelude to The Lord of the Rings', 'The Illustrated Man (Grand Master Editions)', 'The Return of the King (The Lord of the Rings, Part 3)', 'The Two Towers (The Lord of the Rings, Part 2)']\n"
     ]
    }
   ],
   "source": [
    "print(suggestions_mine)\n",
    "\n",
    "print(suggestions_knn)\n",
    "\n",
    "print(suggestion_svd)\n"
   ]
  },
  {
   "cell_type": "markdown",
   "metadata": {},
   "source": [
    "**EXPORT and LOADING**"
   ]
  },
  {
   "cell_type": "code",
   "execution_count": 139,
   "metadata": {},
   "outputs": [
    {
     "data": {
      "text/html": [
       "<div>\n",
       "<style scoped>\n",
       "    .dataframe tbody tr th:only-of-type {\n",
       "        vertical-align: middle;\n",
       "    }\n",
       "\n",
       "    .dataframe tbody tr th {\n",
       "        vertical-align: top;\n",
       "    }\n",
       "\n",
       "    .dataframe thead th {\n",
       "        text-align: right;\n",
       "    }\n",
       "</style>\n",
       "<table border=\"1\" class=\"dataframe\">\n",
       "  <thead>\n",
       "    <tr style=\"text-align: right;\">\n",
       "      <th></th>\n",
       "      <th>title</th>\n",
       "      <th>Image-URL-M</th>\n",
       "      <th>author</th>\n",
       "    </tr>\n",
       "  </thead>\n",
       "  <tbody>\n",
       "    <tr>\n",
       "      <th>0</th>\n",
       "      <td>The Boy Next Door</td>\n",
       "      <td>http://images.amazon.com/images/P/0060096195.0...</td>\n",
       "      <td>Meggin Cabot</td>\n",
       "    </tr>\n",
       "    <tr>\n",
       "      <th>33</th>\n",
       "      <td>Skin and Other Stories (Now in Speak!)</td>\n",
       "      <td>http://images.amazon.com/images/P/0141310340.0...</td>\n",
       "      <td>Roald Dahl</td>\n",
       "    </tr>\n",
       "    <tr>\n",
       "      <th>37</th>\n",
       "      <td>Growing Wings</td>\n",
       "      <td>http://images.amazon.com/images/P/0142302198.0...</td>\n",
       "      <td>Laurel Winter</td>\n",
       "    </tr>\n",
       "  </tbody>\n",
       "</table>\n",
       "</div>"
      ],
      "text/plain": [
       "                                     title  \\\n",
       "0                        The Boy Next Door   \n",
       "33  Skin and Other Stories (Now in Speak!)   \n",
       "37                           Growing Wings   \n",
       "\n",
       "                                          Image-URL-M         author  \n",
       "0   http://images.amazon.com/images/P/0060096195.0...   Meggin Cabot  \n",
       "33  http://images.amazon.com/images/P/0141310340.0...     Roald Dahl  \n",
       "37  http://images.amazon.com/images/P/0142302198.0...  Laurel Winter  "
      ]
     },
     "execution_count": 139,
     "metadata": {},
     "output_type": "execute_result"
    }
   ],
   "source": [
    "#get urls and authors\n",
    "urls = final_df.drop_duplicates(['title'])\n",
    "\n",
    "#filter columns\n",
    "urls=urls[['title', 'Image-URL-M', 'author']]\n",
    "urls.head(3)"
   ]
  },
  {
   "cell_type": "code",
   "execution_count": 140,
   "metadata": {},
   "outputs": [
    {
     "data": {
      "text/plain": [
       "['urls.pkl']"
      ]
     },
     "execution_count": 140,
     "metadata": {},
     "output_type": "execute_result"
    }
   ],
   "source": [
    "import joblib\n",
    "\n",
    "#Export model\n",
    "#joblib.dump(fitted_model, 'model_knn.pkl')\n",
    "\n",
    "#Export matrix\n",
    "joblib.dump(pivot_mine, 'pivot_mine.pkl')\n",
    "\n",
    "#Export pivot table SVD\n",
    "#joblib.dump(recommend_pivot_svd, 'pivot_table_SVD.pkl')\n",
    "\n",
    "#Export df\n",
    "joblib.dump(urls, 'urls.pkl')\n",
    "\n",
    "#Export pivot table KNN\n",
    "#joblib.dump(recommend_pivot_knn, 'pivot_table_knn.pkl')\n"
   ]
  },
  {
   "cell_type": "code",
   "execution_count": 141,
   "metadata": {},
   "outputs": [
    {
     "data": {
      "text/html": [
       "<div>\n",
       "<style scoped>\n",
       "    .dataframe tbody tr th:only-of-type {\n",
       "        vertical-align: middle;\n",
       "    }\n",
       "\n",
       "    .dataframe tbody tr th {\n",
       "        vertical-align: top;\n",
       "    }\n",
       "\n",
       "    .dataframe thead th {\n",
       "        text-align: right;\n",
       "    }\n",
       "</style>\n",
       "<table border=\"1\" class=\"dataframe\">\n",
       "  <thead>\n",
       "    <tr style=\"text-align: right;\">\n",
       "      <th></th>\n",
       "      <th>title</th>\n",
       "      <th>Image-URL-M</th>\n",
       "      <th>author</th>\n",
       "    </tr>\n",
       "  </thead>\n",
       "  <tbody>\n",
       "    <tr>\n",
       "      <th>0</th>\n",
       "      <td>The Boy Next Door</td>\n",
       "      <td>http://images.amazon.com/images/P/0060096195.0...</td>\n",
       "      <td>Meggin Cabot</td>\n",
       "    </tr>\n",
       "    <tr>\n",
       "      <th>33</th>\n",
       "      <td>Skin and Other Stories (Now in Speak!)</td>\n",
       "      <td>http://images.amazon.com/images/P/0141310340.0...</td>\n",
       "      <td>Roald Dahl</td>\n",
       "    </tr>\n",
       "    <tr>\n",
       "      <th>37</th>\n",
       "      <td>Growing Wings</td>\n",
       "      <td>http://images.amazon.com/images/P/0142302198.0...</td>\n",
       "      <td>Laurel Winter</td>\n",
       "    </tr>\n",
       "  </tbody>\n",
       "</table>\n",
       "</div>"
      ],
      "text/plain": [
       "                                     title  \\\n",
       "0                        The Boy Next Door   \n",
       "33  Skin and Other Stories (Now in Speak!)   \n",
       "37                           Growing Wings   \n",
       "\n",
       "                                          Image-URL-M         author  \n",
       "0   http://images.amazon.com/images/P/0060096195.0...   Meggin Cabot  \n",
       "33  http://images.amazon.com/images/P/0141310340.0...     Roald Dahl  \n",
       "37  http://images.amazon.com/images/P/0142302198.0...  Laurel Winter  "
      ]
     },
     "execution_count": 141,
     "metadata": {},
     "output_type": "execute_result"
    }
   ],
   "source": [
    "import joblib\n",
    "\n",
    "df=joblib.load('urls.pkl')\n",
    "df.head(3)"
   ]
  },
  {
   "cell_type": "code",
   "execution_count": 142,
   "metadata": {},
   "outputs": [],
   "source": [
    "#feedback:\n",
    "\n",
    "#use charts that you will use for something x do not use chart without giving you any information\n",
    "#if you implement method you must know how does it work - limitations - adjust data to it\n",
    "#how do you measure the success? Try an unknown book and verify that's others read it.\n",
    "#if you slice it - why? - how much data you will loose?\n",
    "#zeros and NaN I lost the information about zero ratings in the pivot tables\n",
    "\n",
    "\n",
    "#everytime you drop or remove or simplify something - you must have prove for that!!!!!\n"
   ]
  },
  {
   "cell_type": "code",
   "execution_count": 143,
   "metadata": {},
   "outputs": [],
   "source": [
    "#vzfiltruj knihy ktere maji celkovou sumu hodnoceni - nula = i borec s nulou muze mit dalsi nenulove\n",
    "#musim rozlisit jak definovat nulu-hodnoceni!!!!!"
   ]
  },
  {
   "cell_type": "code",
   "execution_count": 144,
   "metadata": {},
   "outputs": [
    {
     "data": {
      "text/html": [
       "<div>\n",
       "<style scoped>\n",
       "    .dataframe tbody tr th:only-of-type {\n",
       "        vertical-align: middle;\n",
       "    }\n",
       "\n",
       "    .dataframe tbody tr th {\n",
       "        vertical-align: top;\n",
       "    }\n",
       "\n",
       "    .dataframe thead th {\n",
       "        text-align: right;\n",
       "    }\n",
       "</style>\n",
       "<table border=\"1\" class=\"dataframe\">\n",
       "  <thead>\n",
       "    <tr style=\"text-align: right;\">\n",
       "      <th></th>\n",
       "      <th>index</th>\n",
       "      <th>word</th>\n",
       "      <th>normal column</th>\n",
       "    </tr>\n",
       "  </thead>\n",
       "  <tbody>\n",
       "    <tr>\n",
       "      <th>0</th>\n",
       "      <td>0</td>\n",
       "      <td>pokus$ deb#l</td>\n",
       "      <td>ahoj</td>\n",
       "    </tr>\n",
       "    <tr>\n",
       "      <th>1</th>\n",
       "      <td>1</td>\n",
       "      <td>ho@vno</td>\n",
       "      <td>nazdar</td>\n",
       "    </tr>\n",
       "    <tr>\n",
       "      <th>3</th>\n",
       "      <td>3</td>\n",
       "      <td>ko#kot</td>\n",
       "      <td>wow</td>\n",
       "    </tr>\n",
       "  </tbody>\n",
       "</table>\n",
       "</div>"
      ],
      "text/plain": [
       "   index          word normal column\n",
       "0      0  pokus$ deb#l          ahoj\n",
       "1      1        ho@vno        nazdar\n",
       "3      3        ko#kot           wow"
      ]
     },
     "execution_count": 144,
     "metadata": {},
     "output_type": "execute_result"
    }
   ],
   "source": [
    "import re\n",
    "\n",
    "df=pd.DataFrame({'index':range(0,4),\n",
    "                 'word':['pokus$ deb#l', 'ho@vno','normal','ko#kot'],\n",
    "                 'normal column':['ahoj', 'nazdar', 'pokus', 'wow']})\n",
    "\n",
    "\n",
    "# Define a regex pattern to match titles with weird symbols\n",
    "pattern = r'[ #$!@#¡¿]'\n",
    "\n",
    "# Use the str.contains() method to check for titles containing the pattern\n",
    "titles_with_weird_symbols = df.query('word.str.contains(@pattern)')\n",
    "\n",
    "# Display the titles with weird symbols\n",
    "titles_with_weird_symbols\n"
   ]
  }
 ],
 "metadata": {
  "kernelspec": {
   "display_name": "Python 3",
   "language": "python",
   "name": "python3"
  },
  "language_info": {
   "codemirror_mode": {
    "name": "ipython",
    "version": 3
   },
   "file_extension": ".py",
   "mimetype": "text/x-python",
   "name": "python",
   "nbconvert_exporter": "python",
   "pygments_lexer": "ipython3",
   "version": "3.10.10"
  },
  "orig_nbformat": 4
 },
 "nbformat": 4,
 "nbformat_minor": 2
}
