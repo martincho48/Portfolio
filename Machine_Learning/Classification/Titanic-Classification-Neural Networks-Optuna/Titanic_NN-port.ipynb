{
  "cells": [
    {
      "cell_type": "code",
      "execution_count": 131,
      "metadata": {},
      "outputs": [
        {
          "data": {
            "text/plain": [
              "'\\nsurvival\\tSurvival\\t0 = No, 1 = Yes\\npclass\\tTicket class\\t1 = 1st, 2 = 2nd, 3 = 3rd\\nsex\\tSex\\t\\nAge\\tAge in years\\t\\nsibsp\\t# of siblings / spouses aboard the Titanic\\t\\nparch\\t# of parents / children aboard the Titanic\\t\\nticket\\tTicket number\\t\\nfare\\tPassenger fare\\t\\ncabin\\tCabin number\\t\\nembarked\\tPort of Embarkation\\tC = Cherbourg, Q = Queenstown, S = Southampton\\n'"
            ]
          },
          "execution_count": 131,
          "metadata": {},
          "output_type": "execute_result"
        }
      ],
      "source": [
        "#https://www.kaggle.com/code/vincentlugat/titanic-neural-networks-keras-81-8\n",
        "#https://www.kaggle.com/code/stefanbergstein/keras-deep-learning-on-titanic-data\n",
        "#https://medium.com/@mukundsharma1995/working-with-titanic-dataset-using-keras-solving-a-simple-classification-problem-440e3860e8fd\n",
        "#video:\n",
        "#https://www.youtube.com/watch?v=IAzuLSa-sb0&list=PL99M1tNzXULPlLT5ppsoznoxXLefI3xBf&index=11&t=3274s\n",
        "\n",
        "\n",
        "'''\n",
        "survival\tSurvival\t0 = No, 1 = Yes\n",
        "pclass\tTicket class\t1 = 1st, 2 = 2nd, 3 = 3rd\n",
        "sex\tSex\t\n",
        "Age\tAge in years\t\n",
        "sibsp\t# of siblings / spouses aboard the Titanic\t\n",
        "parch\t# of parents / children aboard the Titanic\t\n",
        "ticket\tTicket number\t\n",
        "fare\tPassenger fare\t\n",
        "cabin\tCabin number\t\n",
        "embarked\tPort of Embarkation\tC = Cherbourg, Q = Queenstown, S = Southampton\n",
        "'''"
      ]
    },
    {
      "cell_type": "code",
      "execution_count": 132,
      "metadata": {
        "id": "umS5KQz3j4Yz"
      },
      "outputs": [],
      "source": [
        "import numpy as np\n",
        "import pandas as pd\n",
        "import matplotlib.pyplot as plt"
      ]
    },
    {
      "cell_type": "code",
      "execution_count": 133,
      "metadata": {},
      "outputs": [],
      "source": [
        "#read into DataFrame\n",
        "df_train = pd.read_csv('train.csv')\n",
        "df_test= pd.read_csv('test.csv')"
      ]
    },
    {
      "cell_type": "code",
      "execution_count": 134,
      "metadata": {},
      "outputs": [],
      "source": [
        "############################\n",
        "############################\n",
        "#DISPLAY\n",
        "############################\n",
        "############################"
      ]
    },
    {
      "cell_type": "code",
      "execution_count": 135,
      "metadata": {},
      "outputs": [],
      "source": [
        "#enable to see all columns in a notebook\n",
        "pd.set_option('display.max_columns', None)\n",
        "\n",
        "#enable to see all rows in a notebook\n",
        "pd.set_option('display.max_rows', None)"
      ]
    },
    {
      "cell_type": "code",
      "execution_count": 136,
      "metadata": {},
      "outputs": [
        {
          "data": {
            "text/html": [
              "<div>\n",
              "<style scoped>\n",
              "    .dataframe tbody tr th:only-of-type {\n",
              "        vertical-align: middle;\n",
              "    }\n",
              "\n",
              "    .dataframe tbody tr th {\n",
              "        vertical-align: top;\n",
              "    }\n",
              "\n",
              "    .dataframe thead th {\n",
              "        text-align: right;\n",
              "    }\n",
              "</style>\n",
              "<table border=\"1\" class=\"dataframe\">\n",
              "  <thead>\n",
              "    <tr style=\"text-align: right;\">\n",
              "      <th></th>\n",
              "      <th>PassengerId</th>\n",
              "      <th>Survived</th>\n",
              "      <th>Pclass</th>\n",
              "      <th>Name</th>\n",
              "      <th>Sex</th>\n",
              "      <th>Age</th>\n",
              "      <th>SibSp</th>\n",
              "      <th>Parch</th>\n",
              "      <th>Ticket</th>\n",
              "      <th>Fare</th>\n",
              "      <th>Cabin</th>\n",
              "      <th>Embarked</th>\n",
              "    </tr>\n",
              "  </thead>\n",
              "  <tbody>\n",
              "    <tr>\n",
              "      <th>0</th>\n",
              "      <td>1</td>\n",
              "      <td>0</td>\n",
              "      <td>3</td>\n",
              "      <td>Braund, Mr. Owen Harris</td>\n",
              "      <td>male</td>\n",
              "      <td>22.0</td>\n",
              "      <td>1</td>\n",
              "      <td>0</td>\n",
              "      <td>A/5 21171</td>\n",
              "      <td>7.2500</td>\n",
              "      <td>NaN</td>\n",
              "      <td>S</td>\n",
              "    </tr>\n",
              "    <tr>\n",
              "      <th>1</th>\n",
              "      <td>2</td>\n",
              "      <td>1</td>\n",
              "      <td>1</td>\n",
              "      <td>Cumings, Mrs. John Bradley (Florence Briggs Th...</td>\n",
              "      <td>female</td>\n",
              "      <td>38.0</td>\n",
              "      <td>1</td>\n",
              "      <td>0</td>\n",
              "      <td>PC 17599</td>\n",
              "      <td>71.2833</td>\n",
              "      <td>C85</td>\n",
              "      <td>C</td>\n",
              "    </tr>\n",
              "    <tr>\n",
              "      <th>2</th>\n",
              "      <td>3</td>\n",
              "      <td>1</td>\n",
              "      <td>3</td>\n",
              "      <td>Heikkinen, Miss. Laina</td>\n",
              "      <td>female</td>\n",
              "      <td>26.0</td>\n",
              "      <td>0</td>\n",
              "      <td>0</td>\n",
              "      <td>STON/O2. 3101282</td>\n",
              "      <td>7.9250</td>\n",
              "      <td>NaN</td>\n",
              "      <td>S</td>\n",
              "    </tr>\n",
              "    <tr>\n",
              "      <th>3</th>\n",
              "      <td>4</td>\n",
              "      <td>1</td>\n",
              "      <td>1</td>\n",
              "      <td>Futrelle, Mrs. Jacques Heath (Lily May Peel)</td>\n",
              "      <td>female</td>\n",
              "      <td>35.0</td>\n",
              "      <td>1</td>\n",
              "      <td>0</td>\n",
              "      <td>113803</td>\n",
              "      <td>53.1000</td>\n",
              "      <td>C123</td>\n",
              "      <td>S</td>\n",
              "    </tr>\n",
              "    <tr>\n",
              "      <th>4</th>\n",
              "      <td>5</td>\n",
              "      <td>0</td>\n",
              "      <td>3</td>\n",
              "      <td>Allen, Mr. William Henry</td>\n",
              "      <td>male</td>\n",
              "      <td>35.0</td>\n",
              "      <td>0</td>\n",
              "      <td>0</td>\n",
              "      <td>373450</td>\n",
              "      <td>8.0500</td>\n",
              "      <td>NaN</td>\n",
              "      <td>S</td>\n",
              "    </tr>\n",
              "  </tbody>\n",
              "</table>\n",
              "</div>"
            ],
            "text/plain": [
              "   PassengerId  Survived  Pclass  \\\n",
              "0            1         0       3   \n",
              "1            2         1       1   \n",
              "2            3         1       3   \n",
              "3            4         1       1   \n",
              "4            5         0       3   \n",
              "\n",
              "                                                Name     Sex   Age  SibSp  \\\n",
              "0                            Braund, Mr. Owen Harris    male  22.0      1   \n",
              "1  Cumings, Mrs. John Bradley (Florence Briggs Th...  female  38.0      1   \n",
              "2                             Heikkinen, Miss. Laina  female  26.0      0   \n",
              "3       Futrelle, Mrs. Jacques Heath (Lily May Peel)  female  35.0      1   \n",
              "4                           Allen, Mr. William Henry    male  35.0      0   \n",
              "\n",
              "   Parch            Ticket     Fare Cabin Embarked  \n",
              "0      0         A/5 21171   7.2500   NaN        S  \n",
              "1      0          PC 17599  71.2833   C85        C  \n",
              "2      0  STON/O2. 3101282   7.9250   NaN        S  \n",
              "3      0            113803  53.1000  C123        S  \n",
              "4      0            373450   8.0500   NaN        S  "
            ]
          },
          "execution_count": 136,
          "metadata": {},
          "output_type": "execute_result"
        }
      ],
      "source": [
        "df_train.head()"
      ]
    },
    {
      "cell_type": "code",
      "execution_count": 137,
      "metadata": {},
      "outputs": [
        {
          "data": {
            "text/html": [
              "<div>\n",
              "<style scoped>\n",
              "    .dataframe tbody tr th:only-of-type {\n",
              "        vertical-align: middle;\n",
              "    }\n",
              "\n",
              "    .dataframe tbody tr th {\n",
              "        vertical-align: top;\n",
              "    }\n",
              "\n",
              "    .dataframe thead th {\n",
              "        text-align: right;\n",
              "    }\n",
              "</style>\n",
              "<table border=\"1\" class=\"dataframe\">\n",
              "  <thead>\n",
              "    <tr style=\"text-align: right;\">\n",
              "      <th></th>\n",
              "      <th>PassengerId</th>\n",
              "      <th>Survived</th>\n",
              "      <th>Pclass</th>\n",
              "      <th>Name</th>\n",
              "      <th>Sex</th>\n",
              "      <th>Age</th>\n",
              "      <th>SibSp</th>\n",
              "      <th>Parch</th>\n",
              "      <th>Ticket</th>\n",
              "      <th>Fare</th>\n",
              "      <th>Cabin</th>\n",
              "      <th>Embarked</th>\n",
              "    </tr>\n",
              "  </thead>\n",
              "  <tbody>\n",
              "    <tr>\n",
              "      <th>886</th>\n",
              "      <td>887</td>\n",
              "      <td>0</td>\n",
              "      <td>2</td>\n",
              "      <td>Montvila, Rev. Juozas</td>\n",
              "      <td>male</td>\n",
              "      <td>27.0</td>\n",
              "      <td>0</td>\n",
              "      <td>0</td>\n",
              "      <td>211536</td>\n",
              "      <td>13.00</td>\n",
              "      <td>NaN</td>\n",
              "      <td>S</td>\n",
              "    </tr>\n",
              "    <tr>\n",
              "      <th>887</th>\n",
              "      <td>888</td>\n",
              "      <td>1</td>\n",
              "      <td>1</td>\n",
              "      <td>Graham, Miss. Margaret Edith</td>\n",
              "      <td>female</td>\n",
              "      <td>19.0</td>\n",
              "      <td>0</td>\n",
              "      <td>0</td>\n",
              "      <td>112053</td>\n",
              "      <td>30.00</td>\n",
              "      <td>B42</td>\n",
              "      <td>S</td>\n",
              "    </tr>\n",
              "    <tr>\n",
              "      <th>888</th>\n",
              "      <td>889</td>\n",
              "      <td>0</td>\n",
              "      <td>3</td>\n",
              "      <td>Johnston, Miss. Catherine Helen \"Carrie\"</td>\n",
              "      <td>female</td>\n",
              "      <td>NaN</td>\n",
              "      <td>1</td>\n",
              "      <td>2</td>\n",
              "      <td>W./C. 6607</td>\n",
              "      <td>23.45</td>\n",
              "      <td>NaN</td>\n",
              "      <td>S</td>\n",
              "    </tr>\n",
              "    <tr>\n",
              "      <th>889</th>\n",
              "      <td>890</td>\n",
              "      <td>1</td>\n",
              "      <td>1</td>\n",
              "      <td>Behr, Mr. Karl Howell</td>\n",
              "      <td>male</td>\n",
              "      <td>26.0</td>\n",
              "      <td>0</td>\n",
              "      <td>0</td>\n",
              "      <td>111369</td>\n",
              "      <td>30.00</td>\n",
              "      <td>C148</td>\n",
              "      <td>C</td>\n",
              "    </tr>\n",
              "    <tr>\n",
              "      <th>890</th>\n",
              "      <td>891</td>\n",
              "      <td>0</td>\n",
              "      <td>3</td>\n",
              "      <td>Dooley, Mr. Patrick</td>\n",
              "      <td>male</td>\n",
              "      <td>32.0</td>\n",
              "      <td>0</td>\n",
              "      <td>0</td>\n",
              "      <td>370376</td>\n",
              "      <td>7.75</td>\n",
              "      <td>NaN</td>\n",
              "      <td>Q</td>\n",
              "    </tr>\n",
              "  </tbody>\n",
              "</table>\n",
              "</div>"
            ],
            "text/plain": [
              "     PassengerId  Survived  Pclass                                      Name  \\\n",
              "886          887         0       2                     Montvila, Rev. Juozas   \n",
              "887          888         1       1              Graham, Miss. Margaret Edith   \n",
              "888          889         0       3  Johnston, Miss. Catherine Helen \"Carrie\"   \n",
              "889          890         1       1                     Behr, Mr. Karl Howell   \n",
              "890          891         0       3                       Dooley, Mr. Patrick   \n",
              "\n",
              "        Sex   Age  SibSp  Parch      Ticket   Fare Cabin Embarked  \n",
              "886    male  27.0      0      0      211536  13.00   NaN        S  \n",
              "887  female  19.0      0      0      112053  30.00   B42        S  \n",
              "888  female   NaN      1      2  W./C. 6607  23.45   NaN        S  \n",
              "889    male  26.0      0      0      111369  30.00  C148        C  \n",
              "890    male  32.0      0      0      370376   7.75   NaN        Q  "
            ]
          },
          "execution_count": 137,
          "metadata": {},
          "output_type": "execute_result"
        }
      ],
      "source": [
        "df_train.tail()"
      ]
    },
    {
      "cell_type": "code",
      "execution_count": 138,
      "metadata": {},
      "outputs": [
        {
          "name": "stdout",
          "output_type": "stream",
          "text": [
            "             train   test  train [%]\n",
            "Cabin          687  327.0         77\n",
            "Age            177   86.0         20\n",
            "Embarked         2    0.0          0\n",
            "PassengerId      0    0.0          0\n",
            "Survived         0    NaN          0\n",
            "Pclass           0    0.0          0\n",
            "Name             0    0.0          0\n",
            "Sex              0    0.0          0\n",
            "SibSp            0    0.0          0\n",
            "Parch            0    0.0          0\n",
            "Ticket           0    0.0          0\n",
            "Fare             0    1.0          0\n",
            "Number of rows-train: 891\n",
            "Number of rows-test: 418\n"
          ]
        }
      ],
      "source": [
        "##################\n",
        "#RUN STATS - HOW MANY NaN\n",
        "##################\n",
        "train_nan=df_train.isnull().sum().sort_values(ascending = False)[0:20]\n",
        "test_nan=df_test.isnull().sum().sort_values(ascending = False)[0:20]\n",
        "\n",
        "\n",
        "\n",
        "\n",
        "x = pd.DataFrame(train_nan, columns=['train'])\n",
        "x['test']=test_nan\n",
        "\n",
        "# Using Dataframe.apply() and lambda function\n",
        "x[\"train [%]\"] = x[\"train\"].apply(lambda x: round((x/df_train.shape[0])*100))\n",
        "\n",
        "print(x)\n",
        "\n",
        "print(\"Number of rows-train:\", df_train.shape[0])\n",
        "print(\"Number of rows-test:\", df_test.shape[0])"
      ]
    },
    {
      "cell_type": "code",
      "execution_count": 139,
      "metadata": {},
      "outputs": [],
      "source": [
        "########################\n",
        "#Dropping values depending on percentage of NaN\n",
        "########################\n",
        "\n",
        "#dropping columns with certain percentage of NaN\n",
        "perc = 75 #percentage of NaN\n",
        "\n",
        "\n",
        "min_count =  int(((100-perc)/100)*df_train.shape[0] + 1)\n",
        "df_train = df_train.dropna( axis=1, thresh=min_count)\n",
        "\n",
        "\n",
        "min_count =  int(((100-perc)/100)*df_test.shape[0] + 1)\n",
        "df_test = df_test.dropna( axis=1, thresh=min_count)\n"
      ]
    },
    {
      "cell_type": "code",
      "execution_count": 140,
      "metadata": {},
      "outputs": [
        {
          "name": "stdout",
          "output_type": "stream",
          "text": [
            "             train  test  train [%]\n",
            "Age            177  86.0         20\n",
            "Embarked         2   0.0          0\n",
            "PassengerId      0   0.0          0\n",
            "Survived         0   NaN          0\n",
            "Pclass           0   0.0          0\n",
            "Name             0   0.0          0\n",
            "Sex              0   0.0          0\n",
            "SibSp            0   0.0          0\n",
            "Parch            0   0.0          0\n",
            "Ticket           0   0.0          0\n",
            "Fare             0   1.0          0\n",
            "Number of rows-train: 891\n",
            "Number of rows-test: 418\n"
          ]
        }
      ],
      "source": [
        "##################\n",
        "#RUN STATS - HOW MANY NaN\n",
        "##################\n",
        "train_nan=df_train.isnull().sum().sort_values(ascending = False)[0:20]\n",
        "test_nan=df_test.isnull().sum().sort_values(ascending = False)[0:20]\n",
        "\n",
        "x = pd.DataFrame(train_nan, columns=['train'])\n",
        "x['test']=test_nan\n",
        "\n",
        "# Using Dataframe.apply() and lambda function\n",
        "x[\"train [%]\"] = x[\"train\"].apply(lambda x: round((x/df_train.shape[0])*100))\n",
        "\n",
        "print(x)\n",
        "\n",
        "print(\"Number of rows-train:\", df_train.shape[0])\n",
        "print(\"Number of rows-test:\", df_test.shape[0])"
      ]
    },
    {
      "cell_type": "code",
      "execution_count": 141,
      "metadata": {},
      "outputs": [
        {
          "name": "stdout",
          "output_type": "stream",
          "text": [
            "In following columns were NaN changed to mean:  ['Age']\n",
            "In following columns were NaN changed to mean:  ['Age', 'Fare']\n"
          ]
        }
      ],
      "source": [
        "#####################\n",
        "#Fill in with mean\n",
        "#####################\n",
        "\n",
        "#function that selects nonstring only colums without string and fill in NaN colums with mean value\n",
        "\n",
        "def fillin_mean(data_frame):\n",
        "\n",
        "    #selecting all columns without String\n",
        "    string_check=data_frame.select_dtypes(exclude=['object'])\n",
        "\n",
        "    #checking if columns without string have NaN\n",
        "    nan_check=string_check.isnull().sum().sort_values(ascending = False)[0:20]\n",
        "\n",
        "    #converting Index an Value in the list\n",
        "    list_index=nan_check.index.values.tolist()\n",
        "    list_value=nan_check.values.tolist()\n",
        "\n",
        "    #creating array from 2 lists\n",
        "    new_array=np.column_stack((list_index,list_value))\n",
        "\n",
        "    #creating unique list by expecting the array\n",
        "    unique_list=[]\n",
        "    for x in range(len(new_array)):\n",
        "        if new_array[x,1] != '0':\n",
        "            unique_list.append(new_array[x,0])\n",
        "\n",
        "    #fill in the N/A with the mean\n",
        "    if unique_list !=[]:\n",
        "        data_frame[unique_list]=data_frame[unique_list].fillna(data_frame[unique_list].median()) #mean()\n",
        "        data_frame.head()\n",
        "        print(\"In following columns were NaN changed to mean: \",unique_list)\n",
        "    else:\n",
        "        print(\"All columns without string DON'T contain NaN.\")\n",
        "\n",
        "#call the function\n",
        "fillin_mean(df_train)\n",
        "fillin_mean(df_test)\n"
      ]
    },
    {
      "cell_type": "code",
      "execution_count": 142,
      "metadata": {},
      "outputs": [
        {
          "name": "stdout",
          "output_type": "stream",
          "text": [
            "             train  test  train [%]\n",
            "Embarked         2   0.0          0\n",
            "PassengerId      0   0.0          0\n",
            "Survived         0   NaN          0\n",
            "Pclass           0   0.0          0\n",
            "Name             0   0.0          0\n",
            "Sex              0   0.0          0\n",
            "Age              0   0.0          0\n",
            "SibSp            0   0.0          0\n",
            "Parch            0   0.0          0\n",
            "Ticket           0   0.0          0\n",
            "Fare             0   0.0          0\n",
            "Number of rows-train: 891\n",
            "Number of rows-test: 418\n"
          ]
        }
      ],
      "source": [
        "##################\n",
        "#RUN STATS - HOW MANY NaN\n",
        "##################\n",
        "train_nan=df_train.isnull().sum().sort_values(ascending = False)[0:20]\n",
        "test_nan=df_test.isnull().sum().sort_values(ascending = False)[0:20]\n",
        "\n",
        "#Creating DataFrame x\n",
        "x = pd.DataFrame(train_nan, columns=['train'])\n",
        "x['test']=test_nan #adding column to dataframe\n",
        "\n",
        "# Using Dataframe.apply() and lambda function\n",
        "x[\"train [%]\"] = x[\"train\"].apply(lambda x: round((x/df_train.shape[0])*100))\n",
        "\n",
        "print(x)\n",
        "\n",
        "print(\"Number of rows-train:\", df_train.shape[0])\n",
        "print(\"Number of rows-test:\", df_test.shape[0])\n"
      ]
    },
    {
      "cell_type": "code",
      "execution_count": 143,
      "metadata": {},
      "outputs": [],
      "source": [
        "############################\n",
        "############################\n",
        "#FEATURE ENGINEERING\n",
        "############################\n",
        "############################"
      ]
    },
    {
      "cell_type": "code",
      "execution_count": 144,
      "metadata": {},
      "outputs": [
        {
          "data": {
            "text/html": [
              "<div>\n",
              "<style scoped>\n",
              "    .dataframe tbody tr th:only-of-type {\n",
              "        vertical-align: middle;\n",
              "    }\n",
              "\n",
              "    .dataframe tbody tr th {\n",
              "        vertical-align: top;\n",
              "    }\n",
              "\n",
              "    .dataframe thead th {\n",
              "        text-align: right;\n",
              "    }\n",
              "</style>\n",
              "<table border=\"1\" class=\"dataframe\">\n",
              "  <thead>\n",
              "    <tr style=\"text-align: right;\">\n",
              "      <th></th>\n",
              "      <th>Name</th>\n",
              "      <th>Sex</th>\n",
              "      <th>Ticket</th>\n",
              "      <th>Embarked</th>\n",
              "    </tr>\n",
              "  </thead>\n",
              "  <tbody>\n",
              "    <tr>\n",
              "      <th>count</th>\n",
              "      <td>891</td>\n",
              "      <td>891</td>\n",
              "      <td>891</td>\n",
              "      <td>889</td>\n",
              "    </tr>\n",
              "    <tr>\n",
              "      <th>unique</th>\n",
              "      <td>891</td>\n",
              "      <td>2</td>\n",
              "      <td>681</td>\n",
              "      <td>3</td>\n",
              "    </tr>\n",
              "    <tr>\n",
              "      <th>top</th>\n",
              "      <td>Braund, Mr. Owen Harris</td>\n",
              "      <td>male</td>\n",
              "      <td>347082</td>\n",
              "      <td>S</td>\n",
              "    </tr>\n",
              "    <tr>\n",
              "      <th>freq</th>\n",
              "      <td>1</td>\n",
              "      <td>577</td>\n",
              "      <td>7</td>\n",
              "      <td>644</td>\n",
              "    </tr>\n",
              "  </tbody>\n",
              "</table>\n",
              "</div>"
            ],
            "text/plain": [
              "                           Name   Sex  Ticket Embarked\n",
              "count                       891   891     891      889\n",
              "unique                      891     2     681        3\n",
              "top     Braund, Mr. Owen Harris  male  347082        S\n",
              "freq                          1   577       7      644"
            ]
          },
          "execution_count": 144,
          "metadata": {},
          "output_type": "execute_result"
        }
      ],
      "source": [
        "#categorical values\n",
        "categ_columns = df_train.select_dtypes(exclude=[np.number])\n",
        "categ_columns.describe()"
      ]
    },
    {
      "cell_type": "code",
      "execution_count": 145,
      "metadata": {},
      "outputs": [
        {
          "data": {
            "text/plain": [
              "Sex\n",
              "male      577\n",
              "female    314\n",
              "Name: count, dtype: int64"
            ]
          },
          "execution_count": 145,
          "metadata": {},
          "output_type": "execute_result"
        }
      ],
      "source": [
        "#get a closer look at categorical\n",
        "df_train['Sex'].value_counts()"
      ]
    },
    {
      "cell_type": "code",
      "execution_count": 146,
      "metadata": {},
      "outputs": [],
      "source": [
        "####################\n",
        "#BINS\n",
        "####################"
      ]
    },
    {
      "cell_type": "code",
      "execution_count": 147,
      "metadata": {},
      "outputs": [],
      "source": [
        "#bin - AGE\n",
        "\n",
        "df_train['Age_bin'] = pd.cut(df_train['Age'], bins=[0,12,20,40,120], labels=['Children','Teenage','Adult','Elder'])\n",
        "df_test['Age_bin'] = pd.cut(df_test['Age'], bins=[0,12,20,40,120], labels=['Children','Teenage','Adult','Elder'])"
      ]
    },
    {
      "cell_type": "code",
      "execution_count": 148,
      "metadata": {},
      "outputs": [],
      "source": [
        "#bin - FARE\n",
        "\n",
        "#get a list\n",
        "def split_data(data_frame, column_name):\n",
        "    #load: min, 25%, 50%=mean, 75%=median, max\n",
        "    stat=data_frame[column_name].describe()\n",
        "\n",
        "    #import data into list\n",
        "    stat_list=stat.values.tolist()\n",
        "\n",
        "    #slice first 3\n",
        "    stat_list=stat_list[3:]\n",
        "    return stat_list\n",
        "\n",
        "train_list=split_data(df_train,'Fare')\n",
        "test_list=split_data(df_test,'Fare')\n",
        "\n",
        "# import list into bin and create new columns\n",
        "df_train['Fare_bin'] = pd.cut(df_train['Fare'], bins=train_list, labels=['0÷25%_fare','25÷50%_fare','50÷75%_fare','75÷100%_fare'])\n",
        "df_test['Fare_bin'] = pd.cut(df_test['Fare'], bins=test_list, labels=['0÷25%_fare','25÷50%_fare','50÷75%_fare','75÷100%_fare'])\n"
      ]
    },
    {
      "cell_type": "code",
      "execution_count": 149,
      "metadata": {},
      "outputs": [
        {
          "data": {
            "text/html": [
              "<div>\n",
              "<style scoped>\n",
              "    .dataframe tbody tr th:only-of-type {\n",
              "        vertical-align: middle;\n",
              "    }\n",
              "\n",
              "    .dataframe tbody tr th {\n",
              "        vertical-align: top;\n",
              "    }\n",
              "\n",
              "    .dataframe thead th {\n",
              "        text-align: right;\n",
              "    }\n",
              "</style>\n",
              "<table border=\"1\" class=\"dataframe\">\n",
              "  <thead>\n",
              "    <tr style=\"text-align: right;\">\n",
              "      <th></th>\n",
              "      <th>PassengerId</th>\n",
              "      <th>Pclass</th>\n",
              "      <th>Name</th>\n",
              "      <th>Sex</th>\n",
              "      <th>Age</th>\n",
              "      <th>SibSp</th>\n",
              "      <th>Parch</th>\n",
              "      <th>Ticket</th>\n",
              "      <th>Fare</th>\n",
              "      <th>Embarked</th>\n",
              "      <th>Age_bin</th>\n",
              "      <th>Fare_bin</th>\n",
              "    </tr>\n",
              "  </thead>\n",
              "  <tbody>\n",
              "    <tr>\n",
              "      <th>0</th>\n",
              "      <td>892</td>\n",
              "      <td>3</td>\n",
              "      <td>Kelly, Mr. James</td>\n",
              "      <td>male</td>\n",
              "      <td>34.5</td>\n",
              "      <td>0</td>\n",
              "      <td>0</td>\n",
              "      <td>330911</td>\n",
              "      <td>7.8292</td>\n",
              "      <td>Q</td>\n",
              "      <td>Adult</td>\n",
              "      <td>0÷25%_fare</td>\n",
              "    </tr>\n",
              "  </tbody>\n",
              "</table>\n",
              "</div>"
            ],
            "text/plain": [
              "   PassengerId  Pclass              Name   Sex   Age  SibSp  Parch  Ticket  \\\n",
              "0          892       3  Kelly, Mr. James  male  34.5      0      0  330911   \n",
              "\n",
              "     Fare Embarked Age_bin    Fare_bin  \n",
              "0  7.8292        Q   Adult  0÷25%_fare  "
            ]
          },
          "execution_count": 149,
          "metadata": {},
          "output_type": "execute_result"
        }
      ],
      "source": [
        "df_test.head(1)"
      ]
    },
    {
      "cell_type": "code",
      "execution_count": 150,
      "metadata": {},
      "outputs": [],
      "source": [
        "####################\n",
        "#DUMMIES\n",
        "####################"
      ]
    },
    {
      "cell_type": "code",
      "execution_count": 151,
      "metadata": {},
      "outputs": [],
      "source": [
        "#change categorical-dummies\n",
        "df_train = pd.get_dummies(df_train, columns = [\"Sex\",\"Embarked\",'Age_bin','Fare_bin'], prefix=[\"gender\",\"Em\",'Age_type', 'Ticket'])\n",
        "df_test = pd.get_dummies(df_test, columns = [\"Sex\",\"Embarked\",'Age_bin','Fare_bin'], prefix=[\"gender\",\"Em\",'Age_type', 'Ticket'])"
      ]
    },
    {
      "cell_type": "code",
      "execution_count": 152,
      "metadata": {},
      "outputs": [
        {
          "data": {
            "text/html": [
              "<div>\n",
              "<style scoped>\n",
              "    .dataframe tbody tr th:only-of-type {\n",
              "        vertical-align: middle;\n",
              "    }\n",
              "\n",
              "    .dataframe tbody tr th {\n",
              "        vertical-align: top;\n",
              "    }\n",
              "\n",
              "    .dataframe thead th {\n",
              "        text-align: right;\n",
              "    }\n",
              "</style>\n",
              "<table border=\"1\" class=\"dataframe\">\n",
              "  <thead>\n",
              "    <tr style=\"text-align: right;\">\n",
              "      <th></th>\n",
              "      <th>PassengerId</th>\n",
              "      <th>Survived</th>\n",
              "      <th>Pclass</th>\n",
              "      <th>Name</th>\n",
              "      <th>Age</th>\n",
              "      <th>SibSp</th>\n",
              "      <th>Parch</th>\n",
              "      <th>Ticket</th>\n",
              "      <th>Fare</th>\n",
              "      <th>gender_female</th>\n",
              "      <th>gender_male</th>\n",
              "      <th>Em_C</th>\n",
              "      <th>Em_Q</th>\n",
              "      <th>Em_S</th>\n",
              "      <th>Age_type_Children</th>\n",
              "      <th>Age_type_Teenage</th>\n",
              "      <th>Age_type_Adult</th>\n",
              "      <th>Age_type_Elder</th>\n",
              "      <th>Ticket_0÷25%_fare</th>\n",
              "      <th>Ticket_25÷50%_fare</th>\n",
              "      <th>Ticket_50÷75%_fare</th>\n",
              "      <th>Ticket_75÷100%_fare</th>\n",
              "    </tr>\n",
              "  </thead>\n",
              "  <tbody>\n",
              "    <tr>\n",
              "      <th>0</th>\n",
              "      <td>1</td>\n",
              "      <td>0</td>\n",
              "      <td>3</td>\n",
              "      <td>Braund, Mr. Owen Harris</td>\n",
              "      <td>22.0</td>\n",
              "      <td>1</td>\n",
              "      <td>0</td>\n",
              "      <td>A/5 21171</td>\n",
              "      <td>7.25</td>\n",
              "      <td>False</td>\n",
              "      <td>True</td>\n",
              "      <td>False</td>\n",
              "      <td>False</td>\n",
              "      <td>True</td>\n",
              "      <td>False</td>\n",
              "      <td>False</td>\n",
              "      <td>True</td>\n",
              "      <td>False</td>\n",
              "      <td>True</td>\n",
              "      <td>False</td>\n",
              "      <td>False</td>\n",
              "      <td>False</td>\n",
              "    </tr>\n",
              "  </tbody>\n",
              "</table>\n",
              "</div>"
            ],
            "text/plain": [
              "   PassengerId  Survived  Pclass                     Name   Age  SibSp  Parch  \\\n",
              "0            1         0       3  Braund, Mr. Owen Harris  22.0      1      0   \n",
              "\n",
              "      Ticket  Fare  gender_female  gender_male   Em_C   Em_Q  Em_S  \\\n",
              "0  A/5 21171  7.25          False         True  False  False  True   \n",
              "\n",
              "   Age_type_Children  Age_type_Teenage  Age_type_Adult  Age_type_Elder  \\\n",
              "0              False             False            True           False   \n",
              "\n",
              "   Ticket_0÷25%_fare  Ticket_25÷50%_fare  Ticket_50÷75%_fare  \\\n",
              "0               True               False               False   \n",
              "\n",
              "   Ticket_75÷100%_fare  \n",
              "0                False  "
            ]
          },
          "execution_count": 152,
          "metadata": {},
          "output_type": "execute_result"
        }
      ],
      "source": [
        "df_train.head(1)"
      ]
    },
    {
      "cell_type": "code",
      "execution_count": 153,
      "metadata": {},
      "outputs": [],
      "source": [
        "#FINAL replacing string by NaN\n",
        "for col in df_train.columns:\n",
        "    df_train[col] = pd.to_numeric(df_train[col], errors='coerce')\n",
        "\n",
        "for col in df_test.columns:\n",
        "    df_test[col] = pd.to_numeric(df_test[col], errors='coerce')\n",
        "    \n",
        "#fill in the NaN with the mean in all columns\n",
        "df_train=df_train.fillna(df_train.mean())\n",
        "df_test=df_test.fillna(df_test.mean())\n",
        "\n",
        "\n",
        "#delete all columns containing NAN - in case of colums full of string become NaN-impossible to do a mean from string\n",
        "df_train=df_train.dropna(axis=1, how='all')\n",
        "df_test=df_test.dropna(axis=1, how='all')\n"
      ]
    },
    {
      "cell_type": "code",
      "execution_count": 154,
      "metadata": {},
      "outputs": [],
      "source": [
        "#######################\n",
        "#FINAL CHECK\n",
        "#######################"
      ]
    },
    {
      "cell_type": "code",
      "execution_count": 155,
      "metadata": {},
      "outputs": [
        {
          "name": "stdout",
          "output_type": "stream",
          "text": [
            "                    train  test  train [%]\n",
            "PassengerId             0   0.0          0\n",
            "Em_Q                    0   0.0          0\n",
            "Ticket_50÷75%_fare      0   0.0          0\n",
            "Ticket_25÷50%_fare      0   0.0          0\n",
            "Ticket_0÷25%_fare       0   0.0          0\n",
            "Age_type_Elder          0   0.0          0\n",
            "Age_type_Adult          0   0.0          0\n",
            "Age_type_Teenage        0   0.0          0\n",
            "Age_type_Children       0   0.0          0\n",
            "Em_S                    0   0.0          0\n",
            "Em_C                    0   0.0          0\n",
            "Survived                0   NaN          0\n",
            "gender_male             0   0.0          0\n",
            "gender_female           0   0.0          0\n",
            "Fare                    0   0.0          0\n",
            "Ticket                  0   0.0          0\n",
            "Parch                   0   0.0          0\n",
            "SibSp                   0   0.0          0\n",
            "Age                     0   0.0          0\n",
            "Pclass                  0   0.0          0\n",
            "Number of rows-train: 891\n",
            "Number of rows-test: 418\n"
          ]
        }
      ],
      "source": [
        "##################\n",
        "#RUN STATS - HOW MANY NaN\n",
        "##################\n",
        "train_nan=df_train.isnull().sum().sort_values(ascending = False)[0:20]\n",
        "test_nan=df_test.isnull().sum().sort_values(ascending = False)[0:20]\n",
        "\n",
        "x = pd.DataFrame(train_nan, columns=['train'])\n",
        "x['test']=test_nan\n",
        "\n",
        "#Using Dataframe.apply() and lambda function\n",
        "x[\"train [%]\"] = x[\"train\"].apply(lambda x: round((x/df_train.shape[0])*100))\n",
        "\n",
        "print(x)\n",
        "\n",
        "print(\"Number of rows-train:\", df_train.shape[0])\n",
        "print(\"Number of rows-test:\", df_test.shape[0])"
      ]
    },
    {
      "cell_type": "code",
      "execution_count": 156,
      "metadata": {},
      "outputs": [],
      "source": [
        "############################\n",
        "############################\n",
        "#PROCESSING\n",
        "############################\n",
        "############################"
      ]
    },
    {
      "cell_type": "code",
      "execution_count": 157,
      "metadata": {},
      "outputs": [],
      "source": [
        "#dropping ID and other columns\n",
        "df_train=df_train.drop(['PassengerId', 'Ticket'], axis=1)\n",
        "\n",
        "df_test=df_test.drop(['PassengerId','Ticket'], axis=1)"
      ]
    },
    {
      "cell_type": "code",
      "execution_count": 158,
      "metadata": {},
      "outputs": [],
      "source": [
        "#defining input=X and output=y for models\n",
        "input=df_train.drop(['Survived'], axis=1)\n",
        "output=df_train[['Survived']]\n",
        "\n",
        "#independant\n",
        "X=input\n",
        "\n",
        "#dependant\n",
        "y=output"
      ]
    },
    {
      "cell_type": "code",
      "execution_count": 159,
      "metadata": {},
      "outputs": [],
      "source": [
        "######################\n",
        "#Scaling data\n",
        "######################"
      ]
    },
    {
      "cell_type": "code",
      "execution_count": 160,
      "metadata": {},
      "outputs": [],
      "source": [
        "#convert dataframe into numpy - due to cross valiadation\n",
        "X_np=X.values\n",
        "y_np=y.values\n",
        "\n",
        "#for test data\n",
        "X_test_np=df_test.values"
      ]
    },
    {
      "cell_type": "code",
      "execution_count": 161,
      "metadata": {},
      "outputs": [],
      "source": [
        "#scale data\n",
        "from sklearn.preprocessing import MinMaxScaler\n",
        "\n",
        "scaler=MinMaxScaler()\n",
        "X_np_scaled=scaler.fit_transform(X_np)\n",
        "y_np_scaled=scaler.fit_transform(y_np)\n",
        "\n",
        "#for test data\n",
        "X_test_np_scaled=scaler.fit_transform(X_test_np)"
      ]
    },
    {
      "cell_type": "code",
      "execution_count": 162,
      "metadata": {},
      "outputs": [],
      "source": [
        "######################\n",
        "#Splitting data\n",
        "######################"
      ]
    },
    {
      "cell_type": "code",
      "execution_count": 163,
      "metadata": {},
      "outputs": [
        {
          "name": "stdout",
          "output_type": "stream",
          "text": [
            "Data scaled!\n"
          ]
        }
      ],
      "source": [
        "#scale and split data\n",
        "from sklearn.model_selection import train_test_split\n",
        "\n",
        "scale=True\n",
        "\n",
        "if scale==False:\n",
        "     X_train, X_test, y_train, y_test = train_test_split(X, y, test_size=0.25, random_state=42)\n",
        "     print('Data NOT scaled!')\n",
        "\n",
        "elif scale==True:\n",
        "    X_train, X_test, y_train, y_test = train_test_split(X_np_scaled, y_np_scaled, test_size=0.25, random_state=42)\n",
        "    print('Data scaled!')"
      ]
    },
    {
      "cell_type": "code",
      "execution_count": 164,
      "metadata": {},
      "outputs": [],
      "source": [
        "###############\n",
        "#Neural Networks\n",
        "###############"
      ]
    },
    {
      "cell_type": "code",
      "execution_count": 165,
      "metadata": {},
      "outputs": [],
      "source": [
        "#Import libraries\n",
        "from keras.models import Sequential\n",
        "from keras.layers import Dense\n",
        "from keras.layers import Dropout\n",
        "from keras import backend as K"
      ]
    },
    {
      "cell_type": "code",
      "execution_count": 166,
      "metadata": {},
      "outputs": [],
      "source": [
        "#define NN function\n",
        "def make_net(number_features=X.shape[1],# number of columns/features in training data\n",
        "            hidden_layers=2,\n",
        "            hidden_layer_neurons=40,\n",
        "            dropout=0.0\n",
        "            ):\n",
        "\n",
        "    #clear previous TensorFlow:\n",
        "    K.clear_session()\n",
        "\n",
        "    #define model\n",
        "    mod=Sequential()\n",
        "\n",
        "    #add input layer\n",
        "    mod.add(Dense(hidden_layer_neurons, input_dim=number_features, activation='relu')) \n",
        "\n",
        "    #add hidden layers\n",
        "    for i in range(hidden_layers):   \n",
        "        mod.add(Dense(hidden_layer_neurons, activation='relu'))\n",
        "\n",
        "        #add dropout layer\n",
        "        mod.add(Dropout(dropout))\n",
        "\n",
        "    #add final layer\n",
        "    mod.add(Dense(1, activation='sigmoid')) #I have to chose 1, because it is binary classification\n",
        "\n",
        "    # Compile model\n",
        "    mod.compile(loss='binary_crossentropy', optimizer='adam', metrics=['accuracy'])\n",
        "    return mod\n",
        "\n"
      ]
    },
    {
      "cell_type": "code",
      "execution_count": 167,
      "metadata": {},
      "outputs": [],
      "source": [
        "#define ploting function\n",
        "def plot_training(history_dict):\n",
        "    acc_values=history_dict['accuracy']\n",
        "    val_acc_values=history_dict['val_accuracy']\n",
        "    epochs=range(1,len(acc_values)+1)\n",
        "\n",
        "    plt.plot(epochs,acc_values, label='Training accuracy',  c=\"blue\")\n",
        "    plt.plot(epochs,val_acc_values, label='Test accuracy', c=\"red\")\n",
        "    plt.xlabel('Epochs')\n",
        "    plt.ylabel('Accuracy')\n",
        "    plt.legend()\n",
        "\n",
        "    plt.show()"
      ]
    },
    {
      "cell_type": "code",
      "execution_count": 168,
      "metadata": {},
      "outputs": [],
      "source": [
        "#define scoring function\n",
        "def print_accuracy(m):\n",
        "    pred_train= m.predict(X_train)\n",
        "    score_train = m.evaluate(X_train, y_train, verbose=0)\n",
        "    print(f'Accuracy on training data: {round(score_train[1]*100,2)} %')   \n",
        "\n",
        "    #score on test data\n",
        "    pred_test= m.predict(X_test)\n",
        "    score_test = m.evaluate(X_test, y_test, verbose=0)\n",
        "    print(f'Accuracy on test data: {round(score_test[1]*100,2)} %')    \n",
        "\n",
        "    #diference(train-test)\n",
        "    delta=(score_train[1]-score_test[1])\n",
        "    print(f'Diference(train-test): {round(delta*100,2)} %')   \n"
      ]
    },
    {
      "cell_type": "code",
      "execution_count": 169,
      "metadata": {},
      "outputs": [],
      "source": [
        "##############################\n",
        "#Fit and run \n",
        "##############################"
      ]
    },
    {
      "cell_type": "code",
      "execution_count": 170,
      "metadata": {},
      "outputs": [],
      "source": [
        "#define model\n",
        "model=make_net(number_features=X.shape[1],# number of columns/features in training data\n",
        "            hidden_layers=10,\n",
        "            hidden_layer_neurons=200,\n",
        "            dropout=0.0\n",
        "            )"
      ]
    },
    {
      "cell_type": "code",
      "execution_count": 171,
      "metadata": {},
      "outputs": [
        {
          "name": "stdout",
          "output_type": "stream",
          "text": [
            "Epoch 1/100\n"
          ]
        },
        {
          "name": "stdout",
          "output_type": "stream",
          "text": [
            "11/11 [==============================] - 2s 24ms/step - loss: 0.6282 - accuracy: 0.5868 - val_loss: 0.5368 - val_accuracy: 0.6009\n",
            "Epoch 2/100\n",
            "11/11 [==============================] - 0s 7ms/step - loss: 0.5316 - accuracy: 0.7455 - val_loss: 0.5322 - val_accuracy: 0.7534\n",
            "Epoch 3/100\n",
            "11/11 [==============================] - 0s 7ms/step - loss: 0.5005 - accuracy: 0.8069 - val_loss: 0.4880 - val_accuracy: 0.7534\n",
            "Epoch 4/100\n",
            "11/11 [==============================] - 0s 8ms/step - loss: 0.4516 - accuracy: 0.8099 - val_loss: 0.4973 - val_accuracy: 0.7623\n",
            "Epoch 5/100\n",
            "11/11 [==============================] - 0s 8ms/step - loss: 0.4174 - accuracy: 0.8263 - val_loss: 0.4747 - val_accuracy: 0.7623\n",
            "Epoch 6/100\n",
            "11/11 [==============================] - 0s 7ms/step - loss: 0.4077 - accuracy: 0.8278 - val_loss: 0.4446 - val_accuracy: 0.8072\n",
            "Epoch 7/100\n",
            "11/11 [==============================] - 0s 7ms/step - loss: 0.3810 - accuracy: 0.8413 - val_loss: 0.4789 - val_accuracy: 0.7892\n",
            "Epoch 8/100\n",
            "11/11 [==============================] - 0s 9ms/step - loss: 0.3884 - accuracy: 0.8398 - val_loss: 0.4604 - val_accuracy: 0.8117\n",
            "Epoch 9/100\n",
            "11/11 [==============================] - 0s 9ms/step - loss: 0.3730 - accuracy: 0.8413 - val_loss: 0.4657 - val_accuracy: 0.8027\n",
            "Epoch 10/100\n",
            "11/11 [==============================] - 0s 7ms/step - loss: 0.3664 - accuracy: 0.8563 - val_loss: 0.5038 - val_accuracy: 0.7803\n",
            "Epoch 11/100\n",
            "11/11 [==============================] - 0s 7ms/step - loss: 0.3544 - accuracy: 0.8518 - val_loss: 0.5618 - val_accuracy: 0.7892\n",
            "Epoch 12/100\n",
            "11/11 [==============================] - 0s 8ms/step - loss: 0.3601 - accuracy: 0.8578 - val_loss: 0.5277 - val_accuracy: 0.8072\n",
            "Epoch 13/100\n",
            "11/11 [==============================] - 0s 8ms/step - loss: 0.3596 - accuracy: 0.8443 - val_loss: 0.5614 - val_accuracy: 0.8072\n",
            "Epoch 14/100\n",
            "11/11 [==============================] - 0s 7ms/step - loss: 0.3508 - accuracy: 0.8428 - val_loss: 0.6176 - val_accuracy: 0.7937\n",
            "Epoch 15/100\n",
            "11/11 [==============================] - 0s 7ms/step - loss: 0.3464 - accuracy: 0.8503 - val_loss: 0.5333 - val_accuracy: 0.8072\n",
            "Epoch 16/100\n",
            "11/11 [==============================] - 0s 7ms/step - loss: 0.3412 - accuracy: 0.8533 - val_loss: 0.5099 - val_accuracy: 0.7758\n",
            "Epoch 17/100\n",
            "11/11 [==============================] - 0s 8ms/step - loss: 0.3336 - accuracy: 0.8683 - val_loss: 0.6397 - val_accuracy: 0.7803\n",
            "Epoch 18/100\n",
            "11/11 [==============================] - 0s 8ms/step - loss: 0.3389 - accuracy: 0.8593 - val_loss: 0.5038 - val_accuracy: 0.7982\n",
            "Epoch 19/100\n",
            "11/11 [==============================] - 0s 7ms/step - loss: 0.3306 - accuracy: 0.8548 - val_loss: 0.6213 - val_accuracy: 0.8117\n",
            "Epoch 20/100\n",
            "11/11 [==============================] - 0s 7ms/step - loss: 0.3221 - accuracy: 0.8638 - val_loss: 0.5290 - val_accuracy: 0.8027\n",
            "Epoch 21/100\n",
            "11/11 [==============================] - 0s 6ms/step - loss: 0.3248 - accuracy: 0.8608 - val_loss: 0.5681 - val_accuracy: 0.8027\n",
            "Epoch 22/100\n",
            "11/11 [==============================] - 0s 8ms/step - loss: 0.3153 - accuracy: 0.8638 - val_loss: 0.6749 - val_accuracy: 0.8027\n",
            "Epoch 23/100\n",
            "11/11 [==============================] - 0s 8ms/step - loss: 0.3117 - accuracy: 0.8638 - val_loss: 0.6731 - val_accuracy: 0.7937\n",
            "Epoch 24/100\n",
            "11/11 [==============================] - 0s 7ms/step - loss: 0.3177 - accuracy: 0.8563 - val_loss: 0.7950 - val_accuracy: 0.7803\n",
            "Epoch 25/100\n",
            "11/11 [==============================] - 0s 7ms/step - loss: 0.3376 - accuracy: 0.8608 - val_loss: 0.5239 - val_accuracy: 0.7982\n",
            "Epoch 26/100\n",
            "11/11 [==============================] - 0s 7ms/step - loss: 0.3193 - accuracy: 0.8638 - val_loss: 0.8696 - val_accuracy: 0.7803\n"
          ]
        }
      ],
      "source": [
        "#stop iterations at the best=before it starts overfitting\n",
        "from keras import callbacks \n",
        "\n",
        "early_stopping=callbacks.EarlyStopping(patience=20)\n",
        "\n",
        "#fit model\n",
        "#store data from computing in history\n",
        "hist=model.fit(X_train, y_train, \n",
        "                validation_data=(X_test, y_test),\n",
        "                epochs=100, \n",
        "                batch_size = 64,\n",
        "                callbacks=[early_stopping]\n",
        "                )"
      ]
    },
    {
      "cell_type": "code",
      "execution_count": 172,
      "metadata": {},
      "outputs": [
        {
          "name": "stdout",
          "output_type": "stream",
          "text": [
            "21/21 [==============================] - 0s 2ms/step\n",
            "Accuracy on training data: 86.68 %\n",
            "7/7 [==============================] - 0s 2ms/step\n",
            "Accuracy on test data: 78.03 %\n",
            "Diference(train-test): 8.65 %\n"
          ]
        }
      ],
      "source": [
        "print_accuracy(model)"
      ]
    },
    {
      "cell_type": "code",
      "execution_count": 173,
      "metadata": {},
      "outputs": [
        {
          "data": {
            "image/png": "[encoded data removed]",
            "text/plain": [
              "<Figure size 640x480 with 1 Axes>"
            ]
          },
          "metadata": {},
          "output_type": "display_data"
        }
      ],
      "source": [
        "plot_training(hist.history)"
      ]
    },
    {
      "cell_type": "code",
      "execution_count": 174,
      "metadata": {},
      "outputs": [],
      "source": [
        "############\n",
        "#OPTUNA-I-CREATE FUNCTION WITH MODEL\n",
        "############\n",
        "\n",
        "#https://www.youtube.com/watch?v=JYqdKT4lQjo\n",
        "#https://www.avisi.nl/blog/deep-learning-neural-networks-optimaliseren-met-optuna"
      ]
    },
    {
      "cell_type": "code",
      "execution_count": 175,
      "metadata": {},
      "outputs": [],
      "source": [
        "#import libraries\n",
        "import optuna\n",
        "from keras.callbacks import EarlyStopping, ReduceLROnPlateau\n",
        "from optuna.integration import TFKerasPruningCallback\n",
        "from optuna.pruners import HyperbandPruner\n",
        "\n",
        "#Creating the function which will be optimized by Optuna\n",
        "def create_model(trial):\n",
        "    \n",
        "    number_features=X.shape[1]\n",
        "\n",
        "    #define the ranges\n",
        "    hidden_layers = trial.suggest_int('hidden_layers',1, 6, 1) #range only first 2 numbers, third one is a step\n",
        "    hidden_layer_neurons = trial.suggest_int('hidden_layer_neurons',20, 60, 10) #range only first 2 numbers, third one is a step\n",
        "    dropout = trial.suggest_int('dropout',0 , 0) #range\n",
        "\n",
        "    #clear previous TensorFlow\n",
        "    K.clear_session()\n",
        "    \n",
        "    #define model\n",
        "    mod=Sequential()\n",
        "\n",
        "    #add input layer\n",
        "    mod.add(Dense(hidden_layer_neurons, input_dim=number_features, activation='relu')) \n",
        "\n",
        "    #add hidden layers\n",
        "    for i in range(hidden_layers):   \n",
        "        mod.add(Dense(hidden_layer_neurons, activation='relu'))\n",
        "\n",
        "        #add dropout layer\n",
        "        mod.add(Dropout(dropout))\n",
        "\n",
        "    #add final layer\n",
        "    mod.add(Dense(1, activation='sigmoid')) #I have to chose 1, because it is binary classification\n",
        "\n",
        "    #Compile model\n",
        "    mod.compile(loss='binary_crossentropy', optimizer='adam', metrics=['accuracy'])\n",
        "    \n",
        "    return mod"
      ]
    },
    {
      "cell_type": "code",
      "execution_count": 176,
      "metadata": {},
      "outputs": [],
      "source": [
        "############\n",
        "#OPTUNA-II-FIT AND PRUNE\n",
        "############"
      ]
    },
    {
      "cell_type": "code",
      "execution_count": 177,
      "metadata": {},
      "outputs": [],
      "source": [
        "def objective(trial):\n",
        "    K.clear_session()\n",
        "    model = create_model(trial)\n",
        "\n",
        "    #reduce learning rate if metric stopped improving: https://keras.io/api/callbacks/reduce_lr_on_plateau/\n",
        "    reduce_lr_callback = ReduceLROnPlateau(\n",
        "                                            monitor=\"val_accuracy\", \n",
        "                                            factor=0.2, #lr * factor=new_lr\n",
        "                                            patience=5, #patience number of epochs, after no umprovement LR is reduced\n",
        "                                            min_lr=0.001 \n",
        "                                            )\n",
        "    callbacks = [\n",
        "                TFKerasPruningCallback(trial, \"val_accuracy\"),\n",
        "                reduce_lr_callback,\n",
        "                EarlyStopping(patience=10)\n",
        "                ]\n",
        "     \n",
        "    hist_opt = model.fit(\n",
        "                    X_train,\n",
        "                    y_train, \n",
        "                    epochs=100,\n",
        "                    batch_size=64,\n",
        "                    validation_data=(X_test, y_test),\n",
        "                    callbacks= callbacks #call the whole list 'callbacks'\n",
        "                    )\n",
        "     \n",
        "    return hist_opt.history[\"val_accuracy\"][-1]"
      ]
    },
    {
      "cell_type": "code",
      "execution_count": 178,
      "metadata": {},
      "outputs": [],
      "source": [
        "############\n",
        "#OPTUNA-III-RUN\n",
        "############"
      ]
    },
    {
      "cell_type": "code",
      "execution_count": 179,
      "metadata": {},
      "outputs": [
        {
          "name": "stdout",
          "output_type": "stream",
          "text": [
            "Epoch 1/100\n",
            "11/11 [==============================] - 1s 15ms/step - loss: 0.6813 - accuracy: 0.6138 - val_loss: 0.6658 - val_accuracy: 0.6323 - lr: 0.0010\n",
            "Epoch 2/100\n",
            "11/11 [==============================] - 0s 4ms/step - loss: 0.6485 - accuracy: 0.6422 - val_loss: 0.6332 - val_accuracy: 0.6457 - lr: 0.0010\n",
            "Epoch 3/100\n",
            "11/11 [==============================] - 0s 6ms/step - loss: 0.6108 - accuracy: 0.6632 - val_loss: 0.5911 - val_accuracy: 0.7040 - lr: 0.0010\n",
            "Epoch 4/100\n",
            "11/11 [==============================] - 0s 5ms/step - loss: 0.5657 - accuracy: 0.7305 - val_loss: 0.5442 - val_accuracy: 0.7623 - lr: 0.0010\n",
            "Epoch 5/100\n",
            "11/11 [==============================] - 0s 6ms/step - loss: 0.5258 - accuracy: 0.7650 - val_loss: 0.5079 - val_accuracy: 0.7803 - lr: 0.0010\n",
            "Epoch 6/100\n",
            "11/11 [==============================] - 0s 5ms/step - loss: 0.4953 - accuracy: 0.7829 - val_loss: 0.4841 - val_accuracy: 0.7758 - lr: 0.0010\n",
            "Epoch 7/100\n",
            "11/11 [==============================] - 0s 5ms/step - loss: 0.4795 - accuracy: 0.7874 - val_loss: 0.4725 - val_accuracy: 0.7623 - lr: 0.0010\n",
            "Epoch 8/100\n",
            "11/11 [==============================] - 0s 4ms/step - loss: 0.4663 - accuracy: 0.7919 - val_loss: 0.4633 - val_accuracy: 0.7668 - lr: 0.0010\n",
            "Epoch 9/100\n",
            "11/11 [==============================] - 0s 5ms/step - loss: 0.4575 - accuracy: 0.7949 - val_loss: 0.4595 - val_accuracy: 0.7713 - lr: 0.0010\n",
            "Epoch 10/100\n",
            "11/11 [==============================] - 0s 5ms/step - loss: 0.4481 - accuracy: 0.8009 - val_loss: 0.4551 - val_accuracy: 0.7758 - lr: 0.0010\n",
            "Epoch 11/100\n",
            "11/11 [==============================] - 0s 5ms/step - loss: 0.4402 - accuracy: 0.8054 - val_loss: 0.4534 - val_accuracy: 0.7713 - lr: 0.0010\n",
            "Epoch 12/100\n",
            "11/11 [==============================] - 0s 6ms/step - loss: 0.4339 - accuracy: 0.8129 - val_loss: 0.4504 - val_accuracy: 0.8117 - lr: 0.0010\n",
            "Epoch 13/100\n",
            "11/11 [==============================] - 0s 4ms/step - loss: 0.4292 - accuracy: 0.8219 - val_loss: 0.4526 - val_accuracy: 0.7758 - lr: 0.0010\n",
            "Epoch 14/100\n",
            "11/11 [==============================] - 0s 4ms/step - loss: 0.4240 - accuracy: 0.8249 - val_loss: 0.4499 - val_accuracy: 0.7848 - lr: 0.0010\n",
            "Epoch 15/100\n",
            "11/11 [==============================] - 0s 4ms/step - loss: 0.4195 - accuracy: 0.8234 - val_loss: 0.4472 - val_accuracy: 0.7892 - lr: 0.0010\n",
            "Epoch 16/100\n",
            "11/11 [==============================] - 0s 4ms/step - loss: 0.4145 - accuracy: 0.8249 - val_loss: 0.4489 - val_accuracy: 0.7892 - lr: 0.0010\n",
            "Epoch 17/100\n",
            "11/11 [==============================] - 0s 5ms/step - loss: 0.4151 - accuracy: 0.8234 - val_loss: 0.4442 - val_accuracy: 0.7937 - lr: 0.0010\n",
            "Epoch 18/100\n",
            "11/11 [==============================] - 0s 5ms/step - loss: 0.4166 - accuracy: 0.8234 - val_loss: 0.4437 - val_accuracy: 0.7892 - lr: 0.0010\n",
            "Epoch 19/100\n",
            "11/11 [==============================] - 0s 5ms/step - loss: 0.4106 - accuracy: 0.8383 - val_loss: 0.4476 - val_accuracy: 0.7758 - lr: 0.0010\n",
            "Epoch 20/100\n",
            "11/11 [==============================] - 0s 5ms/step - loss: 0.4013 - accuracy: 0.8368 - val_loss: 0.4474 - val_accuracy: 0.7848 - lr: 0.0010\n",
            "Epoch 21/100\n",
            "11/11 [==============================] - 0s 4ms/step - loss: 0.3997 - accuracy: 0.8368 - val_loss: 0.4535 - val_accuracy: 0.7713 - lr: 0.0010\n",
            "Epoch 22/100\n",
            "11/11 [==============================] - 0s 4ms/step - loss: 0.3963 - accuracy: 0.8338 - val_loss: 0.4467 - val_accuracy: 0.7758 - lr: 0.0010\n",
            "Epoch 23/100\n",
            "11/11 [==============================] - 0s 5ms/step - loss: 0.3920 - accuracy: 0.8383 - val_loss: 0.4437 - val_accuracy: 0.7848 - lr: 0.0010\n",
            "Epoch 24/100\n",
            "11/11 [==============================] - 0s 5ms/step - loss: 0.3889 - accuracy: 0.8413 - val_loss: 0.4497 - val_accuracy: 0.7803 - lr: 0.0010\n",
            "Epoch 25/100\n",
            "11/11 [==============================] - 0s 5ms/step - loss: 0.3884 - accuracy: 0.8458 - val_loss: 0.4496 - val_accuracy: 0.7803 - lr: 0.0010\n",
            "Epoch 26/100\n",
            "11/11 [==============================] - 0s 5ms/step - loss: 0.3855 - accuracy: 0.8428 - val_loss: 0.4513 - val_accuracy: 0.7803 - lr: 0.0010\n",
            "Epoch 27/100\n",
            "11/11 [==============================] - 0s 4ms/step - loss: 0.3887 - accuracy: 0.8398 - val_loss: 0.4514 - val_accuracy: 0.7803 - lr: 0.0010\n",
            "Epoch 28/100\n",
            "11/11 [==============================] - 0s 4ms/step - loss: 0.3846 - accuracy: 0.8428 - val_loss: 0.4507 - val_accuracy: 0.7848 - lr: 0.0010\n",
            "Epoch 29/100\n",
            "11/11 [==============================] - 0s 4ms/step - loss: 0.3822 - accuracy: 0.8533 - val_loss: 0.4489 - val_accuracy: 0.7803 - lr: 0.0010\n",
            "Epoch 30/100\n",
            "11/11 [==============================] - 0s 4ms/step - loss: 0.3769 - accuracy: 0.8488 - val_loss: 0.4579 - val_accuracy: 0.7758 - lr: 0.0010\n",
            "Epoch 31/100\n",
            "11/11 [==============================] - 0s 5ms/step - loss: 0.3762 - accuracy: 0.8428 - val_loss: 0.4494 - val_accuracy: 0.7758 - lr: 0.0010\n",
            "Epoch 32/100\n",
            "11/11 [==============================] - 0s 6ms/step - loss: 0.3745 - accuracy: 0.8503 - val_loss: 0.4577 - val_accuracy: 0.7713 - lr: 0.0010\n",
            "Epoch 33/100\n",
            "11/11 [==============================] - 0s 5ms/step - loss: 0.3735 - accuracy: 0.8458 - val_loss: 0.4565 - val_accuracy: 0.7803 - lr: 0.0010\n",
            "Epoch 1/100\n",
            "11/11 [==============================] - 1s 15ms/step - loss: 0.6594 - accuracy: 0.6228 - val_loss: 0.6496 - val_accuracy: 0.6009 - lr: 0.0010\n",
            "Epoch 2/100\n",
            "11/11 [==============================] - 0s 5ms/step - loss: 0.6191 - accuracy: 0.6347 - val_loss: 0.6089 - val_accuracy: 0.6547 - lr: 0.0010\n",
            "Epoch 3/100\n",
            "11/11 [==============================] - 0s 5ms/step - loss: 0.5842 - accuracy: 0.6587 - val_loss: 0.5725 - val_accuracy: 0.6996 - lr: 0.0010\n",
            "Epoch 4/100\n",
            "11/11 [==============================] - 0s 4ms/step - loss: 0.5537 - accuracy: 0.7425 - val_loss: 0.5402 - val_accuracy: 0.7534 - lr: 0.0010\n",
            "Epoch 5/100\n",
            "11/11 [==============================] - 0s 4ms/step - loss: 0.5283 - accuracy: 0.7784 - val_loss: 0.5152 - val_accuracy: 0.7758 - lr: 0.0010\n",
            "Epoch 6/100\n",
            "11/11 [==============================] - 0s 4ms/step - loss: 0.5086 - accuracy: 0.7874 - val_loss: 0.4969 - val_accuracy: 0.7937 - lr: 0.0010\n",
            "Epoch 7/100\n",
            "11/11 [==============================] - 0s 4ms/step - loss: 0.4919 - accuracy: 0.7934 - val_loss: 0.4837 - val_accuracy: 0.7982 - lr: 0.0010\n",
            "Epoch 8/100\n",
            "11/11 [==============================] - 0s 5ms/step - loss: 0.4800 - accuracy: 0.7919 - val_loss: 0.4746 - val_accuracy: 0.7848 - lr: 0.0010\n",
            "Epoch 9/100\n",
            "11/11 [==============================] - 0s 5ms/step - loss: 0.4725 - accuracy: 0.7934 - val_loss: 0.4680 - val_accuracy: 0.7848 - lr: 0.0010\n",
            "Epoch 10/100\n",
            "11/11 [==============================] - 0s 5ms/step - loss: 0.4646 - accuracy: 0.7934 - val_loss: 0.4624 - val_accuracy: 0.7848 - lr: 0.0010\n",
            "Epoch 11/100\n",
            "11/11 [==============================] - 0s 4ms/step - loss: 0.4598 - accuracy: 0.7919 - val_loss: 0.4590 - val_accuracy: 0.7803 - lr: 0.0010\n",
            "Epoch 12/100\n",
            "11/11 [==============================] - 0s 4ms/step - loss: 0.4520 - accuracy: 0.7949 - val_loss: 0.4560 - val_accuracy: 0.7848 - lr: 0.0010\n",
            "Epoch 13/100\n",
            "11/11 [==============================] - 0s 4ms/step - loss: 0.4488 - accuracy: 0.8009 - val_loss: 0.4536 - val_accuracy: 0.7848 - lr: 0.0010\n",
            "Epoch 14/100\n",
            "11/11 [==============================] - 0s 4ms/step - loss: 0.4431 - accuracy: 0.8024 - val_loss: 0.4494 - val_accuracy: 0.7982 - lr: 0.0010\n",
            "Epoch 15/100\n",
            "11/11 [==============================] - 0s 4ms/step - loss: 0.4392 - accuracy: 0.8054 - val_loss: 0.4468 - val_accuracy: 0.7982 - lr: 0.0010\n",
            "Epoch 16/100\n",
            "11/11 [==============================] - 0s 6ms/step - loss: 0.4349 - accuracy: 0.8054 - val_loss: 0.4451 - val_accuracy: 0.7982 - lr: 0.0010\n",
            "Epoch 17/100\n",
            "11/11 [==============================] - 0s 5ms/step - loss: 0.4320 - accuracy: 0.8099 - val_loss: 0.4431 - val_accuracy: 0.7937 - lr: 0.0010\n",
            "Epoch 18/100\n",
            "11/11 [==============================] - 0s 5ms/step - loss: 0.4286 - accuracy: 0.8099 - val_loss: 0.4405 - val_accuracy: 0.7982 - lr: 0.0010\n",
            "Epoch 19/100\n",
            "11/11 [==============================] - 0s 5ms/step - loss: 0.4257 - accuracy: 0.8114 - val_loss: 0.4376 - val_accuracy: 0.8072 - lr: 0.0010\n",
            "Epoch 20/100\n",
            "11/11 [==============================] - 0s 4ms/step - loss: 0.4228 - accuracy: 0.8129 - val_loss: 0.4366 - val_accuracy: 0.8072 - lr: 0.0010\n",
            "Epoch 21/100\n",
            "11/11 [==============================] - 0s 4ms/step - loss: 0.4204 - accuracy: 0.8144 - val_loss: 0.4356 - val_accuracy: 0.7892 - lr: 0.0010\n",
            "Epoch 22/100\n",
            "11/11 [==============================] - 0s 5ms/step - loss: 0.4170 - accuracy: 0.8204 - val_loss: 0.4323 - val_accuracy: 0.8072 - lr: 0.0010\n",
            "Epoch 23/100\n",
            "11/11 [==============================] - 0s 5ms/step - loss: 0.4154 - accuracy: 0.8174 - val_loss: 0.4324 - val_accuracy: 0.7937 - lr: 0.0010\n",
            "Epoch 24/100\n",
            "11/11 [==============================] - 0s 5ms/step - loss: 0.4122 - accuracy: 0.8174 - val_loss: 0.4309 - val_accuracy: 0.8072 - lr: 0.0010\n",
            "Epoch 25/100\n",
            "11/11 [==============================] - 0s 5ms/step - loss: 0.4100 - accuracy: 0.8219 - val_loss: 0.4303 - val_accuracy: 0.8027 - lr: 0.0010\n",
            "Epoch 26/100\n",
            "11/11 [==============================] - 0s 4ms/step - loss: 0.4079 - accuracy: 0.8219 - val_loss: 0.4310 - val_accuracy: 0.7937 - lr: 0.0010\n",
            "Epoch 27/100\n",
            "11/11 [==============================] - 0s 4ms/step - loss: 0.4060 - accuracy: 0.8234 - val_loss: 0.4294 - val_accuracy: 0.8027 - lr: 0.0010\n",
            "Epoch 28/100\n",
            "11/11 [==============================] - 0s 4ms/step - loss: 0.4046 - accuracy: 0.8249 - val_loss: 0.4280 - val_accuracy: 0.8072 - lr: 0.0010\n",
            "Epoch 29/100\n",
            "11/11 [==============================] - 0s 4ms/step - loss: 0.4040 - accuracy: 0.8323 - val_loss: 0.4279 - val_accuracy: 0.8161 - lr: 0.0010\n",
            "Epoch 30/100\n",
            "11/11 [==============================] - 0s 6ms/step - loss: 0.4008 - accuracy: 0.8234 - val_loss: 0.4294 - val_accuracy: 0.7848 - lr: 0.0010\n",
            "Epoch 31/100\n",
            "11/11 [==============================] - 0s 5ms/step - loss: 0.3998 - accuracy: 0.8249 - val_loss: 0.4257 - val_accuracy: 0.8161 - lr: 0.0010\n",
            "Epoch 32/100\n",
            "11/11 [==============================] - 0s 4ms/step - loss: 0.3980 - accuracy: 0.8323 - val_loss: 0.4254 - val_accuracy: 0.8117 - lr: 0.0010\n",
            "Epoch 33/100\n",
            "11/11 [==============================] - 0s 5ms/step - loss: 0.3977 - accuracy: 0.8293 - val_loss: 0.4256 - val_accuracy: 0.7982 - lr: 0.0010\n",
            "Epoch 34/100\n",
            "11/11 [==============================] - 0s 4ms/step - loss: 0.3949 - accuracy: 0.8293 - val_loss: 0.4244 - val_accuracy: 0.8027 - lr: 0.0010\n",
            "Epoch 35/100\n",
            "11/11 [==============================] - 0s 4ms/step - loss: 0.3931 - accuracy: 0.8413 - val_loss: 0.4237 - val_accuracy: 0.8027 - lr: 0.0010\n",
            "Epoch 36/100\n",
            "11/11 [==============================] - 0s 4ms/step - loss: 0.3928 - accuracy: 0.8398 - val_loss: 0.4260 - val_accuracy: 0.7982 - lr: 0.0010\n",
            "Epoch 37/100\n",
            "11/11 [==============================] - 0s 4ms/step - loss: 0.3923 - accuracy: 0.8383 - val_loss: 0.4274 - val_accuracy: 0.7937 - lr: 0.0010\n",
            "Epoch 38/100\n",
            "11/11 [==============================] - 0s 6ms/step - loss: 0.3917 - accuracy: 0.8398 - val_loss: 0.4249 - val_accuracy: 0.8161 - lr: 0.0010\n",
            "Epoch 39/100\n",
            "11/11 [==============================] - 0s 4ms/step - loss: 0.3879 - accuracy: 0.8413 - val_loss: 0.4284 - val_accuracy: 0.7982 - lr: 0.0010\n",
            "Epoch 40/100\n",
            "11/11 [==============================] - 0s 5ms/step - loss: 0.3874 - accuracy: 0.8398 - val_loss: 0.4259 - val_accuracy: 0.7937 - lr: 0.0010\n",
            "Epoch 41/100\n",
            "11/11 [==============================] - 0s 4ms/step - loss: 0.3868 - accuracy: 0.8413 - val_loss: 0.4238 - val_accuracy: 0.8161 - lr: 0.0010\n",
            "Epoch 42/100\n",
            "11/11 [==============================] - 0s 4ms/step - loss: 0.3847 - accuracy: 0.8443 - val_loss: 0.4245 - val_accuracy: 0.8161 - lr: 0.0010\n",
            "Epoch 43/100\n",
            "11/11 [==============================] - 0s 4ms/step - loss: 0.3837 - accuracy: 0.8428 - val_loss: 0.4262 - val_accuracy: 0.7982 - lr: 0.0010\n",
            "Epoch 44/100\n",
            "11/11 [==============================] - 0s 4ms/step - loss: 0.3821 - accuracy: 0.8443 - val_loss: 0.4259 - val_accuracy: 0.7982 - lr: 0.0010\n",
            "Epoch 45/100\n",
            "11/11 [==============================] - 0s 5ms/step - loss: 0.3815 - accuracy: 0.8428 - val_loss: 0.4253 - val_accuracy: 0.8072 - lr: 0.0010\n",
            "Epoch 1/100\n",
            "11/11 [==============================] - 1s 16ms/step - loss: 0.6918 - accuracy: 0.5374 - val_loss: 0.6795 - val_accuracy: 0.7399 - lr: 0.0010\n",
            "Epoch 2/100\n",
            "11/11 [==============================] - 0s 5ms/step - loss: 0.6741 - accuracy: 0.7171 - val_loss: 0.6661 - val_accuracy: 0.7265 - lr: 0.0010\n",
            "Epoch 3/100\n",
            "11/11 [==============================] - 0s 6ms/step - loss: 0.6563 - accuracy: 0.7380 - val_loss: 0.6428 - val_accuracy: 0.7489 - lr: 0.0010\n",
            "Epoch 4/100\n",
            "11/11 [==============================] - 0s 5ms/step - loss: 0.6280 - accuracy: 0.7590 - val_loss: 0.6068 - val_accuracy: 0.7803 - lr: 0.0010\n",
            "Epoch 5/100\n",
            "11/11 [==============================] - 0s 5ms/step - loss: 0.5847 - accuracy: 0.7799 - val_loss: 0.5583 - val_accuracy: 0.7848 - lr: 0.0010\n",
            "Epoch 6/100\n",
            "11/11 [==============================] - 0s 5ms/step - loss: 0.5340 - accuracy: 0.7934 - val_loss: 0.5138 - val_accuracy: 0.7803 - lr: 0.0010\n",
            "Epoch 7/100\n",
            "11/11 [==============================] - 0s 5ms/step - loss: 0.4950 - accuracy: 0.7979 - val_loss: 0.4862 - val_accuracy: 0.7848 - lr: 0.0010\n",
            "Epoch 8/100\n",
            "11/11 [==============================] - 0s 5ms/step - loss: 0.4749 - accuracy: 0.7949 - val_loss: 0.4777 - val_accuracy: 0.7758 - lr: 0.0010\n",
            "Epoch 9/100\n",
            "11/11 [==============================] - 0s 5ms/step - loss: 0.4636 - accuracy: 0.7979 - val_loss: 0.4718 - val_accuracy: 0.7758 - lr: 0.0010\n",
            "Epoch 10/100\n",
            "11/11 [==============================] - 0s 6ms/step - loss: 0.4604 - accuracy: 0.8039 - val_loss: 0.4687 - val_accuracy: 0.7713 - lr: 0.0010\n",
            "Epoch 11/100\n",
            "11/11 [==============================] - 0s 6ms/step - loss: 0.4521 - accuracy: 0.7964 - val_loss: 0.4691 - val_accuracy: 0.7803 - lr: 0.0010\n",
            "Epoch 12/100\n",
            "11/11 [==============================] - 0s 6ms/step - loss: 0.4447 - accuracy: 0.8024 - val_loss: 0.4642 - val_accuracy: 0.7937 - lr: 0.0010\n",
            "Epoch 13/100\n",
            "11/11 [==============================] - 0s 5ms/step - loss: 0.4402 - accuracy: 0.8084 - val_loss: 0.4667 - val_accuracy: 0.7937 - lr: 0.0010\n",
            "Epoch 14/100\n",
            "11/11 [==============================] - 0s 5ms/step - loss: 0.4392 - accuracy: 0.7964 - val_loss: 0.4616 - val_accuracy: 0.7937 - lr: 0.0010\n",
            "Epoch 15/100\n",
            "11/11 [==============================] - 0s 5ms/step - loss: 0.4341 - accuracy: 0.8144 - val_loss: 0.4620 - val_accuracy: 0.7803 - lr: 0.0010\n",
            "Epoch 16/100\n",
            "11/11 [==============================] - 0s 6ms/step - loss: 0.4330 - accuracy: 0.8084 - val_loss: 0.4585 - val_accuracy: 0.7892 - lr: 0.0010\n",
            "Epoch 17/100\n",
            "11/11 [==============================] - 0s 6ms/step - loss: 0.4311 - accuracy: 0.8219 - val_loss: 0.4581 - val_accuracy: 0.7892 - lr: 0.0010\n",
            "Epoch 18/100\n",
            "11/11 [==============================] - 0s 6ms/step - loss: 0.4256 - accuracy: 0.8204 - val_loss: 0.4599 - val_accuracy: 0.7892 - lr: 0.0010\n",
            "Epoch 19/100\n",
            "11/11 [==============================] - 0s 5ms/step - loss: 0.4242 - accuracy: 0.8084 - val_loss: 0.4592 - val_accuracy: 0.7937 - lr: 0.0010\n",
            "Epoch 20/100\n",
            "11/11 [==============================] - 0s 5ms/step - loss: 0.4225 - accuracy: 0.8204 - val_loss: 0.4550 - val_accuracy: 0.7937 - lr: 0.0010\n",
            "Epoch 21/100\n",
            "11/11 [==============================] - 0s 5ms/step - loss: 0.4197 - accuracy: 0.8204 - val_loss: 0.4634 - val_accuracy: 0.7937 - lr: 0.0010\n",
            "Epoch 22/100\n",
            "11/11 [==============================] - 0s 4ms/step - loss: 0.4215 - accuracy: 0.8144 - val_loss: 0.4587 - val_accuracy: 0.7982 - lr: 0.0010\n",
            "Epoch 23/100\n",
            "11/11 [==============================] - 0s 5ms/step - loss: 0.4165 - accuracy: 0.8204 - val_loss: 0.4556 - val_accuracy: 0.8027 - lr: 0.0010\n",
            "Epoch 24/100\n",
            "11/11 [==============================] - 0s 6ms/step - loss: 0.4146 - accuracy: 0.8174 - val_loss: 0.4614 - val_accuracy: 0.7848 - lr: 0.0010\n",
            "Epoch 25/100\n",
            "11/11 [==============================] - 0s 5ms/step - loss: 0.4140 - accuracy: 0.8234 - val_loss: 0.4521 - val_accuracy: 0.7937 - lr: 0.0010\n",
            "Epoch 26/100\n",
            "11/11 [==============================] - 0s 6ms/step - loss: 0.4124 - accuracy: 0.8249 - val_loss: 0.4593 - val_accuracy: 0.7937 - lr: 0.0010\n",
            "Epoch 27/100\n",
            "11/11 [==============================] - 0s 5ms/step - loss: 0.4080 - accuracy: 0.8308 - val_loss: 0.4516 - val_accuracy: 0.7982 - lr: 0.0010\n",
            "Epoch 28/100\n",
            "11/11 [==============================] - 0s 5ms/step - loss: 0.4066 - accuracy: 0.8308 - val_loss: 0.4581 - val_accuracy: 0.7803 - lr: 0.0010\n",
            "Epoch 29/100\n",
            "11/11 [==============================] - 0s 5ms/step - loss: 0.4064 - accuracy: 0.8323 - val_loss: 0.4558 - val_accuracy: 0.7848 - lr: 0.0010\n",
            "Epoch 30/100\n",
            "11/11 [==============================] - 0s 5ms/step - loss: 0.4047 - accuracy: 0.8338 - val_loss: 0.4562 - val_accuracy: 0.7848 - lr: 0.0010\n",
            "Epoch 31/100\n",
            "11/11 [==============================] - 0s 6ms/step - loss: 0.4022 - accuracy: 0.8278 - val_loss: 0.4547 - val_accuracy: 0.7937 - lr: 0.0010\n",
            "Epoch 32/100\n",
            "11/11 [==============================] - 0s 6ms/step - loss: 0.3998 - accuracy: 0.8263 - val_loss: 0.4504 - val_accuracy: 0.7982 - lr: 0.0010\n",
            "Epoch 33/100\n",
            "11/11 [==============================] - 0s 5ms/step - loss: 0.3987 - accuracy: 0.8308 - val_loss: 0.4610 - val_accuracy: 0.7848 - lr: 0.0010\n",
            "Epoch 34/100\n",
            "11/11 [==============================] - 0s 6ms/step - loss: 0.3947 - accuracy: 0.8338 - val_loss: 0.4483 - val_accuracy: 0.7937 - lr: 0.0010\n",
            "Epoch 35/100\n",
            "11/11 [==============================] - 0s 7ms/step - loss: 0.3962 - accuracy: 0.8278 - val_loss: 0.4542 - val_accuracy: 0.7892 - lr: 0.0010\n",
            "Epoch 36/100\n",
            "11/11 [==============================] - 0s 6ms/step - loss: 0.3932 - accuracy: 0.8278 - val_loss: 0.4514 - val_accuracy: 0.7937 - lr: 0.0010\n",
            "Epoch 37/100\n",
            "11/11 [==============================] - 0s 7ms/step - loss: 0.3908 - accuracy: 0.8368 - val_loss: 0.4547 - val_accuracy: 0.7803 - lr: 0.0010\n",
            "Epoch 38/100\n",
            "11/11 [==============================] - 0s 6ms/step - loss: 0.3915 - accuracy: 0.8234 - val_loss: 0.4495 - val_accuracy: 0.7713 - lr: 0.0010\n",
            "Epoch 39/100\n",
            "11/11 [==============================] - 0s 6ms/step - loss: 0.3890 - accuracy: 0.8353 - val_loss: 0.4490 - val_accuracy: 0.7892 - lr: 0.0010\n",
            "Epoch 40/100\n",
            "11/11 [==============================] - 0s 5ms/step - loss: 0.3875 - accuracy: 0.8368 - val_loss: 0.4568 - val_accuracy: 0.7803 - lr: 0.0010\n",
            "Epoch 41/100\n",
            "11/11 [==============================] - 0s 6ms/step - loss: 0.3816 - accuracy: 0.8413 - val_loss: 0.4470 - val_accuracy: 0.7758 - lr: 0.0010\n",
            "Epoch 42/100\n",
            "11/11 [==============================] - 0s 5ms/step - loss: 0.3793 - accuracy: 0.8398 - val_loss: 0.4479 - val_accuracy: 0.7937 - lr: 0.0010\n",
            "Epoch 43/100\n",
            "11/11 [==============================] - 0s 5ms/step - loss: 0.3796 - accuracy: 0.8368 - val_loss: 0.4457 - val_accuracy: 0.8072 - lr: 0.0010\n",
            "Epoch 44/100\n",
            "11/11 [==============================] - 0s 5ms/step - loss: 0.3742 - accuracy: 0.8488 - val_loss: 0.4493 - val_accuracy: 0.7892 - lr: 0.0010\n",
            "Epoch 45/100\n",
            "11/11 [==============================] - 0s 6ms/step - loss: 0.3737 - accuracy: 0.8458 - val_loss: 0.4527 - val_accuracy: 0.7937 - lr: 0.0010\n",
            "Epoch 46/100\n",
            "11/11 [==============================] - 0s 5ms/step - loss: 0.3693 - accuracy: 0.8623 - val_loss: 0.4447 - val_accuracy: 0.7937 - lr: 0.0010\n",
            "Epoch 47/100\n",
            "11/11 [==============================] - 0s 6ms/step - loss: 0.3711 - accuracy: 0.8563 - val_loss: 0.4484 - val_accuracy: 0.8072 - lr: 0.0010\n",
            "Epoch 48/100\n",
            "11/11 [==============================] - 0s 5ms/step - loss: 0.3663 - accuracy: 0.8608 - val_loss: 0.4406 - val_accuracy: 0.7892 - lr: 0.0010\n",
            "Epoch 49/100\n",
            "11/11 [==============================] - 0s 4ms/step - loss: 0.3646 - accuracy: 0.8533 - val_loss: 0.4469 - val_accuracy: 0.8027 - lr: 0.0010\n",
            "Epoch 50/100\n",
            "11/11 [==============================] - 0s 5ms/step - loss: 0.3589 - accuracy: 0.8623 - val_loss: 0.4444 - val_accuracy: 0.7848 - lr: 0.0010\n",
            "Epoch 51/100\n",
            "11/11 [==============================] - 0s 7ms/step - loss: 0.3569 - accuracy: 0.8578 - val_loss: 0.4473 - val_accuracy: 0.7892 - lr: 0.0010\n",
            "Epoch 52/100\n",
            "11/11 [==============================] - 0s 5ms/step - loss: 0.3546 - accuracy: 0.8623 - val_loss: 0.4432 - val_accuracy: 0.7848 - lr: 0.0010\n",
            "Epoch 53/100\n",
            "11/11 [==============================] - 0s 8ms/step - loss: 0.3520 - accuracy: 0.8563 - val_loss: 0.4480 - val_accuracy: 0.7937 - lr: 0.0010\n",
            "Epoch 54/100\n",
            "11/11 [==============================] - 0s 6ms/step - loss: 0.3580 - accuracy: 0.8578 - val_loss: 0.4423 - val_accuracy: 0.7892 - lr: 0.0010\n",
            "Epoch 55/100\n",
            "11/11 [==============================] - 0s 7ms/step - loss: 0.3552 - accuracy: 0.8638 - val_loss: 0.4596 - val_accuracy: 0.7758 - lr: 0.0010\n",
            "Epoch 56/100\n",
            "11/11 [==============================] - 0s 5ms/step - loss: 0.3511 - accuracy: 0.8623 - val_loss: 0.4514 - val_accuracy: 0.7713 - lr: 0.0010\n",
            "Epoch 57/100\n",
            "11/11 [==============================] - 0s 5ms/step - loss: 0.3510 - accuracy: 0.8548 - val_loss: 0.4509 - val_accuracy: 0.7758 - lr: 0.0010\n",
            "Epoch 58/100\n",
            "11/11 [==============================] - 0s 5ms/step - loss: 0.3481 - accuracy: 0.8638 - val_loss: 0.4454 - val_accuracy: 0.7803 - lr: 0.0010\n",
            "Epoch 1/100\n",
            "11/11 [==============================] - 1s 16ms/step - loss: 0.6349 - accuracy: 0.6213 - val_loss: 0.6010 - val_accuracy: 0.6099 - lr: 0.0010\n",
            "Epoch 2/100\n",
            "11/11 [==============================] - 0s 5ms/step - loss: 0.5803 - accuracy: 0.6751 - val_loss: 0.5505 - val_accuracy: 0.7220 - lr: 0.0010\n",
            "Epoch 3/100\n",
            "11/11 [==============================] - 0s 4ms/step - loss: 0.5342 - accuracy: 0.7470 - val_loss: 0.5107 - val_accuracy: 0.7399 - lr: 0.0010\n",
            "Epoch 4/100\n",
            "11/11 [==============================] - 0s 5ms/step - loss: 0.5008 - accuracy: 0.7829 - val_loss: 0.4836 - val_accuracy: 0.7578 - lr: 0.0010\n",
            "Epoch 5/100\n",
            "11/11 [==============================] - 0s 5ms/step - loss: 0.4789 - accuracy: 0.7919 - val_loss: 0.4719 - val_accuracy: 0.7713 - lr: 0.0010\n",
            "Epoch 6/100\n",
            "11/11 [==============================] - 0s 4ms/step - loss: 0.4664 - accuracy: 0.7949 - val_loss: 0.4642 - val_accuracy: 0.7758 - lr: 0.0010\n",
            "Epoch 7/100\n",
            "11/11 [==============================] - 0s 6ms/step - loss: 0.4589 - accuracy: 0.7949 - val_loss: 0.4598 - val_accuracy: 0.7758 - lr: 0.0010\n",
            "Epoch 8/100\n",
            "11/11 [==============================] - 0s 5ms/step - loss: 0.4536 - accuracy: 0.7949 - val_loss: 0.4571 - val_accuracy: 0.7668 - lr: 0.0010\n",
            "Epoch 9/100\n",
            "11/11 [==============================] - 0s 5ms/step - loss: 0.4466 - accuracy: 0.8009 - val_loss: 0.4516 - val_accuracy: 0.7803 - lr: 0.0010\n",
            "Epoch 10/100\n",
            "11/11 [==============================] - 0s 6ms/step - loss: 0.4412 - accuracy: 0.8054 - val_loss: 0.4478 - val_accuracy: 0.7758 - lr: 0.0010\n",
            "Epoch 11/100\n",
            "11/11 [==============================] - 0s 4ms/step - loss: 0.4399 - accuracy: 0.8009 - val_loss: 0.4456 - val_accuracy: 0.7668 - lr: 0.0010\n",
            "Epoch 12/100\n",
            "11/11 [==============================] - 0s 5ms/step - loss: 0.4305 - accuracy: 0.8114 - val_loss: 0.4397 - val_accuracy: 0.7758 - lr: 0.0010\n",
            "Epoch 13/100\n",
            "11/11 [==============================] - 0s 5ms/step - loss: 0.4248 - accuracy: 0.8189 - val_loss: 0.4407 - val_accuracy: 0.7668 - lr: 0.0010\n",
            "Epoch 14/100\n",
            "11/11 [==============================] - 0s 5ms/step - loss: 0.4230 - accuracy: 0.8099 - val_loss: 0.4363 - val_accuracy: 0.7758 - lr: 0.0010\n",
            "Epoch 15/100\n",
            "11/11 [==============================] - 0s 5ms/step - loss: 0.4171 - accuracy: 0.8174 - val_loss: 0.4343 - val_accuracy: 0.7758 - lr: 0.0010\n",
            "Epoch 16/100\n",
            "11/11 [==============================] - 0s 7ms/step - loss: 0.4133 - accuracy: 0.8204 - val_loss: 0.4337 - val_accuracy: 0.7668 - lr: 0.0010\n",
            "Epoch 17/100\n",
            "11/11 [==============================] - 0s 5ms/step - loss: 0.4088 - accuracy: 0.8234 - val_loss: 0.4319 - val_accuracy: 0.7713 - lr: 0.0010\n",
            "Epoch 18/100\n",
            "11/11 [==============================] - 0s 6ms/step - loss: 0.4079 - accuracy: 0.8323 - val_loss: 0.4308 - val_accuracy: 0.7578 - lr: 0.0010\n",
            "Epoch 19/100\n",
            "11/11 [==============================] - 0s 5ms/step - loss: 0.4023 - accuracy: 0.8323 - val_loss: 0.4295 - val_accuracy: 0.7937 - lr: 0.0010\n",
            "Epoch 20/100\n",
            "11/11 [==============================] - 0s 5ms/step - loss: 0.4034 - accuracy: 0.8263 - val_loss: 0.4308 - val_accuracy: 0.7982 - lr: 0.0010\n",
            "Epoch 21/100\n",
            "11/11 [==============================] - 0s 5ms/step - loss: 0.4043 - accuracy: 0.8323 - val_loss: 0.4264 - val_accuracy: 0.8161 - lr: 0.0010\n",
            "Epoch 22/100\n",
            "11/11 [==============================] - 0s 4ms/step - loss: 0.3978 - accuracy: 0.8219 - val_loss: 0.4339 - val_accuracy: 0.7713 - lr: 0.0010\n",
            "Epoch 23/100\n",
            "11/11 [==============================] - 0s 5ms/step - loss: 0.3918 - accuracy: 0.8338 - val_loss: 0.4269 - val_accuracy: 0.8072 - lr: 0.0010\n",
            "Epoch 24/100\n",
            "11/11 [==============================] - 0s 6ms/step - loss: 0.3918 - accuracy: 0.8383 - val_loss: 0.4277 - val_accuracy: 0.8206 - lr: 0.0010\n",
            "Epoch 25/100\n",
            "11/11 [==============================] - 0s 5ms/step - loss: 0.3934 - accuracy: 0.8278 - val_loss: 0.4303 - val_accuracy: 0.8117 - lr: 0.0010\n",
            "Epoch 26/100\n",
            "11/11 [==============================] - 0s 6ms/step - loss: 0.3858 - accuracy: 0.8398 - val_loss: 0.4267 - val_accuracy: 0.8161 - lr: 0.0010\n",
            "Epoch 27/100\n",
            "11/11 [==============================] - 0s 5ms/step - loss: 0.3847 - accuracy: 0.8413 - val_loss: 0.4315 - val_accuracy: 0.7758 - lr: 0.0010\n",
            "Epoch 28/100\n",
            "11/11 [==============================] - 0s 5ms/step - loss: 0.3843 - accuracy: 0.8398 - val_loss: 0.4306 - val_accuracy: 0.7937 - lr: 0.0010\n",
            "Epoch 29/100\n",
            "11/11 [==============================] - 0s 5ms/step - loss: 0.3858 - accuracy: 0.8518 - val_loss: 0.4306 - val_accuracy: 0.7937 - lr: 0.0010\n",
            "Epoch 30/100\n",
            "11/11 [==============================] - 0s 5ms/step - loss: 0.3842 - accuracy: 0.8323 - val_loss: 0.4329 - val_accuracy: 0.7848 - lr: 0.0010\n",
            "Epoch 31/100\n",
            "11/11 [==============================] - 0s 6ms/step - loss: 0.3774 - accuracy: 0.8458 - val_loss: 0.4306 - val_accuracy: 0.8161 - lr: 0.0010\n",
            "Epoch 1/100\n",
            "11/11 [==============================] - 1s 17ms/step - loss: 0.6813 - accuracy: 0.5584 - val_loss: 0.6635 - val_accuracy: 0.6009 - lr: 0.0010\n",
            "Epoch 2/100\n",
            " 1/11 [=>............................] - ETA: 0s - loss: 0.6488 - accuracy: 0.7031Epoch 1/100\n",
            "11/11 [==============================] - 1s 15ms/step - loss: 0.6399 - accuracy: 0.6213 - val_loss: 0.6077 - val_accuracy: 0.6009 - lr: 0.0010\n",
            "Epoch 2/100\n",
            "11/11 [==============================] - 0s 4ms/step - loss: 0.5750 - accuracy: 0.6722 - val_loss: 0.5417 - val_accuracy: 0.7399 - lr: 0.0010\n",
            "Epoch 3/100\n",
            "11/11 [==============================] - 0s 4ms/step - loss: 0.5157 - accuracy: 0.7754 - val_loss: 0.4912 - val_accuracy: 0.7848 - lr: 0.0010\n",
            "Epoch 4/100\n",
            "11/11 [==============================] - 0s 5ms/step - loss: 0.4775 - accuracy: 0.7934 - val_loss: 0.4678 - val_accuracy: 0.7758 - lr: 0.0010\n",
            "Epoch 5/100\n",
            "11/11 [==============================] - 0s 6ms/step - loss: 0.4578 - accuracy: 0.7949 - val_loss: 0.4602 - val_accuracy: 0.7668 - lr: 0.0010\n",
            "Epoch 6/100\n",
            "11/11 [==============================] - 0s 6ms/step - loss: 0.4461 - accuracy: 0.7964 - val_loss: 0.4523 - val_accuracy: 0.7623 - lr: 0.0010\n",
            "Epoch 7/100\n",
            "11/11 [==============================] - 0s 5ms/step - loss: 0.4332 - accuracy: 0.7994 - val_loss: 0.4473 - val_accuracy: 0.7668 - lr: 0.0010\n",
            "Epoch 8/100\n",
            "11/11 [==============================] - 0s 7ms/step - loss: 0.4252 - accuracy: 0.8039 - val_loss: 0.4410 - val_accuracy: 0.7982 - lr: 0.0010\n",
            "Epoch 9/100\n",
            "11/11 [==============================] - 0s 5ms/step - loss: 0.4196 - accuracy: 0.8234 - val_loss: 0.4386 - val_accuracy: 0.7534 - lr: 0.0010\n",
            "Epoch 10/100\n",
            "11/11 [==============================] - 0s 4ms/step - loss: 0.4113 - accuracy: 0.8129 - val_loss: 0.4390 - val_accuracy: 0.7937 - lr: 0.0010\n",
            "Epoch 11/100\n",
            "11/11 [==============================] - 0s 5ms/step - loss: 0.4053 - accuracy: 0.8129 - val_loss: 0.4294 - val_accuracy: 0.8072 - lr: 0.0010\n",
            "Epoch 12/100\n",
            "11/11 [==============================] - 0s 6ms/step - loss: 0.4022 - accuracy: 0.8174 - val_loss: 0.4354 - val_accuracy: 0.7848 - lr: 0.0010\n",
            "Epoch 13/100\n",
            "11/11 [==============================] - 0s 5ms/step - loss: 0.3973 - accuracy: 0.8308 - val_loss: 0.4350 - val_accuracy: 0.7803 - lr: 0.0010\n",
            "Epoch 14/100\n",
            "11/11 [==============================] - 0s 5ms/step - loss: 0.4023 - accuracy: 0.8323 - val_loss: 0.4288 - val_accuracy: 0.7982 - lr: 0.0010\n",
            "Epoch 15/100\n",
            "11/11 [==============================] - 0s 5ms/step - loss: 0.4007 - accuracy: 0.8398 - val_loss: 0.4391 - val_accuracy: 0.8072 - lr: 0.0010\n",
            "Epoch 16/100\n",
            "11/11 [==============================] - 0s 5ms/step - loss: 0.4014 - accuracy: 0.8278 - val_loss: 0.4312 - val_accuracy: 0.8161 - lr: 0.0010\n",
            "Epoch 17/100\n",
            "11/11 [==============================] - 0s 5ms/step - loss: 0.3940 - accuracy: 0.8458 - val_loss: 0.4340 - val_accuracy: 0.8027 - lr: 0.0010\n",
            "Epoch 18/100\n",
            "11/11 [==============================] - 0s 5ms/step - loss: 0.3892 - accuracy: 0.8308 - val_loss: 0.4409 - val_accuracy: 0.8027 - lr: 0.0010\n",
            "Epoch 19/100\n",
            "11/11 [==============================] - 0s 5ms/step - loss: 0.3755 - accuracy: 0.8473 - val_loss: 0.4336 - val_accuracy: 0.8117 - lr: 0.0010\n",
            "Epoch 20/100\n",
            "11/11 [==============================] - 0s 5ms/step - loss: 0.3746 - accuracy: 0.8473 - val_loss: 0.4423 - val_accuracy: 0.8072 - lr: 0.0010\n",
            "Epoch 21/100\n",
            "11/11 [==============================] - 0s 7ms/step - loss: 0.3757 - accuracy: 0.8383 - val_loss: 0.4398 - val_accuracy: 0.8027 - lr: 0.0010\n",
            "Epoch 22/100\n",
            "11/11 [==============================] - 0s 5ms/step - loss: 0.3695 - accuracy: 0.8473 - val_loss: 0.4455 - val_accuracy: 0.8206 - lr: 0.0010\n",
            "Epoch 23/100\n",
            "11/11 [==============================] - 0s 5ms/step - loss: 0.3687 - accuracy: 0.8488 - val_loss: 0.4383 - val_accuracy: 0.8117 - lr: 0.0010\n",
            "Epoch 24/100\n",
            "11/11 [==============================] - 0s 5ms/step - loss: 0.3732 - accuracy: 0.8518 - val_loss: 0.4494 - val_accuracy: 0.7982 - lr: 0.0010\n",
            "Epoch 1/100\n",
            "11/11 [==============================] - 1s 15ms/step - loss: 0.6736 - accuracy: 0.6123 - val_loss: 0.6454 - val_accuracy: 0.6726 - lr: 0.0010\n",
            "Epoch 2/100\n",
            " 1/11 [=>............................] - ETA: 0s - loss: 0.6355 - accuracy: 0.6562Epoch 1/100\n",
            "11/11 [==============================] - 1s 16ms/step - loss: 0.6446 - accuracy: 0.6257 - val_loss: 0.6218 - val_accuracy: 0.6009 - lr: 0.0010\n",
            "Epoch 2/100\n",
            "11/11 [==============================] - 0s 6ms/step - loss: 0.5989 - accuracy: 0.6362 - val_loss: 0.5848 - val_accuracy: 0.6682 - lr: 0.0010\n",
            "Epoch 3/100\n",
            "11/11 [==============================] - 0s 4ms/step - loss: 0.5642 - accuracy: 0.6856 - val_loss: 0.5473 - val_accuracy: 0.7220 - lr: 0.0010\n",
            "Epoch 4/100\n",
            "11/11 [==============================] - 0s 5ms/step - loss: 0.5278 - accuracy: 0.7695 - val_loss: 0.5146 - val_accuracy: 0.7803 - lr: 0.0010\n",
            "Epoch 5/100\n",
            "11/11 [==============================] - 0s 7ms/step - loss: 0.4994 - accuracy: 0.7934 - val_loss: 0.4904 - val_accuracy: 0.7713 - lr: 0.0010\n",
            "Epoch 6/100\n",
            "11/11 [==============================] - 0s 6ms/step - loss: 0.4801 - accuracy: 0.7889 - val_loss: 0.4745 - val_accuracy: 0.7803 - lr: 0.0010\n",
            "Epoch 7/100\n",
            "11/11 [==============================] - 0s 6ms/step - loss: 0.4665 - accuracy: 0.7889 - val_loss: 0.4661 - val_accuracy: 0.7758 - lr: 0.0010\n",
            "Epoch 8/100\n",
            "11/11 [==============================] - 0s 5ms/step - loss: 0.4576 - accuracy: 0.7919 - val_loss: 0.4611 - val_accuracy: 0.7803 - lr: 0.0010\n",
            "Epoch 9/100\n",
            "11/11 [==============================] - 0s 4ms/step - loss: 0.4501 - accuracy: 0.7859 - val_loss: 0.4562 - val_accuracy: 0.7623 - lr: 0.0010\n",
            "Epoch 10/100\n",
            " 1/11 [=>............................] - ETA: 0s - loss: 0.4264 - accuracy: 0.8281Epoch 1/100\n",
            "11/11 [==============================] - 1s 18ms/step - loss: 0.6752 - accuracy: 0.5973 - val_loss: 0.6592 - val_accuracy: 0.6009 - lr: 0.0010\n",
            "Epoch 2/100\n",
            "11/11 [==============================] - 0s 5ms/step - loss: 0.6382 - accuracy: 0.6213 - val_loss: 0.6337 - val_accuracy: 0.6009 - lr: 0.0010\n",
            "Epoch 3/100\n",
            "11/11 [==============================] - 0s 5ms/step - loss: 0.6118 - accuracy: 0.6213 - val_loss: 0.6076 - val_accuracy: 0.6009 - lr: 0.0010\n",
            "Epoch 4/100\n",
            " 1/11 [=>............................] - ETA: 0s - loss: 0.5819 - accuracy: 0.6406Epoch 1/100\n",
            "11/11 [==============================] - 1s 16ms/step - loss: 0.6740 - accuracy: 0.6841 - val_loss: 0.6455 - val_accuracy: 0.7040 - lr: 0.0010\n",
            "Epoch 2/100\n",
            "11/11 [==============================] - 0s 6ms/step - loss: 0.6147 - accuracy: 0.7036 - val_loss: 0.5766 - val_accuracy: 0.7354 - lr: 0.0010\n",
            "Epoch 3/100\n",
            "11/11 [==============================] - 0s 5ms/step - loss: 0.5480 - accuracy: 0.7695 - val_loss: 0.5089 - val_accuracy: 0.7848 - lr: 0.0010\n",
            "Epoch 4/100\n",
            "11/11 [==============================] - 0s 6ms/step - loss: 0.4963 - accuracy: 0.7919 - val_loss: 0.4770 - val_accuracy: 0.7803 - lr: 0.0010\n",
            "Epoch 5/100\n",
            "11/11 [==============================] - 0s 5ms/step - loss: 0.4703 - accuracy: 0.7859 - val_loss: 0.4613 - val_accuracy: 0.7803 - lr: 0.0010\n",
            "Epoch 6/100\n",
            "11/11 [==============================] - 0s 5ms/step - loss: 0.4474 - accuracy: 0.7934 - val_loss: 0.4510 - val_accuracy: 0.7892 - lr: 0.0010\n",
            "Epoch 7/100\n",
            "11/11 [==============================] - 0s 5ms/step - loss: 0.4289 - accuracy: 0.7994 - val_loss: 0.4411 - val_accuracy: 0.7713 - lr: 0.0010\n",
            "Epoch 8/100\n",
            "11/11 [==============================] - 0s 5ms/step - loss: 0.4168 - accuracy: 0.8234 - val_loss: 0.4397 - val_accuracy: 0.7848 - lr: 0.0010\n",
            "Epoch 9/100\n",
            "11/11 [==============================] - 0s 6ms/step - loss: 0.4071 - accuracy: 0.8249 - val_loss: 0.4318 - val_accuracy: 0.8117 - lr: 0.0010\n",
            "Epoch 10/100\n",
            "11/11 [==============================] - 0s 6ms/step - loss: 0.4004 - accuracy: 0.8353 - val_loss: 0.4264 - val_accuracy: 0.8206 - lr: 0.0010\n",
            "Epoch 11/100\n",
            "11/11 [==============================] - 0s 8ms/step - loss: 0.3941 - accuracy: 0.8443 - val_loss: 0.4388 - val_accuracy: 0.7982 - lr: 0.0010\n",
            "Epoch 12/100\n",
            "11/11 [==============================] - 0s 5ms/step - loss: 0.3871 - accuracy: 0.8383 - val_loss: 0.4304 - val_accuracy: 0.8251 - lr: 0.0010\n",
            "Epoch 13/100\n",
            "11/11 [==============================] - 0s 5ms/step - loss: 0.3848 - accuracy: 0.8458 - val_loss: 0.4397 - val_accuracy: 0.8027 - lr: 0.0010\n",
            "Epoch 14/100\n",
            "11/11 [==============================] - 0s 5ms/step - loss: 0.3761 - accuracy: 0.8473 - val_loss: 0.4287 - val_accuracy: 0.8027 - lr: 0.0010\n",
            "Epoch 15/100\n",
            "11/11 [==============================] - 0s 5ms/step - loss: 0.3730 - accuracy: 0.8518 - val_loss: 0.4367 - val_accuracy: 0.8117 - lr: 0.0010\n",
            "Epoch 16/100\n",
            "11/11 [==============================] - 0s 7ms/step - loss: 0.3722 - accuracy: 0.8518 - val_loss: 0.4483 - val_accuracy: 0.7892 - lr: 0.0010\n",
            "Epoch 17/100\n",
            "11/11 [==============================] - 0s 6ms/step - loss: 0.3636 - accuracy: 0.8473 - val_loss: 0.4375 - val_accuracy: 0.8072 - lr: 0.0010\n",
            "Epoch 18/100\n",
            "11/11 [==============================] - 0s 6ms/step - loss: 0.3696 - accuracy: 0.8428 - val_loss: 0.4415 - val_accuracy: 0.7982 - lr: 0.0010\n",
            "Epoch 19/100\n",
            "11/11 [==============================] - 0s 5ms/step - loss: 0.3762 - accuracy: 0.8398 - val_loss: 0.4922 - val_accuracy: 0.7803 - lr: 0.0010\n",
            "Epoch 20/100\n",
            "11/11 [==============================] - 0s 5ms/step - loss: 0.3743 - accuracy: 0.8443 - val_loss: 0.4442 - val_accuracy: 0.7982 - lr: 0.0010\n"
          ]
        }
      ],
      "source": [
        "#Silent the interations\n",
        "optuna.logging.set_verbosity(optuna.logging.WARNING) \n",
        "\n",
        "#Run optimization\n",
        "study = optuna.create_study(\n",
        "                            direction = 'maximize',\n",
        "                            pruner=HyperbandPruner(),\n",
        "                            load_if_exists=True, #handle a conflict of study names. In the case where a study named 'study_name' already exists\n",
        "                            )\n",
        "\n",
        "study.optimize(func=objective, n_trials=10)\n"
      ]
    },
    {
      "cell_type": "code",
      "execution_count": 180,
      "metadata": {},
      "outputs": [],
      "source": [
        "############\n",
        "#OPTUNA-IV-RESULTS AND CHARTS\n",
        "############"
      ]
    },
    {
      "cell_type": "code",
      "execution_count": 181,
      "metadata": {},
      "outputs": [
        {
          "name": "stdout",
          "output_type": "stream",
          "text": [
            "The best test score is: 81.61 %\n",
            "The best parameters are: {'hidden_layers': 1, 'hidden_layer_neurons': 60, 'dropout': 0}\n"
          ]
        }
      ],
      "source": [
        "#Show the best score and parameters\n",
        "print(f'The best test score is: {round(study.best_trial.value*100,2)} %')\n",
        "print('The best parameters are:', study.best_params)"
      ]
    },
    {
      "cell_type": "code",
      "execution_count": 182,
      "metadata": {},
      "outputs": [
        {
          "data": {
            "application/vnd.plotly.v1+json": {
              "config": {
                "plotlyServerURL": "https://plot.ly"
              },
              "data": [
                {
                  "mode": "markers",
                  "name": "Objective Value",
                  "type": "scatter",
                  "x": [
                    0,
                    1,
                    2,
                    3,
                    5,
                    9
                  ],
                  "y": [
                    0.7802690863609314,
                    0.8071748614311218,
                    0.7802690863609314,
                    0.8161435127258301,
                    0.7982062697410583,
                    0.7982062697410583
                  ]
                },
                {
                  "mode": "lines",
                  "name": "Best Value",
                  "type": "scatter",
                  "x": [
                    0,
                    1,
                    2,
                    3,
                    4,
                    5,
                    6,
                    7,
                    8,
                    9
                  ],
                  "y": [
                    0.7802690863609314,
                    0.8071748614311218,
                    0.8071748614311218,
                    0.8161435127258301,
                    0.8161435127258301,
                    0.8161435127258301,
                    0.8161435127258301,
                    0.8161435127258301,
                    0.8161435127258301,
                    0.8161435127258301
                  ]
                },
                {
                  "marker": {
                    "color": "#cccccc"
                  },
                  "mode": "markers",
                  "name": "Infeasible Trial",
                  "showlegend": false,
                  "type": "scatter",
                  "x": [],
                  "y": []
                }
              ],
              "layout": {
                "template": {
                  "data": {
                    "bar": [
                      {
                        "error_x": {
                          "color": "#2a3f5f"
                        },
                        "error_y": {
                          "color": "#2a3f5f"
                        },
                        "marker": {
                          "line": {
                            "color": "#E5ECF6",
                            "width": 0.5
                          },
                          "pattern": {
                            "fillmode": "overlay",
                            "size": 10,
                            "solidity": 0.2
                          }
                        },
                        "type": "bar"
                      }
                    ],
                    "barpolar": [
                      {
                        "marker": {
                          "line": {
                            "color": "#E5ECF6",
                            "width": 0.5
                          },
                          "pattern": {
                            "fillmode": "overlay",
                            "size": 10,
                            "solidity": 0.2
                          }
                        },
                        "type": "barpolar"
                      }
                    ],
                    "carpet": [
                      {
                        "aaxis": {
                          "endlinecolor": "#2a3f5f",
                          "gridcolor": "white",
                          "linecolor": "white",
                          "minorgridcolor": "white",
                          "startlinecolor": "#2a3f5f"
                        },
                        "baxis": {
                          "endlinecolor": "#2a3f5f",
                          "gridcolor": "white",
                          "linecolor": "white",
                          "minorgridcolor": "white",
                          "startlinecolor": "#2a3f5f"
                        },
                        "type": "carpet"
                      }
                    ],
                    "choropleth": [
                      {
                        "colorbar": {
                          "outlinewidth": 0,
                          "ticks": ""
                        },
                        "type": "choropleth"
                      }
                    ],
                    "contour": [
                      {
                        "colorbar": {
                          "outlinewidth": 0,
                          "ticks": ""
                        },
                        "colorscale": [
                          [
                            0,
                            "#0d0887"
                          ],
                          [
                            0.1111111111111111,
                            "#46039f"
                          ],
                          [
                            0.2222222222222222,
                            "#7201a8"
                          ],
                          [
                            0.3333333333333333,
                            "#9c179e"
                          ],
                          [
                            0.4444444444444444,
                            "#bd3786"
                          ],
                          [
                            0.5555555555555556,
                            "#d8576b"
                          ],
                          [
                            0.6666666666666666,
                            "#ed7953"
                          ],
                          [
                            0.7777777777777778,
                            "#fb9f3a"
                          ],
                          [
                            0.8888888888888888,
                            "#fdca26"
                          ],
                          [
                            1,
                            "#f0f921"
                          ]
                        ],
                        "type": "contour"
                      }
                    ],
                    "contourcarpet": [
                      {
                        "colorbar": {
                          "outlinewidth": 0,
                          "ticks": ""
                        },
                        "type": "contourcarpet"
                      }
                    ],
                    "heatmap": [
                      {
                        "colorbar": {
                          "outlinewidth": 0,
                          "ticks": ""
                        },
                        "colorscale": [
                          [
                            0,
                            "#0d0887"
                          ],
                          [
                            0.1111111111111111,
                            "#46039f"
                          ],
                          [
                            0.2222222222222222,
                            "#7201a8"
                          ],
                          [
                            0.3333333333333333,
                            "#9c179e"
                          ],
                          [
                            0.4444444444444444,
                            "#bd3786"
                          ],
                          [
                            0.5555555555555556,
                            "#d8576b"
                          ],
                          [
                            0.6666666666666666,
                            "#ed7953"
                          ],
                          [
                            0.7777777777777778,
                            "#fb9f3a"
                          ],
                          [
                            0.8888888888888888,
                            "#fdca26"
                          ],
                          [
                            1,
                            "#f0f921"
                          ]
                        ],
                        "type": "heatmap"
                      }
                    ],
                    "heatmapgl": [
                      {
                        "colorbar": {
                          "outlinewidth": 0,
                          "ticks": ""
                        },
                        "colorscale": [
                          [
                            0,
                            "#0d0887"
                          ],
                          [
                            0.1111111111111111,
                            "#46039f"
                          ],
                          [
                            0.2222222222222222,
                            "#7201a8"
                          ],
                          [
                            0.3333333333333333,
                            "#9c179e"
                          ],
                          [
                            0.4444444444444444,
                            "#bd3786"
                          ],
                          [
                            0.5555555555555556,
                            "#d8576b"
                          ],
                          [
                            0.6666666666666666,
                            "#ed7953"
                          ],
                          [
                            0.7777777777777778,
                            "#fb9f3a"
                          ],
                          [
                            0.8888888888888888,
                            "#fdca26"
                          ],
                          [
                            1,
                            "#f0f921"
                          ]
                        ],
                        "type": "heatmapgl"
                      }
                    ],
                    "histogram": [
                      {
                        "marker": {
                          "pattern": {
                            "fillmode": "overlay",
                            "size": 10,
                            "solidity": 0.2
                          }
                        },
                        "type": "histogram"
                      }
                    ],
                    "histogram2d": [
                      {
                        "colorbar": {
                          "outlinewidth": 0,
                          "ticks": ""
                        },
                        "colorscale": [
                          [
                            0,
                            "#0d0887"
                          ],
                          [
                            0.1111111111111111,
                            "#46039f"
                          ],
                          [
                            0.2222222222222222,
                            "#7201a8"
                          ],
                          [
                            0.3333333333333333,
                            "#9c179e"
                          ],
                          [
                            0.4444444444444444,
                            "#bd3786"
                          ],
                          [
                            0.5555555555555556,
                            "#d8576b"
                          ],
                          [
                            0.6666666666666666,
                            "#ed7953"
                          ],
                          [
                            0.7777777777777778,
                            "#fb9f3a"
                          ],
                          [
                            0.8888888888888888,
                            "#fdca26"
                          ],
                          [
                            1,
                            "#f0f921"
                          ]
                        ],
                        "type": "histogram2d"
                      }
                    ],
                    "histogram2dcontour": [
                      {
                        "colorbar": {
                          "outlinewidth": 0,
                          "ticks": ""
                        },
                        "colorscale": [
                          [
                            0,
                            "#0d0887"
                          ],
                          [
                            0.1111111111111111,
                            "#46039f"
                          ],
                          [
                            0.2222222222222222,
                            "#7201a8"
                          ],
                          [
                            0.3333333333333333,
                            "#9c179e"
                          ],
                          [
                            0.4444444444444444,
                            "#bd3786"
                          ],
                          [
                            0.5555555555555556,
                            "#d8576b"
                          ],
                          [
                            0.6666666666666666,
                            "#ed7953"
                          ],
                          [
                            0.7777777777777778,
                            "#fb9f3a"
                          ],
                          [
                            0.8888888888888888,
                            "#fdca26"
                          ],
                          [
                            1,
                            "#f0f921"
                          ]
                        ],
                        "type": "histogram2dcontour"
                      }
                    ],
                    "mesh3d": [
                      {
                        "colorbar": {
                          "outlinewidth": 0,
                          "ticks": ""
                        },
                        "type": "mesh3d"
                      }
                    ],
                    "parcoords": [
                      {
                        "line": {
                          "colorbar": {
                            "outlinewidth": 0,
                            "ticks": ""
                          }
                        },
                        "type": "parcoords"
                      }
                    ],
                    "pie": [
                      {
                        "automargin": true,
                        "type": "pie"
                      }
                    ],
                    "scatter": [
                      {
                        "fillpattern": {
                          "fillmode": "overlay",
                          "size": 10,
                          "solidity": 0.2
                        },
                        "type": "scatter"
                      }
                    ],
                    "scatter3d": [
                      {
                        "line": {
                          "colorbar": {
                            "outlinewidth": 0,
                            "ticks": ""
                          }
                        },
                        "marker": {
                          "colorbar": {
                            "outlinewidth": 0,
                            "ticks": ""
                          }
                        },
                        "type": "scatter3d"
                      }
                    ],
                    "scattercarpet": [
                      {
                        "marker": {
                          "colorbar": {
                            "outlinewidth": 0,
                            "ticks": ""
                          }
                        },
                        "type": "scattercarpet"
                      }
                    ],
                    "scattergeo": [
                      {
                        "marker": {
                          "colorbar": {
                            "outlinewidth": 0,
                            "ticks": ""
                          }
                        },
                        "type": "scattergeo"
                      }
                    ],
                    "scattergl": [
                      {
                        "marker": {
                          "colorbar": {
                            "outlinewidth": 0,
                            "ticks": ""
                          }
                        },
                        "type": "scattergl"
                      }
                    ],
                    "scattermapbox": [
                      {
                        "marker": {
                          "colorbar": {
                            "outlinewidth": 0,
                            "ticks": ""
                          }
                        },
                        "type": "scattermapbox"
                      }
                    ],
                    "scatterpolar": [
                      {
                        "marker": {
                          "colorbar": {
                            "outlinewidth": 0,
                            "ticks": ""
                          }
                        },
                        "type": "scatterpolar"
                      }
                    ],
                    "scatterpolargl": [
                      {
                        "marker": {
                          "colorbar": {
                            "outlinewidth": 0,
                            "ticks": ""
                          }
                        },
                        "type": "scatterpolargl"
                      }
                    ],
                    "scatterternary": [
                      {
                        "marker": {
                          "colorbar": {
                            "outlinewidth": 0,
                            "ticks": ""
                          }
                        },
                        "type": "scatterternary"
                      }
                    ],
                    "surface": [
                      {
                        "colorbar": {
                          "outlinewidth": 0,
                          "ticks": ""
                        },
                        "colorscale": [
                          [
                            0,
                            "#0d0887"
                          ],
                          [
                            0.1111111111111111,
                            "#46039f"
                          ],
                          [
                            0.2222222222222222,
                            "#7201a8"
                          ],
                          [
                            0.3333333333333333,
                            "#9c179e"
                          ],
                          [
                            0.4444444444444444,
                            "#bd3786"
                          ],
                          [
                            0.5555555555555556,
                            "#d8576b"
                          ],
                          [
                            0.6666666666666666,
                            "#ed7953"
                          ],
                          [
                            0.7777777777777778,
                            "#fb9f3a"
                          ],
                          [
                            0.8888888888888888,
                            "#fdca26"
                          ],
                          [
                            1,
                            "#f0f921"
                          ]
                        ],
                        "type": "surface"
                      }
                    ],
                    "table": [
                      {
                        "cells": {
                          "fill": {
                            "color": "#EBF0F8"
                          },
                          "line": {
                            "color": "white"
                          }
                        },
                        "header": {
                          "fill": {
                            "color": "#C8D4E3"
                          },
                          "line": {
                            "color": "white"
                          }
                        },
                        "type": "table"
                      }
                    ]
                  },
                  "layout": {
                    "annotationdefaults": {
                      "arrowcolor": "#2a3f5f",
                      "arrowhead": 0,
                      "arrowwidth": 1
                    },
                    "autotypenumbers": "strict",
                    "coloraxis": {
                      "colorbar": {
                        "outlinewidth": 0,
                        "ticks": ""
                      }
                    },
                    "colorscale": {
                      "diverging": [
                        [
                          0,
                          "#8e0152"
                        ],
                        [
                          0.1,
                          "#c51b7d"
                        ],
                        [
                          0.2,
                          "#de77ae"
                        ],
                        [
                          0.3,
                          "#f1b6da"
                        ],
                        [
                          0.4,
                          "#fde0ef"
                        ],
                        [
                          0.5,
                          "#f7f7f7"
                        ],
                        [
                          0.6,
                          "#e6f5d0"
                        ],
                        [
                          0.7,
                          "#b8e186"
                        ],
                        [
                          0.8,
                          "#7fbc41"
                        ],
                        [
                          0.9,
                          "#4d9221"
                        ],
                        [
                          1,
                          "#276419"
                        ]
                      ],
                      "sequential": [
                        [
                          0,
                          "#0d0887"
                        ],
                        [
                          0.1111111111111111,
                          "#46039f"
                        ],
                        [
                          0.2222222222222222,
                          "#7201a8"
                        ],
                        [
                          0.3333333333333333,
                          "#9c179e"
                        ],
                        [
                          0.4444444444444444,
                          "#bd3786"
                        ],
                        [
                          0.5555555555555556,
                          "#d8576b"
                        ],
                        [
                          0.6666666666666666,
                          "#ed7953"
                        ],
                        [
                          0.7777777777777778,
                          "#fb9f3a"
                        ],
                        [
                          0.8888888888888888,
                          "#fdca26"
                        ],
                        [
                          1,
                          "#f0f921"
                        ]
                      ],
                      "sequentialminus": [
                        [
                          0,
                          "#0d0887"
                        ],
                        [
                          0.1111111111111111,
                          "#46039f"
                        ],
                        [
                          0.2222222222222222,
                          "#7201a8"
                        ],
                        [
                          0.3333333333333333,
                          "#9c179e"
                        ],
                        [
                          0.4444444444444444,
                          "#bd3786"
                        ],
                        [
                          0.5555555555555556,
                          "#d8576b"
                        ],
                        [
                          0.6666666666666666,
                          "#ed7953"
                        ],
                        [
                          0.7777777777777778,
                          "#fb9f3a"
                        ],
                        [
                          0.8888888888888888,
                          "#fdca26"
                        ],
                        [
                          1,
                          "#f0f921"
                        ]
                      ]
                    },
                    "colorway": [
                      "#636efa",
                      "#EF553B",
                      "#00cc96",
                      "#ab63fa",
                      "#FFA15A",
                      "#19d3f3",
                      "#FF6692",
                      "#B6E880",
                      "#FF97FF",
                      "#FECB52"
                    ],
                    "font": {
                      "color": "#2a3f5f"
                    },
                    "geo": {
                      "bgcolor": "white",
                      "lakecolor": "white",
                      "landcolor": "#E5ECF6",
                      "showlakes": true,
                      "showland": true,
                      "subunitcolor": "white"
                    },
                    "hoverlabel": {
                      "align": "left"
                    },
                    "hovermode": "closest",
                    "mapbox": {
                      "style": "light"
                    },
                    "paper_bgcolor": "white",
                    "plot_bgcolor": "#E5ECF6",
                    "polar": {
                      "angularaxis": {
                        "gridcolor": "white",
                        "linecolor": "white",
                        "ticks": ""
                      },
                      "bgcolor": "#E5ECF6",
                      "radialaxis": {
                        "gridcolor": "white",
                        "linecolor": "white",
                        "ticks": ""
                      }
                    },
                    "scene": {
                      "xaxis": {
                        "backgroundcolor": "#E5ECF6",
                        "gridcolor": "white",
                        "gridwidth": 2,
                        "linecolor": "white",
                        "showbackground": true,
                        "ticks": "",
                        "zerolinecolor": "white"
                      },
                      "yaxis": {
                        "backgroundcolor": "#E5ECF6",
                        "gridcolor": "white",
                        "gridwidth": 2,
                        "linecolor": "white",
                        "showbackground": true,
                        "ticks": "",
                        "zerolinecolor": "white"
                      },
                      "zaxis": {
                        "backgroundcolor": "#E5ECF6",
                        "gridcolor": "white",
                        "gridwidth": 2,
                        "linecolor": "white",
                        "showbackground": true,
                        "ticks": "",
                        "zerolinecolor": "white"
                      }
                    },
                    "shapedefaults": {
                      "line": {
                        "color": "#2a3f5f"
                      }
                    },
                    "ternary": {
                      "aaxis": {
                        "gridcolor": "white",
                        "linecolor": "white",
                        "ticks": ""
                      },
                      "baxis": {
                        "gridcolor": "white",
                        "linecolor": "white",
                        "ticks": ""
                      },
                      "bgcolor": "#E5ECF6",
                      "caxis": {
                        "gridcolor": "white",
                        "linecolor": "white",
                        "ticks": ""
                      }
                    },
                    "title": {
                      "x": 0.05
                    },
                    "xaxis": {
                      "automargin": true,
                      "gridcolor": "white",
                      "linecolor": "white",
                      "ticks": "",
                      "title": {
                        "standoff": 15
                      },
                      "zerolinecolor": "white",
                      "zerolinewidth": 2
                    },
                    "yaxis": {
                      "automargin": true,
                      "gridcolor": "white",
                      "linecolor": "white",
                      "ticks": "",
                      "title": {
                        "standoff": 15
                      },
                      "zerolinecolor": "white",
                      "zerolinewidth": 2
                    }
                  }
                },
                "title": {
                  "text": "Optimization History Plot"
                },
                "xaxis": {
                  "title": {
                    "text": "Trial"
                  }
                },
                "yaxis": {
                  "title": {
                    "text": "Objective Value"
                  }
                }
              }
            }
          },
          "metadata": {},
          "output_type": "display_data"
        }
      ],
      "source": [
        "#Objective value x Trials\n",
        "optuna.visualization.plot_optimization_history(study)\n"
      ]
    },
    {
      "cell_type": "code",
      "execution_count": 183,
      "metadata": {},
      "outputs": [
        {
          "data": {
            "application/vnd.plotly.v1+json": {
              "config": {
                "plotlyServerURL": "https://plot.ly"
              },
              "data": [
                {
                  "marker": {
                    "maxdisplayed": 10
                  },
                  "mode": "lines+markers",
                  "name": "Trial0",
                  "type": "scatter",
                  "x": [
                    0,
                    1,
                    2,
                    3,
                    4,
                    5,
                    6,
                    7,
                    8,
                    9,
                    10,
                    11,
                    12,
                    13,
                    14,
                    15,
                    16,
                    17,
                    18,
                    19,
                    20,
                    21,
                    22,
                    23,
                    24,
                    25,
                    26,
                    27,
                    28,
                    29,
                    30,
                    31,
                    32
                  ],
                  "y": [
                    0.6322869658470154,
                    0.6457399129867554,
                    0.7040358781814575,
                    0.7623318433761597,
                    0.7802690863609314,
                    0.7757847309112549,
                    0.7623318433761597,
                    0.7668161392211914,
                    0.7713004350662231,
                    0.7757847309112549,
                    0.7713004350662231,
                    0.8116592168807983,
                    0.7757847309112549,
                    0.7847533822059631,
                    0.7892376780509949,
                    0.7892376780509949,
                    0.7937219738960266,
                    0.7892376780509949,
                    0.7757847309112549,
                    0.7847533822059631,
                    0.7713004350662231,
                    0.7757847309112549,
                    0.7847533822059631,
                    0.7802690863609314,
                    0.7802690863609314,
                    0.7802690863609314,
                    0.7802690863609314,
                    0.7847533822059631,
                    0.7802690863609314,
                    0.7757847309112549,
                    0.7757847309112549,
                    0.7713004350662231,
                    0.7802690863609314
                  ]
                },
                {
                  "marker": {
                    "maxdisplayed": 10
                  },
                  "mode": "lines+markers",
                  "name": "Trial1",
                  "type": "scatter",
                  "x": [
                    0,
                    1,
                    2,
                    3,
                    4,
                    5,
                    6,
                    7,
                    8,
                    9,
                    10,
                    11,
                    12,
                    13,
                    14,
                    15,
                    16,
                    17,
                    18,
                    19,
                    20,
                    21,
                    22,
                    23,
                    24,
                    25,
                    26,
                    27,
                    28,
                    29,
                    30,
                    31,
                    32,
                    33,
                    34,
                    35,
                    36,
                    37,
                    38,
                    39,
                    40,
                    41,
                    42,
                    43,
                    44
                  ],
                  "y": [
                    0.6008968353271484,
                    0.6547085046768188,
                    0.6995515823364258,
                    0.7533632516860962,
                    0.7757847309112549,
                    0.7937219738960266,
                    0.7982062697410583,
                    0.7847533822059631,
                    0.7847533822059631,
                    0.7847533822059631,
                    0.7802690863609314,
                    0.7847533822059631,
                    0.7847533822059631,
                    0.7982062697410583,
                    0.7982062697410583,
                    0.7982062697410583,
                    0.7937219738960266,
                    0.7982062697410583,
                    0.8071748614311218,
                    0.8071748614311218,
                    0.7892376780509949,
                    0.8071748614311218,
                    0.7937219738960266,
                    0.8071748614311218,
                    0.8026905655860901,
                    0.7937219738960266,
                    0.8026905655860901,
                    0.8071748614311218,
                    0.8161435127258301,
                    0.7847533822059631,
                    0.8161435127258301,
                    0.8116592168807983,
                    0.7982062697410583,
                    0.8026905655860901,
                    0.8026905655860901,
                    0.7982062697410583,
                    0.7937219738960266,
                    0.8161435127258301,
                    0.7982062697410583,
                    0.7937219738960266,
                    0.8161435127258301,
                    0.8161435127258301,
                    0.7982062697410583,
                    0.7982062697410583,
                    0.8071748614311218
                  ]
                },
                {
                  "marker": {
                    "maxdisplayed": 10
                  },
                  "mode": "lines+markers",
                  "name": "Trial2",
                  "type": "scatter",
                  "x": [
                    0,
                    1,
                    2,
                    3,
                    4,
                    5,
                    6,
                    7,
                    8,
                    9,
                    10,
                    11,
                    12,
                    13,
                    14,
                    15,
                    16,
                    17,
                    18,
                    19,
                    20,
                    21,
                    22,
                    23,
                    24,
                    25,
                    26,
                    27,
                    28,
                    29,
                    30,
                    31,
                    32,
                    33,
                    34,
                    35,
                    36,
                    37,
                    38,
                    39,
                    40,
                    41,
                    42,
                    43,
                    44,
                    45,
                    46,
                    47,
                    48,
                    49,
                    50,
                    51,
                    52,
                    53,
                    54,
                    55,
                    56,
                    57
                  ],
                  "y": [
                    0.7399103045463562,
                    0.726457417011261,
                    0.7488788962364197,
                    0.7802690863609314,
                    0.7847533822059631,
                    0.7802690863609314,
                    0.7847533822059631,
                    0.7757847309112549,
                    0.7757847309112549,
                    0.7713004350662231,
                    0.7802690863609314,
                    0.7937219738960266,
                    0.7937219738960266,
                    0.7937219738960266,
                    0.7802690863609314,
                    0.7892376780509949,
                    0.7892376780509949,
                    0.7892376780509949,
                    0.7937219738960266,
                    0.7937219738960266,
                    0.7937219738960266,
                    0.7982062697410583,
                    0.8026905655860901,
                    0.7847533822059631,
                    0.7937219738960266,
                    0.7937219738960266,
                    0.7982062697410583,
                    0.7802690863609314,
                    0.7847533822059631,
                    0.7847533822059631,
                    0.7937219738960266,
                    0.7982062697410583,
                    0.7847533822059631,
                    0.7937219738960266,
                    0.7892376780509949,
                    0.7937219738960266,
                    0.7802690863609314,
                    0.7713004350662231,
                    0.7892376780509949,
                    0.7802690863609314,
                    0.7757847309112549,
                    0.7937219738960266,
                    0.8071748614311218,
                    0.7892376780509949,
                    0.7937219738960266,
                    0.7937219738960266,
                    0.8071748614311218,
                    0.7892376780509949,
                    0.8026905655860901,
                    0.7847533822059631,
                    0.7892376780509949,
                    0.7847533822059631,
                    0.7937219738960266,
                    0.7892376780509949,
                    0.7757847309112549,
                    0.7713004350662231,
                    0.7757847309112549,
                    0.7802690863609314
                  ]
                },
                {
                  "marker": {
                    "maxdisplayed": 10
                  },
                  "mode": "lines+markers",
                  "name": "Trial3",
                  "type": "scatter",
                  "x": [
                    0,
                    1,
                    2,
                    3,
                    4,
                    5,
                    6,
                    7,
                    8,
                    9,
                    10,
                    11,
                    12,
                    13,
                    14,
                    15,
                    16,
                    17,
                    18,
                    19,
                    20,
                    21,
                    22,
                    23,
                    24,
                    25,
                    26,
                    27,
                    28,
                    29,
                    30
                  ],
                  "y": [
                    0.6098654866218567,
                    0.7219731211662292,
                    0.7399103045463562,
                    0.7578475475311279,
                    0.7713004350662231,
                    0.7757847309112549,
                    0.7757847309112549,
                    0.7668161392211914,
                    0.7802690863609314,
                    0.7757847309112549,
                    0.7668161392211914,
                    0.7757847309112549,
                    0.7668161392211914,
                    0.7757847309112549,
                    0.7757847309112549,
                    0.7668161392211914,
                    0.7713004350662231,
                    0.7578475475311279,
                    0.7937219738960266,
                    0.7982062697410583,
                    0.8161435127258301,
                    0.7713004350662231,
                    0.8071748614311218,
                    0.8206278085708618,
                    0.8116592168807983,
                    0.8161435127258301,
                    0.7757847309112549,
                    0.7937219738960266,
                    0.7937219738960266,
                    0.7847533822059631,
                    0.8161435127258301
                  ]
                },
                {
                  "marker": {
                    "maxdisplayed": 10
                  },
                  "mode": "lines+markers",
                  "name": "Trial4",
                  "type": "scatter",
                  "x": [
                    0,
                    1
                  ],
                  "y": [
                    0.6008968353271484,
                    0.6008968353271484
                  ]
                },
                {
                  "marker": {
                    "maxdisplayed": 10
                  },
                  "mode": "lines+markers",
                  "name": "Trial5",
                  "type": "scatter",
                  "x": [
                    0,
                    1,
                    2,
                    3,
                    4,
                    5,
                    6,
                    7,
                    8,
                    9,
                    10,
                    11,
                    12,
                    13,
                    14,
                    15,
                    16,
                    17,
                    18,
                    19,
                    20,
                    21,
                    22,
                    23
                  ],
                  "y": [
                    0.6008968353271484,
                    0.7399103045463562,
                    0.7847533822059631,
                    0.7757847309112549,
                    0.7668161392211914,
                    0.7623318433761597,
                    0.7668161392211914,
                    0.7982062697410583,
                    0.7533632516860962,
                    0.7937219738960266,
                    0.8071748614311218,
                    0.7847533822059631,
                    0.7802690863609314,
                    0.7982062697410583,
                    0.8071748614311218,
                    0.8161435127258301,
                    0.8026905655860901,
                    0.8026905655860901,
                    0.8116592168807983,
                    0.8071748614311218,
                    0.8026905655860901,
                    0.8206278085708618,
                    0.8116592168807983,
                    0.7982062697410583
                  ]
                },
                {
                  "marker": {
                    "maxdisplayed": 10
                  },
                  "mode": "lines+markers",
                  "name": "Trial6",
                  "type": "scatter",
                  "x": [
                    0,
                    1
                  ],
                  "y": [
                    0.6726457476615906,
                    0.7040358781814575
                  ]
                },
                {
                  "marker": {
                    "maxdisplayed": 10
                  },
                  "mode": "lines+markers",
                  "name": "Trial7",
                  "type": "scatter",
                  "x": [
                    0,
                    1,
                    2,
                    3,
                    4,
                    5,
                    6,
                    7,
                    8,
                    9
                  ],
                  "y": [
                    0.6008968353271484,
                    0.6681614518165588,
                    0.7219731211662292,
                    0.7802690863609314,
                    0.7713004350662231,
                    0.7802690863609314,
                    0.7757847309112549,
                    0.7802690863609314,
                    0.7623318433761597,
                    0.7668161392211914
                  ]
                },
                {
                  "marker": {
                    "maxdisplayed": 10
                  },
                  "mode": "lines+markers",
                  "name": "Trial8",
                  "type": "scatter",
                  "x": [
                    0,
                    1,
                    2,
                    3
                  ],
                  "y": [
                    0.6008968353271484,
                    0.6008968353271484,
                    0.6008968353271484,
                    0.6995515823364258
                  ]
                },
                {
                  "marker": {
                    "maxdisplayed": 10
                  },
                  "mode": "lines+markers",
                  "name": "Trial9",
                  "type": "scatter",
                  "x": [
                    0,
                    1,
                    2,
                    3,
                    4,
                    5,
                    6,
                    7,
                    8,
                    9,
                    10,
                    11,
                    12,
                    13,
                    14,
                    15,
                    16,
                    17,
                    18,
                    19
                  ],
                  "y": [
                    0.7040358781814575,
                    0.7354260087013245,
                    0.7847533822059631,
                    0.7802690863609314,
                    0.7802690863609314,
                    0.7892376780509949,
                    0.7713004350662231,
                    0.7847533822059631,
                    0.8116592168807983,
                    0.8206278085708618,
                    0.7982062697410583,
                    0.8251121044158936,
                    0.8026905655860901,
                    0.8026905655860901,
                    0.8116592168807983,
                    0.7892376780509949,
                    0.8071748614311218,
                    0.7982062697410583,
                    0.7802690863609314,
                    0.7982062697410583
                  ]
                }
              ],
              "layout": {
                "showlegend": false,
                "template": {
                  "data": {
                    "bar": [
                      {
                        "error_x": {
                          "color": "#2a3f5f"
                        },
                        "error_y": {
                          "color": "#2a3f5f"
                        },
                        "marker": {
                          "line": {
                            "color": "#E5ECF6",
                            "width": 0.5
                          },
                          "pattern": {
                            "fillmode": "overlay",
                            "size": 10,
                            "solidity": 0.2
                          }
                        },
                        "type": "bar"
                      }
                    ],
                    "barpolar": [
                      {
                        "marker": {
                          "line": {
                            "color": "#E5ECF6",
                            "width": 0.5
                          },
                          "pattern": {
                            "fillmode": "overlay",
                            "size": 10,
                            "solidity": 0.2
                          }
                        },
                        "type": "barpolar"
                      }
                    ],
                    "carpet": [
                      {
                        "aaxis": {
                          "endlinecolor": "#2a3f5f",
                          "gridcolor": "white",
                          "linecolor": "white",
                          "minorgridcolor": "white",
                          "startlinecolor": "#2a3f5f"
                        },
                        "baxis": {
                          "endlinecolor": "#2a3f5f",
                          "gridcolor": "white",
                          "linecolor": "white",
                          "minorgridcolor": "white",
                          "startlinecolor": "#2a3f5f"
                        },
                        "type": "carpet"
                      }
                    ],
                    "choropleth": [
                      {
                        "colorbar": {
                          "outlinewidth": 0,
                          "ticks": ""
                        },
                        "type": "choropleth"
                      }
                    ],
                    "contour": [
                      {
                        "colorbar": {
                          "outlinewidth": 0,
                          "ticks": ""
                        },
                        "colorscale": [
                          [
                            0,
                            "#0d0887"
                          ],
                          [
                            0.1111111111111111,
                            "#46039f"
                          ],
                          [
                            0.2222222222222222,
                            "#7201a8"
                          ],
                          [
                            0.3333333333333333,
                            "#9c179e"
                          ],
                          [
                            0.4444444444444444,
                            "#bd3786"
                          ],
                          [
                            0.5555555555555556,
                            "#d8576b"
                          ],
                          [
                            0.6666666666666666,
                            "#ed7953"
                          ],
                          [
                            0.7777777777777778,
                            "#fb9f3a"
                          ],
                          [
                            0.8888888888888888,
                            "#fdca26"
                          ],
                          [
                            1,
                            "#f0f921"
                          ]
                        ],
                        "type": "contour"
                      }
                    ],
                    "contourcarpet": [
                      {
                        "colorbar": {
                          "outlinewidth": 0,
                          "ticks": ""
                        },
                        "type": "contourcarpet"
                      }
                    ],
                    "heatmap": [
                      {
                        "colorbar": {
                          "outlinewidth": 0,
                          "ticks": ""
                        },
                        "colorscale": [
                          [
                            0,
                            "#0d0887"
                          ],
                          [
                            0.1111111111111111,
                            "#46039f"
                          ],
                          [
                            0.2222222222222222,
                            "#7201a8"
                          ],
                          [
                            0.3333333333333333,
                            "#9c179e"
                          ],
                          [
                            0.4444444444444444,
                            "#bd3786"
                          ],
                          [
                            0.5555555555555556,
                            "#d8576b"
                          ],
                          [
                            0.6666666666666666,
                            "#ed7953"
                          ],
                          [
                            0.7777777777777778,
                            "#fb9f3a"
                          ],
                          [
                            0.8888888888888888,
                            "#fdca26"
                          ],
                          [
                            1,
                            "#f0f921"
                          ]
                        ],
                        "type": "heatmap"
                      }
                    ],
                    "heatmapgl": [
                      {
                        "colorbar": {
                          "outlinewidth": 0,
                          "ticks": ""
                        },
                        "colorscale": [
                          [
                            0,
                            "#0d0887"
                          ],
                          [
                            0.1111111111111111,
                            "#46039f"
                          ],
                          [
                            0.2222222222222222,
                            "#7201a8"
                          ],
                          [
                            0.3333333333333333,
                            "#9c179e"
                          ],
                          [
                            0.4444444444444444,
                            "#bd3786"
                          ],
                          [
                            0.5555555555555556,
                            "#d8576b"
                          ],
                          [
                            0.6666666666666666,
                            "#ed7953"
                          ],
                          [
                            0.7777777777777778,
                            "#fb9f3a"
                          ],
                          [
                            0.8888888888888888,
                            "#fdca26"
                          ],
                          [
                            1,
                            "#f0f921"
                          ]
                        ],
                        "type": "heatmapgl"
                      }
                    ],
                    "histogram": [
                      {
                        "marker": {
                          "pattern": {
                            "fillmode": "overlay",
                            "size": 10,
                            "solidity": 0.2
                          }
                        },
                        "type": "histogram"
                      }
                    ],
                    "histogram2d": [
                      {
                        "colorbar": {
                          "outlinewidth": 0,
                          "ticks": ""
                        },
                        "colorscale": [
                          [
                            0,
                            "#0d0887"
                          ],
                          [
                            0.1111111111111111,
                            "#46039f"
                          ],
                          [
                            0.2222222222222222,
                            "#7201a8"
                          ],
                          [
                            0.3333333333333333,
                            "#9c179e"
                          ],
                          [
                            0.4444444444444444,
                            "#bd3786"
                          ],
                          [
                            0.5555555555555556,
                            "#d8576b"
                          ],
                          [
                            0.6666666666666666,
                            "#ed7953"
                          ],
                          [
                            0.7777777777777778,
                            "#fb9f3a"
                          ],
                          [
                            0.8888888888888888,
                            "#fdca26"
                          ],
                          [
                            1,
                            "#f0f921"
                          ]
                        ],
                        "type": "histogram2d"
                      }
                    ],
                    "histogram2dcontour": [
                      {
                        "colorbar": {
                          "outlinewidth": 0,
                          "ticks": ""
                        },
                        "colorscale": [
                          [
                            0,
                            "#0d0887"
                          ],
                          [
                            0.1111111111111111,
                            "#46039f"
                          ],
                          [
                            0.2222222222222222,
                            "#7201a8"
                          ],
                          [
                            0.3333333333333333,
                            "#9c179e"
                          ],
                          [
                            0.4444444444444444,
                            "#bd3786"
                          ],
                          [
                            0.5555555555555556,
                            "#d8576b"
                          ],
                          [
                            0.6666666666666666,
                            "#ed7953"
                          ],
                          [
                            0.7777777777777778,
                            "#fb9f3a"
                          ],
                          [
                            0.8888888888888888,
                            "#fdca26"
                          ],
                          [
                            1,
                            "#f0f921"
                          ]
                        ],
                        "type": "histogram2dcontour"
                      }
                    ],
                    "mesh3d": [
                      {
                        "colorbar": {
                          "outlinewidth": 0,
                          "ticks": ""
                        },
                        "type": "mesh3d"
                      }
                    ],
                    "parcoords": [
                      {
                        "line": {
                          "colorbar": {
                            "outlinewidth": 0,
                            "ticks": ""
                          }
                        },
                        "type": "parcoords"
                      }
                    ],
                    "pie": [
                      {
                        "automargin": true,
                        "type": "pie"
                      }
                    ],
                    "scatter": [
                      {
                        "fillpattern": {
                          "fillmode": "overlay",
                          "size": 10,
                          "solidity": 0.2
                        },
                        "type": "scatter"
                      }
                    ],
                    "scatter3d": [
                      {
                        "line": {
                          "colorbar": {
                            "outlinewidth": 0,
                            "ticks": ""
                          }
                        },
                        "marker": {
                          "colorbar": {
                            "outlinewidth": 0,
                            "ticks": ""
                          }
                        },
                        "type": "scatter3d"
                      }
                    ],
                    "scattercarpet": [
                      {
                        "marker": {
                          "colorbar": {
                            "outlinewidth": 0,
                            "ticks": ""
                          }
                        },
                        "type": "scattercarpet"
                      }
                    ],
                    "scattergeo": [
                      {
                        "marker": {
                          "colorbar": {
                            "outlinewidth": 0,
                            "ticks": ""
                          }
                        },
                        "type": "scattergeo"
                      }
                    ],
                    "scattergl": [
                      {
                        "marker": {
                          "colorbar": {
                            "outlinewidth": 0,
                            "ticks": ""
                          }
                        },
                        "type": "scattergl"
                      }
                    ],
                    "scattermapbox": [
                      {
                        "marker": {
                          "colorbar": {
                            "outlinewidth": 0,
                            "ticks": ""
                          }
                        },
                        "type": "scattermapbox"
                      }
                    ],
                    "scatterpolar": [
                      {
                        "marker": {
                          "colorbar": {
                            "outlinewidth": 0,
                            "ticks": ""
                          }
                        },
                        "type": "scatterpolar"
                      }
                    ],
                    "scatterpolargl": [
                      {
                        "marker": {
                          "colorbar": {
                            "outlinewidth": 0,
                            "ticks": ""
                          }
                        },
                        "type": "scatterpolargl"
                      }
                    ],
                    "scatterternary": [
                      {
                        "marker": {
                          "colorbar": {
                            "outlinewidth": 0,
                            "ticks": ""
                          }
                        },
                        "type": "scatterternary"
                      }
                    ],
                    "surface": [
                      {
                        "colorbar": {
                          "outlinewidth": 0,
                          "ticks": ""
                        },
                        "colorscale": [
                          [
                            0,
                            "#0d0887"
                          ],
                          [
                            0.1111111111111111,
                            "#46039f"
                          ],
                          [
                            0.2222222222222222,
                            "#7201a8"
                          ],
                          [
                            0.3333333333333333,
                            "#9c179e"
                          ],
                          [
                            0.4444444444444444,
                            "#bd3786"
                          ],
                          [
                            0.5555555555555556,
                            "#d8576b"
                          ],
                          [
                            0.6666666666666666,
                            "#ed7953"
                          ],
                          [
                            0.7777777777777778,
                            "#fb9f3a"
                          ],
                          [
                            0.8888888888888888,
                            "#fdca26"
                          ],
                          [
                            1,
                            "#f0f921"
                          ]
                        ],
                        "type": "surface"
                      }
                    ],
                    "table": [
                      {
                        "cells": {
                          "fill": {
                            "color": "#EBF0F8"
                          },
                          "line": {
                            "color": "white"
                          }
                        },
                        "header": {
                          "fill": {
                            "color": "#C8D4E3"
                          },
                          "line": {
                            "color": "white"
                          }
                        },
                        "type": "table"
                      }
                    ]
                  },
                  "layout": {
                    "annotationdefaults": {
                      "arrowcolor": "#2a3f5f",
                      "arrowhead": 0,
                      "arrowwidth": 1
                    },
                    "autotypenumbers": "strict",
                    "coloraxis": {
                      "colorbar": {
                        "outlinewidth": 0,
                        "ticks": ""
                      }
                    },
                    "colorscale": {
                      "diverging": [
                        [
                          0,
                          "#8e0152"
                        ],
                        [
                          0.1,
                          "#c51b7d"
                        ],
                        [
                          0.2,
                          "#de77ae"
                        ],
                        [
                          0.3,
                          "#f1b6da"
                        ],
                        [
                          0.4,
                          "#fde0ef"
                        ],
                        [
                          0.5,
                          "#f7f7f7"
                        ],
                        [
                          0.6,
                          "#e6f5d0"
                        ],
                        [
                          0.7,
                          "#b8e186"
                        ],
                        [
                          0.8,
                          "#7fbc41"
                        ],
                        [
                          0.9,
                          "#4d9221"
                        ],
                        [
                          1,
                          "#276419"
                        ]
                      ],
                      "sequential": [
                        [
                          0,
                          "#0d0887"
                        ],
                        [
                          0.1111111111111111,
                          "#46039f"
                        ],
                        [
                          0.2222222222222222,
                          "#7201a8"
                        ],
                        [
                          0.3333333333333333,
                          "#9c179e"
                        ],
                        [
                          0.4444444444444444,
                          "#bd3786"
                        ],
                        [
                          0.5555555555555556,
                          "#d8576b"
                        ],
                        [
                          0.6666666666666666,
                          "#ed7953"
                        ],
                        [
                          0.7777777777777778,
                          "#fb9f3a"
                        ],
                        [
                          0.8888888888888888,
                          "#fdca26"
                        ],
                        [
                          1,
                          "#f0f921"
                        ]
                      ],
                      "sequentialminus": [
                        [
                          0,
                          "#0d0887"
                        ],
                        [
                          0.1111111111111111,
                          "#46039f"
                        ],
                        [
                          0.2222222222222222,
                          "#7201a8"
                        ],
                        [
                          0.3333333333333333,
                          "#9c179e"
                        ],
                        [
                          0.4444444444444444,
                          "#bd3786"
                        ],
                        [
                          0.5555555555555556,
                          "#d8576b"
                        ],
                        [
                          0.6666666666666666,
                          "#ed7953"
                        ],
                        [
                          0.7777777777777778,
                          "#fb9f3a"
                        ],
                        [
                          0.8888888888888888,
                          "#fdca26"
                        ],
                        [
                          1,
                          "#f0f921"
                        ]
                      ]
                    },
                    "colorway": [
                      "#636efa",
                      "#EF553B",
                      "#00cc96",
                      "#ab63fa",
                      "#FFA15A",
                      "#19d3f3",
                      "#FF6692",
                      "#B6E880",
                      "#FF97FF",
                      "#FECB52"
                    ],
                    "font": {
                      "color": "#2a3f5f"
                    },
                    "geo": {
                      "bgcolor": "white",
                      "lakecolor": "white",
                      "landcolor": "#E5ECF6",
                      "showlakes": true,
                      "showland": true,
                      "subunitcolor": "white"
                    },
                    "hoverlabel": {
                      "align": "left"
                    },
                    "hovermode": "closest",
                    "mapbox": {
                      "style": "light"
                    },
                    "paper_bgcolor": "white",
                    "plot_bgcolor": "#E5ECF6",
                    "polar": {
                      "angularaxis": {
                        "gridcolor": "white",
                        "linecolor": "white",
                        "ticks": ""
                      },
                      "bgcolor": "#E5ECF6",
                      "radialaxis": {
                        "gridcolor": "white",
                        "linecolor": "white",
                        "ticks": ""
                      }
                    },
                    "scene": {
                      "xaxis": {
                        "backgroundcolor": "#E5ECF6",
                        "gridcolor": "white",
                        "gridwidth": 2,
                        "linecolor": "white",
                        "showbackground": true,
                        "ticks": "",
                        "zerolinecolor": "white"
                      },
                      "yaxis": {
                        "backgroundcolor": "#E5ECF6",
                        "gridcolor": "white",
                        "gridwidth": 2,
                        "linecolor": "white",
                        "showbackground": true,
                        "ticks": "",
                        "zerolinecolor": "white"
                      },
                      "zaxis": {
                        "backgroundcolor": "#E5ECF6",
                        "gridcolor": "white",
                        "gridwidth": 2,
                        "linecolor": "white",
                        "showbackground": true,
                        "ticks": "",
                        "zerolinecolor": "white"
                      }
                    },
                    "shapedefaults": {
                      "line": {
                        "color": "#2a3f5f"
                      }
                    },
                    "ternary": {
                      "aaxis": {
                        "gridcolor": "white",
                        "linecolor": "white",
                        "ticks": ""
                      },
                      "baxis": {
                        "gridcolor": "white",
                        "linecolor": "white",
                        "ticks": ""
                      },
                      "bgcolor": "#E5ECF6",
                      "caxis": {
                        "gridcolor": "white",
                        "linecolor": "white",
                        "ticks": ""
                      }
                    },
                    "title": {
                      "x": 0.05
                    },
                    "xaxis": {
                      "automargin": true,
                      "gridcolor": "white",
                      "linecolor": "white",
                      "ticks": "",
                      "title": {
                        "standoff": 15
                      },
                      "zerolinecolor": "white",
                      "zerolinewidth": 2
                    },
                    "yaxis": {
                      "automargin": true,
                      "gridcolor": "white",
                      "linecolor": "white",
                      "ticks": "",
                      "title": {
                        "standoff": 15
                      },
                      "zerolinecolor": "white",
                      "zerolinewidth": 2
                    }
                  }
                },
                "title": {
                  "text": "Intermediate Values Plot"
                },
                "xaxis": {
                  "title": {
                    "text": "Step"
                  }
                },
                "yaxis": {
                  "title": {
                    "text": "Intermediate Value"
                  }
                }
              }
            }
          },
          "metadata": {},
          "output_type": "display_data"
        }
      ],
      "source": [
        "#Pruning history\n",
        "optuna.visualization.plot_intermediate_values(study)"
      ]
    },
    {
      "cell_type": "code",
      "execution_count": 184,
      "metadata": {},
      "outputs": [],
      "source": [
        "############################\n",
        "############################\n",
        "#Run with the best params\n",
        "############################\n",
        "############################"
      ]
    },
    {
      "cell_type": "code",
      "execution_count": 185,
      "metadata": {},
      "outputs": [],
      "source": [
        "#define model\n",
        "model=make_net(number_features=X.shape[1],# number of columns/features in training data\n",
        "            hidden_layers=2,\n",
        "            hidden_layer_neurons=20,\n",
        "            dropout=0.0\n",
        "            )"
      ]
    },
    {
      "cell_type": "code",
      "execution_count": 186,
      "metadata": {},
      "outputs": [],
      "source": [
        "#stop iterations at the best=before it starts overfitting\n",
        "from keras import callbacks \n",
        "\n",
        "early_stopping=callbacks.EarlyStopping(patience=20)\n",
        "\n",
        "#fit model\n",
        "#store data from computing in history\n",
        "hist=model.fit(X_train, y_train, \n",
        "                validation_data=(X_test, y_test),\n",
        "                epochs=100, \n",
        "                batch_size = 64,\n",
        "                callbacks=[early_stopping],\n",
        "                verbose=0\n",
        "                )"
      ]
    },
    {
      "cell_type": "code",
      "execution_count": 187,
      "metadata": {},
      "outputs": [
        {
          "name": "stdout",
          "output_type": "stream",
          "text": [
            "21/21 [==============================] - 0s 2ms/step\n",
            "Accuracy on training data: 84.88 %\n",
            "7/7 [==============================] - 0s 2ms/step\n",
            "Accuracy on test data: 78.48 %\n",
            "Diference(train-test): 6.4 %\n"
          ]
        }
      ],
      "source": [
        "print_accuracy(model)"
      ]
    },
    {
      "cell_type": "code",
      "execution_count": 188,
      "metadata": {},
      "outputs": [
        {
          "data": {
            "image/png": "[encoded data removed]",
            "text/plain": [
              "<Figure size 640x480 with 1 Axes>"
            ]
          },
          "metadata": {},
          "output_type": "display_data"
        }
      ],
      "source": [
        "plot_training(hist.history)"
      ]
    },
    {
      "cell_type": "code",
      "execution_count": 189,
      "metadata": {},
      "outputs": [],
      "source": [
        "############################\n",
        "############################\n",
        "#POST-PROCESSING - KAGGLE\n",
        "############################\n",
        "############################"
      ]
    },
    {
      "cell_type": "code",
      "execution_count": 190,
      "metadata": {},
      "outputs": [
        {
          "name": "stdout",
          "output_type": "stream",
          "text": [
            "Used scaled data!!\n"
          ]
        }
      ],
      "source": [
        "#scale and split data\n",
        "X_real_test_Id= pd.read_csv('test.csv', usecols=[\"PassengerId\"])\n",
        "\n",
        "if scale==False:\n",
        "     X_real_test = df_test\n",
        "     print('Used NOT scaled data!')\n",
        "\n",
        "elif scale==True:\n",
        "    X_real_test = X_test_np_scaled\n",
        "    print('Used scaled data!!')"
      ]
    },
    {
      "cell_type": "code",
      "execution_count": 191,
      "metadata": {},
      "outputs": [
        {
          "name": "stdout",
          "output_type": "stream",
          "text": [
            "14/14 [==============================] - 0s 2ms/step\n"
          ]
        }
      ],
      "source": [
        "#fit the data on training data with the best parameters from the hyperparametr tunning\n",
        "\n",
        "m=model\n",
        "\n",
        "#predict data from the test data\n",
        "test_pred = m.predict(X_real_test)\n",
        "\n",
        "#craeate dataframe for submission\n",
        "df_newsub = X_real_test_Id.copy()\n",
        "df_newsub['Survived'] = [1 if x >= 0.5 else 0 for x in test_pred]\n",
        "\n"
      ]
    },
    {
      "cell_type": "code",
      "execution_count": 192,
      "metadata": {},
      "outputs": [],
      "source": [
        "#write data to sumbmission csv\n",
        "df_newsub.to_csv(\"TIT-03.csv\", index = False)"
      ]
    },
    {
      "cell_type": "code",
      "execution_count": 193,
      "metadata": {},
      "outputs": [],
      "source": [
        "############################\n",
        "############################\n",
        "#Export model using JOBLIP\n",
        "############################\n",
        "############################"
      ]
    },
    {
      "cell_type": "code",
      "execution_count": 194,
      "metadata": {},
      "outputs": [
        {
          "data": {
            "text/plain": [
              "['NN-scaled-4lay-30neu.pkl']"
            ]
          },
          "execution_count": 194,
          "metadata": {},
          "output_type": "execute_result"
        }
      ],
      "source": [
        "# Save model\n",
        "import joblib\n",
        "\n",
        "joblib.dump(model, filename='NN-scaled-4lay-30neu.pkl')"
      ]
    }
  ],
  "metadata": {
    "colab": {
      "provenance": []
    },
    "kernelspec": {
      "display_name": "Python 3.10.2 64-bit",
      "language": "python",
      "name": "python3"
    },
    "language_info": {
      "codemirror_mode": {
        "name": "ipython",
        "version": 3
      },
      "file_extension": ".py",
      "mimetype": "text/x-python",
      "name": "python",
      "nbconvert_exporter": "python",
      "pygments_lexer": "ipython3",
      "version": "3.10.10"
    },
    "vscode": {
      "interpreter": {
        "hash": "753474b4a2bb786306e5fa92cd0ba706501d65a2270c4542fb79b1eebafe4162"
      }
    }
  },
  "nbformat": 4,
  "nbformat_minor": 0
}
