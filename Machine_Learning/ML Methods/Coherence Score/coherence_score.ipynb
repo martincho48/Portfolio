{
 "cells": [
  {
   "cell_type": "code",
   "execution_count": 109,
   "metadata": {},
   "outputs": [],
   "source": [
    "import pandas as pd\n",
    "import numpy as np\n",
    "\n",
    "import itertools"
   ]
  },
  {
   "cell_type": "markdown",
   "metadata": {},
   "source": [
    "**Corpus**"
   ]
  },
  {
   "cell_type": "code",
   "execution_count": 110,
   "metadata": {},
   "outputs": [],
   "source": [
    "corpus = [  \"The cat and the dog are friends.\",\n",
    "            \"The mouse ran away from the cat.\",\n",
    "            \"A dog loves to fetch a bone and chase a cat.\",\n",
    "            \"The cat and the mouse played together.\",\n",
    "            \"A mouse tried to escape from the cat.\",\n",
    "            \"A mouse didn't manage to escape and was killed by a cat.\"\n",
    "            ]"
   ]
  },
  {
   "cell_type": "markdown",
   "metadata": {},
   "source": [
    "**Topics**"
   ]
  },
  {
   "cell_type": "code",
   "execution_count": 111,
   "metadata": {},
   "outputs": [
    {
     "data": {
      "text/plain": [
       "['cat dog chase', 'mouse cat escape']"
      ]
     },
     "execution_count": 111,
     "metadata": {},
     "output_type": "execute_result"
    }
   ],
   "source": [
    "topics = ['cat dog chase', 'mouse cat escape']\n",
    "topics"
   ]
  },
  {
   "cell_type": "markdown",
   "metadata": {},
   "source": [
    "**Tokenize Topic words and create bigrams**"
   ]
  },
  {
   "cell_type": "code",
   "execution_count": 112,
   "metadata": {},
   "outputs": [
    {
     "data": {
      "text/plain": [
       "[[('cat', 'dog'), ('cat', 'chase'), ('dog', 'chase')],\n",
       " [('mouse', 'cat'), ('mouse', 'escape'), ('cat', 'escape')]]"
      ]
     },
     "execution_count": 112,
     "metadata": {},
     "output_type": "execute_result"
    }
   ],
   "source": [
    "bigrams=[]\n",
    "counter=0\n",
    "\n",
    "for topic in topics:\n",
    "\n",
    "    pokus = topics[counter].split()\n",
    "\n",
    "    combinations = list(itertools.combinations(pokus, 2))\n",
    "    bigrams.append(combinations)\n",
    "\n",
    "    counter+=1\n",
    "\n",
    "bigrams"
   ]
  },
  {
   "cell_type": "markdown",
   "metadata": {},
   "source": [
    "**Calculate the probabilities and confirmation measure**"
   ]
  },
  {
   "cell_type": "code",
   "execution_count": 113,
   "metadata": {},
   "outputs": [],
   "source": [
    "def calculate_confirmation_measure(corpus, bigram):\n",
    "    bigram_count = 0\n",
    "    n_sentences = len(corpus)\n",
    "\n",
    "    for document in corpus:\n",
    "        # Tokenize the sentence\n",
    "        words = document.split()\n",
    "\n",
    "        # Check if the target pair occurs in the document\n",
    "        if bigram[0] in words and bigram[1] in words:\n",
    "            bigram_count += 1\n",
    "\n",
    "\n",
    "    # Calculate the probalities\n",
    "    probability_ab = bigram_count / n_sentences\n",
    "    probability_a = corpus.count(bigram[0]) / n_sentences\n",
    "    probability_b = corpus.count(bigram[1]) / n_sentences\n",
    "\n",
    "\n",
    "    # Calculate the confirmation measure\n",
    "    confirmation_measure = probability_ab - (probability_a * probability_b)\n",
    "\n",
    "    return confirmation_measure"
   ]
  },
  {
   "cell_type": "code",
   "execution_count": 114,
   "metadata": {},
   "outputs": [
    {
     "data": {
      "text/html": [
       "<div>\n",
       "<style scoped>\n",
       "    .dataframe tbody tr th:only-of-type {\n",
       "        vertical-align: middle;\n",
       "    }\n",
       "\n",
       "    .dataframe tbody tr th {\n",
       "        vertical-align: top;\n",
       "    }\n",
       "\n",
       "    .dataframe thead th {\n",
       "        text-align: right;\n",
       "    }\n",
       "</style>\n",
       "<table border=\"1\" class=\"dataframe\">\n",
       "  <thead>\n",
       "    <tr style=\"text-align: right;\">\n",
       "      <th></th>\n",
       "      <th>combination</th>\n",
       "      <th>confirmation measure</th>\n",
       "    </tr>\n",
       "  </thead>\n",
       "  <tbody>\n",
       "    <tr>\n",
       "      <th>0</th>\n",
       "      <td>('cat', 'dog')</td>\n",
       "      <td>0.166667</td>\n",
       "    </tr>\n",
       "    <tr>\n",
       "      <th>1</th>\n",
       "      <td>('cat', 'chase')</td>\n",
       "      <td>0.000000</td>\n",
       "    </tr>\n",
       "    <tr>\n",
       "      <th>2</th>\n",
       "      <td>('dog', 'chase')</td>\n",
       "      <td>0.166667</td>\n",
       "    </tr>\n",
       "    <tr>\n",
       "      <th>3</th>\n",
       "      <td>('mouse', 'cat')</td>\n",
       "      <td>0.166667</td>\n",
       "    </tr>\n",
       "    <tr>\n",
       "      <th>4</th>\n",
       "      <td>('mouse', 'escape')</td>\n",
       "      <td>0.333333</td>\n",
       "    </tr>\n",
       "    <tr>\n",
       "      <th>5</th>\n",
       "      <td>('cat', 'escape')</td>\n",
       "      <td>0.000000</td>\n",
       "    </tr>\n",
       "  </tbody>\n",
       "</table>\n",
       "</div>"
      ],
      "text/plain": [
       "           combination  confirmation measure\n",
       "0       ('cat', 'dog')              0.166667\n",
       "1     ('cat', 'chase')              0.000000\n",
       "2     ('dog', 'chase')              0.166667\n",
       "3     ('mouse', 'cat')              0.166667\n",
       "4  ('mouse', 'escape')              0.333333\n",
       "5    ('cat', 'escape')              0.000000"
      ]
     },
     "execution_count": 114,
     "metadata": {},
     "output_type": "execute_result"
    }
   ],
   "source": [
    "# iterate over the bigrams = tuples\n",
    "results = pd.DataFrame()\n",
    "counter=0\n",
    "\n",
    "for outer_tuple in bigrams:\n",
    "    for inner_tuple in outer_tuple:\n",
    "\n",
    "        # Calculate confirmation measure\n",
    "        confirmation_measure = calculate_confirmation_measure(corpus, inner_tuple)\n",
    "\n",
    "        #  Add into a df\n",
    "        results.loc[counter,'combination']=str(inner_tuple)\n",
    "        results.loc[counter,'confirmation measure']=confirmation_measure\n",
    "\n",
    "        counter+=1\n",
    "results"
   ]
  },
  {
   "cell_type": "markdown",
   "metadata": {},
   "source": [
    "**Aggregations**"
   ]
  },
  {
   "cell_type": "code",
   "execution_count": 115,
   "metadata": {},
   "outputs": [
    {
     "data": {
      "text/plain": [
       "0.139"
      ]
     },
     "execution_count": 115,
     "metadata": {},
     "output_type": "execute_result"
    }
   ],
   "source": [
    "final_coherence_score = round(results['confirmation measure'].mean(), 3)\n",
    "final_coherence_score"
   ]
  }
 ],
 "metadata": {
  "kernelspec": {
   "display_name": "venv_portfolio-hkOMkeu3",
   "language": "python",
   "name": "python3"
  },
  "language_info": {
   "codemirror_mode": {
    "name": "ipython",
    "version": 3
   },
   "file_extension": ".py",
   "mimetype": "text/x-python",
   "name": "python",
   "nbconvert_exporter": "python",
   "pygments_lexer": "ipython3",
   "version": "3.10.10"
  }
 },
 "nbformat": 4,
 "nbformat_minor": 2
}
