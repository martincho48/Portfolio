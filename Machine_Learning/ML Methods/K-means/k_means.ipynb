{
 "cells": [
  {
   "cell_type": "code",
   "execution_count": 285,
   "metadata": {},
   "outputs": [],
   "source": [
    "import pandas as pd\n",
    "import numpy as np\n",
    "\n",
    "import matplotlib.pyplot as plt\n",
    "import seaborn as sns"
   ]
  },
  {
   "cell_type": "markdown",
   "metadata": {},
   "source": [
    "**Data**"
   ]
  },
  {
   "cell_type": "code",
   "execution_count": 286,
   "metadata": {},
   "outputs": [
    {
     "data": {
      "text/html": [
       "<div>\n",
       "<style scoped>\n",
       "    .dataframe tbody tr th:only-of-type {\n",
       "        vertical-align: middle;\n",
       "    }\n",
       "\n",
       "    .dataframe tbody tr th {\n",
       "        vertical-align: top;\n",
       "    }\n",
       "\n",
       "    .dataframe thead th {\n",
       "        text-align: right;\n",
       "    }\n",
       "</style>\n",
       "<table border=\"1\" class=\"dataframe\">\n",
       "  <thead>\n",
       "    <tr style=\"text-align: right;\">\n",
       "      <th></th>\n",
       "      <th>x</th>\n",
       "      <th>y</th>\n",
       "    </tr>\n",
       "  </thead>\n",
       "  <tbody>\n",
       "    <tr>\n",
       "      <th>0</th>\n",
       "      <td>5</td>\n",
       "      <td>0</td>\n",
       "    </tr>\n",
       "    <tr>\n",
       "      <th>1</th>\n",
       "      <td>10</td>\n",
       "      <td>0</td>\n",
       "    </tr>\n",
       "    <tr>\n",
       "      <th>2</th>\n",
       "      <td>25</td>\n",
       "      <td>0</td>\n",
       "    </tr>\n",
       "    <tr>\n",
       "      <th>3</th>\n",
       "      <td>30</td>\n",
       "      <td>0</td>\n",
       "    </tr>\n",
       "    <tr>\n",
       "      <th>4</th>\n",
       "      <td>35</td>\n",
       "      <td>0</td>\n",
       "    </tr>\n",
       "  </tbody>\n",
       "</table>\n",
       "</div>"
      ],
      "text/plain": [
       "    x  y\n",
       "0   5  0\n",
       "1  10  0\n",
       "2  25  0\n",
       "3  30  0\n",
       "4  35  0"
      ]
     },
     "execution_count": 286,
     "metadata": {},
     "output_type": "execute_result"
    }
   ],
   "source": [
    "df = pd.DataFrame({     'x': [5, 10, 25, 30, 35 ],\n",
    "                        'y': [0, 0, 0, 0, 0]\n",
    "                    })\n",
    "df"
   ]
  },
  {
   "cell_type": "markdown",
   "metadata": {},
   "source": [
    "**Create an array from dataframe**"
   ]
  },
  {
   "cell_type": "code",
   "execution_count": 287,
   "metadata": {},
   "outputs": [
    {
     "data": {
      "text/plain": [
       "array([[ 5,  0],\n",
       "       [10,  0],\n",
       "       [25,  0],\n",
       "       [30,  0],\n",
       "       [35,  0]], dtype=int64)"
      ]
     },
     "execution_count": 287,
     "metadata": {},
     "output_type": "execute_result"
    }
   ],
   "source": [
    "# slice the df\n",
    "df_arr = df[['x', 'y']]\n",
    "\n",
    "# Convert DataFrame to numpy array\n",
    "arr = df_arr.values\n",
    "arr"
   ]
  },
  {
   "cell_type": "markdown",
   "metadata": {},
   "source": [
    "**Define number of clusters**"
   ]
  },
  {
   "cell_type": "code",
   "execution_count": 288,
   "metadata": {},
   "outputs": [],
   "source": [
    "k=2"
   ]
  },
  {
   "cell_type": "code",
   "execution_count": 289,
   "metadata": {},
   "outputs": [
    {
     "data": {
      "text/plain": [
       "[0, 1]"
      ]
     },
     "execution_count": 289,
     "metadata": {},
     "output_type": "execute_result"
    }
   ],
   "source": [
    "# label the clusters\n",
    "unique_values = [0, 1]\n",
    "unique_values"
   ]
  },
  {
   "cell_type": "markdown",
   "metadata": {},
   "source": [
    "**Select/define centroids**"
   ]
  },
  {
   "cell_type": "code",
   "execution_count": 290,
   "metadata": {},
   "outputs": [],
   "source": [
    "\"\"\" # random centroids\n",
    "centroids = np.random.randint(1000, size=(3,2))\n",
    "centroids \"\"\"\n",
    "\n",
    "\n",
    "\"\"\" # select rows\n",
    "selected_centroids = [3, 6]\n",
    "\n",
    "# slice the array\n",
    "centroids = arr[selected_centroids]\n",
    "centroids \"\"\"\n",
    "\n",
    "\n",
    "\n",
    "centroids = np.array([[15,0],\n",
    "                      [20,0]\n",
    "                      ])\n"
   ]
  },
  {
   "cell_type": "code",
   "execution_count": 291,
   "metadata": {},
   "outputs": [
    {
     "data": {
      "text/plain": [
       "15"
      ]
     },
     "execution_count": 291,
     "metadata": {},
     "output_type": "execute_result"
    }
   ],
   "source": [
    "centroids[0,0]"
   ]
  },
  {
   "cell_type": "markdown",
   "metadata": {},
   "source": [
    "**Display data points and centroids**"
   ]
  },
  {
   "cell_type": "code",
   "execution_count": 292,
   "metadata": {},
   "outputs": [
    {
     "data": {
      "image/png": "[encoded data removed]",
      "text/plain": [
       "<Figure size 1000x400 with 1 Axes>"
      ]
     },
     "metadata": {},
     "output_type": "display_data"
    }
   ],
   "source": [
    "# Creating the figure and axes for a single subplot\n",
    "fig, ax = plt.subplots(figsize=(10, 4))\n",
    "\n",
    "# Creating the scatterplot\n",
    "chart = sns.scatterplot(data=df, x='x', y='y', \n",
    "                        hue='x', palette='dark', s=50)\n",
    "\n",
    "# Adding centroids to the plot\n",
    "ax.scatter(centroids[0, 0], centroids[0, 1], marker='*', s=200, c=\"blue\")\n",
    "ax.scatter(centroids[1, 0], centroids[1, 1], marker='*', s=200, c=\"red\")\n",
    "\n",
    "\n",
    "# Adding title and axis names\n",
    "ax.set(title='KMeans Clustering', xlabel='X-axis', ylabel='Y-axis')\n",
    "\n",
    "# Adding grid\n",
    "ax.grid(True)\n",
    "\n",
    "plt.show()"
   ]
  },
  {
   "cell_type": "markdown",
   "metadata": {},
   "source": [
    "**Calculate distance between centroids and the points**"
   ]
  },
  {
   "cell_type": "markdown",
   "metadata": {},
   "source": [
    "![chart](chart.png)"
   ]
  },
  {
   "cell_type": "markdown",
   "metadata": {},
   "source": [
    "![equation](dist.png)"
   ]
  },
  {
   "cell_type": "code",
   "execution_count": 293,
   "metadata": {},
   "outputs": [],
   "source": [
    "\"\"\" \n",
    "1. calculate the distances for a centroid\n",
    "2. append them into a list\n",
    "3. concatenate all columns=number of centroids, into an array\n",
    "\"\"\"\n",
    "\n",
    "def calculate_distances(X, centroids) -> np.array:\n",
    "\n",
    "    final_list=[]\n",
    "\n",
    "    for i in range(centroids.shape[0]):\n",
    "        distances = np.sqrt((X[:, 0] - centroids[i, 0]) ** 2 + \n",
    "                            (X[:, 1] - centroids[i, 1]) ** 2)\n",
    "        \n",
    "        distances = distances.reshape(-1, 1)\n",
    "\n",
    "        final_list.append(distances)\n",
    "\n",
    "    final = np.concatenate(final_list, axis=1)\n",
    "\n",
    "    return final"
   ]
  },
  {
   "cell_type": "code",
   "execution_count": 294,
   "metadata": {},
   "outputs": [
    {
     "data": {
      "text/plain": [
       "array([[10., 15.],\n",
       "       [ 5., 10.],\n",
       "       [10.,  5.],\n",
       "       [15., 10.],\n",
       "       [20., 15.]])"
      ]
     },
     "execution_count": 294,
     "metadata": {},
     "output_type": "execute_result"
    }
   ],
   "source": [
    "# matrix of distances for 2 centroids\n",
    "arr_new = calculate_distances(arr, centroids)\n",
    "arr_new"
   ]
  },
  {
   "cell_type": "code",
   "execution_count": 295,
   "metadata": {},
   "outputs": [
    {
     "data": {
      "text/plain": [
       "(5, 2)"
      ]
     },
     "execution_count": 295,
     "metadata": {},
     "output_type": "execute_result"
    }
   ],
   "source": [
    "arr_new.shape"
   ]
  },
  {
   "cell_type": "markdown",
   "metadata": {},
   "source": [
    "**Assign points to the clusters = find the min distance in a row**"
   ]
  },
  {
   "cell_type": "code",
   "execution_count": 296,
   "metadata": {},
   "outputs": [
    {
     "data": {
      "text/plain": [
       "array([[0],\n",
       "       [0],\n",
       "       [1],\n",
       "       [1],\n",
       "       [1]], dtype=int64)"
      ]
     },
     "execution_count": 296,
     "metadata": {},
     "output_type": "execute_result"
    }
   ],
   "source": [
    "''' \n",
    "find the min value in a array row and return the number of column in which was the value found\n",
    "'''\n",
    "\n",
    "cluster_num = np.argmin(arr_new,axis=1).reshape(-1, 1)\n",
    "\n",
    "cluster_num"
   ]
  },
  {
   "cell_type": "markdown",
   "metadata": {},
   "source": [
    "**Calculate the new centroids**"
   ]
  },
  {
   "cell_type": "code",
   "execution_count": 297,
   "metadata": {},
   "outputs": [
    {
     "data": {
      "text/plain": [
       "array([[ 5,  0,  0],\n",
       "       [10,  0,  0],\n",
       "       [25,  0,  1],\n",
       "       [30,  0,  1],\n",
       "       [35,  0,  1]], dtype=int64)"
      ]
     },
     "execution_count": 297,
     "metadata": {},
     "output_type": "execute_result"
    }
   ],
   "source": [
    "# Concatenate original array with cluster array\n",
    "merged_array = np.concatenate((arr, cluster_num), axis=1)\n",
    "merged_array"
   ]
  },
  {
   "cell_type": "code",
   "execution_count": 298,
   "metadata": {},
   "outputs": [],
   "source": [
    "# filter array - due to the plotting reasons\n",
    "\n",
    "\n",
    "arr_1 = merged_array[merged_array[:,-1]==0].copy()\n",
    "arr_1 = arr_1[:,:2]\n",
    "\n",
    "\n",
    "\n",
    "\n",
    "arr_2 = merged_array[merged_array[:,-1]==1].copy()\n",
    "arr_2 = arr_2[:,:2]"
   ]
  },
  {
   "cell_type": "code",
   "execution_count": 299,
   "metadata": {},
   "outputs": [],
   "source": [
    "def new_centroids(unique_values, merged_array):\n",
    "\n",
    "        # Filter the array\n",
    "        new_list=[]\n",
    "\n",
    "        for i in unique_values:\n",
    "                \n",
    "                filtered_array = merged_array[merged_array[:,-1]==i].copy()\n",
    "\n",
    "                #print(filtered_array)\n",
    "\n",
    "                filtered_array=np.mean(filtered_array, axis=0)\n",
    "\n",
    "                new_list.append(filtered_array)\n",
    "                new_centroids_arr = np.concatenate([new_list], axis=0)\n",
    "                \n",
    "        return new_centroids_arr"
   ]
  },
  {
   "cell_type": "code",
   "execution_count": 300,
   "metadata": {},
   "outputs": [
    {
     "data": {
      "text/plain": [
       "array([[ 7.5,  0. ],\n",
       "       [30. ,  0. ]])"
      ]
     },
     "execution_count": 300,
     "metadata": {},
     "output_type": "execute_result"
    }
   ],
   "source": [
    "new_centroids_arr = new_centroids(unique_values, merged_array)\n",
    "\n",
    "# Slice off the last column\n",
    "new_centroids_arr = new_centroids_arr[:, :2]\n",
    "new_centroids_arr"
   ]
  },
  {
   "cell_type": "markdown",
   "metadata": {},
   "source": [
    "**Plot clustered datapoints and centroids**"
   ]
  },
  {
   "cell_type": "code",
   "execution_count": 313,
   "metadata": {},
   "outputs": [],
   "source": [
    "def kmeans_charts(arr_1: np.array, arr_2: np.array, centroids: np.array):\n",
    "\n",
    "    # Creating the figure and axes for a single subplot\n",
    "    fig, ax = plt.subplots(figsize=(10, 4))\n",
    "\n",
    "    # Creating scatterplot for the first dataset\n",
    "    sns.scatterplot(x=arr_1[:,0], y=arr_1[:,1], s=70, marker='s', c=\"green\")\n",
    "\n",
    "\n",
    "    # Creating scatterplot for the second dataset\n",
    "    sns.scatterplot(x=arr_2[:,0], y=arr_2[:,1], s=70, marker='s', c=\"brown\")\n",
    "\n",
    "\n",
    "    # Adding centroids to the plot\n",
    "    ax.scatter(centroids[0, 0], centroids[0, 1], marker='*', s=200, c=\"blue\")\n",
    "    ax.scatter(centroids[1, 0], centroids[1, 1], marker='*', s=200, c=\"red\")\n",
    "\n",
    "    # Adding title and axis names\n",
    "    ax.set(title='KMeans Clustering', xlabel='X-axis', ylabel='Y-axis')\n",
    "\n",
    "    # Adding grid\n",
    "    ax.grid(True)\n",
    "\n",
    "    plt.show()"
   ]
  },
  {
   "cell_type": "code",
   "execution_count": 314,
   "metadata": {},
   "outputs": [
    {
     "data": {
      "image/png": "[encoded data removed]",
      "text/plain": [
       "<Figure size 1000x400 with 1 Axes>"
      ]
     },
     "metadata": {},
     "output_type": "display_data"
    }
   ],
   "source": [
    "kmeans_charts(arr_1, arr_2, new_centroids_arr)"
   ]
  },
  {
   "cell_type": "markdown",
   "metadata": {},
   "source": [
    "# Part 2 - Repeat interations "
   ]
  },
  {
   "cell_type": "code",
   "execution_count": 303,
   "metadata": {},
   "outputs": [],
   "source": [
    "n_iterations = 3"
   ]
  },
  {
   "cell_type": "code",
   "execution_count": 304,
   "metadata": {},
   "outputs": [
    {
     "name": "stdout",
     "output_type": "stream",
     "text": [
      "[[ 7.5  0. ]\n",
      " [30.   0. ]]\n",
      "[[ 7.5  0. ]\n",
      " [30.   0. ]]\n",
      "[[ 7.5  0. ]\n",
      " [30.   0. ]]\n"
     ]
    }
   ],
   "source": [
    "for i in range(n_iterations):\n",
    "\n",
    "\n",
    "    # Calculate distances\n",
    "    arr_new = calculate_distances(arr, new_centroids_arr)\n",
    "\n",
    "    # Choose min value in a row and get a number of column=centroid where the min value was\n",
    "    cluster_num = np.argmin(arr_new, axis=1).reshape(-1, 1)\n",
    "\n",
    "\n",
    "    # Merge min value with original array=points\n",
    "    merged_array = np.concatenate((arr, cluster_num), axis=1)\n",
    "    \n",
    "\n",
    "    # Calculate new centroids\n",
    "    new_centroids_arr = new_centroids(unique_values, merged_array)\n",
    "    \n",
    "\n",
    "    # Slice off the last column\n",
    "    new_centroids_arr = new_centroids_arr[:, :2]\n",
    "\n",
    "    print(new_centroids_arr)\n",
    "\n",
    "\n",
    "    # Add chart\n",
    "    #TODO add chart\n",
    "\n",
    "    #TODO calculate difference between clusters - add to the df and calculate diffrence between last 2"
   ]
  }
 ],
 "metadata": {
  "kernelspec": {
   "display_name": "venv_3_10-jGfzHj9S",
   "language": "python",
   "name": "python3"
  },
  "language_info": {
   "codemirror_mode": {
    "name": "ipython",
    "version": 3
   },
   "file_extension": ".py",
   "mimetype": "text/x-python",
   "name": "python",
   "nbconvert_exporter": "python",
   "pygments_lexer": "ipython3",
   "version": "3.10.10"
  }
 },
 "nbformat": 4,
 "nbformat_minor": 2
}
