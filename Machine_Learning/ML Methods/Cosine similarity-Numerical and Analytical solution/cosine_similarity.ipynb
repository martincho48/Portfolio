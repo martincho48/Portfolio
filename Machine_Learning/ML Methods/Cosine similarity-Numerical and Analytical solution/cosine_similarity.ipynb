{
 "cells": [
  {
   "cell_type": "code",
   "execution_count": 2,
   "metadata": {},
   "outputs": [],
   "source": [
    "from sklearn.feature_extraction.text import CountVectorizer\n",
    "from sklearn.metrics.pairwise import cosine_similarity\n",
    "\n",
    "#Example sets of words\n",
    "set1 = \"apple banana orange\"\n",
    "set2 = \"apple banana grape\"\n",
    "set3 = \"mango lemon grape\"\n",
    "\n",
    "#Create a CountVectorizer\n",
    "vectorizer = CountVectorizer()\n",
    "\n",
    "#Fit and transform the sets\n",
    "vectorized_sets = vectorizer.fit_transform([set1, set2, set3])\n",
    "\n",
    "#Calculate cosine similarity\n",
    "cosine_sim = cosine_similarity(vectorized_sets)\n"
   ]
  },
  {
   "cell_type": "code",
   "execution_count": 6,
   "metadata": {},
   "outputs": [
    {
     "data": {
      "text/plain": [
       "array([[1, 1, 0, 0, 0, 1],\n",
       "       [1, 1, 1, 0, 0, 0],\n",
       "       [0, 0, 1, 1, 1, 0]], dtype=int64)"
      ]
     },
     "execution_count": 6,
     "metadata": {},
     "output_type": "execute_result"
    }
   ],
   "source": [
    "#Check matrix after tokenization\n",
    "X=vectorized_sets.toarray()\n",
    "X"
   ]
  },
  {
   "cell_type": "code",
   "execution_count": 7,
   "metadata": {},
   "outputs": [
    {
     "data": {
      "text/plain": [
       "array([[1.        , 0.66666667, 0.        ],\n",
       "       [0.66666667, 1.        , 0.33333333],\n",
       "       [0.        , 0.33333333, 1.        ]])"
      ]
     },
     "execution_count": 7,
     "metadata": {},
     "output_type": "execute_result"
    }
   ],
   "source": [
    "#Print the results\n",
    "cosine_sim"
   ]
  },
  {
   "cell_type": "code",
   "execution_count": 5,
   "metadata": {},
   "outputs": [
    {
     "name": "stdout",
     "output_type": "stream",
     "text": [
      "Set 1: apple banana orange\n",
      "Set 2: apple banana grape\n",
      "Set 3: mango lemon grape\n",
      "Cosine Similarity (set1-set1): 1.0\n",
      "Cosine Similarity (set1-set2): 0.67\n",
      "Cosine Similarity (set1-set3): 0.0\n"
     ]
    }
   ],
   "source": [
    "#Print the result\n",
    "print(\"Set 1:\", set1)\n",
    "print(\"Set 2:\", set2)\n",
    "print(\"Set 3:\", set3)\n",
    "print(\"Cosine Similarity (set1-set1):\", round(cosine_sim[0, 0],2))\n",
    "print(\"Cosine Similarity (set1-set2):\", round(cosine_sim[0, 1],2))\n",
    "print(\"Cosine Similarity (set1-set3):\", round(cosine_sim[0, 2],2))"
   ]
  }
 ],
 "metadata": {
  "kernelspec": {
   "display_name": "venv_portfolio-hkOMkeu3",
   "language": "python",
   "name": "python3"
  },
  "language_info": {
   "codemirror_mode": {
    "name": "ipython",
    "version": 3
   },
   "file_extension": ".py",
   "mimetype": "text/x-python",
   "name": "python",
   "nbconvert_exporter": "python",
   "pygments_lexer": "ipython3",
   "version": "3.10.10"
  }
 },
 "nbformat": 4,
 "nbformat_minor": 2
}
