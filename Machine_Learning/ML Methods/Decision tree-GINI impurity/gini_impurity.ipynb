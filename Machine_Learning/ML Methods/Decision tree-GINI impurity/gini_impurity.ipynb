{
 "cells": [
  {
   "cell_type": "code",
   "execution_count": 120,
   "metadata": {},
   "outputs": [],
   "source": [
    "import numpy as np\n",
    "import pandas as pd\n",
    "import matplotlib.pyplot as plt"
   ]
  },
  {
   "cell_type": "markdown",
   "metadata": {},
   "source": [
    "## Data"
   ]
  },
  {
   "cell_type": "markdown",
   "metadata": {},
   "source": [
    "#### Define data"
   ]
  },
  {
   "cell_type": "code",
   "execution_count": 121,
   "metadata": {},
   "outputs": [
    {
     "data": {
      "text/html": [
       "<div>\n",
       "<style scoped>\n",
       "    .dataframe tbody tr th:only-of-type {\n",
       "        vertical-align: middle;\n",
       "    }\n",
       "\n",
       "    .dataframe tbody tr th {\n",
       "        vertical-align: top;\n",
       "    }\n",
       "\n",
       "    .dataframe thead th {\n",
       "        text-align: right;\n",
       "    }\n",
       "</style>\n",
       "<table border=\"1\" class=\"dataframe\">\n",
       "  <thead>\n",
       "    <tr style=\"text-align: right;\">\n",
       "      <th></th>\n",
       "      <th>weight</th>\n",
       "      <th>size</th>\n",
       "    </tr>\n",
       "  </thead>\n",
       "  <tbody>\n",
       "    <tr>\n",
       "      <th>0</th>\n",
       "      <td>10</td>\n",
       "      <td>S</td>\n",
       "    </tr>\n",
       "    <tr>\n",
       "      <th>1</th>\n",
       "      <td>60</td>\n",
       "      <td>L</td>\n",
       "    </tr>\n",
       "    <tr>\n",
       "      <th>2</th>\n",
       "      <td>70</td>\n",
       "      <td>L</td>\n",
       "    </tr>\n",
       "    <tr>\n",
       "      <th>3</th>\n",
       "      <td>20</td>\n",
       "      <td>S</td>\n",
       "    </tr>\n",
       "    <tr>\n",
       "      <th>4</th>\n",
       "      <td>80</td>\n",
       "      <td>L</td>\n",
       "    </tr>\n",
       "    <tr>\n",
       "      <th>5</th>\n",
       "      <td>30</td>\n",
       "      <td>S</td>\n",
       "    </tr>\n",
       "  </tbody>\n",
       "</table>\n",
       "</div>"
      ],
      "text/plain": [
       "   weight size\n",
       "0      10    S\n",
       "1      60    L\n",
       "2      70    L\n",
       "3      20    S\n",
       "4      80    L\n",
       "5      30    S"
      ]
     },
     "execution_count": 121,
     "metadata": {},
     "output_type": "execute_result"
    }
   ],
   "source": [
    "df = pd.DataFrame({ 'weight': [10,60,70,20,80,30],\n",
    "                    'size':['S','L','L','S','L','S']\n",
    "                     })\n",
    "\n",
    "df"
   ]
  },
  {
   "cell_type": "markdown",
   "metadata": {},
   "source": [
    "#### Sort data"
   ]
  },
  {
   "cell_type": "code",
   "execution_count": 122,
   "metadata": {},
   "outputs": [
    {
     "data": {
      "text/html": [
       "<div>\n",
       "<style scoped>\n",
       "    .dataframe tbody tr th:only-of-type {\n",
       "        vertical-align: middle;\n",
       "    }\n",
       "\n",
       "    .dataframe tbody tr th {\n",
       "        vertical-align: top;\n",
       "    }\n",
       "\n",
       "    .dataframe thead th {\n",
       "        text-align: right;\n",
       "    }\n",
       "</style>\n",
       "<table border=\"1\" class=\"dataframe\">\n",
       "  <thead>\n",
       "    <tr style=\"text-align: right;\">\n",
       "      <th></th>\n",
       "      <th>weight</th>\n",
       "      <th>size</th>\n",
       "    </tr>\n",
       "  </thead>\n",
       "  <tbody>\n",
       "    <tr>\n",
       "      <th>0</th>\n",
       "      <td>10</td>\n",
       "      <td>S</td>\n",
       "    </tr>\n",
       "    <tr>\n",
       "      <th>1</th>\n",
       "      <td>20</td>\n",
       "      <td>S</td>\n",
       "    </tr>\n",
       "    <tr>\n",
       "      <th>2</th>\n",
       "      <td>30</td>\n",
       "      <td>S</td>\n",
       "    </tr>\n",
       "    <tr>\n",
       "      <th>3</th>\n",
       "      <td>60</td>\n",
       "      <td>L</td>\n",
       "    </tr>\n",
       "    <tr>\n",
       "      <th>4</th>\n",
       "      <td>70</td>\n",
       "      <td>L</td>\n",
       "    </tr>\n",
       "    <tr>\n",
       "      <th>5</th>\n",
       "      <td>80</td>\n",
       "      <td>L</td>\n",
       "    </tr>\n",
       "  </tbody>\n",
       "</table>\n",
       "</div>"
      ],
      "text/plain": [
       "   weight size\n",
       "0      10    S\n",
       "1      20    S\n",
       "2      30    S\n",
       "3      60    L\n",
       "4      70    L\n",
       "5      80    L"
      ]
     },
     "execution_count": 122,
     "metadata": {},
     "output_type": "execute_result"
    }
   ],
   "source": [
    "df = df.sort_values('weight').reset_index(drop=True)\n",
    "df"
   ]
  },
  {
   "cell_type": "markdown",
   "metadata": {},
   "source": [
    "## Calculate midpoints = max. possible depth"
   ]
  },
  {
   "cell_type": "code",
   "execution_count": 123,
   "metadata": {},
   "outputs": [
    {
     "data": {
      "text/plain": [
       "array([10, 20, 30, 60, 70, 80], dtype=int64)"
      ]
     },
     "execution_count": 123,
     "metadata": {},
     "output_type": "execute_result"
    }
   ],
   "source": [
    "sorted_values = df['weight'].to_numpy()\n",
    "sorted_values"
   ]
  },
  {
   "cell_type": "code",
   "execution_count": 124,
   "metadata": {},
   "outputs": [
    {
     "data": {
      "text/plain": [
       "[15.0, 25.0, 45.0, 65.0, 75.0]"
      ]
     },
     "execution_count": 124,
     "metadata": {},
     "output_type": "execute_result"
    }
   ],
   "source": [
    "midpoints = [(sorted_values[i]+sorted_values[i+1])/2 for i in range (len(sorted_values)-1)]\n",
    "midpoints"
   ]
  },
  {
   "cell_type": "markdown",
   "metadata": {},
   "source": [
    "## Calculate Gini impurities for all midpoints"
   ]
  },
  {
   "cell_type": "code",
   "execution_count": 125,
   "metadata": {},
   "outputs": [
    {
     "data": {
      "text/plain": [
       "' \\nTree stops when the bith sides have GINI impurities equal zero\\n'"
      ]
     },
     "execution_count": 125,
     "metadata": {},
     "output_type": "execute_result"
    }
   ],
   "source": [
    "''' \n",
    "Tree stops when both sides of a tree have GINI impurities equal zero\n",
    "'''"
   ]
  },
  {
   "cell_type": "markdown",
   "metadata": {},
   "source": [
    "#### Define the function"
   ]
  },
  {
   "cell_type": "code",
   "execution_count": 131,
   "metadata": {},
   "outputs": [],
   "source": [
    "def tree(midpoint,df):\n",
    "    # Split into left and right based on a midpoint\n",
    "    df_left = df[df['weight']<=midpoint]\n",
    "    df_right = df[df['weight']>=midpoint]\n",
    "\n",
    "    print(f'left df: \\n {df_left}')\n",
    "    print(f'right df: \\n {df_right}')\n",
    "    print(f'******')\n",
    "\n",
    "    # Total number of nodes in leafs\n",
    "    n_left = len(df_left)\n",
    "    n_right = len(df_right)\n",
    "\n",
    "    print(f'Left total number: {n_left}')\n",
    "    print(f'Right total number: {n_right}')\n",
    "    print(f'******')\n",
    "\n",
    "    # Probability of samples belonging to the class at a specific node.\n",
    "    p_right_S = (df_right['size']=='S').sum()\n",
    "    p_right_L = (df_right['size']=='L').sum()\n",
    "\n",
    "    p_left_S = (df_left['size']=='S').sum()\n",
    "    p_left_L = (df_left['size']=='L').sum()\n",
    "\n",
    "    print(f'Right-S: {p_right_S}')\n",
    "    print(f'Right-L: {p_right_L}')\n",
    "\n",
    "    print(f'Left-S: {p_left_S}')\n",
    "    print(f'Left-L: {p_left_L}')\n",
    "    print(f'******')\n",
    "    \n",
    "    # Gini impurities\n",
    "    gini_right = 1-((p_right_L/n_right)**2+(p_right_S/n_right)**2)\n",
    "    gini_left = 1-((p_left_L/n_left)**2+(p_left_S/n_left)**2)\n",
    "\n",
    "    print(f'gini_left: {gini_left}')\n",
    "    print(f'gini_right: {gini_right}')\n",
    "\n",
    "    return df_left, df_right\n",
    "    "
   ]
  },
  {
   "cell_type": "markdown",
   "metadata": {},
   "source": [
    "### Run the algorithms"
   ]
  },
  {
   "cell_type": "markdown",
   "metadata": {},
   "source": [
    "<img src=\"pics/gini.png\" style=\"width: 20%;\"/>"
   ]
  },
  {
   "cell_type": "code",
   "execution_count": 132,
   "metadata": {},
   "outputs": [
    {
     "name": "stdout",
     "output_type": "stream",
     "text": [
      "left df: \n",
      "    weight size\n",
      "0      10    S\n",
      "1      20    S\n",
      "right df: \n",
      "    weight size\n",
      "2      30    S\n",
      "3      60    L\n",
      "4      70    L\n",
      "5      80    L\n",
      "******\n",
      "Left total number: 2\n",
      "Right total number: 4\n",
      "******\n",
      "Right-S: 1\n",
      "Right-L: 3\n",
      "Left-S: 2\n",
      "Left-L: 0\n",
      "******\n",
      "gini_left: 0.0\n",
      "gini_right: 0.375\n"
     ]
    }
   ],
   "source": [
    "first_branch_L, first_branch_R  = tree(midpoint=25, df=df)"
   ]
  },
  {
   "cell_type": "code",
   "execution_count": 133,
   "metadata": {},
   "outputs": [
    {
     "name": "stdout",
     "output_type": "stream",
     "text": [
      "left df: \n",
      "    weight size\n",
      "2      30    S\n",
      "3      60    L\n",
      "right df: \n",
      "    weight size\n",
      "4      70    L\n",
      "5      80    L\n",
      "******\n",
      "Left total number: 2\n",
      "Right total number: 2\n",
      "******\n",
      "Right-S: 0\n",
      "Right-L: 2\n",
      "Left-S: 1\n",
      "Left-L: 1\n",
      "******\n",
      "gini_left: 0.5\n",
      "gini_right: 0.0\n"
     ]
    }
   ],
   "source": [
    "second_branch_L, second_branch_R = tree(midpoint=65, df=first_branch_R)"
   ]
  },
  {
   "cell_type": "code",
   "execution_count": 134,
   "metadata": {},
   "outputs": [
    {
     "name": "stdout",
     "output_type": "stream",
     "text": [
      "left df: \n",
      "    weight size\n",
      "2      30    S\n",
      "right df: \n",
      "    weight size\n",
      "3      60    L\n",
      "******\n",
      "Left total number: 1\n",
      "Right total number: 1\n",
      "******\n",
      "Right-S: 0\n",
      "Right-L: 1\n",
      "Left-S: 1\n",
      "Left-L: 0\n",
      "******\n",
      "gini_left: 0.0\n",
      "gini_right: 0.0\n"
     ]
    }
   ],
   "source": [
    "third_branch_L, third_branch_R = tree(midpoint=35, df=second_branch_L)\n"
   ]
  },
  {
   "cell_type": "markdown",
   "metadata": {},
   "source": [
    "## Results"
   ]
  },
  {
   "cell_type": "markdown",
   "metadata": {},
   "source": [
    "<img src=\"pics/diagram.png\" style=\"width: 40%;\"/>"
   ]
  }
 ],
 "metadata": {
  "kernelspec": {
   "display_name": "bf_venv-VQsFRQRa",
   "language": "python",
   "name": "python3"
  },
  "language_info": {
   "codemirror_mode": {
    "name": "ipython",
    "version": 3
   },
   "file_extension": ".py",
   "mimetype": "text/x-python",
   "name": "python",
   "nbconvert_exporter": "python",
   "pygments_lexer": "ipython3",
   "version": "3.10.10"
  }
 },
 "nbformat": 4,
 "nbformat_minor": 2
}
