{
 "cells": [
  {
   "cell_type": "markdown",
   "metadata": {},
   "source": [
    "# LASSO"
   ]
  },
  {
   "cell_type": "code",
   "execution_count": 109,
   "metadata": {},
   "outputs": [],
   "source": [
    "import numpy as np"
   ]
  },
  {
   "cell_type": "markdown",
   "metadata": {},
   "source": [
    "### Input data"
   ]
  },
  {
   "cell_type": "code",
   "execution_count": 108,
   "metadata": {},
   "outputs": [],
   "source": [
    "# Regularization parameter (lambda)\n",
    "lam = 0.1  \n",
    "\n",
    "# Learning rate\n",
    "learning_rate = 0.001 \n",
    "\n",
    "# Number of iterations\n",
    "iterations = 1000  "
   ]
  },
  {
   "cell_type": "code",
   "execution_count": 105,
   "metadata": {},
   "outputs": [],
   "source": [
    "# Data\n",
    "X = np.array([\n",
    "    [10, 0.001],\n",
    "    [20, 0.005],\n",
    "    [30, 0.001]\n",
    "])\n",
    "\n",
    "y = np.array([100, 200, 300])"
   ]
  },
  {
   "cell_type": "code",
   "execution_count": 106,
   "metadata": {},
   "outputs": [
    {
     "data": {
      "text/plain": [
       "array([[1.e+00, 1.e+01, 1.e-03],\n",
       "       [1.e+00, 2.e+01, 5.e-03],\n",
       "       [1.e+00, 3.e+01, 1.e-03]])"
      ]
     },
     "execution_count": 106,
     "metadata": {},
     "output_type": "execute_result"
    }
   ],
   "source": [
    "# Add a column of ones for the intercept term\n",
    "X_with_intercept = np.hstack((np.ones((X.shape[0], 1)), X))\n",
    "X_with_intercept"
   ]
  },
  {
   "cell_type": "markdown",
   "metadata": {},
   "source": [
    "### Lasso function"
   ]
  },
  {
   "cell_type": "code",
   "execution_count": null,
   "metadata": {},
   "outputs": [],
   "source": [
    "# Initialize with zeros (intercept and coefficients)\n",
    "beta = np.zeros(X_with_intercept.shape[1])  \n",
    "\n",
    "# Lasso gradient descent function with intercept\n",
    "def lasso_gradient_descent_with_intercept(X, y, beta, lam, learning_rate, iterations):\n",
    "    n = len(y)  # Number of samples\n",
    "    for _ in range(iterations):\n",
    "        predictions = X @ beta  # Model predictions (X @ beta)\n",
    "        \n",
    "        # Compute gradient of the Least Squares part (without regularization for intercept)\n",
    "        gradient = -(1 / n) * X.T @ (y - predictions)\n",
    "        \n",
    "        # Update beta using the gradient\n",
    "        beta = beta - learning_rate * gradient\n",
    "        \n",
    "        # Apply soft-thresholding to induce sparsity (L1 regularization)\n",
    "        # Skip the intercept (beta[0]) from soft-thresholding\n",
    "        beta[1:] = np.sign(beta[1:]) * np.maximum(0, np.abs(beta[1:]) - learning_rate * lam)\n",
    "        \n",
    "    return beta\n"
   ]
  },
  {
   "cell_type": "markdown",
   "metadata": {},
   "source": [
    "### Run the algorithm"
   ]
  },
  {
   "cell_type": "code",
   "execution_count": 119,
   "metadata": {},
   "outputs": [
    {
     "name": "stdout",
     "output_type": "stream",
     "text": [
      "intercept: 0.38\n",
      "beta1: 9.98\n",
      "beta2: -0.0\n"
     ]
    }
   ],
   "source": [
    "# Run Lasso gradient descent with intercept\n",
    "beta_opt = lasso_gradient_descent_with_intercept(X_with_intercept, y, beta, lam, learning_rate, iterations)\n",
    "\n",
    "# Output the optimal coefficients (including intercept)\n",
    "intercept = beta_opt[0]\n",
    "coeff_beta1 = beta_opt[1]\n",
    "coeff_beta2 = beta_opt[2]\n",
    "\n",
    "print(f'intercept: {intercept.round(2)}')\n",
    "print(f'beta1: {coeff_beta1.round(2)}')\n",
    "print(f'beta2: {coeff_beta2.round(2)}')"
   ]
  },
  {
   "cell_type": "markdown",
   "metadata": {},
   "source": [
    "# LASSO - library"
   ]
  },
  {
   "cell_type": "code",
   "execution_count": 121,
   "metadata": {},
   "outputs": [
    {
     "name": "stdout",
     "output_type": "stream",
     "text": [
      "Optimized beta_0: 0.3\n",
      "Optimized beta_1: 9.98\n",
      "Optimized beta_2: 0.0\n"
     ]
    }
   ],
   "source": [
    "from sklearn.linear_model import Lasso\n",
    "\n",
    "lasso = Lasso(alpha=1)  # alpha is equivalent to λ in the custom implementation\n",
    "lasso.fit(X, y)\n",
    "\n",
    "print(\"Optimized beta_0:\", lasso.intercept_.round(2))\n",
    "print(\"Optimized beta_1:\", lasso.coef_[0].round(2))\n",
    "print(\"Optimized beta_2:\", lasso.coef_[1].round(2))\n"
   ]
  }
 ],
 "metadata": {
  "kernelspec": {
   "display_name": "venv_portfolio-hkOMkeu3",
   "language": "python",
   "name": "python3"
  },
  "language_info": {
   "codemirror_mode": {
    "name": "ipython",
    "version": 3
   },
   "file_extension": ".py",
   "mimetype": "text/x-python",
   "name": "python",
   "nbconvert_exporter": "python",
   "pygments_lexer": "ipython3",
   "version": "3.10.10"
  }
 },
 "nbformat": 4,
 "nbformat_minor": 2
}
