{
 "cells": [
  {
   "cell_type": "code",
   "execution_count": 68,
   "metadata": {},
   "outputs": [],
   "source": [
    "import numpy as np\n",
    "import pandas as pd\n",
    "import math\n",
    "\n",
    "\"\"\" import matplotlib.pyplot as plt \"\"\"\n",
    "import scipy.stats as stats"
   ]
  },
  {
   "cell_type": "markdown",
   "metadata": {},
   "source": [
    "# Normal distribution "
   ]
  },
  {
   "cell_type": "markdown",
   "metadata": {},
   "source": [
    "<img src=\"pics/normal_dist_chart02.png\" style=\"width: 50%;\"/>"
   ]
  },
  {
   "cell_type": "code",
   "execution_count": 69,
   "metadata": {},
   "outputs": [
    {
     "data": {
      "text/plain": [
       "' \\n2 scenarious:\\n    - cdf = cumulative function (input is x value and output is probability=area under the curve)\\n    - ppf (input is probality abd output is x value)\\n\\n'"
      ]
     },
     "execution_count": 69,
     "metadata": {},
     "output_type": "execute_result"
    }
   ],
   "source": [
    "''' \n",
    "2 scenarious:\n",
    "    - cdf = cumulative function (input is x value and output is probability=area under the curve)\n",
    "    - ppf (input is probality abd output is x value)\n",
    "\n",
    "'''"
   ]
  },
  {
   "cell_type": "markdown",
   "metadata": {},
   "source": [
    "### #1 Normal dist example"
   ]
  },
  {
   "cell_type": "markdown",
   "metadata": {},
   "source": [
    "<img src=\"pics/normal_problem1.png\" style=\"width: 70%;\"/>"
   ]
  },
  {
   "cell_type": "code",
   "execution_count": 70,
   "metadata": {},
   "outputs": [
    {
     "name": "stdout",
     "output_type": "stream",
     "text": [
      "Probability of chatting with someone at the pub: 0.97%\n"
     ]
    }
   ],
   "source": [
    "# Define the parameters of the normal distribution\n",
    "mean = 100\n",
    "std_dev = np.sqrt(50)\n",
    "\n",
    "# Calculate the cumulative probability for IQ <= 115 and IQ <= 85\n",
    "prob_115 = stats.norm.cdf(115, loc=mean, scale=std_dev)\n",
    "prob_85 = stats.norm.cdf(85, loc=mean, scale=std_dev)\n",
    "\n",
    "# The probability of having an IQ between 85 and 115\n",
    "probability = prob_115 - prob_85\n",
    "print(f\"Probability of chatting with someone at the pub: {probability:.2f}%\")"
   ]
  },
  {
   "cell_type": "code",
   "execution_count": 71,
   "metadata": {},
   "outputs": [
    {
     "data": {
      "text/plain": [
       "' # Create a range of IQ values for plotting\\nx_values = np.linspace(40, 160, 1000)\\ny_values = stats.norm.pdf(x_values, loc=mean, scale=std_dev)\\n\\n# Plot the normal distribution\\nplt.plot(x_values, y_values, label=\"Normal Distribution\", color=\\'blue\\')\\n\\n# Highlight the area between 85 and 115\\nplt.fill_between(x_values, y_values, where=((x_values >= 85) & (x_values <= 115)), color=\\'orange\\', alpha=0.5, label=\"Area between 85 and 115\")\\n\\n# Labels and title\\nplt.title(\"Normal Distribution of IQ (Mean = 100, Variance = 50)\")\\nplt.xlabel(\"IQ\")\\nplt.ylabel(\"Density\")\\n\\n# Add a legend\\nplt.legend()\\n\\n# Show the plot\\nplt.show() '"
      ]
     },
     "execution_count": 71,
     "metadata": {},
     "output_type": "execute_result"
    }
   ],
   "source": [
    "\"\"\" # Create a range of IQ values for plotting\n",
    "x_values = np.linspace(40, 160, 1000)\n",
    "y_values = stats.norm.pdf(x_values, loc=mean, scale=std_dev)\n",
    "\n",
    "# Plot the normal distribution\n",
    "plt.plot(x_values, y_values, label=\"Normal Distribution\", color='blue')\n",
    "\n",
    "# Highlight the area between 85 and 115\n",
    "plt.fill_between(x_values, y_values, where=((x_values >= 85) & (x_values <= 115)), color='orange', alpha=0.5, label=\"Area between 85 and 115\")\n",
    "\n",
    "# Labels and title\n",
    "plt.title(\"Normal Distribution of IQ (Mean = 100, Variance = 50)\")\n",
    "plt.xlabel(\"IQ\")\n",
    "plt.ylabel(\"Density\")\n",
    "\n",
    "# Add a legend\n",
    "plt.legend()\n",
    "\n",
    "# Show the plot\n",
    "plt.show() \"\"\""
   ]
  },
  {
   "cell_type": "markdown",
   "metadata": {},
   "source": [
    "### #2 Normal dist. example"
   ]
  },
  {
   "cell_type": "markdown",
   "metadata": {},
   "source": [
    "<img src=\"pics/normal_problem2.png\" style=\"width: 70%;\"/>"
   ]
  },
  {
   "cell_type": "code",
   "execution_count": 72,
   "metadata": {},
   "outputs": [
    {
     "name": "stdout",
     "output_type": "stream",
     "text": [
      "IQ for sending 95% of dumb: 111.6%\n",
      "Starting IQ excluding the 5% of the dumbest: 88.4%\n"
     ]
    }
   ],
   "source": [
    "# Define the parameters of the normal distribution\n",
    "mean = 100\n",
    "std_dev = np.sqrt(50)\n",
    "\n",
    "# Calculate the cumulative probability for IQ <= 115 and IQ <= 85\n",
    "perc_95 = stats.norm.ppf(0.95, loc=mean, scale=std_dev)\n",
    "perc_5 = stats.norm.ppf(0.05, loc=mean, scale=std_dev)\n",
    "\n",
    "print(f\"IQ for sending 95% of dumb: {perc_95:.1f}%\")\n",
    "print(f\"Starting IQ excluding the 5% of the dumbest: {perc_5:.1f}%\")"
   ]
  },
  {
   "cell_type": "markdown",
   "metadata": {},
   "source": [
    "<img src=\"pics/normal_problem3.png\" style=\"width: 70%;\"/>"
   ]
  },
  {
   "cell_type": "code",
   "execution_count": 73,
   "metadata": {},
   "outputs": [
    {
     "name": "stdout",
     "output_type": "stream",
     "text": [
      "The shortes height: 112cm\n"
     ]
    }
   ],
   "source": [
    "# Define the parameters of the normal distribution\n",
    "mean = 150\n",
    "std_dev = np.sqrt(30)\n",
    "\n",
    "# Calculate the cumulative probability for IQ <= 115 and IQ <= 85\n",
    "height_perc_5 = stats.norm.ppf(0.1, loc=mean, scale=std_dev)\n",
    "\n",
    "print(f\"The shortes height: {perc_95:.0f}cm\")\n"
   ]
  },
  {
   "cell_type": "markdown",
   "metadata": {},
   "source": [
    "# Binomial distribution "
   ]
  },
  {
   "cell_type": "markdown",
   "metadata": {},
   "source": [
    "### Binomial distribution formula"
   ]
  },
  {
   "cell_type": "markdown",
   "metadata": {},
   "source": [
    "<img src=\"pics/binomial_formula.png\" style=\"width: 25%;\"/>"
   ]
  },
  {
   "cell_type": "code",
   "execution_count": 74,
   "metadata": {},
   "outputs": [],
   "source": [
    "def binomial_probability(n, k, p):\n",
    "    \"\"\"Calculate the Binomial probability.\"\"\"\n",
    "    binomial_coeff = math.factorial(n)/(math.factorial(k)*math.factorial(n-k))  \n",
    "    return binomial_coeff * (p**k) * ((1 - p)**(n - k))"
   ]
  },
  {
   "cell_type": "code",
   "execution_count": 75,
   "metadata": {},
   "outputs": [],
   "source": [
    "def cumulative_binomial_probability(n, max_k, p):\n",
    "    \"\"\"Calculate the cumulative Binomial probability P(X <= max_k).\"\"\"\n",
    "    return sum(binomial_probability(n, k, p) for k in range(max_k + 1))"
   ]
  },
  {
   "cell_type": "markdown",
   "metadata": {},
   "source": [
    "### #1 Binomial dist. example"
   ]
  },
  {
   "cell_type": "markdown",
   "metadata": {},
   "source": [
    "<img src=\"pics/binomial_problem1.png\" style=\"width: 70%;\"/>"
   ]
  },
  {
   "cell_type": "code",
   "execution_count": 76,
   "metadata": {},
   "outputs": [
    {
     "data": {
      "text/plain": [
       "0.0167"
      ]
     },
     "execution_count": 76,
     "metadata": {},
     "output_type": "execute_result"
    }
   ],
   "source": [
    "# Number of selected items\n",
    "n = 100\n",
    "\n",
    "# Expected result\n",
    "k = 10\n",
    "\n",
    "# Probability of success that it will happen\n",
    "p = 50/1000\n",
    "\n",
    "result = round(binomial_probability(n=n, k=k, p=p),4)\n",
    "result"
   ]
  },
  {
   "cell_type": "markdown",
   "metadata": {},
   "source": [
    "### #2 Binomial dist. example"
   ]
  },
  {
   "cell_type": "markdown",
   "metadata": {},
   "source": [
    "<img src=\"pics/binomial_problem2.png\" style=\"width: 70%;\"/>"
   ]
  },
  {
   "cell_type": "code",
   "execution_count": 77,
   "metadata": {},
   "outputs": [
    {
     "data": {
      "text/plain": [
       "0.22"
      ]
     },
     "execution_count": 77,
     "metadata": {},
     "output_type": "execute_result"
    }
   ],
   "source": [
    "# Number of selected items\n",
    "n = 50\n",
    "\n",
    "# Expected result\n",
    "k = 3\n",
    "\n",
    "# Probability of success that it will happen\n",
    "p = (5000*(5/100))/5000\n",
    "\n",
    "result = round(binomial_probability(n=n, k=k, p=p),2)\n",
    "result"
   ]
  },
  {
   "cell_type": "markdown",
   "metadata": {},
   "source": [
    "### #3 Binomial dist. example"
   ]
  },
  {
   "cell_type": "markdown",
   "metadata": {},
   "source": [
    "<img src=\"pics/binomial_problem3.png\" style=\"width: 70%;\"/>"
   ]
  },
  {
   "cell_type": "markdown",
   "metadata": {},
   "source": [
    "<img src=\"pics/poisson_cdf_example.png\" style=\"width: 40%;\"/>"
   ]
  },
  {
   "cell_type": "code",
   "execution_count": 78,
   "metadata": {},
   "outputs": [
    {
     "name": "stdout",
     "output_type": "stream",
     "text": [
      "P(X <= 2) = 0.988\n"
     ]
    }
   ],
   "source": [
    "# Parameters\n",
    "n = 10  # Number of selected items\n",
    "p = 5/100  # probability = number of defective pieces from the total number of pieces\n",
    "\n",
    "# Calculate the cumulative probability P(X <= 2)\n",
    "prob = round(cumulative_binomial_probability(n, 2, p),3)\n",
    "print(f\"P(X <= 2) = {prob}\")\n"
   ]
  },
  {
   "cell_type": "markdown",
   "metadata": {},
   "source": [
    "# Poisson distribution "
   ]
  },
  {
   "cell_type": "markdown",
   "metadata": {},
   "source": [
    "### Poisson distribution formula"
   ]
  },
  {
   "cell_type": "markdown",
   "metadata": {},
   "source": [
    "![pic1](./pics/poisson.png)"
   ]
  },
  {
   "cell_type": "code",
   "execution_count": 79,
   "metadata": {},
   "outputs": [],
   "source": [
    "# lambda = average number of events in the interval\n",
    "# k = number of sucesses"
   ]
  },
  {
   "cell_type": "code",
   "execution_count": 80,
   "metadata": {},
   "outputs": [],
   "source": [
    "def poisson_probability(k, lam):\n",
    "    \"\"\"Calculate the Poisson probability.\"\"\"\n",
    "    return (lam**k * math.exp(-lam)) / math.factorial(k)"
   ]
  },
  {
   "cell_type": "markdown",
   "metadata": {},
   "source": [
    "### Cumulative distribution function - CDF"
   ]
  },
  {
   "cell_type": "markdown",
   "metadata": {},
   "source": [
    "<img src=\"pics/cdf_formula.png\" style=\"width: 20%;\"/>"
   ]
  },
  {
   "cell_type": "code",
   "execution_count": 81,
   "metadata": {},
   "outputs": [],
   "source": [
    "def poisson_cdf(k, lam):\n",
    "    \"\"\"Calculate the Poisson cumulative probability.\"\"\"\n",
    "    return sum(poisson_probability(i, lam) for i in range(k+1))"
   ]
  },
  {
   "cell_type": "markdown",
   "metadata": {},
   "source": [
    "### #1 Poisson dist. example"
   ]
  },
  {
   "cell_type": "markdown",
   "metadata": {},
   "source": [
    "![pic1](./pics/poisson_problem1.png)"
   ]
  },
  {
   "cell_type": "code",
   "execution_count": 82,
   "metadata": {},
   "outputs": [
    {
     "data": {
      "text/plain": [
       "0.147"
      ]
     },
     "execution_count": 82,
     "metadata": {},
     "output_type": "execute_result"
    }
   ],
   "source": [
    "# Average number of events - need to change it to the minutes and then calculate the events for interval of 2 minutes\n",
    "lambda_value = (2*120)/60\n",
    "\n",
    "# Number of sucesses = 2 phone calls\n",
    "k_value = 2\n",
    "\n",
    "# Calculate the probability\n",
    "prob = round(poisson_probability(k=k_value, lam=lambda_value),3)\n",
    "prob"
   ]
  },
  {
   "cell_type": "markdown",
   "metadata": {},
   "source": [
    "### #2 Poisson dist. example"
   ]
  },
  {
   "cell_type": "markdown",
   "metadata": {},
   "source": [
    "![pic1](./pics/poisson_problem2.png)"
   ]
  },
  {
   "cell_type": "code",
   "execution_count": 83,
   "metadata": {},
   "outputs": [
    {
     "data": {
      "text/plain": [
       "0.184"
      ]
     },
     "execution_count": 83,
     "metadata": {},
     "output_type": "execute_result"
    }
   ],
   "source": [
    "# Average number of events - need to change it to the minutes and then calculate the events for interval of 2 minutes\n",
    "lambda_value = 1\n",
    "\n",
    "# Number of sucesses = 2 phone calls\n",
    "k_value = 2\n",
    "\n",
    "# Calculate the probability\n",
    "prob = round(poisson_probability(k=k_value, lam=lambda_value),3)\n",
    "prob"
   ]
  },
  {
   "cell_type": "markdown",
   "metadata": {},
   "source": [
    "<img src=\"pics/poisson_cdf_example.png\" style=\"width: 40%;\"/>"
   ]
  },
  {
   "cell_type": "code",
   "execution_count": 84,
   "metadata": {},
   "outputs": [
    {
     "name": "stdout",
     "output_type": "stream",
     "text": [
      "P(X <= 2) = 0.92\n"
     ]
    }
   ],
   "source": [
    "# Calculate the cumulative function\n",
    "cdf = round(poisson_cdf(k=2, lam=lambda_value),3)\n",
    "cdf\n",
    "\n",
    "print(f\"P(X <= 2) = {cdf}\")"
   ]
  },
  {
   "cell_type": "markdown",
   "metadata": {},
   "source": [
    "### #3 Poisson dist. example"
   ]
  },
  {
   "cell_type": "markdown",
   "metadata": {},
   "source": [
    "<img src=\"pics/poisson_problem3.png\" style=\"width: 70%;\"/>"
   ]
  },
  {
   "cell_type": "code",
   "execution_count": 85,
   "metadata": {},
   "outputs": [
    {
     "name": "stdout",
     "output_type": "stream",
     "text": [
      "0.0613\n"
     ]
    }
   ],
   "source": [
    "# Average number of events - need to change it to the minutes and then calculate the events for interval of 100 minutes\n",
    "# lambda = (0.01*100)/1\n",
    "lambda_value = 1\n",
    "\n",
    "# Number of sucesses = 2 phone calls\n",
    "k_value = 3\n",
    "\n",
    "# Calculate the probability\n",
    "prob = poisson_probability(k=k_value, lam=lambda_value)\n",
    "\n",
    "print(f'{prob:.4f}')"
   ]
  },
  {
   "cell_type": "markdown",
   "metadata": {},
   "source": [
    "# The law of total probability = Věta o úplné pravděpodobnosti"
   ]
  },
  {
   "cell_type": "markdown",
   "metadata": {},
   "source": [
    "<img src=\"pics/total_prob.png\" style=\"width: 30%;\"/>"
   ]
  },
  {
   "cell_type": "markdown",
   "metadata": {},
   "source": [
    "### #1 Total probability example"
   ]
  },
  {
   "cell_type": "markdown",
   "metadata": {},
   "source": [
    "<img src=\"pics/total1.png\" style=\"width: 70%;\"/>"
   ]
  },
  {
   "cell_type": "code",
   "execution_count": 86,
   "metadata": {},
   "outputs": [
    {
     "data": {
      "text/plain": [
       "' \\njev = koupím si standartdní žárovku\\n\\nhypotéza 1 = H1 =  z 1. závodu\\n\\nhypotéza 2 = H2 =  z 2. závodu\\n\\nhypotéza 3 = H3 =  z 3. závodu\\n\\n\\nP(A|Hi) = pravděpodobnost, že STANDARTNÍ ŽÁROVKA bude z i-tého závodu\\n\\nP(Hi) = pravděpodobnost že ŽÁROVKA je z i-tého závodu\\n\\n'"
      ]
     },
     "execution_count": 86,
     "metadata": {},
     "output_type": "execute_result"
    }
   ],
   "source": [
    "''' \n",
    "jev = koupím si standartdní žárovku\n",
    "\n",
    "hypotéza 1 = H1 =  z 1. závodu\n",
    "\n",
    "hypotéza 2 = H2 =  z 2. závodu\n",
    "\n",
    "hypotéza 3 = H3 =  z 3. závodu\n",
    "\n",
    "\n",
    "P(A|Hi) = pravděpodobnost, že STANDARTNÍ ŽÁROVKA bude z i-tého závodu\n",
    "\n",
    "P(Hi) = pravděpodobnost že ŽÁROVKA je z i-tého závodu\n",
    "\n",
    "'''"
   ]
  },
  {
   "cell_type": "code",
   "execution_count": 87,
   "metadata": {},
   "outputs": [
    {
     "name": "stdout",
     "output_type": "stream",
     "text": [
      "Total probability P(A): 0.7565\n"
     ]
    }
   ],
   "source": [
    "# Conditional probabilities\n",
    "P_A_given_H = np.array([0.7, 0.8, 0.81])\n",
    "\n",
    "# Probabilities\n",
    "P_H = np.array([0.45, 0.4, 0.15])\n",
    "\n",
    "\n",
    "# Total probability that customer buys a standart bulb\n",
    "P_A = np.dot(P_A_given_H, P_H)\n",
    "\n",
    "print(f\"Total probability P(A): {P_A :.4f}\")"
   ]
  },
  {
   "cell_type": "markdown",
   "metadata": {},
   "source": [
    "### #2 Total probability example"
   ]
  },
  {
   "cell_type": "markdown",
   "metadata": {},
   "source": [
    "<img src=\"pics/total2.png\" style=\"width: 70%;\"/>"
   ]
  },
  {
   "cell_type": "code",
   "execution_count": 88,
   "metadata": {},
   "outputs": [
    {
     "data": {
      "text/plain": [
       "' \\njev = vyberu zmetek\\n\\nhypotéza 1 = H1 =  z 1. závodu\\n\\nhypotéza 2 = H2 =  z 2. závodu\\n\\nhypotéza 3 = H3 =  z 3. závodu\\n\\n\\nP(A|Hi) = pravděpodobnost, že ZMETEK bude z i-tého závodu\\n\\nP(Hi) = pravděpodobnost ZMETKU \\n\\n'"
      ]
     },
     "execution_count": 88,
     "metadata": {},
     "output_type": "execute_result"
    }
   ],
   "source": [
    "''' \n",
    "jev = vyberu zmetek\n",
    "\n",
    "hypotéza 1 = H1 =  z 1. závodu\n",
    "\n",
    "hypotéza 2 = H2 =  z 2. závodu\n",
    "\n",
    "hypotéza 3 = H3 =  z 3. závodu\n",
    "\n",
    "\n",
    "P(A|Hi) = pravděpodobnost, že ZMETEK bude z i-tého závodu\n",
    "\n",
    "P(Hi) = pravděpodobnost ZMETKU \n",
    "\n",
    "'''"
   ]
  },
  {
   "cell_type": "code",
   "execution_count": 89,
   "metadata": {},
   "outputs": [
    {
     "name": "stdout",
     "output_type": "stream",
     "text": [
      "Total probability P(A): 0.003\n"
     ]
    }
   ],
   "source": [
    "pcs = np.array([1000, 2000, 2500])\n",
    "pcs_total = pcs.sum()\n",
    "\n",
    "# Conditional probabilities\n",
    "P_A_given_H = pcs/pcs_total\n",
    "\n",
    "# Probabilities\n",
    "P_H = np.array([0.003, 0.002, 0.004])\n",
    "\n",
    "# Total probability that customer buys a standart bulb\n",
    "P_A = np.dot(P_A_given_H, P_H)\n",
    "\n",
    "print(f\"Total probability P(A): {P_A :.3f}\")"
   ]
  },
  {
   "cell_type": "markdown",
   "metadata": {},
   "source": [
    "### #3 Total probability example"
   ]
  },
  {
   "cell_type": "markdown",
   "metadata": {},
   "source": [
    "<img src=\"pics/total3.png\" style=\"width: 70%;\"/>"
   ]
  },
  {
   "cell_type": "code",
   "execution_count": 90,
   "metadata": {},
   "outputs": [
    {
     "data": {
      "text/plain": [
       "' \\njev = vyberu výrobek mimořádné kvality\\n\\nhypotéza 1 = H1 =  od skupiny 10 pracovníků\\n\\nhypotéza 2 = H2 =  od skupiny 6 pracovníků\\n\\nhypotéza 3 = H3 =  od skupiny 4 pracovníků\\n\\nP(A|Hi) = pravděpodobnost, že VÝROBEK MIMOŘÁDNÉ KVALITY bude od i-té skupiny\\n\\nP(Hi) = pravděpodobnost VÝROBKU MIMOŘÁDNÉ KVALITY\\n\\n'"
      ]
     },
     "execution_count": 90,
     "metadata": {},
     "output_type": "execute_result"
    }
   ],
   "source": [
    "''' \n",
    "jev = vyberu výrobek mimořádné kvality\n",
    "\n",
    "hypotéza 1 = H1 =  od skupiny 10 pracovníků\n",
    "\n",
    "hypotéza 2 = H2 =  od skupiny 6 pracovníků\n",
    "\n",
    "hypotéza 3 = H3 =  od skupiny 4 pracovníků\n",
    "\n",
    "P(A|Hi) = pravděpodobnost, že VÝROBEK MIMOŘÁDNÉ KVALITY bude od i-té skupiny\n",
    "\n",
    "P(Hi) = pravděpodobnost VÝROBKU MIMOŘÁDNÉ KVALITY\n",
    "\n",
    "'''"
   ]
  },
  {
   "cell_type": "code",
   "execution_count": 91,
   "metadata": {},
   "outputs": [
    {
     "name": "stdout",
     "output_type": "stream",
     "text": [
      "Total probability P(A): 0.91\n"
     ]
    }
   ],
   "source": [
    "workers = np.array([10, 6, 4])\n",
    "workers_total = workers.sum()\n",
    "\n",
    "# Conditional probabilities\n",
    "P_A_given_H = workers/workers_total\n",
    "\n",
    "# Probabilities\n",
    "P_H = np.array([0.94, 0.9, 0.85])\n",
    "\n",
    "# Total probability that customer buys a standart bulb\n",
    "P_A = np.dot(P_A_given_H, P_H)\n",
    "\n",
    "print(f\"Total probability P(A): {P_A :.2f}\")"
   ]
  },
  {
   "cell_type": "markdown",
   "metadata": {},
   "source": [
    "# Bayes' theorem"
   ]
  },
  {
   "cell_type": "markdown",
   "metadata": {},
   "source": [
    "<img src=\"pics/bayes.png\" style=\"width: 40%;\"/>"
   ]
  },
  {
   "cell_type": "markdown",
   "metadata": {},
   "source": [
    "### #1 Bayes example"
   ]
  },
  {
   "cell_type": "code",
   "execution_count": 92,
   "metadata": {},
   "outputs": [],
   "source": [
    "# source: http://www.dusanpolansky.cz/stripky/bayes-priklady.html"
   ]
  },
  {
   "cell_type": "markdown",
   "metadata": {},
   "source": [
    "<img src=\"pics/bayes1.png\" style=\"width: 80%;\"/>"
   ]
  },
  {
   "cell_type": "code",
   "execution_count": null,
   "metadata": {},
   "outputs": [],
   "source": []
  },
  {
   "cell_type": "markdown",
   "metadata": {},
   "source": [
    "### #2 Bayes example"
   ]
  },
  {
   "cell_type": "markdown",
   "metadata": {},
   "source": [
    "<img src=\"pics/bayes2.png\" style=\"width: 80%;\"/>"
   ]
  },
  {
   "cell_type": "code",
   "execution_count": 93,
   "metadata": {},
   "outputs": [
    {
     "data": {
      "text/plain": [
       "' \\njev = laboratorní test je pozitivní\\n\\nhypotéza 1 = H1 =  první nemoc\\n\\nhypotéza 2 = H2 =  druhá nemoc\\n\\nhypotéza 3 = H3 =  třetí nemoc\\n\\nP(A|Hi) = pravděpodobnost, že test je pozitivní a jde o i-tou nemoc\\n\\nP(Hi) = pravděpodobnost NEMOCI\\n\\n'"
      ]
     },
     "execution_count": 93,
     "metadata": {},
     "output_type": "execute_result"
    }
   ],
   "source": [
    "''' \n",
    "jev = laboratorní test je pozitivní\n",
    "\n",
    "hypotéza 1 = H1 =  první nemoc\n",
    "\n",
    "hypotéza 2 = H2 =  druhá nemoc\n",
    "\n",
    "hypotéza 3 = H3 =  třetí nemoc\n",
    "\n",
    "P(A|Hi) = pravděpodobnost, že test je pozitivní a jde o i-tou nemoc\n",
    "\n",
    "P(Hi) = pravděpodobnost NEMOCI\n",
    "\n",
    "'''"
   ]
  },
  {
   "cell_type": "code",
   "execution_count": 94,
   "metadata": {},
   "outputs": [
    {
     "name": "stdout",
     "output_type": "stream",
     "text": [
      "Probability that the second desease is positive : 0.588\n"
     ]
    }
   ],
   "source": [
    "# Conditional probabilities\n",
    "P_A_given_H = np.array([0.3, 0.5, 0.2])\n",
    "\n",
    "# Probabilities\n",
    "P_H = np.array([0.15, 0.3, 0.3])\n",
    "\n",
    "# Total probability \n",
    "P_A = np.dot(P_A_given_H, P_H)\n",
    "\n",
    "# Bayes' theorem\n",
    "second_diseas_positive_test_prob = (P_A_given_H[1]*P_H[1])/P_A\n",
    "\n",
    "print(f\"Probability that the second desease is positive : {second_diseas_positive_test_prob :.3f}\")"
   ]
  },
  {
   "cell_type": "markdown",
   "metadata": {},
   "source": [
    "### #3 Bayes example"
   ]
  },
  {
   "cell_type": "markdown",
   "metadata": {},
   "source": [
    "<img src=\"pics/bayes3.png\" style=\"width: 80%;\"/>"
   ]
  },
  {
   "cell_type": "markdown",
   "metadata": {},
   "source": [
    "<img src=\"pics/bayes_sol2.png\" style=\"width: 60%;\"/>"
   ]
  },
  {
   "cell_type": "code",
   "execution_count": 97,
   "metadata": {},
   "outputs": [
    {
     "name": "stdout",
     "output_type": "stream",
     "text": [
      "P(A|B) = 0.747\n"
     ]
    }
   ],
   "source": [
    "# Definování pravděpodobností\n",
    "P_A = 0.003        # Pravděpodobnost, že odlitek je chybný\n",
    "P_not_A = 1 - P_A  # Pravděpodobnost, že odlitek není chybný\n",
    "\n",
    "P_B_given_A = 0.98       # Pravděpodobnost, že přístroj označí chybný odlitek za chybný\n",
    "P_B_given_not_A = 0.001  # Pravděpodobnost, že přístroj označí dobrý odlitek za chybný\n",
    "\n",
    "# Výpočet celkové pravděpodobnosti P(B)\n",
    "P_B = P_B_given_A * P_A + P_B_given_not_A * P_not_A\n",
    "\n",
    "# Bayesova věta\n",
    "P_A_B = (P_B_given_A*P_A)/P_B\n",
    "\n",
    "# Výstup výsledku\n",
    "print(f\"P(A|B) = {P_A_B :.3f}\")"
   ]
  }
 ],
 "metadata": {
  "kernelspec": {
   "display_name": "venv_3_10-jGfzHj9S",
   "language": "python",
   "name": "python3"
  },
  "language_info": {
   "codemirror_mode": {
    "name": "ipython",
    "version": 3
   },
   "file_extension": ".py",
   "mimetype": "text/x-python",
   "name": "python",
   "nbconvert_exporter": "python",
   "pygments_lexer": "ipython3",
   "version": "3.10.10"
  }
 },
 "nbformat": 4,
 "nbformat_minor": 2
}
