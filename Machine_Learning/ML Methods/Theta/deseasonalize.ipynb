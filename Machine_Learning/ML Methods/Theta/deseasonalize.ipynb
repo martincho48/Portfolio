{
 "cells": [
  {
   "cell_type": "code",
   "execution_count": 261,
   "metadata": {},
   "outputs": [],
   "source": [
    "import numpy as np\n",
    "import pandas as pd\n",
    "import plotly.express as px"
   ]
  },
  {
   "cell_type": "code",
   "execution_count": 262,
   "metadata": {},
   "outputs": [
    {
     "data": {
      "text/html": [
       "<div>\n",
       "<style scoped>\n",
       "    .dataframe tbody tr th:only-of-type {\n",
       "        vertical-align: middle;\n",
       "    }\n",
       "\n",
       "    .dataframe tbody tr th {\n",
       "        vertical-align: top;\n",
       "    }\n",
       "\n",
       "    .dataframe thead th {\n",
       "        text-align: right;\n",
       "    }\n",
       "</style>\n",
       "<table border=\"1\" class=\"dataframe\">\n",
       "  <thead>\n",
       "    <tr style=\"text-align: right;\">\n",
       "      <th></th>\n",
       "      <th>date</th>\n",
       "      <th>value</th>\n",
       "      <th>month</th>\n",
       "    </tr>\n",
       "  </thead>\n",
       "  <tbody>\n",
       "    <tr>\n",
       "      <th>0</th>\n",
       "      <td>2020-01</td>\n",
       "      <td>7.748357</td>\n",
       "      <td>1</td>\n",
       "    </tr>\n",
       "    <tr>\n",
       "      <th>1</th>\n",
       "      <td>2020-02</td>\n",
       "      <td>9.394969</td>\n",
       "      <td>2</td>\n",
       "    </tr>\n",
       "    <tr>\n",
       "      <th>2</th>\n",
       "      <td>2020-03</td>\n",
       "      <td>10.823844</td>\n",
       "      <td>3</td>\n",
       "    </tr>\n",
       "    <tr>\n",
       "      <th>3</th>\n",
       "      <td>2020-04</td>\n",
       "      <td>11.225617</td>\n",
       "      <td>4</td>\n",
       "    </tr>\n",
       "    <tr>\n",
       "      <th>4</th>\n",
       "      <td>2020-05</td>\n",
       "      <td>9.382923</td>\n",
       "      <td>5</td>\n",
       "    </tr>\n",
       "    <tr>\n",
       "      <th>5</th>\n",
       "      <td>2020-06</td>\n",
       "      <td>7.882932</td>\n",
       "      <td>6</td>\n",
       "    </tr>\n",
       "    <tr>\n",
       "      <th>6</th>\n",
       "      <td>2020-07</td>\n",
       "      <td>7.289606</td>\n",
       "      <td>7</td>\n",
       "    </tr>\n",
       "    <tr>\n",
       "      <th>7</th>\n",
       "      <td>2020-08</td>\n",
       "      <td>5.919616</td>\n",
       "      <td>8</td>\n",
       "    </tr>\n",
       "    <tr>\n",
       "      <th>8</th>\n",
       "      <td>2020-09</td>\n",
       "      <td>5.265263</td>\n",
       "      <td>9</td>\n",
       "    </tr>\n",
       "    <tr>\n",
       "      <th>9</th>\n",
       "      <td>2020-10</td>\n",
       "      <td>6.807178</td>\n",
       "      <td>10</td>\n",
       "    </tr>\n",
       "    <tr>\n",
       "      <th>10</th>\n",
       "      <td>2020-11</td>\n",
       "      <td>8.268291</td>\n",
       "      <td>11</td>\n",
       "    </tr>\n",
       "    <tr>\n",
       "      <th>11</th>\n",
       "      <td>2020-12</td>\n",
       "      <td>10.767135</td>\n",
       "      <td>12</td>\n",
       "    </tr>\n",
       "    <tr>\n",
       "      <th>12</th>\n",
       "      <td>2021-01</td>\n",
       "      <td>13.620981</td>\n",
       "      <td>1</td>\n",
       "    </tr>\n",
       "  </tbody>\n",
       "</table>\n",
       "</div>"
      ],
      "text/plain": [
       "       date      value  month\n",
       "0   2020-01   7.748357      1\n",
       "1   2020-02   9.394969      2\n",
       "2   2020-03  10.823844      3\n",
       "3   2020-04  11.225617      4\n",
       "4   2020-05   9.382923      5\n",
       "5   2020-06   7.882932      6\n",
       "6   2020-07   7.289606      7\n",
       "7   2020-08   5.919616      8\n",
       "8   2020-09   5.265263      9\n",
       "9   2020-10   6.807178     10\n",
       "10  2020-11   8.268291     11\n",
       "11  2020-12  10.767135     12\n",
       "12  2021-01  13.620981      1"
      ]
     },
     "execution_count": 262,
     "metadata": {},
     "output_type": "execute_result"
    }
   ],
   "source": [
    "# Generate 3 years of sinusoidal data with trend and noise\n",
    "np.random.seed(42)\n",
    "\n",
    "# Parameters for the sinusoidal function and trend\n",
    "periods = 48  # 3 years of monthly data\n",
    "time = np.arange(1, periods + 1)\n",
    "amplitude = 4  # Amplitude of the sine wave\n",
    "frequency = 1 / 12  # Monthly seasonality (12-month period)\n",
    "noise_std = 0.5  # Standard deviation of the noise\n",
    "trend_slope = 0.5  # Slope for the trend\n",
    "offset = 5  # Offset to ensure all values are positive\n",
    "\n",
    "# Generate sinusoidal signal\n",
    "signal = amplitude * np.sin(2 * np.pi * frequency * time)\n",
    "\n",
    "# Add linear trend\n",
    "trend = trend_slope * time\n",
    "\n",
    "# Add random noise\n",
    "noise = np.random.normal(0, noise_std, periods)\n",
    "\n",
    "# Combine signal, trend, and noise, and add offset to avoid negative values\n",
    "data_with_trend_noise = signal + trend + noise + offset\n",
    "\n",
    "# Create a DataFrame for 3 years of data\n",
    "dates = pd.date_range(start=\"2020-01-01\", periods=periods, freq='MS')\n",
    "df = pd.DataFrame({'date': dates, 'value': data_with_trend_noise})\n",
    "\n",
    "#df['date'] = df['date'].dt.strftime('%Y-%m')\n",
    "\n",
    "df['date'] = df['date'].dt.to_period('M')\n",
    "df['month'] = df['date'].dt.month\n",
    "\n",
    "df.head(13)"
   ]
  },
  {
   "cell_type": "code",
   "execution_count": 263,
   "metadata": {},
   "outputs": [
    {
     "data": {
      "application/vnd.plotly.v1+json": {
       "config": {
        "plotlyServerURL": "https://plot.ly"
       },
       "data": [
        {
         "hovertemplate": "x=%{x}<br>value=%{y}<extra></extra>",
         "legendgroup": "",
         "line": {
          "color": "#636efa",
          "dash": "solid"
         },
         "marker": {
          "symbol": "circle"
         },
         "mode": "lines+markers",
         "name": "",
         "orientation": "v",
         "showlegend": false,
         "type": "scatter",
         "x": [
          "2020-01",
          "2020-02",
          "2020-03",
          "2020-04",
          "2020-05",
          "2020-06",
          "2020-07",
          "2020-08",
          "2020-09",
          "2020-10",
          "2020-11",
          "2020-12",
          "2021-01",
          "2021-02",
          "2021-03",
          "2021-04",
          "2021-05",
          "2021-06",
          "2021-07",
          "2021-08",
          "2021-09",
          "2021-10",
          "2021-11",
          "2021-12",
          "2022-01",
          "2022-02",
          "2022-03",
          "2022-04",
          "2022-05",
          "2022-06",
          "2022-07",
          "2022-08",
          "2022-09",
          "2022-10",
          "2022-11",
          "2022-12",
          "2023-01",
          "2023-02",
          "2023-03",
          "2023-04",
          "2023-05",
          "2023-06",
          "2023-07",
          "2023-08",
          "2023-09",
          "2023-10",
          "2023-11",
          "2023-12"
         ],
         "xaxis": "x",
         "y": [
          7.7483570765056164,
          9.394969464552162,
          10.823844269050346,
          11.225616543341769,
          9.382923312638333,
          7.8829315215254105,
          7.289606407753697,
          5.919615749438701,
          5.265262807032524,
          6.807178406655226,
          8.268291153593767,
          10.76713512321487,
          13.620981135783014,
          14.507461492808854,
          15.637541083743484,
          16.18295785051727,
          14.993584439832793,
          14.157123666297638,
          12.045987962239398,
          10.829746534194602,
          12.232824384460777,
          12.423010234618975,
          14.533764102343957,
          16.28762590689327,
          19.227808637737404,
          21.519562909992683,
          21.924503211288847,
          22.651950624310594,
          21.199680655040606,
          19.85415312510337,
          18.199146693885304,
          18.462037477116716,
          17.493251387631034,
          18.00704292038429,
          20.911272456051584,
          22.389578175014485,
          25.604431797502375,
          26.484266553197862,
          27.835906975550785,
          28.56253223307232,
          27.86923328999772,
          26.08568414059499,
          24.442175858805882,
          23.385346537067605,
          22.760739004816287,
          24.175976280664884,
          26.26968061452009,
          29.528561113109454
         ],
         "yaxis": "y"
        }
       ],
       "layout": {
        "height": 500,
        "legend": {
         "tracegroupgap": 0
        },
        "template": {
         "data": {
          "bar": [
           {
            "error_x": {
             "color": "#2a3f5f"
            },
            "error_y": {
             "color": "#2a3f5f"
            },
            "marker": {
             "line": {
              "color": "#E5ECF6",
              "width": 0.5
             },
             "pattern": {
              "fillmode": "overlay",
              "size": 10,
              "solidity": 0.2
             }
            },
            "type": "bar"
           }
          ],
          "barpolar": [
           {
            "marker": {
             "line": {
              "color": "#E5ECF6",
              "width": 0.5
             },
             "pattern": {
              "fillmode": "overlay",
              "size": 10,
              "solidity": 0.2
             }
            },
            "type": "barpolar"
           }
          ],
          "carpet": [
           {
            "aaxis": {
             "endlinecolor": "#2a3f5f",
             "gridcolor": "white",
             "linecolor": "white",
             "minorgridcolor": "white",
             "startlinecolor": "#2a3f5f"
            },
            "baxis": {
             "endlinecolor": "#2a3f5f",
             "gridcolor": "white",
             "linecolor": "white",
             "minorgridcolor": "white",
             "startlinecolor": "#2a3f5f"
            },
            "type": "carpet"
           }
          ],
          "choropleth": [
           {
            "colorbar": {
             "outlinewidth": 0,
             "ticks": ""
            },
            "type": "choropleth"
           }
          ],
          "contour": [
           {
            "colorbar": {
             "outlinewidth": 0,
             "ticks": ""
            },
            "colorscale": [
             [
              0,
              "#0d0887"
             ],
             [
              0.1111111111111111,
              "#46039f"
             ],
             [
              0.2222222222222222,
              "#7201a8"
             ],
             [
              0.3333333333333333,
              "#9c179e"
             ],
             [
              0.4444444444444444,
              "#bd3786"
             ],
             [
              0.5555555555555556,
              "#d8576b"
             ],
             [
              0.6666666666666666,
              "#ed7953"
             ],
             [
              0.7777777777777778,
              "#fb9f3a"
             ],
             [
              0.8888888888888888,
              "#fdca26"
             ],
             [
              1,
              "#f0f921"
             ]
            ],
            "type": "contour"
           }
          ],
          "contourcarpet": [
           {
            "colorbar": {
             "outlinewidth": 0,
             "ticks": ""
            },
            "type": "contourcarpet"
           }
          ],
          "heatmap": [
           {
            "colorbar": {
             "outlinewidth": 0,
             "ticks": ""
            },
            "colorscale": [
             [
              0,
              "#0d0887"
             ],
             [
              0.1111111111111111,
              "#46039f"
             ],
             [
              0.2222222222222222,
              "#7201a8"
             ],
             [
              0.3333333333333333,
              "#9c179e"
             ],
             [
              0.4444444444444444,
              "#bd3786"
             ],
             [
              0.5555555555555556,
              "#d8576b"
             ],
             [
              0.6666666666666666,
              "#ed7953"
             ],
             [
              0.7777777777777778,
              "#fb9f3a"
             ],
             [
              0.8888888888888888,
              "#fdca26"
             ],
             [
              1,
              "#f0f921"
             ]
            ],
            "type": "heatmap"
           }
          ],
          "heatmapgl": [
           {
            "colorbar": {
             "outlinewidth": 0,
             "ticks": ""
            },
            "colorscale": [
             [
              0,
              "#0d0887"
             ],
             [
              0.1111111111111111,
              "#46039f"
             ],
             [
              0.2222222222222222,
              "#7201a8"
             ],
             [
              0.3333333333333333,
              "#9c179e"
             ],
             [
              0.4444444444444444,
              "#bd3786"
             ],
             [
              0.5555555555555556,
              "#d8576b"
             ],
             [
              0.6666666666666666,
              "#ed7953"
             ],
             [
              0.7777777777777778,
              "#fb9f3a"
             ],
             [
              0.8888888888888888,
              "#fdca26"
             ],
             [
              1,
              "#f0f921"
             ]
            ],
            "type": "heatmapgl"
           }
          ],
          "histogram": [
           {
            "marker": {
             "pattern": {
              "fillmode": "overlay",
              "size": 10,
              "solidity": 0.2
             }
            },
            "type": "histogram"
           }
          ],
          "histogram2d": [
           {
            "colorbar": {
             "outlinewidth": 0,
             "ticks": ""
            },
            "colorscale": [
             [
              0,
              "#0d0887"
             ],
             [
              0.1111111111111111,
              "#46039f"
             ],
             [
              0.2222222222222222,
              "#7201a8"
             ],
             [
              0.3333333333333333,
              "#9c179e"
             ],
             [
              0.4444444444444444,
              "#bd3786"
             ],
             [
              0.5555555555555556,
              "#d8576b"
             ],
             [
              0.6666666666666666,
              "#ed7953"
             ],
             [
              0.7777777777777778,
              "#fb9f3a"
             ],
             [
              0.8888888888888888,
              "#fdca26"
             ],
             [
              1,
              "#f0f921"
             ]
            ],
            "type": "histogram2d"
           }
          ],
          "histogram2dcontour": [
           {
            "colorbar": {
             "outlinewidth": 0,
             "ticks": ""
            },
            "colorscale": [
             [
              0,
              "#0d0887"
             ],
             [
              0.1111111111111111,
              "#46039f"
             ],
             [
              0.2222222222222222,
              "#7201a8"
             ],
             [
              0.3333333333333333,
              "#9c179e"
             ],
             [
              0.4444444444444444,
              "#bd3786"
             ],
             [
              0.5555555555555556,
              "#d8576b"
             ],
             [
              0.6666666666666666,
              "#ed7953"
             ],
             [
              0.7777777777777778,
              "#fb9f3a"
             ],
             [
              0.8888888888888888,
              "#fdca26"
             ],
             [
              1,
              "#f0f921"
             ]
            ],
            "type": "histogram2dcontour"
           }
          ],
          "mesh3d": [
           {
            "colorbar": {
             "outlinewidth": 0,
             "ticks": ""
            },
            "type": "mesh3d"
           }
          ],
          "parcoords": [
           {
            "line": {
             "colorbar": {
              "outlinewidth": 0,
              "ticks": ""
             }
            },
            "type": "parcoords"
           }
          ],
          "pie": [
           {
            "automargin": true,
            "type": "pie"
           }
          ],
          "scatter": [
           {
            "fillpattern": {
             "fillmode": "overlay",
             "size": 10,
             "solidity": 0.2
            },
            "type": "scatter"
           }
          ],
          "scatter3d": [
           {
            "line": {
             "colorbar": {
              "outlinewidth": 0,
              "ticks": ""
             }
            },
            "marker": {
             "colorbar": {
              "outlinewidth": 0,
              "ticks": ""
             }
            },
            "type": "scatter3d"
           }
          ],
          "scattercarpet": [
           {
            "marker": {
             "colorbar": {
              "outlinewidth": 0,
              "ticks": ""
             }
            },
            "type": "scattercarpet"
           }
          ],
          "scattergeo": [
           {
            "marker": {
             "colorbar": {
              "outlinewidth": 0,
              "ticks": ""
             }
            },
            "type": "scattergeo"
           }
          ],
          "scattergl": [
           {
            "marker": {
             "colorbar": {
              "outlinewidth": 0,
              "ticks": ""
             }
            },
            "type": "scattergl"
           }
          ],
          "scattermapbox": [
           {
            "marker": {
             "colorbar": {
              "outlinewidth": 0,
              "ticks": ""
             }
            },
            "type": "scattermapbox"
           }
          ],
          "scatterpolar": [
           {
            "marker": {
             "colorbar": {
              "outlinewidth": 0,
              "ticks": ""
             }
            },
            "type": "scatterpolar"
           }
          ],
          "scatterpolargl": [
           {
            "marker": {
             "colorbar": {
              "outlinewidth": 0,
              "ticks": ""
             }
            },
            "type": "scatterpolargl"
           }
          ],
          "scatterternary": [
           {
            "marker": {
             "colorbar": {
              "outlinewidth": 0,
              "ticks": ""
             }
            },
            "type": "scatterternary"
           }
          ],
          "surface": [
           {
            "colorbar": {
             "outlinewidth": 0,
             "ticks": ""
            },
            "colorscale": [
             [
              0,
              "#0d0887"
             ],
             [
              0.1111111111111111,
              "#46039f"
             ],
             [
              0.2222222222222222,
              "#7201a8"
             ],
             [
              0.3333333333333333,
              "#9c179e"
             ],
             [
              0.4444444444444444,
              "#bd3786"
             ],
             [
              0.5555555555555556,
              "#d8576b"
             ],
             [
              0.6666666666666666,
              "#ed7953"
             ],
             [
              0.7777777777777778,
              "#fb9f3a"
             ],
             [
              0.8888888888888888,
              "#fdca26"
             ],
             [
              1,
              "#f0f921"
             ]
            ],
            "type": "surface"
           }
          ],
          "table": [
           {
            "cells": {
             "fill": {
              "color": "#EBF0F8"
             },
             "line": {
              "color": "white"
             }
            },
            "header": {
             "fill": {
              "color": "#C8D4E3"
             },
             "line": {
              "color": "white"
             }
            },
            "type": "table"
           }
          ]
         },
         "layout": {
          "annotationdefaults": {
           "arrowcolor": "#2a3f5f",
           "arrowhead": 0,
           "arrowwidth": 1
          },
          "autotypenumbers": "strict",
          "coloraxis": {
           "colorbar": {
            "outlinewidth": 0,
            "ticks": ""
           }
          },
          "colorscale": {
           "diverging": [
            [
             0,
             "#8e0152"
            ],
            [
             0.1,
             "#c51b7d"
            ],
            [
             0.2,
             "#de77ae"
            ],
            [
             0.3,
             "#f1b6da"
            ],
            [
             0.4,
             "#fde0ef"
            ],
            [
             0.5,
             "#f7f7f7"
            ],
            [
             0.6,
             "#e6f5d0"
            ],
            [
             0.7,
             "#b8e186"
            ],
            [
             0.8,
             "#7fbc41"
            ],
            [
             0.9,
             "#4d9221"
            ],
            [
             1,
             "#276419"
            ]
           ],
           "sequential": [
            [
             0,
             "#0d0887"
            ],
            [
             0.1111111111111111,
             "#46039f"
            ],
            [
             0.2222222222222222,
             "#7201a8"
            ],
            [
             0.3333333333333333,
             "#9c179e"
            ],
            [
             0.4444444444444444,
             "#bd3786"
            ],
            [
             0.5555555555555556,
             "#d8576b"
            ],
            [
             0.6666666666666666,
             "#ed7953"
            ],
            [
             0.7777777777777778,
             "#fb9f3a"
            ],
            [
             0.8888888888888888,
             "#fdca26"
            ],
            [
             1,
             "#f0f921"
            ]
           ],
           "sequentialminus": [
            [
             0,
             "#0d0887"
            ],
            [
             0.1111111111111111,
             "#46039f"
            ],
            [
             0.2222222222222222,
             "#7201a8"
            ],
            [
             0.3333333333333333,
             "#9c179e"
            ],
            [
             0.4444444444444444,
             "#bd3786"
            ],
            [
             0.5555555555555556,
             "#d8576b"
            ],
            [
             0.6666666666666666,
             "#ed7953"
            ],
            [
             0.7777777777777778,
             "#fb9f3a"
            ],
            [
             0.8888888888888888,
             "#fdca26"
            ],
            [
             1,
             "#f0f921"
            ]
           ]
          },
          "colorway": [
           "#636efa",
           "#EF553B",
           "#00cc96",
           "#ab63fa",
           "#FFA15A",
           "#19d3f3",
           "#FF6692",
           "#B6E880",
           "#FF97FF",
           "#FECB52"
          ],
          "font": {
           "color": "#2a3f5f"
          },
          "geo": {
           "bgcolor": "white",
           "lakecolor": "white",
           "landcolor": "#E5ECF6",
           "showlakes": true,
           "showland": true,
           "subunitcolor": "white"
          },
          "hoverlabel": {
           "align": "left"
          },
          "hovermode": "closest",
          "mapbox": {
           "style": "light"
          },
          "paper_bgcolor": "white",
          "plot_bgcolor": "#E5ECF6",
          "polar": {
           "angularaxis": {
            "gridcolor": "white",
            "linecolor": "white",
            "ticks": ""
           },
           "bgcolor": "#E5ECF6",
           "radialaxis": {
            "gridcolor": "white",
            "linecolor": "white",
            "ticks": ""
           }
          },
          "scene": {
           "xaxis": {
            "backgroundcolor": "#E5ECF6",
            "gridcolor": "white",
            "gridwidth": 2,
            "linecolor": "white",
            "showbackground": true,
            "ticks": "",
            "zerolinecolor": "white"
           },
           "yaxis": {
            "backgroundcolor": "#E5ECF6",
            "gridcolor": "white",
            "gridwidth": 2,
            "linecolor": "white",
            "showbackground": true,
            "ticks": "",
            "zerolinecolor": "white"
           },
           "zaxis": {
            "backgroundcolor": "#E5ECF6",
            "gridcolor": "white",
            "gridwidth": 2,
            "linecolor": "white",
            "showbackground": true,
            "ticks": "",
            "zerolinecolor": "white"
           }
          },
          "shapedefaults": {
           "line": {
            "color": "#2a3f5f"
           }
          },
          "ternary": {
           "aaxis": {
            "gridcolor": "white",
            "linecolor": "white",
            "ticks": ""
           },
           "baxis": {
            "gridcolor": "white",
            "linecolor": "white",
            "ticks": ""
           },
           "bgcolor": "#E5ECF6",
           "caxis": {
            "gridcolor": "white",
            "linecolor": "white",
            "ticks": ""
           }
          },
          "title": {
           "x": 0.05
          },
          "xaxis": {
           "automargin": true,
           "gridcolor": "white",
           "linecolor": "white",
           "ticks": "",
           "title": {
            "standoff": 15
           },
           "zerolinecolor": "white",
           "zerolinewidth": 2
          },
          "yaxis": {
           "automargin": true,
           "gridcolor": "white",
           "linecolor": "white",
           "ticks": "",
           "title": {
            "standoff": 15
           },
           "zerolinecolor": "white",
           "zerolinewidth": 2
          }
         }
        },
        "title": {
         "text": "Passengers"
        },
        "width": 1000,
        "xaxis": {
         "anchor": "y",
         "domain": [
          0,
          1
         ],
         "title": {
          "text": "x"
         }
        },
        "yaxis": {
         "anchor": "x",
         "domain": [
          0,
          1
         ],
         "title": {
          "text": "value"
         }
        }
       }
      }
     },
     "metadata": {},
     "output_type": "display_data"
    }
   ],
   "source": [
    "x=df['date'].dt.strftime('%Y-%m')\n",
    "\n",
    "# Plot using Plotly Express\n",
    "fig = px.line(df, x=x, y='value', \n",
    "              title='Passengers', \n",
    "              labels={'Date': 'Date', 'Value': 'Value'},\n",
    "              markers=True,\n",
    "              width=1000,\n",
    "              height=500\n",
    "              )\n",
    "\n",
    "# Show the plot\n",
    "fig.show()"
   ]
  },
  {
   "cell_type": "code",
   "execution_count": 264,
   "metadata": {},
   "outputs": [
    {
     "data": {
      "text/html": [
       "<div>\n",
       "<style scoped>\n",
       "    .dataframe tbody tr th:only-of-type {\n",
       "        vertical-align: middle;\n",
       "    }\n",
       "\n",
       "    .dataframe tbody tr th {\n",
       "        vertical-align: top;\n",
       "    }\n",
       "\n",
       "    .dataframe thead th {\n",
       "        text-align: right;\n",
       "    }\n",
       "</style>\n",
       "<table border=\"1\" class=\"dataframe\">\n",
       "  <thead>\n",
       "    <tr style=\"text-align: right;\">\n",
       "      <th></th>\n",
       "      <th>date</th>\n",
       "      <th>value</th>\n",
       "      <th>month</th>\n",
       "      <th>ma</th>\n",
       "    </tr>\n",
       "  </thead>\n",
       "  <tbody>\n",
       "    <tr>\n",
       "      <th>0</th>\n",
       "      <td>2020-12</td>\n",
       "      <td>10.767135</td>\n",
       "      <td>12</td>\n",
       "      <td>8.397978</td>\n",
       "    </tr>\n",
       "    <tr>\n",
       "      <th>1</th>\n",
       "      <td>2021-01</td>\n",
       "      <td>13.620981</td>\n",
       "      <td>1</td>\n",
       "      <td>8.887363</td>\n",
       "    </tr>\n",
       "    <tr>\n",
       "      <th>2</th>\n",
       "      <td>2021-02</td>\n",
       "      <td>14.507461</td>\n",
       "      <td>2</td>\n",
       "      <td>9.313404</td>\n",
       "    </tr>\n",
       "    <tr>\n",
       "      <th>3</th>\n",
       "      <td>2021-03</td>\n",
       "      <td>15.637541</td>\n",
       "      <td>3</td>\n",
       "      <td>9.714545</td>\n",
       "    </tr>\n",
       "    <tr>\n",
       "      <th>4</th>\n",
       "      <td>2021-04</td>\n",
       "      <td>16.182958</td>\n",
       "      <td>4</td>\n",
       "      <td>10.127657</td>\n",
       "    </tr>\n",
       "  </tbody>\n",
       "</table>\n",
       "</div>"
      ],
      "text/plain": [
       "      date      value  month         ma\n",
       "0  2020-12  10.767135     12   8.397978\n",
       "1  2021-01  13.620981      1   8.887363\n",
       "2  2021-02  14.507461      2   9.313404\n",
       "3  2021-03  15.637541      3   9.714545\n",
       "4  2021-04  16.182958      4  10.127657"
      ]
     },
     "execution_count": 264,
     "metadata": {},
     "output_type": "execute_result"
    }
   ],
   "source": [
    "df['ma'] = df['value'].rolling(window=12).mean()\n",
    "df = df.dropna().reset_index(drop=True)\n",
    "df.head(5)"
   ]
  },
  {
   "cell_type": "code",
   "execution_count": 265,
   "metadata": {},
   "outputs": [
    {
     "data": {
      "text/html": [
       "<div>\n",
       "<style scoped>\n",
       "    .dataframe tbody tr th:only-of-type {\n",
       "        vertical-align: middle;\n",
       "    }\n",
       "\n",
       "    .dataframe tbody tr th {\n",
       "        vertical-align: top;\n",
       "    }\n",
       "\n",
       "    .dataframe thead th {\n",
       "        text-align: right;\n",
       "    }\n",
       "</style>\n",
       "<table border=\"1\" class=\"dataframe\">\n",
       "  <thead>\n",
       "    <tr style=\"text-align: right;\">\n",
       "      <th></th>\n",
       "      <th>date</th>\n",
       "      <th>value</th>\n",
       "      <th>month</th>\n",
       "      <th>ma</th>\n",
       "      <th>detrend</th>\n",
       "    </tr>\n",
       "  </thead>\n",
       "  <tbody>\n",
       "    <tr>\n",
       "      <th>0</th>\n",
       "      <td>2020-12</td>\n",
       "      <td>10.767135</td>\n",
       "      <td>12</td>\n",
       "      <td>8.397978</td>\n",
       "      <td>2.369157</td>\n",
       "    </tr>\n",
       "    <tr>\n",
       "      <th>1</th>\n",
       "      <td>2021-01</td>\n",
       "      <td>13.620981</td>\n",
       "      <td>1</td>\n",
       "      <td>8.887363</td>\n",
       "      <td>4.733618</td>\n",
       "    </tr>\n",
       "    <tr>\n",
       "      <th>2</th>\n",
       "      <td>2021-02</td>\n",
       "      <td>14.507461</td>\n",
       "      <td>2</td>\n",
       "      <td>9.313404</td>\n",
       "      <td>5.194057</td>\n",
       "    </tr>\n",
       "    <tr>\n",
       "      <th>3</th>\n",
       "      <td>2021-03</td>\n",
       "      <td>15.637541</td>\n",
       "      <td>3</td>\n",
       "      <td>9.714545</td>\n",
       "      <td>5.922996</td>\n",
       "    </tr>\n",
       "    <tr>\n",
       "      <th>4</th>\n",
       "      <td>2021-04</td>\n",
       "      <td>16.182958</td>\n",
       "      <td>4</td>\n",
       "      <td>10.127657</td>\n",
       "      <td>6.055301</td>\n",
       "    </tr>\n",
       "  </tbody>\n",
       "</table>\n",
       "</div>"
      ],
      "text/plain": [
       "      date      value  month         ma   detrend\n",
       "0  2020-12  10.767135     12   8.397978  2.369157\n",
       "1  2021-01  13.620981      1   8.887363  4.733618\n",
       "2  2021-02  14.507461      2   9.313404  5.194057\n",
       "3  2021-03  15.637541      3   9.714545  5.922996\n",
       "4  2021-04  16.182958      4  10.127657  6.055301"
      ]
     },
     "execution_count": 265,
     "metadata": {},
     "output_type": "execute_result"
    }
   ],
   "source": [
    "df['detrend'] = df['value']-df['ma']\n",
    "df.head(5)"
   ]
  },
  {
   "cell_type": "code",
   "execution_count": 273,
   "metadata": {},
   "outputs": [
    {
     "data": {
      "text/html": [
       "<div>\n",
       "<style scoped>\n",
       "    .dataframe tbody tr th:only-of-type {\n",
       "        vertical-align: middle;\n",
       "    }\n",
       "\n",
       "    .dataframe tbody tr th {\n",
       "        vertical-align: top;\n",
       "    }\n",
       "\n",
       "    .dataframe thead th {\n",
       "        text-align: right;\n",
       "    }\n",
       "</style>\n",
       "<table border=\"1\" class=\"dataframe\">\n",
       "  <thead>\n",
       "    <tr style=\"text-align: right;\">\n",
       "      <th></th>\n",
       "      <th>seasonal_mean</th>\n",
       "    </tr>\n",
       "  </thead>\n",
       "  <tbody>\n",
       "    <tr>\n",
       "      <th>0</th>\n",
       "      <td>4.819840</td>\n",
       "    </tr>\n",
       "    <tr>\n",
       "      <th>1</th>\n",
       "      <td>5.697828</td>\n",
       "    </tr>\n",
       "    <tr>\n",
       "      <th>2</th>\n",
       "      <td>6.187490</td>\n",
       "    </tr>\n",
       "    <tr>\n",
       "      <th>3</th>\n",
       "      <td>6.372406</td>\n",
       "    </tr>\n",
       "    <tr>\n",
       "      <th>4</th>\n",
       "      <td>4.747250</td>\n",
       "    </tr>\n",
       "    <tr>\n",
       "      <th>5</th>\n",
       "      <td>2.919772</td>\n",
       "    </tr>\n",
       "    <tr>\n",
       "      <th>6</th>\n",
       "      <td>0.640095</td>\n",
       "    </tr>\n",
       "    <tr>\n",
       "      <th>7</th>\n",
       "      <td>-0.515124</td>\n",
       "    </tr>\n",
       "    <tr>\n",
       "      <th>8</th>\n",
       "      <td>-1.064548</td>\n",
       "    </tr>\n",
       "    <tr>\n",
       "      <th>9</th>\n",
       "      <td>-0.840610</td>\n",
       "    </tr>\n",
       "    <tr>\n",
       "      <th>10</th>\n",
       "      <td>1.028914</td>\n",
       "    </tr>\n",
       "    <tr>\n",
       "      <th>11</th>\n",
       "      <td>2.595874</td>\n",
       "    </tr>\n",
       "  </tbody>\n",
       "</table>\n",
       "</div>"
      ],
      "text/plain": [
       "    seasonal_mean\n",
       "0        4.819840\n",
       "1        5.697828\n",
       "2        6.187490\n",
       "3        6.372406\n",
       "4        4.747250\n",
       "5        2.919772\n",
       "6        0.640095\n",
       "7       -0.515124\n",
       "8       -1.064548\n",
       "9       -0.840610\n",
       "10       1.028914\n",
       "11       2.595874"
      ]
     },
     "execution_count": 273,
     "metadata": {},
     "output_type": "execute_result"
    }
   ],
   "source": [
    "df2 = (df.groupby('month')\n",
    "                    .agg({'detrend':'mean'})\n",
    "                    .reset_index(drop=True)\n",
    "                    .rename(columns={'detrend':'seasonal_mean'})\n",
    ")\n",
    "\n",
    "df2"
   ]
  },
  {
   "cell_type": "markdown",
   "metadata": {},
   "source": [
    "<img src=\"pics/z-score.png\" style=\"width: 30%;\"/>"
   ]
  },
  {
   "cell_type": "code",
   "execution_count": 274,
   "metadata": {},
   "outputs": [
    {
     "data": {
      "text/plain": [
       "array([[ 0.77938617],\n",
       "       [ 1.10460795],\n",
       "       [ 1.28598762],\n",
       "       [ 1.35448355],\n",
       "       [ 0.75249732],\n",
       "       [ 0.07556756],\n",
       "       [-0.7688647 ],\n",
       "       [-1.19677809],\n",
       "       [-1.40029437],\n",
       "       [-1.31734371],\n",
       "       [-0.62483933],\n",
       "       [-0.04440998]])"
      ]
     },
     "execution_count": 274,
     "metadata": {},
     "output_type": "execute_result"
    }
   ],
   "source": [
    "from sklearn.preprocessing import StandardScaler\n",
    "scaler = StandardScaler()\n",
    "\n",
    "pokus = scaler.fit_transform(df2['seasonal_mean'].to_numpy().reshape(-1,1))\n",
    "pokus"
   ]
  },
  {
   "cell_type": "code",
   "execution_count": 275,
   "metadata": {},
   "outputs": [
    {
     "data": {
      "text/html": [
       "<div>\n",
       "<style scoped>\n",
       "    .dataframe tbody tr th:only-of-type {\n",
       "        vertical-align: middle;\n",
       "    }\n",
       "\n",
       "    .dataframe tbody tr th {\n",
       "        vertical-align: top;\n",
       "    }\n",
       "\n",
       "    .dataframe thead th {\n",
       "        text-align: right;\n",
       "    }\n",
       "</style>\n",
       "<table border=\"1\" class=\"dataframe\">\n",
       "  <thead>\n",
       "    <tr style=\"text-align: right;\">\n",
       "      <th></th>\n",
       "      <th>seasonal_mean</th>\n",
       "      <th>SF</th>\n",
       "    </tr>\n",
       "  </thead>\n",
       "  <tbody>\n",
       "    <tr>\n",
       "      <th>1</th>\n",
       "      <td>4.819840</td>\n",
       "      <td>0.746205</td>\n",
       "    </tr>\n",
       "    <tr>\n",
       "      <th>2</th>\n",
       "      <td>5.697828</td>\n",
       "      <td>1.057582</td>\n",
       "    </tr>\n",
       "    <tr>\n",
       "      <th>3</th>\n",
       "      <td>6.187490</td>\n",
       "      <td>1.231239</td>\n",
       "    </tr>\n",
       "    <tr>\n",
       "      <th>4</th>\n",
       "      <td>6.372406</td>\n",
       "      <td>1.296819</td>\n",
       "    </tr>\n",
       "    <tr>\n",
       "      <th>5</th>\n",
       "      <td>4.747250</td>\n",
       "      <td>0.720461</td>\n",
       "    </tr>\n",
       "    <tr>\n",
       "      <th>6</th>\n",
       "      <td>2.919772</td>\n",
       "      <td>0.072350</td>\n",
       "    </tr>\n",
       "    <tr>\n",
       "      <th>7</th>\n",
       "      <td>0.640095</td>\n",
       "      <td>-0.736132</td>\n",
       "    </tr>\n",
       "    <tr>\n",
       "      <th>8</th>\n",
       "      <td>-0.515124</td>\n",
       "      <td>-1.145828</td>\n",
       "    </tr>\n",
       "    <tr>\n",
       "      <th>9</th>\n",
       "      <td>-1.064548</td>\n",
       "      <td>-1.340680</td>\n",
       "    </tr>\n",
       "    <tr>\n",
       "      <th>10</th>\n",
       "      <td>-0.840610</td>\n",
       "      <td>-1.261261</td>\n",
       "    </tr>\n",
       "    <tr>\n",
       "      <th>11</th>\n",
       "      <td>1.028914</td>\n",
       "      <td>-0.598238</td>\n",
       "    </tr>\n",
       "    <tr>\n",
       "      <th>12</th>\n",
       "      <td>2.595874</td>\n",
       "      <td>-0.042519</td>\n",
       "    </tr>\n",
       "  </tbody>\n",
       "</table>\n",
       "</div>"
      ],
      "text/plain": [
       "    seasonal_mean        SF\n",
       "1        4.819840  0.746205\n",
       "2        5.697828  1.057582\n",
       "3        6.187490  1.231239\n",
       "4        6.372406  1.296819\n",
       "5        4.747250  0.720461\n",
       "6        2.919772  0.072350\n",
       "7        0.640095 -0.736132\n",
       "8       -0.515124 -1.145828\n",
       "9       -1.064548 -1.340680\n",
       "10      -0.840610 -1.261261\n",
       "11       1.028914 -0.598238\n",
       "12       2.595874 -0.042519"
      ]
     },
     "execution_count": 275,
     "metadata": {},
     "output_type": "execute_result"
    }
   ],
   "source": [
    "df2['SF'] = (df2['seasonal_mean'] - df2['seasonal_mean'].mean()) / df2['seasonal_mean'].std()\n",
    "df2.index = df2.index + 1\n",
    "df2"
   ]
  },
  {
   "cell_type": "code",
   "execution_count": 276,
   "metadata": {},
   "outputs": [
    {
     "data": {
      "text/html": [
       "<div>\n",
       "<style scoped>\n",
       "    .dataframe tbody tr th:only-of-type {\n",
       "        vertical-align: middle;\n",
       "    }\n",
       "\n",
       "    .dataframe tbody tr th {\n",
       "        vertical-align: top;\n",
       "    }\n",
       "\n",
       "    .dataframe thead th {\n",
       "        text-align: right;\n",
       "    }\n",
       "</style>\n",
       "<table border=\"1\" class=\"dataframe\">\n",
       "  <thead>\n",
       "    <tr style=\"text-align: right;\">\n",
       "      <th></th>\n",
       "      <th>date</th>\n",
       "      <th>value</th>\n",
       "      <th>month</th>\n",
       "      <th>ma</th>\n",
       "      <th>detrend</th>\n",
       "      <th>SF</th>\n",
       "    </tr>\n",
       "  </thead>\n",
       "  <tbody>\n",
       "    <tr>\n",
       "      <th>0</th>\n",
       "      <td>2020-12</td>\n",
       "      <td>10.767135</td>\n",
       "      <td>12</td>\n",
       "      <td>8.397978</td>\n",
       "      <td>2.369157</td>\n",
       "      <td>-0.042519</td>\n",
       "    </tr>\n",
       "    <tr>\n",
       "      <th>1</th>\n",
       "      <td>2021-01</td>\n",
       "      <td>13.620981</td>\n",
       "      <td>1</td>\n",
       "      <td>8.887363</td>\n",
       "      <td>4.733618</td>\n",
       "      <td>0.746205</td>\n",
       "    </tr>\n",
       "    <tr>\n",
       "      <th>2</th>\n",
       "      <td>2021-02</td>\n",
       "      <td>14.507461</td>\n",
       "      <td>2</td>\n",
       "      <td>9.313404</td>\n",
       "      <td>5.194057</td>\n",
       "      <td>1.057582</td>\n",
       "    </tr>\n",
       "    <tr>\n",
       "      <th>3</th>\n",
       "      <td>2021-03</td>\n",
       "      <td>15.637541</td>\n",
       "      <td>3</td>\n",
       "      <td>9.714545</td>\n",
       "      <td>5.922996</td>\n",
       "      <td>1.231239</td>\n",
       "    </tr>\n",
       "    <tr>\n",
       "      <th>4</th>\n",
       "      <td>2021-04</td>\n",
       "      <td>16.182958</td>\n",
       "      <td>4</td>\n",
       "      <td>10.127657</td>\n",
       "      <td>6.055301</td>\n",
       "      <td>1.296819</td>\n",
       "    </tr>\n",
       "    <tr>\n",
       "      <th>5</th>\n",
       "      <td>2021-05</td>\n",
       "      <td>14.993584</td>\n",
       "      <td>5</td>\n",
       "      <td>10.595212</td>\n",
       "      <td>4.398372</td>\n",
       "      <td>0.720461</td>\n",
       "    </tr>\n",
       "    <tr>\n",
       "      <th>6</th>\n",
       "      <td>2021-06</td>\n",
       "      <td>14.157124</td>\n",
       "      <td>6</td>\n",
       "      <td>11.118062</td>\n",
       "      <td>3.039062</td>\n",
       "      <td>0.072350</td>\n",
       "    </tr>\n",
       "    <tr>\n",
       "      <th>7</th>\n",
       "      <td>2021-07</td>\n",
       "      <td>12.045988</td>\n",
       "      <td>7</td>\n",
       "      <td>11.514427</td>\n",
       "      <td>0.531561</td>\n",
       "      <td>-0.736132</td>\n",
       "    </tr>\n",
       "    <tr>\n",
       "      <th>8</th>\n",
       "      <td>2021-08</td>\n",
       "      <td>10.829747</td>\n",
       "      <td>8</td>\n",
       "      <td>11.923604</td>\n",
       "      <td>-1.093858</td>\n",
       "      <td>-1.145828</td>\n",
       "    </tr>\n",
       "    <tr>\n",
       "      <th>9</th>\n",
       "      <td>2021-09</td>\n",
       "      <td>12.232824</td>\n",
       "      <td>9</td>\n",
       "      <td>12.504234</td>\n",
       "      <td>-0.271410</td>\n",
       "      <td>-1.340680</td>\n",
       "    </tr>\n",
       "    <tr>\n",
       "      <th>10</th>\n",
       "      <td>2021-10</td>\n",
       "      <td>12.423010</td>\n",
       "      <td>10</td>\n",
       "      <td>12.972220</td>\n",
       "      <td>-0.549210</td>\n",
       "      <td>-1.261261</td>\n",
       "    </tr>\n",
       "    <tr>\n",
       "      <th>11</th>\n",
       "      <td>2021-11</td>\n",
       "      <td>14.533764</td>\n",
       "      <td>11</td>\n",
       "      <td>13.494343</td>\n",
       "      <td>1.039421</td>\n",
       "      <td>-0.598238</td>\n",
       "    </tr>\n",
       "  </tbody>\n",
       "</table>\n",
       "</div>"
      ],
      "text/plain": [
       "       date      value  month         ma   detrend        SF\n",
       "0   2020-12  10.767135     12   8.397978  2.369157 -0.042519\n",
       "1   2021-01  13.620981      1   8.887363  4.733618  0.746205\n",
       "2   2021-02  14.507461      2   9.313404  5.194057  1.057582\n",
       "3   2021-03  15.637541      3   9.714545  5.922996  1.231239\n",
       "4   2021-04  16.182958      4  10.127657  6.055301  1.296819\n",
       "5   2021-05  14.993584      5  10.595212  4.398372  0.720461\n",
       "6   2021-06  14.157124      6  11.118062  3.039062  0.072350\n",
       "7   2021-07  12.045988      7  11.514427  0.531561 -0.736132\n",
       "8   2021-08  10.829747      8  11.923604 -1.093858 -1.145828\n",
       "9   2021-09  12.232824      9  12.504234 -0.271410 -1.340680\n",
       "10  2021-10  12.423010     10  12.972220 -0.549210 -1.261261\n",
       "11  2021-11  14.533764     11  13.494343  1.039421 -0.598238"
      ]
     },
     "execution_count": 276,
     "metadata": {},
     "output_type": "execute_result"
    }
   ],
   "source": [
    "df['SF'] = df['month'].map(df2['SF'])\n",
    "df.head(12)"
   ]
  },
  {
   "cell_type": "code",
   "execution_count": 277,
   "metadata": {},
   "outputs": [
    {
     "data": {
      "text/html": [
       "<div>\n",
       "<style scoped>\n",
       "    .dataframe tbody tr th:only-of-type {\n",
       "        vertical-align: middle;\n",
       "    }\n",
       "\n",
       "    .dataframe tbody tr th {\n",
       "        vertical-align: top;\n",
       "    }\n",
       "\n",
       "    .dataframe thead th {\n",
       "        text-align: right;\n",
       "    }\n",
       "</style>\n",
       "<table border=\"1\" class=\"dataframe\">\n",
       "  <thead>\n",
       "    <tr style=\"text-align: right;\">\n",
       "      <th></th>\n",
       "      <th>date</th>\n",
       "      <th>value</th>\n",
       "      <th>month</th>\n",
       "      <th>ma</th>\n",
       "      <th>detrend</th>\n",
       "      <th>SF</th>\n",
       "      <th>des</th>\n",
       "    </tr>\n",
       "  </thead>\n",
       "  <tbody>\n",
       "    <tr>\n",
       "      <th>0</th>\n",
       "      <td>2020-12</td>\n",
       "      <td>10.767135</td>\n",
       "      <td>12</td>\n",
       "      <td>8.397978</td>\n",
       "      <td>2.369157</td>\n",
       "      <td>-0.042519</td>\n",
       "      <td>8.440497</td>\n",
       "    </tr>\n",
       "    <tr>\n",
       "      <th>1</th>\n",
       "      <td>2021-01</td>\n",
       "      <td>13.620981</td>\n",
       "      <td>1</td>\n",
       "      <td>8.887363</td>\n",
       "      <td>4.733618</td>\n",
       "      <td>0.746205</td>\n",
       "      <td>8.141158</td>\n",
       "    </tr>\n",
       "    <tr>\n",
       "      <th>2</th>\n",
       "      <td>2021-02</td>\n",
       "      <td>14.507461</td>\n",
       "      <td>2</td>\n",
       "      <td>9.313404</td>\n",
       "      <td>5.194057</td>\n",
       "      <td>1.057582</td>\n",
       "      <td>8.255822</td>\n",
       "    </tr>\n",
       "    <tr>\n",
       "      <th>3</th>\n",
       "      <td>2021-03</td>\n",
       "      <td>15.637541</td>\n",
       "      <td>3</td>\n",
       "      <td>9.714545</td>\n",
       "      <td>5.922996</td>\n",
       "      <td>1.231239</td>\n",
       "      <td>8.483306</td>\n",
       "    </tr>\n",
       "    <tr>\n",
       "      <th>4</th>\n",
       "      <td>2021-04</td>\n",
       "      <td>16.182958</td>\n",
       "      <td>4</td>\n",
       "      <td>10.127657</td>\n",
       "      <td>6.055301</td>\n",
       "      <td>1.296819</td>\n",
       "      <td>8.830838</td>\n",
       "    </tr>\n",
       "    <tr>\n",
       "      <th>5</th>\n",
       "      <td>2021-05</td>\n",
       "      <td>14.993584</td>\n",
       "      <td>5</td>\n",
       "      <td>10.595212</td>\n",
       "      <td>4.398372</td>\n",
       "      <td>0.720461</td>\n",
       "      <td>9.874751</td>\n",
       "    </tr>\n",
       "    <tr>\n",
       "      <th>6</th>\n",
       "      <td>2021-06</td>\n",
       "      <td>14.157124</td>\n",
       "      <td>6</td>\n",
       "      <td>11.118062</td>\n",
       "      <td>3.039062</td>\n",
       "      <td>0.072350</td>\n",
       "      <td>11.045711</td>\n",
       "    </tr>\n",
       "    <tr>\n",
       "      <th>7</th>\n",
       "      <td>2021-07</td>\n",
       "      <td>12.045988</td>\n",
       "      <td>7</td>\n",
       "      <td>11.514427</td>\n",
       "      <td>0.531561</td>\n",
       "      <td>-0.736132</td>\n",
       "      <td>12.250559</td>\n",
       "    </tr>\n",
       "    <tr>\n",
       "      <th>8</th>\n",
       "      <td>2021-08</td>\n",
       "      <td>10.829747</td>\n",
       "      <td>8</td>\n",
       "      <td>11.923604</td>\n",
       "      <td>-1.093858</td>\n",
       "      <td>-1.145828</td>\n",
       "      <td>13.069432</td>\n",
       "    </tr>\n",
       "    <tr>\n",
       "      <th>9</th>\n",
       "      <td>2021-09</td>\n",
       "      <td>12.232824</td>\n",
       "      <td>9</td>\n",
       "      <td>12.504234</td>\n",
       "      <td>-0.271410</td>\n",
       "      <td>-1.340680</td>\n",
       "      <td>13.844914</td>\n",
       "    </tr>\n",
       "    <tr>\n",
       "      <th>10</th>\n",
       "      <td>2021-10</td>\n",
       "      <td>12.423010</td>\n",
       "      <td>10</td>\n",
       "      <td>12.972220</td>\n",
       "      <td>-0.549210</td>\n",
       "      <td>-1.261261</td>\n",
       "      <td>14.233481</td>\n",
       "    </tr>\n",
       "    <tr>\n",
       "      <th>11</th>\n",
       "      <td>2021-11</td>\n",
       "      <td>14.533764</td>\n",
       "      <td>11</td>\n",
       "      <td>13.494343</td>\n",
       "      <td>1.039421</td>\n",
       "      <td>-0.598238</td>\n",
       "      <td>14.092581</td>\n",
       "    </tr>\n",
       "    <tr>\n",
       "      <th>12</th>\n",
       "      <td>2021-12</td>\n",
       "      <td>16.287626</td>\n",
       "      <td>12</td>\n",
       "      <td>13.954384</td>\n",
       "      <td>2.333242</td>\n",
       "      <td>-0.042519</td>\n",
       "      <td>13.996903</td>\n",
       "    </tr>\n",
       "    <tr>\n",
       "      <th>13</th>\n",
       "      <td>2022-01</td>\n",
       "      <td>19.227809</td>\n",
       "      <td>1</td>\n",
       "      <td>14.421620</td>\n",
       "      <td>4.806189</td>\n",
       "      <td>0.746205</td>\n",
       "      <td>13.675414</td>\n",
       "    </tr>\n",
       "    <tr>\n",
       "      <th>14</th>\n",
       "      <td>2022-02</td>\n",
       "      <td>21.519563</td>\n",
       "      <td>2</td>\n",
       "      <td>15.005961</td>\n",
       "      <td>6.513601</td>\n",
       "      <td>1.057582</td>\n",
       "      <td>13.948380</td>\n",
       "    </tr>\n",
       "    <tr>\n",
       "      <th>15</th>\n",
       "      <td>2022-03</td>\n",
       "      <td>21.924503</td>\n",
       "      <td>3</td>\n",
       "      <td>15.529875</td>\n",
       "      <td>6.394628</td>\n",
       "      <td>1.231239</td>\n",
       "      <td>14.298636</td>\n",
       "    </tr>\n",
       "    <tr>\n",
       "      <th>16</th>\n",
       "      <td>2022-04</td>\n",
       "      <td>22.651951</td>\n",
       "      <td>4</td>\n",
       "      <td>16.068958</td>\n",
       "      <td>6.582993</td>\n",
       "      <td>1.296819</td>\n",
       "      <td>14.772138</td>\n",
       "    </tr>\n",
       "    <tr>\n",
       "      <th>17</th>\n",
       "      <td>2022-05</td>\n",
       "      <td>21.199681</td>\n",
       "      <td>5</td>\n",
       "      <td>16.586132</td>\n",
       "      <td>4.613548</td>\n",
       "      <td>0.720461</td>\n",
       "      <td>15.865671</td>\n",
       "    </tr>\n",
       "    <tr>\n",
       "      <th>18</th>\n",
       "      <td>2022-06</td>\n",
       "      <td>19.854153</td>\n",
       "      <td>6</td>\n",
       "      <td>17.060885</td>\n",
       "      <td>2.793268</td>\n",
       "      <td>0.072350</td>\n",
       "      <td>16.988534</td>\n",
       "    </tr>\n",
       "    <tr>\n",
       "      <th>19</th>\n",
       "      <td>2022-07</td>\n",
       "      <td>18.199147</td>\n",
       "      <td>7</td>\n",
       "      <td>17.573648</td>\n",
       "      <td>0.625499</td>\n",
       "      <td>-0.736132</td>\n",
       "      <td>18.309780</td>\n",
       "    </tr>\n",
       "    <tr>\n",
       "      <th>20</th>\n",
       "      <td>2022-08</td>\n",
       "      <td>18.462037</td>\n",
       "      <td>8</td>\n",
       "      <td>18.209672</td>\n",
       "      <td>0.252365</td>\n",
       "      <td>-1.145828</td>\n",
       "      <td>19.355500</td>\n",
       "    </tr>\n",
       "    <tr>\n",
       "      <th>21</th>\n",
       "      <td>2022-09</td>\n",
       "      <td>17.493251</td>\n",
       "      <td>9</td>\n",
       "      <td>18.648041</td>\n",
       "      <td>-1.154790</td>\n",
       "      <td>-1.340680</td>\n",
       "      <td>19.988721</td>\n",
       "    </tr>\n",
       "    <tr>\n",
       "      <th>22</th>\n",
       "      <td>2022-10</td>\n",
       "      <td>18.007043</td>\n",
       "      <td>10</td>\n",
       "      <td>19.113377</td>\n",
       "      <td>-1.106334</td>\n",
       "      <td>-1.261261</td>\n",
       "      <td>20.374638</td>\n",
       "    </tr>\n",
       "    <tr>\n",
       "      <th>23</th>\n",
       "      <td>2022-11</td>\n",
       "      <td>20.911272</td>\n",
       "      <td>11</td>\n",
       "      <td>19.644836</td>\n",
       "      <td>1.266436</td>\n",
       "      <td>-0.598238</td>\n",
       "      <td>20.243074</td>\n",
       "    </tr>\n",
       "    <tr>\n",
       "      <th>24</th>\n",
       "      <td>2022-12</td>\n",
       "      <td>22.389578</td>\n",
       "      <td>12</td>\n",
       "      <td>20.153332</td>\n",
       "      <td>2.236246</td>\n",
       "      <td>-0.042519</td>\n",
       "      <td>20.195852</td>\n",
       "    </tr>\n",
       "    <tr>\n",
       "      <th>25</th>\n",
       "      <td>2023-01</td>\n",
       "      <td>25.604432</td>\n",
       "      <td>1</td>\n",
       "      <td>20.684718</td>\n",
       "      <td>4.919714</td>\n",
       "      <td>0.746205</td>\n",
       "      <td>19.938512</td>\n",
       "    </tr>\n",
       "    <tr>\n",
       "      <th>26</th>\n",
       "      <td>2023-02</td>\n",
       "      <td>26.484267</td>\n",
       "      <td>2</td>\n",
       "      <td>21.098443</td>\n",
       "      <td>5.385824</td>\n",
       "      <td>1.057582</td>\n",
       "      <td>20.040861</td>\n",
       "    </tr>\n",
       "    <tr>\n",
       "      <th>27</th>\n",
       "      <td>2023-03</td>\n",
       "      <td>27.835907</td>\n",
       "      <td>3</td>\n",
       "      <td>21.591060</td>\n",
       "      <td>6.244847</td>\n",
       "      <td>1.231239</td>\n",
       "      <td>20.359820</td>\n",
       "    </tr>\n",
       "    <tr>\n",
       "      <th>28</th>\n",
       "      <td>2023-04</td>\n",
       "      <td>28.562532</td>\n",
       "      <td>4</td>\n",
       "      <td>22.083608</td>\n",
       "      <td>6.478924</td>\n",
       "      <td>1.296819</td>\n",
       "      <td>20.786789</td>\n",
       "    </tr>\n",
       "    <tr>\n",
       "      <th>29</th>\n",
       "      <td>2023-05</td>\n",
       "      <td>27.869233</td>\n",
       "      <td>5</td>\n",
       "      <td>22.639404</td>\n",
       "      <td>5.229829</td>\n",
       "      <td>0.720461</td>\n",
       "      <td>21.918943</td>\n",
       "    </tr>\n",
       "    <tr>\n",
       "      <th>30</th>\n",
       "      <td>2023-06</td>\n",
       "      <td>26.085684</td>\n",
       "      <td>6</td>\n",
       "      <td>23.158699</td>\n",
       "      <td>2.926985</td>\n",
       "      <td>0.072350</td>\n",
       "      <td>23.086348</td>\n",
       "    </tr>\n",
       "    <tr>\n",
       "      <th>31</th>\n",
       "      <td>2023-07</td>\n",
       "      <td>24.442176</td>\n",
       "      <td>7</td>\n",
       "      <td>23.678951</td>\n",
       "      <td>0.763225</td>\n",
       "      <td>-0.736132</td>\n",
       "      <td>24.415083</td>\n",
       "    </tr>\n",
       "    <tr>\n",
       "      <th>32</th>\n",
       "      <td>2023-08</td>\n",
       "      <td>23.385347</td>\n",
       "      <td>8</td>\n",
       "      <td>24.089227</td>\n",
       "      <td>-0.703880</td>\n",
       "      <td>-1.145828</td>\n",
       "      <td>25.235055</td>\n",
       "    </tr>\n",
       "    <tr>\n",
       "      <th>33</th>\n",
       "      <td>2023-09</td>\n",
       "      <td>22.760739</td>\n",
       "      <td>9</td>\n",
       "      <td>24.528184</td>\n",
       "      <td>-1.767445</td>\n",
       "      <td>-1.340680</td>\n",
       "      <td>25.868864</td>\n",
       "    </tr>\n",
       "    <tr>\n",
       "      <th>34</th>\n",
       "      <td>2023-10</td>\n",
       "      <td>24.175976</td>\n",
       "      <td>10</td>\n",
       "      <td>25.042262</td>\n",
       "      <td>-0.866286</td>\n",
       "      <td>-1.261261</td>\n",
       "      <td>26.303523</td>\n",
       "    </tr>\n",
       "    <tr>\n",
       "      <th>35</th>\n",
       "      <td>2023-11</td>\n",
       "      <td>26.269681</td>\n",
       "      <td>11</td>\n",
       "      <td>25.488796</td>\n",
       "      <td>0.780885</td>\n",
       "      <td>-0.598238</td>\n",
       "      <td>26.087034</td>\n",
       "    </tr>\n",
       "    <tr>\n",
       "      <th>36</th>\n",
       "      <td>2023-12</td>\n",
       "      <td>29.528561</td>\n",
       "      <td>12</td>\n",
       "      <td>26.083711</td>\n",
       "      <td>3.444850</td>\n",
       "      <td>-0.042519</td>\n",
       "      <td>26.126231</td>\n",
       "    </tr>\n",
       "  </tbody>\n",
       "</table>\n",
       "</div>"
      ],
      "text/plain": [
       "       date      value  month         ma   detrend        SF        des\n",
       "0   2020-12  10.767135     12   8.397978  2.369157 -0.042519   8.440497\n",
       "1   2021-01  13.620981      1   8.887363  4.733618  0.746205   8.141158\n",
       "2   2021-02  14.507461      2   9.313404  5.194057  1.057582   8.255822\n",
       "3   2021-03  15.637541      3   9.714545  5.922996  1.231239   8.483306\n",
       "4   2021-04  16.182958      4  10.127657  6.055301  1.296819   8.830838\n",
       "5   2021-05  14.993584      5  10.595212  4.398372  0.720461   9.874751\n",
       "6   2021-06  14.157124      6  11.118062  3.039062  0.072350  11.045711\n",
       "7   2021-07  12.045988      7  11.514427  0.531561 -0.736132  12.250559\n",
       "8   2021-08  10.829747      8  11.923604 -1.093858 -1.145828  13.069432\n",
       "9   2021-09  12.232824      9  12.504234 -0.271410 -1.340680  13.844914\n",
       "10  2021-10  12.423010     10  12.972220 -0.549210 -1.261261  14.233481\n",
       "11  2021-11  14.533764     11  13.494343  1.039421 -0.598238  14.092581\n",
       "12  2021-12  16.287626     12  13.954384  2.333242 -0.042519  13.996903\n",
       "13  2022-01  19.227809      1  14.421620  4.806189  0.746205  13.675414\n",
       "14  2022-02  21.519563      2  15.005961  6.513601  1.057582  13.948380\n",
       "15  2022-03  21.924503      3  15.529875  6.394628  1.231239  14.298636\n",
       "16  2022-04  22.651951      4  16.068958  6.582993  1.296819  14.772138\n",
       "17  2022-05  21.199681      5  16.586132  4.613548  0.720461  15.865671\n",
       "18  2022-06  19.854153      6  17.060885  2.793268  0.072350  16.988534\n",
       "19  2022-07  18.199147      7  17.573648  0.625499 -0.736132  18.309780\n",
       "20  2022-08  18.462037      8  18.209672  0.252365 -1.145828  19.355500\n",
       "21  2022-09  17.493251      9  18.648041 -1.154790 -1.340680  19.988721\n",
       "22  2022-10  18.007043     10  19.113377 -1.106334 -1.261261  20.374638\n",
       "23  2022-11  20.911272     11  19.644836  1.266436 -0.598238  20.243074\n",
       "24  2022-12  22.389578     12  20.153332  2.236246 -0.042519  20.195852\n",
       "25  2023-01  25.604432      1  20.684718  4.919714  0.746205  19.938512\n",
       "26  2023-02  26.484267      2  21.098443  5.385824  1.057582  20.040861\n",
       "27  2023-03  27.835907      3  21.591060  6.244847  1.231239  20.359820\n",
       "28  2023-04  28.562532      4  22.083608  6.478924  1.296819  20.786789\n",
       "29  2023-05  27.869233      5  22.639404  5.229829  0.720461  21.918943\n",
       "30  2023-06  26.085684      6  23.158699  2.926985  0.072350  23.086348\n",
       "31  2023-07  24.442176      7  23.678951  0.763225 -0.736132  24.415083\n",
       "32  2023-08  23.385347      8  24.089227 -0.703880 -1.145828  25.235055\n",
       "33  2023-09  22.760739      9  24.528184 -1.767445 -1.340680  25.868864\n",
       "34  2023-10  24.175976     10  25.042262 -0.866286 -1.261261  26.303523\n",
       "35  2023-11  26.269681     11  25.488796  0.780885 -0.598238  26.087034\n",
       "36  2023-12  29.528561     12  26.083711  3.444850 -0.042519  26.126231"
      ]
     },
     "execution_count": 277,
     "metadata": {},
     "output_type": "execute_result"
    }
   ],
   "source": [
    "df['des'] = df['ma']-df['SF']\n",
    "df"
   ]
  },
  {
   "cell_type": "code",
   "execution_count": 248,
   "metadata": {},
   "outputs": [],
   "source": [
    "import numpy as np\n",
    "import pandas as pd\n",
    "from statsmodels.tsa.stattools import acf\n",
    "import plotly.express as px\n",
    "\n",
    "from plotly.subplots import make_subplots\n",
    "from statsmodels.tsa.seasonal import DecomposeResult, seasonal_decompose\n",
    "import plotly.graph_objects as go\n",
    "\n",
    "from statsmodels.graphics.tsaplots import plot_acf\n",
    "\n",
    "from scipy.optimize import minimize\n",
    "\n",
    "import statsmodels.api as sm"
   ]
  },
  {
   "cell_type": "code",
   "execution_count": 249,
   "metadata": {},
   "outputs": [
    {
     "data": {
      "text/plain": [
       "0     11.319811\n",
       "1     11.602904\n",
       "2     11.423419\n",
       "3     12.156115\n",
       "4     12.438680\n",
       "5     12.811443\n",
       "6     13.958035\n",
       "7     14.256931\n",
       "8     14.016537\n",
       "9     15.706119\n",
       "10    16.056356\n",
       "11    16.185769\n",
       "12    16.840301\n",
       "13    17.209732\n",
       "14    18.435520\n",
       "15    18.443077\n",
       "16    18.907673\n",
       "17    19.017539\n",
       "18    19.655064\n",
       "19    20.410090\n",
       "20    21.648828\n",
       "21    20.966546\n",
       "22    21.640389\n",
       "23    22.563277\n",
       "24    22.942254\n",
       "25    23.586355\n",
       "26    23.400224\n",
       "27    24.354480\n",
       "28    24.818254\n",
       "29    25.687092\n",
       "30    25.886595\n",
       "31    26.653119\n",
       "32    26.572137\n",
       "33    26.234033\n",
       "34    27.809322\n",
       "35    27.921685\n",
       "36    30.081237\n",
       "dtype: float64"
      ]
     },
     "execution_count": 249,
     "metadata": {},
     "output_type": "execute_result"
    }
   ],
   "source": [
    "# Perform seasonal decomposition\n",
    "decomposition = seasonal_decompose(df['value'], model='additive', period=12)\n",
    "\n",
    "# Extract seasonal component\n",
    "seasonal = decomposition.seasonal\n",
    "\n",
    "# Detrended data (without seasonal component)\n",
    "detrended = df['value'] - seasonal\n",
    "\n",
    "detrended"
   ]
  },
  {
   "cell_type": "code",
   "execution_count": null,
   "metadata": {},
   "outputs": [
    {
     "data": {
      "application/vnd.plotly.v1+json": {
       "config": {
        "plotlyServerURL": "https://plot.ly"
       },
       "data": [
        {
         "hovertemplate": "variable=original<br>Date=%{x}<br>Value=%{y}<extra></extra>",
         "legendgroup": "original",
         "line": {
          "color": "#636efa",
          "dash": "solid"
         },
         "marker": {
          "symbol": "circle"
         },
         "mode": "lines",
         "name": "original",
         "orientation": "v",
         "showlegend": true,
         "type": "scatter",
         "x": [
          0,
          1,
          2,
          3,
          4,
          5,
          6,
          7,
          8,
          9,
          10,
          11,
          12,
          13,
          14,
          15,
          16,
          17,
          18,
          19,
          20,
          21,
          22,
          23,
          24,
          25,
          26,
          27,
          28,
          29,
          30,
          31,
          32,
          33,
          34,
          35,
          36
         ],
         "xaxis": "x",
         "y": [
          10.76713512321487,
          13.620981135783014,
          14.507461492808854,
          15.637541083743484,
          16.18295785051727,
          14.993584439832793,
          14.157123666297638,
          12.045987962239398,
          10.829746534194602,
          12.232824384460777,
          12.423010234618975,
          14.533764102343957,
          16.28762590689327,
          19.227808637737404,
          21.519562909992683,
          21.924503211288847,
          22.651950624310594,
          21.199680655040606,
          19.85415312510337,
          18.199146693885304,
          18.462037477116716,
          17.493251387631034,
          18.00704292038429,
          20.911272456051584,
          22.389578175014485,
          25.604431797502375,
          26.484266553197862,
          27.835906975550785,
          28.56253223307232,
          27.86923328999772,
          26.08568414059499,
          24.442175858805882,
          23.385346537067605,
          22.760739004816287,
          24.175976280664884,
          26.26968061452009,
          29.528561113109454
         ],
         "yaxis": "y"
        },
        {
         "hovertemplate": "variable=seasonal<br>Date=%{x}<br>Value=%{y}<extra></extra>",
         "legendgroup": "seasonal",
         "line": {
          "color": "#EF553B",
          "dash": "solid"
         },
         "marker": {
          "symbol": "circle"
         },
         "mode": "lines",
         "name": "seasonal",
         "orientation": "v",
         "showlegend": true,
         "type": "scatter",
         "x": [
          0,
          1,
          2,
          3,
          4,
          5,
          6,
          7,
          8,
          9,
          10,
          11,
          12,
          13,
          14,
          15,
          16,
          17,
          18,
          19,
          20,
          21,
          22,
          23,
          24,
          25,
          26,
          27,
          28,
          29,
          30,
          31,
          32,
          33,
          34,
          35,
          36
         ],
         "xaxis": "x",
         "y": [
          -0.5526754491787054,
          2.0180771364276424,
          3.084042735831371,
          3.4814265430053197,
          3.7442778643936023,
          2.182141688258346,
          0.1990890637374465,
          -2.2109435056983706,
          -3.186790822315653,
          -3.473294336762831,
          -3.633346067689655,
          -1.6520048500085156,
          -0.5526754491787054,
          2.0180771364276424,
          3.084042735831371,
          3.4814265430053197,
          3.7442778643936023,
          2.182141688258346,
          0.1990890637374465,
          -2.2109435056983706,
          -3.186790822315653,
          -3.473294336762831,
          -3.633346067689655,
          -1.6520048500085156,
          -0.5526754491787054,
          2.0180771364276424,
          3.084042735831371,
          3.4814265430053197,
          3.7442778643936023,
          2.182141688258346,
          0.1990890637374465,
          -2.2109435056983706,
          -3.186790822315653,
          -3.473294336762831,
          -3.633346067689655,
          -1.6520048500085156,
          -0.5526754491787054
         ],
         "yaxis": "y"
        },
        {
         "hovertemplate": "variable=detrended<br>Date=%{x}<br>Value=%{y}<extra></extra>",
         "legendgroup": "detrended",
         "line": {
          "color": "#00cc96",
          "dash": "solid"
         },
         "marker": {
          "symbol": "circle"
         },
         "mode": "lines",
         "name": "detrended",
         "orientation": "v",
         "showlegend": true,
         "type": "scatter",
         "x": [
          0,
          1,
          2,
          3,
          4,
          5,
          6,
          7,
          8,
          9,
          10,
          11,
          12,
          13,
          14,
          15,
          16,
          17,
          18,
          19,
          20,
          21,
          22,
          23,
          24,
          25,
          26,
          27,
          28,
          29,
          30,
          31,
          32,
          33,
          34,
          35,
          36
         ],
         "xaxis": "x",
         "y": [
          11.319810572393576,
          11.602903999355371,
          11.423418756977483,
          12.156114540738164,
          12.438679986123667,
          12.811442751574447,
          13.958034602560192,
          14.256931467937768,
          14.016537356510256,
          15.706118721223607,
          16.05635630230863,
          16.185768952352472,
          16.840301356071972,
          17.20973150130976,
          18.43552017416131,
          18.443076668283528,
          18.90767275991699,
          19.01753896678226,
          19.655064061365923,
          20.410090199583674,
          21.64882829943237,
          20.966545724393864,
          21.640388988073944,
          22.5632773060601,
          22.94225362419319,
          23.586354661074733,
          23.40022381736649,
          24.354480432545465,
          24.81825436867872,
          25.687091601739375,
          25.886595076857542,
          26.653119364504253,
          26.57213735938326,
          26.234033341579117,
          27.809322348354538,
          27.921685464528608,
          30.081236562288158
         ],
         "yaxis": "y"
        }
       ],
       "layout": {
        "legend": {
         "title": {
          "text": "variable"
         },
         "tracegroupgap": 0
        },
        "template": {
         "data": {
          "bar": [
           {
            "error_x": {
             "color": "#2a3f5f"
            },
            "error_y": {
             "color": "#2a3f5f"
            },
            "marker": {
             "line": {
              "color": "#E5ECF6",
              "width": 0.5
             },
             "pattern": {
              "fillmode": "overlay",
              "size": 10,
              "solidity": 0.2
             }
            },
            "type": "bar"
           }
          ],
          "barpolar": [
           {
            "marker": {
             "line": {
              "color": "#E5ECF6",
              "width": 0.5
             },
             "pattern": {
              "fillmode": "overlay",
              "size": 10,
              "solidity": 0.2
             }
            },
            "type": "barpolar"
           }
          ],
          "carpet": [
           {
            "aaxis": {
             "endlinecolor": "#2a3f5f",
             "gridcolor": "white",
             "linecolor": "white",
             "minorgridcolor": "white",
             "startlinecolor": "#2a3f5f"
            },
            "baxis": {
             "endlinecolor": "#2a3f5f",
             "gridcolor": "white",
             "linecolor": "white",
             "minorgridcolor": "white",
             "startlinecolor": "#2a3f5f"
            },
            "type": "carpet"
           }
          ],
          "choropleth": [
           {
            "colorbar": {
             "outlinewidth": 0,
             "ticks": ""
            },
            "type": "choropleth"
           }
          ],
          "contour": [
           {
            "colorbar": {
             "outlinewidth": 0,
             "ticks": ""
            },
            "colorscale": [
             [
              0,
              "#0d0887"
             ],
             [
              0.1111111111111111,
              "#46039f"
             ],
             [
              0.2222222222222222,
              "#7201a8"
             ],
             [
              0.3333333333333333,
              "#9c179e"
             ],
             [
              0.4444444444444444,
              "#bd3786"
             ],
             [
              0.5555555555555556,
              "#d8576b"
             ],
             [
              0.6666666666666666,
              "#ed7953"
             ],
             [
              0.7777777777777778,
              "#fb9f3a"
             ],
             [
              0.8888888888888888,
              "#fdca26"
             ],
             [
              1,
              "#f0f921"
             ]
            ],
            "type": "contour"
           }
          ],
          "contourcarpet": [
           {
            "colorbar": {
             "outlinewidth": 0,
             "ticks": ""
            },
            "type": "contourcarpet"
           }
          ],
          "heatmap": [
           {
            "colorbar": {
             "outlinewidth": 0,
             "ticks": ""
            },
            "colorscale": [
             [
              0,
              "#0d0887"
             ],
             [
              0.1111111111111111,
              "#46039f"
             ],
             [
              0.2222222222222222,
              "#7201a8"
             ],
             [
              0.3333333333333333,
              "#9c179e"
             ],
             [
              0.4444444444444444,
              "#bd3786"
             ],
             [
              0.5555555555555556,
              "#d8576b"
             ],
             [
              0.6666666666666666,
              "#ed7953"
             ],
             [
              0.7777777777777778,
              "#fb9f3a"
             ],
             [
              0.8888888888888888,
              "#fdca26"
             ],
             [
              1,
              "#f0f921"
             ]
            ],
            "type": "heatmap"
           }
          ],
          "heatmapgl": [
           {
            "colorbar": {
             "outlinewidth": 0,
             "ticks": ""
            },
            "colorscale": [
             [
              0,
              "#0d0887"
             ],
             [
              0.1111111111111111,
              "#46039f"
             ],
             [
              0.2222222222222222,
              "#7201a8"
             ],
             [
              0.3333333333333333,
              "#9c179e"
             ],
             [
              0.4444444444444444,
              "#bd3786"
             ],
             [
              0.5555555555555556,
              "#d8576b"
             ],
             [
              0.6666666666666666,
              "#ed7953"
             ],
             [
              0.7777777777777778,
              "#fb9f3a"
             ],
             [
              0.8888888888888888,
              "#fdca26"
             ],
             [
              1,
              "#f0f921"
             ]
            ],
            "type": "heatmapgl"
           }
          ],
          "histogram": [
           {
            "marker": {
             "pattern": {
              "fillmode": "overlay",
              "size": 10,
              "solidity": 0.2
             }
            },
            "type": "histogram"
           }
          ],
          "histogram2d": [
           {
            "colorbar": {
             "outlinewidth": 0,
             "ticks": ""
            },
            "colorscale": [
             [
              0,
              "#0d0887"
             ],
             [
              0.1111111111111111,
              "#46039f"
             ],
             [
              0.2222222222222222,
              "#7201a8"
             ],
             [
              0.3333333333333333,
              "#9c179e"
             ],
             [
              0.4444444444444444,
              "#bd3786"
             ],
             [
              0.5555555555555556,
              "#d8576b"
             ],
             [
              0.6666666666666666,
              "#ed7953"
             ],
             [
              0.7777777777777778,
              "#fb9f3a"
             ],
             [
              0.8888888888888888,
              "#fdca26"
             ],
             [
              1,
              "#f0f921"
             ]
            ],
            "type": "histogram2d"
           }
          ],
          "histogram2dcontour": [
           {
            "colorbar": {
             "outlinewidth": 0,
             "ticks": ""
            },
            "colorscale": [
             [
              0,
              "#0d0887"
             ],
             [
              0.1111111111111111,
              "#46039f"
             ],
             [
              0.2222222222222222,
              "#7201a8"
             ],
             [
              0.3333333333333333,
              "#9c179e"
             ],
             [
              0.4444444444444444,
              "#bd3786"
             ],
             [
              0.5555555555555556,
              "#d8576b"
             ],
             [
              0.6666666666666666,
              "#ed7953"
             ],
             [
              0.7777777777777778,
              "#fb9f3a"
             ],
             [
              0.8888888888888888,
              "#fdca26"
             ],
             [
              1,
              "#f0f921"
             ]
            ],
            "type": "histogram2dcontour"
           }
          ],
          "mesh3d": [
           {
            "colorbar": {
             "outlinewidth": 0,
             "ticks": ""
            },
            "type": "mesh3d"
           }
          ],
          "parcoords": [
           {
            "line": {
             "colorbar": {
              "outlinewidth": 0,
              "ticks": ""
             }
            },
            "type": "parcoords"
           }
          ],
          "pie": [
           {
            "automargin": true,
            "type": "pie"
           }
          ],
          "scatter": [
           {
            "fillpattern": {
             "fillmode": "overlay",
             "size": 10,
             "solidity": 0.2
            },
            "type": "scatter"
           }
          ],
          "scatter3d": [
           {
            "line": {
             "colorbar": {
              "outlinewidth": 0,
              "ticks": ""
             }
            },
            "marker": {
             "colorbar": {
              "outlinewidth": 0,
              "ticks": ""
             }
            },
            "type": "scatter3d"
           }
          ],
          "scattercarpet": [
           {
            "marker": {
             "colorbar": {
              "outlinewidth": 0,
              "ticks": ""
             }
            },
            "type": "scattercarpet"
           }
          ],
          "scattergeo": [
           {
            "marker": {
             "colorbar": {
              "outlinewidth": 0,
              "ticks": ""
             }
            },
            "type": "scattergeo"
           }
          ],
          "scattergl": [
           {
            "marker": {
             "colorbar": {
              "outlinewidth": 0,
              "ticks": ""
             }
            },
            "type": "scattergl"
           }
          ],
          "scattermapbox": [
           {
            "marker": {
             "colorbar": {
              "outlinewidth": 0,
              "ticks": ""
             }
            },
            "type": "scattermapbox"
           }
          ],
          "scatterpolar": [
           {
            "marker": {
             "colorbar": {
              "outlinewidth": 0,
              "ticks": ""
             }
            },
            "type": "scatterpolar"
           }
          ],
          "scatterpolargl": [
           {
            "marker": {
             "colorbar": {
              "outlinewidth": 0,
              "ticks": ""
             }
            },
            "type": "scatterpolargl"
           }
          ],
          "scatterternary": [
           {
            "marker": {
             "colorbar": {
              "outlinewidth": 0,
              "ticks": ""
             }
            },
            "type": "scatterternary"
           }
          ],
          "surface": [
           {
            "colorbar": {
             "outlinewidth": 0,
             "ticks": ""
            },
            "colorscale": [
             [
              0,
              "#0d0887"
             ],
             [
              0.1111111111111111,
              "#46039f"
             ],
             [
              0.2222222222222222,
              "#7201a8"
             ],
             [
              0.3333333333333333,
              "#9c179e"
             ],
             [
              0.4444444444444444,
              "#bd3786"
             ],
             [
              0.5555555555555556,
              "#d8576b"
             ],
             [
              0.6666666666666666,
              "#ed7953"
             ],
             [
              0.7777777777777778,
              "#fb9f3a"
             ],
             [
              0.8888888888888888,
              "#fdca26"
             ],
             [
              1,
              "#f0f921"
             ]
            ],
            "type": "surface"
           }
          ],
          "table": [
           {
            "cells": {
             "fill": {
              "color": "#EBF0F8"
             },
             "line": {
              "color": "white"
             }
            },
            "header": {
             "fill": {
              "color": "#C8D4E3"
             },
             "line": {
              "color": "white"
             }
            },
            "type": "table"
           }
          ]
         },
         "layout": {
          "annotationdefaults": {
           "arrowcolor": "#2a3f5f",
           "arrowhead": 0,
           "arrowwidth": 1
          },
          "autotypenumbers": "strict",
          "coloraxis": {
           "colorbar": {
            "outlinewidth": 0,
            "ticks": ""
           }
          },
          "colorscale": {
           "diverging": [
            [
             0,
             "#8e0152"
            ],
            [
             0.1,
             "#c51b7d"
            ],
            [
             0.2,
             "#de77ae"
            ],
            [
             0.3,
             "#f1b6da"
            ],
            [
             0.4,
             "#fde0ef"
            ],
            [
             0.5,
             "#f7f7f7"
            ],
            [
             0.6,
             "#e6f5d0"
            ],
            [
             0.7,
             "#b8e186"
            ],
            [
             0.8,
             "#7fbc41"
            ],
            [
             0.9,
             "#4d9221"
            ],
            [
             1,
             "#276419"
            ]
           ],
           "sequential": [
            [
             0,
             "#0d0887"
            ],
            [
             0.1111111111111111,
             "#46039f"
            ],
            [
             0.2222222222222222,
             "#7201a8"
            ],
            [
             0.3333333333333333,
             "#9c179e"
            ],
            [
             0.4444444444444444,
             "#bd3786"
            ],
            [
             0.5555555555555556,
             "#d8576b"
            ],
            [
             0.6666666666666666,
             "#ed7953"
            ],
            [
             0.7777777777777778,
             "#fb9f3a"
            ],
            [
             0.8888888888888888,
             "#fdca26"
            ],
            [
             1,
             "#f0f921"
            ]
           ],
           "sequentialminus": [
            [
             0,
             "#0d0887"
            ],
            [
             0.1111111111111111,
             "#46039f"
            ],
            [
             0.2222222222222222,
             "#7201a8"
            ],
            [
             0.3333333333333333,
             "#9c179e"
            ],
            [
             0.4444444444444444,
             "#bd3786"
            ],
            [
             0.5555555555555556,
             "#d8576b"
            ],
            [
             0.6666666666666666,
             "#ed7953"
            ],
            [
             0.7777777777777778,
             "#fb9f3a"
            ],
            [
             0.8888888888888888,
             "#fdca26"
            ],
            [
             1,
             "#f0f921"
            ]
           ]
          },
          "colorway": [
           "#636efa",
           "#EF553B",
           "#00cc96",
           "#ab63fa",
           "#FFA15A",
           "#19d3f3",
           "#FF6692",
           "#B6E880",
           "#FF97FF",
           "#FECB52"
          ],
          "font": {
           "color": "#2a3f5f"
          },
          "geo": {
           "bgcolor": "white",
           "lakecolor": "white",
           "landcolor": "#E5ECF6",
           "showlakes": true,
           "showland": true,
           "subunitcolor": "white"
          },
          "hoverlabel": {
           "align": "left"
          },
          "hovermode": "closest",
          "mapbox": {
           "style": "light"
          },
          "paper_bgcolor": "white",
          "plot_bgcolor": "#E5ECF6",
          "polar": {
           "angularaxis": {
            "gridcolor": "white",
            "linecolor": "white",
            "ticks": ""
           },
           "bgcolor": "#E5ECF6",
           "radialaxis": {
            "gridcolor": "white",
            "linecolor": "white",
            "ticks": ""
           }
          },
          "scene": {
           "xaxis": {
            "backgroundcolor": "#E5ECF6",
            "gridcolor": "white",
            "gridwidth": 2,
            "linecolor": "white",
            "showbackground": true,
            "ticks": "",
            "zerolinecolor": "white"
           },
           "yaxis": {
            "backgroundcolor": "#E5ECF6",
            "gridcolor": "white",
            "gridwidth": 2,
            "linecolor": "white",
            "showbackground": true,
            "ticks": "",
            "zerolinecolor": "white"
           },
           "zaxis": {
            "backgroundcolor": "#E5ECF6",
            "gridcolor": "white",
            "gridwidth": 2,
            "linecolor": "white",
            "showbackground": true,
            "ticks": "",
            "zerolinecolor": "white"
           }
          },
          "shapedefaults": {
           "line": {
            "color": "#2a3f5f"
           }
          },
          "ternary": {
           "aaxis": {
            "gridcolor": "white",
            "linecolor": "white",
            "ticks": ""
           },
           "baxis": {
            "gridcolor": "white",
            "linecolor": "white",
            "ticks": ""
           },
           "bgcolor": "#E5ECF6",
           "caxis": {
            "gridcolor": "white",
            "linecolor": "white",
            "ticks": ""
           }
          },
          "title": {
           "x": 0.05
          },
          "xaxis": {
           "automargin": true,
           "gridcolor": "white",
           "linecolor": "white",
           "ticks": "",
           "title": {
            "standoff": 15
           },
           "zerolinecolor": "white",
           "zerolinewidth": 2
          },
          "yaxis": {
           "automargin": true,
           "gridcolor": "white",
           "linecolor": "white",
           "ticks": "",
           "title": {
            "standoff": 15
           },
           "zerolinecolor": "white",
           "zerolinewidth": 2
          }
         }
        },
        "title": {
         "text": "Seasonal Decomposition of Time Series"
        },
        "xaxis": {
         "anchor": "y",
         "domain": [
          0,
          1
         ],
         "title": {
          "text": "Date"
         }
        },
        "yaxis": {
         "anchor": "x",
         "domain": [
          0,
          1
         ],
         "title": {
          "text": "Value"
         }
        }
       }
      }
     },
     "metadata": {},
     "output_type": "display_data"
    }
   ],
   "source": [
    "# Create a DataFrame to store the results\n",
    "result_df = pd.DataFrame({\n",
    "    'date': df.index,\n",
    "    'original': df['value'],\n",
    "    'seasonal': seasonal,\n",
    "    'detrended': detrended\n",
    "})\n",
    "\n",
    "# Plotting using Plotly Express\n",
    "fig = px.line(result_df, x='date', y=['original', 'seasonal', 'detrended'],\n",
    "              labels={'value': 'Value', 'date': 'Date'},\n",
    "              title='Seasonal Decomposition of Time Series')\n",
    "\n",
    "fig.show()"
   ]
  },
  {
   "cell_type": "code",
   "execution_count": 251,
   "metadata": {},
   "outputs": [
    {
     "ename": "AttributeError",
     "evalue": "'RangeIndex' object has no attribute 'month'",
     "output_type": "error",
     "traceback": [
      "\u001b[1;31m---------------------------------------------------------------------------\u001b[0m",
      "\u001b[1;31mAttributeError\u001b[0m                            Traceback (most recent call last)",
      "Cell \u001b[1;32mIn[251], line 13\u001b[0m\n\u001b[0;32m     10\u001b[0m detrended \u001b[38;5;241m=\u001b[39m df[\u001b[38;5;124m'\u001b[39m\u001b[38;5;124mvalue\u001b[39m\u001b[38;5;124m'\u001b[39m] \u001b[38;5;241m-\u001b[39m trend\n\u001b[0;32m     12\u001b[0m \u001b[38;5;66;03m# Step 3: Calculate the seasonal component (average per month)\u001b[39;00m\n\u001b[1;32m---> 13\u001b[0m seasonal \u001b[38;5;241m=\u001b[39m detrended\u001b[38;5;241m.\u001b[39mgroupby(\u001b[43mdf\u001b[49m\u001b[38;5;241;43m.\u001b[39;49m\u001b[43mindex\u001b[49m\u001b[38;5;241;43m.\u001b[39;49m\u001b[43mmonth\u001b[49m)\u001b[38;5;241m.\u001b[39mmean()\n\u001b[0;32m     15\u001b[0m \u001b[38;5;66;03m# Step 4: Remove the seasonal component (for each month, subtract the seasonal average)\u001b[39;00m\n\u001b[0;32m     16\u001b[0m \u001b[38;5;66;03m# Adjust for mean\u001b[39;00m\n\u001b[0;32m     17\u001b[0m adjusted_seasonal \u001b[38;5;241m=\u001b[39m detrended \u001b[38;5;241m-\u001b[39m seasonal[df\u001b[38;5;241m.\u001b[39mindex\u001b[38;5;241m.\u001b[39mmonth]\n",
      "\u001b[1;31mAttributeError\u001b[0m: 'RangeIndex' object has no attribute 'month'"
     ]
    }
   ],
   "source": [
    "import numpy as np\n",
    "\n",
    "# Assuming you have monthly data and a 12-month cycle (period=12)\n",
    "window = 12\n",
    "\n",
    "# Step 1: Calculate the moving average (trend)\n",
    "trend = df['value'].rolling(window=window, center=True).mean()\n",
    "\n",
    "# Step 2: Detrend the data (original data - trend)\n",
    "detrended = df['value'] - trend\n",
    "\n",
    "# Step 3: Calculate the seasonal component (average per month)\n",
    "seasonal = detrended.groupby(df.index.month).mean()\n",
    "\n",
    "# Step 4: Remove the seasonal component (for each month, subtract the seasonal average)\n",
    "# Adjust for mean\n",
    "adjusted_seasonal = detrended - seasonal[df.index.month]\n",
    "\n",
    "# Plot to compare\n",
    "plt.figure(figsize=(10, 6))\n",
    "plt.subplot(3, 1, 1)\n",
    "plt.plot(df['value'], label='Original Data')\n",
    "plt.title('Original Data')\n",
    "plt.subplot(3, 1, 2)\n",
    "plt.plot(trend, label='Trend', color='green')\n",
    "plt.title('Trend')\n",
    "plt.subplot(3, 1, 3)\n",
    "plt.plot(seasonal, label='Seasonal', color='orange')\n",
    "plt.title('Seasonal Component')\n",
    "plt.tight_layout()\n",
    "plt.show()\n"
   ]
  }
 ],
 "metadata": {
  "kernelspec": {
   "display_name": "bf_venv-VQsFRQRa",
   "language": "python",
   "name": "python3"
  },
  "language_info": {
   "codemirror_mode": {
    "name": "ipython",
    "version": 3
   },
   "file_extension": ".py",
   "mimetype": "text/x-python",
   "name": "python",
   "nbconvert_exporter": "python",
   "pygments_lexer": "ipython3",
   "version": "3.10.10"
  }
 },
 "nbformat": 4,
 "nbformat_minor": 2
}
