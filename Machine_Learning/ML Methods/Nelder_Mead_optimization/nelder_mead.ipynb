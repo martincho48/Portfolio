{
 "cells": [
  {
   "cell_type": "markdown",
   "metadata": {},
   "source": [
    "# Nelder-Mead optimization"
   ]
  },
  {
   "cell_type": "code",
   "execution_count": 191,
   "metadata": {},
   "outputs": [],
   "source": [
    "import plotly.express as px\n",
    "import numpy as np\n",
    "import pandas as pd"
   ]
  },
  {
   "cell_type": "markdown",
   "metadata": {},
   "source": [
    "### Define functions"
   ]
  },
  {
   "cell_type": "code",
   "execution_count": 192,
   "metadata": {},
   "outputs": [],
   "source": [
    "# Define the objective function (x - 3)^2\n",
    "def objective_function(x):\n",
    "    return (x - 3)**2+20"
   ]
  },
  {
   "cell_type": "code",
   "execution_count": 193,
   "metadata": {},
   "outputs": [],
   "source": [
    "def plot_quadratic_function(min_x, min_name='global minimum', title=\"Plot of f(x) = (x - 3)²+20\"):\n",
    "    # Generate x and y values\n",
    "    x_values = np.linspace(-10, 10, 100)\n",
    "    y_values = objective_function(x_values)\n",
    "\n",
    "    # Create a DataFrame for Plotly\n",
    "    data = pd.DataFrame({\n",
    "        \"x\": x_values,\n",
    "        \"f(x)\": y_values\n",
    "    })\n",
    "\n",
    "    # Coordinates of the local minimum\n",
    "    min_x = 3\n",
    "    min_y = objective_function(min_x)\n",
    "\n",
    "    # Plot the quadratic function using Plotly Express\n",
    "    fig = px.line(data, x=\"x\", y=\"f(x)\", title=title,\n",
    "                labels={\"x\": \"x\", \"f(x)\": \"f(x)\"},\n",
    "                )\n",
    "\n",
    "    # Add a marker for the local minimum\n",
    "    fig.add_scatter(x=[min_x], y=[min_y], mode=\"markers\",\n",
    "                    marker=dict(color=\"red\", size=10, symbol=\"circle\"),\n",
    "                    name=min_name)\n",
    "\n",
    "    # Update the figure layout to adjust size\n",
    "    fig.update_layout(\n",
    "        width=800,  # Width in pixels\n",
    "        height=600  # Height in pixels\n",
    "    )\n",
    "\n",
    "    fig.show()"
   ]
  },
  {
   "cell_type": "code",
   "execution_count": 194,
   "metadata": {},
   "outputs": [],
   "source": [
    "def evaluate_points(f, points):\n",
    "    # Compute function values for each point in the simplex\n",
    "    values = [f(x) for x in points]\n",
    "    values = np.array(values)\n",
    "    \n",
    "    # Sort indices based on function values (from the lowest to the highest)\n",
    "    sorted_indices = np.argsort(values)\n",
    "    \n",
    "    # Return both sorted simplex points and their corresponding function values\n",
    "    sorted_points = points[sorted_indices]\n",
    "    sorted_values = values[sorted_indices]\n",
    "\n",
    "    return sorted_points, sorted_values\n"
   ]
  },
  {
   "cell_type": "code",
   "execution_count": 196,
   "metadata": {},
   "outputs": [],
   "source": [
    "def nelder_meads_algorithm(points, max_iter=1000, alpha=1, gamma=2, beta=0.5, delta=0.5, tol=1e-4):\n",
    "    for iteration in range(max_iter):\n",
    "        # Step 0: Evaluate points and sort by function values\n",
    "        points, f_values = evaluate_points(f=objective_function, points=points)\n",
    "\n",
    "        print(f\"iteration: {iteration}\")\n",
    "        print(f\"f(x) values: {f_values}\")\n",
    "        print(f\"points: {points}\")\n",
    "\n",
    "        # Step 1: Define best, second-worst, and worst points\n",
    "        x_best, x_worst = points[0], points[-1]\n",
    "        f_best, f_second_worst, f_worst = f_values[0], f_values[-2], f_values[-1]\n",
    "\n",
    "        # Step 2: Calculate the centroid (excluding the worst point)\n",
    "        x_centroid = np.mean(points[:-1], axis=0)\n",
    "\n",
    "        # Step 3: Reflection\n",
    "        x_ref = x_centroid + alpha * (x_centroid - x_worst)\n",
    "        f_ref = objective_function(x_ref)\n",
    "\n",
    "        if f_ref < f_best:  # Expansion\n",
    "            x_exp = x_centroid + gamma * (x_ref - x_centroid)\n",
    "            f_exp = objective_function(x_exp)\n",
    "            points[-1] = x_exp if f_exp < f_ref else x_ref\n",
    "        elif f_best <= f_ref < f_second_worst:  # Accept reflection\n",
    "            points[-1] = x_ref\n",
    "        else:\n",
    "            # Contraction\n",
    "            if f_ref < f_worst:  # Outside contraction\n",
    "                x_cont = x_centroid + beta * (x_ref - x_centroid)\n",
    "            else:  # Inside contraction\n",
    "                x_cont = x_centroid + beta * (x_worst - x_centroid)\n",
    "\n",
    "            f_cont = objective_function(x_cont)\n",
    "            if f_cont < min(f_ref, f_worst):\n",
    "                points[-1] = x_cont\n",
    "            else:  # Shrink the simplex\n",
    "                points = [x_best] + [x_best + delta * (point - x_best) for point in points if point != x_best]\n",
    "                print('shrink')\n",
    "\n",
    "        # Convergence check\n",
    "        if np.std(f_values) < tol:\n",
    "            print(f\"Converged after {iteration} iterations.\")\n",
    "            break\n",
    "\n"
   ]
  },
  {
   "cell_type": "markdown",
   "metadata": {},
   "source": [
    "### Plot the function"
   ]
  },
  {
   "cell_type": "code",
   "execution_count": 197,
   "metadata": {},
   "outputs": [
    {
     "data": {
      "application/vnd.plotly.v1+json": {
       "config": {
        "plotlyServerURL": "https://plot.ly"
       },
       "data": [
        {
         "hovertemplate": "x=%{x}<br>f(x)=%{y}<extra></extra>",
         "legendgroup": "",
         "line": {
          "color": "#636efa",
          "dash": "solid"
         },
         "marker": {
          "symbol": "circle"
         },
         "mode": "lines",
         "name": "",
         "orientation": "v",
         "showlegend": false,
         "type": "scatter",
         "x": [
          -10,
          -9.797979797979798,
          -9.595959595959595,
          -9.393939393939394,
          -9.191919191919192,
          -8.98989898989899,
          -8.787878787878787,
          -8.585858585858587,
          -8.383838383838384,
          -8.181818181818182,
          -7.979797979797979,
          -7.777777777777778,
          -7.575757575757576,
          -7.373737373737374,
          -7.171717171717171,
          -6.96969696969697,
          -6.767676767676768,
          -6.565656565656566,
          -6.363636363636363,
          -6.161616161616162,
          -5.959595959595959,
          -5.757575757575758,
          -5.555555555555555,
          -5.353535353535354,
          -5.151515151515151,
          -4.94949494949495,
          -4.747474747474747,
          -4.545454545454546,
          -4.343434343434343,
          -4.141414141414142,
          -3.9393939393939394,
          -3.737373737373738,
          -3.5353535353535355,
          -3.333333333333333,
          -3.1313131313131315,
          -2.929292929292929,
          -2.7272727272727275,
          -2.525252525252525,
          -2.3232323232323235,
          -2.121212121212121,
          -1.9191919191919187,
          -1.717171717171718,
          -1.5151515151515156,
          -1.3131313131313131,
          -1.1111111111111107,
          -0.9090909090909101,
          -0.7070707070707076,
          -0.5050505050505052,
          -0.30303030303030276,
          -0.10101010101010033,
          0.10101010101010033,
          0.30303030303030276,
          0.5050505050505052,
          0.7070707070707076,
          0.9090909090909083,
          1.1111111111111107,
          1.3131313131313131,
          1.5151515151515156,
          1.7171717171717162,
          1.9191919191919187,
          2.121212121212121,
          2.3232323232323235,
          2.525252525252524,
          2.7272727272727266,
          2.929292929292929,
          3.1313131313131315,
          3.333333333333334,
          3.5353535353535346,
          3.737373737373737,
          3.9393939393939394,
          4.141414141414142,
          4.3434343434343425,
          4.545454545454545,
          4.747474747474747,
          4.94949494949495,
          5.1515151515151505,
          5.353535353535353,
          5.555555555555555,
          5.757575757575758,
          5.9595959595959584,
          6.161616161616163,
          6.363636363636363,
          6.565656565656564,
          6.767676767676768,
          6.969696969696969,
          7.171717171717173,
          7.373737373737374,
          7.575757575757574,
          7.777777777777779,
          7.979797979797979,
          8.18181818181818,
          8.383838383838384,
          8.585858585858585,
          8.787878787878789,
          8.98989898989899,
          9.19191919191919,
          9.393939393939394,
          9.595959595959595,
          9.7979797979798,
          10
         ],
         "xaxis": "x",
         "y": [
          189,
          183.78828690949902,
          178.6581981430466,
          173.6097337006428,
          168.6428935822875,
          163.7576777879808,
          158.95408631772267,
          154.23211917151312,
          149.5917763493521,
          145.03305785123968,
          140.55596367717578,
          136.1604938271605,
          131.84664830119377,
          127.61442709927559,
          123.46383022140597,
          119.39485766758493,
          115.40750943781248,
          111.50178553208856,
          107.67768595041322,
          103.93521069278647,
          100.27435975920822,
          96.69513314967861,
          93.19753086419753,
          89.78155290276501,
          86.4471992653811,
          83.19446995204572,
          80.0233649627589,
          76.93388429752068,
          73.92602795633098,
          70.99979593918988,
          68.15518824609734,
          65.39220487705336,
          62.710845832057956,
          60.11111111111111,
          57.593000714212835,
          55.156514641363124,
          52.80165289256199,
          50.52841546780941,
          48.3368023671054,
          46.22681359044995,
          44.19844913784307,
          42.251709009284774,
          40.386593204775025,
          38.603101724313845,
          36.90123456790123,
          35.2809917355372,
          33.74237322722172,
          32.2853790429548,
          30.910009182736452,
          29.616263646566672,
          28.40414243444547,
          27.27364554637282,
          26.22477298234874,
          25.257524742373224,
          24.371900826446286,
          23.567901234567902,
          22.845525966738087,
          22.204775022956838,
          21.645648403224165,
          21.168146107540046,
          20.7722681359045,
          20.458014488317517,
          20.225385164779105,
          20.074380165289256,
          20.004999489847975,
          20.01724313845526,
          20.11111111111111,
          20.286603407815527,
          20.54372002856851,
          20.882460973370065,
          21.30282624222018,
          21.804815835118863,
          22.388429752066113,
          23.053667993061932,
          23.800530558106317,
          24.62901744719926,
          25.53912866034078,
          26.530864197530864,
          27.604224058769514,
          28.759208244056722,
          29.995816753392518,
          31.314049586776857,
          32.713906744209766,
          34.19538822569126,
          35.758494031221296,
          37.40322416079993,
          39.1295786144271,
          40.93755739210283,
          42.827160493827165,
          44.79838791960003,
          46.85123966942147,
          48.98571574329151,
          51.20181614121007,
          53.49954086317724,
          55.878889909192935,
          58.3398632792572,
          60.88246097337007,
          63.50668299153146,
          66.21252933374147,
          69
         ],
         "yaxis": "y"
        },
        {
         "marker": {
          "color": "red",
          "size": 10,
          "symbol": "circle"
         },
         "mode": "markers",
         "name": "global minimum",
         "type": "scatter",
         "x": [
          3
         ],
         "y": [
          20
         ]
        }
       ],
       "layout": {
        "height": 600,
        "legend": {
         "tracegroupgap": 0
        },
        "template": {
         "data": {
          "bar": [
           {
            "error_x": {
             "color": "#2a3f5f"
            },
            "error_y": {
             "color": "#2a3f5f"
            },
            "marker": {
             "line": {
              "color": "#E5ECF6",
              "width": 0.5
             },
             "pattern": {
              "fillmode": "overlay",
              "size": 10,
              "solidity": 0.2
             }
            },
            "type": "bar"
           }
          ],
          "barpolar": [
           {
            "marker": {
             "line": {
              "color": "#E5ECF6",
              "width": 0.5
             },
             "pattern": {
              "fillmode": "overlay",
              "size": 10,
              "solidity": 0.2
             }
            },
            "type": "barpolar"
           }
          ],
          "carpet": [
           {
            "aaxis": {
             "endlinecolor": "#2a3f5f",
             "gridcolor": "white",
             "linecolor": "white",
             "minorgridcolor": "white",
             "startlinecolor": "#2a3f5f"
            },
            "baxis": {
             "endlinecolor": "#2a3f5f",
             "gridcolor": "white",
             "linecolor": "white",
             "minorgridcolor": "white",
             "startlinecolor": "#2a3f5f"
            },
            "type": "carpet"
           }
          ],
          "choropleth": [
           {
            "colorbar": {
             "outlinewidth": 0,
             "ticks": ""
            },
            "type": "choropleth"
           }
          ],
          "contour": [
           {
            "colorbar": {
             "outlinewidth": 0,
             "ticks": ""
            },
            "colorscale": [
             [
              0,
              "#0d0887"
             ],
             [
              0.1111111111111111,
              "#46039f"
             ],
             [
              0.2222222222222222,
              "#7201a8"
             ],
             [
              0.3333333333333333,
              "#9c179e"
             ],
             [
              0.4444444444444444,
              "#bd3786"
             ],
             [
              0.5555555555555556,
              "#d8576b"
             ],
             [
              0.6666666666666666,
              "#ed7953"
             ],
             [
              0.7777777777777778,
              "#fb9f3a"
             ],
             [
              0.8888888888888888,
              "#fdca26"
             ],
             [
              1,
              "#f0f921"
             ]
            ],
            "type": "contour"
           }
          ],
          "contourcarpet": [
           {
            "colorbar": {
             "outlinewidth": 0,
             "ticks": ""
            },
            "type": "contourcarpet"
           }
          ],
          "heatmap": [
           {
            "colorbar": {
             "outlinewidth": 0,
             "ticks": ""
            },
            "colorscale": [
             [
              0,
              "#0d0887"
             ],
             [
              0.1111111111111111,
              "#46039f"
             ],
             [
              0.2222222222222222,
              "#7201a8"
             ],
             [
              0.3333333333333333,
              "#9c179e"
             ],
             [
              0.4444444444444444,
              "#bd3786"
             ],
             [
              0.5555555555555556,
              "#d8576b"
             ],
             [
              0.6666666666666666,
              "#ed7953"
             ],
             [
              0.7777777777777778,
              "#fb9f3a"
             ],
             [
              0.8888888888888888,
              "#fdca26"
             ],
             [
              1,
              "#f0f921"
             ]
            ],
            "type": "heatmap"
           }
          ],
          "heatmapgl": [
           {
            "colorbar": {
             "outlinewidth": 0,
             "ticks": ""
            },
            "colorscale": [
             [
              0,
              "#0d0887"
             ],
             [
              0.1111111111111111,
              "#46039f"
             ],
             [
              0.2222222222222222,
              "#7201a8"
             ],
             [
              0.3333333333333333,
              "#9c179e"
             ],
             [
              0.4444444444444444,
              "#bd3786"
             ],
             [
              0.5555555555555556,
              "#d8576b"
             ],
             [
              0.6666666666666666,
              "#ed7953"
             ],
             [
              0.7777777777777778,
              "#fb9f3a"
             ],
             [
              0.8888888888888888,
              "#fdca26"
             ],
             [
              1,
              "#f0f921"
             ]
            ],
            "type": "heatmapgl"
           }
          ],
          "histogram": [
           {
            "marker": {
             "pattern": {
              "fillmode": "overlay",
              "size": 10,
              "solidity": 0.2
             }
            },
            "type": "histogram"
           }
          ],
          "histogram2d": [
           {
            "colorbar": {
             "outlinewidth": 0,
             "ticks": ""
            },
            "colorscale": [
             [
              0,
              "#0d0887"
             ],
             [
              0.1111111111111111,
              "#46039f"
             ],
             [
              0.2222222222222222,
              "#7201a8"
             ],
             [
              0.3333333333333333,
              "#9c179e"
             ],
             [
              0.4444444444444444,
              "#bd3786"
             ],
             [
              0.5555555555555556,
              "#d8576b"
             ],
             [
              0.6666666666666666,
              "#ed7953"
             ],
             [
              0.7777777777777778,
              "#fb9f3a"
             ],
             [
              0.8888888888888888,
              "#fdca26"
             ],
             [
              1,
              "#f0f921"
             ]
            ],
            "type": "histogram2d"
           }
          ],
          "histogram2dcontour": [
           {
            "colorbar": {
             "outlinewidth": 0,
             "ticks": ""
            },
            "colorscale": [
             [
              0,
              "#0d0887"
             ],
             [
              0.1111111111111111,
              "#46039f"
             ],
             [
              0.2222222222222222,
              "#7201a8"
             ],
             [
              0.3333333333333333,
              "#9c179e"
             ],
             [
              0.4444444444444444,
              "#bd3786"
             ],
             [
              0.5555555555555556,
              "#d8576b"
             ],
             [
              0.6666666666666666,
              "#ed7953"
             ],
             [
              0.7777777777777778,
              "#fb9f3a"
             ],
             [
              0.8888888888888888,
              "#fdca26"
             ],
             [
              1,
              "#f0f921"
             ]
            ],
            "type": "histogram2dcontour"
           }
          ],
          "mesh3d": [
           {
            "colorbar": {
             "outlinewidth": 0,
             "ticks": ""
            },
            "type": "mesh3d"
           }
          ],
          "parcoords": [
           {
            "line": {
             "colorbar": {
              "outlinewidth": 0,
              "ticks": ""
             }
            },
            "type": "parcoords"
           }
          ],
          "pie": [
           {
            "automargin": true,
            "type": "pie"
           }
          ],
          "scatter": [
           {
            "fillpattern": {
             "fillmode": "overlay",
             "size": 10,
             "solidity": 0.2
            },
            "type": "scatter"
           }
          ],
          "scatter3d": [
           {
            "line": {
             "colorbar": {
              "outlinewidth": 0,
              "ticks": ""
             }
            },
            "marker": {
             "colorbar": {
              "outlinewidth": 0,
              "ticks": ""
             }
            },
            "type": "scatter3d"
           }
          ],
          "scattercarpet": [
           {
            "marker": {
             "colorbar": {
              "outlinewidth": 0,
              "ticks": ""
             }
            },
            "type": "scattercarpet"
           }
          ],
          "scattergeo": [
           {
            "marker": {
             "colorbar": {
              "outlinewidth": 0,
              "ticks": ""
             }
            },
            "type": "scattergeo"
           }
          ],
          "scattergl": [
           {
            "marker": {
             "colorbar": {
              "outlinewidth": 0,
              "ticks": ""
             }
            },
            "type": "scattergl"
           }
          ],
          "scattermapbox": [
           {
            "marker": {
             "colorbar": {
              "outlinewidth": 0,
              "ticks": ""
             }
            },
            "type": "scattermapbox"
           }
          ],
          "scatterpolar": [
           {
            "marker": {
             "colorbar": {
              "outlinewidth": 0,
              "ticks": ""
             }
            },
            "type": "scatterpolar"
           }
          ],
          "scatterpolargl": [
           {
            "marker": {
             "colorbar": {
              "outlinewidth": 0,
              "ticks": ""
             }
            },
            "type": "scatterpolargl"
           }
          ],
          "scatterternary": [
           {
            "marker": {
             "colorbar": {
              "outlinewidth": 0,
              "ticks": ""
             }
            },
            "type": "scatterternary"
           }
          ],
          "surface": [
           {
            "colorbar": {
             "outlinewidth": 0,
             "ticks": ""
            },
            "colorscale": [
             [
              0,
              "#0d0887"
             ],
             [
              0.1111111111111111,
              "#46039f"
             ],
             [
              0.2222222222222222,
              "#7201a8"
             ],
             [
              0.3333333333333333,
              "#9c179e"
             ],
             [
              0.4444444444444444,
              "#bd3786"
             ],
             [
              0.5555555555555556,
              "#d8576b"
             ],
             [
              0.6666666666666666,
              "#ed7953"
             ],
             [
              0.7777777777777778,
              "#fb9f3a"
             ],
             [
              0.8888888888888888,
              "#fdca26"
             ],
             [
              1,
              "#f0f921"
             ]
            ],
            "type": "surface"
           }
          ],
          "table": [
           {
            "cells": {
             "fill": {
              "color": "#EBF0F8"
             },
             "line": {
              "color": "white"
             }
            },
            "header": {
             "fill": {
              "color": "#C8D4E3"
             },
             "line": {
              "color": "white"
             }
            },
            "type": "table"
           }
          ]
         },
         "layout": {
          "annotationdefaults": {
           "arrowcolor": "#2a3f5f",
           "arrowhead": 0,
           "arrowwidth": 1
          },
          "autotypenumbers": "strict",
          "coloraxis": {
           "colorbar": {
            "outlinewidth": 0,
            "ticks": ""
           }
          },
          "colorscale": {
           "diverging": [
            [
             0,
             "#8e0152"
            ],
            [
             0.1,
             "#c51b7d"
            ],
            [
             0.2,
             "#de77ae"
            ],
            [
             0.3,
             "#f1b6da"
            ],
            [
             0.4,
             "#fde0ef"
            ],
            [
             0.5,
             "#f7f7f7"
            ],
            [
             0.6,
             "#e6f5d0"
            ],
            [
             0.7,
             "#b8e186"
            ],
            [
             0.8,
             "#7fbc41"
            ],
            [
             0.9,
             "#4d9221"
            ],
            [
             1,
             "#276419"
            ]
           ],
           "sequential": [
            [
             0,
             "#0d0887"
            ],
            [
             0.1111111111111111,
             "#46039f"
            ],
            [
             0.2222222222222222,
             "#7201a8"
            ],
            [
             0.3333333333333333,
             "#9c179e"
            ],
            [
             0.4444444444444444,
             "#bd3786"
            ],
            [
             0.5555555555555556,
             "#d8576b"
            ],
            [
             0.6666666666666666,
             "#ed7953"
            ],
            [
             0.7777777777777778,
             "#fb9f3a"
            ],
            [
             0.8888888888888888,
             "#fdca26"
            ],
            [
             1,
             "#f0f921"
            ]
           ],
           "sequentialminus": [
            [
             0,
             "#0d0887"
            ],
            [
             0.1111111111111111,
             "#46039f"
            ],
            [
             0.2222222222222222,
             "#7201a8"
            ],
            [
             0.3333333333333333,
             "#9c179e"
            ],
            [
             0.4444444444444444,
             "#bd3786"
            ],
            [
             0.5555555555555556,
             "#d8576b"
            ],
            [
             0.6666666666666666,
             "#ed7953"
            ],
            [
             0.7777777777777778,
             "#fb9f3a"
            ],
            [
             0.8888888888888888,
             "#fdca26"
            ],
            [
             1,
             "#f0f921"
            ]
           ]
          },
          "colorway": [
           "#636efa",
           "#EF553B",
           "#00cc96",
           "#ab63fa",
           "#FFA15A",
           "#19d3f3",
           "#FF6692",
           "#B6E880",
           "#FF97FF",
           "#FECB52"
          ],
          "font": {
           "color": "#2a3f5f"
          },
          "geo": {
           "bgcolor": "white",
           "lakecolor": "white",
           "landcolor": "#E5ECF6",
           "showlakes": true,
           "showland": true,
           "subunitcolor": "white"
          },
          "hoverlabel": {
           "align": "left"
          },
          "hovermode": "closest",
          "mapbox": {
           "style": "light"
          },
          "paper_bgcolor": "white",
          "plot_bgcolor": "#E5ECF6",
          "polar": {
           "angularaxis": {
            "gridcolor": "white",
            "linecolor": "white",
            "ticks": ""
           },
           "bgcolor": "#E5ECF6",
           "radialaxis": {
            "gridcolor": "white",
            "linecolor": "white",
            "ticks": ""
           }
          },
          "scene": {
           "xaxis": {
            "backgroundcolor": "#E5ECF6",
            "gridcolor": "white",
            "gridwidth": 2,
            "linecolor": "white",
            "showbackground": true,
            "ticks": "",
            "zerolinecolor": "white"
           },
           "yaxis": {
            "backgroundcolor": "#E5ECF6",
            "gridcolor": "white",
            "gridwidth": 2,
            "linecolor": "white",
            "showbackground": true,
            "ticks": "",
            "zerolinecolor": "white"
           },
           "zaxis": {
            "backgroundcolor": "#E5ECF6",
            "gridcolor": "white",
            "gridwidth": 2,
            "linecolor": "white",
            "showbackground": true,
            "ticks": "",
            "zerolinecolor": "white"
           }
          },
          "shapedefaults": {
           "line": {
            "color": "#2a3f5f"
           }
          },
          "ternary": {
           "aaxis": {
            "gridcolor": "white",
            "linecolor": "white",
            "ticks": ""
           },
           "baxis": {
            "gridcolor": "white",
            "linecolor": "white",
            "ticks": ""
           },
           "bgcolor": "#E5ECF6",
           "caxis": {
            "gridcolor": "white",
            "linecolor": "white",
            "ticks": ""
           }
          },
          "title": {
           "x": 0.05
          },
          "xaxis": {
           "automargin": true,
           "gridcolor": "white",
           "linecolor": "white",
           "ticks": "",
           "title": {
            "standoff": 15
           },
           "zerolinecolor": "white",
           "zerolinewidth": 2
          },
          "yaxis": {
           "automargin": true,
           "gridcolor": "white",
           "linecolor": "white",
           "ticks": "",
           "title": {
            "standoff": 15
           },
           "zerolinecolor": "white",
           "zerolinewidth": 2
          }
         }
        },
        "title": {
         "text": "Plot of f(x) = (x - 3)² + 20"
        },
        "width": 800,
        "xaxis": {
         "anchor": "y",
         "domain": [
          0,
          1
         ],
         "title": {
          "text": "x"
         }
        },
        "yaxis": {
         "anchor": "x",
         "domain": [
          0,
          1
         ],
         "title": {
          "text": "f(x)"
         }
        }
       }
      }
     },
     "metadata": {},
     "output_type": "display_data"
    }
   ],
   "source": [
    "plot_quadratic_function(    min_x = 3,\n",
    "                            title='Plot of f(x) = (x - 3)² + 20'\n",
    "                         )"
   ]
  },
  {
   "cell_type": "markdown",
   "metadata": {},
   "source": [
    "### Run the algorithm"
   ]
  },
  {
   "cell_type": "code",
   "execution_count": 198,
   "metadata": {},
   "outputs": [
    {
     "name": "stdout",
     "output_type": "stream",
     "text": [
      "iteration: 0\n",
      "f(x) values: [254.09 279.21 326.25]\n",
      "points: [18.3 19.1 20.5]\n",
      "iteration: 1\n",
      "f(x) values: [166.41 254.09 279.21]\n",
      "points: [15.1 18.3 19.1]\n",
      "iteration: 2\n",
      "f(x) values: [ 99.21 166.41 254.09]\n",
      "points: [11.9 15.1 18.3]\n",
      "iteration: 3\n",
      "f(x) values: [ 20.81  99.21 166.41]\n",
      "points: [ 3.9 11.9 15.1]\n",
      "iteration: 4\n",
      "f(x) values: [20.81 25.29 99.21]\n",
      "points: [ 3.9  0.7 11.9]\n",
      "iteration: 5\n",
      "f(x) values: [20.81 25.29 36.81]\n",
      "points: [3.9 0.7 7.1]\n",
      "iteration: 6\n",
      "f(x) values: [20.81 22.89 25.29]\n",
      "points: [3.9 4.7 0.7]\n",
      "iteration: 7\n",
      "f(x) values: [20.25 20.81 22.89]\n",
      "points: [2.5 3.9 4.7]\n",
      "iteration: 8\n",
      "f(x) values: [20.25   20.3025 20.81  ]\n",
      "points: [2.5  2.45 3.9 ]\n",
      "iteration: 9\n",
      "f(x) values: [20.03515625 20.25       20.3025    ]\n",
      "points: [3.1875 2.5    2.45  ]\n",
      "iteration: 10\n",
      "f(x) values: [20.03515625 20.05640625 20.25      ]\n",
      "points: [3.1875 3.2375 2.5   ]\n",
      "iteration: 11\n",
      "f(x) values: [20.02066406 20.03515625 20.05640625]\n",
      "points: [2.85625 3.1875  3.2375 ]\n",
      "iteration: 12\n",
      "f(x) values: [20.00738525 20.02066406 20.03515625]\n",
      "points: [2.9140625 2.85625   3.1875   ]\n",
      "iteration: 13\n",
      "f(x) values: [20.00131973 20.00738525 20.02066406]\n",
      "points: [3.03632813 2.9140625  2.85625   ]\n",
      "iteration: 14\n",
      "f(x) values: [20.00120187 20.00131973 20.00738525]\n",
      "points: [3.03466797 3.03632813 2.9140625 ]\n",
      "iteration: 15\n",
      "f(x) values: [20.00063603 20.00120187 20.00131973]\n",
      "points: [2.97478027 3.03466797 3.03632813]\n",
      "iteration: 16\n",
      "f(x) values: [20.00063603 20.00072253 20.00120187]\n",
      "points: [2.97478027 2.97312012 3.03466797]\n",
      "iteration: 17\n",
      "f(x) values: [20.00001857 20.00063603 20.00072253]\n",
      "points: [3.00430908 2.97478027 2.97312012]\n",
      "iteration: 18\n",
      "f(x) values: [20.00001857 20.00003563 20.00063603]\n",
      "points: [3.00430908 3.00596924 2.97478027]\n",
      "iteration: 19\n",
      "f(x) values: [20.00001857 20.00003563 20.00010081]\n",
      "points: [3.00430908 3.00596924 2.98995972]\n",
      "Converged after 19 iterations.\n"
     ]
    }
   ],
   "source": [
    "# Initial points\n",
    "initial_points = np.array([20.5, 19.1, 18.3])\n",
    "\n",
    "# Run the algorithm\n",
    "nelder_meads_algorithm(points=initial_points)"
   ]
  }
 ],
 "metadata": {
  "kernelspec": {
   "display_name": "venv_3_10-jGfzHj9S",
   "language": "python",
   "name": "python3"
  },
  "language_info": {
   "codemirror_mode": {
    "name": "ipython",
    "version": 3
   },
   "file_extension": ".py",
   "mimetype": "text/x-python",
   "name": "python",
   "nbconvert_exporter": "python",
   "pygments_lexer": "ipython3",
   "version": "3.10.10"
  }
 },
 "nbformat": 4,
 "nbformat_minor": 2
}
