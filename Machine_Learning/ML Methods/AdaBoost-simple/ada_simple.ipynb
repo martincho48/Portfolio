{
 "cells": [
  {
   "cell_type": "code",
   "execution_count": 73,
   "id": "c4511499",
   "metadata": {},
   "outputs": [],
   "source": [
    "import numpy as np\n",
    "import pandas as pd"
   ]
  },
  {
   "cell_type": "markdown",
   "id": "e0ebb9cf",
   "metadata": {},
   "source": [
    "# Input data"
   ]
  },
  {
   "cell_type": "code",
   "execution_count": 74,
   "id": "e04ef153",
   "metadata": {},
   "outputs": [
    {
     "data": {
      "text/html": [
       "<div>\n",
       "<style scoped>\n",
       "    .dataframe tbody tr th:only-of-type {\n",
       "        vertical-align: middle;\n",
       "    }\n",
       "\n",
       "    .dataframe tbody tr th {\n",
       "        vertical-align: top;\n",
       "    }\n",
       "\n",
       "    .dataframe thead th {\n",
       "        text-align: right;\n",
       "    }\n",
       "</style>\n",
       "<table border=\"1\" class=\"dataframe\">\n",
       "  <thead>\n",
       "    <tr style=\"text-align: right;\">\n",
       "      <th></th>\n",
       "      <th>pearson</th>\n",
       "      <th>age</th>\n",
       "      <th>buy</th>\n",
       "    </tr>\n",
       "  </thead>\n",
       "  <tbody>\n",
       "    <tr>\n",
       "      <th>0</th>\n",
       "      <td>1</td>\n",
       "      <td>18</td>\n",
       "      <td>no</td>\n",
       "    </tr>\n",
       "    <tr>\n",
       "      <th>1</th>\n",
       "      <td>2</td>\n",
       "      <td>20</td>\n",
       "      <td>no</td>\n",
       "    </tr>\n",
       "    <tr>\n",
       "      <th>2</th>\n",
       "      <td>3</td>\n",
       "      <td>35</td>\n",
       "      <td>yes</td>\n",
       "    </tr>\n",
       "    <tr>\n",
       "      <th>3</th>\n",
       "      <td>4</td>\n",
       "      <td>50</td>\n",
       "      <td>yes</td>\n",
       "    </tr>\n",
       "    <tr>\n",
       "      <th>4</th>\n",
       "      <td>5</td>\n",
       "      <td>55</td>\n",
       "      <td>yes</td>\n",
       "    </tr>\n",
       "    <tr>\n",
       "      <th>5</th>\n",
       "      <td>6</td>\n",
       "      <td>57</td>\n",
       "      <td>yes</td>\n",
       "    </tr>\n",
       "  </tbody>\n",
       "</table>\n",
       "</div>"
      ],
      "text/plain": [
       "   pearson  age  buy\n",
       "0        1   18   no\n",
       "1        2   20   no\n",
       "2        3   35  yes\n",
       "3        4   50  yes\n",
       "4        5   55  yes\n",
       "5        6   57  yes"
      ]
     },
     "execution_count": 74,
     "metadata": {},
     "output_type": "execute_result"
    }
   ],
   "source": [
    "df = pd.DataFrame({'pearson':[1, 2, 3, 4, 5, 6],\n",
    "                   'age':[18, 20, 35, 50, 55, 57],\n",
    "                   'buy':['no', 'no', 'yes','yes', 'yes', 'yes']\n",
    "                   })\n",
    "df"
   ]
  },
  {
   "cell_type": "markdown",
   "id": "afd234d9",
   "metadata": {},
   "source": [
    "# Calculate intial weights"
   ]
  },
  {
   "cell_type": "code",
   "execution_count": 75,
   "id": "9ef87bc3",
   "metadata": {},
   "outputs": [
    {
     "data": {
      "text/html": [
       "<div>\n",
       "<style scoped>\n",
       "    .dataframe tbody tr th:only-of-type {\n",
       "        vertical-align: middle;\n",
       "    }\n",
       "\n",
       "    .dataframe tbody tr th {\n",
       "        vertical-align: top;\n",
       "    }\n",
       "\n",
       "    .dataframe thead th {\n",
       "        text-align: right;\n",
       "    }\n",
       "</style>\n",
       "<table border=\"1\" class=\"dataframe\">\n",
       "  <thead>\n",
       "    <tr style=\"text-align: right;\">\n",
       "      <th></th>\n",
       "      <th>pearson</th>\n",
       "      <th>age</th>\n",
       "      <th>buy</th>\n",
       "      <th>weights</th>\n",
       "    </tr>\n",
       "  </thead>\n",
       "  <tbody>\n",
       "    <tr>\n",
       "      <th>0</th>\n",
       "      <td>1</td>\n",
       "      <td>18</td>\n",
       "      <td>no</td>\n",
       "      <td>0.166667</td>\n",
       "    </tr>\n",
       "    <tr>\n",
       "      <th>1</th>\n",
       "      <td>2</td>\n",
       "      <td>20</td>\n",
       "      <td>no</td>\n",
       "      <td>0.166667</td>\n",
       "    </tr>\n",
       "    <tr>\n",
       "      <th>2</th>\n",
       "      <td>3</td>\n",
       "      <td>35</td>\n",
       "      <td>yes</td>\n",
       "      <td>0.166667</td>\n",
       "    </tr>\n",
       "    <tr>\n",
       "      <th>3</th>\n",
       "      <td>4</td>\n",
       "      <td>50</td>\n",
       "      <td>yes</td>\n",
       "      <td>0.166667</td>\n",
       "    </tr>\n",
       "    <tr>\n",
       "      <th>4</th>\n",
       "      <td>5</td>\n",
       "      <td>55</td>\n",
       "      <td>yes</td>\n",
       "      <td>0.166667</td>\n",
       "    </tr>\n",
       "    <tr>\n",
       "      <th>5</th>\n",
       "      <td>6</td>\n",
       "      <td>57</td>\n",
       "      <td>yes</td>\n",
       "      <td>0.166667</td>\n",
       "    </tr>\n",
       "  </tbody>\n",
       "</table>\n",
       "</div>"
      ],
      "text/plain": [
       "   pearson  age  buy   weights\n",
       "0        1   18   no  0.166667\n",
       "1        2   20   no  0.166667\n",
       "2        3   35  yes  0.166667\n",
       "3        4   50  yes  0.166667\n",
       "4        5   55  yes  0.166667\n",
       "5        6   57  yes  0.166667"
      ]
     },
     "execution_count": 75,
     "metadata": {},
     "output_type": "execute_result"
    }
   ],
   "source": [
    "df['weights'] = 1/len(df)\n",
    "df"
   ]
  },
  {
   "cell_type": "markdown",
   "id": "3a2b44b2",
   "metadata": {},
   "source": [
    "# First tree"
   ]
  },
  {
   "cell_type": "markdown",
   "id": "7a711b04",
   "metadata": {},
   "source": [
    "### Find the best split point"
   ]
  },
  {
   "cell_type": "code",
   "execution_count": 76,
   "id": "1642a459",
   "metadata": {},
   "outputs": [
    {
     "data": {
      "text/plain": [
       "' \\nNormaly the ideal split point is done for all possibilities using Gini impurity.\\nWe want to demostrate the AdaBoost algorithm so we choose a split point manually.\\n\\n'"
      ]
     },
     "execution_count": 76,
     "metadata": {},
     "output_type": "execute_result"
    }
   ],
   "source": [
    "''' \n",
    "Normaly the ideal split point is done for all possibilities using Gini impurity.\n",
    "We want to demostrate the AdaBoost algorithm so we choose a split point manually.\n",
    "\n",
    "'''"
   ]
  },
  {
   "cell_type": "code",
   "execution_count": 77,
   "id": "8988c433",
   "metadata": {},
   "outputs": [],
   "source": [
    "# Let's say we skip Gini--impurity to calculate the best split point and we choose that the best split point is\n",
    "split_point1 = 52"
   ]
  },
  {
   "cell_type": "markdown",
   "id": "8e7c5258",
   "metadata": {},
   "source": [
    "### Predict with the best split point"
   ]
  },
  {
   "cell_type": "code",
   "execution_count": 78,
   "id": "4a00d617",
   "metadata": {},
   "outputs": [
    {
     "data": {
      "text/html": [
       "<div>\n",
       "<style scoped>\n",
       "    .dataframe tbody tr th:only-of-type {\n",
       "        vertical-align: middle;\n",
       "    }\n",
       "\n",
       "    .dataframe tbody tr th {\n",
       "        vertical-align: top;\n",
       "    }\n",
       "\n",
       "    .dataframe thead th {\n",
       "        text-align: right;\n",
       "    }\n",
       "</style>\n",
       "<table border=\"1\" class=\"dataframe\">\n",
       "  <thead>\n",
       "    <tr style=\"text-align: right;\">\n",
       "      <th></th>\n",
       "      <th>pearson</th>\n",
       "      <th>age</th>\n",
       "      <th>buy</th>\n",
       "      <th>weights</th>\n",
       "      <th>pred-1</th>\n",
       "    </tr>\n",
       "  </thead>\n",
       "  <tbody>\n",
       "    <tr>\n",
       "      <th>0</th>\n",
       "      <td>1</td>\n",
       "      <td>18</td>\n",
       "      <td>no</td>\n",
       "      <td>0.166667</td>\n",
       "      <td>no</td>\n",
       "    </tr>\n",
       "    <tr>\n",
       "      <th>1</th>\n",
       "      <td>2</td>\n",
       "      <td>20</td>\n",
       "      <td>no</td>\n",
       "      <td>0.166667</td>\n",
       "      <td>no</td>\n",
       "    </tr>\n",
       "    <tr>\n",
       "      <th>2</th>\n",
       "      <td>3</td>\n",
       "      <td>35</td>\n",
       "      <td>yes</td>\n",
       "      <td>0.166667</td>\n",
       "      <td>no</td>\n",
       "    </tr>\n",
       "    <tr>\n",
       "      <th>3</th>\n",
       "      <td>4</td>\n",
       "      <td>50</td>\n",
       "      <td>yes</td>\n",
       "      <td>0.166667</td>\n",
       "      <td>no</td>\n",
       "    </tr>\n",
       "    <tr>\n",
       "      <th>4</th>\n",
       "      <td>5</td>\n",
       "      <td>55</td>\n",
       "      <td>yes</td>\n",
       "      <td>0.166667</td>\n",
       "      <td>yes</td>\n",
       "    </tr>\n",
       "    <tr>\n",
       "      <th>5</th>\n",
       "      <td>6</td>\n",
       "      <td>57</td>\n",
       "      <td>yes</td>\n",
       "      <td>0.166667</td>\n",
       "      <td>yes</td>\n",
       "    </tr>\n",
       "  </tbody>\n",
       "</table>\n",
       "</div>"
      ],
      "text/plain": [
       "   pearson  age  buy   weights pred-1\n",
       "0        1   18   no  0.166667     no\n",
       "1        2   20   no  0.166667     no\n",
       "2        3   35  yes  0.166667     no\n",
       "3        4   50  yes  0.166667     no\n",
       "4        5   55  yes  0.166667    yes\n",
       "5        6   57  yes  0.166667    yes"
      ]
     },
     "execution_count": 78,
     "metadata": {},
     "output_type": "execute_result"
    }
   ],
   "source": [
    "df['pred-1'] = np.where(df['age'] > split_point1, 'yes', 'no')\n",
    "df"
   ]
  },
  {
   "cell_type": "markdown",
   "id": "b185df1e",
   "metadata": {},
   "source": [
    "### Calculate error"
   ]
  },
  {
   "cell_type": "markdown",
   "id": "31b57377",
   "metadata": {},
   "source": [
    "<img src=\"pics/error.png\" style=\"width: 50%;\"/>"
   ]
  },
  {
   "cell_type": "code",
   "execution_count": 79,
   "id": "6ed13e34",
   "metadata": {},
   "outputs": [
    {
     "data": {
      "text/plain": [
       "0.3333333333333333"
      ]
     },
     "execution_count": 79,
     "metadata": {},
     "output_type": "execute_result"
    }
   ],
   "source": [
    "# Calculate error - where the prediction is diffrent from the reality\n",
    "error = df['weights'].where(df['buy'] != df['pred-1']).sum()\n",
    "error"
   ]
  },
  {
   "cell_type": "markdown",
   "id": "3f4f4dff",
   "metadata": {},
   "source": [
    "### Calculate importance of the tree"
   ]
  },
  {
   "cell_type": "markdown",
   "id": "0c2187eb",
   "metadata": {},
   "source": [
    "<img src=\"pics/importance-new.png\" style=\"width: 30%;\"/>"
   ]
  },
  {
   "cell_type": "code",
   "execution_count": 80,
   "id": "937ba09b",
   "metadata": {},
   "outputs": [
    {
     "data": {
      "text/plain": [
       "0.34657359027997275"
      ]
     },
     "execution_count": 80,
     "metadata": {},
     "output_type": "execute_result"
    }
   ],
   "source": [
    "lr=1\n",
    "\n",
    "alpha1 = lr*0.5*np.log((1-error)/error)\n",
    "alpha1"
   ]
  },
  {
   "cell_type": "markdown",
   "id": "543c14e5",
   "metadata": {},
   "source": [
    "### Calculate new weights for wrong guesses"
   ]
  },
  {
   "cell_type": "code",
   "execution_count": 81,
   "id": "688db576",
   "metadata": {},
   "outputs": [
    {
     "data": {
      "text/plain": [
       "\" \\nJust weights' of the wrong guesses are corrected - more weight is put on them\\n\\n\""
      ]
     },
     "execution_count": 81,
     "metadata": {},
     "output_type": "execute_result"
    }
   ],
   "source": [
    "''' \n",
    "Just weights' of the wrong guesses are corrected - more weight is put on them\n",
    "\n",
    "'''"
   ]
  },
  {
   "cell_type": "code",
   "execution_count": 82,
   "id": "beb3f469",
   "metadata": {},
   "outputs": [
    {
     "data": {
      "text/html": [
       "<div>\n",
       "<style scoped>\n",
       "    .dataframe tbody tr th:only-of-type {\n",
       "        vertical-align: middle;\n",
       "    }\n",
       "\n",
       "    .dataframe tbody tr th {\n",
       "        vertical-align: top;\n",
       "    }\n",
       "\n",
       "    .dataframe thead th {\n",
       "        text-align: right;\n",
       "    }\n",
       "</style>\n",
       "<table border=\"1\" class=\"dataframe\">\n",
       "  <thead>\n",
       "    <tr style=\"text-align: right;\">\n",
       "      <th></th>\n",
       "      <th>pearson</th>\n",
       "      <th>age</th>\n",
       "      <th>buy</th>\n",
       "      <th>weights</th>\n",
       "      <th>pred-1</th>\n",
       "      <th>weights_new_1</th>\n",
       "    </tr>\n",
       "  </thead>\n",
       "  <tbody>\n",
       "    <tr>\n",
       "      <th>0</th>\n",
       "      <td>1</td>\n",
       "      <td>18</td>\n",
       "      <td>no</td>\n",
       "      <td>0.166667</td>\n",
       "      <td>no</td>\n",
       "      <td>0.166667</td>\n",
       "    </tr>\n",
       "    <tr>\n",
       "      <th>1</th>\n",
       "      <td>2</td>\n",
       "      <td>20</td>\n",
       "      <td>no</td>\n",
       "      <td>0.166667</td>\n",
       "      <td>no</td>\n",
       "      <td>0.166667</td>\n",
       "    </tr>\n",
       "    <tr>\n",
       "      <th>2</th>\n",
       "      <td>3</td>\n",
       "      <td>35</td>\n",
       "      <td>yes</td>\n",
       "      <td>0.166667</td>\n",
       "      <td>no</td>\n",
       "      <td>0.235702</td>\n",
       "    </tr>\n",
       "    <tr>\n",
       "      <th>3</th>\n",
       "      <td>4</td>\n",
       "      <td>50</td>\n",
       "      <td>yes</td>\n",
       "      <td>0.166667</td>\n",
       "      <td>no</td>\n",
       "      <td>0.235702</td>\n",
       "    </tr>\n",
       "    <tr>\n",
       "      <th>4</th>\n",
       "      <td>5</td>\n",
       "      <td>55</td>\n",
       "      <td>yes</td>\n",
       "      <td>0.166667</td>\n",
       "      <td>yes</td>\n",
       "      <td>0.166667</td>\n",
       "    </tr>\n",
       "    <tr>\n",
       "      <th>5</th>\n",
       "      <td>6</td>\n",
       "      <td>57</td>\n",
       "      <td>yes</td>\n",
       "      <td>0.166667</td>\n",
       "      <td>yes</td>\n",
       "      <td>0.166667</td>\n",
       "    </tr>\n",
       "  </tbody>\n",
       "</table>\n",
       "</div>"
      ],
      "text/plain": [
       "   pearson  age  buy   weights pred-1  weights_new_1\n",
       "0        1   18   no  0.166667     no       0.166667\n",
       "1        2   20   no  0.166667     no       0.166667\n",
       "2        3   35  yes  0.166667     no       0.235702\n",
       "3        4   50  yes  0.166667     no       0.235702\n",
       "4        5   55  yes  0.166667    yes       0.166667\n",
       "5        6   57  yes  0.166667    yes       0.166667"
      ]
     },
     "execution_count": 82,
     "metadata": {},
     "output_type": "execute_result"
    }
   ],
   "source": [
    "# Calculate new weights\n",
    "df['weights_new_1'] = np.where(df['buy'] != df['pred-1'], \n",
    "                                  df['weights'] * np.exp(alpha1),\n",
    "                                  df['weights']\n",
    "                                  )\n",
    "df"
   ]
  },
  {
   "cell_type": "markdown",
   "id": "85c1166c",
   "metadata": {},
   "source": [
    "### Calculate normalized weights"
   ]
  },
  {
   "cell_type": "markdown",
   "id": "d6aa67a0",
   "metadata": {},
   "source": [
    "<img src=\"pics/w_norm.png\" style=\"width: 30%;\"/>"
   ]
  },
  {
   "cell_type": "code",
   "execution_count": 83,
   "id": "a6130a27",
   "metadata": {},
   "outputs": [
    {
     "data": {
      "text/html": [
       "<div>\n",
       "<style scoped>\n",
       "    .dataframe tbody tr th:only-of-type {\n",
       "        vertical-align: middle;\n",
       "    }\n",
       "\n",
       "    .dataframe tbody tr th {\n",
       "        vertical-align: top;\n",
       "    }\n",
       "\n",
       "    .dataframe thead th {\n",
       "        text-align: right;\n",
       "    }\n",
       "</style>\n",
       "<table border=\"1\" class=\"dataframe\">\n",
       "  <thead>\n",
       "    <tr style=\"text-align: right;\">\n",
       "      <th></th>\n",
       "      <th>pearson</th>\n",
       "      <th>age</th>\n",
       "      <th>buy</th>\n",
       "      <th>weights</th>\n",
       "      <th>pred-1</th>\n",
       "      <th>weights_new_1</th>\n",
       "      <th>weights_norm_1</th>\n",
       "    </tr>\n",
       "  </thead>\n",
       "  <tbody>\n",
       "    <tr>\n",
       "      <th>0</th>\n",
       "      <td>1</td>\n",
       "      <td>18</td>\n",
       "      <td>no</td>\n",
       "      <td>0.166667</td>\n",
       "      <td>no</td>\n",
       "      <td>0.166667</td>\n",
       "      <td>0.146447</td>\n",
       "    </tr>\n",
       "    <tr>\n",
       "      <th>1</th>\n",
       "      <td>2</td>\n",
       "      <td>20</td>\n",
       "      <td>no</td>\n",
       "      <td>0.166667</td>\n",
       "      <td>no</td>\n",
       "      <td>0.166667</td>\n",
       "      <td>0.146447</td>\n",
       "    </tr>\n",
       "    <tr>\n",
       "      <th>2</th>\n",
       "      <td>3</td>\n",
       "      <td>35</td>\n",
       "      <td>yes</td>\n",
       "      <td>0.166667</td>\n",
       "      <td>no</td>\n",
       "      <td>0.235702</td>\n",
       "      <td>0.207107</td>\n",
       "    </tr>\n",
       "    <tr>\n",
       "      <th>3</th>\n",
       "      <td>4</td>\n",
       "      <td>50</td>\n",
       "      <td>yes</td>\n",
       "      <td>0.166667</td>\n",
       "      <td>no</td>\n",
       "      <td>0.235702</td>\n",
       "      <td>0.207107</td>\n",
       "    </tr>\n",
       "    <tr>\n",
       "      <th>4</th>\n",
       "      <td>5</td>\n",
       "      <td>55</td>\n",
       "      <td>yes</td>\n",
       "      <td>0.166667</td>\n",
       "      <td>yes</td>\n",
       "      <td>0.166667</td>\n",
       "      <td>0.146447</td>\n",
       "    </tr>\n",
       "    <tr>\n",
       "      <th>5</th>\n",
       "      <td>6</td>\n",
       "      <td>57</td>\n",
       "      <td>yes</td>\n",
       "      <td>0.166667</td>\n",
       "      <td>yes</td>\n",
       "      <td>0.166667</td>\n",
       "      <td>0.146447</td>\n",
       "    </tr>\n",
       "  </tbody>\n",
       "</table>\n",
       "</div>"
      ],
      "text/plain": [
       "   pearson  age  buy   weights pred-1  weights_new_1  weights_norm_1\n",
       "0        1   18   no  0.166667     no       0.166667        0.146447\n",
       "1        2   20   no  0.166667     no       0.166667        0.146447\n",
       "2        3   35  yes  0.166667     no       0.235702        0.207107\n",
       "3        4   50  yes  0.166667     no       0.235702        0.207107\n",
       "4        5   55  yes  0.166667    yes       0.166667        0.146447\n",
       "5        6   57  yes  0.166667    yes       0.166667        0.146447"
      ]
     },
     "execution_count": 83,
     "metadata": {},
     "output_type": "execute_result"
    }
   ],
   "source": [
    "df['weights_norm_1'] = df['weights_new_1']/df['weights_new_1'].sum()\n",
    "df"
   ]
  },
  {
   "cell_type": "markdown",
   "id": "fcc44845",
   "metadata": {},
   "source": [
    "# Second tree"
   ]
  },
  {
   "cell_type": "markdown",
   "id": "2950f4e9",
   "metadata": {},
   "source": [
    "### Best split point"
   ]
  },
  {
   "cell_type": "code",
   "execution_count": 84,
   "id": "16bf2548",
   "metadata": {},
   "outputs": [
    {
     "data": {
      "text/plain": [
       "\" \\nThis time let's assume the correct best split point \\n\\n\""
      ]
     },
     "execution_count": 84,
     "metadata": {},
     "output_type": "execute_result"
    }
   ],
   "source": [
    "''' \n",
    "This time let's assume the correct best split point \n",
    "\n",
    "'''"
   ]
  },
  {
   "cell_type": "code",
   "execution_count": 85,
   "id": "d9322273",
   "metadata": {},
   "outputs": [],
   "source": [
    "split_point2 = 40"
   ]
  },
  {
   "cell_type": "markdown",
   "id": "eced0279",
   "metadata": {},
   "source": [
    "### Predict with the best split point"
   ]
  },
  {
   "cell_type": "code",
   "execution_count": 86,
   "id": "0056bf08",
   "metadata": {},
   "outputs": [
    {
     "data": {
      "text/html": [
       "<div>\n",
       "<style scoped>\n",
       "    .dataframe tbody tr th:only-of-type {\n",
       "        vertical-align: middle;\n",
       "    }\n",
       "\n",
       "    .dataframe tbody tr th {\n",
       "        vertical-align: top;\n",
       "    }\n",
       "\n",
       "    .dataframe thead th {\n",
       "        text-align: right;\n",
       "    }\n",
       "</style>\n",
       "<table border=\"1\" class=\"dataframe\">\n",
       "  <thead>\n",
       "    <tr style=\"text-align: right;\">\n",
       "      <th></th>\n",
       "      <th>pearson</th>\n",
       "      <th>age</th>\n",
       "      <th>buy</th>\n",
       "      <th>weights</th>\n",
       "      <th>pred-1</th>\n",
       "      <th>weights_new_1</th>\n",
       "      <th>weights_norm_1</th>\n",
       "      <th>pred-2</th>\n",
       "    </tr>\n",
       "  </thead>\n",
       "  <tbody>\n",
       "    <tr>\n",
       "      <th>0</th>\n",
       "      <td>1</td>\n",
       "      <td>18</td>\n",
       "      <td>no</td>\n",
       "      <td>0.166667</td>\n",
       "      <td>no</td>\n",
       "      <td>0.166667</td>\n",
       "      <td>0.146447</td>\n",
       "      <td>no</td>\n",
       "    </tr>\n",
       "    <tr>\n",
       "      <th>1</th>\n",
       "      <td>2</td>\n",
       "      <td>20</td>\n",
       "      <td>no</td>\n",
       "      <td>0.166667</td>\n",
       "      <td>no</td>\n",
       "      <td>0.166667</td>\n",
       "      <td>0.146447</td>\n",
       "      <td>no</td>\n",
       "    </tr>\n",
       "    <tr>\n",
       "      <th>2</th>\n",
       "      <td>3</td>\n",
       "      <td>35</td>\n",
       "      <td>yes</td>\n",
       "      <td>0.166667</td>\n",
       "      <td>no</td>\n",
       "      <td>0.235702</td>\n",
       "      <td>0.207107</td>\n",
       "      <td>no</td>\n",
       "    </tr>\n",
       "    <tr>\n",
       "      <th>3</th>\n",
       "      <td>4</td>\n",
       "      <td>50</td>\n",
       "      <td>yes</td>\n",
       "      <td>0.166667</td>\n",
       "      <td>no</td>\n",
       "      <td>0.235702</td>\n",
       "      <td>0.207107</td>\n",
       "      <td>yes</td>\n",
       "    </tr>\n",
       "    <tr>\n",
       "      <th>4</th>\n",
       "      <td>5</td>\n",
       "      <td>55</td>\n",
       "      <td>yes</td>\n",
       "      <td>0.166667</td>\n",
       "      <td>yes</td>\n",
       "      <td>0.166667</td>\n",
       "      <td>0.146447</td>\n",
       "      <td>yes</td>\n",
       "    </tr>\n",
       "    <tr>\n",
       "      <th>5</th>\n",
       "      <td>6</td>\n",
       "      <td>57</td>\n",
       "      <td>yes</td>\n",
       "      <td>0.166667</td>\n",
       "      <td>yes</td>\n",
       "      <td>0.166667</td>\n",
       "      <td>0.146447</td>\n",
       "      <td>yes</td>\n",
       "    </tr>\n",
       "  </tbody>\n",
       "</table>\n",
       "</div>"
      ],
      "text/plain": [
       "   pearson  age  buy   weights pred-1  weights_new_1  weights_norm_1 pred-2\n",
       "0        1   18   no  0.166667     no       0.166667        0.146447     no\n",
       "1        2   20   no  0.166667     no       0.166667        0.146447     no\n",
       "2        3   35  yes  0.166667     no       0.235702        0.207107     no\n",
       "3        4   50  yes  0.166667     no       0.235702        0.207107    yes\n",
       "4        5   55  yes  0.166667    yes       0.166667        0.146447    yes\n",
       "5        6   57  yes  0.166667    yes       0.166667        0.146447    yes"
      ]
     },
     "execution_count": 86,
     "metadata": {},
     "output_type": "execute_result"
    }
   ],
   "source": [
    "df['pred-2'] = np.where(df['age'] > split_point2, 'yes', 'no')\n",
    "df"
   ]
  },
  {
   "cell_type": "markdown",
   "id": "e8ac87a3",
   "metadata": {},
   "source": [
    "### Calculate error"
   ]
  },
  {
   "cell_type": "code",
   "execution_count": 87,
   "id": "f41bb9f6",
   "metadata": {},
   "outputs": [
    {
     "data": {
      "text/plain": [
       "0.20710678118654752"
      ]
     },
     "execution_count": 87,
     "metadata": {},
     "output_type": "execute_result"
    }
   ],
   "source": [
    "# Calculate error - where the prediction is diffrent from the reality\n",
    "error = df['weights_norm_1'].where(df['buy'] != df['pred-2']).sum()\n",
    "error"
   ]
  },
  {
   "cell_type": "markdown",
   "id": "9d2ef46d",
   "metadata": {},
   "source": [
    "### Calculate importance of the tree"
   ]
  },
  {
   "cell_type": "code",
   "execution_count": 88,
   "id": "7f0d6786",
   "metadata": {},
   "outputs": [
    {
     "data": {
      "text/plain": [
       "0.6712270232267631"
      ]
     },
     "execution_count": 88,
     "metadata": {},
     "output_type": "execute_result"
    }
   ],
   "source": [
    "lr=1\n",
    "\n",
    "alpha2 = lr*0.5*np.log((1-error)/error)\n",
    "alpha2"
   ]
  },
  {
   "cell_type": "markdown",
   "id": "ed36a863",
   "metadata": {},
   "source": [
    "### Calculate new weights for wrong guesses"
   ]
  },
  {
   "cell_type": "code",
   "execution_count": 89,
   "id": "43bc182e",
   "metadata": {},
   "outputs": [
    {
     "data": {
      "text/html": [
       "<div>\n",
       "<style scoped>\n",
       "    .dataframe tbody tr th:only-of-type {\n",
       "        vertical-align: middle;\n",
       "    }\n",
       "\n",
       "    .dataframe tbody tr th {\n",
       "        vertical-align: top;\n",
       "    }\n",
       "\n",
       "    .dataframe thead th {\n",
       "        text-align: right;\n",
       "    }\n",
       "</style>\n",
       "<table border=\"1\" class=\"dataframe\">\n",
       "  <thead>\n",
       "    <tr style=\"text-align: right;\">\n",
       "      <th></th>\n",
       "      <th>pearson</th>\n",
       "      <th>age</th>\n",
       "      <th>buy</th>\n",
       "      <th>weights</th>\n",
       "      <th>pred-1</th>\n",
       "      <th>weights_new_1</th>\n",
       "      <th>weights_norm_1</th>\n",
       "      <th>pred-2</th>\n",
       "      <th>weights_new_2</th>\n",
       "    </tr>\n",
       "  </thead>\n",
       "  <tbody>\n",
       "    <tr>\n",
       "      <th>0</th>\n",
       "      <td>1</td>\n",
       "      <td>18</td>\n",
       "      <td>no</td>\n",
       "      <td>0.166667</td>\n",
       "      <td>no</td>\n",
       "      <td>0.166667</td>\n",
       "      <td>0.146447</td>\n",
       "      <td>no</td>\n",
       "      <td>0.166667</td>\n",
       "    </tr>\n",
       "    <tr>\n",
       "      <th>1</th>\n",
       "      <td>2</td>\n",
       "      <td>20</td>\n",
       "      <td>no</td>\n",
       "      <td>0.166667</td>\n",
       "      <td>no</td>\n",
       "      <td>0.166667</td>\n",
       "      <td>0.146447</td>\n",
       "      <td>no</td>\n",
       "      <td>0.166667</td>\n",
       "    </tr>\n",
       "    <tr>\n",
       "      <th>2</th>\n",
       "      <td>3</td>\n",
       "      <td>35</td>\n",
       "      <td>yes</td>\n",
       "      <td>0.166667</td>\n",
       "      <td>no</td>\n",
       "      <td>0.235702</td>\n",
       "      <td>0.207107</td>\n",
       "      <td>no</td>\n",
       "      <td>0.326106</td>\n",
       "    </tr>\n",
       "    <tr>\n",
       "      <th>3</th>\n",
       "      <td>4</td>\n",
       "      <td>50</td>\n",
       "      <td>yes</td>\n",
       "      <td>0.166667</td>\n",
       "      <td>no</td>\n",
       "      <td>0.235702</td>\n",
       "      <td>0.207107</td>\n",
       "      <td>yes</td>\n",
       "      <td>0.166667</td>\n",
       "    </tr>\n",
       "    <tr>\n",
       "      <th>4</th>\n",
       "      <td>5</td>\n",
       "      <td>55</td>\n",
       "      <td>yes</td>\n",
       "      <td>0.166667</td>\n",
       "      <td>yes</td>\n",
       "      <td>0.166667</td>\n",
       "      <td>0.146447</td>\n",
       "      <td>yes</td>\n",
       "      <td>0.166667</td>\n",
       "    </tr>\n",
       "    <tr>\n",
       "      <th>5</th>\n",
       "      <td>6</td>\n",
       "      <td>57</td>\n",
       "      <td>yes</td>\n",
       "      <td>0.166667</td>\n",
       "      <td>yes</td>\n",
       "      <td>0.166667</td>\n",
       "      <td>0.146447</td>\n",
       "      <td>yes</td>\n",
       "      <td>0.166667</td>\n",
       "    </tr>\n",
       "  </tbody>\n",
       "</table>\n",
       "</div>"
      ],
      "text/plain": [
       "   pearson  age  buy   weights pred-1  weights_new_1  weights_norm_1 pred-2   \n",
       "0        1   18   no  0.166667     no       0.166667        0.146447     no  \\\n",
       "1        2   20   no  0.166667     no       0.166667        0.146447     no   \n",
       "2        3   35  yes  0.166667     no       0.235702        0.207107     no   \n",
       "3        4   50  yes  0.166667     no       0.235702        0.207107    yes   \n",
       "4        5   55  yes  0.166667    yes       0.166667        0.146447    yes   \n",
       "5        6   57  yes  0.166667    yes       0.166667        0.146447    yes   \n",
       "\n",
       "   weights_new_2  \n",
       "0       0.166667  \n",
       "1       0.166667  \n",
       "2       0.326106  \n",
       "3       0.166667  \n",
       "4       0.166667  \n",
       "5       0.166667  "
      ]
     },
     "execution_count": 89,
     "metadata": {},
     "output_type": "execute_result"
    }
   ],
   "source": [
    "# Calculate new weights\n",
    "df['weights_new_2'] = np.where(df['buy'] != df['pred-2'], \n",
    "                                  df['weights'] * np.exp(alpha2),\n",
    "                                  df['weights']\n",
    "                                  )\n",
    "df"
   ]
  },
  {
   "cell_type": "markdown",
   "id": "8c0f4f17",
   "metadata": {},
   "source": [
    "# Predict on unseen data"
   ]
  },
  {
   "cell_type": "markdown",
   "id": "b5265fa1",
   "metadata": {},
   "source": [
    "### Unseen data"
   ]
  },
  {
   "cell_type": "code",
   "execution_count": 90,
   "id": "04de977a",
   "metadata": {},
   "outputs": [],
   "source": [
    "X_unseen = {'age': 70}  "
   ]
  },
  {
   "cell_type": "markdown",
   "id": "ea1795a5",
   "metadata": {},
   "source": [
    "### Predict on unseen data"
   ]
  },
  {
   "cell_type": "code",
   "execution_count": 92,
   "id": "d0411ab9",
   "metadata": {},
   "outputs": [
    {
     "name": "stdout",
     "output_type": "stream",
     "text": [
      "1\n",
      "1\n"
     ]
    }
   ],
   "source": [
    "# Tree 1 Prediction\n",
    "h1 = 1 if X_unseen['age'] > split_point1 else -1  \n",
    "\n",
    "# Tree 2 Prediction\n",
    "h2 = 1 if X_unseen['age'] > split_point2 else -1  \n",
    "\n",
    "print(h1)\n",
    "print(h2)"
   ]
  },
  {
   "cell_type": "markdown",
   "id": "a3ae2496",
   "metadata": {},
   "source": [
    "### Weighted sum of predictions"
   ]
  },
  {
   "cell_type": "code",
   "execution_count": 100,
   "id": "c42e3a66",
   "metadata": {},
   "outputs": [
    {
     "name": "stdout",
     "output_type": "stream",
     "text": [
      "alpha1=0.35\n",
      "alpha2=0.67\n"
     ]
    }
   ],
   "source": [
    "print(f'alpha1={round(alpha1,2)}')\n",
    "print(f'alpha2={round(alpha2,2)}')"
   ]
  },
  {
   "cell_type": "code",
   "execution_count": 93,
   "id": "42e9383c",
   "metadata": {},
   "outputs": [
    {
     "data": {
      "text/plain": [
       "1.017800613506736"
      ]
     },
     "execution_count": 93,
     "metadata": {},
     "output_type": "execute_result"
    }
   ],
   "source": [
    "# Compute weighted sum of predictions\n",
    "F_x = alpha1 * h1 + alpha2 * h2\n",
    "F_x"
   ]
  },
  {
   "cell_type": "markdown",
   "id": "81dcf5ef",
   "metadata": {},
   "source": [
    "### Final classification"
   ]
  },
  {
   "cell_type": "markdown",
   "id": "1ef5a57d",
   "metadata": {},
   "source": [
    "<img src=\"pics/sign.png\" style=\"width: 60%;\"/>"
   ]
  },
  {
   "cell_type": "markdown",
   "id": "37486873",
   "metadata": {},
   "source": [
    "<img src=\"pics/final_final.png\" style=\"width: 60%;\"/>"
   ]
  },
  {
   "cell_type": "code",
   "execution_count": 101,
   "id": "4792c345",
   "metadata": {},
   "outputs": [
    {
     "name": "stdout",
     "output_type": "stream",
     "text": [
      "Final Prediction: 1.0\n"
     ]
    }
   ],
   "source": [
    "# Final classification\n",
    "y_pred = np.sign(F_x)\n",
    "\n",
    "print(f\"Final Prediction: {y_pred}\")"
   ]
  }
 ],
 "metadata": {
  "kernelspec": {
   "display_name": "Python 3",
   "language": "python",
   "name": "python3"
  },
  "language_info": {
   "codemirror_mode": {
    "name": "ipython",
    "version": 3
   },
   "file_extension": ".py",
   "mimetype": "text/x-python",
   "name": "python",
   "nbconvert_exporter": "python",
   "pygments_lexer": "ipython3",
   "version": "3.10.10"
  }
 },
 "nbformat": 4,
 "nbformat_minor": 5
}
