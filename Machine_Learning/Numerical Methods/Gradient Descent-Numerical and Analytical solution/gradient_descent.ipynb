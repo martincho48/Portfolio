{
 "cells": [
  {
   "cell_type": "code",
   "execution_count": 11,
   "metadata": {},
   "outputs": [],
   "source": [
    "import pandas as pd\n",
    "import numpy as np\n",
    "import matplotlib.pylab as plt\n",
    "\n",
    "import sympy as sp"
   ]
  },
  {
   "cell_type": "markdown",
   "metadata": {},
   "source": [
    "**Plot the function**"
   ]
  },
  {
   "cell_type": "code",
   "execution_count": 12,
   "metadata": {},
   "outputs": [
    {
     "data": {
      "text/html": [
       "<div>\n",
       "<style scoped>\n",
       "    .dataframe tbody tr th:only-of-type {\n",
       "        vertical-align: middle;\n",
       "    }\n",
       "\n",
       "    .dataframe tbody tr th {\n",
       "        vertical-align: top;\n",
       "    }\n",
       "\n",
       "    .dataframe thead th {\n",
       "        text-align: right;\n",
       "    }\n",
       "</style>\n",
       "<table border=\"1\" class=\"dataframe\">\n",
       "  <thead>\n",
       "    <tr style=\"text-align: right;\">\n",
       "      <th></th>\n",
       "      <th>x</th>\n",
       "    </tr>\n",
       "  </thead>\n",
       "  <tbody>\n",
       "    <tr>\n",
       "      <th>0</th>\n",
       "      <td>-10</td>\n",
       "    </tr>\n",
       "    <tr>\n",
       "      <th>1</th>\n",
       "      <td>-9</td>\n",
       "    </tr>\n",
       "    <tr>\n",
       "      <th>2</th>\n",
       "      <td>-8</td>\n",
       "    </tr>\n",
       "    <tr>\n",
       "      <th>3</th>\n",
       "      <td>-7</td>\n",
       "    </tr>\n",
       "    <tr>\n",
       "      <th>4</th>\n",
       "      <td>-6</td>\n",
       "    </tr>\n",
       "  </tbody>\n",
       "</table>\n",
       "</div>"
      ],
      "text/plain": [
       "    x\n",
       "0 -10\n",
       "1  -9\n",
       "2  -8\n",
       "3  -7\n",
       "4  -6"
      ]
     },
     "execution_count": 12,
     "metadata": {},
     "output_type": "execute_result"
    }
   ],
   "source": [
    "#define data\n",
    "data=pd.DataFrame({'x': np.arange(-10,11,1)})\n",
    "data.head(5)"
   ]
  },
  {
   "cell_type": "code",
   "execution_count": 13,
   "metadata": {},
   "outputs": [
    {
     "data": {
      "text/html": [
       "<div>\n",
       "<style scoped>\n",
       "    .dataframe tbody tr th:only-of-type {\n",
       "        vertical-align: middle;\n",
       "    }\n",
       "\n",
       "    .dataframe tbody tr th {\n",
       "        vertical-align: top;\n",
       "    }\n",
       "\n",
       "    .dataframe thead th {\n",
       "        text-align: right;\n",
       "    }\n",
       "</style>\n",
       "<table border=\"1\" class=\"dataframe\">\n",
       "  <thead>\n",
       "    <tr style=\"text-align: right;\">\n",
       "      <th></th>\n",
       "      <th>x</th>\n",
       "      <th>y</th>\n",
       "    </tr>\n",
       "  </thead>\n",
       "  <tbody>\n",
       "    <tr>\n",
       "      <th>0</th>\n",
       "      <td>-10</td>\n",
       "      <td>144</td>\n",
       "    </tr>\n",
       "    <tr>\n",
       "      <th>1</th>\n",
       "      <td>-9</td>\n",
       "      <td>121</td>\n",
       "    </tr>\n",
       "    <tr>\n",
       "      <th>2</th>\n",
       "      <td>-8</td>\n",
       "      <td>100</td>\n",
       "    </tr>\n",
       "    <tr>\n",
       "      <th>3</th>\n",
       "      <td>-7</td>\n",
       "      <td>81</td>\n",
       "    </tr>\n",
       "    <tr>\n",
       "      <th>4</th>\n",
       "      <td>-6</td>\n",
       "      <td>64</td>\n",
       "    </tr>\n",
       "  </tbody>\n",
       "</table>\n",
       "</div>"
      ],
      "text/plain": [
       "    x    y\n",
       "0 -10  144\n",
       "1  -9  121\n",
       "2  -8  100\n",
       "3  -7   81\n",
       "4  -6   64"
      ]
     },
     "execution_count": 13,
     "metadata": {},
     "output_type": "execute_result"
    }
   ],
   "source": [
    "#define function\n",
    "def get_y(x):\n",
    "    return x**2 - 4*x + 4\n",
    "\n",
    "#call the function\n",
    "\n",
    "data['y'] = data['x'].apply(get_y)\n",
    "\n",
    "data.head(5)"
   ]
  },
  {
   "cell_type": "code",
   "execution_count": 14,
   "metadata": {},
   "outputs": [
    {
     "data": {
      "image/png": "[encoded data removed]",
      "text/plain": [
       "<Figure size 800x400 with 1 Axes>"
      ]
     },
     "metadata": {},
     "output_type": "display_data"
    }
   ],
   "source": [
    "data['y'].plot(figsize=(8,4), marker='o')\n",
    "plt.grid()\n",
    "plt.show()"
   ]
  },
  {
   "cell_type": "markdown",
   "metadata": {},
   "source": [
    "**Iterations - Finding the local minimum**"
   ]
  },
  {
   "cell_type": "code",
   "execution_count": 15,
   "metadata": {},
   "outputs": [
    {
     "name": "stdout",
     "output_type": "stream",
     "text": [
      "Local minimum was found with 27 iterations, with the value of local minimum 2\n"
     ]
    },
    {
     "data": {
      "text/plain": [
       "[0,\n",
       " 0.400000000000000,\n",
       " 0.720000000000000,\n",
       " 0.976000000000000,\n",
       " 1.18080000000000,\n",
       " 1.34464000000000,\n",
       " 1.47571200000000,\n",
       " 1.58056960000000,\n",
       " 1.66445568000000,\n",
       " 1.73156454400000,\n",
       " 1.78525163520000,\n",
       " 1.82820130816000,\n",
       " 1.86256104652800,\n",
       " 1.89004883722240,\n",
       " 1.91203906977792,\n",
       " 1.92963125582234,\n",
       " 1.94370500465787,\n",
       " 1.95496400372629,\n",
       " 1.96397120298104,\n",
       " 1.97117696238483,\n",
       " 1.97694156990786,\n",
       " 1.98155325592629,\n",
       " 1.98524260474103,\n",
       " 1.98819408379283,\n",
       " 1.99055526703426,\n",
       " 1.99244421362741,\n",
       " 1.99395537090193,\n",
       " 1.99516429672154,\n",
       " 1.99613143737723]"
      ]
     },
     "execution_count": 15,
     "metadata": {},
     "output_type": "execute_result"
    }
   ],
   "source": [
    "#Define the symbolic variable for the equation and the function\n",
    "x = sp.symbols('x')\n",
    "f = x**2 - 4*x + 4\n",
    "f_prime = sp.diff(f, x)\n",
    "\n",
    "#Initial conditions\n",
    "x_initial = 0\n",
    "step = 0.1 \n",
    "results = [x_initial]\n",
    "\n",
    "#loop=iterations\n",
    "for i in range(500):\n",
    "    x_previous = results[i]\n",
    "\n",
    "    gradient = f_prime.subs(x, x_previous)\n",
    "\n",
    "    x_new = x_previous - (step * gradient)\n",
    "    results.append(x_new)\n",
    "\n",
    "    #stop the iterations if the value is not changed\n",
    "    if i > 0 and x_new-x_previous < 0.001:\n",
    "        print (f'Local minimum was found with {i} iterations, with the value of local minimum {round(results[i])}')\n",
    "        break\n",
    "        \n",
    "results"
   ]
  }
 ],
 "metadata": {
  "kernelspec": {
   "display_name": "venv-sRlQ1h_2",
   "language": "python",
   "name": "python3"
  },
  "language_info": {
   "codemirror_mode": {
    "name": "ipython",
    "version": 3
   },
   "file_extension": ".py",
   "mimetype": "text/x-python",
   "name": "python",
   "nbconvert_exporter": "python",
   "pygments_lexer": "ipython3",
   "version": "3.8.10"
  }
 },
 "nbformat": 4,
 "nbformat_minor": 2
}
