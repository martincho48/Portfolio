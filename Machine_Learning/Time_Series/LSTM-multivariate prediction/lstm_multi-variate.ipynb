{
 "cells": [
  {
   "cell_type": "code",
   "execution_count": 529,
   "metadata": {},
   "outputs": [],
   "source": [
    "import numpy as np\n",
    "import pandas as pd\n",
    "\n",
    "from keras.models import Sequential\n",
    "from keras.layers import LSTM, Dense\n",
    "from keras import backend as K\n",
    "\n",
    "import matplotlib.pyplot as plt\n",
    "from sklearn.preprocessing import MinMaxScaler\n",
    "from sklearn.metrics import mean_squared_error as mse\n",
    "import joblib\n"
   ]
  },
  {
   "cell_type": "markdown",
   "metadata": {},
   "source": [
    "**Define input data and plot them**"
   ]
  },
  {
   "cell_type": "code",
   "execution_count": 530,
   "metadata": {},
   "outputs": [],
   "source": [
    "# Define lookback and prediction time_step\n",
    "lookback = 10\n",
    "time_step = 1 \n",
    "test_size = 10\n",
    "future_size = 28\n",
    "n_features = 2\n",
    "\n",
    "n_epochs=3000"
   ]
  },
  {
   "cell_type": "code",
   "execution_count": 531,
   "metadata": {},
   "outputs": [
    {
     "data": {
      "text/html": [
       "<div>\n",
       "<style scoped>\n",
       "    .dataframe tbody tr th:only-of-type {\n",
       "        vertical-align: middle;\n",
       "    }\n",
       "\n",
       "    .dataframe tbody tr th {\n",
       "        vertical-align: top;\n",
       "    }\n",
       "\n",
       "    .dataframe thead th {\n",
       "        text-align: right;\n",
       "    }\n",
       "</style>\n",
       "<table border=\"1\" class=\"dataframe\">\n",
       "  <thead>\n",
       "    <tr style=\"text-align: right;\">\n",
       "      <th></th>\n",
       "      <th>value</th>\n",
       "    </tr>\n",
       "  </thead>\n",
       "  <tbody>\n",
       "    <tr>\n",
       "      <th>0</th>\n",
       "      <td>10</td>\n",
       "    </tr>\n",
       "    <tr>\n",
       "      <th>1</th>\n",
       "      <td>12</td>\n",
       "    </tr>\n",
       "    <tr>\n",
       "      <th>2</th>\n",
       "      <td>14</td>\n",
       "    </tr>\n",
       "    <tr>\n",
       "      <th>3</th>\n",
       "      <td>16</td>\n",
       "    </tr>\n",
       "    <tr>\n",
       "      <th>4</th>\n",
       "      <td>18</td>\n",
       "    </tr>\n",
       "    <tr>\n",
       "      <th>5</th>\n",
       "      <td>20</td>\n",
       "    </tr>\n",
       "    <tr>\n",
       "      <th>6</th>\n",
       "      <td>22</td>\n",
       "    </tr>\n",
       "    <tr>\n",
       "      <th>7</th>\n",
       "      <td>24</td>\n",
       "    </tr>\n",
       "    <tr>\n",
       "      <th>8</th>\n",
       "      <td>26</td>\n",
       "    </tr>\n",
       "    <tr>\n",
       "      <th>9</th>\n",
       "      <td>28</td>\n",
       "    </tr>\n",
       "    <tr>\n",
       "      <th>10</th>\n",
       "      <td>30</td>\n",
       "    </tr>\n",
       "    <tr>\n",
       "      <th>11</th>\n",
       "      <td>32</td>\n",
       "    </tr>\n",
       "    <tr>\n",
       "      <th>12</th>\n",
       "      <td>34</td>\n",
       "    </tr>\n",
       "    <tr>\n",
       "      <th>13</th>\n",
       "      <td>36</td>\n",
       "    </tr>\n",
       "    <tr>\n",
       "      <th>14</th>\n",
       "      <td>38</td>\n",
       "    </tr>\n",
       "    <tr>\n",
       "      <th>15</th>\n",
       "      <td>40</td>\n",
       "    </tr>\n",
       "  </tbody>\n",
       "</table>\n",
       "</div>"
      ],
      "text/plain": [
       "    value\n",
       "0      10\n",
       "1      12\n",
       "2      14\n",
       "3      16\n",
       "4      18\n",
       "5      20\n",
       "6      22\n",
       "7      24\n",
       "8      26\n",
       "9      28\n",
       "10     30\n",
       "11     32\n",
       "12     34\n",
       "13     36\n",
       "14     38\n",
       "15     40"
      ]
     },
     "execution_count": 531,
     "metadata": {},
     "output_type": "execute_result"
    }
   ],
   "source": [
    "#number od days\n",
    "n = 59\n",
    "\n",
    "final_sequence = []\n",
    "increment = 10\n",
    "\n",
    "final_sequence=[increment+2*i for i in range(n)]\n",
    "final_sequence[0:5]\n",
    "\n",
    "#convert into df\n",
    "data_origin=pd.DataFrame(final_sequence, columns=['value'])\n",
    "data_origin.head(16)"
   ]
  },
  {
   "cell_type": "code",
   "execution_count": 532,
   "metadata": {},
   "outputs": [],
   "source": [
    "def zero_value(data):\n",
    "    data.loc[data['weekend'] == 1, 'value'] = 0\n",
    "    return data"
   ]
  },
  {
   "cell_type": "code",
   "execution_count": 533,
   "metadata": {},
   "outputs": [
    {
     "data": {
      "text/html": [
       "<div>\n",
       "<style scoped>\n",
       "    .dataframe tbody tr th:only-of-type {\n",
       "        vertical-align: middle;\n",
       "    }\n",
       "\n",
       "    .dataframe tbody tr th {\n",
       "        vertical-align: top;\n",
       "    }\n",
       "\n",
       "    .dataframe thead th {\n",
       "        text-align: right;\n",
       "    }\n",
       "</style>\n",
       "<table border=\"1\" class=\"dataframe\">\n",
       "  <thead>\n",
       "    <tr style=\"text-align: right;\">\n",
       "      <th></th>\n",
       "      <th>value</th>\n",
       "      <th>weekend</th>\n",
       "    </tr>\n",
       "    <tr>\n",
       "      <th>date</th>\n",
       "      <th></th>\n",
       "      <th></th>\n",
       "    </tr>\n",
       "  </thead>\n",
       "  <tbody>\n",
       "    <tr>\n",
       "      <th>2022-01-01</th>\n",
       "      <td>10</td>\n",
       "      <td>0</td>\n",
       "    </tr>\n",
       "    <tr>\n",
       "      <th>2022-01-02</th>\n",
       "      <td>0</td>\n",
       "      <td>1</td>\n",
       "    </tr>\n",
       "    <tr>\n",
       "      <th>2022-01-03</th>\n",
       "      <td>0</td>\n",
       "      <td>1</td>\n",
       "    </tr>\n",
       "    <tr>\n",
       "      <th>2022-01-04</th>\n",
       "      <td>16</td>\n",
       "      <td>0</td>\n",
       "    </tr>\n",
       "    <tr>\n",
       "      <th>2022-01-05</th>\n",
       "      <td>18</td>\n",
       "      <td>0</td>\n",
       "    </tr>\n",
       "    <tr>\n",
       "      <th>2022-01-06</th>\n",
       "      <td>20</td>\n",
       "      <td>0</td>\n",
       "    </tr>\n",
       "    <tr>\n",
       "      <th>2022-01-07</th>\n",
       "      <td>22</td>\n",
       "      <td>0</td>\n",
       "    </tr>\n",
       "    <tr>\n",
       "      <th>2022-01-08</th>\n",
       "      <td>24</td>\n",
       "      <td>0</td>\n",
       "    </tr>\n",
       "  </tbody>\n",
       "</table>\n",
       "</div>"
      ],
      "text/plain": [
       "            value  weekend\n",
       "date                      \n",
       "2022-01-01     10        0\n",
       "2022-01-02      0        1\n",
       "2022-01-03      0        1\n",
       "2022-01-04     16        0\n",
       "2022-01-05     18        0\n",
       "2022-01-06     20        0\n",
       "2022-01-07     22        0\n",
       "2022-01-08     24        0"
      ]
     },
     "execution_count": 533,
     "metadata": {},
     "output_type": "execute_result"
    }
   ],
   "source": [
    "data_origin['date']=pd.date_range('2022-01-01', periods=len(data_origin))\n",
    "data_origin['weekend']=data_origin['date'].dt.weekday\n",
    "data_origin['weekend']=data_origin['weekend'].apply(lambda x: 0 if x not in [0,6] else 1)\n",
    "\n",
    "#zero the weekends values\n",
    "data = zero_value(data_origin)\n",
    "\n",
    "#set the index\n",
    "data.set_index('date', inplace=True)\n",
    "data.head(8)"
   ]
  },
  {
   "cell_type": "code",
   "execution_count": 534,
   "metadata": {},
   "outputs": [
    {
     "data": {
      "text/plain": [
       "\" #add column holidays\\ndata['holidays']=0\\n\\n#choose some days as holidays \\nlist_hol=[10,52,93]\\n\\nfor item in list_hol:\\n    data.loc[item, 'holidays']=1\\n    data.loc[item, 'value']=0 \""
      ]
     },
     "execution_count": 534,
     "metadata": {},
     "output_type": "execute_result"
    }
   ],
   "source": [
    "\"\"\" #add column holidays\n",
    "data['holidays']=0\n",
    "\n",
    "#choose some days as holidays \n",
    "list_hol=[10,52,93]\n",
    "\n",
    "for item in list_hol:\n",
    "    data.loc[item, 'holidays']=1\n",
    "    data.loc[item, 'value']=0 \"\"\""
   ]
  },
  {
   "cell_type": "code",
   "execution_count": 535,
   "metadata": {},
   "outputs": [
    {
     "data": {
      "text/html": [
       "<div>\n",
       "<style scoped>\n",
       "    .dataframe tbody tr th:only-of-type {\n",
       "        vertical-align: middle;\n",
       "    }\n",
       "\n",
       "    .dataframe tbody tr th {\n",
       "        vertical-align: top;\n",
       "    }\n",
       "\n",
       "    .dataframe thead th {\n",
       "        text-align: right;\n",
       "    }\n",
       "</style>\n",
       "<table border=\"1\" class=\"dataframe\">\n",
       "  <thead>\n",
       "    <tr style=\"text-align: right;\">\n",
       "      <th></th>\n",
       "      <th>value</th>\n",
       "      <th>weekend</th>\n",
       "    </tr>\n",
       "    <tr>\n",
       "      <th>date</th>\n",
       "      <th></th>\n",
       "      <th></th>\n",
       "    </tr>\n",
       "  </thead>\n",
       "  <tbody>\n",
       "    <tr>\n",
       "      <th>2022-02-21</th>\n",
       "      <td>0</td>\n",
       "      <td>1</td>\n",
       "    </tr>\n",
       "    <tr>\n",
       "      <th>2022-02-22</th>\n",
       "      <td>114</td>\n",
       "      <td>0</td>\n",
       "    </tr>\n",
       "    <tr>\n",
       "      <th>2022-02-23</th>\n",
       "      <td>116</td>\n",
       "      <td>0</td>\n",
       "    </tr>\n",
       "    <tr>\n",
       "      <th>2022-02-24</th>\n",
       "      <td>118</td>\n",
       "      <td>0</td>\n",
       "    </tr>\n",
       "    <tr>\n",
       "      <th>2022-02-25</th>\n",
       "      <td>120</td>\n",
       "      <td>0</td>\n",
       "    </tr>\n",
       "    <tr>\n",
       "      <th>2022-02-26</th>\n",
       "      <td>122</td>\n",
       "      <td>0</td>\n",
       "    </tr>\n",
       "    <tr>\n",
       "      <th>2022-02-27</th>\n",
       "      <td>0</td>\n",
       "      <td>1</td>\n",
       "    </tr>\n",
       "    <tr>\n",
       "      <th>2022-02-28</th>\n",
       "      <td>0</td>\n",
       "      <td>1</td>\n",
       "    </tr>\n",
       "  </tbody>\n",
       "</table>\n",
       "</div>"
      ],
      "text/plain": [
       "            value  weekend\n",
       "date                      \n",
       "2022-02-21      0        1\n",
       "2022-02-22    114        0\n",
       "2022-02-23    116        0\n",
       "2022-02-24    118        0\n",
       "2022-02-25    120        0\n",
       "2022-02-26    122        0\n",
       "2022-02-27      0        1\n",
       "2022-02-28      0        1"
      ]
     },
     "execution_count": 535,
     "metadata": {},
     "output_type": "execute_result"
    }
   ],
   "source": [
    "data_origin.tail(8)"
   ]
  },
  {
   "cell_type": "code",
   "execution_count": 536,
   "metadata": {},
   "outputs": [
    {
     "data": {
      "image/png": "[encoded data removed]",
      "text/plain": [
       "<Figure size 1000x500 with 1 Axes>"
      ]
     },
     "metadata": {},
     "output_type": "display_data"
    }
   ],
   "source": [
    "data_origin['value'].plot(figsize=(10,5), marker='o')\n",
    "plt.grid()\n",
    "plt.show()"
   ]
  },
  {
   "cell_type": "markdown",
   "metadata": {},
   "source": [
    "**Scale and parce the data**"
   ]
  },
  {
   "cell_type": "code",
   "execution_count": 537,
   "metadata": {},
   "outputs": [],
   "source": [
    "#scale data\n",
    "scaler = MinMaxScaler(feature_range= (0,1))\n",
    "data = scaler.fit_transform(data)"
   ]
  },
  {
   "cell_type": "code",
   "execution_count": 538,
   "metadata": {},
   "outputs": [],
   "source": [
    "# Function to create input sequences and corresponding output for training\n",
    "def create_sequences(data, lookback, time_step):\n",
    "    X, y = [], []\n",
    "    for i in range(len(data) - lookback):\n",
    "        X.append(data[i:i+lookback])\n",
    "        y.append(data[i+lookback:i+lookback+time_step, 0]) #I want to predict just first feature that is why 0\n",
    "    return np.array(X), np.array(y)\n",
    "\n",
    "# Create input sequences and corresponding output\n",
    "X, y = create_sequences(data, lookback, time_step)"
   ]
  },
  {
   "cell_type": "code",
   "execution_count": 539,
   "metadata": {},
   "outputs": [],
   "source": [
    "#Split the data into training and testing sets\n",
    "train_size = int(len(X)-test_size)\n",
    "\n",
    "X_train, y_train = X[:train_size], y[:train_size]\n",
    "X_test, y_test = X[train_size:], y[train_size:]"
   ]
  },
  {
   "cell_type": "code",
   "execution_count": 540,
   "metadata": {},
   "outputs": [
    {
     "data": {
      "text/plain": [
       "(39, 1)"
      ]
     },
     "execution_count": 540,
     "metadata": {},
     "output_type": "execute_result"
    }
   ],
   "source": [
    "y_train.shape"
   ]
  },
  {
   "cell_type": "markdown",
   "metadata": {},
   "source": [
    "**Build the NN and compute**"
   ]
  },
  {
   "cell_type": "code",
   "execution_count": 541,
   "metadata": {},
   "outputs": [
    {
     "name": "stdout",
     "output_type": "stream",
     "text": [
      "1/1 [==============================] - 0s 369ms/step - loss: 1.3212e-04\n",
      "Test Loss: 0.00013212175690568984\n"
     ]
    }
   ],
   "source": [
    "#Build the LSTM model\n",
    "\n",
    "'''\n",
    "If you encounter this problem:\n",
    "\"The error AttributeError: module 'keras.backend' has no attribute 'floatx'\"\n",
    "Restart VSC!!!\n",
    "'''\n",
    "\n",
    "#clear previous TensorFlow session\n",
    "K.clear_session()\n",
    "\n",
    "model = Sequential()\n",
    "model.add(LSTM(40, input_shape=(lookback, n_features)))\n",
    "model.add(Dense(time_step))\n",
    "model.compile(optimizer='adam', loss='mse')\n",
    "\n",
    "#Train the model\n",
    "history=model.fit(X_train, y_train, epochs=n_epochs, batch_size=10, validation_data=(X_test, y_test), verbose=0)\n",
    "\n",
    "#Evaluate the model on the test set\n",
    "loss = model.evaluate(X_test, y_test)\n",
    "print(f\"Test Loss: {loss}\")\n"
   ]
  },
  {
   "cell_type": "code",
   "execution_count": 542,
   "metadata": {},
   "outputs": [],
   "source": [
    "#define ploting function for loss function\n",
    "\n",
    "def plot_training(history_dict, y_axis=[0, 1000]):\n",
    "\n",
    "    plt.plot(history_dict.history['loss'], label='Loss-Training',  c=\"blue\")\n",
    "    plt.plot(history_dict.history['val_loss'], label='Loss-Test', c=\"red\")\n",
    "\n",
    "    plt.xlabel('Epochs')\n",
    "    plt.ylabel('Loss')\n",
    "\n",
    "    plt.ylim(y_axis) #limit of the Y-axis\n",
    "\n",
    "    plt.legend()\n",
    "    plt.grid(True)\n",
    "\n",
    "    plt.show()"
   ]
  },
  {
   "cell_type": "code",
   "execution_count": 543,
   "metadata": {},
   "outputs": [
    {
     "data": {
      "image/png": "[encoded data removed]",
      "text/plain": [
       "<Figure size 640x480 with 1 Axes>"
      ]
     },
     "metadata": {},
     "output_type": "display_data"
    }
   ],
   "source": [
    "#plot without dropout\n",
    "plot_training(history,y_axis=[0, 0.5])"
   ]
  },
  {
   "cell_type": "markdown",
   "metadata": {},
   "source": [
    "**Predict on the test data**"
   ]
  },
  {
   "cell_type": "code",
   "execution_count": 544,
   "metadata": {},
   "outputs": [
    {
     "name": "stdout",
     "output_type": "stream",
     "text": [
      "1/1 [==============================] - 0s 353ms/step\n"
     ]
    }
   ],
   "source": [
    "#Predict the next time steps\n",
    "y_pred = model.predict(X_test)"
   ]
  },
  {
   "cell_type": "code",
   "execution_count": 545,
   "metadata": {},
   "outputs": [
    {
     "data": {
      "text/plain": [
       "array([[8.7388188e-01],\n",
       "       [4.0977467e-03],\n",
       "       [3.1812303e-04],\n",
       "       [9.2691606e-01],\n",
       "       [9.4315541e-01],\n",
       "       [9.6058333e-01],\n",
       "       [9.7842932e-01],\n",
       "       [9.6940815e-01],\n",
       "       [4.1440297e-03],\n",
       "       [6.0206149e-03]], dtype=float32)"
      ]
     },
     "execution_count": 545,
     "metadata": {},
     "output_type": "execute_result"
    }
   ],
   "source": [
    "y_pred"
   ]
  },
  {
   "cell_type": "code",
   "execution_count": 546,
   "metadata": {},
   "outputs": [
    {
     "data": {
      "text/plain": [
       "(10, 1)"
      ]
     },
     "execution_count": 546,
     "metadata": {},
     "output_type": "execute_result"
    }
   ],
   "source": [
    "#check shape\n",
    "y_pred.shape"
   ]
  },
  {
   "cell_type": "code",
   "execution_count": 547,
   "metadata": {},
   "outputs": [
    {
     "data": {
      "text/plain": [
       "array([[8.7388188e-01, 8.7388188e-01],\n",
       "       [4.0977467e-03, 4.0977467e-03],\n",
       "       [3.1812303e-04, 3.1812303e-04],\n",
       "       [9.2691606e-01, 9.2691606e-01],\n",
       "       [9.4315541e-01, 9.4315541e-01],\n",
       "       [9.6058333e-01, 9.6058333e-01],\n",
       "       [9.7842932e-01, 9.7842932e-01],\n",
       "       [9.6940815e-01, 9.6940815e-01],\n",
       "       [4.1440297e-03, 4.1440297e-03],\n",
       "       [6.0206149e-03, 6.0206149e-03]], dtype=float32)"
      ]
     },
     "execution_count": 547,
     "metadata": {},
     "output_type": "execute_result"
    }
   ],
   "source": [
    "#copy the array i need to reshape it to the shape (10,2)\n",
    "y_pred_multi = np.repeat(y_pred, n_features, axis=-1)\n",
    "y_pred_multi"
   ]
  },
  {
   "cell_type": "code",
   "execution_count": 548,
   "metadata": {},
   "outputs": [
    {
     "data": {
      "text/plain": [
       "(10, 2)"
      ]
     },
     "execution_count": 548,
     "metadata": {},
     "output_type": "execute_result"
    }
   ],
   "source": [
    "#check shape\n",
    "y_pred_multi.shape"
   ]
  },
  {
   "cell_type": "code",
   "execution_count": 549,
   "metadata": {},
   "outputs": [
    {
     "data": {
      "text/plain": [
       "array([[1.0661359e+02],\n",
       "       [4.9992511e-01],\n",
       "       [3.8811009e-02],\n",
       "       [1.1308376e+02],\n",
       "       [1.1506496e+02],\n",
       "       [1.1719117e+02],\n",
       "       [1.1936838e+02],\n",
       "       [1.1826779e+02],\n",
       "       [5.0557160e-01],\n",
       "       [7.3451501e-01]], dtype=float32)"
      ]
     },
     "execution_count": 549,
     "metadata": {},
     "output_type": "execute_result"
    }
   ],
   "source": [
    "#tranform back and choose just first column of the array\n",
    "y_pred_trans=scaler.inverse_transform(y_pred_multi)[:,0]\n",
    "\n",
    "#reshapefrom row to column\n",
    "y_pred_trans=y_pred_trans.reshape(-1,1) \n",
    "y_pred_trans"
   ]
  },
  {
   "cell_type": "code",
   "execution_count": 550,
   "metadata": {},
   "outputs": [
    {
     "data": {
      "text/plain": [
       "array([[108.],\n",
       "       [  0.],\n",
       "       [  0.],\n",
       "       [114.],\n",
       "       [116.],\n",
       "       [118.],\n",
       "       [120.],\n",
       "       [122.],\n",
       "       [  0.],\n",
       "       [  0.]])"
      ]
     },
     "execution_count": 550,
     "metadata": {},
     "output_type": "execute_result"
    }
   ],
   "source": [
    "###########\n",
    "#same procedure with the test\n",
    "###########\n",
    "\n",
    "#copy the array i need to reshape it to (10,2)\n",
    "y_test_multi = np.repeat(y_test, n_features, axis=-1)\n",
    "\n",
    "#tranform back and choose just first column of the array=0\n",
    "y_test_trans=scaler.inverse_transform(y_test_multi)[:,0]\n",
    "\n",
    "#reshape from row to column\n",
    "y_test_trans=y_test_trans.reshape(-1,1) \n",
    "y_test_trans\n"
   ]
  },
  {
   "cell_type": "markdown",
   "metadata": {},
   "source": [
    "**Plot results**"
   ]
  },
  {
   "cell_type": "code",
   "execution_count": 551,
   "metadata": {},
   "outputs": [
    {
     "data": {
      "image/png": "[encoded data removed]",
      "text/plain": [
       "<Figure size 1000x500 with 1 Axes>"
      ]
     },
     "metadata": {},
     "output_type": "display_data"
    }
   ],
   "source": [
    "#Plot results for test part\n",
    "\n",
    "plt.figure(figsize=(10,5))\n",
    "\n",
    "plt.plot(y_test_trans, label = 'Real', marker='o')\n",
    "plt.plot(y_pred_trans, label = 'Predicted', marker='o')\n",
    "\n",
    "plt.grid()\n",
    "plt.ylabel('y axis')\n",
    "plt.xlabel('x axis')\n",
    "\n",
    "plt.legend()\n",
    "plt.show()"
   ]
  },
  {
   "cell_type": "markdown",
   "metadata": {},
   "source": [
    "**Evaluate test data - RMSE**"
   ]
  },
  {
   "cell_type": "code",
   "execution_count": 552,
   "metadata": {},
   "outputs": [
    {
     "name": "stdout",
     "output_type": "stream",
     "text": [
      "RMSE: 1.4\n"
     ]
    }
   ],
   "source": [
    "#calculate root mean squared error\n",
    "test_score = np.sqrt(mse(y_test_trans, y_pred_trans))\n",
    "\n",
    "#print results\n",
    "print(f'RMSE: {round(test_score,2)}')\n"
   ]
  },
  {
   "cell_type": "markdown",
   "metadata": {},
   "source": [
    "**Predict beyond the test set**"
   ]
  },
  {
   "cell_type": "markdown",
   "metadata": {},
   "source": [
    "**Create a matrix**"
   ]
  },
  {
   "cell_type": "code",
   "execution_count": 553,
   "metadata": {},
   "outputs": [
    {
     "data": {
      "text/plain": [
       "Timestamp('2022-03-01 00:00:00')"
      ]
     },
     "execution_count": 553,
     "metadata": {},
     "output_type": "execute_result"
    }
   ],
   "source": [
    "#get the last date item\n",
    "first_date=data_origin.index[-1]+pd.Timedelta(days=1)\n",
    "first_date"
   ]
  },
  {
   "cell_type": "code",
   "execution_count": 554,
   "metadata": {},
   "outputs": [
    {
     "data": {
      "text/html": [
       "<div>\n",
       "<style scoped>\n",
       "    .dataframe tbody tr th:only-of-type {\n",
       "        vertical-align: middle;\n",
       "    }\n",
       "\n",
       "    .dataframe tbody tr th {\n",
       "        vertical-align: top;\n",
       "    }\n",
       "\n",
       "    .dataframe thead th {\n",
       "        text-align: right;\n",
       "    }\n",
       "</style>\n",
       "<table border=\"1\" class=\"dataframe\">\n",
       "  <thead>\n",
       "    <tr style=\"text-align: right;\">\n",
       "      <th></th>\n",
       "      <th>value</th>\n",
       "      <th>weekend</th>\n",
       "    </tr>\n",
       "    <tr>\n",
       "      <th>date</th>\n",
       "      <th></th>\n",
       "      <th></th>\n",
       "    </tr>\n",
       "  </thead>\n",
       "  <tbody>\n",
       "    <tr>\n",
       "      <th>2022-03-01</th>\n",
       "      <td>NaN</td>\n",
       "      <td>0</td>\n",
       "    </tr>\n",
       "    <tr>\n",
       "      <th>2022-03-02</th>\n",
       "      <td>NaN</td>\n",
       "      <td>0</td>\n",
       "    </tr>\n",
       "    <tr>\n",
       "      <th>2022-03-03</th>\n",
       "      <td>NaN</td>\n",
       "      <td>0</td>\n",
       "    </tr>\n",
       "    <tr>\n",
       "      <th>2022-03-04</th>\n",
       "      <td>NaN</td>\n",
       "      <td>0</td>\n",
       "    </tr>\n",
       "    <tr>\n",
       "      <th>2022-03-05</th>\n",
       "      <td>NaN</td>\n",
       "      <td>0</td>\n",
       "    </tr>\n",
       "    <tr>\n",
       "      <th>2022-03-06</th>\n",
       "      <td>NaN</td>\n",
       "      <td>1</td>\n",
       "    </tr>\n",
       "    <tr>\n",
       "      <th>2022-03-07</th>\n",
       "      <td>NaN</td>\n",
       "      <td>1</td>\n",
       "    </tr>\n",
       "    <tr>\n",
       "      <th>2022-03-08</th>\n",
       "      <td>NaN</td>\n",
       "      <td>0</td>\n",
       "    </tr>\n",
       "    <tr>\n",
       "      <th>2022-03-09</th>\n",
       "      <td>NaN</td>\n",
       "      <td>0</td>\n",
       "    </tr>\n",
       "    <tr>\n",
       "      <th>2022-03-10</th>\n",
       "      <td>NaN</td>\n",
       "      <td>0</td>\n",
       "    </tr>\n",
       "    <tr>\n",
       "      <th>2022-03-11</th>\n",
       "      <td>NaN</td>\n",
       "      <td>0</td>\n",
       "    </tr>\n",
       "    <tr>\n",
       "      <th>2022-03-12</th>\n",
       "      <td>NaN</td>\n",
       "      <td>0</td>\n",
       "    </tr>\n",
       "    <tr>\n",
       "      <th>2022-03-13</th>\n",
       "      <td>NaN</td>\n",
       "      <td>1</td>\n",
       "    </tr>\n",
       "    <tr>\n",
       "      <th>2022-03-14</th>\n",
       "      <td>NaN</td>\n",
       "      <td>1</td>\n",
       "    </tr>\n",
       "    <tr>\n",
       "      <th>2022-03-15</th>\n",
       "      <td>NaN</td>\n",
       "      <td>0</td>\n",
       "    </tr>\n",
       "    <tr>\n",
       "      <th>2022-03-16</th>\n",
       "      <td>NaN</td>\n",
       "      <td>0</td>\n",
       "    </tr>\n",
       "    <tr>\n",
       "      <th>2022-03-17</th>\n",
       "      <td>NaN</td>\n",
       "      <td>0</td>\n",
       "    </tr>\n",
       "    <tr>\n",
       "      <th>2022-03-18</th>\n",
       "      <td>NaN</td>\n",
       "      <td>0</td>\n",
       "    </tr>\n",
       "    <tr>\n",
       "      <th>2022-03-19</th>\n",
       "      <td>NaN</td>\n",
       "      <td>0</td>\n",
       "    </tr>\n",
       "    <tr>\n",
       "      <th>2022-03-20</th>\n",
       "      <td>NaN</td>\n",
       "      <td>1</td>\n",
       "    </tr>\n",
       "    <tr>\n",
       "      <th>2022-03-21</th>\n",
       "      <td>NaN</td>\n",
       "      <td>1</td>\n",
       "    </tr>\n",
       "    <tr>\n",
       "      <th>2022-03-22</th>\n",
       "      <td>NaN</td>\n",
       "      <td>0</td>\n",
       "    </tr>\n",
       "    <tr>\n",
       "      <th>2022-03-23</th>\n",
       "      <td>NaN</td>\n",
       "      <td>0</td>\n",
       "    </tr>\n",
       "    <tr>\n",
       "      <th>2022-03-24</th>\n",
       "      <td>NaN</td>\n",
       "      <td>0</td>\n",
       "    </tr>\n",
       "    <tr>\n",
       "      <th>2022-03-25</th>\n",
       "      <td>NaN</td>\n",
       "      <td>0</td>\n",
       "    </tr>\n",
       "    <tr>\n",
       "      <th>2022-03-26</th>\n",
       "      <td>NaN</td>\n",
       "      <td>0</td>\n",
       "    </tr>\n",
       "    <tr>\n",
       "      <th>2022-03-27</th>\n",
       "      <td>NaN</td>\n",
       "      <td>1</td>\n",
       "    </tr>\n",
       "    <tr>\n",
       "      <th>2022-03-28</th>\n",
       "      <td>NaN</td>\n",
       "      <td>1</td>\n",
       "    </tr>\n",
       "  </tbody>\n",
       "</table>\n",
       "</div>"
      ],
      "text/plain": [
       "            value  weekend\n",
       "date                      \n",
       "2022-03-01    NaN        0\n",
       "2022-03-02    NaN        0\n",
       "2022-03-03    NaN        0\n",
       "2022-03-04    NaN        0\n",
       "2022-03-05    NaN        0\n",
       "2022-03-06    NaN        1\n",
       "2022-03-07    NaN        1\n",
       "2022-03-08    NaN        0\n",
       "2022-03-09    NaN        0\n",
       "2022-03-10    NaN        0\n",
       "2022-03-11    NaN        0\n",
       "2022-03-12    NaN        0\n",
       "2022-03-13    NaN        1\n",
       "2022-03-14    NaN        1\n",
       "2022-03-15    NaN        0\n",
       "2022-03-16    NaN        0\n",
       "2022-03-17    NaN        0\n",
       "2022-03-18    NaN        0\n",
       "2022-03-19    NaN        0\n",
       "2022-03-20    NaN        1\n",
       "2022-03-21    NaN        1\n",
       "2022-03-22    NaN        0\n",
       "2022-03-23    NaN        0\n",
       "2022-03-24    NaN        0\n",
       "2022-03-25    NaN        0\n",
       "2022-03-26    NaN        0\n",
       "2022-03-27    NaN        1\n",
       "2022-03-28    NaN        1"
      ]
     },
     "execution_count": 554,
     "metadata": {},
     "output_type": "execute_result"
    }
   ],
   "source": [
    "#get the future prediction\n",
    "df_future=pd.DataFrame({'date': pd.date_range(first_date,periods=future_size)})\n",
    "\n",
    "#add nan we will predict them\n",
    "df_future['value']=np.nan\n",
    "\n",
    "#add weekend column\n",
    "df_future['weekend']=df_future['date'].dt.weekday\n",
    "df_future['weekend']=df_future['weekend'].apply(lambda x: 0 if x not in [0,6] else 1)\n",
    "df_future=df_future.set_index('date')\n",
    "\n",
    "df_future"
   ]
  },
  {
   "cell_type": "code",
   "execution_count": 555,
   "metadata": {},
   "outputs": [
    {
     "data": {
      "text/html": [
       "<div>\n",
       "<style scoped>\n",
       "    .dataframe tbody tr th:only-of-type {\n",
       "        vertical-align: middle;\n",
       "    }\n",
       "\n",
       "    .dataframe tbody tr th {\n",
       "        vertical-align: top;\n",
       "    }\n",
       "\n",
       "    .dataframe thead th {\n",
       "        text-align: right;\n",
       "    }\n",
       "</style>\n",
       "<table border=\"1\" class=\"dataframe\">\n",
       "  <thead>\n",
       "    <tr style=\"text-align: right;\">\n",
       "      <th></th>\n",
       "      <th>value</th>\n",
       "      <th>weekend</th>\n",
       "    </tr>\n",
       "    <tr>\n",
       "      <th>date</th>\n",
       "      <th></th>\n",
       "      <th></th>\n",
       "    </tr>\n",
       "  </thead>\n",
       "  <tbody>\n",
       "    <tr>\n",
       "      <th>2022-02-19</th>\n",
       "      <td>108</td>\n",
       "      <td>0</td>\n",
       "    </tr>\n",
       "    <tr>\n",
       "      <th>2022-02-20</th>\n",
       "      <td>0</td>\n",
       "      <td>1</td>\n",
       "    </tr>\n",
       "    <tr>\n",
       "      <th>2022-02-21</th>\n",
       "      <td>0</td>\n",
       "      <td>1</td>\n",
       "    </tr>\n",
       "    <tr>\n",
       "      <th>2022-02-22</th>\n",
       "      <td>114</td>\n",
       "      <td>0</td>\n",
       "    </tr>\n",
       "    <tr>\n",
       "      <th>2022-02-23</th>\n",
       "      <td>116</td>\n",
       "      <td>0</td>\n",
       "    </tr>\n",
       "    <tr>\n",
       "      <th>2022-02-24</th>\n",
       "      <td>118</td>\n",
       "      <td>0</td>\n",
       "    </tr>\n",
       "    <tr>\n",
       "      <th>2022-02-25</th>\n",
       "      <td>120</td>\n",
       "      <td>0</td>\n",
       "    </tr>\n",
       "    <tr>\n",
       "      <th>2022-02-26</th>\n",
       "      <td>122</td>\n",
       "      <td>0</td>\n",
       "    </tr>\n",
       "    <tr>\n",
       "      <th>2022-02-27</th>\n",
       "      <td>0</td>\n",
       "      <td>1</td>\n",
       "    </tr>\n",
       "    <tr>\n",
       "      <th>2022-02-28</th>\n",
       "      <td>0</td>\n",
       "      <td>1</td>\n",
       "    </tr>\n",
       "  </tbody>\n",
       "</table>\n",
       "</div>"
      ],
      "text/plain": [
       "            value  weekend\n",
       "date                      \n",
       "2022-02-19    108        0\n",
       "2022-02-20      0        1\n",
       "2022-02-21      0        1\n",
       "2022-02-22    114        0\n",
       "2022-02-23    116        0\n",
       "2022-02-24    118        0\n",
       "2022-02-25    120        0\n",
       "2022-02-26    122        0\n",
       "2022-02-27      0        1\n",
       "2022-02-28      0        1"
      ]
     },
     "execution_count": 555,
     "metadata": {},
     "output_type": "execute_result"
    }
   ],
   "source": [
    "#take data from the test set\n",
    "#add nan we will predict them\n",
    "df_test=data_origin[-test_size:].copy()\n",
    "df_test"
   ]
  },
  {
   "cell_type": "code",
   "execution_count": 556,
   "metadata": {},
   "outputs": [
    {
     "data": {
      "text/html": [
       "<div>\n",
       "<style scoped>\n",
       "    .dataframe tbody tr th:only-of-type {\n",
       "        vertical-align: middle;\n",
       "    }\n",
       "\n",
       "    .dataframe tbody tr th {\n",
       "        vertical-align: top;\n",
       "    }\n",
       "\n",
       "    .dataframe thead th {\n",
       "        text-align: right;\n",
       "    }\n",
       "</style>\n",
       "<table border=\"1\" class=\"dataframe\">\n",
       "  <thead>\n",
       "    <tr style=\"text-align: right;\">\n",
       "      <th></th>\n",
       "      <th>value</th>\n",
       "      <th>weekend</th>\n",
       "    </tr>\n",
       "    <tr>\n",
       "      <th>date</th>\n",
       "      <th></th>\n",
       "      <th></th>\n",
       "    </tr>\n",
       "  </thead>\n",
       "  <tbody>\n",
       "    <tr>\n",
       "      <th>2022-02-19</th>\n",
       "      <td>108.0</td>\n",
       "      <td>0</td>\n",
       "    </tr>\n",
       "    <tr>\n",
       "      <th>2022-02-20</th>\n",
       "      <td>0.0</td>\n",
       "      <td>1</td>\n",
       "    </tr>\n",
       "    <tr>\n",
       "      <th>2022-02-21</th>\n",
       "      <td>0.0</td>\n",
       "      <td>1</td>\n",
       "    </tr>\n",
       "    <tr>\n",
       "      <th>2022-02-22</th>\n",
       "      <td>114.0</td>\n",
       "      <td>0</td>\n",
       "    </tr>\n",
       "    <tr>\n",
       "      <th>2022-02-23</th>\n",
       "      <td>116.0</td>\n",
       "      <td>0</td>\n",
       "    </tr>\n",
       "    <tr>\n",
       "      <th>2022-02-24</th>\n",
       "      <td>118.0</td>\n",
       "      <td>0</td>\n",
       "    </tr>\n",
       "    <tr>\n",
       "      <th>2022-02-25</th>\n",
       "      <td>120.0</td>\n",
       "      <td>0</td>\n",
       "    </tr>\n",
       "    <tr>\n",
       "      <th>2022-02-26</th>\n",
       "      <td>122.0</td>\n",
       "      <td>0</td>\n",
       "    </tr>\n",
       "    <tr>\n",
       "      <th>2022-02-27</th>\n",
       "      <td>0.0</td>\n",
       "      <td>1</td>\n",
       "    </tr>\n",
       "    <tr>\n",
       "      <th>2022-02-28</th>\n",
       "      <td>0.0</td>\n",
       "      <td>1</td>\n",
       "    </tr>\n",
       "    <tr>\n",
       "      <th>2022-03-01</th>\n",
       "      <td>NaN</td>\n",
       "      <td>0</td>\n",
       "    </tr>\n",
       "    <tr>\n",
       "      <th>2022-03-02</th>\n",
       "      <td>NaN</td>\n",
       "      <td>0</td>\n",
       "    </tr>\n",
       "    <tr>\n",
       "      <th>2022-03-03</th>\n",
       "      <td>NaN</td>\n",
       "      <td>0</td>\n",
       "    </tr>\n",
       "    <tr>\n",
       "      <th>2022-03-04</th>\n",
       "      <td>NaN</td>\n",
       "      <td>0</td>\n",
       "    </tr>\n",
       "    <tr>\n",
       "      <th>2022-03-05</th>\n",
       "      <td>NaN</td>\n",
       "      <td>0</td>\n",
       "    </tr>\n",
       "    <tr>\n",
       "      <th>2022-03-06</th>\n",
       "      <td>NaN</td>\n",
       "      <td>1</td>\n",
       "    </tr>\n",
       "    <tr>\n",
       "      <th>2022-03-07</th>\n",
       "      <td>NaN</td>\n",
       "      <td>1</td>\n",
       "    </tr>\n",
       "    <tr>\n",
       "      <th>2022-03-08</th>\n",
       "      <td>NaN</td>\n",
       "      <td>0</td>\n",
       "    </tr>\n",
       "    <tr>\n",
       "      <th>2022-03-09</th>\n",
       "      <td>NaN</td>\n",
       "      <td>0</td>\n",
       "    </tr>\n",
       "    <tr>\n",
       "      <th>2022-03-10</th>\n",
       "      <td>NaN</td>\n",
       "      <td>0</td>\n",
       "    </tr>\n",
       "    <tr>\n",
       "      <th>2022-03-11</th>\n",
       "      <td>NaN</td>\n",
       "      <td>0</td>\n",
       "    </tr>\n",
       "    <tr>\n",
       "      <th>2022-03-12</th>\n",
       "      <td>NaN</td>\n",
       "      <td>0</td>\n",
       "    </tr>\n",
       "    <tr>\n",
       "      <th>2022-03-13</th>\n",
       "      <td>NaN</td>\n",
       "      <td>1</td>\n",
       "    </tr>\n",
       "    <tr>\n",
       "      <th>2022-03-14</th>\n",
       "      <td>NaN</td>\n",
       "      <td>1</td>\n",
       "    </tr>\n",
       "    <tr>\n",
       "      <th>2022-03-15</th>\n",
       "      <td>NaN</td>\n",
       "      <td>0</td>\n",
       "    </tr>\n",
       "    <tr>\n",
       "      <th>2022-03-16</th>\n",
       "      <td>NaN</td>\n",
       "      <td>0</td>\n",
       "    </tr>\n",
       "    <tr>\n",
       "      <th>2022-03-17</th>\n",
       "      <td>NaN</td>\n",
       "      <td>0</td>\n",
       "    </tr>\n",
       "    <tr>\n",
       "      <th>2022-03-18</th>\n",
       "      <td>NaN</td>\n",
       "      <td>0</td>\n",
       "    </tr>\n",
       "    <tr>\n",
       "      <th>2022-03-19</th>\n",
       "      <td>NaN</td>\n",
       "      <td>0</td>\n",
       "    </tr>\n",
       "    <tr>\n",
       "      <th>2022-03-20</th>\n",
       "      <td>NaN</td>\n",
       "      <td>1</td>\n",
       "    </tr>\n",
       "    <tr>\n",
       "      <th>2022-03-21</th>\n",
       "      <td>NaN</td>\n",
       "      <td>1</td>\n",
       "    </tr>\n",
       "    <tr>\n",
       "      <th>2022-03-22</th>\n",
       "      <td>NaN</td>\n",
       "      <td>0</td>\n",
       "    </tr>\n",
       "    <tr>\n",
       "      <th>2022-03-23</th>\n",
       "      <td>NaN</td>\n",
       "      <td>0</td>\n",
       "    </tr>\n",
       "    <tr>\n",
       "      <th>2022-03-24</th>\n",
       "      <td>NaN</td>\n",
       "      <td>0</td>\n",
       "    </tr>\n",
       "    <tr>\n",
       "      <th>2022-03-25</th>\n",
       "      <td>NaN</td>\n",
       "      <td>0</td>\n",
       "    </tr>\n",
       "    <tr>\n",
       "      <th>2022-03-26</th>\n",
       "      <td>NaN</td>\n",
       "      <td>0</td>\n",
       "    </tr>\n",
       "    <tr>\n",
       "      <th>2022-03-27</th>\n",
       "      <td>NaN</td>\n",
       "      <td>1</td>\n",
       "    </tr>\n",
       "    <tr>\n",
       "      <th>2022-03-28</th>\n",
       "      <td>NaN</td>\n",
       "      <td>1</td>\n",
       "    </tr>\n",
       "  </tbody>\n",
       "</table>\n",
       "</div>"
      ],
      "text/plain": [
       "            value  weekend\n",
       "date                      \n",
       "2022-02-19  108.0        0\n",
       "2022-02-20    0.0        1\n",
       "2022-02-21    0.0        1\n",
       "2022-02-22  114.0        0\n",
       "2022-02-23  116.0        0\n",
       "2022-02-24  118.0        0\n",
       "2022-02-25  120.0        0\n",
       "2022-02-26  122.0        0\n",
       "2022-02-27    0.0        1\n",
       "2022-02-28    0.0        1\n",
       "2022-03-01    NaN        0\n",
       "2022-03-02    NaN        0\n",
       "2022-03-03    NaN        0\n",
       "2022-03-04    NaN        0\n",
       "2022-03-05    NaN        0\n",
       "2022-03-06    NaN        1\n",
       "2022-03-07    NaN        1\n",
       "2022-03-08    NaN        0\n",
       "2022-03-09    NaN        0\n",
       "2022-03-10    NaN        0\n",
       "2022-03-11    NaN        0\n",
       "2022-03-12    NaN        0\n",
       "2022-03-13    NaN        1\n",
       "2022-03-14    NaN        1\n",
       "2022-03-15    NaN        0\n",
       "2022-03-16    NaN        0\n",
       "2022-03-17    NaN        0\n",
       "2022-03-18    NaN        0\n",
       "2022-03-19    NaN        0\n",
       "2022-03-20    NaN        1\n",
       "2022-03-21    NaN        1\n",
       "2022-03-22    NaN        0\n",
       "2022-03-23    NaN        0\n",
       "2022-03-24    NaN        0\n",
       "2022-03-25    NaN        0\n",
       "2022-03-26    NaN        0\n",
       "2022-03-27    NaN        1\n",
       "2022-03-28    NaN        1"
      ]
     },
     "execution_count": 556,
     "metadata": {},
     "output_type": "execute_result"
    }
   ],
   "source": [
    "#merge the df\n",
    "df_prediction_final=pd.concat([df_test, df_future], axis=0)\n",
    "df_prediction_final"
   ]
  },
  {
   "cell_type": "code",
   "execution_count": 557,
   "metadata": {},
   "outputs": [],
   "source": [
    "#scale data and transform them into an array\n",
    "scaler = MinMaxScaler(feature_range = (0,1))\n",
    "df_prediction_final_scaled = scaler.fit_transform(df_prediction_final)"
   ]
  },
  {
   "cell_type": "code",
   "execution_count": 558,
   "metadata": {},
   "outputs": [
    {
     "data": {
      "text/plain": [
       "5.033858997194329e-06"
      ]
     },
     "execution_count": 558,
     "metadata": {},
     "output_type": "execute_result"
    }
   ],
   "source": [
    "#Fit the model on the whole dataset (including test set)\n",
    "history=model.fit(X,y, epochs=n_epochs, batch_size=10, verbose=0)\n",
    "final_loss = history.history['loss'][-1]\n",
    "final_loss"
   ]
  },
  {
   "cell_type": "code",
   "execution_count": null,
   "metadata": {},
   "outputs": [],
   "source": [
    "#Save the fitted model\n",
    "joblib.dump(model, 'lstm-model-multivariate.pkl')"
   ]
  },
  {
   "cell_type": "code",
   "execution_count": 559,
   "metadata": {},
   "outputs": [
    {
     "data": {
      "text/plain": [
       "array([[0.8852459 , 0.        ],\n",
       "       [0.        , 1.        ],\n",
       "       [0.        , 1.        ],\n",
       "       [0.93442623, 0.        ],\n",
       "       [0.95081967, 0.        ],\n",
       "       [0.96721311, 0.        ],\n",
       "       [0.98360656, 0.        ],\n",
       "       [1.        , 0.        ],\n",
       "       [0.        , 1.        ],\n",
       "       [0.        , 1.        ],\n",
       "       [       nan, 0.        ],\n",
       "       [       nan, 0.        ],\n",
       "       [       nan, 0.        ],\n",
       "       [       nan, 0.        ],\n",
       "       [       nan, 0.        ],\n",
       "       [       nan, 1.        ],\n",
       "       [       nan, 1.        ],\n",
       "       [       nan, 0.        ],\n",
       "       [       nan, 0.        ],\n",
       "       [       nan, 0.        ],\n",
       "       [       nan, 0.        ],\n",
       "       [       nan, 0.        ],\n",
       "       [       nan, 1.        ],\n",
       "       [       nan, 1.        ],\n",
       "       [       nan, 0.        ],\n",
       "       [       nan, 0.        ],\n",
       "       [       nan, 0.        ],\n",
       "       [       nan, 0.        ],\n",
       "       [       nan, 0.        ],\n",
       "       [       nan, 1.        ],\n",
       "       [       nan, 1.        ],\n",
       "       [       nan, 0.        ],\n",
       "       [       nan, 0.        ],\n",
       "       [       nan, 0.        ],\n",
       "       [       nan, 0.        ],\n",
       "       [       nan, 0.        ],\n",
       "       [       nan, 1.        ],\n",
       "       [       nan, 1.        ]])"
      ]
     },
     "execution_count": 559,
     "metadata": {},
     "output_type": "execute_result"
    }
   ],
   "source": [
    "#array BEFORE the prediction\n",
    "df_prediction_final_scaled "
   ]
  },
  {
   "cell_type": "code",
   "execution_count": 560,
   "metadata": {},
   "outputs": [],
   "source": [
    "#define the function for the prediction\n",
    "def predict_multivariate(array, lookback):\n",
    "    results=[]\n",
    "    for i in range(len(array)-lookback):\n",
    "        \n",
    "        batch=[]\n",
    "        batch.append(array[i:i+lookback , 0:array.shape[1]])\n",
    "        batch=np.array(batch)\n",
    "      \n",
    "        #predict one value\n",
    "        prediction=model.predict(batch, verbose=0)[0]\n",
    "        #add to the prediction list\n",
    "        results.append(prediction[0]) #takes just first values, otherwise there would be a list with 2D arrays\n",
    "\n",
    "        #replace nan in the array for next iterration\n",
    "        array[i+lookback,0]=prediction[0] \n",
    "    return results"
   ]
  },
  {
   "cell_type": "code",
   "execution_count": 561,
   "metadata": {},
   "outputs": [
    {
     "data": {
      "text/plain": [
       "[1.0388561,\n",
       " 1.055912,\n",
       " 1.0697908,\n",
       " 1.0875837,\n",
       " 1.1031004,\n",
       " 0.014089901,\n",
       " 0.002683241,\n",
       " 1.128569,\n",
       " 1.1491014,\n",
       " 1.160514,\n",
       " 1.1808563,\n",
       " 1.1931975,\n",
       " 0.024491195,\n",
       " 0.0064745545,\n",
       " 1.2027782,\n",
       " 1.2262273,\n",
       " 1.2341146,\n",
       " 1.2572355,\n",
       " 1.2661495,\n",
       " 0.03720264,\n",
       " 0.01001757,\n",
       " 1.2584444,\n",
       " 1.2848498,\n",
       " 1.2894801,\n",
       " 1.3151038,\n",
       " 1.3205838,\n",
       " 0.05021597,\n",
       " 0.013280671]"
      ]
     },
     "execution_count": 561,
     "metadata": {},
     "output_type": "execute_result"
    }
   ],
   "source": [
    "#call the function and predict\n",
    "results=predict_multivariate(df_prediction_final_scaled, lookback)\n",
    "results"
   ]
  },
  {
   "cell_type": "code",
   "execution_count": 562,
   "metadata": {},
   "outputs": [
    {
     "data": {
      "text/plain": [
       "array([[0.8852459 , 0.        ],\n",
       "       [0.        , 1.        ],\n",
       "       [0.        , 1.        ],\n",
       "       [0.93442623, 0.        ],\n",
       "       [0.95081967, 0.        ],\n",
       "       [0.96721311, 0.        ],\n",
       "       [0.98360656, 0.        ],\n",
       "       [1.        , 0.        ],\n",
       "       [0.        , 1.        ],\n",
       "       [0.        , 1.        ],\n",
       "       [1.03885615, 0.        ],\n",
       "       [1.05591202, 0.        ],\n",
       "       [1.06979084, 0.        ],\n",
       "       [1.08758366, 0.        ],\n",
       "       [1.10310042, 0.        ],\n",
       "       [0.0140899 , 1.        ],\n",
       "       [0.00268324, 1.        ],\n",
       "       [1.12856901, 0.        ],\n",
       "       [1.14910138, 0.        ],\n",
       "       [1.160514  , 0.        ],\n",
       "       [1.18085635, 0.        ],\n",
       "       [1.19319749, 0.        ],\n",
       "       [0.02449119, 1.        ],\n",
       "       [0.00647455, 1.        ],\n",
       "       [1.20277822, 0.        ],\n",
       "       [1.22622728, 0.        ],\n",
       "       [1.23411465, 0.        ],\n",
       "       [1.25723553, 0.        ],\n",
       "       [1.26614952, 0.        ],\n",
       "       [0.03720264, 1.        ],\n",
       "       [0.01001757, 1.        ],\n",
       "       [1.25844443, 0.        ],\n",
       "       [1.28484976, 0.        ],\n",
       "       [1.28948009, 0.        ],\n",
       "       [1.31510377, 0.        ],\n",
       "       [1.32058382, 0.        ],\n",
       "       [0.05021597, 1.        ],\n",
       "       [0.01328067, 1.        ]])"
      ]
     },
     "execution_count": 562,
     "metadata": {},
     "output_type": "execute_result"
    }
   ],
   "source": [
    "#array AFTER the prediction\n",
    "df_prediction_final_scaled"
   ]
  },
  {
   "cell_type": "code",
   "execution_count": 563,
   "metadata": {},
   "outputs": [
    {
     "data": {
      "text/plain": [
       "array([[1.0388561],\n",
       "       [1.055912 ],\n",
       "       [1.0697908],\n",
       "       [1.0875837],\n",
       "       [1.1031004]], dtype=float32)"
      ]
     },
     "execution_count": 563,
     "metadata": {},
     "output_type": "execute_result"
    }
   ],
   "source": [
    "#convert the array into a list\n",
    "results=np.array(results)\n",
    "results=results.reshape(-1,1)\n",
    "results[0:5]"
   ]
  },
  {
   "cell_type": "code",
   "execution_count": 564,
   "metadata": {},
   "outputs": [
    {
     "data": {
      "text/plain": [
       "array([126.74045   , 128.82126   , 130.51448   , 132.68521   ,\n",
       "       134.57825   ,   1.7189679 ,   0.32735538, 137.68542   ,\n",
       "       140.19037   , 141.5827    , 144.06447   , 145.5701    ,\n",
       "         2.9879258 ,   0.78989565, 146.73894   , 149.59973   ,\n",
       "       150.56198   , 153.38274   , 154.47025   ,   4.538722  ,\n",
       "         1.2221435 , 153.53023   , 156.75168   , 157.31657   ,\n",
       "       160.44266   , 161.11122   ,   6.1263485 ,   1.6202419 ],\n",
       "      dtype=float32)"
      ]
     },
     "execution_count": 564,
     "metadata": {},
     "output_type": "execute_result"
    }
   ],
   "source": [
    "###########\n",
    "#transform back\n",
    "###########\n",
    "\n",
    "#copy the array i need to reshape it to (10,2)\n",
    "results_multi = np.repeat(results, n_features, axis=-1)\n",
    "\n",
    "#tranform back and choose just first column of the array=0\n",
    "results_trans=scaler.inverse_transform(results_multi)[:,0]\n",
    "results_trans"
   ]
  },
  {
   "cell_type": "code",
   "execution_count": 565,
   "metadata": {},
   "outputs": [
    {
     "data": {
      "text/plain": [
       "(28,)"
      ]
     },
     "execution_count": 565,
     "metadata": {},
     "output_type": "execute_result"
    }
   ],
   "source": [
    "results_trans.shape"
   ]
  },
  {
   "cell_type": "markdown",
   "metadata": {},
   "source": [
    "**Plot the results**"
   ]
  },
  {
   "cell_type": "code",
   "execution_count": 566,
   "metadata": {},
   "outputs": [
    {
     "data": {
      "text/html": [
       "<div>\n",
       "<style scoped>\n",
       "    .dataframe tbody tr th:only-of-type {\n",
       "        vertical-align: middle;\n",
       "    }\n",
       "\n",
       "    .dataframe tbody tr th {\n",
       "        vertical-align: top;\n",
       "    }\n",
       "\n",
       "    .dataframe thead th {\n",
       "        text-align: right;\n",
       "    }\n",
       "</style>\n",
       "<table border=\"1\" class=\"dataframe\">\n",
       "  <thead>\n",
       "    <tr style=\"text-align: right;\">\n",
       "      <th></th>\n",
       "      <th>predicted</th>\n",
       "    </tr>\n",
       "    <tr>\n",
       "      <th>date</th>\n",
       "      <th></th>\n",
       "    </tr>\n",
       "  </thead>\n",
       "  <tbody>\n",
       "    <tr>\n",
       "      <th>2022-03-01</th>\n",
       "      <td>126.740448</td>\n",
       "    </tr>\n",
       "    <tr>\n",
       "      <th>2022-03-02</th>\n",
       "      <td>128.821259</td>\n",
       "    </tr>\n",
       "    <tr>\n",
       "      <th>2022-03-03</th>\n",
       "      <td>130.514481</td>\n",
       "    </tr>\n",
       "    <tr>\n",
       "      <th>2022-03-04</th>\n",
       "      <td>132.685211</td>\n",
       "    </tr>\n",
       "    <tr>\n",
       "      <th>2022-03-05</th>\n",
       "      <td>134.578247</td>\n",
       "    </tr>\n",
       "  </tbody>\n",
       "</table>\n",
       "</div>"
      ],
      "text/plain": [
       "             predicted\n",
       "date                  \n",
       "2022-03-01  126.740448\n",
       "2022-03-02  128.821259\n",
       "2022-03-03  130.514481\n",
       "2022-03-04  132.685211\n",
       "2022-03-05  134.578247"
      ]
     },
     "execution_count": 566,
     "metadata": {},
     "output_type": "execute_result"
    }
   ],
   "source": [
    "#create dataframe\n",
    "results_df=pd.DataFrame({'predicted': results_trans,\n",
    "                         'date': pd.date_range(first_date,periods=future_size) })\n",
    "\n",
    "results_df=results_df.set_index('date')\n",
    "\n",
    "results_df.head(5)"
   ]
  },
  {
   "cell_type": "code",
   "execution_count": 567,
   "metadata": {},
   "outputs": [
    {
     "data": {
      "text/html": [
       "<div>\n",
       "<style scoped>\n",
       "    .dataframe tbody tr th:only-of-type {\n",
       "        vertical-align: middle;\n",
       "    }\n",
       "\n",
       "    .dataframe tbody tr th {\n",
       "        vertical-align: top;\n",
       "    }\n",
       "\n",
       "    .dataframe thead th {\n",
       "        text-align: right;\n",
       "    }\n",
       "</style>\n",
       "<table border=\"1\" class=\"dataframe\">\n",
       "  <thead>\n",
       "    <tr style=\"text-align: right;\">\n",
       "      <th></th>\n",
       "      <th>true</th>\n",
       "      <th>predicted</th>\n",
       "    </tr>\n",
       "    <tr>\n",
       "      <th>date</th>\n",
       "      <th></th>\n",
       "      <th></th>\n",
       "    </tr>\n",
       "  </thead>\n",
       "  <tbody>\n",
       "    <tr>\n",
       "      <th>2022-03-13</th>\n",
       "      <td>NaN</td>\n",
       "      <td>2.987926</td>\n",
       "    </tr>\n",
       "    <tr>\n",
       "      <th>2022-03-14</th>\n",
       "      <td>NaN</td>\n",
       "      <td>0.789896</td>\n",
       "    </tr>\n",
       "    <tr>\n",
       "      <th>2022-03-15</th>\n",
       "      <td>NaN</td>\n",
       "      <td>146.738937</td>\n",
       "    </tr>\n",
       "    <tr>\n",
       "      <th>2022-03-16</th>\n",
       "      <td>NaN</td>\n",
       "      <td>149.599731</td>\n",
       "    </tr>\n",
       "    <tr>\n",
       "      <th>2022-03-17</th>\n",
       "      <td>NaN</td>\n",
       "      <td>150.561981</td>\n",
       "    </tr>\n",
       "    <tr>\n",
       "      <th>2022-03-18</th>\n",
       "      <td>NaN</td>\n",
       "      <td>153.382736</td>\n",
       "    </tr>\n",
       "    <tr>\n",
       "      <th>2022-03-19</th>\n",
       "      <td>NaN</td>\n",
       "      <td>154.470245</td>\n",
       "    </tr>\n",
       "    <tr>\n",
       "      <th>2022-03-20</th>\n",
       "      <td>NaN</td>\n",
       "      <td>4.538722</td>\n",
       "    </tr>\n",
       "    <tr>\n",
       "      <th>2022-03-21</th>\n",
       "      <td>NaN</td>\n",
       "      <td>1.222144</td>\n",
       "    </tr>\n",
       "    <tr>\n",
       "      <th>2022-03-22</th>\n",
       "      <td>NaN</td>\n",
       "      <td>153.530228</td>\n",
       "    </tr>\n",
       "    <tr>\n",
       "      <th>2022-03-23</th>\n",
       "      <td>NaN</td>\n",
       "      <td>156.751678</td>\n",
       "    </tr>\n",
       "    <tr>\n",
       "      <th>2022-03-24</th>\n",
       "      <td>NaN</td>\n",
       "      <td>157.316574</td>\n",
       "    </tr>\n",
       "    <tr>\n",
       "      <th>2022-03-25</th>\n",
       "      <td>NaN</td>\n",
       "      <td>160.442657</td>\n",
       "    </tr>\n",
       "    <tr>\n",
       "      <th>2022-03-26</th>\n",
       "      <td>NaN</td>\n",
       "      <td>161.111221</td>\n",
       "    </tr>\n",
       "    <tr>\n",
       "      <th>2022-03-27</th>\n",
       "      <td>NaN</td>\n",
       "      <td>6.126348</td>\n",
       "    </tr>\n",
       "    <tr>\n",
       "      <th>2022-03-28</th>\n",
       "      <td>NaN</td>\n",
       "      <td>1.620242</td>\n",
       "    </tr>\n",
       "  </tbody>\n",
       "</table>\n",
       "</div>"
      ],
      "text/plain": [
       "            true   predicted\n",
       "date                        \n",
       "2022-03-13   NaN    2.987926\n",
       "2022-03-14   NaN    0.789896\n",
       "2022-03-15   NaN  146.738937\n",
       "2022-03-16   NaN  149.599731\n",
       "2022-03-17   NaN  150.561981\n",
       "2022-03-18   NaN  153.382736\n",
       "2022-03-19   NaN  154.470245\n",
       "2022-03-20   NaN    4.538722\n",
       "2022-03-21   NaN    1.222144\n",
       "2022-03-22   NaN  153.530228\n",
       "2022-03-23   NaN  156.751678\n",
       "2022-03-24   NaN  157.316574\n",
       "2022-03-25   NaN  160.442657\n",
       "2022-03-26   NaN  161.111221\n",
       "2022-03-27   NaN    6.126348\n",
       "2022-03-28   NaN    1.620242"
      ]
     },
     "execution_count": 567,
     "metadata": {},
     "output_type": "execute_result"
    }
   ],
   "source": [
    "df_prediction=pd.concat([data_origin['value'], results_df], axis=1)\n",
    "df_prediction.rename(columns={'value': 'true'}, inplace=True)\n",
    "df_prediction.tail(16)"
   ]
  },
  {
   "cell_type": "code",
   "execution_count": 568,
   "metadata": {},
   "outputs": [
    {
     "data": {
      "image/png": "[encoded data removed]",
      "text/plain": [
       "<Figure size 1000x500 with 1 Axes>"
      ]
     },
     "metadata": {},
     "output_type": "display_data"
    }
   ],
   "source": [
    "#Plot a chart\n",
    "df_prediction[['true', 'predicted']].plot(figsize=(10, 5), marker='o')\n",
    "plt.grid(True)\n",
    "plt.show()"
   ]
  }
 ],
 "metadata": {
  "kernelspec": {
   "display_name": "Python 3",
   "language": "python",
   "name": "python3"
  },
  "language_info": {
   "codemirror_mode": {
    "name": "ipython",
    "version": 3
   },
   "file_extension": ".py",
   "mimetype": "text/x-python",
   "name": "python",
   "nbconvert_exporter": "python",
   "pygments_lexer": "ipython3",
   "version": "3.10.10"
  }
 },
 "nbformat": 4,
 "nbformat_minor": 2
}
