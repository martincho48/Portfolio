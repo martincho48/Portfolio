{
 "cells": [
  {
   "cell_type": "code",
   "execution_count": 1,
   "metadata": {},
   "outputs": [
    {
     "name": "stdout",
     "output_type": "stream",
     "text": [
      "WARNING:tensorflow:From c:\\Users\\Martin\\.virtualenvs\\venv_portfolio-hkOMkeu3\\lib\\site-packages\\keras\\src\\losses.py:2976: The name tf.losses.sparse_softmax_cross_entropy is deprecated. Please use tf.compat.v1.losses.sparse_softmax_cross_entropy instead.\n",
      "\n"
     ]
    }
   ],
   "source": [
    "import numpy as np\n",
    "import pandas as pd\n",
    "\n",
    "from keras.models import Sequential\n",
    "from keras.layers import LSTM, Dense\n",
    "from keras import backend as K\n",
    "\n",
    "import matplotlib.pyplot as plt\n",
    "from sklearn.preprocessing import MinMaxScaler\n",
    "from sklearn.metrics import mean_squared_error as mse,  mean_absolute_percentage_error\n",
    "import joblib"
   ]
  },
  {
   "cell_type": "markdown",
   "metadata": {},
   "source": [
    "**Define input data and plot them**"
   ]
  },
  {
   "cell_type": "code",
   "execution_count": 2,
   "metadata": {},
   "outputs": [],
   "source": [
    "lookback = 10 \n",
    "test_size = 12\n",
    "time_step = 1\n",
    "\n",
    "\n",
    "horizon = 12\n",
    "n_epochs = 1000"
   ]
  },
  {
   "cell_type": "markdown",
   "metadata": {},
   "source": [
    "**Read data**"
   ]
  },
  {
   "cell_type": "code",
   "execution_count": 3,
   "metadata": {},
   "outputs": [
    {
     "data": {
      "text/html": [
       "<div>\n",
       "<style scoped>\n",
       "    .dataframe tbody tr th:only-of-type {\n",
       "        vertical-align: middle;\n",
       "    }\n",
       "\n",
       "    .dataframe tbody tr th {\n",
       "        vertical-align: top;\n",
       "    }\n",
       "\n",
       "    .dataframe thead th {\n",
       "        text-align: right;\n",
       "    }\n",
       "</style>\n",
       "<table border=\"1\" class=\"dataframe\">\n",
       "  <thead>\n",
       "    <tr style=\"text-align: right;\">\n",
       "      <th></th>\n",
       "      <th>y</th>\n",
       "    </tr>\n",
       "  </thead>\n",
       "  <tbody>\n",
       "    <tr>\n",
       "      <th>45</th>\n",
       "      <td>230</td>\n",
       "    </tr>\n",
       "    <tr>\n",
       "      <th>46</th>\n",
       "      <td>235</td>\n",
       "    </tr>\n",
       "    <tr>\n",
       "      <th>47</th>\n",
       "      <td>240</td>\n",
       "    </tr>\n",
       "    <tr>\n",
       "      <th>48</th>\n",
       "      <td>245</td>\n",
       "    </tr>\n",
       "    <tr>\n",
       "      <th>49</th>\n",
       "      <td>250</td>\n",
       "    </tr>\n",
       "  </tbody>\n",
       "</table>\n",
       "</div>"
      ],
      "text/plain": [
       "      y\n",
       "45  230\n",
       "46  235\n",
       "47  240\n",
       "48  245\n",
       "49  250"
      ]
     },
     "execution_count": 3,
     "metadata": {},
     "output_type": "execute_result"
    }
   ],
   "source": [
    "#define input data\n",
    "data_origin=pd.DataFrame({'y': np.arange(5,255,5)})\n",
    "\n",
    "data_origin.tail(5)\n"
   ]
  },
  {
   "cell_type": "code",
   "execution_count": 4,
   "metadata": {},
   "outputs": [
    {
     "data": {
      "text/plain": [
       "' # Define the external lambda function for date parsing\\ndate_parser = lambda x: pd.to_datetime(x, format=\\'%d.%m.%Y\\')\\n\\n# read data\\ndata_origin = pd.read_csv(\\'input/all_products/01_24/\\'+file_name, encoding = \"utf-8\", delimiter=\\';\\', parse_dates=[0], date_parser=date_parser)\\ndata_origin.tail(5) '"
      ]
     },
     "execution_count": 4,
     "metadata": {},
     "output_type": "execute_result"
    }
   ],
   "source": [
    "\"\"\" # Define the external lambda function for date parsing\n",
    "date_parser = lambda x: pd.to_datetime(x, format='%d.%m.%Y')\n",
    "\n",
    "# read data\n",
    "data_origin = pd.read_csv('input/all_products/01_24/'+file_name, encoding = \"utf-8\", delimiter=';', parse_dates=[0], date_parser=date_parser)\n",
    "data_origin.tail(5) \"\"\""
   ]
  },
  {
   "cell_type": "code",
   "execution_count": 5,
   "metadata": {},
   "outputs": [
    {
     "data": {
      "image/png": "[encoded data removed]",
      "text/plain": [
       "<Figure size 1000x500 with 1 Axes>"
      ]
     },
     "metadata": {},
     "output_type": "display_data"
    }
   ],
   "source": [
    "data_origin.plot(figsize=(10,5), marker='o')\n",
    "plt.grid()\n",
    "plt.show()"
   ]
  },
  {
   "cell_type": "markdown",
   "metadata": {},
   "source": [
    "**Scale and parce the data**"
   ]
  },
  {
   "cell_type": "code",
   "execution_count": 6,
   "metadata": {},
   "outputs": [],
   "source": [
    "#scale data\n",
    "scaler = MinMaxScaler()\n",
    "data = scaler.fit_transform(data_origin)"
   ]
  },
  {
   "cell_type": "code",
   "execution_count": 7,
   "metadata": {},
   "outputs": [],
   "source": [
    "# Function to create input sequences and corresponding output for training\n",
    "def create_sequences(data, lookback, time_step):\n",
    "    X, y = [], []\n",
    "    for i in range(len(data) - lookback):\n",
    "        X.append(data[i : i+lookback])\n",
    "        y.append(data[i+lookback : i+lookback+time_step])\n",
    "    return np.array(X), np.array(y)\n",
    "\n",
    "# Create input sequences and corresponding output\n",
    "X, y = create_sequences(data, lookback, time_step)\n"
   ]
  },
  {
   "cell_type": "code",
   "execution_count": 8,
   "metadata": {},
   "outputs": [],
   "source": [
    "# Split the data into training and testing sets\n",
    "train_size = int(len(X)-test_size)\n",
    "\n",
    "X_train, y_train = X[:train_size], y[:train_size]\n",
    "X_test, y_test = X[train_size:], y[train_size:]"
   ]
  },
  {
   "cell_type": "code",
   "execution_count": 9,
   "metadata": {},
   "outputs": [
    {
     "data": {
      "text/plain": [
       "(28, 10, 1)"
      ]
     },
     "execution_count": 9,
     "metadata": {},
     "output_type": "execute_result"
    }
   ],
   "source": [
    "X_train.shape"
   ]
  },
  {
   "cell_type": "code",
   "execution_count": 10,
   "metadata": {},
   "outputs": [
    {
     "data": {
      "text/plain": [
       "(12, 10, 1)"
      ]
     },
     "execution_count": 10,
     "metadata": {},
     "output_type": "execute_result"
    }
   ],
   "source": [
    "X_test.shape"
   ]
  },
  {
   "cell_type": "markdown",
   "metadata": {},
   "source": [
    "**Set up model**"
   ]
  },
  {
   "cell_type": "code",
   "execution_count": 11,
   "metadata": {},
   "outputs": [
    {
     "name": "stdout",
     "output_type": "stream",
     "text": [
      "WARNING:tensorflow:From c:\\Users\\Martin\\.virtualenvs\\venv_portfolio-hkOMkeu3\\lib\\site-packages\\keras\\src\\backend.py:277: The name tf.reset_default_graph is deprecated. Please use tf.compat.v1.reset_default_graph instead.\n",
      "\n"
     ]
    },
    {
     "name": "stdout",
     "output_type": "stream",
     "text": [
      "WARNING:tensorflow:From c:\\Users\\Martin\\.virtualenvs\\venv_portfolio-hkOMkeu3\\lib\\site-packages\\keras\\src\\optimizers\\__init__.py:309: The name tf.train.Optimizer is deprecated. Please use tf.compat.v1.train.Optimizer instead.\n",
      "\n",
      "Model: \"sequential\"\n",
      "_________________________________________________________________\n",
      " Layer (type)                Output Shape              Param #   \n",
      "=================================================================\n",
      " lstm (LSTM)                 (None, 40)                6720      \n",
      "                                                                 \n",
      " dense (Dense)               (None, 1)                 41        \n",
      "                                                                 \n",
      "=================================================================\n",
      "Total params: 6761 (26.41 KB)\n",
      "Trainable params: 6761 (26.41 KB)\n",
      "Non-trainable params: 0 (0.00 Byte)\n",
      "_________________________________________________________________\n"
     ]
    }
   ],
   "source": [
    "#clear previous TensorFlow session\n",
    "K.clear_session()\n",
    "\n",
    "#Build the LSTM model\n",
    "model = Sequential()\n",
    "model.add(LSTM(40, input_shape=(lookback, 1)))\n",
    "model.add(Dense(time_step))\n",
    "model.compile(optimizer='adam', loss='mse')\n",
    "\n",
    "model.summary()"
   ]
  },
  {
   "cell_type": "markdown",
   "metadata": {},
   "source": [
    "**Fit and run the model**"
   ]
  },
  {
   "cell_type": "code",
   "execution_count": 12,
   "metadata": {},
   "outputs": [
    {
     "name": "stdout",
     "output_type": "stream",
     "text": [
      "WARNING:tensorflow:From c:\\Users\\Martin\\.virtualenvs\\venv_portfolio-hkOMkeu3\\lib\\site-packages\\keras\\src\\utils\\tf_utils.py:492: The name tf.ragged.RaggedTensorValue is deprecated. Please use tf.compat.v1.ragged.RaggedTensorValue instead.\n",
      "\n",
      "1/1 [==============================] - 0s 23ms/step - loss: 4.4134e-05\n",
      "Test Loss: 4.4134289055364206e-05\n"
     ]
    }
   ],
   "source": [
    "#Train the model\n",
    "history=model.fit(X_train, y_train, \n",
    "                  epochs=n_epochs, \n",
    "                  batch_size=10, \n",
    "                  validation_data=(X_test, y_test), \n",
    "                  verbose=0)\n",
    "\n",
    "#Evaluate the model on the test set\n",
    "loss = model.evaluate(X_test, y_test)\n",
    "print(f\"Test Loss: {loss}\")\n"
   ]
  },
  {
   "cell_type": "code",
   "execution_count": 13,
   "metadata": {},
   "outputs": [],
   "source": [
    "#define ploting function for loss function\n",
    "\n",
    "def plot_training(history_dict, y_axis=[0, 1000]):\n",
    "\n",
    "    plt.plot(history_dict.history['loss'], label='Loss-Training',  c=\"blue\")\n",
    "    plt.plot(history_dict.history['val_loss'], label='Loss-Test', c=\"red\")\n",
    "\n",
    "    plt.xlabel('Epochs')\n",
    "    plt.ylabel('Loss')\n",
    "\n",
    "    plt.ylim(y_axis) #limit of the Y-axis\n",
    "\n",
    "    plt.legend()\n",
    "    plt.grid(True)\n",
    "\n",
    "    plt.show()"
   ]
  },
  {
   "cell_type": "code",
   "execution_count": 14,
   "metadata": {},
   "outputs": [
    {
     "data": {
      "image/png": "[encoded data removed]",
      "text/plain": [
       "<Figure size 640x480 with 1 Axes>"
      ]
     },
     "metadata": {},
     "output_type": "display_data"
    }
   ],
   "source": [
    "#plot without dropout\n",
    "plot_training(history,y_axis=[0, 1])"
   ]
  },
  {
   "cell_type": "markdown",
   "metadata": {},
   "source": [
    "**Predict**"
   ]
  },
  {
   "cell_type": "code",
   "execution_count": 15,
   "metadata": {},
   "outputs": [
    {
     "name": "stdout",
     "output_type": "stream",
     "text": [
      "1/1 [==============================] - 0s 360ms/step\n"
     ]
    }
   ],
   "source": [
    "#Predict the next time steps\n",
    "y_pred = model.predict(X_test)"
   ]
  },
  {
   "cell_type": "code",
   "execution_count": 16,
   "metadata": {},
   "outputs": [
    {
     "data": {
      "text/plain": [
       "array([[194.68504],\n",
       "       [199.56071],\n",
       "       [204.4166 ],\n",
       "       [209.25166],\n",
       "       [214.06487],\n",
       "       [218.85527],\n",
       "       [223.6219 ],\n",
       "       [228.3639 ],\n",
       "       [233.08037],\n",
       "       [237.77046],\n",
       "       [242.43346],\n",
       "       [247.06853]], dtype=float32)"
      ]
     },
     "execution_count": 16,
     "metadata": {},
     "output_type": "execute_result"
    }
   ],
   "source": [
    "#last prediction=last item of array\n",
    "y_pred=y_pred.reshape(-1,1)\n",
    "\n",
    "#scale back\n",
    "y_pred_trans = scaler.inverse_transform(y_pred)\n",
    "\n",
    "y_pred_trans"
   ]
  },
  {
   "cell_type": "code",
   "execution_count": 17,
   "metadata": {},
   "outputs": [
    {
     "data": {
      "text/plain": [
       "(12, 1)"
      ]
     },
     "execution_count": 17,
     "metadata": {},
     "output_type": "execute_result"
    }
   ],
   "source": [
    "#check if 2D shape\n",
    "y_pred_trans.shape"
   ]
  },
  {
   "cell_type": "code",
   "execution_count": 18,
   "metadata": {},
   "outputs": [
    {
     "data": {
      "text/plain": [
       "array([[195.],\n",
       "       [200.],\n",
       "       [205.],\n",
       "       [210.],\n",
       "       [215.],\n",
       "       [220.],\n",
       "       [225.],\n",
       "       [230.],\n",
       "       [235.],\n",
       "       [240.],\n",
       "       [245.],\n",
       "       [250.]])"
      ]
     },
     "execution_count": 18,
     "metadata": {},
     "output_type": "execute_result"
    }
   ],
   "source": [
    "y_test=y_test.reshape(-1,1)\n",
    "\n",
    "#scale back\n",
    "y_test_trans = scaler.inverse_transform(y_test)\n",
    "y_test_trans"
   ]
  },
  {
   "cell_type": "code",
   "execution_count": 19,
   "metadata": {},
   "outputs": [
    {
     "data": {
      "text/plain": [
       "(12, 1)"
      ]
     },
     "execution_count": 19,
     "metadata": {},
     "output_type": "execute_result"
    }
   ],
   "source": [
    "#check if 2D shape\n",
    "y_test_trans.shape"
   ]
  },
  {
   "cell_type": "markdown",
   "metadata": {},
   "source": [
    "**Plot results**"
   ]
  },
  {
   "cell_type": "code",
   "execution_count": 20,
   "metadata": {},
   "outputs": [
    {
     "data": {
      "image/png": "[encoded data removed]",
      "text/plain": [
       "<Figure size 1000x500 with 1 Axes>"
      ]
     },
     "metadata": {},
     "output_type": "display_data"
    }
   ],
   "source": [
    "#Plot results for test part\n",
    "\n",
    "plt.figure(figsize=(10,5))\n",
    "\n",
    "plt.plot(y_test_trans, label = 'Real', marker='o')\n",
    "plt.plot(y_pred_trans, label = 'Predicted', marker='o')\n",
    "\n",
    "plt.grid()\n",
    "plt.ylabel('y axis')\n",
    "plt.xlabel('x axis')\n",
    "\n",
    "plt.legend()\n",
    "plt.show()"
   ]
  },
  {
   "cell_type": "markdown",
   "metadata": {},
   "source": [
    "**Evaluate data - RMSE, MAPE**"
   ]
  },
  {
   "cell_type": "code",
   "execution_count": 21,
   "metadata": {},
   "outputs": [
    {
     "name": "stdout",
     "output_type": "stream",
     "text": [
      "RMSE: 1.63\n",
      "MAPE: 0.61\n"
     ]
    }
   ],
   "source": [
    "#calculate root mean squared error\n",
    "test_score = np.sqrt(mse(y_test_trans, y_pred_trans))\n",
    "\n",
    "test_score_mape = mean_absolute_percentage_error(y_test_trans, y_pred_trans)\n",
    "\n",
    "#print results\n",
    "print(f'RMSE: {round(test_score,2)}')\n",
    "\n",
    "print(f'MAPE: {round(test_score_mape*100,2)}')\n"
   ]
  },
  {
   "cell_type": "markdown",
   "metadata": {},
   "source": [
    "**Train on the whole dataset**"
   ]
  },
  {
   "cell_type": "code",
   "execution_count": 22,
   "metadata": {},
   "outputs": [
    {
     "data": {
      "text/plain": [
       "5.778305194326094e-07"
      ]
     },
     "execution_count": 22,
     "metadata": {},
     "output_type": "execute_result"
    }
   ],
   "source": [
    "#Fit the model on the whole dataset (including test set)\n",
    "history=model.fit(X,y, epochs=n_epochs, batch_size=10, verbose=0)\n",
    "final_loss = history.history['loss'][-1]\n",
    "final_loss"
   ]
  },
  {
   "cell_type": "markdown",
   "metadata": {},
   "source": [
    "## Predict beyond the test set"
   ]
  },
  {
   "cell_type": "markdown",
   "metadata": {},
   "source": [
    "**Create array**"
   ]
  },
  {
   "cell_type": "code",
   "execution_count": 23,
   "metadata": {},
   "outputs": [
    {
     "data": {
      "text/plain": [
       "'\\nI must take data from the originally transformed data!!!! Cannot transfor again!!!\\n'"
      ]
     },
     "execution_count": 23,
     "metadata": {},
     "output_type": "execute_result"
    }
   ],
   "source": [
    "'''\n",
    "I must take data from the originally transformed data!!!! Cannot transfor again!!!\n",
    "'''"
   ]
  },
  {
   "cell_type": "code",
   "execution_count": 24,
   "metadata": {},
   "outputs": [
    {
     "data": {
      "text/plain": [
       "array([[0.81632653],\n",
       "       [0.83673469],\n",
       "       [0.85714286],\n",
       "       [0.87755102],\n",
       "       [0.89795918],\n",
       "       [0.91836735],\n",
       "       [0.93877551],\n",
       "       [0.95918367],\n",
       "       [0.97959184],\n",
       "       [1.        ]])"
      ]
     },
     "execution_count": 24,
     "metadata": {},
     "output_type": "execute_result"
    }
   ],
   "source": [
    "#take data from the test set\n",
    "last_batch=data[-lookback:]\n",
    "last_batch"
   ]
  },
  {
   "cell_type": "code",
   "execution_count": 25,
   "metadata": {},
   "outputs": [
    {
     "data": {
      "text/plain": [
       "array([[nan],\n",
       "       [nan],\n",
       "       [nan],\n",
       "       [nan],\n",
       "       [nan],\n",
       "       [nan],\n",
       "       [nan],\n",
       "       [nan],\n",
       "       [nan],\n",
       "       [nan],\n",
       "       [nan],\n",
       "       [nan]])"
      ]
     },
     "execution_count": 25,
     "metadata": {},
     "output_type": "execute_result"
    }
   ],
   "source": [
    "helping_array = np.full((horizon, 1), np.nan)\n",
    "helping_array"
   ]
  },
  {
   "cell_type": "code",
   "execution_count": 26,
   "metadata": {},
   "outputs": [
    {
     "data": {
      "text/plain": [
       "array([[0.81632653],\n",
       "       [0.83673469],\n",
       "       [0.85714286],\n",
       "       [0.87755102],\n",
       "       [0.89795918],\n",
       "       [0.91836735],\n",
       "       [0.93877551],\n",
       "       [0.95918367],\n",
       "       [0.97959184],\n",
       "       [1.        ],\n",
       "       [       nan],\n",
       "       [       nan],\n",
       "       [       nan],\n",
       "       [       nan],\n",
       "       [       nan],\n",
       "       [       nan],\n",
       "       [       nan],\n",
       "       [       nan],\n",
       "       [       nan],\n",
       "       [       nan],\n",
       "       [       nan],\n",
       "       [       nan]])"
      ]
     },
     "execution_count": 26,
     "metadata": {},
     "output_type": "execute_result"
    }
   ],
   "source": [
    "arr = np.concatenate((last_batch, helping_array))\n",
    "arr"
   ]
  },
  {
   "cell_type": "markdown",
   "metadata": {},
   "source": [
    "**Predict**"
   ]
  },
  {
   "cell_type": "code",
   "execution_count": 27,
   "metadata": {},
   "outputs": [],
   "source": [
    "#define the function for the prediction\n",
    "def predict_univariate(array, lookback, future_size):\n",
    "    results=[]\n",
    "\n",
    "    for i in range(len(array)-lookback):\n",
    "        \n",
    "        batch=[]\n",
    "        batch.append(array[i:i+lookback])\n",
    "        batch=np.array(batch)\n",
    "         \n",
    "        #predict one value\n",
    "        prediction=model.predict(batch, verbose=0)\n",
    "    \n",
    "        #add to the prediction list\n",
    "        results.append(prediction)\n",
    "\n",
    "        #replace nan in the array for next iterration\n",
    "        array[i+lookback] = prediction\n",
    "\n",
    "    results = array[-future_size:]\n",
    "        \n",
    "    return results"
   ]
  },
  {
   "cell_type": "code",
   "execution_count": 28,
   "metadata": {},
   "outputs": [
    {
     "data": {
      "text/plain": [
       "array([[1.01872432],\n",
       "       [1.03836989],\n",
       "       [1.05785382],\n",
       "       [1.07715929],\n",
       "       [1.09627628],\n",
       "       [1.1151948 ],\n",
       "       [1.13390267],\n",
       "       [1.15238857],\n",
       "       [1.17064047],\n",
       "       [1.18864584],\n",
       "       [1.20639384],\n",
       "       [1.22391522]])"
      ]
     },
     "execution_count": 28,
     "metadata": {},
     "output_type": "execute_result"
    }
   ],
   "source": [
    "#call the function and predict\n",
    "results = predict_univariate(arr, lookback, horizon)\n",
    "results"
   ]
  },
  {
   "cell_type": "markdown",
   "metadata": {},
   "source": [
    "**Transform results (rows, col)**"
   ]
  },
  {
   "cell_type": "code",
   "execution_count": 29,
   "metadata": {},
   "outputs": [
    {
     "data": {
      "text/plain": [
       "(12, 1)"
      ]
     },
     "execution_count": 29,
     "metadata": {},
     "output_type": "execute_result"
    }
   ],
   "source": [
    "results.shape"
   ]
  },
  {
   "cell_type": "code",
   "execution_count": 30,
   "metadata": {},
   "outputs": [
    {
     "data": {
      "text/plain": [
       "' results=results.reshape(-1,1)\\nresults.shape '"
      ]
     },
     "execution_count": 30,
     "metadata": {},
     "output_type": "execute_result"
    }
   ],
   "source": [
    "\"\"\" results=results.reshape(-1,1)\n",
    "results.shape \"\"\""
   ]
  },
  {
   "cell_type": "code",
   "execution_count": 31,
   "metadata": {},
   "outputs": [
    {
     "data": {
      "text/plain": [
       "array([[254.58745897],\n",
       "       [259.40062404],\n",
       "       [264.1741854 ],\n",
       "       [268.90402496],\n",
       "       [273.5876894 ],\n",
       "       [278.22272539],\n",
       "       [282.80615389],\n",
       "       [287.33520031],\n",
       "       [291.80691481],\n",
       "       [296.21823072],\n",
       "       [300.56649029],\n",
       "       [304.85922873]])"
      ]
     },
     "execution_count": 31,
     "metadata": {},
     "output_type": "execute_result"
    }
   ],
   "source": [
    "#print the results\n",
    "results_scaled = scaler.inverse_transform(results)\n",
    "results_scaled"
   ]
  },
  {
   "cell_type": "markdown",
   "metadata": {},
   "source": [
    "## Label by dates and Display results using - Plotly or Matplotlib"
   ]
  },
  {
   "cell_type": "code",
   "execution_count": 96,
   "metadata": {},
   "outputs": [],
   "source": [
    "import plotly.graph_objects as go\n",
    "\n",
    "def plot_chart_interactive(start_date_train, list_train, list_pred, title, freq, plotly=False):\n",
    "   \n",
    "   # Check frequency format\n",
    "   if freq not in [\"D\", \"W-MON\", \"M\"]:\n",
    "      print(f'Only these options for frequencies are possible: \"D\", \"W-MON\", \"M\" ')\n",
    "      return None\n",
    "   \n",
    "   # Define dates\n",
    "   start_date_train=str(start_date_train)\n",
    "   first_date_train = pd.Period(start_date_train, freq=freq)\n",
    "   first_date_pred = first_date_train + len(list_train)\n",
    "\n",
    "\n",
    "   # Set up indexes\n",
    "   if freq=='M':\n",
    "      train_index = pd.period_range(start=first_date_train, periods=len(list_train), freq='M').strftime('%Y-%m')\n",
    "      pred_index = pd.period_range(start=first_date_pred, periods=len(list_pred) , freq='M').strftime('%Y-%m')\n",
    "\n",
    "   elif freq=='D':\n",
    "      train_index = pd.period_range(start=first_date_train, periods=len(list_train), freq=freq).strftime('%Y-%m-%d')\n",
    "      pred_index = pd.period_range(start=first_date_pred, periods=len(list_pred) , freq=freq).strftime('%Y-%m-%d')\n",
    "\n",
    "   elif freq == 'W-MON':\n",
    "        train_index = pd.period_range(start=first_date_train, periods=len(list_train), freq=freq).strftime('%Y-%m-%d')\n",
    "        pred_index = pd.period_range(start=first_date_pred, periods=len(list_pred), freq=freq).strftime('%Y-%m-%d')\n",
    "\n",
    "   \n",
    "   # Set up a dataframe\n",
    "   df_train_plot = pd.DataFrame({'True' : list_train}, index=train_index)\n",
    "   \n",
    "   df_pred_plot = pd.DataFrame({'Pred' : list_pred}, index=pred_index)\n",
    "\n",
    "   df_merged = pd.concat([df_train_plot, df_pred_plot], axis=1)\n",
    "\n",
    "\n",
    "   if plotly==True:\n",
    "      # Create an interactive scatter plot using Plotly\n",
    "      fig = go.Figure()\n",
    "\n",
    "      # Plot the training data\n",
    "      fig.add_trace(go.Scatter(x=df_merged.index, y=df_merged.iloc[:, 0], mode='lines+markers', name='Train'))\n",
    "\n",
    "      # Plot the predicted data\n",
    "      fig.add_trace(go.Scatter(x=df_merged.iloc[-len(list_pred):].index,\n",
    "                              y=df_merged.iloc[-len(list_pred):, 1],\n",
    "                              mode='lines+markers',\n",
    "                              name='Prediction'))\n",
    "\n",
    "      # Update layout\n",
    "      fig.update_layout(title=title, \n",
    "                        xaxis_title='Date', \n",
    "                        yaxis_title='Value', \n",
    "                        showlegend=True,\n",
    "                        height=900, \n",
    "                        width=500)\n",
    "      \n",
    "      # Display the plot\n",
    "      fig.show()\n",
    "\n",
    "   else:\n",
    "      df_merged.plot(figsize=(10,5), marker='o')\n",
    "      plt.grid(True)\n",
    "      plt.show()\n",
    "     "
   ]
  },
  {
   "cell_type": "markdown",
   "metadata": {},
   "source": [
    "**Prepare data**"
   ]
  },
  {
   "cell_type": "code",
   "execution_count": 69,
   "metadata": {},
   "outputs": [
    {
     "data": {
      "text/plain": [
       "[254.5874589681625,\n",
       " 259.40062403678894,\n",
       " 264.1741853952408,\n",
       " 268.90402495861053,\n",
       " 273.58768939971924,\n",
       " 278.22272539138794,\n",
       " 282.80615389347076,\n",
       " 287.3352003097534,\n",
       " 291.80691480636597,\n",
       " 296.2182307243347,\n",
       " 300.56649029254913,\n",
       " 304.8592287302017]"
      ]
     },
     "execution_count": 69,
     "metadata": {},
     "output_type": "execute_result"
    }
   ],
   "source": [
    "list_pred = results_scaled.flatten().tolist()\n",
    "list_pred"
   ]
  },
  {
   "cell_type": "code",
   "execution_count": 70,
   "metadata": {},
   "outputs": [
    {
     "data": {
      "text/plain": [
       "[5, 10, 15, 20, 25]"
      ]
     },
     "execution_count": 70,
     "metadata": {},
     "output_type": "execute_result"
    }
   ],
   "source": [
    "list_train = data_origin['y'].tolist()\n",
    "list_train[:5]"
   ]
  },
  {
   "cell_type": "markdown",
   "metadata": {},
   "source": [
    "**Display**"
   ]
  },
  {
   "cell_type": "code",
   "execution_count": 97,
   "metadata": {},
   "outputs": [
    {
     "data": {
      "image/png": "[encoded data removed]",
      "text/plain": [
       "<Figure size 1000x500 with 1 Axes>"
      ]
     },
     "metadata": {},
     "output_type": "display_data"
    }
   ],
   "source": [
    "plot_chart_interactive('2022-01-01', list_train, list_pred, 'Train vs Prediction chart', freq='M', plotly=False)"
   ]
  }
 ],
 "metadata": {
  "kernelspec": {
   "display_name": "Python 3",
   "language": "python",
   "name": "python3"
  },
  "language_info": {
   "codemirror_mode": {
    "name": "ipython",
    "version": 3
   },
   "file_extension": ".py",
   "mimetype": "text/x-python",
   "name": "python",
   "nbconvert_exporter": "python",
   "pygments_lexer": "ipython3",
   "version": "3.10.10"
  }
 },
 "nbformat": 4,
 "nbformat_minor": 2
}
