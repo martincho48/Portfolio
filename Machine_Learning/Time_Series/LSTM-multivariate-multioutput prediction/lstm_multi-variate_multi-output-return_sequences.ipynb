{
 "cells": [
  {
   "cell_type": "code",
   "execution_count": 1,
   "metadata": {},
   "outputs": [
    {
     "name": "stdout",
     "output_type": "stream",
     "text": [
      "WARNING:tensorflow:From c:\\Users\\Martin\\.virtualenvs\\venv_portfolio-hkOMkeu3\\lib\\site-packages\\keras\\src\\losses.py:2976: The name tf.losses.sparse_softmax_cross_entropy is deprecated. Please use tf.compat.v1.losses.sparse_softmax_cross_entropy instead.\n",
      "\n"
     ]
    }
   ],
   "source": [
    "import numpy as np\n",
    "import pandas as pd\n",
    "\n",
    "from keras.models import Sequential\n",
    "from keras.layers import LSTM, Dense, Dropout\n",
    "from keras import backend as K\n",
    "from keras import callbacks \n",
    "\n",
    "import matplotlib.pyplot as plt\n",
    "from sklearn.preprocessing import MinMaxScaler\n",
    "from sklearn.metrics import mean_squared_error as mse\n",
    "import joblib\n"
   ]
  },
  {
   "cell_type": "markdown",
   "metadata": {},
   "source": [
    "**Define input data and plot them**"
   ]
  },
  {
   "cell_type": "code",
   "execution_count": 2,
   "metadata": {},
   "outputs": [],
   "source": [
    "# Define lookback and prediction time_step\n",
    "lookback = 10\n",
    "\n",
    "#number of outputs\n",
    "time_step = 1\n",
    "n_outputs = 2\n",
    "\n",
    "patience=300\n",
    "drop=0.1\n",
    "\n",
    "test_size = 10\n",
    "future_size = 28\n",
    "\n",
    "#number of all features (inputs +outputs)\n",
    "n_features = 3\n",
    "\n",
    "n_epochs=3000"
   ]
  },
  {
   "cell_type": "code",
   "execution_count": 3,
   "metadata": {},
   "outputs": [
    {
     "data": {
      "text/html": [
       "<div>\n",
       "<style scoped>\n",
       "    .dataframe tbody tr th:only-of-type {\n",
       "        vertical-align: middle;\n",
       "    }\n",
       "\n",
       "    .dataframe tbody tr th {\n",
       "        vertical-align: top;\n",
       "    }\n",
       "\n",
       "    .dataframe thead th {\n",
       "        text-align: right;\n",
       "    }\n",
       "</style>\n",
       "<table border=\"1\" class=\"dataframe\">\n",
       "  <thead>\n",
       "    <tr style=\"text-align: right;\">\n",
       "      <th></th>\n",
       "      <th>item</th>\n",
       "    </tr>\n",
       "  </thead>\n",
       "  <tbody>\n",
       "    <tr>\n",
       "      <th>0</th>\n",
       "      <td>10</td>\n",
       "    </tr>\n",
       "    <tr>\n",
       "      <th>1</th>\n",
       "      <td>12</td>\n",
       "    </tr>\n",
       "    <tr>\n",
       "      <th>2</th>\n",
       "      <td>14</td>\n",
       "    </tr>\n",
       "    <tr>\n",
       "      <th>3</th>\n",
       "      <td>16</td>\n",
       "    </tr>\n",
       "    <tr>\n",
       "      <th>4</th>\n",
       "      <td>18</td>\n",
       "    </tr>\n",
       "    <tr>\n",
       "      <th>5</th>\n",
       "      <td>20</td>\n",
       "    </tr>\n",
       "    <tr>\n",
       "      <th>6</th>\n",
       "      <td>22</td>\n",
       "    </tr>\n",
       "    <tr>\n",
       "      <th>7</th>\n",
       "      <td>24</td>\n",
       "    </tr>\n",
       "    <tr>\n",
       "      <th>8</th>\n",
       "      <td>26</td>\n",
       "    </tr>\n",
       "    <tr>\n",
       "      <th>9</th>\n",
       "      <td>28</td>\n",
       "    </tr>\n",
       "    <tr>\n",
       "      <th>10</th>\n",
       "      <td>30</td>\n",
       "    </tr>\n",
       "    <tr>\n",
       "      <th>11</th>\n",
       "      <td>32</td>\n",
       "    </tr>\n",
       "    <tr>\n",
       "      <th>12</th>\n",
       "      <td>34</td>\n",
       "    </tr>\n",
       "    <tr>\n",
       "      <th>13</th>\n",
       "      <td>36</td>\n",
       "    </tr>\n",
       "    <tr>\n",
       "      <th>14</th>\n",
       "      <td>38</td>\n",
       "    </tr>\n",
       "    <tr>\n",
       "      <th>15</th>\n",
       "      <td>40</td>\n",
       "    </tr>\n",
       "  </tbody>\n",
       "</table>\n",
       "</div>"
      ],
      "text/plain": [
       "    item\n",
       "0     10\n",
       "1     12\n",
       "2     14\n",
       "3     16\n",
       "4     18\n",
       "5     20\n",
       "6     22\n",
       "7     24\n",
       "8     26\n",
       "9     28\n",
       "10    30\n",
       "11    32\n",
       "12    34\n",
       "13    36\n",
       "14    38\n",
       "15    40"
      ]
     },
     "execution_count": 3,
     "metadata": {},
     "output_type": "execute_result"
    }
   ],
   "source": [
    "#number od days\n",
    "n = 59\n",
    "\n",
    "final_sequence = []\n",
    "increment = 10\n",
    "\n",
    "final_sequence=[increment+2*i for i in range(n)]\n",
    "final_sequence[0:5]\n",
    "\n",
    "#convert into df\n",
    "data_origin=pd.DataFrame(final_sequence, columns=['item'])\n",
    "data_origin.head(16)"
   ]
  },
  {
   "cell_type": "code",
   "execution_count": 4,
   "metadata": {},
   "outputs": [],
   "source": [
    "def zero_value(data):\n",
    "    data.loc[data['weekend'] == 1, 'item'] = 0\n",
    "    return data"
   ]
  },
  {
   "cell_type": "markdown",
   "metadata": {},
   "source": [
    "**Add 'date' and 'weekend' column**"
   ]
  },
  {
   "cell_type": "code",
   "execution_count": 5,
   "metadata": {},
   "outputs": [],
   "source": [
    "data_origin['date']=pd.date_range('2023-01-01', periods=len(data_origin),)\n",
    "data_origin['weekend']=data_origin['date'].dt.weekday\n",
    "data_origin['weekend']=data_origin['weekend'].apply(lambda x: 1 if x in [5,6] else 0)\n",
    "\n",
    "#zero the weekends values\n",
    "data_origin = zero_value(data_origin)"
   ]
  },
  {
   "cell_type": "markdown",
   "metadata": {},
   "source": [
    "**Add column 'profit'**"
   ]
  },
  {
   "cell_type": "code",
   "execution_count": 6,
   "metadata": {},
   "outputs": [
    {
     "data": {
      "text/html": [
       "<div>\n",
       "<style scoped>\n",
       "    .dataframe tbody tr th:only-of-type {\n",
       "        vertical-align: middle;\n",
       "    }\n",
       "\n",
       "    .dataframe tbody tr th {\n",
       "        vertical-align: top;\n",
       "    }\n",
       "\n",
       "    .dataframe thead th {\n",
       "        text-align: right;\n",
       "    }\n",
       "</style>\n",
       "<table border=\"1\" class=\"dataframe\">\n",
       "  <thead>\n",
       "    <tr style=\"text-align: right;\">\n",
       "      <th></th>\n",
       "      <th>item</th>\n",
       "      <th>date</th>\n",
       "      <th>weekend</th>\n",
       "      <th>profit</th>\n",
       "    </tr>\n",
       "  </thead>\n",
       "  <tbody>\n",
       "    <tr>\n",
       "      <th>0</th>\n",
       "      <td>0</td>\n",
       "      <td>2023-01-01</td>\n",
       "      <td>1</td>\n",
       "      <td>0</td>\n",
       "    </tr>\n",
       "    <tr>\n",
       "      <th>1</th>\n",
       "      <td>12</td>\n",
       "      <td>2023-01-02</td>\n",
       "      <td>0</td>\n",
       "      <td>36</td>\n",
       "    </tr>\n",
       "    <tr>\n",
       "      <th>2</th>\n",
       "      <td>14</td>\n",
       "      <td>2023-01-03</td>\n",
       "      <td>0</td>\n",
       "      <td>42</td>\n",
       "    </tr>\n",
       "    <tr>\n",
       "      <th>3</th>\n",
       "      <td>16</td>\n",
       "      <td>2023-01-04</td>\n",
       "      <td>0</td>\n",
       "      <td>48</td>\n",
       "    </tr>\n",
       "    <tr>\n",
       "      <th>4</th>\n",
       "      <td>18</td>\n",
       "      <td>2023-01-05</td>\n",
       "      <td>0</td>\n",
       "      <td>54</td>\n",
       "    </tr>\n",
       "    <tr>\n",
       "      <th>5</th>\n",
       "      <td>20</td>\n",
       "      <td>2023-01-06</td>\n",
       "      <td>0</td>\n",
       "      <td>60</td>\n",
       "    </tr>\n",
       "    <tr>\n",
       "      <th>6</th>\n",
       "      <td>0</td>\n",
       "      <td>2023-01-07</td>\n",
       "      <td>1</td>\n",
       "      <td>0</td>\n",
       "    </tr>\n",
       "    <tr>\n",
       "      <th>7</th>\n",
       "      <td>0</td>\n",
       "      <td>2023-01-08</td>\n",
       "      <td>1</td>\n",
       "      <td>0</td>\n",
       "    </tr>\n",
       "    <tr>\n",
       "      <th>8</th>\n",
       "      <td>26</td>\n",
       "      <td>2023-01-09</td>\n",
       "      <td>0</td>\n",
       "      <td>78</td>\n",
       "    </tr>\n",
       "    <tr>\n",
       "      <th>9</th>\n",
       "      <td>28</td>\n",
       "      <td>2023-01-10</td>\n",
       "      <td>0</td>\n",
       "      <td>84</td>\n",
       "    </tr>\n",
       "  </tbody>\n",
       "</table>\n",
       "</div>"
      ],
      "text/plain": [
       "   item       date  weekend  profit\n",
       "0     0 2023-01-01        1       0\n",
       "1    12 2023-01-02        0      36\n",
       "2    14 2023-01-03        0      42\n",
       "3    16 2023-01-04        0      48\n",
       "4    18 2023-01-05        0      54\n",
       "5    20 2023-01-06        0      60\n",
       "6     0 2023-01-07        1       0\n",
       "7     0 2023-01-08        1       0\n",
       "8    26 2023-01-09        0      78\n",
       "9    28 2023-01-10        0      84"
      ]
     },
     "execution_count": 6,
     "metadata": {},
     "output_type": "execute_result"
    }
   ],
   "source": [
    "# Add another column \n",
    "data_origin['profit']=data_origin['item']*3\n",
    "data_origin.head(10)"
   ]
  },
  {
   "cell_type": "code",
   "execution_count": 7,
   "metadata": {},
   "outputs": [
    {
     "data": {
      "text/html": [
       "<div>\n",
       "<style scoped>\n",
       "    .dataframe tbody tr th:only-of-type {\n",
       "        vertical-align: middle;\n",
       "    }\n",
       "\n",
       "    .dataframe tbody tr th {\n",
       "        vertical-align: top;\n",
       "    }\n",
       "\n",
       "    .dataframe thead th {\n",
       "        text-align: right;\n",
       "    }\n",
       "</style>\n",
       "<table border=\"1\" class=\"dataframe\">\n",
       "  <thead>\n",
       "    <tr style=\"text-align: right;\">\n",
       "      <th></th>\n",
       "      <th>item</th>\n",
       "      <th>profit</th>\n",
       "      <th>weekend</th>\n",
       "    </tr>\n",
       "    <tr>\n",
       "      <th>date</th>\n",
       "      <th></th>\n",
       "      <th></th>\n",
       "      <th></th>\n",
       "    </tr>\n",
       "  </thead>\n",
       "  <tbody>\n",
       "    <tr>\n",
       "      <th>2023-01-01</th>\n",
       "      <td>0</td>\n",
       "      <td>0</td>\n",
       "      <td>1</td>\n",
       "    </tr>\n",
       "    <tr>\n",
       "      <th>2023-01-02</th>\n",
       "      <td>12</td>\n",
       "      <td>36</td>\n",
       "      <td>0</td>\n",
       "    </tr>\n",
       "    <tr>\n",
       "      <th>2023-01-03</th>\n",
       "      <td>14</td>\n",
       "      <td>42</td>\n",
       "      <td>0</td>\n",
       "    </tr>\n",
       "    <tr>\n",
       "      <th>2023-01-04</th>\n",
       "      <td>16</td>\n",
       "      <td>48</td>\n",
       "      <td>0</td>\n",
       "    </tr>\n",
       "    <tr>\n",
       "      <th>2023-01-05</th>\n",
       "      <td>18</td>\n",
       "      <td>54</td>\n",
       "      <td>0</td>\n",
       "    </tr>\n",
       "  </tbody>\n",
       "</table>\n",
       "</div>"
      ],
      "text/plain": [
       "            item  profit  weekend\n",
       "date                             \n",
       "2023-01-01     0       0        1\n",
       "2023-01-02    12      36        0\n",
       "2023-01-03    14      42        0\n",
       "2023-01-04    16      48        0\n",
       "2023-01-05    18      54        0"
      ]
     },
     "execution_count": 7,
     "metadata": {},
     "output_type": "execute_result"
    }
   ],
   "source": [
    "# Reorder columns to make 'date' the first column\n",
    "data_origin = data_origin[['date', 'item','profit', 'weekend']]\n",
    "\n",
    "\n",
    "#set the index\n",
    "data_origin.set_index('date', inplace=True)\n",
    "\n",
    "data_origin.head(5)"
   ]
  },
  {
   "cell_type": "code",
   "execution_count": 8,
   "metadata": {},
   "outputs": [
    {
     "data": {
      "text/html": [
       "<div>\n",
       "<style scoped>\n",
       "    .dataframe tbody tr th:only-of-type {\n",
       "        vertical-align: middle;\n",
       "    }\n",
       "\n",
       "    .dataframe tbody tr th {\n",
       "        vertical-align: top;\n",
       "    }\n",
       "\n",
       "    .dataframe thead th {\n",
       "        text-align: right;\n",
       "    }\n",
       "</style>\n",
       "<table border=\"1\" class=\"dataframe\">\n",
       "  <thead>\n",
       "    <tr style=\"text-align: right;\">\n",
       "      <th></th>\n",
       "      <th>item</th>\n",
       "      <th>profit</th>\n",
       "      <th>weekend</th>\n",
       "    </tr>\n",
       "    <tr>\n",
       "      <th>date</th>\n",
       "      <th></th>\n",
       "      <th></th>\n",
       "      <th></th>\n",
       "    </tr>\n",
       "  </thead>\n",
       "  <tbody>\n",
       "    <tr>\n",
       "      <th>2023-02-21</th>\n",
       "      <td>112</td>\n",
       "      <td>336</td>\n",
       "      <td>0</td>\n",
       "    </tr>\n",
       "    <tr>\n",
       "      <th>2023-02-22</th>\n",
       "      <td>114</td>\n",
       "      <td>342</td>\n",
       "      <td>0</td>\n",
       "    </tr>\n",
       "    <tr>\n",
       "      <th>2023-02-23</th>\n",
       "      <td>116</td>\n",
       "      <td>348</td>\n",
       "      <td>0</td>\n",
       "    </tr>\n",
       "    <tr>\n",
       "      <th>2023-02-24</th>\n",
       "      <td>118</td>\n",
       "      <td>354</td>\n",
       "      <td>0</td>\n",
       "    </tr>\n",
       "    <tr>\n",
       "      <th>2023-02-25</th>\n",
       "      <td>0</td>\n",
       "      <td>0</td>\n",
       "      <td>1</td>\n",
       "    </tr>\n",
       "    <tr>\n",
       "      <th>2023-02-26</th>\n",
       "      <td>0</td>\n",
       "      <td>0</td>\n",
       "      <td>1</td>\n",
       "    </tr>\n",
       "    <tr>\n",
       "      <th>2023-02-27</th>\n",
       "      <td>124</td>\n",
       "      <td>372</td>\n",
       "      <td>0</td>\n",
       "    </tr>\n",
       "    <tr>\n",
       "      <th>2023-02-28</th>\n",
       "      <td>126</td>\n",
       "      <td>378</td>\n",
       "      <td>0</td>\n",
       "    </tr>\n",
       "  </tbody>\n",
       "</table>\n",
       "</div>"
      ],
      "text/plain": [
       "            item  profit  weekend\n",
       "date                             \n",
       "2023-02-21   112     336        0\n",
       "2023-02-22   114     342        0\n",
       "2023-02-23   116     348        0\n",
       "2023-02-24   118     354        0\n",
       "2023-02-25     0       0        1\n",
       "2023-02-26     0       0        1\n",
       "2023-02-27   124     372        0\n",
       "2023-02-28   126     378        0"
      ]
     },
     "execution_count": 8,
     "metadata": {},
     "output_type": "execute_result"
    }
   ],
   "source": [
    "data_origin.tail(8)"
   ]
  },
  {
   "cell_type": "code",
   "execution_count": 9,
   "metadata": {},
   "outputs": [
    {
     "data": {
      "image/png": "[encoded data removed]",
      "text/plain": [
       "<Figure size 1000x500 with 1 Axes>"
      ]
     },
     "metadata": {},
     "output_type": "display_data"
    }
   ],
   "source": [
    "data_origin[['item', 'profit']].plot(figsize=(10,5), marker='o')\n",
    "plt.grid()\n",
    "plt.show()"
   ]
  },
  {
   "cell_type": "markdown",
   "metadata": {},
   "source": [
    "## PART I - Predict on the test set"
   ]
  },
  {
   "cell_type": "markdown",
   "metadata": {},
   "source": [
    "**Scale and parce the data**"
   ]
  },
  {
   "cell_type": "code",
   "execution_count": 10,
   "metadata": {},
   "outputs": [],
   "source": [
    "#scale data\n",
    "scaler = MinMaxScaler(feature_range = (0,1))\n",
    "data = scaler.fit_transform(data_origin)"
   ]
  },
  {
   "cell_type": "code",
   "execution_count": 11,
   "metadata": {},
   "outputs": [],
   "source": [
    "# Function to create input sequences and corresponding output for training\n",
    "def create_sequences(data, lookback, time_step):\n",
    "    X, y = [], []\n",
    "    for i in range(len(data) - lookback):\n",
    "        X.append(data[i:i+lookback, :])\n",
    "        y.append(data[i+lookback:i+lookback+time_step, 0:n_outputs]) #I want to predict first 2 values that is why (0,2)\n",
    "    return np.array(X), np.array(y)\n",
    "\n",
    "# Create input sequences and corresponding output\n",
    "X, y = create_sequences(data, lookback, time_step)"
   ]
  },
  {
   "cell_type": "code",
   "execution_count": 12,
   "metadata": {},
   "outputs": [
    {
     "data": {
      "text/plain": [
       "(49, 10, 3)"
      ]
     },
     "execution_count": 12,
     "metadata": {},
     "output_type": "execute_result"
    }
   ],
   "source": [
    "X.shape"
   ]
  },
  {
   "cell_type": "code",
   "execution_count": 13,
   "metadata": {},
   "outputs": [],
   "source": [
    "#Split the data into training and testing sets\n",
    "train_size = int(len(X)-test_size)\n",
    "\n",
    "X_train, y_train = X[:train_size], y[:train_size]\n",
    "X_test, y_test = X[train_size:], y[train_size:]"
   ]
  },
  {
   "cell_type": "markdown",
   "metadata": {},
   "source": [
    "**Build the NN and compute**"
   ]
  },
  {
   "cell_type": "code",
   "execution_count": 14,
   "metadata": {},
   "outputs": [
    {
     "data": {
      "text/plain": [
       "\" from tensorflow.keras.models import Model\\nfrom tensorflow.keras.layers import Input, LSTM, Dense\\n\\n# Define the input shape\\ninput_shape = (1, input_feature_size)  # Assuming input_feature_size is the size of your input features\\n\\n# Input layer\\ninputs = Input(shape=input_shape, name='input_layer')\\n\\n# LSTM layer\\nlstm_out = LSTM(units=hidden_units, activation='tanh', return_sequences=False)(inputs)\\n\\n# Output layers\\noutput1 = Dense(units=output1_units, activation='linear', name='output1')(lstm_out)\\noutput2 = Dense(units=output2_units, activation='linear', name='output2')(lstm_out)\\n\\n# Create the model\\nmodel = Model(inputs=inputs, outputs=[output1, output2])\\n\\n# Compile the model\\nmodel.compile(optimizer='adam', loss='mean_squared_error')  # Adjust loss function and optimizer as needed \""
      ]
     },
     "execution_count": 14,
     "metadata": {},
     "output_type": "execute_result"
    }
   ],
   "source": [
    "\"\"\" from tensorflow.keras.models import Model\n",
    "from tensorflow.keras.layers import Input, LSTM, Dense\n",
    "\n",
    "# Define the input shape\n",
    "input_shape = (1, input_feature_size)  # Assuming input_feature_size is the size of your input features\n",
    "\n",
    "# Input layer\n",
    "inputs = Input(shape=input_shape, name='input_layer')\n",
    "\n",
    "# LSTM layer\n",
    "lstm_out = LSTM(units=hidden_units, activation='tanh', return_sequences=False)(inputs)\n",
    "\n",
    "# Output layers\n",
    "output1 = Dense(units=output1_units, activation='linear', name='output1')(lstm_out)\n",
    "output2 = Dense(units=output2_units, activation='linear', name='output2')(lstm_out)\n",
    "\n",
    "# Create the model\n",
    "model = Model(inputs=inputs, outputs=[output1, output2])\n",
    "\n",
    "# Compile the model\n",
    "model.compile(optimizer='adam', loss='mean_squared_error')  # Adjust loss function and optimizer as needed \"\"\"\n"
   ]
  },
  {
   "cell_type": "markdown",
   "metadata": {},
   "source": [
    "**Set up the model**"
   ]
  },
  {
   "cell_type": "code",
   "execution_count": 15,
   "metadata": {},
   "outputs": [
    {
     "name": "stdout",
     "output_type": "stream",
     "text": [
      "WARNING:tensorflow:From c:\\Users\\Martin\\.virtualenvs\\venv_portfolio-hkOMkeu3\\lib\\site-packages\\keras\\src\\backend.py:277: The name tf.reset_default_graph is deprecated. Please use tf.compat.v1.reset_default_graph instead.\n",
      "\n",
      "WARNING:tensorflow:From c:\\Users\\Martin\\.virtualenvs\\venv_portfolio-hkOMkeu3\\lib\\site-packages\\keras\\src\\optimizers\\__init__.py:309: The name tf.train.Optimizer is deprecated. Please use tf.compat.v1.train.Optimizer instead.\n",
      "\n",
      "Model: \"sequential\"\n",
      "_________________________________________________________________\n",
      " Layer (type)                Output Shape              Param #   \n",
      "=================================================================\n",
      " lstm (LSTM)                 (None, 10, 40)            7040      \n",
      "                                                                 \n",
      " dropout (Dropout)           (None, 10, 40)            0         \n",
      "                                                                 \n",
      " dense (Dense)               (None, 10, 2)             82        \n",
      "                                                                 \n",
      "=================================================================\n",
      "Total params: 7122 (27.82 KB)\n",
      "Trainable params: 7122 (27.82 KB)\n",
      "Non-trainable params: 0 (0.00 Byte)\n",
      "_________________________________________________________________\n"
     ]
    }
   ],
   "source": [
    "#Build the LSTM model\n",
    "\n",
    "'''\n",
    "If you encounter this problem:\n",
    "\"The error AttributeError: module 'keras.backend' has no attribute 'floatx'\"\n",
    "Restart VSC!!!\n",
    "'''\n",
    "\n",
    "#clear previous TensorFlow session\n",
    "K.clear_session()\n",
    "\n",
    "model = Sequential()\n",
    "model.add(LSTM(40, input_shape=(lookback, n_features), return_sequences=True)) #for multioutput better to set: return_sequences=True\n",
    "model.add(Dropout(drop))\n",
    "model.add(Dense(n_outputs))\n",
    "\n",
    "model.compile(optimizer='adam', loss='mse')\n",
    "\n",
    "model.summary()\n"
   ]
  },
  {
   "cell_type": "markdown",
   "metadata": {},
   "source": [
    "**Fit the model and run the computation**"
   ]
  },
  {
   "cell_type": "code",
   "execution_count": 16,
   "metadata": {},
   "outputs": [
    {
     "name": "stdout",
     "output_type": "stream",
     "text": [
      "WARNING:tensorflow:From c:\\Users\\Martin\\.virtualenvs\\venv_portfolio-hkOMkeu3\\lib\\site-packages\\keras\\src\\utils\\tf_utils.py:492: The name tf.ragged.RaggedTensorValue is deprecated. Please use tf.compat.v1.ragged.RaggedTensorValue instead.\n",
      "\n",
      "1/1 [==============================] - 0s 355ms/step - loss: 0.0407\n",
      "Test Loss: 0.04071715474128723\n"
     ]
    }
   ],
   "source": [
    "#set the early stopping\n",
    "early_stopping=callbacks.EarlyStopping(patience=patience)\n",
    "\n",
    "#Train the model\n",
    "history=model.fit(X_train, y_train, \n",
    "                  epochs=n_epochs, \n",
    "                  batch_size=10, \n",
    "                  validation_data=(X_test, y_test), \n",
    "                  callbacks=[early_stopping],\n",
    "                  verbose=0)\n",
    "\n",
    "#Evaluate the model on the test set\n",
    "loss = model.evaluate(X_test, y_test)\n",
    "print(f\"Test Loss: {loss}\")"
   ]
  },
  {
   "cell_type": "code",
   "execution_count": 17,
   "metadata": {},
   "outputs": [],
   "source": [
    "#define ploting function for loss function\n",
    "\n",
    "def plot_training(history_dict, y_axis=[0, 1000]):\n",
    "\n",
    "    plt.plot(history_dict.history['loss'], label='Loss-Training',  c=\"blue\")\n",
    "    plt.plot(history_dict.history['val_loss'], label='Loss-Test', c=\"red\")\n",
    "\n",
    "    plt.xlabel('Epochs')\n",
    "    plt.ylabel('Loss')\n",
    "\n",
    "    plt.ylim(y_axis) #limit of the Y-axis\n",
    "\n",
    "    plt.legend()\n",
    "    plt.grid(True)\n",
    "\n",
    "    plt.show()"
   ]
  },
  {
   "cell_type": "code",
   "execution_count": 18,
   "metadata": {},
   "outputs": [
    {
     "data": {
      "image/png": "[encoded data removed]",
      "text/plain": [
       "<Figure size 640x480 with 1 Axes>"
      ]
     },
     "metadata": {},
     "output_type": "display_data"
    }
   ],
   "source": [
    "#plot without dropout\n",
    "plot_training(history,y_axis=[0, 0.5])"
   ]
  },
  {
   "cell_type": "markdown",
   "metadata": {},
   "source": [
    "**Predict on the test data**"
   ]
  },
  {
   "cell_type": "code",
   "execution_count": 19,
   "metadata": {},
   "outputs": [
    {
     "name": "stdout",
     "output_type": "stream",
     "text": [
      "1/1 [==============================] - 0s 355ms/step\n"
     ]
    }
   ],
   "source": [
    "#Predict the next time steps\n",
    "y_pred = model.predict(X_test)"
   ]
  },
  {
   "cell_type": "markdown",
   "metadata": {},
   "source": [
    "**Back-transformation-Prediction**"
   ]
  },
  {
   "cell_type": "code",
   "execution_count": 20,
   "metadata": {},
   "outputs": [
    {
     "data": {
      "text/plain": [
       "(10, 10, 2)"
      ]
     },
     "execution_count": 20,
     "metadata": {},
     "output_type": "execute_result"
    }
   ],
   "source": [
    "y_pred.shape"
   ]
  },
  {
   "cell_type": "code",
   "execution_count": 21,
   "metadata": {},
   "outputs": [
    {
     "data": {
      "text/plain": [
       "(10, 2)"
      ]
     },
     "execution_count": 21,
     "metadata": {},
     "output_type": "execute_result"
    }
   ],
   "source": [
    "#get the latest array = predictions, slice it\n",
    "y_pred_reshaped = y_pred[:, -1, :]\n",
    "y_pred_reshaped.shape"
   ]
  },
  {
   "cell_type": "code",
   "execution_count": 22,
   "metadata": {},
   "outputs": [
    {
     "data": {
      "text/plain": [
       "array([[0.03635797, 0.03657848],\n",
       "       [0.85943305, 0.8571224 ],\n",
       "       [0.88235915, 0.8818273 ],\n",
       "       [0.8956895 , 0.8950985 ],\n",
       "       [0.91359365, 0.91130465],\n",
       "       [0.9225514 , 0.9198919 ],\n",
       "       [0.02895071, 0.02978791],\n",
       "       [0.05921727, 0.05983681],\n",
       "       [0.9625634 , 0.95900494],\n",
       "       [0.9953629 , 0.9938618 ]], dtype=float32)"
      ]
     },
     "execution_count": 22,
     "metadata": {},
     "output_type": "execute_result"
    }
   ],
   "source": [
    "y_pred_reshaped"
   ]
  },
  {
   "cell_type": "code",
   "execution_count": 23,
   "metadata": {},
   "outputs": [],
   "source": [
    "def back_transform(df, n_features=n_features, n_outputs=n_outputs, array=True):\n",
    "\n",
    "    #duplicate the array - for transformations reasons\n",
    "    transformed_array = np.repeat(df, n_features, axis=-1)\n",
    "\n",
    "    #slice the array\n",
    "    transformed_array=transformed_array[:,0:n_features]\n",
    "\n",
    "    #tranform back\n",
    "    transformed_array=scaler.inverse_transform(transformed_array)[:,0:n_outputs]\n",
    "    \n",
    "    #create a dataframe\n",
    "    if array !=True:\n",
    "        transformed_array=pd.DataFrame(transformed_array, columns=['pred1', 'pred2'])\n",
    "\n",
    "    return transformed_array"
   ]
  },
  {
   "cell_type": "code",
   "execution_count": 24,
   "metadata": {},
   "outputs": [],
   "source": [
    "y_pred_trans=back_transform(y_pred_reshaped, n_features=n_features, n_outputs=n_outputs, array=True)"
   ]
  },
  {
   "cell_type": "markdown",
   "metadata": {},
   "source": [
    "**Back-transformation-Test**"
   ]
  },
  {
   "cell_type": "code",
   "execution_count": 25,
   "metadata": {},
   "outputs": [
    {
     "data": {
      "text/plain": [
       "(10, 1, 2)"
      ]
     },
     "execution_count": 25,
     "metadata": {},
     "output_type": "execute_result"
    }
   ],
   "source": [
    "y_test.shape"
   ]
  },
  {
   "cell_type": "code",
   "execution_count": 26,
   "metadata": {},
   "outputs": [
    {
     "data": {
      "text/plain": [
       "(10, 2)"
      ]
     },
     "execution_count": 26,
     "metadata": {},
     "output_type": "execute_result"
    }
   ],
   "source": [
    "y_test_reshaped = y_test.reshape((lookback, n_outputs))\n",
    "y_test_reshaped.shape"
   ]
  },
  {
   "cell_type": "code",
   "execution_count": 27,
   "metadata": {},
   "outputs": [],
   "source": [
    "y_test_trans=back_transform(y_test_reshaped, n_features=n_features, n_outputs=n_outputs, array=True)"
   ]
  },
  {
   "cell_type": "markdown",
   "metadata": {},
   "source": [
    "**Plot results**"
   ]
  },
  {
   "cell_type": "code",
   "execution_count": 28,
   "metadata": {},
   "outputs": [
    {
     "data": {
      "image/png": "[encoded data removed]",
      "text/plain": [
       "<Figure size 1000x500 with 1 Axes>"
      ]
     },
     "metadata": {},
     "output_type": "display_data"
    }
   ],
   "source": [
    "#Plot results for test part\n",
    "\n",
    "plt.figure(figsize=(10,5))\n",
    "\n",
    "plt.plot(y_test_trans, label = 'Real', marker='o')\n",
    "plt.plot(y_pred_trans, label = 'Predicted', marker='o')\n",
    "\n",
    "plt.grid()\n",
    "plt.ylabel('y axis')\n",
    "plt.xlabel('x axis')\n",
    "\n",
    "plt.legend()\n",
    "plt.show()"
   ]
  },
  {
   "cell_type": "markdown",
   "metadata": {},
   "source": [
    "**Evaluate test data - RMSE**"
   ]
  },
  {
   "cell_type": "code",
   "execution_count": 29,
   "metadata": {},
   "outputs": [
    {
     "name": "stdout",
     "output_type": "stream",
     "text": [
      "RMSE-output1: 10.24 \n",
      "RMSE-output2: 3.83\n"
     ]
    }
   ],
   "source": [
    "#calculate root mean squared error\n",
    "test_score1 = np.sqrt(mse(y_test_trans[0], y_pred_trans[0]))\n",
    "\n",
    "#calculate root mean squared error\n",
    "test_score2 = np.sqrt(mse(y_test_trans[1], y_pred_trans[1]))\n",
    "\n",
    "#print results\n",
    "print(f'RMSE-output1: {round(test_score1,2)} \\nRMSE-output2: {round(test_score2,2)}')\n"
   ]
  },
  {
   "cell_type": "code",
   "execution_count": 30,
   "metadata": {},
   "outputs": [
    {
     "data": {
      "text/plain": [
       "0.0202782079577446"
      ]
     },
     "execution_count": 30,
     "metadata": {},
     "output_type": "execute_result"
    }
   ],
   "source": [
    "#Fit the model on the whole dataset (including test set)\n",
    "history=model.fit(X,y, epochs=n_epochs, batch_size=10, verbose=0)\n",
    "final_loss = history.history['loss'][-1]\n",
    "final_loss"
   ]
  },
  {
   "cell_type": "code",
   "execution_count": 31,
   "metadata": {},
   "outputs": [
    {
     "data": {
      "text/plain": [
       "['lstm-model-multivariate-multioutput.pkl']"
      ]
     },
     "execution_count": 31,
     "metadata": {},
     "output_type": "execute_result"
    }
   ],
   "source": [
    "#Save the fitted model\n",
    "joblib.dump(model, 'lstm-model-multivariate-multioutput.pkl')"
   ]
  },
  {
   "cell_type": "markdown",
   "metadata": {},
   "source": [
    "## PART II - Predict beyond the test set"
   ]
  },
  {
   "cell_type": "markdown",
   "metadata": {},
   "source": [
    "**Create a matrix**"
   ]
  },
  {
   "cell_type": "code",
   "execution_count": 32,
   "metadata": {},
   "outputs": [
    {
     "data": {
      "text/plain": [
       "Timestamp('2023-03-01 00:00:00')"
      ]
     },
     "execution_count": 32,
     "metadata": {},
     "output_type": "execute_result"
    }
   ],
   "source": [
    "#get the last date item\n",
    "first_date=data_origin.index[-1] + pd.Timedelta(days=1)\n",
    "first_date"
   ]
  },
  {
   "cell_type": "code",
   "execution_count": 33,
   "metadata": {},
   "outputs": [
    {
     "data": {
      "text/html": [
       "<div>\n",
       "<style scoped>\n",
       "    .dataframe tbody tr th:only-of-type {\n",
       "        vertical-align: middle;\n",
       "    }\n",
       "\n",
       "    .dataframe tbody tr th {\n",
       "        vertical-align: top;\n",
       "    }\n",
       "\n",
       "    .dataframe thead th {\n",
       "        text-align: right;\n",
       "    }\n",
       "</style>\n",
       "<table border=\"1\" class=\"dataframe\">\n",
       "  <thead>\n",
       "    <tr style=\"text-align: right;\">\n",
       "      <th></th>\n",
       "      <th>item</th>\n",
       "      <th>profit</th>\n",
       "      <th>weekend</th>\n",
       "    </tr>\n",
       "    <tr>\n",
       "      <th>date</th>\n",
       "      <th></th>\n",
       "      <th></th>\n",
       "      <th></th>\n",
       "    </tr>\n",
       "  </thead>\n",
       "  <tbody>\n",
       "    <tr>\n",
       "      <th>2023-03-01</th>\n",
       "      <td>NaN</td>\n",
       "      <td>NaN</td>\n",
       "      <td>0</td>\n",
       "    </tr>\n",
       "    <tr>\n",
       "      <th>2023-03-02</th>\n",
       "      <td>NaN</td>\n",
       "      <td>NaN</td>\n",
       "      <td>0</td>\n",
       "    </tr>\n",
       "    <tr>\n",
       "      <th>2023-03-03</th>\n",
       "      <td>NaN</td>\n",
       "      <td>NaN</td>\n",
       "      <td>0</td>\n",
       "    </tr>\n",
       "    <tr>\n",
       "      <th>2023-03-04</th>\n",
       "      <td>NaN</td>\n",
       "      <td>NaN</td>\n",
       "      <td>1</td>\n",
       "    </tr>\n",
       "    <tr>\n",
       "      <th>2023-03-05</th>\n",
       "      <td>NaN</td>\n",
       "      <td>NaN</td>\n",
       "      <td>1</td>\n",
       "    </tr>\n",
       "    <tr>\n",
       "      <th>2023-03-06</th>\n",
       "      <td>NaN</td>\n",
       "      <td>NaN</td>\n",
       "      <td>0</td>\n",
       "    </tr>\n",
       "    <tr>\n",
       "      <th>2023-03-07</th>\n",
       "      <td>NaN</td>\n",
       "      <td>NaN</td>\n",
       "      <td>0</td>\n",
       "    </tr>\n",
       "    <tr>\n",
       "      <th>2023-03-08</th>\n",
       "      <td>NaN</td>\n",
       "      <td>NaN</td>\n",
       "      <td>0</td>\n",
       "    </tr>\n",
       "    <tr>\n",
       "      <th>2023-03-09</th>\n",
       "      <td>NaN</td>\n",
       "      <td>NaN</td>\n",
       "      <td>0</td>\n",
       "    </tr>\n",
       "    <tr>\n",
       "      <th>2023-03-10</th>\n",
       "      <td>NaN</td>\n",
       "      <td>NaN</td>\n",
       "      <td>0</td>\n",
       "    </tr>\n",
       "    <tr>\n",
       "      <th>2023-03-11</th>\n",
       "      <td>NaN</td>\n",
       "      <td>NaN</td>\n",
       "      <td>1</td>\n",
       "    </tr>\n",
       "    <tr>\n",
       "      <th>2023-03-12</th>\n",
       "      <td>NaN</td>\n",
       "      <td>NaN</td>\n",
       "      <td>1</td>\n",
       "    </tr>\n",
       "    <tr>\n",
       "      <th>2023-03-13</th>\n",
       "      <td>NaN</td>\n",
       "      <td>NaN</td>\n",
       "      <td>0</td>\n",
       "    </tr>\n",
       "    <tr>\n",
       "      <th>2023-03-14</th>\n",
       "      <td>NaN</td>\n",
       "      <td>NaN</td>\n",
       "      <td>0</td>\n",
       "    </tr>\n",
       "    <tr>\n",
       "      <th>2023-03-15</th>\n",
       "      <td>NaN</td>\n",
       "      <td>NaN</td>\n",
       "      <td>0</td>\n",
       "    </tr>\n",
       "    <tr>\n",
       "      <th>2023-03-16</th>\n",
       "      <td>NaN</td>\n",
       "      <td>NaN</td>\n",
       "      <td>0</td>\n",
       "    </tr>\n",
       "    <tr>\n",
       "      <th>2023-03-17</th>\n",
       "      <td>NaN</td>\n",
       "      <td>NaN</td>\n",
       "      <td>0</td>\n",
       "    </tr>\n",
       "    <tr>\n",
       "      <th>2023-03-18</th>\n",
       "      <td>NaN</td>\n",
       "      <td>NaN</td>\n",
       "      <td>1</td>\n",
       "    </tr>\n",
       "    <tr>\n",
       "      <th>2023-03-19</th>\n",
       "      <td>NaN</td>\n",
       "      <td>NaN</td>\n",
       "      <td>1</td>\n",
       "    </tr>\n",
       "    <tr>\n",
       "      <th>2023-03-20</th>\n",
       "      <td>NaN</td>\n",
       "      <td>NaN</td>\n",
       "      <td>0</td>\n",
       "    </tr>\n",
       "    <tr>\n",
       "      <th>2023-03-21</th>\n",
       "      <td>NaN</td>\n",
       "      <td>NaN</td>\n",
       "      <td>0</td>\n",
       "    </tr>\n",
       "    <tr>\n",
       "      <th>2023-03-22</th>\n",
       "      <td>NaN</td>\n",
       "      <td>NaN</td>\n",
       "      <td>0</td>\n",
       "    </tr>\n",
       "    <tr>\n",
       "      <th>2023-03-23</th>\n",
       "      <td>NaN</td>\n",
       "      <td>NaN</td>\n",
       "      <td>0</td>\n",
       "    </tr>\n",
       "    <tr>\n",
       "      <th>2023-03-24</th>\n",
       "      <td>NaN</td>\n",
       "      <td>NaN</td>\n",
       "      <td>0</td>\n",
       "    </tr>\n",
       "    <tr>\n",
       "      <th>2023-03-25</th>\n",
       "      <td>NaN</td>\n",
       "      <td>NaN</td>\n",
       "      <td>1</td>\n",
       "    </tr>\n",
       "    <tr>\n",
       "      <th>2023-03-26</th>\n",
       "      <td>NaN</td>\n",
       "      <td>NaN</td>\n",
       "      <td>1</td>\n",
       "    </tr>\n",
       "    <tr>\n",
       "      <th>2023-03-27</th>\n",
       "      <td>NaN</td>\n",
       "      <td>NaN</td>\n",
       "      <td>0</td>\n",
       "    </tr>\n",
       "    <tr>\n",
       "      <th>2023-03-28</th>\n",
       "      <td>NaN</td>\n",
       "      <td>NaN</td>\n",
       "      <td>0</td>\n",
       "    </tr>\n",
       "  </tbody>\n",
       "</table>\n",
       "</div>"
      ],
      "text/plain": [
       "            item  profit  weekend\n",
       "date                             \n",
       "2023-03-01   NaN     NaN        0\n",
       "2023-03-02   NaN     NaN        0\n",
       "2023-03-03   NaN     NaN        0\n",
       "2023-03-04   NaN     NaN        1\n",
       "2023-03-05   NaN     NaN        1\n",
       "2023-03-06   NaN     NaN        0\n",
       "2023-03-07   NaN     NaN        0\n",
       "2023-03-08   NaN     NaN        0\n",
       "2023-03-09   NaN     NaN        0\n",
       "2023-03-10   NaN     NaN        0\n",
       "2023-03-11   NaN     NaN        1\n",
       "2023-03-12   NaN     NaN        1\n",
       "2023-03-13   NaN     NaN        0\n",
       "2023-03-14   NaN     NaN        0\n",
       "2023-03-15   NaN     NaN        0\n",
       "2023-03-16   NaN     NaN        0\n",
       "2023-03-17   NaN     NaN        0\n",
       "2023-03-18   NaN     NaN        1\n",
       "2023-03-19   NaN     NaN        1\n",
       "2023-03-20   NaN     NaN        0\n",
       "2023-03-21   NaN     NaN        0\n",
       "2023-03-22   NaN     NaN        0\n",
       "2023-03-23   NaN     NaN        0\n",
       "2023-03-24   NaN     NaN        0\n",
       "2023-03-25   NaN     NaN        1\n",
       "2023-03-26   NaN     NaN        1\n",
       "2023-03-27   NaN     NaN        0\n",
       "2023-03-28   NaN     NaN        0"
      ]
     },
     "execution_count": 33,
     "metadata": {},
     "output_type": "execute_result"
    }
   ],
   "source": [
    "#get the future prediction\n",
    "df_future=pd.DataFrame({'date': pd.date_range(first_date,periods=future_size)})\n",
    "\n",
    "#add nan we will predict them\n",
    "df_future['item']=np.nan\n",
    "df_future['profit']=np.nan\n",
    "\n",
    "#add weekend column\n",
    "df_future['weekend']=df_future['date'].dt.weekday\n",
    "df_future['weekend']=df_future['weekend'].apply(lambda x: 1 if x in [5,6] else 0)\n",
    "df_future=df_future.set_index('date')\n",
    "\n",
    "df_future"
   ]
  },
  {
   "cell_type": "code",
   "execution_count": 34,
   "metadata": {},
   "outputs": [
    {
     "data": {
      "text/html": [
       "<div>\n",
       "<style scoped>\n",
       "    .dataframe tbody tr th:only-of-type {\n",
       "        vertical-align: middle;\n",
       "    }\n",
       "\n",
       "    .dataframe tbody tr th {\n",
       "        vertical-align: top;\n",
       "    }\n",
       "\n",
       "    .dataframe thead th {\n",
       "        text-align: right;\n",
       "    }\n",
       "</style>\n",
       "<table border=\"1\" class=\"dataframe\">\n",
       "  <thead>\n",
       "    <tr style=\"text-align: right;\">\n",
       "      <th></th>\n",
       "      <th>item</th>\n",
       "      <th>profit</th>\n",
       "      <th>weekend</th>\n",
       "    </tr>\n",
       "    <tr>\n",
       "      <th>date</th>\n",
       "      <th></th>\n",
       "      <th></th>\n",
       "      <th></th>\n",
       "    </tr>\n",
       "  </thead>\n",
       "  <tbody>\n",
       "    <tr>\n",
       "      <th>2023-02-19</th>\n",
       "      <td>0</td>\n",
       "      <td>0</td>\n",
       "      <td>1</td>\n",
       "    </tr>\n",
       "    <tr>\n",
       "      <th>2023-02-20</th>\n",
       "      <td>110</td>\n",
       "      <td>330</td>\n",
       "      <td>0</td>\n",
       "    </tr>\n",
       "    <tr>\n",
       "      <th>2023-02-21</th>\n",
       "      <td>112</td>\n",
       "      <td>336</td>\n",
       "      <td>0</td>\n",
       "    </tr>\n",
       "    <tr>\n",
       "      <th>2023-02-22</th>\n",
       "      <td>114</td>\n",
       "      <td>342</td>\n",
       "      <td>0</td>\n",
       "    </tr>\n",
       "    <tr>\n",
       "      <th>2023-02-23</th>\n",
       "      <td>116</td>\n",
       "      <td>348</td>\n",
       "      <td>0</td>\n",
       "    </tr>\n",
       "    <tr>\n",
       "      <th>2023-02-24</th>\n",
       "      <td>118</td>\n",
       "      <td>354</td>\n",
       "      <td>0</td>\n",
       "    </tr>\n",
       "    <tr>\n",
       "      <th>2023-02-25</th>\n",
       "      <td>0</td>\n",
       "      <td>0</td>\n",
       "      <td>1</td>\n",
       "    </tr>\n",
       "    <tr>\n",
       "      <th>2023-02-26</th>\n",
       "      <td>0</td>\n",
       "      <td>0</td>\n",
       "      <td>1</td>\n",
       "    </tr>\n",
       "    <tr>\n",
       "      <th>2023-02-27</th>\n",
       "      <td>124</td>\n",
       "      <td>372</td>\n",
       "      <td>0</td>\n",
       "    </tr>\n",
       "    <tr>\n",
       "      <th>2023-02-28</th>\n",
       "      <td>126</td>\n",
       "      <td>378</td>\n",
       "      <td>0</td>\n",
       "    </tr>\n",
       "  </tbody>\n",
       "</table>\n",
       "</div>"
      ],
      "text/plain": [
       "            item  profit  weekend\n",
       "date                             \n",
       "2023-02-19     0       0        1\n",
       "2023-02-20   110     330        0\n",
       "2023-02-21   112     336        0\n",
       "2023-02-22   114     342        0\n",
       "2023-02-23   116     348        0\n",
       "2023-02-24   118     354        0\n",
       "2023-02-25     0       0        1\n",
       "2023-02-26     0       0        1\n",
       "2023-02-27   124     372        0\n",
       "2023-02-28   126     378        0"
      ]
     },
     "execution_count": 34,
     "metadata": {},
     "output_type": "execute_result"
    }
   ],
   "source": [
    "#take data from the test set\n",
    "df_test=data_origin[-test_size:].copy()\n",
    "df_test"
   ]
  },
  {
   "cell_type": "code",
   "execution_count": 35,
   "metadata": {},
   "outputs": [
    {
     "data": {
      "text/html": [
       "<div>\n",
       "<style scoped>\n",
       "    .dataframe tbody tr th:only-of-type {\n",
       "        vertical-align: middle;\n",
       "    }\n",
       "\n",
       "    .dataframe tbody tr th {\n",
       "        vertical-align: top;\n",
       "    }\n",
       "\n",
       "    .dataframe thead th {\n",
       "        text-align: right;\n",
       "    }\n",
       "</style>\n",
       "<table border=\"1\" class=\"dataframe\">\n",
       "  <thead>\n",
       "    <tr style=\"text-align: right;\">\n",
       "      <th></th>\n",
       "      <th>item</th>\n",
       "      <th>profit</th>\n",
       "      <th>weekend</th>\n",
       "    </tr>\n",
       "    <tr>\n",
       "      <th>date</th>\n",
       "      <th></th>\n",
       "      <th></th>\n",
       "      <th></th>\n",
       "    </tr>\n",
       "  </thead>\n",
       "  <tbody>\n",
       "    <tr>\n",
       "      <th>2023-02-19</th>\n",
       "      <td>0.0</td>\n",
       "      <td>0.0</td>\n",
       "      <td>1</td>\n",
       "    </tr>\n",
       "    <tr>\n",
       "      <th>2023-02-20</th>\n",
       "      <td>110.0</td>\n",
       "      <td>330.0</td>\n",
       "      <td>0</td>\n",
       "    </tr>\n",
       "    <tr>\n",
       "      <th>2023-02-21</th>\n",
       "      <td>112.0</td>\n",
       "      <td>336.0</td>\n",
       "      <td>0</td>\n",
       "    </tr>\n",
       "    <tr>\n",
       "      <th>2023-02-22</th>\n",
       "      <td>114.0</td>\n",
       "      <td>342.0</td>\n",
       "      <td>0</td>\n",
       "    </tr>\n",
       "    <tr>\n",
       "      <th>2023-02-23</th>\n",
       "      <td>116.0</td>\n",
       "      <td>348.0</td>\n",
       "      <td>0</td>\n",
       "    </tr>\n",
       "    <tr>\n",
       "      <th>2023-02-24</th>\n",
       "      <td>118.0</td>\n",
       "      <td>354.0</td>\n",
       "      <td>0</td>\n",
       "    </tr>\n",
       "    <tr>\n",
       "      <th>2023-02-25</th>\n",
       "      <td>0.0</td>\n",
       "      <td>0.0</td>\n",
       "      <td>1</td>\n",
       "    </tr>\n",
       "    <tr>\n",
       "      <th>2023-02-26</th>\n",
       "      <td>0.0</td>\n",
       "      <td>0.0</td>\n",
       "      <td>1</td>\n",
       "    </tr>\n",
       "    <tr>\n",
       "      <th>2023-02-27</th>\n",
       "      <td>124.0</td>\n",
       "      <td>372.0</td>\n",
       "      <td>0</td>\n",
       "    </tr>\n",
       "    <tr>\n",
       "      <th>2023-02-28</th>\n",
       "      <td>126.0</td>\n",
       "      <td>378.0</td>\n",
       "      <td>0</td>\n",
       "    </tr>\n",
       "    <tr>\n",
       "      <th>2023-03-01</th>\n",
       "      <td>NaN</td>\n",
       "      <td>NaN</td>\n",
       "      <td>0</td>\n",
       "    </tr>\n",
       "    <tr>\n",
       "      <th>2023-03-02</th>\n",
       "      <td>NaN</td>\n",
       "      <td>NaN</td>\n",
       "      <td>0</td>\n",
       "    </tr>\n",
       "    <tr>\n",
       "      <th>2023-03-03</th>\n",
       "      <td>NaN</td>\n",
       "      <td>NaN</td>\n",
       "      <td>0</td>\n",
       "    </tr>\n",
       "    <tr>\n",
       "      <th>2023-03-04</th>\n",
       "      <td>NaN</td>\n",
       "      <td>NaN</td>\n",
       "      <td>1</td>\n",
       "    </tr>\n",
       "    <tr>\n",
       "      <th>2023-03-05</th>\n",
       "      <td>NaN</td>\n",
       "      <td>NaN</td>\n",
       "      <td>1</td>\n",
       "    </tr>\n",
       "    <tr>\n",
       "      <th>2023-03-06</th>\n",
       "      <td>NaN</td>\n",
       "      <td>NaN</td>\n",
       "      <td>0</td>\n",
       "    </tr>\n",
       "    <tr>\n",
       "      <th>2023-03-07</th>\n",
       "      <td>NaN</td>\n",
       "      <td>NaN</td>\n",
       "      <td>0</td>\n",
       "    </tr>\n",
       "    <tr>\n",
       "      <th>2023-03-08</th>\n",
       "      <td>NaN</td>\n",
       "      <td>NaN</td>\n",
       "      <td>0</td>\n",
       "    </tr>\n",
       "    <tr>\n",
       "      <th>2023-03-09</th>\n",
       "      <td>NaN</td>\n",
       "      <td>NaN</td>\n",
       "      <td>0</td>\n",
       "    </tr>\n",
       "    <tr>\n",
       "      <th>2023-03-10</th>\n",
       "      <td>NaN</td>\n",
       "      <td>NaN</td>\n",
       "      <td>0</td>\n",
       "    </tr>\n",
       "    <tr>\n",
       "      <th>2023-03-11</th>\n",
       "      <td>NaN</td>\n",
       "      <td>NaN</td>\n",
       "      <td>1</td>\n",
       "    </tr>\n",
       "    <tr>\n",
       "      <th>2023-03-12</th>\n",
       "      <td>NaN</td>\n",
       "      <td>NaN</td>\n",
       "      <td>1</td>\n",
       "    </tr>\n",
       "    <tr>\n",
       "      <th>2023-03-13</th>\n",
       "      <td>NaN</td>\n",
       "      <td>NaN</td>\n",
       "      <td>0</td>\n",
       "    </tr>\n",
       "    <tr>\n",
       "      <th>2023-03-14</th>\n",
       "      <td>NaN</td>\n",
       "      <td>NaN</td>\n",
       "      <td>0</td>\n",
       "    </tr>\n",
       "    <tr>\n",
       "      <th>2023-03-15</th>\n",
       "      <td>NaN</td>\n",
       "      <td>NaN</td>\n",
       "      <td>0</td>\n",
       "    </tr>\n",
       "    <tr>\n",
       "      <th>2023-03-16</th>\n",
       "      <td>NaN</td>\n",
       "      <td>NaN</td>\n",
       "      <td>0</td>\n",
       "    </tr>\n",
       "    <tr>\n",
       "      <th>2023-03-17</th>\n",
       "      <td>NaN</td>\n",
       "      <td>NaN</td>\n",
       "      <td>0</td>\n",
       "    </tr>\n",
       "    <tr>\n",
       "      <th>2023-03-18</th>\n",
       "      <td>NaN</td>\n",
       "      <td>NaN</td>\n",
       "      <td>1</td>\n",
       "    </tr>\n",
       "    <tr>\n",
       "      <th>2023-03-19</th>\n",
       "      <td>NaN</td>\n",
       "      <td>NaN</td>\n",
       "      <td>1</td>\n",
       "    </tr>\n",
       "    <tr>\n",
       "      <th>2023-03-20</th>\n",
       "      <td>NaN</td>\n",
       "      <td>NaN</td>\n",
       "      <td>0</td>\n",
       "    </tr>\n",
       "    <tr>\n",
       "      <th>2023-03-21</th>\n",
       "      <td>NaN</td>\n",
       "      <td>NaN</td>\n",
       "      <td>0</td>\n",
       "    </tr>\n",
       "    <tr>\n",
       "      <th>2023-03-22</th>\n",
       "      <td>NaN</td>\n",
       "      <td>NaN</td>\n",
       "      <td>0</td>\n",
       "    </tr>\n",
       "    <tr>\n",
       "      <th>2023-03-23</th>\n",
       "      <td>NaN</td>\n",
       "      <td>NaN</td>\n",
       "      <td>0</td>\n",
       "    </tr>\n",
       "    <tr>\n",
       "      <th>2023-03-24</th>\n",
       "      <td>NaN</td>\n",
       "      <td>NaN</td>\n",
       "      <td>0</td>\n",
       "    </tr>\n",
       "    <tr>\n",
       "      <th>2023-03-25</th>\n",
       "      <td>NaN</td>\n",
       "      <td>NaN</td>\n",
       "      <td>1</td>\n",
       "    </tr>\n",
       "    <tr>\n",
       "      <th>2023-03-26</th>\n",
       "      <td>NaN</td>\n",
       "      <td>NaN</td>\n",
       "      <td>1</td>\n",
       "    </tr>\n",
       "    <tr>\n",
       "      <th>2023-03-27</th>\n",
       "      <td>NaN</td>\n",
       "      <td>NaN</td>\n",
       "      <td>0</td>\n",
       "    </tr>\n",
       "    <tr>\n",
       "      <th>2023-03-28</th>\n",
       "      <td>NaN</td>\n",
       "      <td>NaN</td>\n",
       "      <td>0</td>\n",
       "    </tr>\n",
       "  </tbody>\n",
       "</table>\n",
       "</div>"
      ],
      "text/plain": [
       "             item  profit  weekend\n",
       "date                              \n",
       "2023-02-19    0.0     0.0        1\n",
       "2023-02-20  110.0   330.0        0\n",
       "2023-02-21  112.0   336.0        0\n",
       "2023-02-22  114.0   342.0        0\n",
       "2023-02-23  116.0   348.0        0\n",
       "2023-02-24  118.0   354.0        0\n",
       "2023-02-25    0.0     0.0        1\n",
       "2023-02-26    0.0     0.0        1\n",
       "2023-02-27  124.0   372.0        0\n",
       "2023-02-28  126.0   378.0        0\n",
       "2023-03-01    NaN     NaN        0\n",
       "2023-03-02    NaN     NaN        0\n",
       "2023-03-03    NaN     NaN        0\n",
       "2023-03-04    NaN     NaN        1\n",
       "2023-03-05    NaN     NaN        1\n",
       "2023-03-06    NaN     NaN        0\n",
       "2023-03-07    NaN     NaN        0\n",
       "2023-03-08    NaN     NaN        0\n",
       "2023-03-09    NaN     NaN        0\n",
       "2023-03-10    NaN     NaN        0\n",
       "2023-03-11    NaN     NaN        1\n",
       "2023-03-12    NaN     NaN        1\n",
       "2023-03-13    NaN     NaN        0\n",
       "2023-03-14    NaN     NaN        0\n",
       "2023-03-15    NaN     NaN        0\n",
       "2023-03-16    NaN     NaN        0\n",
       "2023-03-17    NaN     NaN        0\n",
       "2023-03-18    NaN     NaN        1\n",
       "2023-03-19    NaN     NaN        1\n",
       "2023-03-20    NaN     NaN        0\n",
       "2023-03-21    NaN     NaN        0\n",
       "2023-03-22    NaN     NaN        0\n",
       "2023-03-23    NaN     NaN        0\n",
       "2023-03-24    NaN     NaN        0\n",
       "2023-03-25    NaN     NaN        1\n",
       "2023-03-26    NaN     NaN        1\n",
       "2023-03-27    NaN     NaN        0\n",
       "2023-03-28    NaN     NaN        0"
      ]
     },
     "execution_count": 35,
     "metadata": {},
     "output_type": "execute_result"
    }
   ],
   "source": [
    "#merge the df\n",
    "df_prediction_final=pd.concat([df_test, df_future], axis=0)\n",
    "df_prediction_final"
   ]
  },
  {
   "cell_type": "code",
   "execution_count": 36,
   "metadata": {},
   "outputs": [],
   "source": [
    "#scale data and transform them into an array\n",
    "scaler = MinMaxScaler(feature_range = (0,1))\n",
    "df_prediction_final_scaled = scaler.fit_transform(df_prediction_final)"
   ]
  },
  {
   "cell_type": "code",
   "execution_count": 37,
   "metadata": {},
   "outputs": [
    {
     "data": {
      "text/plain": [
       "array([[0.        , 0.        , 1.        ],\n",
       "       [0.87301587, 0.87301587, 0.        ],\n",
       "       [0.88888889, 0.88888889, 0.        ],\n",
       "       [0.9047619 , 0.9047619 , 0.        ],\n",
       "       [0.92063492, 0.92063492, 0.        ],\n",
       "       [0.93650794, 0.93650794, 0.        ],\n",
       "       [0.        , 0.        , 1.        ],\n",
       "       [0.        , 0.        , 1.        ],\n",
       "       [0.98412698, 0.98412698, 0.        ],\n",
       "       [1.        , 1.        , 0.        ],\n",
       "       [       nan,        nan, 0.        ],\n",
       "       [       nan,        nan, 0.        ],\n",
       "       [       nan,        nan, 0.        ],\n",
       "       [       nan,        nan, 1.        ],\n",
       "       [       nan,        nan, 1.        ],\n",
       "       [       nan,        nan, 0.        ],\n",
       "       [       nan,        nan, 0.        ],\n",
       "       [       nan,        nan, 0.        ],\n",
       "       [       nan,        nan, 0.        ],\n",
       "       [       nan,        nan, 0.        ],\n",
       "       [       nan,        nan, 1.        ],\n",
       "       [       nan,        nan, 1.        ],\n",
       "       [       nan,        nan, 0.        ],\n",
       "       [       nan,        nan, 0.        ],\n",
       "       [       nan,        nan, 0.        ],\n",
       "       [       nan,        nan, 0.        ],\n",
       "       [       nan,        nan, 0.        ],\n",
       "       [       nan,        nan, 1.        ],\n",
       "       [       nan,        nan, 1.        ],\n",
       "       [       nan,        nan, 0.        ],\n",
       "       [       nan,        nan, 0.        ],\n",
       "       [       nan,        nan, 0.        ],\n",
       "       [       nan,        nan, 0.        ],\n",
       "       [       nan,        nan, 0.        ],\n",
       "       [       nan,        nan, 1.        ],\n",
       "       [       nan,        nan, 1.        ],\n",
       "       [       nan,        nan, 0.        ],\n",
       "       [       nan,        nan, 0.        ]])"
      ]
     },
     "execution_count": 37,
     "metadata": {},
     "output_type": "execute_result"
    }
   ],
   "source": [
    "#array BEFORE the prediction\n",
    "df_prediction_final_scaled "
   ]
  },
  {
   "cell_type": "code",
   "execution_count": 38,
   "metadata": {},
   "outputs": [
    {
     "data": {
      "text/plain": [
       "(38, 3)"
      ]
     },
     "execution_count": 38,
     "metadata": {},
     "output_type": "execute_result"
    }
   ],
   "source": [
    "df_prediction_final_scaled.shape"
   ]
  },
  {
   "cell_type": "code",
   "execution_count": 39,
   "metadata": {},
   "outputs": [],
   "source": [
    "#define the function for the prediction\n",
    "def predict_multivariate(array, lookback):\n",
    "    #results=[]\n",
    "    for i in range(len(array)-lookback):\n",
    "        \n",
    "        batch=[]\n",
    "        batch.append(array[i:i+lookback , :]) #number of columns\n",
    "        batch=np.array(batch)\n",
    "      \n",
    "        #predict one value\n",
    "        prediction=model.predict(batch, verbose=0)[0]\n",
    "        \n",
    "        #add to the prediction list\n",
    "        #results.append(prediction[-1]) #takes the last value as we set sequences\n",
    "\n",
    "        #replace nan in the array for next iterration\n",
    "        array[i+lookback, 0:n_outputs] = prediction[-1]\n",
    "        \n",
    "    return array[-future_size: , 0:n_outputs]"
   ]
  },
  {
   "cell_type": "code",
   "execution_count": 40,
   "metadata": {},
   "outputs": [],
   "source": [
    "#call the function and predict\n",
    "results=predict_multivariate(df_prediction_final_scaled, lookback)\n",
    "#results"
   ]
  },
  {
   "cell_type": "code",
   "execution_count": 41,
   "metadata": {},
   "outputs": [
    {
     "data": {
      "text/plain": [
       "array([[ 0.        ,  0.        ,  1.        ],\n",
       "       [ 0.87301587,  0.87301587,  0.        ],\n",
       "       [ 0.88888889,  0.88888889,  0.        ],\n",
       "       [ 0.9047619 ,  0.9047619 ,  0.        ],\n",
       "       [ 0.92063492,  0.92063492,  0.        ],\n",
       "       [ 0.93650794,  0.93650794,  0.        ],\n",
       "       [ 0.        ,  0.        ,  1.        ],\n",
       "       [ 0.        ,  0.        ,  1.        ],\n",
       "       [ 0.98412698,  0.98412698,  0.        ],\n",
       "       [ 1.        ,  1.        ,  0.        ],\n",
       "       [ 1.01800799,  1.01800823,  0.        ],\n",
       "       [ 1.03780818,  1.03779435,  0.        ],\n",
       "       [ 1.04360318,  1.04359722,  0.        ],\n",
       "       [-0.01497093, -0.01495084,  1.        ],\n",
       "       [-0.009011  , -0.00901461,  1.        ],\n",
       "       [ 1.09451318,  1.09452021,  0.        ],\n",
       "       [ 1.1124022 ,  1.11241305,  0.        ],\n",
       "       [ 1.12963367,  1.12963688,  0.        ],\n",
       "       [ 1.14364064,  1.14362741,  0.        ],\n",
       "       [ 1.13776064,  1.13775563,  0.        ],\n",
       "       [-0.02929771, -0.02926895,  1.        ],\n",
       "       [-0.01476786, -0.01476929,  1.        ],\n",
       "       [ 1.1878016 ,  1.18780267,  0.        ],\n",
       "       [ 1.21459758,  1.21461952,  0.        ],\n",
       "       [ 1.23734331,  1.2373538 ,  0.        ],\n",
       "       [ 1.24278021,  1.24277341,  0.        ],\n",
       "       [ 1.22050941,  1.22050822,  0.        ],\n",
       "       [-0.04214463, -0.04210684,  1.        ],\n",
       "       [-0.02223483, -0.02223286,  1.        ],\n",
       "       [ 1.2705847 ,  1.27058017,  0.        ],\n",
       "       [ 1.30883026,  1.30886662,  0.        ],\n",
       "       [ 1.33799839,  1.33801949,  0.        ],\n",
       "       [ 1.3317374 ,  1.33174276,  0.        ],\n",
       "       [ 1.2889055 ,  1.28890979,  0.        ],\n",
       "       [-0.05446282, -0.05441597,  1.        ],\n",
       "       [-0.03324518, -0.03323904,  1.        ],\n",
       "       [ 1.34335673,  1.34334779,  0.        ],\n",
       "       [ 1.394647  ,  1.39470077,  0.        ]])"
      ]
     },
     "execution_count": 41,
     "metadata": {},
     "output_type": "execute_result"
    }
   ],
   "source": [
    "#array AFTER the prediction\n",
    "df_prediction_final_scaled"
   ]
  },
  {
   "cell_type": "markdown",
   "metadata": {},
   "source": [
    "**Transform back**"
   ]
  },
  {
   "cell_type": "code",
   "execution_count": 42,
   "metadata": {},
   "outputs": [],
   "source": [
    "#call the function\n",
    "pokus=back_transform(results, n_features=n_features, n_outputs=n_outputs, array=False)"
   ]
  },
  {
   "cell_type": "markdown",
   "metadata": {},
   "source": [
    "**Add columns**"
   ]
  },
  {
   "cell_type": "code",
   "execution_count": 43,
   "metadata": {},
   "outputs": [
    {
     "data": {
      "text/html": [
       "<div>\n",
       "<style scoped>\n",
       "    .dataframe tbody tr th:only-of-type {\n",
       "        vertical-align: middle;\n",
       "    }\n",
       "\n",
       "    .dataframe tbody tr th {\n",
       "        vertical-align: top;\n",
       "    }\n",
       "\n",
       "    .dataframe thead th {\n",
       "        text-align: right;\n",
       "    }\n",
       "</style>\n",
       "<table border=\"1\" class=\"dataframe\">\n",
       "  <thead>\n",
       "    <tr style=\"text-align: right;\">\n",
       "      <th></th>\n",
       "      <th>pred1</th>\n",
       "      <th>pred2</th>\n",
       "    </tr>\n",
       "    <tr>\n",
       "      <th>date</th>\n",
       "      <th></th>\n",
       "      <th></th>\n",
       "    </tr>\n",
       "  </thead>\n",
       "  <tbody>\n",
       "    <tr>\n",
       "      <th>2023-03-01</th>\n",
       "      <td>128.269007</td>\n",
       "      <td>384.807022</td>\n",
       "    </tr>\n",
       "    <tr>\n",
       "      <th>2023-03-02</th>\n",
       "      <td>130.763831</td>\n",
       "      <td>392.291492</td>\n",
       "    </tr>\n",
       "    <tr>\n",
       "      <th>2023-03-03</th>\n",
       "      <td>131.494001</td>\n",
       "      <td>394.482003</td>\n",
       "    </tr>\n",
       "    <tr>\n",
       "      <th>2023-03-04</th>\n",
       "      <td>-1.886337</td>\n",
       "      <td>-5.659011</td>\n",
       "    </tr>\n",
       "    <tr>\n",
       "      <th>2023-03-05</th>\n",
       "      <td>-1.135386</td>\n",
       "      <td>-3.406158</td>\n",
       "    </tr>\n",
       "  </tbody>\n",
       "</table>\n",
       "</div>"
      ],
      "text/plain": [
       "                 pred1       pred2\n",
       "date                              \n",
       "2023-03-01  128.269007  384.807022\n",
       "2023-03-02  130.763831  392.291492\n",
       "2023-03-03  131.494001  394.482003\n",
       "2023-03-04   -1.886337   -5.659011\n",
       "2023-03-05   -1.135386   -3.406158"
      ]
     },
     "execution_count": 43,
     "metadata": {},
     "output_type": "execute_result"
    }
   ],
   "source": [
    "pokus['date']=pd.date_range(first_date, periods=future_size)\n",
    "\n",
    "pokus=pokus.set_index('date')\n",
    "\n",
    "pokus.head(5)\n"
   ]
  },
  {
   "cell_type": "code",
   "execution_count": 44,
   "metadata": {},
   "outputs": [
    {
     "data": {
      "text/html": [
       "<div>\n",
       "<style scoped>\n",
       "    .dataframe tbody tr th:only-of-type {\n",
       "        vertical-align: middle;\n",
       "    }\n",
       "\n",
       "    .dataframe tbody tr th {\n",
       "        vertical-align: top;\n",
       "    }\n",
       "\n",
       "    .dataframe thead th {\n",
       "        text-align: right;\n",
       "    }\n",
       "</style>\n",
       "<table border=\"1\" class=\"dataframe\">\n",
       "  <thead>\n",
       "    <tr style=\"text-align: right;\">\n",
       "      <th></th>\n",
       "      <th>item</th>\n",
       "      <th>profit</th>\n",
       "      <th>pred1</th>\n",
       "      <th>pred2</th>\n",
       "    </tr>\n",
       "    <tr>\n",
       "      <th>date</th>\n",
       "      <th></th>\n",
       "      <th></th>\n",
       "      <th></th>\n",
       "      <th></th>\n",
       "    </tr>\n",
       "  </thead>\n",
       "  <tbody>\n",
       "    <tr>\n",
       "      <th>2023-03-13</th>\n",
       "      <td>NaN</td>\n",
       "      <td>NaN</td>\n",
       "      <td>149.663002</td>\n",
       "      <td>448.989005</td>\n",
       "    </tr>\n",
       "    <tr>\n",
       "      <th>2023-03-14</th>\n",
       "      <td>NaN</td>\n",
       "      <td>NaN</td>\n",
       "      <td>153.039295</td>\n",
       "      <td>459.117886</td>\n",
       "    </tr>\n",
       "    <tr>\n",
       "      <th>2023-03-15</th>\n",
       "      <td>NaN</td>\n",
       "      <td>NaN</td>\n",
       "      <td>155.905257</td>\n",
       "      <td>467.715772</td>\n",
       "    </tr>\n",
       "    <tr>\n",
       "      <th>2023-03-16</th>\n",
       "      <td>NaN</td>\n",
       "      <td>NaN</td>\n",
       "      <td>156.590306</td>\n",
       "      <td>469.770919</td>\n",
       "    </tr>\n",
       "    <tr>\n",
       "      <th>2023-03-17</th>\n",
       "      <td>NaN</td>\n",
       "      <td>NaN</td>\n",
       "      <td>153.784186</td>\n",
       "      <td>461.352557</td>\n",
       "    </tr>\n",
       "    <tr>\n",
       "      <th>2023-03-18</th>\n",
       "      <td>NaN</td>\n",
       "      <td>NaN</td>\n",
       "      <td>-5.310223</td>\n",
       "      <td>-15.930669</td>\n",
       "    </tr>\n",
       "    <tr>\n",
       "      <th>2023-03-19</th>\n",
       "      <td>NaN</td>\n",
       "      <td>NaN</td>\n",
       "      <td>-2.801588</td>\n",
       "      <td>-8.404765</td>\n",
       "    </tr>\n",
       "    <tr>\n",
       "      <th>2023-03-20</th>\n",
       "      <td>NaN</td>\n",
       "      <td>NaN</td>\n",
       "      <td>160.093673</td>\n",
       "      <td>480.281018</td>\n",
       "    </tr>\n",
       "    <tr>\n",
       "      <th>2023-03-21</th>\n",
       "      <td>NaN</td>\n",
       "      <td>NaN</td>\n",
       "      <td>164.912613</td>\n",
       "      <td>494.737839</td>\n",
       "    </tr>\n",
       "    <tr>\n",
       "      <th>2023-03-22</th>\n",
       "      <td>NaN</td>\n",
       "      <td>NaN</td>\n",
       "      <td>168.587797</td>\n",
       "      <td>505.763391</td>\n",
       "    </tr>\n",
       "    <tr>\n",
       "      <th>2023-03-23</th>\n",
       "      <td>NaN</td>\n",
       "      <td>NaN</td>\n",
       "      <td>167.798912</td>\n",
       "      <td>503.396737</td>\n",
       "    </tr>\n",
       "    <tr>\n",
       "      <th>2023-03-24</th>\n",
       "      <td>NaN</td>\n",
       "      <td>NaN</td>\n",
       "      <td>162.402093</td>\n",
       "      <td>487.206280</td>\n",
       "    </tr>\n",
       "    <tr>\n",
       "      <th>2023-03-25</th>\n",
       "      <td>NaN</td>\n",
       "      <td>NaN</td>\n",
       "      <td>-6.862315</td>\n",
       "      <td>-20.586946</td>\n",
       "    </tr>\n",
       "    <tr>\n",
       "      <th>2023-03-26</th>\n",
       "      <td>NaN</td>\n",
       "      <td>NaN</td>\n",
       "      <td>-4.188892</td>\n",
       "      <td>-12.566677</td>\n",
       "    </tr>\n",
       "    <tr>\n",
       "      <th>2023-03-27</th>\n",
       "      <td>NaN</td>\n",
       "      <td>NaN</td>\n",
       "      <td>169.262948</td>\n",
       "      <td>507.788843</td>\n",
       "    </tr>\n",
       "    <tr>\n",
       "      <th>2023-03-28</th>\n",
       "      <td>NaN</td>\n",
       "      <td>NaN</td>\n",
       "      <td>175.725522</td>\n",
       "      <td>527.176567</td>\n",
       "    </tr>\n",
       "  </tbody>\n",
       "</table>\n",
       "</div>"
      ],
      "text/plain": [
       "            item  profit       pred1       pred2\n",
       "date                                            \n",
       "2023-03-13   NaN     NaN  149.663002  448.989005\n",
       "2023-03-14   NaN     NaN  153.039295  459.117886\n",
       "2023-03-15   NaN     NaN  155.905257  467.715772\n",
       "2023-03-16   NaN     NaN  156.590306  469.770919\n",
       "2023-03-17   NaN     NaN  153.784186  461.352557\n",
       "2023-03-18   NaN     NaN   -5.310223  -15.930669\n",
       "2023-03-19   NaN     NaN   -2.801588   -8.404765\n",
       "2023-03-20   NaN     NaN  160.093673  480.281018\n",
       "2023-03-21   NaN     NaN  164.912613  494.737839\n",
       "2023-03-22   NaN     NaN  168.587797  505.763391\n",
       "2023-03-23   NaN     NaN  167.798912  503.396737\n",
       "2023-03-24   NaN     NaN  162.402093  487.206280\n",
       "2023-03-25   NaN     NaN   -6.862315  -20.586946\n",
       "2023-03-26   NaN     NaN   -4.188892  -12.566677\n",
       "2023-03-27   NaN     NaN  169.262948  507.788843\n",
       "2023-03-28   NaN     NaN  175.725522  527.176567"
      ]
     },
     "execution_count": 44,
     "metadata": {},
     "output_type": "execute_result"
    }
   ],
   "source": [
    "df_prediction=pd.concat([data_origin[['item','profit']], pokus], axis=1)\n",
    "#df_prediction.rename(columns={'item': 'true'}, inplace=True)\n",
    "df_prediction.tail(16)"
   ]
  },
  {
   "cell_type": "markdown",
   "metadata": {},
   "source": [
    "**Plot**"
   ]
  },
  {
   "cell_type": "code",
   "execution_count": 45,
   "metadata": {},
   "outputs": [
    {
     "data": {
      "image/png": "[encoded data removed]",
      "text/plain": [
       "<Figure size 1000x500 with 1 Axes>"
      ]
     },
     "metadata": {},
     "output_type": "display_data"
    }
   ],
   "source": [
    "#Plot a chart\n",
    "df_prediction[['item', 'profit', 'pred1', 'pred2']].plot(figsize=(10, 5), marker='o')\n",
    "plt.grid(True)\n",
    "plt.show()"
   ]
  }
 ],
 "metadata": {
  "kernelspec": {
   "display_name": "Python 3",
   "language": "python",
   "name": "python3"
  },
  "language_info": {
   "codemirror_mode": {
    "name": "ipython",
    "version": 3
   },
   "file_extension": ".py",
   "mimetype": "text/x-python",
   "name": "python",
   "nbconvert_exporter": "python",
   "pygments_lexer": "ipython3",
   "version": "3.10.10"
  }
 },
 "nbformat": 4,
 "nbformat_minor": 2
}
