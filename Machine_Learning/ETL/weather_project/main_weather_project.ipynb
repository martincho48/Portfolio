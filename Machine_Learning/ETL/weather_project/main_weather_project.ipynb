{
 "cells": [
  {
   "cell_type": "markdown",
   "metadata": {},
   "source": [
    "**Get data from WEB**"
   ]
  },
  {
   "cell_type": "code",
   "execution_count": 10,
   "metadata": {},
   "outputs": [],
   "source": [
    "import requests\n",
    "import pandas as pd\n",
    "from datetime import datetime\n",
    "\n",
    "#Replace these with the coordinates for Prague and your actual API key\n",
    "#Prague coordinates\n",
    "latitude = 50.0755\n",
    "longitude = 14.4378\n",
    "\n",
    "#Get the current date and time\n",
    "current_date_time = datetime.now()\n",
    "\n",
    "#Extract the current date\n",
    "current_date = current_date_time.date()\n",
    "\n",
    "\n",
    "\n",
    "endpoint = 'https://archive-api.open-meteo.com/v1/era5'\n",
    "\n",
    "#Specify the start and end dates for the historical data\n",
    "start_date = '2021-01-01'\n",
    "end_date = current_date\n",
    "\n",
    "#Specify the variable you want to retrieve (e.g., temperature_2m)\n",
    "variable = 'temperature_2m'\n",
    "\n",
    "#Construct the API request URL with parameters\n",
    "url = f'{endpoint}?latitude={latitude}&longitude={longitude}&start_date={start_date}&end_date={end_date}&hourly={variable}'\n",
    "\n",
    "#Make the API request\n",
    "response = requests.get(url)\n",
    "\n",
    "#Check if the request was successful (status code 200)\n",
    "if response.status_code == 200:\n",
    "    data = response.json()\n",
    "    \n",
    "    #Access the hourly data from JSON\n",
    "    hourly_data = data.get('hourly', {})\n",
    "\n",
    "    #Access the time and temperature from JSON\n",
    "    time = hourly_data.get('time', [])\n",
    "    temperature_2m = hourly_data.get(variable, [])\n",
    "\n",
    "    #Create a DataFrame and save only 2 columns\n",
    "    df=pd.DataFrame(zip(time, temperature_2m), columns=['date', 'temperature'])\n",
    "    \n",
    "else:\n",
    "    print(f'Error: {response.status_code}, {response.text}')\n"
   ]
  },
  {
   "cell_type": "markdown",
   "metadata": {},
   "source": [
    "**Save file in GCP**"
   ]
  },
  {
   "cell_type": "code",
   "execution_count": 11,
   "metadata": {},
   "outputs": [
    {
     "name": "stdout",
     "output_type": "stream",
     "text": [
      "Data saved to GCS bucket: gs://project-inputs/data_2023-12-06_21-11-05.csv\n"
     ]
    }
   ],
   "source": [
    "from datetime import datetime\n",
    "import pandas as pd\n",
    "import os\n",
    "from google.cloud import storage\n",
    "from dotenv import load_dotenv\n",
    "\n",
    "#Load environment variables from .env file\n",
    "load_dotenv()\n",
    "\n",
    "#Get environment variables from .env file\n",
    "keyfile_path = os.environ.get(\"GOOGLE_APPLICATION_CREDENTIALS\")\n",
    "project_id = os.environ.get(\"GOOGLE_CLOUD_PROJECT\")\n",
    "\n",
    "#Define the GCP bucket\n",
    "client = storage.Client.from_service_account_json(keyfile_path)\n",
    "bucket_name = \"project-inputs\"\n",
    "bucket = client.get_bucket(bucket_name)\n",
    "\n",
    "# Get current date and time\n",
    "current_datetime = datetime.now()\n",
    "formatted_datetime = current_datetime.strftime(\"%Y-%m-%d_%H-%M-%S\")\n",
    "file_name = \"data_\" + formatted_datetime + \".csv\"\n",
    "\n",
    "#Save data into csv\n",
    "csv_data=df.to_csv(index=False)\n",
    "\n",
    "#export csv into a bucket\n",
    "blob = bucket.blob(file_name)\n",
    "blob.upload_from_string(csv_data)\n",
    "\n",
    "#get confirmation\n",
    "print(f'Data saved to GCS bucket: gs://{bucket_name}/{file_name}')"
   ]
  },
  {
   "cell_type": "markdown",
   "metadata": {},
   "source": [
    "**Clean data**"
   ]
  },
  {
   "cell_type": "code",
   "execution_count": 12,
   "metadata": {},
   "outputs": [
    {
     "data": {
      "text/html": [
       "<div>\n",
       "<style scoped>\n",
       "    .dataframe tbody tr th:only-of-type {\n",
       "        vertical-align: middle;\n",
       "    }\n",
       "\n",
       "    .dataframe tbody tr th {\n",
       "        vertical-align: top;\n",
       "    }\n",
       "\n",
       "    .dataframe thead th {\n",
       "        text-align: right;\n",
       "    }\n",
       "</style>\n",
       "<table border=\"1\" class=\"dataframe\">\n",
       "  <thead>\n",
       "    <tr style=\"text-align: right;\">\n",
       "      <th></th>\n",
       "      <th>date</th>\n",
       "      <th>temperature</th>\n",
       "    </tr>\n",
       "  </thead>\n",
       "  <tbody>\n",
       "    <tr>\n",
       "      <th>0</th>\n",
       "      <td>2021-01-01T00:00</td>\n",
       "      <td>-2.5</td>\n",
       "    </tr>\n",
       "    <tr>\n",
       "      <th>1</th>\n",
       "      <td>2021-01-01T01:00</td>\n",
       "      <td>-2.1</td>\n",
       "    </tr>\n",
       "    <tr>\n",
       "      <th>2</th>\n",
       "      <td>2021-01-01T02:00</td>\n",
       "      <td>-1.6</td>\n",
       "    </tr>\n",
       "    <tr>\n",
       "      <th>3</th>\n",
       "      <td>2021-01-01T03:00</td>\n",
       "      <td>-1.6</td>\n",
       "    </tr>\n",
       "    <tr>\n",
       "      <th>4</th>\n",
       "      <td>2021-01-01T04:00</td>\n",
       "      <td>-3.1</td>\n",
       "    </tr>\n",
       "  </tbody>\n",
       "</table>\n",
       "</div>"
      ],
      "text/plain": [
       "               date  temperature\n",
       "0  2021-01-01T00:00         -2.5\n",
       "1  2021-01-01T01:00         -2.1\n",
       "2  2021-01-01T02:00         -1.6\n",
       "3  2021-01-01T03:00         -1.6\n",
       "4  2021-01-01T04:00         -3.1"
      ]
     },
     "execution_count": 12,
     "metadata": {},
     "output_type": "execute_result"
    }
   ],
   "source": [
    "df.head(5)"
   ]
  },
  {
   "cell_type": "code",
   "execution_count": 13,
   "metadata": {},
   "outputs": [
    {
     "data": {
      "text/html": [
       "<div>\n",
       "<style scoped>\n",
       "    .dataframe tbody tr th:only-of-type {\n",
       "        vertical-align: middle;\n",
       "    }\n",
       "\n",
       "    .dataframe tbody tr th {\n",
       "        vertical-align: top;\n",
       "    }\n",
       "\n",
       "    .dataframe thead th {\n",
       "        text-align: right;\n",
       "    }\n",
       "</style>\n",
       "<table border=\"1\" class=\"dataframe\">\n",
       "  <thead>\n",
       "    <tr style=\"text-align: right;\">\n",
       "      <th></th>\n",
       "      <th>date</th>\n",
       "      <th>temperature</th>\n",
       "    </tr>\n",
       "  </thead>\n",
       "  <tbody>\n",
       "    <tr>\n",
       "      <th>0</th>\n",
       "      <td>2021-01-01 00:00:00</td>\n",
       "      <td>-2.5</td>\n",
       "    </tr>\n",
       "    <tr>\n",
       "      <th>1</th>\n",
       "      <td>2021-01-01 01:00:00</td>\n",
       "      <td>-2.1</td>\n",
       "    </tr>\n",
       "    <tr>\n",
       "      <th>2</th>\n",
       "      <td>2021-01-01 02:00:00</td>\n",
       "      <td>-1.6</td>\n",
       "    </tr>\n",
       "    <tr>\n",
       "      <th>3</th>\n",
       "      <td>2021-01-01 03:00:00</td>\n",
       "      <td>-1.6</td>\n",
       "    </tr>\n",
       "    <tr>\n",
       "      <th>4</th>\n",
       "      <td>2021-01-01 04:00:00</td>\n",
       "      <td>-3.1</td>\n",
       "    </tr>\n",
       "  </tbody>\n",
       "</table>\n",
       "</div>"
      ],
      "text/plain": [
       "                 date  temperature\n",
       "0 2021-01-01 00:00:00         -2.5\n",
       "1 2021-01-01 01:00:00         -2.1\n",
       "2 2021-01-01 02:00:00         -1.6\n",
       "3 2021-01-01 03:00:00         -1.6\n",
       "4 2021-01-01 04:00:00         -3.1"
      ]
     },
     "execution_count": 13,
     "metadata": {},
     "output_type": "execute_result"
    }
   ],
   "source": [
    "#convert the column into a datetime\n",
    "df['date'] = pd.to_datetime(df['date'])\n",
    "df.head(5)"
   ]
  },
  {
   "cell_type": "code",
   "execution_count": 9,
   "metadata": {},
   "outputs": [
    {
     "data": {
      "text/plain": [
       "(8760, 2)"
      ]
     },
     "execution_count": 9,
     "metadata": {},
     "output_type": "execute_result"
    }
   ],
   "source": [
    "df.shape"
   ]
  },
  {
   "cell_type": "markdown",
   "metadata": {},
   "source": [
    "**Save data into Postgres database**"
   ]
  },
  {
   "cell_type": "code",
   "execution_count": null,
   "metadata": {},
   "outputs": [],
   "source": [
    "import os\n",
    "import psycopg2 #PosgreSQL adapter for Python\n",
    "from dotenv import load_dotenv #loads .env file = connects with the database\n",
    "\n",
    "\n",
    "#set up connection with the database\n",
    "url=os.getenv(\"DATABASE_URL\")\n",
    "connection=psycopg2.connect(url)\n",
    "\n",
    "#create a table 'rooms' if it doesn't exist with 2 columns \n",
    "CREATE_ROOMS_TABLE=(\n",
    "    \"\"\"CREATE TABLE IF NOT EXISTS data (\n",
    "        id SERIAL PRIMARY KEY, \n",
    "        name TEXT\n",
    "    );\"\"\"\n",
    ")\n",
    "\n",
    "\n",
    "INSERT_ROOM_RETURN_ID=\"INSERT INTO rooms(name) VALUES (%s) RETURNING id;\"\n",
    "\n",
    "INSERT_TEMP=\"INSERT INTO temperatures(room_id, temperature, date) VALUES (%s, %s, %s);\"\n",
    "\n",
    "\n"
   ]
  }
 ],
 "metadata": {
  "kernelspec": {
   "display_name": "venv_xetra-vUSW0G9M",
   "language": "python",
   "name": "python3"
  },
  "language_info": {
   "codemirror_mode": {
    "name": "ipython",
    "version": 3
   },
   "file_extension": ".py",
   "mimetype": "text/x-python",
   "name": "python",
   "nbconvert_exporter": "python",
   "pygments_lexer": "ipython3",
   "version": "3.10.10"
  }
 },
 "nbformat": 4,
 "nbformat_minor": 2
}
