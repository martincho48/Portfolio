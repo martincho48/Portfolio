{
 "cells": [
  {
   "cell_type": "code",
   "execution_count": 58,
   "metadata": {},
   "outputs": [],
   "source": [
    "#https://www.kaggle.com/code/ursmaheshj/creating-dataset-using-tmdb-api\n",
    "#https://www.kaggle.com/competitions/tmdb-box-office-prediction/overview\n",
    "#https://www.kaggle.com/competitions/movie-votes-prediction/overview"
   ]
  },
  {
   "cell_type": "code",
   "execution_count": 59,
   "metadata": {},
   "outputs": [],
   "source": [
    "import requests\n",
    "from dotenv import load_dotenv\n",
    "import os\n",
    "import pandas as pd\n",
    "\n",
    "from time import sleep\n",
    "\n",
    "from datetime import datetime\n",
    "\n",
    "from pathlib import Path"
   ]
  },
  {
   "cell_type": "markdown",
   "metadata": {},
   "source": [
    "# Extract"
   ]
  },
  {
   "cell_type": "markdown",
   "metadata": {},
   "source": [
    "### Define API functions"
   ]
  },
  {
   "cell_type": "code",
   "execution_count": 60,
   "metadata": {},
   "outputs": [],
   "source": [
    "def api_upcoming(token, page):\n",
    "\n",
    "    # Define the path for env is it is in subfolder\n",
    "    dotenv_path = Path('env/.env')\n",
    "    load_dotenv(dotenv_path=dotenv_path)\n",
    "\n",
    "    # Get the credit_id and api_key from environment variables\n",
    "    bearer_token = os.getenv(token)\n",
    "\n",
    "\n",
    "    headers = {\n",
    "        \"accept\": \"application/json\",\n",
    "        \"Authorization\": f\"Bearer {bearer_token}\"\n",
    "    }\n",
    "\n",
    "    params = {\n",
    "        'language': 'en-US',\n",
    "        #'append_to_response': 'credits',\n",
    "        #'primary_release_date.gte':start_date,\n",
    "        #'primary_release_date.lte': end_date,\n",
    "        'page' : page\n",
    "        }\n",
    "\n",
    "    url = 'https://api.themoviedb.org/3/movie/upcoming'\n",
    "\n",
    "    response = requests.get(url, headers=headers, params=params)\n",
    "\n",
    "    return response\n",
    "    "
   ]
  },
  {
   "cell_type": "code",
   "execution_count": 61,
   "metadata": {},
   "outputs": [],
   "source": [
    "def api_credits(film_id, key):\n",
    "\n",
    "    # Define the path for env is it is in subfolder\n",
    "    dotenv_path = Path('env/.env')\n",
    "    load_dotenv(dotenv_path=dotenv_path)\n",
    "\n",
    "    # Get the credit_id and api_key from environment variables\n",
    "    api_key = os.getenv(key)\n",
    "\n",
    "    url = f'https://api.themoviedb.org/3/movie/{film_id}?api_key={api_key}&append_to_response=credits'\n",
    "\n",
    "    response = requests.get(url)\n",
    "\n",
    "    return response"
   ]
  },
  {
   "cell_type": "markdown",
   "metadata": {},
   "source": [
    "### Get upcoming films"
   ]
  },
  {
   "cell_type": "code",
   "execution_count": 62,
   "metadata": {},
   "outputs": [],
   "source": [
    "# We will first create an empty dataframe to store all the movie detail\n",
    "df_upcoming = pd.DataFrame()\n",
    "\n",
    "page_counter = 1\n",
    "\n",
    "while True:\n",
    "\n",
    "        response = api_upcoming(        token='BEARER_TOKEN', \n",
    "                                        page=page_counter\n",
    "                                        )\n",
    "        \n",
    "\n",
    "        temporary_df = pd.DataFrame(response.json()['results'])\n",
    "\n",
    "        if not temporary_df.empty:\n",
    "                df_upcoming = pd.concat([df_upcoming, temporary_df],ignore_index=True)\n",
    "       \n",
    "        else:\n",
    "                break\n",
    "\n",
    "        # Increment the page number and sleep counter\n",
    "        page_counter += 1\n",
    "        \n",
    "        # Sleep after every certain number of iterations\n",
    "        if page_counter%40==0: sleep(1)"
   ]
  },
  {
   "cell_type": "code",
   "execution_count": 63,
   "metadata": {},
   "outputs": [
    {
     "data": {
      "text/html": [
       "<div>\n",
       "<style scoped>\n",
       "    .dataframe tbody tr th:only-of-type {\n",
       "        vertical-align: middle;\n",
       "    }\n",
       "\n",
       "    .dataframe tbody tr th {\n",
       "        vertical-align: top;\n",
       "    }\n",
       "\n",
       "    .dataframe thead th {\n",
       "        text-align: right;\n",
       "    }\n",
       "</style>\n",
       "<table border=\"1\" class=\"dataframe\">\n",
       "  <thead>\n",
       "    <tr style=\"text-align: right;\">\n",
       "      <th></th>\n",
       "      <th>adult</th>\n",
       "      <th>backdrop_path</th>\n",
       "      <th>genre_ids</th>\n",
       "      <th>id</th>\n",
       "      <th>original_language</th>\n",
       "      <th>original_title</th>\n",
       "      <th>overview</th>\n",
       "      <th>popularity</th>\n",
       "      <th>poster_path</th>\n",
       "      <th>release_date</th>\n",
       "      <th>title</th>\n",
       "      <th>video</th>\n",
       "      <th>vote_average</th>\n",
       "      <th>vote_count</th>\n",
       "    </tr>\n",
       "  </thead>\n",
       "  <tbody>\n",
       "    <tr>\n",
       "      <th>0</th>\n",
       "      <td>False</td>\n",
       "      <td>/z121dSTR7PY9KxKuvwiIFSYW8cf.jpg</td>\n",
       "      <td>[10752, 28, 18]</td>\n",
       "      <td>929590</td>\n",
       "      <td>en</td>\n",
       "      <td>Civil War</td>\n",
       "      <td>In the near future, a group of war journalists...</td>\n",
       "      <td>2909.036</td>\n",
       "      <td>/sh7Rg8Er3tFcN9BpKIPOMvALgZd.jpg</td>\n",
       "      <td>2024-04-10</td>\n",
       "      <td>Civil War</td>\n",
       "      <td>False</td>\n",
       "      <td>7.2</td>\n",
       "      <td>1095</td>\n",
       "    </tr>\n",
       "  </tbody>\n",
       "</table>\n",
       "</div>"
      ],
      "text/plain": [
       "   adult                     backdrop_path        genre_ids      id  \\\n",
       "0  False  /z121dSTR7PY9KxKuvwiIFSYW8cf.jpg  [10752, 28, 18]  929590   \n",
       "\n",
       "  original_language original_title  \\\n",
       "0                en      Civil War   \n",
       "\n",
       "                                            overview  popularity  \\\n",
       "0  In the near future, a group of war journalists...    2909.036   \n",
       "\n",
       "                        poster_path release_date      title  video  \\\n",
       "0  /sh7Rg8Er3tFcN9BpKIPOMvALgZd.jpg   2024-04-10  Civil War  False   \n",
       "\n",
       "   vote_average  vote_count  \n",
       "0           7.2        1095  "
      ]
     },
     "execution_count": 63,
     "metadata": {},
     "output_type": "execute_result"
    }
   ],
   "source": [
    "df_upcoming.head(1)"
   ]
  },
  {
   "cell_type": "code",
   "execution_count": 64,
   "metadata": {},
   "outputs": [
    {
     "data": {
      "text/plain": [
       "(1107, 14)"
      ]
     },
     "execution_count": 64,
     "metadata": {},
     "output_type": "execute_result"
    }
   ],
   "source": [
    "df_upcoming.shape"
   ]
  },
  {
   "cell_type": "code",
   "execution_count": 65,
   "metadata": {},
   "outputs": [],
   "source": [
    "df_upcoming.to_csv('output/df_upcoming.csv')"
   ]
  },
  {
   "cell_type": "markdown",
   "metadata": {},
   "source": [
    "### Get credits"
   ]
  },
  {
   "cell_type": "code",
   "execution_count": 66,
   "metadata": {},
   "outputs": [],
   "source": [
    "# Creating an empty database with required columns\n",
    "df_credits = pd.DataFrame(columns=['id',\n",
    "                                   'budget',\n",
    "                                   'production_companies', \n",
    "                                   'production_countries',\n",
    "                                   'revenue', \n",
    "                                   'spoken_languages', \n",
    "                                   'genres', \n",
    "                                   'runtime',\n",
    "                                   'tagline',\n",
    "                                   \n",
    "                                   'crew-name', \n",
    "                                   'crew-job', \n",
    "                                   'cast-name'\n",
    "                                   ])\n",
    "\n",
    "counter_to_sleep=1\n",
    "\n",
    "# Start the loop\n",
    "for item in df_upcoming.id.values:\n",
    "\n",
    "#list_crew = [762441]\n",
    "#for item in list_crew:\n",
    "\n",
    "    response = api_credits(     film_id=item,\n",
    "                                key='API_KEY'\n",
    "                        )\n",
    "\n",
    "    data = response.json()\n",
    "    new_row = {\n",
    "                        'id' : item,\n",
    "                        'budget' : data['budget'],\n",
    "                        'production_companies' : [i.get('name') for i in data['production_companies']],\n",
    "                        'production_countries' : [i.get('name') for i in data['production_countries']],\n",
    "                        'spoken_languages' : [i.get('english_name') for i in data['spoken_languages']],\n",
    "                        'genres' : [i.get('name') for i in data['genres']],\n",
    "                        'revenue' : data['revenue'],\n",
    "                        'runtime' : data['runtime'],\n",
    "                        'tagline' : data['tagline'],\n",
    "\n",
    "                        'crew-name' :[i.get('name') for i in data['credits']['crew']],\n",
    "                        'crew-job' :[i.get('job') for i in data['credits']['crew']],\n",
    "                        'cast-name' :[i.get('name') for i in data['credits']['cast']]\n",
    "                        }\n",
    "\n",
    "    df_credits.loc[len(df_credits)] = new_row\n",
    "\n",
    "\n",
    "    counter_to_sleep+=1\n",
    "        \n",
    "    # Sleep after every certain number of iterations\n",
    "    if counter_to_sleep%40==0: sleep(1)\n",
    "\n",
    "    df_credits"
   ]
  },
  {
   "cell_type": "code",
   "execution_count": 67,
   "metadata": {},
   "outputs": [
    {
     "data": {
      "text/html": [
       "<div>\n",
       "<style scoped>\n",
       "    .dataframe tbody tr th:only-of-type {\n",
       "        vertical-align: middle;\n",
       "    }\n",
       "\n",
       "    .dataframe tbody tr th {\n",
       "        vertical-align: top;\n",
       "    }\n",
       "\n",
       "    .dataframe thead th {\n",
       "        text-align: right;\n",
       "    }\n",
       "</style>\n",
       "<table border=\"1\" class=\"dataframe\">\n",
       "  <thead>\n",
       "    <tr style=\"text-align: right;\">\n",
       "      <th></th>\n",
       "      <th>id</th>\n",
       "      <th>budget</th>\n",
       "      <th>production_companies</th>\n",
       "      <th>production_countries</th>\n",
       "      <th>revenue</th>\n",
       "      <th>spoken_languages</th>\n",
       "      <th>genres</th>\n",
       "      <th>runtime</th>\n",
       "      <th>tagline</th>\n",
       "      <th>id</th>\n",
       "      <th>crew-name</th>\n",
       "      <th>crew-job</th>\n",
       "      <th>cast-name</th>\n",
       "    </tr>\n",
       "  </thead>\n",
       "  <tbody>\n",
       "    <tr>\n",
       "      <th>0</th>\n",
       "      <td>929590</td>\n",
       "      <td>50000000</td>\n",
       "      <td>[DNA Films, IPR.VC, A24]</td>\n",
       "      <td>[Finland, United Kingdom, United States of Ame...</td>\n",
       "      <td>113069206</td>\n",
       "      <td>[English]</td>\n",
       "      <td>[War, Action, Drama]</td>\n",
       "      <td>109</td>\n",
       "      <td>Welcome to the frontline.</td>\n",
       "      <td>929590</td>\n",
       "      <td>[Andrew Macdonald, Allon Reich, Gregory Goodma...</td>\n",
       "      <td>[Producer, Producer, Producer, Director, Direc...</td>\n",
       "      <td>[Kirsten Dunst, Wagner Moura, Cailee Spaeny, S...</td>\n",
       "    </tr>\n",
       "    <tr>\n",
       "      <th>1</th>\n",
       "      <td>786892</td>\n",
       "      <td>168000000</td>\n",
       "      <td>[Warner Bros. Pictures, Kennedy Miller Mitchel...</td>\n",
       "      <td>[South Korea, United States of America, Austra...</td>\n",
       "      <td>65143145</td>\n",
       "      <td>[English]</td>\n",
       "      <td>[Action, Adventure, Science Fiction, Romance]</td>\n",
       "      <td>149</td>\n",
       "      <td>Fury is born.</td>\n",
       "      <td>786892</td>\n",
       "      <td>[George Miller, George Miller, Doug Mitchell, ...</td>\n",
       "      <td>[Director, Producer, Producer, Original Music ...</td>\n",
       "      <td>[Anya Taylor-Joy, Chris Hemsworth, Tom Burke, ...</td>\n",
       "    </tr>\n",
       "    <tr>\n",
       "      <th>2</th>\n",
       "      <td>748783</td>\n",
       "      <td>60000000</td>\n",
       "      <td>[Alcon Entertainment, Prime Focus, DNEG Animat...</td>\n",
       "      <td>[Hong Kong, India, United Kingdom, United Stat...</td>\n",
       "      <td>98000000</td>\n",
       "      <td>[English]</td>\n",
       "      <td>[Animation, Comedy, Family, Adventure]</td>\n",
       "      <td>101</td>\n",
       "      <td>Indoor cat. Outdoor adventure.</td>\n",
       "      <td>748783</td>\n",
       "      <td>[Steven P. Wegner, Kristen Caplan, Mark Swenso...</td>\n",
       "      <td>[Producer, Production Manager, Production Acco...</td>\n",
       "      <td>[Chris Pratt, Samuel L. Jackson, Hannah Waddin...</td>\n",
       "    </tr>\n",
       "    <tr>\n",
       "      <th>3</th>\n",
       "      <td>1022789</td>\n",
       "      <td>0</td>\n",
       "      <td>[Pixar, Walt Disney Pictures]</td>\n",
       "      <td>[United States of America]</td>\n",
       "      <td>0</td>\n",
       "      <td>[English]</td>\n",
       "      <td>[Animation, Family, Drama, Adventure, Fantasy]</td>\n",
       "      <td>96</td>\n",
       "      <td>Make room for new emotions.</td>\n",
       "      <td>1022789</td>\n",
       "      <td>[Kelsey Mann, Mark Nielsen, Pete Docter, Jonas...</td>\n",
       "      <td>[Director, Producer, Executive Producer, Execu...</td>\n",
       "      <td>[Amy Poehler, Maya Hawke, Kensington Tallman, ...</td>\n",
       "    </tr>\n",
       "    <tr>\n",
       "      <th>4</th>\n",
       "      <td>937287</td>\n",
       "      <td>55000000</td>\n",
       "      <td>[Pascal Pictures, Why Are You Acting? Producti...</td>\n",
       "      <td>[Italy, United States of America]</td>\n",
       "      <td>79877397</td>\n",
       "      <td>[English, Romanian]</td>\n",
       "      <td>[Romance, Drama]</td>\n",
       "      <td>132</td>\n",
       "      <td>Her game. Her rules.</td>\n",
       "      <td>937287</td>\n",
       "      <td>[Luca Guadagnino, Amy Pascal, Rachel O'Connor,...</td>\n",
       "      <td>[Director, Producer, Producer, Producer, Produ...</td>\n",
       "      <td>[Zendaya, Mike Faist, Josh O'Connor, Darnell A...</td>\n",
       "    </tr>\n",
       "  </tbody>\n",
       "</table>\n",
       "</div>"
      ],
      "text/plain": [
       "        id     budget                               production_companies  \\\n",
       "0   929590   50000000                           [DNA Films, IPR.VC, A24]   \n",
       "1   786892  168000000  [Warner Bros. Pictures, Kennedy Miller Mitchel...   \n",
       "2   748783   60000000  [Alcon Entertainment, Prime Focus, DNEG Animat...   \n",
       "3  1022789          0                      [Pixar, Walt Disney Pictures]   \n",
       "4   937287   55000000  [Pascal Pictures, Why Are You Acting? Producti...   \n",
       "\n",
       "                                production_countries    revenue  \\\n",
       "0  [Finland, United Kingdom, United States of Ame...  113069206   \n",
       "1  [South Korea, United States of America, Austra...   65143145   \n",
       "2  [Hong Kong, India, United Kingdom, United Stat...   98000000   \n",
       "3                         [United States of America]          0   \n",
       "4                  [Italy, United States of America]   79877397   \n",
       "\n",
       "      spoken_languages                                          genres  \\\n",
       "0            [English]                            [War, Action, Drama]   \n",
       "1            [English]   [Action, Adventure, Science Fiction, Romance]   \n",
       "2            [English]          [Animation, Comedy, Family, Adventure]   \n",
       "3            [English]  [Animation, Family, Drama, Adventure, Fantasy]   \n",
       "4  [English, Romanian]                                [Romance, Drama]   \n",
       "\n",
       "   runtime                         tagline       id  \\\n",
       "0      109       Welcome to the frontline.   929590   \n",
       "1      149                   Fury is born.   786892   \n",
       "2      101  Indoor cat. Outdoor adventure.   748783   \n",
       "3       96     Make room for new emotions.  1022789   \n",
       "4      132            Her game. Her rules.   937287   \n",
       "\n",
       "                                           crew-name  \\\n",
       "0  [Andrew Macdonald, Allon Reich, Gregory Goodma...   \n",
       "1  [George Miller, George Miller, Doug Mitchell, ...   \n",
       "2  [Steven P. Wegner, Kristen Caplan, Mark Swenso...   \n",
       "3  [Kelsey Mann, Mark Nielsen, Pete Docter, Jonas...   \n",
       "4  [Luca Guadagnino, Amy Pascal, Rachel O'Connor,...   \n",
       "\n",
       "                                            crew-job  \\\n",
       "0  [Producer, Producer, Producer, Director, Direc...   \n",
       "1  [Director, Producer, Producer, Original Music ...   \n",
       "2  [Producer, Production Manager, Production Acco...   \n",
       "3  [Director, Producer, Executive Producer, Execu...   \n",
       "4  [Director, Producer, Producer, Producer, Produ...   \n",
       "\n",
       "                                           cast-name  \n",
       "0  [Kirsten Dunst, Wagner Moura, Cailee Spaeny, S...  \n",
       "1  [Anya Taylor-Joy, Chris Hemsworth, Tom Burke, ...  \n",
       "2  [Chris Pratt, Samuel L. Jackson, Hannah Waddin...  \n",
       "3  [Amy Poehler, Maya Hawke, Kensington Tallman, ...  \n",
       "4  [Zendaya, Mike Faist, Josh O'Connor, Darnell A...  "
      ]
     },
     "execution_count": 67,
     "metadata": {},
     "output_type": "execute_result"
    }
   ],
   "source": [
    "df_credits.head(5)"
   ]
  },
  {
   "cell_type": "code",
   "execution_count": 68,
   "metadata": {},
   "outputs": [
    {
     "data": {
      "text/plain": [
       "(1107, 13)"
      ]
     },
     "execution_count": 68,
     "metadata": {},
     "output_type": "execute_result"
    }
   ],
   "source": [
    "df_credits.shape"
   ]
  },
  {
   "cell_type": "code",
   "execution_count": 69,
   "metadata": {},
   "outputs": [],
   "source": [
    "df_credits.to_csv('output/df_credits.csv')"
   ]
  },
  {
   "cell_type": "markdown",
   "metadata": {},
   "source": [
    "**Check Response and dump JSON file**"
   ]
  },
  {
   "cell_type": "code",
   "execution_count": 70,
   "metadata": {},
   "outputs": [
    {
     "data": {
      "text/plain": [
       "\" # Check\\nresponse = api_credits(\\n                key='API_KEY',\\n                film_id=762441\\n                )\\n\\ntest = response.json()\\ntest \""
      ]
     },
     "execution_count": 70,
     "metadata": {},
     "output_type": "execute_result"
    }
   ],
   "source": [
    "\"\"\" # Check\n",
    "response = api_credits(\n",
    "                key='API_KEY',\n",
    "                film_id=762441\n",
    "                )\n",
    "\n",
    "test = response.json()\n",
    "test \"\"\""
   ]
  },
  {
   "cell_type": "code",
   "execution_count": 71,
   "metadata": {},
   "outputs": [
    {
     "data": {
      "text/plain": [
       "' import json\\nwith open(\"output/credits-film-test.txt\", \"w\") as output:\\n    json.dump(test, output) '"
      ]
     },
     "execution_count": 71,
     "metadata": {},
     "output_type": "execute_result"
    }
   ],
   "source": [
    "\"\"\" import json\n",
    "with open(\"output/credits-film-test.txt\", \"w\") as output:\n",
    "    json.dump(test, output) \"\"\""
   ]
  },
  {
   "cell_type": "markdown",
   "metadata": {},
   "source": [
    "# Transform"
   ]
  },
  {
   "cell_type": "markdown",
   "metadata": {},
   "source": [
    "### Merge dataframes"
   ]
  },
  {
   "cell_type": "code",
   "execution_count": null,
   "metadata": {},
   "outputs": [],
   "source": []
  },
  {
   "cell_type": "markdown",
   "metadata": {},
   "source": [
    "### Create extra columns "
   ]
  },
  {
   "cell_type": "markdown",
   "metadata": {},
   "source": [
    "**Director, Music, Screenplay, Director of Photography**"
   ]
  },
  {
   "cell_type": "code",
   "execution_count": null,
   "metadata": {},
   "outputs": [],
   "source": []
  },
  {
   "cell_type": "markdown",
   "metadata": {},
   "source": [
    "### Get first values from columns"
   ]
  },
  {
   "cell_type": "markdown",
   "metadata": {},
   "source": [
    "**Actors, Genres**"
   ]
  },
  {
   "cell_type": "code",
   "execution_count": null,
   "metadata": {},
   "outputs": [],
   "source": []
  },
  {
   "cell_type": "markdown",
   "metadata": {},
   "source": [
    "# Load"
   ]
  },
  {
   "cell_type": "markdown",
   "metadata": {},
   "source": [
    "### Load to PostrgreSQL"
   ]
  },
  {
   "cell_type": "code",
   "execution_count": null,
   "metadata": {},
   "outputs": [],
   "source": []
  },
  {
   "cell_type": "markdown",
   "metadata": {},
   "source": [
    "### Load to GCP bucket"
   ]
  },
  {
   "cell_type": "code",
   "execution_count": null,
   "metadata": {},
   "outputs": [],
   "source": []
  }
 ],
 "metadata": {
  "kernelspec": {
   "display_name": "venv_3_10-jGfzHj9S",
   "language": "python",
   "name": "python3"
  },
  "language_info": {
   "codemirror_mode": {
    "name": "ipython",
    "version": 3
   },
   "file_extension": ".py",
   "mimetype": "text/x-python",
   "name": "python",
   "nbconvert_exporter": "python",
   "pygments_lexer": "ipython3",
   "version": "3.10.10"
  }
 },
 "nbformat": 4,
 "nbformat_minor": 2
}
