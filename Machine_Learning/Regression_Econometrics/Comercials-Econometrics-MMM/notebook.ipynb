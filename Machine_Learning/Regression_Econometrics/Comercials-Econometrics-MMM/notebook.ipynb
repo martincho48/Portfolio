{
 "cells": [
  {
   "cell_type": "markdown",
   "metadata": {},
   "source": [
    "# The least square method"
   ]
  },
  {
   "cell_type": "code",
   "execution_count": 79,
   "metadata": {},
   "outputs": [
    {
     "data": {
      "text/plain": [
       "' \\nThe least-squares method is a statistical method used to find the line of best fit of the form of an equation such as y = mx + b to the given data. \\nThe curve of the equation is called the regression line.\\n'"
      ]
     },
     "execution_count": 79,
     "metadata": {},
     "output_type": "execute_result"
    }
   ],
   "source": [
    "''' \n",
    "The least-squares method is a statistical method used to find the line of best fit of the form of an equation such as y = mx + b to the given data. \n",
    "The curve of the equation is called the regression line.\n",
    "'''"
   ]
  },
  {
   "cell_type": "code",
   "execution_count": 80,
   "metadata": {},
   "outputs": [
    {
     "name": "stdout",
     "output_type": "stream",
     "text": [
      "Coefficient vector gamma:\n",
      "[-4.08562073e-14  5.00000000e+00]\n"
     ]
    }
   ],
   "source": [
    "import numpy as np\n",
    "\n",
    "# Example data\n",
    "X = np.array([[1, 2], [3, 4], [5, 6]])\n",
    "y = np.array([10, 20, 30])\n",
    "\n",
    "\n",
    "\n",
    "\n",
    "\n",
    "# Calculate gammas using the formula: γ = (X^T · X)^-1 · X^T · y\n",
    "XTX_inv = np.linalg.inv(X.T.dot(X))\n",
    "XTy = X.T.dot(y)\n",
    "gamma = XTX_inv.dot(XTy)\n",
    "\n",
    "print(\"Coefficient vector gamma:\")\n",
    "print(gamma)\n",
    "\n"
   ]
  },
  {
   "cell_type": "markdown",
   "metadata": {},
   "source": [
    "# Multicolinearity"
   ]
  },
  {
   "cell_type": "code",
   "execution_count": 81,
   "metadata": {},
   "outputs": [
    {
     "data": {
      "text/plain": [
       "' \\nhttps://towardsdatascience.com/targeting-multicollinearity-with-python-3bd3b4088d0b \\nhttps://www.youtube.com/watch?v=Z0-oV87e7LU&t=273s&ab_channel=Kckurzy\\n\\n\\n    - exceeds 0.8 or -0.8\\n\\nremoving:\\n    - převod na postupné diference - shift by difference\\n    - drop one feature with lower correlation to y\\n    - keep it there - small influence on results \\n    - dummy - after performing differences (write 0 for negative and write 1 for positive)\\n'"
      ]
     },
     "execution_count": 81,
     "metadata": {},
     "output_type": "execute_result"
    }
   ],
   "source": [
    "\"\"\" \n",
    "https://towardsdatascience.com/targeting-multicollinearity-with-python-3bd3b4088d0b \n",
    "https://www.youtube.com/watch?v=Z0-oV87e7LU&t=273s&ab_channel=Kckurzy\n",
    "\n",
    "\n",
    "    - exceeds 0.8 or -0.8\n",
    "\n",
    "removing:\n",
    "    - převod na postupné diference - shift by difference\n",
    "    - drop one feature with lower correlation to y\n",
    "    - keep it there - small influence on results \n",
    "    - dummy - after performing differences (write 0 for negative and write 1 for positive)\n",
    "\"\"\""
   ]
  },
  {
   "cell_type": "markdown",
   "metadata": {},
   "source": [
    "**Pearson matrix of correlation**"
   ]
  },
  {
   "cell_type": "code",
   "execution_count": 82,
   "metadata": {},
   "outputs": [
    {
     "name": "stdout",
     "output_type": "stream",
     "text": [
      "Matrix of Pearson correlation coefficients:\n",
      "[[1.         0.88461538 0.88461538]\n",
      " [0.88461538 1.         1.        ]\n",
      " [0.88461538 1.         1.        ]]\n"
     ]
    }
   ],
   "source": [
    "import numpy as np\n",
    "\n",
    "# Sample data matrix\n",
    "data = np.array([[0.1, 2, 3], [0.4, 5, 6], [7, 8, 9]])\n",
    "\n",
    "# Compute Pearson correlation coefficients\n",
    "corr_matrix = np.corrcoef(data, rowvar=False)\n",
    "\n",
    "print(\"Matrix of Pearson correlation coefficients:\")\n",
    "print(corr_matrix)"
   ]
  },
  {
   "cell_type": "markdown",
   "metadata": {},
   "source": [
    "**Multiply a matrix by a vector**"
   ]
  },
  {
   "cell_type": "code",
   "execution_count": null,
   "metadata": {},
   "outputs": [
    {
     "name": "stdout",
     "output_type": "stream",
     "text": [
      "Matrix:\n",
      "[[1 2 3]\n",
      " [4 5 6]\n",
      " [7 8 9]]\n",
      "\n",
      "Vector:\n",
      "[1 2 3]\n",
      "\n",
      "Result of matrix-vector multiplication:\n",
      "[14 32 50]\n"
     ]
    }
   ],
   "source": [
    "import numpy as np\n",
    "\n",
    "# Define a matrix\n",
    "matrix = np.array([[1, 2, 3],\n",
    "                   [4, 5, 6],\n",
    "                   [7, 8, 9]])\n",
    "\n",
    "# Define a vector\n",
    "vector = np.array([1, 2, 3])\n",
    "\n",
    "# Perform matrix-vector multiplication\n",
    "result = np.dot(matrix, vector)\n",
    "\n",
    "print(\"Matrix:\")\n",
    "print(matrix)\n",
    "print(\"\\nVector:\")\n",
    "print(vector)\n",
    "print(\"\\nResult of matrix-vector multiplication:\")\n",
    "print(result)"
   ]
  },
  {
   "cell_type": "markdown",
   "metadata": {},
   "source": [
    "# Recursive filter"
   ]
  },
  {
   "cell_type": "code",
   "execution_count": null,
   "metadata": {},
   "outputs": [],
   "source": [
    "import statsmodels.tsa.api as tsa\n",
    "import pandas as pd\n"
   ]
  },
  {
   "cell_type": "code",
   "execution_count": null,
   "metadata": {},
   "outputs": [],
   "source": [
    "''' \n",
    "y(t) = y(t-1)*2 + x(t)\n",
    "'''"
   ]
  },
  {
   "cell_type": "code",
   "execution_count": null,
   "metadata": {},
   "outputs": [
    {
     "data": {
      "text/plain": [
       "array([ 10.,  40., 110., 260., 570.])"
      ]
     },
     "execution_count": 66,
     "metadata": {},
     "output_type": "execute_result"
    }
   ],
   "source": [
    "x = [10, 20, 30, 40, 50]\n",
    "new = tsa.filters.recursive_filter(x, 2)\n",
    "new"
   ]
  },
  {
   "cell_type": "code",
   "execution_count": null,
   "metadata": {},
   "outputs": [],
   "source": [
    "def filter(x, beta):\n",
    "    result = tsa.filters.recursive_filter(x, beta)\n",
    "    return result"
   ]
  },
  {
   "cell_type": "code",
   "execution_count": null,
   "metadata": {},
   "outputs": [],
   "source": []
  },
  {
   "cell_type": "code",
   "execution_count": null,
   "metadata": {},
   "outputs": [],
   "source": [
    "df = pd.DataFrame({'value' : [10, 20, 30]})"
   ]
  },
  {
   "cell_type": "code",
   "execution_count": null,
   "metadata": {},
   "outputs": [
    {
     "data": {
      "text/html": [
       "<div>\n",
       "<style scoped>\n",
       "    .dataframe tbody tr th:only-of-type {\n",
       "        vertical-align: middle;\n",
       "    }\n",
       "\n",
       "    .dataframe tbody tr th {\n",
       "        vertical-align: top;\n",
       "    }\n",
       "\n",
       "    .dataframe thead th {\n",
       "        text-align: right;\n",
       "    }\n",
       "</style>\n",
       "<table border=\"1\" class=\"dataframe\">\n",
       "  <thead>\n",
       "    <tr style=\"text-align: right;\">\n",
       "      <th></th>\n",
       "      <th>value</th>\n",
       "      <th>new</th>\n",
       "    </tr>\n",
       "  </thead>\n",
       "  <tbody>\n",
       "    <tr>\n",
       "      <th>0</th>\n",
       "      <td>10</td>\n",
       "      <td>10.0</td>\n",
       "    </tr>\n",
       "    <tr>\n",
       "      <th>1</th>\n",
       "      <td>20</td>\n",
       "      <td>40.0</td>\n",
       "    </tr>\n",
       "    <tr>\n",
       "      <th>2</th>\n",
       "      <td>30</td>\n",
       "      <td>110.0</td>\n",
       "    </tr>\n",
       "  </tbody>\n",
       "</table>\n",
       "</div>"
      ],
      "text/plain": [
       "   value    new\n",
       "0     10   10.0\n",
       "1     20   40.0\n",
       "2     30  110.0"
      ]
     },
     "execution_count": 58,
     "metadata": {},
     "output_type": "execute_result"
    }
   ],
   "source": [
    "df['recursive'] = filter(df['value'],beta=2)\n",
    "df"
   ]
  },
  {
   "cell_type": "markdown",
   "metadata": {},
   "source": [
    "**Add second function**"
   ]
  },
  {
   "cell_type": "code",
   "execution_count": null,
   "metadata": {},
   "outputs": [],
   "source": [
    "# second function\n",
    "def second(x, alfa):\n",
    "    return x ** alfa"
   ]
  },
  {
   "cell_type": "code",
   "execution_count": null,
   "metadata": {},
   "outputs": [
    {
     "data": {
      "text/html": [
       "<div>\n",
       "<style scoped>\n",
       "    .dataframe tbody tr th:only-of-type {\n",
       "        vertical-align: middle;\n",
       "    }\n",
       "\n",
       "    .dataframe tbody tr th {\n",
       "        vertical-align: top;\n",
       "    }\n",
       "\n",
       "    .dataframe thead th {\n",
       "        text-align: right;\n",
       "    }\n",
       "</style>\n",
       "<table border=\"1\" class=\"dataframe\">\n",
       "  <thead>\n",
       "    <tr style=\"text-align: right;\">\n",
       "      <th></th>\n",
       "      <th>value</th>\n",
       "      <th>new</th>\n",
       "      <th>second</th>\n",
       "    </tr>\n",
       "  </thead>\n",
       "  <tbody>\n",
       "    <tr>\n",
       "      <th>0</th>\n",
       "      <td>10</td>\n",
       "      <td>10.0</td>\n",
       "      <td>100.0</td>\n",
       "    </tr>\n",
       "    <tr>\n",
       "      <th>1</th>\n",
       "      <td>20</td>\n",
       "      <td>40.0</td>\n",
       "      <td>1600.0</td>\n",
       "    </tr>\n",
       "    <tr>\n",
       "      <th>2</th>\n",
       "      <td>30</td>\n",
       "      <td>110.0</td>\n",
       "      <td>12100.0</td>\n",
       "    </tr>\n",
       "  </tbody>\n",
       "</table>\n",
       "</div>"
      ],
      "text/plain": [
       "   value    new   second\n",
       "0     10   10.0    100.0\n",
       "1     20   40.0   1600.0\n",
       "2     30  110.0  12100.0"
      ]
     },
     "execution_count": 71,
     "metadata": {},
     "output_type": "execute_result"
    }
   ],
   "source": [
    "df['second'] = second(filter(df['value'],beta=2), alfa=2)\n",
    "df"
   ]
  },
  {
   "cell_type": "markdown",
   "metadata": {},
   "source": [
    "**Loop with combinations**"
   ]
  },
  {
   "cell_type": "code",
   "execution_count": 87,
   "metadata": {},
   "outputs": [
    {
     "name": "stdout",
     "output_type": "stream",
     "text": [
      "1 10\n",
      "1 20\n",
      "1 30\n",
      "2 10\n",
      "2 20\n",
      "2 30\n",
      "3 10\n",
      "3 20\n",
      "3 30\n"
     ]
    }
   ],
   "source": [
    "from itertools import product\n",
    "\n",
    "x = [1, 2, 3]\n",
    "y = [10, 20, 30]\n",
    "\n",
    "\n",
    "for first_item, second_item in product(x, y):\n",
    "    print(first_item, second_item)"
   ]
  },
  {
   "cell_type": "markdown",
   "metadata": {},
   "source": [
    "# Scaling"
   ]
  },
  {
   "cell_type": "code",
   "execution_count": 11,
   "metadata": {},
   "outputs": [],
   "source": [
    "import pandas as pd\n",
    "import numpy as np"
   ]
  },
  {
   "cell_type": "code",
   "execution_count": 138,
   "metadata": {},
   "outputs": [
    {
     "name": "stdout",
     "output_type": "stream",
     "text": [
      "Coefficient vector gamma:\n",
      "[[ 12.5]\n",
      " [ -2. ]\n",
      " [ -6. ]\n",
      " [128. ]]\n"
     ]
    }
   ],
   "source": [
    "df = pd.DataFrame({'x1': [10, 40, 80],\n",
    "                  'x2':[20, 20, 30],\n",
    "                  'x3':[10, 30, 20],\n",
    "                  'unit_vector':[1, 1, 1], \n",
    "                  'y-usd': [51, 111, 351]})\n",
    "\n",
    "X = df[['x1', 'x2', 'x3', 'unit_vector']].to_numpy()\n",
    "y = df[['y-usd']].to_numpy()\n",
    "\n",
    "# Calculate gammas using the formula: γ = (X^T · X)^-1 · X^T · y\n",
    "XTX_inv = np.linalg.inv(X.T.dot(X))\n",
    "XTy = X.T.dot(y)\n",
    "gamma = XTX_inv.dot(XTy)\n",
    "\n",
    "print(\"Coefficient vector gamma:\")\n",
    "print(gamma)"
   ]
  },
  {
   "cell_type": "code",
   "execution_count": 137,
   "metadata": {},
   "outputs": [
    {
     "name": "stdout",
     "output_type": "stream",
     "text": [
      "Coefficient vector gamma:\n",
      "[[   2.75   ]\n",
      " [  17.     ]\n",
      " [  -0.15625]\n",
      " [-128.     ]]\n"
     ]
    }
   ],
   "source": [
    "df = pd.DataFrame({'x1': [10, 40, 80],\n",
    "                  'x2':[20, 20, 30],\n",
    "                  'x3':[100, 300, 200],\n",
    "                  'unit_vector':[1, 1, 1], \n",
    "                  'y-usd': [51, 111, 351]})\n",
    "\n",
    "X = df[['x1', 'x2', 'x3', 'unit_vector']].to_numpy()\n",
    "y = df[['y-usd']].to_numpy()\n",
    "\n",
    "# Calculate gammas using the formula: γ = (X^T · X)^-1 · X^T · y\n",
    "XTX_inv = np.linalg.inv(X.T.dot(X))\n",
    "XTy = X.T.dot(y)\n",
    "gamma = XTX_inv.dot(XTy)\n",
    "\n",
    "print(\"Coefficient vector gamma:\")\n",
    "print(gamma)"
   ]
  },
  {
   "cell_type": "markdown",
   "metadata": {},
   "source": [
    "**Without unit-vector**"
   ]
  },
  {
   "cell_type": "code",
   "execution_count": 121,
   "metadata": {},
   "outputs": [
    {
     "name": "stdout",
     "output_type": "stream",
     "text": [
      "Coefficient vector gamma:\n",
      "[[ 4.52173913]\n",
      " [ 2.13043478]\n",
      " [-0.37826087]]\n"
     ]
    }
   ],
   "source": [
    "df = pd.DataFrame({'x1': [10, 40, 80],\n",
    "                  'x2':[20, 20, 30],\n",
    "                  'x3':[100, 300, 200],\n",
    "                  'unit_vector':[1, 1, 1], \n",
    "                  'y-usd': [50, 110, 350]})\n",
    "\n",
    "X = df[['x1', 'x2', 'x3']].to_numpy()\n",
    "y = df[['y-usd']].to_numpy()\n",
    "\n",
    "# Calculate gammas using the formula: γ = (X^T · X)^-1 · X^T · y\n",
    "XTX_inv = np.linalg.inv(X.T.dot(X))\n",
    "XTy = X.T.dot(y)\n",
    "gamma = XTX_inv.dot(XTy)\n",
    "\n",
    "print(\"Coefficient vector gamma:\")\n",
    "print(gamma)"
   ]
  },
  {
   "cell_type": "code",
   "execution_count": 122,
   "metadata": {},
   "outputs": [
    {
     "name": "stdout",
     "output_type": "stream",
     "text": [
      "Coefficient vector gamma:\n",
      "[[ 4.52173913]\n",
      " [ 2.13043478]\n",
      " [-3.7826087 ]]\n"
     ]
    }
   ],
   "source": [
    "df = pd.DataFrame({'x1': [10, 40, 80],\n",
    "                  'x2':[20, 20, 30],\n",
    "                  'x3':[10, 30, 20],\n",
    "                  'unit_vector':[1, 1, 1], \n",
    "                  'y-usd': [50, 110, 350]})\n",
    "\n",
    "X = df[['x1', 'x2', 'x3']].to_numpy()\n",
    "y = df[['y-usd']].to_numpy()\n",
    "\n",
    "# Calculate gammas using the formula: γ = (X^T · X)^-1 · X^T · y\n",
    "XTX_inv = np.linalg.inv(X.T.dot(X))\n",
    "XTy = X.T.dot(y)\n",
    "gamma = XTX_inv.dot(XTy)\n",
    "\n",
    "print(\"Coefficient vector gamma:\")\n",
    "print(gamma)"
   ]
  }
 ],
 "metadata": {
  "kernelspec": {
   "display_name": "venv_portfolio-hkOMkeu3",
   "language": "python",
   "name": "python3"
  },
  "language_info": {
   "codemirror_mode": {
    "name": "ipython",
    "version": 3
   },
   "file_extension": ".py",
   "mimetype": "text/x-python",
   "name": "python",
   "nbconvert_exporter": "python",
   "pygments_lexer": "ipython3",
   "version": "3.10.10"
  }
 },
 "nbformat": 4,
 "nbformat_minor": 2
}
