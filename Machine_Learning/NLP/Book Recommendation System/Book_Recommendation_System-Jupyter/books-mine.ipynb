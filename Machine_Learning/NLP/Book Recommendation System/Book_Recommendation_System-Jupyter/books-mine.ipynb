{
 "cells": [
  {
   "cell_type": "code",
   "execution_count": 1,
   "metadata": {},
   "outputs": [],
   "source": [
    "import pandas as pd\n",
    "import numpy as np\n",
    "import matplotlib.pyplot as plt\n",
    "from books_functions import *"
   ]
  },
  {
   "cell_type": "code",
   "execution_count": 2,
   "metadata": {},
   "outputs": [],
   "source": [
    "#set inputs\n",
    "file_name_ratings='BX-Book-Ratings.csv'\n",
    "file_name_books='BX-Books.csv'\n",
    "file_name_users='BX-Users.csv'"
   ]
  },
  {
   "cell_type": "code",
   "execution_count": 3,
   "metadata": {},
   "outputs": [
    {
     "name": "stdout",
     "output_type": "stream",
     "text": [
      "cp1252\n"
     ]
    }
   ],
   "source": [
    "#get the encoding\n",
    "with open(file_name_users) as file: \n",
    "    enc=file.encoding\n",
    "    print(enc) "
   ]
  },
  {
   "cell_type": "markdown",
   "metadata": {},
   "source": [
    "**Read USER file**"
   ]
  },
  {
   "cell_type": "code",
   "execution_count": 4,
   "metadata": {},
   "outputs": [
    {
     "data": {
      "text/html": [
       "<div>\n",
       "<style scoped>\n",
       "    .dataframe tbody tr th:only-of-type {\n",
       "        vertical-align: middle;\n",
       "    }\n",
       "\n",
       "    .dataframe tbody tr th {\n",
       "        vertical-align: top;\n",
       "    }\n",
       "\n",
       "    .dataframe thead th {\n",
       "        text-align: right;\n",
       "    }\n",
       "</style>\n",
       "<table border=\"1\" class=\"dataframe\">\n",
       "  <thead>\n",
       "    <tr style=\"text-align: right;\">\n",
       "      <th></th>\n",
       "      <th>User-ID</th>\n",
       "      <th>Location</th>\n",
       "      <th>Age</th>\n",
       "    </tr>\n",
       "  </thead>\n",
       "  <tbody>\n",
       "    <tr>\n",
       "      <th>0</th>\n",
       "      <td>1</td>\n",
       "      <td>nyc, new york, usa</td>\n",
       "      <td>NaN</td>\n",
       "    </tr>\n",
       "    <tr>\n",
       "      <th>1</th>\n",
       "      <td>2</td>\n",
       "      <td>stockton, california, usa</td>\n",
       "      <td>18.0</td>\n",
       "    </tr>\n",
       "    <tr>\n",
       "      <th>2</th>\n",
       "      <td>3</td>\n",
       "      <td>moscow, yukon territory, russia</td>\n",
       "      <td>NaN</td>\n",
       "    </tr>\n",
       "    <tr>\n",
       "      <th>3</th>\n",
       "      <td>4</td>\n",
       "      <td>porto, v.n.gaia, portugal</td>\n",
       "      <td>17.0</td>\n",
       "    </tr>\n",
       "    <tr>\n",
       "      <th>4</th>\n",
       "      <td>5</td>\n",
       "      <td>farnborough, hants, united kingdom</td>\n",
       "      <td>NaN</td>\n",
       "    </tr>\n",
       "  </tbody>\n",
       "</table>\n",
       "</div>"
      ],
      "text/plain": [
       "   User-ID                            Location   Age\n",
       "0        1                  nyc, new york, usa   NaN\n",
       "1        2           stockton, california, usa  18.0\n",
       "2        3     moscow, yukon territory, russia   NaN\n",
       "3        4           porto, v.n.gaia, portugal  17.0\n",
       "4        5  farnborough, hants, united kingdom   NaN"
      ]
     },
     "execution_count": 4,
     "metadata": {},
     "output_type": "execute_result"
    }
   ],
   "source": [
    "users = pd.read_csv(file_name_users, encoding=enc, delimiter=';')\n",
    "users.head(5)"
   ]
  },
  {
   "cell_type": "markdown",
   "metadata": {},
   "source": [
    "**Read RATINGS file**"
   ]
  },
  {
   "cell_type": "code",
   "execution_count": 5,
   "metadata": {},
   "outputs": [
    {
     "data": {
      "text/html": [
       "<div>\n",
       "<style scoped>\n",
       "    .dataframe tbody tr th:only-of-type {\n",
       "        vertical-align: middle;\n",
       "    }\n",
       "\n",
       "    .dataframe tbody tr th {\n",
       "        vertical-align: top;\n",
       "    }\n",
       "\n",
       "    .dataframe thead th {\n",
       "        text-align: right;\n",
       "    }\n",
       "</style>\n",
       "<table border=\"1\" class=\"dataframe\">\n",
       "  <thead>\n",
       "    <tr style=\"text-align: right;\">\n",
       "      <th></th>\n",
       "      <th>User-ID</th>\n",
       "      <th>ISBN</th>\n",
       "      <th>Book-Rating</th>\n",
       "    </tr>\n",
       "  </thead>\n",
       "  <tbody>\n",
       "    <tr>\n",
       "      <th>0</th>\n",
       "      <td>276725</td>\n",
       "      <td>034545104X</td>\n",
       "      <td>0</td>\n",
       "    </tr>\n",
       "    <tr>\n",
       "      <th>1</th>\n",
       "      <td>276726</td>\n",
       "      <td>0155061224</td>\n",
       "      <td>5</td>\n",
       "    </tr>\n",
       "    <tr>\n",
       "      <th>2</th>\n",
       "      <td>276727</td>\n",
       "      <td>0446520802</td>\n",
       "      <td>0</td>\n",
       "    </tr>\n",
       "  </tbody>\n",
       "</table>\n",
       "</div>"
      ],
      "text/plain": [
       "   User-ID        ISBN  Book-Rating\n",
       "0   276725  034545104X            0\n",
       "1   276726  0155061224            5\n",
       "2   276727  0446520802            0"
      ]
     },
     "execution_count": 5,
     "metadata": {},
     "output_type": "execute_result"
    }
   ],
   "source": [
    "ratings = pd.read_csv(file_name_ratings, encoding=enc, delimiter=';')\n",
    "ratings.head(3)"
   ]
  },
  {
   "cell_type": "code",
   "execution_count": 6,
   "metadata": {},
   "outputs": [
    {
     "data": {
      "text/plain": [
       "(1149780, 3)"
      ]
     },
     "execution_count": 6,
     "metadata": {},
     "output_type": "execute_result"
    }
   ],
   "source": [
    "#rename columns\n",
    "ratings=ratings.rename(columns={'User-ID': 'user',\n",
    "                                'ISBN': 'isbn',\n",
    "                                'Book-Rating':'rating'})\n",
    "ratings.head(3)\n",
    "\n",
    "\n",
    "ratings.shape\n"
   ]
  },
  {
   "cell_type": "code",
   "execution_count": 7,
   "metadata": {},
   "outputs": [
    {
     "data": {
      "text/plain": [
       "340556"
      ]
     },
     "execution_count": 7,
     "metadata": {},
     "output_type": "execute_result"
    }
   ],
   "source": [
    "titles_count_before=len(ratings.groupby(['isbn']))\n",
    "titles_count_before"
   ]
  },
  {
   "cell_type": "code",
   "execution_count": 8,
   "metadata": {},
   "outputs": [
    {
     "data": {
      "image/png": "[encoded data removed]",
      "text/plain": [
       "<Figure size 640x480 with 1 Axes>"
      ]
     },
     "metadata": {},
     "output_type": "display_data"
    }
   ],
   "source": [
    "#check if there are some ratings out of scale 0-10\n",
    "\n",
    "chart=(ratings['rating'].value_counts()\n",
    "                        .sort_index()      \n",
    ")\n",
    "\n",
    "#Call the function\n",
    "bar_chart(chart, x_label='value of the rate', y_label='amount of ratings')"
   ]
  },
  {
   "cell_type": "code",
   "execution_count": 9,
   "metadata": {},
   "outputs": [
    {
     "data": {
      "text/plain": [
       "414242"
      ]
     },
     "execution_count": 9,
     "metadata": {},
     "output_type": "execute_result"
    }
   ],
   "source": [
    "#filter out those with zero - justify it !!!\n",
    "ratings=ratings.query('rating >4')\n",
    "\n",
    "ratings.shape[0]\n"
   ]
  },
  {
   "cell_type": "code",
   "execution_count": 10,
   "metadata": {},
   "outputs": [
    {
     "name": "stdout",
     "output_type": "stream",
     "text": [
      "179376\n",
      "unique title loss: 47%\n"
     ]
    }
   ],
   "source": [
    "titles_count_after=len(ratings.groupby(['isbn']))\n",
    "print(titles_count_after)\n",
    "\n",
    "delta=(titles_count_before-titles_count_after)\n",
    "\n",
    "loss_percentage=(round(delta/titles_count_before*100))\n",
    "print(f'unique title loss: {loss_percentage}%')"
   ]
  },
  {
   "cell_type": "code",
   "execution_count": 11,
   "metadata": {},
   "outputs": [
    {
     "data": {
      "image/png": "[encoded data removed]",
      "text/plain": [
       "<Figure size 640x480 with 1 Axes>"
      ]
     },
     "metadata": {},
     "output_type": "display_data"
    }
   ],
   "source": [
    "#check if there are some ratings out of scale 0-10\n",
    "\n",
    "chart=(ratings['rating'].value_counts()\n",
    "                        .sort_index()      \n",
    ")\n",
    "\n",
    "#Call the function\n",
    "bar_chart(chart, x_label='value of the rate', y_label='amount of ratings')"
   ]
  },
  {
   "cell_type": "code",
   "execution_count": 12,
   "metadata": {},
   "outputs": [
    {
     "data": {
      "text/html": [
       "<div>\n",
       "<style scoped>\n",
       "    .dataframe tbody tr th:only-of-type {\n",
       "        vertical-align: middle;\n",
       "    }\n",
       "\n",
       "    .dataframe tbody tr th {\n",
       "        vertical-align: top;\n",
       "    }\n",
       "\n",
       "    .dataframe thead th {\n",
       "        text-align: right;\n",
       "    }\n",
       "</style>\n",
       "<table border=\"1\" class=\"dataframe\">\n",
       "  <thead>\n",
       "    <tr style=\"text-align: right;\">\n",
       "      <th></th>\n",
       "      <th>user id</th>\n",
       "      <th>ratings per user</th>\n",
       "    </tr>\n",
       "  </thead>\n",
       "  <tbody>\n",
       "    <tr>\n",
       "      <th>0</th>\n",
       "      <td>11676</td>\n",
       "      <td>7768</td>\n",
       "    </tr>\n",
       "    <tr>\n",
       "      <th>1</th>\n",
       "      <td>98391</td>\n",
       "      <td>5802</td>\n",
       "    </tr>\n",
       "    <tr>\n",
       "      <th>2</th>\n",
       "      <td>153662</td>\n",
       "      <td>1958</td>\n",
       "    </tr>\n",
       "    <tr>\n",
       "      <th>3</th>\n",
       "      <td>189835</td>\n",
       "      <td>1901</td>\n",
       "    </tr>\n",
       "    <tr>\n",
       "      <th>4</th>\n",
       "      <td>23902</td>\n",
       "      <td>1375</td>\n",
       "    </tr>\n",
       "    <tr>\n",
       "      <th>5</th>\n",
       "      <td>171118</td>\n",
       "      <td>1020</td>\n",
       "    </tr>\n",
       "    <tr>\n",
       "      <th>6</th>\n",
       "      <td>235105</td>\n",
       "      <td>1014</td>\n",
       "    </tr>\n",
       "    <tr>\n",
       "      <th>7</th>\n",
       "      <td>76499</td>\n",
       "      <td>994</td>\n",
       "    </tr>\n",
       "    <tr>\n",
       "      <th>8</th>\n",
       "      <td>16795</td>\n",
       "      <td>944</td>\n",
       "    </tr>\n",
       "    <tr>\n",
       "      <th>9</th>\n",
       "      <td>56399</td>\n",
       "      <td>911</td>\n",
       "    </tr>\n",
       "  </tbody>\n",
       "</table>\n",
       "</div>"
      ],
      "text/plain": [
       "   user id  ratings per user\n",
       "0    11676              7768\n",
       "1    98391              5802\n",
       "2   153662              1958\n",
       "3   189835              1901\n",
       "4    23902              1375\n",
       "5   171118              1020\n",
       "6   235105              1014\n",
       "7    76499               994\n",
       "8    16795               944\n",
       "9    56399               911"
      ]
     },
     "execution_count": 12,
     "metadata": {},
     "output_type": "execute_result"
    }
   ],
   "source": [
    "#number of ratings from users\n",
    "ratings_per_user=pd.DataFrame()\n",
    "ratings_per_user['ratings per user'] = ratings['user'].value_counts()\n",
    "\n",
    "\n",
    "#Reset the index and drop it after reseting\n",
    "ratings_per_user=(ratings_per_user.reset_index()\n",
    "             .sort_values('ratings per user',ascending=False)\n",
    ")\n",
    "\n",
    "\n",
    "#get the first column name\n",
    "first_column_name=ratings_per_user.columns[0]\n",
    "\n",
    "ratings_per_user=ratings_per_user.rename(columns=({first_column_name:'user id'}))\n",
    "\n",
    "ratings_per_user.head(10)"
   ]
  },
  {
   "cell_type": "code",
   "execution_count": 13,
   "metadata": {},
   "outputs": [
    {
     "data": {
      "text/html": [
       "<div>\n",
       "<style scoped>\n",
       "    .dataframe tbody tr th:only-of-type {\n",
       "        vertical-align: middle;\n",
       "    }\n",
       "\n",
       "    .dataframe tbody tr th {\n",
       "        vertical-align: top;\n",
       "    }\n",
       "\n",
       "    .dataframe thead th {\n",
       "        text-align: right;\n",
       "    }\n",
       "</style>\n",
       "<table border=\"1\" class=\"dataframe\">\n",
       "  <thead>\n",
       "    <tr style=\"text-align: right;\">\n",
       "      <th></th>\n",
       "      <th>ratings per user</th>\n",
       "      <th>number of users</th>\n",
       "    </tr>\n",
       "  </thead>\n",
       "  <tbody>\n",
       "    <tr>\n",
       "      <th>0</th>\n",
       "      <td>1</td>\n",
       "      <td>43929</td>\n",
       "    </tr>\n",
       "    <tr>\n",
       "      <th>1</th>\n",
       "      <td>2</td>\n",
       "      <td>9588</td>\n",
       "    </tr>\n",
       "    <tr>\n",
       "      <th>2</th>\n",
       "      <td>3</td>\n",
       "      <td>4988</td>\n",
       "    </tr>\n",
       "    <tr>\n",
       "      <th>3</th>\n",
       "      <td>4</td>\n",
       "      <td>3031</td>\n",
       "    </tr>\n",
       "    <tr>\n",
       "      <th>4</th>\n",
       "      <td>5</td>\n",
       "      <td>2150</td>\n",
       "    </tr>\n",
       "  </tbody>\n",
       "</table>\n",
       "</div>"
      ],
      "text/plain": [
       "   ratings per user  number of users\n",
       "0                 1            43929\n",
       "1                 2             9588\n",
       "2                 3             4988\n",
       "3                 4             3031\n",
       "4                 5             2150"
      ]
     },
     "execution_count": 13,
     "metadata": {},
     "output_type": "execute_result"
    }
   ],
   "source": [
    "#this helps to determine how much should I slice the df\n",
    "\n",
    "users_and_ratings=(ratings_per_user.groupby(['ratings per user'])\n",
    "                .agg({'user id':'count'})\n",
    "                .reset_index()\n",
    "                .rename(columns=({'user id':'number of users'}))\n",
    "                )  \n",
    "\n",
    "users_and_ratings.head(5)"
   ]
  },
  {
   "cell_type": "code",
   "execution_count": 14,
   "metadata": {},
   "outputs": [
    {
     "data": {
      "image/png": "[encoded data removed]",
      "text/plain": [
       "<Figure size 640x480 with 1 Axes>"
      ]
     },
     "metadata": {},
     "output_type": "display_data"
    }
   ],
   "source": [
    "#plot the chart\n",
    "curve_chart(df=users_and_ratings, \n",
    "            x_col='ratings per user',\n",
    "            y_col='number of users',\n",
    "            x_lim=30, \n",
    "            y_lim=15000, \n",
    "            x_label='Number of ratings', \n",
    "            y_label='Number of users'\n",
    "            )\n"
   ]
  },
  {
   "cell_type": "code",
   "execution_count": 15,
   "metadata": {},
   "outputs": [],
   "source": [
    "#Filter out the ids of users who did at least 200 ratings\n",
    "#I need users who had more than 1 rating = otherwise there would be no recommendation from them on ther titles\n",
    "\n",
    "ratings_per_user_sliced=ratings_per_user.query('`ratings per user` >10')"
   ]
  },
  {
   "cell_type": "code",
   "execution_count": 16,
   "metadata": {},
   "outputs": [
    {
     "name": "stdout",
     "output_type": "stream",
     "text": [
      "before: 75117\n",
      "after: 6312\n",
      "lost users: 92%\n"
     ]
    }
   ],
   "source": [
    "#how much data will I loose after slice??? - count it!!!\n",
    "users_before=ratings_per_user.shape[0]\n",
    "print(f'before: {users_before}')\n",
    "\n",
    "users_after=ratings_per_user_sliced.shape[0]\n",
    "\n",
    "delta=users_before-users_after\n",
    "\n",
    "print(f'after: {users_after}')\n",
    "print(f'lost users: {round(delta/users_before*100)}%')"
   ]
  },
  {
   "cell_type": "code",
   "execution_count": 17,
   "metadata": {},
   "outputs": [
    {
     "data": {
      "text/plain": [
       "6312"
      ]
     },
     "execution_count": 17,
     "metadata": {},
     "output_type": "execute_result"
    }
   ],
   "source": [
    "#convert filtered data into a list\n",
    "best_users = ratings_per_user_sliced['user id'].tolist()\n",
    "len(best_users)"
   ]
  },
  {
   "cell_type": "code",
   "execution_count": 18,
   "metadata": {},
   "outputs": [
    {
     "data": {
      "text/html": [
       "<div>\n",
       "<style scoped>\n",
       "    .dataframe tbody tr th:only-of-type {\n",
       "        vertical-align: middle;\n",
       "    }\n",
       "\n",
       "    .dataframe tbody tr th {\n",
       "        vertical-align: top;\n",
       "    }\n",
       "\n",
       "    .dataframe thead th {\n",
       "        text-align: right;\n",
       "    }\n",
       "</style>\n",
       "<table border=\"1\" class=\"dataframe\">\n",
       "  <thead>\n",
       "    <tr style=\"text-align: right;\">\n",
       "      <th></th>\n",
       "      <th>best users</th>\n",
       "      <th>isbn</th>\n",
       "      <th>rating</th>\n",
       "    </tr>\n",
       "  </thead>\n",
       "  <tbody>\n",
       "    <tr>\n",
       "      <th>0</th>\n",
       "      <td>276822</td>\n",
       "      <td>0060096195</td>\n",
       "      <td>10</td>\n",
       "    </tr>\n",
       "    <tr>\n",
       "      <th>1</th>\n",
       "      <td>276822</td>\n",
       "      <td>0141310340</td>\n",
       "      <td>9</td>\n",
       "    </tr>\n",
       "  </tbody>\n",
       "</table>\n",
       "</div>"
      ],
      "text/plain": [
       "   best users        isbn  rating\n",
       "0      276822  0060096195      10\n",
       "1      276822  0141310340       9"
      ]
     },
     "execution_count": 18,
     "metadata": {},
     "output_type": "execute_result"
    }
   ],
   "source": [
    "#choose just the ids from the list=those who have > 1 rating\n",
    "ratings_filter=(ratings.query('user in @best_users')\n",
    "       .reset_index(drop=True)\n",
    "       .rename(columns={'user':'best users'})\n",
    ")\n",
    "\n",
    "ratings_filter.head(2)"
   ]
  },
  {
   "cell_type": "markdown",
   "metadata": {},
   "source": [
    "**Read BOOKS file**"
   ]
  },
  {
   "cell_type": "code",
   "execution_count": 19,
   "metadata": {},
   "outputs": [
    {
     "name": "stderr",
     "output_type": "stream",
     "text": [
      "C:\\Users\\Martin\\AppData\\Local\\Temp\\ipykernel_16344\\961455818.py:1: DtypeWarning: Columns (3) have mixed types. Specify dtype option on import or set low_memory=False.\n",
      "  books = pd.read_csv(file_name_books, encoding=enc, delimiter=';', on_bad_lines='skip')\n"
     ]
    },
    {
     "data": {
      "text/html": [
       "<div>\n",
       "<style scoped>\n",
       "    .dataframe tbody tr th:only-of-type {\n",
       "        vertical-align: middle;\n",
       "    }\n",
       "\n",
       "    .dataframe tbody tr th {\n",
       "        vertical-align: top;\n",
       "    }\n",
       "\n",
       "    .dataframe thead th {\n",
       "        text-align: right;\n",
       "    }\n",
       "</style>\n",
       "<table border=\"1\" class=\"dataframe\">\n",
       "  <thead>\n",
       "    <tr style=\"text-align: right;\">\n",
       "      <th></th>\n",
       "      <th>isbn</th>\n",
       "      <th>title</th>\n",
       "      <th>author</th>\n",
       "      <th>Image-URL-M</th>\n",
       "    </tr>\n",
       "  </thead>\n",
       "  <tbody>\n",
       "    <tr>\n",
       "      <th>0</th>\n",
       "      <td>0195153448</td>\n",
       "      <td>Classical Mythology</td>\n",
       "      <td>Mark P. O. Morford</td>\n",
       "      <td>http://images.amazon.com/images/P/0195153448.0...</td>\n",
       "    </tr>\n",
       "    <tr>\n",
       "      <th>1</th>\n",
       "      <td>0002005018</td>\n",
       "      <td>Clara Callan</td>\n",
       "      <td>Richard Bruce Wright</td>\n",
       "      <td>http://images.amazon.com/images/P/0002005018.0...</td>\n",
       "    </tr>\n",
       "    <tr>\n",
       "      <th>2</th>\n",
       "      <td>0060973129</td>\n",
       "      <td>Decision in Normandy</td>\n",
       "      <td>Carlo D'Este</td>\n",
       "      <td>http://images.amazon.com/images/P/0060973129.0...</td>\n",
       "    </tr>\n",
       "  </tbody>\n",
       "</table>\n",
       "</div>"
      ],
      "text/plain": [
       "         isbn                 title                author  \\\n",
       "0  0195153448   Classical Mythology    Mark P. O. Morford   \n",
       "1  0002005018          Clara Callan  Richard Bruce Wright   \n",
       "2  0060973129  Decision in Normandy          Carlo D'Este   \n",
       "\n",
       "                                         Image-URL-M  \n",
       "0  http://images.amazon.com/images/P/0195153448.0...  \n",
       "1  http://images.amazon.com/images/P/0002005018.0...  \n",
       "2  http://images.amazon.com/images/P/0060973129.0...  "
      ]
     },
     "execution_count": 19,
     "metadata": {},
     "output_type": "execute_result"
    }
   ],
   "source": [
    "books = pd.read_csv(file_name_books, encoding=enc, delimiter=';', on_bad_lines='skip')\n",
    "\n",
    "#drop and rename columns\n",
    "books=(books.drop(['Image-URL-S','Image-URL-L', 'Year-Of-Publication', 'Publisher'], axis=1)\n",
    "       .rename(columns={'ISBN':'isbn',\n",
    "                     'Book-Title':'title',\n",
    "                     'Book-Author':'author'})       \n",
    ")\n",
    "\n",
    "books.head(3)"
   ]
  },
  {
   "cell_type": "code",
   "execution_count": 20,
   "metadata": {},
   "outputs": [
    {
     "data": {
      "text/plain": [
       "(271360, 4)"
      ]
     },
     "execution_count": 20,
     "metadata": {},
     "output_type": "execute_result"
    }
   ],
   "source": [
    "books.shape"
   ]
  },
  {
   "cell_type": "markdown",
   "metadata": {},
   "source": [
    "**Clean from weird symbols**"
   ]
  },
  {
   "cell_type": "code",
   "execution_count": 21,
   "metadata": {},
   "outputs": [
    {
     "data": {
      "text/html": [
       "<div>\n",
       "<style scoped>\n",
       "    .dataframe tbody tr th:only-of-type {\n",
       "        vertical-align: middle;\n",
       "    }\n",
       "\n",
       "    .dataframe tbody tr th {\n",
       "        vertical-align: top;\n",
       "    }\n",
       "\n",
       "    .dataframe thead th {\n",
       "        text-align: right;\n",
       "    }\n",
       "</style>\n",
       "<table border=\"1\" class=\"dataframe\">\n",
       "  <thead>\n",
       "    <tr style=\"text-align: right;\">\n",
       "      <th></th>\n",
       "      <th>isbn</th>\n",
       "      <th>title</th>\n",
       "      <th>author</th>\n",
       "      <th>Image-URL-M</th>\n",
       "    </tr>\n",
       "  </thead>\n",
       "  <tbody>\n",
       "    <tr>\n",
       "      <th>162613</th>\n",
       "      <td>2013219830</td>\n",
       "      <td>Ma mÃ?Â¨re m'Ã?Â©puise</td>\n",
       "      <td>Hubert Ben Kemoun</td>\n",
       "      <td>http://images.amazon.com/images/P/2013219830.0...</td>\n",
       "    </tr>\n",
       "    <tr>\n",
       "      <th>72509</th>\n",
       "      <td>3455093450</td>\n",
       "      <td>Das Universum in der NuÃ?Â?schale.</td>\n",
       "      <td>Stephen W. Hawking</td>\n",
       "      <td>http://images.amazon.com/images/P/3455093450.0...</td>\n",
       "    </tr>\n",
       "    <tr>\n",
       "      <th>14465</th>\n",
       "      <td>3499420694</td>\n",
       "      <td>GefÃ¤hrliche Neugier (Rororo Thriller)</td>\n",
       "      <td>HansjÃ¶rg Martin</td>\n",
       "      <td>http://images.amazon.com/images/P/3499420694.0...</td>\n",
       "    </tr>\n",
       "    <tr>\n",
       "      <th>25629</th>\n",
       "      <td>8401385350</td>\n",
       "      <td>El Crimen Del Oriente (Ave fÃ©nix)</td>\n",
       "      <td>Javier Tomeo</td>\n",
       "      <td>http://images.amazon.com/images/P/8401385350.0...</td>\n",
       "    </tr>\n",
       "    <tr>\n",
       "      <th>223285</th>\n",
       "      <td>3440084477</td>\n",
       "      <td>Der Kosmos MondfÃ?Â¼hrer. Mondbeobachtung fÃ?Â...</td>\n",
       "      <td>Jean Lacroux</td>\n",
       "      <td>http://images.amazon.com/images/P/3440084477.0...</td>\n",
       "    </tr>\n",
       "  </tbody>\n",
       "</table>\n",
       "</div>"
      ],
      "text/plain": [
       "              isbn                                              title  \\\n",
       "162613  2013219830                             Ma mÃ?Â¨re m'Ã?Â©puise   \n",
       "72509   3455093450                 Das Universum in der NuÃ?Â?schale.   \n",
       "14465   3499420694             GefÃ¤hrliche Neugier (Rororo Thriller)   \n",
       "25629   8401385350                 El Crimen Del Oriente (Ave fÃ©nix)   \n",
       "223285  3440084477  Der Kosmos MondfÃ?Â¼hrer. Mondbeobachtung fÃ?Â...   \n",
       "\n",
       "                    author                                        Image-URL-M  \n",
       "162613   Hubert Ben Kemoun  http://images.amazon.com/images/P/2013219830.0...  \n",
       "72509   Stephen W. Hawking  http://images.amazon.com/images/P/3455093450.0...  \n",
       "14465     HansjÃ¶rg Martin  http://images.amazon.com/images/P/3499420694.0...  \n",
       "25629         Javier Tomeo  http://images.amazon.com/images/P/8401385350.0...  \n",
       "223285        Jean Lacroux  http://images.amazon.com/images/P/3440084477.0...  "
      ]
     },
     "execution_count": 21,
     "metadata": {},
     "output_type": "execute_result"
    }
   ],
   "source": [
    "#check for special symbols in titles\n",
    "\n",
    "import re\n",
    "\n",
    "# Define a regex pattern to match titles with weird symbols\n",
    "weird_symbols = r'[ÃÂª¶¤@©¿¡µ]' #,Â,¤\n",
    "\n",
    "\n",
    "# Use query function\n",
    "titles_with_weird_symbols = books.query('title.str.contains(@weird_symbols)')\n",
    "\n",
    "# Display the titles with weird symbols\n",
    "titles_with_weird_symbols.sample(5)"
   ]
  },
  {
   "cell_type": "code",
   "execution_count": 22,
   "metadata": {},
   "outputs": [
    {
     "name": "stdout",
     "output_type": "stream",
     "text": [
      "6662\n"
     ]
    }
   ],
   "source": [
    "#check how many\n",
    "print(len(titles_with_weird_symbols))"
   ]
  },
  {
   "cell_type": "code",
   "execution_count": 23,
   "metadata": {},
   "outputs": [
    {
     "data": {
      "text/plain": [
       "(264698, 4)"
      ]
     },
     "execution_count": 23,
     "metadata": {},
     "output_type": "execute_result"
    }
   ],
   "source": [
    "#cut off the weird titles\n",
    "list_weird_titles=list(titles_with_weird_symbols['title'])\n",
    "\n",
    "\n",
    "#filter out titles with weird symbols based on the list\n",
    "books=(books.query('title not in @list_weird_titles')\n",
    "       .reset_index(drop=True)\n",
    "       #.rename(columns={'user':'best users'})\n",
    ")\n",
    "\n",
    "books.shape"
   ]
  },
  {
   "cell_type": "markdown",
   "metadata": {},
   "source": [
    "**Add to the most active users extra columns**"
   ]
  },
  {
   "cell_type": "code",
   "execution_count": 24,
   "metadata": {},
   "outputs": [
    {
     "data": {
      "text/html": [
       "<div>\n",
       "<style scoped>\n",
       "    .dataframe tbody tr th:only-of-type {\n",
       "        vertical-align: middle;\n",
       "    }\n",
       "\n",
       "    .dataframe tbody tr th {\n",
       "        vertical-align: top;\n",
       "    }\n",
       "\n",
       "    .dataframe thead th {\n",
       "        text-align: right;\n",
       "    }\n",
       "</style>\n",
       "<table border=\"1\" class=\"dataframe\">\n",
       "  <thead>\n",
       "    <tr style=\"text-align: right;\">\n",
       "      <th></th>\n",
       "      <th>best users</th>\n",
       "      <th>isbn</th>\n",
       "      <th>rating</th>\n",
       "    </tr>\n",
       "  </thead>\n",
       "  <tbody>\n",
       "    <tr>\n",
       "      <th>0</th>\n",
       "      <td>276822</td>\n",
       "      <td>0060096195</td>\n",
       "      <td>10</td>\n",
       "    </tr>\n",
       "    <tr>\n",
       "      <th>1</th>\n",
       "      <td>276822</td>\n",
       "      <td>0141310340</td>\n",
       "      <td>9</td>\n",
       "    </tr>\n",
       "  </tbody>\n",
       "</table>\n",
       "</div>"
      ],
      "text/plain": [
       "   best users        isbn  rating\n",
       "0      276822  0060096195      10\n",
       "1      276822  0141310340       9"
      ]
     },
     "execution_count": 24,
     "metadata": {},
     "output_type": "execute_result"
    }
   ],
   "source": [
    "#reminder previous df\n",
    "ratings_filter.head(2)"
   ]
  },
  {
   "cell_type": "code",
   "execution_count": 25,
   "metadata": {},
   "outputs": [
    {
     "data": {
      "text/html": [
       "<div>\n",
       "<style scoped>\n",
       "    .dataframe tbody tr th:only-of-type {\n",
       "        vertical-align: middle;\n",
       "    }\n",
       "\n",
       "    .dataframe tbody tr th {\n",
       "        vertical-align: top;\n",
       "    }\n",
       "\n",
       "    .dataframe thead th {\n",
       "        text-align: right;\n",
       "    }\n",
       "</style>\n",
       "<table border=\"1\" class=\"dataframe\">\n",
       "  <thead>\n",
       "    <tr style=\"text-align: right;\">\n",
       "      <th></th>\n",
       "      <th>best users</th>\n",
       "      <th>isbn</th>\n",
       "      <th>rating</th>\n",
       "      <th>title</th>\n",
       "      <th>author</th>\n",
       "      <th>Image-URL-M</th>\n",
       "    </tr>\n",
       "  </thead>\n",
       "  <tbody>\n",
       "    <tr>\n",
       "      <th>46677</th>\n",
       "      <td>258534</td>\n",
       "      <td>0449221482</td>\n",
       "      <td>9</td>\n",
       "      <td>J Is for Judgment</td>\n",
       "      <td>Sue Grafton</td>\n",
       "      <td>http://images.amazon.com/images/P/0449221482.0...</td>\n",
       "    </tr>\n",
       "    <tr>\n",
       "      <th>119141</th>\n",
       "      <td>35783</td>\n",
       "      <td>847600575X</td>\n",
       "      <td>9</td>\n",
       "      <td>La Imaginacion y El Arte En La Infancia</td>\n",
       "      <td>Liev Semionovich Vigotski</td>\n",
       "      <td>http://images.amazon.com/images/P/847600575X.0...</td>\n",
       "    </tr>\n",
       "    <tr>\n",
       "      <th>91898</th>\n",
       "      <td>83671</td>\n",
       "      <td>0345338545</td>\n",
       "      <td>9</td>\n",
       "      <td>Follow the River</td>\n",
       "      <td>James Alexander Thom</td>\n",
       "      <td>http://images.amazon.com/images/P/0345338545.0...</td>\n",
       "    </tr>\n",
       "  </tbody>\n",
       "</table>\n",
       "</div>"
      ],
      "text/plain": [
       "        best users        isbn  rating  \\\n",
       "46677       258534  0449221482       9   \n",
       "119141       35783  847600575X       9   \n",
       "91898        83671  0345338545       9   \n",
       "\n",
       "                                          title                     author  \\\n",
       "46677                         J Is for Judgment                Sue Grafton   \n",
       "119141  La Imaginacion y El Arte En La Infancia  Liev Semionovich Vigotski   \n",
       "91898                          Follow the River       James Alexander Thom   \n",
       "\n",
       "                                              Image-URL-M  \n",
       "46677   http://images.amazon.com/images/P/0449221482.0...  \n",
       "119141  http://images.amazon.com/images/P/847600575X.0...  \n",
       "91898   http://images.amazon.com/images/P/0345338545.0...  "
      ]
     },
     "execution_count": 25,
     "metadata": {},
     "output_type": "execute_result"
    }
   ],
   "source": [
    "#merge 2 dataframes 'ratings-filtered' and 'books'\n",
    "ratings_filter_merge = ratings_filter.merge(books, on='isbn')\n",
    "ratings_filter_merge.sample(3)"
   ]
  },
  {
   "cell_type": "code",
   "execution_count": 26,
   "metadata": {},
   "outputs": [
    {
     "name": "stdout",
     "output_type": "stream",
     "text": [
      "274573 244608 29965\n",
      "percentage loss: 11%\n"
     ]
    }
   ],
   "source": [
    "#check the loses\n",
    "before=ratings_filter.shape[0]\n",
    "after=ratings_filter_merge.shape[0]\n",
    "delta=before-after\n",
    "\n",
    "print(before, after, delta)\n",
    "\n",
    "print(f'percentage loss: {round(delta/before*100)}%')"
   ]
  },
  {
   "cell_type": "markdown",
   "metadata": {},
   "source": [
    "**Count how many times was book rated and add this column in previous df**"
   ]
  },
  {
   "cell_type": "code",
   "execution_count": 27,
   "metadata": {},
   "outputs": [
    {
     "data": {
      "text/html": [
       "<div>\n",
       "<style scoped>\n",
       "    .dataframe tbody tr th:only-of-type {\n",
       "        vertical-align: middle;\n",
       "    }\n",
       "\n",
       "    .dataframe tbody tr th {\n",
       "        vertical-align: top;\n",
       "    }\n",
       "\n",
       "    .dataframe thead th {\n",
       "        text-align: right;\n",
       "    }\n",
       "</style>\n",
       "<table border=\"1\" class=\"dataframe\">\n",
       "  <thead>\n",
       "    <tr style=\"text-align: right;\">\n",
       "      <th></th>\n",
       "      <th>isbn</th>\n",
       "      <th>title-number of ratings</th>\n",
       "    </tr>\n",
       "  </thead>\n",
       "  <tbody>\n",
       "    <tr>\n",
       "      <th>0</th>\n",
       "      <td>0316666343</td>\n",
       "      <td>312</td>\n",
       "    </tr>\n",
       "    <tr>\n",
       "      <th>1</th>\n",
       "      <td>0385504209</td>\n",
       "      <td>262</td>\n",
       "    </tr>\n",
       "    <tr>\n",
       "      <th>2</th>\n",
       "      <td>0312195516</td>\n",
       "      <td>178</td>\n",
       "    </tr>\n",
       "    <tr>\n",
       "      <th>3</th>\n",
       "      <td>059035342X</td>\n",
       "      <td>175</td>\n",
       "    </tr>\n",
       "    <tr>\n",
       "      <th>4</th>\n",
       "      <td>0142001740</td>\n",
       "      <td>160</td>\n",
       "    </tr>\n",
       "    <tr>\n",
       "      <th>...</th>\n",
       "      <td>...</td>\n",
       "      <td>...</td>\n",
       "    </tr>\n",
       "    <tr>\n",
       "      <th>114721</th>\n",
       "      <td>0460872974</td>\n",
       "      <td>1</td>\n",
       "    </tr>\n",
       "    <tr>\n",
       "      <th>114722</th>\n",
       "      <td>0460872931</td>\n",
       "      <td>1</td>\n",
       "    </tr>\n",
       "    <tr>\n",
       "      <th>114723</th>\n",
       "      <td>B000234N3A</td>\n",
       "      <td>1</td>\n",
       "    </tr>\n",
       "    <tr>\n",
       "      <th>114724</th>\n",
       "      <td>9627982032</td>\n",
       "      <td>0</td>\n",
       "    </tr>\n",
       "    <tr>\n",
       "      <th>114725</th>\n",
       "      <td>0751352497</td>\n",
       "      <td>0</td>\n",
       "    </tr>\n",
       "  </tbody>\n",
       "</table>\n",
       "<p>114726 rows × 2 columns</p>\n",
       "</div>"
      ],
      "text/plain": [
       "              isbn  title-number of ratings\n",
       "0       0316666343                      312\n",
       "1       0385504209                      262\n",
       "2       0312195516                      178\n",
       "3       059035342X                      175\n",
       "4       0142001740                      160\n",
       "...            ...                      ...\n",
       "114721  0460872974                        1\n",
       "114722  0460872931                        1\n",
       "114723  B000234N3A                        1\n",
       "114724  9627982032                        0\n",
       "114725  0751352497                        0\n",
       "\n",
       "[114726 rows x 2 columns]"
      ]
     },
     "execution_count": 27,
     "metadata": {},
     "output_type": "execute_result"
    }
   ],
   "source": [
    "book_rating_count = (ratings_filter_merge.groupby(['isbn'])\n",
    "                    .agg({'author': 'count'})\n",
    "                    .reset_index()\n",
    "                    .sort_values('author', ascending=False)                 \n",
    ")\n",
    "\n",
    "book_rating_count = book_rating_count.reset_index(drop=True)\n",
    "\n",
    "#rename the column\n",
    "book_rating_count.rename(columns = {'author':'title-number of ratings'}, inplace=True)\n",
    "book_rating_count"
   ]
  },
  {
   "cell_type": "code",
   "execution_count": 28,
   "metadata": {},
   "outputs": [
    {
     "data": {
      "text/html": [
       "<div>\n",
       "<style scoped>\n",
       "    .dataframe tbody tr th:only-of-type {\n",
       "        vertical-align: middle;\n",
       "    }\n",
       "\n",
       "    .dataframe tbody tr th {\n",
       "        vertical-align: top;\n",
       "    }\n",
       "\n",
       "    .dataframe thead th {\n",
       "        text-align: right;\n",
       "    }\n",
       "</style>\n",
       "<table border=\"1\" class=\"dataframe\">\n",
       "  <thead>\n",
       "    <tr style=\"text-align: right;\">\n",
       "      <th></th>\n",
       "      <th>title-number of ratings</th>\n",
       "      <th>number of books with the same number of ratings</th>\n",
       "    </tr>\n",
       "  </thead>\n",
       "  <tbody>\n",
       "    <tr>\n",
       "      <th>122</th>\n",
       "      <td>312</td>\n",
       "      <td>1</td>\n",
       "    </tr>\n",
       "    <tr>\n",
       "      <th>121</th>\n",
       "      <td>262</td>\n",
       "      <td>1</td>\n",
       "    </tr>\n",
       "    <tr>\n",
       "      <th>120</th>\n",
       "      <td>178</td>\n",
       "      <td>1</td>\n",
       "    </tr>\n",
       "    <tr>\n",
       "      <th>119</th>\n",
       "      <td>175</td>\n",
       "      <td>1</td>\n",
       "    </tr>\n",
       "    <tr>\n",
       "      <th>118</th>\n",
       "      <td>160</td>\n",
       "      <td>1</td>\n",
       "    </tr>\n",
       "    <tr>\n",
       "      <th>...</th>\n",
       "      <td>...</td>\n",
       "      <td>...</td>\n",
       "    </tr>\n",
       "    <tr>\n",
       "      <th>4</th>\n",
       "      <td>4</td>\n",
       "      <td>3373</td>\n",
       "    </tr>\n",
       "    <tr>\n",
       "      <th>3</th>\n",
       "      <td>3</td>\n",
       "      <td>6323</td>\n",
       "    </tr>\n",
       "    <tr>\n",
       "      <th>2</th>\n",
       "      <td>2</td>\n",
       "      <td>16335</td>\n",
       "    </tr>\n",
       "    <tr>\n",
       "      <th>1</th>\n",
       "      <td>1</td>\n",
       "      <td>80338</td>\n",
       "    </tr>\n",
       "    <tr>\n",
       "      <th>0</th>\n",
       "      <td>0</td>\n",
       "      <td>2</td>\n",
       "    </tr>\n",
       "  </tbody>\n",
       "</table>\n",
       "<p>123 rows × 2 columns</p>\n",
       "</div>"
      ],
      "text/plain": [
       "     title-number of ratings  number of books with the same number of ratings\n",
       "122                      312                                                1\n",
       "121                      262                                                1\n",
       "120                      178                                                1\n",
       "119                      175                                                1\n",
       "118                      160                                                1\n",
       "..                       ...                                              ...\n",
       "4                          4                                             3373\n",
       "3                          3                                             6323\n",
       "2                          2                                            16335\n",
       "1                          1                                            80338\n",
       "0                          0                                                2\n",
       "\n",
       "[123 rows x 2 columns]"
      ]
     },
     "execution_count": 28,
     "metadata": {},
     "output_type": "execute_result"
    }
   ],
   "source": [
    "#count how many isbns have same amount of ratings\n",
    "isbn_same_number_rating = (book_rating_count.groupby(['title-number of ratings'])\n",
    "                    .agg({'isbn': 'count'})\n",
    "                    .reset_index()\n",
    "                    .sort_values('title-number of ratings', ascending=False)\n",
    "                    .rename(columns=({'isbn':'number of books with the same number of ratings'})) \n",
    ")\n",
    "\n",
    "isbn_same_number_rating"
   ]
  },
  {
   "cell_type": "code",
   "execution_count": 29,
   "metadata": {},
   "outputs": [
    {
     "data": {
      "text/html": [
       "<div>\n",
       "<style scoped>\n",
       "    .dataframe tbody tr th:only-of-type {\n",
       "        vertical-align: middle;\n",
       "    }\n",
       "\n",
       "    .dataframe tbody tr th {\n",
       "        vertical-align: top;\n",
       "    }\n",
       "\n",
       "    .dataframe thead th {\n",
       "        text-align: right;\n",
       "    }\n",
       "</style>\n",
       "<table border=\"1\" class=\"dataframe\">\n",
       "  <thead>\n",
       "    <tr style=\"text-align: right;\">\n",
       "      <th></th>\n",
       "      <th>best users</th>\n",
       "      <th>isbn</th>\n",
       "      <th>rating</th>\n",
       "      <th>title</th>\n",
       "      <th>author</th>\n",
       "      <th>Image-URL-M</th>\n",
       "      <th>title-number of ratings</th>\n",
       "    </tr>\n",
       "  </thead>\n",
       "  <tbody>\n",
       "    <tr>\n",
       "      <th>26201</th>\n",
       "      <td>243294</td>\n",
       "      <td>0440147956</td>\n",
       "      <td>10</td>\n",
       "      <td>Light a Penny Candle</td>\n",
       "      <td>Maeve Binchy</td>\n",
       "      <td>http://images.amazon.com/images/P/0440147956.0...</td>\n",
       "      <td>9</td>\n",
       "    </tr>\n",
       "    <tr>\n",
       "      <th>89125</th>\n",
       "      <td>16634</td>\n",
       "      <td>0553291165</td>\n",
       "      <td>8</td>\n",
       "      <td>Raising the Stones</td>\n",
       "      <td>Sheri S. Tepper</td>\n",
       "      <td>http://images.amazon.com/images/P/0553291165.0...</td>\n",
       "      <td>2</td>\n",
       "    </tr>\n",
       "    <tr>\n",
       "      <th>239941</th>\n",
       "      <td>255218</td>\n",
       "      <td>0881848522</td>\n",
       "      <td>10</td>\n",
       "      <td>Ring Around the Sun (Masters of Science Fiction)</td>\n",
       "      <td>Clifford D. Simak</td>\n",
       "      <td>http://images.amazon.com/images/P/0881848522.0...</td>\n",
       "      <td>1</td>\n",
       "    </tr>\n",
       "    <tr>\n",
       "      <th>219634</th>\n",
       "      <td>189835</td>\n",
       "      <td>0688115586</td>\n",
       "      <td>5</td>\n",
       "      <td>The Emerald City of Oz (Books of Wonder)</td>\n",
       "      <td>L. Frank Baum</td>\n",
       "      <td>http://images.amazon.com/images/P/0688115586.0...</td>\n",
       "      <td>1</td>\n",
       "    </tr>\n",
       "    <tr>\n",
       "      <th>43730</th>\n",
       "      <td>259035</td>\n",
       "      <td>0446611085</td>\n",
       "      <td>10</td>\n",
       "      <td>Suzanne's Diary for Nicholas</td>\n",
       "      <td>James Patterson</td>\n",
       "      <td>http://images.amazon.com/images/P/0446611085.0...</td>\n",
       "      <td>35</td>\n",
       "    </tr>\n",
       "  </tbody>\n",
       "</table>\n",
       "</div>"
      ],
      "text/plain": [
       "        best users        isbn  rating  \\\n",
       "26201       243294  0440147956      10   \n",
       "89125        16634  0553291165       8   \n",
       "239941      255218  0881848522      10   \n",
       "219634      189835  0688115586       5   \n",
       "43730       259035  0446611085      10   \n",
       "\n",
       "                                                   title             author  \\\n",
       "26201                               Light a Penny Candle       Maeve Binchy   \n",
       "89125                                 Raising the Stones    Sheri S. Tepper   \n",
       "239941  Ring Around the Sun (Masters of Science Fiction)  Clifford D. Simak   \n",
       "219634          The Emerald City of Oz (Books of Wonder)      L. Frank Baum   \n",
       "43730                       Suzanne's Diary for Nicholas    James Patterson   \n",
       "\n",
       "                                              Image-URL-M  \\\n",
       "26201   http://images.amazon.com/images/P/0440147956.0...   \n",
       "89125   http://images.amazon.com/images/P/0553291165.0...   \n",
       "239941  http://images.amazon.com/images/P/0881848522.0...   \n",
       "219634  http://images.amazon.com/images/P/0688115586.0...   \n",
       "43730   http://images.amazon.com/images/P/0446611085.0...   \n",
       "\n",
       "        title-number of ratings  \n",
       "26201                         9  \n",
       "89125                         2  \n",
       "239941                        1  \n",
       "219634                        1  \n",
       "43730                        35  "
      ]
     },
     "execution_count": 29,
     "metadata": {},
     "output_type": "execute_result"
    }
   ],
   "source": [
    "#Add column Book-Rating-Count into main df - using merge\n",
    "final_df = ratings_filter_merge.merge(book_rating_count, on='isbn')\n",
    "final_df.sample(5)"
   ]
  },
  {
   "cell_type": "markdown",
   "metadata": {},
   "source": [
    "**Filter out based on number of rates**"
   ]
  },
  {
   "cell_type": "code",
   "execution_count": 30,
   "metadata": {},
   "outputs": [
    {
     "data": {
      "image/png": "[encoded data removed]",
      "text/plain": [
       "<Figure size 640x480 with 1 Axes>"
      ]
     },
     "metadata": {},
     "output_type": "display_data"
    }
   ],
   "source": [
    "#plot the chart\n",
    "curve_chart(df=isbn_same_number_rating, \n",
    "            x_col='title-number of ratings',\n",
    "            y_col='number of books with the same number of ratings',\n",
    "            x_lim=30, \n",
    "            y_lim=6000, \n",
    "            x_label='Number of ratings', \n",
    "            y_label='Number of titles'\n",
    ")"
   ]
  },
  {
   "cell_type": "code",
   "execution_count": 31,
   "metadata": {},
   "outputs": [
    {
     "data": {
      "text/html": [
       "<div>\n",
       "<style scoped>\n",
       "    .dataframe tbody tr th:only-of-type {\n",
       "        vertical-align: middle;\n",
       "    }\n",
       "\n",
       "    .dataframe tbody tr th {\n",
       "        vertical-align: top;\n",
       "    }\n",
       "\n",
       "    .dataframe thead th {\n",
       "        text-align: right;\n",
       "    }\n",
       "</style>\n",
       "<table border=\"1\" class=\"dataframe\">\n",
       "  <thead>\n",
       "    <tr style=\"text-align: right;\">\n",
       "      <th></th>\n",
       "      <th>best users</th>\n",
       "      <th>isbn</th>\n",
       "      <th>rating</th>\n",
       "      <th>title</th>\n",
       "      <th>author</th>\n",
       "      <th>Image-URL-M</th>\n",
       "      <th>title-number of ratings</th>\n",
       "    </tr>\n",
       "  </thead>\n",
       "  <tbody>\n",
       "    <tr>\n",
       "      <th>187285</th>\n",
       "      <td>184513</td>\n",
       "      <td>0312958129</td>\n",
       "      <td>7</td>\n",
       "      <td>Coming Home</td>\n",
       "      <td>Rosamunde Pilcher</td>\n",
       "      <td>http://images.amazon.com/images/P/0312958129.0...</td>\n",
       "      <td>12</td>\n",
       "    </tr>\n",
       "    <tr>\n",
       "      <th>187286</th>\n",
       "      <td>233117</td>\n",
       "      <td>0312958129</td>\n",
       "      <td>10</td>\n",
       "      <td>Coming Home</td>\n",
       "      <td>Rosamunde Pilcher</td>\n",
       "      <td>http://images.amazon.com/images/P/0312958129.0...</td>\n",
       "      <td>12</td>\n",
       "    </tr>\n",
       "    <tr>\n",
       "      <th>187287</th>\n",
       "      <td>245645</td>\n",
       "      <td>0312958129</td>\n",
       "      <td>10</td>\n",
       "      <td>Coming Home</td>\n",
       "      <td>Rosamunde Pilcher</td>\n",
       "      <td>http://images.amazon.com/images/P/0312958129.0...</td>\n",
       "      <td>12</td>\n",
       "    </tr>\n",
       "    <tr>\n",
       "      <th>187288</th>\n",
       "      <td>270352</td>\n",
       "      <td>0312958129</td>\n",
       "      <td>6</td>\n",
       "      <td>Coming Home</td>\n",
       "      <td>Rosamunde Pilcher</td>\n",
       "      <td>http://images.amazon.com/images/P/0312958129.0...</td>\n",
       "      <td>12</td>\n",
       "    </tr>\n",
       "    <tr>\n",
       "      <th>187289</th>\n",
       "      <td>274301</td>\n",
       "      <td>0312958129</td>\n",
       "      <td>10</td>\n",
       "      <td>Coming Home</td>\n",
       "      <td>Rosamunde Pilcher</td>\n",
       "      <td>http://images.amazon.com/images/P/0312958129.0...</td>\n",
       "      <td>12</td>\n",
       "    </tr>\n",
       "  </tbody>\n",
       "</table>\n",
       "</div>"
      ],
      "text/plain": [
       "        best users        isbn  rating        title             author  \\\n",
       "187285      184513  0312958129       7  Coming Home  Rosamunde Pilcher   \n",
       "187286      233117  0312958129      10  Coming Home  Rosamunde Pilcher   \n",
       "187287      245645  0312958129      10  Coming Home  Rosamunde Pilcher   \n",
       "187288      270352  0312958129       6  Coming Home  Rosamunde Pilcher   \n",
       "187289      274301  0312958129      10  Coming Home  Rosamunde Pilcher   \n",
       "\n",
       "                                              Image-URL-M  \\\n",
       "187285  http://images.amazon.com/images/P/0312958129.0...   \n",
       "187286  http://images.amazon.com/images/P/0312958129.0...   \n",
       "187287  http://images.amazon.com/images/P/0312958129.0...   \n",
       "187288  http://images.amazon.com/images/P/0312958129.0...   \n",
       "187289  http://images.amazon.com/images/P/0312958129.0...   \n",
       "\n",
       "        title-number of ratings  \n",
       "187285                       12  \n",
       "187286                       12  \n",
       "187287                       12  \n",
       "187288                       12  \n",
       "187289                       12  "
      ]
     },
     "execution_count": 31,
     "metadata": {},
     "output_type": "execute_result"
    }
   ],
   "source": [
    "#filter books with the rating >= 1\n",
    "#If I kept the rating just 1, I would recommend other books to the same user!!!\n",
    "\n",
    "final_df_filtered=final_df.query('`title-number of ratings`>10')\n",
    "\n",
    "final_df_filtered.tail(5)"
   ]
  },
  {
   "cell_type": "code",
   "execution_count": 32,
   "metadata": {},
   "outputs": [
    {
     "name": "stdout",
     "output_type": "stream",
     "text": [
      "244608 61573 183035\n",
      "percentage loss: 75%\n"
     ]
    }
   ],
   "source": [
    "before=final_df.shape[0]\n",
    "after=final_df_filtered.shape[0]\n",
    "delta=before-after\n",
    "\n",
    "print(before, after, delta)\n",
    "print(f'percentage loss: {round(delta/before*100)}%')"
   ]
  },
  {
   "cell_type": "markdown",
   "metadata": {},
   "source": [
    "**Check the unique titles and isbn**"
   ]
  },
  {
   "cell_type": "code",
   "execution_count": 33,
   "metadata": {},
   "outputs": [
    {
     "name": "stdout",
     "output_type": "stream",
     "text": [
      "2647 2389\n"
     ]
    }
   ],
   "source": [
    "unique_isbn_check=final_df_filtered.groupby(['isbn'])\n",
    "unique_title_check=final_df_filtered.groupby(['title'])\n",
    "\n",
    "\n",
    "isbn_count=len(unique_isbn_check['isbn'])\n",
    "title_count=len(unique_title_check['title'])\n",
    "\n",
    "print(isbn_count,title_count)"
   ]
  },
  {
   "cell_type": "code",
   "execution_count": 34,
   "metadata": {},
   "outputs": [
    {
     "data": {
      "text/plain": [
       "0"
      ]
     },
     "execution_count": 34,
     "metadata": {},
     "output_type": "execute_result"
    }
   ],
   "source": [
    "#check duplicates user rates on the same isbn more than once\n",
    "check_duplicates = final_df_filtered[['best users', 'isbn']].duplicated().sum()\n",
    "check_duplicates"
   ]
  },
  {
   "cell_type": "markdown",
   "metadata": {},
   "source": [
    "**PIVOT TABLE**"
   ]
  },
  {
   "cell_type": "code",
   "execution_count": 35,
   "metadata": {},
   "outputs": [
    {
     "data": {
      "text/plain": [
       "(2389, 5538)"
      ]
     },
     "execution_count": 35,
     "metadata": {},
     "output_type": "execute_result"
    }
   ],
   "source": [
    "final_df_filtered = final_df_filtered.reset_index(drop=True)\n",
    "\n",
    "recommend_pivot = final_df_filtered.pivot_table(columns='best users', index='title' , values=\"rating\")\n",
    "\n",
    "# #missing values NaN are replaced by zeros\n",
    "recommend_pivot.fillna(0, inplace=True)\n",
    "\n",
    "recommend_pivot.shape"
   ]
  },
  {
   "cell_type": "code",
   "execution_count": 36,
   "metadata": {},
   "outputs": [
    {
     "data": {
      "text/html": [
       "<div>\n",
       "<style scoped>\n",
       "    .dataframe tbody tr th:only-of-type {\n",
       "        vertical-align: middle;\n",
       "    }\n",
       "\n",
       "    .dataframe tbody tr th {\n",
       "        vertical-align: top;\n",
       "    }\n",
       "\n",
       "    .dataframe thead th {\n",
       "        text-align: right;\n",
       "    }\n",
       "</style>\n",
       "<table border=\"1\" class=\"dataframe\">\n",
       "  <thead>\n",
       "    <tr style=\"text-align: right;\">\n",
       "      <th>best users</th>\n",
       "      <th>242</th>\n",
       "      <th>243</th>\n",
       "      <th>254</th>\n",
       "      <th>388</th>\n",
       "      <th>446</th>\n",
       "      <th>503</th>\n",
       "      <th>505</th>\n",
       "      <th>507</th>\n",
       "      <th>638</th>\n",
       "      <th>643</th>\n",
       "      <th>...</th>\n",
       "      <th>278221</th>\n",
       "      <th>278356</th>\n",
       "      <th>278390</th>\n",
       "      <th>278418</th>\n",
       "      <th>278535</th>\n",
       "      <th>278554</th>\n",
       "      <th>278582</th>\n",
       "      <th>278633</th>\n",
       "      <th>278843</th>\n",
       "      <th>278851</th>\n",
       "    </tr>\n",
       "    <tr>\n",
       "      <th>title</th>\n",
       "      <th></th>\n",
       "      <th></th>\n",
       "      <th></th>\n",
       "      <th></th>\n",
       "      <th></th>\n",
       "      <th></th>\n",
       "      <th></th>\n",
       "      <th></th>\n",
       "      <th></th>\n",
       "      <th></th>\n",
       "      <th></th>\n",
       "      <th></th>\n",
       "      <th></th>\n",
       "      <th></th>\n",
       "      <th></th>\n",
       "      <th></th>\n",
       "      <th></th>\n",
       "      <th></th>\n",
       "      <th></th>\n",
       "      <th></th>\n",
       "      <th></th>\n",
       "    </tr>\n",
       "  </thead>\n",
       "  <tbody>\n",
       "    <tr>\n",
       "      <th>10 Lb. Penalty</th>\n",
       "      <td>0.0</td>\n",
       "      <td>0.0</td>\n",
       "      <td>0.0</td>\n",
       "      <td>0.0</td>\n",
       "      <td>0.0</td>\n",
       "      <td>0.0</td>\n",
       "      <td>0.0</td>\n",
       "      <td>0.0</td>\n",
       "      <td>0.0</td>\n",
       "      <td>0.0</td>\n",
       "      <td>...</td>\n",
       "      <td>0.0</td>\n",
       "      <td>0.0</td>\n",
       "      <td>0.0</td>\n",
       "      <td>0.0</td>\n",
       "      <td>0.0</td>\n",
       "      <td>0.0</td>\n",
       "      <td>0.0</td>\n",
       "      <td>0.0</td>\n",
       "      <td>0.0</td>\n",
       "      <td>0.0</td>\n",
       "    </tr>\n",
       "    <tr>\n",
       "      <th>16 Lighthouse Road</th>\n",
       "      <td>0.0</td>\n",
       "      <td>0.0</td>\n",
       "      <td>0.0</td>\n",
       "      <td>0.0</td>\n",
       "      <td>0.0</td>\n",
       "      <td>0.0</td>\n",
       "      <td>0.0</td>\n",
       "      <td>0.0</td>\n",
       "      <td>0.0</td>\n",
       "      <td>0.0</td>\n",
       "      <td>...</td>\n",
       "      <td>0.0</td>\n",
       "      <td>0.0</td>\n",
       "      <td>0.0</td>\n",
       "      <td>0.0</td>\n",
       "      <td>0.0</td>\n",
       "      <td>0.0</td>\n",
       "      <td>0.0</td>\n",
       "      <td>0.0</td>\n",
       "      <td>0.0</td>\n",
       "      <td>0.0</td>\n",
       "    </tr>\n",
       "    <tr>\n",
       "      <th>1984</th>\n",
       "      <td>0.0</td>\n",
       "      <td>0.0</td>\n",
       "      <td>9.0</td>\n",
       "      <td>0.0</td>\n",
       "      <td>0.0</td>\n",
       "      <td>0.0</td>\n",
       "      <td>0.0</td>\n",
       "      <td>0.0</td>\n",
       "      <td>0.0</td>\n",
       "      <td>0.0</td>\n",
       "      <td>...</td>\n",
       "      <td>0.0</td>\n",
       "      <td>0.0</td>\n",
       "      <td>0.0</td>\n",
       "      <td>0.0</td>\n",
       "      <td>0.0</td>\n",
       "      <td>0.0</td>\n",
       "      <td>0.0</td>\n",
       "      <td>0.0</td>\n",
       "      <td>0.0</td>\n",
       "      <td>0.0</td>\n",
       "    </tr>\n",
       "  </tbody>\n",
       "</table>\n",
       "<p>3 rows × 5538 columns</p>\n",
       "</div>"
      ],
      "text/plain": [
       "best users          242     243     254     388     446     503     505     \\\n",
       "title                                                                        \n",
       "10 Lb. Penalty         0.0     0.0     0.0     0.0     0.0     0.0     0.0   \n",
       "16 Lighthouse Road     0.0     0.0     0.0     0.0     0.0     0.0     0.0   \n",
       "1984                   0.0     0.0     9.0     0.0     0.0     0.0     0.0   \n",
       "\n",
       "best users          507     638     643     ...  278221  278356  278390  \\\n",
       "title                                       ...                           \n",
       "10 Lb. Penalty         0.0     0.0     0.0  ...     0.0     0.0     0.0   \n",
       "16 Lighthouse Road     0.0     0.0     0.0  ...     0.0     0.0     0.0   \n",
       "1984                   0.0     0.0     0.0  ...     0.0     0.0     0.0   \n",
       "\n",
       "best users          278418  278535  278554  278582  278633  278843  278851  \n",
       "title                                                                       \n",
       "10 Lb. Penalty         0.0     0.0     0.0     0.0     0.0     0.0     0.0  \n",
       "16 Lighthouse Road     0.0     0.0     0.0     0.0     0.0     0.0     0.0  \n",
       "1984                   0.0     0.0     0.0     0.0     0.0     0.0     0.0  \n",
       "\n",
       "[3 rows x 5538 columns]"
      ]
     },
     "execution_count": 36,
     "metadata": {},
     "output_type": "execute_result"
    }
   ],
   "source": [
    "recommend_pivot.head(3)"
   ]
  },
  {
   "cell_type": "markdown",
   "metadata": {},
   "source": [
    "**--------------------------------------**"
   ]
  },
  {
   "cell_type": "markdown",
   "metadata": {},
   "source": [
    "\n",
    "**MY APPROACH**\n"
   ]
  },
  {
   "cell_type": "markdown",
   "metadata": {},
   "source": [
    "**--------------------------------------**"
   ]
  },
  {
   "cell_type": "code",
   "execution_count": 37,
   "metadata": {},
   "outputs": [
    {
     "data": {
      "text/html": [
       "<div>\n",
       "<style scoped>\n",
       "    .dataframe tbody tr th:only-of-type {\n",
       "        vertical-align: middle;\n",
       "    }\n",
       "\n",
       "    .dataframe tbody tr th {\n",
       "        vertical-align: top;\n",
       "    }\n",
       "\n",
       "    .dataframe thead th {\n",
       "        text-align: right;\n",
       "    }\n",
       "</style>\n",
       "<table border=\"1\" class=\"dataframe\">\n",
       "  <thead>\n",
       "    <tr style=\"text-align: right;\">\n",
       "      <th>best users</th>\n",
       "      <th>242</th>\n",
       "      <th>243</th>\n",
       "      <th>254</th>\n",
       "      <th>388</th>\n",
       "      <th>446</th>\n",
       "      <th>503</th>\n",
       "      <th>505</th>\n",
       "      <th>507</th>\n",
       "      <th>638</th>\n",
       "      <th>643</th>\n",
       "      <th>...</th>\n",
       "      <th>278221</th>\n",
       "      <th>278356</th>\n",
       "      <th>278390</th>\n",
       "      <th>278418</th>\n",
       "      <th>278535</th>\n",
       "      <th>278554</th>\n",
       "      <th>278582</th>\n",
       "      <th>278633</th>\n",
       "      <th>278843</th>\n",
       "      <th>278851</th>\n",
       "    </tr>\n",
       "    <tr>\n",
       "      <th>title</th>\n",
       "      <th></th>\n",
       "      <th></th>\n",
       "      <th></th>\n",
       "      <th></th>\n",
       "      <th></th>\n",
       "      <th></th>\n",
       "      <th></th>\n",
       "      <th></th>\n",
       "      <th></th>\n",
       "      <th></th>\n",
       "      <th></th>\n",
       "      <th></th>\n",
       "      <th></th>\n",
       "      <th></th>\n",
       "      <th></th>\n",
       "      <th></th>\n",
       "      <th></th>\n",
       "      <th></th>\n",
       "      <th></th>\n",
       "      <th></th>\n",
       "      <th></th>\n",
       "    </tr>\n",
       "  </thead>\n",
       "  <tbody>\n",
       "    <tr>\n",
       "      <th>10 Lb. Penalty</th>\n",
       "      <td>0.0</td>\n",
       "      <td>0.0</td>\n",
       "      <td>0.0</td>\n",
       "      <td>0.0</td>\n",
       "      <td>0.0</td>\n",
       "      <td>0.0</td>\n",
       "      <td>0.0</td>\n",
       "      <td>0.0</td>\n",
       "      <td>0.0</td>\n",
       "      <td>0.0</td>\n",
       "      <td>...</td>\n",
       "      <td>0.0</td>\n",
       "      <td>0.0</td>\n",
       "      <td>0.0</td>\n",
       "      <td>0.0</td>\n",
       "      <td>0.0</td>\n",
       "      <td>0.0</td>\n",
       "      <td>0.0</td>\n",
       "      <td>0.0</td>\n",
       "      <td>0.0</td>\n",
       "      <td>0.0</td>\n",
       "    </tr>\n",
       "    <tr>\n",
       "      <th>16 Lighthouse Road</th>\n",
       "      <td>0.0</td>\n",
       "      <td>0.0</td>\n",
       "      <td>0.0</td>\n",
       "      <td>0.0</td>\n",
       "      <td>0.0</td>\n",
       "      <td>0.0</td>\n",
       "      <td>0.0</td>\n",
       "      <td>0.0</td>\n",
       "      <td>0.0</td>\n",
       "      <td>0.0</td>\n",
       "      <td>...</td>\n",
       "      <td>0.0</td>\n",
       "      <td>0.0</td>\n",
       "      <td>0.0</td>\n",
       "      <td>0.0</td>\n",
       "      <td>0.0</td>\n",
       "      <td>0.0</td>\n",
       "      <td>0.0</td>\n",
       "      <td>0.0</td>\n",
       "      <td>0.0</td>\n",
       "      <td>0.0</td>\n",
       "    </tr>\n",
       "  </tbody>\n",
       "</table>\n",
       "<p>2 rows × 5538 columns</p>\n",
       "</div>"
      ],
      "text/plain": [
       "best users          242     243     254     388     446     503     505     \\\n",
       "title                                                                        \n",
       "10 Lb. Penalty         0.0     0.0     0.0     0.0     0.0     0.0     0.0   \n",
       "16 Lighthouse Road     0.0     0.0     0.0     0.0     0.0     0.0     0.0   \n",
       "\n",
       "best users          507     638     643     ...  278221  278356  278390  \\\n",
       "title                                       ...                           \n",
       "10 Lb. Penalty         0.0     0.0     0.0  ...     0.0     0.0     0.0   \n",
       "16 Lighthouse Road     0.0     0.0     0.0  ...     0.0     0.0     0.0   \n",
       "\n",
       "best users          278418  278535  278554  278582  278633  278843  278851  \n",
       "title                                                                       \n",
       "10 Lb. Penalty         0.0     0.0     0.0     0.0     0.0     0.0     0.0  \n",
       "16 Lighthouse Road     0.0     0.0     0.0     0.0     0.0     0.0     0.0  \n",
       "\n",
       "[2 rows x 5538 columns]"
      ]
     },
     "execution_count": 37,
     "metadata": {},
     "output_type": "execute_result"
    }
   ],
   "source": [
    "#rename the pivot table \n",
    "pivot_mine = recommend_pivot\n",
    "pivot_mine.head(2)"
   ]
  },
  {
   "cell_type": "code",
   "execution_count": 38,
   "metadata": {},
   "outputs": [
    {
     "name": "stdout",
     "output_type": "stream",
     "text": [
      "The index of 'It' is at location 876.\n"
     ]
    }
   ],
   "source": [
    "#whisper function - get the index of certain book:\n",
    "index_location=book_index_finder('It', pivot_mine)"
   ]
  },
  {
   "cell_type": "code",
   "execution_count": 39,
   "metadata": {},
   "outputs": [
    {
     "data": {
      "text/plain": [
       "best users\n",
       "242    0.0\n",
       "243    0.0\n",
       "254    0.0\n",
       "388    0.0\n",
       "446    0.0\n",
       "Name: It, dtype: float64"
      ]
     },
     "execution_count": 39,
     "metadata": {},
     "output_type": "execute_result"
    }
   ],
   "source": [
    "#choose the searched book=row => columns with those who rated same book\n",
    "searched_book=pivot_mine.iloc[index_location, :]\n",
    "searched_book.head(5)"
   ]
  },
  {
   "cell_type": "code",
   "execution_count": 40,
   "metadata": {},
   "outputs": [
    {
     "data": {
      "text/html": [
       "<div>\n",
       "<style scoped>\n",
       "    .dataframe tbody tr th:only-of-type {\n",
       "        vertical-align: middle;\n",
       "    }\n",
       "\n",
       "    .dataframe tbody tr th {\n",
       "        vertical-align: top;\n",
       "    }\n",
       "\n",
       "    .dataframe thead th {\n",
       "        text-align: right;\n",
       "    }\n",
       "</style>\n",
       "<table border=\"1\" class=\"dataframe\">\n",
       "  <thead>\n",
       "    <tr style=\"text-align: right;\">\n",
       "      <th></th>\n",
       "      <th>rating</th>\n",
       "    </tr>\n",
       "    <tr>\n",
       "      <th>best users</th>\n",
       "      <th></th>\n",
       "    </tr>\n",
       "  </thead>\n",
       "  <tbody>\n",
       "    <tr>\n",
       "      <th>242</th>\n",
       "      <td>0.0</td>\n",
       "    </tr>\n",
       "    <tr>\n",
       "      <th>243</th>\n",
       "      <td>0.0</td>\n",
       "    </tr>\n",
       "    <tr>\n",
       "      <th>254</th>\n",
       "      <td>0.0</td>\n",
       "    </tr>\n",
       "    <tr>\n",
       "      <th>388</th>\n",
       "      <td>0.0</td>\n",
       "    </tr>\n",
       "    <tr>\n",
       "      <th>446</th>\n",
       "      <td>0.0</td>\n",
       "    </tr>\n",
       "  </tbody>\n",
       "</table>\n",
       "</div>"
      ],
      "text/plain": [
       "            rating\n",
       "best users        \n",
       "242            0.0\n",
       "243            0.0\n",
       "254            0.0\n",
       "388            0.0\n",
       "446            0.0"
      ]
     },
     "execution_count": 40,
     "metadata": {},
     "output_type": "execute_result"
    }
   ],
   "source": [
    "#convert Series into dataframe\n",
    "same_book_readers=pd.DataFrame({'rating':searched_book})\n",
    "same_book_readers.head(5)"
   ]
  },
  {
   "cell_type": "code",
   "execution_count": 41,
   "metadata": {},
   "outputs": [
    {
     "name": "stdout",
     "output_type": "stream",
     "text": [
      "(41, 2)\n"
     ]
    },
    {
     "data": {
      "text/html": [
       "<div>\n",
       "<style scoped>\n",
       "    .dataframe tbody tr th:only-of-type {\n",
       "        vertical-align: middle;\n",
       "    }\n",
       "\n",
       "    .dataframe tbody tr th {\n",
       "        vertical-align: top;\n",
       "    }\n",
       "\n",
       "    .dataframe thead th {\n",
       "        text-align: right;\n",
       "    }\n",
       "</style>\n",
       "<table border=\"1\" class=\"dataframe\">\n",
       "  <thead>\n",
       "    <tr style=\"text-align: right;\">\n",
       "      <th></th>\n",
       "      <th>best users</th>\n",
       "      <th>rating</th>\n",
       "    </tr>\n",
       "  </thead>\n",
       "  <tbody>\n",
       "    <tr>\n",
       "      <th>0</th>\n",
       "      <td>4334</td>\n",
       "      <td>8.0</td>\n",
       "    </tr>\n",
       "    <tr>\n",
       "      <th>1</th>\n",
       "      <td>11676</td>\n",
       "      <td>8.0</td>\n",
       "    </tr>\n",
       "    <tr>\n",
       "      <th>2</th>\n",
       "      <td>16795</td>\n",
       "      <td>8.0</td>\n",
       "    </tr>\n",
       "    <tr>\n",
       "      <th>3</th>\n",
       "      <td>31826</td>\n",
       "      <td>10.0</td>\n",
       "    </tr>\n",
       "    <tr>\n",
       "      <th>4</th>\n",
       "      <td>32569</td>\n",
       "      <td>10.0</td>\n",
       "    </tr>\n",
       "  </tbody>\n",
       "</table>\n",
       "</div>"
      ],
      "text/plain": [
       "   best users  rating\n",
       "0        4334     8.0\n",
       "1       11676     8.0\n",
       "2       16795     8.0\n",
       "3       31826    10.0\n",
       "4       32569    10.0"
      ]
     },
     "execution_count": 41,
     "metadata": {},
     "output_type": "execute_result"
    }
   ],
   "source": [
    "#keep just those who rated > 8, those who liked the book\n",
    "same_book_readers=same_book_readers.query('rating >= 8').reset_index()\n",
    "print(same_book_readers.shape)\n",
    "same_book_readers.head(5)"
   ]
  },
  {
   "cell_type": "code",
   "execution_count": 42,
   "metadata": {},
   "outputs": [
    {
     "data": {
      "text/plain": [
       "[4334, 11676, 16795]"
      ]
     },
     "execution_count": 42,
     "metadata": {},
     "output_type": "execute_result"
    }
   ],
   "source": [
    "#convert a df into a list\n",
    "columns_to_keep=same_book_readers['best users'].tolist()\n",
    "columns_to_keep[0:3]"
   ]
  },
  {
   "cell_type": "code",
   "execution_count": 43,
   "metadata": {},
   "outputs": [
    {
     "data": {
      "text/html": [
       "<div>\n",
       "<style scoped>\n",
       "    .dataframe tbody tr th:only-of-type {\n",
       "        vertical-align: middle;\n",
       "    }\n",
       "\n",
       "    .dataframe tbody tr th {\n",
       "        vertical-align: top;\n",
       "    }\n",
       "\n",
       "    .dataframe thead th {\n",
       "        text-align: right;\n",
       "    }\n",
       "</style>\n",
       "<table border=\"1\" class=\"dataframe\">\n",
       "  <thead>\n",
       "    <tr style=\"text-align: right;\">\n",
       "      <th>best users</th>\n",
       "      <th>4334</th>\n",
       "      <th>11676</th>\n",
       "      <th>16795</th>\n",
       "      <th>31826</th>\n",
       "      <th>32569</th>\n",
       "      <th>32599</th>\n",
       "      <th>35859</th>\n",
       "      <th>37293</th>\n",
       "      <th>43806</th>\n",
       "      <th>53392</th>\n",
       "      <th>...</th>\n",
       "      <th>211426</th>\n",
       "      <th>219683</th>\n",
       "      <th>224764</th>\n",
       "      <th>232106</th>\n",
       "      <th>234597</th>\n",
       "      <th>236283</th>\n",
       "      <th>254206</th>\n",
       "      <th>258534</th>\n",
       "      <th>259901</th>\n",
       "      <th>274061</th>\n",
       "    </tr>\n",
       "    <tr>\n",
       "      <th>title</th>\n",
       "      <th></th>\n",
       "      <th></th>\n",
       "      <th></th>\n",
       "      <th></th>\n",
       "      <th></th>\n",
       "      <th></th>\n",
       "      <th></th>\n",
       "      <th></th>\n",
       "      <th></th>\n",
       "      <th></th>\n",
       "      <th></th>\n",
       "      <th></th>\n",
       "      <th></th>\n",
       "      <th></th>\n",
       "      <th></th>\n",
       "      <th></th>\n",
       "      <th></th>\n",
       "      <th></th>\n",
       "      <th></th>\n",
       "      <th></th>\n",
       "      <th></th>\n",
       "    </tr>\n",
       "  </thead>\n",
       "  <tbody>\n",
       "    <tr>\n",
       "      <th>10 Lb. Penalty</th>\n",
       "      <td>0.0</td>\n",
       "      <td>0.0</td>\n",
       "      <td>0.0</td>\n",
       "      <td>0.0</td>\n",
       "      <td>0.0</td>\n",
       "      <td>0.0</td>\n",
       "      <td>0.0</td>\n",
       "      <td>0.0</td>\n",
       "      <td>0.0</td>\n",
       "      <td>0.0</td>\n",
       "      <td>...</td>\n",
       "      <td>0.0</td>\n",
       "      <td>0.0</td>\n",
       "      <td>0.0</td>\n",
       "      <td>0.0</td>\n",
       "      <td>0.0</td>\n",
       "      <td>0.0</td>\n",
       "      <td>0.0</td>\n",
       "      <td>0.0</td>\n",
       "      <td>0.0</td>\n",
       "      <td>0.0</td>\n",
       "    </tr>\n",
       "    <tr>\n",
       "      <th>16 Lighthouse Road</th>\n",
       "      <td>0.0</td>\n",
       "      <td>0.0</td>\n",
       "      <td>0.0</td>\n",
       "      <td>0.0</td>\n",
       "      <td>0.0</td>\n",
       "      <td>0.0</td>\n",
       "      <td>0.0</td>\n",
       "      <td>0.0</td>\n",
       "      <td>0.0</td>\n",
       "      <td>0.0</td>\n",
       "      <td>...</td>\n",
       "      <td>0.0</td>\n",
       "      <td>0.0</td>\n",
       "      <td>0.0</td>\n",
       "      <td>0.0</td>\n",
       "      <td>0.0</td>\n",
       "      <td>0.0</td>\n",
       "      <td>0.0</td>\n",
       "      <td>0.0</td>\n",
       "      <td>0.0</td>\n",
       "      <td>0.0</td>\n",
       "    </tr>\n",
       "    <tr>\n",
       "      <th>1984</th>\n",
       "      <td>0.0</td>\n",
       "      <td>0.0</td>\n",
       "      <td>8.0</td>\n",
       "      <td>0.0</td>\n",
       "      <td>0.0</td>\n",
       "      <td>8.0</td>\n",
       "      <td>0.0</td>\n",
       "      <td>0.0</td>\n",
       "      <td>0.0</td>\n",
       "      <td>0.0</td>\n",
       "      <td>...</td>\n",
       "      <td>0.0</td>\n",
       "      <td>7.0</td>\n",
       "      <td>0.0</td>\n",
       "      <td>0.0</td>\n",
       "      <td>0.0</td>\n",
       "      <td>0.0</td>\n",
       "      <td>0.0</td>\n",
       "      <td>0.0</td>\n",
       "      <td>0.0</td>\n",
       "      <td>0.0</td>\n",
       "    </tr>\n",
       "  </tbody>\n",
       "</table>\n",
       "<p>3 rows × 41 columns</p>\n",
       "</div>"
      ],
      "text/plain": [
       "best users          4334    11676   16795   31826   32569   32599   35859   \\\n",
       "title                                                                        \n",
       "10 Lb. Penalty         0.0     0.0     0.0     0.0     0.0     0.0     0.0   \n",
       "16 Lighthouse Road     0.0     0.0     0.0     0.0     0.0     0.0     0.0   \n",
       "1984                   0.0     0.0     8.0     0.0     0.0     8.0     0.0   \n",
       "\n",
       "best users          37293   43806   53392   ...  211426  219683  224764  \\\n",
       "title                                       ...                           \n",
       "10 Lb. Penalty         0.0     0.0     0.0  ...     0.0     0.0     0.0   \n",
       "16 Lighthouse Road     0.0     0.0     0.0  ...     0.0     0.0     0.0   \n",
       "1984                   0.0     0.0     0.0  ...     0.0     7.0     0.0   \n",
       "\n",
       "best users          232106  234597  236283  254206  258534  259901  274061  \n",
       "title                                                                       \n",
       "10 Lb. Penalty         0.0     0.0     0.0     0.0     0.0     0.0     0.0  \n",
       "16 Lighthouse Road     0.0     0.0     0.0     0.0     0.0     0.0     0.0  \n",
       "1984                   0.0     0.0     0.0     0.0     0.0     0.0     0.0  \n",
       "\n",
       "[3 rows x 41 columns]"
      ]
     },
     "execution_count": 43,
     "metadata": {},
     "output_type": "execute_result"
    }
   ],
   "source": [
    "#filter the columns\n",
    "filtered_pivot_table = pivot_mine[columns_to_keep]\n",
    "filtered_pivot_table.head(3)"
   ]
  },
  {
   "cell_type": "code",
   "execution_count": 44,
   "metadata": {},
   "outputs": [
    {
     "data": {
      "text/html": [
       "<div>\n",
       "<style scoped>\n",
       "    .dataframe tbody tr th:only-of-type {\n",
       "        vertical-align: middle;\n",
       "    }\n",
       "\n",
       "    .dataframe tbody tr th {\n",
       "        vertical-align: top;\n",
       "    }\n",
       "\n",
       "    .dataframe thead th {\n",
       "        text-align: right;\n",
       "    }\n",
       "</style>\n",
       "<table border=\"1\" class=\"dataframe\">\n",
       "  <thead>\n",
       "    <tr style=\"text-align: right;\">\n",
       "      <th></th>\n",
       "      <th>score</th>\n",
       "    </tr>\n",
       "    <tr>\n",
       "      <th>title</th>\n",
       "      <th></th>\n",
       "    </tr>\n",
       "  </thead>\n",
       "  <tbody>\n",
       "    <tr>\n",
       "      <th>It</th>\n",
       "      <td>377.000000</td>\n",
       "    </tr>\n",
       "    <tr>\n",
       "      <th>Nightmares &amp;amp; Dreamscapes</th>\n",
       "      <td>120.000000</td>\n",
       "    </tr>\n",
       "    <tr>\n",
       "      <th>Misery</th>\n",
       "      <td>120.000000</td>\n",
       "    </tr>\n",
       "    <tr>\n",
       "      <th>The Tommyknockers</th>\n",
       "      <td>111.500000</td>\n",
       "    </tr>\n",
       "    <tr>\n",
       "      <th>Four Past Midnight</th>\n",
       "      <td>106.000000</td>\n",
       "    </tr>\n",
       "    <tr>\n",
       "      <th>Dolores Claiborne</th>\n",
       "      <td>106.000000</td>\n",
       "    </tr>\n",
       "    <tr>\n",
       "      <th>Insomnia</th>\n",
       "      <td>103.500000</td>\n",
       "    </tr>\n",
       "    <tr>\n",
       "      <th>Desperation</th>\n",
       "      <td>103.000000</td>\n",
       "    </tr>\n",
       "    <tr>\n",
       "      <th>Skeleton Crew</th>\n",
       "      <td>100.000000</td>\n",
       "    </tr>\n",
       "    <tr>\n",
       "      <th>Pet Sematary</th>\n",
       "      <td>98.000000</td>\n",
       "    </tr>\n",
       "    <tr>\n",
       "      <th>Rose Madder</th>\n",
       "      <td>97.000000</td>\n",
       "    </tr>\n",
       "    <tr>\n",
       "      <th>Dreamcatcher</th>\n",
       "      <td>93.666667</td>\n",
       "    </tr>\n",
       "    <tr>\n",
       "      <th>The Green Mile</th>\n",
       "      <td>92.000000</td>\n",
       "    </tr>\n",
       "    <tr>\n",
       "      <th>The Fellowship of the Ring (The Lord of the Rings, Part 1)</th>\n",
       "      <td>86.000000</td>\n",
       "    </tr>\n",
       "    <tr>\n",
       "      <th>The Dark Half</th>\n",
       "      <td>85.000000</td>\n",
       "    </tr>\n",
       "  </tbody>\n",
       "</table>\n",
       "</div>"
      ],
      "text/plain": [
       "                                                         score\n",
       "title                                                         \n",
       "It                                                  377.000000\n",
       "Nightmares &amp; Dreamscapes                        120.000000\n",
       "Misery                                              120.000000\n",
       "The Tommyknockers                                   111.500000\n",
       "Four Past Midnight                                  106.000000\n",
       "Dolores Claiborne                                   106.000000\n",
       "Insomnia                                            103.500000\n",
       "Desperation                                         103.000000\n",
       "Skeleton Crew                                       100.000000\n",
       "Pet Sematary                                         98.000000\n",
       "Rose Madder                                          97.000000\n",
       "Dreamcatcher                                         93.666667\n",
       "The Green Mile                                       92.000000\n",
       "The Fellowship of the Ring (The Lord of the Rin...   86.000000\n",
       "The Dark Half                                        85.000000"
      ]
     },
     "execution_count": 44,
     "metadata": {},
     "output_type": "execute_result"
    }
   ],
   "source": [
    "#sum the rows\n",
    "score=filtered_pivot_table.sum(axis=1)\n",
    "\n",
    "#create df\n",
    "df_recommendation = pd.DataFrame({'score':score}).sort_values('score', ascending=False)\n",
    "df_recommendation.head(15)\n"
   ]
  },
  {
   "cell_type": "code",
   "execution_count": 45,
   "metadata": {},
   "outputs": [
    {
     "data": {
      "text/html": [
       "<div>\n",
       "<style scoped>\n",
       "    .dataframe tbody tr th:only-of-type {\n",
       "        vertical-align: middle;\n",
       "    }\n",
       "\n",
       "    .dataframe tbody tr th {\n",
       "        vertical-align: top;\n",
       "    }\n",
       "\n",
       "    .dataframe thead th {\n",
       "        text-align: right;\n",
       "    }\n",
       "</style>\n",
       "<table border=\"1\" class=\"dataframe\">\n",
       "  <thead>\n",
       "    <tr style=\"text-align: right;\">\n",
       "      <th></th>\n",
       "      <th>score</th>\n",
       "    </tr>\n",
       "    <tr>\n",
       "      <th>title</th>\n",
       "      <th></th>\n",
       "    </tr>\n",
       "  </thead>\n",
       "  <tbody>\n",
       "    <tr>\n",
       "      <th>It</th>\n",
       "      <td>377.0</td>\n",
       "    </tr>\n",
       "    <tr>\n",
       "      <th>Nightmares &amp;amp; Dreamscapes</th>\n",
       "      <td>120.0</td>\n",
       "    </tr>\n",
       "    <tr>\n",
       "      <th>Misery</th>\n",
       "      <td>120.0</td>\n",
       "    </tr>\n",
       "    <tr>\n",
       "      <th>The Tommyknockers</th>\n",
       "      <td>111.5</td>\n",
       "    </tr>\n",
       "    <tr>\n",
       "      <th>Four Past Midnight</th>\n",
       "      <td>106.0</td>\n",
       "    </tr>\n",
       "    <tr>\n",
       "      <th>...</th>\n",
       "      <td>...</td>\n",
       "    </tr>\n",
       "    <tr>\n",
       "      <th>The Eyre Affair: A Novel</th>\n",
       "      <td>0.0</td>\n",
       "    </tr>\n",
       "    <tr>\n",
       "      <th>Jennifer Government : A Novel</th>\n",
       "      <td>0.0</td>\n",
       "    </tr>\n",
       "    <tr>\n",
       "      <th>The Face of Deception</th>\n",
       "      <td>0.0</td>\n",
       "    </tr>\n",
       "    <tr>\n",
       "      <th>Jemima J: A Novel About Ugly Ducklings and Swans</th>\n",
       "      <td>0.0</td>\n",
       "    </tr>\n",
       "    <tr>\n",
       "      <th>10 Lb. Penalty</th>\n",
       "      <td>0.0</td>\n",
       "    </tr>\n",
       "  </tbody>\n",
       "</table>\n",
       "<p>2389 rows × 1 columns</p>\n",
       "</div>"
      ],
      "text/plain": [
       "                                                  score\n",
       "title                                                  \n",
       "It                                                377.0\n",
       "Nightmares &amp; Dreamscapes                      120.0\n",
       "Misery                                            120.0\n",
       "The Tommyknockers                                 111.5\n",
       "Four Past Midnight                                106.0\n",
       "...                                                 ...\n",
       "The Eyre Affair: A Novel                            0.0\n",
       "Jennifer Government : A Novel                       0.0\n",
       "The Face of Deception                               0.0\n",
       "Jemima J: A Novel About Ugly Ducklings and Swans    0.0\n",
       "10 Lb. Penalty                                      0.0\n",
       "\n",
       "[2389 rows x 1 columns]"
      ]
     },
     "execution_count": 45,
     "metadata": {},
     "output_type": "execute_result"
    }
   ],
   "source": [
    "#slice first 10 best titles                   \n",
    "df_recommendation=df_recommendation[0:100000]\n",
    "df_recommendation"
   ]
  },
  {
   "cell_type": "code",
   "execution_count": 46,
   "metadata": {},
   "outputs": [
    {
     "data": {
      "text/plain": [
       "['It',\n",
       " 'Nightmares &amp; Dreamscapes',\n",
       " 'Misery',\n",
       " 'The Tommyknockers',\n",
       " 'Four Past Midnight',\n",
       " 'Dolores Claiborne',\n",
       " 'Insomnia',\n",
       " 'Desperation',\n",
       " 'Skeleton Crew',\n",
       " 'Pet Sematary',\n",
       " 'Rose Madder',\n",
       " 'Dreamcatcher',\n",
       " 'The Green Mile',\n",
       " 'The Fellowship of the Ring (The Lord of the Rings, Part 1)',\n",
       " 'The Dark Half']"
      ]
     },
     "execution_count": 46,
     "metadata": {},
     "output_type": "execute_result"
    }
   ],
   "source": [
    "suggestions_mine=df_recommendation.index.tolist()\n",
    "suggestions_mine[0:15]"
   ]
  },
  {
   "cell_type": "markdown",
   "metadata": {},
   "source": [
    "**--------------------------------------**"
   ]
  },
  {
   "cell_type": "markdown",
   "metadata": {},
   "source": [
    "**KNN**"
   ]
  },
  {
   "cell_type": "markdown",
   "metadata": {},
   "source": [
    "**--------------------------------------**"
   ]
  },
  {
   "cell_type": "code",
   "execution_count": 47,
   "metadata": {},
   "outputs": [
    {
     "data": {
      "text/plain": [
       "(2389, 5538)"
      ]
     },
     "execution_count": 47,
     "metadata": {},
     "output_type": "execute_result"
    }
   ],
   "source": [
    "#rename the matrix\n",
    "recommend_pivot_knn = recommend_pivot\n",
    "\n",
    "#missing values NaN are replaced by zeros\n",
    "recommend_pivot_knn.fillna(0, inplace=True)\n",
    "\n",
    "recommend_pivot_knn.shape"
   ]
  },
  {
   "cell_type": "code",
   "execution_count": 48,
   "metadata": {},
   "outputs": [
    {
     "data": {
      "text/plain": [
       "(2389, 5538)"
      ]
     },
     "execution_count": 48,
     "metadata": {},
     "output_type": "execute_result"
    }
   ],
   "source": [
    "#too many zeros in the matrix = computationaly demanding in clustering = CRS matrix = non zero matrix\n",
    "from scipy.sparse import csr_matrix\n",
    "recommend_sparse = csr_matrix(recommend_pivot_knn)\n",
    "recommend_sparse.shape"
   ]
  },
  {
   "cell_type": "code",
   "execution_count": 49,
   "metadata": {},
   "outputs": [
    {
     "data": {
      "text/html": [
       "<style>#sk-container-id-1 {color: black;}#sk-container-id-1 pre{padding: 0;}#sk-container-id-1 div.sk-toggleable {background-color: white;}#sk-container-id-1 label.sk-toggleable__label {cursor: pointer;display: block;width: 100%;margin-bottom: 0;padding: 0.3em;box-sizing: border-box;text-align: center;}#sk-container-id-1 label.sk-toggleable__label-arrow:before {content: \"▸\";float: left;margin-right: 0.25em;color: #696969;}#sk-container-id-1 label.sk-toggleable__label-arrow:hover:before {color: black;}#sk-container-id-1 div.sk-estimator:hover label.sk-toggleable__label-arrow:before {color: black;}#sk-container-id-1 div.sk-toggleable__content {max-height: 0;max-width: 0;overflow: hidden;text-align: left;background-color: #f0f8ff;}#sk-container-id-1 div.sk-toggleable__content pre {margin: 0.2em;color: black;border-radius: 0.25em;background-color: #f0f8ff;}#sk-container-id-1 input.sk-toggleable__control:checked~div.sk-toggleable__content {max-height: 200px;max-width: 100%;overflow: auto;}#sk-container-id-1 input.sk-toggleable__control:checked~label.sk-toggleable__label-arrow:before {content: \"▾\";}#sk-container-id-1 div.sk-estimator input.sk-toggleable__control:checked~label.sk-toggleable__label {background-color: #d4ebff;}#sk-container-id-1 div.sk-label input.sk-toggleable__control:checked~label.sk-toggleable__label {background-color: #d4ebff;}#sk-container-id-1 input.sk-hidden--visually {border: 0;clip: rect(1px 1px 1px 1px);clip: rect(1px, 1px, 1px, 1px);height: 1px;margin: -1px;overflow: hidden;padding: 0;position: absolute;width: 1px;}#sk-container-id-1 div.sk-estimator {font-family: monospace;background-color: #f0f8ff;border: 1px dotted black;border-radius: 0.25em;box-sizing: border-box;margin-bottom: 0.5em;}#sk-container-id-1 div.sk-estimator:hover {background-color: #d4ebff;}#sk-container-id-1 div.sk-parallel-item::after {content: \"\";width: 100%;border-bottom: 1px solid gray;flex-grow: 1;}#sk-container-id-1 div.sk-label:hover label.sk-toggleable__label {background-color: #d4ebff;}#sk-container-id-1 div.sk-serial::before {content: \"\";position: absolute;border-left: 1px solid gray;box-sizing: border-box;top: 0;bottom: 0;left: 50%;z-index: 0;}#sk-container-id-1 div.sk-serial {display: flex;flex-direction: column;align-items: center;background-color: white;padding-right: 0.2em;padding-left: 0.2em;position: relative;}#sk-container-id-1 div.sk-item {position: relative;z-index: 1;}#sk-container-id-1 div.sk-parallel {display: flex;align-items: stretch;justify-content: center;background-color: white;position: relative;}#sk-container-id-1 div.sk-item::before, #sk-container-id-1 div.sk-parallel-item::before {content: \"\";position: absolute;border-left: 1px solid gray;box-sizing: border-box;top: 0;bottom: 0;left: 50%;z-index: -1;}#sk-container-id-1 div.sk-parallel-item {display: flex;flex-direction: column;z-index: 1;position: relative;background-color: white;}#sk-container-id-1 div.sk-parallel-item:first-child::after {align-self: flex-end;width: 50%;}#sk-container-id-1 div.sk-parallel-item:last-child::after {align-self: flex-start;width: 50%;}#sk-container-id-1 div.sk-parallel-item:only-child::after {width: 0;}#sk-container-id-1 div.sk-dashed-wrapped {border: 1px dashed gray;margin: 0 0.4em 0.5em 0.4em;box-sizing: border-box;padding-bottom: 0.4em;background-color: white;}#sk-container-id-1 div.sk-label label {font-family: monospace;font-weight: bold;display: inline-block;line-height: 1.2em;}#sk-container-id-1 div.sk-label-container {text-align: center;}#sk-container-id-1 div.sk-container {/* jupyter's `normalize.less` sets `[hidden] { display: none; }` but bootstrap.min.css set `[hidden] { display: none !important; }` so we also need the `!important` here to be able to override the default hidden behavior on the sphinx rendered scikit-learn.org. See: https://github.com/scikit-learn/scikit-learn/issues/21755 */display: inline-block !important;position: relative;}#sk-container-id-1 div.sk-text-repr-fallback {display: none;}</style><div id=\"sk-container-id-1\" class=\"sk-top-container\"><div class=\"sk-text-repr-fallback\"><pre>NearestNeighbors(algorithm=&#x27;brute&#x27;, metric=&#x27;cosine&#x27;)</pre><b>In a Jupyter environment, please rerun this cell to show the HTML representation or trust the notebook. <br />On GitHub, the HTML representation is unable to render, please try loading this page with nbviewer.org.</b></div><div class=\"sk-container\" hidden><div class=\"sk-item\"><div class=\"sk-estimator sk-toggleable\"><input class=\"sk-toggleable__control sk-hidden--visually\" id=\"sk-estimator-id-1\" type=\"checkbox\" checked><label for=\"sk-estimator-id-1\" class=\"sk-toggleable__label sk-toggleable__label-arrow\">NearestNeighbors</label><div class=\"sk-toggleable__content\"><pre>NearestNeighbors(algorithm=&#x27;brute&#x27;, metric=&#x27;cosine&#x27;)</pre></div></div></div></div></div>"
      ],
      "text/plain": [
       "NearestNeighbors(algorithm='brute', metric='cosine')"
      ]
     },
     "execution_count": 49,
     "metadata": {},
     "output_type": "execute_result"
    }
   ],
   "source": [
    "from sklearn.neighbors import NearestNeighbors\n",
    "model = NearestNeighbors(metric='cosine', algorithm='brute')\n",
    "fitted_model=model.fit(recommend_sparse)\n",
    "fitted_model"
   ]
  },
  {
   "cell_type": "code",
   "execution_count": 50,
   "metadata": {},
   "outputs": [
    {
     "name": "stdout",
     "output_type": "stream",
     "text": [
      "The index of 'Misery' is at location 1063.\n"
     ]
    }
   ],
   "source": [
    "index_location=book_index_finder('Misery', recommend_pivot_knn)"
   ]
  },
  {
   "cell_type": "code",
   "execution_count": 51,
   "metadata": {},
   "outputs": [],
   "source": [
    "#find the nearest\n",
    "query_point = recommend_pivot_knn.iloc[index_location, :].values.reshape(1, -1)\n",
    "distances, suggestions = fitted_model.kneighbors(query_point)"
   ]
  },
  {
   "cell_type": "code",
   "execution_count": 52,
   "metadata": {},
   "outputs": [
    {
     "data": {
      "text/plain": [
       "(1, 5538)"
      ]
     },
     "execution_count": 52,
     "metadata": {},
     "output_type": "execute_result"
    }
   ],
   "source": [
    "query_point.shape"
   ]
  },
  {
   "cell_type": "code",
   "execution_count": 53,
   "metadata": {},
   "outputs": [
    {
     "data": {
      "text/plain": [
       "array([[1063,  857, 1145,  876, 2139]], dtype=int64)"
      ]
     },
     "execution_count": 53,
     "metadata": {},
     "output_type": "execute_result"
    }
   ],
   "source": [
    "suggestions"
   ]
  },
  {
   "cell_type": "code",
   "execution_count": 54,
   "metadata": {},
   "outputs": [
    {
     "data": {
      "text/plain": [
       "['Misery',\n",
       " 'Insomnia',\n",
       " 'Nightmares &amp; Dreamscapes',\n",
       " 'It',\n",
       " 'The Tommyknockers']"
      ]
     },
     "execution_count": 54,
     "metadata": {},
     "output_type": "execute_result"
    }
   ],
   "source": [
    "for i in range(len(suggestions)):\n",
    "        suggestions_knn = list(recommend_pivot_knn.index[suggestions[i]])\n",
    "\n",
    "\n",
    "suggestions_knn\n",
    "  "
   ]
  },
  {
   "cell_type": "markdown",
   "metadata": {},
   "source": [
    "**--------------------------------------**"
   ]
  },
  {
   "cell_type": "markdown",
   "metadata": {},
   "source": [
    "**Truncated SVD**"
   ]
  },
  {
   "cell_type": "markdown",
   "metadata": {},
   "source": [
    "**--------------------------------------**"
   ]
  },
  {
   "cell_type": "code",
   "execution_count": 55,
   "metadata": {},
   "outputs": [
    {
     "data": {
      "text/plain": [
       "'\\n*reducing the dimensionality\\n*latent factors=improves recommendation quality\\n'"
      ]
     },
     "execution_count": 55,
     "metadata": {},
     "output_type": "execute_result"
    }
   ],
   "source": [
    "'''\n",
    "*reducing the dimensionality\n",
    "*latent factors=improves recommendation quality\n",
    "'''"
   ]
  },
  {
   "cell_type": "code",
   "execution_count": 56,
   "metadata": {},
   "outputs": [
    {
     "data": {
      "text/html": [
       "<div>\n",
       "<style scoped>\n",
       "    .dataframe tbody tr th:only-of-type {\n",
       "        vertical-align: middle;\n",
       "    }\n",
       "\n",
       "    .dataframe tbody tr th {\n",
       "        vertical-align: top;\n",
       "    }\n",
       "\n",
       "    .dataframe thead th {\n",
       "        text-align: right;\n",
       "    }\n",
       "</style>\n",
       "<table border=\"1\" class=\"dataframe\">\n",
       "  <thead>\n",
       "    <tr style=\"text-align: right;\">\n",
       "      <th>best users</th>\n",
       "      <th>242</th>\n",
       "      <th>243</th>\n",
       "      <th>254</th>\n",
       "      <th>388</th>\n",
       "      <th>446</th>\n",
       "      <th>503</th>\n",
       "      <th>505</th>\n",
       "      <th>507</th>\n",
       "      <th>638</th>\n",
       "      <th>643</th>\n",
       "      <th>...</th>\n",
       "      <th>278221</th>\n",
       "      <th>278356</th>\n",
       "      <th>278390</th>\n",
       "      <th>278418</th>\n",
       "      <th>278535</th>\n",
       "      <th>278554</th>\n",
       "      <th>278582</th>\n",
       "      <th>278633</th>\n",
       "      <th>278843</th>\n",
       "      <th>278851</th>\n",
       "    </tr>\n",
       "    <tr>\n",
       "      <th>title</th>\n",
       "      <th></th>\n",
       "      <th></th>\n",
       "      <th></th>\n",
       "      <th></th>\n",
       "      <th></th>\n",
       "      <th></th>\n",
       "      <th></th>\n",
       "      <th></th>\n",
       "      <th></th>\n",
       "      <th></th>\n",
       "      <th></th>\n",
       "      <th></th>\n",
       "      <th></th>\n",
       "      <th></th>\n",
       "      <th></th>\n",
       "      <th></th>\n",
       "      <th></th>\n",
       "      <th></th>\n",
       "      <th></th>\n",
       "      <th></th>\n",
       "      <th></th>\n",
       "    </tr>\n",
       "  </thead>\n",
       "  <tbody>\n",
       "    <tr>\n",
       "      <th>10 Lb. Penalty</th>\n",
       "      <td>0.0</td>\n",
       "      <td>0.0</td>\n",
       "      <td>0.0</td>\n",
       "      <td>0.0</td>\n",
       "      <td>0.0</td>\n",
       "      <td>0.0</td>\n",
       "      <td>0.0</td>\n",
       "      <td>0.0</td>\n",
       "      <td>0.0</td>\n",
       "      <td>0.0</td>\n",
       "      <td>...</td>\n",
       "      <td>0.0</td>\n",
       "      <td>0.0</td>\n",
       "      <td>0.0</td>\n",
       "      <td>0.0</td>\n",
       "      <td>0.0</td>\n",
       "      <td>0.0</td>\n",
       "      <td>0.0</td>\n",
       "      <td>0.0</td>\n",
       "      <td>0.0</td>\n",
       "      <td>0.0</td>\n",
       "    </tr>\n",
       "    <tr>\n",
       "      <th>16 Lighthouse Road</th>\n",
       "      <td>0.0</td>\n",
       "      <td>0.0</td>\n",
       "      <td>0.0</td>\n",
       "      <td>0.0</td>\n",
       "      <td>0.0</td>\n",
       "      <td>0.0</td>\n",
       "      <td>0.0</td>\n",
       "      <td>0.0</td>\n",
       "      <td>0.0</td>\n",
       "      <td>0.0</td>\n",
       "      <td>...</td>\n",
       "      <td>0.0</td>\n",
       "      <td>0.0</td>\n",
       "      <td>0.0</td>\n",
       "      <td>0.0</td>\n",
       "      <td>0.0</td>\n",
       "      <td>0.0</td>\n",
       "      <td>0.0</td>\n",
       "      <td>0.0</td>\n",
       "      <td>0.0</td>\n",
       "      <td>0.0</td>\n",
       "    </tr>\n",
       "    <tr>\n",
       "      <th>1984</th>\n",
       "      <td>0.0</td>\n",
       "      <td>0.0</td>\n",
       "      <td>9.0</td>\n",
       "      <td>0.0</td>\n",
       "      <td>0.0</td>\n",
       "      <td>0.0</td>\n",
       "      <td>0.0</td>\n",
       "      <td>0.0</td>\n",
       "      <td>0.0</td>\n",
       "      <td>0.0</td>\n",
       "      <td>...</td>\n",
       "      <td>0.0</td>\n",
       "      <td>0.0</td>\n",
       "      <td>0.0</td>\n",
       "      <td>0.0</td>\n",
       "      <td>0.0</td>\n",
       "      <td>0.0</td>\n",
       "      <td>0.0</td>\n",
       "      <td>0.0</td>\n",
       "      <td>0.0</td>\n",
       "      <td>0.0</td>\n",
       "    </tr>\n",
       "  </tbody>\n",
       "</table>\n",
       "<p>3 rows × 5538 columns</p>\n",
       "</div>"
      ],
      "text/plain": [
       "best users          242     243     254     388     446     503     505     \\\n",
       "title                                                                        \n",
       "10 Lb. Penalty         0.0     0.0     0.0     0.0     0.0     0.0     0.0   \n",
       "16 Lighthouse Road     0.0     0.0     0.0     0.0     0.0     0.0     0.0   \n",
       "1984                   0.0     0.0     9.0     0.0     0.0     0.0     0.0   \n",
       "\n",
       "best users          507     638     643     ...  278221  278356  278390  \\\n",
       "title                                       ...                           \n",
       "10 Lb. Penalty         0.0     0.0     0.0  ...     0.0     0.0     0.0   \n",
       "16 Lighthouse Road     0.0     0.0     0.0  ...     0.0     0.0     0.0   \n",
       "1984                   0.0     0.0     0.0  ...     0.0     0.0     0.0   \n",
       "\n",
       "best users          278418  278535  278554  278582  278633  278843  278851  \n",
       "title                                                                       \n",
       "10 Lb. Penalty         0.0     0.0     0.0     0.0     0.0     0.0     0.0  \n",
       "16 Lighthouse Road     0.0     0.0     0.0     0.0     0.0     0.0     0.0  \n",
       "1984                   0.0     0.0     0.0     0.0     0.0     0.0     0.0  \n",
       "\n",
       "[3 rows x 5538 columns]"
      ]
     },
     "execution_count": 56,
     "metadata": {},
     "output_type": "execute_result"
    }
   ],
   "source": [
    "#rename the pivot table\n",
    "recommend_pivot_svd=recommend_pivot\n",
    "recommend_pivot_svd.head(3)"
   ]
  },
  {
   "cell_type": "code",
   "execution_count": 57,
   "metadata": {},
   "outputs": [
    {
     "data": {
      "text/plain": [
       "(2389, 5538)"
      ]
     },
     "execution_count": 57,
     "metadata": {},
     "output_type": "execute_result"
    }
   ],
   "source": [
    "#get the array from the pivot\n",
    "X=recommend_pivot_svd.values\n",
    "X.shape"
   ]
  },
  {
   "cell_type": "code",
   "execution_count": 58,
   "metadata": {},
   "outputs": [
    {
     "data": {
      "text/plain": [
       "(2389, 12)"
      ]
     },
     "execution_count": 58,
     "metadata": {},
     "output_type": "execute_result"
    }
   ],
   "source": [
    "from sklearn.decomposition import TruncatedSVD\n",
    "\n",
    "SVD=TruncatedSVD(n_components=12, random_state=17)\n",
    "matrix=SVD.fit_transform(X)\n",
    "matrix.shape"
   ]
  },
  {
   "cell_type": "code",
   "execution_count": 59,
   "metadata": {},
   "outputs": [
    {
     "data": {
      "text/plain": [
       "(2389, 2389)"
      ]
     },
     "execution_count": 59,
     "metadata": {},
     "output_type": "execute_result"
    }
   ],
   "source": [
    "#Compute correlations in the matrix\n",
    "corr=np.corrcoef(matrix)\n",
    "corr.shape"
   ]
  },
  {
   "cell_type": "code",
   "execution_count": 60,
   "metadata": {},
   "outputs": [
    {
     "name": "stdout",
     "output_type": "stream",
     "text": [
      "The index of 'The Fellowship of the Ring (The Lord of the Rings, Part 1)' is at location 1783.\n"
     ]
    }
   ],
   "source": [
    "index_location=book_index_finder('The Fellowship of the Ring (The Lord of the Rings, Part 1)', recommend_pivot_svd)"
   ]
  },
  {
   "cell_type": "code",
   "execution_count": 61,
   "metadata": {},
   "outputs": [],
   "source": [
    "#pass the index into a corr matrix\n",
    "corr_index=corr[index_location]"
   ]
  },
  {
   "cell_type": "code",
   "execution_count": 62,
   "metadata": {},
   "outputs": [
    {
     "data": {
      "text/plain": [
       "(2389,)"
      ]
     },
     "execution_count": 62,
     "metadata": {},
     "output_type": "execute_result"
    }
   ],
   "source": [
    "#get all the book titles in the pivot table columns\n",
    "title=recommend_pivot_svd.index\n",
    "title.shape\n"
   ]
  },
  {
   "cell_type": "code",
   "execution_count": 63,
   "metadata": {},
   "outputs": [
    {
     "data": {
      "text/plain": [
       "(2389,)"
      ]
     },
     "execution_count": 63,
     "metadata": {},
     "output_type": "execute_result"
    }
   ],
   "source": [
    "corr_index.shape"
   ]
  },
  {
   "cell_type": "code",
   "execution_count": 64,
   "metadata": {},
   "outputs": [
    {
     "data": {
      "text/plain": [
       "['Hyperion',\n",
       " 'The Fellowship of the Ring (The Lord of the Rings, Part 1)',\n",
       " 'The Hobbit : The Enchanting Prelude to The Lord of the Rings',\n",
       " 'The Illustrated Man (Grand Master Editions)',\n",
       " 'The Return of the King (The Lord of the Rings, Part 3)',\n",
       " 'The Two Towers (The Lord of the Rings, Part 2)']"
      ]
     },
     "execution_count": 64,
     "metadata": {},
     "output_type": "execute_result"
    }
   ],
   "source": [
    "#filter the most similar books\n",
    "suggestion_svd=list(title[(corr_index<1)&(corr_index>0.9)])\n",
    "suggestion_svd"
   ]
  },
  {
   "cell_type": "markdown",
   "metadata": {},
   "source": [
    "**Comparing results**"
   ]
  },
  {
   "cell_type": "code",
   "execution_count": 65,
   "metadata": {},
   "outputs": [
    {
     "name": "stdout",
     "output_type": "stream",
     "text": [
      "['It', 'Nightmares &amp; Dreamscapes', 'Misery', 'The Tommyknockers', 'Four Past Midnight', 'Dolores Claiborne', 'Insomnia', 'Desperation', 'Skeleton Crew', 'Pet Sematary']\n",
      "['Misery', 'Insomnia', 'Nightmares &amp; Dreamscapes', 'It', 'The Tommyknockers']\n",
      "['Hyperion', 'The Fellowship of the Ring (The Lord of the Rings, Part 1)', 'The Hobbit : The Enchanting Prelude to The Lord of the Rings', 'The Illustrated Man (Grand Master Editions)', 'The Return of the King (The Lord of the Rings, Part 3)', 'The Two Towers (The Lord of the Rings, Part 2)']\n"
     ]
    }
   ],
   "source": [
    "print(suggestions_mine[0:10])\n",
    "\n",
    "print(suggestions_knn[0:10])\n",
    "\n",
    "print(suggestion_svd[0:10])\n"
   ]
  },
  {
   "cell_type": "markdown",
   "metadata": {},
   "source": [
    "**EXPORT and LOADING**"
   ]
  },
  {
   "cell_type": "code",
   "execution_count": 66,
   "metadata": {},
   "outputs": [
    {
     "data": {
      "text/html": [
       "<div>\n",
       "<style scoped>\n",
       "    .dataframe tbody tr th:only-of-type {\n",
       "        vertical-align: middle;\n",
       "    }\n",
       "\n",
       "    .dataframe tbody tr th {\n",
       "        vertical-align: top;\n",
       "    }\n",
       "\n",
       "    .dataframe thead th {\n",
       "        text-align: right;\n",
       "    }\n",
       "</style>\n",
       "<table border=\"1\" class=\"dataframe\">\n",
       "  <thead>\n",
       "    <tr style=\"text-align: right;\">\n",
       "      <th></th>\n",
       "      <th>title</th>\n",
       "      <th>Image-URL-M</th>\n",
       "      <th>author</th>\n",
       "    </tr>\n",
       "  </thead>\n",
       "  <tbody>\n",
       "    <tr>\n",
       "      <th>0</th>\n",
       "      <td>The Boy Next Door</td>\n",
       "      <td>http://images.amazon.com/images/P/0060096195.0...</td>\n",
       "      <td>Meggin Cabot</td>\n",
       "    </tr>\n",
       "    <tr>\n",
       "      <th>33</th>\n",
       "      <td>Skin and Other Stories (Now in Speak!)</td>\n",
       "      <td>http://images.amazon.com/images/P/0141310340.0...</td>\n",
       "      <td>Roald Dahl</td>\n",
       "    </tr>\n",
       "    <tr>\n",
       "      <th>37</th>\n",
       "      <td>Growing Wings</td>\n",
       "      <td>http://images.amazon.com/images/P/0142302198.0...</td>\n",
       "      <td>Laurel Winter</td>\n",
       "    </tr>\n",
       "  </tbody>\n",
       "</table>\n",
       "</div>"
      ],
      "text/plain": [
       "                                     title  \\\n",
       "0                        The Boy Next Door   \n",
       "33  Skin and Other Stories (Now in Speak!)   \n",
       "37                           Growing Wings   \n",
       "\n",
       "                                          Image-URL-M         author  \n",
       "0   http://images.amazon.com/images/P/0060096195.0...   Meggin Cabot  \n",
       "33  http://images.amazon.com/images/P/0141310340.0...     Roald Dahl  \n",
       "37  http://images.amazon.com/images/P/0142302198.0...  Laurel Winter  "
      ]
     },
     "execution_count": 66,
     "metadata": {},
     "output_type": "execute_result"
    }
   ],
   "source": [
    "#get urls and authors\n",
    "urls = final_df.drop_duplicates(['title'])\n",
    "\n",
    "#filter columns\n",
    "urls=urls[['title', 'Image-URL-M', 'author']]\n",
    "urls.head(3)"
   ]
  },
  {
   "cell_type": "code",
   "execution_count": 67,
   "metadata": {},
   "outputs": [
    {
     "data": {
      "text/plain": [
       "['urls.pkl']"
      ]
     },
     "execution_count": 67,
     "metadata": {},
     "output_type": "execute_result"
    }
   ],
   "source": [
    "import joblib\n",
    "\n",
    "#Export model\n",
    "#joblib.dump(fitted_model, 'model_knn.pkl')\n",
    "\n",
    "#Export matrix\n",
    "joblib.dump(pivot_mine, 'pivot_mine.pkl')\n",
    "\n",
    "#Export pivot table SVD\n",
    "#joblib.dump(recommend_pivot_svd, 'pivot_table_SVD.pkl')\n",
    "\n",
    "#Export df\n",
    "joblib.dump(urls, 'urls.pkl')\n",
    "\n",
    "#Export pivot table KNN\n",
    "#joblib.dump(recommend_pivot_knn, 'pivot_table_knn.pkl')\n"
   ]
  },
  {
   "cell_type": "code",
   "execution_count": 68,
   "metadata": {},
   "outputs": [
    {
     "data": {
      "text/html": [
       "<div>\n",
       "<style scoped>\n",
       "    .dataframe tbody tr th:only-of-type {\n",
       "        vertical-align: middle;\n",
       "    }\n",
       "\n",
       "    .dataframe tbody tr th {\n",
       "        vertical-align: top;\n",
       "    }\n",
       "\n",
       "    .dataframe thead th {\n",
       "        text-align: right;\n",
       "    }\n",
       "</style>\n",
       "<table border=\"1\" class=\"dataframe\">\n",
       "  <thead>\n",
       "    <tr style=\"text-align: right;\">\n",
       "      <th></th>\n",
       "      <th>title</th>\n",
       "      <th>Image-URL-M</th>\n",
       "      <th>author</th>\n",
       "    </tr>\n",
       "  </thead>\n",
       "  <tbody>\n",
       "    <tr>\n",
       "      <th>0</th>\n",
       "      <td>The Boy Next Door</td>\n",
       "      <td>http://images.amazon.com/images/P/0060096195.0...</td>\n",
       "      <td>Meggin Cabot</td>\n",
       "    </tr>\n",
       "    <tr>\n",
       "      <th>33</th>\n",
       "      <td>Skin and Other Stories (Now in Speak!)</td>\n",
       "      <td>http://images.amazon.com/images/P/0141310340.0...</td>\n",
       "      <td>Roald Dahl</td>\n",
       "    </tr>\n",
       "    <tr>\n",
       "      <th>37</th>\n",
       "      <td>Growing Wings</td>\n",
       "      <td>http://images.amazon.com/images/P/0142302198.0...</td>\n",
       "      <td>Laurel Winter</td>\n",
       "    </tr>\n",
       "  </tbody>\n",
       "</table>\n",
       "</div>"
      ],
      "text/plain": [
       "                                     title  \\\n",
       "0                        The Boy Next Door   \n",
       "33  Skin and Other Stories (Now in Speak!)   \n",
       "37                           Growing Wings   \n",
       "\n",
       "                                          Image-URL-M         author  \n",
       "0   http://images.amazon.com/images/P/0060096195.0...   Meggin Cabot  \n",
       "33  http://images.amazon.com/images/P/0141310340.0...     Roald Dahl  \n",
       "37  http://images.amazon.com/images/P/0142302198.0...  Laurel Winter  "
      ]
     },
     "execution_count": 68,
     "metadata": {},
     "output_type": "execute_result"
    }
   ],
   "source": [
    "import joblib\n",
    "\n",
    "df=joblib.load('urls.pkl')\n",
    "df.head(3)"
   ]
  },
  {
   "cell_type": "code",
   "execution_count": 69,
   "metadata": {},
   "outputs": [],
   "source": [
    "#feedback:\n",
    "\n",
    "#use charts that you will use for something x do not use chart without giving you any information\n",
    "#if you implement method you must know how does it work - limitations - adjust data to it\n",
    "#how do you measure the success? Try an unknown book and verify that's others read it.\n",
    "#if you slice it - why? - how much data you will loose?\n",
    "#zeros and NaN I lost the information about zero ratings in the pivot tables\n",
    "\n",
    "\n",
    "#everytime you drop or remove or simplify something - you must have prove for that!!!!!\n"
   ]
  },
  {
   "cell_type": "code",
   "execution_count": 70,
   "metadata": {},
   "outputs": [],
   "source": [
    "#vzfiltruj knihy ktere maji celkovou sumu hodnoceni - nula = i borec s nulou muze mit dalsi nenulove\n",
    "#musim rozlisit jak definovat nulu-hodnoceni!!!!!"
   ]
  },
  {
   "cell_type": "code",
   "execution_count": 71,
   "metadata": {},
   "outputs": [
    {
     "data": {
      "text/html": [
       "<div>\n",
       "<style scoped>\n",
       "    .dataframe tbody tr th:only-of-type {\n",
       "        vertical-align: middle;\n",
       "    }\n",
       "\n",
       "    .dataframe tbody tr th {\n",
       "        vertical-align: top;\n",
       "    }\n",
       "\n",
       "    .dataframe thead th {\n",
       "        text-align: right;\n",
       "    }\n",
       "</style>\n",
       "<table border=\"1\" class=\"dataframe\">\n",
       "  <thead>\n",
       "    <tr style=\"text-align: right;\">\n",
       "      <th></th>\n",
       "      <th>index</th>\n",
       "      <th>word</th>\n",
       "      <th>normal column</th>\n",
       "    </tr>\n",
       "  </thead>\n",
       "  <tbody>\n",
       "    <tr>\n",
       "      <th>0</th>\n",
       "      <td>0</td>\n",
       "      <td>pokus$ deb#l</td>\n",
       "      <td>ahoj</td>\n",
       "    </tr>\n",
       "    <tr>\n",
       "      <th>1</th>\n",
       "      <td>1</td>\n",
       "      <td>ho@vno</td>\n",
       "      <td>nazdar</td>\n",
       "    </tr>\n",
       "    <tr>\n",
       "      <th>3</th>\n",
       "      <td>3</td>\n",
       "      <td>ko#kot</td>\n",
       "      <td>wow</td>\n",
       "    </tr>\n",
       "  </tbody>\n",
       "</table>\n",
       "</div>"
      ],
      "text/plain": [
       "   index          word normal column\n",
       "0      0  pokus$ deb#l          ahoj\n",
       "1      1        ho@vno        nazdar\n",
       "3      3        ko#kot           wow"
      ]
     },
     "execution_count": 71,
     "metadata": {},
     "output_type": "execute_result"
    }
   ],
   "source": [
    "import re\n",
    "\n",
    "df=pd.DataFrame({'index':range(0,4),\n",
    "                 'word':['pokus$ deb#l', 'ho@vno','normal','ko#kot'],\n",
    "                 'normal column':['ahoj', 'nazdar', 'pokus', 'wow']})\n",
    "\n",
    "\n",
    "# Define a regex pattern to match titles with weird symbols\n",
    "pattern = r'[ #$!@#¡¿]'\n",
    "\n",
    "# Use the str.contains() method to check for titles containing the pattern\n",
    "titles_with_weird_symbols = df.query('word.str.contains(@pattern)')\n",
    "\n",
    "# Display the titles with weird symbols\n",
    "titles_with_weird_symbols\n"
   ]
  }
 ],
 "metadata": {
  "kernelspec": {
   "display_name": "Python 3",
   "language": "python",
   "name": "python3"
  },
  "language_info": {
   "codemirror_mode": {
    "name": "ipython",
    "version": 3
   },
   "file_extension": ".py",
   "mimetype": "text/x-python",
   "name": "python",
   "nbconvert_exporter": "python",
   "pygments_lexer": "ipython3",
   "version": "3.10.10"
  },
  "orig_nbformat": 4
 },
 "nbformat": 4,
 "nbformat_minor": 2
}
