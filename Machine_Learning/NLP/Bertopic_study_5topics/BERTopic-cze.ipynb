{
 "cells": [
  {
   "cell_type": "markdown",
   "metadata": {},
   "source": [
    "## BERTopic - transformer"
   ]
  },
  {
   "cell_type": "markdown",
   "metadata": {},
   "source": [
    "https://medium.com/@cd_24/bertopic-fine-tune-parameters-76c3377016fb"
   ]
  },
  {
   "cell_type": "markdown",
   "metadata": {},
   "source": [
    "**Import Libraries**"
   ]
  },
  {
   "cell_type": "code",
   "execution_count": 150,
   "metadata": {},
   "outputs": [],
   "source": [
    "from bertopic import BERTopic\n",
    "from hdbscan import HDBSCAN\n",
    "from umap import UMAP\n",
    "import pandas as pd\n",
    "\n",
    "import openpyxl"
   ]
  },
  {
   "cell_type": "markdown",
   "metadata": {},
   "source": [
    "**Inputs**"
   ]
  },
  {
   "cell_type": "code",
   "execution_count": 151,
   "metadata": {},
   "outputs": [],
   "source": [
    "file_name='data_sport_history_chemistry_film_biology.csv'"
   ]
  },
  {
   "cell_type": "markdown",
   "metadata": {},
   "source": [
    "**Load data**"
   ]
  },
  {
   "cell_type": "code",
   "execution_count": 152,
   "metadata": {},
   "outputs": [
    {
     "data": {
      "text/html": [
       "<div>\n",
       "<style scoped>\n",
       "    .dataframe tbody tr th:only-of-type {\n",
       "        vertical-align: middle;\n",
       "    }\n",
       "\n",
       "    .dataframe tbody tr th {\n",
       "        vertical-align: top;\n",
       "    }\n",
       "\n",
       "    .dataframe thead th {\n",
       "        text-align: right;\n",
       "    }\n",
       "</style>\n",
       "<table border=\"1\" class=\"dataframe\">\n",
       "  <thead>\n",
       "    <tr style=\"text-align: right;\">\n",
       "      <th></th>\n",
       "      <th>sentences</th>\n",
       "    </tr>\n",
       "  </thead>\n",
       "  <tbody>\n",
       "    <tr>\n",
       "      <th>0</th>\n",
       "      <td>Fotbal je populárním sportem ve většině zemí.</td>\n",
       "    </tr>\n",
       "    <tr>\n",
       "      <th>1</th>\n",
       "      <td>Tenisový turnaj Wimbledon je jedním z nejstarš...</td>\n",
       "    </tr>\n",
       "    <tr>\n",
       "      <th>2</th>\n",
       "      <td>Běhání je skválý způsob, jak si udržet kondici.</td>\n",
       "    </tr>\n",
       "    <tr>\n",
       "      <th>3</th>\n",
       "      <td>Hokejový zápas může být velmi napínavý, zejmén...</td>\n",
       "    </tr>\n",
       "    <tr>\n",
       "      <th>4</th>\n",
       "      <td>Plavání je vynikající cvičení pro posílení sva...</td>\n",
       "    </tr>\n",
       "  </tbody>\n",
       "</table>\n",
       "</div>"
      ],
      "text/plain": [
       "                                           sentences\n",
       "0      Fotbal je populárním sportem ve většině zemí.\n",
       "1  Tenisový turnaj Wimbledon je jedním z nejstarš...\n",
       "2    Běhání je skválý způsob, jak si udržet kondici.\n",
       "3  Hokejový zápas může být velmi napínavý, zejmén...\n",
       "4  Plavání je vynikající cvičení pro posílení sva..."
      ]
     },
     "execution_count": 152,
     "metadata": {},
     "output_type": "execute_result"
    }
   ],
   "source": [
    "data = pd.read_csv('input/' + file_name, encoding='utf-8', delimiter=';')\n",
    "data.head(5)"
   ]
  },
  {
   "cell_type": "markdown",
   "metadata": {},
   "source": [
    "**Put data in a list**"
   ]
  },
  {
   "cell_type": "code",
   "execution_count": 153,
   "metadata": {},
   "outputs": [
    {
     "data": {
      "text/plain": [
       "['Fotbal je populárním sportem ve většině zemí.',\n",
       " 'Tenisový turnaj Wimbledon je jedním z nejstarších a nejprestižnějších na světě.',\n",
       " 'Běhání je skválý způsob, jak si udržet kondici.',\n",
       " 'Hokejový zápas může být velmi napínavý, zejména v prodloužení.',\n",
       " 'Plavání je vynikající cvičení pro posílení svalů celého těla.']"
      ]
     },
     "execution_count": 153,
     "metadata": {},
     "output_type": "execute_result"
    }
   ],
   "source": [
    "docs = [item for sublist in data.values.tolist() for item in sublist]\n",
    "docs[:5]"
   ]
  },
  {
   "cell_type": "code",
   "execution_count": 154,
   "metadata": {},
   "outputs": [
    {
     "data": {
      "text/plain": [
       "499"
      ]
     },
     "execution_count": 154,
     "metadata": {},
     "output_type": "execute_result"
    }
   ],
   "source": [
    "len(docs)"
   ]
  },
  {
   "cell_type": "markdown",
   "metadata": {},
   "source": [
    "**Define the clustering model**"
   ]
  },
  {
   "cell_type": "code",
   "execution_count": 155,
   "metadata": {},
   "outputs": [
    {
     "data": {
      "text/plain": [
       "' hdbscan_model = HDBSCAN(min_cluster_size=80, min_samples=40,\\n                        gen_min_span_tree=True,\\n                        prediction_data=True) '"
      ]
     },
     "execution_count": 155,
     "metadata": {},
     "output_type": "execute_result"
    }
   ],
   "source": [
    "\"\"\" hdbscan_model = HDBSCAN(min_cluster_size=80, min_samples=40,\n",
    "                        gen_min_span_tree=True,\n",
    "                        prediction_data=True) \"\"\""
   ]
  },
  {
   "cell_type": "markdown",
   "metadata": {},
   "source": [
    "**Define the UMAP**\n"
   ]
  },
  {
   "cell_type": "code",
   "execution_count": 156,
   "metadata": {},
   "outputs": [
    {
     "data": {
      "text/plain": [
       "' umap_model = UMAP(n_neighbors=3, n_components=3, min_dist=0.05) '"
      ]
     },
     "execution_count": 156,
     "metadata": {},
     "output_type": "execute_result"
    }
   ],
   "source": [
    "\"\"\" umap_model = UMAP(n_neighbors=3, n_components=3, min_dist=0.05) \"\"\""
   ]
  },
  {
   "cell_type": "markdown",
   "metadata": {},
   "source": [
    "**Define model**"
   ]
  },
  {
   "cell_type": "code",
   "execution_count": 157,
   "metadata": {},
   "outputs": [],
   "source": [
    "model = BERTopic(language=\"czech\",\n",
    "                 #top_n_words=10,\n",
    "                 calculate_probabilities=True\n",
    "                 #hdbscan_model=hdbscan_model,\n",
    "                 #umap_model=umap_model\n",
    "                 )"
   ]
  },
  {
   "cell_type": "markdown",
   "metadata": {},
   "source": [
    "**Run it**"
   ]
  },
  {
   "cell_type": "code",
   "execution_count": 158,
   "metadata": {},
   "outputs": [],
   "source": [
    "\"\"\" It is not going to work with a few hundereds documents, better to have thousands\"\"\"\n",
    "\n",
    "topics, probs = model.fit_transform(docs)"
   ]
  },
  {
   "cell_type": "markdown",
   "metadata": {},
   "source": [
    "**Visualize**"
   ]
  },
  {
   "cell_type": "code",
   "execution_count": 159,
   "metadata": {},
   "outputs": [
    {
     "data": {
      "text/html": [
       "<div>\n",
       "<style scoped>\n",
       "    .dataframe tbody tr th:only-of-type {\n",
       "        vertical-align: middle;\n",
       "    }\n",
       "\n",
       "    .dataframe tbody tr th {\n",
       "        vertical-align: top;\n",
       "    }\n",
       "\n",
       "    .dataframe thead th {\n",
       "        text-align: right;\n",
       "    }\n",
       "</style>\n",
       "<table border=\"1\" class=\"dataframe\">\n",
       "  <thead>\n",
       "    <tr style=\"text-align: right;\">\n",
       "      <th></th>\n",
       "      <th>Topic</th>\n",
       "      <th>Count</th>\n",
       "    </tr>\n",
       "  </thead>\n",
       "  <tbody>\n",
       "    <tr>\n",
       "      <th>1</th>\n",
       "      <td>0</td>\n",
       "      <td>109</td>\n",
       "    </tr>\n",
       "    <tr>\n",
       "      <th>2</th>\n",
       "      <td>1</td>\n",
       "      <td>99</td>\n",
       "    </tr>\n",
       "    <tr>\n",
       "      <th>7</th>\n",
       "      <td>2</td>\n",
       "      <td>99</td>\n",
       "    </tr>\n",
       "    <tr>\n",
       "      <th>0</th>\n",
       "      <td>3</td>\n",
       "      <td>92</td>\n",
       "    </tr>\n",
       "    <tr>\n",
       "      <th>6</th>\n",
       "      <td>4</td>\n",
       "      <td>37</td>\n",
       "    </tr>\n",
       "    <tr>\n",
       "      <th>3</th>\n",
       "      <td>5</td>\n",
       "      <td>24</td>\n",
       "    </tr>\n",
       "    <tr>\n",
       "      <th>8</th>\n",
       "      <td>-1</td>\n",
       "      <td>15</td>\n",
       "    </tr>\n",
       "    <tr>\n",
       "      <th>4</th>\n",
       "      <td>6</td>\n",
       "      <td>13</td>\n",
       "    </tr>\n",
       "    <tr>\n",
       "      <th>5</th>\n",
       "      <td>7</td>\n",
       "      <td>11</td>\n",
       "    </tr>\n",
       "  </tbody>\n",
       "</table>\n",
       "</div>"
      ],
      "text/plain": [
       "   Topic  Count\n",
       "1      0    109\n",
       "2      1     99\n",
       "7      2     99\n",
       "0      3     92\n",
       "6      4     37\n",
       "3      5     24\n",
       "8     -1     15\n",
       "4      6     13\n",
       "5      7     11"
      ]
     },
     "execution_count": 159,
     "metadata": {},
     "output_type": "execute_result"
    }
   ],
   "source": [
    "model.get_topic_freq()"
   ]
  },
  {
   "cell_type": "code",
   "execution_count": 160,
   "metadata": {},
   "outputs": [
    {
     "data": {
      "text/html": [
       "<div>\n",
       "<style scoped>\n",
       "    .dataframe tbody tr th:only-of-type {\n",
       "        vertical-align: middle;\n",
       "    }\n",
       "\n",
       "    .dataframe tbody tr th {\n",
       "        vertical-align: top;\n",
       "    }\n",
       "\n",
       "    .dataframe thead th {\n",
       "        text-align: right;\n",
       "    }\n",
       "</style>\n",
       "<table border=\"1\" class=\"dataframe\">\n",
       "  <thead>\n",
       "    <tr style=\"text-align: right;\">\n",
       "      <th></th>\n",
       "      <th>Topic</th>\n",
       "      <th>Count</th>\n",
       "      <th>Name</th>\n",
       "      <th>Representation</th>\n",
       "      <th>Representative_Docs</th>\n",
       "    </tr>\n",
       "  </thead>\n",
       "  <tbody>\n",
       "    <tr>\n",
       "      <th>0</th>\n",
       "      <td>-1</td>\n",
       "      <td>15</td>\n",
       "      <td>-1_systému_imunitní_infekcemi_nemocemi</td>\n",
       "      <td>[systému, imunitní, infekcemi, nemocemi, chrán...</td>\n",
       "      <td>[Imunitní systém chrání organismus před nemoce...</td>\n",
       "    </tr>\n",
       "    <tr>\n",
       "      <th>1</th>\n",
       "      <td>0</td>\n",
       "      <td>109</td>\n",
       "      <td>0_roce_byl_české_na</td>\n",
       "      <td>[roce, byl, české, na, měla, století, ve, po, ...</td>\n",
       "      <td>[Bitva na Bílé hoře měla klíčový vliv na dějin...</td>\n",
       "    </tr>\n",
       "    <tr>\n",
       "      <th>2</th>\n",
       "      <td>1</td>\n",
       "      <td>99</td>\n",
       "      <td>1_film_český_za_získal</td>\n",
       "      <td>[film, český, za, získal, je, režisér, filmová...</td>\n",
       "      <td>[Český filmový režisér Miloš Forman získal Osk...</td>\n",
       "    </tr>\n",
       "    <tr>\n",
       "      <th>3</th>\n",
       "      <td>2</td>\n",
       "      <td>99</td>\n",
       "      <td>2_reakce_jsou_chemická_sloučeniny</td>\n",
       "      <td>[reakce, jsou, chemická, sloučeniny, nebo, se,...</td>\n",
       "      <td>[Chemická rovnováha je stav, kdy se rychlosti ...</td>\n",
       "    </tr>\n",
       "    <tr>\n",
       "      <th>4</th>\n",
       "      <td>3</td>\n",
       "      <td>92</td>\n",
       "      <td>3_je_sport_na_sportem</td>\n",
       "      <td>[je, sport, na, sportem, který, vyžaduje, běh,...</td>\n",
       "      <td>[Zápasení je sport, který zdůrazňuje sílu a te...</td>\n",
       "    </tr>\n",
       "    <tr>\n",
       "      <th>5</th>\n",
       "      <td>4</td>\n",
       "      <td>37</td>\n",
       "      <td>4_prostředí_organismy_organismů_jejich</td>\n",
       "      <td>[prostředí, organismy, organismů, jejich, ekos...</td>\n",
       "      <td>[Ekologie zkoumá vztahy mezi organismy a jejic...</td>\n",
       "    </tr>\n",
       "    <tr>\n",
       "      <th>6</th>\n",
       "      <td>5</td>\n",
       "      <td>24</td>\n",
       "      <td>5_buněk_buňky_jsou_které</td>\n",
       "      <td>[buněk, buňky, jsou, které, reguluje, dělení, ...</td>\n",
       "      <td>[Enzymy jsou proteiny, které urychlují chemick...</td>\n",
       "    </tr>\n",
       "    <tr>\n",
       "      <th>7</th>\n",
       "      <td>6</td>\n",
       "      <td>13</td>\n",
       "      <td>6_dna_informace_genetické_obsahuje</td>\n",
       "      <td>[dna, informace, genetické, obsahuje, informac...</td>\n",
       "      <td>[Kyseliny nukleové, jako je RNA a DNA, jsou zá...</td>\n",
       "    </tr>\n",
       "    <tr>\n",
       "      <th>8</th>\n",
       "      <td>7</td>\n",
       "      <td>11</td>\n",
       "      <td>7_energii_fotosyntéza_rostliny_při</td>\n",
       "      <td>[energii, fotosyntéza, rostliny, při, proces, ...</td>\n",
       "      <td>[Fotosyntéza je proces, při kterém rostliny vy...</td>\n",
       "    </tr>\n",
       "  </tbody>\n",
       "</table>\n",
       "</div>"
      ],
      "text/plain": [
       "   Topic  Count                                    Name  \\\n",
       "0     -1     15  -1_systému_imunitní_infekcemi_nemocemi   \n",
       "1      0    109                     0_roce_byl_české_na   \n",
       "2      1     99                  1_film_český_za_získal   \n",
       "3      2     99       2_reakce_jsou_chemická_sloučeniny   \n",
       "4      3     92                   3_je_sport_na_sportem   \n",
       "5      4     37  4_prostředí_organismy_organismů_jejich   \n",
       "6      5     24                5_buněk_buňky_jsou_které   \n",
       "7      6     13      6_dna_informace_genetické_obsahuje   \n",
       "8      7     11      7_energii_fotosyntéza_rostliny_při   \n",
       "\n",
       "                                      Representation  \\\n",
       "0  [systému, imunitní, infekcemi, nemocemi, chrán...   \n",
       "1  [roce, byl, české, na, měla, století, ve, po, ...   \n",
       "2  [film, český, za, získal, je, režisér, filmová...   \n",
       "3  [reakce, jsou, chemická, sloučeniny, nebo, se,...   \n",
       "4  [je, sport, na, sportem, který, vyžaduje, běh,...   \n",
       "5  [prostředí, organismy, organismů, jejich, ekos...   \n",
       "6  [buněk, buňky, jsou, které, reguluje, dělení, ...   \n",
       "7  [dna, informace, genetické, obsahuje, informac...   \n",
       "8  [energii, fotosyntéza, rostliny, při, proces, ...   \n",
       "\n",
       "                                 Representative_Docs  \n",
       "0  [Imunitní systém chrání organismus před nemoce...  \n",
       "1  [Bitva na Bílé hoře měla klíčový vliv na dějin...  \n",
       "2  [Český filmový režisér Miloš Forman získal Osk...  \n",
       "3  [Chemická rovnováha je stav, kdy se rychlosti ...  \n",
       "4  [Zápasení je sport, který zdůrazňuje sílu a te...  \n",
       "5  [Ekologie zkoumá vztahy mezi organismy a jejic...  \n",
       "6  [Enzymy jsou proteiny, které urychlují chemick...  \n",
       "7  [Kyseliny nukleové, jako je RNA a DNA, jsou zá...  \n",
       "8  [Fotosyntéza je proces, při kterém rostliny vy...  "
      ]
     },
     "execution_count": 160,
     "metadata": {},
     "output_type": "execute_result"
    }
   ],
   "source": [
    "model.get_topic_info()"
   ]
  },
  {
   "cell_type": "code",
   "execution_count": 161,
   "metadata": {},
   "outputs": [
    {
     "data": {
      "application/vnd.plotly.v1+json": {
       "config": {
        "plotlyServerURL": "https://plot.ly"
       },
       "data": [
        {
         "marker": {
          "color": "#D55E00"
         },
         "orientation": "h",
         "type": "bar",
         "x": [
          0.0484783906417961,
          0.04961093408072337,
          0.05283828926411176,
          0.05481857415166598,
          0.05613601781182536
         ],
         "xaxis": "x",
         "y": [
          "měla  ",
          "na  ",
          "české  ",
          "byl  ",
          "roce  "
         ],
         "yaxis": "y"
        },
        {
         "marker": {
          "color": "#0072B2"
         },
         "orientation": "h",
         "type": "bar",
         "x": [
          0.0509798683394434,
          0.0520802949520955,
          0.05757006718067342,
          0.05859927534040402,
          0.101036657745781
         ],
         "xaxis": "x2",
         "y": [
          "je  ",
          "získal  ",
          "za  ",
          "český  ",
          "film  "
         ],
         "yaxis": "y2"
        },
        {
         "marker": {
          "color": "#CC79A7"
         },
         "orientation": "h",
         "type": "bar",
         "x": [
          0.041634458772748024,
          0.050886560722247585,
          0.054271954268612,
          0.05504882893982081,
          0.07046371525529303
         ],
         "xaxis": "x3",
         "y": [
          "nebo  ",
          "sloučeniny  ",
          "chemická  ",
          "jsou  ",
          "reakce  "
         ],
         "yaxis": "y3"
        },
        {
         "marker": {
          "color": "#E69F00"
         },
         "orientation": "h",
         "type": "bar",
         "x": [
          0.05493467079807269,
          0.06275379265578644,
          0.06312942850428423,
          0.09024981631111942,
          0.10992766995496592
         ],
         "xaxis": "x4",
         "y": [
          "který  ",
          "sportem  ",
          "na  ",
          "sport  ",
          "je  "
         ],
         "yaxis": "y4"
        },
        {
         "marker": {
          "color": "#56B4E9"
         },
         "orientation": "h",
         "type": "bar",
         "x": [
          0.08596526260505065,
          0.10078860649206464,
          0.10078860649206464,
          0.1172409640199502,
          0.1172409640199502
         ],
         "xaxis": "x5",
         "y": [
          "ekosystémy  ",
          "jejich  ",
          "organismů  ",
          "organismy  ",
          "prostředí  "
         ],
         "yaxis": "y5"
        },
        {
         "marker": {
          "color": "#009E73"
         },
         "orientation": "h",
         "type": "bar",
         "x": [
          0.09411596593687456,
          0.0977716570742949,
          0.1109071994816978,
          0.1411997399312444,
          0.14571159991635743
         ],
         "xaxis": "x6",
         "y": [
          "reguluje  ",
          "které  ",
          "jsou  ",
          "buňky  ",
          "buněk  "
         ],
         "yaxis": "y6"
        },
        {
         "marker": {
          "color": "#F0E442"
         },
         "orientation": "h",
         "type": "bar",
         "x": [
          0.1045511947839369,
          0.12567302676071693,
          0.20945504460119485,
          0.21803934336421377,
          0.3135210551942733
         ],
         "xaxis": "x7",
         "y": [
          "informaci  ",
          "obsahuje  ",
          "genetické  ",
          "informace  ",
          "dna  "
         ],
         "yaxis": "y7"
        },
        {
         "marker": {
          "color": "#D55E00"
         },
         "orientation": "h",
         "type": "bar",
         "x": [
          0.1784121767209389,
          0.1822367091862707,
          0.249791314142327,
          0.29142319983271486,
          0.32802607653528726
         ],
         "xaxis": "x8",
         "y": [
          "proces  ",
          "při  ",
          "rostliny  ",
          "fotosyntéza  ",
          "energii  "
         ],
         "yaxis": "y8"
        }
       ],
       "layout": {
        "annotations": [
         {
          "font": {
           "size": 16
          },
          "showarrow": false,
          "text": "Topic 0",
          "x": 0.0875,
          "xanchor": "center",
          "xref": "paper",
          "y": 1,
          "yanchor": "bottom",
          "yref": "paper"
         },
         {
          "font": {
           "size": 16
          },
          "showarrow": false,
          "text": "Topic 1",
          "x": 0.36250000000000004,
          "xanchor": "center",
          "xref": "paper",
          "y": 1,
          "yanchor": "bottom",
          "yref": "paper"
         },
         {
          "font": {
           "size": 16
          },
          "showarrow": false,
          "text": "Topic 2",
          "x": 0.6375000000000001,
          "xanchor": "center",
          "xref": "paper",
          "y": 1,
          "yanchor": "bottom",
          "yref": "paper"
         },
         {
          "font": {
           "size": 16
          },
          "showarrow": false,
          "text": "Topic 3",
          "x": 0.9125,
          "xanchor": "center",
          "xref": "paper",
          "y": 1,
          "yanchor": "bottom",
          "yref": "paper"
         },
         {
          "font": {
           "size": 16
          },
          "showarrow": false,
          "text": "Topic 4",
          "x": 0.0875,
          "xanchor": "center",
          "xref": "paper",
          "y": 0.4,
          "yanchor": "bottom",
          "yref": "paper"
         },
         {
          "font": {
           "size": 16
          },
          "showarrow": false,
          "text": "Topic 5",
          "x": 0.36250000000000004,
          "xanchor": "center",
          "xref": "paper",
          "y": 0.4,
          "yanchor": "bottom",
          "yref": "paper"
         },
         {
          "font": {
           "size": 16
          },
          "showarrow": false,
          "text": "Topic 6",
          "x": 0.6375000000000001,
          "xanchor": "center",
          "xref": "paper",
          "y": 0.4,
          "yanchor": "bottom",
          "yref": "paper"
         },
         {
          "font": {
           "size": 16
          },
          "showarrow": false,
          "text": "Topic 7",
          "x": 0.9125,
          "xanchor": "center",
          "xref": "paper",
          "y": 0.4,
          "yanchor": "bottom",
          "yref": "paper"
         }
        ],
        "height": 500,
        "hoverlabel": {
         "bgcolor": "white",
         "font": {
          "family": "Rockwell",
          "size": 16
         }
        },
        "showlegend": false,
        "template": {
         "data": {
          "bar": [
           {
            "error_x": {
             "color": "#2a3f5f"
            },
            "error_y": {
             "color": "#2a3f5f"
            },
            "marker": {
             "line": {
              "color": "white",
              "width": 0.5
             },
             "pattern": {
              "fillmode": "overlay",
              "size": 10,
              "solidity": 0.2
             }
            },
            "type": "bar"
           }
          ],
          "barpolar": [
           {
            "marker": {
             "line": {
              "color": "white",
              "width": 0.5
             },
             "pattern": {
              "fillmode": "overlay",
              "size": 10,
              "solidity": 0.2
             }
            },
            "type": "barpolar"
           }
          ],
          "carpet": [
           {
            "aaxis": {
             "endlinecolor": "#2a3f5f",
             "gridcolor": "#C8D4E3",
             "linecolor": "#C8D4E3",
             "minorgridcolor": "#C8D4E3",
             "startlinecolor": "#2a3f5f"
            },
            "baxis": {
             "endlinecolor": "#2a3f5f",
             "gridcolor": "#C8D4E3",
             "linecolor": "#C8D4E3",
             "minorgridcolor": "#C8D4E3",
             "startlinecolor": "#2a3f5f"
            },
            "type": "carpet"
           }
          ],
          "choropleth": [
           {
            "colorbar": {
             "outlinewidth": 0,
             "ticks": ""
            },
            "type": "choropleth"
           }
          ],
          "contour": [
           {
            "colorbar": {
             "outlinewidth": 0,
             "ticks": ""
            },
            "colorscale": [
             [
              0,
              "#0d0887"
             ],
             [
              0.1111111111111111,
              "#46039f"
             ],
             [
              0.2222222222222222,
              "#7201a8"
             ],
             [
              0.3333333333333333,
              "#9c179e"
             ],
             [
              0.4444444444444444,
              "#bd3786"
             ],
             [
              0.5555555555555556,
              "#d8576b"
             ],
             [
              0.6666666666666666,
              "#ed7953"
             ],
             [
              0.7777777777777778,
              "#fb9f3a"
             ],
             [
              0.8888888888888888,
              "#fdca26"
             ],
             [
              1,
              "#f0f921"
             ]
            ],
            "type": "contour"
           }
          ],
          "contourcarpet": [
           {
            "colorbar": {
             "outlinewidth": 0,
             "ticks": ""
            },
            "type": "contourcarpet"
           }
          ],
          "heatmap": [
           {
            "colorbar": {
             "outlinewidth": 0,
             "ticks": ""
            },
            "colorscale": [
             [
              0,
              "#0d0887"
             ],
             [
              0.1111111111111111,
              "#46039f"
             ],
             [
              0.2222222222222222,
              "#7201a8"
             ],
             [
              0.3333333333333333,
              "#9c179e"
             ],
             [
              0.4444444444444444,
              "#bd3786"
             ],
             [
              0.5555555555555556,
              "#d8576b"
             ],
             [
              0.6666666666666666,
              "#ed7953"
             ],
             [
              0.7777777777777778,
              "#fb9f3a"
             ],
             [
              0.8888888888888888,
              "#fdca26"
             ],
             [
              1,
              "#f0f921"
             ]
            ],
            "type": "heatmap"
           }
          ],
          "heatmapgl": [
           {
            "colorbar": {
             "outlinewidth": 0,
             "ticks": ""
            },
            "colorscale": [
             [
              0,
              "#0d0887"
             ],
             [
              0.1111111111111111,
              "#46039f"
             ],
             [
              0.2222222222222222,
              "#7201a8"
             ],
             [
              0.3333333333333333,
              "#9c179e"
             ],
             [
              0.4444444444444444,
              "#bd3786"
             ],
             [
              0.5555555555555556,
              "#d8576b"
             ],
             [
              0.6666666666666666,
              "#ed7953"
             ],
             [
              0.7777777777777778,
              "#fb9f3a"
             ],
             [
              0.8888888888888888,
              "#fdca26"
             ],
             [
              1,
              "#f0f921"
             ]
            ],
            "type": "heatmapgl"
           }
          ],
          "histogram": [
           {
            "marker": {
             "pattern": {
              "fillmode": "overlay",
              "size": 10,
              "solidity": 0.2
             }
            },
            "type": "histogram"
           }
          ],
          "histogram2d": [
           {
            "colorbar": {
             "outlinewidth": 0,
             "ticks": ""
            },
            "colorscale": [
             [
              0,
              "#0d0887"
             ],
             [
              0.1111111111111111,
              "#46039f"
             ],
             [
              0.2222222222222222,
              "#7201a8"
             ],
             [
              0.3333333333333333,
              "#9c179e"
             ],
             [
              0.4444444444444444,
              "#bd3786"
             ],
             [
              0.5555555555555556,
              "#d8576b"
             ],
             [
              0.6666666666666666,
              "#ed7953"
             ],
             [
              0.7777777777777778,
              "#fb9f3a"
             ],
             [
              0.8888888888888888,
              "#fdca26"
             ],
             [
              1,
              "#f0f921"
             ]
            ],
            "type": "histogram2d"
           }
          ],
          "histogram2dcontour": [
           {
            "colorbar": {
             "outlinewidth": 0,
             "ticks": ""
            },
            "colorscale": [
             [
              0,
              "#0d0887"
             ],
             [
              0.1111111111111111,
              "#46039f"
             ],
             [
              0.2222222222222222,
              "#7201a8"
             ],
             [
              0.3333333333333333,
              "#9c179e"
             ],
             [
              0.4444444444444444,
              "#bd3786"
             ],
             [
              0.5555555555555556,
              "#d8576b"
             ],
             [
              0.6666666666666666,
              "#ed7953"
             ],
             [
              0.7777777777777778,
              "#fb9f3a"
             ],
             [
              0.8888888888888888,
              "#fdca26"
             ],
             [
              1,
              "#f0f921"
             ]
            ],
            "type": "histogram2dcontour"
           }
          ],
          "mesh3d": [
           {
            "colorbar": {
             "outlinewidth": 0,
             "ticks": ""
            },
            "type": "mesh3d"
           }
          ],
          "parcoords": [
           {
            "line": {
             "colorbar": {
              "outlinewidth": 0,
              "ticks": ""
             }
            },
            "type": "parcoords"
           }
          ],
          "pie": [
           {
            "automargin": true,
            "type": "pie"
           }
          ],
          "scatter": [
           {
            "fillpattern": {
             "fillmode": "overlay",
             "size": 10,
             "solidity": 0.2
            },
            "type": "scatter"
           }
          ],
          "scatter3d": [
           {
            "line": {
             "colorbar": {
              "outlinewidth": 0,
              "ticks": ""
             }
            },
            "marker": {
             "colorbar": {
              "outlinewidth": 0,
              "ticks": ""
             }
            },
            "type": "scatter3d"
           }
          ],
          "scattercarpet": [
           {
            "marker": {
             "colorbar": {
              "outlinewidth": 0,
              "ticks": ""
             }
            },
            "type": "scattercarpet"
           }
          ],
          "scattergeo": [
           {
            "marker": {
             "colorbar": {
              "outlinewidth": 0,
              "ticks": ""
             }
            },
            "type": "scattergeo"
           }
          ],
          "scattergl": [
           {
            "marker": {
             "colorbar": {
              "outlinewidth": 0,
              "ticks": ""
             }
            },
            "type": "scattergl"
           }
          ],
          "scattermapbox": [
           {
            "marker": {
             "colorbar": {
              "outlinewidth": 0,
              "ticks": ""
             }
            },
            "type": "scattermapbox"
           }
          ],
          "scatterpolar": [
           {
            "marker": {
             "colorbar": {
              "outlinewidth": 0,
              "ticks": ""
             }
            },
            "type": "scatterpolar"
           }
          ],
          "scatterpolargl": [
           {
            "marker": {
             "colorbar": {
              "outlinewidth": 0,
              "ticks": ""
             }
            },
            "type": "scatterpolargl"
           }
          ],
          "scatterternary": [
           {
            "marker": {
             "colorbar": {
              "outlinewidth": 0,
              "ticks": ""
             }
            },
            "type": "scatterternary"
           }
          ],
          "surface": [
           {
            "colorbar": {
             "outlinewidth": 0,
             "ticks": ""
            },
            "colorscale": [
             [
              0,
              "#0d0887"
             ],
             [
              0.1111111111111111,
              "#46039f"
             ],
             [
              0.2222222222222222,
              "#7201a8"
             ],
             [
              0.3333333333333333,
              "#9c179e"
             ],
             [
              0.4444444444444444,
              "#bd3786"
             ],
             [
              0.5555555555555556,
              "#d8576b"
             ],
             [
              0.6666666666666666,
              "#ed7953"
             ],
             [
              0.7777777777777778,
              "#fb9f3a"
             ],
             [
              0.8888888888888888,
              "#fdca26"
             ],
             [
              1,
              "#f0f921"
             ]
            ],
            "type": "surface"
           }
          ],
          "table": [
           {
            "cells": {
             "fill": {
              "color": "#EBF0F8"
             },
             "line": {
              "color": "white"
             }
            },
            "header": {
             "fill": {
              "color": "#C8D4E3"
             },
             "line": {
              "color": "white"
             }
            },
            "type": "table"
           }
          ]
         },
         "layout": {
          "annotationdefaults": {
           "arrowcolor": "#2a3f5f",
           "arrowhead": 0,
           "arrowwidth": 1
          },
          "autotypenumbers": "strict",
          "coloraxis": {
           "colorbar": {
            "outlinewidth": 0,
            "ticks": ""
           }
          },
          "colorscale": {
           "diverging": [
            [
             0,
             "#8e0152"
            ],
            [
             0.1,
             "#c51b7d"
            ],
            [
             0.2,
             "#de77ae"
            ],
            [
             0.3,
             "#f1b6da"
            ],
            [
             0.4,
             "#fde0ef"
            ],
            [
             0.5,
             "#f7f7f7"
            ],
            [
             0.6,
             "#e6f5d0"
            ],
            [
             0.7,
             "#b8e186"
            ],
            [
             0.8,
             "#7fbc41"
            ],
            [
             0.9,
             "#4d9221"
            ],
            [
             1,
             "#276419"
            ]
           ],
           "sequential": [
            [
             0,
             "#0d0887"
            ],
            [
             0.1111111111111111,
             "#46039f"
            ],
            [
             0.2222222222222222,
             "#7201a8"
            ],
            [
             0.3333333333333333,
             "#9c179e"
            ],
            [
             0.4444444444444444,
             "#bd3786"
            ],
            [
             0.5555555555555556,
             "#d8576b"
            ],
            [
             0.6666666666666666,
             "#ed7953"
            ],
            [
             0.7777777777777778,
             "#fb9f3a"
            ],
            [
             0.8888888888888888,
             "#fdca26"
            ],
            [
             1,
             "#f0f921"
            ]
           ],
           "sequentialminus": [
            [
             0,
             "#0d0887"
            ],
            [
             0.1111111111111111,
             "#46039f"
            ],
            [
             0.2222222222222222,
             "#7201a8"
            ],
            [
             0.3333333333333333,
             "#9c179e"
            ],
            [
             0.4444444444444444,
             "#bd3786"
            ],
            [
             0.5555555555555556,
             "#d8576b"
            ],
            [
             0.6666666666666666,
             "#ed7953"
            ],
            [
             0.7777777777777778,
             "#fb9f3a"
            ],
            [
             0.8888888888888888,
             "#fdca26"
            ],
            [
             1,
             "#f0f921"
            ]
           ]
          },
          "colorway": [
           "#636efa",
           "#EF553B",
           "#00cc96",
           "#ab63fa",
           "#FFA15A",
           "#19d3f3",
           "#FF6692",
           "#B6E880",
           "#FF97FF",
           "#FECB52"
          ],
          "font": {
           "color": "#2a3f5f"
          },
          "geo": {
           "bgcolor": "white",
           "lakecolor": "white",
           "landcolor": "white",
           "showlakes": true,
           "showland": true,
           "subunitcolor": "#C8D4E3"
          },
          "hoverlabel": {
           "align": "left"
          },
          "hovermode": "closest",
          "mapbox": {
           "style": "light"
          },
          "paper_bgcolor": "white",
          "plot_bgcolor": "white",
          "polar": {
           "angularaxis": {
            "gridcolor": "#EBF0F8",
            "linecolor": "#EBF0F8",
            "ticks": ""
           },
           "bgcolor": "white",
           "radialaxis": {
            "gridcolor": "#EBF0F8",
            "linecolor": "#EBF0F8",
            "ticks": ""
           }
          },
          "scene": {
           "xaxis": {
            "backgroundcolor": "white",
            "gridcolor": "#DFE8F3",
            "gridwidth": 2,
            "linecolor": "#EBF0F8",
            "showbackground": true,
            "ticks": "",
            "zerolinecolor": "#EBF0F8"
           },
           "yaxis": {
            "backgroundcolor": "white",
            "gridcolor": "#DFE8F3",
            "gridwidth": 2,
            "linecolor": "#EBF0F8",
            "showbackground": true,
            "ticks": "",
            "zerolinecolor": "#EBF0F8"
           },
           "zaxis": {
            "backgroundcolor": "white",
            "gridcolor": "#DFE8F3",
            "gridwidth": 2,
            "linecolor": "#EBF0F8",
            "showbackground": true,
            "ticks": "",
            "zerolinecolor": "#EBF0F8"
           }
          },
          "shapedefaults": {
           "line": {
            "color": "#2a3f5f"
           }
          },
          "ternary": {
           "aaxis": {
            "gridcolor": "#DFE8F3",
            "linecolor": "#A2B1C6",
            "ticks": ""
           },
           "baxis": {
            "gridcolor": "#DFE8F3",
            "linecolor": "#A2B1C6",
            "ticks": ""
           },
           "bgcolor": "white",
           "caxis": {
            "gridcolor": "#DFE8F3",
            "linecolor": "#A2B1C6",
            "ticks": ""
           }
          },
          "title": {
           "x": 0.05
          },
          "xaxis": {
           "automargin": true,
           "gridcolor": "#EBF0F8",
           "linecolor": "#EBF0F8",
           "ticks": "",
           "title": {
            "standoff": 15
           },
           "zerolinecolor": "#EBF0F8",
           "zerolinewidth": 2
          },
          "yaxis": {
           "automargin": true,
           "gridcolor": "#EBF0F8",
           "linecolor": "#EBF0F8",
           "ticks": "",
           "title": {
            "standoff": 15
           },
           "zerolinecolor": "#EBF0F8",
           "zerolinewidth": 2
          }
         }
        },
        "title": {
         "font": {
          "color": "Black",
          "size": 22
         },
         "text": "Topic Word Scores",
         "x": 0.5,
         "xanchor": "center",
         "yanchor": "top"
        },
        "width": 1000,
        "xaxis": {
         "anchor": "y",
         "domain": [
          0,
          0.175
         ],
         "showgrid": true
        },
        "xaxis2": {
         "anchor": "y2",
         "domain": [
          0.275,
          0.45
         ],
         "showgrid": true
        },
        "xaxis3": {
         "anchor": "y3",
         "domain": [
          0.55,
          0.7250000000000001
         ],
         "showgrid": true
        },
        "xaxis4": {
         "anchor": "y4",
         "domain": [
          0.825,
          1
         ],
         "showgrid": true
        },
        "xaxis5": {
         "anchor": "y5",
         "domain": [
          0,
          0.175
         ],
         "showgrid": true
        },
        "xaxis6": {
         "anchor": "y6",
         "domain": [
          0.275,
          0.45
         ],
         "showgrid": true
        },
        "xaxis7": {
         "anchor": "y7",
         "domain": [
          0.55,
          0.7250000000000001
         ],
         "showgrid": true
        },
        "xaxis8": {
         "anchor": "y8",
         "domain": [
          0.825,
          1
         ],
         "showgrid": true
        },
        "yaxis": {
         "anchor": "x",
         "domain": [
          0.6000000000000001,
          1
         ],
         "showgrid": true
        },
        "yaxis2": {
         "anchor": "x2",
         "domain": [
          0.6000000000000001,
          1
         ],
         "showgrid": true
        },
        "yaxis3": {
         "anchor": "x3",
         "domain": [
          0.6000000000000001,
          1
         ],
         "showgrid": true
        },
        "yaxis4": {
         "anchor": "x4",
         "domain": [
          0.6000000000000001,
          1
         ],
         "showgrid": true
        },
        "yaxis5": {
         "anchor": "x5",
         "domain": [
          0,
          0.4
         ],
         "showgrid": true
        },
        "yaxis6": {
         "anchor": "x6",
         "domain": [
          0,
          0.4
         ],
         "showgrid": true
        },
        "yaxis7": {
         "anchor": "x7",
         "domain": [
          0,
          0.4
         ],
         "showgrid": true
        },
        "yaxis8": {
         "anchor": "x8",
         "domain": [
          0,
          0.4
         ],
         "showgrid": true
        }
       }
      }
     },
     "metadata": {},
     "output_type": "display_data"
    }
   ],
   "source": [
    "model.visualize_barchart(top_n_topics=10)"
   ]
  },
  {
   "cell_type": "code",
   "execution_count": 162,
   "metadata": {},
   "outputs": [
    {
     "data": {
      "application/vnd.plotly.v1+json": {
       "config": {
        "plotlyServerURL": "https://plot.ly"
       },
       "data": [
        {
         "customdata": [
          [
           0,
           "roce | byl | české | na | měla",
           109
          ],
          [
           1,
           "film | český | za | získal | je",
           99
          ],
          [
           2,
           "reakce | jsou | chemická | sloučeniny | nebo",
           99
          ],
          [
           3,
           "je | sport | na | sportem | který",
           92
          ],
          [
           4,
           "prostředí | organismy | organismů | jejich | ekosystémy",
           37
          ],
          [
           5,
           "buněk | buňky | jsou | které | reguluje",
           24
          ],
          [
           6,
           "dna | informace | genetické | obsahuje | informaci",
           13
          ],
          [
           7,
           "energii | fotosyntéza | rostliny | při | proces",
           11
          ]
         ],
         "hovertemplate": "<b>Topic %{customdata[0]}</b><br>%{customdata[1]}<br>Size: %{customdata[2]}",
         "legendgroup": "",
         "marker": {
          "color": "#B0BEC5",
          "line": {
           "color": "DarkSlateGrey",
           "width": 2
          },
          "size": [
           109,
           99,
           99,
           92,
           37,
           24,
           13,
           11
          ],
          "sizemode": "area",
          "sizeref": 0.068125,
          "symbol": "circle"
         },
         "mode": "markers",
         "name": "",
         "orientation": "v",
         "showlegend": false,
         "type": "scatter",
         "x": [
          11.883505821228027,
          11.56599235534668,
          -12.146833419799805,
          -13.094632148742676,
          -12.87244701385498,
          -12.815962791442871,
          -13.21046257019043,
          -11.58333683013916
         ],
         "xaxis": "x",
         "y": [
          6.976827621459961,
          7.294360160827637,
          -9.448551177978516,
          -11.194449424743652,
          -10.740225791931152,
          -9.479462623596191,
          -10.114033699035645,
          -9.217456817626953
         ],
         "yaxis": "y"
        }
       ],
       "layout": {
        "annotations": [
         {
          "showarrow": false,
          "text": "D1",
          "x": -15.192031955718994,
          "y": -2.242551326751709,
          "yshift": 10
         },
         {
          "showarrow": false,
          "text": "D2",
          "x": -0.7630001306533813,
          "xshift": 10,
          "y": 8.388514184951783
         }
        ],
        "height": 650,
        "hoverlabel": {
         "bgcolor": "white",
         "font": {
          "family": "Rockwell",
          "size": 16
         }
        },
        "legend": {
         "itemsizing": "constant",
         "tracegroupgap": 0
        },
        "margin": {
         "t": 60
        },
        "shapes": [
         {
          "line": {
           "color": "#CFD8DC",
           "width": 2
          },
          "type": "line",
          "x0": -0.7630001306533813,
          "x1": -0.7630001306533813,
          "y0": -12.8736168384552,
          "y1": 8.388514184951783
         },
         {
          "line": {
           "color": "#9E9E9E",
           "width": 2
          },
          "type": "line",
          "x0": -15.192031955718994,
          "x1": 13.666031694412231,
          "y0": -2.242551326751709,
          "y1": -2.242551326751709
         }
        ],
        "sliders": [
         {
          "active": 0,
          "pad": {
           "t": 50
          },
          "steps": [
           {
            "args": [
             {
              "marker.color": [
               [
                "red",
                "#B0BEC5",
                "#B0BEC5",
                "#B0BEC5",
                "#B0BEC5",
                "#B0BEC5",
                "#B0BEC5",
                "#B0BEC5"
               ]
              ]
             }
            ],
            "label": "Topic 0",
            "method": "update"
           },
           {
            "args": [
             {
              "marker.color": [
               [
                "#B0BEC5",
                "red",
                "#B0BEC5",
                "#B0BEC5",
                "#B0BEC5",
                "#B0BEC5",
                "#B0BEC5",
                "#B0BEC5"
               ]
              ]
             }
            ],
            "label": "Topic 1",
            "method": "update"
           },
           {
            "args": [
             {
              "marker.color": [
               [
                "#B0BEC5",
                "#B0BEC5",
                "red",
                "#B0BEC5",
                "#B0BEC5",
                "#B0BEC5",
                "#B0BEC5",
                "#B0BEC5"
               ]
              ]
             }
            ],
            "label": "Topic 2",
            "method": "update"
           },
           {
            "args": [
             {
              "marker.color": [
               [
                "#B0BEC5",
                "#B0BEC5",
                "#B0BEC5",
                "red",
                "#B0BEC5",
                "#B0BEC5",
                "#B0BEC5",
                "#B0BEC5"
               ]
              ]
             }
            ],
            "label": "Topic 3",
            "method": "update"
           },
           {
            "args": [
             {
              "marker.color": [
               [
                "#B0BEC5",
                "#B0BEC5",
                "#B0BEC5",
                "#B0BEC5",
                "red",
                "#B0BEC5",
                "#B0BEC5",
                "#B0BEC5"
               ]
              ]
             }
            ],
            "label": "Topic 4",
            "method": "update"
           },
           {
            "args": [
             {
              "marker.color": [
               [
                "#B0BEC5",
                "#B0BEC5",
                "#B0BEC5",
                "#B0BEC5",
                "#B0BEC5",
                "red",
                "#B0BEC5",
                "#B0BEC5"
               ]
              ]
             }
            ],
            "label": "Topic 5",
            "method": "update"
           },
           {
            "args": [
             {
              "marker.color": [
               [
                "#B0BEC5",
                "#B0BEC5",
                "#B0BEC5",
                "#B0BEC5",
                "#B0BEC5",
                "#B0BEC5",
                "red",
                "#B0BEC5"
               ]
              ]
             }
            ],
            "label": "Topic 6",
            "method": "update"
           },
           {
            "args": [
             {
              "marker.color": [
               [
                "#B0BEC5",
                "#B0BEC5",
                "#B0BEC5",
                "#B0BEC5",
                "#B0BEC5",
                "#B0BEC5",
                "#B0BEC5",
                "red"
               ]
              ]
             }
            ],
            "label": "Topic 7",
            "method": "update"
           }
          ]
         }
        ],
        "template": {
         "data": {
          "bar": [
           {
            "error_x": {
             "color": "rgb(36,36,36)"
            },
            "error_y": {
             "color": "rgb(36,36,36)"
            },
            "marker": {
             "line": {
              "color": "white",
              "width": 0.5
             },
             "pattern": {
              "fillmode": "overlay",
              "size": 10,
              "solidity": 0.2
             }
            },
            "type": "bar"
           }
          ],
          "barpolar": [
           {
            "marker": {
             "line": {
              "color": "white",
              "width": 0.5
             },
             "pattern": {
              "fillmode": "overlay",
              "size": 10,
              "solidity": 0.2
             }
            },
            "type": "barpolar"
           }
          ],
          "carpet": [
           {
            "aaxis": {
             "endlinecolor": "rgb(36,36,36)",
             "gridcolor": "white",
             "linecolor": "white",
             "minorgridcolor": "white",
             "startlinecolor": "rgb(36,36,36)"
            },
            "baxis": {
             "endlinecolor": "rgb(36,36,36)",
             "gridcolor": "white",
             "linecolor": "white",
             "minorgridcolor": "white",
             "startlinecolor": "rgb(36,36,36)"
            },
            "type": "carpet"
           }
          ],
          "choropleth": [
           {
            "colorbar": {
             "outlinewidth": 1,
             "tickcolor": "rgb(36,36,36)",
             "ticks": "outside"
            },
            "type": "choropleth"
           }
          ],
          "contour": [
           {
            "colorbar": {
             "outlinewidth": 1,
             "tickcolor": "rgb(36,36,36)",
             "ticks": "outside"
            },
            "colorscale": [
             [
              0,
              "#440154"
             ],
             [
              0.1111111111111111,
              "#482878"
             ],
             [
              0.2222222222222222,
              "#3e4989"
             ],
             [
              0.3333333333333333,
              "#31688e"
             ],
             [
              0.4444444444444444,
              "#26828e"
             ],
             [
              0.5555555555555556,
              "#1f9e89"
             ],
             [
              0.6666666666666666,
              "#35b779"
             ],
             [
              0.7777777777777778,
              "#6ece58"
             ],
             [
              0.8888888888888888,
              "#b5de2b"
             ],
             [
              1,
              "#fde725"
             ]
            ],
            "type": "contour"
           }
          ],
          "contourcarpet": [
           {
            "colorbar": {
             "outlinewidth": 1,
             "tickcolor": "rgb(36,36,36)",
             "ticks": "outside"
            },
            "type": "contourcarpet"
           }
          ],
          "heatmap": [
           {
            "colorbar": {
             "outlinewidth": 1,
             "tickcolor": "rgb(36,36,36)",
             "ticks": "outside"
            },
            "colorscale": [
             [
              0,
              "#440154"
             ],
             [
              0.1111111111111111,
              "#482878"
             ],
             [
              0.2222222222222222,
              "#3e4989"
             ],
             [
              0.3333333333333333,
              "#31688e"
             ],
             [
              0.4444444444444444,
              "#26828e"
             ],
             [
              0.5555555555555556,
              "#1f9e89"
             ],
             [
              0.6666666666666666,
              "#35b779"
             ],
             [
              0.7777777777777778,
              "#6ece58"
             ],
             [
              0.8888888888888888,
              "#b5de2b"
             ],
             [
              1,
              "#fde725"
             ]
            ],
            "type": "heatmap"
           }
          ],
          "heatmapgl": [
           {
            "colorbar": {
             "outlinewidth": 1,
             "tickcolor": "rgb(36,36,36)",
             "ticks": "outside"
            },
            "colorscale": [
             [
              0,
              "#440154"
             ],
             [
              0.1111111111111111,
              "#482878"
             ],
             [
              0.2222222222222222,
              "#3e4989"
             ],
             [
              0.3333333333333333,
              "#31688e"
             ],
             [
              0.4444444444444444,
              "#26828e"
             ],
             [
              0.5555555555555556,
              "#1f9e89"
             ],
             [
              0.6666666666666666,
              "#35b779"
             ],
             [
              0.7777777777777778,
              "#6ece58"
             ],
             [
              0.8888888888888888,
              "#b5de2b"
             ],
             [
              1,
              "#fde725"
             ]
            ],
            "type": "heatmapgl"
           }
          ],
          "histogram": [
           {
            "marker": {
             "line": {
              "color": "white",
              "width": 0.6
             }
            },
            "type": "histogram"
           }
          ],
          "histogram2d": [
           {
            "colorbar": {
             "outlinewidth": 1,
             "tickcolor": "rgb(36,36,36)",
             "ticks": "outside"
            },
            "colorscale": [
             [
              0,
              "#440154"
             ],
             [
              0.1111111111111111,
              "#482878"
             ],
             [
              0.2222222222222222,
              "#3e4989"
             ],
             [
              0.3333333333333333,
              "#31688e"
             ],
             [
              0.4444444444444444,
              "#26828e"
             ],
             [
              0.5555555555555556,
              "#1f9e89"
             ],
             [
              0.6666666666666666,
              "#35b779"
             ],
             [
              0.7777777777777778,
              "#6ece58"
             ],
             [
              0.8888888888888888,
              "#b5de2b"
             ],
             [
              1,
              "#fde725"
             ]
            ],
            "type": "histogram2d"
           }
          ],
          "histogram2dcontour": [
           {
            "colorbar": {
             "outlinewidth": 1,
             "tickcolor": "rgb(36,36,36)",
             "ticks": "outside"
            },
            "colorscale": [
             [
              0,
              "#440154"
             ],
             [
              0.1111111111111111,
              "#482878"
             ],
             [
              0.2222222222222222,
              "#3e4989"
             ],
             [
              0.3333333333333333,
              "#31688e"
             ],
             [
              0.4444444444444444,
              "#26828e"
             ],
             [
              0.5555555555555556,
              "#1f9e89"
             ],
             [
              0.6666666666666666,
              "#35b779"
             ],
             [
              0.7777777777777778,
              "#6ece58"
             ],
             [
              0.8888888888888888,
              "#b5de2b"
             ],
             [
              1,
              "#fde725"
             ]
            ],
            "type": "histogram2dcontour"
           }
          ],
          "mesh3d": [
           {
            "colorbar": {
             "outlinewidth": 1,
             "tickcolor": "rgb(36,36,36)",
             "ticks": "outside"
            },
            "type": "mesh3d"
           }
          ],
          "parcoords": [
           {
            "line": {
             "colorbar": {
              "outlinewidth": 1,
              "tickcolor": "rgb(36,36,36)",
              "ticks": "outside"
             }
            },
            "type": "parcoords"
           }
          ],
          "pie": [
           {
            "automargin": true,
            "type": "pie"
           }
          ],
          "scatter": [
           {
            "fillpattern": {
             "fillmode": "overlay",
             "size": 10,
             "solidity": 0.2
            },
            "type": "scatter"
           }
          ],
          "scatter3d": [
           {
            "line": {
             "colorbar": {
              "outlinewidth": 1,
              "tickcolor": "rgb(36,36,36)",
              "ticks": "outside"
             }
            },
            "marker": {
             "colorbar": {
              "outlinewidth": 1,
              "tickcolor": "rgb(36,36,36)",
              "ticks": "outside"
             }
            },
            "type": "scatter3d"
           }
          ],
          "scattercarpet": [
           {
            "marker": {
             "colorbar": {
              "outlinewidth": 1,
              "tickcolor": "rgb(36,36,36)",
              "ticks": "outside"
             }
            },
            "type": "scattercarpet"
           }
          ],
          "scattergeo": [
           {
            "marker": {
             "colorbar": {
              "outlinewidth": 1,
              "tickcolor": "rgb(36,36,36)",
              "ticks": "outside"
             }
            },
            "type": "scattergeo"
           }
          ],
          "scattergl": [
           {
            "marker": {
             "colorbar": {
              "outlinewidth": 1,
              "tickcolor": "rgb(36,36,36)",
              "ticks": "outside"
             }
            },
            "type": "scattergl"
           }
          ],
          "scattermapbox": [
           {
            "marker": {
             "colorbar": {
              "outlinewidth": 1,
              "tickcolor": "rgb(36,36,36)",
              "ticks": "outside"
             }
            },
            "type": "scattermapbox"
           }
          ],
          "scatterpolar": [
           {
            "marker": {
             "colorbar": {
              "outlinewidth": 1,
              "tickcolor": "rgb(36,36,36)",
              "ticks": "outside"
             }
            },
            "type": "scatterpolar"
           }
          ],
          "scatterpolargl": [
           {
            "marker": {
             "colorbar": {
              "outlinewidth": 1,
              "tickcolor": "rgb(36,36,36)",
              "ticks": "outside"
             }
            },
            "type": "scatterpolargl"
           }
          ],
          "scatterternary": [
           {
            "marker": {
             "colorbar": {
              "outlinewidth": 1,
              "tickcolor": "rgb(36,36,36)",
              "ticks": "outside"
             }
            },
            "type": "scatterternary"
           }
          ],
          "surface": [
           {
            "colorbar": {
             "outlinewidth": 1,
             "tickcolor": "rgb(36,36,36)",
             "ticks": "outside"
            },
            "colorscale": [
             [
              0,
              "#440154"
             ],
             [
              0.1111111111111111,
              "#482878"
             ],
             [
              0.2222222222222222,
              "#3e4989"
             ],
             [
              0.3333333333333333,
              "#31688e"
             ],
             [
              0.4444444444444444,
              "#26828e"
             ],
             [
              0.5555555555555556,
              "#1f9e89"
             ],
             [
              0.6666666666666666,
              "#35b779"
             ],
             [
              0.7777777777777778,
              "#6ece58"
             ],
             [
              0.8888888888888888,
              "#b5de2b"
             ],
             [
              1,
              "#fde725"
             ]
            ],
            "type": "surface"
           }
          ],
          "table": [
           {
            "cells": {
             "fill": {
              "color": "rgb(237,237,237)"
             },
             "line": {
              "color": "white"
             }
            },
            "header": {
             "fill": {
              "color": "rgb(217,217,217)"
             },
             "line": {
              "color": "white"
             }
            },
            "type": "table"
           }
          ]
         },
         "layout": {
          "annotationdefaults": {
           "arrowhead": 0,
           "arrowwidth": 1
          },
          "autotypenumbers": "strict",
          "coloraxis": {
           "colorbar": {
            "outlinewidth": 1,
            "tickcolor": "rgb(36,36,36)",
            "ticks": "outside"
           }
          },
          "colorscale": {
           "diverging": [
            [
             0,
             "rgb(103,0,31)"
            ],
            [
             0.1,
             "rgb(178,24,43)"
            ],
            [
             0.2,
             "rgb(214,96,77)"
            ],
            [
             0.3,
             "rgb(244,165,130)"
            ],
            [
             0.4,
             "rgb(253,219,199)"
            ],
            [
             0.5,
             "rgb(247,247,247)"
            ],
            [
             0.6,
             "rgb(209,229,240)"
            ],
            [
             0.7,
             "rgb(146,197,222)"
            ],
            [
             0.8,
             "rgb(67,147,195)"
            ],
            [
             0.9,
             "rgb(33,102,172)"
            ],
            [
             1,
             "rgb(5,48,97)"
            ]
           ],
           "sequential": [
            [
             0,
             "#440154"
            ],
            [
             0.1111111111111111,
             "#482878"
            ],
            [
             0.2222222222222222,
             "#3e4989"
            ],
            [
             0.3333333333333333,
             "#31688e"
            ],
            [
             0.4444444444444444,
             "#26828e"
            ],
            [
             0.5555555555555556,
             "#1f9e89"
            ],
            [
             0.6666666666666666,
             "#35b779"
            ],
            [
             0.7777777777777778,
             "#6ece58"
            ],
            [
             0.8888888888888888,
             "#b5de2b"
            ],
            [
             1,
             "#fde725"
            ]
           ],
           "sequentialminus": [
            [
             0,
             "#440154"
            ],
            [
             0.1111111111111111,
             "#482878"
            ],
            [
             0.2222222222222222,
             "#3e4989"
            ],
            [
             0.3333333333333333,
             "#31688e"
            ],
            [
             0.4444444444444444,
             "#26828e"
            ],
            [
             0.5555555555555556,
             "#1f9e89"
            ],
            [
             0.6666666666666666,
             "#35b779"
            ],
            [
             0.7777777777777778,
             "#6ece58"
            ],
            [
             0.8888888888888888,
             "#b5de2b"
            ],
            [
             1,
             "#fde725"
            ]
           ]
          },
          "colorway": [
           "#1F77B4",
           "#FF7F0E",
           "#2CA02C",
           "#D62728",
           "#9467BD",
           "#8C564B",
           "#E377C2",
           "#7F7F7F",
           "#BCBD22",
           "#17BECF"
          ],
          "font": {
           "color": "rgb(36,36,36)"
          },
          "geo": {
           "bgcolor": "white",
           "lakecolor": "white",
           "landcolor": "white",
           "showlakes": true,
           "showland": true,
           "subunitcolor": "white"
          },
          "hoverlabel": {
           "align": "left"
          },
          "hovermode": "closest",
          "mapbox": {
           "style": "light"
          },
          "paper_bgcolor": "white",
          "plot_bgcolor": "white",
          "polar": {
           "angularaxis": {
            "gridcolor": "rgb(232,232,232)",
            "linecolor": "rgb(36,36,36)",
            "showgrid": false,
            "showline": true,
            "ticks": "outside"
           },
           "bgcolor": "white",
           "radialaxis": {
            "gridcolor": "rgb(232,232,232)",
            "linecolor": "rgb(36,36,36)",
            "showgrid": false,
            "showline": true,
            "ticks": "outside"
           }
          },
          "scene": {
           "xaxis": {
            "backgroundcolor": "white",
            "gridcolor": "rgb(232,232,232)",
            "gridwidth": 2,
            "linecolor": "rgb(36,36,36)",
            "showbackground": true,
            "showgrid": false,
            "showline": true,
            "ticks": "outside",
            "zeroline": false,
            "zerolinecolor": "rgb(36,36,36)"
           },
           "yaxis": {
            "backgroundcolor": "white",
            "gridcolor": "rgb(232,232,232)",
            "gridwidth": 2,
            "linecolor": "rgb(36,36,36)",
            "showbackground": true,
            "showgrid": false,
            "showline": true,
            "ticks": "outside",
            "zeroline": false,
            "zerolinecolor": "rgb(36,36,36)"
           },
           "zaxis": {
            "backgroundcolor": "white",
            "gridcolor": "rgb(232,232,232)",
            "gridwidth": 2,
            "linecolor": "rgb(36,36,36)",
            "showbackground": true,
            "showgrid": false,
            "showline": true,
            "ticks": "outside",
            "zeroline": false,
            "zerolinecolor": "rgb(36,36,36)"
           }
          },
          "shapedefaults": {
           "fillcolor": "black",
           "line": {
            "width": 0
           },
           "opacity": 0.3
          },
          "ternary": {
           "aaxis": {
            "gridcolor": "rgb(232,232,232)",
            "linecolor": "rgb(36,36,36)",
            "showgrid": false,
            "showline": true,
            "ticks": "outside"
           },
           "baxis": {
            "gridcolor": "rgb(232,232,232)",
            "linecolor": "rgb(36,36,36)",
            "showgrid": false,
            "showline": true,
            "ticks": "outside"
           },
           "bgcolor": "white",
           "caxis": {
            "gridcolor": "rgb(232,232,232)",
            "linecolor": "rgb(36,36,36)",
            "showgrid": false,
            "showline": true,
            "ticks": "outside"
           }
          },
          "title": {
           "x": 0.05
          },
          "xaxis": {
           "automargin": true,
           "gridcolor": "rgb(232,232,232)",
           "linecolor": "rgb(36,36,36)",
           "showgrid": false,
           "showline": true,
           "ticks": "outside",
           "title": {
            "standoff": 15
           },
           "zeroline": false,
           "zerolinecolor": "rgb(36,36,36)"
          },
          "yaxis": {
           "automargin": true,
           "gridcolor": "rgb(232,232,232)",
           "linecolor": "rgb(36,36,36)",
           "showgrid": false,
           "showline": true,
           "ticks": "outside",
           "title": {
            "standoff": 15
           },
           "zeroline": false,
           "zerolinecolor": "rgb(36,36,36)"
          }
         }
        },
        "title": {
         "font": {
          "color": "Black",
          "size": 22
         },
         "text": "<b>Intertopic Distance Map</b>",
         "x": 0.5,
         "xanchor": "center",
         "y": 0.95,
         "yanchor": "top"
        },
        "width": 650,
        "xaxis": {
         "anchor": "y",
         "domain": [
          0,
          1
         ],
         "range": [
          -15.192031955718994,
          13.666031694412231
         ],
         "title": {
          "text": ""
         },
         "visible": false
        },
        "yaxis": {
         "anchor": "x",
         "domain": [
          0,
          1
         ],
         "range": [
          -12.8736168384552,
          8.388514184951783
         ],
         "title": {
          "text": ""
         },
         "visible": false
        }
       }
      }
     },
     "metadata": {},
     "output_type": "display_data"
    }
   ],
   "source": [
    "model.visualize_topics()"
   ]
  },
  {
   "cell_type": "code",
   "execution_count": 163,
   "metadata": {},
   "outputs": [
    {
     "data": {
      "text/html": [
       "<div>\n",
       "<style scoped>\n",
       "    .dataframe tbody tr th:only-of-type {\n",
       "        vertical-align: middle;\n",
       "    }\n",
       "\n",
       "    .dataframe tbody tr th {\n",
       "        vertical-align: top;\n",
       "    }\n",
       "\n",
       "    .dataframe thead th {\n",
       "        text-align: right;\n",
       "    }\n",
       "</style>\n",
       "<table border=\"1\" class=\"dataframe\">\n",
       "  <thead>\n",
       "    <tr style=\"text-align: right;\">\n",
       "      <th></th>\n",
       "      <th>Document</th>\n",
       "      <th>Topic</th>\n",
       "      <th>Name</th>\n",
       "      <th>Representation</th>\n",
       "      <th>Representative_Docs</th>\n",
       "      <th>Top_n_words</th>\n",
       "      <th>Probability</th>\n",
       "      <th>Representative_document</th>\n",
       "    </tr>\n",
       "  </thead>\n",
       "  <tbody>\n",
       "    <tr>\n",
       "      <th>0</th>\n",
       "      <td>Fotbal je populárním sportem ve většině zemí.</td>\n",
       "      <td>3</td>\n",
       "      <td>3_je_sport_na_sportem</td>\n",
       "      <td>[je, sport, na, sportem, který, vyžaduje, běh,...</td>\n",
       "      <td>[Zápasení je sport, který zdůrazňuje sílu a te...</td>\n",
       "      <td>je - sport - na - sportem - který - vyžaduje -...</td>\n",
       "      <td>0.639420</td>\n",
       "      <td>False</td>\n",
       "    </tr>\n",
       "    <tr>\n",
       "      <th>1</th>\n",
       "      <td>Tenisový turnaj Wimbledon je jedním z nejstarš...</td>\n",
       "      <td>3</td>\n",
       "      <td>3_je_sport_na_sportem</td>\n",
       "      <td>[je, sport, na, sportem, který, vyžaduje, běh,...</td>\n",
       "      <td>[Zápasení je sport, který zdůrazňuje sílu a te...</td>\n",
       "      <td>je - sport - na - sportem - který - vyžaduje -...</td>\n",
       "      <td>0.446116</td>\n",
       "      <td>False</td>\n",
       "    </tr>\n",
       "    <tr>\n",
       "      <th>2</th>\n",
       "      <td>Běhání je skválý způsob, jak si udržet kondici.</td>\n",
       "      <td>3</td>\n",
       "      <td>3_je_sport_na_sportem</td>\n",
       "      <td>[je, sport, na, sportem, který, vyžaduje, běh,...</td>\n",
       "      <td>[Zápasení je sport, který zdůrazňuje sílu a te...</td>\n",
       "      <td>je - sport - na - sportem - který - vyžaduje -...</td>\n",
       "      <td>0.926499</td>\n",
       "      <td>False</td>\n",
       "    </tr>\n",
       "    <tr>\n",
       "      <th>3</th>\n",
       "      <td>Hokejový zápas může být velmi napínavý, zejmén...</td>\n",
       "      <td>0</td>\n",
       "      <td>0_roce_byl_české_na</td>\n",
       "      <td>[roce, byl, české, na, měla, století, ve, po, ...</td>\n",
       "      <td>[Bitva na Bílé hoře měla klíčový vliv na dějin...</td>\n",
       "      <td>roce - byl - české - na - měla - století - ve ...</td>\n",
       "      <td>0.228626</td>\n",
       "      <td>False</td>\n",
       "    </tr>\n",
       "    <tr>\n",
       "      <th>4</th>\n",
       "      <td>Plavání je vynikající cvičení pro posílení sva...</td>\n",
       "      <td>3</td>\n",
       "      <td>3_je_sport_na_sportem</td>\n",
       "      <td>[je, sport, na, sportem, který, vyžaduje, běh,...</td>\n",
       "      <td>[Zápasení je sport, který zdůrazňuje sílu a te...</td>\n",
       "      <td>je - sport - na - sportem - který - vyžaduje -...</td>\n",
       "      <td>0.801976</td>\n",
       "      <td>False</td>\n",
       "    </tr>\n",
       "    <tr>\n",
       "      <th>...</th>\n",
       "      <td>...</td>\n",
       "      <td>...</td>\n",
       "      <td>...</td>\n",
       "      <td>...</td>\n",
       "      <td>...</td>\n",
       "      <td>...</td>\n",
       "      <td>...</td>\n",
       "      <td>...</td>\n",
       "    </tr>\n",
       "    <tr>\n",
       "      <th>95</th>\n",
       "      <td>Chemická analýza může odhalit složení látek a ...</td>\n",
       "      <td>2</td>\n",
       "      <td>2_reakce_jsou_chemická_sloučeniny</td>\n",
       "      <td>[reakce, jsou, chemická, sloučeniny, nebo, se,...</td>\n",
       "      <td>[Chemická rovnováha je stav, kdy se rychlosti ...</td>\n",
       "      <td>reakce - jsou - chemická - sloučeniny - nebo -...</td>\n",
       "      <td>0.834236</td>\n",
       "      <td>False</td>\n",
       "    </tr>\n",
       "    <tr>\n",
       "      <th>96</th>\n",
       "      <td>Rovnováha v chemii se vyskytuje, když rychlost...</td>\n",
       "      <td>2</td>\n",
       "      <td>2_reakce_jsou_chemická_sloučeniny</td>\n",
       "      <td>[reakce, jsou, chemická, sloučeniny, nebo, se,...</td>\n",
       "      <td>[Chemická rovnováha je stav, kdy se rychlosti ...</td>\n",
       "      <td>reakce - jsou - chemická - sloučeniny - nebo -...</td>\n",
       "      <td>0.950095</td>\n",
       "      <td>False</td>\n",
       "    </tr>\n",
       "    <tr>\n",
       "      <th>97</th>\n",
       "      <td>Exotermické reakce uvolňují energii do okolí v...</td>\n",
       "      <td>2</td>\n",
       "      <td>2_reakce_jsou_chemická_sloučeniny</td>\n",
       "      <td>[reakce, jsou, chemická, sloučeniny, nebo, se,...</td>\n",
       "      <td>[Chemická rovnováha je stav, kdy se rychlosti ...</td>\n",
       "      <td>reakce - jsou - chemická - sloučeniny - nebo -...</td>\n",
       "      <td>0.937648</td>\n",
       "      <td>False</td>\n",
       "    </tr>\n",
       "    <tr>\n",
       "      <th>98</th>\n",
       "      <td>Chirální molekuly mají zrcadlově symetrické ve...</td>\n",
       "      <td>2</td>\n",
       "      <td>2_reakce_jsou_chemická_sloučeniny</td>\n",
       "      <td>[reakce, jsou, chemická, sloučeniny, nebo, se,...</td>\n",
       "      <td>[Chemická rovnováha je stav, kdy se rychlosti ...</td>\n",
       "      <td>reakce - jsou - chemická - sloučeniny - nebo -...</td>\n",
       "      <td>1.000000</td>\n",
       "      <td>False</td>\n",
       "    </tr>\n",
       "    <tr>\n",
       "      <th>99</th>\n",
       "      <td>Jízda na koni je sport, který spojuje dovednos...</td>\n",
       "      <td>3</td>\n",
       "      <td>3_je_sport_na_sportem</td>\n",
       "      <td>[je, sport, na, sportem, který, vyžaduje, běh,...</td>\n",
       "      <td>[Zápasení je sport, který zdůrazňuje sílu a te...</td>\n",
       "      <td>je - sport - na - sportem - který - vyžaduje -...</td>\n",
       "      <td>0.956709</td>\n",
       "      <td>False</td>\n",
       "    </tr>\n",
       "  </tbody>\n",
       "</table>\n",
       "<p>100 rows × 8 columns</p>\n",
       "</div>"
      ],
      "text/plain": [
       "                                             Document  Topic  \\\n",
       "0       Fotbal je populárním sportem ve většině zemí.      3   \n",
       "1   Tenisový turnaj Wimbledon je jedním z nejstarš...      3   \n",
       "2     Běhání je skválý způsob, jak si udržet kondici.      3   \n",
       "3   Hokejový zápas může být velmi napínavý, zejmén...      0   \n",
       "4   Plavání je vynikající cvičení pro posílení sva...      3   \n",
       "..                                                ...    ...   \n",
       "95  Chemická analýza může odhalit složení látek a ...      2   \n",
       "96  Rovnováha v chemii se vyskytuje, když rychlost...      2   \n",
       "97  Exotermické reakce uvolňují energii do okolí v...      2   \n",
       "98  Chirální molekuly mají zrcadlově symetrické ve...      2   \n",
       "99  Jízda na koni je sport, který spojuje dovednos...      3   \n",
       "\n",
       "                                 Name  \\\n",
       "0               3_je_sport_na_sportem   \n",
       "1               3_je_sport_na_sportem   \n",
       "2               3_je_sport_na_sportem   \n",
       "3                 0_roce_byl_české_na   \n",
       "4               3_je_sport_na_sportem   \n",
       "..                                ...   \n",
       "95  2_reakce_jsou_chemická_sloučeniny   \n",
       "96  2_reakce_jsou_chemická_sloučeniny   \n",
       "97  2_reakce_jsou_chemická_sloučeniny   \n",
       "98  2_reakce_jsou_chemická_sloučeniny   \n",
       "99              3_je_sport_na_sportem   \n",
       "\n",
       "                                       Representation  \\\n",
       "0   [je, sport, na, sportem, který, vyžaduje, běh,...   \n",
       "1   [je, sport, na, sportem, který, vyžaduje, běh,...   \n",
       "2   [je, sport, na, sportem, který, vyžaduje, běh,...   \n",
       "3   [roce, byl, české, na, měla, století, ve, po, ...   \n",
       "4   [je, sport, na, sportem, který, vyžaduje, běh,...   \n",
       "..                                                ...   \n",
       "95  [reakce, jsou, chemická, sloučeniny, nebo, se,...   \n",
       "96  [reakce, jsou, chemická, sloučeniny, nebo, se,...   \n",
       "97  [reakce, jsou, chemická, sloučeniny, nebo, se,...   \n",
       "98  [reakce, jsou, chemická, sloučeniny, nebo, se,...   \n",
       "99  [je, sport, na, sportem, který, vyžaduje, běh,...   \n",
       "\n",
       "                                  Representative_Docs  \\\n",
       "0   [Zápasení je sport, který zdůrazňuje sílu a te...   \n",
       "1   [Zápasení je sport, který zdůrazňuje sílu a te...   \n",
       "2   [Zápasení je sport, který zdůrazňuje sílu a te...   \n",
       "3   [Bitva na Bílé hoře měla klíčový vliv na dějin...   \n",
       "4   [Zápasení je sport, který zdůrazňuje sílu a te...   \n",
       "..                                                ...   \n",
       "95  [Chemická rovnováha je stav, kdy se rychlosti ...   \n",
       "96  [Chemická rovnováha je stav, kdy se rychlosti ...   \n",
       "97  [Chemická rovnováha je stav, kdy se rychlosti ...   \n",
       "98  [Chemická rovnováha je stav, kdy se rychlosti ...   \n",
       "99  [Zápasení je sport, který zdůrazňuje sílu a te...   \n",
       "\n",
       "                                          Top_n_words  Probability  \\\n",
       "0   je - sport - na - sportem - který - vyžaduje -...     0.639420   \n",
       "1   je - sport - na - sportem - který - vyžaduje -...     0.446116   \n",
       "2   je - sport - na - sportem - který - vyžaduje -...     0.926499   \n",
       "3   roce - byl - české - na - měla - století - ve ...     0.228626   \n",
       "4   je - sport - na - sportem - který - vyžaduje -...     0.801976   \n",
       "..                                                ...          ...   \n",
       "95  reakce - jsou - chemická - sloučeniny - nebo -...     0.834236   \n",
       "96  reakce - jsou - chemická - sloučeniny - nebo -...     0.950095   \n",
       "97  reakce - jsou - chemická - sloučeniny - nebo -...     0.937648   \n",
       "98  reakce - jsou - chemická - sloučeniny - nebo -...     1.000000   \n",
       "99  je - sport - na - sportem - který - vyžaduje -...     0.956709   \n",
       "\n",
       "    Representative_document  \n",
       "0                     False  \n",
       "1                     False  \n",
       "2                     False  \n",
       "3                     False  \n",
       "4                     False  \n",
       "..                      ...  \n",
       "95                    False  \n",
       "96                    False  \n",
       "97                    False  \n",
       "98                    False  \n",
       "99                    False  \n",
       "\n",
       "[100 rows x 8 columns]"
      ]
     },
     "execution_count": 163,
     "metadata": {},
     "output_type": "execute_result"
    }
   ],
   "source": [
    "results=model.get_document_info(docs)\n",
    "results.head(100)"
   ]
  },
  {
   "cell_type": "markdown",
   "metadata": {},
   "source": [
    "**Export results**"
   ]
  },
  {
   "cell_type": "code",
   "execution_count": 164,
   "metadata": {},
   "outputs": [
    {
     "data": {
      "text/plain": [
       "\" results.to_csv('output/BERTopic-results.csv', index=False) \""
      ]
     },
     "execution_count": 164,
     "metadata": {},
     "output_type": "execute_result"
    }
   ],
   "source": [
    "# Export to Excel\n",
    "results.to_excel('output/BERTopic-results.xlsx', index=False, engine='openpyxl')\n",
    "\n",
    "\"\"\" results.to_csv('output/BERTopic-results.csv', index=False) \"\"\""
   ]
  },
  {
   "cell_type": "markdown",
   "metadata": {},
   "source": [
    "**Topic reduction**"
   ]
  },
  {
   "cell_type": "code",
   "execution_count": null,
   "metadata": {},
   "outputs": [],
   "source": [
    "\"\"\" # manually merge topics\n",
    "#https://maartengr.github.io/BERTopic/getting_started/topicreduction/topicreduction.html#manual-topic-reduction\n",
    "\n",
    "topics_to_merge = [[1, 2]\n",
    "                   [3, 4]]\n",
    "topic_model.merge_topics(docs, topics_to_merge) \"\"\""
   ]
  },
  {
   "cell_type": "code",
   "execution_count": 165,
   "metadata": {},
   "outputs": [],
   "source": [
    "# Further reduce topics\n",
    "new_model = model.reduce_topics(docs, nr_topics=6)"
   ]
  },
  {
   "cell_type": "code",
   "execution_count": 166,
   "metadata": {},
   "outputs": [
    {
     "data": {
      "text/html": [
       "<div>\n",
       "<style scoped>\n",
       "    .dataframe tbody tr th:only-of-type {\n",
       "        vertical-align: middle;\n",
       "    }\n",
       "\n",
       "    .dataframe tbody tr th {\n",
       "        vertical-align: top;\n",
       "    }\n",
       "\n",
       "    .dataframe thead th {\n",
       "        text-align: right;\n",
       "    }\n",
       "</style>\n",
       "<table border=\"1\" class=\"dataframe\">\n",
       "  <thead>\n",
       "    <tr style=\"text-align: right;\">\n",
       "      <th></th>\n",
       "      <th>Topic</th>\n",
       "      <th>Count</th>\n",
       "      <th>Name</th>\n",
       "      <th>Representation</th>\n",
       "      <th>Representative_Docs</th>\n",
       "    </tr>\n",
       "  </thead>\n",
       "  <tbody>\n",
       "    <tr>\n",
       "      <th>0</th>\n",
       "      <td>-1</td>\n",
       "      <td>15</td>\n",
       "      <td>-1_systému_imunitní_chrání_infekcemi</td>\n",
       "      <td>[systému, imunitní, chrání, infekcemi, nemocem...</td>\n",
       "      <td>[Imunitní systém chrání organismus před nemoce...</td>\n",
       "    </tr>\n",
       "    <tr>\n",
       "      <th>1</th>\n",
       "      <td>0</td>\n",
       "      <td>110</td>\n",
       "      <td>0_reakce_jsou_energii_chemická</td>\n",
       "      <td>[reakce, jsou, energii, chemická, sloučeniny, ...</td>\n",
       "      <td>[Fotosyntéza je proces, při kterém rostliny vy...</td>\n",
       "    </tr>\n",
       "    <tr>\n",
       "      <th>2</th>\n",
       "      <td>1</td>\n",
       "      <td>109</td>\n",
       "      <td>1_roce_byl_české_na</td>\n",
       "      <td>[roce, byl, české, na, měla, ve, století, po, ...</td>\n",
       "      <td>[Třicetiletá válka v 17. století měla tragický...</td>\n",
       "    </tr>\n",
       "    <tr>\n",
       "      <th>3</th>\n",
       "      <td>2</td>\n",
       "      <td>99</td>\n",
       "      <td>2_film_český_za_je</td>\n",
       "      <td>[film, český, za, je, získal, režisér, filmová...</td>\n",
       "      <td>[Český filmový režisér Miloš Forman získal Osk...</td>\n",
       "    </tr>\n",
       "    <tr>\n",
       "      <th>4</th>\n",
       "      <td>3</td>\n",
       "      <td>92</td>\n",
       "      <td>3_je_sport_na_sportem</td>\n",
       "      <td>[je, sport, na, sportem, který, vyžaduje, běh,...</td>\n",
       "      <td>[Zápasení je sport, který zdůrazňuje sílu a te...</td>\n",
       "    </tr>\n",
       "    <tr>\n",
       "      <th>5</th>\n",
       "      <td>4</td>\n",
       "      <td>74</td>\n",
       "      <td>4_jsou_organismů_organismy_prostředí</td>\n",
       "      <td>[jsou, organismů, organismy, prostředí, dna, j...</td>\n",
       "      <td>[Ekosystémy jsou vzájemně propojené sítě živýc...</td>\n",
       "    </tr>\n",
       "  </tbody>\n",
       "</table>\n",
       "</div>"
      ],
      "text/plain": [
       "   Topic  Count                                  Name  \\\n",
       "0     -1     15  -1_systému_imunitní_chrání_infekcemi   \n",
       "1      0    110        0_reakce_jsou_energii_chemická   \n",
       "2      1    109                   1_roce_byl_české_na   \n",
       "3      2     99                    2_film_český_za_je   \n",
       "4      3     92                 3_je_sport_na_sportem   \n",
       "5      4     74  4_jsou_organismů_organismy_prostředí   \n",
       "\n",
       "                                      Representation  \\\n",
       "0  [systému, imunitní, chrání, infekcemi, nemocem...   \n",
       "1  [reakce, jsou, energii, chemická, sloučeniny, ...   \n",
       "2  [roce, byl, české, na, měla, ve, století, po, ...   \n",
       "3  [film, český, za, je, získal, režisér, filmová...   \n",
       "4  [je, sport, na, sportem, který, vyžaduje, běh,...   \n",
       "5  [jsou, organismů, organismy, prostředí, dna, j...   \n",
       "\n",
       "                                 Representative_Docs  \n",
       "0  [Imunitní systém chrání organismus před nemoce...  \n",
       "1  [Fotosyntéza je proces, při kterém rostliny vy...  \n",
       "2  [Třicetiletá válka v 17. století měla tragický...  \n",
       "3  [Český filmový režisér Miloš Forman získal Osk...  \n",
       "4  [Zápasení je sport, který zdůrazňuje sílu a te...  \n",
       "5  [Ekosystémy jsou vzájemně propojené sítě živýc...  "
      ]
     },
     "execution_count": 166,
     "metadata": {},
     "output_type": "execute_result"
    }
   ],
   "source": [
    "new_model.get_topic_info()"
   ]
  },
  {
   "cell_type": "code",
   "execution_count": 170,
   "metadata": {},
   "outputs": [
    {
     "data": {
      "text/html": [
       "<div>\n",
       "<style scoped>\n",
       "    .dataframe tbody tr th:only-of-type {\n",
       "        vertical-align: middle;\n",
       "    }\n",
       "\n",
       "    .dataframe tbody tr th {\n",
       "        vertical-align: top;\n",
       "    }\n",
       "\n",
       "    .dataframe thead th {\n",
       "        text-align: right;\n",
       "    }\n",
       "</style>\n",
       "<table border=\"1\" class=\"dataframe\">\n",
       "  <thead>\n",
       "    <tr style=\"text-align: right;\">\n",
       "      <th></th>\n",
       "      <th>Document</th>\n",
       "      <th>Topic</th>\n",
       "      <th>Name</th>\n",
       "      <th>Representation</th>\n",
       "      <th>Representative_Docs</th>\n",
       "      <th>Top_n_words</th>\n",
       "      <th>Probability</th>\n",
       "      <th>Representative_document</th>\n",
       "    </tr>\n",
       "  </thead>\n",
       "  <tbody>\n",
       "    <tr>\n",
       "      <th>0</th>\n",
       "      <td>Fotbal je populárním sportem ve většině zemí.</td>\n",
       "      <td>3</td>\n",
       "      <td>3_je_sport_na_sportem</td>\n",
       "      <td>[je, sport, na, sportem, který, vyžaduje, běh,...</td>\n",
       "      <td>[Zápasení je sport, který zdůrazňuje sílu a te...</td>\n",
       "      <td>je - sport - na - sportem - který - vyžaduje -...</td>\n",
       "      <td>0.639420</td>\n",
       "      <td>False</td>\n",
       "    </tr>\n",
       "    <tr>\n",
       "      <th>1</th>\n",
       "      <td>Tenisový turnaj Wimbledon je jedním z nejstarš...</td>\n",
       "      <td>3</td>\n",
       "      <td>3_je_sport_na_sportem</td>\n",
       "      <td>[je, sport, na, sportem, který, vyžaduje, běh,...</td>\n",
       "      <td>[Zápasení je sport, který zdůrazňuje sílu a te...</td>\n",
       "      <td>je - sport - na - sportem - který - vyžaduje -...</td>\n",
       "      <td>0.446116</td>\n",
       "      <td>False</td>\n",
       "    </tr>\n",
       "    <tr>\n",
       "      <th>2</th>\n",
       "      <td>Běhání je skválý způsob, jak si udržet kondici.</td>\n",
       "      <td>3</td>\n",
       "      <td>3_je_sport_na_sportem</td>\n",
       "      <td>[je, sport, na, sportem, který, vyžaduje, běh,...</td>\n",
       "      <td>[Zápasení je sport, který zdůrazňuje sílu a te...</td>\n",
       "      <td>je - sport - na - sportem - který - vyžaduje -...</td>\n",
       "      <td>0.926499</td>\n",
       "      <td>False</td>\n",
       "    </tr>\n",
       "    <tr>\n",
       "      <th>3</th>\n",
       "      <td>Hokejový zápas může být velmi napínavý, zejmén...</td>\n",
       "      <td>1</td>\n",
       "      <td>1_roce_byl_české_na</td>\n",
       "      <td>[roce, byl, české, na, měla, ve, století, po, ...</td>\n",
       "      <td>[Třicetiletá válka v 17. století měla tragický...</td>\n",
       "      <td>roce - byl - české - na - měla - ve - století ...</td>\n",
       "      <td>0.228626</td>\n",
       "      <td>False</td>\n",
       "    </tr>\n",
       "    <tr>\n",
       "      <th>4</th>\n",
       "      <td>Plavání je vynikající cvičení pro posílení sva...</td>\n",
       "      <td>3</td>\n",
       "      <td>3_je_sport_na_sportem</td>\n",
       "      <td>[je, sport, na, sportem, který, vyžaduje, běh,...</td>\n",
       "      <td>[Zápasení je sport, který zdůrazňuje sílu a te...</td>\n",
       "      <td>je - sport - na - sportem - který - vyžaduje -...</td>\n",
       "      <td>0.801976</td>\n",
       "      <td>False</td>\n",
       "    </tr>\n",
       "    <tr>\n",
       "      <th>...</th>\n",
       "      <td>...</td>\n",
       "      <td>...</td>\n",
       "      <td>...</td>\n",
       "      <td>...</td>\n",
       "      <td>...</td>\n",
       "      <td>...</td>\n",
       "      <td>...</td>\n",
       "      <td>...</td>\n",
       "    </tr>\n",
       "    <tr>\n",
       "      <th>95</th>\n",
       "      <td>Chemická analýza může odhalit složení látek a ...</td>\n",
       "      <td>0</td>\n",
       "      <td>0_reakce_jsou_energii_chemická</td>\n",
       "      <td>[reakce, jsou, energii, chemická, sloučeniny, ...</td>\n",
       "      <td>[Fotosyntéza je proces, při kterém rostliny vy...</td>\n",
       "      <td>reakce - jsou - energii - chemická - sloučenin...</td>\n",
       "      <td>0.855235</td>\n",
       "      <td>False</td>\n",
       "    </tr>\n",
       "    <tr>\n",
       "      <th>96</th>\n",
       "      <td>Rovnováha v chemii se vyskytuje, když rychlost...</td>\n",
       "      <td>0</td>\n",
       "      <td>0_reakce_jsou_energii_chemická</td>\n",
       "      <td>[reakce, jsou, energii, chemická, sloučeniny, ...</td>\n",
       "      <td>[Fotosyntéza je proces, při kterém rostliny vy...</td>\n",
       "      <td>reakce - jsou - energii - chemická - sloučenin...</td>\n",
       "      <td>0.956865</td>\n",
       "      <td>False</td>\n",
       "    </tr>\n",
       "    <tr>\n",
       "      <th>97</th>\n",
       "      <td>Exotermické reakce uvolňují energii do okolí v...</td>\n",
       "      <td>0</td>\n",
       "      <td>0_reakce_jsou_energii_chemická</td>\n",
       "      <td>[reakce, jsou, energii, chemická, sloučeniny, ...</td>\n",
       "      <td>[Fotosyntéza je proces, při kterém rostliny vy...</td>\n",
       "      <td>reakce - jsou - energii - chemická - sloučenin...</td>\n",
       "      <td>0.947505</td>\n",
       "      <td>False</td>\n",
       "    </tr>\n",
       "    <tr>\n",
       "      <th>98</th>\n",
       "      <td>Chirální molekuly mají zrcadlově symetrické ve...</td>\n",
       "      <td>0</td>\n",
       "      <td>0_reakce_jsou_energii_chemická</td>\n",
       "      <td>[reakce, jsou, energii, chemická, sloučeniny, ...</td>\n",
       "      <td>[Fotosyntéza je proces, při kterém rostliny vy...</td>\n",
       "      <td>reakce - jsou - energii - chemická - sloučenin...</td>\n",
       "      <td>1.000000</td>\n",
       "      <td>False</td>\n",
       "    </tr>\n",
       "    <tr>\n",
       "      <th>99</th>\n",
       "      <td>Jízda na koni je sport, který spojuje dovednos...</td>\n",
       "      <td>3</td>\n",
       "      <td>3_je_sport_na_sportem</td>\n",
       "      <td>[je, sport, na, sportem, který, vyžaduje, běh,...</td>\n",
       "      <td>[Zápasení je sport, který zdůrazňuje sílu a te...</td>\n",
       "      <td>je - sport - na - sportem - který - vyžaduje -...</td>\n",
       "      <td>0.956709</td>\n",
       "      <td>False</td>\n",
       "    </tr>\n",
       "  </tbody>\n",
       "</table>\n",
       "<p>100 rows × 8 columns</p>\n",
       "</div>"
      ],
      "text/plain": [
       "                                             Document  Topic  \\\n",
       "0       Fotbal je populárním sportem ve většině zemí.      3   \n",
       "1   Tenisový turnaj Wimbledon je jedním z nejstarš...      3   \n",
       "2     Běhání je skválý způsob, jak si udržet kondici.      3   \n",
       "3   Hokejový zápas může být velmi napínavý, zejmén...      1   \n",
       "4   Plavání je vynikající cvičení pro posílení sva...      3   \n",
       "..                                                ...    ...   \n",
       "95  Chemická analýza může odhalit složení látek a ...      0   \n",
       "96  Rovnováha v chemii se vyskytuje, když rychlost...      0   \n",
       "97  Exotermické reakce uvolňují energii do okolí v...      0   \n",
       "98  Chirální molekuly mají zrcadlově symetrické ve...      0   \n",
       "99  Jízda na koni je sport, který spojuje dovednos...      3   \n",
       "\n",
       "                              Name  \\\n",
       "0            3_je_sport_na_sportem   \n",
       "1            3_je_sport_na_sportem   \n",
       "2            3_je_sport_na_sportem   \n",
       "3              1_roce_byl_české_na   \n",
       "4            3_je_sport_na_sportem   \n",
       "..                             ...   \n",
       "95  0_reakce_jsou_energii_chemická   \n",
       "96  0_reakce_jsou_energii_chemická   \n",
       "97  0_reakce_jsou_energii_chemická   \n",
       "98  0_reakce_jsou_energii_chemická   \n",
       "99           3_je_sport_na_sportem   \n",
       "\n",
       "                                       Representation  \\\n",
       "0   [je, sport, na, sportem, který, vyžaduje, běh,...   \n",
       "1   [je, sport, na, sportem, který, vyžaduje, běh,...   \n",
       "2   [je, sport, na, sportem, který, vyžaduje, běh,...   \n",
       "3   [roce, byl, české, na, měla, ve, století, po, ...   \n",
       "4   [je, sport, na, sportem, který, vyžaduje, běh,...   \n",
       "..                                                ...   \n",
       "95  [reakce, jsou, energii, chemická, sloučeniny, ...   \n",
       "96  [reakce, jsou, energii, chemická, sloučeniny, ...   \n",
       "97  [reakce, jsou, energii, chemická, sloučeniny, ...   \n",
       "98  [reakce, jsou, energii, chemická, sloučeniny, ...   \n",
       "99  [je, sport, na, sportem, který, vyžaduje, běh,...   \n",
       "\n",
       "                                  Representative_Docs  \\\n",
       "0   [Zápasení je sport, který zdůrazňuje sílu a te...   \n",
       "1   [Zápasení je sport, který zdůrazňuje sílu a te...   \n",
       "2   [Zápasení je sport, který zdůrazňuje sílu a te...   \n",
       "3   [Třicetiletá válka v 17. století měla tragický...   \n",
       "4   [Zápasení je sport, který zdůrazňuje sílu a te...   \n",
       "..                                                ...   \n",
       "95  [Fotosyntéza je proces, při kterém rostliny vy...   \n",
       "96  [Fotosyntéza je proces, při kterém rostliny vy...   \n",
       "97  [Fotosyntéza je proces, při kterém rostliny vy...   \n",
       "98  [Fotosyntéza je proces, při kterém rostliny vy...   \n",
       "99  [Zápasení je sport, který zdůrazňuje sílu a te...   \n",
       "\n",
       "                                          Top_n_words  Probability  \\\n",
       "0   je - sport - na - sportem - který - vyžaduje -...     0.639420   \n",
       "1   je - sport - na - sportem - který - vyžaduje -...     0.446116   \n",
       "2   je - sport - na - sportem - který - vyžaduje -...     0.926499   \n",
       "3   roce - byl - české - na - měla - ve - století ...     0.228626   \n",
       "4   je - sport - na - sportem - který - vyžaduje -...     0.801976   \n",
       "..                                                ...          ...   \n",
       "95  reakce - jsou - energii - chemická - sloučenin...     0.855235   \n",
       "96  reakce - jsou - energii - chemická - sloučenin...     0.956865   \n",
       "97  reakce - jsou - energii - chemická - sloučenin...     0.947505   \n",
       "98  reakce - jsou - energii - chemická - sloučenin...     1.000000   \n",
       "99  je - sport - na - sportem - který - vyžaduje -...     0.956709   \n",
       "\n",
       "    Representative_document  \n",
       "0                     False  \n",
       "1                     False  \n",
       "2                     False  \n",
       "3                     False  \n",
       "4                     False  \n",
       "..                      ...  \n",
       "95                    False  \n",
       "96                    False  \n",
       "97                    False  \n",
       "98                    False  \n",
       "99                    False  \n",
       "\n",
       "[100 rows x 8 columns]"
      ]
     },
     "execution_count": 170,
     "metadata": {},
     "output_type": "execute_result"
    }
   ],
   "source": [
    "new_results=new_model.get_document_info(docs)\n",
    "new_results.head(100)"
   ]
  },
  {
   "cell_type": "code",
   "execution_count": 171,
   "metadata": {},
   "outputs": [],
   "source": [
    "new_results.to_excel('output/BERTopic-results-new.xlsx', index=False, engine='openpyxl')"
   ]
  },
  {
   "cell_type": "markdown",
   "metadata": {},
   "source": [
    "## Translate"
   ]
  },
  {
   "cell_type": "code",
   "execution_count": 169,
   "metadata": {},
   "outputs": [
    {
     "data": {
      "text/plain": [
       "' from deep_translator import GoogleTranslator\\n\\ndef translate_sentences(sentences, source_language=\\'cs\\', target_language=\\'en\\'):\\n    translated_sentences = []\\n    \\n    for sentence in sentences:\\n        translated = GoogleTranslator(source=source_language, target=target_language).translate(sentence)\\n        translated_sentences.append(translated)\\n    \\n    return translated_sentences\\n\\n# Example usage\\nsentences_to_translate = [\\n    \\'snažím se dovolat uz minut\\',\\n    \\'ahoj jak se mas\\',\\n    \\'mam se dobre a ty?\\'\\n]\\n\\nsource_language = \\'cs\\'\\ntarget_language = \\'en\\'\\n\\ntranslated_sentences = translate_sentences(sentences_to_translate, source_language, target_language)\\n\\n# Print the original and translated sentences\\nfor original, translated in zip(sentences_to_translate, translated_sentences):\\n    print(f\"Original: {original}\")\\n    print(f\"Translated: {translated}\")\\n    print() '"
      ]
     },
     "execution_count": 169,
     "metadata": {},
     "output_type": "execute_result"
    }
   ],
   "source": [
    "\"\"\" from deep_translator import GoogleTranslator\n",
    "\n",
    "def translate_sentences(sentences, source_language='cs', target_language='en'):\n",
    "    translated_sentences = []\n",
    "    \n",
    "    for sentence in sentences:\n",
    "        translated = GoogleTranslator(source=source_language, target=target_language).translate(sentence)\n",
    "        translated_sentences.append(translated)\n",
    "    \n",
    "    return translated_sentences\n",
    "\n",
    "# Example usage\n",
    "sentences_to_translate = [\n",
    "    'snažím se dovolat uz minut',\n",
    "    'ahoj jak se mas',\n",
    "    'mam se dobre a ty?'\n",
    "]\n",
    "\n",
    "source_language = 'cs'\n",
    "target_language = 'en'\n",
    "\n",
    "translated_sentences = translate_sentences(sentences_to_translate, source_language, target_language)\n",
    "\n",
    "# Print the original and translated sentences\n",
    "for original, translated in zip(sentences_to_translate, translated_sentences):\n",
    "    print(f\"Original: {original}\")\n",
    "    print(f\"Translated: {translated}\")\n",
    "    print() \"\"\""
   ]
  }
 ],
 "metadata": {
  "kernelspec": {
   "display_name": "venv-sRlQ1h_2",
   "language": "python",
   "name": "python3"
  },
  "language_info": {
   "codemirror_mode": {
    "name": "ipython",
    "version": 3
   },
   "file_extension": ".py",
   "mimetype": "text/x-python",
   "name": "python",
   "nbconvert_exporter": "python",
   "pygments_lexer": "ipython3",
   "version": "3.10.10"
  }
 },
 "nbformat": 4,
 "nbformat_minor": 2
}
