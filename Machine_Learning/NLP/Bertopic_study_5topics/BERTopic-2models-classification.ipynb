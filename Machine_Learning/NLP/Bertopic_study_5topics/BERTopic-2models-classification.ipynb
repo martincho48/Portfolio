{
 "cells": [
  {
   "cell_type": "markdown",
   "metadata": {},
   "source": [
    "## Preprocessing"
   ]
  },
  {
   "cell_type": "markdown",
   "metadata": {},
   "source": [
    "**Interesting links**"
   ]
  },
  {
   "cell_type": "markdown",
   "metadata": {},
   "source": [
    "https://medium.com/@cd_24/bertopic-fine-tune-parameters-76c3377016fb"
   ]
  },
  {
   "cell_type": "markdown",
   "metadata": {},
   "source": [
    "**Import Libraries**"
   ]
  },
  {
   "cell_type": "code",
   "execution_count": 1,
   "metadata": {},
   "outputs": [],
   "source": [
    "from bertopic import BERTopic\n",
    "from hdbscan import HDBSCAN\n",
    "from sklearn.cluster import KMeans\n",
    "from umap import UMAP\n",
    "\n",
    "from sklearn.feature_extraction.text import CountVectorizer\n",
    "from sentence_transformers import SentenceTransformer\n",
    "from transformers import AutoModel, AutoTokenizer\n",
    "\n",
    "\n",
    "import pandas as pd\n",
    "import openpyxl"
   ]
  },
  {
   "cell_type": "markdown",
   "metadata": {},
   "source": [
    "**Inputs**"
   ]
  },
  {
   "cell_type": "code",
   "execution_count": 2,
   "metadata": {},
   "outputs": [],
   "source": [
    "# choose from 'multi or 'seznam'\n",
    "model_type = 'multi'\n",
    "\n",
    "# choose clustering method: 'k-meand' 'db-scan'\n",
    "cluster_type = 'k-means'\n",
    "\n",
    "file_name = 'data_sport_history_chemistry_film_biology.csv'\n",
    "stop_words = 'input/stop_words_czech.txt'\n",
    "\n",
    "\n",
    "output_vect = f'output/results-vectorized-{model_type}-{cluster_type}.xlsx'\n",
    "output_reduced = f'output/results-reduced-{model_type}-{cluster_type}.xlsx'"
   ]
  },
  {
   "cell_type": "markdown",
   "metadata": {},
   "source": [
    "**Load data**"
   ]
  },
  {
   "cell_type": "code",
   "execution_count": 3,
   "metadata": {},
   "outputs": [
    {
     "data": {
      "text/html": [
       "<div>\n",
       "<style scoped>\n",
       "    .dataframe tbody tr th:only-of-type {\n",
       "        vertical-align: middle;\n",
       "    }\n",
       "\n",
       "    .dataframe tbody tr th {\n",
       "        vertical-align: top;\n",
       "    }\n",
       "\n",
       "    .dataframe thead th {\n",
       "        text-align: right;\n",
       "    }\n",
       "</style>\n",
       "<table border=\"1\" class=\"dataframe\">\n",
       "  <thead>\n",
       "    <tr style=\"text-align: right;\">\n",
       "      <th></th>\n",
       "      <th>sentences</th>\n",
       "    </tr>\n",
       "  </thead>\n",
       "  <tbody>\n",
       "    <tr>\n",
       "      <th>0</th>\n",
       "      <td>Fotbal je populárním sportem ve většině zemí.</td>\n",
       "    </tr>\n",
       "    <tr>\n",
       "      <th>1</th>\n",
       "      <td>Tenisový turnaj Wimbledon je jedním z nejstarš...</td>\n",
       "    </tr>\n",
       "    <tr>\n",
       "      <th>2</th>\n",
       "      <td>Běhání je skválý způsob, jak si udržet kondici.</td>\n",
       "    </tr>\n",
       "    <tr>\n",
       "      <th>3</th>\n",
       "      <td>Hokejový zápas může být velmi napínavý, zejmén...</td>\n",
       "    </tr>\n",
       "    <tr>\n",
       "      <th>4</th>\n",
       "      <td>Plavání je vynikající cvičení pro posílení sva...</td>\n",
       "    </tr>\n",
       "  </tbody>\n",
       "</table>\n",
       "</div>"
      ],
      "text/plain": [
       "                                           sentences\n",
       "0      Fotbal je populárním sportem ve většině zemí.\n",
       "1  Tenisový turnaj Wimbledon je jedním z nejstarš...\n",
       "2    Běhání je skválý způsob, jak si udržet kondici.\n",
       "3  Hokejový zápas může být velmi napínavý, zejmén...\n",
       "4  Plavání je vynikající cvičení pro posílení sva..."
      ]
     },
     "execution_count": 3,
     "metadata": {},
     "output_type": "execute_result"
    }
   ],
   "source": [
    "data = pd.read_csv('input/' + file_name, encoding='utf-8', delimiter=';')\n",
    "data.head(5)"
   ]
  },
  {
   "cell_type": "markdown",
   "metadata": {},
   "source": [
    "**Put data in a list**"
   ]
  },
  {
   "cell_type": "code",
   "execution_count": 4,
   "metadata": {},
   "outputs": [
    {
     "data": {
      "text/plain": [
       "['Fotbal je populárním sportem ve většině zemí.',\n",
       " 'Tenisový turnaj Wimbledon je jedním z nejstarších a nejprestižnějších na světě.',\n",
       " 'Běhání je skválý způsob, jak si udržet kondici.',\n",
       " 'Hokejový zápas může být velmi napínavý, zejména v prodloužení.',\n",
       " 'Plavání je vynikající cvičení pro posílení svalů celého těla.']"
      ]
     },
     "execution_count": 4,
     "metadata": {},
     "output_type": "execute_result"
    }
   ],
   "source": [
    "docs = [item for sublist in data.values.tolist() for item in sublist]\n",
    "docs[:5]"
   ]
  },
  {
   "cell_type": "code",
   "execution_count": 5,
   "metadata": {},
   "outputs": [
    {
     "data": {
      "text/plain": [
       "499"
      ]
     },
     "execution_count": 5,
     "metadata": {},
     "output_type": "execute_result"
    }
   ],
   "source": [
    "len(docs)"
   ]
  },
  {
   "cell_type": "markdown",
   "metadata": {},
   "source": [
    "## Set up model"
   ]
  },
  {
   "cell_type": "markdown",
   "metadata": {},
   "source": [
    "**Define the clustering model**"
   ]
  },
  {
   "cell_type": "code",
   "execution_count": 6,
   "metadata": {},
   "outputs": [],
   "source": [
    "if cluster_type == 'db-scan':\n",
    "    cluster_model = HDBSCAN(min_cluster_size=30, \n",
    "                            min_samples=10,\n",
    "                            #gen_min_span_tree=True,\n",
    "                            #prediction_data=True\n",
    "                            )\n",
    "\n",
    "\n",
    "elif cluster_type == 'k-means':\n",
    "    #does not produce any outliers!!!\n",
    "    cluster_model = KMeans(n_clusters=8)"
   ]
  },
  {
   "cell_type": "markdown",
   "metadata": {},
   "source": [
    "**Define Count Vectorizer**"
   ]
  },
  {
   "cell_type": "code",
   "execution_count": 7,
   "metadata": {},
   "outputs": [],
   "source": [
    "# Read your custom Czech stop words from the CSV file\n",
    "stopwords_df = pd.read_csv(stop_words, header=None)\n",
    "czech_stop_words = stopwords_df[0].tolist()\n",
    "\n",
    "\n",
    "# Convert the set of stop words into a list\n",
    "czech_stop_words_list = list(czech_stop_words)\n",
    "vectorizer_model = CountVectorizer(ngram_range=(1, 3), stop_words=czech_stop_words_list)"
   ]
  },
  {
   "cell_type": "markdown",
   "metadata": {},
   "source": [
    "**Define the UMAP**\n"
   ]
  },
  {
   "cell_type": "code",
   "execution_count": 8,
   "metadata": {},
   "outputs": [],
   "source": [
    "umap_model = UMAP(n_neighbors=3, n_components=3, min_dist=0.05)"
   ]
  },
  {
   "cell_type": "markdown",
   "metadata": {},
   "source": [
    "**Define Sentence Transformer**"
   ]
  },
  {
   "cell_type": "code",
   "execution_count": 9,
   "metadata": {},
   "outputs": [],
   "source": [
    " # model-multi\n",
    "if model_type == 'multi':\n",
    "    model_name = 'all-MiniLM-L6-v2'\n",
    "    model = SentenceTransformer(model_name)\n",
    "\n",
    "# model-Seznam\n",
    "elif model_type == 'seznam':\n",
    "    model_name = 'Seznam/retromae-small-cs'\n",
    "    model = AutoModel.from_pretrained(model_name)"
   ]
  },
  {
   "cell_type": "markdown",
   "metadata": {},
   "source": [
    "**Define model**"
   ]
  },
  {
   "cell_type": "code",
   "execution_count": 10,
   "metadata": {},
   "outputs": [],
   "source": [
    "model = BERTopic(#language=\"czech\", # not necessary if sentence transformer is chosen\n",
    "                 embedding_model = model,\n",
    "                 min_topic_size = 10,\n",
    "                 top_n_words = 15,\n",
    "                 #vectorizer_model=vectorizer_model, \n",
    "                 hdbscan_model = cluster_model, \n",
    "                 umap_model = umap_model\n",
    "                 )"
   ]
  },
  {
   "cell_type": "markdown",
   "metadata": {},
   "source": [
    "## Train model"
   ]
  },
  {
   "cell_type": "code",
   "execution_count": 11,
   "metadata": {},
   "outputs": [],
   "source": [
    "\"\"\" It is not going to work with a few hundereds documents, better to have thousands\"\"\"\n",
    "\n",
    "topics, probs = model.fit_transform(docs)"
   ]
  },
  {
   "cell_type": "markdown",
   "metadata": {},
   "source": [
    "## Coherence score"
   ]
  },
  {
   "cell_type": "code",
   "execution_count": 12,
   "metadata": {},
   "outputs": [],
   "source": [
    "#https://github.com/MaartenGr/BERTopic/issues/90\n",
    "\n",
    "import gensim.corpora as corpora\n",
    "from gensim.models.coherencemodel import CoherenceModel\n",
    "import pandas as pd\n",
    "\n",
    "\n",
    "'''\n",
    "if error boolean - run the whole notebook again!!!\n",
    "'''\n",
    "\n",
    "def coherence_score(model, docs: pd.DataFrame, topics):\n",
    "    # Merge all sentences for certain topic\n",
    "    documents = pd.DataFrame({\"Document\": docs,\n",
    "                            #\"ID\": range(len(docs)),\n",
    "                            \"Topic\": topics})\n",
    "\n",
    "    documents_per_topic = documents.groupby(['Topic'], as_index=False).agg({'Document': ' '.join})\n",
    "    cleaned_docs = model._preprocess_text(documents_per_topic.Document.values)\n",
    "\n",
    "    # Extract vectorizer and analyzer from BERTopic\n",
    "    vectorizer = model.vectorizer_model\n",
    "    analyzer = vectorizer.build_analyzer()\n",
    "\n",
    "    # Use '.get_feature_names_out()' if you get an error with '.get_feature_names()'\n",
    "    words = vectorizer.get_feature_names_out()\n",
    "\n",
    "    # Extract features for Topic Coherence evaluation\n",
    "    tokens = [analyzer(doc) for doc in cleaned_docs]\n",
    "    dictionary = corpora.Dictionary(tokens)\n",
    "    corpus = [dictionary.doc2bow(token) for token in tokens]\n",
    "\n",
    "\n",
    "    # Extract words in each topic if they are non-empty and exist in the dictionary - SIMPLE \n",
    "    topic_words = [[words for words, _ in model.get_topic(topic)] \n",
    "               for topic in range(len(set(topics))-1)]\n",
    "\n",
    "    # Evaluate Coherence\n",
    "    coherence_model = CoherenceModel(topics=topic_words, \n",
    "                                    texts=tokens, \n",
    "                                    corpus=corpus,\n",
    "                                    dictionary=dictionary, \n",
    "                                    coherence='c_v')\n",
    "    coherence = coherence_model.get_coherence()\n",
    "    return round(coherence,3)"
   ]
  },
  {
   "cell_type": "code",
   "execution_count": 13,
   "metadata": {},
   "outputs": [
    {
     "data": {
      "text/plain": [
       "0.776"
      ]
     },
     "execution_count": 13,
     "metadata": {},
     "output_type": "execute_result"
    }
   ],
   "source": [
    "coherence_score(model=model, docs=docs, topics=topics)"
   ]
  },
  {
   "cell_type": "markdown",
   "metadata": {},
   "source": [
    "## Visualize results"
   ]
  },
  {
   "cell_type": "code",
   "execution_count": 14,
   "metadata": {},
   "outputs": [
    {
     "data": {
      "text/html": [
       "<div>\n",
       "<style scoped>\n",
       "    .dataframe tbody tr th:only-of-type {\n",
       "        vertical-align: middle;\n",
       "    }\n",
       "\n",
       "    .dataframe tbody tr th {\n",
       "        vertical-align: top;\n",
       "    }\n",
       "\n",
       "    .dataframe thead th {\n",
       "        text-align: right;\n",
       "    }\n",
       "</style>\n",
       "<table border=\"1\" class=\"dataframe\">\n",
       "  <thead>\n",
       "    <tr style=\"text-align: right;\">\n",
       "      <th></th>\n",
       "      <th>Topic</th>\n",
       "      <th>Count</th>\n",
       "    </tr>\n",
       "  </thead>\n",
       "  <tbody>\n",
       "    <tr>\n",
       "      <th>3</th>\n",
       "      <td>0</td>\n",
       "      <td>157</td>\n",
       "    </tr>\n",
       "    <tr>\n",
       "      <th>4</th>\n",
       "      <td>1</td>\n",
       "      <td>82</td>\n",
       "    </tr>\n",
       "    <tr>\n",
       "      <th>0</th>\n",
       "      <td>2</td>\n",
       "      <td>75</td>\n",
       "    </tr>\n",
       "    <tr>\n",
       "      <th>6</th>\n",
       "      <td>3</td>\n",
       "      <td>70</td>\n",
       "    </tr>\n",
       "    <tr>\n",
       "      <th>2</th>\n",
       "      <td>4</td>\n",
       "      <td>68</td>\n",
       "    </tr>\n",
       "    <tr>\n",
       "      <th>5</th>\n",
       "      <td>5</td>\n",
       "      <td>22</td>\n",
       "    </tr>\n",
       "    <tr>\n",
       "      <th>7</th>\n",
       "      <td>6</td>\n",
       "      <td>14</td>\n",
       "    </tr>\n",
       "    <tr>\n",
       "      <th>1</th>\n",
       "      <td>7</td>\n",
       "      <td>11</td>\n",
       "    </tr>\n",
       "  </tbody>\n",
       "</table>\n",
       "</div>"
      ],
      "text/plain": [
       "   Topic  Count\n",
       "3      0    157\n",
       "4      1     82\n",
       "0      2     75\n",
       "6      3     70\n",
       "2      4     68\n",
       "5      5     22\n",
       "7      6     14\n",
       "1      7     11"
      ]
     },
     "execution_count": 14,
     "metadata": {},
     "output_type": "execute_result"
    }
   ],
   "source": [
    "model.get_topic_freq()"
   ]
  },
  {
   "cell_type": "code",
   "execution_count": 15,
   "metadata": {},
   "outputs": [
    {
     "data": {
      "text/html": [
       "<div>\n",
       "<style scoped>\n",
       "    .dataframe tbody tr th:only-of-type {\n",
       "        vertical-align: middle;\n",
       "    }\n",
       "\n",
       "    .dataframe tbody tr th {\n",
       "        vertical-align: top;\n",
       "    }\n",
       "\n",
       "    .dataframe thead th {\n",
       "        text-align: right;\n",
       "    }\n",
       "</style>\n",
       "<table border=\"1\" class=\"dataframe\">\n",
       "  <thead>\n",
       "    <tr style=\"text-align: right;\">\n",
       "      <th></th>\n",
       "      <th>Topic</th>\n",
       "      <th>Count</th>\n",
       "      <th>Name</th>\n",
       "      <th>Representation</th>\n",
       "      <th>Representative_Docs</th>\n",
       "    </tr>\n",
       "  </thead>\n",
       "  <tbody>\n",
       "    <tr>\n",
       "      <th>0</th>\n",
       "      <td>0</td>\n",
       "      <td>157</td>\n",
       "      <td>0_roce_byl_první_po</td>\n",
       "      <td>[roce, byl, první, po, na, století, měla, ve, ...</td>\n",
       "      <td>[Třicetiletá válka v 17. století měla tragický...</td>\n",
       "    </tr>\n",
       "    <tr>\n",
       "      <th>1</th>\n",
       "      <td>1</td>\n",
       "      <td>82</td>\n",
       "      <td>1_film_český_získal_za</td>\n",
       "      <td>[film, český, získal, za, je, filmová, filmy, ...</td>\n",
       "      <td>[Kolya získal Oscara za nejlepší cizojazyčný f...</td>\n",
       "    </tr>\n",
       "    <tr>\n",
       "      <th>2</th>\n",
       "      <td>2</td>\n",
       "      <td>75</td>\n",
       "      <td>2_je_sport_sportem_který</td>\n",
       "      <td>[je, sport, sportem, který, oblíbeným, na, pro...</td>\n",
       "      <td>[Cyklistika je oblíbeným sportem pro rekreační...</td>\n",
       "    </tr>\n",
       "    <tr>\n",
       "      <th>3</th>\n",
       "      <td>3</td>\n",
       "      <td>70</td>\n",
       "      <td>3_organismů_jsou_organismy_dna</td>\n",
       "      <td>[organismů, jsou, organismy, dna, živých, jeji...</td>\n",
       "      <td>[Ekosystémy jsou vzájemně propojené sítě živýc...</td>\n",
       "    </tr>\n",
       "    <tr>\n",
       "      <th>4</th>\n",
       "      <td>4</td>\n",
       "      <td>68</td>\n",
       "      <td>4_energii_jsou_fotosyntéza_atomy</td>\n",
       "      <td>[energii, jsou, fotosyntéza, atomy, rychlosti,...</td>\n",
       "      <td>[Fotosyntéza je proces, při kterém rostliny vy...</td>\n",
       "    </tr>\n",
       "    <tr>\n",
       "      <th>5</th>\n",
       "      <td>5</td>\n",
       "      <td>22</td>\n",
       "      <td>5_buněk_proces_prostředí_bílé</td>\n",
       "      <td>[buněk, proces, prostředí, bílé, hoře, je, buň...</td>\n",
       "      <td>[Evoluce je proces, kterým se druhy vyvíjejí a...</td>\n",
       "    </tr>\n",
       "    <tr>\n",
       "      <th>6</th>\n",
       "      <td>6</td>\n",
       "      <td>14</td>\n",
       "      <td>6_reakce_exotermické_chemické_endotermické</td>\n",
       "      <td>[reakce, exotermické, chemické, endotermické, ...</td>\n",
       "      <td>[Karlova univerzita v Praze je jednou z nejsta...</td>\n",
       "    </tr>\n",
       "    <tr>\n",
       "      <th>7</th>\n",
       "      <td>7</td>\n",
       "      <td>11</td>\n",
       "      <td>7_atletika_turnaj_wimbledon_dálky</td>\n",
       "      <td>[atletika, turnaj, wimbledon, dálky, skok, ten...</td>\n",
       "      <td>[Tenisový turnaj Wimbledon je považován za nej...</td>\n",
       "    </tr>\n",
       "  </tbody>\n",
       "</table>\n",
       "</div>"
      ],
      "text/plain": [
       "   Topic  Count                                        Name  \\\n",
       "0      0    157                         0_roce_byl_první_po   \n",
       "1      1     82                      1_film_český_získal_za   \n",
       "2      2     75                    2_je_sport_sportem_který   \n",
       "3      3     70              3_organismů_jsou_organismy_dna   \n",
       "4      4     68            4_energii_jsou_fotosyntéza_atomy   \n",
       "5      5     22               5_buněk_proces_prostředí_bílé   \n",
       "6      6     14  6_reakce_exotermické_chemické_endotermické   \n",
       "7      7     11           7_atletika_turnaj_wimbledon_dálky   \n",
       "\n",
       "                                      Representation  \\\n",
       "0  [roce, byl, první, po, na, století, měla, ve, ...   \n",
       "1  [film, český, získal, za, je, filmová, filmy, ...   \n",
       "2  [je, sport, sportem, který, oblíbeným, na, pro...   \n",
       "3  [organismů, jsou, organismy, dna, živých, jeji...   \n",
       "4  [energii, jsou, fotosyntéza, atomy, rychlosti,...   \n",
       "5  [buněk, proces, prostředí, bílé, hoře, je, buň...   \n",
       "6  [reakce, exotermické, chemické, endotermické, ...   \n",
       "7  [atletika, turnaj, wimbledon, dálky, skok, ten...   \n",
       "\n",
       "                                 Representative_Docs  \n",
       "0  [Třicetiletá válka v 17. století měla tragický...  \n",
       "1  [Kolya získal Oscara za nejlepší cizojazyčný f...  \n",
       "2  [Cyklistika je oblíbeným sportem pro rekreační...  \n",
       "3  [Ekosystémy jsou vzájemně propojené sítě živýc...  \n",
       "4  [Fotosyntéza je proces, při kterém rostliny vy...  \n",
       "5  [Evoluce je proces, kterým se druhy vyvíjejí a...  \n",
       "6  [Karlova univerzita v Praze je jednou z nejsta...  \n",
       "7  [Tenisový turnaj Wimbledon je považován za nej...  "
      ]
     },
     "execution_count": 15,
     "metadata": {},
     "output_type": "execute_result"
    }
   ],
   "source": [
    "model.get_topic_info()"
   ]
  },
  {
   "cell_type": "code",
   "execution_count": 16,
   "metadata": {},
   "outputs": [
    {
     "data": {
      "application/vnd.plotly.v1+json": {
       "config": {
        "plotlyServerURL": "https://plot.ly"
       },
       "data": [
        {
         "marker": {
          "color": "#D55E00"
         },
         "orientation": "h",
         "type": "bar",
         "x": [
          0.034111137323768054,
          0.035517731307884146,
          0.0360963341950471,
          0.03877841935791004,
          0.041943848223206286
         ],
         "xaxis": "x",
         "y": [
          "na  ",
          "po  ",
          "první  ",
          "byl  ",
          "roce  "
         ],
         "yaxis": "y"
        },
        {
         "marker": {
          "color": "#0072B2"
         },
         "orientation": "h",
         "type": "bar",
         "x": [
          0.05743519467027275,
          0.06002852843960676,
          0.060241917313751225,
          0.06954073501507828,
          0.12694082607363558
         ],
         "xaxis": "x2",
         "y": [
          "je  ",
          "za  ",
          "získal  ",
          "český  ",
          "film  "
         ],
         "yaxis": "y2"
        },
        {
         "marker": {
          "color": "#CC79A7"
         },
         "orientation": "h",
         "type": "bar",
         "x": [
          0.059248947338160406,
          0.07990997705880451,
          0.09092531814762317,
          0.12485933915438205,
          0.14582993979177666
         ],
         "xaxis": "x3",
         "y": [
          "oblíbeným  ",
          "který  ",
          "sportem  ",
          "sport  ",
          "je  "
         ],
         "yaxis": "y3"
        },
        {
         "marker": {
          "color": "#E69F00"
         },
         "orientation": "h",
         "type": "bar",
         "x": [
          0.060543495335194,
          0.060543495335194,
          0.0662443507805908,
          0.08473127238695823,
          0.09530689374261707
         ],
         "xaxis": "x4",
         "y": [
          "živých  ",
          "dna  ",
          "organismy  ",
          "jsou  ",
          "organismů  "
         ],
         "yaxis": "y4"
        },
        {
         "marker": {
          "color": "#56B4E9"
         },
         "orientation": "h",
         "type": "bar",
         "x": [
          0.049686807308434174,
          0.049686807308434174,
          0.051233755112717314,
          0.05165622117751892,
          0.057869668343344886
         ],
         "xaxis": "x5",
         "y": [
          "rychlosti  ",
          "atomy  ",
          "fotosyntéza  ",
          "jsou  ",
          "energii  "
         ],
         "yaxis": "y5"
        },
        {
         "marker": {
          "color": "#009E73"
         },
         "orientation": "h",
         "type": "bar",
         "x": [
          0.09500144182850269,
          0.09500144182850269,
          0.09938430511634529,
          0.10881213786333037,
          0.1264402403609918
         ],
         "xaxis": "x6",
         "y": [
          "hoře  ",
          "bílé  ",
          "prostředí  ",
          "proces  ",
          "buněk  "
         ],
         "yaxis": "y6"
        },
        {
         "marker": {
          "color": "#F0E442"
         },
         "orientation": "h",
         "type": "bar",
         "x": [
          0.15244417409689967,
          0.15244417409689967,
          0.16811697855000343,
          0.18197716627860003,
          0.2695034319876559
         ],
         "xaxis": "x7",
         "y": [
          "univerzit  ",
          "endotermické  ",
          "chemické  ",
          "exotermické  ",
          "reakce  "
         ],
         "yaxis": "y7"
        },
        {
         "marker": {
          "color": "#D55E00"
         },
         "orientation": "h",
         "type": "bar",
         "x": [
          0.21850331620555621,
          0.21850331620555621,
          0.21850331620555621,
          0.21850331620555621,
          0.21850331620555621
         ],
         "xaxis": "x8",
         "y": [
          "skok  ",
          "dálky  ",
          "wimbledon  ",
          "turnaj  ",
          "atletika  "
         ],
         "yaxis": "y8"
        }
       ],
       "layout": {
        "annotations": [
         {
          "font": {
           "size": 16
          },
          "showarrow": false,
          "text": "Topic 0",
          "x": 0.0875,
          "xanchor": "center",
          "xref": "paper",
          "y": 1,
          "yanchor": "bottom",
          "yref": "paper"
         },
         {
          "font": {
           "size": 16
          },
          "showarrow": false,
          "text": "Topic 1",
          "x": 0.36250000000000004,
          "xanchor": "center",
          "xref": "paper",
          "y": 1,
          "yanchor": "bottom",
          "yref": "paper"
         },
         {
          "font": {
           "size": 16
          },
          "showarrow": false,
          "text": "Topic 2",
          "x": 0.6375000000000001,
          "xanchor": "center",
          "xref": "paper",
          "y": 1,
          "yanchor": "bottom",
          "yref": "paper"
         },
         {
          "font": {
           "size": 16
          },
          "showarrow": false,
          "text": "Topic 3",
          "x": 0.9125,
          "xanchor": "center",
          "xref": "paper",
          "y": 1,
          "yanchor": "bottom",
          "yref": "paper"
         },
         {
          "font": {
           "size": 16
          },
          "showarrow": false,
          "text": "Topic 4",
          "x": 0.0875,
          "xanchor": "center",
          "xref": "paper",
          "y": 0.4,
          "yanchor": "bottom",
          "yref": "paper"
         },
         {
          "font": {
           "size": 16
          },
          "showarrow": false,
          "text": "Topic 5",
          "x": 0.36250000000000004,
          "xanchor": "center",
          "xref": "paper",
          "y": 0.4,
          "yanchor": "bottom",
          "yref": "paper"
         },
         {
          "font": {
           "size": 16
          },
          "showarrow": false,
          "text": "Topic 6",
          "x": 0.6375000000000001,
          "xanchor": "center",
          "xref": "paper",
          "y": 0.4,
          "yanchor": "bottom",
          "yref": "paper"
         },
         {
          "font": {
           "size": 16
          },
          "showarrow": false,
          "text": "Topic 7",
          "x": 0.9125,
          "xanchor": "center",
          "xref": "paper",
          "y": 0.4,
          "yanchor": "bottom",
          "yref": "paper"
         }
        ],
        "height": 500,
        "hoverlabel": {
         "bgcolor": "white",
         "font": {
          "family": "Rockwell",
          "size": 16
         }
        },
        "showlegend": false,
        "template": {
         "data": {
          "bar": [
           {
            "error_x": {
             "color": "#2a3f5f"
            },
            "error_y": {
             "color": "#2a3f5f"
            },
            "marker": {
             "line": {
              "color": "white",
              "width": 0.5
             },
             "pattern": {
              "fillmode": "overlay",
              "size": 10,
              "solidity": 0.2
             }
            },
            "type": "bar"
           }
          ],
          "barpolar": [
           {
            "marker": {
             "line": {
              "color": "white",
              "width": 0.5
             },
             "pattern": {
              "fillmode": "overlay",
              "size": 10,
              "solidity": 0.2
             }
            },
            "type": "barpolar"
           }
          ],
          "carpet": [
           {
            "aaxis": {
             "endlinecolor": "#2a3f5f",
             "gridcolor": "#C8D4E3",
             "linecolor": "#C8D4E3",
             "minorgridcolor": "#C8D4E3",
             "startlinecolor": "#2a3f5f"
            },
            "baxis": {
             "endlinecolor": "#2a3f5f",
             "gridcolor": "#C8D4E3",
             "linecolor": "#C8D4E3",
             "minorgridcolor": "#C8D4E3",
             "startlinecolor": "#2a3f5f"
            },
            "type": "carpet"
           }
          ],
          "choropleth": [
           {
            "colorbar": {
             "outlinewidth": 0,
             "ticks": ""
            },
            "type": "choropleth"
           }
          ],
          "contour": [
           {
            "colorbar": {
             "outlinewidth": 0,
             "ticks": ""
            },
            "colorscale": [
             [
              0,
              "#0d0887"
             ],
             [
              0.1111111111111111,
              "#46039f"
             ],
             [
              0.2222222222222222,
              "#7201a8"
             ],
             [
              0.3333333333333333,
              "#9c179e"
             ],
             [
              0.4444444444444444,
              "#bd3786"
             ],
             [
              0.5555555555555556,
              "#d8576b"
             ],
             [
              0.6666666666666666,
              "#ed7953"
             ],
             [
              0.7777777777777778,
              "#fb9f3a"
             ],
             [
              0.8888888888888888,
              "#fdca26"
             ],
             [
              1,
              "#f0f921"
             ]
            ],
            "type": "contour"
           }
          ],
          "contourcarpet": [
           {
            "colorbar": {
             "outlinewidth": 0,
             "ticks": ""
            },
            "type": "contourcarpet"
           }
          ],
          "heatmap": [
           {
            "colorbar": {
             "outlinewidth": 0,
             "ticks": ""
            },
            "colorscale": [
             [
              0,
              "#0d0887"
             ],
             [
              0.1111111111111111,
              "#46039f"
             ],
             [
              0.2222222222222222,
              "#7201a8"
             ],
             [
              0.3333333333333333,
              "#9c179e"
             ],
             [
              0.4444444444444444,
              "#bd3786"
             ],
             [
              0.5555555555555556,
              "#d8576b"
             ],
             [
              0.6666666666666666,
              "#ed7953"
             ],
             [
              0.7777777777777778,
              "#fb9f3a"
             ],
             [
              0.8888888888888888,
              "#fdca26"
             ],
             [
              1,
              "#f0f921"
             ]
            ],
            "type": "heatmap"
           }
          ],
          "heatmapgl": [
           {
            "colorbar": {
             "outlinewidth": 0,
             "ticks": ""
            },
            "colorscale": [
             [
              0,
              "#0d0887"
             ],
             [
              0.1111111111111111,
              "#46039f"
             ],
             [
              0.2222222222222222,
              "#7201a8"
             ],
             [
              0.3333333333333333,
              "#9c179e"
             ],
             [
              0.4444444444444444,
              "#bd3786"
             ],
             [
              0.5555555555555556,
              "#d8576b"
             ],
             [
              0.6666666666666666,
              "#ed7953"
             ],
             [
              0.7777777777777778,
              "#fb9f3a"
             ],
             [
              0.8888888888888888,
              "#fdca26"
             ],
             [
              1,
              "#f0f921"
             ]
            ],
            "type": "heatmapgl"
           }
          ],
          "histogram": [
           {
            "marker": {
             "pattern": {
              "fillmode": "overlay",
              "size": 10,
              "solidity": 0.2
             }
            },
            "type": "histogram"
           }
          ],
          "histogram2d": [
           {
            "colorbar": {
             "outlinewidth": 0,
             "ticks": ""
            },
            "colorscale": [
             [
              0,
              "#0d0887"
             ],
             [
              0.1111111111111111,
              "#46039f"
             ],
             [
              0.2222222222222222,
              "#7201a8"
             ],
             [
              0.3333333333333333,
              "#9c179e"
             ],
             [
              0.4444444444444444,
              "#bd3786"
             ],
             [
              0.5555555555555556,
              "#d8576b"
             ],
             [
              0.6666666666666666,
              "#ed7953"
             ],
             [
              0.7777777777777778,
              "#fb9f3a"
             ],
             [
              0.8888888888888888,
              "#fdca26"
             ],
             [
              1,
              "#f0f921"
             ]
            ],
            "type": "histogram2d"
           }
          ],
          "histogram2dcontour": [
           {
            "colorbar": {
             "outlinewidth": 0,
             "ticks": ""
            },
            "colorscale": [
             [
              0,
              "#0d0887"
             ],
             [
              0.1111111111111111,
              "#46039f"
             ],
             [
              0.2222222222222222,
              "#7201a8"
             ],
             [
              0.3333333333333333,
              "#9c179e"
             ],
             [
              0.4444444444444444,
              "#bd3786"
             ],
             [
              0.5555555555555556,
              "#d8576b"
             ],
             [
              0.6666666666666666,
              "#ed7953"
             ],
             [
              0.7777777777777778,
              "#fb9f3a"
             ],
             [
              0.8888888888888888,
              "#fdca26"
             ],
             [
              1,
              "#f0f921"
             ]
            ],
            "type": "histogram2dcontour"
           }
          ],
          "mesh3d": [
           {
            "colorbar": {
             "outlinewidth": 0,
             "ticks": ""
            },
            "type": "mesh3d"
           }
          ],
          "parcoords": [
           {
            "line": {
             "colorbar": {
              "outlinewidth": 0,
              "ticks": ""
             }
            },
            "type": "parcoords"
           }
          ],
          "pie": [
           {
            "automargin": true,
            "type": "pie"
           }
          ],
          "scatter": [
           {
            "fillpattern": {
             "fillmode": "overlay",
             "size": 10,
             "solidity": 0.2
            },
            "type": "scatter"
           }
          ],
          "scatter3d": [
           {
            "line": {
             "colorbar": {
              "outlinewidth": 0,
              "ticks": ""
             }
            },
            "marker": {
             "colorbar": {
              "outlinewidth": 0,
              "ticks": ""
             }
            },
            "type": "scatter3d"
           }
          ],
          "scattercarpet": [
           {
            "marker": {
             "colorbar": {
              "outlinewidth": 0,
              "ticks": ""
             }
            },
            "type": "scattercarpet"
           }
          ],
          "scattergeo": [
           {
            "marker": {
             "colorbar": {
              "outlinewidth": 0,
              "ticks": ""
             }
            },
            "type": "scattergeo"
           }
          ],
          "scattergl": [
           {
            "marker": {
             "colorbar": {
              "outlinewidth": 0,
              "ticks": ""
             }
            },
            "type": "scattergl"
           }
          ],
          "scattermapbox": [
           {
            "marker": {
             "colorbar": {
              "outlinewidth": 0,
              "ticks": ""
             }
            },
            "type": "scattermapbox"
           }
          ],
          "scatterpolar": [
           {
            "marker": {
             "colorbar": {
              "outlinewidth": 0,
              "ticks": ""
             }
            },
            "type": "scatterpolar"
           }
          ],
          "scatterpolargl": [
           {
            "marker": {
             "colorbar": {
              "outlinewidth": 0,
              "ticks": ""
             }
            },
            "type": "scatterpolargl"
           }
          ],
          "scatterternary": [
           {
            "marker": {
             "colorbar": {
              "outlinewidth": 0,
              "ticks": ""
             }
            },
            "type": "scatterternary"
           }
          ],
          "surface": [
           {
            "colorbar": {
             "outlinewidth": 0,
             "ticks": ""
            },
            "colorscale": [
             [
              0,
              "#0d0887"
             ],
             [
              0.1111111111111111,
              "#46039f"
             ],
             [
              0.2222222222222222,
              "#7201a8"
             ],
             [
              0.3333333333333333,
              "#9c179e"
             ],
             [
              0.4444444444444444,
              "#bd3786"
             ],
             [
              0.5555555555555556,
              "#d8576b"
             ],
             [
              0.6666666666666666,
              "#ed7953"
             ],
             [
              0.7777777777777778,
              "#fb9f3a"
             ],
             [
              0.8888888888888888,
              "#fdca26"
             ],
             [
              1,
              "#f0f921"
             ]
            ],
            "type": "surface"
           }
          ],
          "table": [
           {
            "cells": {
             "fill": {
              "color": "#EBF0F8"
             },
             "line": {
              "color": "white"
             }
            },
            "header": {
             "fill": {
              "color": "#C8D4E3"
             },
             "line": {
              "color": "white"
             }
            },
            "type": "table"
           }
          ]
         },
         "layout": {
          "annotationdefaults": {
           "arrowcolor": "#2a3f5f",
           "arrowhead": 0,
           "arrowwidth": 1
          },
          "autotypenumbers": "strict",
          "coloraxis": {
           "colorbar": {
            "outlinewidth": 0,
            "ticks": ""
           }
          },
          "colorscale": {
           "diverging": [
            [
             0,
             "#8e0152"
            ],
            [
             0.1,
             "#c51b7d"
            ],
            [
             0.2,
             "#de77ae"
            ],
            [
             0.3,
             "#f1b6da"
            ],
            [
             0.4,
             "#fde0ef"
            ],
            [
             0.5,
             "#f7f7f7"
            ],
            [
             0.6,
             "#e6f5d0"
            ],
            [
             0.7,
             "#b8e186"
            ],
            [
             0.8,
             "#7fbc41"
            ],
            [
             0.9,
             "#4d9221"
            ],
            [
             1,
             "#276419"
            ]
           ],
           "sequential": [
            [
             0,
             "#0d0887"
            ],
            [
             0.1111111111111111,
             "#46039f"
            ],
            [
             0.2222222222222222,
             "#7201a8"
            ],
            [
             0.3333333333333333,
             "#9c179e"
            ],
            [
             0.4444444444444444,
             "#bd3786"
            ],
            [
             0.5555555555555556,
             "#d8576b"
            ],
            [
             0.6666666666666666,
             "#ed7953"
            ],
            [
             0.7777777777777778,
             "#fb9f3a"
            ],
            [
             0.8888888888888888,
             "#fdca26"
            ],
            [
             1,
             "#f0f921"
            ]
           ],
           "sequentialminus": [
            [
             0,
             "#0d0887"
            ],
            [
             0.1111111111111111,
             "#46039f"
            ],
            [
             0.2222222222222222,
             "#7201a8"
            ],
            [
             0.3333333333333333,
             "#9c179e"
            ],
            [
             0.4444444444444444,
             "#bd3786"
            ],
            [
             0.5555555555555556,
             "#d8576b"
            ],
            [
             0.6666666666666666,
             "#ed7953"
            ],
            [
             0.7777777777777778,
             "#fb9f3a"
            ],
            [
             0.8888888888888888,
             "#fdca26"
            ],
            [
             1,
             "#f0f921"
            ]
           ]
          },
          "colorway": [
           "#636efa",
           "#EF553B",
           "#00cc96",
           "#ab63fa",
           "#FFA15A",
           "#19d3f3",
           "#FF6692",
           "#B6E880",
           "#FF97FF",
           "#FECB52"
          ],
          "font": {
           "color": "#2a3f5f"
          },
          "geo": {
           "bgcolor": "white",
           "lakecolor": "white",
           "landcolor": "white",
           "showlakes": true,
           "showland": true,
           "subunitcolor": "#C8D4E3"
          },
          "hoverlabel": {
           "align": "left"
          },
          "hovermode": "closest",
          "mapbox": {
           "style": "light"
          },
          "paper_bgcolor": "white",
          "plot_bgcolor": "white",
          "polar": {
           "angularaxis": {
            "gridcolor": "#EBF0F8",
            "linecolor": "#EBF0F8",
            "ticks": ""
           },
           "bgcolor": "white",
           "radialaxis": {
            "gridcolor": "#EBF0F8",
            "linecolor": "#EBF0F8",
            "ticks": ""
           }
          },
          "scene": {
           "xaxis": {
            "backgroundcolor": "white",
            "gridcolor": "#DFE8F3",
            "gridwidth": 2,
            "linecolor": "#EBF0F8",
            "showbackground": true,
            "ticks": "",
            "zerolinecolor": "#EBF0F8"
           },
           "yaxis": {
            "backgroundcolor": "white",
            "gridcolor": "#DFE8F3",
            "gridwidth": 2,
            "linecolor": "#EBF0F8",
            "showbackground": true,
            "ticks": "",
            "zerolinecolor": "#EBF0F8"
           },
           "zaxis": {
            "backgroundcolor": "white",
            "gridcolor": "#DFE8F3",
            "gridwidth": 2,
            "linecolor": "#EBF0F8",
            "showbackground": true,
            "ticks": "",
            "zerolinecolor": "#EBF0F8"
           }
          },
          "shapedefaults": {
           "line": {
            "color": "#2a3f5f"
           }
          },
          "ternary": {
           "aaxis": {
            "gridcolor": "#DFE8F3",
            "linecolor": "#A2B1C6",
            "ticks": ""
           },
           "baxis": {
            "gridcolor": "#DFE8F3",
            "linecolor": "#A2B1C6",
            "ticks": ""
           },
           "bgcolor": "white",
           "caxis": {
            "gridcolor": "#DFE8F3",
            "linecolor": "#A2B1C6",
            "ticks": ""
           }
          },
          "title": {
           "x": 0.05
          },
          "xaxis": {
           "automargin": true,
           "gridcolor": "#EBF0F8",
           "linecolor": "#EBF0F8",
           "ticks": "",
           "title": {
            "standoff": 15
           },
           "zerolinecolor": "#EBF0F8",
           "zerolinewidth": 2
          },
          "yaxis": {
           "automargin": true,
           "gridcolor": "#EBF0F8",
           "linecolor": "#EBF0F8",
           "ticks": "",
           "title": {
            "standoff": 15
           },
           "zerolinecolor": "#EBF0F8",
           "zerolinewidth": 2
          }
         }
        },
        "title": {
         "font": {
          "color": "Black",
          "size": 22
         },
         "text": "Topic Word Scores",
         "x": 0.5,
         "xanchor": "center",
         "yanchor": "top"
        },
        "width": 1000,
        "xaxis": {
         "anchor": "y",
         "domain": [
          0,
          0.175
         ],
         "showgrid": true
        },
        "xaxis2": {
         "anchor": "y2",
         "domain": [
          0.275,
          0.45
         ],
         "showgrid": true
        },
        "xaxis3": {
         "anchor": "y3",
         "domain": [
          0.55,
          0.7250000000000001
         ],
         "showgrid": true
        },
        "xaxis4": {
         "anchor": "y4",
         "domain": [
          0.825,
          1
         ],
         "showgrid": true
        },
        "xaxis5": {
         "anchor": "y5",
         "domain": [
          0,
          0.175
         ],
         "showgrid": true
        },
        "xaxis6": {
         "anchor": "y6",
         "domain": [
          0.275,
          0.45
         ],
         "showgrid": true
        },
        "xaxis7": {
         "anchor": "y7",
         "domain": [
          0.55,
          0.7250000000000001
         ],
         "showgrid": true
        },
        "xaxis8": {
         "anchor": "y8",
         "domain": [
          0.825,
          1
         ],
         "showgrid": true
        },
        "yaxis": {
         "anchor": "x",
         "domain": [
          0.6000000000000001,
          1
         ],
         "showgrid": true
        },
        "yaxis2": {
         "anchor": "x2",
         "domain": [
          0.6000000000000001,
          1
         ],
         "showgrid": true
        },
        "yaxis3": {
         "anchor": "x3",
         "domain": [
          0.6000000000000001,
          1
         ],
         "showgrid": true
        },
        "yaxis4": {
         "anchor": "x4",
         "domain": [
          0.6000000000000001,
          1
         ],
         "showgrid": true
        },
        "yaxis5": {
         "anchor": "x5",
         "domain": [
          0,
          0.4
         ],
         "showgrid": true
        },
        "yaxis6": {
         "anchor": "x6",
         "domain": [
          0,
          0.4
         ],
         "showgrid": true
        },
        "yaxis7": {
         "anchor": "x7",
         "domain": [
          0,
          0.4
         ],
         "showgrid": true
        },
        "yaxis8": {
         "anchor": "x8",
         "domain": [
          0,
          0.4
         ],
         "showgrid": true
        }
       }
      }
     },
     "metadata": {},
     "output_type": "display_data"
    }
   ],
   "source": [
    "model.visualize_barchart(top_n_topics=10)"
   ]
  },
  {
   "cell_type": "code",
   "execution_count": 17,
   "metadata": {},
   "outputs": [
    {
     "data": {
      "application/vnd.plotly.v1+json": {
       "config": {
        "plotlyServerURL": "https://plot.ly"
       },
       "data": [
        {
         "customdata": [
          [
           0,
           "roce | byl | první | po | na",
           157
          ],
          [
           1,
           "film | český | získal | za | je",
           82
          ],
          [
           2,
           "je | sport | sportem | který | oblíbeným",
           75
          ],
          [
           3,
           "organismů | jsou | organismy | dna | živých",
           70
          ],
          [
           4,
           "energii | jsou | fotosyntéza | atomy | rychlosti",
           68
          ],
          [
           5,
           "buněk | proces | prostředí | bílé | hoře",
           22
          ],
          [
           6,
           "reakce | exotermické | chemické | endotermické | univerzit",
           14
          ],
          [
           7,
           "atletika | turnaj | wimbledon | dálky | skok",
           11
          ]
         ],
         "hovertemplate": "<b>Topic %{customdata[0]}</b><br>%{customdata[1]}<br>Size: %{customdata[2]}",
         "legendgroup": "",
         "marker": {
          "color": "#B0BEC5",
          "line": {
           "color": "DarkSlateGrey",
           "width": 2
          },
          "size": [
           157,
           82,
           75,
           70,
           68,
           22,
           14,
           11
          ],
          "sizemode": "area",
          "sizeref": 0.098125,
          "symbol": "circle"
         },
         "mode": "markers",
         "name": "",
         "orientation": "v",
         "showlegend": false,
         "type": "scatter",
         "x": [
          12.865151405334473,
          13.434422492980957,
          12.839515686035156,
          14.417813301086426,
          12.177477836608887,
          13.813369750976562,
          11.740330696105957,
          13.206634521484375
         ],
         "xaxis": "x",
         "y": [
          -1.869184970855713,
          -2.21032977104187,
          -3.1908326148986816,
          -1.2420607805252075,
          -1.7844895124435425,
          -1.2153676748275757,
          -1.5865999460220337,
          -3.722468852996826
         ],
         "yaxis": "y"
        }
       ],
       "layout": {
        "annotations": [
         {
          "showarrow": false,
          "text": "D1",
          "x": 9.979281091690064,
          "y": -2.6569508522748944,
          "yshift": 10
         },
         {
          "showarrow": false,
          "text": "D2",
          "x": 13.279883193969727,
          "xshift": 10,
          "y": -1.0330625236034394
         }
        ],
        "height": 650,
        "hoverlabel": {
         "bgcolor": "white",
         "font": {
          "family": "Rockwell",
          "size": 16
         }
        },
        "legend": {
         "itemsizing": "constant",
         "tracegroupgap": 0
        },
        "margin": {
         "t": 60
        },
        "shapes": [
         {
          "line": {
           "color": "#CFD8DC",
           "width": 2
          },
          "type": "line",
          "x0": 13.279883193969727,
          "x1": 13.279883193969727,
          "y0": -4.28083918094635,
          "y1": -1.0330625236034394
         },
         {
          "line": {
           "color": "#9E9E9E",
           "width": 2
          },
          "type": "line",
          "x0": 9.979281091690064,
          "x1": 16.58048529624939,
          "y0": -2.6569508522748944,
          "y1": -2.6569508522748944
         }
        ],
        "sliders": [
         {
          "active": 0,
          "pad": {
           "t": 50
          },
          "steps": [
           {
            "args": [
             {
              "marker.color": [
               [
                "red",
                "#B0BEC5",
                "#B0BEC5",
                "#B0BEC5",
                "#B0BEC5",
                "#B0BEC5",
                "#B0BEC5",
                "#B0BEC5"
               ]
              ]
             }
            ],
            "label": "Topic 0",
            "method": "update"
           },
           {
            "args": [
             {
              "marker.color": [
               [
                "#B0BEC5",
                "red",
                "#B0BEC5",
                "#B0BEC5",
                "#B0BEC5",
                "#B0BEC5",
                "#B0BEC5",
                "#B0BEC5"
               ]
              ]
             }
            ],
            "label": "Topic 1",
            "method": "update"
           },
           {
            "args": [
             {
              "marker.color": [
               [
                "#B0BEC5",
                "#B0BEC5",
                "red",
                "#B0BEC5",
                "#B0BEC5",
                "#B0BEC5",
                "#B0BEC5",
                "#B0BEC5"
               ]
              ]
             }
            ],
            "label": "Topic 2",
            "method": "update"
           },
           {
            "args": [
             {
              "marker.color": [
               [
                "#B0BEC5",
                "#B0BEC5",
                "#B0BEC5",
                "red",
                "#B0BEC5",
                "#B0BEC5",
                "#B0BEC5",
                "#B0BEC5"
               ]
              ]
             }
            ],
            "label": "Topic 3",
            "method": "update"
           },
           {
            "args": [
             {
              "marker.color": [
               [
                "#B0BEC5",
                "#B0BEC5",
                "#B0BEC5",
                "#B0BEC5",
                "red",
                "#B0BEC5",
                "#B0BEC5",
                "#B0BEC5"
               ]
              ]
             }
            ],
            "label": "Topic 4",
            "method": "update"
           },
           {
            "args": [
             {
              "marker.color": [
               [
                "#B0BEC5",
                "#B0BEC5",
                "#B0BEC5",
                "#B0BEC5",
                "#B0BEC5",
                "red",
                "#B0BEC5",
                "#B0BEC5"
               ]
              ]
             }
            ],
            "label": "Topic 5",
            "method": "update"
           },
           {
            "args": [
             {
              "marker.color": [
               [
                "#B0BEC5",
                "#B0BEC5",
                "#B0BEC5",
                "#B0BEC5",
                "#B0BEC5",
                "#B0BEC5",
                "red",
                "#B0BEC5"
               ]
              ]
             }
            ],
            "label": "Topic 6",
            "method": "update"
           },
           {
            "args": [
             {
              "marker.color": [
               [
                "#B0BEC5",
                "#B0BEC5",
                "#B0BEC5",
                "#B0BEC5",
                "#B0BEC5",
                "#B0BEC5",
                "#B0BEC5",
                "red"
               ]
              ]
             }
            ],
            "label": "Topic 7",
            "method": "update"
           }
          ]
         }
        ],
        "template": {
         "data": {
          "bar": [
           {
            "error_x": {
             "color": "rgb(36,36,36)"
            },
            "error_y": {
             "color": "rgb(36,36,36)"
            },
            "marker": {
             "line": {
              "color": "white",
              "width": 0.5
             },
             "pattern": {
              "fillmode": "overlay",
              "size": 10,
              "solidity": 0.2
             }
            },
            "type": "bar"
           }
          ],
          "barpolar": [
           {
            "marker": {
             "line": {
              "color": "white",
              "width": 0.5
             },
             "pattern": {
              "fillmode": "overlay",
              "size": 10,
              "solidity": 0.2
             }
            },
            "type": "barpolar"
           }
          ],
          "carpet": [
           {
            "aaxis": {
             "endlinecolor": "rgb(36,36,36)",
             "gridcolor": "white",
             "linecolor": "white",
             "minorgridcolor": "white",
             "startlinecolor": "rgb(36,36,36)"
            },
            "baxis": {
             "endlinecolor": "rgb(36,36,36)",
             "gridcolor": "white",
             "linecolor": "white",
             "minorgridcolor": "white",
             "startlinecolor": "rgb(36,36,36)"
            },
            "type": "carpet"
           }
          ],
          "choropleth": [
           {
            "colorbar": {
             "outlinewidth": 1,
             "tickcolor": "rgb(36,36,36)",
             "ticks": "outside"
            },
            "type": "choropleth"
           }
          ],
          "contour": [
           {
            "colorbar": {
             "outlinewidth": 1,
             "tickcolor": "rgb(36,36,36)",
             "ticks": "outside"
            },
            "colorscale": [
             [
              0,
              "#440154"
             ],
             [
              0.1111111111111111,
              "#482878"
             ],
             [
              0.2222222222222222,
              "#3e4989"
             ],
             [
              0.3333333333333333,
              "#31688e"
             ],
             [
              0.4444444444444444,
              "#26828e"
             ],
             [
              0.5555555555555556,
              "#1f9e89"
             ],
             [
              0.6666666666666666,
              "#35b779"
             ],
             [
              0.7777777777777778,
              "#6ece58"
             ],
             [
              0.8888888888888888,
              "#b5de2b"
             ],
             [
              1,
              "#fde725"
             ]
            ],
            "type": "contour"
           }
          ],
          "contourcarpet": [
           {
            "colorbar": {
             "outlinewidth": 1,
             "tickcolor": "rgb(36,36,36)",
             "ticks": "outside"
            },
            "type": "contourcarpet"
           }
          ],
          "heatmap": [
           {
            "colorbar": {
             "outlinewidth": 1,
             "tickcolor": "rgb(36,36,36)",
             "ticks": "outside"
            },
            "colorscale": [
             [
              0,
              "#440154"
             ],
             [
              0.1111111111111111,
              "#482878"
             ],
             [
              0.2222222222222222,
              "#3e4989"
             ],
             [
              0.3333333333333333,
              "#31688e"
             ],
             [
              0.4444444444444444,
              "#26828e"
             ],
             [
              0.5555555555555556,
              "#1f9e89"
             ],
             [
              0.6666666666666666,
              "#35b779"
             ],
             [
              0.7777777777777778,
              "#6ece58"
             ],
             [
              0.8888888888888888,
              "#b5de2b"
             ],
             [
              1,
              "#fde725"
             ]
            ],
            "type": "heatmap"
           }
          ],
          "heatmapgl": [
           {
            "colorbar": {
             "outlinewidth": 1,
             "tickcolor": "rgb(36,36,36)",
             "ticks": "outside"
            },
            "colorscale": [
             [
              0,
              "#440154"
             ],
             [
              0.1111111111111111,
              "#482878"
             ],
             [
              0.2222222222222222,
              "#3e4989"
             ],
             [
              0.3333333333333333,
              "#31688e"
             ],
             [
              0.4444444444444444,
              "#26828e"
             ],
             [
              0.5555555555555556,
              "#1f9e89"
             ],
             [
              0.6666666666666666,
              "#35b779"
             ],
             [
              0.7777777777777778,
              "#6ece58"
             ],
             [
              0.8888888888888888,
              "#b5de2b"
             ],
             [
              1,
              "#fde725"
             ]
            ],
            "type": "heatmapgl"
           }
          ],
          "histogram": [
           {
            "marker": {
             "line": {
              "color": "white",
              "width": 0.6
             }
            },
            "type": "histogram"
           }
          ],
          "histogram2d": [
           {
            "colorbar": {
             "outlinewidth": 1,
             "tickcolor": "rgb(36,36,36)",
             "ticks": "outside"
            },
            "colorscale": [
             [
              0,
              "#440154"
             ],
             [
              0.1111111111111111,
              "#482878"
             ],
             [
              0.2222222222222222,
              "#3e4989"
             ],
             [
              0.3333333333333333,
              "#31688e"
             ],
             [
              0.4444444444444444,
              "#26828e"
             ],
             [
              0.5555555555555556,
              "#1f9e89"
             ],
             [
              0.6666666666666666,
              "#35b779"
             ],
             [
              0.7777777777777778,
              "#6ece58"
             ],
             [
              0.8888888888888888,
              "#b5de2b"
             ],
             [
              1,
              "#fde725"
             ]
            ],
            "type": "histogram2d"
           }
          ],
          "histogram2dcontour": [
           {
            "colorbar": {
             "outlinewidth": 1,
             "tickcolor": "rgb(36,36,36)",
             "ticks": "outside"
            },
            "colorscale": [
             [
              0,
              "#440154"
             ],
             [
              0.1111111111111111,
              "#482878"
             ],
             [
              0.2222222222222222,
              "#3e4989"
             ],
             [
              0.3333333333333333,
              "#31688e"
             ],
             [
              0.4444444444444444,
              "#26828e"
             ],
             [
              0.5555555555555556,
              "#1f9e89"
             ],
             [
              0.6666666666666666,
              "#35b779"
             ],
             [
              0.7777777777777778,
              "#6ece58"
             ],
             [
              0.8888888888888888,
              "#b5de2b"
             ],
             [
              1,
              "#fde725"
             ]
            ],
            "type": "histogram2dcontour"
           }
          ],
          "mesh3d": [
           {
            "colorbar": {
             "outlinewidth": 1,
             "tickcolor": "rgb(36,36,36)",
             "ticks": "outside"
            },
            "type": "mesh3d"
           }
          ],
          "parcoords": [
           {
            "line": {
             "colorbar": {
              "outlinewidth": 1,
              "tickcolor": "rgb(36,36,36)",
              "ticks": "outside"
             }
            },
            "type": "parcoords"
           }
          ],
          "pie": [
           {
            "automargin": true,
            "type": "pie"
           }
          ],
          "scatter": [
           {
            "fillpattern": {
             "fillmode": "overlay",
             "size": 10,
             "solidity": 0.2
            },
            "type": "scatter"
           }
          ],
          "scatter3d": [
           {
            "line": {
             "colorbar": {
              "outlinewidth": 1,
              "tickcolor": "rgb(36,36,36)",
              "ticks": "outside"
             }
            },
            "marker": {
             "colorbar": {
              "outlinewidth": 1,
              "tickcolor": "rgb(36,36,36)",
              "ticks": "outside"
             }
            },
            "type": "scatter3d"
           }
          ],
          "scattercarpet": [
           {
            "marker": {
             "colorbar": {
              "outlinewidth": 1,
              "tickcolor": "rgb(36,36,36)",
              "ticks": "outside"
             }
            },
            "type": "scattercarpet"
           }
          ],
          "scattergeo": [
           {
            "marker": {
             "colorbar": {
              "outlinewidth": 1,
              "tickcolor": "rgb(36,36,36)",
              "ticks": "outside"
             }
            },
            "type": "scattergeo"
           }
          ],
          "scattergl": [
           {
            "marker": {
             "colorbar": {
              "outlinewidth": 1,
              "tickcolor": "rgb(36,36,36)",
              "ticks": "outside"
             }
            },
            "type": "scattergl"
           }
          ],
          "scattermapbox": [
           {
            "marker": {
             "colorbar": {
              "outlinewidth": 1,
              "tickcolor": "rgb(36,36,36)",
              "ticks": "outside"
             }
            },
            "type": "scattermapbox"
           }
          ],
          "scatterpolar": [
           {
            "marker": {
             "colorbar": {
              "outlinewidth": 1,
              "tickcolor": "rgb(36,36,36)",
              "ticks": "outside"
             }
            },
            "type": "scatterpolar"
           }
          ],
          "scatterpolargl": [
           {
            "marker": {
             "colorbar": {
              "outlinewidth": 1,
              "tickcolor": "rgb(36,36,36)",
              "ticks": "outside"
             }
            },
            "type": "scatterpolargl"
           }
          ],
          "scatterternary": [
           {
            "marker": {
             "colorbar": {
              "outlinewidth": 1,
              "tickcolor": "rgb(36,36,36)",
              "ticks": "outside"
             }
            },
            "type": "scatterternary"
           }
          ],
          "surface": [
           {
            "colorbar": {
             "outlinewidth": 1,
             "tickcolor": "rgb(36,36,36)",
             "ticks": "outside"
            },
            "colorscale": [
             [
              0,
              "#440154"
             ],
             [
              0.1111111111111111,
              "#482878"
             ],
             [
              0.2222222222222222,
              "#3e4989"
             ],
             [
              0.3333333333333333,
              "#31688e"
             ],
             [
              0.4444444444444444,
              "#26828e"
             ],
             [
              0.5555555555555556,
              "#1f9e89"
             ],
             [
              0.6666666666666666,
              "#35b779"
             ],
             [
              0.7777777777777778,
              "#6ece58"
             ],
             [
              0.8888888888888888,
              "#b5de2b"
             ],
             [
              1,
              "#fde725"
             ]
            ],
            "type": "surface"
           }
          ],
          "table": [
           {
            "cells": {
             "fill": {
              "color": "rgb(237,237,237)"
             },
             "line": {
              "color": "white"
             }
            },
            "header": {
             "fill": {
              "color": "rgb(217,217,217)"
             },
             "line": {
              "color": "white"
             }
            },
            "type": "table"
           }
          ]
         },
         "layout": {
          "annotationdefaults": {
           "arrowhead": 0,
           "arrowwidth": 1
          },
          "autotypenumbers": "strict",
          "coloraxis": {
           "colorbar": {
            "outlinewidth": 1,
            "tickcolor": "rgb(36,36,36)",
            "ticks": "outside"
           }
          },
          "colorscale": {
           "diverging": [
            [
             0,
             "rgb(103,0,31)"
            ],
            [
             0.1,
             "rgb(178,24,43)"
            ],
            [
             0.2,
             "rgb(214,96,77)"
            ],
            [
             0.3,
             "rgb(244,165,130)"
            ],
            [
             0.4,
             "rgb(253,219,199)"
            ],
            [
             0.5,
             "rgb(247,247,247)"
            ],
            [
             0.6,
             "rgb(209,229,240)"
            ],
            [
             0.7,
             "rgb(146,197,222)"
            ],
            [
             0.8,
             "rgb(67,147,195)"
            ],
            [
             0.9,
             "rgb(33,102,172)"
            ],
            [
             1,
             "rgb(5,48,97)"
            ]
           ],
           "sequential": [
            [
             0,
             "#440154"
            ],
            [
             0.1111111111111111,
             "#482878"
            ],
            [
             0.2222222222222222,
             "#3e4989"
            ],
            [
             0.3333333333333333,
             "#31688e"
            ],
            [
             0.4444444444444444,
             "#26828e"
            ],
            [
             0.5555555555555556,
             "#1f9e89"
            ],
            [
             0.6666666666666666,
             "#35b779"
            ],
            [
             0.7777777777777778,
             "#6ece58"
            ],
            [
             0.8888888888888888,
             "#b5de2b"
            ],
            [
             1,
             "#fde725"
            ]
           ],
           "sequentialminus": [
            [
             0,
             "#440154"
            ],
            [
             0.1111111111111111,
             "#482878"
            ],
            [
             0.2222222222222222,
             "#3e4989"
            ],
            [
             0.3333333333333333,
             "#31688e"
            ],
            [
             0.4444444444444444,
             "#26828e"
            ],
            [
             0.5555555555555556,
             "#1f9e89"
            ],
            [
             0.6666666666666666,
             "#35b779"
            ],
            [
             0.7777777777777778,
             "#6ece58"
            ],
            [
             0.8888888888888888,
             "#b5de2b"
            ],
            [
             1,
             "#fde725"
            ]
           ]
          },
          "colorway": [
           "#1F77B4",
           "#FF7F0E",
           "#2CA02C",
           "#D62728",
           "#9467BD",
           "#8C564B",
           "#E377C2",
           "#7F7F7F",
           "#BCBD22",
           "#17BECF"
          ],
          "font": {
           "color": "rgb(36,36,36)"
          },
          "geo": {
           "bgcolor": "white",
           "lakecolor": "white",
           "landcolor": "white",
           "showlakes": true,
           "showland": true,
           "subunitcolor": "white"
          },
          "hoverlabel": {
           "align": "left"
          },
          "hovermode": "closest",
          "mapbox": {
           "style": "light"
          },
          "paper_bgcolor": "white",
          "plot_bgcolor": "white",
          "polar": {
           "angularaxis": {
            "gridcolor": "rgb(232,232,232)",
            "linecolor": "rgb(36,36,36)",
            "showgrid": false,
            "showline": true,
            "ticks": "outside"
           },
           "bgcolor": "white",
           "radialaxis": {
            "gridcolor": "rgb(232,232,232)",
            "linecolor": "rgb(36,36,36)",
            "showgrid": false,
            "showline": true,
            "ticks": "outside"
           }
          },
          "scene": {
           "xaxis": {
            "backgroundcolor": "white",
            "gridcolor": "rgb(232,232,232)",
            "gridwidth": 2,
            "linecolor": "rgb(36,36,36)",
            "showbackground": true,
            "showgrid": false,
            "showline": true,
            "ticks": "outside",
            "zeroline": false,
            "zerolinecolor": "rgb(36,36,36)"
           },
           "yaxis": {
            "backgroundcolor": "white",
            "gridcolor": "rgb(232,232,232)",
            "gridwidth": 2,
            "linecolor": "rgb(36,36,36)",
            "showbackground": true,
            "showgrid": false,
            "showline": true,
            "ticks": "outside",
            "zeroline": false,
            "zerolinecolor": "rgb(36,36,36)"
           },
           "zaxis": {
            "backgroundcolor": "white",
            "gridcolor": "rgb(232,232,232)",
            "gridwidth": 2,
            "linecolor": "rgb(36,36,36)",
            "showbackground": true,
            "showgrid": false,
            "showline": true,
            "ticks": "outside",
            "zeroline": false,
            "zerolinecolor": "rgb(36,36,36)"
           }
          },
          "shapedefaults": {
           "fillcolor": "black",
           "line": {
            "width": 0
           },
           "opacity": 0.3
          },
          "ternary": {
           "aaxis": {
            "gridcolor": "rgb(232,232,232)",
            "linecolor": "rgb(36,36,36)",
            "showgrid": false,
            "showline": true,
            "ticks": "outside"
           },
           "baxis": {
            "gridcolor": "rgb(232,232,232)",
            "linecolor": "rgb(36,36,36)",
            "showgrid": false,
            "showline": true,
            "ticks": "outside"
           },
           "bgcolor": "white",
           "caxis": {
            "gridcolor": "rgb(232,232,232)",
            "linecolor": "rgb(36,36,36)",
            "showgrid": false,
            "showline": true,
            "ticks": "outside"
           }
          },
          "title": {
           "x": 0.05
          },
          "xaxis": {
           "automargin": true,
           "gridcolor": "rgb(232,232,232)",
           "linecolor": "rgb(36,36,36)",
           "showgrid": false,
           "showline": true,
           "ticks": "outside",
           "title": {
            "standoff": 15
           },
           "zeroline": false,
           "zerolinecolor": "rgb(36,36,36)"
          },
          "yaxis": {
           "automargin": true,
           "gridcolor": "rgb(232,232,232)",
           "linecolor": "rgb(36,36,36)",
           "showgrid": false,
           "showline": true,
           "ticks": "outside",
           "title": {
            "standoff": 15
           },
           "zeroline": false,
           "zerolinecolor": "rgb(36,36,36)"
          }
         }
        },
        "title": {
         "font": {
          "color": "Black",
          "size": 22
         },
         "text": "<b>Intertopic Distance Map</b>",
         "x": 0.5,
         "xanchor": "center",
         "y": 0.95,
         "yanchor": "top"
        },
        "width": 650,
        "xaxis": {
         "anchor": "y",
         "domain": [
          0,
          1
         ],
         "range": [
          9.979281091690064,
          16.58048529624939
         ],
         "title": {
          "text": ""
         },
         "visible": false
        },
        "yaxis": {
         "anchor": "x",
         "domain": [
          0,
          1
         ],
         "range": [
          -4.28083918094635,
          -1.0330625236034394
         ],
         "title": {
          "text": ""
         },
         "visible": false
        }
       }
      }
     },
     "metadata": {},
     "output_type": "display_data"
    }
   ],
   "source": [
    "model.visualize_topics()"
   ]
  },
  {
   "cell_type": "code",
   "execution_count": 18,
   "metadata": {},
   "outputs": [
    {
     "data": {
      "application/vnd.plotly.v1+json": {
       "config": {
        "plotlyServerURL": "https://plot.ly"
       },
       "data": [
        {
         "coloraxis": "coloraxis",
         "hovertemplate": "x: %{x}<br>y: %{y}<br>Similarity Score: %{z}<extra></extra>",
         "name": "0",
         "type": "heatmap",
         "x": [
          "0_roce_byl_první",
          "1_film_český_získal",
          "2_je_sport_sportem",
          "3_organismů_jsou_organismy",
          "4_energii_jsou_fotosyntéza",
          "5_buněk_proces_prostředí",
          "6_reakce_exotermické_chemické",
          "7_atletika_turnaj_wimbledon"
         ],
         "xaxis": "x",
         "y": [
          "0_roce_byl_první",
          "1_film_český_získal",
          "2_je_sport_sportem",
          "3_organismů_jsou_organismy",
          "4_energii_jsou_fotosyntéza",
          "5_buněk_proces_prostředí",
          "6_reakce_exotermické_chemické",
          "7_atletika_turnaj_wimbledon"
         ],
         "yaxis": "y",
         "z": [
          [
           0.9999998211860657,
           0.808550238609314,
           0.8568968772888184,
           0.8053908348083496,
           0.9269230365753174,
           0.8902446031570435,
           0.7916456460952759,
           0.8392226696014404
          ],
          [
           0.808550238609314,
           0.9999997019767761,
           0.7659900784492493,
           0.6586202383041382,
           0.804096519947052,
           0.7340891361236572,
           0.6498969793319702,
           0.7424604892730713
          ],
          [
           0.8568968772888184,
           0.7659900784492493,
           1.000000238418579,
           0.6988856792449951,
           0.8438336253166199,
           0.8383036255836487,
           0.6986764669418335,
           0.8541568517684937
          ],
          [
           0.8053908348083496,
           0.6586202383041382,
           0.6988856792449951,
           1.0000003576278687,
           0.8057618737220764,
           0.8243945240974426,
           0.7115039825439453,
           0.6769074201583862
          ],
          [
           0.9269230365753174,
           0.804096519947052,
           0.8438336253166199,
           0.8057618737220764,
           0.9999999403953552,
           0.8536207675933838,
           0.8134250640869141,
           0.8209421634674072
          ],
          [
           0.8902446031570435,
           0.7340891361236572,
           0.8383036255836487,
           0.8243945240974426,
           0.8536207675933838,
           1.0000001192092896,
           0.7461725473403931,
           0.757549524307251
          ],
          [
           0.7916456460952759,
           0.6498969793319702,
           0.6986764669418335,
           0.7115039825439453,
           0.8134250640869141,
           0.7461725473403931,
           1,
           0.6972971558570862
          ],
          [
           0.8392226696014404,
           0.7424604892730713,
           0.8541568517684937,
           0.6769074201583862,
           0.8209421634674072,
           0.757549524307251,
           0.6972971558570862,
           1
          ]
         ]
        }
       ],
       "layout": {
        "coloraxis": {
         "colorbar": {
          "title": {
           "text": "Similarity Score"
          }
         },
         "colorscale": [
          [
           0,
           "rgb(247,252,240)"
          ],
          [
           0.125,
           "rgb(224,243,219)"
          ],
          [
           0.25,
           "rgb(204,235,197)"
          ],
          [
           0.375,
           "rgb(168,221,181)"
          ],
          [
           0.5,
           "rgb(123,204,196)"
          ],
          [
           0.625,
           "rgb(78,179,211)"
          ],
          [
           0.75,
           "rgb(43,140,190)"
          ],
          [
           0.875,
           "rgb(8,104,172)"
          ],
          [
           1,
           "rgb(8,64,129)"
          ]
         ]
        },
        "height": 800,
        "hoverlabel": {
         "bgcolor": "white",
         "font": {
          "family": "Rockwell",
          "size": 16
         }
        },
        "legend": {
         "title": {
          "text": "Trend"
         }
        },
        "margin": {
         "t": 60
        },
        "showlegend": true,
        "template": {
         "data": {
          "bar": [
           {
            "error_x": {
             "color": "#2a3f5f"
            },
            "error_y": {
             "color": "#2a3f5f"
            },
            "marker": {
             "line": {
              "color": "#E5ECF6",
              "width": 0.5
             },
             "pattern": {
              "fillmode": "overlay",
              "size": 10,
              "solidity": 0.2
             }
            },
            "type": "bar"
           }
          ],
          "barpolar": [
           {
            "marker": {
             "line": {
              "color": "#E5ECF6",
              "width": 0.5
             },
             "pattern": {
              "fillmode": "overlay",
              "size": 10,
              "solidity": 0.2
             }
            },
            "type": "barpolar"
           }
          ],
          "carpet": [
           {
            "aaxis": {
             "endlinecolor": "#2a3f5f",
             "gridcolor": "white",
             "linecolor": "white",
             "minorgridcolor": "white",
             "startlinecolor": "#2a3f5f"
            },
            "baxis": {
             "endlinecolor": "#2a3f5f",
             "gridcolor": "white",
             "linecolor": "white",
             "minorgridcolor": "white",
             "startlinecolor": "#2a3f5f"
            },
            "type": "carpet"
           }
          ],
          "choropleth": [
           {
            "colorbar": {
             "outlinewidth": 0,
             "ticks": ""
            },
            "type": "choropleth"
           }
          ],
          "contour": [
           {
            "colorbar": {
             "outlinewidth": 0,
             "ticks": ""
            },
            "colorscale": [
             [
              0,
              "#0d0887"
             ],
             [
              0.1111111111111111,
              "#46039f"
             ],
             [
              0.2222222222222222,
              "#7201a8"
             ],
             [
              0.3333333333333333,
              "#9c179e"
             ],
             [
              0.4444444444444444,
              "#bd3786"
             ],
             [
              0.5555555555555556,
              "#d8576b"
             ],
             [
              0.6666666666666666,
              "#ed7953"
             ],
             [
              0.7777777777777778,
              "#fb9f3a"
             ],
             [
              0.8888888888888888,
              "#fdca26"
             ],
             [
              1,
              "#f0f921"
             ]
            ],
            "type": "contour"
           }
          ],
          "contourcarpet": [
           {
            "colorbar": {
             "outlinewidth": 0,
             "ticks": ""
            },
            "type": "contourcarpet"
           }
          ],
          "heatmap": [
           {
            "colorbar": {
             "outlinewidth": 0,
             "ticks": ""
            },
            "colorscale": [
             [
              0,
              "#0d0887"
             ],
             [
              0.1111111111111111,
              "#46039f"
             ],
             [
              0.2222222222222222,
              "#7201a8"
             ],
             [
              0.3333333333333333,
              "#9c179e"
             ],
             [
              0.4444444444444444,
              "#bd3786"
             ],
             [
              0.5555555555555556,
              "#d8576b"
             ],
             [
              0.6666666666666666,
              "#ed7953"
             ],
             [
              0.7777777777777778,
              "#fb9f3a"
             ],
             [
              0.8888888888888888,
              "#fdca26"
             ],
             [
              1,
              "#f0f921"
             ]
            ],
            "type": "heatmap"
           }
          ],
          "heatmapgl": [
           {
            "colorbar": {
             "outlinewidth": 0,
             "ticks": ""
            },
            "colorscale": [
             [
              0,
              "#0d0887"
             ],
             [
              0.1111111111111111,
              "#46039f"
             ],
             [
              0.2222222222222222,
              "#7201a8"
             ],
             [
              0.3333333333333333,
              "#9c179e"
             ],
             [
              0.4444444444444444,
              "#bd3786"
             ],
             [
              0.5555555555555556,
              "#d8576b"
             ],
             [
              0.6666666666666666,
              "#ed7953"
             ],
             [
              0.7777777777777778,
              "#fb9f3a"
             ],
             [
              0.8888888888888888,
              "#fdca26"
             ],
             [
              1,
              "#f0f921"
             ]
            ],
            "type": "heatmapgl"
           }
          ],
          "histogram": [
           {
            "marker": {
             "pattern": {
              "fillmode": "overlay",
              "size": 10,
              "solidity": 0.2
             }
            },
            "type": "histogram"
           }
          ],
          "histogram2d": [
           {
            "colorbar": {
             "outlinewidth": 0,
             "ticks": ""
            },
            "colorscale": [
             [
              0,
              "#0d0887"
             ],
             [
              0.1111111111111111,
              "#46039f"
             ],
             [
              0.2222222222222222,
              "#7201a8"
             ],
             [
              0.3333333333333333,
              "#9c179e"
             ],
             [
              0.4444444444444444,
              "#bd3786"
             ],
             [
              0.5555555555555556,
              "#d8576b"
             ],
             [
              0.6666666666666666,
              "#ed7953"
             ],
             [
              0.7777777777777778,
              "#fb9f3a"
             ],
             [
              0.8888888888888888,
              "#fdca26"
             ],
             [
              1,
              "#f0f921"
             ]
            ],
            "type": "histogram2d"
           }
          ],
          "histogram2dcontour": [
           {
            "colorbar": {
             "outlinewidth": 0,
             "ticks": ""
            },
            "colorscale": [
             [
              0,
              "#0d0887"
             ],
             [
              0.1111111111111111,
              "#46039f"
             ],
             [
              0.2222222222222222,
              "#7201a8"
             ],
             [
              0.3333333333333333,
              "#9c179e"
             ],
             [
              0.4444444444444444,
              "#bd3786"
             ],
             [
              0.5555555555555556,
              "#d8576b"
             ],
             [
              0.6666666666666666,
              "#ed7953"
             ],
             [
              0.7777777777777778,
              "#fb9f3a"
             ],
             [
              0.8888888888888888,
              "#fdca26"
             ],
             [
              1,
              "#f0f921"
             ]
            ],
            "type": "histogram2dcontour"
           }
          ],
          "mesh3d": [
           {
            "colorbar": {
             "outlinewidth": 0,
             "ticks": ""
            },
            "type": "mesh3d"
           }
          ],
          "parcoords": [
           {
            "line": {
             "colorbar": {
              "outlinewidth": 0,
              "ticks": ""
             }
            },
            "type": "parcoords"
           }
          ],
          "pie": [
           {
            "automargin": true,
            "type": "pie"
           }
          ],
          "scatter": [
           {
            "fillpattern": {
             "fillmode": "overlay",
             "size": 10,
             "solidity": 0.2
            },
            "type": "scatter"
           }
          ],
          "scatter3d": [
           {
            "line": {
             "colorbar": {
              "outlinewidth": 0,
              "ticks": ""
             }
            },
            "marker": {
             "colorbar": {
              "outlinewidth": 0,
              "ticks": ""
             }
            },
            "type": "scatter3d"
           }
          ],
          "scattercarpet": [
           {
            "marker": {
             "colorbar": {
              "outlinewidth": 0,
              "ticks": ""
             }
            },
            "type": "scattercarpet"
           }
          ],
          "scattergeo": [
           {
            "marker": {
             "colorbar": {
              "outlinewidth": 0,
              "ticks": ""
             }
            },
            "type": "scattergeo"
           }
          ],
          "scattergl": [
           {
            "marker": {
             "colorbar": {
              "outlinewidth": 0,
              "ticks": ""
             }
            },
            "type": "scattergl"
           }
          ],
          "scattermapbox": [
           {
            "marker": {
             "colorbar": {
              "outlinewidth": 0,
              "ticks": ""
             }
            },
            "type": "scattermapbox"
           }
          ],
          "scatterpolar": [
           {
            "marker": {
             "colorbar": {
              "outlinewidth": 0,
              "ticks": ""
             }
            },
            "type": "scatterpolar"
           }
          ],
          "scatterpolargl": [
           {
            "marker": {
             "colorbar": {
              "outlinewidth": 0,
              "ticks": ""
             }
            },
            "type": "scatterpolargl"
           }
          ],
          "scatterternary": [
           {
            "marker": {
             "colorbar": {
              "outlinewidth": 0,
              "ticks": ""
             }
            },
            "type": "scatterternary"
           }
          ],
          "surface": [
           {
            "colorbar": {
             "outlinewidth": 0,
             "ticks": ""
            },
            "colorscale": [
             [
              0,
              "#0d0887"
             ],
             [
              0.1111111111111111,
              "#46039f"
             ],
             [
              0.2222222222222222,
              "#7201a8"
             ],
             [
              0.3333333333333333,
              "#9c179e"
             ],
             [
              0.4444444444444444,
              "#bd3786"
             ],
             [
              0.5555555555555556,
              "#d8576b"
             ],
             [
              0.6666666666666666,
              "#ed7953"
             ],
             [
              0.7777777777777778,
              "#fb9f3a"
             ],
             [
              0.8888888888888888,
              "#fdca26"
             ],
             [
              1,
              "#f0f921"
             ]
            ],
            "type": "surface"
           }
          ],
          "table": [
           {
            "cells": {
             "fill": {
              "color": "#EBF0F8"
             },
             "line": {
              "color": "white"
             }
            },
            "header": {
             "fill": {
              "color": "#C8D4E3"
             },
             "line": {
              "color": "white"
             }
            },
            "type": "table"
           }
          ]
         },
         "layout": {
          "annotationdefaults": {
           "arrowcolor": "#2a3f5f",
           "arrowhead": 0,
           "arrowwidth": 1
          },
          "autotypenumbers": "strict",
          "coloraxis": {
           "colorbar": {
            "outlinewidth": 0,
            "ticks": ""
           }
          },
          "colorscale": {
           "diverging": [
            [
             0,
             "#8e0152"
            ],
            [
             0.1,
             "#c51b7d"
            ],
            [
             0.2,
             "#de77ae"
            ],
            [
             0.3,
             "#f1b6da"
            ],
            [
             0.4,
             "#fde0ef"
            ],
            [
             0.5,
             "#f7f7f7"
            ],
            [
             0.6,
             "#e6f5d0"
            ],
            [
             0.7,
             "#b8e186"
            ],
            [
             0.8,
             "#7fbc41"
            ],
            [
             0.9,
             "#4d9221"
            ],
            [
             1,
             "#276419"
            ]
           ],
           "sequential": [
            [
             0,
             "#0d0887"
            ],
            [
             0.1111111111111111,
             "#46039f"
            ],
            [
             0.2222222222222222,
             "#7201a8"
            ],
            [
             0.3333333333333333,
             "#9c179e"
            ],
            [
             0.4444444444444444,
             "#bd3786"
            ],
            [
             0.5555555555555556,
             "#d8576b"
            ],
            [
             0.6666666666666666,
             "#ed7953"
            ],
            [
             0.7777777777777778,
             "#fb9f3a"
            ],
            [
             0.8888888888888888,
             "#fdca26"
            ],
            [
             1,
             "#f0f921"
            ]
           ],
           "sequentialminus": [
            [
             0,
             "#0d0887"
            ],
            [
             0.1111111111111111,
             "#46039f"
            ],
            [
             0.2222222222222222,
             "#7201a8"
            ],
            [
             0.3333333333333333,
             "#9c179e"
            ],
            [
             0.4444444444444444,
             "#bd3786"
            ],
            [
             0.5555555555555556,
             "#d8576b"
            ],
            [
             0.6666666666666666,
             "#ed7953"
            ],
            [
             0.7777777777777778,
             "#fb9f3a"
            ],
            [
             0.8888888888888888,
             "#fdca26"
            ],
            [
             1,
             "#f0f921"
            ]
           ]
          },
          "colorway": [
           "#636efa",
           "#EF553B",
           "#00cc96",
           "#ab63fa",
           "#FFA15A",
           "#19d3f3",
           "#FF6692",
           "#B6E880",
           "#FF97FF",
           "#FECB52"
          ],
          "font": {
           "color": "#2a3f5f"
          },
          "geo": {
           "bgcolor": "white",
           "lakecolor": "white",
           "landcolor": "#E5ECF6",
           "showlakes": true,
           "showland": true,
           "subunitcolor": "white"
          },
          "hoverlabel": {
           "align": "left"
          },
          "hovermode": "closest",
          "mapbox": {
           "style": "light"
          },
          "paper_bgcolor": "white",
          "plot_bgcolor": "#E5ECF6",
          "polar": {
           "angularaxis": {
            "gridcolor": "white",
            "linecolor": "white",
            "ticks": ""
           },
           "bgcolor": "#E5ECF6",
           "radialaxis": {
            "gridcolor": "white",
            "linecolor": "white",
            "ticks": ""
           }
          },
          "scene": {
           "xaxis": {
            "backgroundcolor": "#E5ECF6",
            "gridcolor": "white",
            "gridwidth": 2,
            "linecolor": "white",
            "showbackground": true,
            "ticks": "",
            "zerolinecolor": "white"
           },
           "yaxis": {
            "backgroundcolor": "#E5ECF6",
            "gridcolor": "white",
            "gridwidth": 2,
            "linecolor": "white",
            "showbackground": true,
            "ticks": "",
            "zerolinecolor": "white"
           },
           "zaxis": {
            "backgroundcolor": "#E5ECF6",
            "gridcolor": "white",
            "gridwidth": 2,
            "linecolor": "white",
            "showbackground": true,
            "ticks": "",
            "zerolinecolor": "white"
           }
          },
          "shapedefaults": {
           "line": {
            "color": "#2a3f5f"
           }
          },
          "ternary": {
           "aaxis": {
            "gridcolor": "white",
            "linecolor": "white",
            "ticks": ""
           },
           "baxis": {
            "gridcolor": "white",
            "linecolor": "white",
            "ticks": ""
           },
           "bgcolor": "#E5ECF6",
           "caxis": {
            "gridcolor": "white",
            "linecolor": "white",
            "ticks": ""
           }
          },
          "title": {
           "x": 0.05
          },
          "xaxis": {
           "automargin": true,
           "gridcolor": "white",
           "linecolor": "white",
           "ticks": "",
           "title": {
            "standoff": 15
           },
           "zerolinecolor": "white",
           "zerolinewidth": 2
          },
          "yaxis": {
           "automargin": true,
           "gridcolor": "white",
           "linecolor": "white",
           "ticks": "",
           "title": {
            "standoff": 15
           },
           "zerolinecolor": "white",
           "zerolinewidth": 2
          }
         }
        },
        "title": {
         "font": {
          "color": "Black",
          "size": 22
         },
         "text": "<b>Similarity Matrix</b>",
         "x": 0.55,
         "xanchor": "center",
         "y": 0.95,
         "yanchor": "top"
        },
        "width": 800,
        "xaxis": {
         "anchor": "y",
         "constrain": "domain",
         "domain": [
          0,
          1
         ],
         "scaleanchor": "y"
        },
        "yaxis": {
         "anchor": "x",
         "autorange": "reversed",
         "constrain": "domain",
         "domain": [
          0,
          1
         ]
        }
       }
      }
     },
     "metadata": {},
     "output_type": "display_data"
    }
   ],
   "source": [
    "model.visualize_heatmap(top_n_topics=20, width=800, height=800)"
   ]
  },
  {
   "cell_type": "markdown",
   "metadata": {},
   "source": [
    "## Representation - Count Vectorizer"
   ]
  },
  {
   "cell_type": "markdown",
   "metadata": {},
   "source": [
    "**Update topics**"
   ]
  },
  {
   "cell_type": "code",
   "execution_count": 19,
   "metadata": {},
   "outputs": [],
   "source": [
    "model.update_topics(docs, vectorizer_model=vectorizer_model)"
   ]
  },
  {
   "cell_type": "markdown",
   "metadata": {},
   "source": [
    "**Get counts of the topics**"
   ]
  },
  {
   "cell_type": "code",
   "execution_count": 20,
   "metadata": {},
   "outputs": [
    {
     "data": {
      "text/html": [
       "<div>\n",
       "<style scoped>\n",
       "    .dataframe tbody tr th:only-of-type {\n",
       "        vertical-align: middle;\n",
       "    }\n",
       "\n",
       "    .dataframe tbody tr th {\n",
       "        vertical-align: top;\n",
       "    }\n",
       "\n",
       "    .dataframe thead th {\n",
       "        text-align: right;\n",
       "    }\n",
       "</style>\n",
       "<table border=\"1\" class=\"dataframe\">\n",
       "  <thead>\n",
       "    <tr style=\"text-align: right;\">\n",
       "      <th></th>\n",
       "      <th>Topic</th>\n",
       "      <th>Count</th>\n",
       "      <th>Name</th>\n",
       "      <th>Representation</th>\n",
       "      <th>Representative_Docs</th>\n",
       "    </tr>\n",
       "  </thead>\n",
       "  <tbody>\n",
       "    <tr>\n",
       "      <th>0</th>\n",
       "      <td>0</td>\n",
       "      <td>157</td>\n",
       "      <td>0_roce_století_měla_české</td>\n",
       "      <td>[roce, století, měla, české, světové, revoluce...</td>\n",
       "      <td>[Třicetiletá válka v 17. století měla tragický...</td>\n",
       "    </tr>\n",
       "    <tr>\n",
       "      <th>1</th>\n",
       "      <td>1</td>\n",
       "      <td>82</td>\n",
       "      <td>1_film_český_získal_filmová</td>\n",
       "      <td>[film, český, získal, filmová, filmy, český fi...</td>\n",
       "      <td>[Kolya získal Oscara za nejlepší cizojazyčný f...</td>\n",
       "    </tr>\n",
       "    <tr>\n",
       "      <th>2</th>\n",
       "      <td>2</td>\n",
       "      <td>75</td>\n",
       "      <td>2_sport_sportem_oblíbeným_cyklistika</td>\n",
       "      <td>[sport, sportem, oblíbeným, cyklistika, sporto...</td>\n",
       "      <td>[Cyklistika je oblíbeným sportem pro rekreační...</td>\n",
       "    </tr>\n",
       "    <tr>\n",
       "      <th>3</th>\n",
       "      <td>3</td>\n",
       "      <td>70</td>\n",
       "      <td>3_organismů_organismy_živých_dna</td>\n",
       "      <td>[organismů, organismy, živých, dna, systému, ž...</td>\n",
       "      <td>[Ekosystémy jsou vzájemně propojené sítě živýc...</td>\n",
       "    </tr>\n",
       "    <tr>\n",
       "      <th>4</th>\n",
       "      <td>4</td>\n",
       "      <td>68</td>\n",
       "      <td>4_energii_fotosyntéza_atomy_rychlosti</td>\n",
       "      <td>[energii, fotosyntéza, atomy, rychlosti, vytvá...</td>\n",
       "      <td>[Fotosyntéza je proces, při kterém rostliny vy...</td>\n",
       "    </tr>\n",
       "    <tr>\n",
       "      <th>5</th>\n",
       "      <td>5</td>\n",
       "      <td>22</td>\n",
       "      <td>5_buněk_proces_prostředí_bílé hoře</td>\n",
       "      <td>[buněk, proces, prostředí, bílé hoře, hoře, bí...</td>\n",
       "      <td>[Evoluce je proces, kterým se druhy vyvíjejí a...</td>\n",
       "    </tr>\n",
       "    <tr>\n",
       "      <th>6</th>\n",
       "      <td>6</td>\n",
       "      <td>14</td>\n",
       "      <td>6_reakce_chemické reakce_exotermické_chemické</td>\n",
       "      <td>[reakce, chemické reakce, exotermické, chemick...</td>\n",
       "      <td>[Karlova univerzita v Praze je jednou z nejsta...</td>\n",
       "    </tr>\n",
       "    <tr>\n",
       "      <th>7</th>\n",
       "      <td>7</td>\n",
       "      <td>11</td>\n",
       "      <td>7_atletika_atletika zahrnuje_skok dálky_teniso...</td>\n",
       "      <td>[atletika, atletika zahrnuje, skok dálky, teni...</td>\n",
       "      <td>[Tenisový turnaj Wimbledon je považován za nej...</td>\n",
       "    </tr>\n",
       "  </tbody>\n",
       "</table>\n",
       "</div>"
      ],
      "text/plain": [
       "   Topic  Count                                               Name  \\\n",
       "0      0    157                          0_roce_století_měla_české   \n",
       "1      1     82                        1_film_český_získal_filmová   \n",
       "2      2     75               2_sport_sportem_oblíbeným_cyklistika   \n",
       "3      3     70                   3_organismů_organismy_živých_dna   \n",
       "4      4     68              4_energii_fotosyntéza_atomy_rychlosti   \n",
       "5      5     22                 5_buněk_proces_prostředí_bílé hoře   \n",
       "6      6     14      6_reakce_chemické reakce_exotermické_chemické   \n",
       "7      7     11  7_atletika_atletika zahrnuje_skok dálky_teniso...   \n",
       "\n",
       "                                      Representation  \\\n",
       "0  [roce, století, měla, české, světové, revoluce...   \n",
       "1  [film, český, získal, filmová, filmy, český fi...   \n",
       "2  [sport, sportem, oblíbeným, cyklistika, sporto...   \n",
       "3  [organismů, organismy, živých, dna, systému, ž...   \n",
       "4  [energii, fotosyntéza, atomy, rychlosti, vytvá...   \n",
       "5  [buněk, proces, prostředí, bílé hoře, hoře, bí...   \n",
       "6  [reakce, chemické reakce, exotermické, chemick...   \n",
       "7  [atletika, atletika zahrnuje, skok dálky, teni...   \n",
       "\n",
       "                                 Representative_Docs  \n",
       "0  [Třicetiletá válka v 17. století měla tragický...  \n",
       "1  [Kolya získal Oscara za nejlepší cizojazyčný f...  \n",
       "2  [Cyklistika je oblíbeným sportem pro rekreační...  \n",
       "3  [Ekosystémy jsou vzájemně propojené sítě živýc...  \n",
       "4  [Fotosyntéza je proces, při kterém rostliny vy...  \n",
       "5  [Evoluce je proces, kterým se druhy vyvíjejí a...  \n",
       "6  [Karlova univerzita v Praze je jednou z nejsta...  \n",
       "7  [Tenisový turnaj Wimbledon je považován za nej...  "
      ]
     },
     "execution_count": 20,
     "metadata": {},
     "output_type": "execute_result"
    }
   ],
   "source": [
    "results_unique_topics = model.get_topic_info()\n",
    "results_unique_topics[:20]"
   ]
  },
  {
   "cell_type": "markdown",
   "metadata": {},
   "source": [
    "**Coherence score**"
   ]
  },
  {
   "cell_type": "code",
   "execution_count": 21,
   "metadata": {},
   "outputs": [
    {
     "data": {
      "text/plain": [
       "0.724"
      ]
     },
     "execution_count": 21,
     "metadata": {},
     "output_type": "execute_result"
    }
   ],
   "source": [
    "coherence_score(model=model, docs=docs, topics=topics)"
   ]
  },
  {
   "cell_type": "markdown",
   "metadata": {},
   "source": [
    "**Export voctorized data**"
   ]
  },
  {
   "cell_type": "code",
   "execution_count": 22,
   "metadata": {},
   "outputs": [],
   "source": [
    "# get results into a df\n",
    "results_vect = model.get_document_info(docs)\n",
    "\n",
    "# Export to Excel\n",
    "results_vect.to_excel(output_vect, index=False, engine='openpyxl')"
   ]
  },
  {
   "cell_type": "markdown",
   "metadata": {},
   "source": [
    "## Classification"
   ]
  },
  {
   "cell_type": "markdown",
   "metadata": {},
   "source": [
    "![Alt text](other/classification.jpg)"
   ]
  },
  {
   "cell_type": "code",
   "execution_count": null,
   "metadata": {},
   "outputs": [],
   "source": [
    "\"\"\" https://maartengr.github.io/BERTopic/getting_started/supervised/supervised.html \"\"\""
   ]
  },
  {
   "cell_type": "code",
   "execution_count": 57,
   "metadata": {},
   "outputs": [],
   "source": [
    "from bertopic.vectorizers import ClassTfidfTransformer\n",
    "from bertopic.dimensionality import BaseDimensionalityReduction\n",
    "from sklearn.linear_model import LogisticRegression"
   ]
  },
  {
   "cell_type": "code",
   "execution_count": 58,
   "metadata": {},
   "outputs": [
    {
     "name": "stderr",
     "output_type": "stream",
     "text": [
      "No sentence-transformers model found with name ufal/robeczech-base. Creating a new one with MEAN pooling.\n",
      "Some weights of RobertaModel were not initialized from the model checkpoint at ufal/robeczech-base and are newly initialized: ['roberta.pooler.dense.bias', 'roberta.pooler.dense.weight']\n",
      "You should probably TRAIN this model on a down-stream task to be able to use it for predictions and inference.\n"
     ]
    }
   ],
   "source": [
    "czech_model = SentenceTransformer(\"ufal/robeczech-base\")"
   ]
  },
  {
   "cell_type": "markdown",
   "metadata": {},
   "source": [
    "**Read input data and prepare them for classification**"
   ]
  },
  {
   "cell_type": "code",
   "execution_count": 59,
   "metadata": {},
   "outputs": [
    {
     "data": {
      "text/html": [
       "<div>\n",
       "<style scoped>\n",
       "    .dataframe tbody tr th:only-of-type {\n",
       "        vertical-align: middle;\n",
       "    }\n",
       "\n",
       "    .dataframe tbody tr th {\n",
       "        vertical-align: top;\n",
       "    }\n",
       "\n",
       "    .dataframe thead th {\n",
       "        text-align: right;\n",
       "    }\n",
       "</style>\n",
       "<table border=\"1\" class=\"dataframe\">\n",
       "  <thead>\n",
       "    <tr style=\"text-align: right;\">\n",
       "      <th></th>\n",
       "      <th>Document</th>\n",
       "      <th>Topic</th>\n",
       "      <th>Name</th>\n",
       "      <th>Representation</th>\n",
       "      <th>Representative_Docs</th>\n",
       "      <th>Top_n_words</th>\n",
       "      <th>Representative_document</th>\n",
       "    </tr>\n",
       "  </thead>\n",
       "  <tbody>\n",
       "    <tr>\n",
       "      <th>0</th>\n",
       "      <td>Fotbal je populárním sportem ve většině zemí.</td>\n",
       "      <td>2</td>\n",
       "      <td>2_sport_sportem_oblíbeným_energii</td>\n",
       "      <td>['sport', 'sportem', 'oblíbeným', 'energii', '...</td>\n",
       "      <td>['Fotosyntéza je proces, při kterém rostliny v...</td>\n",
       "      <td>sport - sportem - oblíbeným - energii - fotosy...</td>\n",
       "      <td>False</td>\n",
       "    </tr>\n",
       "    <tr>\n",
       "      <th>1</th>\n",
       "      <td>Tenisový turnaj Wimbledon je jedním z nejstarš...</td>\n",
       "      <td>2</td>\n",
       "      <td>2_sport_sportem_oblíbeným_energii</td>\n",
       "      <td>['sport', 'sportem', 'oblíbeným', 'energii', '...</td>\n",
       "      <td>['Fotosyntéza je proces, při kterém rostliny v...</td>\n",
       "      <td>sport - sportem - oblíbeným - energii - fotosy...</td>\n",
       "      <td>False</td>\n",
       "    </tr>\n",
       "  </tbody>\n",
       "</table>\n",
       "</div>"
      ],
      "text/plain": [
       "                                            Document  Topic  \\\n",
       "0      Fotbal je populárním sportem ve většině zemí.      2   \n",
       "1  Tenisový turnaj Wimbledon je jedním z nejstarš...      2   \n",
       "\n",
       "                                Name  \\\n",
       "0  2_sport_sportem_oblíbeným_energii   \n",
       "1  2_sport_sportem_oblíbeným_energii   \n",
       "\n",
       "                                      Representation  \\\n",
       "0  ['sport', 'sportem', 'oblíbeným', 'energii', '...   \n",
       "1  ['sport', 'sportem', 'oblíbeným', 'energii', '...   \n",
       "\n",
       "                                 Representative_Docs  \\\n",
       "0  ['Fotosyntéza je proces, při kterém rostliny v...   \n",
       "1  ['Fotosyntéza je proces, při kterém rostliny v...   \n",
       "\n",
       "                                         Top_n_words  Representative_document  \n",
       "0  sport - sportem - oblíbeným - energii - fotosy...                    False  \n",
       "1  sport - sportem - oblíbeným - energii - fotosy...                    False  "
      ]
     },
     "execution_count": 59,
     "metadata": {},
     "output_type": "execute_result"
    }
   ],
   "source": [
    "# read data\n",
    "df_input = pd.read_excel('input/data-classification.xlsx')\n",
    "df_input.head(2)"
   ]
  },
  {
   "cell_type": "code",
   "execution_count": 31,
   "metadata": {},
   "outputs": [],
   "source": [
    "docs = df_input['Document']\n",
    "y = df_input['Topic']"
   ]
  },
  {
   "cell_type": "markdown",
   "metadata": {},
   "source": [
    "**Set up model and train**"
   ]
  },
  {
   "cell_type": "code",
   "execution_count": 60,
   "metadata": {},
   "outputs": [],
   "source": [
    "# Skip over dimensionality reduction, replace cluster model with classifier,\n",
    "# and reduce frequent words while we are at it.\n",
    "empty_dimensionality_model = BaseDimensionalityReduction()\n",
    "clf = LogisticRegression()\n",
    "ctfidf_model = ClassTfidfTransformer(reduce_frequent_words=True)"
   ]
  },
  {
   "cell_type": "code",
   "execution_count": 121,
   "metadata": {},
   "outputs": [],
   "source": [
    "# Create a fully supervised BERTopic instance\n",
    "topic_model= BERTopic(\n",
    "        #language='czech',\n",
    "        embedding_model = czech_model,\n",
    "        umap_model = empty_dimensionality_model,\n",
    "        hdbscan_model = clf,\n",
    "        ctfidf_model = ctfidf_model\n",
    ")\n",
    "\n",
    "topics, probs = topic_model.fit_transform(docs, y=y)"
   ]
  },
  {
   "cell_type": "code",
   "execution_count": 122,
   "metadata": {},
   "outputs": [
    {
     "data": {
      "text/html": [
       "<div>\n",
       "<style scoped>\n",
       "    .dataframe tbody tr th:only-of-type {\n",
       "        vertical-align: middle;\n",
       "    }\n",
       "\n",
       "    .dataframe tbody tr th {\n",
       "        vertical-align: top;\n",
       "    }\n",
       "\n",
       "    .dataframe thead th {\n",
       "        text-align: right;\n",
       "    }\n",
       "</style>\n",
       "<table border=\"1\" class=\"dataframe\">\n",
       "  <thead>\n",
       "    <tr style=\"text-align: right;\">\n",
       "      <th></th>\n",
       "      <th>Topic</th>\n",
       "      <th>Count</th>\n",
       "      <th>Name</th>\n",
       "      <th>Representation</th>\n",
       "      <th>Representative_Docs</th>\n",
       "    </tr>\n",
       "  </thead>\n",
       "  <tbody>\n",
       "    <tr>\n",
       "      <th>0</th>\n",
       "      <td>0</td>\n",
       "      <td>32</td>\n",
       "      <td>0_film_filmová_filmy_režisér</td>\n",
       "      <td>[film, filmová, filmy, režisér, získal, filmu,...</td>\n",
       "      <td>[Český film \"Kolya\" získal Oskara za nejlepší ...</td>\n",
       "    </tr>\n",
       "    <tr>\n",
       "      <th>1</th>\n",
       "      <td>1</td>\n",
       "      <td>30</td>\n",
       "      <td>1_reakce_chemická_chemické_nebo</td>\n",
       "      <td>[reakce, chemická, chemické, nebo, atomy, před...</td>\n",
       "      <td>[Chemické reakce mohou být exotermické nebo en...</td>\n",
       "    </tr>\n",
       "    <tr>\n",
       "      <th>2</th>\n",
       "      <td>2</td>\n",
       "      <td>26</td>\n",
       "      <td>2_sportem_je_sport_který</td>\n",
       "      <td>[sportem, je, sport, který, pro, vyžaduje, cyk...</td>\n",
       "      <td>[Cyklistika je oblíbeným sportem pro rekreační...</td>\n",
       "    </tr>\n",
       "    <tr>\n",
       "      <th>3</th>\n",
       "      <td>3</td>\n",
       "      <td>22</td>\n",
       "      <td>3_revoluce_válka_měla_velká</td>\n",
       "      <td>[revoluce, válka, měla, velká, spojených, svou...</td>\n",
       "      <td>[Dobyvatel Alexandr Veliký rozšířil svou říši ...</td>\n",
       "    </tr>\n",
       "    <tr>\n",
       "      <th>4</th>\n",
       "      <td>4</td>\n",
       "      <td>21</td>\n",
       "      <td>4_prostředí_proces_systému_organismů</td>\n",
       "      <td>[prostředí, proces, systému, organismů, organi...</td>\n",
       "      <td>[Ekosystémy jsou vzájemně propojené sítě živýc...</td>\n",
       "    </tr>\n",
       "  </tbody>\n",
       "</table>\n",
       "</div>"
      ],
      "text/plain": [
       "   Topic  Count                                  Name  \\\n",
       "0      0     32          0_film_filmová_filmy_režisér   \n",
       "1      1     30       1_reakce_chemická_chemické_nebo   \n",
       "2      2     26              2_sportem_je_sport_který   \n",
       "3      3     22           3_revoluce_válka_měla_velká   \n",
       "4      4     21  4_prostředí_proces_systému_organismů   \n",
       "\n",
       "                                      Representation  \\\n",
       "0  [film, filmová, filmy, režisér, získal, filmu,...   \n",
       "1  [reakce, chemická, chemické, nebo, atomy, před...   \n",
       "2  [sportem, je, sport, který, pro, vyžaduje, cyk...   \n",
       "3  [revoluce, válka, měla, velká, spojených, svou...   \n",
       "4  [prostředí, proces, systému, organismů, organi...   \n",
       "\n",
       "                                 Representative_Docs  \n",
       "0  [Český film \"Kolya\" získal Oskara za nejlepší ...  \n",
       "1  [Chemické reakce mohou být exotermické nebo en...  \n",
       "2  [Cyklistika je oblíbeným sportem pro rekreační...  \n",
       "3  [Dobyvatel Alexandr Veliký rozšířil svou říši ...  \n",
       "4  [Ekosystémy jsou vzájemně propojené sítě živýc...  "
      ]
     },
     "execution_count": 122,
     "metadata": {},
     "output_type": "execute_result"
    }
   ],
   "source": [
    "topic_model.get_topic_info()"
   ]
  },
  {
   "cell_type": "markdown",
   "metadata": {},
   "source": [
    "**Assign original topic labels to the classification topics**"
   ]
  },
  {
   "cell_type": "code",
   "execution_count": 123,
   "metadata": {},
   "outputs": [],
   "source": [
    "# Map input `y` to topics\n",
    "mappings = topic_model.topic_mapper_.get_mappings()\n",
    "\n",
    "\n",
    "#y_mapped = [mappings[val] for val in y]\n",
    "#mappings = {value: data[\"target_names\"][key] for key, value in mappings.items()}"
   ]
  },
  {
   "cell_type": "code",
   "execution_count": 124,
   "metadata": {},
   "outputs": [
    {
     "data": {
      "text/plain": [
       "{0: 4, 1: 3, 2: 2, 3: 0, 4: 1}"
      ]
     },
     "execution_count": 124,
     "metadata": {},
     "output_type": "execute_result"
    }
   ],
   "source": [
    "mappings"
   ]
  },
  {
   "cell_type": "code",
   "execution_count": 125,
   "metadata": {},
   "outputs": [],
   "source": [
    "# Assign original classes to our topics\n",
    "df = topic_model.get_topic_info()"
   ]
  },
  {
   "cell_type": "code",
   "execution_count": 126,
   "metadata": {},
   "outputs": [
    {
     "data": {
      "text/html": [
       "<div>\n",
       "<style scoped>\n",
       "    .dataframe tbody tr th:only-of-type {\n",
       "        vertical-align: middle;\n",
       "    }\n",
       "\n",
       "    .dataframe tbody tr th {\n",
       "        vertical-align: top;\n",
       "    }\n",
       "\n",
       "    .dataframe thead th {\n",
       "        text-align: right;\n",
       "    }\n",
       "</style>\n",
       "<table border=\"1\" class=\"dataframe\">\n",
       "  <thead>\n",
       "    <tr style=\"text-align: right;\">\n",
       "      <th></th>\n",
       "      <th>Topic</th>\n",
       "      <th>Count</th>\n",
       "      <th>Name</th>\n",
       "      <th>Representation</th>\n",
       "      <th>Representative_Docs</th>\n",
       "      <th>Class</th>\n",
       "    </tr>\n",
       "  </thead>\n",
       "  <tbody>\n",
       "    <tr>\n",
       "      <th>0</th>\n",
       "      <td>0</td>\n",
       "      <td>32</td>\n",
       "      <td>0_film_filmová_filmy_režisér</td>\n",
       "      <td>[film, filmová, filmy, režisér, získal, filmu,...</td>\n",
       "      <td>[Český film \"Kolya\" získal Oskara za nejlepší ...</td>\n",
       "      <td>4</td>\n",
       "    </tr>\n",
       "    <tr>\n",
       "      <th>1</th>\n",
       "      <td>1</td>\n",
       "      <td>30</td>\n",
       "      <td>1_reakce_chemická_chemické_nebo</td>\n",
       "      <td>[reakce, chemická, chemické, nebo, atomy, před...</td>\n",
       "      <td>[Chemické reakce mohou být exotermické nebo en...</td>\n",
       "      <td>3</td>\n",
       "    </tr>\n",
       "    <tr>\n",
       "      <th>2</th>\n",
       "      <td>2</td>\n",
       "      <td>26</td>\n",
       "      <td>2_sportem_je_sport_který</td>\n",
       "      <td>[sportem, je, sport, který, pro, vyžaduje, cyk...</td>\n",
       "      <td>[Cyklistika je oblíbeným sportem pro rekreační...</td>\n",
       "      <td>2</td>\n",
       "    </tr>\n",
       "    <tr>\n",
       "      <th>3</th>\n",
       "      <td>3</td>\n",
       "      <td>22</td>\n",
       "      <td>3_revoluce_válka_měla_velká</td>\n",
       "      <td>[revoluce, válka, měla, velká, spojených, svou...</td>\n",
       "      <td>[Dobyvatel Alexandr Veliký rozšířil svou říši ...</td>\n",
       "      <td>0</td>\n",
       "    </tr>\n",
       "    <tr>\n",
       "      <th>4</th>\n",
       "      <td>4</td>\n",
       "      <td>21</td>\n",
       "      <td>4_prostředí_proces_systému_organismů</td>\n",
       "      <td>[prostředí, proces, systému, organismů, organi...</td>\n",
       "      <td>[Ekosystémy jsou vzájemně propojené sítě živýc...</td>\n",
       "      <td>1</td>\n",
       "    </tr>\n",
       "  </tbody>\n",
       "</table>\n",
       "</div>"
      ],
      "text/plain": [
       "   Topic  Count                                  Name  \\\n",
       "0      0     32          0_film_filmová_filmy_režisér   \n",
       "1      1     30       1_reakce_chemická_chemické_nebo   \n",
       "2      2     26              2_sportem_je_sport_který   \n",
       "3      3     22           3_revoluce_válka_měla_velká   \n",
       "4      4     21  4_prostředí_proces_systému_organismů   \n",
       "\n",
       "                                      Representation  \\\n",
       "0  [film, filmová, filmy, režisér, získal, filmu,...   \n",
       "1  [reakce, chemická, chemické, nebo, atomy, před...   \n",
       "2  [sportem, je, sport, který, pro, vyžaduje, cyk...   \n",
       "3  [revoluce, válka, měla, velká, spojených, svou...   \n",
       "4  [prostředí, proces, systému, organismů, organi...   \n",
       "\n",
       "                                 Representative_Docs  Class  \n",
       "0  [Český film \"Kolya\" získal Oskara za nejlepší ...      4  \n",
       "1  [Chemické reakce mohou být exotermické nebo en...      3  \n",
       "2  [Cyklistika je oblíbeným sportem pro rekreační...      2  \n",
       "3  [Dobyvatel Alexandr Veliký rozšířil svou říši ...      0  \n",
       "4  [Ekosystémy jsou vzájemně propojené sítě živýc...      1  "
      ]
     },
     "execution_count": 126,
     "metadata": {},
     "output_type": "execute_result"
    }
   ],
   "source": [
    "df[\"Class\"] = df.Topic.map(mappings)\n",
    "df"
   ]
  },
  {
   "cell_type": "markdown",
   "metadata": {},
   "source": [
    "**Define unlabeled documents**"
   ]
  },
  {
   "cell_type": "code",
   "execution_count": 139,
   "metadata": {},
   "outputs": [],
   "source": [
    "new_docs = [\n",
    "            'Revoluce byla v roce 1852', \n",
    "            'Chemická reakce je exotermni',\n",
    "            'Buňky jsou v biologii velice známé',\n",
    "            'Historie se opakuje v podobě válek a bitev',\n",
    "            'Hokej je krásný sport',\n",
    "            'Filmový festival je o zajímavých filmech a hercích',\n",
    "            'Napoleon Bonaparte prohrál v bitvě u Waterloo'\n",
    "            ]"
   ]
  },
  {
   "cell_type": "markdown",
   "metadata": {},
   "source": [
    "**Run the classificatio on new data**"
   ]
  },
  {
   "cell_type": "code",
   "execution_count": 140,
   "metadata": {},
   "outputs": [],
   "source": [
    "topic, _ = topic_model.transform(new_docs)\n"
   ]
  },
  {
   "cell_type": "code",
   "execution_count": 141,
   "metadata": {},
   "outputs": [
    {
     "data": {
      "text/plain": [
       "[3, 1, 4, 3, 2, 0, 3]"
      ]
     },
     "execution_count": 141,
     "metadata": {},
     "output_type": "execute_result"
    }
   ],
   "source": [
    "topic"
   ]
  },
  {
   "cell_type": "markdown",
   "metadata": {},
   "source": [
    "**Write the results into a df**"
   ]
  },
  {
   "cell_type": "code",
   "execution_count": 142,
   "metadata": {},
   "outputs": [
    {
     "data": {
      "text/html": [
       "<div>\n",
       "<style scoped>\n",
       "    .dataframe tbody tr th:only-of-type {\n",
       "        vertical-align: middle;\n",
       "    }\n",
       "\n",
       "    .dataframe tbody tr th {\n",
       "        vertical-align: top;\n",
       "    }\n",
       "\n",
       "    .dataframe thead th {\n",
       "        text-align: right;\n",
       "    }\n",
       "</style>\n",
       "<table border=\"1\" class=\"dataframe\">\n",
       "  <thead>\n",
       "    <tr style=\"text-align: right;\">\n",
       "      <th></th>\n",
       "      <th>original sentence</th>\n",
       "      <th>topic number</th>\n",
       "      <th>topic info</th>\n",
       "    </tr>\n",
       "  </thead>\n",
       "  <tbody>\n",
       "    <tr>\n",
       "      <th>0</th>\n",
       "      <td>Revoluce byla v roce 1852</td>\n",
       "      <td>3.0</td>\n",
       "      <td>[('revoluce', 0.5507027873656173), ('válka', 0...</td>\n",
       "    </tr>\n",
       "    <tr>\n",
       "      <th>1</th>\n",
       "      <td>Chemická reakce je exotermni</td>\n",
       "      <td>1.0</td>\n",
       "      <td>[('reakce', 0.6109700011845425), ('chemická', ...</td>\n",
       "    </tr>\n",
       "    <tr>\n",
       "      <th>2</th>\n",
       "      <td>Buňky jsou v biologii velice známé</td>\n",
       "      <td>4.0</td>\n",
       "      <td>[('prostředí', 0.6132919248148784), ('proces',...</td>\n",
       "    </tr>\n",
       "    <tr>\n",
       "      <th>3</th>\n",
       "      <td>Historie se opakuje v podobě válek a bitev</td>\n",
       "      <td>3.0</td>\n",
       "      <td>[('revoluce', 0.5507027873656173), ('válka', 0...</td>\n",
       "    </tr>\n",
       "    <tr>\n",
       "      <th>4</th>\n",
       "      <td>Hokej je krásný sport</td>\n",
       "      <td>2.0</td>\n",
       "      <td>[('sportem', 0.6327541567889825), ('je', 0.605...</td>\n",
       "    </tr>\n",
       "    <tr>\n",
       "      <th>5</th>\n",
       "      <td>Filmový festival je o zajímavých filmech a her...</td>\n",
       "      <td>0.0</td>\n",
       "      <td>[('film', 0.5921687617146105), ('filmová', 0.5...</td>\n",
       "    </tr>\n",
       "    <tr>\n",
       "      <th>6</th>\n",
       "      <td>Napoleon Bonaparte prohrál v bitvě u Waterloo</td>\n",
       "      <td>3.0</td>\n",
       "      <td>[('revoluce', 0.5507027873656173), ('válka', 0...</td>\n",
       "    </tr>\n",
       "  </tbody>\n",
       "</table>\n",
       "</div>"
      ],
      "text/plain": [
       "                                   original sentence  topic number  \\\n",
       "0                          Revoluce byla v roce 1852           3.0   \n",
       "1                       Chemická reakce je exotermni           1.0   \n",
       "2                 Buňky jsou v biologii velice známé           4.0   \n",
       "3         Historie se opakuje v podobě válek a bitev           3.0   \n",
       "4                              Hokej je krásný sport           2.0   \n",
       "5  Filmový festival je o zajímavých filmech a her...           0.0   \n",
       "6      Napoleon Bonaparte prohrál v bitvě u Waterloo           3.0   \n",
       "\n",
       "                                          topic info  \n",
       "0  [('revoluce', 0.5507027873656173), ('válka', 0...  \n",
       "1  [('reakce', 0.6109700011845425), ('chemická', ...  \n",
       "2  [('prostředí', 0.6132919248148784), ('proces',...  \n",
       "3  [('revoluce', 0.5507027873656173), ('válka', 0...  \n",
       "4  [('sportem', 0.6327541567889825), ('je', 0.605...  \n",
       "5  [('film', 0.5921687617146105), ('filmová', 0.5...  \n",
       "6  [('revoluce', 0.5507027873656173), ('válka', 0...  "
      ]
     },
     "execution_count": 142,
     "metadata": {},
     "output_type": "execute_result"
    }
   ],
   "source": [
    "df_results = pd.DataFrame()\n",
    "index = 0\n",
    "\n",
    "# Get information about the topics\n",
    "for topic_id in topic:\n",
    "    topic_info = topic_model.get_topic(topic_id)\n",
    "\n",
    "    transformed_data = str(topic_info)\n",
    "\n",
    "    df_results.loc[index, 'original sentence'] = new_docs[index]\n",
    "    df_results.loc[index, 'topic number'] = topic_id\n",
    "    df_results.loc[index, 'topic info'] = transformed_data\n",
    "    \n",
    "    index += 1\n",
    "\n",
    "df_results.head(10)"
   ]
  },
  {
   "cell_type": "markdown",
   "metadata": {},
   "source": [
    "## Topic reduction"
   ]
  },
  {
   "cell_type": "code",
   "execution_count": null,
   "metadata": {},
   "outputs": [],
   "source": [
    "# manually merge topics\n",
    "topics_to_merge = [(7, 4),\n",
    "                   (2, 5, 6)\n",
    "                   ]\n",
    "\n",
    "\n",
    "model.merge_topics(docs, topics_to_merge)"
   ]
  },
  {
   "cell_type": "code",
   "execution_count": null,
   "metadata": {},
   "outputs": [],
   "source": [
    "\"\"\" # Further reduce topics\n",
    "new_model = model.reduce_topics(docs, nr_topics=5) \"\"\""
   ]
  },
  {
   "cell_type": "code",
   "execution_count": null,
   "metadata": {},
   "outputs": [
    {
     "data": {
      "text/html": [
       "<div>\n",
       "<style scoped>\n",
       "    .dataframe tbody tr th:only-of-type {\n",
       "        vertical-align: middle;\n",
       "    }\n",
       "\n",
       "    .dataframe tbody tr th {\n",
       "        vertical-align: top;\n",
       "    }\n",
       "\n",
       "    .dataframe thead th {\n",
       "        text-align: right;\n",
       "    }\n",
       "</style>\n",
       "<table border=\"1\" class=\"dataframe\">\n",
       "  <thead>\n",
       "    <tr style=\"text-align: right;\">\n",
       "      <th></th>\n",
       "      <th>Topic</th>\n",
       "      <th>Count</th>\n",
       "      <th>Name</th>\n",
       "      <th>Representation</th>\n",
       "      <th>Representative_Docs</th>\n",
       "    </tr>\n",
       "  </thead>\n",
       "  <tbody>\n",
       "    <tr>\n",
       "      <th>0</th>\n",
       "      <td>0</td>\n",
       "      <td>134</td>\n",
       "      <td>0_organismů_organismy_zkoumá_živých</td>\n",
       "      <td>[organismů, organismy, zkoumá, živých, dna, pr...</td>\n",
       "      <td>[Karlova univerzita v Praze byla založena v ro...</td>\n",
       "    </tr>\n",
       "    <tr>\n",
       "      <th>1</th>\n",
       "      <td>1</td>\n",
       "      <td>118</td>\n",
       "      <td>1_roce_století_české_měla</td>\n",
       "      <td>[roce, století, české, měla, světové, revoluce...</td>\n",
       "      <td>[Česká republika vstoupila do Evropské unie v ...</td>\n",
       "    </tr>\n",
       "    <tr>\n",
       "      <th>2</th>\n",
       "      <td>2</td>\n",
       "      <td>102</td>\n",
       "      <td>2_sport_sportem_oblíbeným_energii</td>\n",
       "      <td>[sport, sportem, oblíbeným, energii, fotosynté...</td>\n",
       "      <td>[Fotosyntéza je proces, při kterém rostliny vy...</td>\n",
       "    </tr>\n",
       "    <tr>\n",
       "      <th>3</th>\n",
       "      <td>3</td>\n",
       "      <td>82</td>\n",
       "      <td>3_film_český_získal_filmová</td>\n",
       "      <td>[film, český, získal, filmová, filmy, český fi...</td>\n",
       "      <td>[Kolya získal Oscara za nejlepší cizojazyčný f...</td>\n",
       "    </tr>\n",
       "    <tr>\n",
       "      <th>4</th>\n",
       "      <td>4</td>\n",
       "      <td>63</td>\n",
       "      <td>4_reakce_chemická_rychlosti_atomy</td>\n",
       "      <td>[reakce, chemická, rychlosti, atomy, molekuly,...</td>\n",
       "      <td>[Chemická rovnováha nastává, když rychlosti př...</td>\n",
       "    </tr>\n",
       "  </tbody>\n",
       "</table>\n",
       "</div>"
      ],
      "text/plain": [
       "   Topic  Count                                 Name  \\\n",
       "0      0    134  0_organismů_organismy_zkoumá_živých   \n",
       "1      1    118            1_roce_století_české_měla   \n",
       "2      2    102    2_sport_sportem_oblíbeným_energii   \n",
       "3      3     82          3_film_český_získal_filmová   \n",
       "4      4     63    4_reakce_chemická_rychlosti_atomy   \n",
       "\n",
       "                                      Representation  \\\n",
       "0  [organismů, organismy, zkoumá, živých, dna, pr...   \n",
       "1  [roce, století, české, měla, světové, revoluce...   \n",
       "2  [sport, sportem, oblíbeným, energii, fotosynté...   \n",
       "3  [film, český, získal, filmová, filmy, český fi...   \n",
       "4  [reakce, chemická, rychlosti, atomy, molekuly,...   \n",
       "\n",
       "                                 Representative_Docs  \n",
       "0  [Karlova univerzita v Praze byla založena v ro...  \n",
       "1  [Česká republika vstoupila do Evropské unie v ...  \n",
       "2  [Fotosyntéza je proces, při kterém rostliny vy...  \n",
       "3  [Kolya získal Oscara za nejlepší cizojazyčný f...  \n",
       "4  [Chemická rovnováha nastává, když rychlosti př...  "
      ]
     },
     "execution_count": 139,
     "metadata": {},
     "output_type": "execute_result"
    }
   ],
   "source": [
    "model.get_topic_info()"
   ]
  },
  {
   "cell_type": "code",
   "execution_count": null,
   "metadata": {},
   "outputs": [
    {
     "data": {
      "text/html": [
       "<div>\n",
       "<style scoped>\n",
       "    .dataframe tbody tr th:only-of-type {\n",
       "        vertical-align: middle;\n",
       "    }\n",
       "\n",
       "    .dataframe tbody tr th {\n",
       "        vertical-align: top;\n",
       "    }\n",
       "\n",
       "    .dataframe thead th {\n",
       "        text-align: right;\n",
       "    }\n",
       "</style>\n",
       "<table border=\"1\" class=\"dataframe\">\n",
       "  <thead>\n",
       "    <tr style=\"text-align: right;\">\n",
       "      <th></th>\n",
       "      <th>Document</th>\n",
       "      <th>Topic</th>\n",
       "      <th>Name</th>\n",
       "      <th>Representation</th>\n",
       "      <th>Representative_Docs</th>\n",
       "      <th>Top_n_words</th>\n",
       "      <th>Representative_document</th>\n",
       "    </tr>\n",
       "  </thead>\n",
       "  <tbody>\n",
       "    <tr>\n",
       "      <th>0</th>\n",
       "      <td>Fotbal je populárním sportem ve většině zemí.</td>\n",
       "      <td>2</td>\n",
       "      <td>2_sport_sportem_oblíbeným_energii</td>\n",
       "      <td>[sport, sportem, oblíbeným, energii, fotosynté...</td>\n",
       "      <td>[Fotosyntéza je proces, při kterém rostliny vy...</td>\n",
       "      <td>sport - sportem - oblíbeným - energii - fotosy...</td>\n",
       "      <td>False</td>\n",
       "    </tr>\n",
       "    <tr>\n",
       "      <th>1</th>\n",
       "      <td>Tenisový turnaj Wimbledon je jedním z nejstarš...</td>\n",
       "      <td>2</td>\n",
       "      <td>2_sport_sportem_oblíbeným_energii</td>\n",
       "      <td>[sport, sportem, oblíbeným, energii, fotosynté...</td>\n",
       "      <td>[Fotosyntéza je proces, při kterém rostliny vy...</td>\n",
       "      <td>sport - sportem - oblíbeným - energii - fotosy...</td>\n",
       "      <td>False</td>\n",
       "    </tr>\n",
       "    <tr>\n",
       "      <th>2</th>\n",
       "      <td>Běhání je skválý způsob, jak si udržet kondici.</td>\n",
       "      <td>2</td>\n",
       "      <td>2_sport_sportem_oblíbeným_energii</td>\n",
       "      <td>[sport, sportem, oblíbeným, energii, fotosynté...</td>\n",
       "      <td>[Fotosyntéza je proces, při kterém rostliny vy...</td>\n",
       "      <td>sport - sportem - oblíbeným - energii - fotosy...</td>\n",
       "      <td>False</td>\n",
       "    </tr>\n",
       "    <tr>\n",
       "      <th>3</th>\n",
       "      <td>Hokejový zápas může být velmi napínavý, zejmén...</td>\n",
       "      <td>4</td>\n",
       "      <td>4_reakce_chemická_rychlosti_atomy</td>\n",
       "      <td>[reakce, chemická, rychlosti, atomy, molekuly,...</td>\n",
       "      <td>[Chemická rovnováha nastává, když rychlosti př...</td>\n",
       "      <td>reakce - chemická - rychlosti - atomy - moleku...</td>\n",
       "      <td>False</td>\n",
       "    </tr>\n",
       "    <tr>\n",
       "      <th>4</th>\n",
       "      <td>Plavání je vynikající cvičení pro posílení sva...</td>\n",
       "      <td>2</td>\n",
       "      <td>2_sport_sportem_oblíbeným_energii</td>\n",
       "      <td>[sport, sportem, oblíbeným, energii, fotosynté...</td>\n",
       "      <td>[Fotosyntéza je proces, při kterém rostliny vy...</td>\n",
       "      <td>sport - sportem - oblíbeným - energii - fotosy...</td>\n",
       "      <td>False</td>\n",
       "    </tr>\n",
       "    <tr>\n",
       "      <th>...</th>\n",
       "      <td>...</td>\n",
       "      <td>...</td>\n",
       "      <td>...</td>\n",
       "      <td>...</td>\n",
       "      <td>...</td>\n",
       "      <td>...</td>\n",
       "      <td>...</td>\n",
       "    </tr>\n",
       "    <tr>\n",
       "      <th>95</th>\n",
       "      <td>Chemická analýza může odhalit složení látek a ...</td>\n",
       "      <td>0</td>\n",
       "      <td>0_organismů_organismy_zkoumá_živých</td>\n",
       "      <td>[organismů, organismy, zkoumá, živých, dna, pr...</td>\n",
       "      <td>[Karlova univerzita v Praze byla založena v ro...</td>\n",
       "      <td>organismů - organismy - zkoumá - živých - dna ...</td>\n",
       "      <td>False</td>\n",
       "    </tr>\n",
       "    <tr>\n",
       "      <th>96</th>\n",
       "      <td>Rovnováha v chemii se vyskytuje, když rychlost...</td>\n",
       "      <td>4</td>\n",
       "      <td>4_reakce_chemická_rychlosti_atomy</td>\n",
       "      <td>[reakce, chemická, rychlosti, atomy, molekuly,...</td>\n",
       "      <td>[Chemická rovnováha nastává, když rychlosti př...</td>\n",
       "      <td>reakce - chemická - rychlosti - atomy - moleku...</td>\n",
       "      <td>False</td>\n",
       "    </tr>\n",
       "    <tr>\n",
       "      <th>97</th>\n",
       "      <td>Exotermické reakce uvolňují energii do okolí v...</td>\n",
       "      <td>4</td>\n",
       "      <td>4_reakce_chemická_rychlosti_atomy</td>\n",
       "      <td>[reakce, chemická, rychlosti, atomy, molekuly,...</td>\n",
       "      <td>[Chemická rovnováha nastává, když rychlosti př...</td>\n",
       "      <td>reakce - chemická - rychlosti - atomy - moleku...</td>\n",
       "      <td>False</td>\n",
       "    </tr>\n",
       "    <tr>\n",
       "      <th>98</th>\n",
       "      <td>Chirální molekuly mají zrcadlově symetrické ve...</td>\n",
       "      <td>4</td>\n",
       "      <td>4_reakce_chemická_rychlosti_atomy</td>\n",
       "      <td>[reakce, chemická, rychlosti, atomy, molekuly,...</td>\n",
       "      <td>[Chemická rovnováha nastává, když rychlosti př...</td>\n",
       "      <td>reakce - chemická - rychlosti - atomy - moleku...</td>\n",
       "      <td>False</td>\n",
       "    </tr>\n",
       "    <tr>\n",
       "      <th>99</th>\n",
       "      <td>Jízda na koni je sport, který spojuje dovednos...</td>\n",
       "      <td>2</td>\n",
       "      <td>2_sport_sportem_oblíbeným_energii</td>\n",
       "      <td>[sport, sportem, oblíbeným, energii, fotosynté...</td>\n",
       "      <td>[Fotosyntéza je proces, při kterém rostliny vy...</td>\n",
       "      <td>sport - sportem - oblíbeným - energii - fotosy...</td>\n",
       "      <td>False</td>\n",
       "    </tr>\n",
       "  </tbody>\n",
       "</table>\n",
       "<p>100 rows × 7 columns</p>\n",
       "</div>"
      ],
      "text/plain": [
       "                                             Document  Topic  \\\n",
       "0       Fotbal je populárním sportem ve většině zemí.      2   \n",
       "1   Tenisový turnaj Wimbledon je jedním z nejstarš...      2   \n",
       "2     Běhání je skválý způsob, jak si udržet kondici.      2   \n",
       "3   Hokejový zápas může být velmi napínavý, zejmén...      4   \n",
       "4   Plavání je vynikající cvičení pro posílení sva...      2   \n",
       "..                                                ...    ...   \n",
       "95  Chemická analýza může odhalit složení látek a ...      0   \n",
       "96  Rovnováha v chemii se vyskytuje, když rychlost...      4   \n",
       "97  Exotermické reakce uvolňují energii do okolí v...      4   \n",
       "98  Chirální molekuly mají zrcadlově symetrické ve...      4   \n",
       "99  Jízda na koni je sport, který spojuje dovednos...      2   \n",
       "\n",
       "                                   Name  \\\n",
       "0     2_sport_sportem_oblíbeným_energii   \n",
       "1     2_sport_sportem_oblíbeným_energii   \n",
       "2     2_sport_sportem_oblíbeným_energii   \n",
       "3     4_reakce_chemická_rychlosti_atomy   \n",
       "4     2_sport_sportem_oblíbeným_energii   \n",
       "..                                  ...   \n",
       "95  0_organismů_organismy_zkoumá_živých   \n",
       "96    4_reakce_chemická_rychlosti_atomy   \n",
       "97    4_reakce_chemická_rychlosti_atomy   \n",
       "98    4_reakce_chemická_rychlosti_atomy   \n",
       "99    2_sport_sportem_oblíbeným_energii   \n",
       "\n",
       "                                       Representation  \\\n",
       "0   [sport, sportem, oblíbeným, energii, fotosynté...   \n",
       "1   [sport, sportem, oblíbeným, energii, fotosynté...   \n",
       "2   [sport, sportem, oblíbeným, energii, fotosynté...   \n",
       "3   [reakce, chemická, rychlosti, atomy, molekuly,...   \n",
       "4   [sport, sportem, oblíbeným, energii, fotosynté...   \n",
       "..                                                ...   \n",
       "95  [organismů, organismy, zkoumá, živých, dna, pr...   \n",
       "96  [reakce, chemická, rychlosti, atomy, molekuly,...   \n",
       "97  [reakce, chemická, rychlosti, atomy, molekuly,...   \n",
       "98  [reakce, chemická, rychlosti, atomy, molekuly,...   \n",
       "99  [sport, sportem, oblíbeným, energii, fotosynté...   \n",
       "\n",
       "                                  Representative_Docs  \\\n",
       "0   [Fotosyntéza je proces, při kterém rostliny vy...   \n",
       "1   [Fotosyntéza je proces, při kterém rostliny vy...   \n",
       "2   [Fotosyntéza je proces, při kterém rostliny vy...   \n",
       "3   [Chemická rovnováha nastává, když rychlosti př...   \n",
       "4   [Fotosyntéza je proces, při kterém rostliny vy...   \n",
       "..                                                ...   \n",
       "95  [Karlova univerzita v Praze byla založena v ro...   \n",
       "96  [Chemická rovnováha nastává, když rychlosti př...   \n",
       "97  [Chemická rovnováha nastává, když rychlosti př...   \n",
       "98  [Chemická rovnováha nastává, když rychlosti př...   \n",
       "99  [Fotosyntéza je proces, při kterém rostliny vy...   \n",
       "\n",
       "                                          Top_n_words  Representative_document  \n",
       "0   sport - sportem - oblíbeným - energii - fotosy...                    False  \n",
       "1   sport - sportem - oblíbeným - energii - fotosy...                    False  \n",
       "2   sport - sportem - oblíbeným - energii - fotosy...                    False  \n",
       "3   reakce - chemická - rychlosti - atomy - moleku...                    False  \n",
       "4   sport - sportem - oblíbeným - energii - fotosy...                    False  \n",
       "..                                                ...                      ...  \n",
       "95  organismů - organismy - zkoumá - živých - dna ...                    False  \n",
       "96  reakce - chemická - rychlosti - atomy - moleku...                    False  \n",
       "97  reakce - chemická - rychlosti - atomy - moleku...                    False  \n",
       "98  reakce - chemická - rychlosti - atomy - moleku...                    False  \n",
       "99  sport - sportem - oblíbeným - energii - fotosy...                    False  \n",
       "\n",
       "[100 rows x 7 columns]"
      ]
     },
     "execution_count": 140,
     "metadata": {},
     "output_type": "execute_result"
    }
   ],
   "source": [
    "new_results=model.get_document_info(docs)\n",
    "new_results.head(100)"
   ]
  },
  {
   "cell_type": "code",
   "execution_count": null,
   "metadata": {},
   "outputs": [],
   "source": [
    "new_results.to_excel(output_reduced, index=False, engine='openpyxl')"
   ]
  },
  {
   "cell_type": "markdown",
   "metadata": {},
   "source": [
    "## Translate"
   ]
  },
  {
   "cell_type": "code",
   "execution_count": null,
   "metadata": {},
   "outputs": [
    {
     "data": {
      "text/plain": [
       "' from deep_translator import GoogleTranslator\\n\\ndef translate_sentences(sentences, source_language=\\'cs\\', target_language=\\'en\\'):\\n    translated_sentences = []\\n    \\n    for sentence in sentences:\\n        translated = GoogleTranslator(source=source_language, target=target_language).translate(sentence)\\n        translated_sentences.append(translated)\\n    \\n    return translated_sentences\\n\\n# Example usage\\nsentences_to_translate = [\\n    \\'snažím se dovolat uz minut\\',\\n    \\'ahoj jak se mas\\',\\n    \\'mam se dobre a ty?\\'\\n]\\n\\nsource_language = \\'cs\\'\\ntarget_language = \\'en\\'\\n\\ntranslated_sentences = translate_sentences(sentences_to_translate, source_language, target_language)\\n\\n# Print the original and translated sentences\\nfor original, translated in zip(sentences_to_translate, translated_sentences):\\n    print(f\"Original: {original}\")\\n    print(f\"Translated: {translated}\")\\n    print() '"
      ]
     },
     "execution_count": 161,
     "metadata": {},
     "output_type": "execute_result"
    }
   ],
   "source": [
    "\"\"\" from deep_translator import GoogleTranslator\n",
    "\n",
    "def translate_sentences(sentences, source_language='cs', target_language='en'):\n",
    "    translated_sentences = []\n",
    "    \n",
    "    for sentence in sentences:\n",
    "        translated = GoogleTranslator(source=source_language, target=target_language).translate(sentence)\n",
    "        translated_sentences.append(translated)\n",
    "    \n",
    "    return translated_sentences\n",
    "\n",
    "# Example usage\n",
    "sentences_to_translate = [\n",
    "    'snažím se dovolat uz minut',\n",
    "    'ahoj jak se mas',\n",
    "    'mam se dobre a ty?'\n",
    "]\n",
    "\n",
    "source_language = 'cs'\n",
    "target_language = 'en'\n",
    "\n",
    "translated_sentences = translate_sentences(sentences_to_translate, source_language, target_language)\n",
    "\n",
    "# Print the original and translated sentences\n",
    "for original, translated in zip(sentences_to_translate, translated_sentences):\n",
    "    print(f\"Original: {original}\")\n",
    "    print(f\"Translated: {translated}\")\n",
    "    print() \"\"\""
   ]
  }
 ],
 "metadata": {
  "kernelspec": {
   "display_name": "venv-sRlQ1h_2",
   "language": "python",
   "name": "python3"
  },
  "language_info": {
   "codemirror_mode": {
    "name": "ipython",
    "version": 3
   },
   "file_extension": ".py",
   "mimetype": "text/x-python",
   "name": "python",
   "nbconvert_exporter": "python",
   "pygments_lexer": "ipython3",
   "version": "3.10.10"
  }
 },
 "nbformat": 4,
 "nbformat_minor": 2
}
