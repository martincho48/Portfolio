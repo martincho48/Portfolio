{
 "cells": [
  {
   "cell_type": "markdown",
   "metadata": {},
   "source": [
    "## Preprocessing"
   ]
  },
  {
   "cell_type": "markdown",
   "metadata": {},
   "source": [
    "**Interesting links**"
   ]
  },
  {
   "cell_type": "markdown",
   "metadata": {},
   "source": [
    "https://medium.com/@cd_24/bertopic-fine-tune-parameters-76c3377016fb"
   ]
  },
  {
   "cell_type": "markdown",
   "metadata": {},
   "source": [
    "**Import Libraries**"
   ]
  },
  {
   "cell_type": "code",
   "execution_count": 1,
   "metadata": {},
   "outputs": [],
   "source": [
    "from bertopic import BERTopic\n",
    "from hdbscan import HDBSCAN\n",
    "from sklearn.cluster import KMeans\n",
    "from umap import UMAP\n",
    "\n",
    "from sklearn.feature_extraction.text import CountVectorizer\n",
    "from sentence_transformers import SentenceTransformer\n",
    "from transformers import AutoModel, AutoTokenizer\n",
    "\n",
    "\n",
    "import pandas as pd\n",
    "import openpyxl"
   ]
  },
  {
   "cell_type": "markdown",
   "metadata": {},
   "source": [
    "**Inputs**"
   ]
  },
  {
   "cell_type": "code",
   "execution_count": 2,
   "metadata": {},
   "outputs": [],
   "source": [
    "# choose from 'multi or 'seznam'\n",
    "model_type = 'multi'\n",
    "\n",
    "# choose clustering method: 'k-meand' 'db-scan'\n",
    "cluster_type = 'k-means'\n",
    "\n",
    "file_name = 'data_sport_history_chemistry_film_biology.csv'\n",
    "stop_words = 'input/stop_words_czech.txt'\n",
    "\n",
    "\n",
    "output_vect = f'output/results-vectorized-{model_type}-{cluster_type}.xlsx'\n",
    "output_reduced = f'output/results-reduced-{model_type}-{cluster_type}.xlsx'"
   ]
  },
  {
   "cell_type": "markdown",
   "metadata": {},
   "source": [
    "**Load data**"
   ]
  },
  {
   "cell_type": "code",
   "execution_count": 3,
   "metadata": {},
   "outputs": [
    {
     "data": {
      "text/html": [
       "<div>\n",
       "<style scoped>\n",
       "    .dataframe tbody tr th:only-of-type {\n",
       "        vertical-align: middle;\n",
       "    }\n",
       "\n",
       "    .dataframe tbody tr th {\n",
       "        vertical-align: top;\n",
       "    }\n",
       "\n",
       "    .dataframe thead th {\n",
       "        text-align: right;\n",
       "    }\n",
       "</style>\n",
       "<table border=\"1\" class=\"dataframe\">\n",
       "  <thead>\n",
       "    <tr style=\"text-align: right;\">\n",
       "      <th></th>\n",
       "      <th>sentences</th>\n",
       "    </tr>\n",
       "  </thead>\n",
       "  <tbody>\n",
       "    <tr>\n",
       "      <th>0</th>\n",
       "      <td>Fotbal je populárním sportem ve většině zemí.</td>\n",
       "    </tr>\n",
       "    <tr>\n",
       "      <th>1</th>\n",
       "      <td>Tenisový turnaj Wimbledon je jedním z nejstarš...</td>\n",
       "    </tr>\n",
       "    <tr>\n",
       "      <th>2</th>\n",
       "      <td>Běhání je skválý způsob, jak si udržet kondici.</td>\n",
       "    </tr>\n",
       "    <tr>\n",
       "      <th>3</th>\n",
       "      <td>Hokejový zápas může být velmi napínavý, zejmén...</td>\n",
       "    </tr>\n",
       "    <tr>\n",
       "      <th>4</th>\n",
       "      <td>Plavání je vynikající cvičení pro posílení sva...</td>\n",
       "    </tr>\n",
       "  </tbody>\n",
       "</table>\n",
       "</div>"
      ],
      "text/plain": [
       "                                           sentences\n",
       "0      Fotbal je populárním sportem ve většině zemí.\n",
       "1  Tenisový turnaj Wimbledon je jedním z nejstarš...\n",
       "2    Běhání je skválý způsob, jak si udržet kondici.\n",
       "3  Hokejový zápas může být velmi napínavý, zejmén...\n",
       "4  Plavání je vynikající cvičení pro posílení sva..."
      ]
     },
     "execution_count": 3,
     "metadata": {},
     "output_type": "execute_result"
    }
   ],
   "source": [
    "data = pd.read_csv('input/' + file_name, encoding='utf-8', delimiter=';')\n",
    "data.head(5)"
   ]
  },
  {
   "cell_type": "markdown",
   "metadata": {},
   "source": [
    "**Put data in a list**"
   ]
  },
  {
   "cell_type": "code",
   "execution_count": 4,
   "metadata": {},
   "outputs": [
    {
     "data": {
      "text/plain": [
       "['Fotbal je populárním sportem ve většině zemí.',\n",
       " 'Tenisový turnaj Wimbledon je jedním z nejstarších a nejprestižnějších na světě.',\n",
       " 'Běhání je skválý způsob, jak si udržet kondici.',\n",
       " 'Hokejový zápas může být velmi napínavý, zejména v prodloužení.',\n",
       " 'Plavání je vynikající cvičení pro posílení svalů celého těla.']"
      ]
     },
     "execution_count": 4,
     "metadata": {},
     "output_type": "execute_result"
    }
   ],
   "source": [
    "docs = [item for sublist in data.values.tolist() for item in sublist]\n",
    "docs[:5]"
   ]
  },
  {
   "cell_type": "code",
   "execution_count": 5,
   "metadata": {},
   "outputs": [
    {
     "data": {
      "text/plain": [
       "499"
      ]
     },
     "execution_count": 5,
     "metadata": {},
     "output_type": "execute_result"
    }
   ],
   "source": [
    "len(docs)"
   ]
  },
  {
   "cell_type": "markdown",
   "metadata": {},
   "source": [
    "## Set up model"
   ]
  },
  {
   "cell_type": "markdown",
   "metadata": {},
   "source": [
    "**Define the clustering model**"
   ]
  },
  {
   "cell_type": "code",
   "execution_count": 6,
   "metadata": {},
   "outputs": [],
   "source": [
    "if cluster_type == 'db-scan':\n",
    "    cluster_model = HDBSCAN(min_cluster_size=30, \n",
    "                            min_samples=10,\n",
    "                            #gen_min_span_tree=True,\n",
    "                            #prediction_data=True\n",
    "                            )\n",
    "\n",
    "\n",
    "elif cluster_type == 'k-means':\n",
    "    #does not produce any outliers!!!\n",
    "    cluster_model = KMeans(n_clusters=8)"
   ]
  },
  {
   "cell_type": "markdown",
   "metadata": {},
   "source": [
    "**Define Count Vectorizer**"
   ]
  },
  {
   "cell_type": "code",
   "execution_count": 7,
   "metadata": {},
   "outputs": [],
   "source": [
    "# Read your custom Czech stop words from the CSV file\n",
    "stopwords_df = pd.read_csv(stop_words, header=None)\n",
    "czech_stop_words = stopwords_df[0].tolist()\n",
    "\n",
    "\n",
    "# Convert the set of stop words into a list\n",
    "czech_stop_words_list = list(czech_stop_words)\n",
    "vectorizer_model = CountVectorizer(ngram_range=(1, 3), stop_words=czech_stop_words_list)"
   ]
  },
  {
   "cell_type": "markdown",
   "metadata": {},
   "source": [
    "**Define the UMAP**\n"
   ]
  },
  {
   "cell_type": "code",
   "execution_count": 8,
   "metadata": {},
   "outputs": [],
   "source": [
    "umap_model = UMAP(n_neighbors=3, n_components=3, min_dist=0.05)"
   ]
  },
  {
   "cell_type": "markdown",
   "metadata": {},
   "source": [
    "**Define Sentence Transformer**"
   ]
  },
  {
   "cell_type": "code",
   "execution_count": 9,
   "metadata": {},
   "outputs": [],
   "source": [
    " # model-multi\n",
    "if model_type == 'multi':\n",
    "    model_name = 'all-MiniLM-L6-v2'\n",
    "    model = SentenceTransformer(model_name)\n",
    "\n",
    "# model-Seznam\n",
    "elif model_type == 'seznam':\n",
    "    model_name = 'Seznam/retromae-small-cs'\n",
    "    model = AutoModel.from_pretrained(model_name)"
   ]
  },
  {
   "cell_type": "markdown",
   "metadata": {},
   "source": [
    "**Define model**"
   ]
  },
  {
   "cell_type": "code",
   "execution_count": 10,
   "metadata": {},
   "outputs": [],
   "source": [
    "model = BERTopic(#language=\"czech\", # not necessary if sentence transformer is chosen\n",
    "                 embedding_model = model,\n",
    "                 min_topic_size = 10,\n",
    "                 top_n_words = 15,\n",
    "                 #vectorizer_model=vectorizer_model, \n",
    "                 hdbscan_model = cluster_model, \n",
    "                 umap_model = umap_model\n",
    "                 )"
   ]
  },
  {
   "cell_type": "markdown",
   "metadata": {},
   "source": [
    "## Train model"
   ]
  },
  {
   "cell_type": "code",
   "execution_count": 11,
   "metadata": {},
   "outputs": [],
   "source": [
    "\"\"\" It is not going to work with a few hundereds documents, better to have thousands\"\"\"\n",
    "\n",
    "topics, probs = model.fit_transform(docs)"
   ]
  },
  {
   "cell_type": "markdown",
   "metadata": {},
   "source": [
    "## Coherence score"
   ]
  },
  {
   "cell_type": "code",
   "execution_count": 12,
   "metadata": {},
   "outputs": [],
   "source": [
    "#https://github.com/MaartenGr/BERTopic/issues/90\n",
    "\n",
    "import gensim.corpora as corpora\n",
    "from gensim.models.coherencemodel import CoherenceModel\n",
    "import pandas as pd\n",
    "\n",
    "\n",
    "'''\n",
    "if error boolean - run the whole notebook again!!!\n",
    "'''\n",
    "\n",
    "def coherence_score(model, docs: pd.DataFrame, topics):\n",
    "    # Merge all sentences for certain topic\n",
    "    documents = pd.DataFrame({\"Document\": docs,\n",
    "                            #\"ID\": range(len(docs)),\n",
    "                            \"Topic\": topics})\n",
    "\n",
    "    documents_per_topic = documents.groupby(['Topic'], as_index=False).agg({'Document': ' '.join})\n",
    "    cleaned_docs = model._preprocess_text(documents_per_topic.Document.values)\n",
    "\n",
    "    # Extract vectorizer and analyzer from BERTopic\n",
    "    vectorizer = model.vectorizer_model\n",
    "    analyzer = vectorizer.build_analyzer()\n",
    "\n",
    "    # Use '.get_feature_names_out()' if you get an error with '.get_feature_names()'\n",
    "    words = vectorizer.get_feature_names_out()\n",
    "\n",
    "    # Extract features for Topic Coherence evaluation\n",
    "    tokens = [analyzer(doc) for doc in cleaned_docs]\n",
    "    dictionary = corpora.Dictionary(tokens)\n",
    "    corpus = [dictionary.doc2bow(token) for token in tokens]\n",
    "\n",
    "\n",
    "    # Extract words in each topic if they are non-empty and exist in the dictionary - SIMPLE \n",
    "    topic_words = [[words for words, _ in model.get_topic(topic)] \n",
    "               for topic in range(len(set(topics))-1)]\n",
    "\n",
    "    # Evaluate Coherence\n",
    "    coherence_model = CoherenceModel(topics=topic_words, \n",
    "                                    texts=tokens, \n",
    "                                    corpus=corpus,\n",
    "                                    dictionary=dictionary, \n",
    "                                    coherence='c_v')\n",
    "    coherence = coherence_model.get_coherence()\n",
    "    return round(coherence,3)"
   ]
  },
  {
   "cell_type": "code",
   "execution_count": 13,
   "metadata": {},
   "outputs": [
    {
     "data": {
      "text/plain": [
       "0.774"
      ]
     },
     "execution_count": 13,
     "metadata": {},
     "output_type": "execute_result"
    }
   ],
   "source": [
    "coherence_score(model=model, docs=docs, topics=topics)"
   ]
  },
  {
   "cell_type": "markdown",
   "metadata": {},
   "source": [
    "## Visualize results"
   ]
  },
  {
   "cell_type": "code",
   "execution_count": 14,
   "metadata": {},
   "outputs": [
    {
     "data": {
      "text/html": [
       "<div>\n",
       "<style scoped>\n",
       "    .dataframe tbody tr th:only-of-type {\n",
       "        vertical-align: middle;\n",
       "    }\n",
       "\n",
       "    .dataframe tbody tr th {\n",
       "        vertical-align: top;\n",
       "    }\n",
       "\n",
       "    .dataframe thead th {\n",
       "        text-align: right;\n",
       "    }\n",
       "</style>\n",
       "<table border=\"1\" class=\"dataframe\">\n",
       "  <thead>\n",
       "    <tr style=\"text-align: right;\">\n",
       "      <th></th>\n",
       "      <th>Topic</th>\n",
       "      <th>Count</th>\n",
       "    </tr>\n",
       "  </thead>\n",
       "  <tbody>\n",
       "    <tr>\n",
       "      <th>3</th>\n",
       "      <td>0</td>\n",
       "      <td>131</td>\n",
       "    </tr>\n",
       "    <tr>\n",
       "      <th>6</th>\n",
       "      <td>1</td>\n",
       "      <td>95</td>\n",
       "    </tr>\n",
       "    <tr>\n",
       "      <th>4</th>\n",
       "      <td>2</td>\n",
       "      <td>82</td>\n",
       "    </tr>\n",
       "    <tr>\n",
       "      <th>0</th>\n",
       "      <td>3</td>\n",
       "      <td>75</td>\n",
       "    </tr>\n",
       "    <tr>\n",
       "      <th>2</th>\n",
       "      <td>4</td>\n",
       "      <td>72</td>\n",
       "    </tr>\n",
       "    <tr>\n",
       "      <th>5</th>\n",
       "      <td>5</td>\n",
       "      <td>22</td>\n",
       "    </tr>\n",
       "    <tr>\n",
       "      <th>1</th>\n",
       "      <td>6</td>\n",
       "      <td>11</td>\n",
       "    </tr>\n",
       "    <tr>\n",
       "      <th>7</th>\n",
       "      <td>7</td>\n",
       "      <td>11</td>\n",
       "    </tr>\n",
       "  </tbody>\n",
       "</table>\n",
       "</div>"
      ],
      "text/plain": [
       "   Topic  Count\n",
       "3      0    131\n",
       "6      1     95\n",
       "4      2     82\n",
       "0      3     75\n",
       "2      4     72\n",
       "5      5     22\n",
       "1      6     11\n",
       "7      7     11"
      ]
     },
     "execution_count": 14,
     "metadata": {},
     "output_type": "execute_result"
    }
   ],
   "source": [
    "model.get_topic_freq()"
   ]
  },
  {
   "cell_type": "code",
   "execution_count": 15,
   "metadata": {},
   "outputs": [
    {
     "data": {
      "text/html": [
       "<div>\n",
       "<style scoped>\n",
       "    .dataframe tbody tr th:only-of-type {\n",
       "        vertical-align: middle;\n",
       "    }\n",
       "\n",
       "    .dataframe tbody tr th {\n",
       "        vertical-align: top;\n",
       "    }\n",
       "\n",
       "    .dataframe thead th {\n",
       "        text-align: right;\n",
       "    }\n",
       "</style>\n",
       "<table border=\"1\" class=\"dataframe\">\n",
       "  <thead>\n",
       "    <tr style=\"text-align: right;\">\n",
       "      <th></th>\n",
       "      <th>Topic</th>\n",
       "      <th>Count</th>\n",
       "      <th>Name</th>\n",
       "      <th>Representation</th>\n",
       "      <th>Representative_Docs</th>\n",
       "    </tr>\n",
       "  </thead>\n",
       "  <tbody>\n",
       "    <tr>\n",
       "      <th>0</th>\n",
       "      <td>0</td>\n",
       "      <td>131</td>\n",
       "      <td>0_roce_byl_po_na</td>\n",
       "      <td>[roce, byl, po, na, století, první, ve, české,...</td>\n",
       "      <td>[Třicetiletá válka v 17. století měla tragický...</td>\n",
       "    </tr>\n",
       "    <tr>\n",
       "      <th>1</th>\n",
       "      <td>1</td>\n",
       "      <td>95</td>\n",
       "      <td>1_jsou_organismů_organismy_zkoumá</td>\n",
       "      <td>[jsou, organismů, organismy, zkoumá, které, dn...</td>\n",
       "      <td>[Ekologie zkoumá vztahy mezi organismy a jejic...</td>\n",
       "    </tr>\n",
       "    <tr>\n",
       "      <th>2</th>\n",
       "      <td>2</td>\n",
       "      <td>82</td>\n",
       "      <td>2_film_český_získal_za</td>\n",
       "      <td>[film, český, získal, za, je, filmová, filmy, ...</td>\n",
       "      <td>[Kolya získal Oscara za nejlepší cizojazyčný f...</td>\n",
       "    </tr>\n",
       "    <tr>\n",
       "      <th>3</th>\n",
       "      <td>3</td>\n",
       "      <td>75</td>\n",
       "      <td>3_je_sport_sportem_který</td>\n",
       "      <td>[je, sport, sportem, který, oblíbeným, na, pro...</td>\n",
       "      <td>[Cyklistika je oblíbeným sportem pro rekreační...</td>\n",
       "    </tr>\n",
       "    <tr>\n",
       "      <th>4</th>\n",
       "      <td>4</td>\n",
       "      <td>72</td>\n",
       "      <td>4_chemická_jsou_reakce_mají</td>\n",
       "      <td>[chemická, jsou, reakce, mají, rychlosti, atom...</td>\n",
       "      <td>[Chemická rovnováha nastává, když rychlosti př...</td>\n",
       "    </tr>\n",
       "    <tr>\n",
       "      <th>5</th>\n",
       "      <td>5</td>\n",
       "      <td>22</td>\n",
       "      <td>5_buněk_je_proces_prostředí</td>\n",
       "      <td>[buněk, je, proces, prostředí, univerzit, stře...</td>\n",
       "      <td>[Karlova univerzita v Praze byla založena v ro...</td>\n",
       "    </tr>\n",
       "    <tr>\n",
       "      <th>6</th>\n",
       "      <td>6</td>\n",
       "      <td>11</td>\n",
       "      <td>6_atletika_turnaj_wimbledon_dálky</td>\n",
       "      <td>[atletika, turnaj, wimbledon, dálky, skok, ten...</td>\n",
       "      <td>[Tenisový turnaj Wimbledon je považován za nej...</td>\n",
       "    </tr>\n",
       "    <tr>\n",
       "      <th>7</th>\n",
       "      <td>7</td>\n",
       "      <td>11</td>\n",
       "      <td>7_reakce_exotermické_hoře_bílé</td>\n",
       "      <td>[reakce, exotermické, hoře, bílé, endotermické...</td>\n",
       "      <td>[Chemické reakce mohou být exotermické nebo en...</td>\n",
       "    </tr>\n",
       "  </tbody>\n",
       "</table>\n",
       "</div>"
      ],
      "text/plain": [
       "   Topic  Count                               Name  \\\n",
       "0      0    131                   0_roce_byl_po_na   \n",
       "1      1     95  1_jsou_organismů_organismy_zkoumá   \n",
       "2      2     82             2_film_český_získal_za   \n",
       "3      3     75           3_je_sport_sportem_který   \n",
       "4      4     72        4_chemická_jsou_reakce_mají   \n",
       "5      5     22        5_buněk_je_proces_prostředí   \n",
       "6      6     11  6_atletika_turnaj_wimbledon_dálky   \n",
       "7      7     11     7_reakce_exotermické_hoře_bílé   \n",
       "\n",
       "                                      Representation  \\\n",
       "0  [roce, byl, po, na, století, první, ve, české,...   \n",
       "1  [jsou, organismů, organismy, zkoumá, které, dn...   \n",
       "2  [film, český, získal, za, je, filmová, filmy, ...   \n",
       "3  [je, sport, sportem, který, oblíbeným, na, pro...   \n",
       "4  [chemická, jsou, reakce, mají, rychlosti, atom...   \n",
       "5  [buněk, je, proces, prostředí, univerzit, stře...   \n",
       "6  [atletika, turnaj, wimbledon, dálky, skok, ten...   \n",
       "7  [reakce, exotermické, hoře, bílé, endotermické...   \n",
       "\n",
       "                                 Representative_Docs  \n",
       "0  [Třicetiletá válka v 17. století měla tragický...  \n",
       "1  [Ekologie zkoumá vztahy mezi organismy a jejic...  \n",
       "2  [Kolya získal Oscara za nejlepší cizojazyčný f...  \n",
       "3  [Cyklistika je oblíbeným sportem pro rekreační...  \n",
       "4  [Chemická rovnováha nastává, když rychlosti př...  \n",
       "5  [Karlova univerzita v Praze byla založena v ro...  \n",
       "6  [Tenisový turnaj Wimbledon je považován za nej...  \n",
       "7  [Chemické reakce mohou být exotermické nebo en...  "
      ]
     },
     "execution_count": 15,
     "metadata": {},
     "output_type": "execute_result"
    }
   ],
   "source": [
    "model.get_topic_info()"
   ]
  },
  {
   "cell_type": "code",
   "execution_count": 16,
   "metadata": {},
   "outputs": [
    {
     "data": {
      "application/vnd.plotly.v1+json": {
       "config": {
        "plotlyServerURL": "https://plot.ly"
       },
       "data": [
        {
         "marker": {
          "color": "#D55E00"
         },
         "orientation": "h",
         "type": "bar",
         "x": [
          0.03967825404962157,
          0.039791421623584476,
          0.044194395378323266,
          0.04523591283166038,
          0.04605031339209249
         ],
         "xaxis": "x",
         "y": [
          "století  ",
          "na  ",
          "po  ",
          "byl  ",
          "roce  "
         ],
         "yaxis": "y"
        },
        {
         "marker": {
          "color": "#0072B2"
         },
         "orientation": "h",
         "type": "bar",
         "x": [
          0.04565159396856614,
          0.04793979625437908,
          0.049177413129283205,
          0.07075239522194282,
          0.0880620103187696
         ],
         "xaxis": "x2",
         "y": [
          "které  ",
          "zkoumá  ",
          "organismy  ",
          "organismů  ",
          "jsou  "
         ],
         "yaxis": "y2"
        },
        {
         "marker": {
          "color": "#CC79A7"
         },
         "orientation": "h",
         "type": "bar",
         "x": [
          0.05743519467027275,
          0.06002852843960676,
          0.060241917313751225,
          0.06954073501507828,
          0.12694082607363558
         ],
         "xaxis": "x3",
         "y": [
          "je  ",
          "za  ",
          "získal  ",
          "český  ",
          "film  "
         ],
         "yaxis": "y3"
        },
        {
         "marker": {
          "color": "#E69F00"
         },
         "orientation": "h",
         "type": "bar",
         "x": [
          0.059248947338160406,
          0.07990997705880451,
          0.09092531814762317,
          0.12485933915438205,
          0.14582993979177666
         ],
         "xaxis": "x4",
         "y": [
          "oblíbeným  ",
          "který  ",
          "sportem  ",
          "sport  ",
          "je  "
         ],
         "yaxis": "y4"
        },
        {
         "marker": {
          "color": "#56B4E9"
         },
         "orientation": "h",
         "type": "bar",
         "x": [
          0.04768653326220091,
          0.04768653326220091,
          0.05089436792037419,
          0.05720384210665417,
          0.061711079500149486
         ],
         "xaxis": "x5",
         "y": [
          "rychlosti  ",
          "mají  ",
          "reakce  ",
          "jsou  ",
          "chemická  "
         ],
         "yaxis": "y5"
        },
        {
         "marker": {
          "color": "#009E73"
         },
         "orientation": "h",
         "type": "bar",
         "x": [
          0.09546261387621387,
          0.09986675319943433,
          0.10934035212480285,
          0.11998514052310075,
          0.12705402793555973
         ],
         "xaxis": "x6",
         "y": [
          "univerzit  ",
          "prostředí  ",
          "proces  ",
          "je  ",
          "buněk  "
         ],
         "yaxis": "y6"
        },
        {
         "marker": {
          "color": "#F0E442"
         },
         "orientation": "h",
         "type": "bar",
         "x": [
          0.21850331620555621,
          0.21850331620555621,
          0.21850331620555621,
          0.21850331620555621,
          0.21850331620555621
         ],
         "xaxis": "x7",
         "y": [
          "skok  ",
          "dálky  ",
          "wimbledon  ",
          "turnaj  ",
          "atletika  "
         ],
         "yaxis": "y7"
        },
        {
         "marker": {
          "color": "#D55E00"
         },
         "orientation": "h",
         "type": "bar",
         "x": [
          0.18908940825480824,
          0.18908940825480824,
          0.18908940825480824,
          0.22572167740326352,
          0.24311848060424904
         ],
         "xaxis": "x8",
         "y": [
          "endotermické  ",
          "bílé  ",
          "hoře  ",
          "exotermické  ",
          "reakce  "
         ],
         "yaxis": "y8"
        }
       ],
       "layout": {
        "annotations": [
         {
          "font": {
           "size": 16
          },
          "showarrow": false,
          "text": "Topic 0",
          "x": 0.0875,
          "xanchor": "center",
          "xref": "paper",
          "y": 1,
          "yanchor": "bottom",
          "yref": "paper"
         },
         {
          "font": {
           "size": 16
          },
          "showarrow": false,
          "text": "Topic 1",
          "x": 0.36250000000000004,
          "xanchor": "center",
          "xref": "paper",
          "y": 1,
          "yanchor": "bottom",
          "yref": "paper"
         },
         {
          "font": {
           "size": 16
          },
          "showarrow": false,
          "text": "Topic 2",
          "x": 0.6375000000000001,
          "xanchor": "center",
          "xref": "paper",
          "y": 1,
          "yanchor": "bottom",
          "yref": "paper"
         },
         {
          "font": {
           "size": 16
          },
          "showarrow": false,
          "text": "Topic 3",
          "x": 0.9125,
          "xanchor": "center",
          "xref": "paper",
          "y": 1,
          "yanchor": "bottom",
          "yref": "paper"
         },
         {
          "font": {
           "size": 16
          },
          "showarrow": false,
          "text": "Topic 4",
          "x": 0.0875,
          "xanchor": "center",
          "xref": "paper",
          "y": 0.4,
          "yanchor": "bottom",
          "yref": "paper"
         },
         {
          "font": {
           "size": 16
          },
          "showarrow": false,
          "text": "Topic 5",
          "x": 0.36250000000000004,
          "xanchor": "center",
          "xref": "paper",
          "y": 0.4,
          "yanchor": "bottom",
          "yref": "paper"
         },
         {
          "font": {
           "size": 16
          },
          "showarrow": false,
          "text": "Topic 6",
          "x": 0.6375000000000001,
          "xanchor": "center",
          "xref": "paper",
          "y": 0.4,
          "yanchor": "bottom",
          "yref": "paper"
         },
         {
          "font": {
           "size": 16
          },
          "showarrow": false,
          "text": "Topic 7",
          "x": 0.9125,
          "xanchor": "center",
          "xref": "paper",
          "y": 0.4,
          "yanchor": "bottom",
          "yref": "paper"
         }
        ],
        "height": 500,
        "hoverlabel": {
         "bgcolor": "white",
         "font": {
          "family": "Rockwell",
          "size": 16
         }
        },
        "showlegend": false,
        "template": {
         "data": {
          "bar": [
           {
            "error_x": {
             "color": "#2a3f5f"
            },
            "error_y": {
             "color": "#2a3f5f"
            },
            "marker": {
             "line": {
              "color": "white",
              "width": 0.5
             },
             "pattern": {
              "fillmode": "overlay",
              "size": 10,
              "solidity": 0.2
             }
            },
            "type": "bar"
           }
          ],
          "barpolar": [
           {
            "marker": {
             "line": {
              "color": "white",
              "width": 0.5
             },
             "pattern": {
              "fillmode": "overlay",
              "size": 10,
              "solidity": 0.2
             }
            },
            "type": "barpolar"
           }
          ],
          "carpet": [
           {
            "aaxis": {
             "endlinecolor": "#2a3f5f",
             "gridcolor": "#C8D4E3",
             "linecolor": "#C8D4E3",
             "minorgridcolor": "#C8D4E3",
             "startlinecolor": "#2a3f5f"
            },
            "baxis": {
             "endlinecolor": "#2a3f5f",
             "gridcolor": "#C8D4E3",
             "linecolor": "#C8D4E3",
             "minorgridcolor": "#C8D4E3",
             "startlinecolor": "#2a3f5f"
            },
            "type": "carpet"
           }
          ],
          "choropleth": [
           {
            "colorbar": {
             "outlinewidth": 0,
             "ticks": ""
            },
            "type": "choropleth"
           }
          ],
          "contour": [
           {
            "colorbar": {
             "outlinewidth": 0,
             "ticks": ""
            },
            "colorscale": [
             [
              0,
              "#0d0887"
             ],
             [
              0.1111111111111111,
              "#46039f"
             ],
             [
              0.2222222222222222,
              "#7201a8"
             ],
             [
              0.3333333333333333,
              "#9c179e"
             ],
             [
              0.4444444444444444,
              "#bd3786"
             ],
             [
              0.5555555555555556,
              "#d8576b"
             ],
             [
              0.6666666666666666,
              "#ed7953"
             ],
             [
              0.7777777777777778,
              "#fb9f3a"
             ],
             [
              0.8888888888888888,
              "#fdca26"
             ],
             [
              1,
              "#f0f921"
             ]
            ],
            "type": "contour"
           }
          ],
          "contourcarpet": [
           {
            "colorbar": {
             "outlinewidth": 0,
             "ticks": ""
            },
            "type": "contourcarpet"
           }
          ],
          "heatmap": [
           {
            "colorbar": {
             "outlinewidth": 0,
             "ticks": ""
            },
            "colorscale": [
             [
              0,
              "#0d0887"
             ],
             [
              0.1111111111111111,
              "#46039f"
             ],
             [
              0.2222222222222222,
              "#7201a8"
             ],
             [
              0.3333333333333333,
              "#9c179e"
             ],
             [
              0.4444444444444444,
              "#bd3786"
             ],
             [
              0.5555555555555556,
              "#d8576b"
             ],
             [
              0.6666666666666666,
              "#ed7953"
             ],
             [
              0.7777777777777778,
              "#fb9f3a"
             ],
             [
              0.8888888888888888,
              "#fdca26"
             ],
             [
              1,
              "#f0f921"
             ]
            ],
            "type": "heatmap"
           }
          ],
          "heatmapgl": [
           {
            "colorbar": {
             "outlinewidth": 0,
             "ticks": ""
            },
            "colorscale": [
             [
              0,
              "#0d0887"
             ],
             [
              0.1111111111111111,
              "#46039f"
             ],
             [
              0.2222222222222222,
              "#7201a8"
             ],
             [
              0.3333333333333333,
              "#9c179e"
             ],
             [
              0.4444444444444444,
              "#bd3786"
             ],
             [
              0.5555555555555556,
              "#d8576b"
             ],
             [
              0.6666666666666666,
              "#ed7953"
             ],
             [
              0.7777777777777778,
              "#fb9f3a"
             ],
             [
              0.8888888888888888,
              "#fdca26"
             ],
             [
              1,
              "#f0f921"
             ]
            ],
            "type": "heatmapgl"
           }
          ],
          "histogram": [
           {
            "marker": {
             "pattern": {
              "fillmode": "overlay",
              "size": 10,
              "solidity": 0.2
             }
            },
            "type": "histogram"
           }
          ],
          "histogram2d": [
           {
            "colorbar": {
             "outlinewidth": 0,
             "ticks": ""
            },
            "colorscale": [
             [
              0,
              "#0d0887"
             ],
             [
              0.1111111111111111,
              "#46039f"
             ],
             [
              0.2222222222222222,
              "#7201a8"
             ],
             [
              0.3333333333333333,
              "#9c179e"
             ],
             [
              0.4444444444444444,
              "#bd3786"
             ],
             [
              0.5555555555555556,
              "#d8576b"
             ],
             [
              0.6666666666666666,
              "#ed7953"
             ],
             [
              0.7777777777777778,
              "#fb9f3a"
             ],
             [
              0.8888888888888888,
              "#fdca26"
             ],
             [
              1,
              "#f0f921"
             ]
            ],
            "type": "histogram2d"
           }
          ],
          "histogram2dcontour": [
           {
            "colorbar": {
             "outlinewidth": 0,
             "ticks": ""
            },
            "colorscale": [
             [
              0,
              "#0d0887"
             ],
             [
              0.1111111111111111,
              "#46039f"
             ],
             [
              0.2222222222222222,
              "#7201a8"
             ],
             [
              0.3333333333333333,
              "#9c179e"
             ],
             [
              0.4444444444444444,
              "#bd3786"
             ],
             [
              0.5555555555555556,
              "#d8576b"
             ],
             [
              0.6666666666666666,
              "#ed7953"
             ],
             [
              0.7777777777777778,
              "#fb9f3a"
             ],
             [
              0.8888888888888888,
              "#fdca26"
             ],
             [
              1,
              "#f0f921"
             ]
            ],
            "type": "histogram2dcontour"
           }
          ],
          "mesh3d": [
           {
            "colorbar": {
             "outlinewidth": 0,
             "ticks": ""
            },
            "type": "mesh3d"
           }
          ],
          "parcoords": [
           {
            "line": {
             "colorbar": {
              "outlinewidth": 0,
              "ticks": ""
             }
            },
            "type": "parcoords"
           }
          ],
          "pie": [
           {
            "automargin": true,
            "type": "pie"
           }
          ],
          "scatter": [
           {
            "fillpattern": {
             "fillmode": "overlay",
             "size": 10,
             "solidity": 0.2
            },
            "type": "scatter"
           }
          ],
          "scatter3d": [
           {
            "line": {
             "colorbar": {
              "outlinewidth": 0,
              "ticks": ""
             }
            },
            "marker": {
             "colorbar": {
              "outlinewidth": 0,
              "ticks": ""
             }
            },
            "type": "scatter3d"
           }
          ],
          "scattercarpet": [
           {
            "marker": {
             "colorbar": {
              "outlinewidth": 0,
              "ticks": ""
             }
            },
            "type": "scattercarpet"
           }
          ],
          "scattergeo": [
           {
            "marker": {
             "colorbar": {
              "outlinewidth": 0,
              "ticks": ""
             }
            },
            "type": "scattergeo"
           }
          ],
          "scattergl": [
           {
            "marker": {
             "colorbar": {
              "outlinewidth": 0,
              "ticks": ""
             }
            },
            "type": "scattergl"
           }
          ],
          "scattermapbox": [
           {
            "marker": {
             "colorbar": {
              "outlinewidth": 0,
              "ticks": ""
             }
            },
            "type": "scattermapbox"
           }
          ],
          "scatterpolar": [
           {
            "marker": {
             "colorbar": {
              "outlinewidth": 0,
              "ticks": ""
             }
            },
            "type": "scatterpolar"
           }
          ],
          "scatterpolargl": [
           {
            "marker": {
             "colorbar": {
              "outlinewidth": 0,
              "ticks": ""
             }
            },
            "type": "scatterpolargl"
           }
          ],
          "scatterternary": [
           {
            "marker": {
             "colorbar": {
              "outlinewidth": 0,
              "ticks": ""
             }
            },
            "type": "scatterternary"
           }
          ],
          "surface": [
           {
            "colorbar": {
             "outlinewidth": 0,
             "ticks": ""
            },
            "colorscale": [
             [
              0,
              "#0d0887"
             ],
             [
              0.1111111111111111,
              "#46039f"
             ],
             [
              0.2222222222222222,
              "#7201a8"
             ],
             [
              0.3333333333333333,
              "#9c179e"
             ],
             [
              0.4444444444444444,
              "#bd3786"
             ],
             [
              0.5555555555555556,
              "#d8576b"
             ],
             [
              0.6666666666666666,
              "#ed7953"
             ],
             [
              0.7777777777777778,
              "#fb9f3a"
             ],
             [
              0.8888888888888888,
              "#fdca26"
             ],
             [
              1,
              "#f0f921"
             ]
            ],
            "type": "surface"
           }
          ],
          "table": [
           {
            "cells": {
             "fill": {
              "color": "#EBF0F8"
             },
             "line": {
              "color": "white"
             }
            },
            "header": {
             "fill": {
              "color": "#C8D4E3"
             },
             "line": {
              "color": "white"
             }
            },
            "type": "table"
           }
          ]
         },
         "layout": {
          "annotationdefaults": {
           "arrowcolor": "#2a3f5f",
           "arrowhead": 0,
           "arrowwidth": 1
          },
          "autotypenumbers": "strict",
          "coloraxis": {
           "colorbar": {
            "outlinewidth": 0,
            "ticks": ""
           }
          },
          "colorscale": {
           "diverging": [
            [
             0,
             "#8e0152"
            ],
            [
             0.1,
             "#c51b7d"
            ],
            [
             0.2,
             "#de77ae"
            ],
            [
             0.3,
             "#f1b6da"
            ],
            [
             0.4,
             "#fde0ef"
            ],
            [
             0.5,
             "#f7f7f7"
            ],
            [
             0.6,
             "#e6f5d0"
            ],
            [
             0.7,
             "#b8e186"
            ],
            [
             0.8,
             "#7fbc41"
            ],
            [
             0.9,
             "#4d9221"
            ],
            [
             1,
             "#276419"
            ]
           ],
           "sequential": [
            [
             0,
             "#0d0887"
            ],
            [
             0.1111111111111111,
             "#46039f"
            ],
            [
             0.2222222222222222,
             "#7201a8"
            ],
            [
             0.3333333333333333,
             "#9c179e"
            ],
            [
             0.4444444444444444,
             "#bd3786"
            ],
            [
             0.5555555555555556,
             "#d8576b"
            ],
            [
             0.6666666666666666,
             "#ed7953"
            ],
            [
             0.7777777777777778,
             "#fb9f3a"
            ],
            [
             0.8888888888888888,
             "#fdca26"
            ],
            [
             1,
             "#f0f921"
            ]
           ],
           "sequentialminus": [
            [
             0,
             "#0d0887"
            ],
            [
             0.1111111111111111,
             "#46039f"
            ],
            [
             0.2222222222222222,
             "#7201a8"
            ],
            [
             0.3333333333333333,
             "#9c179e"
            ],
            [
             0.4444444444444444,
             "#bd3786"
            ],
            [
             0.5555555555555556,
             "#d8576b"
            ],
            [
             0.6666666666666666,
             "#ed7953"
            ],
            [
             0.7777777777777778,
             "#fb9f3a"
            ],
            [
             0.8888888888888888,
             "#fdca26"
            ],
            [
             1,
             "#f0f921"
            ]
           ]
          },
          "colorway": [
           "#636efa",
           "#EF553B",
           "#00cc96",
           "#ab63fa",
           "#FFA15A",
           "#19d3f3",
           "#FF6692",
           "#B6E880",
           "#FF97FF",
           "#FECB52"
          ],
          "font": {
           "color": "#2a3f5f"
          },
          "geo": {
           "bgcolor": "white",
           "lakecolor": "white",
           "landcolor": "white",
           "showlakes": true,
           "showland": true,
           "subunitcolor": "#C8D4E3"
          },
          "hoverlabel": {
           "align": "left"
          },
          "hovermode": "closest",
          "mapbox": {
           "style": "light"
          },
          "paper_bgcolor": "white",
          "plot_bgcolor": "white",
          "polar": {
           "angularaxis": {
            "gridcolor": "#EBF0F8",
            "linecolor": "#EBF0F8",
            "ticks": ""
           },
           "bgcolor": "white",
           "radialaxis": {
            "gridcolor": "#EBF0F8",
            "linecolor": "#EBF0F8",
            "ticks": ""
           }
          },
          "scene": {
           "xaxis": {
            "backgroundcolor": "white",
            "gridcolor": "#DFE8F3",
            "gridwidth": 2,
            "linecolor": "#EBF0F8",
            "showbackground": true,
            "ticks": "",
            "zerolinecolor": "#EBF0F8"
           },
           "yaxis": {
            "backgroundcolor": "white",
            "gridcolor": "#DFE8F3",
            "gridwidth": 2,
            "linecolor": "#EBF0F8",
            "showbackground": true,
            "ticks": "",
            "zerolinecolor": "#EBF0F8"
           },
           "zaxis": {
            "backgroundcolor": "white",
            "gridcolor": "#DFE8F3",
            "gridwidth": 2,
            "linecolor": "#EBF0F8",
            "showbackground": true,
            "ticks": "",
            "zerolinecolor": "#EBF0F8"
           }
          },
          "shapedefaults": {
           "line": {
            "color": "#2a3f5f"
           }
          },
          "ternary": {
           "aaxis": {
            "gridcolor": "#DFE8F3",
            "linecolor": "#A2B1C6",
            "ticks": ""
           },
           "baxis": {
            "gridcolor": "#DFE8F3",
            "linecolor": "#A2B1C6",
            "ticks": ""
           },
           "bgcolor": "white",
           "caxis": {
            "gridcolor": "#DFE8F3",
            "linecolor": "#A2B1C6",
            "ticks": ""
           }
          },
          "title": {
           "x": 0.05
          },
          "xaxis": {
           "automargin": true,
           "gridcolor": "#EBF0F8",
           "linecolor": "#EBF0F8",
           "ticks": "",
           "title": {
            "standoff": 15
           },
           "zerolinecolor": "#EBF0F8",
           "zerolinewidth": 2
          },
          "yaxis": {
           "automargin": true,
           "gridcolor": "#EBF0F8",
           "linecolor": "#EBF0F8",
           "ticks": "",
           "title": {
            "standoff": 15
           },
           "zerolinecolor": "#EBF0F8",
           "zerolinewidth": 2
          }
         }
        },
        "title": {
         "font": {
          "color": "Black",
          "size": 22
         },
         "text": "Topic Word Scores",
         "x": 0.5,
         "xanchor": "center",
         "yanchor": "top"
        },
        "width": 1000,
        "xaxis": {
         "anchor": "y",
         "domain": [
          0,
          0.175
         ],
         "showgrid": true
        },
        "xaxis2": {
         "anchor": "y2",
         "domain": [
          0.275,
          0.45
         ],
         "showgrid": true
        },
        "xaxis3": {
         "anchor": "y3",
         "domain": [
          0.55,
          0.7250000000000001
         ],
         "showgrid": true
        },
        "xaxis4": {
         "anchor": "y4",
         "domain": [
          0.825,
          1
         ],
         "showgrid": true
        },
        "xaxis5": {
         "anchor": "y5",
         "domain": [
          0,
          0.175
         ],
         "showgrid": true
        },
        "xaxis6": {
         "anchor": "y6",
         "domain": [
          0.275,
          0.45
         ],
         "showgrid": true
        },
        "xaxis7": {
         "anchor": "y7",
         "domain": [
          0.55,
          0.7250000000000001
         ],
         "showgrid": true
        },
        "xaxis8": {
         "anchor": "y8",
         "domain": [
          0.825,
          1
         ],
         "showgrid": true
        },
        "yaxis": {
         "anchor": "x",
         "domain": [
          0.6000000000000001,
          1
         ],
         "showgrid": true
        },
        "yaxis2": {
         "anchor": "x2",
         "domain": [
          0.6000000000000001,
          1
         ],
         "showgrid": true
        },
        "yaxis3": {
         "anchor": "x3",
         "domain": [
          0.6000000000000001,
          1
         ],
         "showgrid": true
        },
        "yaxis4": {
         "anchor": "x4",
         "domain": [
          0.6000000000000001,
          1
         ],
         "showgrid": true
        },
        "yaxis5": {
         "anchor": "x5",
         "domain": [
          0,
          0.4
         ],
         "showgrid": true
        },
        "yaxis6": {
         "anchor": "x6",
         "domain": [
          0,
          0.4
         ],
         "showgrid": true
        },
        "yaxis7": {
         "anchor": "x7",
         "domain": [
          0,
          0.4
         ],
         "showgrid": true
        },
        "yaxis8": {
         "anchor": "x8",
         "domain": [
          0,
          0.4
         ],
         "showgrid": true
        }
       }
      }
     },
     "metadata": {},
     "output_type": "display_data"
    }
   ],
   "source": [
    "model.visualize_barchart(top_n_topics=10)"
   ]
  },
  {
   "cell_type": "code",
   "execution_count": 17,
   "metadata": {},
   "outputs": [
    {
     "data": {
      "application/vnd.plotly.v1+json": {
       "config": {
        "plotlyServerURL": "https://plot.ly"
       },
       "data": [
        {
         "customdata": [
          [
           0,
           "roce | byl | po | na | století",
           131
          ],
          [
           1,
           "jsou | organismů | organismy | zkoumá | které",
           95
          ],
          [
           2,
           "film | český | získal | za | je",
           82
          ],
          [
           3,
           "je | sport | sportem | který | oblíbeným",
           75
          ],
          [
           4,
           "chemická | jsou | reakce | mají | rychlosti",
           72
          ],
          [
           5,
           "buněk | je | proces | prostředí | univerzit",
           22
          ],
          [
           6,
           "atletika | turnaj | wimbledon | dálky | skok",
           11
          ],
          [
           7,
           "reakce | exotermické | hoře | bílé | endotermické",
           11
          ]
         ],
         "hovertemplate": "<b>Topic %{customdata[0]}</b><br>%{customdata[1]}<br>Size: %{customdata[2]}",
         "legendgroup": "",
         "marker": {
          "color": "#B0BEC5",
          "line": {
           "color": "DarkSlateGrey",
           "width": 2
          },
          "size": [
           131,
           95,
           82,
           75,
           72,
           22,
           11,
           11
          ],
          "sizemode": "area",
          "sizeref": 0.081875,
          "symbol": "circle"
         },
         "mode": "markers",
         "name": "",
         "orientation": "v",
         "showlegend": false,
         "type": "scatter",
         "x": [
          15.229951858520508,
          12.733880043029785,
          15.649041175842285,
          14.562737464904785,
          13.417936325073242,
          14.211217880249023,
          14.249985694885254,
          13.370620727539062
         ],
         "xaxis": "x",
         "y": [
          2.9707682132720947,
          -3.0342767238616943,
          2.4072163105010986,
          2.6147961616516113,
          -2.858625650405884,
          1.1826362609863281,
          2.4010913372039795,
          -3.5485641956329346
         ],
         "yaxis": "y"
        }
       ],
       "layout": {
        "annotations": [
         {
          "showarrow": false,
          "text": "D1",
          "x": 10.823798036575317,
          "y": -0.332232689857483,
          "yshift": 10
         },
         {
          "showarrow": false,
          "text": "D2",
          "x": 14.410097694396974,
          "xshift": 10,
          "y": 3.416383445262909
         }
        ],
        "height": 650,
        "hoverlabel": {
         "bgcolor": "white",
         "font": {
          "family": "Rockwell",
          "size": 16
         }
        },
        "legend": {
         "itemsizing": "constant",
         "tracegroupgap": 0
        },
        "margin": {
         "t": 60
        },
        "shapes": [
         {
          "line": {
           "color": "#CFD8DC",
           "width": 2
          },
          "type": "line",
          "x0": 14.410097694396974,
          "x1": 14.410097694396974,
          "y0": -4.080848824977875,
          "y1": 3.416383445262909
         },
         {
          "line": {
           "color": "#9E9E9E",
           "width": 2
          },
          "type": "line",
          "x0": 10.823798036575317,
          "x1": 17.99639735221863,
          "y0": -0.332232689857483,
          "y1": -0.332232689857483
         }
        ],
        "sliders": [
         {
          "active": 0,
          "pad": {
           "t": 50
          },
          "steps": [
           {
            "args": [
             {
              "marker.color": [
               [
                "red",
                "#B0BEC5",
                "#B0BEC5",
                "#B0BEC5",
                "#B0BEC5",
                "#B0BEC5",
                "#B0BEC5",
                "#B0BEC5"
               ]
              ]
             }
            ],
            "label": "Topic 0",
            "method": "update"
           },
           {
            "args": [
             {
              "marker.color": [
               [
                "#B0BEC5",
                "red",
                "#B0BEC5",
                "#B0BEC5",
                "#B0BEC5",
                "#B0BEC5",
                "#B0BEC5",
                "#B0BEC5"
               ]
              ]
             }
            ],
            "label": "Topic 1",
            "method": "update"
           },
           {
            "args": [
             {
              "marker.color": [
               [
                "#B0BEC5",
                "#B0BEC5",
                "red",
                "#B0BEC5",
                "#B0BEC5",
                "#B0BEC5",
                "#B0BEC5",
                "#B0BEC5"
               ]
              ]
             }
            ],
            "label": "Topic 2",
            "method": "update"
           },
           {
            "args": [
             {
              "marker.color": [
               [
                "#B0BEC5",
                "#B0BEC5",
                "#B0BEC5",
                "red",
                "#B0BEC5",
                "#B0BEC5",
                "#B0BEC5",
                "#B0BEC5"
               ]
              ]
             }
            ],
            "label": "Topic 3",
            "method": "update"
           },
           {
            "args": [
             {
              "marker.color": [
               [
                "#B0BEC5",
                "#B0BEC5",
                "#B0BEC5",
                "#B0BEC5",
                "red",
                "#B0BEC5",
                "#B0BEC5",
                "#B0BEC5"
               ]
              ]
             }
            ],
            "label": "Topic 4",
            "method": "update"
           },
           {
            "args": [
             {
              "marker.color": [
               [
                "#B0BEC5",
                "#B0BEC5",
                "#B0BEC5",
                "#B0BEC5",
                "#B0BEC5",
                "red",
                "#B0BEC5",
                "#B0BEC5"
               ]
              ]
             }
            ],
            "label": "Topic 5",
            "method": "update"
           },
           {
            "args": [
             {
              "marker.color": [
               [
                "#B0BEC5",
                "#B0BEC5",
                "#B0BEC5",
                "#B0BEC5",
                "#B0BEC5",
                "#B0BEC5",
                "red",
                "#B0BEC5"
               ]
              ]
             }
            ],
            "label": "Topic 6",
            "method": "update"
           },
           {
            "args": [
             {
              "marker.color": [
               [
                "#B0BEC5",
                "#B0BEC5",
                "#B0BEC5",
                "#B0BEC5",
                "#B0BEC5",
                "#B0BEC5",
                "#B0BEC5",
                "red"
               ]
              ]
             }
            ],
            "label": "Topic 7",
            "method": "update"
           }
          ]
         }
        ],
        "template": {
         "data": {
          "bar": [
           {
            "error_x": {
             "color": "rgb(36,36,36)"
            },
            "error_y": {
             "color": "rgb(36,36,36)"
            },
            "marker": {
             "line": {
              "color": "white",
              "width": 0.5
             },
             "pattern": {
              "fillmode": "overlay",
              "size": 10,
              "solidity": 0.2
             }
            },
            "type": "bar"
           }
          ],
          "barpolar": [
           {
            "marker": {
             "line": {
              "color": "white",
              "width": 0.5
             },
             "pattern": {
              "fillmode": "overlay",
              "size": 10,
              "solidity": 0.2
             }
            },
            "type": "barpolar"
           }
          ],
          "carpet": [
           {
            "aaxis": {
             "endlinecolor": "rgb(36,36,36)",
             "gridcolor": "white",
             "linecolor": "white",
             "minorgridcolor": "white",
             "startlinecolor": "rgb(36,36,36)"
            },
            "baxis": {
             "endlinecolor": "rgb(36,36,36)",
             "gridcolor": "white",
             "linecolor": "white",
             "minorgridcolor": "white",
             "startlinecolor": "rgb(36,36,36)"
            },
            "type": "carpet"
           }
          ],
          "choropleth": [
           {
            "colorbar": {
             "outlinewidth": 1,
             "tickcolor": "rgb(36,36,36)",
             "ticks": "outside"
            },
            "type": "choropleth"
           }
          ],
          "contour": [
           {
            "colorbar": {
             "outlinewidth": 1,
             "tickcolor": "rgb(36,36,36)",
             "ticks": "outside"
            },
            "colorscale": [
             [
              0,
              "#440154"
             ],
             [
              0.1111111111111111,
              "#482878"
             ],
             [
              0.2222222222222222,
              "#3e4989"
             ],
             [
              0.3333333333333333,
              "#31688e"
             ],
             [
              0.4444444444444444,
              "#26828e"
             ],
             [
              0.5555555555555556,
              "#1f9e89"
             ],
             [
              0.6666666666666666,
              "#35b779"
             ],
             [
              0.7777777777777778,
              "#6ece58"
             ],
             [
              0.8888888888888888,
              "#b5de2b"
             ],
             [
              1,
              "#fde725"
             ]
            ],
            "type": "contour"
           }
          ],
          "contourcarpet": [
           {
            "colorbar": {
             "outlinewidth": 1,
             "tickcolor": "rgb(36,36,36)",
             "ticks": "outside"
            },
            "type": "contourcarpet"
           }
          ],
          "heatmap": [
           {
            "colorbar": {
             "outlinewidth": 1,
             "tickcolor": "rgb(36,36,36)",
             "ticks": "outside"
            },
            "colorscale": [
             [
              0,
              "#440154"
             ],
             [
              0.1111111111111111,
              "#482878"
             ],
             [
              0.2222222222222222,
              "#3e4989"
             ],
             [
              0.3333333333333333,
              "#31688e"
             ],
             [
              0.4444444444444444,
              "#26828e"
             ],
             [
              0.5555555555555556,
              "#1f9e89"
             ],
             [
              0.6666666666666666,
              "#35b779"
             ],
             [
              0.7777777777777778,
              "#6ece58"
             ],
             [
              0.8888888888888888,
              "#b5de2b"
             ],
             [
              1,
              "#fde725"
             ]
            ],
            "type": "heatmap"
           }
          ],
          "heatmapgl": [
           {
            "colorbar": {
             "outlinewidth": 1,
             "tickcolor": "rgb(36,36,36)",
             "ticks": "outside"
            },
            "colorscale": [
             [
              0,
              "#440154"
             ],
             [
              0.1111111111111111,
              "#482878"
             ],
             [
              0.2222222222222222,
              "#3e4989"
             ],
             [
              0.3333333333333333,
              "#31688e"
             ],
             [
              0.4444444444444444,
              "#26828e"
             ],
             [
              0.5555555555555556,
              "#1f9e89"
             ],
             [
              0.6666666666666666,
              "#35b779"
             ],
             [
              0.7777777777777778,
              "#6ece58"
             ],
             [
              0.8888888888888888,
              "#b5de2b"
             ],
             [
              1,
              "#fde725"
             ]
            ],
            "type": "heatmapgl"
           }
          ],
          "histogram": [
           {
            "marker": {
             "line": {
              "color": "white",
              "width": 0.6
             }
            },
            "type": "histogram"
           }
          ],
          "histogram2d": [
           {
            "colorbar": {
             "outlinewidth": 1,
             "tickcolor": "rgb(36,36,36)",
             "ticks": "outside"
            },
            "colorscale": [
             [
              0,
              "#440154"
             ],
             [
              0.1111111111111111,
              "#482878"
             ],
             [
              0.2222222222222222,
              "#3e4989"
             ],
             [
              0.3333333333333333,
              "#31688e"
             ],
             [
              0.4444444444444444,
              "#26828e"
             ],
             [
              0.5555555555555556,
              "#1f9e89"
             ],
             [
              0.6666666666666666,
              "#35b779"
             ],
             [
              0.7777777777777778,
              "#6ece58"
             ],
             [
              0.8888888888888888,
              "#b5de2b"
             ],
             [
              1,
              "#fde725"
             ]
            ],
            "type": "histogram2d"
           }
          ],
          "histogram2dcontour": [
           {
            "colorbar": {
             "outlinewidth": 1,
             "tickcolor": "rgb(36,36,36)",
             "ticks": "outside"
            },
            "colorscale": [
             [
              0,
              "#440154"
             ],
             [
              0.1111111111111111,
              "#482878"
             ],
             [
              0.2222222222222222,
              "#3e4989"
             ],
             [
              0.3333333333333333,
              "#31688e"
             ],
             [
              0.4444444444444444,
              "#26828e"
             ],
             [
              0.5555555555555556,
              "#1f9e89"
             ],
             [
              0.6666666666666666,
              "#35b779"
             ],
             [
              0.7777777777777778,
              "#6ece58"
             ],
             [
              0.8888888888888888,
              "#b5de2b"
             ],
             [
              1,
              "#fde725"
             ]
            ],
            "type": "histogram2dcontour"
           }
          ],
          "mesh3d": [
           {
            "colorbar": {
             "outlinewidth": 1,
             "tickcolor": "rgb(36,36,36)",
             "ticks": "outside"
            },
            "type": "mesh3d"
           }
          ],
          "parcoords": [
           {
            "line": {
             "colorbar": {
              "outlinewidth": 1,
              "tickcolor": "rgb(36,36,36)",
              "ticks": "outside"
             }
            },
            "type": "parcoords"
           }
          ],
          "pie": [
           {
            "automargin": true,
            "type": "pie"
           }
          ],
          "scatter": [
           {
            "fillpattern": {
             "fillmode": "overlay",
             "size": 10,
             "solidity": 0.2
            },
            "type": "scatter"
           }
          ],
          "scatter3d": [
           {
            "line": {
             "colorbar": {
              "outlinewidth": 1,
              "tickcolor": "rgb(36,36,36)",
              "ticks": "outside"
             }
            },
            "marker": {
             "colorbar": {
              "outlinewidth": 1,
              "tickcolor": "rgb(36,36,36)",
              "ticks": "outside"
             }
            },
            "type": "scatter3d"
           }
          ],
          "scattercarpet": [
           {
            "marker": {
             "colorbar": {
              "outlinewidth": 1,
              "tickcolor": "rgb(36,36,36)",
              "ticks": "outside"
             }
            },
            "type": "scattercarpet"
           }
          ],
          "scattergeo": [
           {
            "marker": {
             "colorbar": {
              "outlinewidth": 1,
              "tickcolor": "rgb(36,36,36)",
              "ticks": "outside"
             }
            },
            "type": "scattergeo"
           }
          ],
          "scattergl": [
           {
            "marker": {
             "colorbar": {
              "outlinewidth": 1,
              "tickcolor": "rgb(36,36,36)",
              "ticks": "outside"
             }
            },
            "type": "scattergl"
           }
          ],
          "scattermapbox": [
           {
            "marker": {
             "colorbar": {
              "outlinewidth": 1,
              "tickcolor": "rgb(36,36,36)",
              "ticks": "outside"
             }
            },
            "type": "scattermapbox"
           }
          ],
          "scatterpolar": [
           {
            "marker": {
             "colorbar": {
              "outlinewidth": 1,
              "tickcolor": "rgb(36,36,36)",
              "ticks": "outside"
             }
            },
            "type": "scatterpolar"
           }
          ],
          "scatterpolargl": [
           {
            "marker": {
             "colorbar": {
              "outlinewidth": 1,
              "tickcolor": "rgb(36,36,36)",
              "ticks": "outside"
             }
            },
            "type": "scatterpolargl"
           }
          ],
          "scatterternary": [
           {
            "marker": {
             "colorbar": {
              "outlinewidth": 1,
              "tickcolor": "rgb(36,36,36)",
              "ticks": "outside"
             }
            },
            "type": "scatterternary"
           }
          ],
          "surface": [
           {
            "colorbar": {
             "outlinewidth": 1,
             "tickcolor": "rgb(36,36,36)",
             "ticks": "outside"
            },
            "colorscale": [
             [
              0,
              "#440154"
             ],
             [
              0.1111111111111111,
              "#482878"
             ],
             [
              0.2222222222222222,
              "#3e4989"
             ],
             [
              0.3333333333333333,
              "#31688e"
             ],
             [
              0.4444444444444444,
              "#26828e"
             ],
             [
              0.5555555555555556,
              "#1f9e89"
             ],
             [
              0.6666666666666666,
              "#35b779"
             ],
             [
              0.7777777777777778,
              "#6ece58"
             ],
             [
              0.8888888888888888,
              "#b5de2b"
             ],
             [
              1,
              "#fde725"
             ]
            ],
            "type": "surface"
           }
          ],
          "table": [
           {
            "cells": {
             "fill": {
              "color": "rgb(237,237,237)"
             },
             "line": {
              "color": "white"
             }
            },
            "header": {
             "fill": {
              "color": "rgb(217,217,217)"
             },
             "line": {
              "color": "white"
             }
            },
            "type": "table"
           }
          ]
         },
         "layout": {
          "annotationdefaults": {
           "arrowhead": 0,
           "arrowwidth": 1
          },
          "autotypenumbers": "strict",
          "coloraxis": {
           "colorbar": {
            "outlinewidth": 1,
            "tickcolor": "rgb(36,36,36)",
            "ticks": "outside"
           }
          },
          "colorscale": {
           "diverging": [
            [
             0,
             "rgb(103,0,31)"
            ],
            [
             0.1,
             "rgb(178,24,43)"
            ],
            [
             0.2,
             "rgb(214,96,77)"
            ],
            [
             0.3,
             "rgb(244,165,130)"
            ],
            [
             0.4,
             "rgb(253,219,199)"
            ],
            [
             0.5,
             "rgb(247,247,247)"
            ],
            [
             0.6,
             "rgb(209,229,240)"
            ],
            [
             0.7,
             "rgb(146,197,222)"
            ],
            [
             0.8,
             "rgb(67,147,195)"
            ],
            [
             0.9,
             "rgb(33,102,172)"
            ],
            [
             1,
             "rgb(5,48,97)"
            ]
           ],
           "sequential": [
            [
             0,
             "#440154"
            ],
            [
             0.1111111111111111,
             "#482878"
            ],
            [
             0.2222222222222222,
             "#3e4989"
            ],
            [
             0.3333333333333333,
             "#31688e"
            ],
            [
             0.4444444444444444,
             "#26828e"
            ],
            [
             0.5555555555555556,
             "#1f9e89"
            ],
            [
             0.6666666666666666,
             "#35b779"
            ],
            [
             0.7777777777777778,
             "#6ece58"
            ],
            [
             0.8888888888888888,
             "#b5de2b"
            ],
            [
             1,
             "#fde725"
            ]
           ],
           "sequentialminus": [
            [
             0,
             "#440154"
            ],
            [
             0.1111111111111111,
             "#482878"
            ],
            [
             0.2222222222222222,
             "#3e4989"
            ],
            [
             0.3333333333333333,
             "#31688e"
            ],
            [
             0.4444444444444444,
             "#26828e"
            ],
            [
             0.5555555555555556,
             "#1f9e89"
            ],
            [
             0.6666666666666666,
             "#35b779"
            ],
            [
             0.7777777777777778,
             "#6ece58"
            ],
            [
             0.8888888888888888,
             "#b5de2b"
            ],
            [
             1,
             "#fde725"
            ]
           ]
          },
          "colorway": [
           "#1F77B4",
           "#FF7F0E",
           "#2CA02C",
           "#D62728",
           "#9467BD",
           "#8C564B",
           "#E377C2",
           "#7F7F7F",
           "#BCBD22",
           "#17BECF"
          ],
          "font": {
           "color": "rgb(36,36,36)"
          },
          "geo": {
           "bgcolor": "white",
           "lakecolor": "white",
           "landcolor": "white",
           "showlakes": true,
           "showland": true,
           "subunitcolor": "white"
          },
          "hoverlabel": {
           "align": "left"
          },
          "hovermode": "closest",
          "mapbox": {
           "style": "light"
          },
          "paper_bgcolor": "white",
          "plot_bgcolor": "white",
          "polar": {
           "angularaxis": {
            "gridcolor": "rgb(232,232,232)",
            "linecolor": "rgb(36,36,36)",
            "showgrid": false,
            "showline": true,
            "ticks": "outside"
           },
           "bgcolor": "white",
           "radialaxis": {
            "gridcolor": "rgb(232,232,232)",
            "linecolor": "rgb(36,36,36)",
            "showgrid": false,
            "showline": true,
            "ticks": "outside"
           }
          },
          "scene": {
           "xaxis": {
            "backgroundcolor": "white",
            "gridcolor": "rgb(232,232,232)",
            "gridwidth": 2,
            "linecolor": "rgb(36,36,36)",
            "showbackground": true,
            "showgrid": false,
            "showline": true,
            "ticks": "outside",
            "zeroline": false,
            "zerolinecolor": "rgb(36,36,36)"
           },
           "yaxis": {
            "backgroundcolor": "white",
            "gridcolor": "rgb(232,232,232)",
            "gridwidth": 2,
            "linecolor": "rgb(36,36,36)",
            "showbackground": true,
            "showgrid": false,
            "showline": true,
            "ticks": "outside",
            "zeroline": false,
            "zerolinecolor": "rgb(36,36,36)"
           },
           "zaxis": {
            "backgroundcolor": "white",
            "gridcolor": "rgb(232,232,232)",
            "gridwidth": 2,
            "linecolor": "rgb(36,36,36)",
            "showbackground": true,
            "showgrid": false,
            "showline": true,
            "ticks": "outside",
            "zeroline": false,
            "zerolinecolor": "rgb(36,36,36)"
           }
          },
          "shapedefaults": {
           "fillcolor": "black",
           "line": {
            "width": 0
           },
           "opacity": 0.3
          },
          "ternary": {
           "aaxis": {
            "gridcolor": "rgb(232,232,232)",
            "linecolor": "rgb(36,36,36)",
            "showgrid": false,
            "showline": true,
            "ticks": "outside"
           },
           "baxis": {
            "gridcolor": "rgb(232,232,232)",
            "linecolor": "rgb(36,36,36)",
            "showgrid": false,
            "showline": true,
            "ticks": "outside"
           },
           "bgcolor": "white",
           "caxis": {
            "gridcolor": "rgb(232,232,232)",
            "linecolor": "rgb(36,36,36)",
            "showgrid": false,
            "showline": true,
            "ticks": "outside"
           }
          },
          "title": {
           "x": 0.05
          },
          "xaxis": {
           "automargin": true,
           "gridcolor": "rgb(232,232,232)",
           "linecolor": "rgb(36,36,36)",
           "showgrid": false,
           "showline": true,
           "ticks": "outside",
           "title": {
            "standoff": 15
           },
           "zeroline": false,
           "zerolinecolor": "rgb(36,36,36)"
          },
          "yaxis": {
           "automargin": true,
           "gridcolor": "rgb(232,232,232)",
           "linecolor": "rgb(36,36,36)",
           "showgrid": false,
           "showline": true,
           "ticks": "outside",
           "title": {
            "standoff": 15
           },
           "zeroline": false,
           "zerolinecolor": "rgb(36,36,36)"
          }
         }
        },
        "title": {
         "font": {
          "color": "Black",
          "size": 22
         },
         "text": "<b>Intertopic Distance Map</b>",
         "x": 0.5,
         "xanchor": "center",
         "y": 0.95,
         "yanchor": "top"
        },
        "width": 650,
        "xaxis": {
         "anchor": "y",
         "domain": [
          0,
          1
         ],
         "range": [
          10.823798036575317,
          17.99639735221863
         ],
         "title": {
          "text": ""
         },
         "visible": false
        },
        "yaxis": {
         "anchor": "x",
         "domain": [
          0,
          1
         ],
         "range": [
          -4.080848824977875,
          3.416383445262909
         ],
         "title": {
          "text": ""
         },
         "visible": false
        }
       }
      }
     },
     "metadata": {},
     "output_type": "display_data"
    }
   ],
   "source": [
    "model.visualize_topics()"
   ]
  },
  {
   "cell_type": "code",
   "execution_count": 18,
   "metadata": {},
   "outputs": [
    {
     "data": {
      "application/vnd.plotly.v1+json": {
       "config": {
        "plotlyServerURL": "https://plot.ly"
       },
       "data": [
        {
         "coloraxis": "coloraxis",
         "hovertemplate": "x: %{x}<br>y: %{y}<br>Similarity Score: %{z}<extra></extra>",
         "name": "0",
         "type": "heatmap",
         "x": [
          "0_roce_byl_po",
          "1_jsou_organismů_organismy",
          "2_film_český_získal",
          "3_je_sport_sportem",
          "4_chemická_jsou_reakce",
          "5_buněk_je_proces",
          "6_atletika_turnaj_wimbledon",
          "7_reakce_exotermické_hoře"
         ],
         "xaxis": "x",
         "y": [
          "0_roce_byl_po",
          "1_jsou_organismů_organismy",
          "2_film_český_získal",
          "3_je_sport_sportem",
          "4_chemická_jsou_reakce",
          "5_buněk_je_proces",
          "6_atletika_turnaj_wimbledon",
          "7_reakce_exotermické_hoře"
         ],
         "yaxis": "y",
         "z": [
          [
           1.000000238418579,
           0.8135478496551514,
           0.8240262269973755,
           0.8648350238800049,
           0.9097477197647095,
           0.8694851398468018,
           0.8453904390335083,
           0.7981001138687134
          ],
          [
           0.8135478496551514,
           0.9999999403953552,
           0.6870725154876709,
           0.7253488302230835,
           0.859398365020752,
           0.836236834526062,
           0.7027895450592041,
           0.6930797696113586
          ],
          [
           0.8240262269973755,
           0.6870725154876709,
           0.9999997019767761,
           0.7659900784492493,
           0.7724680304527283,
           0.7341052293777466,
           0.7424604892730713,
           0.6460797786712646
          ],
          [
           0.8648350238800049,
           0.7253488302230835,
           0.7659900784492493,
           1.000000238418579,
           0.8305091261863708,
           0.8375335931777954,
           0.8541568517684937,
           0.6992403268814087
          ],
          [
           0.9097477197647095,
           0.859398365020752,
           0.7724680304527283,
           0.8305091261863708,
           1.000000238418579,
           0.8476476073265076,
           0.813301146030426,
           0.8071994781494141
          ],
          [
           0.8694851398468018,
           0.836236834526062,
           0.7341052293777466,
           0.8375335931777954,
           0.8476476073265076,
           1,
           0.7703139781951904,
           0.6955721974372864
          ],
          [
           0.8453904390335083,
           0.7027895450592041,
           0.7424604892730713,
           0.8541568517684937,
           0.813301146030426,
           0.7703139781951904,
           1,
           0.6757857203483582
          ],
          [
           0.7981001138687134,
           0.6930797696113586,
           0.6460797786712646,
           0.6992403268814087,
           0.8071994781494141,
           0.6955721974372864,
           0.6757857203483582,
           1.000000238418579
          ]
         ]
        }
       ],
       "layout": {
        "coloraxis": {
         "colorbar": {
          "title": {
           "text": "Similarity Score"
          }
         },
         "colorscale": [
          [
           0,
           "rgb(247,252,240)"
          ],
          [
           0.125,
           "rgb(224,243,219)"
          ],
          [
           0.25,
           "rgb(204,235,197)"
          ],
          [
           0.375,
           "rgb(168,221,181)"
          ],
          [
           0.5,
           "rgb(123,204,196)"
          ],
          [
           0.625,
           "rgb(78,179,211)"
          ],
          [
           0.75,
           "rgb(43,140,190)"
          ],
          [
           0.875,
           "rgb(8,104,172)"
          ],
          [
           1,
           "rgb(8,64,129)"
          ]
         ]
        },
        "height": 800,
        "hoverlabel": {
         "bgcolor": "white",
         "font": {
          "family": "Rockwell",
          "size": 16
         }
        },
        "legend": {
         "title": {
          "text": "Trend"
         }
        },
        "margin": {
         "t": 60
        },
        "showlegend": true,
        "template": {
         "data": {
          "bar": [
           {
            "error_x": {
             "color": "#2a3f5f"
            },
            "error_y": {
             "color": "#2a3f5f"
            },
            "marker": {
             "line": {
              "color": "#E5ECF6",
              "width": 0.5
             },
             "pattern": {
              "fillmode": "overlay",
              "size": 10,
              "solidity": 0.2
             }
            },
            "type": "bar"
           }
          ],
          "barpolar": [
           {
            "marker": {
             "line": {
              "color": "#E5ECF6",
              "width": 0.5
             },
             "pattern": {
              "fillmode": "overlay",
              "size": 10,
              "solidity": 0.2
             }
            },
            "type": "barpolar"
           }
          ],
          "carpet": [
           {
            "aaxis": {
             "endlinecolor": "#2a3f5f",
             "gridcolor": "white",
             "linecolor": "white",
             "minorgridcolor": "white",
             "startlinecolor": "#2a3f5f"
            },
            "baxis": {
             "endlinecolor": "#2a3f5f",
             "gridcolor": "white",
             "linecolor": "white",
             "minorgridcolor": "white",
             "startlinecolor": "#2a3f5f"
            },
            "type": "carpet"
           }
          ],
          "choropleth": [
           {
            "colorbar": {
             "outlinewidth": 0,
             "ticks": ""
            },
            "type": "choropleth"
           }
          ],
          "contour": [
           {
            "colorbar": {
             "outlinewidth": 0,
             "ticks": ""
            },
            "colorscale": [
             [
              0,
              "#0d0887"
             ],
             [
              0.1111111111111111,
              "#46039f"
             ],
             [
              0.2222222222222222,
              "#7201a8"
             ],
             [
              0.3333333333333333,
              "#9c179e"
             ],
             [
              0.4444444444444444,
              "#bd3786"
             ],
             [
              0.5555555555555556,
              "#d8576b"
             ],
             [
              0.6666666666666666,
              "#ed7953"
             ],
             [
              0.7777777777777778,
              "#fb9f3a"
             ],
             [
              0.8888888888888888,
              "#fdca26"
             ],
             [
              1,
              "#f0f921"
             ]
            ],
            "type": "contour"
           }
          ],
          "contourcarpet": [
           {
            "colorbar": {
             "outlinewidth": 0,
             "ticks": ""
            },
            "type": "contourcarpet"
           }
          ],
          "heatmap": [
           {
            "colorbar": {
             "outlinewidth": 0,
             "ticks": ""
            },
            "colorscale": [
             [
              0,
              "#0d0887"
             ],
             [
              0.1111111111111111,
              "#46039f"
             ],
             [
              0.2222222222222222,
              "#7201a8"
             ],
             [
              0.3333333333333333,
              "#9c179e"
             ],
             [
              0.4444444444444444,
              "#bd3786"
             ],
             [
              0.5555555555555556,
              "#d8576b"
             ],
             [
              0.6666666666666666,
              "#ed7953"
             ],
             [
              0.7777777777777778,
              "#fb9f3a"
             ],
             [
              0.8888888888888888,
              "#fdca26"
             ],
             [
              1,
              "#f0f921"
             ]
            ],
            "type": "heatmap"
           }
          ],
          "heatmapgl": [
           {
            "colorbar": {
             "outlinewidth": 0,
             "ticks": ""
            },
            "colorscale": [
             [
              0,
              "#0d0887"
             ],
             [
              0.1111111111111111,
              "#46039f"
             ],
             [
              0.2222222222222222,
              "#7201a8"
             ],
             [
              0.3333333333333333,
              "#9c179e"
             ],
             [
              0.4444444444444444,
              "#bd3786"
             ],
             [
              0.5555555555555556,
              "#d8576b"
             ],
             [
              0.6666666666666666,
              "#ed7953"
             ],
             [
              0.7777777777777778,
              "#fb9f3a"
             ],
             [
              0.8888888888888888,
              "#fdca26"
             ],
             [
              1,
              "#f0f921"
             ]
            ],
            "type": "heatmapgl"
           }
          ],
          "histogram": [
           {
            "marker": {
             "pattern": {
              "fillmode": "overlay",
              "size": 10,
              "solidity": 0.2
             }
            },
            "type": "histogram"
           }
          ],
          "histogram2d": [
           {
            "colorbar": {
             "outlinewidth": 0,
             "ticks": ""
            },
            "colorscale": [
             [
              0,
              "#0d0887"
             ],
             [
              0.1111111111111111,
              "#46039f"
             ],
             [
              0.2222222222222222,
              "#7201a8"
             ],
             [
              0.3333333333333333,
              "#9c179e"
             ],
             [
              0.4444444444444444,
              "#bd3786"
             ],
             [
              0.5555555555555556,
              "#d8576b"
             ],
             [
              0.6666666666666666,
              "#ed7953"
             ],
             [
              0.7777777777777778,
              "#fb9f3a"
             ],
             [
              0.8888888888888888,
              "#fdca26"
             ],
             [
              1,
              "#f0f921"
             ]
            ],
            "type": "histogram2d"
           }
          ],
          "histogram2dcontour": [
           {
            "colorbar": {
             "outlinewidth": 0,
             "ticks": ""
            },
            "colorscale": [
             [
              0,
              "#0d0887"
             ],
             [
              0.1111111111111111,
              "#46039f"
             ],
             [
              0.2222222222222222,
              "#7201a8"
             ],
             [
              0.3333333333333333,
              "#9c179e"
             ],
             [
              0.4444444444444444,
              "#bd3786"
             ],
             [
              0.5555555555555556,
              "#d8576b"
             ],
             [
              0.6666666666666666,
              "#ed7953"
             ],
             [
              0.7777777777777778,
              "#fb9f3a"
             ],
             [
              0.8888888888888888,
              "#fdca26"
             ],
             [
              1,
              "#f0f921"
             ]
            ],
            "type": "histogram2dcontour"
           }
          ],
          "mesh3d": [
           {
            "colorbar": {
             "outlinewidth": 0,
             "ticks": ""
            },
            "type": "mesh3d"
           }
          ],
          "parcoords": [
           {
            "line": {
             "colorbar": {
              "outlinewidth": 0,
              "ticks": ""
             }
            },
            "type": "parcoords"
           }
          ],
          "pie": [
           {
            "automargin": true,
            "type": "pie"
           }
          ],
          "scatter": [
           {
            "fillpattern": {
             "fillmode": "overlay",
             "size": 10,
             "solidity": 0.2
            },
            "type": "scatter"
           }
          ],
          "scatter3d": [
           {
            "line": {
             "colorbar": {
              "outlinewidth": 0,
              "ticks": ""
             }
            },
            "marker": {
             "colorbar": {
              "outlinewidth": 0,
              "ticks": ""
             }
            },
            "type": "scatter3d"
           }
          ],
          "scattercarpet": [
           {
            "marker": {
             "colorbar": {
              "outlinewidth": 0,
              "ticks": ""
             }
            },
            "type": "scattercarpet"
           }
          ],
          "scattergeo": [
           {
            "marker": {
             "colorbar": {
              "outlinewidth": 0,
              "ticks": ""
             }
            },
            "type": "scattergeo"
           }
          ],
          "scattergl": [
           {
            "marker": {
             "colorbar": {
              "outlinewidth": 0,
              "ticks": ""
             }
            },
            "type": "scattergl"
           }
          ],
          "scattermapbox": [
           {
            "marker": {
             "colorbar": {
              "outlinewidth": 0,
              "ticks": ""
             }
            },
            "type": "scattermapbox"
           }
          ],
          "scatterpolar": [
           {
            "marker": {
             "colorbar": {
              "outlinewidth": 0,
              "ticks": ""
             }
            },
            "type": "scatterpolar"
           }
          ],
          "scatterpolargl": [
           {
            "marker": {
             "colorbar": {
              "outlinewidth": 0,
              "ticks": ""
             }
            },
            "type": "scatterpolargl"
           }
          ],
          "scatterternary": [
           {
            "marker": {
             "colorbar": {
              "outlinewidth": 0,
              "ticks": ""
             }
            },
            "type": "scatterternary"
           }
          ],
          "surface": [
           {
            "colorbar": {
             "outlinewidth": 0,
             "ticks": ""
            },
            "colorscale": [
             [
              0,
              "#0d0887"
             ],
             [
              0.1111111111111111,
              "#46039f"
             ],
             [
              0.2222222222222222,
              "#7201a8"
             ],
             [
              0.3333333333333333,
              "#9c179e"
             ],
             [
              0.4444444444444444,
              "#bd3786"
             ],
             [
              0.5555555555555556,
              "#d8576b"
             ],
             [
              0.6666666666666666,
              "#ed7953"
             ],
             [
              0.7777777777777778,
              "#fb9f3a"
             ],
             [
              0.8888888888888888,
              "#fdca26"
             ],
             [
              1,
              "#f0f921"
             ]
            ],
            "type": "surface"
           }
          ],
          "table": [
           {
            "cells": {
             "fill": {
              "color": "#EBF0F8"
             },
             "line": {
              "color": "white"
             }
            },
            "header": {
             "fill": {
              "color": "#C8D4E3"
             },
             "line": {
              "color": "white"
             }
            },
            "type": "table"
           }
          ]
         },
         "layout": {
          "annotationdefaults": {
           "arrowcolor": "#2a3f5f",
           "arrowhead": 0,
           "arrowwidth": 1
          },
          "autotypenumbers": "strict",
          "coloraxis": {
           "colorbar": {
            "outlinewidth": 0,
            "ticks": ""
           }
          },
          "colorscale": {
           "diverging": [
            [
             0,
             "#8e0152"
            ],
            [
             0.1,
             "#c51b7d"
            ],
            [
             0.2,
             "#de77ae"
            ],
            [
             0.3,
             "#f1b6da"
            ],
            [
             0.4,
             "#fde0ef"
            ],
            [
             0.5,
             "#f7f7f7"
            ],
            [
             0.6,
             "#e6f5d0"
            ],
            [
             0.7,
             "#b8e186"
            ],
            [
             0.8,
             "#7fbc41"
            ],
            [
             0.9,
             "#4d9221"
            ],
            [
             1,
             "#276419"
            ]
           ],
           "sequential": [
            [
             0,
             "#0d0887"
            ],
            [
             0.1111111111111111,
             "#46039f"
            ],
            [
             0.2222222222222222,
             "#7201a8"
            ],
            [
             0.3333333333333333,
             "#9c179e"
            ],
            [
             0.4444444444444444,
             "#bd3786"
            ],
            [
             0.5555555555555556,
             "#d8576b"
            ],
            [
             0.6666666666666666,
             "#ed7953"
            ],
            [
             0.7777777777777778,
             "#fb9f3a"
            ],
            [
             0.8888888888888888,
             "#fdca26"
            ],
            [
             1,
             "#f0f921"
            ]
           ],
           "sequentialminus": [
            [
             0,
             "#0d0887"
            ],
            [
             0.1111111111111111,
             "#46039f"
            ],
            [
             0.2222222222222222,
             "#7201a8"
            ],
            [
             0.3333333333333333,
             "#9c179e"
            ],
            [
             0.4444444444444444,
             "#bd3786"
            ],
            [
             0.5555555555555556,
             "#d8576b"
            ],
            [
             0.6666666666666666,
             "#ed7953"
            ],
            [
             0.7777777777777778,
             "#fb9f3a"
            ],
            [
             0.8888888888888888,
             "#fdca26"
            ],
            [
             1,
             "#f0f921"
            ]
           ]
          },
          "colorway": [
           "#636efa",
           "#EF553B",
           "#00cc96",
           "#ab63fa",
           "#FFA15A",
           "#19d3f3",
           "#FF6692",
           "#B6E880",
           "#FF97FF",
           "#FECB52"
          ],
          "font": {
           "color": "#2a3f5f"
          },
          "geo": {
           "bgcolor": "white",
           "lakecolor": "white",
           "landcolor": "#E5ECF6",
           "showlakes": true,
           "showland": true,
           "subunitcolor": "white"
          },
          "hoverlabel": {
           "align": "left"
          },
          "hovermode": "closest",
          "mapbox": {
           "style": "light"
          },
          "paper_bgcolor": "white",
          "plot_bgcolor": "#E5ECF6",
          "polar": {
           "angularaxis": {
            "gridcolor": "white",
            "linecolor": "white",
            "ticks": ""
           },
           "bgcolor": "#E5ECF6",
           "radialaxis": {
            "gridcolor": "white",
            "linecolor": "white",
            "ticks": ""
           }
          },
          "scene": {
           "xaxis": {
            "backgroundcolor": "#E5ECF6",
            "gridcolor": "white",
            "gridwidth": 2,
            "linecolor": "white",
            "showbackground": true,
            "ticks": "",
            "zerolinecolor": "white"
           },
           "yaxis": {
            "backgroundcolor": "#E5ECF6",
            "gridcolor": "white",
            "gridwidth": 2,
            "linecolor": "white",
            "showbackground": true,
            "ticks": "",
            "zerolinecolor": "white"
           },
           "zaxis": {
            "backgroundcolor": "#E5ECF6",
            "gridcolor": "white",
            "gridwidth": 2,
            "linecolor": "white",
            "showbackground": true,
            "ticks": "",
            "zerolinecolor": "white"
           }
          },
          "shapedefaults": {
           "line": {
            "color": "#2a3f5f"
           }
          },
          "ternary": {
           "aaxis": {
            "gridcolor": "white",
            "linecolor": "white",
            "ticks": ""
           },
           "baxis": {
            "gridcolor": "white",
            "linecolor": "white",
            "ticks": ""
           },
           "bgcolor": "#E5ECF6",
           "caxis": {
            "gridcolor": "white",
            "linecolor": "white",
            "ticks": ""
           }
          },
          "title": {
           "x": 0.05
          },
          "xaxis": {
           "automargin": true,
           "gridcolor": "white",
           "linecolor": "white",
           "ticks": "",
           "title": {
            "standoff": 15
           },
           "zerolinecolor": "white",
           "zerolinewidth": 2
          },
          "yaxis": {
           "automargin": true,
           "gridcolor": "white",
           "linecolor": "white",
           "ticks": "",
           "title": {
            "standoff": 15
           },
           "zerolinecolor": "white",
           "zerolinewidth": 2
          }
         }
        },
        "title": {
         "font": {
          "color": "Black",
          "size": 22
         },
         "text": "<b>Similarity Matrix</b>",
         "x": 0.55,
         "xanchor": "center",
         "y": 0.95,
         "yanchor": "top"
        },
        "width": 800,
        "xaxis": {
         "anchor": "y",
         "constrain": "domain",
         "domain": [
          0,
          1
         ],
         "scaleanchor": "y"
        },
        "yaxis": {
         "anchor": "x",
         "autorange": "reversed",
         "constrain": "domain",
         "domain": [
          0,
          1
         ]
        }
       }
      }
     },
     "metadata": {},
     "output_type": "display_data"
    }
   ],
   "source": [
    "model.visualize_heatmap(top_n_topics=20, width=800, height=800)"
   ]
  },
  {
   "cell_type": "markdown",
   "metadata": {},
   "source": [
    "## Representation - Count Vectorizer"
   ]
  },
  {
   "cell_type": "markdown",
   "metadata": {},
   "source": [
    "**Update topics**"
   ]
  },
  {
   "cell_type": "code",
   "execution_count": 19,
   "metadata": {},
   "outputs": [],
   "source": [
    "model.update_topics(docs, vectorizer_model=vectorizer_model)"
   ]
  },
  {
   "cell_type": "markdown",
   "metadata": {},
   "source": [
    "**Get counts of the topics**"
   ]
  },
  {
   "cell_type": "code",
   "execution_count": 20,
   "metadata": {},
   "outputs": [
    {
     "data": {
      "text/html": [
       "<div>\n",
       "<style scoped>\n",
       "    .dataframe tbody tr th:only-of-type {\n",
       "        vertical-align: middle;\n",
       "    }\n",
       "\n",
       "    .dataframe tbody tr th {\n",
       "        vertical-align: top;\n",
       "    }\n",
       "\n",
       "    .dataframe thead th {\n",
       "        text-align: right;\n",
       "    }\n",
       "</style>\n",
       "<table border=\"1\" class=\"dataframe\">\n",
       "  <thead>\n",
       "    <tr style=\"text-align: right;\">\n",
       "      <th></th>\n",
       "      <th>Topic</th>\n",
       "      <th>Count</th>\n",
       "      <th>Name</th>\n",
       "      <th>Representation</th>\n",
       "      <th>Representative_Docs</th>\n",
       "    </tr>\n",
       "  </thead>\n",
       "  <tbody>\n",
       "    <tr>\n",
       "      <th>0</th>\n",
       "      <td>0</td>\n",
       "      <td>131</td>\n",
       "      <td>0_roce_století_české_měla</td>\n",
       "      <td>[roce, století, české, měla, světové, revoluce...</td>\n",
       "      <td>[Třicetiletá válka v 17. století měla tragický...</td>\n",
       "    </tr>\n",
       "    <tr>\n",
       "      <th>1</th>\n",
       "      <td>1</td>\n",
       "      <td>95</td>\n",
       "      <td>1_organismů_organismy_zkoumá_dna</td>\n",
       "      <td>[organismů, organismy, zkoumá, dna, živých, ži...</td>\n",
       "      <td>[Ekologie zkoumá vztahy mezi organismy a jejic...</td>\n",
       "    </tr>\n",
       "    <tr>\n",
       "      <th>2</th>\n",
       "      <td>2</td>\n",
       "      <td>82</td>\n",
       "      <td>2_film_český_získal_filmová</td>\n",
       "      <td>[film, český, získal, filmová, filmy, český fi...</td>\n",
       "      <td>[Kolya získal Oscara za nejlepší cizojazyčný f...</td>\n",
       "    </tr>\n",
       "    <tr>\n",
       "      <th>3</th>\n",
       "      <td>3</td>\n",
       "      <td>75</td>\n",
       "      <td>3_sport_sportem_oblíbeným_cyklistika</td>\n",
       "      <td>[sport, sportem, oblíbeným, cyklistika, sporto...</td>\n",
       "      <td>[Cyklistika je oblíbeným sportem pro rekreační...</td>\n",
       "    </tr>\n",
       "    <tr>\n",
       "      <th>4</th>\n",
       "      <td>4</td>\n",
       "      <td>72</td>\n",
       "      <td>4_chemická_reakce_atomy_rychlosti</td>\n",
       "      <td>[chemická, reakce, atomy, rychlosti, prvky, mo...</td>\n",
       "      <td>[Chemická rovnováha nastává, když rychlosti př...</td>\n",
       "    </tr>\n",
       "    <tr>\n",
       "      <th>5</th>\n",
       "      <td>5</td>\n",
       "      <td>22</td>\n",
       "      <td>5_buněk_proces_prostředí_nejstarších univerzit...</td>\n",
       "      <td>[buněk, proces, prostředí, nejstarších univerz...</td>\n",
       "      <td>[Karlova univerzita v Praze byla založena v ro...</td>\n",
       "    </tr>\n",
       "    <tr>\n",
       "      <th>6</th>\n",
       "      <td>6</td>\n",
       "      <td>11</td>\n",
       "      <td>6_atletika_atletika zahrnuje_skok dálky_teniso...</td>\n",
       "      <td>[atletika, atletika zahrnuje, skok dálky, teni...</td>\n",
       "      <td>[Tenisový turnaj Wimbledon je považován za nej...</td>\n",
       "    </tr>\n",
       "    <tr>\n",
       "      <th>7</th>\n",
       "      <td>7</td>\n",
       "      <td>11</td>\n",
       "      <td>7_reakce_exotermické_hoře_bílé hoře</td>\n",
       "      <td>[reakce, exotermické, hoře, bílé hoře, endoter...</td>\n",
       "      <td>[Chemické reakce mohou být exotermické nebo en...</td>\n",
       "    </tr>\n",
       "  </tbody>\n",
       "</table>\n",
       "</div>"
      ],
      "text/plain": [
       "   Topic  Count                                               Name  \\\n",
       "0      0    131                          0_roce_století_české_měla   \n",
       "1      1     95                   1_organismů_organismy_zkoumá_dna   \n",
       "2      2     82                        2_film_český_získal_filmová   \n",
       "3      3     75               3_sport_sportem_oblíbeným_cyklistika   \n",
       "4      4     72                  4_chemická_reakce_atomy_rychlosti   \n",
       "5      5     22  5_buněk_proces_prostředí_nejstarších univerzit...   \n",
       "6      6     11  6_atletika_atletika zahrnuje_skok dálky_teniso...   \n",
       "7      7     11                7_reakce_exotermické_hoře_bílé hoře   \n",
       "\n",
       "                                      Representation  \\\n",
       "0  [roce, století, české, měla, světové, revoluce...   \n",
       "1  [organismů, organismy, zkoumá, dna, živých, ži...   \n",
       "2  [film, český, získal, filmová, filmy, český fi...   \n",
       "3  [sport, sportem, oblíbeným, cyklistika, sporto...   \n",
       "4  [chemická, reakce, atomy, rychlosti, prvky, mo...   \n",
       "5  [buněk, proces, prostředí, nejstarších univerz...   \n",
       "6  [atletika, atletika zahrnuje, skok dálky, teni...   \n",
       "7  [reakce, exotermické, hoře, bílé hoře, endoter...   \n",
       "\n",
       "                                 Representative_Docs  \n",
       "0  [Třicetiletá válka v 17. století měla tragický...  \n",
       "1  [Ekologie zkoumá vztahy mezi organismy a jejic...  \n",
       "2  [Kolya získal Oscara za nejlepší cizojazyčný f...  \n",
       "3  [Cyklistika je oblíbeným sportem pro rekreační...  \n",
       "4  [Chemická rovnováha nastává, když rychlosti př...  \n",
       "5  [Karlova univerzita v Praze byla založena v ro...  \n",
       "6  [Tenisový turnaj Wimbledon je považován za nej...  \n",
       "7  [Chemické reakce mohou být exotermické nebo en...  "
      ]
     },
     "execution_count": 20,
     "metadata": {},
     "output_type": "execute_result"
    }
   ],
   "source": [
    "results_unique_topics = model.get_topic_info()\n",
    "results_unique_topics[:20]"
   ]
  },
  {
   "cell_type": "markdown",
   "metadata": {},
   "source": [
    "**Coherence score**"
   ]
  },
  {
   "cell_type": "code",
   "execution_count": 21,
   "metadata": {},
   "outputs": [
    {
     "data": {
      "text/plain": [
       "0.725"
      ]
     },
     "execution_count": 21,
     "metadata": {},
     "output_type": "execute_result"
    }
   ],
   "source": [
    "coherence_score(model=model, docs=docs, topics=topics)"
   ]
  },
  {
   "cell_type": "markdown",
   "metadata": {},
   "source": [
    "**Export voctorized data**"
   ]
  },
  {
   "cell_type": "code",
   "execution_count": 22,
   "metadata": {},
   "outputs": [],
   "source": [
    "# get results into a df\n",
    "results_vect = model.get_document_info(docs)\n",
    "\n",
    "# Export to Excel\n",
    "results_vect.to_excel(output_vect, index=False, engine='openpyxl')"
   ]
  },
  {
   "cell_type": "markdown",
   "metadata": {},
   "source": [
    "## Topic reduction"
   ]
  },
  {
   "cell_type": "code",
   "execution_count": 23,
   "metadata": {},
   "outputs": [],
   "source": [
    "# manually merge topics\n",
    "topics_to_merge = [(7, 4),\n",
    "                   (2, 5, 6)\n",
    "                   ]\n",
    "\n",
    "\n",
    "model.merge_topics(docs, topics_to_merge)"
   ]
  },
  {
   "cell_type": "code",
   "execution_count": 24,
   "metadata": {},
   "outputs": [
    {
     "data": {
      "text/plain": [
       "' # Further reduce topics\\nnew_model = model.reduce_topics(docs, nr_topics=5) '"
      ]
     },
     "execution_count": 24,
     "metadata": {},
     "output_type": "execute_result"
    }
   ],
   "source": [
    "\"\"\" # Further reduce topics\n",
    "new_model = model.reduce_topics(docs, nr_topics=5) \"\"\""
   ]
  },
  {
   "cell_type": "code",
   "execution_count": 25,
   "metadata": {},
   "outputs": [
    {
     "data": {
      "text/html": [
       "<div>\n",
       "<style scoped>\n",
       "    .dataframe tbody tr th:only-of-type {\n",
       "        vertical-align: middle;\n",
       "    }\n",
       "\n",
       "    .dataframe tbody tr th {\n",
       "        vertical-align: top;\n",
       "    }\n",
       "\n",
       "    .dataframe thead th {\n",
       "        text-align: right;\n",
       "    }\n",
       "</style>\n",
       "<table border=\"1\" class=\"dataframe\">\n",
       "  <thead>\n",
       "    <tr style=\"text-align: right;\">\n",
       "      <th></th>\n",
       "      <th>Topic</th>\n",
       "      <th>Count</th>\n",
       "      <th>Name</th>\n",
       "      <th>Representation</th>\n",
       "      <th>Representative_Docs</th>\n",
       "    </tr>\n",
       "  </thead>\n",
       "  <tbody>\n",
       "    <tr>\n",
       "      <th>0</th>\n",
       "      <td>0</td>\n",
       "      <td>131</td>\n",
       "      <td>0_roce_století_české_měla</td>\n",
       "      <td>[roce, století, české, měla, světové, revoluce...</td>\n",
       "      <td>[Fotosyntéza je proces, při kterém rostliny vy...</td>\n",
       "    </tr>\n",
       "    <tr>\n",
       "      <th>1</th>\n",
       "      <td>1</td>\n",
       "      <td>115</td>\n",
       "      <td>1_film_český_získal_filmová</td>\n",
       "      <td>[film, český, získal, filmová, filmy, filmu, č...</td>\n",
       "      <td>[Kolya režírovaný Janem Svěrákem vyhrál Oscara...</td>\n",
       "    </tr>\n",
       "    <tr>\n",
       "      <th>2</th>\n",
       "      <td>2</td>\n",
       "      <td>95</td>\n",
       "      <td>2_organismů_organismy_zkoumá_dna</td>\n",
       "      <td>[organismů, organismy, zkoumá, dna, živých, ži...</td>\n",
       "      <td>[Ekologie zkoumá vztahy mezi organismy a jejic...</td>\n",
       "    </tr>\n",
       "    <tr>\n",
       "      <th>3</th>\n",
       "      <td>3</td>\n",
       "      <td>83</td>\n",
       "      <td>3_reakce_chemická_chemické_rychlosti</td>\n",
       "      <td>[reakce, chemická, chemické, rychlosti, atomy,...</td>\n",
       "      <td>[Chemická rovnováha nastává, když rychlosti př...</td>\n",
       "    </tr>\n",
       "    <tr>\n",
       "      <th>4</th>\n",
       "      <td>4</td>\n",
       "      <td>75</td>\n",
       "      <td>4_sport_sportem_oblíbeným_cyklistika</td>\n",
       "      <td>[sport, sportem, oblíbeným, cyklistika, sporto...</td>\n",
       "      <td>[Judo je bojový sport, který zdůrazňuje techni...</td>\n",
       "    </tr>\n",
       "  </tbody>\n",
       "</table>\n",
       "</div>"
      ],
      "text/plain": [
       "   Topic  Count                                  Name  \\\n",
       "0      0    131             0_roce_století_české_měla   \n",
       "1      1    115           1_film_český_získal_filmová   \n",
       "2      2     95      2_organismů_organismy_zkoumá_dna   \n",
       "3      3     83  3_reakce_chemická_chemické_rychlosti   \n",
       "4      4     75  4_sport_sportem_oblíbeným_cyklistika   \n",
       "\n",
       "                                      Representation  \\\n",
       "0  [roce, století, české, měla, světové, revoluce...   \n",
       "1  [film, český, získal, filmová, filmy, filmu, č...   \n",
       "2  [organismů, organismy, zkoumá, dna, živých, ži...   \n",
       "3  [reakce, chemická, chemické, rychlosti, atomy,...   \n",
       "4  [sport, sportem, oblíbeným, cyklistika, sporto...   \n",
       "\n",
       "                                 Representative_Docs  \n",
       "0  [Fotosyntéza je proces, při kterém rostliny vy...  \n",
       "1  [Kolya režírovaný Janem Svěrákem vyhrál Oscara...  \n",
       "2  [Ekologie zkoumá vztahy mezi organismy a jejic...  \n",
       "3  [Chemická rovnováha nastává, když rychlosti př...  \n",
       "4  [Judo je bojový sport, který zdůrazňuje techni...  "
      ]
     },
     "execution_count": 25,
     "metadata": {},
     "output_type": "execute_result"
    }
   ],
   "source": [
    "model.get_topic_info()"
   ]
  },
  {
   "cell_type": "code",
   "execution_count": 26,
   "metadata": {},
   "outputs": [
    {
     "data": {
      "text/html": [
       "<div>\n",
       "<style scoped>\n",
       "    .dataframe tbody tr th:only-of-type {\n",
       "        vertical-align: middle;\n",
       "    }\n",
       "\n",
       "    .dataframe tbody tr th {\n",
       "        vertical-align: top;\n",
       "    }\n",
       "\n",
       "    .dataframe thead th {\n",
       "        text-align: right;\n",
       "    }\n",
       "</style>\n",
       "<table border=\"1\" class=\"dataframe\">\n",
       "  <thead>\n",
       "    <tr style=\"text-align: right;\">\n",
       "      <th></th>\n",
       "      <th>Document</th>\n",
       "      <th>Topic</th>\n",
       "      <th>Name</th>\n",
       "      <th>Representation</th>\n",
       "      <th>Representative_Docs</th>\n",
       "      <th>Top_n_words</th>\n",
       "      <th>Representative_document</th>\n",
       "    </tr>\n",
       "  </thead>\n",
       "  <tbody>\n",
       "    <tr>\n",
       "      <th>0</th>\n",
       "      <td>Fotbal je populárním sportem ve většině zemí.</td>\n",
       "      <td>4</td>\n",
       "      <td>4_sport_sportem_oblíbeným_cyklistika</td>\n",
       "      <td>[sport, sportem, oblíbeným, cyklistika, sporto...</td>\n",
       "      <td>[Judo je bojový sport, který zdůrazňuje techni...</td>\n",
       "      <td>sport - sportem - oblíbeným - cyklistika - spo...</td>\n",
       "      <td>False</td>\n",
       "    </tr>\n",
       "    <tr>\n",
       "      <th>1</th>\n",
       "      <td>Tenisový turnaj Wimbledon je jedním z nejstarš...</td>\n",
       "      <td>1</td>\n",
       "      <td>1_film_český_získal_filmová</td>\n",
       "      <td>[film, český, získal, filmová, filmy, filmu, č...</td>\n",
       "      <td>[Kolya režírovaný Janem Svěrákem vyhrál Oscara...</td>\n",
       "      <td>film - český - získal - filmová - filmy - film...</td>\n",
       "      <td>False</td>\n",
       "    </tr>\n",
       "    <tr>\n",
       "      <th>2</th>\n",
       "      <td>Běhání je skválý způsob, jak si udržet kondici.</td>\n",
       "      <td>4</td>\n",
       "      <td>4_sport_sportem_oblíbeným_cyklistika</td>\n",
       "      <td>[sport, sportem, oblíbeným, cyklistika, sporto...</td>\n",
       "      <td>[Judo je bojový sport, který zdůrazňuje techni...</td>\n",
       "      <td>sport - sportem - oblíbeným - cyklistika - spo...</td>\n",
       "      <td>False</td>\n",
       "    </tr>\n",
       "    <tr>\n",
       "      <th>3</th>\n",
       "      <td>Hokejový zápas může být velmi napínavý, zejmén...</td>\n",
       "      <td>3</td>\n",
       "      <td>3_reakce_chemická_chemické_rychlosti</td>\n",
       "      <td>[reakce, chemická, chemické, rychlosti, atomy,...</td>\n",
       "      <td>[Chemická rovnováha nastává, když rychlosti př...</td>\n",
       "      <td>reakce - chemická - chemické - rychlosti - ato...</td>\n",
       "      <td>False</td>\n",
       "    </tr>\n",
       "    <tr>\n",
       "      <th>4</th>\n",
       "      <td>Plavání je vynikající cvičení pro posílení sva...</td>\n",
       "      <td>4</td>\n",
       "      <td>4_sport_sportem_oblíbeným_cyklistika</td>\n",
       "      <td>[sport, sportem, oblíbeným, cyklistika, sporto...</td>\n",
       "      <td>[Judo je bojový sport, který zdůrazňuje techni...</td>\n",
       "      <td>sport - sportem - oblíbeným - cyklistika - spo...</td>\n",
       "      <td>False</td>\n",
       "    </tr>\n",
       "    <tr>\n",
       "      <th>...</th>\n",
       "      <td>...</td>\n",
       "      <td>...</td>\n",
       "      <td>...</td>\n",
       "      <td>...</td>\n",
       "      <td>...</td>\n",
       "      <td>...</td>\n",
       "      <td>...</td>\n",
       "    </tr>\n",
       "    <tr>\n",
       "      <th>95</th>\n",
       "      <td>Chemická analýza může odhalit složení látek a ...</td>\n",
       "      <td>2</td>\n",
       "      <td>2_organismů_organismy_zkoumá_dna</td>\n",
       "      <td>[organismů, organismy, zkoumá, dna, živých, ži...</td>\n",
       "      <td>[Ekologie zkoumá vztahy mezi organismy a jejic...</td>\n",
       "      <td>organismů - organismy - zkoumá - dna - živých ...</td>\n",
       "      <td>False</td>\n",
       "    </tr>\n",
       "    <tr>\n",
       "      <th>96</th>\n",
       "      <td>Rovnováha v chemii se vyskytuje, když rychlost...</td>\n",
       "      <td>3</td>\n",
       "      <td>3_reakce_chemická_chemické_rychlosti</td>\n",
       "      <td>[reakce, chemická, chemické, rychlosti, atomy,...</td>\n",
       "      <td>[Chemická rovnováha nastává, když rychlosti př...</td>\n",
       "      <td>reakce - chemická - chemické - rychlosti - ato...</td>\n",
       "      <td>False</td>\n",
       "    </tr>\n",
       "    <tr>\n",
       "      <th>97</th>\n",
       "      <td>Exotermické reakce uvolňují energii do okolí v...</td>\n",
       "      <td>3</td>\n",
       "      <td>3_reakce_chemická_chemické_rychlosti</td>\n",
       "      <td>[reakce, chemická, chemické, rychlosti, atomy,...</td>\n",
       "      <td>[Chemická rovnováha nastává, když rychlosti př...</td>\n",
       "      <td>reakce - chemická - chemické - rychlosti - ato...</td>\n",
       "      <td>False</td>\n",
       "    </tr>\n",
       "    <tr>\n",
       "      <th>98</th>\n",
       "      <td>Chirální molekuly mají zrcadlově symetrické ve...</td>\n",
       "      <td>3</td>\n",
       "      <td>3_reakce_chemická_chemické_rychlosti</td>\n",
       "      <td>[reakce, chemická, chemické, rychlosti, atomy,...</td>\n",
       "      <td>[Chemická rovnováha nastává, když rychlosti př...</td>\n",
       "      <td>reakce - chemická - chemické - rychlosti - ato...</td>\n",
       "      <td>False</td>\n",
       "    </tr>\n",
       "    <tr>\n",
       "      <th>99</th>\n",
       "      <td>Jízda na koni je sport, který spojuje dovednos...</td>\n",
       "      <td>4</td>\n",
       "      <td>4_sport_sportem_oblíbeným_cyklistika</td>\n",
       "      <td>[sport, sportem, oblíbeným, cyklistika, sporto...</td>\n",
       "      <td>[Judo je bojový sport, který zdůrazňuje techni...</td>\n",
       "      <td>sport - sportem - oblíbeným - cyklistika - spo...</td>\n",
       "      <td>False</td>\n",
       "    </tr>\n",
       "  </tbody>\n",
       "</table>\n",
       "<p>100 rows × 7 columns</p>\n",
       "</div>"
      ],
      "text/plain": [
       "                                             Document  Topic  \\\n",
       "0       Fotbal je populárním sportem ve většině zemí.      4   \n",
       "1   Tenisový turnaj Wimbledon je jedním z nejstarš...      1   \n",
       "2     Běhání je skválý způsob, jak si udržet kondici.      4   \n",
       "3   Hokejový zápas může být velmi napínavý, zejmén...      3   \n",
       "4   Plavání je vynikající cvičení pro posílení sva...      4   \n",
       "..                                                ...    ...   \n",
       "95  Chemická analýza může odhalit složení látek a ...      2   \n",
       "96  Rovnováha v chemii se vyskytuje, když rychlost...      3   \n",
       "97  Exotermické reakce uvolňují energii do okolí v...      3   \n",
       "98  Chirální molekuly mají zrcadlově symetrické ve...      3   \n",
       "99  Jízda na koni je sport, který spojuje dovednos...      4   \n",
       "\n",
       "                                    Name  \\\n",
       "0   4_sport_sportem_oblíbeným_cyklistika   \n",
       "1            1_film_český_získal_filmová   \n",
       "2   4_sport_sportem_oblíbeným_cyklistika   \n",
       "3   3_reakce_chemická_chemické_rychlosti   \n",
       "4   4_sport_sportem_oblíbeným_cyklistika   \n",
       "..                                   ...   \n",
       "95      2_organismů_organismy_zkoumá_dna   \n",
       "96  3_reakce_chemická_chemické_rychlosti   \n",
       "97  3_reakce_chemická_chemické_rychlosti   \n",
       "98  3_reakce_chemická_chemické_rychlosti   \n",
       "99  4_sport_sportem_oblíbeným_cyklistika   \n",
       "\n",
       "                                       Representation  \\\n",
       "0   [sport, sportem, oblíbeným, cyklistika, sporto...   \n",
       "1   [film, český, získal, filmová, filmy, filmu, č...   \n",
       "2   [sport, sportem, oblíbeným, cyklistika, sporto...   \n",
       "3   [reakce, chemická, chemické, rychlosti, atomy,...   \n",
       "4   [sport, sportem, oblíbeným, cyklistika, sporto...   \n",
       "..                                                ...   \n",
       "95  [organismů, organismy, zkoumá, dna, živých, ži...   \n",
       "96  [reakce, chemická, chemické, rychlosti, atomy,...   \n",
       "97  [reakce, chemická, chemické, rychlosti, atomy,...   \n",
       "98  [reakce, chemická, chemické, rychlosti, atomy,...   \n",
       "99  [sport, sportem, oblíbeným, cyklistika, sporto...   \n",
       "\n",
       "                                  Representative_Docs  \\\n",
       "0   [Judo je bojový sport, který zdůrazňuje techni...   \n",
       "1   [Kolya režírovaný Janem Svěrákem vyhrál Oscara...   \n",
       "2   [Judo je bojový sport, který zdůrazňuje techni...   \n",
       "3   [Chemická rovnováha nastává, když rychlosti př...   \n",
       "4   [Judo je bojový sport, který zdůrazňuje techni...   \n",
       "..                                                ...   \n",
       "95  [Ekologie zkoumá vztahy mezi organismy a jejic...   \n",
       "96  [Chemická rovnováha nastává, když rychlosti př...   \n",
       "97  [Chemická rovnováha nastává, když rychlosti př...   \n",
       "98  [Chemická rovnováha nastává, když rychlosti př...   \n",
       "99  [Judo je bojový sport, který zdůrazňuje techni...   \n",
       "\n",
       "                                          Top_n_words  Representative_document  \n",
       "0   sport - sportem - oblíbeným - cyklistika - spo...                    False  \n",
       "1   film - český - získal - filmová - filmy - film...                    False  \n",
       "2   sport - sportem - oblíbeným - cyklistika - spo...                    False  \n",
       "3   reakce - chemická - chemické - rychlosti - ato...                    False  \n",
       "4   sport - sportem - oblíbeným - cyklistika - spo...                    False  \n",
       "..                                                ...                      ...  \n",
       "95  organismů - organismy - zkoumá - dna - živých ...                    False  \n",
       "96  reakce - chemická - chemické - rychlosti - ato...                    False  \n",
       "97  reakce - chemická - chemické - rychlosti - ato...                    False  \n",
       "98  reakce - chemická - chemické - rychlosti - ato...                    False  \n",
       "99  sport - sportem - oblíbeným - cyklistika - spo...                    False  \n",
       "\n",
       "[100 rows x 7 columns]"
      ]
     },
     "execution_count": 26,
     "metadata": {},
     "output_type": "execute_result"
    }
   ],
   "source": [
    "new_results=model.get_document_info(docs)\n",
    "new_results.head(100)"
   ]
  },
  {
   "cell_type": "code",
   "execution_count": 27,
   "metadata": {},
   "outputs": [],
   "source": [
    "new_results.to_excel(output_reduced, index=False, engine='openpyxl')"
   ]
  },
  {
   "cell_type": "markdown",
   "metadata": {},
   "source": [
    "## Classification"
   ]
  },
  {
   "cell_type": "code",
   "execution_count": 28,
   "metadata": {},
   "outputs": [
    {
     "data": {
      "text/plain": [
       "'\\nI manually label at least 20 documents from previous topic modeling and I use these documents as input for classification.\\n'"
      ]
     },
     "execution_count": 28,
     "metadata": {},
     "output_type": "execute_result"
    }
   ],
   "source": [
    "'''\n",
    "I manually label at least 20 documents from previous topic modeling and I use these documents as input for classification.\n",
    "'''"
   ]
  },
  {
   "cell_type": "markdown",
   "metadata": {},
   "source": [
    "![Alt text](other/classification.jpg)"
   ]
  },
  {
   "cell_type": "code",
   "execution_count": 29,
   "metadata": {},
   "outputs": [
    {
     "data": {
      "text/plain": [
       "' https://maartengr.github.io/BERTopic/getting_started/supervised/supervised.html '"
      ]
     },
     "execution_count": 29,
     "metadata": {},
     "output_type": "execute_result"
    }
   ],
   "source": [
    "\"\"\" https://maartengr.github.io/BERTopic/getting_started/supervised/supervised.html \"\"\""
   ]
  },
  {
   "cell_type": "code",
   "execution_count": 30,
   "metadata": {},
   "outputs": [],
   "source": [
    "from bertopic.vectorizers import ClassTfidfTransformer\n",
    "from bertopic.dimensionality import BaseDimensionalityReduction\n",
    "from sklearn.linear_model import LogisticRegression"
   ]
  },
  {
   "cell_type": "code",
   "execution_count": 31,
   "metadata": {},
   "outputs": [
    {
     "name": "stderr",
     "output_type": "stream",
     "text": [
      "No sentence-transformers model found with name ufal/robeczech-base. Creating a new one with MEAN pooling.\n",
      "Some weights of RobertaModel were not initialized from the model checkpoint at ufal/robeczech-base and are newly initialized: ['roberta.pooler.dense.bias', 'roberta.pooler.dense.weight']\n",
      "You should probably TRAIN this model on a down-stream task to be able to use it for predictions and inference.\n"
     ]
    }
   ],
   "source": [
    "czech_model = SentenceTransformer(\"ufal/robeczech-base\")"
   ]
  },
  {
   "cell_type": "markdown",
   "metadata": {},
   "source": [
    "**Read input data and prepare them for classification**"
   ]
  },
  {
   "cell_type": "code",
   "execution_count": 32,
   "metadata": {},
   "outputs": [
    {
     "data": {
      "text/html": [
       "<div>\n",
       "<style scoped>\n",
       "    .dataframe tbody tr th:only-of-type {\n",
       "        vertical-align: middle;\n",
       "    }\n",
       "\n",
       "    .dataframe tbody tr th {\n",
       "        vertical-align: top;\n",
       "    }\n",
       "\n",
       "    .dataframe thead th {\n",
       "        text-align: right;\n",
       "    }\n",
       "</style>\n",
       "<table border=\"1\" class=\"dataframe\">\n",
       "  <thead>\n",
       "    <tr style=\"text-align: right;\">\n",
       "      <th></th>\n",
       "      <th>Document</th>\n",
       "      <th>Topic</th>\n",
       "      <th>Name</th>\n",
       "      <th>Representation</th>\n",
       "      <th>Representative_Docs</th>\n",
       "      <th>Top_n_words</th>\n",
       "      <th>Representative_document</th>\n",
       "    </tr>\n",
       "  </thead>\n",
       "  <tbody>\n",
       "    <tr>\n",
       "      <th>0</th>\n",
       "      <td>Fotbal je populárním sportem ve většině zemí.</td>\n",
       "      <td>2</td>\n",
       "      <td>2_sport_sportem_oblíbeným_energii</td>\n",
       "      <td>['sport', 'sportem', 'oblíbeným', 'energii', '...</td>\n",
       "      <td>['Fotosyntéza je proces, při kterém rostliny v...</td>\n",
       "      <td>sport - sportem - oblíbeným - energii - fotosy...</td>\n",
       "      <td>False</td>\n",
       "    </tr>\n",
       "    <tr>\n",
       "      <th>1</th>\n",
       "      <td>Tenisový turnaj Wimbledon je jedním z nejstarš...</td>\n",
       "      <td>2</td>\n",
       "      <td>2_sport_sportem_oblíbeným_energii</td>\n",
       "      <td>['sport', 'sportem', 'oblíbeným', 'energii', '...</td>\n",
       "      <td>['Fotosyntéza je proces, při kterém rostliny v...</td>\n",
       "      <td>sport - sportem - oblíbeným - energii - fotosy...</td>\n",
       "      <td>False</td>\n",
       "    </tr>\n",
       "  </tbody>\n",
       "</table>\n",
       "</div>"
      ],
      "text/plain": [
       "                                            Document  Topic  \\\n",
       "0      Fotbal je populárním sportem ve většině zemí.      2   \n",
       "1  Tenisový turnaj Wimbledon je jedním z nejstarš...      2   \n",
       "\n",
       "                                Name  \\\n",
       "0  2_sport_sportem_oblíbeným_energii   \n",
       "1  2_sport_sportem_oblíbeným_energii   \n",
       "\n",
       "                                      Representation  \\\n",
       "0  ['sport', 'sportem', 'oblíbeným', 'energii', '...   \n",
       "1  ['sport', 'sportem', 'oblíbeným', 'energii', '...   \n",
       "\n",
       "                                 Representative_Docs  \\\n",
       "0  ['Fotosyntéza je proces, při kterém rostliny v...   \n",
       "1  ['Fotosyntéza je proces, při kterém rostliny v...   \n",
       "\n",
       "                                         Top_n_words  Representative_document  \n",
       "0  sport - sportem - oblíbeným - energii - fotosy...                    False  \n",
       "1  sport - sportem - oblíbeným - energii - fotosy...                    False  "
      ]
     },
     "execution_count": 32,
     "metadata": {},
     "output_type": "execute_result"
    }
   ],
   "source": [
    "# read data\n",
    "df_input = pd.read_excel('input/data-classification.xlsx')\n",
    "df_input.head(2)"
   ]
  },
  {
   "cell_type": "code",
   "execution_count": 33,
   "metadata": {},
   "outputs": [],
   "source": [
    "docs = df_input['Document']\n",
    "y = df_input['Topic']"
   ]
  },
  {
   "cell_type": "markdown",
   "metadata": {},
   "source": [
    "**Set up model and train**"
   ]
  },
  {
   "cell_type": "code",
   "execution_count": 34,
   "metadata": {},
   "outputs": [],
   "source": [
    "# Skip over dimensionality reduction, replace cluster model with classifier,\n",
    "# and reduce frequent words while we are at it.\n",
    "empty_dimensionality_model = BaseDimensionalityReduction()\n",
    "clf = LogisticRegression()\n",
    "ctfidf_model = ClassTfidfTransformer(reduce_frequent_words=True)"
   ]
  },
  {
   "cell_type": "code",
   "execution_count": 35,
   "metadata": {},
   "outputs": [],
   "source": [
    "# Create a fully supervised BERTopic instance\n",
    "topic_model= BERTopic(\n",
    "        embedding_model = czech_model,\n",
    "        umap_model = empty_dimensionality_model,\n",
    "        hdbscan_model = clf,\n",
    "        ctfidf_model = ctfidf_model\n",
    ")\n",
    "\n",
    "topics, probs = topic_model.fit_transform(docs, y=y)"
   ]
  },
  {
   "cell_type": "code",
   "execution_count": 36,
   "metadata": {},
   "outputs": [
    {
     "data": {
      "text/html": [
       "<div>\n",
       "<style scoped>\n",
       "    .dataframe tbody tr th:only-of-type {\n",
       "        vertical-align: middle;\n",
       "    }\n",
       "\n",
       "    .dataframe tbody tr th {\n",
       "        vertical-align: top;\n",
       "    }\n",
       "\n",
       "    .dataframe thead th {\n",
       "        text-align: right;\n",
       "    }\n",
       "</style>\n",
       "<table border=\"1\" class=\"dataframe\">\n",
       "  <thead>\n",
       "    <tr style=\"text-align: right;\">\n",
       "      <th></th>\n",
       "      <th>Topic</th>\n",
       "      <th>Count</th>\n",
       "      <th>Name</th>\n",
       "      <th>Representation</th>\n",
       "      <th>Representative_Docs</th>\n",
       "    </tr>\n",
       "  </thead>\n",
       "  <tbody>\n",
       "    <tr>\n",
       "      <th>0</th>\n",
       "      <td>0</td>\n",
       "      <td>32</td>\n",
       "      <td>0_film_filmová_filmy_režisér</td>\n",
       "      <td>[film, filmová, filmy, režisér, získal, filmu,...</td>\n",
       "      <td>[Český film \"Kolya\" získal Oskara za nejlepší ...</td>\n",
       "    </tr>\n",
       "    <tr>\n",
       "      <th>1</th>\n",
       "      <td>1</td>\n",
       "      <td>30</td>\n",
       "      <td>1_reakce_chemická_chemické_nebo</td>\n",
       "      <td>[reakce, chemická, chemické, nebo, atomy, před...</td>\n",
       "      <td>[Chemické reakce mohou být exotermické nebo en...</td>\n",
       "    </tr>\n",
       "    <tr>\n",
       "      <th>2</th>\n",
       "      <td>2</td>\n",
       "      <td>26</td>\n",
       "      <td>2_sportem_je_sport_který</td>\n",
       "      <td>[sportem, je, sport, který, pro, vyžaduje, cyk...</td>\n",
       "      <td>[Cyklistika je oblíbeným sportem pro rekreační...</td>\n",
       "    </tr>\n",
       "    <tr>\n",
       "      <th>3</th>\n",
       "      <td>3</td>\n",
       "      <td>22</td>\n",
       "      <td>3_revoluce_válka_měla_velká</td>\n",
       "      <td>[revoluce, válka, měla, velká, spojených, svou...</td>\n",
       "      <td>[Dobyvatel Alexandr Veliký rozšířil svou říši ...</td>\n",
       "    </tr>\n",
       "    <tr>\n",
       "      <th>4</th>\n",
       "      <td>4</td>\n",
       "      <td>21</td>\n",
       "      <td>4_prostředí_proces_systému_organismů</td>\n",
       "      <td>[prostředí, proces, systému, organismů, organi...</td>\n",
       "      <td>[Ekosystémy jsou vzájemně propojené sítě živýc...</td>\n",
       "    </tr>\n",
       "  </tbody>\n",
       "</table>\n",
       "</div>"
      ],
      "text/plain": [
       "   Topic  Count                                  Name  \\\n",
       "0      0     32          0_film_filmová_filmy_režisér   \n",
       "1      1     30       1_reakce_chemická_chemické_nebo   \n",
       "2      2     26              2_sportem_je_sport_který   \n",
       "3      3     22           3_revoluce_válka_měla_velká   \n",
       "4      4     21  4_prostředí_proces_systému_organismů   \n",
       "\n",
       "                                      Representation  \\\n",
       "0  [film, filmová, filmy, režisér, získal, filmu,...   \n",
       "1  [reakce, chemická, chemické, nebo, atomy, před...   \n",
       "2  [sportem, je, sport, který, pro, vyžaduje, cyk...   \n",
       "3  [revoluce, válka, měla, velká, spojených, svou...   \n",
       "4  [prostředí, proces, systému, organismů, organi...   \n",
       "\n",
       "                                 Representative_Docs  \n",
       "0  [Český film \"Kolya\" získal Oskara za nejlepší ...  \n",
       "1  [Chemické reakce mohou být exotermické nebo en...  \n",
       "2  [Cyklistika je oblíbeným sportem pro rekreační...  \n",
       "3  [Dobyvatel Alexandr Veliký rozšířil svou říši ...  \n",
       "4  [Ekosystémy jsou vzájemně propojené sítě živýc...  "
      ]
     },
     "execution_count": 36,
     "metadata": {},
     "output_type": "execute_result"
    }
   ],
   "source": [
    "topic_model.get_topic_info()"
   ]
  },
  {
   "cell_type": "markdown",
   "metadata": {},
   "source": [
    "**Assign original topic labels to the classification topics**"
   ]
  },
  {
   "cell_type": "code",
   "execution_count": 37,
   "metadata": {},
   "outputs": [],
   "source": [
    "# Map input `y` to topics\n",
    "mappings = topic_model.topic_mapper_.get_mappings()\n",
    "\n",
    "\n",
    "#y_mapped = [mappings[val] for val in y]\n",
    "#mappings = {value: data[\"target_names\"][key] for key, value in mappings.items()}"
   ]
  },
  {
   "cell_type": "code",
   "execution_count": 38,
   "metadata": {},
   "outputs": [
    {
     "data": {
      "text/plain": [
       "{0: 4, 1: 3, 2: 2, 3: 0, 4: 1}"
      ]
     },
     "execution_count": 38,
     "metadata": {},
     "output_type": "execute_result"
    }
   ],
   "source": [
    "mappings"
   ]
  },
  {
   "cell_type": "code",
   "execution_count": 39,
   "metadata": {},
   "outputs": [],
   "source": [
    "# Assign original classes to our topics\n",
    "df = topic_model.get_topic_info()"
   ]
  },
  {
   "cell_type": "code",
   "execution_count": 40,
   "metadata": {},
   "outputs": [
    {
     "data": {
      "text/html": [
       "<div>\n",
       "<style scoped>\n",
       "    .dataframe tbody tr th:only-of-type {\n",
       "        vertical-align: middle;\n",
       "    }\n",
       "\n",
       "    .dataframe tbody tr th {\n",
       "        vertical-align: top;\n",
       "    }\n",
       "\n",
       "    .dataframe thead th {\n",
       "        text-align: right;\n",
       "    }\n",
       "</style>\n",
       "<table border=\"1\" class=\"dataframe\">\n",
       "  <thead>\n",
       "    <tr style=\"text-align: right;\">\n",
       "      <th></th>\n",
       "      <th>Topic</th>\n",
       "      <th>Count</th>\n",
       "      <th>Name</th>\n",
       "      <th>Representation</th>\n",
       "      <th>Representative_Docs</th>\n",
       "      <th>Class</th>\n",
       "    </tr>\n",
       "  </thead>\n",
       "  <tbody>\n",
       "    <tr>\n",
       "      <th>0</th>\n",
       "      <td>0</td>\n",
       "      <td>32</td>\n",
       "      <td>0_film_filmová_filmy_režisér</td>\n",
       "      <td>[film, filmová, filmy, režisér, získal, filmu,...</td>\n",
       "      <td>[Český film \"Kolya\" získal Oskara za nejlepší ...</td>\n",
       "      <td>4</td>\n",
       "    </tr>\n",
       "    <tr>\n",
       "      <th>1</th>\n",
       "      <td>1</td>\n",
       "      <td>30</td>\n",
       "      <td>1_reakce_chemická_chemické_nebo</td>\n",
       "      <td>[reakce, chemická, chemické, nebo, atomy, před...</td>\n",
       "      <td>[Chemické reakce mohou být exotermické nebo en...</td>\n",
       "      <td>3</td>\n",
       "    </tr>\n",
       "    <tr>\n",
       "      <th>2</th>\n",
       "      <td>2</td>\n",
       "      <td>26</td>\n",
       "      <td>2_sportem_je_sport_který</td>\n",
       "      <td>[sportem, je, sport, který, pro, vyžaduje, cyk...</td>\n",
       "      <td>[Cyklistika je oblíbeným sportem pro rekreační...</td>\n",
       "      <td>2</td>\n",
       "    </tr>\n",
       "    <tr>\n",
       "      <th>3</th>\n",
       "      <td>3</td>\n",
       "      <td>22</td>\n",
       "      <td>3_revoluce_válka_měla_velká</td>\n",
       "      <td>[revoluce, válka, měla, velká, spojených, svou...</td>\n",
       "      <td>[Dobyvatel Alexandr Veliký rozšířil svou říši ...</td>\n",
       "      <td>0</td>\n",
       "    </tr>\n",
       "    <tr>\n",
       "      <th>4</th>\n",
       "      <td>4</td>\n",
       "      <td>21</td>\n",
       "      <td>4_prostředí_proces_systému_organismů</td>\n",
       "      <td>[prostředí, proces, systému, organismů, organi...</td>\n",
       "      <td>[Ekosystémy jsou vzájemně propojené sítě živýc...</td>\n",
       "      <td>1</td>\n",
       "    </tr>\n",
       "  </tbody>\n",
       "</table>\n",
       "</div>"
      ],
      "text/plain": [
       "   Topic  Count                                  Name  \\\n",
       "0      0     32          0_film_filmová_filmy_režisér   \n",
       "1      1     30       1_reakce_chemická_chemické_nebo   \n",
       "2      2     26              2_sportem_je_sport_který   \n",
       "3      3     22           3_revoluce_válka_měla_velká   \n",
       "4      4     21  4_prostředí_proces_systému_organismů   \n",
       "\n",
       "                                      Representation  \\\n",
       "0  [film, filmová, filmy, režisér, získal, filmu,...   \n",
       "1  [reakce, chemická, chemické, nebo, atomy, před...   \n",
       "2  [sportem, je, sport, který, pro, vyžaduje, cyk...   \n",
       "3  [revoluce, válka, měla, velká, spojených, svou...   \n",
       "4  [prostředí, proces, systému, organismů, organi...   \n",
       "\n",
       "                                 Representative_Docs  Class  \n",
       "0  [Český film \"Kolya\" získal Oskara za nejlepší ...      4  \n",
       "1  [Chemické reakce mohou být exotermické nebo en...      3  \n",
       "2  [Cyklistika je oblíbeným sportem pro rekreační...      2  \n",
       "3  [Dobyvatel Alexandr Veliký rozšířil svou říši ...      0  \n",
       "4  [Ekosystémy jsou vzájemně propojené sítě živýc...      1  "
      ]
     },
     "execution_count": 40,
     "metadata": {},
     "output_type": "execute_result"
    }
   ],
   "source": [
    "df[\"Class\"] = df.Topic.map(mappings)\n",
    "df"
   ]
  },
  {
   "cell_type": "markdown",
   "metadata": {},
   "source": [
    "**Define unlabeled documents**"
   ]
  },
  {
   "cell_type": "code",
   "execution_count": 41,
   "metadata": {},
   "outputs": [],
   "source": [
    "new_docs = [\n",
    "            'Revoluce byla v roce 1852', \n",
    "            'Chemická reakce je exotermni',\n",
    "            'Buňky jsou v biologii velice známé',\n",
    "            'Historie se opakuje v podobě válek a bitev',\n",
    "            'Hokej je krásný sport',\n",
    "            'Filmový festival je o zajímavých filmech a hercích',\n",
    "            'Napoleon Bonaparte prohrál v bitvě u Waterloo'\n",
    "            ]"
   ]
  },
  {
   "cell_type": "markdown",
   "metadata": {},
   "source": [
    "**Run the classificatio on new data**"
   ]
  },
  {
   "cell_type": "code",
   "execution_count": 42,
   "metadata": {},
   "outputs": [],
   "source": [
    "topic, _ = topic_model.transform(new_docs)\n"
   ]
  },
  {
   "cell_type": "code",
   "execution_count": 43,
   "metadata": {},
   "outputs": [
    {
     "data": {
      "text/plain": [
       "[3, 1, 4, 3, 2, 0, 3]"
      ]
     },
     "execution_count": 43,
     "metadata": {},
     "output_type": "execute_result"
    }
   ],
   "source": [
    "topic"
   ]
  },
  {
   "cell_type": "markdown",
   "metadata": {},
   "source": [
    "**Write the results into a df**"
   ]
  },
  {
   "cell_type": "code",
   "execution_count": 44,
   "metadata": {},
   "outputs": [
    {
     "data": {
      "text/html": [
       "<div>\n",
       "<style scoped>\n",
       "    .dataframe tbody tr th:only-of-type {\n",
       "        vertical-align: middle;\n",
       "    }\n",
       "\n",
       "    .dataframe tbody tr th {\n",
       "        vertical-align: top;\n",
       "    }\n",
       "\n",
       "    .dataframe thead th {\n",
       "        text-align: right;\n",
       "    }\n",
       "</style>\n",
       "<table border=\"1\" class=\"dataframe\">\n",
       "  <thead>\n",
       "    <tr style=\"text-align: right;\">\n",
       "      <th></th>\n",
       "      <th>original sentence</th>\n",
       "      <th>topic number</th>\n",
       "      <th>topic info</th>\n",
       "    </tr>\n",
       "  </thead>\n",
       "  <tbody>\n",
       "    <tr>\n",
       "      <th>0</th>\n",
       "      <td>Revoluce byla v roce 1852</td>\n",
       "      <td>3.0</td>\n",
       "      <td>[('revoluce', 0.5507027873656173), ('válka', 0...</td>\n",
       "    </tr>\n",
       "    <tr>\n",
       "      <th>1</th>\n",
       "      <td>Chemická reakce je exotermni</td>\n",
       "      <td>1.0</td>\n",
       "      <td>[('reakce', 0.6109700011845425), ('chemická', ...</td>\n",
       "    </tr>\n",
       "    <tr>\n",
       "      <th>2</th>\n",
       "      <td>Buňky jsou v biologii velice známé</td>\n",
       "      <td>4.0</td>\n",
       "      <td>[('prostředí', 0.6132919248148784), ('proces',...</td>\n",
       "    </tr>\n",
       "    <tr>\n",
       "      <th>3</th>\n",
       "      <td>Historie se opakuje v podobě válek a bitev</td>\n",
       "      <td>3.0</td>\n",
       "      <td>[('revoluce', 0.5507027873656173), ('válka', 0...</td>\n",
       "    </tr>\n",
       "    <tr>\n",
       "      <th>4</th>\n",
       "      <td>Hokej je krásný sport</td>\n",
       "      <td>2.0</td>\n",
       "      <td>[('sportem', 0.6327541567889825), ('je', 0.605...</td>\n",
       "    </tr>\n",
       "    <tr>\n",
       "      <th>5</th>\n",
       "      <td>Filmový festival je o zajímavých filmech a her...</td>\n",
       "      <td>0.0</td>\n",
       "      <td>[('film', 0.5921687617146105), ('filmová', 0.5...</td>\n",
       "    </tr>\n",
       "    <tr>\n",
       "      <th>6</th>\n",
       "      <td>Napoleon Bonaparte prohrál v bitvě u Waterloo</td>\n",
       "      <td>3.0</td>\n",
       "      <td>[('revoluce', 0.5507027873656173), ('válka', 0...</td>\n",
       "    </tr>\n",
       "  </tbody>\n",
       "</table>\n",
       "</div>"
      ],
      "text/plain": [
       "                                   original sentence  topic number  \\\n",
       "0                          Revoluce byla v roce 1852           3.0   \n",
       "1                       Chemická reakce je exotermni           1.0   \n",
       "2                 Buňky jsou v biologii velice známé           4.0   \n",
       "3         Historie se opakuje v podobě válek a bitev           3.0   \n",
       "4                              Hokej je krásný sport           2.0   \n",
       "5  Filmový festival je o zajímavých filmech a her...           0.0   \n",
       "6      Napoleon Bonaparte prohrál v bitvě u Waterloo           3.0   \n",
       "\n",
       "                                          topic info  \n",
       "0  [('revoluce', 0.5507027873656173), ('válka', 0...  \n",
       "1  [('reakce', 0.6109700011845425), ('chemická', ...  \n",
       "2  [('prostředí', 0.6132919248148784), ('proces',...  \n",
       "3  [('revoluce', 0.5507027873656173), ('válka', 0...  \n",
       "4  [('sportem', 0.6327541567889825), ('je', 0.605...  \n",
       "5  [('film', 0.5921687617146105), ('filmová', 0.5...  \n",
       "6  [('revoluce', 0.5507027873656173), ('válka', 0...  "
      ]
     },
     "execution_count": 44,
     "metadata": {},
     "output_type": "execute_result"
    }
   ],
   "source": [
    "df_results = pd.DataFrame()\n",
    "index = 0\n",
    "\n",
    "# Get information about the topics\n",
    "for topic_id in topic:\n",
    "    topic_info = topic_model.get_topic(topic_id)\n",
    "\n",
    "    transformed_data = str(topic_info)\n",
    "\n",
    "    df_results.loc[index, 'original sentence'] = new_docs[index]\n",
    "    df_results.loc[index, 'topic number'] = topic_id\n",
    "    df_results.loc[index, 'topic info'] = transformed_data\n",
    "    \n",
    "    index += 1\n",
    "\n",
    "df_results.head(10)"
   ]
  },
  {
   "cell_type": "markdown",
   "metadata": {},
   "source": [
    "## Translate"
   ]
  },
  {
   "cell_type": "code",
   "execution_count": 45,
   "metadata": {},
   "outputs": [
    {
     "data": {
      "text/plain": [
       "' from deep_translator import GoogleTranslator\\n\\ndef translate_sentences(sentences, source_language=\\'cs\\', target_language=\\'en\\'):\\n    translated_sentences = []\\n    \\n    for sentence in sentences:\\n        translated = GoogleTranslator(source=source_language, target=target_language).translate(sentence)\\n        translated_sentences.append(translated)\\n    \\n    return translated_sentences\\n\\n# Example usage\\nsentences_to_translate = [\\n    \\'snažím se dovolat uz minut\\',\\n    \\'ahoj jak se mas\\',\\n    \\'mam se dobre a ty?\\'\\n]\\n\\nsource_language = \\'cs\\'\\ntarget_language = \\'en\\'\\n\\ntranslated_sentences = translate_sentences(sentences_to_translate, source_language, target_language)\\n\\n# Print the original and translated sentences\\nfor original, translated in zip(sentences_to_translate, translated_sentences):\\n    print(f\"Original: {original}\")\\n    print(f\"Translated: {translated}\")\\n    print() '"
      ]
     },
     "execution_count": 45,
     "metadata": {},
     "output_type": "execute_result"
    }
   ],
   "source": [
    "\"\"\" from deep_translator import GoogleTranslator\n",
    "\n",
    "def translate_sentences(sentences, source_language='cs', target_language='en'):\n",
    "    translated_sentences = []\n",
    "    \n",
    "    for sentence in sentences:\n",
    "        translated = GoogleTranslator(source=source_language, target=target_language).translate(sentence)\n",
    "        translated_sentences.append(translated)\n",
    "    \n",
    "    return translated_sentences\n",
    "\n",
    "# Example usage\n",
    "sentences_to_translate = [\n",
    "    'snažím se dovolat uz minut',\n",
    "    'ahoj jak se mas',\n",
    "    'mam se dobre a ty?'\n",
    "]\n",
    "\n",
    "source_language = 'cs'\n",
    "target_language = 'en'\n",
    "\n",
    "translated_sentences = translate_sentences(sentences_to_translate, source_language, target_language)\n",
    "\n",
    "# Print the original and translated sentences\n",
    "for original, translated in zip(sentences_to_translate, translated_sentences):\n",
    "    print(f\"Original: {original}\")\n",
    "    print(f\"Translated: {translated}\")\n",
    "    print() \"\"\""
   ]
  }
 ],
 "metadata": {
  "kernelspec": {
   "display_name": "venv-sRlQ1h_2",
   "language": "python",
   "name": "python3"
  },
  "language_info": {
   "codemirror_mode": {
    "name": "ipython",
    "version": 3
   },
   "file_extension": ".py",
   "mimetype": "text/x-python",
   "name": "python",
   "nbconvert_exporter": "python",
   "pygments_lexer": "ipython3",
   "version": "3.10.10"
  }
 },
 "nbformat": 4,
 "nbformat_minor": 2
}
