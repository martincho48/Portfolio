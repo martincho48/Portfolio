{
 "cells": [
  {
   "cell_type": "markdown",
   "metadata": {},
   "source": [
    "**Import libraries**"
   ]
  },
  {
   "cell_type": "code",
   "execution_count": 1642,
   "metadata": {},
   "outputs": [],
   "source": [
    "import pandas as pd\n",
    "import re \n",
    "from unidecode import unidecode\n",
    "from pprint import pprint\n",
    "\n",
    "from langdetect import detect\n",
    "import openpyxl"
   ]
  },
  {
   "cell_type": "markdown",
   "metadata": {},
   "source": [
    "**Inputs**"
   ]
  },
  {
   "cell_type": "code",
   "execution_count": 1643,
   "metadata": {},
   "outputs": [],
   "source": [
    "file_name='fake_emails_utf8.csv'\n",
    "\n",
    "replace=dict({\n",
    "                '\\n': ' '\n",
    "             })"
   ]
  },
  {
   "cell_type": "markdown",
   "metadata": {},
   "source": [
    "**Load data**"
   ]
  },
  {
   "cell_type": "code",
   "execution_count": 1644,
   "metadata": {},
   "outputs": [
    {
     "data": {
      "text/html": [
       "<div>\n",
       "<style scoped>\n",
       "    .dataframe tbody tr th:only-of-type {\n",
       "        vertical-align: middle;\n",
       "    }\n",
       "\n",
       "    .dataframe tbody tr th {\n",
       "        vertical-align: top;\n",
       "    }\n",
       "\n",
       "    .dataframe thead th {\n",
       "        text-align: right;\n",
       "    }\n",
       "</style>\n",
       "<table border=\"1\" class=\"dataframe\">\n",
       "  <thead>\n",
       "    <tr style=\"text-align: right;\">\n",
       "      <th></th>\n",
       "      <th>email</th>\n",
       "    </tr>\n",
       "  </thead>\n",
       "  <tbody>\n",
       "    <tr>\n",
       "      <th>0</th>\n",
       "      <td>Dobrý den,  chtěla bych se zeptat, jaký je akt...</td>\n",
       "    </tr>\n",
       "    <tr>\n",
       "      <th>1</th>\n",
       "      <td>Pěkný den,  rád bych se dozvěděl více o aktuál...</td>\n",
       "    </tr>\n",
       "    <tr>\n",
       "      <th>2</th>\n",
       "      <td>Dobrý den,  mohl byste mi, prosím, poskytnout ...</td>\n",
       "    </tr>\n",
       "    <tr>\n",
       "      <th>3</th>\n",
       "      <td>Moje zásilka byla doručena na jiné místo než j...</td>\n",
       "    </tr>\n",
       "    <tr>\n",
       "      <th>4</th>\n",
       "      <td>Doručili jste zásilku na jiné místo. Prosím po...</td>\n",
       "    </tr>\n",
       "    <tr>\n",
       "      <th>5</th>\n",
       "      <td>Zdravím Kde je moje zásilka č.AB123456CD ?????...</td>\n",
       "    </tr>\n",
       "    <tr>\n",
       "      <th>6</th>\n",
       "      <td>Pěkný večer, Kde je prosím moje zásilka s kóde...</td>\n",
       "    </tr>\n",
       "    <tr>\n",
       "      <th>7</th>\n",
       "      <td>Dobrý den, Kde je moje zásilka?  Navštívil jse...</td>\n",
       "    </tr>\n",
       "    <tr>\n",
       "      <th>8</th>\n",
       "      <td>Zdravím, Nevíte kde je moje zásilka? ****odpov...</td>\n",
       "    </tr>\n",
       "    <tr>\n",
       "      <th>9</th>\n",
       "      <td>Vaše služby si strčte do prdele. Budu si stěžo...</td>\n",
       "    </tr>\n",
       "    <tr>\n",
       "      <th>10</th>\n",
       "      <td>Vaše služby jsou otřesné &lt;https//www.kostka.cz...</td>\n",
       "    </tr>\n",
       "    <tr>\n",
       "      <th>11</th>\n",
       "      <td>Dobrý den,  kde je moje zásilka? dne 15.11.184...</td>\n",
       "    </tr>\n",
       "    <tr>\n",
       "      <th>12</th>\n",
       "      <td>Dobrý den,  kde je moje zásilka? dne 15.11. ve...</td>\n",
       "    </tr>\n",
       "    <tr>\n",
       "      <th>13</th>\n",
       "      <td>Dobrý večer, Hledám mojí zásilku? Dne 15. 11. ...</td>\n",
       "    </tr>\n",
       "    <tr>\n",
       "      <th>14</th>\n",
       "      <td>Dobrý večer, Hledám mojí zásilku? Dne 15. 11. ...</td>\n",
       "    </tr>\n",
       "    <tr>\n",
       "      <th>15</th>\n",
       "      <td>Nemám rád vaše služby. Můj manžel Miloš je nes...</td>\n",
       "    </tr>\n",
       "    <tr>\n",
       "      <th>16</th>\n",
       "      <td>Hey, Where is my parcel guys????</td>\n",
       "    </tr>\n",
       "    <tr>\n",
       "      <th>17</th>\n",
       "      <td>Hola estoy buscando mis cosas. Ayudame por favor.</td>\n",
       "    </tr>\n",
       "    <tr>\n",
       "      <th>18</th>\n",
       "      <td>Oi gente, eu sou brasileiro. Voce me pode ajudar?</td>\n",
       "    </tr>\n",
       "    <tr>\n",
       "      <th>19</th>\n",
       "      <td>Nesnáším vás!</td>\n",
       "    </tr>\n",
       "    <tr>\n",
       "      <th>20</th>\n",
       "      <td>&lt;----spam----&gt; posílá martina</td>\n",
       "    </tr>\n",
       "    <tr>\n",
       "      <th>21</th>\n",
       "      <td>Kde je moje zásilka číslo AB123499CD  Marek</td>\n",
       "    </tr>\n",
       "    <tr>\n",
       "      <th>22</th>\n",
       "      <td>Moje zásilka byla doručena na jiné místo než j...</td>\n",
       "    </tr>\n",
       "    <tr>\n",
       "      <th>23</th>\n",
       "      <td>156</td>\n",
       "    </tr>\n",
       "    <tr>\n",
       "      <th>24</th>\n",
       "      <td>20</td>\n",
       "    </tr>\n",
       "    <tr>\n",
       "      <th>25</th>\n",
       "      <td>Moje zásilka byla doručena do Prahy a nemám ča...</td>\n",
       "    </tr>\n",
       "    <tr>\n",
       "      <th>26</th>\n",
       "      <td>jedna</td>\n",
       "    </tr>\n",
       "    <tr>\n",
       "      <th>27</th>\n",
       "      <td>dva</td>\n",
       "    </tr>\n",
       "  </tbody>\n",
       "</table>\n",
       "</div>"
      ],
      "text/plain": [
       "                                                email\n",
       "0   Dobrý den,  chtěla bych se zeptat, jaký je akt...\n",
       "1   Pěkný den,  rád bych se dozvěděl více o aktuál...\n",
       "2   Dobrý den,  mohl byste mi, prosím, poskytnout ...\n",
       "3   Moje zásilka byla doručena na jiné místo než j...\n",
       "4   Doručili jste zásilku na jiné místo. Prosím po...\n",
       "5   Zdravím Kde je moje zásilka č.AB123456CD ?????...\n",
       "6   Pěkný večer, Kde je prosím moje zásilka s kóde...\n",
       "7   Dobrý den, Kde je moje zásilka?  Navštívil jse...\n",
       "8   Zdravím, Nevíte kde je moje zásilka? ****odpov...\n",
       "9   Vaše služby si strčte do prdele. Budu si stěžo...\n",
       "10  Vaše služby jsou otřesné <https//www.kostka.cz...\n",
       "11  Dobrý den,  kde je moje zásilka? dne 15.11.184...\n",
       "12  Dobrý den,  kde je moje zásilka? dne 15.11. ve...\n",
       "13  Dobrý večer, Hledám mojí zásilku? Dne 15. 11. ...\n",
       "14  Dobrý večer, Hledám mojí zásilku? Dne 15. 11. ...\n",
       "15  Nemám rád vaše služby. Můj manžel Miloš je nes...\n",
       "16                   Hey, Where is my parcel guys????\n",
       "17  Hola estoy buscando mis cosas. Ayudame por favor.\n",
       "18  Oi gente, eu sou brasileiro. Voce me pode ajudar?\n",
       "19                                     Nesnáším vás! \n",
       "20                      <----spam----> posílá martina\n",
       "21        Kde je moje zásilka číslo AB123499CD  Marek\n",
       "22  Moje zásilka byla doručena na jiné místo než j...\n",
       "23                                                156\n",
       "24                                                 20\n",
       "25  Moje zásilka byla doručena do Prahy a nemám ča...\n",
       "26                                              jedna\n",
       "27                                                dva"
      ]
     },
     "execution_count": 1644,
     "metadata": {},
     "output_type": "execute_result"
    }
   ],
   "source": [
    "data = pd.read_csv('input/' + file_name, encoding='utf-8', delimiter=';').replace(replace, regex=True)\n",
    "data.head(30)"
   ]
  },
  {
   "cell_type": "code",
   "execution_count": 1645,
   "metadata": {},
   "outputs": [
    {
     "data": {
      "text/plain": [
       "email    object\n",
       "dtype: object"
      ]
     },
     "execution_count": 1645,
     "metadata": {},
     "output_type": "execute_result"
    }
   ],
   "source": [
    "data.dtypes"
   ]
  },
  {
   "cell_type": "markdown",
   "metadata": {},
   "source": [
    "## Cleaning data"
   ]
  },
  {
   "cell_type": "markdown",
   "metadata": {},
   "source": [
    "**Convert items into string**"
   ]
  },
  {
   "cell_type": "code",
   "execution_count": 1646,
   "metadata": {},
   "outputs": [],
   "source": [
    "# Convert all items to strings\n",
    "sentences = [str(item) for item in data]"
   ]
  },
  {
   "cell_type": "markdown",
   "metadata": {},
   "source": [
    "**Put data into a list**"
   ]
  },
  {
   "cell_type": "code",
   "execution_count": 1647,
   "metadata": {},
   "outputs": [
    {
     "data": {
      "text/plain": [
       "['Dobrý den,  chtěla bych se zeptat, jaký je aktuální stav doručení mé objednávky s číslem GH123456CD. Mohl byste mi poskytnout informace o aktuální poloze zásilky a odhadovaném termínu doručení?   Děkuji za odpověď.  Alena Nováková ',\n",
       " 'Pěkný den,  rád bych se dozvěděl více o aktuálním stavu mé zásilky s číslem AB123499CD. Kde se právě nachází a kdy mohu očekávat doručení?  Děkuji za rychlou odpověď.  Předem děkuji,  Miloš Pekárek',\n",
       " 'Dobrý den,  mohl byste mi, prosím, poskytnout podrobnosti o doručení mé objednávky číslo AB128856CD? Zajímá mě aktuální poloha zásilky a očekávaný termín dodání. https://www.novinky.cz/  Děkuji za vaši asistenci.  Pěkný den,  Petr Pekař',\n",
       " 'Moje zásilka byla doručena na jiné místo než jsem chtěl. martin@martin ----odpověď----- Omlouváme se.',\n",
       " 'Doručili jste zásilku na jiné místo. Prosím pošlete na adresu Alena Šestá, Praha 6. Alena Černá',\n",
       " 'Zdravím Kde je moje zásilka č.AB123456CD ?????????? https://www.google.com/ Alena Oranžová',\n",
       " 'Pěkný večer, Kde je prosím moje zásilka s kódem as21g5z99 Alena Červená Bílá',\n",
       " 'Dobrý den, Kde je moje zásilka?  Navštívil jsem stránky www.zasilka.com ale nic jsem nezjistil? Kontaktujte mě alena@cervena.com, adresa: Vrchlabí 54, tel.789789789. S přáním hezkého dne Alena Červená Zelená',\n",
       " 'Zdravím, Nevíte kde je moje zásilka? ****odpověď**** Nevíme. Zjistíme.',\n",
       " 'Vaše služby si strčte do prdele. Budu si stěžovat!!!! Marek Zadek Odesláno z iPhonu',\n",
       " 'Vaše služby jsou otřesné <https//www.kostka.cz>!!!! Odesláno z iPhonu',\n",
       " 'Dobrý den,  kde je moje zásilka? dne 15.11.1845 ve 12:45 jsem poslala zasilku a dnes je 18.12.1945 20:00 a stale ji nemam!!!!!!!  Děkuji za odpověď.  Alena Nováková ',\n",
       " 'Dobrý den,  kde je moje zásilka? dne 15.11. ve 2:45 jsem poslala zasilku a dnes je 18.12. 4:00 a stale ji nemam!!!!!!!  Alena Nováková tel.123456789 email: alena@pomoc-hilfe.com Dekuji za pomoc. ',\n",
       " 'Dobrý večer, Hledám mojí zásilku? Dne 15. 11. 1945 jsem poslala zasilku a dnes je 18. 12. 2045 a stale jí nemůžu najít!!!!!!! Kód pro vyzvednutí je aa55s6t8 Moje bydliště je Brno 45/569 Alena Nováková ',\n",
       " 'Dobrý večer, Hledám mojí zásilku? Dne 15. 11. 1945 jsem poslala zasilku a dnes je 18. 12. 2045 a stale jí nemůžu najít!!!!!!! Kód pro vyzvednutí je aa55s6t8 Moje bydliště je Brno 45/569 Alena Nováková ',\n",
       " 'Nemám rád vaše služby. Můj manžel Miloš je nesnáší. Jsem Eva a moje bydliště je Prostějov. ',\n",
       " 'Hey, Where is my parcel guys????',\n",
       " 'Hola estoy buscando mis cosas. Ayudame por favor.',\n",
       " 'Oi gente, eu sou brasileiro. Voce me pode ajudar?',\n",
       " 'Nesnáším vás! ',\n",
       " '<----spam----> posílá martina',\n",
       " 'Kde je moje zásilka číslo AB123499CD  Marek',\n",
       " 'Moje zásilka byla doručena na jiné místo než jsem chtěl. ----odpověď----- Omlouváme se.',\n",
       " '156',\n",
       " '20',\n",
       " 'Moje zásilka byla doručena do Prahy a nemám čas jí vyzvednout. ----odpověď----- Omlouváme se.',\n",
       " 'jedna',\n",
       " 'dva']"
      ]
     },
     "execution_count": 1647,
     "metadata": {},
     "output_type": "execute_result"
    }
   ],
   "source": [
    "sentences = [item for sublist in data.values.tolist() for item in sublist]\n",
    "\n",
    "sentences[:]"
   ]
  },
  {
   "cell_type": "markdown",
   "metadata": {},
   "source": [
    "**Replace brackets <>**"
   ]
  },
  {
   "cell_type": "code",
   "execution_count": 1648,
   "metadata": {},
   "outputs": [],
   "source": [
    "def replace_brackets(sentences):\n",
    "    # Apply the pattern to replace clusters enclosed by < and > with an empty string in each sentence\n",
    "    result_sentences = [re.sub(r'<[^>]*>', '', sentence) for sentence in sentences]\n",
    "\n",
    "    return result_sentences"
   ]
  },
  {
   "cell_type": "code",
   "execution_count": 1649,
   "metadata": {},
   "outputs": [
    {
     "data": {
      "text/plain": [
       "['Dobrý den,  chtěla bych se zeptat, jaký je aktuální stav doručení mé objednávky s číslem GH123456CD. Mohl byste mi poskytnout informace o aktuální poloze zásilky a odhadovaném termínu doručení?   Děkuji za odpověď.  Alena Nováková ',\n",
       " 'Pěkný den,  rád bych se dozvěděl více o aktuálním stavu mé zásilky s číslem AB123499CD. Kde se právě nachází a kdy mohu očekávat doručení?  Děkuji za rychlou odpověď.  Předem děkuji,  Miloš Pekárek',\n",
       " 'Dobrý den,  mohl byste mi, prosím, poskytnout podrobnosti o doručení mé objednávky číslo AB128856CD? Zajímá mě aktuální poloha zásilky a očekávaný termín dodání. https://www.novinky.cz/  Děkuji za vaši asistenci.  Pěkný den,  Petr Pekař',\n",
       " 'Moje zásilka byla doručena na jiné místo než jsem chtěl. martin@martin ----odpověď----- Omlouváme se.',\n",
       " 'Doručili jste zásilku na jiné místo. Prosím pošlete na adresu Alena Šestá, Praha 6. Alena Černá',\n",
       " 'Zdravím Kde je moje zásilka č.AB123456CD ?????????? https://www.google.com/ Alena Oranžová',\n",
       " 'Pěkný večer, Kde je prosím moje zásilka s kódem as21g5z99 Alena Červená Bílá',\n",
       " 'Dobrý den, Kde je moje zásilka?  Navštívil jsem stránky www.zasilka.com ale nic jsem nezjistil? Kontaktujte mě alena@cervena.com, adresa: Vrchlabí 54, tel.789789789. S přáním hezkého dne Alena Červená Zelená',\n",
       " 'Zdravím, Nevíte kde je moje zásilka? ****odpověď**** Nevíme. Zjistíme.',\n",
       " 'Vaše služby si strčte do prdele. Budu si stěžovat!!!! Marek Zadek Odesláno z iPhonu',\n",
       " 'Vaše služby jsou otřesné !!!! Odesláno z iPhonu',\n",
       " 'Dobrý den,  kde je moje zásilka? dne 15.11.1845 ve 12:45 jsem poslala zasilku a dnes je 18.12.1945 20:00 a stale ji nemam!!!!!!!  Děkuji za odpověď.  Alena Nováková ',\n",
       " 'Dobrý den,  kde je moje zásilka? dne 15.11. ve 2:45 jsem poslala zasilku a dnes je 18.12. 4:00 a stale ji nemam!!!!!!!  Alena Nováková tel.123456789 email: alena@pomoc-hilfe.com Dekuji za pomoc. ',\n",
       " 'Dobrý večer, Hledám mojí zásilku? Dne 15. 11. 1945 jsem poslala zasilku a dnes je 18. 12. 2045 a stale jí nemůžu najít!!!!!!! Kód pro vyzvednutí je aa55s6t8 Moje bydliště je Brno 45/569 Alena Nováková ',\n",
       " 'Dobrý večer, Hledám mojí zásilku? Dne 15. 11. 1945 jsem poslala zasilku a dnes je 18. 12. 2045 a stale jí nemůžu najít!!!!!!! Kód pro vyzvednutí je aa55s6t8 Moje bydliště je Brno 45/569 Alena Nováková ',\n",
       " 'Nemám rád vaše služby. Můj manžel Miloš je nesnáší. Jsem Eva a moje bydliště je Prostějov. ',\n",
       " 'Hey, Where is my parcel guys????',\n",
       " 'Hola estoy buscando mis cosas. Ayudame por favor.',\n",
       " 'Oi gente, eu sou brasileiro. Voce me pode ajudar?',\n",
       " 'Nesnáším vás! ',\n",
       " ' posílá martina',\n",
       " 'Kde je moje zásilka číslo AB123499CD  Marek',\n",
       " 'Moje zásilka byla doručena na jiné místo než jsem chtěl. ----odpověď----- Omlouváme se.',\n",
       " '156',\n",
       " '20',\n",
       " 'Moje zásilka byla doručena do Prahy a nemám čas jí vyzvednout. ----odpověď----- Omlouváme se.',\n",
       " 'jedna',\n",
       " 'dva']"
      ]
     },
     "execution_count": 1649,
     "metadata": {},
     "output_type": "execute_result"
    }
   ],
   "source": [
    "cleaned = replace_brackets(sentences)\n",
    "cleaned[:30]"
   ]
  },
  {
   "cell_type": "markdown",
   "metadata": {},
   "source": [
    "**Replace parcel number**"
   ]
  },
  {
   "cell_type": "code",
   "execution_count": 1650,
   "metadata": {},
   "outputs": [],
   "source": [
    "def replace_parcel_number(sentences):\n",
    "    # Apply the pattern to replace the entire cluster with 'id' in each sentence\n",
    "    result_sentences = [re.sub(r'([A-Z]+\\d+[A-Z]+)', r'id', sentence) for sentence in sentences]\n",
    "\n",
    "    return result_sentences"
   ]
  },
  {
   "cell_type": "code",
   "execution_count": 1651,
   "metadata": {},
   "outputs": [
    {
     "data": {
      "text/plain": [
       "['Dobrý den,  chtěla bych se zeptat, jaký je aktuální stav doručení mé objednávky s číslem id. Mohl byste mi poskytnout informace o aktuální poloze zásilky a odhadovaném termínu doručení?   Děkuji za odpověď.  Alena Nováková ',\n",
       " 'Pěkný den,  rád bych se dozvěděl více o aktuálním stavu mé zásilky s číslem id. Kde se právě nachází a kdy mohu očekávat doručení?  Děkuji za rychlou odpověď.  Předem děkuji,  Miloš Pekárek',\n",
       " 'Dobrý den,  mohl byste mi, prosím, poskytnout podrobnosti o doručení mé objednávky číslo id? Zajímá mě aktuální poloha zásilky a očekávaný termín dodání. https://www.novinky.cz/  Děkuji za vaši asistenci.  Pěkný den,  Petr Pekař',\n",
       " 'Moje zásilka byla doručena na jiné místo než jsem chtěl. martin@martin ----odpověď----- Omlouváme se.',\n",
       " 'Doručili jste zásilku na jiné místo. Prosím pošlete na adresu Alena Šestá, Praha 6. Alena Černá',\n",
       " 'Zdravím Kde je moje zásilka č.id ?????????? https://www.google.com/ Alena Oranžová',\n",
       " 'Pěkný večer, Kde je prosím moje zásilka s kódem as21g5z99 Alena Červená Bílá',\n",
       " 'Dobrý den, Kde je moje zásilka?  Navštívil jsem stránky www.zasilka.com ale nic jsem nezjistil? Kontaktujte mě alena@cervena.com, adresa: Vrchlabí 54, tel.789789789. S přáním hezkého dne Alena Červená Zelená',\n",
       " 'Zdravím, Nevíte kde je moje zásilka? ****odpověď**** Nevíme. Zjistíme.',\n",
       " 'Vaše služby si strčte do prdele. Budu si stěžovat!!!! Marek Zadek Odesláno z iPhonu',\n",
       " 'Vaše služby jsou otřesné !!!! Odesláno z iPhonu',\n",
       " 'Dobrý den,  kde je moje zásilka? dne 15.11.1845 ve 12:45 jsem poslala zasilku a dnes je 18.12.1945 20:00 a stale ji nemam!!!!!!!  Děkuji za odpověď.  Alena Nováková ',\n",
       " 'Dobrý den,  kde je moje zásilka? dne 15.11. ve 2:45 jsem poslala zasilku a dnes je 18.12. 4:00 a stale ji nemam!!!!!!!  Alena Nováková tel.123456789 email: alena@pomoc-hilfe.com Dekuji za pomoc. ',\n",
       " 'Dobrý večer, Hledám mojí zásilku? Dne 15. 11. 1945 jsem poslala zasilku a dnes je 18. 12. 2045 a stale jí nemůžu najít!!!!!!! Kód pro vyzvednutí je aa55s6t8 Moje bydliště je Brno 45/569 Alena Nováková ',\n",
       " 'Dobrý večer, Hledám mojí zásilku? Dne 15. 11. 1945 jsem poslala zasilku a dnes je 18. 12. 2045 a stale jí nemůžu najít!!!!!!! Kód pro vyzvednutí je aa55s6t8 Moje bydliště je Brno 45/569 Alena Nováková ',\n",
       " 'Nemám rád vaše služby. Můj manžel Miloš je nesnáší. Jsem Eva a moje bydliště je Prostějov. ',\n",
       " 'Hey, Where is my parcel guys????',\n",
       " 'Hola estoy buscando mis cosas. Ayudame por favor.',\n",
       " 'Oi gente, eu sou brasileiro. Voce me pode ajudar?',\n",
       " 'Nesnáším vás! ',\n",
       " ' posílá martina',\n",
       " 'Kde je moje zásilka číslo id  Marek',\n",
       " 'Moje zásilka byla doručena na jiné místo než jsem chtěl. ----odpověď----- Omlouváme se.',\n",
       " '156',\n",
       " '20',\n",
       " 'Moje zásilka byla doručena do Prahy a nemám čas jí vyzvednout. ----odpověď----- Omlouváme se.',\n",
       " 'jedna',\n",
       " 'dva']"
      ]
     },
     "execution_count": 1651,
     "metadata": {},
     "output_type": "execute_result"
    }
   ],
   "source": [
    "cleaned=replace_parcel_number(cleaned)\n",
    "cleaned[:]"
   ]
  },
  {
   "cell_type": "markdown",
   "metadata": {},
   "source": [
    "**Delte after certain words**"
   ]
  },
  {
   "cell_type": "code",
   "execution_count": 1652,
   "metadata": {},
   "outputs": [],
   "source": [
    "def delete_after_certain_word(sentences, patterns):\n",
    "    # Check for defined patterns and merge them\n",
    "    combined_pattern = '|'.join(map(re.escape, patterns))\n",
    "\n",
    "    # Apply the function\n",
    "    pattern = re.compile(f'({combined_pattern}).*', re.DOTALL)\n",
    "\n",
    "    # Apply the pattern to each sentence in the list\n",
    "    result_sentences = [re.sub(pattern, '', sentence) for sentence in sentences]\n",
    "\n",
    "    return result_sentences"
   ]
  },
  {
   "cell_type": "code",
   "execution_count": 1653,
   "metadata": {},
   "outputs": [
    {
     "data": {
      "text/plain": [
       "['Dobrý den,  chtěla bych se zeptat, jaký je aktuální stav doručení mé objednávky s číslem id. Mohl byste mi poskytnout informace o aktuální poloze zásilky a odhadovaném termínu doručení?   ',\n",
       " 'Pěkný den,  rád bych se dozvěděl více o aktuálním stavu mé zásilky s číslem id. Kde se právě nachází a kdy mohu očekávat doručení?  ',\n",
       " 'Dobrý den,  mohl byste mi, prosím, poskytnout podrobnosti o doručení mé objednávky číslo id? Zajímá mě aktuální poloha zásilky a očekávaný termín dodání. https://www.novinky.cz/  ',\n",
       " 'Moje zásilka byla doručena na jiné místo než jsem chtěl. martin@martin ',\n",
       " 'Doručili jste zásilku na jiné místo. Prosím pošlete na adresu Alena Šestá, Praha 6. Alena Černá',\n",
       " 'Zdravím Kde je moje zásilka č.id ?????????? https://www.google.com/ Alena Oranžová',\n",
       " 'Pěkný večer, Kde je prosím moje zásilka s kódem as21g5z99 Alena Červená Bílá',\n",
       " 'Dobrý den, Kde je moje zásilka?  Navštívil jsem stránky www.zasilka.com ale nic jsem nezjistil? Kontaktujte mě alena@cervena.com, adresa: Vrchlabí 54, tel.789789789. ',\n",
       " 'Zdravím, Nevíte kde je moje zásilka? ****odpověď**** Nevíme. Zjistíme.',\n",
       " 'Vaše služby si strčte do prdele. Budu si stěžovat!!!! Marek Zadek ',\n",
       " 'Vaše služby jsou otřesné !!!! ',\n",
       " 'Dobrý den,  kde je moje zásilka? dne 15.11.1845 ve 12:45 jsem poslala zasilku a dnes je 18.12.1945 20:00 a stale ji nemam!!!!!!!  ',\n",
       " 'Dobrý den,  kde je moje zásilka? dne 15.11. ve 2:45 jsem poslala zasilku a dnes je 18.12. 4:00 a stale ji nemam!!!!!!!  Alena Nováková tel.123456789 email: alena@pomoc-hilfe.com Dekuji za pomoc. ',\n",
       " 'Dobrý večer, Hledám mojí zásilku? Dne 15. 11. 1945 jsem poslala zasilku a dnes je 18. 12. 2045 a stale jí nemůžu najít!!!!!!! Kód pro vyzvednutí je aa55s6t8 Moje bydliště je Brno 45/569 Alena Nováková ',\n",
       " 'Dobrý večer, Hledám mojí zásilku? Dne 15. 11. 1945 jsem poslala zasilku a dnes je 18. 12. 2045 a stale jí nemůžu najít!!!!!!! Kód pro vyzvednutí je aa55s6t8 Moje bydliště je Brno 45/569 Alena Nováková ',\n",
       " 'Nemám rád vaše služby. Můj manžel Miloš je nesnáší. Jsem Eva a moje bydliště je Prostějov. ',\n",
       " 'Hey, Where is my parcel guys????',\n",
       " 'Hola estoy buscando mis cosas. Ayudame por favor.',\n",
       " 'Oi gente, eu sou brasileiro. Voce me pode ajudar?',\n",
       " 'Nesnáším vás! ',\n",
       " ' posílá martina',\n",
       " 'Kde je moje zásilka číslo id  Marek',\n",
       " 'Moje zásilka byla doručena na jiné místo než jsem chtěl. ',\n",
       " '156',\n",
       " '20',\n",
       " 'Moje zásilka byla doručena do Prahy a nemám čas jí vyzvednout. ',\n",
       " 'jedna',\n",
       " 'dva']"
      ]
     },
     "execution_count": 1653,
     "metadata": {},
     "output_type": "execute_result"
    }
   ],
   "source": [
    "patterns=['--',\n",
    "          'Děkuji za',\n",
    "          'Předem děkuji',\n",
    "          'S přáním',\n",
    "          'Odesláno z'\n",
    "          ]\n",
    "\n",
    "cleaned = delete_after_certain_word(cleaned, patterns)\n",
    "cleaned[:]"
   ]
  },
  {
   "cell_type": "markdown",
   "metadata": {},
   "source": [
    "**Heading-remove certain words**"
   ]
  },
  {
   "cell_type": "code",
   "execution_count": 1654,
   "metadata": {},
   "outputs": [],
   "source": [
    "def delete_certain_words(sentences, patterns):\n",
    "    # Check for defined patterns and merge them\n",
    "    combined_pattern = '|'.join(map(re.escape, patterns))\n",
    "\n",
    "    # Apply the function\n",
    "    pattern = re.compile(f'({combined_pattern})(\\\\S*|$)')\n",
    "\n",
    "    # Apply the pattern to each sentence in the list\n",
    "    result_sentences = [re.sub(pattern, '', sentence) for sentence in sentences]\n",
    "\n",
    "    return result_sentences"
   ]
  },
  {
   "cell_type": "code",
   "execution_count": 1655,
   "metadata": {},
   "outputs": [
    {
     "data": {
      "text/plain": [
       "['  chtěla bych se zeptat, jaký je aktuální stav doručení mé objednávky s číslem id. Mohl byste mi poskytnout informace o aktuální poloze zásilky a odhadovaném termínu doručení?   ',\n",
       " 'Pěkný den,  rád bych se dozvěděl více o aktuálním stavu mé zásilky s číslem id. Kde se právě nachází a kdy mohu očekávat doručení?  ',\n",
       " '  mohl byste mi, prosím, poskytnout podrobnosti o doručení mé objednávky číslo id? Zajímá mě aktuální poloha zásilky a očekávaný termín dodání. https://www.novinky.cz/  ',\n",
       " 'Moje zásilka byla doručena na jiné místo než jsem chtěl. martin@martin ',\n",
       " 'Doručili jste zásilku na jiné místo. Prosím pošlete na adresu Alena Šestá, Praha 6. Alena Černá',\n",
       " ' Kde je moje zásilka č.id ?????????? https://www.google.com/ Alena Oranžová',\n",
       " ' Kde je prosím moje zásilka s kódem as21g5z99 Alena Červená Bílá',\n",
       " ' Kde je moje zásilka?  Navštívil jsem stránky www.zasilka.com ale nic jsem nezjistil? Kontaktujte mě alena@cervena.com, adresa: Vrchlabí 54, tel.789789789. ',\n",
       " ' Nevíte kde je moje zásilka? ****odpověď**** Nevíme. Zjistíme.',\n",
       " 'Vaše služby si strčte do prdele. Budu si stěžovat!!!! Marek Zadek ',\n",
       " 'Vaše služby jsou otřesné !!!! ',\n",
       " '  kde je moje zásilka? dne 15.11.1845 ve 12:45 jsem poslala zasilku a dnes je 18.12.1945 20:00 a stale ji nemam!!!!!!!  ',\n",
       " '  kde je moje zásilka? dne 15.11. ve 2:45 jsem poslala zasilku a dnes je 18.12. 4:00 a stale ji nemam!!!!!!!  Alena Nováková tel.123456789 email: alena@pomoc-hilfe.com Dekuji za pomoc. ',\n",
       " ' Hledám mojí zásilku? Dne 15. 11. 1945 jsem poslala zasilku a dnes je 18. 12. 2045 a stale jí nemůžu najít!!!!!!! Kód pro vyzvednutí je aa55s6t8 Moje bydliště je Brno 45/569 Alena Nováková ',\n",
       " ' Hledám mojí zásilku? Dne 15. 11. 1945 jsem poslala zasilku a dnes je 18. 12. 2045 a stale jí nemůžu najít!!!!!!! Kód pro vyzvednutí je aa55s6t8 Moje bydliště je Brno 45/569 Alena Nováková ',\n",
       " 'Nemám rád vaše služby. Můj manžel Miloš je nesnáší. Jsem Eva a moje bydliště je Prostějov. ',\n",
       " 'Hey, Where is my parcel guys????',\n",
       " 'Hola estoy buscando mis cosas. Ayudame por favor.',\n",
       " 'Oi gente, eu sou brasileiro. Voce me pode ajudar?',\n",
       " 'Nesnáším vás! ',\n",
       " ' posílá martina',\n",
       " 'Kde je moje zásilka číslo id  Marek',\n",
       " 'Moje zásilka byla doručena na jiné místo než jsem chtěl. ',\n",
       " '156',\n",
       " '20',\n",
       " 'Moje zásilka byla doručena do Prahy a nemám čas jí vyzvednout. ',\n",
       " 'jedna',\n",
       " 'dva']"
      ]
     },
     "execution_count": 1655,
     "metadata": {},
     "output_type": "execute_result"
    }
   ],
   "source": [
    "patterns=['Dobrý den',\n",
    "          'Dobrý večer',\n",
    "          'Pěkný večer',\n",
    "          'Zdravím'\n",
    "          ]\n",
    "cleaned = delete_certain_words(cleaned, patterns)\n",
    "cleaned[:]"
   ]
  },
  {
   "cell_type": "markdown",
   "metadata": {},
   "source": [
    "**Remove last 2 and 3 words if they start with capital letter**"
   ]
  },
  {
   "cell_type": "code",
   "execution_count": 1656,
   "metadata": {},
   "outputs": [],
   "source": [
    "def remove_last_words_with_capital(sentences, min_num_words, max_num_words):\n",
    "    # Apply the pattern to remove the last 2 or 3 words (or any range) starting with capital letters\n",
    "    pattern = r'\\b(?:[A-ZÁČĎÉĚÍŇÓŘŠŤÚŮÝŽ][^\\s]*\\s+){' + str(min_num_words - 1) + r',' + str(max_num_words - 1) + r'}[A-ZÁČĎÉĚÍŇÓŘŠŤÚŮÝŽ][^\\s]*\\s*$'\n",
    "    result_sentences = [re.sub(pattern, '', sentence) for sentence in sentences]\n",
    "\n",
    "    return result_sentences"
   ]
  },
  {
   "cell_type": "code",
   "execution_count": 1657,
   "metadata": {},
   "outputs": [
    {
     "data": {
      "text/plain": [
       "['  chtěla bych se zeptat, jaký je aktuální stav doručení mé objednávky s číslem id. Mohl byste mi poskytnout informace o aktuální poloze zásilky a odhadovaném termínu doručení?   ',\n",
       " 'Pěkný den,  rád bych se dozvěděl více o aktuálním stavu mé zásilky s číslem id. Kde se právě nachází a kdy mohu očekávat doručení?  ',\n",
       " '  mohl byste mi, prosím, poskytnout podrobnosti o doručení mé objednávky číslo id? Zajímá mě aktuální poloha zásilky a očekávaný termín dodání. https://www.novinky.cz/  ',\n",
       " 'Moje zásilka byla doručena na jiné místo než jsem chtěl. martin@martin ',\n",
       " 'Doručili jste zásilku na jiné místo. Prosím pošlete na adresu Alena Šestá, Praha 6. ',\n",
       " ' Kde je moje zásilka č.id ?????????? https://www.google.com/ ',\n",
       " ' Kde je prosím moje zásilka s kódem as21g5z99 ',\n",
       " ' Kde je moje zásilka?  Navštívil jsem stránky www.zasilka.com ale nic jsem nezjistil? Kontaktujte mě alena@cervena.com, adresa: Vrchlabí 54, tel.789789789. ',\n",
       " ' Nevíte kde je moje zásilka? ****odpověď**** ',\n",
       " 'Vaše služby si strčte do prdele. Budu si stěžovat!!!! ',\n",
       " 'Vaše služby jsou otřesné !!!! ',\n",
       " '  kde je moje zásilka? dne 15.11.1845 ve 12:45 jsem poslala zasilku a dnes je 18.12.1945 20:00 a stale ji nemam!!!!!!!  ',\n",
       " '  kde je moje zásilka? dne 15.11. ve 2:45 jsem poslala zasilku a dnes je 18.12. 4:00 a stale ji nemam!!!!!!!  Alena Nováková tel.123456789 email: alena@pomoc-hilfe.com Dekuji za pomoc. ',\n",
       " ' Hledám mojí zásilku? Dne 15. 11. 1945 jsem poslala zasilku a dnes je 18. 12. 2045 a stale jí nemůžu najít!!!!!!! Kód pro vyzvednutí je aa55s6t8 Moje bydliště je Brno 45/569 ',\n",
       " ' Hledám mojí zásilku? Dne 15. 11. 1945 jsem poslala zasilku a dnes je 18. 12. 2045 a stale jí nemůžu najít!!!!!!! Kód pro vyzvednutí je aa55s6t8 Moje bydliště je Brno 45/569 ',\n",
       " 'Nemám rád vaše služby. Můj manžel Miloš je nesnáší. Jsem Eva a moje bydliště je Prostějov. ',\n",
       " 'Hey, Where is my parcel guys????',\n",
       " 'Hola estoy buscando mis cosas. Ayudame por favor.',\n",
       " 'Oi gente, eu sou brasileiro. Voce me pode ajudar?',\n",
       " 'Nesnáším vás! ',\n",
       " ' posílá martina',\n",
       " 'Kde je moje zásilka číslo id  Marek',\n",
       " 'Moje zásilka byla doručena na jiné místo než jsem chtěl. ',\n",
       " '156',\n",
       " '20',\n",
       " 'Moje zásilka byla doručena do Prahy a nemám čas jí vyzvednout. ',\n",
       " 'jedna',\n",
       " 'dva']"
      ]
     },
     "execution_count": 1657,
     "metadata": {},
     "output_type": "execute_result"
    }
   ],
   "source": [
    "cleaned=remove_last_words_with_capital(cleaned, min_num_words=2, max_num_words=3)\n",
    "cleaned[:]"
   ]
  },
  {
   "cell_type": "code",
   "execution_count": 1658,
   "metadata": {},
   "outputs": [
    {
     "data": {
      "text/plain": [
       "\" # Example\\nsentences_to_remove_email = ['my email address is ahoj@ahoj ok', \\n                             'Replace cluster@with.cz time', \\n                             'Try this sona@bastl-instruments.com ok'\\n                             ]\\n\\n# Call the function\\nresult = remove_email(sentences_to_remove_email)\\nresult \""
      ]
     },
     "execution_count": 1658,
     "metadata": {},
     "output_type": "execute_result"
    }
   ],
   "source": [
    "def remove_email(sentences):\n",
    "    # Define the patterns to match email addresses\n",
    "    var1 = r'\\w+@\\w+\\.\\w+'\n",
    "    var2 = r'(\\w+)@(\\w+\\-\\w+\\.\\w+)'\n",
    "    var3 = r'\\w+@\\w+'    \n",
    "    #var4 = r'@\\w+\\.\\w+' #does not work!!!!!!!!!!\n",
    "\n",
    "    pattern = re.compile(fr'\\b({var1}|{var2}|{var3})\\b')\n",
    "   \n",
    "    # Apply the pattern to each sentence in the list\n",
    "    result_sentences = [re.sub(pattern, 'email', sentence) for sentence in sentences]\n",
    "\n",
    "    return result_sentences\n",
    "\n",
    "\n",
    "\n",
    "\n",
    "\"\"\" # Example\n",
    "sentences_to_remove_email = ['my email address is ahoj@ahoj ok', \n",
    "                             'Replace cluster@with.cz time', \n",
    "                             'Try this sona@bastl-instruments.com ok'\n",
    "                             ]\n",
    "\n",
    "# Call the function\n",
    "result = remove_email(sentences_to_remove_email)\n",
    "result \"\"\"\n"
   ]
  },
  {
   "cell_type": "code",
   "execution_count": 1659,
   "metadata": {},
   "outputs": [
    {
     "data": {
      "text/plain": [
       "['  chtěla bych se zeptat, jaký je aktuální stav doručení mé objednávky s číslem id. Mohl byste mi poskytnout informace o aktuální poloze zásilky a odhadovaném termínu doručení?   ',\n",
       " 'Pěkný den,  rád bych se dozvěděl více o aktuálním stavu mé zásilky s číslem id. Kde se právě nachází a kdy mohu očekávat doručení?  ',\n",
       " '  mohl byste mi, prosím, poskytnout podrobnosti o doručení mé objednávky číslo id? Zajímá mě aktuální poloha zásilky a očekávaný termín dodání. https://www.novinky.cz/  ',\n",
       " 'Moje zásilka byla doručena na jiné místo než jsem chtěl. email ',\n",
       " 'Doručili jste zásilku na jiné místo. Prosím pošlete na adresu Alena Šestá, Praha 6. ',\n",
       " ' Kde je moje zásilka č.id ?????????? https://www.google.com/ ',\n",
       " ' Kde je prosím moje zásilka s kódem as21g5z99 ',\n",
       " ' Kde je moje zásilka?  Navštívil jsem stránky www.zasilka.com ale nic jsem nezjistil? Kontaktujte mě email, adresa: Vrchlabí 54, tel.789789789. ',\n",
       " ' Nevíte kde je moje zásilka? ****odpověď**** ',\n",
       " 'Vaše služby si strčte do prdele. Budu si stěžovat!!!! ',\n",
       " 'Vaše služby jsou otřesné !!!! ',\n",
       " '  kde je moje zásilka? dne 15.11.1845 ve 12:45 jsem poslala zasilku a dnes je 18.12.1945 20:00 a stale ji nemam!!!!!!!  ',\n",
       " '  kde je moje zásilka? dne 15.11. ve 2:45 jsem poslala zasilku a dnes je 18.12. 4:00 a stale ji nemam!!!!!!!  Alena Nováková tel.123456789 email: email Dekuji za pomoc. ',\n",
       " ' Hledám mojí zásilku? Dne 15. 11. 1945 jsem poslala zasilku a dnes je 18. 12. 2045 a stale jí nemůžu najít!!!!!!! Kód pro vyzvednutí je aa55s6t8 Moje bydliště je Brno 45/569 ',\n",
       " ' Hledám mojí zásilku? Dne 15. 11. 1945 jsem poslala zasilku a dnes je 18. 12. 2045 a stale jí nemůžu najít!!!!!!! Kód pro vyzvednutí je aa55s6t8 Moje bydliště je Brno 45/569 ',\n",
       " 'Nemám rád vaše služby. Můj manžel Miloš je nesnáší. Jsem Eva a moje bydliště je Prostějov. ',\n",
       " 'Hey, Where is my parcel guys????',\n",
       " 'Hola estoy buscando mis cosas. Ayudame por favor.',\n",
       " 'Oi gente, eu sou brasileiro. Voce me pode ajudar?',\n",
       " 'Nesnáším vás! ',\n",
       " ' posílá martina',\n",
       " 'Kde je moje zásilka číslo id  Marek',\n",
       " 'Moje zásilka byla doručena na jiné místo než jsem chtěl. ',\n",
       " '156',\n",
       " '20',\n",
       " 'Moje zásilka byla doručena do Prahy a nemám čas jí vyzvednout. ',\n",
       " 'jedna',\n",
       " 'dva']"
      ]
     },
     "execution_count": 1659,
     "metadata": {},
     "output_type": "execute_result"
    }
   ],
   "source": [
    "cleaned=remove_email(cleaned)\n",
    "cleaned[:]"
   ]
  },
  {
   "cell_type": "markdown",
   "metadata": {},
   "source": [
    "**Replace expresions starting with http and www**"
   ]
  },
  {
   "cell_type": "code",
   "execution_count": 1660,
   "metadata": {},
   "outputs": [
    {
     "data": {
      "text/plain": [
       "' # Example:\\nsentences = [ \"This sentence has no specific www.pokus.com\",\\n             \"Check out this link: http://example.com.\",\\n             \"This sentence has no specific www.pokus.cz\"]\\n\\n\\nresult1 = starting_with_replace(sentences, \\'http\\', \\'replaced1\\')\\nresult2 = starting_with_replace(sentences, \\'www\\', \\'replaced2\\')\\nprint(result1)\\nprint(result2) '"
      ]
     },
     "execution_count": 1660,
     "metadata": {},
     "output_type": "execute_result"
    }
   ],
   "source": [
    "def starting_with_replace(sentences, var: str, repl: str):\n",
    "\n",
    "    # Define the pattern to match expressions starting with www or http\n",
    "    pattern = re.compile(fr'\\b(?:{re.escape(var)})\\S*\\b', flags=re.IGNORECASE)\n",
    "\n",
    "    # Apply the pattern to each sentence in the list\n",
    "    result_sentences = [re.sub(pattern, repl, sentence) for sentence in sentences]\n",
    "\n",
    "    return result_sentences\n",
    "\n",
    "\n",
    "\n",
    "\"\"\" # Example:\n",
    "sentences = [ \"This sentence has no specific www.pokus.com\",\n",
    "             \"Check out this link: http://example.com.\",\n",
    "             \"This sentence has no specific www.pokus.cz\"]\n",
    "\n",
    "\n",
    "result1 = starting_with_replace(sentences, 'http', 'replaced1')\n",
    "result2 = starting_with_replace(sentences, 'www', 'replaced2')\n",
    "print(result1)\n",
    "print(result2) \"\"\""
   ]
  },
  {
   "cell_type": "code",
   "execution_count": 1661,
   "metadata": {},
   "outputs": [
    {
     "data": {
      "text/plain": [
       "['  chtěla bych se zeptat, jaký je aktuální stav doručení mé objednávky s číslem id. Mohl byste mi poskytnout informace o aktuální poloze zásilky a odhadovaném termínu doručení?   ',\n",
       " 'Pěkný den,  rád bych se dozvěděl více o aktuálním stavu mé zásilky s číslem id. Kde se právě nachází a kdy mohu očekávat doručení?  ',\n",
       " '  mohl byste mi, prosím, poskytnout podrobnosti o doručení mé objednávky číslo id? Zajímá mě aktuální poloha zásilky a očekávaný termín dodání. website/  ',\n",
       " 'Moje zásilka byla doručena na jiné místo než jsem chtěl. email ',\n",
       " 'Doručili jste zásilku na jiné místo. Prosím pošlete na adresu Alena Šestá, Praha 6. ',\n",
       " ' Kde je moje zásilka č.id ?????????? website/ ',\n",
       " ' Kde je prosím moje zásilka s kódem as21g5z99 ',\n",
       " ' Kde je moje zásilka?  Navštívil jsem stránky website ale nic jsem nezjistil? Kontaktujte mě email, adresa: Vrchlabí 54, tel.789789789. ',\n",
       " ' Nevíte kde je moje zásilka? ****odpověď**** ',\n",
       " 'Vaše služby si strčte do prdele. Budu si stěžovat!!!! ',\n",
       " 'Vaše služby jsou otřesné !!!! ',\n",
       " '  kde je moje zásilka? dne 15.11.1845 ve 12:45 jsem poslala zasilku a dnes je 18.12.1945 20:00 a stale ji nemam!!!!!!!  ',\n",
       " '  kde je moje zásilka? dne 15.11. ve 2:45 jsem poslala zasilku a dnes je 18.12. 4:00 a stale ji nemam!!!!!!!  Alena Nováková tel.123456789 email: email Dekuji za pomoc. ',\n",
       " ' Hledám mojí zásilku? Dne 15. 11. 1945 jsem poslala zasilku a dnes je 18. 12. 2045 a stale jí nemůžu najít!!!!!!! Kód pro vyzvednutí je aa55s6t8 Moje bydliště je Brno 45/569 ',\n",
       " ' Hledám mojí zásilku? Dne 15. 11. 1945 jsem poslala zasilku a dnes je 18. 12. 2045 a stale jí nemůžu najít!!!!!!! Kód pro vyzvednutí je aa55s6t8 Moje bydliště je Brno 45/569 ',\n",
       " 'Nemám rád vaše služby. Můj manžel Miloš je nesnáší. Jsem Eva a moje bydliště je Prostějov. ',\n",
       " 'Hey, Where is my parcel guys????',\n",
       " 'Hola estoy buscando mis cosas. Ayudame por favor.',\n",
       " 'Oi gente, eu sou brasileiro. Voce me pode ajudar?',\n",
       " 'Nesnáším vás! ',\n",
       " ' posílá martina',\n",
       " 'Kde je moje zásilka číslo id  Marek',\n",
       " 'Moje zásilka byla doručena na jiné místo než jsem chtěl. ',\n",
       " '156',\n",
       " '20',\n",
       " 'Moje zásilka byla doručena do Prahy a nemám čas jí vyzvednout. ',\n",
       " 'jedna',\n",
       " 'dva']"
      ]
     },
     "execution_count": 1661,
     "metadata": {},
     "output_type": "execute_result"
    }
   ],
   "source": [
    "cleaned = starting_with_replace(cleaned, 'www', 'website')\n",
    "cleaned = starting_with_replace(cleaned, 'http', 'website')\n",
    "cleaned[:]"
   ]
  },
  {
   "cell_type": "markdown",
   "metadata": {},
   "source": [
    "**Replace date, time and phone number**"
   ]
  },
  {
   "cell_type": "code",
   "execution_count": 1662,
   "metadata": {},
   "outputs": [],
   "source": [
    "def replace_number_with_date(sentences):\n",
    "\n",
    "    # define long dates dd.mm.yyy\n",
    "    var1=r'\\d{1,2}\\.\\d{1,2}\\.\\d{1,4}'\n",
    "    var2=r'\\d{1,2}\\.\\s\\d{1,2}\\.\\s\\d{1,4}'\n",
    "\n",
    "    # define short dates dd.mm\n",
    "    var3=r'\\d{1,2}\\.\\d{1,2}'\n",
    "    var4=r'\\d{1,2}\\.\\s\\d{1,2}'\n",
    "\n",
    "    pattern = re.compile(fr'\\b({var1}|{var2}|{var3}|{var4})\\b')\n",
    "\n",
    "    # Define the replacement string\n",
    "    repl = 'konkrétní datum'\n",
    "\n",
    "    # Apply the pattern to each sentence in the list\n",
    "    result_sentences = [re.sub(pattern, repl, sentence) for sentence in sentences]\n",
    "\n",
    "    return result_sentences"
   ]
  },
  {
   "cell_type": "code",
   "execution_count": 1663,
   "metadata": {},
   "outputs": [],
   "source": [
    "def replace_number_with_time(sentences):\n",
    "\n",
    "    # replace time\n",
    "    var1=r'\\d{1,2}\\:\\d{1,2}'\n",
    "    pattern = re.compile(fr'\\b({var1})\\b')\n",
    "\n",
    "    # Define the replacement string\n",
    "    repl = 'konkrétní čas'\n",
    "\n",
    "    # Apply the pattern to each sentence in the list\n",
    "    result_sentences = [re.sub(pattern, repl, sentence) for sentence in sentences]\n",
    "\n",
    "    return result_sentences"
   ]
  },
  {
   "cell_type": "code",
   "execution_count": 1664,
   "metadata": {},
   "outputs": [
    {
     "data": {
      "text/plain": [
       "' # Example usage:\\nsentences = [\"Visit tel.5465465465 for more information.\",\\n             \"this date 20.12.2023 is nice\",\\n             \"this date 20. 12. 2023 is awsome\",\\n             \"this date 20. 12. is awful\",\\n             \"this date 20.12. is bad\",\\n             \"this time 20:12 is not good\"\\n             ]\\n\\nresult = replace_number_with_telephone(sentences)\\nresult = replace_number_with_date(result)\\nresult = replace_number_with_time(result)\\npprint(result) '"
      ]
     },
     "execution_count": 1664,
     "metadata": {},
     "output_type": "execute_result"
    }
   ],
   "source": [
    "def replace_number_with_telephone(sentences):\n",
    "\n",
    "    # replace time\n",
    "    var1=r'\\btel\\.\\d+\\b'\n",
    "    pattern = re.compile(fr'{var1}')\n",
    "\n",
    "    # Define the replacement string\n",
    "    repl = 'telefonní číslo'\n",
    "\n",
    "    # Apply the pattern to each sentence in the list\n",
    "    result_sentences = [re.sub(pattern, repl, sentence) for sentence in sentences]\n",
    "\n",
    "    return result_sentences\n",
    "\n",
    "\n",
    "\"\"\" # Example usage:\n",
    "sentences = [\"Visit tel.5465465465 for more information.\",\n",
    "             \"this date 20.12.2023 is nice\",\n",
    "             \"this date 20. 12. 2023 is awsome\",\n",
    "             \"this date 20. 12. is awful\",\n",
    "             \"this date 20.12. is bad\",\n",
    "             \"this time 20:12 is not good\"\n",
    "             ]\n",
    "\n",
    "result = replace_number_with_telephone(sentences)\n",
    "result = replace_number_with_date(result)\n",
    "result = replace_number_with_time(result)\n",
    "pprint(result) \"\"\""
   ]
  },
  {
   "cell_type": "code",
   "execution_count": 1665,
   "metadata": {},
   "outputs": [
    {
     "data": {
      "text/plain": [
       "['  chtěla bych se zeptat, jaký je aktuální stav doručení mé objednávky s číslem id. Mohl byste mi poskytnout informace o aktuální poloze zásilky a odhadovaném termínu doručení?   ',\n",
       " 'Pěkný den,  rád bych se dozvěděl více o aktuálním stavu mé zásilky s číslem id. Kde se právě nachází a kdy mohu očekávat doručení?  ',\n",
       " '  mohl byste mi, prosím, poskytnout podrobnosti o doručení mé objednávky číslo id? Zajímá mě aktuální poloha zásilky a očekávaný termín dodání. website/  ',\n",
       " 'Moje zásilka byla doručena na jiné místo než jsem chtěl. email ',\n",
       " 'Doručili jste zásilku na jiné místo. Prosím pošlete na adresu Alena Šestá, Praha 6. ']"
      ]
     },
     "execution_count": 1665,
     "metadata": {},
     "output_type": "execute_result"
    }
   ],
   "source": [
    "cleaned = replace_number_with_telephone(cleaned)\n",
    "cleaned = replace_number_with_date(cleaned)\n",
    "cleaned = replace_number_with_time(cleaned)\n",
    "cleaned[:5]"
   ]
  },
  {
   "cell_type": "markdown",
   "metadata": {},
   "source": [
    "**Delete alphanumeric**"
   ]
  },
  {
   "cell_type": "code",
   "execution_count": 1666,
   "metadata": {},
   "outputs": [
    {
     "data": {
      "text/plain": [
       "' # Example usage:\\nsentences = [\"Visit s5s5s5ssfbvbbh for more information.\",\\n             \"Check out this 555ggg6dddd\",\\n             \"This sentence has no specific expression.\"]\\n\\n\\nresult = remove_alphanumeric_words(sentences)\\npprint(result) '"
      ]
     },
     "execution_count": 1666,
     "metadata": {},
     "output_type": "execute_result"
    }
   ],
   "source": [
    "def remove_alphanumeric_words(sentences):\n",
    "    # Pattern to match words containing both letters and numbers\n",
    "    pattern = r'\\b(?:[A-Za-zÁ-Žá-ž]+\\d+|\\d+[A-Za-zÁ-Žá-ž]+)[A-Za-zÁ-Žá-ž\\d]*\\b'\n",
    "    result_sentences = [re.sub(pattern, '', sentence) for sentence in sentences]\n",
    "\n",
    "    return result_sentences\n",
    "\n",
    "\"\"\" # Example usage:\n",
    "sentences = [\"Visit s5s5s5ssfbvbbh for more information.\",\n",
    "             \"Check out this 555ggg6dddd\",\n",
    "             \"This sentence has no specific expression.\"]\n",
    "\n",
    "\n",
    "result = remove_alphanumeric_words(sentences)\n",
    "pprint(result) \"\"\""
   ]
  },
  {
   "cell_type": "code",
   "execution_count": 1667,
   "metadata": {},
   "outputs": [
    {
     "data": {
      "text/plain": [
       "['  chtěla bych se zeptat, jaký je aktuální stav doručení mé objednávky s číslem id. Mohl byste mi poskytnout informace o aktuální poloze zásilky a odhadovaném termínu doručení?   ',\n",
       " 'Pěkný den,  rád bych se dozvěděl více o aktuálním stavu mé zásilky s číslem id. Kde se právě nachází a kdy mohu očekávat doručení?  ',\n",
       " '  mohl byste mi, prosím, poskytnout podrobnosti o doručení mé objednávky číslo id? Zajímá mě aktuální poloha zásilky a očekávaný termín dodání. website/  ',\n",
       " 'Moje zásilka byla doručena na jiné místo než jsem chtěl. email ',\n",
       " 'Doručili jste zásilku na jiné místo. Prosím pošlete na adresu Alena Šestá, Praha 6. ']"
      ]
     },
     "execution_count": 1667,
     "metadata": {},
     "output_type": "execute_result"
    }
   ],
   "source": [
    "cleaned = remove_alphanumeric_words(cleaned)\n",
    "cleaned[:5]"
   ]
  },
  {
   "cell_type": "markdown",
   "metadata": {},
   "source": [
    "**Replace numbers with words**"
   ]
  },
  {
   "cell_type": "code",
   "execution_count": 1668,
   "metadata": {},
   "outputs": [
    {
     "data": {
      "text/plain": [
       "' # Example usage:\\nsentences = [\"This is an example with 1 and 3 numbers.\", \"Another sentence with česká diakritika and 5 special characters!\"]\\n\\nresult = replace_numbers_with_words(sentences)\\npprint(result) '"
      ]
     },
     "execution_count": 1668,
     "metadata": {},
     "output_type": "execute_result"
    }
   ],
   "source": [
    "def replace_numbers_with_words(sentences):\n",
    "    # Define the mapping of digits to words\n",
    "    digit_to_word = {'1': 'jeden', '2': 'dva', '3': 'tři', '4': 'čtyři', '5': 'pět'}\n",
    "\n",
    "    # Create a pattern to match any of the specified digits\n",
    "    pattern = r'\\b([1-5])\\b'\n",
    "    \n",
    "    # Replace each digit with its corresponding word\n",
    "    result_sentences = [re.sub(pattern, lambda x: digit_to_word[x.group()], sentence) for sentence in sentences]\n",
    "\n",
    "    return result_sentences\n",
    "\n",
    "\n",
    "\"\"\" # Example usage:\n",
    "sentences = [\"This is an example with 1 and 3 numbers.\", \"Another sentence with česká diakritika and 5 special characters!\"]\n",
    "\n",
    "result = replace_numbers_with_words(sentences)\n",
    "pprint(result) \"\"\""
   ]
  },
  {
   "cell_type": "code",
   "execution_count": 1669,
   "metadata": {},
   "outputs": [
    {
     "data": {
      "text/plain": [
       "['  chtěla bych se zeptat, jaký je aktuální stav doručení mé objednávky s číslem id. Mohl byste mi poskytnout informace o aktuální poloze zásilky a odhadovaném termínu doručení?   ',\n",
       " 'Pěkný den,  rád bych se dozvěděl více o aktuálním stavu mé zásilky s číslem id. Kde se právě nachází a kdy mohu očekávat doručení?  ',\n",
       " '  mohl byste mi, prosím, poskytnout podrobnosti o doručení mé objednávky číslo id? Zajímá mě aktuální poloha zásilky a očekávaný termín dodání. website/  ',\n",
       " 'Moje zásilka byla doručena na jiné místo než jsem chtěl. email ',\n",
       " 'Doručili jste zásilku na jiné místo. Prosím pošlete na adresu Alena Šestá, Praha 6. ']"
      ]
     },
     "execution_count": 1669,
     "metadata": {},
     "output_type": "execute_result"
    }
   ],
   "source": [
    "cleaned = replace_numbers_with_words(cleaned)\n",
    "cleaned[:5]"
   ]
  },
  {
   "cell_type": "markdown",
   "metadata": {},
   "source": [
    "**Delete standalone numbers**"
   ]
  },
  {
   "cell_type": "code",
   "execution_count": 1670,
   "metadata": {},
   "outputs": [
    {
     "data": {
      "text/plain": [
       "' # Example usage:s\\nsentences = [\"This is an example with 123 numbers.\", \"Another sentence with abc123 and special characters!\"]\\nresult = remove_numeric_words(sentences)\\npprint(result) '"
      ]
     },
     "execution_count": 1670,
     "metadata": {},
     "output_type": "execute_result"
    }
   ],
   "source": [
    "def remove_numeric_words(sentences):\n",
    "    # Pattern to match standalone numbers\n",
    "    pattern = r'\\b\\d+\\b'\n",
    "    result_sentences = [re.sub(pattern, '', sentence) for sentence in sentences]\n",
    "\n",
    "    return result_sentences\n",
    "\n",
    "\"\"\" # Example usage:s\n",
    "sentences = [\"This is an example with 123 numbers.\", \"Another sentence with abc123 and special characters!\"]\n",
    "result = remove_numeric_words(sentences)\n",
    "pprint(result) \"\"\""
   ]
  },
  {
   "cell_type": "code",
   "execution_count": 1671,
   "metadata": {},
   "outputs": [
    {
     "data": {
      "text/plain": [
       "['  chtěla bych se zeptat, jaký je aktuální stav doručení mé objednávky s číslem id. Mohl byste mi poskytnout informace o aktuální poloze zásilky a odhadovaném termínu doručení?   ',\n",
       " 'Pěkný den,  rád bych se dozvěděl více o aktuálním stavu mé zásilky s číslem id. Kde se právě nachází a kdy mohu očekávat doručení?  ',\n",
       " '  mohl byste mi, prosím, poskytnout podrobnosti o doručení mé objednávky číslo id? Zajímá mě aktuální poloha zásilky a očekávaný termín dodání. website/  ',\n",
       " 'Moje zásilka byla doručena na jiné místo než jsem chtěl. email ',\n",
       " 'Doručili jste zásilku na jiné místo. Prosím pošlete na adresu Alena Šestá, Praha . ']"
      ]
     },
     "execution_count": 1671,
     "metadata": {},
     "output_type": "execute_result"
    }
   ],
   "source": [
    "cleaned = remove_numeric_words(cleaned)\n",
    "cleaned[:5]"
   ]
  },
  {
   "cell_type": "markdown",
   "metadata": {},
   "source": [
    "**Simplify repeating symbols**"
   ]
  },
  {
   "cell_type": "code",
   "execution_count": 1672,
   "metadata": {},
   "outputs": [
    {
     "data": {
      "text/plain": [
       "' # Example usage:s\\nsentences = [\"This is an example with 123 numbers!!!!!!!!!\", \\n            \"Another sentence with abc123 and special characters??????\",\\n            \\'hi how aaaaare are youuuuuu?????\\'\\n            ]\\n\\nresult = replace_repeating_characters(sentences)\\npprint(result) '"
      ]
     },
     "execution_count": 1672,
     "metadata": {},
     "output_type": "execute_result"
    }
   ],
   "source": [
    "def replace_repeating_characters(sentences):\n",
    "    # Apply the pattern to replace clusters of the same symbols with a single symbol in each sentence\n",
    "    result_sentences = [re.sub(r'(\\S)\\1+', r'\\1', sentence, flags=re.UNICODE) for sentence in sentences]\n",
    "\n",
    "    return result_sentences\n",
    "\n",
    "\n",
    "\"\"\" # Example usage:s\n",
    "sentences = [\"This is an example with 123 numbers!!!!!!!!!\", \n",
    "            \"Another sentence with abc123 and special characters??????\",\n",
    "            'hi how aaaaare are youuuuuu?????'\n",
    "            ]\n",
    "\n",
    "result = replace_repeating_characters(sentences)\n",
    "pprint(result) \"\"\""
   ]
  },
  {
   "cell_type": "code",
   "execution_count": 1673,
   "metadata": {},
   "outputs": [
    {
     "data": {
      "text/plain": [
       "['  chtěla bych se zeptat, jaký je aktuální stav doručení mé objednávky s číslem id. Mohl byste mi poskytnout informace o aktuální poloze zásilky a odhadovaném termínu doručení?   ',\n",
       " 'Pěkný den,  rád bych se dozvěděl více o aktuálním stavu mé zásilky s číslem id. Kde se právě nachází a kdy mohu očekávat doručení?  ',\n",
       " '  mohl byste mi, prosím, poskytnout podrobnosti o doručení mé objednávky číslo id? Zajímá mě aktuální poloha zásilky a očekávaný termín dodání. website/  ',\n",
       " 'Moje zásilka byla doručena na jiné místo než jsem chtěl. email ',\n",
       " 'Doručili jste zásilku na jiné místo. Prosím pošlete na adresu Alena Šestá, Praha . ']"
      ]
     },
     "execution_count": 1673,
     "metadata": {},
     "output_type": "execute_result"
    }
   ],
   "source": [
    "cleaned = replace_repeating_characters(cleaned)\n",
    "cleaned[:5]"
   ]
  },
  {
   "cell_type": "markdown",
   "metadata": {},
   "source": [
    "**Delete weird punctuation**"
   ]
  },
  {
   "cell_type": "code",
   "execution_count": 1674,
   "metadata": {},
   "outputs": [
    {
     "data": {
      "text/plain": [
       "\" # example\\nsentences= ['ahoj@majk, dfqdas', 'fadsf/ssss', 'asdas:asdas()d']\\nresult=remove_punctuation(sentences)\\npprint(result) \""
      ]
     },
     "execution_count": 1674,
     "metadata": {},
     "output_type": "execute_result"
    }
   ],
   "source": [
    "punct_list='[],]\\/()|:\"+*©@'\n",
    "\n",
    "def remove_punctuation(sentences):\n",
    "    processed_sentences = [re.sub(f'[{re.escape(punct_list)}]', ' ', sentence) for sentence in sentences]\n",
    "    return processed_sentences\n",
    "\n",
    "\n",
    "\"\"\" # example\n",
    "sentences= ['ahoj@majk, dfqdas', 'fadsf/ssss', 'asdas:asdas()d']\n",
    "result=remove_punctuation(sentences)\n",
    "pprint(result) \"\"\""
   ]
  },
  {
   "cell_type": "code",
   "execution_count": 1675,
   "metadata": {},
   "outputs": [
    {
     "data": {
      "text/plain": [
       "['  chtěla bych se zeptat  jaký je aktuální stav doručení mé objednávky s číslem id. Mohl byste mi poskytnout informace o aktuální poloze zásilky a odhadovaném termínu doručení?   ',\n",
       " 'Pěkný den   rád bych se dozvěděl více o aktuálním stavu mé zásilky s číslem id. Kde se právě nachází a kdy mohu očekávat doručení?  ',\n",
       " '  mohl byste mi  prosím  poskytnout podrobnosti o doručení mé objednávky číslo id? Zajímá mě aktuální poloha zásilky a očekávaný termín dodání. website   ',\n",
       " 'Moje zásilka byla doručena na jiné místo než jsem chtěl. email ',\n",
       " 'Doručili jste zásilku na jiné místo. Prosím pošlete na adresu Alena Šestá  Praha . ']"
      ]
     },
     "execution_count": 1675,
     "metadata": {},
     "output_type": "execute_result"
    }
   ],
   "source": [
    "cleaned = remove_punctuation(cleaned)\n",
    "cleaned[:5]"
   ]
  },
  {
   "cell_type": "markdown",
   "metadata": {},
   "source": [
    "**Names**"
   ]
  },
  {
   "cell_type": "code",
   "execution_count": 1676,
   "metadata": {},
   "outputs": [],
   "source": [
    "# check diacritics\n",
    "def has_diacritics(name):\n",
    "    return any(char.isalpha() and char != unidecode(char) for char in name)\n",
    "\n",
    "# add to the list\n",
    "def add_names_without_diacritics(czech_names: list) -> list:\n",
    "    [czech_names.append(unidecode(name)) if has_diacritics(name) else next for name in czech_names]\n",
    "    return czech_names"
   ]
  },
  {
   "cell_type": "code",
   "execution_count": 1677,
   "metadata": {},
   "outputs": [
    {
     "data": {
      "text/plain": [
       "['Adéla', 'Adriana', 'Agáta', 'Albína', 'Alena']"
      ]
     },
     "execution_count": 1677,
     "metadata": {},
     "output_type": "execute_result"
    }
   ],
   "source": [
    "# read the file\n",
    "czech_names = pd.read_csv('input/czech_names.csv', encoding='utf-8')\n",
    "czech_names=czech_names['jméno'].tolist()\n",
    "czech_names[:5]"
   ]
  },
  {
   "cell_type": "code",
   "execution_count": 1678,
   "metadata": {},
   "outputs": [
    {
     "data": {
      "text/plain": [
       "['Vladimir',\n",
       " 'Vojtech',\n",
       " 'Zaboj',\n",
       " 'Zavis',\n",
       " 'Zbyhnev',\n",
       " 'Zbynek',\n",
       " 'Zbysek',\n",
       " 'Zdenek',\n",
       " 'Zoltan',\n",
       " 'Zelimir']"
      ]
     },
     "execution_count": 1678,
     "metadata": {},
     "output_type": "execute_result"
    }
   ],
   "source": [
    "# apply the function\n",
    "czech_names=add_names_without_diacritics(czech_names)\n",
    "czech_names[-10:]"
   ]
  },
  {
   "cell_type": "code",
   "execution_count": 1679,
   "metadata": {},
   "outputs": [
    {
     "data": {
      "text/plain": [
       "\" # Example usage\\nword_list = ['Praha', 'praha', 'Brno', 'brno']\\nmodified_list = convert_to_lowercase_and_keep_original(word_list)\\n\\npprint(modified_list) \""
      ]
     },
     "execution_count": 1679,
     "metadata": {},
     "output_type": "execute_result"
    }
   ],
   "source": [
    "def convert_to_lowercase_and_keep_original(words):\n",
    "    result_list = []\n",
    "    for word in words:\n",
    "        result_list.append(word)\n",
    "        if word[0].isupper():\n",
    "            result_list.append(word[0].lower() + word[1:])\n",
    "    return result_list\n",
    "\n",
    "\"\"\" # Example usage\n",
    "word_list = ['Praha', 'praha', 'Brno', 'brno']\n",
    "modified_list = convert_to_lowercase_and_keep_original(word_list)\n",
    "\n",
    "pprint(modified_list) \"\"\""
   ]
  },
  {
   "cell_type": "code",
   "execution_count": 1680,
   "metadata": {},
   "outputs": [
    {
     "data": {
      "text/plain": [
       "\" # example\\nsentences= ['ahoj Miloš jak sa mate', \\n            'nevim o Milošovi vubec nic'\\n            ]\\n\\nresult=delete_patterns(sentences, czech_names)\\npprint(result) \""
      ]
     },
     "execution_count": 1680,
     "metadata": {},
     "output_type": "execute_result"
    }
   ],
   "source": [
    "def delete_patterns(sentences, patterns):\n",
    "    # Check for defined patterns and merge them\n",
    "    combined_pattern = '|'.join(map(re.escape, patterns))\n",
    "\n",
    "    # Apply the function\n",
    "    pattern = re.compile(fr'\\b({combined_pattern})\\b')\n",
    "\n",
    "    # Apply the pattern to each sentence in the list\n",
    "    result_sentences = [re.sub(pattern, '', sentence) for sentence in sentences]\n",
    "\n",
    "    return result_sentences\n",
    "\n",
    "\n",
    "\"\"\" # example\n",
    "sentences= ['ahoj Miloš jak sa mate', \n",
    "            'nevim o Milošovi vubec nic'\n",
    "            ]\n",
    "\n",
    "result=delete_patterns(sentences, czech_names)\n",
    "pprint(result) \"\"\""
   ]
  },
  {
   "cell_type": "code",
   "execution_count": 1681,
   "metadata": {},
   "outputs": [
    {
     "data": {
      "text/plain": [
       "['  chtěla bych se zeptat  jaký je aktuální stav doručení mé objednávky s číslem id. Mohl byste mi poskytnout informace o aktuální poloze zásilky a odhadovaném termínu doručení?   ',\n",
       " 'Pěkný den   rád bych se dozvěděl více o aktuálním stavu mé zásilky s číslem id. Kde se právě nachází a kdy mohu očekávat doručení?  ',\n",
       " '  mohl byste mi  prosím  poskytnout podrobnosti o doručení mé objednávky číslo id? Zajímá mě aktuální poloha zásilky a očekávaný termín dodání. website   ',\n",
       " 'Moje zásilka byla doručena na jiné místo než jsem chtěl. email ',\n",
       " 'Doručili jste zásilku na jiné místo. Prosím pošlete na adresu  Šestá  Praha . ']"
      ]
     },
     "execution_count": 1681,
     "metadata": {},
     "output_type": "execute_result"
    }
   ],
   "source": [
    "czech_names = convert_to_lowercase_and_keep_original(czech_names)\n",
    "cleaned = delete_patterns(cleaned, czech_names)\n",
    "cleaned[:5]"
   ]
  },
  {
   "cell_type": "markdown",
   "metadata": {},
   "source": [
    "**Cities**"
   ]
  },
  {
   "cell_type": "code",
   "execution_count": 1682,
   "metadata": {},
   "outputs": [
    {
     "name": "stdout",
     "output_type": "stream",
     "text": [
      "['Benešov', 'Bernartice', 'Bílkovice', 'Blažejovice', 'Borovnice']\n"
     ]
    }
   ],
   "source": [
    "# read the file\n",
    "czech_cities = pd.read_csv('input/czech_cities.csv', encoding='utf-8')\n",
    "czech_cities=czech_cities['město'].tolist()\n",
    "\n",
    "# Split each item in the original list and flatten the resulting list\n",
    "czech_cities_split = [item.strip() for sublist in [item.split('•') for item in czech_cities] for item in sublist]\n",
    "\n",
    "pprint(czech_cities_split[:5])"
   ]
  },
  {
   "cell_type": "code",
   "execution_count": 1683,
   "metadata": {},
   "outputs": [
    {
     "data": {
      "text/plain": [
       "10626"
      ]
     },
     "execution_count": 1683,
     "metadata": {},
     "output_type": "execute_result"
    }
   ],
   "source": [
    "# apply function created before\n",
    "czech_cities_split=add_names_without_diacritics(czech_cities_split)\n",
    "len(czech_cities_split)"
   ]
  },
  {
   "cell_type": "code",
   "execution_count": 1684,
   "metadata": {},
   "outputs": [
    {
     "data": {
      "text/plain": [
       "\" # Example usage\\nword_list = ['Praha', 'praha', 'Brno', 'brno']\\nmodified_list = convert_to_lowercase_and_keep_original(word_list)\\n\\npprint(modified_list) \""
      ]
     },
     "execution_count": 1684,
     "metadata": {},
     "output_type": "execute_result"
    }
   ],
   "source": [
    "\"\"\" def convert_to_lowercase_and_keep_original(words):\n",
    "    result_list = []\n",
    "    for word in words:\n",
    "        result_list.append(word)\n",
    "        if word[0].isupper():\n",
    "            result_list.append(word[0].lower() + word[1:])\n",
    "    return result_list \"\"\"\n",
    "\n",
    "\"\"\" # Example usage\n",
    "word_list = ['Praha', 'praha', 'Brno', 'brno']\n",
    "modified_list = convert_to_lowercase_and_keep_original(word_list)\n",
    "\n",
    "pprint(modified_list) \"\"\""
   ]
  },
  {
   "cell_type": "code",
   "execution_count": 1685,
   "metadata": {},
   "outputs": [
    {
     "data": {
      "text/plain": [
       "' czech_cities_split=convert_to_lowercase_and_keep_original(czech_cities_split)\\nlen(czech_cities_split) '"
      ]
     },
     "execution_count": 1685,
     "metadata": {},
     "output_type": "execute_result"
    }
   ],
   "source": [
    "\"\"\" czech_cities_split=convert_to_lowercase_and_keep_original(czech_cities_split)\n",
    "len(czech_cities_split) \"\"\""
   ]
  },
  {
   "cell_type": "code",
   "execution_count": 1686,
   "metadata": {},
   "outputs": [
    {
     "data": {
      "text/plain": [
       "['  chtěla bych se zeptat  jaký je aktuální stav doručení mé objednávky s číslem id. Mohl byste mi poskytnout informace o aktuální poloze zásilky a odhadovaném termínu doručení?   ',\n",
       " 'Pěkný den   rád bych se dozvěděl více o aktuálním stavu mé zásilky s číslem id. Kde se právě nachází a kdy mohu očekávat doručení?  ',\n",
       " '  mohl byste mi  prosím  poskytnout podrobnosti o doručení mé objednávky číslo id? Zajímá mě aktuální poloha zásilky a očekávaný termín dodání. website   ',\n",
       " 'Moje zásilka byla doručena na jiné místo než jsem chtěl. email ',\n",
       " 'Doručili jste zásilku na jiné místo. Prosím pošlete na adresu  Šestá   . ']"
      ]
     },
     "execution_count": 1686,
     "metadata": {},
     "output_type": "execute_result"
    }
   ],
   "source": [
    "# apply function created before\n",
    "cleaned=delete_patterns(cleaned, czech_cities_split)\n",
    "cleaned[:5]"
   ]
  },
  {
   "cell_type": "markdown",
   "metadata": {},
   "source": [
    "**Lowercase**"
   ]
  },
  {
   "cell_type": "code",
   "execution_count": 1687,
   "metadata": {},
   "outputs": [
    {
     "data": {
      "text/plain": [
       "\" # Example usage\\nword_list = ['Praha', 'praha', 'Brno', 'brno']\\nmodified_list = change_lowercase(word_list)\\n\\npprint(modified_list) \""
      ]
     },
     "execution_count": 1687,
     "metadata": {},
     "output_type": "execute_result"
    }
   ],
   "source": [
    "def change_lowercase(list):\n",
    "    processed_sentences = [sentence.lower() for sentence in list]\n",
    "    return processed_sentences\n",
    "\n",
    "\"\"\" # Example usage\n",
    "word_list = ['Praha', 'praha', 'Brno', 'brno']\n",
    "modified_list = change_lowercase(word_list)\n",
    "\n",
    "pprint(modified_list) \"\"\""
   ]
  },
  {
   "cell_type": "code",
   "execution_count": 1688,
   "metadata": {},
   "outputs": [
    {
     "data": {
      "text/plain": [
       "['  chtěla bych se zeptat  jaký je aktuální stav doručení mé objednávky s číslem id. mohl byste mi poskytnout informace o aktuální poloze zásilky a odhadovaném termínu doručení?   ',\n",
       " 'pěkný den   rád bych se dozvěděl více o aktuálním stavu mé zásilky s číslem id. kde se právě nachází a kdy mohu očekávat doručení?  ',\n",
       " '  mohl byste mi  prosím  poskytnout podrobnosti o doručení mé objednávky číslo id? zajímá mě aktuální poloha zásilky a očekávaný termín dodání. website   ',\n",
       " 'moje zásilka byla doručena na jiné místo než jsem chtěl. email ',\n",
       " 'doručili jste zásilku na jiné místo. prosím pošlete na adresu  šestá   . ']"
      ]
     },
     "execution_count": 1688,
     "metadata": {},
     "output_type": "execute_result"
    }
   ],
   "source": [
    "cleaned = change_lowercase(cleaned)\n",
    "cleaned[:5]"
   ]
  },
  {
   "cell_type": "markdown",
   "metadata": {},
   "source": [
    "## Filter the whole sentences"
   ]
  },
  {
   "cell_type": "markdown",
   "metadata": {},
   "source": [
    "**Delete short or empty sentences**"
   ]
  },
  {
   "cell_type": "code",
   "execution_count": 1689,
   "metadata": {},
   "outputs": [
    {
     "data": {
      "text/plain": [
       "' # Example usage:\\nsentences = [\"Hodně slov v této větě\", \\n             \"jedno\", \\n             \\'tři slova tady\\',\\n             \\'dvě slova\\',\\n             \\'\\'\\n             ]\\n\\nresult = remove_short_sentences(sentences, max_words=2)\\npprint(result) '"
      ]
     },
     "execution_count": 1689,
     "metadata": {},
     "output_type": "execute_result"
    }
   ],
   "source": [
    "def remove_short_sentences(sentences, max_words=1):\n",
    "    # Filter out sentences with the number of words less than or equal to max_words\n",
    "    result_sentences = [sentence for sentence in sentences if len(sentence.split()) > max_words]\n",
    "\n",
    "    return result_sentences\n",
    "\n",
    "\"\"\" # Example usage:\n",
    "sentences = [\"Hodně slov v této větě\", \n",
    "             \"jedno\", \n",
    "             'tři slova tady',\n",
    "             'dvě slova',\n",
    "             ''\n",
    "             ]\n",
    "\n",
    "result = remove_short_sentences(sentences, max_words=2)\n",
    "pprint(result) \"\"\""
   ]
  },
  {
   "cell_type": "code",
   "execution_count": 1690,
   "metadata": {},
   "outputs": [
    {
     "name": "stdout",
     "output_type": "stream",
     "text": [
      " before: 28 \n",
      " after: 23 \n",
      " delta: 5\n"
     ]
    }
   ],
   "source": [
    "before=len(cleaned)\n",
    "\n",
    "cleaned = remove_short_sentences(cleaned)\n",
    "cleaned[:5]\n",
    "\n",
    "after=len(cleaned)\n",
    "\n",
    "print(f' before: {before} \\n after: {after} \\n delta: {before-after}')"
   ]
  },
  {
   "cell_type": "markdown",
   "metadata": {},
   "source": [
    "**Detect language and keep just Czech**"
   ]
  },
  {
   "cell_type": "code",
   "execution_count": 1691,
   "metadata": {},
   "outputs": [
    {
     "data": {
      "text/plain": [
       "' # Example sentences in multiple languages\\nsentences = [\\n    \"Hello, how are you?\",\\n    \"Bonjour, comment ça va?\",\\n    \"Hola, ¿cómo estás?\",\\n    \"Ahoj, jak se máš?\",\\n    \\'Máš se dobre večer?\\',\\n    \"Ako sa máš?\",\\n    \\'čau příště\\',\\n    \"Привет, как дела?\",\\n]\\n\\n# Call the function to filter Czech and Slovak sentences\\nczech_slovak_sentences = filter_czech_slovak_sentences(sentences)\\n\\npprint(czech_slovak_sentences) '"
      ]
     },
     "execution_count": 1691,
     "metadata": {},
     "output_type": "execute_result"
    }
   ],
   "source": [
    "def filter_czech_slovak_sentences(sentences):\n",
    "    def detect_language(text):\n",
    "        try:\n",
    "            language = detect(text)\n",
    "            return language\n",
    "        except:\n",
    "            return \"Unknown\"\n",
    "    refused=[]\n",
    "    return [sentence for sentence in sentences if detect_language(sentence) in ['cs']]\n",
    "\n",
    "\n",
    "\n",
    "\"\"\" # Example sentences in multiple languages\n",
    "sentences = [\n",
    "    \"Hello, how are you?\",\n",
    "    \"Bonjour, comment ça va?\",\n",
    "    \"Hola, ¿cómo estás?\",\n",
    "    \"Ahoj, jak se máš?\",\n",
    "    'Máš se dobre večer?',\n",
    "    \"Ako sa máš?\",\n",
    "    'čau příště',\n",
    "    \"Привет, как дела?\",\n",
    "]\n",
    "\n",
    "# Call the function to filter Czech and Slovak sentences\n",
    "czech_slovak_sentences = filter_czech_slovak_sentences(sentences)\n",
    "\n",
    "pprint(czech_slovak_sentences) \"\"\""
   ]
  },
  {
   "cell_type": "code",
   "execution_count": 1692,
   "metadata": {},
   "outputs": [
    {
     "name": "stdout",
     "output_type": "stream",
     "text": [
      " before: 23 \n",
      " after: 20 \n",
      " delta: 3\n"
     ]
    }
   ],
   "source": [
    "before=len(cleaned)\n",
    "\n",
    "cleaned = filter_czech_slovak_sentences(cleaned)\n",
    "cleaned[:5]\n",
    "\n",
    "after=len(cleaned)\n",
    "\n",
    "print(f' before: {before} \\n after: {after} \\n delta: {before-after}')"
   ]
  },
  {
   "cell_type": "markdown",
   "metadata": {},
   "source": [
    "**Remove duplicates**"
   ]
  },
  {
   "cell_type": "code",
   "execution_count": 1693,
   "metadata": {},
   "outputs": [
    {
     "data": {
      "text/plain": [
       "' # Example usage:\\nsentences = [\\n    \"This is a sentence.\",\\n    \"Another sentence here.\",\\n    \"This is a sentence.\",  # Duplicate\\n    \"Yet another unique sentence.\",\\n    \"Another sentence here.\",  # Duplicate\\n    \"One more unique sentence.\"\\n]\\n\\nresult = remove_duplicates(sentences)\\npprint(result) '"
      ]
     },
     "execution_count": 1693,
     "metadata": {},
     "output_type": "execute_result"
    }
   ],
   "source": [
    "def remove_duplicates(sentences):\n",
    "    unique_sentences = set()\n",
    "    filtered_sentences = [sentence for sentence in sentences if not (sentence in unique_sentences or unique_sentences.add(sentence))]\n",
    "    return filtered_sentences\n",
    "\n",
    "\n",
    "\"\"\" # Example usage:\n",
    "sentences = [\n",
    "    \"This is a sentence.\",\n",
    "    \"Another sentence here.\",\n",
    "    \"This is a sentence.\",  # Duplicate\n",
    "    \"Yet another unique sentence.\",\n",
    "    \"Another sentence here.\",  # Duplicate\n",
    "    \"One more unique sentence.\"\n",
    "]\n",
    "\n",
    "result = remove_duplicates(sentences)\n",
    "pprint(result) \"\"\""
   ]
  },
  {
   "cell_type": "code",
   "execution_count": 1694,
   "metadata": {},
   "outputs": [
    {
     "name": "stdout",
     "output_type": "stream",
     "text": [
      " before: 20 \n",
      " after: 19 \n",
      " delta: 1\n"
     ]
    }
   ],
   "source": [
    "before=len(cleaned)\n",
    "\n",
    "cleaned = remove_duplicates(cleaned)\n",
    "cleaned[:20]\n",
    "\n",
    "after=len(cleaned)\n",
    "\n",
    "print(f' before: {before} \\n after: {after} \\n delta: {before-after}')"
   ]
  },
  {
   "cell_type": "markdown",
   "metadata": {},
   "source": [
    "## Export the results"
   ]
  },
  {
   "cell_type": "code",
   "execution_count": 1695,
   "metadata": {},
   "outputs": [
    {
     "data": {
      "text/html": [
       "<div>\n",
       "<style scoped>\n",
       "    .dataframe tbody tr th:only-of-type {\n",
       "        vertical-align: middle;\n",
       "    }\n",
       "\n",
       "    .dataframe tbody tr th {\n",
       "        vertical-align: top;\n",
       "    }\n",
       "\n",
       "    .dataframe thead th {\n",
       "        text-align: right;\n",
       "    }\n",
       "</style>\n",
       "<table border=\"1\" class=\"dataframe\">\n",
       "  <thead>\n",
       "    <tr style=\"text-align: right;\">\n",
       "      <th></th>\n",
       "      <th>sentences</th>\n",
       "    </tr>\n",
       "  </thead>\n",
       "  <tbody>\n",
       "    <tr>\n",
       "      <th>0</th>\n",
       "      <td>chtěla bych se zeptat  jaký je aktuální stav...</td>\n",
       "    </tr>\n",
       "    <tr>\n",
       "      <th>1</th>\n",
       "      <td>pěkný den   rád bych se dozvěděl více o aktuál...</td>\n",
       "    </tr>\n",
       "    <tr>\n",
       "      <th>2</th>\n",
       "      <td>mohl byste mi  prosím  poskytnout podrobnost...</td>\n",
       "    </tr>\n",
       "    <tr>\n",
       "      <th>3</th>\n",
       "      <td>moje zásilka byla doručena na jiné místo než j...</td>\n",
       "    </tr>\n",
       "    <tr>\n",
       "      <th>4</th>\n",
       "      <td>doručili jste zásilku na jiné místo. prosím po...</td>\n",
       "    </tr>\n",
       "  </tbody>\n",
       "</table>\n",
       "</div>"
      ],
      "text/plain": [
       "                                           sentences\n",
       "0    chtěla bych se zeptat  jaký je aktuální stav...\n",
       "1  pěkný den   rád bych se dozvěděl více o aktuál...\n",
       "2    mohl byste mi  prosím  poskytnout podrobnost...\n",
       "3  moje zásilka byla doručena na jiné místo než j...\n",
       "4  doručili jste zásilku na jiné místo. prosím po..."
      ]
     },
     "execution_count": 1695,
     "metadata": {},
     "output_type": "execute_result"
    }
   ],
   "source": [
    "results = pd.DataFrame({'sentences': cleaned})\n",
    "results.head(5)"
   ]
  },
  {
   "cell_type": "code",
   "execution_count": 1696,
   "metadata": {},
   "outputs": [],
   "source": [
    "results.to_excel('output/results.xlsx', index=False)"
   ]
  }
 ],
 "metadata": {
  "kernelspec": {
   "display_name": "venv-sRlQ1h_2",
   "language": "python",
   "name": "python3"
  },
  "language_info": {
   "codemirror_mode": {
    "name": "ipython",
    "version": 3
   },
   "file_extension": ".py",
   "mimetype": "text/x-python",
   "name": "python",
   "nbconvert_exporter": "python",
   "pygments_lexer": "ipython3",
   "version": "3.10.10"
  }
 },
 "nbformat": 4,
 "nbformat_minor": 2
}
