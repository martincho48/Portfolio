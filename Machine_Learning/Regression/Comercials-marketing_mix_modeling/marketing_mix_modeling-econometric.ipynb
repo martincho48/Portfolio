{
 "cells": [
  {
   "cell_type": "code",
   "execution_count": 1149,
   "metadata": {},
   "outputs": [],
   "source": [
    "import pandas as pd\n",
    "import numpy as np\n",
    "import matplotlib.pyplot as plt\n",
    "import plotly.express as px\n",
    "from datetime import datetime\n",
    "import seaborn as sns\n",
    "\n",
    "import statsmodels.api as sm\n",
    "import statsmodels.tsa.api as tsa\n",
    "\n",
    "from sklearn.preprocessing import StandardScaler\n",
    "from sklearn.metrics import  mean_absolute_percentage_error\n",
    "\n",
    "import nevergrad as ng\n",
    "\n",
    "import plotly.graph_objects as go\n",
    "from plotly.subplots import make_subplots\n",
    "\n",
    "from scipy.stats.mstats import winsorize\n"
   ]
  },
  {
   "cell_type": "markdown",
   "metadata": {},
   "source": [
    "# EDA"
   ]
  },
  {
   "cell_type": "markdown",
   "metadata": {},
   "source": [
    "**Read dataframes**"
   ]
  },
  {
   "cell_type": "code",
   "execution_count": 1150,
   "metadata": {},
   "outputs": [
    {
     "data": {
      "text/html": [
       "<div>\n",
       "<style scoped>\n",
       "    .dataframe tbody tr th:only-of-type {\n",
       "        vertical-align: middle;\n",
       "    }\n",
       "\n",
       "    .dataframe tbody tr th {\n",
       "        vertical-align: top;\n",
       "    }\n",
       "\n",
       "    .dataframe thead th {\n",
       "        text-align: right;\n",
       "    }\n",
       "</style>\n",
       "<table border=\"1\" class=\"dataframe\">\n",
       "  <thead>\n",
       "    <tr style=\"text-align: right;\">\n",
       "      <th></th>\n",
       "      <th>Date</th>\n",
       "      <th>investment_tv</th>\n",
       "      <th>investment_radio</th>\n",
       "      <th>investment_press</th>\n",
       "      <th>investment_banners</th>\n",
       "      <th>investment_online</th>\n",
       "      <th>stores_opened</th>\n",
       "      <th>economy_index</th>\n",
       "      <th>investment_competition</th>\n",
       "      <th>public_holidays</th>\n",
       "      <th>brand_knowledge</th>\n",
       "      <th>christmas_dummy</th>\n",
       "      <th>weather_index</th>\n",
       "      <th>investment_competition_1</th>\n",
       "      <th>investment_competition_2</th>\n",
       "      <th>precipitation_index</th>\n",
       "      <th>competitor_recognition_1</th>\n",
       "      <th>competitor_recognition_2</th>\n",
       "      <th>YearWeek</th>\n",
       "      <th>sales</th>\n",
       "    </tr>\n",
       "  </thead>\n",
       "  <tbody>\n",
       "    <tr>\n",
       "      <th>0</th>\n",
       "      <td>01.10.2020</td>\n",
       "      <td>9.813096e+05</td>\n",
       "      <td>0.0</td>\n",
       "      <td>236646.24270</td>\n",
       "      <td>0.0000</td>\n",
       "      <td>871248.6945</td>\n",
       "      <td>186</td>\n",
       "      <td>22777.0</td>\n",
       "      <td>64817.0000</td>\n",
       "      <td>0</td>\n",
       "      <td>0.724231</td>\n",
       "      <td>0</td>\n",
       "      <td>71.050000</td>\n",
       "      <td>4.469290e+06</td>\n",
       "      <td>1.646746e+07</td>\n",
       "      <td>29.957143</td>\n",
       "      <td>0.428392</td>\n",
       "      <td>0.439821</td>\n",
       "      <td>201740</td>\n",
       "      <td>28225189.15</td>\n",
       "    </tr>\n",
       "    <tr>\n",
       "      <th>1</th>\n",
       "      <td>08.10.2020</td>\n",
       "      <td>1.204436e+06</td>\n",
       "      <td>0.0</td>\n",
       "      <td>492336.78720</td>\n",
       "      <td>0.0000</td>\n",
       "      <td>780996.4369</td>\n",
       "      <td>186</td>\n",
       "      <td>22905.3</td>\n",
       "      <td>290340.0000</td>\n",
       "      <td>0</td>\n",
       "      <td>0.810316</td>\n",
       "      <td>0</td>\n",
       "      <td>54.744286</td>\n",
       "      <td>3.424972e+06</td>\n",
       "      <td>9.855486e+06</td>\n",
       "      <td>7.314286</td>\n",
       "      <td>0.396890</td>\n",
       "      <td>0.511645</td>\n",
       "      <td>201741</td>\n",
       "      <td>33173110.86</td>\n",
       "    </tr>\n",
       "    <tr>\n",
       "      <th>2</th>\n",
       "      <td>15.10.2020</td>\n",
       "      <td>1.321570e+06</td>\n",
       "      <td>0.0</td>\n",
       "      <td>291885.33780</td>\n",
       "      <td>0.0000</td>\n",
       "      <td>932173.8794</td>\n",
       "      <td>186</td>\n",
       "      <td>23328.8</td>\n",
       "      <td>824941.0000</td>\n",
       "      <td>0</td>\n",
       "      <td>0.778179</td>\n",
       "      <td>0</td>\n",
       "      <td>54.311429</td>\n",
       "      <td>1.502713e+07</td>\n",
       "      <td>1.812631e+07</td>\n",
       "      <td>9.500000</td>\n",
       "      <td>0.440410</td>\n",
       "      <td>0.394800</td>\n",
       "      <td>201742</td>\n",
       "      <td>30504393.42</td>\n",
       "    </tr>\n",
       "    <tr>\n",
       "      <th>3</th>\n",
       "      <td>22.10.2020</td>\n",
       "      <td>2.155215e+05</td>\n",
       "      <td>0.0</td>\n",
       "      <td>110500.83200</td>\n",
       "      <td>0.0000</td>\n",
       "      <td>683081.4701</td>\n",
       "      <td>186</td>\n",
       "      <td>23485.3</td>\n",
       "      <td>591291.0000</td>\n",
       "      <td>1</td>\n",
       "      <td>0.804275</td>\n",
       "      <td>0</td>\n",
       "      <td>68.302857</td>\n",
       "      <td>1.147109e+07</td>\n",
       "      <td>1.579170e+07</td>\n",
       "      <td>30.485714</td>\n",
       "      <td>0.404397</td>\n",
       "      <td>0.413794</td>\n",
       "      <td>201743</td>\n",
       "      <td>30335675.45</td>\n",
       "    </tr>\n",
       "    <tr>\n",
       "      <th>4</th>\n",
       "      <td>29.10.2020</td>\n",
       "      <td>9.799192e+04</td>\n",
       "      <td>0.0</td>\n",
       "      <td>58135.35929</td>\n",
       "      <td>175435.8015</td>\n",
       "      <td>539848.5232</td>\n",
       "      <td>186</td>\n",
       "      <td>23557.1</td>\n",
       "      <td>554888.8674</td>\n",
       "      <td>0</td>\n",
       "      <td>0.817915</td>\n",
       "      <td>0</td>\n",
       "      <td>63.864286</td>\n",
       "      <td>1.876094e+07</td>\n",
       "      <td>2.324122e+07</td>\n",
       "      <td>19.728571</td>\n",
       "      <td>0.500315</td>\n",
       "      <td>0.452294</td>\n",
       "      <td>201744</td>\n",
       "      <td>25670890.36</td>\n",
       "    </tr>\n",
       "  </tbody>\n",
       "</table>\n",
       "</div>"
      ],
      "text/plain": [
       "         Date  investment_tv  investment_radio  investment_press  \\\n",
       "0  01.10.2020   9.813096e+05               0.0      236646.24270   \n",
       "1  08.10.2020   1.204436e+06               0.0      492336.78720   \n",
       "2  15.10.2020   1.321570e+06               0.0      291885.33780   \n",
       "3  22.10.2020   2.155215e+05               0.0      110500.83200   \n",
       "4  29.10.2020   9.799192e+04               0.0       58135.35929   \n",
       "\n",
       "   investment_banners  investment_online  stores_opened  economy_index  \\\n",
       "0              0.0000        871248.6945            186        22777.0   \n",
       "1              0.0000        780996.4369            186        22905.3   \n",
       "2              0.0000        932173.8794            186        23328.8   \n",
       "3              0.0000        683081.4701            186        23485.3   \n",
       "4         175435.8015        539848.5232            186        23557.1   \n",
       "\n",
       "   investment_competition  public_holidays  brand_knowledge  christmas_dummy  \\\n",
       "0              64817.0000                0         0.724231                0   \n",
       "1             290340.0000                0         0.810316                0   \n",
       "2             824941.0000                0         0.778179                0   \n",
       "3             591291.0000                1         0.804275                0   \n",
       "4             554888.8674                0         0.817915                0   \n",
       "\n",
       "   weather_index  investment_competition_1  investment_competition_2  \\\n",
       "0      71.050000              4.469290e+06              1.646746e+07   \n",
       "1      54.744286              3.424972e+06              9.855486e+06   \n",
       "2      54.311429              1.502713e+07              1.812631e+07   \n",
       "3      68.302857              1.147109e+07              1.579170e+07   \n",
       "4      63.864286              1.876094e+07              2.324122e+07   \n",
       "\n",
       "   precipitation_index  competitor_recognition_1  competitor_recognition_2  \\\n",
       "0            29.957143                  0.428392                  0.439821   \n",
       "1             7.314286                  0.396890                  0.511645   \n",
       "2             9.500000                  0.440410                  0.394800   \n",
       "3            30.485714                  0.404397                  0.413794   \n",
       "4            19.728571                  0.500315                  0.452294   \n",
       "\n",
       "   YearWeek        sales  \n",
       "0    201740  28225189.15  \n",
       "1    201741  33173110.86  \n",
       "2    201742  30504393.42  \n",
       "3    201743  30335675.45  \n",
       "4    201744  25670890.36  "
      ]
     },
     "execution_count": 1150,
     "metadata": {},
     "output_type": "execute_result"
    }
   ],
   "source": [
    "df_week = pd.read_csv('input/data_weekly.csv')\n",
    "df_week.head(5)"
   ]
  },
  {
   "cell_type": "code",
   "execution_count": 1151,
   "metadata": {},
   "outputs": [
    {
     "data": {
      "text/html": [
       "<div>\n",
       "<style scoped>\n",
       "    .dataframe tbody tr th:only-of-type {\n",
       "        vertical-align: middle;\n",
       "    }\n",
       "\n",
       "    .dataframe tbody tr th {\n",
       "        vertical-align: top;\n",
       "    }\n",
       "\n",
       "    .dataframe thead th {\n",
       "        text-align: right;\n",
       "    }\n",
       "</style>\n",
       "<table border=\"1\" class=\"dataframe\">\n",
       "  <thead>\n",
       "    <tr style=\"text-align: right;\">\n",
       "      <th></th>\n",
       "      <th>Date</th>\n",
       "      <th>investment_tv</th>\n",
       "      <th>investment_radio</th>\n",
       "      <th>investment_press</th>\n",
       "      <th>investment_banners</th>\n",
       "      <th>investment_online</th>\n",
       "      <th>stores_opened</th>\n",
       "      <th>economy_index</th>\n",
       "      <th>investment_competition</th>\n",
       "      <th>public_holidays</th>\n",
       "      <th>brand_knowledge</th>\n",
       "      <th>christmas_dummy</th>\n",
       "      <th>weather_index</th>\n",
       "      <th>investment_competition_1</th>\n",
       "      <th>investment_competition_2</th>\n",
       "      <th>precipitation_index</th>\n",
       "      <th>competitor_recognition_1</th>\n",
       "      <th>competitor_recognition_2</th>\n",
       "      <th>YearWeek</th>\n",
       "      <th>sales</th>\n",
       "    </tr>\n",
       "  </thead>\n",
       "  <tbody>\n",
       "    <tr>\n",
       "      <th>112</th>\n",
       "      <td>24.11.2022</td>\n",
       "      <td>0.000</td>\n",
       "      <td>0.0</td>\n",
       "      <td>0.0</td>\n",
       "      <td>26600.5635</td>\n",
       "      <td>2.018774e+06</td>\n",
       "      <td>142</td>\n",
       "      <td>28175.0</td>\n",
       "      <td>17469024.98</td>\n",
       "      <td>0</td>\n",
       "      <td>0.709503</td>\n",
       "      <td>0</td>\n",
       "      <td>65.965714</td>\n",
       "      <td>8383346.483</td>\n",
       "      <td>22385049.65</td>\n",
       "      <td>19.100000</td>\n",
       "      <td>0.552689</td>\n",
       "      <td>0.471849</td>\n",
       "      <td>201948</td>\n",
       "      <td>23974410.26</td>\n",
       "    </tr>\n",
       "    <tr>\n",
       "      <th>113</th>\n",
       "      <td>01.12.2022</td>\n",
       "      <td>0.000</td>\n",
       "      <td>0.0</td>\n",
       "      <td>0.0</td>\n",
       "      <td>0.0000</td>\n",
       "      <td>9.954599e+05</td>\n",
       "      <td>142</td>\n",
       "      <td>28109.8</td>\n",
       "      <td>12131550.24</td>\n",
       "      <td>0</td>\n",
       "      <td>0.778967</td>\n",
       "      <td>0</td>\n",
       "      <td>67.607143</td>\n",
       "      <td>3788887.598</td>\n",
       "      <td>28046114.92</td>\n",
       "      <td>11.242857</td>\n",
       "      <td>0.501246</td>\n",
       "      <td>0.500979</td>\n",
       "      <td>201949</td>\n",
       "      <td>20884279.92</td>\n",
       "    </tr>\n",
       "    <tr>\n",
       "      <th>114</th>\n",
       "      <td>08.12.2022</td>\n",
       "      <td>0.000</td>\n",
       "      <td>0.0</td>\n",
       "      <td>0.0</td>\n",
       "      <td>0.0000</td>\n",
       "      <td>1.652220e+06</td>\n",
       "      <td>142</td>\n",
       "      <td>28290.7</td>\n",
       "      <td>20624785.51</td>\n",
       "      <td>0</td>\n",
       "      <td>0.721600</td>\n",
       "      <td>0</td>\n",
       "      <td>71.281429</td>\n",
       "      <td>5688529.991</td>\n",
       "      <td>27570241.08</td>\n",
       "      <td>13.071429</td>\n",
       "      <td>0.493944</td>\n",
       "      <td>0.444787</td>\n",
       "      <td>201950</td>\n",
       "      <td>21475590.81</td>\n",
       "    </tr>\n",
       "    <tr>\n",
       "      <th>115</th>\n",
       "      <td>15.12.2022</td>\n",
       "      <td>0.000</td>\n",
       "      <td>0.0</td>\n",
       "      <td>0.0</td>\n",
       "      <td>0.0000</td>\n",
       "      <td>9.946260e+05</td>\n",
       "      <td>142</td>\n",
       "      <td>28608.6</td>\n",
       "      <td>20449414.88</td>\n",
       "      <td>0</td>\n",
       "      <td>0.795736</td>\n",
       "      <td>0</td>\n",
       "      <td>63.042857</td>\n",
       "      <td>4501809.765</td>\n",
       "      <td>28072433.02</td>\n",
       "      <td>11.057143</td>\n",
       "      <td>0.524342</td>\n",
       "      <td>0.505004</td>\n",
       "      <td>201951</td>\n",
       "      <td>23863407.52</td>\n",
       "    </tr>\n",
       "    <tr>\n",
       "      <th>116</th>\n",
       "      <td>22.12.2022</td>\n",
       "      <td>1421815.694</td>\n",
       "      <td>0.0</td>\n",
       "      <td>0.0</td>\n",
       "      <td>0.0000</td>\n",
       "      <td>7.035735e+05</td>\n",
       "      <td>142</td>\n",
       "      <td>28701.7</td>\n",
       "      <td>11604843.10</td>\n",
       "      <td>3</td>\n",
       "      <td>0.711990</td>\n",
       "      <td>1</td>\n",
       "      <td>73.668571</td>\n",
       "      <td>1067903.548</td>\n",
       "      <td>22751932.87</td>\n",
       "      <td>23.228571</td>\n",
       "      <td>0.523796</td>\n",
       "      <td>0.505997</td>\n",
       "      <td>201952</td>\n",
       "      <td>15043045.07</td>\n",
       "    </tr>\n",
       "  </tbody>\n",
       "</table>\n",
       "</div>"
      ],
      "text/plain": [
       "           Date  investment_tv  investment_radio  investment_press  \\\n",
       "112  24.11.2022          0.000               0.0               0.0   \n",
       "113  01.12.2022          0.000               0.0               0.0   \n",
       "114  08.12.2022          0.000               0.0               0.0   \n",
       "115  15.12.2022          0.000               0.0               0.0   \n",
       "116  22.12.2022    1421815.694               0.0               0.0   \n",
       "\n",
       "     investment_banners  investment_online  stores_opened  economy_index  \\\n",
       "112          26600.5635       2.018774e+06            142        28175.0   \n",
       "113              0.0000       9.954599e+05            142        28109.8   \n",
       "114              0.0000       1.652220e+06            142        28290.7   \n",
       "115              0.0000       9.946260e+05            142        28608.6   \n",
       "116              0.0000       7.035735e+05            142        28701.7   \n",
       "\n",
       "     investment_competition  public_holidays  brand_knowledge  \\\n",
       "112             17469024.98                0         0.709503   \n",
       "113             12131550.24                0         0.778967   \n",
       "114             20624785.51                0         0.721600   \n",
       "115             20449414.88                0         0.795736   \n",
       "116             11604843.10                3         0.711990   \n",
       "\n",
       "     christmas_dummy  weather_index  investment_competition_1  \\\n",
       "112                0      65.965714               8383346.483   \n",
       "113                0      67.607143               3788887.598   \n",
       "114                0      71.281429               5688529.991   \n",
       "115                0      63.042857               4501809.765   \n",
       "116                1      73.668571               1067903.548   \n",
       "\n",
       "     investment_competition_2  precipitation_index  competitor_recognition_1  \\\n",
       "112               22385049.65            19.100000                  0.552689   \n",
       "113               28046114.92            11.242857                  0.501246   \n",
       "114               27570241.08            13.071429                  0.493944   \n",
       "115               28072433.02            11.057143                  0.524342   \n",
       "116               22751932.87            23.228571                  0.523796   \n",
       "\n",
       "     competitor_recognition_2  YearWeek        sales  \n",
       "112                  0.471849    201948  23974410.26  \n",
       "113                  0.500979    201949  20884279.92  \n",
       "114                  0.444787    201950  21475590.81  \n",
       "115                  0.505004    201951  23863407.52  \n",
       "116                  0.505997    201952  15043045.07  "
      ]
     },
     "execution_count": 1151,
     "metadata": {},
     "output_type": "execute_result"
    }
   ],
   "source": [
    "df_week.tail(5)"
   ]
  },
  {
   "cell_type": "code",
   "execution_count": 1152,
   "metadata": {},
   "outputs": [
    {
     "data": {
      "text/html": [
       "<div>\n",
       "<style scoped>\n",
       "    .dataframe tbody tr th:only-of-type {\n",
       "        vertical-align: middle;\n",
       "    }\n",
       "\n",
       "    .dataframe tbody tr th {\n",
       "        vertical-align: top;\n",
       "    }\n",
       "\n",
       "    .dataframe thead th {\n",
       "        text-align: right;\n",
       "    }\n",
       "</style>\n",
       "<table border=\"1\" class=\"dataframe\">\n",
       "  <thead>\n",
       "    <tr style=\"text-align: right;\">\n",
       "      <th></th>\n",
       "      <th>Date</th>\n",
       "      <th>unemployment</th>\n",
       "      <th>tourists</th>\n",
       "      <th>gdp</th>\n",
       "      <th>confidence</th>\n",
       "    </tr>\n",
       "  </thead>\n",
       "  <tbody>\n",
       "    <tr>\n",
       "      <th>0</th>\n",
       "      <td>01.01.2020</td>\n",
       "      <td>5.290542</td>\n",
       "      <td>549816</td>\n",
       "      <td>1.408679</td>\n",
       "      <td>115.319086</td>\n",
       "    </tr>\n",
       "    <tr>\n",
       "      <th>1</th>\n",
       "      <td>01.02.2020</td>\n",
       "      <td>5.143808</td>\n",
       "      <td>561622</td>\n",
       "      <td>1.408679</td>\n",
       "      <td>113.495436</td>\n",
       "    </tr>\n",
       "    <tr>\n",
       "      <th>2</th>\n",
       "      <td>01.03.2020</td>\n",
       "      <td>4.789755</td>\n",
       "      <td>696325</td>\n",
       "      <td>1.408679</td>\n",
       "      <td>114.031803</td>\n",
       "    </tr>\n",
       "    <tr>\n",
       "      <th>3</th>\n",
       "      <td>01.04.2020</td>\n",
       "      <td>4.388351</td>\n",
       "      <td>867699</td>\n",
       "      <td>2.443518</td>\n",
       "      <td>113.709983</td>\n",
       "    </tr>\n",
       "    <tr>\n",
       "      <th>4</th>\n",
       "      <td>01.05.2020</td>\n",
       "      <td>4.117193</td>\n",
       "      <td>941760</td>\n",
       "      <td>2.443518</td>\n",
       "      <td>113.709983</td>\n",
       "    </tr>\n",
       "  </tbody>\n",
       "</table>\n",
       "</div>"
      ],
      "text/plain": [
       "         Date  unemployment  tourists       gdp  confidence\n",
       "0  01.01.2020      5.290542    549816  1.408679  115.319086\n",
       "1  01.02.2020      5.143808    561622  1.408679  113.495436\n",
       "2  01.03.2020      4.789755    696325  1.408679  114.031803\n",
       "3  01.04.2020      4.388351    867699  2.443518  113.709983\n",
       "4  01.05.2020      4.117193    941760  2.443518  113.709983"
      ]
     },
     "execution_count": 1152,
     "metadata": {},
     "output_type": "execute_result"
    }
   ],
   "source": [
    "df_month = pd.read_csv('input/data_monthly.csv')\n",
    "df_month.head(5)"
   ]
  },
  {
   "cell_type": "code",
   "execution_count": 1153,
   "metadata": {},
   "outputs": [
    {
     "data": {
      "text/html": [
       "<div>\n",
       "<style scoped>\n",
       "    .dataframe tbody tr th:only-of-type {\n",
       "        vertical-align: middle;\n",
       "    }\n",
       "\n",
       "    .dataframe tbody tr th {\n",
       "        vertical-align: top;\n",
       "    }\n",
       "\n",
       "    .dataframe thead th {\n",
       "        text-align: right;\n",
       "    }\n",
       "</style>\n",
       "<table border=\"1\" class=\"dataframe\">\n",
       "  <thead>\n",
       "    <tr style=\"text-align: right;\">\n",
       "      <th></th>\n",
       "      <th>Date</th>\n",
       "      <th>unemployment</th>\n",
       "      <th>tourists</th>\n",
       "      <th>gdp</th>\n",
       "      <th>confidence</th>\n",
       "    </tr>\n",
       "  </thead>\n",
       "  <tbody>\n",
       "    <tr>\n",
       "      <th>31</th>\n",
       "      <td>01.08.2022</td>\n",
       "      <td>2.722128</td>\n",
       "      <td>1192978</td>\n",
       "      <td>0.375784</td>\n",
       "      <td>110.277229</td>\n",
       "    </tr>\n",
       "    <tr>\n",
       "      <th>32</th>\n",
       "      <td>01.09.2022</td>\n",
       "      <td>2.670918</td>\n",
       "      <td>973314</td>\n",
       "      <td>0.375784</td>\n",
       "      <td>108.346304</td>\n",
       "    </tr>\n",
       "    <tr>\n",
       "      <th>33</th>\n",
       "      <td>01.10.2022</td>\n",
       "      <td>2.587875</td>\n",
       "      <td>987045</td>\n",
       "      <td>0.330304</td>\n",
       "      <td>108.668125</td>\n",
       "    </tr>\n",
       "    <tr>\n",
       "      <th>34</th>\n",
       "      <td>01.11.2022</td>\n",
       "      <td>2.591848</td>\n",
       "      <td>756016</td>\n",
       "      <td>0.330304</td>\n",
       "      <td>106.951748</td>\n",
       "    </tr>\n",
       "    <tr>\n",
       "      <th>35</th>\n",
       "      <td>01.12.2022</td>\n",
       "      <td>2.868371</td>\n",
       "      <td>862462</td>\n",
       "      <td>0.330304</td>\n",
       "      <td>109.955408</td>\n",
       "    </tr>\n",
       "  </tbody>\n",
       "</table>\n",
       "</div>"
      ],
      "text/plain": [
       "          Date  unemployment  tourists       gdp  confidence\n",
       "31  01.08.2022      2.722128   1192978  0.375784  110.277229\n",
       "32  01.09.2022      2.670918    973314  0.375784  108.346304\n",
       "33  01.10.2022      2.587875    987045  0.330304  108.668125\n",
       "34  01.11.2022      2.591848    756016  0.330304  106.951748\n",
       "35  01.12.2022      2.868371    862462  0.330304  109.955408"
      ]
     },
     "execution_count": 1153,
     "metadata": {},
     "output_type": "execute_result"
    }
   ],
   "source": [
    "df_month.tail(5)"
   ]
  },
  {
   "cell_type": "code",
   "execution_count": 1154,
   "metadata": {},
   "outputs": [
    {
     "data": {
      "text/plain": [
       "Date                         object\n",
       "investment_tv               float64\n",
       "investment_radio            float64\n",
       "investment_press            float64\n",
       "investment_banners          float64\n",
       "investment_online           float64\n",
       "stores_opened                 int64\n",
       "economy_index               float64\n",
       "investment_competition      float64\n",
       "public_holidays               int64\n",
       "brand_knowledge             float64\n",
       "christmas_dummy               int64\n",
       "weather_index               float64\n",
       "investment_competition_1    float64\n",
       "investment_competition_2    float64\n",
       "precipitation_index         float64\n",
       "competitor_recognition_1    float64\n",
       "competitor_recognition_2    float64\n",
       "YearWeek                      int64\n",
       "sales                       float64\n",
       "dtype: object"
      ]
     },
     "execution_count": 1154,
     "metadata": {},
     "output_type": "execute_result"
    }
   ],
   "source": [
    "df_week.dtypes"
   ]
  },
  {
   "cell_type": "code",
   "execution_count": 1155,
   "metadata": {},
   "outputs": [
    {
     "data": {
      "text/plain": [
       "Date             object\n",
       "unemployment    float64\n",
       "tourists          int64\n",
       "gdp             float64\n",
       "confidence      float64\n",
       "dtype: object"
      ]
     },
     "execution_count": 1155,
     "metadata": {},
     "output_type": "execute_result"
    }
   ],
   "source": [
    "df_month.dtypes"
   ]
  },
  {
   "cell_type": "code",
   "execution_count": 1156,
   "metadata": {},
   "outputs": [
    {
     "data": {
      "text/plain": [
       "Date                        0\n",
       "investment_tv               0\n",
       "investment_radio            0\n",
       "investment_press            0\n",
       "investment_banners          0\n",
       "investment_online           0\n",
       "stores_opened               0\n",
       "economy_index               0\n",
       "investment_competition      0\n",
       "public_holidays             0\n",
       "brand_knowledge             0\n",
       "christmas_dummy             0\n",
       "weather_index               0\n",
       "investment_competition_1    0\n",
       "investment_competition_2    0\n",
       "precipitation_index         0\n",
       "competitor_recognition_1    0\n",
       "competitor_recognition_2    0\n",
       "YearWeek                    0\n",
       "sales                       0\n",
       "dtype: int64"
      ]
     },
     "execution_count": 1156,
     "metadata": {},
     "output_type": "execute_result"
    }
   ],
   "source": [
    "# check for NaN\n",
    "df_week.isna().sum()"
   ]
  },
  {
   "cell_type": "code",
   "execution_count": 1157,
   "metadata": {},
   "outputs": [
    {
     "data": {
      "text/plain": [
       "\" df_month['Date'] = pd.to_datetime(df_week['Date'], format='%d.%m.%Y') \""
      ]
     },
     "execution_count": 1157,
     "metadata": {},
     "output_type": "execute_result"
    }
   ],
   "source": [
    "# Convert date into datetime\n",
    "df_week['Date'] = pd.to_datetime(df_week['Date'], format='%d.%m.%Y')\n",
    "\n",
    "\"\"\" df_month['Date'] = pd.to_datetime(df_week['Date'], format='%d.%m.%Y') \"\"\""
   ]
  },
  {
   "cell_type": "code",
   "execution_count": 1158,
   "metadata": {},
   "outputs": [
    {
     "data": {
      "text/html": [
       "<div>\n",
       "<style scoped>\n",
       "    .dataframe tbody tr th:only-of-type {\n",
       "        vertical-align: middle;\n",
       "    }\n",
       "\n",
       "    .dataframe tbody tr th {\n",
       "        vertical-align: top;\n",
       "    }\n",
       "\n",
       "    .dataframe thead th {\n",
       "        text-align: right;\n",
       "    }\n",
       "</style>\n",
       "<table border=\"1\" class=\"dataframe\">\n",
       "  <thead>\n",
       "    <tr style=\"text-align: right;\">\n",
       "      <th></th>\n",
       "      <th>Date</th>\n",
       "      <th>investment_tv</th>\n",
       "      <th>investment_radio</th>\n",
       "      <th>investment_press</th>\n",
       "      <th>investment_banners</th>\n",
       "      <th>investment_online</th>\n",
       "      <th>stores_opened</th>\n",
       "      <th>economy_index</th>\n",
       "      <th>investment_competition</th>\n",
       "      <th>public_holidays</th>\n",
       "      <th>brand_knowledge</th>\n",
       "      <th>christmas_dummy</th>\n",
       "      <th>weather_index</th>\n",
       "      <th>investment_competition_1</th>\n",
       "      <th>investment_competition_2</th>\n",
       "      <th>precipitation_index</th>\n",
       "      <th>competitor_recognition_1</th>\n",
       "      <th>competitor_recognition_2</th>\n",
       "      <th>YearWeek</th>\n",
       "      <th>sales</th>\n",
       "    </tr>\n",
       "  </thead>\n",
       "  <tbody>\n",
       "    <tr>\n",
       "      <th>0</th>\n",
       "      <td>2020-10-01</td>\n",
       "      <td>981309.627</td>\n",
       "      <td>0.0</td>\n",
       "      <td>236646.2427</td>\n",
       "      <td>0.0</td>\n",
       "      <td>871248.6945</td>\n",
       "      <td>186</td>\n",
       "      <td>22777.0</td>\n",
       "      <td>64817.0</td>\n",
       "      <td>0</td>\n",
       "      <td>0.724231</td>\n",
       "      <td>0</td>\n",
       "      <td>71.050000</td>\n",
       "      <td>4.469290e+06</td>\n",
       "      <td>1.646746e+07</td>\n",
       "      <td>29.957143</td>\n",
       "      <td>0.428392</td>\n",
       "      <td>0.439821</td>\n",
       "      <td>201740</td>\n",
       "      <td>28225189.15</td>\n",
       "    </tr>\n",
       "    <tr>\n",
       "      <th>1</th>\n",
       "      <td>2020-10-08</td>\n",
       "      <td>1204435.829</td>\n",
       "      <td>0.0</td>\n",
       "      <td>492336.7872</td>\n",
       "      <td>0.0</td>\n",
       "      <td>780996.4369</td>\n",
       "      <td>186</td>\n",
       "      <td>22905.3</td>\n",
       "      <td>290340.0</td>\n",
       "      <td>0</td>\n",
       "      <td>0.810316</td>\n",
       "      <td>0</td>\n",
       "      <td>54.744286</td>\n",
       "      <td>3.424972e+06</td>\n",
       "      <td>9.855486e+06</td>\n",
       "      <td>7.314286</td>\n",
       "      <td>0.396890</td>\n",
       "      <td>0.511645</td>\n",
       "      <td>201741</td>\n",
       "      <td>33173110.86</td>\n",
       "    </tr>\n",
       "    <tr>\n",
       "      <th>2</th>\n",
       "      <td>2020-10-15</td>\n",
       "      <td>1321570.322</td>\n",
       "      <td>0.0</td>\n",
       "      <td>291885.3378</td>\n",
       "      <td>0.0</td>\n",
       "      <td>932173.8794</td>\n",
       "      <td>186</td>\n",
       "      <td>23328.8</td>\n",
       "      <td>824941.0</td>\n",
       "      <td>0</td>\n",
       "      <td>0.778179</td>\n",
       "      <td>0</td>\n",
       "      <td>54.311429</td>\n",
       "      <td>1.502713e+07</td>\n",
       "      <td>1.812631e+07</td>\n",
       "      <td>9.500000</td>\n",
       "      <td>0.440410</td>\n",
       "      <td>0.394800</td>\n",
       "      <td>201742</td>\n",
       "      <td>30504393.42</td>\n",
       "    </tr>\n",
       "  </tbody>\n",
       "</table>\n",
       "</div>"
      ],
      "text/plain": [
       "        Date  investment_tv  investment_radio  investment_press  \\\n",
       "0 2020-10-01     981309.627               0.0       236646.2427   \n",
       "1 2020-10-08    1204435.829               0.0       492336.7872   \n",
       "2 2020-10-15    1321570.322               0.0       291885.3378   \n",
       "\n",
       "   investment_banners  investment_online  stores_opened  economy_index  \\\n",
       "0                 0.0        871248.6945            186        22777.0   \n",
       "1                 0.0        780996.4369            186        22905.3   \n",
       "2                 0.0        932173.8794            186        23328.8   \n",
       "\n",
       "   investment_competition  public_holidays  brand_knowledge  christmas_dummy  \\\n",
       "0                 64817.0                0         0.724231                0   \n",
       "1                290340.0                0         0.810316                0   \n",
       "2                824941.0                0         0.778179                0   \n",
       "\n",
       "   weather_index  investment_competition_1  investment_competition_2  \\\n",
       "0      71.050000              4.469290e+06              1.646746e+07   \n",
       "1      54.744286              3.424972e+06              9.855486e+06   \n",
       "2      54.311429              1.502713e+07              1.812631e+07   \n",
       "\n",
       "   precipitation_index  competitor_recognition_1  competitor_recognition_2  \\\n",
       "0            29.957143                  0.428392                  0.439821   \n",
       "1             7.314286                  0.396890                  0.511645   \n",
       "2             9.500000                  0.440410                  0.394800   \n",
       "\n",
       "   YearWeek        sales  \n",
       "0    201740  28225189.15  \n",
       "1    201741  33173110.86  \n",
       "2    201742  30504393.42  "
      ]
     },
     "execution_count": 1158,
     "metadata": {},
     "output_type": "execute_result"
    }
   ],
   "source": [
    "df_week.head(3)"
   ]
  },
  {
   "cell_type": "markdown",
   "metadata": {},
   "source": [
    "**Charts functions**"
   ]
  },
  {
   "cell_type": "code",
   "execution_count": 1159,
   "metadata": {},
   "outputs": [],
   "source": [
    "def line_plot_secondary_axis_px(df, x_col_name, y1_col_name, y2_col_name, x_label, y1_label, y2_label, title):\n",
    "    # Create figure with secondary y-axis\n",
    "    fig = make_subplots(specs=[[{\"secondary_y\": True}]])\n",
    "\n",
    "    # Add traces\n",
    "    fig.add_trace(\n",
    "        go.Scatter(x=df[x_col_name], y=df[y1_col_name], name=y1_label),\n",
    "        secondary_y=False,\n",
    "    )\n",
    "\n",
    "    fig.add_trace(\n",
    "        go.Scatter(x=df[x_col_name], y=df[y2_col_name], name=y2_label),\n",
    "        secondary_y=True,\n",
    "    )\n",
    "\n",
    "\n",
    "\n",
    "    # Add figure title\n",
    "    fig.update_layout(\n",
    "        title_text=title\n",
    "    )\n",
    "\n",
    "    # Set x-axis title\n",
    "    fig.update_xaxes(title_text=x_label)\n",
    "\n",
    "    # Set y-axes titles\n",
    "    fig.update_yaxes(title_text=f\"<b> {y1_label} </b> \", secondary_y=False)\n",
    "    fig.update_yaxes(title_text=f\"<b> {y2_label} </b> \", secondary_y=True)\n",
    "\n",
    "\n",
    "\n",
    "\n",
    "     # Set the size of the subplot\n",
    "    fig.update_layout(height=600, width=1200)\n",
    "\n",
    "    fig.show()"
   ]
  },
  {
   "cell_type": "code",
   "execution_count": 1160,
   "metadata": {},
   "outputs": [],
   "source": [
    "def line_plot_px(df, x_col_name, y_col_name, x_label, y_label, title):\n",
    "\n",
    "    fig = px.line(  df, \n",
    "                    x=x_col_name, \n",
    "                    y=y_col_name, \n",
    "                    height=600,\n",
    "                    width=1200, \n",
    "                    title=title,\n",
    "                    )\n",
    "\n",
    "    fig.update_layout(  yaxis_title=y_label,\n",
    "                        xaxis_title=x_label,\n",
    "                        )\n",
    "    fig.show()"
   ]
  },
  {
   "cell_type": "markdown",
   "metadata": {},
   "source": [
    "**Charts**"
   ]
  },
  {
   "cell_type": "code",
   "execution_count": 1161,
   "metadata": {},
   "outputs": [
    {
     "data": {
      "application/vnd.plotly.v1+json": {
       "config": {
        "plotlyServerURL": "https://plot.ly"
       },
       "data": [
        {
         "hovertemplate": "variable=sales<br>Date=%{x}<br>value=%{y}<extra></extra>",
         "legendgroup": "sales",
         "line": {
          "color": "#636efa",
          "dash": "solid"
         },
         "marker": {
          "symbol": "circle"
         },
         "mode": "lines",
         "name": "sales",
         "orientation": "v",
         "showlegend": true,
         "type": "scatter",
         "x": [
          "2020-10-01T00:00:00",
          "2020-10-08T00:00:00",
          "2020-10-15T00:00:00",
          "2020-10-22T00:00:00",
          "2020-10-29T00:00:00",
          "2020-11-05T00:00:00",
          "2020-11-12T00:00:00",
          "2020-11-19T00:00:00",
          "2020-11-26T00:00:00",
          "2020-12-03T00:00:00",
          "2020-12-10T00:00:00",
          "2020-12-17T00:00:00",
          "2020-12-24T00:00:00",
          "2020-12-31T00:00:00",
          "2021-01-07T00:00:00",
          "2021-01-14T00:00:00",
          "2021-01-21T00:00:00",
          "2021-01-28T00:00:00",
          "2021-02-04T00:00:00",
          "2021-02-11T00:00:00",
          "2021-02-18T00:00:00",
          "2021-02-25T00:00:00",
          "2021-03-04T00:00:00",
          "2021-03-11T00:00:00",
          "2021-03-18T00:00:00",
          "2021-03-25T00:00:00",
          "2021-04-01T00:00:00",
          "2021-04-08T00:00:00",
          "2021-04-15T00:00:00",
          "2021-04-22T00:00:00",
          "2021-04-29T00:00:00",
          "2021-05-06T00:00:00",
          "2021-05-13T00:00:00",
          "2021-05-20T00:00:00",
          "2021-05-27T00:00:00",
          "2021-06-03T00:00:00",
          "2021-06-10T00:00:00",
          "2021-06-17T00:00:00",
          "2021-06-24T00:00:00",
          "2021-07-01T00:00:00",
          "2021-07-08T00:00:00",
          "2021-07-15T00:00:00",
          "2021-07-22T00:00:00",
          "2021-07-29T00:00:00",
          "2021-08-05T00:00:00",
          "2021-08-12T00:00:00",
          "2021-08-19T00:00:00",
          "2021-08-26T00:00:00",
          "2021-09-02T00:00:00",
          "2021-09-09T00:00:00",
          "2021-09-16T00:00:00",
          "2021-09-23T00:00:00",
          "2021-09-30T00:00:00",
          "2021-10-07T00:00:00",
          "2021-10-14T00:00:00",
          "2021-10-21T00:00:00",
          "2021-10-28T00:00:00",
          "2021-11-04T00:00:00",
          "2021-11-11T00:00:00",
          "2021-11-18T00:00:00",
          "2021-11-25T00:00:00",
          "2021-12-02T00:00:00",
          "2021-12-09T00:00:00",
          "2021-12-16T00:00:00",
          "2021-12-23T00:00:00",
          "2021-12-30T00:00:00",
          "2022-01-06T00:00:00",
          "2022-01-13T00:00:00",
          "2022-01-20T00:00:00",
          "2022-01-27T00:00:00",
          "2022-02-03T00:00:00",
          "2022-02-10T00:00:00",
          "2022-02-17T00:00:00",
          "2022-02-24T00:00:00",
          "2022-03-03T00:00:00",
          "2022-03-10T00:00:00",
          "2022-03-17T00:00:00",
          "2022-03-24T00:00:00",
          "2022-03-31T00:00:00",
          "2022-04-07T00:00:00",
          "2022-04-14T00:00:00",
          "2022-04-21T00:00:00",
          "2022-04-28T00:00:00",
          "2022-05-05T00:00:00",
          "2022-05-12T00:00:00",
          "2022-05-19T00:00:00",
          "2022-05-26T00:00:00",
          "2022-06-02T00:00:00",
          "2022-06-09T00:00:00",
          "2022-06-16T00:00:00",
          "2022-06-23T00:00:00",
          "2022-06-30T00:00:00",
          "2022-07-07T00:00:00",
          "2022-07-14T00:00:00",
          "2022-07-21T00:00:00",
          "2022-07-28T00:00:00",
          "2022-08-04T00:00:00",
          "2022-08-11T00:00:00",
          "2022-08-18T00:00:00",
          "2022-08-25T00:00:00",
          "2022-09-01T00:00:00",
          "2022-09-08T00:00:00",
          "2022-09-15T00:00:00",
          "2022-09-22T00:00:00",
          "2022-09-29T00:00:00",
          "2022-10-06T00:00:00",
          "2022-10-13T00:00:00",
          "2022-10-20T00:00:00",
          "2022-10-27T00:00:00",
          "2022-11-03T00:00:00",
          "2022-11-10T00:00:00",
          "2022-11-17T00:00:00",
          "2022-11-24T00:00:00",
          "2022-12-01T00:00:00",
          "2022-12-08T00:00:00",
          "2022-12-15T00:00:00",
          "2022-12-22T00:00:00"
         ],
         "xaxis": "x",
         "y": [
          28225189.15,
          33173110.86,
          30504393.42,
          30335675.45,
          25670890.36,
          26824918.57,
          26653974.71,
          26257305.38,
          24839121.5,
          26305326.78,
          28966252.69,
          25349735.4,
          22095166.29,
          22082960.78,
          24236775.52,
          23753677.15,
          26521716.87,
          25668923.49,
          24477684.09,
          25907335.9,
          25558956.59,
          22720145.3,
          25895859.89,
          22828392.69,
          24620026.48,
          21808258.95,
          26082514.6,
          27840619.92,
          29047308.36,
          26686465.62,
          27926273.77,
          24886218.95,
          27333117.98,
          25688613.22,
          25517329.85,
          25194532.49,
          25559263.97,
          23337014.37,
          25498230.27,
          25947190.7,
          24566472.07,
          23481982.48,
          24264460.59,
          26797927.92,
          25559603.98,
          23698202.71,
          23875610.46,
          25915912.55,
          27372598.24,
          28275902.88,
          28290532.32,
          28369905.64,
          27209320.3,
          29896487.48,
          29020978.18,
          26761749.57,
          25009863.85,
          24717214.64,
          25055794.41,
          25493087.64,
          22867670.63,
          21112909.3,
          19178161.63,
          24377121.68,
          17154295.98,
          20438235.45,
          21059248.16,
          23142620.41,
          24761991.42,
          22149384.78,
          23904600.85,
          25134359.05,
          26033152.6,
          25053870.71,
          22414756.08,
          22951143.07,
          22756744.17,
          20623698.37,
          22638909.43,
          22502096.31,
          23600997.03,
          23300279.22,
          22258357.23,
          24016963.91,
          25764926.7,
          28103233.79,
          26932970.4,
          27820630.92,
          25261623.9,
          22298625.16,
          25224595.85,
          21882421.65,
          23116602.73,
          25312063.91,
          23778017.42,
          23501393.22,
          23198362.15,
          23089258.81,
          23528118.98,
          24494584.45,
          23353596.53,
          23766081.06,
          28174833.5,
          25765629.14,
          22657372.33,
          24649339.11,
          24512053.49,
          25106030.61,
          20662177.73,
          23030454.16,
          23001408.35,
          23687667.85,
          23974410.26,
          20884279.92,
          21475590.81,
          23863407.52,
          15043045.07
         ],
         "yaxis": "y"
        }
       ],
       "layout": {
        "height": 600,
        "legend": {
         "title": {
          "text": "variable"
         },
         "tracegroupgap": 0
        },
        "template": {
         "data": {
          "bar": [
           {
            "error_x": {
             "color": "#2a3f5f"
            },
            "error_y": {
             "color": "#2a3f5f"
            },
            "marker": {
             "line": {
              "color": "#E5ECF6",
              "width": 0.5
             },
             "pattern": {
              "fillmode": "overlay",
              "size": 10,
              "solidity": 0.2
             }
            },
            "type": "bar"
           }
          ],
          "barpolar": [
           {
            "marker": {
             "line": {
              "color": "#E5ECF6",
              "width": 0.5
             },
             "pattern": {
              "fillmode": "overlay",
              "size": 10,
              "solidity": 0.2
             }
            },
            "type": "barpolar"
           }
          ],
          "carpet": [
           {
            "aaxis": {
             "endlinecolor": "#2a3f5f",
             "gridcolor": "white",
             "linecolor": "white",
             "minorgridcolor": "white",
             "startlinecolor": "#2a3f5f"
            },
            "baxis": {
             "endlinecolor": "#2a3f5f",
             "gridcolor": "white",
             "linecolor": "white",
             "minorgridcolor": "white",
             "startlinecolor": "#2a3f5f"
            },
            "type": "carpet"
           }
          ],
          "choropleth": [
           {
            "colorbar": {
             "outlinewidth": 0,
             "ticks": ""
            },
            "type": "choropleth"
           }
          ],
          "contour": [
           {
            "colorbar": {
             "outlinewidth": 0,
             "ticks": ""
            },
            "colorscale": [
             [
              0,
              "#0d0887"
             ],
             [
              0.1111111111111111,
              "#46039f"
             ],
             [
              0.2222222222222222,
              "#7201a8"
             ],
             [
              0.3333333333333333,
              "#9c179e"
             ],
             [
              0.4444444444444444,
              "#bd3786"
             ],
             [
              0.5555555555555556,
              "#d8576b"
             ],
             [
              0.6666666666666666,
              "#ed7953"
             ],
             [
              0.7777777777777778,
              "#fb9f3a"
             ],
             [
              0.8888888888888888,
              "#fdca26"
             ],
             [
              1,
              "#f0f921"
             ]
            ],
            "type": "contour"
           }
          ],
          "contourcarpet": [
           {
            "colorbar": {
             "outlinewidth": 0,
             "ticks": ""
            },
            "type": "contourcarpet"
           }
          ],
          "heatmap": [
           {
            "colorbar": {
             "outlinewidth": 0,
             "ticks": ""
            },
            "colorscale": [
             [
              0,
              "#0d0887"
             ],
             [
              0.1111111111111111,
              "#46039f"
             ],
             [
              0.2222222222222222,
              "#7201a8"
             ],
             [
              0.3333333333333333,
              "#9c179e"
             ],
             [
              0.4444444444444444,
              "#bd3786"
             ],
             [
              0.5555555555555556,
              "#d8576b"
             ],
             [
              0.6666666666666666,
              "#ed7953"
             ],
             [
              0.7777777777777778,
              "#fb9f3a"
             ],
             [
              0.8888888888888888,
              "#fdca26"
             ],
             [
              1,
              "#f0f921"
             ]
            ],
            "type": "heatmap"
           }
          ],
          "heatmapgl": [
           {
            "colorbar": {
             "outlinewidth": 0,
             "ticks": ""
            },
            "colorscale": [
             [
              0,
              "#0d0887"
             ],
             [
              0.1111111111111111,
              "#46039f"
             ],
             [
              0.2222222222222222,
              "#7201a8"
             ],
             [
              0.3333333333333333,
              "#9c179e"
             ],
             [
              0.4444444444444444,
              "#bd3786"
             ],
             [
              0.5555555555555556,
              "#d8576b"
             ],
             [
              0.6666666666666666,
              "#ed7953"
             ],
             [
              0.7777777777777778,
              "#fb9f3a"
             ],
             [
              0.8888888888888888,
              "#fdca26"
             ],
             [
              1,
              "#f0f921"
             ]
            ],
            "type": "heatmapgl"
           }
          ],
          "histogram": [
           {
            "marker": {
             "pattern": {
              "fillmode": "overlay",
              "size": 10,
              "solidity": 0.2
             }
            },
            "type": "histogram"
           }
          ],
          "histogram2d": [
           {
            "colorbar": {
             "outlinewidth": 0,
             "ticks": ""
            },
            "colorscale": [
             [
              0,
              "#0d0887"
             ],
             [
              0.1111111111111111,
              "#46039f"
             ],
             [
              0.2222222222222222,
              "#7201a8"
             ],
             [
              0.3333333333333333,
              "#9c179e"
             ],
             [
              0.4444444444444444,
              "#bd3786"
             ],
             [
              0.5555555555555556,
              "#d8576b"
             ],
             [
              0.6666666666666666,
              "#ed7953"
             ],
             [
              0.7777777777777778,
              "#fb9f3a"
             ],
             [
              0.8888888888888888,
              "#fdca26"
             ],
             [
              1,
              "#f0f921"
             ]
            ],
            "type": "histogram2d"
           }
          ],
          "histogram2dcontour": [
           {
            "colorbar": {
             "outlinewidth": 0,
             "ticks": ""
            },
            "colorscale": [
             [
              0,
              "#0d0887"
             ],
             [
              0.1111111111111111,
              "#46039f"
             ],
             [
              0.2222222222222222,
              "#7201a8"
             ],
             [
              0.3333333333333333,
              "#9c179e"
             ],
             [
              0.4444444444444444,
              "#bd3786"
             ],
             [
              0.5555555555555556,
              "#d8576b"
             ],
             [
              0.6666666666666666,
              "#ed7953"
             ],
             [
              0.7777777777777778,
              "#fb9f3a"
             ],
             [
              0.8888888888888888,
              "#fdca26"
             ],
             [
              1,
              "#f0f921"
             ]
            ],
            "type": "histogram2dcontour"
           }
          ],
          "mesh3d": [
           {
            "colorbar": {
             "outlinewidth": 0,
             "ticks": ""
            },
            "type": "mesh3d"
           }
          ],
          "parcoords": [
           {
            "line": {
             "colorbar": {
              "outlinewidth": 0,
              "ticks": ""
             }
            },
            "type": "parcoords"
           }
          ],
          "pie": [
           {
            "automargin": true,
            "type": "pie"
           }
          ],
          "scatter": [
           {
            "fillpattern": {
             "fillmode": "overlay",
             "size": 10,
             "solidity": 0.2
            },
            "type": "scatter"
           }
          ],
          "scatter3d": [
           {
            "line": {
             "colorbar": {
              "outlinewidth": 0,
              "ticks": ""
             }
            },
            "marker": {
             "colorbar": {
              "outlinewidth": 0,
              "ticks": ""
             }
            },
            "type": "scatter3d"
           }
          ],
          "scattercarpet": [
           {
            "marker": {
             "colorbar": {
              "outlinewidth": 0,
              "ticks": ""
             }
            },
            "type": "scattercarpet"
           }
          ],
          "scattergeo": [
           {
            "marker": {
             "colorbar": {
              "outlinewidth": 0,
              "ticks": ""
             }
            },
            "type": "scattergeo"
           }
          ],
          "scattergl": [
           {
            "marker": {
             "colorbar": {
              "outlinewidth": 0,
              "ticks": ""
             }
            },
            "type": "scattergl"
           }
          ],
          "scattermapbox": [
           {
            "marker": {
             "colorbar": {
              "outlinewidth": 0,
              "ticks": ""
             }
            },
            "type": "scattermapbox"
           }
          ],
          "scatterpolar": [
           {
            "marker": {
             "colorbar": {
              "outlinewidth": 0,
              "ticks": ""
             }
            },
            "type": "scatterpolar"
           }
          ],
          "scatterpolargl": [
           {
            "marker": {
             "colorbar": {
              "outlinewidth": 0,
              "ticks": ""
             }
            },
            "type": "scatterpolargl"
           }
          ],
          "scatterternary": [
           {
            "marker": {
             "colorbar": {
              "outlinewidth": 0,
              "ticks": ""
             }
            },
            "type": "scatterternary"
           }
          ],
          "surface": [
           {
            "colorbar": {
             "outlinewidth": 0,
             "ticks": ""
            },
            "colorscale": [
             [
              0,
              "#0d0887"
             ],
             [
              0.1111111111111111,
              "#46039f"
             ],
             [
              0.2222222222222222,
              "#7201a8"
             ],
             [
              0.3333333333333333,
              "#9c179e"
             ],
             [
              0.4444444444444444,
              "#bd3786"
             ],
             [
              0.5555555555555556,
              "#d8576b"
             ],
             [
              0.6666666666666666,
              "#ed7953"
             ],
             [
              0.7777777777777778,
              "#fb9f3a"
             ],
             [
              0.8888888888888888,
              "#fdca26"
             ],
             [
              1,
              "#f0f921"
             ]
            ],
            "type": "surface"
           }
          ],
          "table": [
           {
            "cells": {
             "fill": {
              "color": "#EBF0F8"
             },
             "line": {
              "color": "white"
             }
            },
            "header": {
             "fill": {
              "color": "#C8D4E3"
             },
             "line": {
              "color": "white"
             }
            },
            "type": "table"
           }
          ]
         },
         "layout": {
          "annotationdefaults": {
           "arrowcolor": "#2a3f5f",
           "arrowhead": 0,
           "arrowwidth": 1
          },
          "autotypenumbers": "strict",
          "coloraxis": {
           "colorbar": {
            "outlinewidth": 0,
            "ticks": ""
           }
          },
          "colorscale": {
           "diverging": [
            [
             0,
             "#8e0152"
            ],
            [
             0.1,
             "#c51b7d"
            ],
            [
             0.2,
             "#de77ae"
            ],
            [
             0.3,
             "#f1b6da"
            ],
            [
             0.4,
             "#fde0ef"
            ],
            [
             0.5,
             "#f7f7f7"
            ],
            [
             0.6,
             "#e6f5d0"
            ],
            [
             0.7,
             "#b8e186"
            ],
            [
             0.8,
             "#7fbc41"
            ],
            [
             0.9,
             "#4d9221"
            ],
            [
             1,
             "#276419"
            ]
           ],
           "sequential": [
            [
             0,
             "#0d0887"
            ],
            [
             0.1111111111111111,
             "#46039f"
            ],
            [
             0.2222222222222222,
             "#7201a8"
            ],
            [
             0.3333333333333333,
             "#9c179e"
            ],
            [
             0.4444444444444444,
             "#bd3786"
            ],
            [
             0.5555555555555556,
             "#d8576b"
            ],
            [
             0.6666666666666666,
             "#ed7953"
            ],
            [
             0.7777777777777778,
             "#fb9f3a"
            ],
            [
             0.8888888888888888,
             "#fdca26"
            ],
            [
             1,
             "#f0f921"
            ]
           ],
           "sequentialminus": [
            [
             0,
             "#0d0887"
            ],
            [
             0.1111111111111111,
             "#46039f"
            ],
            [
             0.2222222222222222,
             "#7201a8"
            ],
            [
             0.3333333333333333,
             "#9c179e"
            ],
            [
             0.4444444444444444,
             "#bd3786"
            ],
            [
             0.5555555555555556,
             "#d8576b"
            ],
            [
             0.6666666666666666,
             "#ed7953"
            ],
            [
             0.7777777777777778,
             "#fb9f3a"
            ],
            [
             0.8888888888888888,
             "#fdca26"
            ],
            [
             1,
             "#f0f921"
            ]
           ]
          },
          "colorway": [
           "#636efa",
           "#EF553B",
           "#00cc96",
           "#ab63fa",
           "#FFA15A",
           "#19d3f3",
           "#FF6692",
           "#B6E880",
           "#FF97FF",
           "#FECB52"
          ],
          "font": {
           "color": "#2a3f5f"
          },
          "geo": {
           "bgcolor": "white",
           "lakecolor": "white",
           "landcolor": "#E5ECF6",
           "showlakes": true,
           "showland": true,
           "subunitcolor": "white"
          },
          "hoverlabel": {
           "align": "left"
          },
          "hovermode": "closest",
          "mapbox": {
           "style": "light"
          },
          "paper_bgcolor": "white",
          "plot_bgcolor": "#E5ECF6",
          "polar": {
           "angularaxis": {
            "gridcolor": "white",
            "linecolor": "white",
            "ticks": ""
           },
           "bgcolor": "#E5ECF6",
           "radialaxis": {
            "gridcolor": "white",
            "linecolor": "white",
            "ticks": ""
           }
          },
          "scene": {
           "xaxis": {
            "backgroundcolor": "#E5ECF6",
            "gridcolor": "white",
            "gridwidth": 2,
            "linecolor": "white",
            "showbackground": true,
            "ticks": "",
            "zerolinecolor": "white"
           },
           "yaxis": {
            "backgroundcolor": "#E5ECF6",
            "gridcolor": "white",
            "gridwidth": 2,
            "linecolor": "white",
            "showbackground": true,
            "ticks": "",
            "zerolinecolor": "white"
           },
           "zaxis": {
            "backgroundcolor": "#E5ECF6",
            "gridcolor": "white",
            "gridwidth": 2,
            "linecolor": "white",
            "showbackground": true,
            "ticks": "",
            "zerolinecolor": "white"
           }
          },
          "shapedefaults": {
           "line": {
            "color": "#2a3f5f"
           }
          },
          "ternary": {
           "aaxis": {
            "gridcolor": "white",
            "linecolor": "white",
            "ticks": ""
           },
           "baxis": {
            "gridcolor": "white",
            "linecolor": "white",
            "ticks": ""
           },
           "bgcolor": "#E5ECF6",
           "caxis": {
            "gridcolor": "white",
            "linecolor": "white",
            "ticks": ""
           }
          },
          "title": {
           "x": 0.05
          },
          "xaxis": {
           "automargin": true,
           "gridcolor": "white",
           "linecolor": "white",
           "ticks": "",
           "title": {
            "standoff": 15
           },
           "zerolinecolor": "white",
           "zerolinewidth": 2
          },
          "yaxis": {
           "automargin": true,
           "gridcolor": "white",
           "linecolor": "white",
           "ticks": "",
           "title": {
            "standoff": 15
           },
           "zerolinecolor": "white",
           "zerolinewidth": 2
          }
         }
        },
        "title": {
         "text": "Sales"
        },
        "width": 1200,
        "xaxis": {
         "anchor": "y",
         "domain": [
          0,
          1
         ],
         "title": {
          "text": "date-weeks"
         }
        },
        "yaxis": {
         "anchor": "x",
         "domain": [
          0,
          1
         ],
         "title": {
          "text": "money [CZK]"
         }
        }
       }
      }
     },
     "metadata": {},
     "output_type": "display_data"
    }
   ],
   "source": [
    "line_plot_px(df = df_week, \n",
    "             title = 'Sales',\n",
    "             x_col_name = 'Date',\n",
    "             y_col_name = ['sales'], \n",
    "             x_label = 'date-weeks', \n",
    "             y_label = 'money [CZK]'\n",
    "             )"
   ]
  },
  {
   "cell_type": "code",
   "execution_count": 1162,
   "metadata": {},
   "outputs": [
    {
     "data": {
      "application/vnd.plotly.v1+json": {
       "config": {
        "plotlyServerURL": "https://plot.ly"
       },
       "data": [
        {
         "name": "Sales",
         "type": "scatter",
         "x": [
          "2020-10-01T00:00:00",
          "2020-10-08T00:00:00",
          "2020-10-15T00:00:00",
          "2020-10-22T00:00:00",
          "2020-10-29T00:00:00",
          "2020-11-05T00:00:00",
          "2020-11-12T00:00:00",
          "2020-11-19T00:00:00",
          "2020-11-26T00:00:00",
          "2020-12-03T00:00:00",
          "2020-12-10T00:00:00",
          "2020-12-17T00:00:00",
          "2020-12-24T00:00:00",
          "2020-12-31T00:00:00",
          "2021-01-07T00:00:00",
          "2021-01-14T00:00:00",
          "2021-01-21T00:00:00",
          "2021-01-28T00:00:00",
          "2021-02-04T00:00:00",
          "2021-02-11T00:00:00",
          "2021-02-18T00:00:00",
          "2021-02-25T00:00:00",
          "2021-03-04T00:00:00",
          "2021-03-11T00:00:00",
          "2021-03-18T00:00:00",
          "2021-03-25T00:00:00",
          "2021-04-01T00:00:00",
          "2021-04-08T00:00:00",
          "2021-04-15T00:00:00",
          "2021-04-22T00:00:00",
          "2021-04-29T00:00:00",
          "2021-05-06T00:00:00",
          "2021-05-13T00:00:00",
          "2021-05-20T00:00:00",
          "2021-05-27T00:00:00",
          "2021-06-03T00:00:00",
          "2021-06-10T00:00:00",
          "2021-06-17T00:00:00",
          "2021-06-24T00:00:00",
          "2021-07-01T00:00:00",
          "2021-07-08T00:00:00",
          "2021-07-15T00:00:00",
          "2021-07-22T00:00:00",
          "2021-07-29T00:00:00",
          "2021-08-05T00:00:00",
          "2021-08-12T00:00:00",
          "2021-08-19T00:00:00",
          "2021-08-26T00:00:00",
          "2021-09-02T00:00:00",
          "2021-09-09T00:00:00",
          "2021-09-16T00:00:00",
          "2021-09-23T00:00:00",
          "2021-09-30T00:00:00",
          "2021-10-07T00:00:00",
          "2021-10-14T00:00:00",
          "2021-10-21T00:00:00",
          "2021-10-28T00:00:00",
          "2021-11-04T00:00:00",
          "2021-11-11T00:00:00",
          "2021-11-18T00:00:00",
          "2021-11-25T00:00:00",
          "2021-12-02T00:00:00",
          "2021-12-09T00:00:00",
          "2021-12-16T00:00:00",
          "2021-12-23T00:00:00",
          "2021-12-30T00:00:00",
          "2022-01-06T00:00:00",
          "2022-01-13T00:00:00",
          "2022-01-20T00:00:00",
          "2022-01-27T00:00:00",
          "2022-02-03T00:00:00",
          "2022-02-10T00:00:00",
          "2022-02-17T00:00:00",
          "2022-02-24T00:00:00",
          "2022-03-03T00:00:00",
          "2022-03-10T00:00:00",
          "2022-03-17T00:00:00",
          "2022-03-24T00:00:00",
          "2022-03-31T00:00:00",
          "2022-04-07T00:00:00",
          "2022-04-14T00:00:00",
          "2022-04-21T00:00:00",
          "2022-04-28T00:00:00",
          "2022-05-05T00:00:00",
          "2022-05-12T00:00:00",
          "2022-05-19T00:00:00",
          "2022-05-26T00:00:00",
          "2022-06-02T00:00:00",
          "2022-06-09T00:00:00",
          "2022-06-16T00:00:00",
          "2022-06-23T00:00:00",
          "2022-06-30T00:00:00",
          "2022-07-07T00:00:00",
          "2022-07-14T00:00:00",
          "2022-07-21T00:00:00",
          "2022-07-28T00:00:00",
          "2022-08-04T00:00:00",
          "2022-08-11T00:00:00",
          "2022-08-18T00:00:00",
          "2022-08-25T00:00:00",
          "2022-09-01T00:00:00",
          "2022-09-08T00:00:00",
          "2022-09-15T00:00:00",
          "2022-09-22T00:00:00",
          "2022-09-29T00:00:00",
          "2022-10-06T00:00:00",
          "2022-10-13T00:00:00",
          "2022-10-20T00:00:00",
          "2022-10-27T00:00:00",
          "2022-11-03T00:00:00",
          "2022-11-10T00:00:00",
          "2022-11-17T00:00:00",
          "2022-11-24T00:00:00",
          "2022-12-01T00:00:00",
          "2022-12-08T00:00:00",
          "2022-12-15T00:00:00",
          "2022-12-22T00:00:00"
         ],
         "xaxis": "x",
         "y": [
          28225189.15,
          33173110.86,
          30504393.42,
          30335675.45,
          25670890.36,
          26824918.57,
          26653974.71,
          26257305.38,
          24839121.5,
          26305326.78,
          28966252.69,
          25349735.4,
          22095166.29,
          22082960.78,
          24236775.52,
          23753677.15,
          26521716.87,
          25668923.49,
          24477684.09,
          25907335.9,
          25558956.59,
          22720145.3,
          25895859.89,
          22828392.69,
          24620026.48,
          21808258.95,
          26082514.6,
          27840619.92,
          29047308.36,
          26686465.62,
          27926273.77,
          24886218.95,
          27333117.98,
          25688613.22,
          25517329.85,
          25194532.49,
          25559263.97,
          23337014.37,
          25498230.27,
          25947190.7,
          24566472.07,
          23481982.48,
          24264460.59,
          26797927.92,
          25559603.98,
          23698202.71,
          23875610.46,
          25915912.55,
          27372598.24,
          28275902.88,
          28290532.32,
          28369905.64,
          27209320.3,
          29896487.48,
          29020978.18,
          26761749.57,
          25009863.85,
          24717214.64,
          25055794.41,
          25493087.64,
          22867670.63,
          21112909.3,
          19178161.63,
          24377121.68,
          17154295.98,
          20438235.45,
          21059248.16,
          23142620.41,
          24761991.42,
          22149384.78,
          23904600.85,
          25134359.05,
          26033152.6,
          25053870.71,
          22414756.08,
          22951143.07,
          22756744.17,
          20623698.37,
          22638909.43,
          22502096.31,
          23600997.03,
          23300279.22,
          22258357.23,
          24016963.91,
          25764926.7,
          28103233.79,
          26932970.4,
          27820630.92,
          25261623.9,
          22298625.16,
          25224595.85,
          21882421.65,
          23116602.73,
          25312063.91,
          23778017.42,
          23501393.22,
          23198362.15,
          23089258.81,
          23528118.98,
          24494584.45,
          23353596.53,
          23766081.06,
          28174833.5,
          25765629.14,
          22657372.33,
          24649339.11,
          24512053.49,
          25106030.61,
          20662177.73,
          23030454.16,
          23001408.35,
          23687667.85,
          23974410.26,
          20884279.92,
          21475590.81,
          23863407.52,
          15043045.07
         ],
         "yaxis": "y"
        },
        {
         "name": "Number of opened stores",
         "type": "scatter",
         "x": [
          "2020-10-01T00:00:00",
          "2020-10-08T00:00:00",
          "2020-10-15T00:00:00",
          "2020-10-22T00:00:00",
          "2020-10-29T00:00:00",
          "2020-11-05T00:00:00",
          "2020-11-12T00:00:00",
          "2020-11-19T00:00:00",
          "2020-11-26T00:00:00",
          "2020-12-03T00:00:00",
          "2020-12-10T00:00:00",
          "2020-12-17T00:00:00",
          "2020-12-24T00:00:00",
          "2020-12-31T00:00:00",
          "2021-01-07T00:00:00",
          "2021-01-14T00:00:00",
          "2021-01-21T00:00:00",
          "2021-01-28T00:00:00",
          "2021-02-04T00:00:00",
          "2021-02-11T00:00:00",
          "2021-02-18T00:00:00",
          "2021-02-25T00:00:00",
          "2021-03-04T00:00:00",
          "2021-03-11T00:00:00",
          "2021-03-18T00:00:00",
          "2021-03-25T00:00:00",
          "2021-04-01T00:00:00",
          "2021-04-08T00:00:00",
          "2021-04-15T00:00:00",
          "2021-04-22T00:00:00",
          "2021-04-29T00:00:00",
          "2021-05-06T00:00:00",
          "2021-05-13T00:00:00",
          "2021-05-20T00:00:00",
          "2021-05-27T00:00:00",
          "2021-06-03T00:00:00",
          "2021-06-10T00:00:00",
          "2021-06-17T00:00:00",
          "2021-06-24T00:00:00",
          "2021-07-01T00:00:00",
          "2021-07-08T00:00:00",
          "2021-07-15T00:00:00",
          "2021-07-22T00:00:00",
          "2021-07-29T00:00:00",
          "2021-08-05T00:00:00",
          "2021-08-12T00:00:00",
          "2021-08-19T00:00:00",
          "2021-08-26T00:00:00",
          "2021-09-02T00:00:00",
          "2021-09-09T00:00:00",
          "2021-09-16T00:00:00",
          "2021-09-23T00:00:00",
          "2021-09-30T00:00:00",
          "2021-10-07T00:00:00",
          "2021-10-14T00:00:00",
          "2021-10-21T00:00:00",
          "2021-10-28T00:00:00",
          "2021-11-04T00:00:00",
          "2021-11-11T00:00:00",
          "2021-11-18T00:00:00",
          "2021-11-25T00:00:00",
          "2021-12-02T00:00:00",
          "2021-12-09T00:00:00",
          "2021-12-16T00:00:00",
          "2021-12-23T00:00:00",
          "2021-12-30T00:00:00",
          "2022-01-06T00:00:00",
          "2022-01-13T00:00:00",
          "2022-01-20T00:00:00",
          "2022-01-27T00:00:00",
          "2022-02-03T00:00:00",
          "2022-02-10T00:00:00",
          "2022-02-17T00:00:00",
          "2022-02-24T00:00:00",
          "2022-03-03T00:00:00",
          "2022-03-10T00:00:00",
          "2022-03-17T00:00:00",
          "2022-03-24T00:00:00",
          "2022-03-31T00:00:00",
          "2022-04-07T00:00:00",
          "2022-04-14T00:00:00",
          "2022-04-21T00:00:00",
          "2022-04-28T00:00:00",
          "2022-05-05T00:00:00",
          "2022-05-12T00:00:00",
          "2022-05-19T00:00:00",
          "2022-05-26T00:00:00",
          "2022-06-02T00:00:00",
          "2022-06-09T00:00:00",
          "2022-06-16T00:00:00",
          "2022-06-23T00:00:00",
          "2022-06-30T00:00:00",
          "2022-07-07T00:00:00",
          "2022-07-14T00:00:00",
          "2022-07-21T00:00:00",
          "2022-07-28T00:00:00",
          "2022-08-04T00:00:00",
          "2022-08-11T00:00:00",
          "2022-08-18T00:00:00",
          "2022-08-25T00:00:00",
          "2022-09-01T00:00:00",
          "2022-09-08T00:00:00",
          "2022-09-15T00:00:00",
          "2022-09-22T00:00:00",
          "2022-09-29T00:00:00",
          "2022-10-06T00:00:00",
          "2022-10-13T00:00:00",
          "2022-10-20T00:00:00",
          "2022-10-27T00:00:00",
          "2022-11-03T00:00:00",
          "2022-11-10T00:00:00",
          "2022-11-17T00:00:00",
          "2022-11-24T00:00:00",
          "2022-12-01T00:00:00",
          "2022-12-08T00:00:00",
          "2022-12-15T00:00:00",
          "2022-12-22T00:00:00"
         ],
         "xaxis": "x",
         "y": [
          186,
          186,
          186,
          186,
          186,
          186,
          186,
          186,
          185,
          184,
          184,
          184,
          184,
          181,
          184,
          184,
          184,
          183,
          183,
          183,
          183,
          183,
          183,
          183,
          183,
          182,
          179,
          179,
          179,
          179,
          177,
          177,
          177,
          177,
          176,
          176,
          176,
          176,
          175,
          173,
          173,
          173,
          173,
          173,
          173,
          173,
          173,
          173,
          173,
          173,
          173,
          173,
          171,
          171,
          171,
          171,
          169,
          168,
          168,
          168,
          166,
          162,
          162,
          162,
          162,
          157,
          162,
          162,
          162,
          161,
          161,
          161,
          161,
          159,
          158,
          158,
          158,
          158,
          143,
          143,
          143,
          143,
          142,
          142,
          142,
          142,
          142,
          142,
          142,
          142,
          142,
          142,
          142,
          142,
          142,
          142,
          142,
          142,
          142,
          142,
          142,
          142,
          142,
          142,
          142,
          142,
          142,
          142,
          142,
          142,
          142,
          142,
          142,
          142,
          142,
          142,
          142
         ],
         "yaxis": "y2"
        }
       ],
       "layout": {
        "height": 600,
        "template": {
         "data": {
          "bar": [
           {
            "error_x": {
             "color": "#2a3f5f"
            },
            "error_y": {
             "color": "#2a3f5f"
            },
            "marker": {
             "line": {
              "color": "#E5ECF6",
              "width": 0.5
             },
             "pattern": {
              "fillmode": "overlay",
              "size": 10,
              "solidity": 0.2
             }
            },
            "type": "bar"
           }
          ],
          "barpolar": [
           {
            "marker": {
             "line": {
              "color": "#E5ECF6",
              "width": 0.5
             },
             "pattern": {
              "fillmode": "overlay",
              "size": 10,
              "solidity": 0.2
             }
            },
            "type": "barpolar"
           }
          ],
          "carpet": [
           {
            "aaxis": {
             "endlinecolor": "#2a3f5f",
             "gridcolor": "white",
             "linecolor": "white",
             "minorgridcolor": "white",
             "startlinecolor": "#2a3f5f"
            },
            "baxis": {
             "endlinecolor": "#2a3f5f",
             "gridcolor": "white",
             "linecolor": "white",
             "minorgridcolor": "white",
             "startlinecolor": "#2a3f5f"
            },
            "type": "carpet"
           }
          ],
          "choropleth": [
           {
            "colorbar": {
             "outlinewidth": 0,
             "ticks": ""
            },
            "type": "choropleth"
           }
          ],
          "contour": [
           {
            "colorbar": {
             "outlinewidth": 0,
             "ticks": ""
            },
            "colorscale": [
             [
              0,
              "#0d0887"
             ],
             [
              0.1111111111111111,
              "#46039f"
             ],
             [
              0.2222222222222222,
              "#7201a8"
             ],
             [
              0.3333333333333333,
              "#9c179e"
             ],
             [
              0.4444444444444444,
              "#bd3786"
             ],
             [
              0.5555555555555556,
              "#d8576b"
             ],
             [
              0.6666666666666666,
              "#ed7953"
             ],
             [
              0.7777777777777778,
              "#fb9f3a"
             ],
             [
              0.8888888888888888,
              "#fdca26"
             ],
             [
              1,
              "#f0f921"
             ]
            ],
            "type": "contour"
           }
          ],
          "contourcarpet": [
           {
            "colorbar": {
             "outlinewidth": 0,
             "ticks": ""
            },
            "type": "contourcarpet"
           }
          ],
          "heatmap": [
           {
            "colorbar": {
             "outlinewidth": 0,
             "ticks": ""
            },
            "colorscale": [
             [
              0,
              "#0d0887"
             ],
             [
              0.1111111111111111,
              "#46039f"
             ],
             [
              0.2222222222222222,
              "#7201a8"
             ],
             [
              0.3333333333333333,
              "#9c179e"
             ],
             [
              0.4444444444444444,
              "#bd3786"
             ],
             [
              0.5555555555555556,
              "#d8576b"
             ],
             [
              0.6666666666666666,
              "#ed7953"
             ],
             [
              0.7777777777777778,
              "#fb9f3a"
             ],
             [
              0.8888888888888888,
              "#fdca26"
             ],
             [
              1,
              "#f0f921"
             ]
            ],
            "type": "heatmap"
           }
          ],
          "heatmapgl": [
           {
            "colorbar": {
             "outlinewidth": 0,
             "ticks": ""
            },
            "colorscale": [
             [
              0,
              "#0d0887"
             ],
             [
              0.1111111111111111,
              "#46039f"
             ],
             [
              0.2222222222222222,
              "#7201a8"
             ],
             [
              0.3333333333333333,
              "#9c179e"
             ],
             [
              0.4444444444444444,
              "#bd3786"
             ],
             [
              0.5555555555555556,
              "#d8576b"
             ],
             [
              0.6666666666666666,
              "#ed7953"
             ],
             [
              0.7777777777777778,
              "#fb9f3a"
             ],
             [
              0.8888888888888888,
              "#fdca26"
             ],
             [
              1,
              "#f0f921"
             ]
            ],
            "type": "heatmapgl"
           }
          ],
          "histogram": [
           {
            "marker": {
             "pattern": {
              "fillmode": "overlay",
              "size": 10,
              "solidity": 0.2
             }
            },
            "type": "histogram"
           }
          ],
          "histogram2d": [
           {
            "colorbar": {
             "outlinewidth": 0,
             "ticks": ""
            },
            "colorscale": [
             [
              0,
              "#0d0887"
             ],
             [
              0.1111111111111111,
              "#46039f"
             ],
             [
              0.2222222222222222,
              "#7201a8"
             ],
             [
              0.3333333333333333,
              "#9c179e"
             ],
             [
              0.4444444444444444,
              "#bd3786"
             ],
             [
              0.5555555555555556,
              "#d8576b"
             ],
             [
              0.6666666666666666,
              "#ed7953"
             ],
             [
              0.7777777777777778,
              "#fb9f3a"
             ],
             [
              0.8888888888888888,
              "#fdca26"
             ],
             [
              1,
              "#f0f921"
             ]
            ],
            "type": "histogram2d"
           }
          ],
          "histogram2dcontour": [
           {
            "colorbar": {
             "outlinewidth": 0,
             "ticks": ""
            },
            "colorscale": [
             [
              0,
              "#0d0887"
             ],
             [
              0.1111111111111111,
              "#46039f"
             ],
             [
              0.2222222222222222,
              "#7201a8"
             ],
             [
              0.3333333333333333,
              "#9c179e"
             ],
             [
              0.4444444444444444,
              "#bd3786"
             ],
             [
              0.5555555555555556,
              "#d8576b"
             ],
             [
              0.6666666666666666,
              "#ed7953"
             ],
             [
              0.7777777777777778,
              "#fb9f3a"
             ],
             [
              0.8888888888888888,
              "#fdca26"
             ],
             [
              1,
              "#f0f921"
             ]
            ],
            "type": "histogram2dcontour"
           }
          ],
          "mesh3d": [
           {
            "colorbar": {
             "outlinewidth": 0,
             "ticks": ""
            },
            "type": "mesh3d"
           }
          ],
          "parcoords": [
           {
            "line": {
             "colorbar": {
              "outlinewidth": 0,
              "ticks": ""
             }
            },
            "type": "parcoords"
           }
          ],
          "pie": [
           {
            "automargin": true,
            "type": "pie"
           }
          ],
          "scatter": [
           {
            "fillpattern": {
             "fillmode": "overlay",
             "size": 10,
             "solidity": 0.2
            },
            "type": "scatter"
           }
          ],
          "scatter3d": [
           {
            "line": {
             "colorbar": {
              "outlinewidth": 0,
              "ticks": ""
             }
            },
            "marker": {
             "colorbar": {
              "outlinewidth": 0,
              "ticks": ""
             }
            },
            "type": "scatter3d"
           }
          ],
          "scattercarpet": [
           {
            "marker": {
             "colorbar": {
              "outlinewidth": 0,
              "ticks": ""
             }
            },
            "type": "scattercarpet"
           }
          ],
          "scattergeo": [
           {
            "marker": {
             "colorbar": {
              "outlinewidth": 0,
              "ticks": ""
             }
            },
            "type": "scattergeo"
           }
          ],
          "scattergl": [
           {
            "marker": {
             "colorbar": {
              "outlinewidth": 0,
              "ticks": ""
             }
            },
            "type": "scattergl"
           }
          ],
          "scattermapbox": [
           {
            "marker": {
             "colorbar": {
              "outlinewidth": 0,
              "ticks": ""
             }
            },
            "type": "scattermapbox"
           }
          ],
          "scatterpolar": [
           {
            "marker": {
             "colorbar": {
              "outlinewidth": 0,
              "ticks": ""
             }
            },
            "type": "scatterpolar"
           }
          ],
          "scatterpolargl": [
           {
            "marker": {
             "colorbar": {
              "outlinewidth": 0,
              "ticks": ""
             }
            },
            "type": "scatterpolargl"
           }
          ],
          "scatterternary": [
           {
            "marker": {
             "colorbar": {
              "outlinewidth": 0,
              "ticks": ""
             }
            },
            "type": "scatterternary"
           }
          ],
          "surface": [
           {
            "colorbar": {
             "outlinewidth": 0,
             "ticks": ""
            },
            "colorscale": [
             [
              0,
              "#0d0887"
             ],
             [
              0.1111111111111111,
              "#46039f"
             ],
             [
              0.2222222222222222,
              "#7201a8"
             ],
             [
              0.3333333333333333,
              "#9c179e"
             ],
             [
              0.4444444444444444,
              "#bd3786"
             ],
             [
              0.5555555555555556,
              "#d8576b"
             ],
             [
              0.6666666666666666,
              "#ed7953"
             ],
             [
              0.7777777777777778,
              "#fb9f3a"
             ],
             [
              0.8888888888888888,
              "#fdca26"
             ],
             [
              1,
              "#f0f921"
             ]
            ],
            "type": "surface"
           }
          ],
          "table": [
           {
            "cells": {
             "fill": {
              "color": "#EBF0F8"
             },
             "line": {
              "color": "white"
             }
            },
            "header": {
             "fill": {
              "color": "#C8D4E3"
             },
             "line": {
              "color": "white"
             }
            },
            "type": "table"
           }
          ]
         },
         "layout": {
          "annotationdefaults": {
           "arrowcolor": "#2a3f5f",
           "arrowhead": 0,
           "arrowwidth": 1
          },
          "autotypenumbers": "strict",
          "coloraxis": {
           "colorbar": {
            "outlinewidth": 0,
            "ticks": ""
           }
          },
          "colorscale": {
           "diverging": [
            [
             0,
             "#8e0152"
            ],
            [
             0.1,
             "#c51b7d"
            ],
            [
             0.2,
             "#de77ae"
            ],
            [
             0.3,
             "#f1b6da"
            ],
            [
             0.4,
             "#fde0ef"
            ],
            [
             0.5,
             "#f7f7f7"
            ],
            [
             0.6,
             "#e6f5d0"
            ],
            [
             0.7,
             "#b8e186"
            ],
            [
             0.8,
             "#7fbc41"
            ],
            [
             0.9,
             "#4d9221"
            ],
            [
             1,
             "#276419"
            ]
           ],
           "sequential": [
            [
             0,
             "#0d0887"
            ],
            [
             0.1111111111111111,
             "#46039f"
            ],
            [
             0.2222222222222222,
             "#7201a8"
            ],
            [
             0.3333333333333333,
             "#9c179e"
            ],
            [
             0.4444444444444444,
             "#bd3786"
            ],
            [
             0.5555555555555556,
             "#d8576b"
            ],
            [
             0.6666666666666666,
             "#ed7953"
            ],
            [
             0.7777777777777778,
             "#fb9f3a"
            ],
            [
             0.8888888888888888,
             "#fdca26"
            ],
            [
             1,
             "#f0f921"
            ]
           ],
           "sequentialminus": [
            [
             0,
             "#0d0887"
            ],
            [
             0.1111111111111111,
             "#46039f"
            ],
            [
             0.2222222222222222,
             "#7201a8"
            ],
            [
             0.3333333333333333,
             "#9c179e"
            ],
            [
             0.4444444444444444,
             "#bd3786"
            ],
            [
             0.5555555555555556,
             "#d8576b"
            ],
            [
             0.6666666666666666,
             "#ed7953"
            ],
            [
             0.7777777777777778,
             "#fb9f3a"
            ],
            [
             0.8888888888888888,
             "#fdca26"
            ],
            [
             1,
             "#f0f921"
            ]
           ]
          },
          "colorway": [
           "#636efa",
           "#EF553B",
           "#00cc96",
           "#ab63fa",
           "#FFA15A",
           "#19d3f3",
           "#FF6692",
           "#B6E880",
           "#FF97FF",
           "#FECB52"
          ],
          "font": {
           "color": "#2a3f5f"
          },
          "geo": {
           "bgcolor": "white",
           "lakecolor": "white",
           "landcolor": "#E5ECF6",
           "showlakes": true,
           "showland": true,
           "subunitcolor": "white"
          },
          "hoverlabel": {
           "align": "left"
          },
          "hovermode": "closest",
          "mapbox": {
           "style": "light"
          },
          "paper_bgcolor": "white",
          "plot_bgcolor": "#E5ECF6",
          "polar": {
           "angularaxis": {
            "gridcolor": "white",
            "linecolor": "white",
            "ticks": ""
           },
           "bgcolor": "#E5ECF6",
           "radialaxis": {
            "gridcolor": "white",
            "linecolor": "white",
            "ticks": ""
           }
          },
          "scene": {
           "xaxis": {
            "backgroundcolor": "#E5ECF6",
            "gridcolor": "white",
            "gridwidth": 2,
            "linecolor": "white",
            "showbackground": true,
            "ticks": "",
            "zerolinecolor": "white"
           },
           "yaxis": {
            "backgroundcolor": "#E5ECF6",
            "gridcolor": "white",
            "gridwidth": 2,
            "linecolor": "white",
            "showbackground": true,
            "ticks": "",
            "zerolinecolor": "white"
           },
           "zaxis": {
            "backgroundcolor": "#E5ECF6",
            "gridcolor": "white",
            "gridwidth": 2,
            "linecolor": "white",
            "showbackground": true,
            "ticks": "",
            "zerolinecolor": "white"
           }
          },
          "shapedefaults": {
           "line": {
            "color": "#2a3f5f"
           }
          },
          "ternary": {
           "aaxis": {
            "gridcolor": "white",
            "linecolor": "white",
            "ticks": ""
           },
           "baxis": {
            "gridcolor": "white",
            "linecolor": "white",
            "ticks": ""
           },
           "bgcolor": "#E5ECF6",
           "caxis": {
            "gridcolor": "white",
            "linecolor": "white",
            "ticks": ""
           }
          },
          "title": {
           "x": 0.05
          },
          "xaxis": {
           "automargin": true,
           "gridcolor": "white",
           "linecolor": "white",
           "ticks": "",
           "title": {
            "standoff": 15
           },
           "zerolinecolor": "white",
           "zerolinewidth": 2
          },
          "yaxis": {
           "automargin": true,
           "gridcolor": "white",
           "linecolor": "white",
           "ticks": "",
           "title": {
            "standoff": 15
           },
           "zerolinecolor": "white",
           "zerolinewidth": 2
          }
         }
        },
        "title": {
         "text": "Sales vs Stores opened"
        },
        "width": 1200,
        "xaxis": {
         "anchor": "y",
         "domain": [
          0,
          0.94
         ],
         "title": {
          "text": "date-weeks"
         }
        },
        "yaxis": {
         "anchor": "x",
         "domain": [
          0,
          1
         ],
         "title": {
          "text": "<b> Sales </b> "
         }
        },
        "yaxis2": {
         "anchor": "x",
         "overlaying": "y",
         "side": "right",
         "title": {
          "text": "<b> Number of opened stores </b> "
         }
        }
       }
      }
     },
     "metadata": {},
     "output_type": "display_data"
    }
   ],
   "source": [
    "line_plot_secondary_axis_px(df=df_week,\n",
    "                            x_col_name='Date', \n",
    "                            y1_col_name='sales', \n",
    "                            y2_col_name='stores_opened', \n",
    "                            x_label='date-weeks',\n",
    "                            y1_label='Sales',\n",
    "                            y2_label = 'Number of opened stores',\n",
    "                            title='Sales vs Stores opened'\n",
    "                            )"
   ]
  },
  {
   "cell_type": "code",
   "execution_count": 1163,
   "metadata": {},
   "outputs": [
    {
     "data": {
      "application/vnd.plotly.v1+json": {
       "config": {
        "plotlyServerURL": "https://plot.ly"
       },
       "data": [
        {
         "hovertemplate": "variable=investment_tv<br>Date=%{x}<br>value=%{y}<extra></extra>",
         "legendgroup": "investment_tv",
         "line": {
          "color": "#636efa",
          "dash": "solid"
         },
         "marker": {
          "symbol": "circle"
         },
         "mode": "lines",
         "name": "investment_tv",
         "orientation": "v",
         "showlegend": true,
         "type": "scatter",
         "x": [
          "2020-10-01T00:00:00",
          "2020-10-08T00:00:00",
          "2020-10-15T00:00:00",
          "2020-10-22T00:00:00",
          "2020-10-29T00:00:00",
          "2020-11-05T00:00:00",
          "2020-11-12T00:00:00",
          "2020-11-19T00:00:00",
          "2020-11-26T00:00:00",
          "2020-12-03T00:00:00",
          "2020-12-10T00:00:00",
          "2020-12-17T00:00:00",
          "2020-12-24T00:00:00",
          "2020-12-31T00:00:00",
          "2021-01-07T00:00:00",
          "2021-01-14T00:00:00",
          "2021-01-21T00:00:00",
          "2021-01-28T00:00:00",
          "2021-02-04T00:00:00",
          "2021-02-11T00:00:00",
          "2021-02-18T00:00:00",
          "2021-02-25T00:00:00",
          "2021-03-04T00:00:00",
          "2021-03-11T00:00:00",
          "2021-03-18T00:00:00",
          "2021-03-25T00:00:00",
          "2021-04-01T00:00:00",
          "2021-04-08T00:00:00",
          "2021-04-15T00:00:00",
          "2021-04-22T00:00:00",
          "2021-04-29T00:00:00",
          "2021-05-06T00:00:00",
          "2021-05-13T00:00:00",
          "2021-05-20T00:00:00",
          "2021-05-27T00:00:00",
          "2021-06-03T00:00:00",
          "2021-06-10T00:00:00",
          "2021-06-17T00:00:00",
          "2021-06-24T00:00:00",
          "2021-07-01T00:00:00",
          "2021-07-08T00:00:00",
          "2021-07-15T00:00:00",
          "2021-07-22T00:00:00",
          "2021-07-29T00:00:00",
          "2021-08-05T00:00:00",
          "2021-08-12T00:00:00",
          "2021-08-19T00:00:00",
          "2021-08-26T00:00:00",
          "2021-09-02T00:00:00",
          "2021-09-09T00:00:00",
          "2021-09-16T00:00:00",
          "2021-09-23T00:00:00",
          "2021-09-30T00:00:00",
          "2021-10-07T00:00:00",
          "2021-10-14T00:00:00",
          "2021-10-21T00:00:00",
          "2021-10-28T00:00:00",
          "2021-11-04T00:00:00",
          "2021-11-11T00:00:00",
          "2021-11-18T00:00:00",
          "2021-11-25T00:00:00",
          "2021-12-02T00:00:00",
          "2021-12-09T00:00:00",
          "2021-12-16T00:00:00",
          "2021-12-23T00:00:00",
          "2021-12-30T00:00:00",
          "2022-01-06T00:00:00",
          "2022-01-13T00:00:00",
          "2022-01-20T00:00:00",
          "2022-01-27T00:00:00",
          "2022-02-03T00:00:00",
          "2022-02-10T00:00:00",
          "2022-02-17T00:00:00",
          "2022-02-24T00:00:00",
          "2022-03-03T00:00:00",
          "2022-03-10T00:00:00",
          "2022-03-17T00:00:00",
          "2022-03-24T00:00:00",
          "2022-03-31T00:00:00",
          "2022-04-07T00:00:00",
          "2022-04-14T00:00:00",
          "2022-04-21T00:00:00",
          "2022-04-28T00:00:00",
          "2022-05-05T00:00:00",
          "2022-05-12T00:00:00",
          "2022-05-19T00:00:00",
          "2022-05-26T00:00:00",
          "2022-06-02T00:00:00",
          "2022-06-09T00:00:00",
          "2022-06-16T00:00:00",
          "2022-06-23T00:00:00",
          "2022-06-30T00:00:00",
          "2022-07-07T00:00:00",
          "2022-07-14T00:00:00",
          "2022-07-21T00:00:00",
          "2022-07-28T00:00:00",
          "2022-08-04T00:00:00",
          "2022-08-11T00:00:00",
          "2022-08-18T00:00:00",
          "2022-08-25T00:00:00",
          "2022-09-01T00:00:00",
          "2022-09-08T00:00:00",
          "2022-09-15T00:00:00",
          "2022-09-22T00:00:00",
          "2022-09-29T00:00:00",
          "2022-10-06T00:00:00",
          "2022-10-13T00:00:00",
          "2022-10-20T00:00:00",
          "2022-10-27T00:00:00",
          "2022-11-03T00:00:00",
          "2022-11-10T00:00:00",
          "2022-11-17T00:00:00",
          "2022-11-24T00:00:00",
          "2022-12-01T00:00:00",
          "2022-12-08T00:00:00",
          "2022-12-15T00:00:00",
          "2022-12-22T00:00:00"
         ],
         "xaxis": "x",
         "y": [
          981309.627,
          1204435.829,
          1321570.322,
          215521.5178,
          97991.92004,
          0,
          0,
          0,
          0,
          0,
          0,
          0,
          0,
          0,
          0,
          0,
          0,
          0,
          0,
          0,
          0,
          0,
          0,
          0,
          0,
          387986.7551,
          1493415.256,
          1084995.338,
          909321.5316,
          1124232.259,
          362813.4732,
          47406.04863,
          51280.04919,
          0,
          0,
          0,
          0,
          0,
          0,
          0,
          0,
          0,
          0,
          0,
          0,
          0,
          0,
          727834.101,
          1783205.154,
          1139632.84,
          1524044.605,
          799342.4994,
          1682075.745,
          1275537.812,
          1786852.632,
          2260.241031,
          0,
          0,
          0,
          0,
          0,
          0,
          0,
          0,
          0,
          0,
          0,
          0,
          0,
          0,
          0,
          0,
          0,
          0,
          1007208.615,
          760360.6975,
          817390.037,
          797604.119,
          0,
          0,
          0,
          0,
          1271722.042,
          1502400.901,
          1272281.835,
          1459403.516,
          1429413.112,
          43307.89124,
          54806.92878,
          43864.86469,
          32515.33221,
          32343.83701,
          30568.75812,
          13238.76439,
          0,
          0,
          0,
          719993.2494,
          620988.1199,
          911306.0749,
          1234314.774,
          1059859.397,
          1156686.571,
          1231744.989,
          0,
          0,
          0,
          0,
          0,
          0,
          0,
          0,
          0,
          0,
          0,
          0,
          1421815.694
         ],
         "yaxis": "y"
        },
        {
         "hovertemplate": "variable=investment_radio<br>Date=%{x}<br>value=%{y}<extra></extra>",
         "legendgroup": "investment_radio",
         "line": {
          "color": "#EF553B",
          "dash": "solid"
         },
         "marker": {
          "symbol": "circle"
         },
         "mode": "lines",
         "name": "investment_radio",
         "orientation": "v",
         "showlegend": true,
         "type": "scatter",
         "x": [
          "2020-10-01T00:00:00",
          "2020-10-08T00:00:00",
          "2020-10-15T00:00:00",
          "2020-10-22T00:00:00",
          "2020-10-29T00:00:00",
          "2020-11-05T00:00:00",
          "2020-11-12T00:00:00",
          "2020-11-19T00:00:00",
          "2020-11-26T00:00:00",
          "2020-12-03T00:00:00",
          "2020-12-10T00:00:00",
          "2020-12-17T00:00:00",
          "2020-12-24T00:00:00",
          "2020-12-31T00:00:00",
          "2021-01-07T00:00:00",
          "2021-01-14T00:00:00",
          "2021-01-21T00:00:00",
          "2021-01-28T00:00:00",
          "2021-02-04T00:00:00",
          "2021-02-11T00:00:00",
          "2021-02-18T00:00:00",
          "2021-02-25T00:00:00",
          "2021-03-04T00:00:00",
          "2021-03-11T00:00:00",
          "2021-03-18T00:00:00",
          "2021-03-25T00:00:00",
          "2021-04-01T00:00:00",
          "2021-04-08T00:00:00",
          "2021-04-15T00:00:00",
          "2021-04-22T00:00:00",
          "2021-04-29T00:00:00",
          "2021-05-06T00:00:00",
          "2021-05-13T00:00:00",
          "2021-05-20T00:00:00",
          "2021-05-27T00:00:00",
          "2021-06-03T00:00:00",
          "2021-06-10T00:00:00",
          "2021-06-17T00:00:00",
          "2021-06-24T00:00:00",
          "2021-07-01T00:00:00",
          "2021-07-08T00:00:00",
          "2021-07-15T00:00:00",
          "2021-07-22T00:00:00",
          "2021-07-29T00:00:00",
          "2021-08-05T00:00:00",
          "2021-08-12T00:00:00",
          "2021-08-19T00:00:00",
          "2021-08-26T00:00:00",
          "2021-09-02T00:00:00",
          "2021-09-09T00:00:00",
          "2021-09-16T00:00:00",
          "2021-09-23T00:00:00",
          "2021-09-30T00:00:00",
          "2021-10-07T00:00:00",
          "2021-10-14T00:00:00",
          "2021-10-21T00:00:00",
          "2021-10-28T00:00:00",
          "2021-11-04T00:00:00",
          "2021-11-11T00:00:00",
          "2021-11-18T00:00:00",
          "2021-11-25T00:00:00",
          "2021-12-02T00:00:00",
          "2021-12-09T00:00:00",
          "2021-12-16T00:00:00",
          "2021-12-23T00:00:00",
          "2021-12-30T00:00:00",
          "2022-01-06T00:00:00",
          "2022-01-13T00:00:00",
          "2022-01-20T00:00:00",
          "2022-01-27T00:00:00",
          "2022-02-03T00:00:00",
          "2022-02-10T00:00:00",
          "2022-02-17T00:00:00",
          "2022-02-24T00:00:00",
          "2022-03-03T00:00:00",
          "2022-03-10T00:00:00",
          "2022-03-17T00:00:00",
          "2022-03-24T00:00:00",
          "2022-03-31T00:00:00",
          "2022-04-07T00:00:00",
          "2022-04-14T00:00:00",
          "2022-04-21T00:00:00",
          "2022-04-28T00:00:00",
          "2022-05-05T00:00:00",
          "2022-05-12T00:00:00",
          "2022-05-19T00:00:00",
          "2022-05-26T00:00:00",
          "2022-06-02T00:00:00",
          "2022-06-09T00:00:00",
          "2022-06-16T00:00:00",
          "2022-06-23T00:00:00",
          "2022-06-30T00:00:00",
          "2022-07-07T00:00:00",
          "2022-07-14T00:00:00",
          "2022-07-21T00:00:00",
          "2022-07-28T00:00:00",
          "2022-08-04T00:00:00",
          "2022-08-11T00:00:00",
          "2022-08-18T00:00:00",
          "2022-08-25T00:00:00",
          "2022-09-01T00:00:00",
          "2022-09-08T00:00:00",
          "2022-09-15T00:00:00",
          "2022-09-22T00:00:00",
          "2022-09-29T00:00:00",
          "2022-10-06T00:00:00",
          "2022-10-13T00:00:00",
          "2022-10-20T00:00:00",
          "2022-10-27T00:00:00",
          "2022-11-03T00:00:00",
          "2022-11-10T00:00:00",
          "2022-11-17T00:00:00",
          "2022-11-24T00:00:00",
          "2022-12-01T00:00:00",
          "2022-12-08T00:00:00",
          "2022-12-15T00:00:00",
          "2022-12-22T00:00:00"
         ],
         "xaxis": "x",
         "y": [
          0,
          0,
          0,
          0,
          0,
          0,
          0,
          0,
          0,
          0,
          0,
          0,
          0,
          0,
          0,
          0,
          0,
          0,
          0,
          0,
          0,
          0,
          0,
          0,
          0,
          0,
          0,
          102896.9048,
          101969.7843,
          0,
          0,
          0,
          0,
          0,
          0,
          0,
          0,
          0,
          0,
          0,
          0,
          0,
          0,
          0,
          0,
          0,
          0,
          0,
          0,
          0,
          0,
          0,
          0,
          178345.6535,
          151176.802,
          0,
          0,
          0,
          0,
          0,
          0,
          0,
          0,
          0,
          0,
          0,
          0,
          0,
          0,
          0,
          0,
          0,
          0,
          0,
          0,
          0,
          0,
          0,
          0,
          0,
          0,
          0,
          0,
          0,
          0,
          0,
          0,
          0,
          0,
          0,
          0,
          0,
          0,
          0,
          0,
          0,
          0,
          0,
          0,
          0,
          0,
          0,
          0,
          0,
          0,
          0,
          23371.63929,
          19854.5132,
          0,
          0,
          0,
          0,
          0,
          0,
          0,
          0,
          0
         ],
         "yaxis": "y"
        },
        {
         "hovertemplate": "variable=investment_press<br>Date=%{x}<br>value=%{y}<extra></extra>",
         "legendgroup": "investment_press",
         "line": {
          "color": "#00cc96",
          "dash": "solid"
         },
         "marker": {
          "symbol": "circle"
         },
         "mode": "lines",
         "name": "investment_press",
         "orientation": "v",
         "showlegend": true,
         "type": "scatter",
         "x": [
          "2020-10-01T00:00:00",
          "2020-10-08T00:00:00",
          "2020-10-15T00:00:00",
          "2020-10-22T00:00:00",
          "2020-10-29T00:00:00",
          "2020-11-05T00:00:00",
          "2020-11-12T00:00:00",
          "2020-11-19T00:00:00",
          "2020-11-26T00:00:00",
          "2020-12-03T00:00:00",
          "2020-12-10T00:00:00",
          "2020-12-17T00:00:00",
          "2020-12-24T00:00:00",
          "2020-12-31T00:00:00",
          "2021-01-07T00:00:00",
          "2021-01-14T00:00:00",
          "2021-01-21T00:00:00",
          "2021-01-28T00:00:00",
          "2021-02-04T00:00:00",
          "2021-02-11T00:00:00",
          "2021-02-18T00:00:00",
          "2021-02-25T00:00:00",
          "2021-03-04T00:00:00",
          "2021-03-11T00:00:00",
          "2021-03-18T00:00:00",
          "2021-03-25T00:00:00",
          "2021-04-01T00:00:00",
          "2021-04-08T00:00:00",
          "2021-04-15T00:00:00",
          "2021-04-22T00:00:00",
          "2021-04-29T00:00:00",
          "2021-05-06T00:00:00",
          "2021-05-13T00:00:00",
          "2021-05-20T00:00:00",
          "2021-05-27T00:00:00",
          "2021-06-03T00:00:00",
          "2021-06-10T00:00:00",
          "2021-06-17T00:00:00",
          "2021-06-24T00:00:00",
          "2021-07-01T00:00:00",
          "2021-07-08T00:00:00",
          "2021-07-15T00:00:00",
          "2021-07-22T00:00:00",
          "2021-07-29T00:00:00",
          "2021-08-05T00:00:00",
          "2021-08-12T00:00:00",
          "2021-08-19T00:00:00",
          "2021-08-26T00:00:00",
          "2021-09-02T00:00:00",
          "2021-09-09T00:00:00",
          "2021-09-16T00:00:00",
          "2021-09-23T00:00:00",
          "2021-09-30T00:00:00",
          "2021-10-07T00:00:00",
          "2021-10-14T00:00:00",
          "2021-10-21T00:00:00",
          "2021-10-28T00:00:00",
          "2021-11-04T00:00:00",
          "2021-11-11T00:00:00",
          "2021-11-18T00:00:00",
          "2021-11-25T00:00:00",
          "2021-12-02T00:00:00",
          "2021-12-09T00:00:00",
          "2021-12-16T00:00:00",
          "2021-12-23T00:00:00",
          "2021-12-30T00:00:00",
          "2022-01-06T00:00:00",
          "2022-01-13T00:00:00",
          "2022-01-20T00:00:00",
          "2022-01-27T00:00:00",
          "2022-02-03T00:00:00",
          "2022-02-10T00:00:00",
          "2022-02-17T00:00:00",
          "2022-02-24T00:00:00",
          "2022-03-03T00:00:00",
          "2022-03-10T00:00:00",
          "2022-03-17T00:00:00",
          "2022-03-24T00:00:00",
          "2022-03-31T00:00:00",
          "2022-04-07T00:00:00",
          "2022-04-14T00:00:00",
          "2022-04-21T00:00:00",
          "2022-04-28T00:00:00",
          "2022-05-05T00:00:00",
          "2022-05-12T00:00:00",
          "2022-05-19T00:00:00",
          "2022-05-26T00:00:00",
          "2022-06-02T00:00:00",
          "2022-06-09T00:00:00",
          "2022-06-16T00:00:00",
          "2022-06-23T00:00:00",
          "2022-06-30T00:00:00",
          "2022-07-07T00:00:00",
          "2022-07-14T00:00:00",
          "2022-07-21T00:00:00",
          "2022-07-28T00:00:00",
          "2022-08-04T00:00:00",
          "2022-08-11T00:00:00",
          "2022-08-18T00:00:00",
          "2022-08-25T00:00:00",
          "2022-09-01T00:00:00",
          "2022-09-08T00:00:00",
          "2022-09-15T00:00:00",
          "2022-09-22T00:00:00",
          "2022-09-29T00:00:00",
          "2022-10-06T00:00:00",
          "2022-10-13T00:00:00",
          "2022-10-20T00:00:00",
          "2022-10-27T00:00:00",
          "2022-11-03T00:00:00",
          "2022-11-10T00:00:00",
          "2022-11-17T00:00:00",
          "2022-11-24T00:00:00",
          "2022-12-01T00:00:00",
          "2022-12-08T00:00:00",
          "2022-12-15T00:00:00",
          "2022-12-22T00:00:00"
         ],
         "xaxis": "x",
         "y": [
          236646.2427,
          492336.7872,
          291885.3378,
          110500.832,
          58135.35929,
          0,
          1249048.561,
          0,
          378117.7641,
          444317.804,
          550687.6669,
          672355.5706,
          0,
          0,
          0,
          0,
          0,
          0,
          0,
          0,
          499135.7628,
          0,
          0,
          0,
          0,
          0,
          303139.8675,
          153854.3497,
          243951.4881,
          112164.7225,
          23902.89169,
          69072.41318,
          227642.9913,
          88138.22833,
          36993.0293,
          0,
          277551.7003,
          0,
          0,
          0,
          0,
          0,
          0,
          0,
          0,
          162299.3851,
          0,
          0,
          0,
          180727.5916,
          284976.8473,
          265050.9853,
          301408.2158,
          218530.8778,
          256861.7223,
          139829.3945,
          0,
          72715.47393,
          126854.7443,
          64966.5353,
          290712.3429,
          0,
          0,
          0,
          0,
          0,
          0,
          236810.9237,
          91712.75543,
          42688.11025,
          349257.019,
          273978.8672,
          194997.3499,
          160840.376,
          0,
          0,
          0,
          44835.17619,
          161690.215,
          34451.61837,
          0,
          107966.4738,
          62059.5932,
          142201.9099,
          159435.9367,
          251745.6202,
          0,
          158567.078,
          0,
          71346.54219,
          38710.50854,
          0,
          0,
          143852.8881,
          0,
          0,
          0,
          0,
          0,
          0,
          0,
          0,
          57115.94754,
          0,
          0,
          50576.76197,
          0,
          28999.04262,
          0,
          725726.3069,
          357216.6918,
          0,
          0,
          0,
          0,
          0,
          0
         ],
         "yaxis": "y"
        },
        {
         "hovertemplate": "variable=investment_banners<br>Date=%{x}<br>value=%{y}<extra></extra>",
         "legendgroup": "investment_banners",
         "line": {
          "color": "#ab63fa",
          "dash": "solid"
         },
         "marker": {
          "symbol": "circle"
         },
         "mode": "lines",
         "name": "investment_banners",
         "orientation": "v",
         "showlegend": true,
         "type": "scatter",
         "x": [
          "2020-10-01T00:00:00",
          "2020-10-08T00:00:00",
          "2020-10-15T00:00:00",
          "2020-10-22T00:00:00",
          "2020-10-29T00:00:00",
          "2020-11-05T00:00:00",
          "2020-11-12T00:00:00",
          "2020-11-19T00:00:00",
          "2020-11-26T00:00:00",
          "2020-12-03T00:00:00",
          "2020-12-10T00:00:00",
          "2020-12-17T00:00:00",
          "2020-12-24T00:00:00",
          "2020-12-31T00:00:00",
          "2021-01-07T00:00:00",
          "2021-01-14T00:00:00",
          "2021-01-21T00:00:00",
          "2021-01-28T00:00:00",
          "2021-02-04T00:00:00",
          "2021-02-11T00:00:00",
          "2021-02-18T00:00:00",
          "2021-02-25T00:00:00",
          "2021-03-04T00:00:00",
          "2021-03-11T00:00:00",
          "2021-03-18T00:00:00",
          "2021-03-25T00:00:00",
          "2021-04-01T00:00:00",
          "2021-04-08T00:00:00",
          "2021-04-15T00:00:00",
          "2021-04-22T00:00:00",
          "2021-04-29T00:00:00",
          "2021-05-06T00:00:00",
          "2021-05-13T00:00:00",
          "2021-05-20T00:00:00",
          "2021-05-27T00:00:00",
          "2021-06-03T00:00:00",
          "2021-06-10T00:00:00",
          "2021-06-17T00:00:00",
          "2021-06-24T00:00:00",
          "2021-07-01T00:00:00",
          "2021-07-08T00:00:00",
          "2021-07-15T00:00:00",
          "2021-07-22T00:00:00",
          "2021-07-29T00:00:00",
          "2021-08-05T00:00:00",
          "2021-08-12T00:00:00",
          "2021-08-19T00:00:00",
          "2021-08-26T00:00:00",
          "2021-09-02T00:00:00",
          "2021-09-09T00:00:00",
          "2021-09-16T00:00:00",
          "2021-09-23T00:00:00",
          "2021-09-30T00:00:00",
          "2021-10-07T00:00:00",
          "2021-10-14T00:00:00",
          "2021-10-21T00:00:00",
          "2021-10-28T00:00:00",
          "2021-11-04T00:00:00",
          "2021-11-11T00:00:00",
          "2021-11-18T00:00:00",
          "2021-11-25T00:00:00",
          "2021-12-02T00:00:00",
          "2021-12-09T00:00:00",
          "2021-12-16T00:00:00",
          "2021-12-23T00:00:00",
          "2021-12-30T00:00:00",
          "2022-01-06T00:00:00",
          "2022-01-13T00:00:00",
          "2022-01-20T00:00:00",
          "2022-01-27T00:00:00",
          "2022-02-03T00:00:00",
          "2022-02-10T00:00:00",
          "2022-02-17T00:00:00",
          "2022-02-24T00:00:00",
          "2022-03-03T00:00:00",
          "2022-03-10T00:00:00",
          "2022-03-17T00:00:00",
          "2022-03-24T00:00:00",
          "2022-03-31T00:00:00",
          "2022-04-07T00:00:00",
          "2022-04-14T00:00:00",
          "2022-04-21T00:00:00",
          "2022-04-28T00:00:00",
          "2022-05-05T00:00:00",
          "2022-05-12T00:00:00",
          "2022-05-19T00:00:00",
          "2022-05-26T00:00:00",
          "2022-06-02T00:00:00",
          "2022-06-09T00:00:00",
          "2022-06-16T00:00:00",
          "2022-06-23T00:00:00",
          "2022-06-30T00:00:00",
          "2022-07-07T00:00:00",
          "2022-07-14T00:00:00",
          "2022-07-21T00:00:00",
          "2022-07-28T00:00:00",
          "2022-08-04T00:00:00",
          "2022-08-11T00:00:00",
          "2022-08-18T00:00:00",
          "2022-08-25T00:00:00",
          "2022-09-01T00:00:00",
          "2022-09-08T00:00:00",
          "2022-09-15T00:00:00",
          "2022-09-22T00:00:00",
          "2022-09-29T00:00:00",
          "2022-10-06T00:00:00",
          "2022-10-13T00:00:00",
          "2022-10-20T00:00:00",
          "2022-10-27T00:00:00",
          "2022-11-03T00:00:00",
          "2022-11-10T00:00:00",
          "2022-11-17T00:00:00",
          "2022-11-24T00:00:00",
          "2022-12-01T00:00:00",
          "2022-12-08T00:00:00",
          "2022-12-15T00:00:00",
          "2022-12-22T00:00:00"
         ],
         "xaxis": "x",
         "y": [
          0,
          0,
          0,
          0,
          175435.8015,
          220840.6169,
          239476.239,
          241899.4319,
          63316.63137,
          0,
          0,
          0,
          0,
          0,
          0,
          0,
          0,
          0,
          0,
          0,
          0,
          0,
          0,
          0,
          0,
          0,
          0,
          0,
          0,
          0,
          0,
          0,
          0,
          0,
          28361.68514,
          67109.15511,
          66422.88681,
          65803.68532,
          43488.06029,
          46914.76455,
          52921.6192,
          52440.70687,
          47170.44273,
          8781.573789,
          11234.84188,
          11575.03139,
          10644.60222,
          3336.201163,
          0,
          0,
          0,
          0,
          0,
          0,
          0,
          0,
          51401.31073,
          92530.59459,
          98283.17731,
          86934.15668,
          43383.58765,
          0,
          0,
          0,
          0,
          0,
          0,
          0,
          0,
          100783.4313,
          254250.0243,
          244342.7851,
          265071.6909,
          155438.4866,
          0,
          0,
          0,
          0,
          168994.1815,
          177995.3288,
          185393.4322,
          178666.6989,
          318016.9063,
          422864.5443,
          497770.639,
          481549.3271,
          325526.9706,
          4970.709197,
          4844.098359,
          4400.916273,
          4938.799658,
          192640.5262,
          188851.8821,
          181956.8079,
          185912.0206,
          0,
          0,
          0,
          0,
          0,
          0,
          0,
          0,
          0,
          0,
          0,
          0,
          0,
          18683.312,
          48061.93196,
          49755.95372,
          46592.12064,
          26600.5635,
          0,
          0,
          0,
          0
         ],
         "yaxis": "y"
        },
        {
         "hovertemplate": "variable=investment_online<br>Date=%{x}<br>value=%{y}<extra></extra>",
         "legendgroup": "investment_online",
         "line": {
          "color": "#FFA15A",
          "dash": "solid"
         },
         "marker": {
          "symbol": "circle"
         },
         "mode": "lines",
         "name": "investment_online",
         "orientation": "v",
         "showlegend": true,
         "type": "scatter",
         "x": [
          "2020-10-01T00:00:00",
          "2020-10-08T00:00:00",
          "2020-10-15T00:00:00",
          "2020-10-22T00:00:00",
          "2020-10-29T00:00:00",
          "2020-11-05T00:00:00",
          "2020-11-12T00:00:00",
          "2020-11-19T00:00:00",
          "2020-11-26T00:00:00",
          "2020-12-03T00:00:00",
          "2020-12-10T00:00:00",
          "2020-12-17T00:00:00",
          "2020-12-24T00:00:00",
          "2020-12-31T00:00:00",
          "2021-01-07T00:00:00",
          "2021-01-14T00:00:00",
          "2021-01-21T00:00:00",
          "2021-01-28T00:00:00",
          "2021-02-04T00:00:00",
          "2021-02-11T00:00:00",
          "2021-02-18T00:00:00",
          "2021-02-25T00:00:00",
          "2021-03-04T00:00:00",
          "2021-03-11T00:00:00",
          "2021-03-18T00:00:00",
          "2021-03-25T00:00:00",
          "2021-04-01T00:00:00",
          "2021-04-08T00:00:00",
          "2021-04-15T00:00:00",
          "2021-04-22T00:00:00",
          "2021-04-29T00:00:00",
          "2021-05-06T00:00:00",
          "2021-05-13T00:00:00",
          "2021-05-20T00:00:00",
          "2021-05-27T00:00:00",
          "2021-06-03T00:00:00",
          "2021-06-10T00:00:00",
          "2021-06-17T00:00:00",
          "2021-06-24T00:00:00",
          "2021-07-01T00:00:00",
          "2021-07-08T00:00:00",
          "2021-07-15T00:00:00",
          "2021-07-22T00:00:00",
          "2021-07-29T00:00:00",
          "2021-08-05T00:00:00",
          "2021-08-12T00:00:00",
          "2021-08-19T00:00:00",
          "2021-08-26T00:00:00",
          "2021-09-02T00:00:00",
          "2021-09-09T00:00:00",
          "2021-09-16T00:00:00",
          "2021-09-23T00:00:00",
          "2021-09-30T00:00:00",
          "2021-10-07T00:00:00",
          "2021-10-14T00:00:00",
          "2021-10-21T00:00:00",
          "2021-10-28T00:00:00",
          "2021-11-04T00:00:00",
          "2021-11-11T00:00:00",
          "2021-11-18T00:00:00",
          "2021-11-25T00:00:00",
          "2021-12-02T00:00:00",
          "2021-12-09T00:00:00",
          "2021-12-16T00:00:00",
          "2021-12-23T00:00:00",
          "2021-12-30T00:00:00",
          "2022-01-06T00:00:00",
          "2022-01-13T00:00:00",
          "2022-01-20T00:00:00",
          "2022-01-27T00:00:00",
          "2022-02-03T00:00:00",
          "2022-02-10T00:00:00",
          "2022-02-17T00:00:00",
          "2022-02-24T00:00:00",
          "2022-03-03T00:00:00",
          "2022-03-10T00:00:00",
          "2022-03-17T00:00:00",
          "2022-03-24T00:00:00",
          "2022-03-31T00:00:00",
          "2022-04-07T00:00:00",
          "2022-04-14T00:00:00",
          "2022-04-21T00:00:00",
          "2022-04-28T00:00:00",
          "2022-05-05T00:00:00",
          "2022-05-12T00:00:00",
          "2022-05-19T00:00:00",
          "2022-05-26T00:00:00",
          "2022-06-02T00:00:00",
          "2022-06-09T00:00:00",
          "2022-06-16T00:00:00",
          "2022-06-23T00:00:00",
          "2022-06-30T00:00:00",
          "2022-07-07T00:00:00",
          "2022-07-14T00:00:00",
          "2022-07-21T00:00:00",
          "2022-07-28T00:00:00",
          "2022-08-04T00:00:00",
          "2022-08-11T00:00:00",
          "2022-08-18T00:00:00",
          "2022-08-25T00:00:00",
          "2022-09-01T00:00:00",
          "2022-09-08T00:00:00",
          "2022-09-15T00:00:00",
          "2022-09-22T00:00:00",
          "2022-09-29T00:00:00",
          "2022-10-06T00:00:00",
          "2022-10-13T00:00:00",
          "2022-10-20T00:00:00",
          "2022-10-27T00:00:00",
          "2022-11-03T00:00:00",
          "2022-11-10T00:00:00",
          "2022-11-17T00:00:00",
          "2022-11-24T00:00:00",
          "2022-12-01T00:00:00",
          "2022-12-08T00:00:00",
          "2022-12-15T00:00:00",
          "2022-12-22T00:00:00"
         ],
         "xaxis": "x",
         "y": [
          871248.6945,
          780996.4369,
          932173.8794,
          683081.4701,
          539848.5232,
          314046.129,
          481156.659,
          449257.56,
          446691.0842,
          411131.471,
          5529165.28,
          945844.3814,
          757751.2056,
          170547.9605,
          167263.5141,
          340983.7394,
          450174.4515,
          593395.4054,
          728319.3571,
          403532.6337,
          588922.9424,
          193111.3485,
          214495.9562,
          223179.5664,
          257537.7888,
          181569.9908,
          579019.5066,
          456749.5978,
          437308.122,
          321000.9976,
          523791.2065,
          435936.4649,
          480533.9203,
          479882.8501,
          310589.9145,
          164527.69,
          174671.6506,
          458966.6847,
          471343.8173,
          298555.019,
          227423.4332,
          148497.9571,
          126310.1185,
          137412.4517,
          160770.0392,
          170823.3119,
          184649.8123,
          468040.4839,
          556692.1812,
          630497.3252,
          601844.2744,
          343801.8919,
          635223.2007,
          684649.5635,
          607643.0691,
          1464205.083,
          579247.4981,
          488494.9663,
          709573.8776,
          646895.1962,
          446640.0111,
          205242.8358,
          127449.1192,
          366881.1615,
          349449.0372,
          185767.5858,
          165332.019,
          470422.9148,
          608896.1443,
          653162.4907,
          714840.6733,
          772694.5445,
          756812.2339,
          690230.1955,
          275758.8486,
          233318.0457,
          240896.9249,
          254998.5791,
          267056.9532,
          332805.5537,
          303108.672,
          298000.2972,
          301686.4242,
          873313.8193,
          460194.5405,
          655858.4941,
          383260.5149,
          417451.4336,
          520220.447,
          561984.2978,
          460882.3975,
          329325.1006,
          474354.6669,
          699375.3085,
          441293.6673,
          470154.6459,
          509050.6113,
          605619.1317,
          593397.5121,
          629059.86,
          695777.3379,
          906079.5971,
          811756.7312,
          710193.437,
          626507.9438,
          748571.0561,
          834123.7571,
          663960.7031,
          638327.6041,
          885524.668,
          1217559.104,
          1304332.29,
          2018774.05,
          995459.8993,
          1652220.279,
          994625.9973,
          703573.4561
         ],
         "yaxis": "y"
        }
       ],
       "layout": {
        "height": 600,
        "legend": {
         "title": {
          "text": "variable"
         },
         "tracegroupgap": 0
        },
        "template": {
         "data": {
          "bar": [
           {
            "error_x": {
             "color": "#2a3f5f"
            },
            "error_y": {
             "color": "#2a3f5f"
            },
            "marker": {
             "line": {
              "color": "#E5ECF6",
              "width": 0.5
             },
             "pattern": {
              "fillmode": "overlay",
              "size": 10,
              "solidity": 0.2
             }
            },
            "type": "bar"
           }
          ],
          "barpolar": [
           {
            "marker": {
             "line": {
              "color": "#E5ECF6",
              "width": 0.5
             },
             "pattern": {
              "fillmode": "overlay",
              "size": 10,
              "solidity": 0.2
             }
            },
            "type": "barpolar"
           }
          ],
          "carpet": [
           {
            "aaxis": {
             "endlinecolor": "#2a3f5f",
             "gridcolor": "white",
             "linecolor": "white",
             "minorgridcolor": "white",
             "startlinecolor": "#2a3f5f"
            },
            "baxis": {
             "endlinecolor": "#2a3f5f",
             "gridcolor": "white",
             "linecolor": "white",
             "minorgridcolor": "white",
             "startlinecolor": "#2a3f5f"
            },
            "type": "carpet"
           }
          ],
          "choropleth": [
           {
            "colorbar": {
             "outlinewidth": 0,
             "ticks": ""
            },
            "type": "choropleth"
           }
          ],
          "contour": [
           {
            "colorbar": {
             "outlinewidth": 0,
             "ticks": ""
            },
            "colorscale": [
             [
              0,
              "#0d0887"
             ],
             [
              0.1111111111111111,
              "#46039f"
             ],
             [
              0.2222222222222222,
              "#7201a8"
             ],
             [
              0.3333333333333333,
              "#9c179e"
             ],
             [
              0.4444444444444444,
              "#bd3786"
             ],
             [
              0.5555555555555556,
              "#d8576b"
             ],
             [
              0.6666666666666666,
              "#ed7953"
             ],
             [
              0.7777777777777778,
              "#fb9f3a"
             ],
             [
              0.8888888888888888,
              "#fdca26"
             ],
             [
              1,
              "#f0f921"
             ]
            ],
            "type": "contour"
           }
          ],
          "contourcarpet": [
           {
            "colorbar": {
             "outlinewidth": 0,
             "ticks": ""
            },
            "type": "contourcarpet"
           }
          ],
          "heatmap": [
           {
            "colorbar": {
             "outlinewidth": 0,
             "ticks": ""
            },
            "colorscale": [
             [
              0,
              "#0d0887"
             ],
             [
              0.1111111111111111,
              "#46039f"
             ],
             [
              0.2222222222222222,
              "#7201a8"
             ],
             [
              0.3333333333333333,
              "#9c179e"
             ],
             [
              0.4444444444444444,
              "#bd3786"
             ],
             [
              0.5555555555555556,
              "#d8576b"
             ],
             [
              0.6666666666666666,
              "#ed7953"
             ],
             [
              0.7777777777777778,
              "#fb9f3a"
             ],
             [
              0.8888888888888888,
              "#fdca26"
             ],
             [
              1,
              "#f0f921"
             ]
            ],
            "type": "heatmap"
           }
          ],
          "heatmapgl": [
           {
            "colorbar": {
             "outlinewidth": 0,
             "ticks": ""
            },
            "colorscale": [
             [
              0,
              "#0d0887"
             ],
             [
              0.1111111111111111,
              "#46039f"
             ],
             [
              0.2222222222222222,
              "#7201a8"
             ],
             [
              0.3333333333333333,
              "#9c179e"
             ],
             [
              0.4444444444444444,
              "#bd3786"
             ],
             [
              0.5555555555555556,
              "#d8576b"
             ],
             [
              0.6666666666666666,
              "#ed7953"
             ],
             [
              0.7777777777777778,
              "#fb9f3a"
             ],
             [
              0.8888888888888888,
              "#fdca26"
             ],
             [
              1,
              "#f0f921"
             ]
            ],
            "type": "heatmapgl"
           }
          ],
          "histogram": [
           {
            "marker": {
             "pattern": {
              "fillmode": "overlay",
              "size": 10,
              "solidity": 0.2
             }
            },
            "type": "histogram"
           }
          ],
          "histogram2d": [
           {
            "colorbar": {
             "outlinewidth": 0,
             "ticks": ""
            },
            "colorscale": [
             [
              0,
              "#0d0887"
             ],
             [
              0.1111111111111111,
              "#46039f"
             ],
             [
              0.2222222222222222,
              "#7201a8"
             ],
             [
              0.3333333333333333,
              "#9c179e"
             ],
             [
              0.4444444444444444,
              "#bd3786"
             ],
             [
              0.5555555555555556,
              "#d8576b"
             ],
             [
              0.6666666666666666,
              "#ed7953"
             ],
             [
              0.7777777777777778,
              "#fb9f3a"
             ],
             [
              0.8888888888888888,
              "#fdca26"
             ],
             [
              1,
              "#f0f921"
             ]
            ],
            "type": "histogram2d"
           }
          ],
          "histogram2dcontour": [
           {
            "colorbar": {
             "outlinewidth": 0,
             "ticks": ""
            },
            "colorscale": [
             [
              0,
              "#0d0887"
             ],
             [
              0.1111111111111111,
              "#46039f"
             ],
             [
              0.2222222222222222,
              "#7201a8"
             ],
             [
              0.3333333333333333,
              "#9c179e"
             ],
             [
              0.4444444444444444,
              "#bd3786"
             ],
             [
              0.5555555555555556,
              "#d8576b"
             ],
             [
              0.6666666666666666,
              "#ed7953"
             ],
             [
              0.7777777777777778,
              "#fb9f3a"
             ],
             [
              0.8888888888888888,
              "#fdca26"
             ],
             [
              1,
              "#f0f921"
             ]
            ],
            "type": "histogram2dcontour"
           }
          ],
          "mesh3d": [
           {
            "colorbar": {
             "outlinewidth": 0,
             "ticks": ""
            },
            "type": "mesh3d"
           }
          ],
          "parcoords": [
           {
            "line": {
             "colorbar": {
              "outlinewidth": 0,
              "ticks": ""
             }
            },
            "type": "parcoords"
           }
          ],
          "pie": [
           {
            "automargin": true,
            "type": "pie"
           }
          ],
          "scatter": [
           {
            "fillpattern": {
             "fillmode": "overlay",
             "size": 10,
             "solidity": 0.2
            },
            "type": "scatter"
           }
          ],
          "scatter3d": [
           {
            "line": {
             "colorbar": {
              "outlinewidth": 0,
              "ticks": ""
             }
            },
            "marker": {
             "colorbar": {
              "outlinewidth": 0,
              "ticks": ""
             }
            },
            "type": "scatter3d"
           }
          ],
          "scattercarpet": [
           {
            "marker": {
             "colorbar": {
              "outlinewidth": 0,
              "ticks": ""
             }
            },
            "type": "scattercarpet"
           }
          ],
          "scattergeo": [
           {
            "marker": {
             "colorbar": {
              "outlinewidth": 0,
              "ticks": ""
             }
            },
            "type": "scattergeo"
           }
          ],
          "scattergl": [
           {
            "marker": {
             "colorbar": {
              "outlinewidth": 0,
              "ticks": ""
             }
            },
            "type": "scattergl"
           }
          ],
          "scattermapbox": [
           {
            "marker": {
             "colorbar": {
              "outlinewidth": 0,
              "ticks": ""
             }
            },
            "type": "scattermapbox"
           }
          ],
          "scatterpolar": [
           {
            "marker": {
             "colorbar": {
              "outlinewidth": 0,
              "ticks": ""
             }
            },
            "type": "scatterpolar"
           }
          ],
          "scatterpolargl": [
           {
            "marker": {
             "colorbar": {
              "outlinewidth": 0,
              "ticks": ""
             }
            },
            "type": "scatterpolargl"
           }
          ],
          "scatterternary": [
           {
            "marker": {
             "colorbar": {
              "outlinewidth": 0,
              "ticks": ""
             }
            },
            "type": "scatterternary"
           }
          ],
          "surface": [
           {
            "colorbar": {
             "outlinewidth": 0,
             "ticks": ""
            },
            "colorscale": [
             [
              0,
              "#0d0887"
             ],
             [
              0.1111111111111111,
              "#46039f"
             ],
             [
              0.2222222222222222,
              "#7201a8"
             ],
             [
              0.3333333333333333,
              "#9c179e"
             ],
             [
              0.4444444444444444,
              "#bd3786"
             ],
             [
              0.5555555555555556,
              "#d8576b"
             ],
             [
              0.6666666666666666,
              "#ed7953"
             ],
             [
              0.7777777777777778,
              "#fb9f3a"
             ],
             [
              0.8888888888888888,
              "#fdca26"
             ],
             [
              1,
              "#f0f921"
             ]
            ],
            "type": "surface"
           }
          ],
          "table": [
           {
            "cells": {
             "fill": {
              "color": "#EBF0F8"
             },
             "line": {
              "color": "white"
             }
            },
            "header": {
             "fill": {
              "color": "#C8D4E3"
             },
             "line": {
              "color": "white"
             }
            },
            "type": "table"
           }
          ]
         },
         "layout": {
          "annotationdefaults": {
           "arrowcolor": "#2a3f5f",
           "arrowhead": 0,
           "arrowwidth": 1
          },
          "autotypenumbers": "strict",
          "coloraxis": {
           "colorbar": {
            "outlinewidth": 0,
            "ticks": ""
           }
          },
          "colorscale": {
           "diverging": [
            [
             0,
             "#8e0152"
            ],
            [
             0.1,
             "#c51b7d"
            ],
            [
             0.2,
             "#de77ae"
            ],
            [
             0.3,
             "#f1b6da"
            ],
            [
             0.4,
             "#fde0ef"
            ],
            [
             0.5,
             "#f7f7f7"
            ],
            [
             0.6,
             "#e6f5d0"
            ],
            [
             0.7,
             "#b8e186"
            ],
            [
             0.8,
             "#7fbc41"
            ],
            [
             0.9,
             "#4d9221"
            ],
            [
             1,
             "#276419"
            ]
           ],
           "sequential": [
            [
             0,
             "#0d0887"
            ],
            [
             0.1111111111111111,
             "#46039f"
            ],
            [
             0.2222222222222222,
             "#7201a8"
            ],
            [
             0.3333333333333333,
             "#9c179e"
            ],
            [
             0.4444444444444444,
             "#bd3786"
            ],
            [
             0.5555555555555556,
             "#d8576b"
            ],
            [
             0.6666666666666666,
             "#ed7953"
            ],
            [
             0.7777777777777778,
             "#fb9f3a"
            ],
            [
             0.8888888888888888,
             "#fdca26"
            ],
            [
             1,
             "#f0f921"
            ]
           ],
           "sequentialminus": [
            [
             0,
             "#0d0887"
            ],
            [
             0.1111111111111111,
             "#46039f"
            ],
            [
             0.2222222222222222,
             "#7201a8"
            ],
            [
             0.3333333333333333,
             "#9c179e"
            ],
            [
             0.4444444444444444,
             "#bd3786"
            ],
            [
             0.5555555555555556,
             "#d8576b"
            ],
            [
             0.6666666666666666,
             "#ed7953"
            ],
            [
             0.7777777777777778,
             "#fb9f3a"
            ],
            [
             0.8888888888888888,
             "#fdca26"
            ],
            [
             1,
             "#f0f921"
            ]
           ]
          },
          "colorway": [
           "#636efa",
           "#EF553B",
           "#00cc96",
           "#ab63fa",
           "#FFA15A",
           "#19d3f3",
           "#FF6692",
           "#B6E880",
           "#FF97FF",
           "#FECB52"
          ],
          "font": {
           "color": "#2a3f5f"
          },
          "geo": {
           "bgcolor": "white",
           "lakecolor": "white",
           "landcolor": "#E5ECF6",
           "showlakes": true,
           "showland": true,
           "subunitcolor": "white"
          },
          "hoverlabel": {
           "align": "left"
          },
          "hovermode": "closest",
          "mapbox": {
           "style": "light"
          },
          "paper_bgcolor": "white",
          "plot_bgcolor": "#E5ECF6",
          "polar": {
           "angularaxis": {
            "gridcolor": "white",
            "linecolor": "white",
            "ticks": ""
           },
           "bgcolor": "#E5ECF6",
           "radialaxis": {
            "gridcolor": "white",
            "linecolor": "white",
            "ticks": ""
           }
          },
          "scene": {
           "xaxis": {
            "backgroundcolor": "#E5ECF6",
            "gridcolor": "white",
            "gridwidth": 2,
            "linecolor": "white",
            "showbackground": true,
            "ticks": "",
            "zerolinecolor": "white"
           },
           "yaxis": {
            "backgroundcolor": "#E5ECF6",
            "gridcolor": "white",
            "gridwidth": 2,
            "linecolor": "white",
            "showbackground": true,
            "ticks": "",
            "zerolinecolor": "white"
           },
           "zaxis": {
            "backgroundcolor": "#E5ECF6",
            "gridcolor": "white",
            "gridwidth": 2,
            "linecolor": "white",
            "showbackground": true,
            "ticks": "",
            "zerolinecolor": "white"
           }
          },
          "shapedefaults": {
           "line": {
            "color": "#2a3f5f"
           }
          },
          "ternary": {
           "aaxis": {
            "gridcolor": "white",
            "linecolor": "white",
            "ticks": ""
           },
           "baxis": {
            "gridcolor": "white",
            "linecolor": "white",
            "ticks": ""
           },
           "bgcolor": "#E5ECF6",
           "caxis": {
            "gridcolor": "white",
            "linecolor": "white",
            "ticks": ""
           }
          },
          "title": {
           "x": 0.05
          },
          "xaxis": {
           "automargin": true,
           "gridcolor": "white",
           "linecolor": "white",
           "ticks": "",
           "title": {
            "standoff": 15
           },
           "zerolinecolor": "white",
           "zerolinewidth": 2
          },
          "yaxis": {
           "automargin": true,
           "gridcolor": "white",
           "linecolor": "white",
           "ticks": "",
           "title": {
            "standoff": 15
           },
           "zerolinecolor": "white",
           "zerolinewidth": 2
          }
         }
        },
        "title": {
         "text": "Kinds of investments"
        },
        "width": 1200,
        "xaxis": {
         "anchor": "y",
         "domain": [
          0,
          1
         ],
         "title": {
          "text": "date-weeks"
         }
        },
        "yaxis": {
         "anchor": "x",
         "domain": [
          0,
          1
         ],
         "title": {
          "text": "money [CZK]"
         }
        }
       }
      }
     },
     "metadata": {},
     "output_type": "display_data"
    }
   ],
   "source": [
    "line_plot_px(df = df_week, \n",
    "             title = 'Kinds of investments',\n",
    "             x_col_name = 'Date', \n",
    "             y_col_name = ['investment_tv', 'investment_radio', 'investment_press', 'investment_banners', 'investment_online'],\n",
    "             x_label = 'date-weeks', \n",
    "             y_label = 'money [CZK]'\n",
    "             )"
   ]
  },
  {
   "cell_type": "code",
   "execution_count": 1164,
   "metadata": {},
   "outputs": [
    {
     "data": {
      "application/vnd.plotly.v1+json": {
       "config": {
        "plotlyServerURL": "https://plot.ly"
       },
       "data": [
        {
         "hovertemplate": "investment_tv=%{x}<br>sales=%{y}<extra></extra>",
         "legendgroup": "",
         "marker": {
          "color": "#636efa",
          "symbol": "circle"
         },
         "mode": "markers",
         "name": "",
         "orientation": "v",
         "showlegend": false,
         "type": "scatter",
         "x": [
          981309.627,
          1204435.829,
          1321570.322,
          215521.5178,
          97991.92004,
          0,
          0,
          0,
          0,
          0,
          0,
          0,
          0,
          0,
          0,
          0,
          0,
          0,
          0,
          0,
          0,
          0,
          0,
          0,
          0,
          387986.7551,
          1493415.256,
          1084995.338,
          909321.5316,
          1124232.259,
          362813.4732,
          47406.04863,
          51280.04919,
          0,
          0,
          0,
          0,
          0,
          0,
          0,
          0,
          0,
          0,
          0,
          0,
          0,
          0,
          727834.101,
          1783205.154,
          1139632.84,
          1524044.605,
          799342.4994,
          1682075.745,
          1275537.812,
          1786852.632,
          2260.241031,
          0,
          0,
          0,
          0,
          0,
          0,
          0,
          0,
          0,
          0,
          0,
          0,
          0,
          0,
          0,
          0,
          0,
          0,
          1007208.615,
          760360.6975,
          817390.037,
          797604.119,
          0,
          0,
          0,
          0,
          1271722.042,
          1502400.901,
          1272281.835,
          1459403.516,
          1429413.112,
          43307.89124,
          54806.92878,
          43864.86469,
          32515.33221,
          32343.83701,
          30568.75812,
          13238.76439,
          0,
          0,
          0,
          719993.2494,
          620988.1199,
          911306.0749,
          1234314.774,
          1059859.397,
          1156686.571,
          1231744.989,
          0,
          0,
          0,
          0,
          0,
          0,
          0,
          0,
          0,
          0,
          0,
          0,
          1421815.694
         ],
         "xaxis": "x",
         "y": [
          28225189.15,
          33173110.86,
          30504393.42,
          30335675.45,
          25670890.36,
          26824918.57,
          26653974.71,
          26257305.38,
          24839121.5,
          26305326.78,
          28966252.69,
          25349735.4,
          22095166.29,
          22082960.78,
          24236775.52,
          23753677.15,
          26521716.87,
          25668923.49,
          24477684.09,
          25907335.9,
          25558956.59,
          22720145.3,
          25895859.89,
          22828392.69,
          24620026.48,
          21808258.95,
          26082514.6,
          27840619.92,
          29047308.36,
          26686465.62,
          27926273.77,
          24886218.95,
          27333117.98,
          25688613.22,
          25517329.85,
          25194532.49,
          25559263.97,
          23337014.37,
          25498230.27,
          25947190.7,
          24566472.07,
          23481982.48,
          24264460.59,
          26797927.92,
          25559603.98,
          23698202.71,
          23875610.46,
          25915912.55,
          27372598.24,
          28275902.88,
          28290532.32,
          28369905.64,
          27209320.3,
          29896487.48,
          29020978.18,
          26761749.57,
          25009863.85,
          24717214.64,
          25055794.41,
          25493087.64,
          22867670.63,
          21112909.3,
          19178161.63,
          24377121.68,
          17154295.98,
          20438235.45,
          21059248.16,
          23142620.41,
          24761991.42,
          22149384.78,
          23904600.85,
          25134359.05,
          26033152.6,
          25053870.71,
          22414756.08,
          22951143.07,
          22756744.17,
          20623698.37,
          22638909.43,
          22502096.31,
          23600997.03,
          23300279.22,
          22258357.23,
          24016963.91,
          25764926.7,
          28103233.79,
          26932970.4,
          27820630.92,
          25261623.9,
          22298625.16,
          25224595.85,
          21882421.65,
          23116602.73,
          25312063.91,
          23778017.42,
          23501393.22,
          23198362.15,
          23089258.81,
          23528118.98,
          24494584.45,
          23353596.53,
          23766081.06,
          28174833.5,
          25765629.14,
          22657372.33,
          24649339.11,
          24512053.49,
          25106030.61,
          20662177.73,
          23030454.16,
          23001408.35,
          23687667.85,
          23974410.26,
          20884279.92,
          21475590.81,
          23863407.52,
          15043045.07
         ],
         "yaxis": "y"
        },
        {
         "hovertemplate": "<b>OLS trendline</b><br>sales = 1.57394 * investment_tv + 2.41926e+07<br>R<sup>2</sup>=0.106417<br><br>investment_tv=%{x}<br>sales=%{y} <b>(trend)</b><extra></extra>",
         "legendgroup": "",
         "marker": {
          "color": "#636efa",
          "symbol": "circle"
         },
         "mode": "lines",
         "name": "",
         "showlegend": false,
         "type": "scatter",
         "x": [
          0,
          0,
          0,
          0,
          0,
          0,
          0,
          0,
          0,
          0,
          0,
          0,
          0,
          0,
          0,
          0,
          0,
          0,
          0,
          0,
          0,
          0,
          0,
          0,
          0,
          0,
          0,
          0,
          0,
          0,
          0,
          0,
          0,
          0,
          0,
          0,
          0,
          0,
          0,
          0,
          0,
          0,
          0,
          0,
          0,
          0,
          0,
          0,
          0,
          0,
          0,
          0,
          0,
          0,
          0,
          0,
          0,
          0,
          0,
          0,
          0,
          0,
          0,
          0,
          0,
          0,
          0,
          0,
          0,
          0,
          0,
          2260.241031,
          13238.76439,
          30568.75812,
          32343.83701,
          32515.33221,
          43307.89124,
          43864.86469,
          47406.04863,
          51280.04919,
          54806.92878,
          97991.92004,
          215521.5178,
          362813.4732,
          387986.7551,
          620988.1199,
          719993.2494,
          727834.101,
          760360.6975,
          797604.119,
          799342.4994,
          817390.037,
          909321.5316,
          911306.0749,
          981309.627,
          1007208.615,
          1059859.397,
          1084995.338,
          1124232.259,
          1139632.84,
          1156686.571,
          1204435.829,
          1231744.989,
          1234314.774,
          1271722.042,
          1272281.835,
          1275537.812,
          1321570.322,
          1421815.694,
          1429413.112,
          1459403.516,
          1493415.256,
          1502400.901,
          1524044.605,
          1682075.745,
          1783205.154,
          1786852.632
         ],
         "xaxis": "x",
         "y": [
          24192612.373121925,
          24192612.373121925,
          24192612.373121925,
          24192612.373121925,
          24192612.373121925,
          24192612.373121925,
          24192612.373121925,
          24192612.373121925,
          24192612.373121925,
          24192612.373121925,
          24192612.373121925,
          24192612.373121925,
          24192612.373121925,
          24192612.373121925,
          24192612.373121925,
          24192612.373121925,
          24192612.373121925,
          24192612.373121925,
          24192612.373121925,
          24192612.373121925,
          24192612.373121925,
          24192612.373121925,
          24192612.373121925,
          24192612.373121925,
          24192612.373121925,
          24192612.373121925,
          24192612.373121925,
          24192612.373121925,
          24192612.373121925,
          24192612.373121925,
          24192612.373121925,
          24192612.373121925,
          24192612.373121925,
          24192612.373121925,
          24192612.373121925,
          24192612.373121925,
          24192612.373121925,
          24192612.373121925,
          24192612.373121925,
          24192612.373121925,
          24192612.373121925,
          24192612.373121925,
          24192612.373121925,
          24192612.373121925,
          24192612.373121925,
          24192612.373121925,
          24192612.373121925,
          24192612.373121925,
          24192612.373121925,
          24192612.373121925,
          24192612.373121925,
          24192612.373121925,
          24192612.373121925,
          24192612.373121925,
          24192612.373121925,
          24192612.373121925,
          24192612.373121925,
          24192612.373121925,
          24192612.373121925,
          24192612.373121925,
          24192612.373121925,
          24192612.373121925,
          24192612.373121925,
          24192612.373121925,
          24192612.373121925,
          24192612.373121925,
          24192612.373121925,
          24192612.373121925,
          24192612.373121925,
          24192612.373121925,
          24192612.373121925,
          24196169.86522171,
          24213449.44274519,
          24240725.876956493,
          24243519.75116772,
          24243789.67495495,
          24260776.55509697,
          24261653.199941915,
          24267226.824045558,
          24273324.28276688,
          24278875.392629154,
          24346846.13695666,
          24531831.105279632,
          24763660.348493222,
          24803281.676597875,
          25170012.70357504,
          25325841.20204203,
          25338182.260911413,
          25389377.292102564,
          25447996.340220854,
          25450732.453075454,
          25479138.260930434,
          25623833.256408863,
          25626956.81580567,
          25737138.464637294,
          25777902.013276,
          25860771.379172567,
          25900333.93480343,
          25962090.63887297,
          25986330.286100026,
          26013171.898331743,
          26088326.541476298,
          26131309.621430703,
          26135354.31830606,
          26194231.251588512,
          26195112.33424638,
          26200237.05868758,
          26272689.637156926,
          26430470.207476005,
          26442428.115567688,
          26489631.32258676,
          26543163.886012673,
          26557306.78522586,
          26591372.75648025,
          26840104.871488757,
          26999276.866262257,
          27005017.791230507
         ],
         "yaxis": "y"
        }
       ],
       "layout": {
        "height": 600,
        "legend": {
         "tracegroupgap": 0
        },
        "template": {
         "data": {
          "bar": [
           {
            "error_x": {
             "color": "#2a3f5f"
            },
            "error_y": {
             "color": "#2a3f5f"
            },
            "marker": {
             "line": {
              "color": "#E5ECF6",
              "width": 0.5
             },
             "pattern": {
              "fillmode": "overlay",
              "size": 10,
              "solidity": 0.2
             }
            },
            "type": "bar"
           }
          ],
          "barpolar": [
           {
            "marker": {
             "line": {
              "color": "#E5ECF6",
              "width": 0.5
             },
             "pattern": {
              "fillmode": "overlay",
              "size": 10,
              "solidity": 0.2
             }
            },
            "type": "barpolar"
           }
          ],
          "carpet": [
           {
            "aaxis": {
             "endlinecolor": "#2a3f5f",
             "gridcolor": "white",
             "linecolor": "white",
             "minorgridcolor": "white",
             "startlinecolor": "#2a3f5f"
            },
            "baxis": {
             "endlinecolor": "#2a3f5f",
             "gridcolor": "white",
             "linecolor": "white",
             "minorgridcolor": "white",
             "startlinecolor": "#2a3f5f"
            },
            "type": "carpet"
           }
          ],
          "choropleth": [
           {
            "colorbar": {
             "outlinewidth": 0,
             "ticks": ""
            },
            "type": "choropleth"
           }
          ],
          "contour": [
           {
            "colorbar": {
             "outlinewidth": 0,
             "ticks": ""
            },
            "colorscale": [
             [
              0,
              "#0d0887"
             ],
             [
              0.1111111111111111,
              "#46039f"
             ],
             [
              0.2222222222222222,
              "#7201a8"
             ],
             [
              0.3333333333333333,
              "#9c179e"
             ],
             [
              0.4444444444444444,
              "#bd3786"
             ],
             [
              0.5555555555555556,
              "#d8576b"
             ],
             [
              0.6666666666666666,
              "#ed7953"
             ],
             [
              0.7777777777777778,
              "#fb9f3a"
             ],
             [
              0.8888888888888888,
              "#fdca26"
             ],
             [
              1,
              "#f0f921"
             ]
            ],
            "type": "contour"
           }
          ],
          "contourcarpet": [
           {
            "colorbar": {
             "outlinewidth": 0,
             "ticks": ""
            },
            "type": "contourcarpet"
           }
          ],
          "heatmap": [
           {
            "colorbar": {
             "outlinewidth": 0,
             "ticks": ""
            },
            "colorscale": [
             [
              0,
              "#0d0887"
             ],
             [
              0.1111111111111111,
              "#46039f"
             ],
             [
              0.2222222222222222,
              "#7201a8"
             ],
             [
              0.3333333333333333,
              "#9c179e"
             ],
             [
              0.4444444444444444,
              "#bd3786"
             ],
             [
              0.5555555555555556,
              "#d8576b"
             ],
             [
              0.6666666666666666,
              "#ed7953"
             ],
             [
              0.7777777777777778,
              "#fb9f3a"
             ],
             [
              0.8888888888888888,
              "#fdca26"
             ],
             [
              1,
              "#f0f921"
             ]
            ],
            "type": "heatmap"
           }
          ],
          "heatmapgl": [
           {
            "colorbar": {
             "outlinewidth": 0,
             "ticks": ""
            },
            "colorscale": [
             [
              0,
              "#0d0887"
             ],
             [
              0.1111111111111111,
              "#46039f"
             ],
             [
              0.2222222222222222,
              "#7201a8"
             ],
             [
              0.3333333333333333,
              "#9c179e"
             ],
             [
              0.4444444444444444,
              "#bd3786"
             ],
             [
              0.5555555555555556,
              "#d8576b"
             ],
             [
              0.6666666666666666,
              "#ed7953"
             ],
             [
              0.7777777777777778,
              "#fb9f3a"
             ],
             [
              0.8888888888888888,
              "#fdca26"
             ],
             [
              1,
              "#f0f921"
             ]
            ],
            "type": "heatmapgl"
           }
          ],
          "histogram": [
           {
            "marker": {
             "pattern": {
              "fillmode": "overlay",
              "size": 10,
              "solidity": 0.2
             }
            },
            "type": "histogram"
           }
          ],
          "histogram2d": [
           {
            "colorbar": {
             "outlinewidth": 0,
             "ticks": ""
            },
            "colorscale": [
             [
              0,
              "#0d0887"
             ],
             [
              0.1111111111111111,
              "#46039f"
             ],
             [
              0.2222222222222222,
              "#7201a8"
             ],
             [
              0.3333333333333333,
              "#9c179e"
             ],
             [
              0.4444444444444444,
              "#bd3786"
             ],
             [
              0.5555555555555556,
              "#d8576b"
             ],
             [
              0.6666666666666666,
              "#ed7953"
             ],
             [
              0.7777777777777778,
              "#fb9f3a"
             ],
             [
              0.8888888888888888,
              "#fdca26"
             ],
             [
              1,
              "#f0f921"
             ]
            ],
            "type": "histogram2d"
           }
          ],
          "histogram2dcontour": [
           {
            "colorbar": {
             "outlinewidth": 0,
             "ticks": ""
            },
            "colorscale": [
             [
              0,
              "#0d0887"
             ],
             [
              0.1111111111111111,
              "#46039f"
             ],
             [
              0.2222222222222222,
              "#7201a8"
             ],
             [
              0.3333333333333333,
              "#9c179e"
             ],
             [
              0.4444444444444444,
              "#bd3786"
             ],
             [
              0.5555555555555556,
              "#d8576b"
             ],
             [
              0.6666666666666666,
              "#ed7953"
             ],
             [
              0.7777777777777778,
              "#fb9f3a"
             ],
             [
              0.8888888888888888,
              "#fdca26"
             ],
             [
              1,
              "#f0f921"
             ]
            ],
            "type": "histogram2dcontour"
           }
          ],
          "mesh3d": [
           {
            "colorbar": {
             "outlinewidth": 0,
             "ticks": ""
            },
            "type": "mesh3d"
           }
          ],
          "parcoords": [
           {
            "line": {
             "colorbar": {
              "outlinewidth": 0,
              "ticks": ""
             }
            },
            "type": "parcoords"
           }
          ],
          "pie": [
           {
            "automargin": true,
            "type": "pie"
           }
          ],
          "scatter": [
           {
            "fillpattern": {
             "fillmode": "overlay",
             "size": 10,
             "solidity": 0.2
            },
            "type": "scatter"
           }
          ],
          "scatter3d": [
           {
            "line": {
             "colorbar": {
              "outlinewidth": 0,
              "ticks": ""
             }
            },
            "marker": {
             "colorbar": {
              "outlinewidth": 0,
              "ticks": ""
             }
            },
            "type": "scatter3d"
           }
          ],
          "scattercarpet": [
           {
            "marker": {
             "colorbar": {
              "outlinewidth": 0,
              "ticks": ""
             }
            },
            "type": "scattercarpet"
           }
          ],
          "scattergeo": [
           {
            "marker": {
             "colorbar": {
              "outlinewidth": 0,
              "ticks": ""
             }
            },
            "type": "scattergeo"
           }
          ],
          "scattergl": [
           {
            "marker": {
             "colorbar": {
              "outlinewidth": 0,
              "ticks": ""
             }
            },
            "type": "scattergl"
           }
          ],
          "scattermapbox": [
           {
            "marker": {
             "colorbar": {
              "outlinewidth": 0,
              "ticks": ""
             }
            },
            "type": "scattermapbox"
           }
          ],
          "scatterpolar": [
           {
            "marker": {
             "colorbar": {
              "outlinewidth": 0,
              "ticks": ""
             }
            },
            "type": "scatterpolar"
           }
          ],
          "scatterpolargl": [
           {
            "marker": {
             "colorbar": {
              "outlinewidth": 0,
              "ticks": ""
             }
            },
            "type": "scatterpolargl"
           }
          ],
          "scatterternary": [
           {
            "marker": {
             "colorbar": {
              "outlinewidth": 0,
              "ticks": ""
             }
            },
            "type": "scatterternary"
           }
          ],
          "surface": [
           {
            "colorbar": {
             "outlinewidth": 0,
             "ticks": ""
            },
            "colorscale": [
             [
              0,
              "#0d0887"
             ],
             [
              0.1111111111111111,
              "#46039f"
             ],
             [
              0.2222222222222222,
              "#7201a8"
             ],
             [
              0.3333333333333333,
              "#9c179e"
             ],
             [
              0.4444444444444444,
              "#bd3786"
             ],
             [
              0.5555555555555556,
              "#d8576b"
             ],
             [
              0.6666666666666666,
              "#ed7953"
             ],
             [
              0.7777777777777778,
              "#fb9f3a"
             ],
             [
              0.8888888888888888,
              "#fdca26"
             ],
             [
              1,
              "#f0f921"
             ]
            ],
            "type": "surface"
           }
          ],
          "table": [
           {
            "cells": {
             "fill": {
              "color": "#EBF0F8"
             },
             "line": {
              "color": "white"
             }
            },
            "header": {
             "fill": {
              "color": "#C8D4E3"
             },
             "line": {
              "color": "white"
             }
            },
            "type": "table"
           }
          ]
         },
         "layout": {
          "annotationdefaults": {
           "arrowcolor": "#2a3f5f",
           "arrowhead": 0,
           "arrowwidth": 1
          },
          "autotypenumbers": "strict",
          "coloraxis": {
           "colorbar": {
            "outlinewidth": 0,
            "ticks": ""
           }
          },
          "colorscale": {
           "diverging": [
            [
             0,
             "#8e0152"
            ],
            [
             0.1,
             "#c51b7d"
            ],
            [
             0.2,
             "#de77ae"
            ],
            [
             0.3,
             "#f1b6da"
            ],
            [
             0.4,
             "#fde0ef"
            ],
            [
             0.5,
             "#f7f7f7"
            ],
            [
             0.6,
             "#e6f5d0"
            ],
            [
             0.7,
             "#b8e186"
            ],
            [
             0.8,
             "#7fbc41"
            ],
            [
             0.9,
             "#4d9221"
            ],
            [
             1,
             "#276419"
            ]
           ],
           "sequential": [
            [
             0,
             "#0d0887"
            ],
            [
             0.1111111111111111,
             "#46039f"
            ],
            [
             0.2222222222222222,
             "#7201a8"
            ],
            [
             0.3333333333333333,
             "#9c179e"
            ],
            [
             0.4444444444444444,
             "#bd3786"
            ],
            [
             0.5555555555555556,
             "#d8576b"
            ],
            [
             0.6666666666666666,
             "#ed7953"
            ],
            [
             0.7777777777777778,
             "#fb9f3a"
            ],
            [
             0.8888888888888888,
             "#fdca26"
            ],
            [
             1,
             "#f0f921"
            ]
           ],
           "sequentialminus": [
            [
             0,
             "#0d0887"
            ],
            [
             0.1111111111111111,
             "#46039f"
            ],
            [
             0.2222222222222222,
             "#7201a8"
            ],
            [
             0.3333333333333333,
             "#9c179e"
            ],
            [
             0.4444444444444444,
             "#bd3786"
            ],
            [
             0.5555555555555556,
             "#d8576b"
            ],
            [
             0.6666666666666666,
             "#ed7953"
            ],
            [
             0.7777777777777778,
             "#fb9f3a"
            ],
            [
             0.8888888888888888,
             "#fdca26"
            ],
            [
             1,
             "#f0f921"
            ]
           ]
          },
          "colorway": [
           "#636efa",
           "#EF553B",
           "#00cc96",
           "#ab63fa",
           "#FFA15A",
           "#19d3f3",
           "#FF6692",
           "#B6E880",
           "#FF97FF",
           "#FECB52"
          ],
          "font": {
           "color": "#2a3f5f"
          },
          "geo": {
           "bgcolor": "white",
           "lakecolor": "white",
           "landcolor": "#E5ECF6",
           "showlakes": true,
           "showland": true,
           "subunitcolor": "white"
          },
          "hoverlabel": {
           "align": "left"
          },
          "hovermode": "closest",
          "mapbox": {
           "style": "light"
          },
          "paper_bgcolor": "white",
          "plot_bgcolor": "#E5ECF6",
          "polar": {
           "angularaxis": {
            "gridcolor": "white",
            "linecolor": "white",
            "ticks": ""
           },
           "bgcolor": "#E5ECF6",
           "radialaxis": {
            "gridcolor": "white",
            "linecolor": "white",
            "ticks": ""
           }
          },
          "scene": {
           "xaxis": {
            "backgroundcolor": "#E5ECF6",
            "gridcolor": "white",
            "gridwidth": 2,
            "linecolor": "white",
            "showbackground": true,
            "ticks": "",
            "zerolinecolor": "white"
           },
           "yaxis": {
            "backgroundcolor": "#E5ECF6",
            "gridcolor": "white",
            "gridwidth": 2,
            "linecolor": "white",
            "showbackground": true,
            "ticks": "",
            "zerolinecolor": "white"
           },
           "zaxis": {
            "backgroundcolor": "#E5ECF6",
            "gridcolor": "white",
            "gridwidth": 2,
            "linecolor": "white",
            "showbackground": true,
            "ticks": "",
            "zerolinecolor": "white"
           }
          },
          "shapedefaults": {
           "line": {
            "color": "#2a3f5f"
           }
          },
          "ternary": {
           "aaxis": {
            "gridcolor": "white",
            "linecolor": "white",
            "ticks": ""
           },
           "baxis": {
            "gridcolor": "white",
            "linecolor": "white",
            "ticks": ""
           },
           "bgcolor": "#E5ECF6",
           "caxis": {
            "gridcolor": "white",
            "linecolor": "white",
            "ticks": ""
           }
          },
          "title": {
           "x": 0.05
          },
          "xaxis": {
           "automargin": true,
           "gridcolor": "white",
           "linecolor": "white",
           "ticks": "",
           "title": {
            "standoff": 15
           },
           "zerolinecolor": "white",
           "zerolinewidth": 2
          },
          "yaxis": {
           "automargin": true,
           "gridcolor": "white",
           "linecolor": "white",
           "ticks": "",
           "title": {
            "standoff": 15
           },
           "zerolinecolor": "white",
           "zerolinewidth": 2
          }
         }
        },
        "title": {
         "text": "Sales vs investment_tv"
        },
        "width": 1200,
        "xaxis": {
         "anchor": "y",
         "domain": [
          0,
          1
         ],
         "title": {
          "text": "investment_tv"
         }
        },
        "yaxis": {
         "anchor": "x",
         "domain": [
          0,
          1
         ],
         "title": {
          "text": "sales"
         }
        }
       }
      }
     },
     "metadata": {},
     "output_type": "display_data"
    }
   ],
   "source": [
    "fig = px.scatter(df_week, \n",
    "                 x='investment_tv', \n",
    "                 y='sales', \n",
    "                 height=600, \n",
    "                 width=1200,\n",
    "                 title='Sales vs investment_tv',\n",
    "                 trendline='ols',\n",
    "                 )\n",
    "fig.show()"
   ]
  },
  {
   "cell_type": "code",
   "execution_count": 1165,
   "metadata": {},
   "outputs": [
    {
     "data": {
      "application/vnd.plotly.v1+json": {
       "config": {
        "plotlyServerURL": "https://plot.ly"
       },
       "data": [
        {
         "hovertemplate": "investment_online=%{x}<br>sales=%{y}<extra></extra>",
         "legendgroup": "",
         "marker": {
          "color": "#636efa",
          "symbol": "circle"
         },
         "mode": "markers",
         "name": "",
         "orientation": "v",
         "showlegend": false,
         "type": "scatter",
         "x": [
          871248.6945,
          780996.4369,
          932173.8794,
          683081.4701,
          539848.5232,
          314046.129,
          481156.659,
          449257.56,
          446691.0842,
          411131.471,
          5529165.28,
          945844.3814,
          757751.2056,
          170547.9605,
          167263.5141,
          340983.7394,
          450174.4515,
          593395.4054,
          728319.3571,
          403532.6337,
          588922.9424,
          193111.3485,
          214495.9562,
          223179.5664,
          257537.7888,
          181569.9908,
          579019.5066,
          456749.5978,
          437308.122,
          321000.9976,
          523791.2065,
          435936.4649,
          480533.9203,
          479882.8501,
          310589.9145,
          164527.69,
          174671.6506,
          458966.6847,
          471343.8173,
          298555.019,
          227423.4332,
          148497.9571,
          126310.1185,
          137412.4517,
          160770.0392,
          170823.3119,
          184649.8123,
          468040.4839,
          556692.1812,
          630497.3252,
          601844.2744,
          343801.8919,
          635223.2007,
          684649.5635,
          607643.0691,
          1464205.083,
          579247.4981,
          488494.9663,
          709573.8776,
          646895.1962,
          446640.0111,
          205242.8358,
          127449.1192,
          366881.1615,
          349449.0372,
          185767.5858,
          165332.019,
          470422.9148,
          608896.1443,
          653162.4907,
          714840.6733,
          772694.5445,
          756812.2339,
          690230.1955,
          275758.8486,
          233318.0457,
          240896.9249,
          254998.5791,
          267056.9532,
          332805.5537,
          303108.672,
          298000.2972,
          301686.4242,
          873313.8193,
          460194.5405,
          655858.4941,
          383260.5149,
          417451.4336,
          520220.447,
          561984.2978,
          460882.3975,
          329325.1006,
          474354.6669,
          699375.3085,
          441293.6673,
          470154.6459,
          509050.6113,
          605619.1317,
          593397.5121,
          629059.86,
          695777.3379,
          906079.5971,
          811756.7312,
          710193.437,
          626507.9438,
          748571.0561,
          834123.7571,
          663960.7031,
          638327.6041,
          885524.668,
          1217559.104,
          1304332.29,
          2018774.05,
          995459.8993,
          1652220.279,
          994625.9973,
          703573.4561
         ],
         "xaxis": "x",
         "y": [
          28225189.15,
          33173110.86,
          30504393.42,
          30335675.45,
          25670890.36,
          26824918.57,
          26653974.71,
          26257305.38,
          24839121.5,
          26305326.78,
          28966252.69,
          25349735.4,
          22095166.29,
          22082960.78,
          24236775.52,
          23753677.15,
          26521716.87,
          25668923.49,
          24477684.09,
          25907335.9,
          25558956.59,
          22720145.3,
          25895859.89,
          22828392.69,
          24620026.48,
          21808258.95,
          26082514.6,
          27840619.92,
          29047308.36,
          26686465.62,
          27926273.77,
          24886218.95,
          27333117.98,
          25688613.22,
          25517329.85,
          25194532.49,
          25559263.97,
          23337014.37,
          25498230.27,
          25947190.7,
          24566472.07,
          23481982.48,
          24264460.59,
          26797927.92,
          25559603.98,
          23698202.71,
          23875610.46,
          25915912.55,
          27372598.24,
          28275902.88,
          28290532.32,
          28369905.64,
          27209320.3,
          29896487.48,
          29020978.18,
          26761749.57,
          25009863.85,
          24717214.64,
          25055794.41,
          25493087.64,
          22867670.63,
          21112909.3,
          19178161.63,
          24377121.68,
          17154295.98,
          20438235.45,
          21059248.16,
          23142620.41,
          24761991.42,
          22149384.78,
          23904600.85,
          25134359.05,
          26033152.6,
          25053870.71,
          22414756.08,
          22951143.07,
          22756744.17,
          20623698.37,
          22638909.43,
          22502096.31,
          23600997.03,
          23300279.22,
          22258357.23,
          24016963.91,
          25764926.7,
          28103233.79,
          26932970.4,
          27820630.92,
          25261623.9,
          22298625.16,
          25224595.85,
          21882421.65,
          23116602.73,
          25312063.91,
          23778017.42,
          23501393.22,
          23198362.15,
          23089258.81,
          23528118.98,
          24494584.45,
          23353596.53,
          23766081.06,
          28174833.5,
          25765629.14,
          22657372.33,
          24649339.11,
          24512053.49,
          25106030.61,
          20662177.73,
          23030454.16,
          23001408.35,
          23687667.85,
          23974410.26,
          20884279.92,
          21475590.81,
          23863407.52,
          15043045.07
         ],
         "yaxis": "y"
        },
        {
         "hovertemplate": "<b>OLS trendline</b><br>sales = 0.909953 * investment_online + 2.41926e+07<br>R<sup>2</sup>=0.037035<br><br>investment_online=%{x}<br>sales=%{y} <b>(trend)</b><extra></extra>",
         "legendgroup": "",
         "marker": {
          "color": "#636efa",
          "symbol": "circle"
         },
         "mode": "lines",
         "name": "",
         "showlegend": false,
         "type": "scatter",
         "x": [
          126310.1185,
          127449.1192,
          137412.4517,
          148497.9571,
          160770.0392,
          164527.69,
          165332.019,
          167263.5141,
          170547.9605,
          170823.3119,
          174671.6506,
          181569.9908,
          184649.8123,
          185767.5858,
          193111.3485,
          205242.8358,
          214495.9562,
          223179.5664,
          227423.4332,
          233318.0457,
          240896.9249,
          254998.5791,
          257537.7888,
          267056.9532,
          275758.8486,
          298000.2972,
          298555.019,
          301686.4242,
          303108.672,
          310589.9145,
          314046.129,
          321000.9976,
          329325.1006,
          332805.5537,
          340983.7394,
          343801.8919,
          349449.0372,
          366881.1615,
          383260.5149,
          403532.6337,
          411131.471,
          417451.4336,
          435936.4649,
          437308.122,
          441293.6673,
          446640.0111,
          446691.0842,
          449257.56,
          450174.4515,
          456749.5978,
          458966.6847,
          460194.5405,
          460882.3975,
          468040.4839,
          470154.6459,
          470422.9148,
          471343.8173,
          474354.6669,
          479882.8501,
          480533.9203,
          481156.659,
          488494.9663,
          509050.6113,
          520220.447,
          523791.2065,
          539848.5232,
          556692.1812,
          561984.2978,
          579019.5066,
          579247.4981,
          588922.9424,
          593395.4054,
          593397.5121,
          601844.2744,
          605619.1317,
          607643.0691,
          608896.1443,
          626507.9438,
          629059.86,
          630497.3252,
          635223.2007,
          638327.6041,
          646895.1962,
          653162.4907,
          655858.4941,
          663960.7031,
          683081.4701,
          684649.5635,
          690230.1955,
          695777.3379,
          699375.3085,
          703573.4561,
          709573.8776,
          710193.437,
          714840.6733,
          728319.3571,
          748571.0561,
          756812.2339,
          757751.2056,
          772694.5445,
          780996.4369,
          811756.7312,
          834123.7571,
          871248.6945,
          873313.8193,
          885524.668,
          906079.5971,
          932173.8794,
          945844.3814,
          994625.9973,
          995459.8993,
          1217559.104,
          1304332.29,
          1464205.083,
          1652220.279,
          2018774.05,
          5529165.28
         ],
         "xaxis": "x",
         "y": [
          24307543.918366022,
          24308580.355912857,
          24317646.524085183,
          24327733.817290705,
          24338900.83998549,
          24342320.12706496,
          24343052.028964236,
          24344809.599475972,
          24347798.292608052,
          24348048.8495476,
          24351550.658388995,
          24357827.826431226,
          24360630.320442114,
          24361647.442226373,
          24368329.923981935,
          24379369.01196201,
          24387788.92022716,
          24395690.60075585,
          24399552.321732216,
          24404916.144352376,
          24411812.571163885,
          24424644.419191156,
          24426954.981662598,
          24435616.97756712,
          24443535.29677552,
          24463773.97830138,
          24464278.749283142,
          24467128.182056654,
          24468422.36126201,
          24475229.943227474,
          24478374.93732424,
          24484703.543575615,
          24492278.08930936,
          24495445.13940234,
          24502886.90719446,
          24505451.294612054,
          24510589.93361495,
          24526452.354196087,
          24541356.802329116,
          24559803.485529758,
          24566718.073281992,
          24572468.944667086,
          24589289.461540982,
          24590537.60556743,
          24594164.266019464,
          24599029.189678077,
          24599075.663818497,
          24601411.037170034,
          24602245.36569764,
          24608228.44235532,
          24610245.888093285,
          24611363.17963948,
          24611989.097447652,
          24618502.622424807,
          24620426.411301225,
          24620670.523495894,
          24621508.501846544,
          24624248.234643295,
          24629278.62368016,
          24629871.067215007,
          24630437.730405424,
          24637115.24800127,
          24655819.92682842,
          24665983.95667621,
          24669233.1813839,
          24683844.59113044,
          24699171.534807682,
          24703987.114241887,
          24719488.360218722,
          24719695.821856767,
          24728500.0251859,
          24732569.75804913,
          24732571.675047934,
          24740257.835027386,
          24743692.779219836,
          24745534.46791573,
          24746674.707940415,
          24762700.624578677,
          24765022.749372855,
          24766330.775702905,
          24770631.102129277,
          24773455.964523375,
          24781252.073988806,
          24786955.01985782,
          24789408.257287923,
          24796780.889824413,
          24814179.89655292,
          24815606.788456235,
          24820684.9034564,
          24825732.544481553,
          24829006.530021902,
          24832826.648657292,
          24838286.75253557,
          24838850.522711176,
          24843079.291131016,
          24855344.26513167,
          24873772.367266107,
          24881271.454933092,
          24882125.875413515,
          24895723.61728587,
          24903277.95240888,
          24931268.386448298,
          24951621.337463852,
          24985403.30006075,
          24987282.46737085,
          24998393.770525794,
          25017097.797917314,
          25040842.378525052,
          25053281.898146838,
          25097670.89484721,
          25098429.706798054,
          25300529.630769283,
          25379489.18542878,
          25524965.975199416,
          25696051.03994947,
          26029597.886056054,
          29223890.281882253
         ],
         "yaxis": "y"
        }
       ],
       "layout": {
        "height": 600,
        "legend": {
         "tracegroupgap": 0
        },
        "template": {
         "data": {
          "bar": [
           {
            "error_x": {
             "color": "#2a3f5f"
            },
            "error_y": {
             "color": "#2a3f5f"
            },
            "marker": {
             "line": {
              "color": "#E5ECF6",
              "width": 0.5
             },
             "pattern": {
              "fillmode": "overlay",
              "size": 10,
              "solidity": 0.2
             }
            },
            "type": "bar"
           }
          ],
          "barpolar": [
           {
            "marker": {
             "line": {
              "color": "#E5ECF6",
              "width": 0.5
             },
             "pattern": {
              "fillmode": "overlay",
              "size": 10,
              "solidity": 0.2
             }
            },
            "type": "barpolar"
           }
          ],
          "carpet": [
           {
            "aaxis": {
             "endlinecolor": "#2a3f5f",
             "gridcolor": "white",
             "linecolor": "white",
             "minorgridcolor": "white",
             "startlinecolor": "#2a3f5f"
            },
            "baxis": {
             "endlinecolor": "#2a3f5f",
             "gridcolor": "white",
             "linecolor": "white",
             "minorgridcolor": "white",
             "startlinecolor": "#2a3f5f"
            },
            "type": "carpet"
           }
          ],
          "choropleth": [
           {
            "colorbar": {
             "outlinewidth": 0,
             "ticks": ""
            },
            "type": "choropleth"
           }
          ],
          "contour": [
           {
            "colorbar": {
             "outlinewidth": 0,
             "ticks": ""
            },
            "colorscale": [
             [
              0,
              "#0d0887"
             ],
             [
              0.1111111111111111,
              "#46039f"
             ],
             [
              0.2222222222222222,
              "#7201a8"
             ],
             [
              0.3333333333333333,
              "#9c179e"
             ],
             [
              0.4444444444444444,
              "#bd3786"
             ],
             [
              0.5555555555555556,
              "#d8576b"
             ],
             [
              0.6666666666666666,
              "#ed7953"
             ],
             [
              0.7777777777777778,
              "#fb9f3a"
             ],
             [
              0.8888888888888888,
              "#fdca26"
             ],
             [
              1,
              "#f0f921"
             ]
            ],
            "type": "contour"
           }
          ],
          "contourcarpet": [
           {
            "colorbar": {
             "outlinewidth": 0,
             "ticks": ""
            },
            "type": "contourcarpet"
           }
          ],
          "heatmap": [
           {
            "colorbar": {
             "outlinewidth": 0,
             "ticks": ""
            },
            "colorscale": [
             [
              0,
              "#0d0887"
             ],
             [
              0.1111111111111111,
              "#46039f"
             ],
             [
              0.2222222222222222,
              "#7201a8"
             ],
             [
              0.3333333333333333,
              "#9c179e"
             ],
             [
              0.4444444444444444,
              "#bd3786"
             ],
             [
              0.5555555555555556,
              "#d8576b"
             ],
             [
              0.6666666666666666,
              "#ed7953"
             ],
             [
              0.7777777777777778,
              "#fb9f3a"
             ],
             [
              0.8888888888888888,
              "#fdca26"
             ],
             [
              1,
              "#f0f921"
             ]
            ],
            "type": "heatmap"
           }
          ],
          "heatmapgl": [
           {
            "colorbar": {
             "outlinewidth": 0,
             "ticks": ""
            },
            "colorscale": [
             [
              0,
              "#0d0887"
             ],
             [
              0.1111111111111111,
              "#46039f"
             ],
             [
              0.2222222222222222,
              "#7201a8"
             ],
             [
              0.3333333333333333,
              "#9c179e"
             ],
             [
              0.4444444444444444,
              "#bd3786"
             ],
             [
              0.5555555555555556,
              "#d8576b"
             ],
             [
              0.6666666666666666,
              "#ed7953"
             ],
             [
              0.7777777777777778,
              "#fb9f3a"
             ],
             [
              0.8888888888888888,
              "#fdca26"
             ],
             [
              1,
              "#f0f921"
             ]
            ],
            "type": "heatmapgl"
           }
          ],
          "histogram": [
           {
            "marker": {
             "pattern": {
              "fillmode": "overlay",
              "size": 10,
              "solidity": 0.2
             }
            },
            "type": "histogram"
           }
          ],
          "histogram2d": [
           {
            "colorbar": {
             "outlinewidth": 0,
             "ticks": ""
            },
            "colorscale": [
             [
              0,
              "#0d0887"
             ],
             [
              0.1111111111111111,
              "#46039f"
             ],
             [
              0.2222222222222222,
              "#7201a8"
             ],
             [
              0.3333333333333333,
              "#9c179e"
             ],
             [
              0.4444444444444444,
              "#bd3786"
             ],
             [
              0.5555555555555556,
              "#d8576b"
             ],
             [
              0.6666666666666666,
              "#ed7953"
             ],
             [
              0.7777777777777778,
              "#fb9f3a"
             ],
             [
              0.8888888888888888,
              "#fdca26"
             ],
             [
              1,
              "#f0f921"
             ]
            ],
            "type": "histogram2d"
           }
          ],
          "histogram2dcontour": [
           {
            "colorbar": {
             "outlinewidth": 0,
             "ticks": ""
            },
            "colorscale": [
             [
              0,
              "#0d0887"
             ],
             [
              0.1111111111111111,
              "#46039f"
             ],
             [
              0.2222222222222222,
              "#7201a8"
             ],
             [
              0.3333333333333333,
              "#9c179e"
             ],
             [
              0.4444444444444444,
              "#bd3786"
             ],
             [
              0.5555555555555556,
              "#d8576b"
             ],
             [
              0.6666666666666666,
              "#ed7953"
             ],
             [
              0.7777777777777778,
              "#fb9f3a"
             ],
             [
              0.8888888888888888,
              "#fdca26"
             ],
             [
              1,
              "#f0f921"
             ]
            ],
            "type": "histogram2dcontour"
           }
          ],
          "mesh3d": [
           {
            "colorbar": {
             "outlinewidth": 0,
             "ticks": ""
            },
            "type": "mesh3d"
           }
          ],
          "parcoords": [
           {
            "line": {
             "colorbar": {
              "outlinewidth": 0,
              "ticks": ""
             }
            },
            "type": "parcoords"
           }
          ],
          "pie": [
           {
            "automargin": true,
            "type": "pie"
           }
          ],
          "scatter": [
           {
            "fillpattern": {
             "fillmode": "overlay",
             "size": 10,
             "solidity": 0.2
            },
            "type": "scatter"
           }
          ],
          "scatter3d": [
           {
            "line": {
             "colorbar": {
              "outlinewidth": 0,
              "ticks": ""
             }
            },
            "marker": {
             "colorbar": {
              "outlinewidth": 0,
              "ticks": ""
             }
            },
            "type": "scatter3d"
           }
          ],
          "scattercarpet": [
           {
            "marker": {
             "colorbar": {
              "outlinewidth": 0,
              "ticks": ""
             }
            },
            "type": "scattercarpet"
           }
          ],
          "scattergeo": [
           {
            "marker": {
             "colorbar": {
              "outlinewidth": 0,
              "ticks": ""
             }
            },
            "type": "scattergeo"
           }
          ],
          "scattergl": [
           {
            "marker": {
             "colorbar": {
              "outlinewidth": 0,
              "ticks": ""
             }
            },
            "type": "scattergl"
           }
          ],
          "scattermapbox": [
           {
            "marker": {
             "colorbar": {
              "outlinewidth": 0,
              "ticks": ""
             }
            },
            "type": "scattermapbox"
           }
          ],
          "scatterpolar": [
           {
            "marker": {
             "colorbar": {
              "outlinewidth": 0,
              "ticks": ""
             }
            },
            "type": "scatterpolar"
           }
          ],
          "scatterpolargl": [
           {
            "marker": {
             "colorbar": {
              "outlinewidth": 0,
              "ticks": ""
             }
            },
            "type": "scatterpolargl"
           }
          ],
          "scatterternary": [
           {
            "marker": {
             "colorbar": {
              "outlinewidth": 0,
              "ticks": ""
             }
            },
            "type": "scatterternary"
           }
          ],
          "surface": [
           {
            "colorbar": {
             "outlinewidth": 0,
             "ticks": ""
            },
            "colorscale": [
             [
              0,
              "#0d0887"
             ],
             [
              0.1111111111111111,
              "#46039f"
             ],
             [
              0.2222222222222222,
              "#7201a8"
             ],
             [
              0.3333333333333333,
              "#9c179e"
             ],
             [
              0.4444444444444444,
              "#bd3786"
             ],
             [
              0.5555555555555556,
              "#d8576b"
             ],
             [
              0.6666666666666666,
              "#ed7953"
             ],
             [
              0.7777777777777778,
              "#fb9f3a"
             ],
             [
              0.8888888888888888,
              "#fdca26"
             ],
             [
              1,
              "#f0f921"
             ]
            ],
            "type": "surface"
           }
          ],
          "table": [
           {
            "cells": {
             "fill": {
              "color": "#EBF0F8"
             },
             "line": {
              "color": "white"
             }
            },
            "header": {
             "fill": {
              "color": "#C8D4E3"
             },
             "line": {
              "color": "white"
             }
            },
            "type": "table"
           }
          ]
         },
         "layout": {
          "annotationdefaults": {
           "arrowcolor": "#2a3f5f",
           "arrowhead": 0,
           "arrowwidth": 1
          },
          "autotypenumbers": "strict",
          "coloraxis": {
           "colorbar": {
            "outlinewidth": 0,
            "ticks": ""
           }
          },
          "colorscale": {
           "diverging": [
            [
             0,
             "#8e0152"
            ],
            [
             0.1,
             "#c51b7d"
            ],
            [
             0.2,
             "#de77ae"
            ],
            [
             0.3,
             "#f1b6da"
            ],
            [
             0.4,
             "#fde0ef"
            ],
            [
             0.5,
             "#f7f7f7"
            ],
            [
             0.6,
             "#e6f5d0"
            ],
            [
             0.7,
             "#b8e186"
            ],
            [
             0.8,
             "#7fbc41"
            ],
            [
             0.9,
             "#4d9221"
            ],
            [
             1,
             "#276419"
            ]
           ],
           "sequential": [
            [
             0,
             "#0d0887"
            ],
            [
             0.1111111111111111,
             "#46039f"
            ],
            [
             0.2222222222222222,
             "#7201a8"
            ],
            [
             0.3333333333333333,
             "#9c179e"
            ],
            [
             0.4444444444444444,
             "#bd3786"
            ],
            [
             0.5555555555555556,
             "#d8576b"
            ],
            [
             0.6666666666666666,
             "#ed7953"
            ],
            [
             0.7777777777777778,
             "#fb9f3a"
            ],
            [
             0.8888888888888888,
             "#fdca26"
            ],
            [
             1,
             "#f0f921"
            ]
           ],
           "sequentialminus": [
            [
             0,
             "#0d0887"
            ],
            [
             0.1111111111111111,
             "#46039f"
            ],
            [
             0.2222222222222222,
             "#7201a8"
            ],
            [
             0.3333333333333333,
             "#9c179e"
            ],
            [
             0.4444444444444444,
             "#bd3786"
            ],
            [
             0.5555555555555556,
             "#d8576b"
            ],
            [
             0.6666666666666666,
             "#ed7953"
            ],
            [
             0.7777777777777778,
             "#fb9f3a"
            ],
            [
             0.8888888888888888,
             "#fdca26"
            ],
            [
             1,
             "#f0f921"
            ]
           ]
          },
          "colorway": [
           "#636efa",
           "#EF553B",
           "#00cc96",
           "#ab63fa",
           "#FFA15A",
           "#19d3f3",
           "#FF6692",
           "#B6E880",
           "#FF97FF",
           "#FECB52"
          ],
          "font": {
           "color": "#2a3f5f"
          },
          "geo": {
           "bgcolor": "white",
           "lakecolor": "white",
           "landcolor": "#E5ECF6",
           "showlakes": true,
           "showland": true,
           "subunitcolor": "white"
          },
          "hoverlabel": {
           "align": "left"
          },
          "hovermode": "closest",
          "mapbox": {
           "style": "light"
          },
          "paper_bgcolor": "white",
          "plot_bgcolor": "#E5ECF6",
          "polar": {
           "angularaxis": {
            "gridcolor": "white",
            "linecolor": "white",
            "ticks": ""
           },
           "bgcolor": "#E5ECF6",
           "radialaxis": {
            "gridcolor": "white",
            "linecolor": "white",
            "ticks": ""
           }
          },
          "scene": {
           "xaxis": {
            "backgroundcolor": "#E5ECF6",
            "gridcolor": "white",
            "gridwidth": 2,
            "linecolor": "white",
            "showbackground": true,
            "ticks": "",
            "zerolinecolor": "white"
           },
           "yaxis": {
            "backgroundcolor": "#E5ECF6",
            "gridcolor": "white",
            "gridwidth": 2,
            "linecolor": "white",
            "showbackground": true,
            "ticks": "",
            "zerolinecolor": "white"
           },
           "zaxis": {
            "backgroundcolor": "#E5ECF6",
            "gridcolor": "white",
            "gridwidth": 2,
            "linecolor": "white",
            "showbackground": true,
            "ticks": "",
            "zerolinecolor": "white"
           }
          },
          "shapedefaults": {
           "line": {
            "color": "#2a3f5f"
           }
          },
          "ternary": {
           "aaxis": {
            "gridcolor": "white",
            "linecolor": "white",
            "ticks": ""
           },
           "baxis": {
            "gridcolor": "white",
            "linecolor": "white",
            "ticks": ""
           },
           "bgcolor": "#E5ECF6",
           "caxis": {
            "gridcolor": "white",
            "linecolor": "white",
            "ticks": ""
           }
          },
          "title": {
           "x": 0.05
          },
          "xaxis": {
           "automargin": true,
           "gridcolor": "white",
           "linecolor": "white",
           "ticks": "",
           "title": {
            "standoff": 15
           },
           "zerolinecolor": "white",
           "zerolinewidth": 2
          },
          "yaxis": {
           "automargin": true,
           "gridcolor": "white",
           "linecolor": "white",
           "ticks": "",
           "title": {
            "standoff": 15
           },
           "zerolinecolor": "white",
           "zerolinewidth": 2
          }
         }
        },
        "title": {
         "text": "Sales vs investment_online"
        },
        "width": 1200,
        "xaxis": {
         "anchor": "y",
         "domain": [
          0,
          1
         ],
         "title": {
          "text": "investment_online"
         }
        },
        "yaxis": {
         "anchor": "x",
         "domain": [
          0,
          1
         ],
         "title": {
          "text": "sales"
         }
        }
       }
      }
     },
     "metadata": {},
     "output_type": "display_data"
    }
   ],
   "source": [
    "fig = px.scatter(df_week, \n",
    "                 x='investment_online', \n",
    "                 y='sales', \n",
    "                 trendline=\"ols\",\n",
    "                 height=600, \n",
    "                 width=1200,\n",
    "                 title='Sales vs investment_online'\n",
    "                 )\n",
    "fig.show()"
   ]
  },
  {
   "cell_type": "code",
   "execution_count": 1166,
   "metadata": {},
   "outputs": [
    {
     "data": {
      "application/vnd.plotly.v1+json": {
       "config": {
        "plotlyServerURL": "https://plot.ly"
       },
       "data": [
        {
         "alignmentgroup": "True",
         "hovertemplate": "investment_online=%{y}<extra></extra>",
         "legendgroup": "",
         "marker": {
          "color": "#636efa"
         },
         "name": "",
         "notched": false,
         "offsetgroup": "",
         "orientation": "v",
         "showlegend": false,
         "type": "box",
         "x0": " ",
         "xaxis": "x",
         "y": [
          871248.6945,
          780996.4369,
          932173.8794,
          683081.4701,
          539848.5232,
          314046.129,
          481156.659,
          449257.56,
          446691.0842,
          411131.471,
          5529165.28,
          945844.3814,
          757751.2056,
          170547.9605,
          167263.5141,
          340983.7394,
          450174.4515,
          593395.4054,
          728319.3571,
          403532.6337,
          588922.9424,
          193111.3485,
          214495.9562,
          223179.5664,
          257537.7888,
          181569.9908,
          579019.5066,
          456749.5978,
          437308.122,
          321000.9976,
          523791.2065,
          435936.4649,
          480533.9203,
          479882.8501,
          310589.9145,
          164527.69,
          174671.6506,
          458966.6847,
          471343.8173,
          298555.019,
          227423.4332,
          148497.9571,
          126310.1185,
          137412.4517,
          160770.0392,
          170823.3119,
          184649.8123,
          468040.4839,
          556692.1812,
          630497.3252,
          601844.2744,
          343801.8919,
          635223.2007,
          684649.5635,
          607643.0691,
          1464205.083,
          579247.4981,
          488494.9663,
          709573.8776,
          646895.1962,
          446640.0111,
          205242.8358,
          127449.1192,
          366881.1615,
          349449.0372,
          185767.5858,
          165332.019,
          470422.9148,
          608896.1443,
          653162.4907,
          714840.6733,
          772694.5445,
          756812.2339,
          690230.1955,
          275758.8486,
          233318.0457,
          240896.9249,
          254998.5791,
          267056.9532,
          332805.5537,
          303108.672,
          298000.2972,
          301686.4242,
          873313.8193,
          460194.5405,
          655858.4941,
          383260.5149,
          417451.4336,
          520220.447,
          561984.2978,
          460882.3975,
          329325.1006,
          474354.6669,
          699375.3085,
          441293.6673,
          470154.6459,
          509050.6113,
          605619.1317,
          593397.5121,
          629059.86,
          695777.3379,
          906079.5971,
          811756.7312,
          710193.437,
          626507.9438,
          748571.0561,
          834123.7571,
          663960.7031,
          638327.6041,
          885524.668,
          1217559.104,
          1304332.29,
          2018774.05,
          995459.8993,
          1652220.279,
          994625.9973,
          703573.4561
         ],
         "y0": " ",
         "yaxis": "y"
        }
       ],
       "layout": {
        "boxmode": "group",
        "height": 600,
        "legend": {
         "tracegroupgap": 0
        },
        "margin": {
         "t": 60
        },
        "template": {
         "data": {
          "bar": [
           {
            "error_x": {
             "color": "#2a3f5f"
            },
            "error_y": {
             "color": "#2a3f5f"
            },
            "marker": {
             "line": {
              "color": "#E5ECF6",
              "width": 0.5
             },
             "pattern": {
              "fillmode": "overlay",
              "size": 10,
              "solidity": 0.2
             }
            },
            "type": "bar"
           }
          ],
          "barpolar": [
           {
            "marker": {
             "line": {
              "color": "#E5ECF6",
              "width": 0.5
             },
             "pattern": {
              "fillmode": "overlay",
              "size": 10,
              "solidity": 0.2
             }
            },
            "type": "barpolar"
           }
          ],
          "carpet": [
           {
            "aaxis": {
             "endlinecolor": "#2a3f5f",
             "gridcolor": "white",
             "linecolor": "white",
             "minorgridcolor": "white",
             "startlinecolor": "#2a3f5f"
            },
            "baxis": {
             "endlinecolor": "#2a3f5f",
             "gridcolor": "white",
             "linecolor": "white",
             "minorgridcolor": "white",
             "startlinecolor": "#2a3f5f"
            },
            "type": "carpet"
           }
          ],
          "choropleth": [
           {
            "colorbar": {
             "outlinewidth": 0,
             "ticks": ""
            },
            "type": "choropleth"
           }
          ],
          "contour": [
           {
            "colorbar": {
             "outlinewidth": 0,
             "ticks": ""
            },
            "colorscale": [
             [
              0,
              "#0d0887"
             ],
             [
              0.1111111111111111,
              "#46039f"
             ],
             [
              0.2222222222222222,
              "#7201a8"
             ],
             [
              0.3333333333333333,
              "#9c179e"
             ],
             [
              0.4444444444444444,
              "#bd3786"
             ],
             [
              0.5555555555555556,
              "#d8576b"
             ],
             [
              0.6666666666666666,
              "#ed7953"
             ],
             [
              0.7777777777777778,
              "#fb9f3a"
             ],
             [
              0.8888888888888888,
              "#fdca26"
             ],
             [
              1,
              "#f0f921"
             ]
            ],
            "type": "contour"
           }
          ],
          "contourcarpet": [
           {
            "colorbar": {
             "outlinewidth": 0,
             "ticks": ""
            },
            "type": "contourcarpet"
           }
          ],
          "heatmap": [
           {
            "colorbar": {
             "outlinewidth": 0,
             "ticks": ""
            },
            "colorscale": [
             [
              0,
              "#0d0887"
             ],
             [
              0.1111111111111111,
              "#46039f"
             ],
             [
              0.2222222222222222,
              "#7201a8"
             ],
             [
              0.3333333333333333,
              "#9c179e"
             ],
             [
              0.4444444444444444,
              "#bd3786"
             ],
             [
              0.5555555555555556,
              "#d8576b"
             ],
             [
              0.6666666666666666,
              "#ed7953"
             ],
             [
              0.7777777777777778,
              "#fb9f3a"
             ],
             [
              0.8888888888888888,
              "#fdca26"
             ],
             [
              1,
              "#f0f921"
             ]
            ],
            "type": "heatmap"
           }
          ],
          "heatmapgl": [
           {
            "colorbar": {
             "outlinewidth": 0,
             "ticks": ""
            },
            "colorscale": [
             [
              0,
              "#0d0887"
             ],
             [
              0.1111111111111111,
              "#46039f"
             ],
             [
              0.2222222222222222,
              "#7201a8"
             ],
             [
              0.3333333333333333,
              "#9c179e"
             ],
             [
              0.4444444444444444,
              "#bd3786"
             ],
             [
              0.5555555555555556,
              "#d8576b"
             ],
             [
              0.6666666666666666,
              "#ed7953"
             ],
             [
              0.7777777777777778,
              "#fb9f3a"
             ],
             [
              0.8888888888888888,
              "#fdca26"
             ],
             [
              1,
              "#f0f921"
             ]
            ],
            "type": "heatmapgl"
           }
          ],
          "histogram": [
           {
            "marker": {
             "pattern": {
              "fillmode": "overlay",
              "size": 10,
              "solidity": 0.2
             }
            },
            "type": "histogram"
           }
          ],
          "histogram2d": [
           {
            "colorbar": {
             "outlinewidth": 0,
             "ticks": ""
            },
            "colorscale": [
             [
              0,
              "#0d0887"
             ],
             [
              0.1111111111111111,
              "#46039f"
             ],
             [
              0.2222222222222222,
              "#7201a8"
             ],
             [
              0.3333333333333333,
              "#9c179e"
             ],
             [
              0.4444444444444444,
              "#bd3786"
             ],
             [
              0.5555555555555556,
              "#d8576b"
             ],
             [
              0.6666666666666666,
              "#ed7953"
             ],
             [
              0.7777777777777778,
              "#fb9f3a"
             ],
             [
              0.8888888888888888,
              "#fdca26"
             ],
             [
              1,
              "#f0f921"
             ]
            ],
            "type": "histogram2d"
           }
          ],
          "histogram2dcontour": [
           {
            "colorbar": {
             "outlinewidth": 0,
             "ticks": ""
            },
            "colorscale": [
             [
              0,
              "#0d0887"
             ],
             [
              0.1111111111111111,
              "#46039f"
             ],
             [
              0.2222222222222222,
              "#7201a8"
             ],
             [
              0.3333333333333333,
              "#9c179e"
             ],
             [
              0.4444444444444444,
              "#bd3786"
             ],
             [
              0.5555555555555556,
              "#d8576b"
             ],
             [
              0.6666666666666666,
              "#ed7953"
             ],
             [
              0.7777777777777778,
              "#fb9f3a"
             ],
             [
              0.8888888888888888,
              "#fdca26"
             ],
             [
              1,
              "#f0f921"
             ]
            ],
            "type": "histogram2dcontour"
           }
          ],
          "mesh3d": [
           {
            "colorbar": {
             "outlinewidth": 0,
             "ticks": ""
            },
            "type": "mesh3d"
           }
          ],
          "parcoords": [
           {
            "line": {
             "colorbar": {
              "outlinewidth": 0,
              "ticks": ""
             }
            },
            "type": "parcoords"
           }
          ],
          "pie": [
           {
            "automargin": true,
            "type": "pie"
           }
          ],
          "scatter": [
           {
            "fillpattern": {
             "fillmode": "overlay",
             "size": 10,
             "solidity": 0.2
            },
            "type": "scatter"
           }
          ],
          "scatter3d": [
           {
            "line": {
             "colorbar": {
              "outlinewidth": 0,
              "ticks": ""
             }
            },
            "marker": {
             "colorbar": {
              "outlinewidth": 0,
              "ticks": ""
             }
            },
            "type": "scatter3d"
           }
          ],
          "scattercarpet": [
           {
            "marker": {
             "colorbar": {
              "outlinewidth": 0,
              "ticks": ""
             }
            },
            "type": "scattercarpet"
           }
          ],
          "scattergeo": [
           {
            "marker": {
             "colorbar": {
              "outlinewidth": 0,
              "ticks": ""
             }
            },
            "type": "scattergeo"
           }
          ],
          "scattergl": [
           {
            "marker": {
             "colorbar": {
              "outlinewidth": 0,
              "ticks": ""
             }
            },
            "type": "scattergl"
           }
          ],
          "scattermapbox": [
           {
            "marker": {
             "colorbar": {
              "outlinewidth": 0,
              "ticks": ""
             }
            },
            "type": "scattermapbox"
           }
          ],
          "scatterpolar": [
           {
            "marker": {
             "colorbar": {
              "outlinewidth": 0,
              "ticks": ""
             }
            },
            "type": "scatterpolar"
           }
          ],
          "scatterpolargl": [
           {
            "marker": {
             "colorbar": {
              "outlinewidth": 0,
              "ticks": ""
             }
            },
            "type": "scatterpolargl"
           }
          ],
          "scatterternary": [
           {
            "marker": {
             "colorbar": {
              "outlinewidth": 0,
              "ticks": ""
             }
            },
            "type": "scatterternary"
           }
          ],
          "surface": [
           {
            "colorbar": {
             "outlinewidth": 0,
             "ticks": ""
            },
            "colorscale": [
             [
              0,
              "#0d0887"
             ],
             [
              0.1111111111111111,
              "#46039f"
             ],
             [
              0.2222222222222222,
              "#7201a8"
             ],
             [
              0.3333333333333333,
              "#9c179e"
             ],
             [
              0.4444444444444444,
              "#bd3786"
             ],
             [
              0.5555555555555556,
              "#d8576b"
             ],
             [
              0.6666666666666666,
              "#ed7953"
             ],
             [
              0.7777777777777778,
              "#fb9f3a"
             ],
             [
              0.8888888888888888,
              "#fdca26"
             ],
             [
              1,
              "#f0f921"
             ]
            ],
            "type": "surface"
           }
          ],
          "table": [
           {
            "cells": {
             "fill": {
              "color": "#EBF0F8"
             },
             "line": {
              "color": "white"
             }
            },
            "header": {
             "fill": {
              "color": "#C8D4E3"
             },
             "line": {
              "color": "white"
             }
            },
            "type": "table"
           }
          ]
         },
         "layout": {
          "annotationdefaults": {
           "arrowcolor": "#2a3f5f",
           "arrowhead": 0,
           "arrowwidth": 1
          },
          "autotypenumbers": "strict",
          "coloraxis": {
           "colorbar": {
            "outlinewidth": 0,
            "ticks": ""
           }
          },
          "colorscale": {
           "diverging": [
            [
             0,
             "#8e0152"
            ],
            [
             0.1,
             "#c51b7d"
            ],
            [
             0.2,
             "#de77ae"
            ],
            [
             0.3,
             "#f1b6da"
            ],
            [
             0.4,
             "#fde0ef"
            ],
            [
             0.5,
             "#f7f7f7"
            ],
            [
             0.6,
             "#e6f5d0"
            ],
            [
             0.7,
             "#b8e186"
            ],
            [
             0.8,
             "#7fbc41"
            ],
            [
             0.9,
             "#4d9221"
            ],
            [
             1,
             "#276419"
            ]
           ],
           "sequential": [
            [
             0,
             "#0d0887"
            ],
            [
             0.1111111111111111,
             "#46039f"
            ],
            [
             0.2222222222222222,
             "#7201a8"
            ],
            [
             0.3333333333333333,
             "#9c179e"
            ],
            [
             0.4444444444444444,
             "#bd3786"
            ],
            [
             0.5555555555555556,
             "#d8576b"
            ],
            [
             0.6666666666666666,
             "#ed7953"
            ],
            [
             0.7777777777777778,
             "#fb9f3a"
            ],
            [
             0.8888888888888888,
             "#fdca26"
            ],
            [
             1,
             "#f0f921"
            ]
           ],
           "sequentialminus": [
            [
             0,
             "#0d0887"
            ],
            [
             0.1111111111111111,
             "#46039f"
            ],
            [
             0.2222222222222222,
             "#7201a8"
            ],
            [
             0.3333333333333333,
             "#9c179e"
            ],
            [
             0.4444444444444444,
             "#bd3786"
            ],
            [
             0.5555555555555556,
             "#d8576b"
            ],
            [
             0.6666666666666666,
             "#ed7953"
            ],
            [
             0.7777777777777778,
             "#fb9f3a"
            ],
            [
             0.8888888888888888,
             "#fdca26"
            ],
            [
             1,
             "#f0f921"
            ]
           ]
          },
          "colorway": [
           "#636efa",
           "#EF553B",
           "#00cc96",
           "#ab63fa",
           "#FFA15A",
           "#19d3f3",
           "#FF6692",
           "#B6E880",
           "#FF97FF",
           "#FECB52"
          ],
          "font": {
           "color": "#2a3f5f"
          },
          "geo": {
           "bgcolor": "white",
           "lakecolor": "white",
           "landcolor": "#E5ECF6",
           "showlakes": true,
           "showland": true,
           "subunitcolor": "white"
          },
          "hoverlabel": {
           "align": "left"
          },
          "hovermode": "closest",
          "mapbox": {
           "style": "light"
          },
          "paper_bgcolor": "white",
          "plot_bgcolor": "#E5ECF6",
          "polar": {
           "angularaxis": {
            "gridcolor": "white",
            "linecolor": "white",
            "ticks": ""
           },
           "bgcolor": "#E5ECF6",
           "radialaxis": {
            "gridcolor": "white",
            "linecolor": "white",
            "ticks": ""
           }
          },
          "scene": {
           "xaxis": {
            "backgroundcolor": "#E5ECF6",
            "gridcolor": "white",
            "gridwidth": 2,
            "linecolor": "white",
            "showbackground": true,
            "ticks": "",
            "zerolinecolor": "white"
           },
           "yaxis": {
            "backgroundcolor": "#E5ECF6",
            "gridcolor": "white",
            "gridwidth": 2,
            "linecolor": "white",
            "showbackground": true,
            "ticks": "",
            "zerolinecolor": "white"
           },
           "zaxis": {
            "backgroundcolor": "#E5ECF6",
            "gridcolor": "white",
            "gridwidth": 2,
            "linecolor": "white",
            "showbackground": true,
            "ticks": "",
            "zerolinecolor": "white"
           }
          },
          "shapedefaults": {
           "line": {
            "color": "#2a3f5f"
           }
          },
          "ternary": {
           "aaxis": {
            "gridcolor": "white",
            "linecolor": "white",
            "ticks": ""
           },
           "baxis": {
            "gridcolor": "white",
            "linecolor": "white",
            "ticks": ""
           },
           "bgcolor": "#E5ECF6",
           "caxis": {
            "gridcolor": "white",
            "linecolor": "white",
            "ticks": ""
           }
          },
          "title": {
           "x": 0.05
          },
          "xaxis": {
           "automargin": true,
           "gridcolor": "white",
           "linecolor": "white",
           "ticks": "",
           "title": {
            "standoff": 15
           },
           "zerolinecolor": "white",
           "zerolinewidth": 2
          },
          "yaxis": {
           "automargin": true,
           "gridcolor": "white",
           "linecolor": "white",
           "ticks": "",
           "title": {
            "standoff": 15
           },
           "zerolinecolor": "white",
           "zerolinewidth": 2
          }
         }
        },
        "width": 400,
        "xaxis": {
         "anchor": "y",
         "domain": [
          0,
          1
         ]
        },
        "yaxis": {
         "anchor": "x",
         "domain": [
          0,
          1
         ],
         "title": {
          "text": "investment_online"
         }
        }
       }
      }
     },
     "metadata": {},
     "output_type": "display_data"
    }
   ],
   "source": [
    "fig = px.box(df_week, y='investment_online', width=400, height=600)\n",
    "fig.show()"
   ]
  },
  {
   "cell_type": "markdown",
   "metadata": {},
   "source": [
    "**Outliers - winsorize**"
   ]
  },
  {
   "cell_type": "code",
   "execution_count": 1167,
   "metadata": {},
   "outputs": [
    {
     "data": {
      "text/plain": [
       "\" # windsorize outliers value is lower and upper percentage when the outliers are replaced by the closest one\\ndf_week['investment_online'] = winsorize(df_week['investment_online'], (0.05,0.05)) \""
      ]
     },
     "execution_count": 1167,
     "metadata": {},
     "output_type": "execute_result"
    }
   ],
   "source": [
    "\"\"\" # windsorize outliers value is lower and upper percentage when the outliers are replaced by the closest one\n",
    "df_week['investment_online'] = winsorize(df_week['investment_online'], (0.05,0.05)) \"\"\""
   ]
  },
  {
   "cell_type": "code",
   "execution_count": 1168,
   "metadata": {},
   "outputs": [
    {
     "data": {
      "text/plain": [
       "' fig = px.scatter(df_week, \\n                 x=[\\'investment_online_edit\\', \\'investment_online\\'], \\n                 y=\\'sales\\', \\n                 height=600, \\n                 width=1200,\\n                 title=\\'Sales vs investment_online\\',\\n                 trendline=\"ols\"\\n                 )\\nfig.show() '"
      ]
     },
     "execution_count": 1168,
     "metadata": {},
     "output_type": "execute_result"
    }
   ],
   "source": [
    "\"\"\" fig = px.scatter(df_week, \n",
    "                 x=['investment_online_edit', 'investment_online'], \n",
    "                 y='sales', \n",
    "                 height=600, \n",
    "                 width=1200,\n",
    "                 title='Sales vs investment_online',\n",
    "                 trendline=\"ols\"\n",
    "                 )\n",
    "fig.show() \"\"\""
   ]
  },
  {
   "cell_type": "markdown",
   "metadata": {},
   "source": [
    "**EDA-conclusions**"
   ]
  },
  {
   "cell_type": "code",
   "execution_count": 1169,
   "metadata": {},
   "outputs": [
    {
     "data": {
      "text/plain": [
       "\" \\nConclusions:\\n    - Sales has decreasing trend - probably influenced by opened shops. Highest peaks in Automn (September, October)\\n    - The highest investments are in TV then in online sector and press.\\n    - Scatter plot 'Sales vs investment-TV' show that investments after certain point do not increase the sales!!!\\n    - Online investment shows some outliers (replacing them by neighbouring values by windsorizing led to the worse results on MAPE)\\n\""
      ]
     },
     "execution_count": 1169,
     "metadata": {},
     "output_type": "execute_result"
    }
   ],
   "source": [
    "''' \n",
    "Conclusions:\n",
    "    - Sales has decreasing trend - probably influenced by opened shops. Highest peaks in Automn (September, October)\n",
    "    - The highest investments are in TV then in online sector and press.\n",
    "    - Scatter plot 'Sales vs investment-TV' show that investments after certain point do not increase the sales!!!\n",
    "    - Online investment shows some outliers (replacing them by neighbouring values by windsorizing led to the worse results on MAPE)\n",
    "'''"
   ]
  },
  {
   "cell_type": "markdown",
   "metadata": {},
   "source": [
    "# Features"
   ]
  },
  {
   "cell_type": "markdown",
   "metadata": {},
   "source": [
    "**Filter method - Pearson correlation**"
   ]
  },
  {
   "cell_type": "code",
   "execution_count": 1170,
   "metadata": {},
   "outputs": [
    {
     "data": {
      "image/png": "[encoded data removed]",
      "text/plain": [
       "<Figure size 1000x800 with 2 Axes>"
      ]
     },
     "metadata": {},
     "output_type": "display_data"
    }
   ],
   "source": [
    "# Heatmap\n",
    "plt.figure(figsize=(10,8))\n",
    "\n",
    "sns.heatmap(df_week.corr(), \n",
    "            cmap='RdBu', \n",
    "            center=0, \n",
    "            annot_kws={\"size\":6}, \n",
    "            annot=True, \n",
    "            fmt=\".2f\")\n",
    "\n",
    "plt.show()"
   ]
  },
  {
   "cell_type": "code",
   "execution_count": 1171,
   "metadata": {},
   "outputs": [],
   "source": [
    "def correlation_heatmap_single_col(df, col_name):\n",
    "    plt.figure(figsize=(6, 8))\n",
    "    heatmap = sns.heatmap(df.corr()[[col_name]]\n",
    "                        .sort_values(by=col_name, ascending=False), \n",
    "                        vmin=-1, vmax=1, \n",
    "                        annot=True,\n",
    "                        cmap='RdBu')\n",
    "\n",
    "    heatmap.set_title(f'Features Correlating with {col_name}', fontdict={'fontsize':18}, pad=16)\n",
    "\n",
    "    plt.show()"
   ]
  },
  {
   "cell_type": "code",
   "execution_count": 1172,
   "metadata": {},
   "outputs": [
    {
     "data": {
      "image/png": "[encoded data removed]",
      "text/plain": [
       "<Figure size 600x800 with 2 Axes>"
      ]
     },
     "metadata": {},
     "output_type": "display_data"
    }
   ],
   "source": [
    "correlation_heatmap_single_col(df=df_week, col_name='sales')"
   ]
  },
  {
   "cell_type": "code",
   "execution_count": 1173,
   "metadata": {},
   "outputs": [
    {
     "data": {
      "text/html": [
       "<div>\n",
       "<style scoped>\n",
       "    .dataframe tbody tr th:only-of-type {\n",
       "        vertical-align: middle;\n",
       "    }\n",
       "\n",
       "    .dataframe tbody tr th {\n",
       "        vertical-align: top;\n",
       "    }\n",
       "\n",
       "    .dataframe thead th {\n",
       "        text-align: right;\n",
       "    }\n",
       "</style>\n",
       "<table border=\"1\" class=\"dataframe\">\n",
       "  <thead>\n",
       "    <tr style=\"text-align: right;\">\n",
       "      <th></th>\n",
       "      <th>Date</th>\n",
       "      <th>investment_tv</th>\n",
       "      <th>investment_radio</th>\n",
       "      <th>investment_press</th>\n",
       "      <th>investment_banners</th>\n",
       "      <th>investment_online</th>\n",
       "      <th>stores_opened</th>\n",
       "      <th>economy_index</th>\n",
       "      <th>investment_competition</th>\n",
       "      <th>public_holidays</th>\n",
       "      <th>brand_knowledge</th>\n",
       "      <th>christmas_dummy</th>\n",
       "      <th>weather_index</th>\n",
       "      <th>investment_competition_1</th>\n",
       "      <th>investment_competition_2</th>\n",
       "      <th>precipitation_index</th>\n",
       "      <th>competitor_recognition_1</th>\n",
       "      <th>competitor_recognition_2</th>\n",
       "      <th>YearWeek</th>\n",
       "      <th>sales</th>\n",
       "    </tr>\n",
       "  </thead>\n",
       "  <tbody>\n",
       "    <tr>\n",
       "      <th>0</th>\n",
       "      <td>2020-10-01</td>\n",
       "      <td>9.813096e+05</td>\n",
       "      <td>0.0</td>\n",
       "      <td>236646.24270</td>\n",
       "      <td>0.0000</td>\n",
       "      <td>871248.6945</td>\n",
       "      <td>186</td>\n",
       "      <td>22777.0</td>\n",
       "      <td>64817.0000</td>\n",
       "      <td>0</td>\n",
       "      <td>0.724231</td>\n",
       "      <td>0</td>\n",
       "      <td>71.050000</td>\n",
       "      <td>4.469290e+06</td>\n",
       "      <td>1.646746e+07</td>\n",
       "      <td>29.957143</td>\n",
       "      <td>0.428392</td>\n",
       "      <td>0.439821</td>\n",
       "      <td>201740</td>\n",
       "      <td>28225189.15</td>\n",
       "    </tr>\n",
       "    <tr>\n",
       "      <th>1</th>\n",
       "      <td>2020-10-08</td>\n",
       "      <td>1.204436e+06</td>\n",
       "      <td>0.0</td>\n",
       "      <td>492336.78720</td>\n",
       "      <td>0.0000</td>\n",
       "      <td>780996.4369</td>\n",
       "      <td>186</td>\n",
       "      <td>22905.3</td>\n",
       "      <td>290340.0000</td>\n",
       "      <td>0</td>\n",
       "      <td>0.810316</td>\n",
       "      <td>0</td>\n",
       "      <td>54.744286</td>\n",
       "      <td>3.424972e+06</td>\n",
       "      <td>9.855486e+06</td>\n",
       "      <td>7.314286</td>\n",
       "      <td>0.396890</td>\n",
       "      <td>0.511645</td>\n",
       "      <td>201741</td>\n",
       "      <td>33173110.86</td>\n",
       "    </tr>\n",
       "    <tr>\n",
       "      <th>2</th>\n",
       "      <td>2020-10-15</td>\n",
       "      <td>1.321570e+06</td>\n",
       "      <td>0.0</td>\n",
       "      <td>291885.33780</td>\n",
       "      <td>0.0000</td>\n",
       "      <td>932173.8794</td>\n",
       "      <td>186</td>\n",
       "      <td>23328.8</td>\n",
       "      <td>824941.0000</td>\n",
       "      <td>0</td>\n",
       "      <td>0.778179</td>\n",
       "      <td>0</td>\n",
       "      <td>54.311429</td>\n",
       "      <td>1.502713e+07</td>\n",
       "      <td>1.812631e+07</td>\n",
       "      <td>9.500000</td>\n",
       "      <td>0.440410</td>\n",
       "      <td>0.394800</td>\n",
       "      <td>201742</td>\n",
       "      <td>30504393.42</td>\n",
       "    </tr>\n",
       "    <tr>\n",
       "      <th>3</th>\n",
       "      <td>2020-10-22</td>\n",
       "      <td>2.155215e+05</td>\n",
       "      <td>0.0</td>\n",
       "      <td>110500.83200</td>\n",
       "      <td>0.0000</td>\n",
       "      <td>683081.4701</td>\n",
       "      <td>186</td>\n",
       "      <td>23485.3</td>\n",
       "      <td>591291.0000</td>\n",
       "      <td>1</td>\n",
       "      <td>0.804275</td>\n",
       "      <td>0</td>\n",
       "      <td>68.302857</td>\n",
       "      <td>1.147109e+07</td>\n",
       "      <td>1.579170e+07</td>\n",
       "      <td>30.485714</td>\n",
       "      <td>0.404397</td>\n",
       "      <td>0.413794</td>\n",
       "      <td>201743</td>\n",
       "      <td>30335675.45</td>\n",
       "    </tr>\n",
       "    <tr>\n",
       "      <th>4</th>\n",
       "      <td>2020-10-29</td>\n",
       "      <td>9.799192e+04</td>\n",
       "      <td>0.0</td>\n",
       "      <td>58135.35929</td>\n",
       "      <td>175435.8015</td>\n",
       "      <td>539848.5232</td>\n",
       "      <td>186</td>\n",
       "      <td>23557.1</td>\n",
       "      <td>554888.8674</td>\n",
       "      <td>0</td>\n",
       "      <td>0.817915</td>\n",
       "      <td>0</td>\n",
       "      <td>63.864286</td>\n",
       "      <td>1.876094e+07</td>\n",
       "      <td>2.324122e+07</td>\n",
       "      <td>19.728571</td>\n",
       "      <td>0.500315</td>\n",
       "      <td>0.452294</td>\n",
       "      <td>201744</td>\n",
       "      <td>25670890.36</td>\n",
       "    </tr>\n",
       "  </tbody>\n",
       "</table>\n",
       "</div>"
      ],
      "text/plain": [
       "        Date  investment_tv  investment_radio  investment_press  \\\n",
       "0 2020-10-01   9.813096e+05               0.0      236646.24270   \n",
       "1 2020-10-08   1.204436e+06               0.0      492336.78720   \n",
       "2 2020-10-15   1.321570e+06               0.0      291885.33780   \n",
       "3 2020-10-22   2.155215e+05               0.0      110500.83200   \n",
       "4 2020-10-29   9.799192e+04               0.0       58135.35929   \n",
       "\n",
       "   investment_banners  investment_online  stores_opened  economy_index  \\\n",
       "0              0.0000        871248.6945            186        22777.0   \n",
       "1              0.0000        780996.4369            186        22905.3   \n",
       "2              0.0000        932173.8794            186        23328.8   \n",
       "3              0.0000        683081.4701            186        23485.3   \n",
       "4         175435.8015        539848.5232            186        23557.1   \n",
       "\n",
       "   investment_competition  public_holidays  brand_knowledge  christmas_dummy  \\\n",
       "0              64817.0000                0         0.724231                0   \n",
       "1             290340.0000                0         0.810316                0   \n",
       "2             824941.0000                0         0.778179                0   \n",
       "3             591291.0000                1         0.804275                0   \n",
       "4             554888.8674                0         0.817915                0   \n",
       "\n",
       "   weather_index  investment_competition_1  investment_competition_2  \\\n",
       "0      71.050000              4.469290e+06              1.646746e+07   \n",
       "1      54.744286              3.424972e+06              9.855486e+06   \n",
       "2      54.311429              1.502713e+07              1.812631e+07   \n",
       "3      68.302857              1.147109e+07              1.579170e+07   \n",
       "4      63.864286              1.876094e+07              2.324122e+07   \n",
       "\n",
       "   precipitation_index  competitor_recognition_1  competitor_recognition_2  \\\n",
       "0            29.957143                  0.428392                  0.439821   \n",
       "1             7.314286                  0.396890                  0.511645   \n",
       "2             9.500000                  0.440410                  0.394800   \n",
       "3            30.485714                  0.404397                  0.413794   \n",
       "4            19.728571                  0.500315                  0.452294   \n",
       "\n",
       "   YearWeek        sales  \n",
       "0    201740  28225189.15  \n",
       "1    201741  33173110.86  \n",
       "2    201742  30504393.42  \n",
       "3    201743  30335675.45  \n",
       "4    201744  25670890.36  "
      ]
     },
     "execution_count": 1173,
     "metadata": {},
     "output_type": "execute_result"
    }
   ],
   "source": [
    "df_week.head(5)"
   ]
  },
  {
   "cell_type": "markdown",
   "metadata": {},
   "source": [
    "**Using OLS**"
   ]
  },
  {
   "cell_type": "code",
   "execution_count": 1201,
   "metadata": {},
   "outputs": [
    {
     "name": "stdout",
     "output_type": "stream",
     "text": [
      "                            OLS Regression Results                            \n",
      "==============================================================================\n",
      "Dep. Variable:                  sales   R-squared:                       0.706\n",
      "Model:                            OLS   Adj. R-squared:                  0.684\n",
      "Method:                 Least Squares   F-statistic:                     32.35\n",
      "Date:                Mon, 06 May 2024   Prob (F-statistic):           2.22e-25\n",
      "Time:                        22:25:30   Log-Likelihood:                -1823.6\n",
      "No. Observations:                 117   AIC:                             3665.\n",
      "Df Residuals:                     108   BIC:                             3690.\n",
      "Df Model:                           8                                         \n",
      "Covariance Type:            nonrobust                                         \n",
      "=====================================================================================\n",
      "                        coef    std err          t      P>|t|      [0.025      0.975]\n",
      "-------------------------------------------------------------------------------------\n",
      "const              2.106e+07   6.39e+06      3.298      0.001     8.4e+06    3.37e+07\n",
      "stores_opened      4.923e+04   1.23e+04      4.012      0.000    2.49e+04    7.36e+04\n",
      "investment_tv         1.6816      0.266      6.312      0.000       1.154       2.210\n",
      "investment_press      1.8969      0.832      2.281      0.025       0.248       3.546\n",
      "investment_online     1.5372      0.283      5.435      0.000       0.977       2.098\n",
      "brand_knowledge    1.303e+07   3.97e+06      3.283      0.001    5.16e+06    2.09e+07\n",
      "weather_index     -8.718e+04   1.37e+04     -6.374      0.000   -1.14e+05   -6.01e+04\n",
      "christmas_dummy   -5.801e+06   8.92e+05     -6.506      0.000   -7.57e+06   -4.03e+06\n",
      "economy_index      -413.4507    162.249     -2.548      0.012    -735.057     -91.844\n",
      "==============================================================================\n",
      "Omnibus:                        0.211   Durbin-Watson:                   1.711\n",
      "Prob(Omnibus):                  0.900   Jarque-Bera (JB):                0.147\n",
      "Skew:                           0.086   Prob(JB):                        0.929\n",
      "Kurtosis:                       2.970   Cond. No.                     4.27e+07\n",
      "==============================================================================\n",
      "\n",
      "Notes:\n",
      "[1] Standard Errors assume that the covariance matrix of the errors is correctly specified.\n",
      "[2] The condition number is large, 4.27e+07. This might indicate that there are\n",
      "strong multicollinearity or other numerical problems.\n"
     ]
    }
   ],
   "source": [
    "# define cols for analysis\n",
    "input_cols =      ['stores_opened',\n",
    "                  'investment_tv', \n",
    "                  #'investment_radio', \n",
    "                  'investment_press', \n",
    "                  #'investment_banners', \n",
    "                  'investment_online',\n",
    "                  'brand_knowledge',\n",
    "                  #'investment_competition',\n",
    "                  #'investment_competition_1',\n",
    "                  #'investment_competition_2',\n",
    "                  #'competitor_recognition_1',\n",
    "                  #'competitor_recognition_2',\n",
    "                  #'precipitation_index',\n",
    "                  'weather_index',\n",
    "                  'christmas_dummy',\n",
    "                  'economy_index',\n",
    "                  #'public_holidays',\n",
    "                  \n",
    "                  ]\n",
    "\n",
    "X = df_week[input_cols]\n",
    "\n",
    "\n",
    "y = df_week['sales']\n",
    "X = sm.add_constant(X)  \n",
    "\n",
    "model = sm.OLS(y, X).fit()\n",
    "\n",
    "print(model.summary())"
   ]
  },
  {
   "cell_type": "markdown",
   "metadata": {},
   "source": [
    "# Scale"
   ]
  },
  {
   "cell_type": "code",
   "execution_count": 1175,
   "metadata": {},
   "outputs": [
    {
     "data": {
      "text/plain": [
       "' X = X.to_numpy()\\ny = y.to_numpy().reshape(-1,1)\\n\\n# Define scaler\\nscaler = StandardScaler()\\n\\n# Scale\\nX = scaler.fit_transform(X)\\ny = scaler.fit_transform(y) '"
      ]
     },
     "execution_count": 1175,
     "metadata": {},
     "output_type": "execute_result"
    }
   ],
   "source": [
    "\"\"\" X = X.to_numpy()\n",
    "y = y.to_numpy().reshape(-1,1)\n",
    "\n",
    "# Define scaler\n",
    "scaler = StandardScaler()\n",
    "\n",
    "# Scale\n",
    "X = scaler.fit_transform(X)\n",
    "y = scaler.fit_transform(y) \"\"\"\n",
    "\n"
   ]
  },
  {
   "cell_type": "code",
   "execution_count": 1176,
   "metadata": {},
   "outputs": [
    {
     "data": {
      "text/plain": [
       "' \\nIf I scale the data the coefficients will be scaled as well -> must be taken into account when interpereting the coefficients. \\nCoefficient do not have to be scaled!!!\\n\\n'"
      ]
     },
     "execution_count": 1176,
     "metadata": {},
     "output_type": "execute_result"
    }
   ],
   "source": [
    "''' \n",
    "If I scale the data the coefficients will be scaled as well -> must be taken into account when interpereting the coefficients. \n",
    "Coefficient do not have to be scaled!!!\n",
    "\n",
    "'''"
   ]
  },
  {
   "cell_type": "markdown",
   "metadata": {},
   "source": [
    "# Set up Econometric model"
   ]
  },
  {
   "cell_type": "markdown",
   "metadata": {},
   "source": [
    "**Define matrix and add unit vector**"
   ]
  },
  {
   "cell_type": "code",
   "execution_count": 1177,
   "metadata": {},
   "outputs": [
    {
     "data": {
      "text/html": [
       "<div>\n",
       "<style scoped>\n",
       "    .dataframe tbody tr th:only-of-type {\n",
       "        vertical-align: middle;\n",
       "    }\n",
       "\n",
       "    .dataframe tbody tr th {\n",
       "        vertical-align: top;\n",
       "    }\n",
       "\n",
       "    .dataframe thead th {\n",
       "        text-align: right;\n",
       "    }\n",
       "</style>\n",
       "<table border=\"1\" class=\"dataframe\">\n",
       "  <thead>\n",
       "    <tr style=\"text-align: right;\">\n",
       "      <th></th>\n",
       "      <th>stores_opened</th>\n",
       "      <th>investment_tv</th>\n",
       "      <th>investment_press</th>\n",
       "      <th>investment_online</th>\n",
       "      <th>brand_knowledge</th>\n",
       "      <th>weather_index</th>\n",
       "      <th>christmas_dummy</th>\n",
       "      <th>economy_index</th>\n",
       "      <th>unit vector</th>\n",
       "    </tr>\n",
       "  </thead>\n",
       "  <tbody>\n",
       "    <tr>\n",
       "      <th>0</th>\n",
       "      <td>186</td>\n",
       "      <td>9.813096e+05</td>\n",
       "      <td>236646.24270</td>\n",
       "      <td>8.712487e+05</td>\n",
       "      <td>0.724231</td>\n",
       "      <td>71.050000</td>\n",
       "      <td>0</td>\n",
       "      <td>22777.0</td>\n",
       "      <td>1</td>\n",
       "    </tr>\n",
       "    <tr>\n",
       "      <th>1</th>\n",
       "      <td>186</td>\n",
       "      <td>1.204436e+06</td>\n",
       "      <td>492336.78720</td>\n",
       "      <td>7.809964e+05</td>\n",
       "      <td>0.810316</td>\n",
       "      <td>54.744286</td>\n",
       "      <td>0</td>\n",
       "      <td>22905.3</td>\n",
       "      <td>1</td>\n",
       "    </tr>\n",
       "    <tr>\n",
       "      <th>2</th>\n",
       "      <td>186</td>\n",
       "      <td>1.321570e+06</td>\n",
       "      <td>291885.33780</td>\n",
       "      <td>9.321739e+05</td>\n",
       "      <td>0.778179</td>\n",
       "      <td>54.311429</td>\n",
       "      <td>0</td>\n",
       "      <td>23328.8</td>\n",
       "      <td>1</td>\n",
       "    </tr>\n",
       "    <tr>\n",
       "      <th>3</th>\n",
       "      <td>186</td>\n",
       "      <td>2.155215e+05</td>\n",
       "      <td>110500.83200</td>\n",
       "      <td>6.830815e+05</td>\n",
       "      <td>0.804275</td>\n",
       "      <td>68.302857</td>\n",
       "      <td>0</td>\n",
       "      <td>23485.3</td>\n",
       "      <td>1</td>\n",
       "    </tr>\n",
       "    <tr>\n",
       "      <th>4</th>\n",
       "      <td>186</td>\n",
       "      <td>9.799192e+04</td>\n",
       "      <td>58135.35929</td>\n",
       "      <td>5.398485e+05</td>\n",
       "      <td>0.817915</td>\n",
       "      <td>63.864286</td>\n",
       "      <td>0</td>\n",
       "      <td>23557.1</td>\n",
       "      <td>1</td>\n",
       "    </tr>\n",
       "    <tr>\n",
       "      <th>...</th>\n",
       "      <td>...</td>\n",
       "      <td>...</td>\n",
       "      <td>...</td>\n",
       "      <td>...</td>\n",
       "      <td>...</td>\n",
       "      <td>...</td>\n",
       "      <td>...</td>\n",
       "      <td>...</td>\n",
       "      <td>...</td>\n",
       "    </tr>\n",
       "    <tr>\n",
       "      <th>112</th>\n",
       "      <td>142</td>\n",
       "      <td>0.000000e+00</td>\n",
       "      <td>0.00000</td>\n",
       "      <td>2.018774e+06</td>\n",
       "      <td>0.709503</td>\n",
       "      <td>65.965714</td>\n",
       "      <td>0</td>\n",
       "      <td>28175.0</td>\n",
       "      <td>1</td>\n",
       "    </tr>\n",
       "    <tr>\n",
       "      <th>113</th>\n",
       "      <td>142</td>\n",
       "      <td>0.000000e+00</td>\n",
       "      <td>0.00000</td>\n",
       "      <td>9.954599e+05</td>\n",
       "      <td>0.778967</td>\n",
       "      <td>67.607143</td>\n",
       "      <td>0</td>\n",
       "      <td>28109.8</td>\n",
       "      <td>1</td>\n",
       "    </tr>\n",
       "    <tr>\n",
       "      <th>114</th>\n",
       "      <td>142</td>\n",
       "      <td>0.000000e+00</td>\n",
       "      <td>0.00000</td>\n",
       "      <td>1.652220e+06</td>\n",
       "      <td>0.721600</td>\n",
       "      <td>71.281429</td>\n",
       "      <td>0</td>\n",
       "      <td>28290.7</td>\n",
       "      <td>1</td>\n",
       "    </tr>\n",
       "    <tr>\n",
       "      <th>115</th>\n",
       "      <td>142</td>\n",
       "      <td>0.000000e+00</td>\n",
       "      <td>0.00000</td>\n",
       "      <td>9.946260e+05</td>\n",
       "      <td>0.795736</td>\n",
       "      <td>63.042857</td>\n",
       "      <td>0</td>\n",
       "      <td>28608.6</td>\n",
       "      <td>1</td>\n",
       "    </tr>\n",
       "    <tr>\n",
       "      <th>116</th>\n",
       "      <td>142</td>\n",
       "      <td>1.421816e+06</td>\n",
       "      <td>0.00000</td>\n",
       "      <td>7.035735e+05</td>\n",
       "      <td>0.711990</td>\n",
       "      <td>73.668571</td>\n",
       "      <td>1</td>\n",
       "      <td>28701.7</td>\n",
       "      <td>1</td>\n",
       "    </tr>\n",
       "  </tbody>\n",
       "</table>\n",
       "<p>117 rows × 9 columns</p>\n",
       "</div>"
      ],
      "text/plain": [
       "     stores_opened  investment_tv  investment_press  investment_online  \\\n",
       "0              186   9.813096e+05      236646.24270       8.712487e+05   \n",
       "1              186   1.204436e+06      492336.78720       7.809964e+05   \n",
       "2              186   1.321570e+06      291885.33780       9.321739e+05   \n",
       "3              186   2.155215e+05      110500.83200       6.830815e+05   \n",
       "4              186   9.799192e+04       58135.35929       5.398485e+05   \n",
       "..             ...            ...               ...                ...   \n",
       "112            142   0.000000e+00           0.00000       2.018774e+06   \n",
       "113            142   0.000000e+00           0.00000       9.954599e+05   \n",
       "114            142   0.000000e+00           0.00000       1.652220e+06   \n",
       "115            142   0.000000e+00           0.00000       9.946260e+05   \n",
       "116            142   1.421816e+06           0.00000       7.035735e+05   \n",
       "\n",
       "     brand_knowledge  weather_index  christmas_dummy  economy_index  \\\n",
       "0           0.724231      71.050000                0        22777.0   \n",
       "1           0.810316      54.744286                0        22905.3   \n",
       "2           0.778179      54.311429                0        23328.8   \n",
       "3           0.804275      68.302857                0        23485.3   \n",
       "4           0.817915      63.864286                0        23557.1   \n",
       "..               ...            ...              ...            ...   \n",
       "112         0.709503      65.965714                0        28175.0   \n",
       "113         0.778967      67.607143                0        28109.8   \n",
       "114         0.721600      71.281429                0        28290.7   \n",
       "115         0.795736      63.042857                0        28608.6   \n",
       "116         0.711990      73.668571                1        28701.7   \n",
       "\n",
       "     unit vector  \n",
       "0              1  \n",
       "1              1  \n",
       "2              1  \n",
       "3              1  \n",
       "4              1  \n",
       "..           ...  \n",
       "112            1  \n",
       "113            1  \n",
       "114            1  \n",
       "115            1  \n",
       "116            1  \n",
       "\n",
       "[117 rows x 9 columns]"
      ]
     },
     "execution_count": 1177,
     "metadata": {},
     "output_type": "execute_result"
    }
   ],
   "source": [
    "# Copy variables\n",
    "X = df_week[input_cols].copy()\n",
    "\n",
    "# Add unit vector (interception in line equation)\n",
    "X['unit vector'] = 1\n",
    "\n",
    "# Copy true values of 'sales'\n",
    "y = df_week[['sales']]\n",
    "\n",
    "X"
   ]
  },
  {
   "cell_type": "code",
   "execution_count": 1178,
   "metadata": {},
   "outputs": [
    {
     "data": {
      "text/html": [
       "<div>\n",
       "<style scoped>\n",
       "    .dataframe tbody tr th:only-of-type {\n",
       "        vertical-align: middle;\n",
       "    }\n",
       "\n",
       "    .dataframe tbody tr th {\n",
       "        vertical-align: top;\n",
       "    }\n",
       "\n",
       "    .dataframe thead th {\n",
       "        text-align: right;\n",
       "    }\n",
       "</style>\n",
       "<table border=\"1\" class=\"dataframe\">\n",
       "  <thead>\n",
       "    <tr style=\"text-align: right;\">\n",
       "      <th></th>\n",
       "      <th>sales</th>\n",
       "    </tr>\n",
       "  </thead>\n",
       "  <tbody>\n",
       "    <tr>\n",
       "      <th>0</th>\n",
       "      <td>28225189.15</td>\n",
       "    </tr>\n",
       "    <tr>\n",
       "      <th>1</th>\n",
       "      <td>33173110.86</td>\n",
       "    </tr>\n",
       "    <tr>\n",
       "      <th>2</th>\n",
       "      <td>30504393.42</td>\n",
       "    </tr>\n",
       "    <tr>\n",
       "      <th>3</th>\n",
       "      <td>30335675.45</td>\n",
       "    </tr>\n",
       "    <tr>\n",
       "      <th>4</th>\n",
       "      <td>25670890.36</td>\n",
       "    </tr>\n",
       "  </tbody>\n",
       "</table>\n",
       "</div>"
      ],
      "text/plain": [
       "         sales\n",
       "0  28225189.15\n",
       "1  33173110.86\n",
       "2  30504393.42\n",
       "3  30335675.45\n",
       "4  25670890.36"
      ]
     },
     "execution_count": 1178,
     "metadata": {},
     "output_type": "execute_result"
    }
   ],
   "source": [
    "y.head(5)"
   ]
  },
  {
   "cell_type": "markdown",
   "metadata": {},
   "source": [
    "**Calculate coefficients using Least Square Method**"
   ]
  },
  {
   "cell_type": "code",
   "execution_count": 1179,
   "metadata": {},
   "outputs": [],
   "source": [
    "# Calculate gammas using the formula: γ = (X^T · X)^-1 · X^T · y\n",
    "XTX_inv = np.linalg.inv(X.T.dot(X))\n",
    "XTy = X.T.dot(y)\n",
    "gamma = XTX_inv.dot(XTy)\n",
    "\n",
    "# New df\n",
    "coeff_df = pd.DataFrame({'coeff':gamma.flatten().tolist()})\n",
    "coeff_df = coeff_df.iloc[:-1].copy()\n",
    "coeff_df['features'] = input_cols"
   ]
  },
  {
   "cell_type": "code",
   "execution_count": 1180,
   "metadata": {},
   "outputs": [
    {
     "data": {
      "text/html": [
       "<div>\n",
       "<style scoped>\n",
       "    .dataframe tbody tr th:only-of-type {\n",
       "        vertical-align: middle;\n",
       "    }\n",
       "\n",
       "    .dataframe tbody tr th {\n",
       "        vertical-align: top;\n",
       "    }\n",
       "\n",
       "    .dataframe thead th {\n",
       "        text-align: right;\n",
       "    }\n",
       "</style>\n",
       "<table border=\"1\" class=\"dataframe\">\n",
       "  <thead>\n",
       "    <tr style=\"text-align: right;\">\n",
       "      <th></th>\n",
       "      <th>coeff</th>\n",
       "      <th>features</th>\n",
       "    </tr>\n",
       "  </thead>\n",
       "  <tbody>\n",
       "    <tr>\n",
       "      <th>0</th>\n",
       "      <td>4.923191e+04</td>\n",
       "      <td>stores_opened</td>\n",
       "    </tr>\n",
       "    <tr>\n",
       "      <th>1</th>\n",
       "      <td>1.681611e+00</td>\n",
       "      <td>investment_tv</td>\n",
       "    </tr>\n",
       "    <tr>\n",
       "      <th>2</th>\n",
       "      <td>1.896877e+00</td>\n",
       "      <td>investment_press</td>\n",
       "    </tr>\n",
       "    <tr>\n",
       "      <th>3</th>\n",
       "      <td>1.537189e+00</td>\n",
       "      <td>investment_online</td>\n",
       "    </tr>\n",
       "    <tr>\n",
       "      <th>4</th>\n",
       "      <td>1.302926e+07</td>\n",
       "      <td>brand_knowledge</td>\n",
       "    </tr>\n",
       "    <tr>\n",
       "      <th>5</th>\n",
       "      <td>-8.718192e+04</td>\n",
       "      <td>weather_index</td>\n",
       "    </tr>\n",
       "    <tr>\n",
       "      <th>6</th>\n",
       "      <td>-5.800955e+06</td>\n",
       "      <td>christmas_dummy</td>\n",
       "    </tr>\n",
       "    <tr>\n",
       "      <th>7</th>\n",
       "      <td>-4.134507e+02</td>\n",
       "      <td>economy_index</td>\n",
       "    </tr>\n",
       "  </tbody>\n",
       "</table>\n",
       "</div>"
      ],
      "text/plain": [
       "          coeff           features\n",
       "0  4.923191e+04      stores_opened\n",
       "1  1.681611e+00      investment_tv\n",
       "2  1.896877e+00   investment_press\n",
       "3  1.537189e+00  investment_online\n",
       "4  1.302926e+07    brand_knowledge\n",
       "5 -8.718192e+04      weather_index\n",
       "6 -5.800955e+06    christmas_dummy\n",
       "7 -4.134507e+02      economy_index"
      ]
     },
     "execution_count": 1180,
     "metadata": {},
     "output_type": "execute_result"
    }
   ],
   "source": [
    "coeff_df"
   ]
  },
  {
   "cell_type": "markdown",
   "metadata": {},
   "source": [
    "**Multiply matrix by vector**"
   ]
  },
  {
   "cell_type": "code",
   "execution_count": 1181,
   "metadata": {},
   "outputs": [
    {
     "data": {
      "text/plain": [
       "array([[27485052.28243887],\n",
       "       [30696687.60428294],\n",
       "       [30189739.30386824],\n",
       "       [26658341.14221014],\n",
       "       [26676183.04832148],\n",
       "       [24449048.8109577 ],\n",
       "       [28578091.69553202],\n",
       "       [25383539.23951945],\n",
       "       [25638459.05595698],\n",
       "       [25324726.48827069]])"
      ]
     },
     "execution_count": 1181,
     "metadata": {},
     "output_type": "execute_result"
    }
   ],
   "source": [
    "matrix_vector_product = np.dot(X, gamma)\n",
    "matrix_vector_product[:10]"
   ]
  },
  {
   "cell_type": "markdown",
   "metadata": {},
   "source": [
    "**Predict using equation**"
   ]
  },
  {
   "cell_type": "code",
   "execution_count": 1182,
   "metadata": {},
   "outputs": [
    {
     "data": {
      "text/html": [
       "<div>\n",
       "<style scoped>\n",
       "    .dataframe tbody tr th:only-of-type {\n",
       "        vertical-align: middle;\n",
       "    }\n",
       "\n",
       "    .dataframe tbody tr th {\n",
       "        vertical-align: top;\n",
       "    }\n",
       "\n",
       "    .dataframe thead th {\n",
       "        text-align: right;\n",
       "    }\n",
       "</style>\n",
       "<table border=\"1\" class=\"dataframe\">\n",
       "  <thead>\n",
       "    <tr style=\"text-align: right;\">\n",
       "      <th></th>\n",
       "      <th>stores_opened</th>\n",
       "      <th>investment_tv</th>\n",
       "      <th>investment_press</th>\n",
       "      <th>investment_online</th>\n",
       "      <th>brand_knowledge</th>\n",
       "      <th>weather_index</th>\n",
       "      <th>christmas_dummy</th>\n",
       "      <th>economy_index</th>\n",
       "      <th>unit vector</th>\n",
       "      <th>sales_pred</th>\n",
       "      <th>sales</th>\n",
       "    </tr>\n",
       "  </thead>\n",
       "  <tbody>\n",
       "    <tr>\n",
       "      <th>0</th>\n",
       "      <td>186</td>\n",
       "      <td>9.813096e+05</td>\n",
       "      <td>236646.24270</td>\n",
       "      <td>8.712487e+05</td>\n",
       "      <td>0.724231</td>\n",
       "      <td>71.050000</td>\n",
       "      <td>0</td>\n",
       "      <td>22777.0</td>\n",
       "      <td>1</td>\n",
       "      <td>2.748505e+07</td>\n",
       "      <td>28225189.15</td>\n",
       "    </tr>\n",
       "    <tr>\n",
       "      <th>1</th>\n",
       "      <td>186</td>\n",
       "      <td>1.204436e+06</td>\n",
       "      <td>492336.78720</td>\n",
       "      <td>7.809964e+05</td>\n",
       "      <td>0.810316</td>\n",
       "      <td>54.744286</td>\n",
       "      <td>0</td>\n",
       "      <td>22905.3</td>\n",
       "      <td>1</td>\n",
       "      <td>3.069669e+07</td>\n",
       "      <td>33173110.86</td>\n",
       "    </tr>\n",
       "    <tr>\n",
       "      <th>2</th>\n",
       "      <td>186</td>\n",
       "      <td>1.321570e+06</td>\n",
       "      <td>291885.33780</td>\n",
       "      <td>9.321739e+05</td>\n",
       "      <td>0.778179</td>\n",
       "      <td>54.311429</td>\n",
       "      <td>0</td>\n",
       "      <td>23328.8</td>\n",
       "      <td>1</td>\n",
       "      <td>3.018974e+07</td>\n",
       "      <td>30504393.42</td>\n",
       "    </tr>\n",
       "    <tr>\n",
       "      <th>3</th>\n",
       "      <td>186</td>\n",
       "      <td>2.155215e+05</td>\n",
       "      <td>110500.83200</td>\n",
       "      <td>6.830815e+05</td>\n",
       "      <td>0.804275</td>\n",
       "      <td>68.302857</td>\n",
       "      <td>0</td>\n",
       "      <td>23485.3</td>\n",
       "      <td>1</td>\n",
       "      <td>2.665834e+07</td>\n",
       "      <td>30335675.45</td>\n",
       "    </tr>\n",
       "    <tr>\n",
       "      <th>4</th>\n",
       "      <td>186</td>\n",
       "      <td>9.799192e+04</td>\n",
       "      <td>58135.35929</td>\n",
       "      <td>5.398485e+05</td>\n",
       "      <td>0.817915</td>\n",
       "      <td>63.864286</td>\n",
       "      <td>0</td>\n",
       "      <td>23557.1</td>\n",
       "      <td>1</td>\n",
       "      <td>2.667618e+07</td>\n",
       "      <td>25670890.36</td>\n",
       "    </tr>\n",
       "    <tr>\n",
       "      <th>...</th>\n",
       "      <td>...</td>\n",
       "      <td>...</td>\n",
       "      <td>...</td>\n",
       "      <td>...</td>\n",
       "      <td>...</td>\n",
       "      <td>...</td>\n",
       "      <td>...</td>\n",
       "      <td>...</td>\n",
       "      <td>...</td>\n",
       "      <td>...</td>\n",
       "      <td>...</td>\n",
       "    </tr>\n",
       "    <tr>\n",
       "      <th>112</th>\n",
       "      <td>142</td>\n",
       "      <td>0.000000e+00</td>\n",
       "      <td>0.00000</td>\n",
       "      <td>2.018774e+06</td>\n",
       "      <td>0.709503</td>\n",
       "      <td>65.965714</td>\n",
       "      <td>0</td>\n",
       "      <td>28175.0</td>\n",
       "      <td>1</td>\n",
       "      <td>2.300330e+07</td>\n",
       "      <td>23974410.26</td>\n",
       "    </tr>\n",
       "    <tr>\n",
       "      <th>113</th>\n",
       "      <td>142</td>\n",
       "      <td>0.000000e+00</td>\n",
       "      <td>0.00000</td>\n",
       "      <td>9.954599e+05</td>\n",
       "      <td>0.778967</td>\n",
       "      <td>67.607143</td>\n",
       "      <td>0</td>\n",
       "      <td>28109.8</td>\n",
       "      <td>1</td>\n",
       "      <td>2.221920e+07</td>\n",
       "      <td>20884279.92</td>\n",
       "    </tr>\n",
       "    <tr>\n",
       "      <th>114</th>\n",
       "      <td>142</td>\n",
       "      <td>0.000000e+00</td>\n",
       "      <td>0.00000</td>\n",
       "      <td>1.652220e+06</td>\n",
       "      <td>0.721600</td>\n",
       "      <td>71.281429</td>\n",
       "      <td>0</td>\n",
       "      <td>28290.7</td>\n",
       "      <td>1</td>\n",
       "      <td>2.208619e+07</td>\n",
       "      <td>21475590.81</td>\n",
       "    </tr>\n",
       "    <tr>\n",
       "      <th>115</th>\n",
       "      <td>142</td>\n",
       "      <td>0.000000e+00</td>\n",
       "      <td>0.00000</td>\n",
       "      <td>9.946260e+05</td>\n",
       "      <td>0.795736</td>\n",
       "      <td>63.042857</td>\n",
       "      <td>0</td>\n",
       "      <td>28608.6</td>\n",
       "      <td>1</td>\n",
       "      <td>2.262810e+07</td>\n",
       "      <td>23863407.52</td>\n",
       "    </tr>\n",
       "    <tr>\n",
       "      <th>116</th>\n",
       "      <td>142</td>\n",
       "      <td>1.421816e+06</td>\n",
       "      <td>0.00000</td>\n",
       "      <td>7.035735e+05</td>\n",
       "      <td>0.711990</td>\n",
       "      <td>73.668571</td>\n",
       "      <td>1</td>\n",
       "      <td>28701.7</td>\n",
       "      <td>1</td>\n",
       "      <td>1.671467e+07</td>\n",
       "      <td>15043045.07</td>\n",
       "    </tr>\n",
       "  </tbody>\n",
       "</table>\n",
       "<p>117 rows × 11 columns</p>\n",
       "</div>"
      ],
      "text/plain": [
       "     stores_opened  investment_tv  investment_press  investment_online  \\\n",
       "0              186   9.813096e+05      236646.24270       8.712487e+05   \n",
       "1              186   1.204436e+06      492336.78720       7.809964e+05   \n",
       "2              186   1.321570e+06      291885.33780       9.321739e+05   \n",
       "3              186   2.155215e+05      110500.83200       6.830815e+05   \n",
       "4              186   9.799192e+04       58135.35929       5.398485e+05   \n",
       "..             ...            ...               ...                ...   \n",
       "112            142   0.000000e+00           0.00000       2.018774e+06   \n",
       "113            142   0.000000e+00           0.00000       9.954599e+05   \n",
       "114            142   0.000000e+00           0.00000       1.652220e+06   \n",
       "115            142   0.000000e+00           0.00000       9.946260e+05   \n",
       "116            142   1.421816e+06           0.00000       7.035735e+05   \n",
       "\n",
       "     brand_knowledge  weather_index  christmas_dummy  economy_index  \\\n",
       "0           0.724231      71.050000                0        22777.0   \n",
       "1           0.810316      54.744286                0        22905.3   \n",
       "2           0.778179      54.311429                0        23328.8   \n",
       "3           0.804275      68.302857                0        23485.3   \n",
       "4           0.817915      63.864286                0        23557.1   \n",
       "..               ...            ...              ...            ...   \n",
       "112         0.709503      65.965714                0        28175.0   \n",
       "113         0.778967      67.607143                0        28109.8   \n",
       "114         0.721600      71.281429                0        28290.7   \n",
       "115         0.795736      63.042857                0        28608.6   \n",
       "116         0.711990      73.668571                1        28701.7   \n",
       "\n",
       "     unit vector    sales_pred        sales  \n",
       "0              1  2.748505e+07  28225189.15  \n",
       "1              1  3.069669e+07  33173110.86  \n",
       "2              1  3.018974e+07  30504393.42  \n",
       "3              1  2.665834e+07  30335675.45  \n",
       "4              1  2.667618e+07  25670890.36  \n",
       "..           ...           ...          ...  \n",
       "112            1  2.300330e+07  23974410.26  \n",
       "113            1  2.221920e+07  20884279.92  \n",
       "114            1  2.208619e+07  21475590.81  \n",
       "115            1  2.262810e+07  23863407.52  \n",
       "116            1  1.671467e+07  15043045.07  \n",
       "\n",
       "[117 rows x 11 columns]"
      ]
     },
     "execution_count": 1182,
     "metadata": {},
     "output_type": "execute_result"
    }
   ],
   "source": [
    "# Prediction y\n",
    "X['sales_pred'] = matrix_vector_product\n",
    "X['sales'] = df_week['sales'].copy()\n",
    "X"
   ]
  },
  {
   "cell_type": "code",
   "execution_count": 1183,
   "metadata": {},
   "outputs": [
    {
     "data": {
      "text/html": [
       "<div>\n",
       "<style scoped>\n",
       "    .dataframe tbody tr th:only-of-type {\n",
       "        vertical-align: middle;\n",
       "    }\n",
       "\n",
       "    .dataframe tbody tr th {\n",
       "        vertical-align: top;\n",
       "    }\n",
       "\n",
       "    .dataframe thead th {\n",
       "        text-align: right;\n",
       "    }\n",
       "</style>\n",
       "<table border=\"1\" class=\"dataframe\">\n",
       "  <thead>\n",
       "    <tr style=\"text-align: right;\">\n",
       "      <th></th>\n",
       "      <th>stores_opened</th>\n",
       "      <th>investment_tv</th>\n",
       "      <th>investment_press</th>\n",
       "      <th>investment_online</th>\n",
       "      <th>brand_knowledge</th>\n",
       "      <th>weather_index</th>\n",
       "      <th>christmas_dummy</th>\n",
       "      <th>economy_index</th>\n",
       "      <th>unit vector</th>\n",
       "      <th>sales_pred</th>\n",
       "      <th>sales</th>\n",
       "      <th>error</th>\n",
       "    </tr>\n",
       "  </thead>\n",
       "  <tbody>\n",
       "    <tr>\n",
       "      <th>0</th>\n",
       "      <td>186</td>\n",
       "      <td>9.813096e+05</td>\n",
       "      <td>236646.24270</td>\n",
       "      <td>8.712487e+05</td>\n",
       "      <td>0.724231</td>\n",
       "      <td>71.050000</td>\n",
       "      <td>0</td>\n",
       "      <td>22777.0</td>\n",
       "      <td>1</td>\n",
       "      <td>2.748505e+07</td>\n",
       "      <td>28225189.15</td>\n",
       "      <td>7.401369e+05</td>\n",
       "    </tr>\n",
       "    <tr>\n",
       "      <th>1</th>\n",
       "      <td>186</td>\n",
       "      <td>1.204436e+06</td>\n",
       "      <td>492336.78720</td>\n",
       "      <td>7.809964e+05</td>\n",
       "      <td>0.810316</td>\n",
       "      <td>54.744286</td>\n",
       "      <td>0</td>\n",
       "      <td>22905.3</td>\n",
       "      <td>1</td>\n",
       "      <td>3.069669e+07</td>\n",
       "      <td>33173110.86</td>\n",
       "      <td>2.476423e+06</td>\n",
       "    </tr>\n",
       "    <tr>\n",
       "      <th>2</th>\n",
       "      <td>186</td>\n",
       "      <td>1.321570e+06</td>\n",
       "      <td>291885.33780</td>\n",
       "      <td>9.321739e+05</td>\n",
       "      <td>0.778179</td>\n",
       "      <td>54.311429</td>\n",
       "      <td>0</td>\n",
       "      <td>23328.8</td>\n",
       "      <td>1</td>\n",
       "      <td>3.018974e+07</td>\n",
       "      <td>30504393.42</td>\n",
       "      <td>3.146541e+05</td>\n",
       "    </tr>\n",
       "    <tr>\n",
       "      <th>3</th>\n",
       "      <td>186</td>\n",
       "      <td>2.155215e+05</td>\n",
       "      <td>110500.83200</td>\n",
       "      <td>6.830815e+05</td>\n",
       "      <td>0.804275</td>\n",
       "      <td>68.302857</td>\n",
       "      <td>0</td>\n",
       "      <td>23485.3</td>\n",
       "      <td>1</td>\n",
       "      <td>2.665834e+07</td>\n",
       "      <td>30335675.45</td>\n",
       "      <td>3.677334e+06</td>\n",
       "    </tr>\n",
       "    <tr>\n",
       "      <th>4</th>\n",
       "      <td>186</td>\n",
       "      <td>9.799192e+04</td>\n",
       "      <td>58135.35929</td>\n",
       "      <td>5.398485e+05</td>\n",
       "      <td>0.817915</td>\n",
       "      <td>63.864286</td>\n",
       "      <td>0</td>\n",
       "      <td>23557.1</td>\n",
       "      <td>1</td>\n",
       "      <td>2.667618e+07</td>\n",
       "      <td>25670890.36</td>\n",
       "      <td>1.005293e+06</td>\n",
       "    </tr>\n",
       "    <tr>\n",
       "      <th>...</th>\n",
       "      <td>...</td>\n",
       "      <td>...</td>\n",
       "      <td>...</td>\n",
       "      <td>...</td>\n",
       "      <td>...</td>\n",
       "      <td>...</td>\n",
       "      <td>...</td>\n",
       "      <td>...</td>\n",
       "      <td>...</td>\n",
       "      <td>...</td>\n",
       "      <td>...</td>\n",
       "      <td>...</td>\n",
       "    </tr>\n",
       "    <tr>\n",
       "      <th>112</th>\n",
       "      <td>142</td>\n",
       "      <td>0.000000e+00</td>\n",
       "      <td>0.00000</td>\n",
       "      <td>2.018774e+06</td>\n",
       "      <td>0.709503</td>\n",
       "      <td>65.965714</td>\n",
       "      <td>0</td>\n",
       "      <td>28175.0</td>\n",
       "      <td>1</td>\n",
       "      <td>2.300330e+07</td>\n",
       "      <td>23974410.26</td>\n",
       "      <td>9.711106e+05</td>\n",
       "    </tr>\n",
       "    <tr>\n",
       "      <th>113</th>\n",
       "      <td>142</td>\n",
       "      <td>0.000000e+00</td>\n",
       "      <td>0.00000</td>\n",
       "      <td>9.954599e+05</td>\n",
       "      <td>0.778967</td>\n",
       "      <td>67.607143</td>\n",
       "      <td>0</td>\n",
       "      <td>28109.8</td>\n",
       "      <td>1</td>\n",
       "      <td>2.221920e+07</td>\n",
       "      <td>20884279.92</td>\n",
       "      <td>1.334920e+06</td>\n",
       "    </tr>\n",
       "    <tr>\n",
       "      <th>114</th>\n",
       "      <td>142</td>\n",
       "      <td>0.000000e+00</td>\n",
       "      <td>0.00000</td>\n",
       "      <td>1.652220e+06</td>\n",
       "      <td>0.721600</td>\n",
       "      <td>71.281429</td>\n",
       "      <td>0</td>\n",
       "      <td>28290.7</td>\n",
       "      <td>1</td>\n",
       "      <td>2.208619e+07</td>\n",
       "      <td>21475590.81</td>\n",
       "      <td>6.105961e+05</td>\n",
       "    </tr>\n",
       "    <tr>\n",
       "      <th>115</th>\n",
       "      <td>142</td>\n",
       "      <td>0.000000e+00</td>\n",
       "      <td>0.00000</td>\n",
       "      <td>9.946260e+05</td>\n",
       "      <td>0.795736</td>\n",
       "      <td>63.042857</td>\n",
       "      <td>0</td>\n",
       "      <td>28608.6</td>\n",
       "      <td>1</td>\n",
       "      <td>2.262810e+07</td>\n",
       "      <td>23863407.52</td>\n",
       "      <td>1.235308e+06</td>\n",
       "    </tr>\n",
       "    <tr>\n",
       "      <th>116</th>\n",
       "      <td>142</td>\n",
       "      <td>1.421816e+06</td>\n",
       "      <td>0.00000</td>\n",
       "      <td>7.035735e+05</td>\n",
       "      <td>0.711990</td>\n",
       "      <td>73.668571</td>\n",
       "      <td>1</td>\n",
       "      <td>28701.7</td>\n",
       "      <td>1</td>\n",
       "      <td>1.671467e+07</td>\n",
       "      <td>15043045.07</td>\n",
       "      <td>1.671622e+06</td>\n",
       "    </tr>\n",
       "  </tbody>\n",
       "</table>\n",
       "<p>117 rows × 12 columns</p>\n",
       "</div>"
      ],
      "text/plain": [
       "     stores_opened  investment_tv  investment_press  investment_online  \\\n",
       "0              186   9.813096e+05      236646.24270       8.712487e+05   \n",
       "1              186   1.204436e+06      492336.78720       7.809964e+05   \n",
       "2              186   1.321570e+06      291885.33780       9.321739e+05   \n",
       "3              186   2.155215e+05      110500.83200       6.830815e+05   \n",
       "4              186   9.799192e+04       58135.35929       5.398485e+05   \n",
       "..             ...            ...               ...                ...   \n",
       "112            142   0.000000e+00           0.00000       2.018774e+06   \n",
       "113            142   0.000000e+00           0.00000       9.954599e+05   \n",
       "114            142   0.000000e+00           0.00000       1.652220e+06   \n",
       "115            142   0.000000e+00           0.00000       9.946260e+05   \n",
       "116            142   1.421816e+06           0.00000       7.035735e+05   \n",
       "\n",
       "     brand_knowledge  weather_index  christmas_dummy  economy_index  \\\n",
       "0           0.724231      71.050000                0        22777.0   \n",
       "1           0.810316      54.744286                0        22905.3   \n",
       "2           0.778179      54.311429                0        23328.8   \n",
       "3           0.804275      68.302857                0        23485.3   \n",
       "4           0.817915      63.864286                0        23557.1   \n",
       "..               ...            ...              ...            ...   \n",
       "112         0.709503      65.965714                0        28175.0   \n",
       "113         0.778967      67.607143                0        28109.8   \n",
       "114         0.721600      71.281429                0        28290.7   \n",
       "115         0.795736      63.042857                0        28608.6   \n",
       "116         0.711990      73.668571                1        28701.7   \n",
       "\n",
       "     unit vector    sales_pred        sales         error  \n",
       "0              1  2.748505e+07  28225189.15  7.401369e+05  \n",
       "1              1  3.069669e+07  33173110.86  2.476423e+06  \n",
       "2              1  3.018974e+07  30504393.42  3.146541e+05  \n",
       "3              1  2.665834e+07  30335675.45  3.677334e+06  \n",
       "4              1  2.667618e+07  25670890.36  1.005293e+06  \n",
       "..           ...           ...          ...           ...  \n",
       "112            1  2.300330e+07  23974410.26  9.711106e+05  \n",
       "113            1  2.221920e+07  20884279.92  1.334920e+06  \n",
       "114            1  2.208619e+07  21475590.81  6.105961e+05  \n",
       "115            1  2.262810e+07  23863407.52  1.235308e+06  \n",
       "116            1  1.671467e+07  15043045.07  1.671622e+06  \n",
       "\n",
       "[117 rows x 12 columns]"
      ]
     },
     "execution_count": 1183,
     "metadata": {},
     "output_type": "execute_result"
    }
   ],
   "source": [
    "X['error'] = np.abs(X['sales']-X['sales_pred'])\n",
    "X"
   ]
  },
  {
   "cell_type": "markdown",
   "metadata": {},
   "source": [
    "**Evaluation**"
   ]
  },
  {
   "cell_type": "code",
   "execution_count": 1184,
   "metadata": {},
   "outputs": [
    {
     "name": "stdout",
     "output_type": "stream",
     "text": [
      "MAE: 1153109.07\n"
     ]
    }
   ],
   "source": [
    "mae = (np.average(X['error'])).round(2)\n",
    "print( f'MAE: {mae}')"
   ]
  },
  {
   "cell_type": "code",
   "execution_count": 1185,
   "metadata": {},
   "outputs": [
    {
     "name": "stdout",
     "output_type": "stream",
     "text": [
      "MAPE: 4.71%\n"
     ]
    }
   ],
   "source": [
    "mape = (mean_absolute_percentage_error(X['sales'], X['sales_pred'])*100).round(2)\n",
    "\n",
    "print( f'MAPE: {mape}%')"
   ]
  },
  {
   "cell_type": "markdown",
   "metadata": {},
   "source": [
    "**Plot**"
   ]
  },
  {
   "cell_type": "code",
   "execution_count": 1186,
   "metadata": {},
   "outputs": [
    {
     "data": {
      "application/vnd.plotly.v1+json": {
       "config": {
        "plotlyServerURL": "https://plot.ly"
       },
       "data": [
        {
         "hovertemplate": "variable=sales<br>index=%{x}<br>value=%{y}<extra></extra>",
         "legendgroup": "sales",
         "line": {
          "color": "#636efa",
          "dash": "solid"
         },
         "marker": {
          "symbol": "circle"
         },
         "mode": "lines",
         "name": "sales",
         "orientation": "v",
         "showlegend": true,
         "type": "scatter",
         "x": [
          0,
          1,
          2,
          3,
          4,
          5,
          6,
          7,
          8,
          9,
          10,
          11,
          12,
          13,
          14,
          15,
          16,
          17,
          18,
          19,
          20,
          21,
          22,
          23,
          24,
          25,
          26,
          27,
          28,
          29,
          30,
          31,
          32,
          33,
          34,
          35,
          36,
          37,
          38,
          39,
          40,
          41,
          42,
          43,
          44,
          45,
          46,
          47,
          48,
          49,
          50,
          51,
          52,
          53,
          54,
          55,
          56,
          57,
          58,
          59,
          60,
          61,
          62,
          63,
          64,
          65,
          66,
          67,
          68,
          69,
          70,
          71,
          72,
          73,
          74,
          75,
          76,
          77,
          78,
          79,
          80,
          81,
          82,
          83,
          84,
          85,
          86,
          87,
          88,
          89,
          90,
          91,
          92,
          93,
          94,
          95,
          96,
          97,
          98,
          99,
          100,
          101,
          102,
          103,
          104,
          105,
          106,
          107,
          108,
          109,
          110,
          111,
          112,
          113,
          114,
          115,
          116
         ],
         "xaxis": "x",
         "y": [
          28225189.15,
          33173110.86,
          30504393.42,
          30335675.45,
          25670890.36,
          26824918.57,
          26653974.71,
          26257305.38,
          24839121.5,
          26305326.78,
          28966252.69,
          25349735.4,
          22095166.29,
          22082960.78,
          24236775.52,
          23753677.15,
          26521716.87,
          25668923.49,
          24477684.09,
          25907335.9,
          25558956.59,
          22720145.3,
          25895859.89,
          22828392.69,
          24620026.48,
          21808258.95,
          26082514.6,
          27840619.92,
          29047308.36,
          26686465.62,
          27926273.77,
          24886218.95,
          27333117.98,
          25688613.22,
          25517329.85,
          25194532.49,
          25559263.97,
          23337014.37,
          25498230.27,
          25947190.7,
          24566472.07,
          23481982.48,
          24264460.59,
          26797927.92,
          25559603.98,
          23698202.71,
          23875610.46,
          25915912.55,
          27372598.24,
          28275902.88,
          28290532.32,
          28369905.64,
          27209320.3,
          29896487.48,
          29020978.18,
          26761749.57,
          25009863.85,
          24717214.64,
          25055794.41,
          25493087.64,
          22867670.63,
          21112909.3,
          19178161.63,
          24377121.68,
          17154295.98,
          20438235.45,
          21059248.16,
          23142620.41,
          24761991.42,
          22149384.78,
          23904600.85,
          25134359.05,
          26033152.6,
          25053870.71,
          22414756.08,
          22951143.07,
          22756744.17,
          20623698.37,
          22638909.43,
          22502096.31,
          23600997.03,
          23300279.22,
          22258357.23,
          24016963.91,
          25764926.7,
          28103233.79,
          26932970.4,
          27820630.92,
          25261623.9,
          22298625.16,
          25224595.85,
          21882421.65,
          23116602.73,
          25312063.91,
          23778017.42,
          23501393.22,
          23198362.15,
          23089258.81,
          23528118.98,
          24494584.45,
          23353596.53,
          23766081.06,
          28174833.5,
          25765629.14,
          22657372.33,
          24649339.11,
          24512053.49,
          25106030.61,
          20662177.73,
          23030454.16,
          23001408.35,
          23687667.85,
          23974410.26,
          20884279.92,
          21475590.81,
          23863407.52,
          15043045.07
         ],
         "yaxis": "y"
        },
        {
         "hovertemplate": "variable=sales_pred<br>index=%{x}<br>value=%{y}<extra></extra>",
         "legendgroup": "sales_pred",
         "line": {
          "color": "#EF553B",
          "dash": "solid"
         },
         "marker": {
          "symbol": "circle"
         },
         "mode": "lines",
         "name": "sales_pred",
         "orientation": "v",
         "showlegend": true,
         "type": "scatter",
         "x": [
          0,
          1,
          2,
          3,
          4,
          5,
          6,
          7,
          8,
          9,
          10,
          11,
          12,
          13,
          14,
          15,
          16,
          17,
          18,
          19,
          20,
          21,
          22,
          23,
          24,
          25,
          26,
          27,
          28,
          29,
          30,
          31,
          32,
          33,
          34,
          35,
          36,
          37,
          38,
          39,
          40,
          41,
          42,
          43,
          44,
          45,
          46,
          47,
          48,
          49,
          50,
          51,
          52,
          53,
          54,
          55,
          56,
          57,
          58,
          59,
          60,
          61,
          62,
          63,
          64,
          65,
          66,
          67,
          68,
          69,
          70,
          71,
          72,
          73,
          74,
          75,
          76,
          77,
          78,
          79,
          80,
          81,
          82,
          83,
          84,
          85,
          86,
          87,
          88,
          89,
          90,
          91,
          92,
          93,
          94,
          95,
          96,
          97,
          98,
          99,
          100,
          101,
          102,
          103,
          104,
          105,
          106,
          107,
          108,
          109,
          110,
          111,
          112,
          113,
          114,
          115,
          116
         ],
         "xaxis": "x",
         "y": [
          27485052.282438874,
          30696687.604282938,
          30189739.303868238,
          26658341.14221014,
          26676183.04832148,
          24449048.8109577,
          28578091.695532016,
          25383539.239519447,
          25638459.05595698,
          25324726.488270693,
          31308593.942438193,
          26766466.33349938,
          19603985.214327224,
          23929844.691026505,
          23286075.90764618,
          22723650.660016138,
          24645039.866768993,
          24239451.081563815,
          24524995.20320648,
          24643865.08907771,
          25626348.687126376,
          23041942.903258283,
          24206077.542379454,
          23080749.23661392,
          25273417.98819369,
          24956707.935963348,
          28812343.094917055,
          28157515.236998107,
          28200909.650048733,
          27319133.53305404,
          26950916.332898557,
          25501271.326212645,
          25133940.17441488,
          26553745.60786625,
          25978043.350657746,
          25600273.51157148,
          25461031.67336231,
          25678066.086789064,
          26661886.13501054,
          26323377.715751663,
          24857189.147520475,
          25186047.106029328,
          26000468.06028425,
          26003989.213300683,
          26299778.569766738,
          25783767.416382357,
          24921154.436397593,
          26768717.726131808,
          27681717.783911936,
          27444263.984585904,
          27496763.82830721,
          26262337.762255285,
          27507147.179756135,
          28304426.895210244,
          27940821.287073754,
          25624289.27439333,
          24555806.054469757,
          25106568.56027007,
          24539039.092123277,
          24208434.145726208,
          24200724.497912463,
          22676555.551833965,
          21744973.193764135,
          23870307.75205376,
          17973854.58279441,
          21255616.40148117,
          22299515.113154065,
          23577153.122291934,
          23601938.65288988,
          22270810.80369784,
          23562604.74500525,
          24304206.192794874,
          24071622.001193963,
          24000249.786552228,
          24337654.874175772,
          23469245.40216666,
          24248927.04752277,
          24497928.369158648,
          22553986.011153534,
          22780872.92999267,
          22326349.83354139,
          22897085.697464556,
          23252986.803078078,
          25553864.224695645,
          24450592.11677017,
          25706519.61792469,
          25370739.56488881,
          23809281.389200363,
          23852374.773586143,
          22729429.145292927,
          25834171.52143969,
          23726723.338925235,
          21976242.19668564,
          24368852.453926932,
          24772391.019520134,
          23353950.29954592,
          23113824.28744032,
          24965153.15073954,
          23620348.543846875,
          24624774.705094777,
          24445978.735426135,
          25562085.453216847,
          25562669.20748965,
          25002577.852593023,
          21924863.798369456,
          22829399.038667463,
          24604526.29096186,
          23626612.726963274,
          22038210.111748394,
          23041674.437852427,
          23797767.19358501,
          23351969.490206353,
          23003299.6869851,
          22219199.574892037,
          22086186.92680197,
          22628099.498652294,
          16714667.542889036
         ],
         "yaxis": "y"
        }
       ],
       "layout": {
        "height": 700,
        "legend": {
         "title": {
          "text": "variable"
         },
         "tracegroupgap": 0
        },
        "template": {
         "data": {
          "bar": [
           {
            "error_x": {
             "color": "#2a3f5f"
            },
            "error_y": {
             "color": "#2a3f5f"
            },
            "marker": {
             "line": {
              "color": "#E5ECF6",
              "width": 0.5
             },
             "pattern": {
              "fillmode": "overlay",
              "size": 10,
              "solidity": 0.2
             }
            },
            "type": "bar"
           }
          ],
          "barpolar": [
           {
            "marker": {
             "line": {
              "color": "#E5ECF6",
              "width": 0.5
             },
             "pattern": {
              "fillmode": "overlay",
              "size": 10,
              "solidity": 0.2
             }
            },
            "type": "barpolar"
           }
          ],
          "carpet": [
           {
            "aaxis": {
             "endlinecolor": "#2a3f5f",
             "gridcolor": "white",
             "linecolor": "white",
             "minorgridcolor": "white",
             "startlinecolor": "#2a3f5f"
            },
            "baxis": {
             "endlinecolor": "#2a3f5f",
             "gridcolor": "white",
             "linecolor": "white",
             "minorgridcolor": "white",
             "startlinecolor": "#2a3f5f"
            },
            "type": "carpet"
           }
          ],
          "choropleth": [
           {
            "colorbar": {
             "outlinewidth": 0,
             "ticks": ""
            },
            "type": "choropleth"
           }
          ],
          "contour": [
           {
            "colorbar": {
             "outlinewidth": 0,
             "ticks": ""
            },
            "colorscale": [
             [
              0,
              "#0d0887"
             ],
             [
              0.1111111111111111,
              "#46039f"
             ],
             [
              0.2222222222222222,
              "#7201a8"
             ],
             [
              0.3333333333333333,
              "#9c179e"
             ],
             [
              0.4444444444444444,
              "#bd3786"
             ],
             [
              0.5555555555555556,
              "#d8576b"
             ],
             [
              0.6666666666666666,
              "#ed7953"
             ],
             [
              0.7777777777777778,
              "#fb9f3a"
             ],
             [
              0.8888888888888888,
              "#fdca26"
             ],
             [
              1,
              "#f0f921"
             ]
            ],
            "type": "contour"
           }
          ],
          "contourcarpet": [
           {
            "colorbar": {
             "outlinewidth": 0,
             "ticks": ""
            },
            "type": "contourcarpet"
           }
          ],
          "heatmap": [
           {
            "colorbar": {
             "outlinewidth": 0,
             "ticks": ""
            },
            "colorscale": [
             [
              0,
              "#0d0887"
             ],
             [
              0.1111111111111111,
              "#46039f"
             ],
             [
              0.2222222222222222,
              "#7201a8"
             ],
             [
              0.3333333333333333,
              "#9c179e"
             ],
             [
              0.4444444444444444,
              "#bd3786"
             ],
             [
              0.5555555555555556,
              "#d8576b"
             ],
             [
              0.6666666666666666,
              "#ed7953"
             ],
             [
              0.7777777777777778,
              "#fb9f3a"
             ],
             [
              0.8888888888888888,
              "#fdca26"
             ],
             [
              1,
              "#f0f921"
             ]
            ],
            "type": "heatmap"
           }
          ],
          "heatmapgl": [
           {
            "colorbar": {
             "outlinewidth": 0,
             "ticks": ""
            },
            "colorscale": [
             [
              0,
              "#0d0887"
             ],
             [
              0.1111111111111111,
              "#46039f"
             ],
             [
              0.2222222222222222,
              "#7201a8"
             ],
             [
              0.3333333333333333,
              "#9c179e"
             ],
             [
              0.4444444444444444,
              "#bd3786"
             ],
             [
              0.5555555555555556,
              "#d8576b"
             ],
             [
              0.6666666666666666,
              "#ed7953"
             ],
             [
              0.7777777777777778,
              "#fb9f3a"
             ],
             [
              0.8888888888888888,
              "#fdca26"
             ],
             [
              1,
              "#f0f921"
             ]
            ],
            "type": "heatmapgl"
           }
          ],
          "histogram": [
           {
            "marker": {
             "pattern": {
              "fillmode": "overlay",
              "size": 10,
              "solidity": 0.2
             }
            },
            "type": "histogram"
           }
          ],
          "histogram2d": [
           {
            "colorbar": {
             "outlinewidth": 0,
             "ticks": ""
            },
            "colorscale": [
             [
              0,
              "#0d0887"
             ],
             [
              0.1111111111111111,
              "#46039f"
             ],
             [
              0.2222222222222222,
              "#7201a8"
             ],
             [
              0.3333333333333333,
              "#9c179e"
             ],
             [
              0.4444444444444444,
              "#bd3786"
             ],
             [
              0.5555555555555556,
              "#d8576b"
             ],
             [
              0.6666666666666666,
              "#ed7953"
             ],
             [
              0.7777777777777778,
              "#fb9f3a"
             ],
             [
              0.8888888888888888,
              "#fdca26"
             ],
             [
              1,
              "#f0f921"
             ]
            ],
            "type": "histogram2d"
           }
          ],
          "histogram2dcontour": [
           {
            "colorbar": {
             "outlinewidth": 0,
             "ticks": ""
            },
            "colorscale": [
             [
              0,
              "#0d0887"
             ],
             [
              0.1111111111111111,
              "#46039f"
             ],
             [
              0.2222222222222222,
              "#7201a8"
             ],
             [
              0.3333333333333333,
              "#9c179e"
             ],
             [
              0.4444444444444444,
              "#bd3786"
             ],
             [
              0.5555555555555556,
              "#d8576b"
             ],
             [
              0.6666666666666666,
              "#ed7953"
             ],
             [
              0.7777777777777778,
              "#fb9f3a"
             ],
             [
              0.8888888888888888,
              "#fdca26"
             ],
             [
              1,
              "#f0f921"
             ]
            ],
            "type": "histogram2dcontour"
           }
          ],
          "mesh3d": [
           {
            "colorbar": {
             "outlinewidth": 0,
             "ticks": ""
            },
            "type": "mesh3d"
           }
          ],
          "parcoords": [
           {
            "line": {
             "colorbar": {
              "outlinewidth": 0,
              "ticks": ""
             }
            },
            "type": "parcoords"
           }
          ],
          "pie": [
           {
            "automargin": true,
            "type": "pie"
           }
          ],
          "scatter": [
           {
            "fillpattern": {
             "fillmode": "overlay",
             "size": 10,
             "solidity": 0.2
            },
            "type": "scatter"
           }
          ],
          "scatter3d": [
           {
            "line": {
             "colorbar": {
              "outlinewidth": 0,
              "ticks": ""
             }
            },
            "marker": {
             "colorbar": {
              "outlinewidth": 0,
              "ticks": ""
             }
            },
            "type": "scatter3d"
           }
          ],
          "scattercarpet": [
           {
            "marker": {
             "colorbar": {
              "outlinewidth": 0,
              "ticks": ""
             }
            },
            "type": "scattercarpet"
           }
          ],
          "scattergeo": [
           {
            "marker": {
             "colorbar": {
              "outlinewidth": 0,
              "ticks": ""
             }
            },
            "type": "scattergeo"
           }
          ],
          "scattergl": [
           {
            "marker": {
             "colorbar": {
              "outlinewidth": 0,
              "ticks": ""
             }
            },
            "type": "scattergl"
           }
          ],
          "scattermapbox": [
           {
            "marker": {
             "colorbar": {
              "outlinewidth": 0,
              "ticks": ""
             }
            },
            "type": "scattermapbox"
           }
          ],
          "scatterpolar": [
           {
            "marker": {
             "colorbar": {
              "outlinewidth": 0,
              "ticks": ""
             }
            },
            "type": "scatterpolar"
           }
          ],
          "scatterpolargl": [
           {
            "marker": {
             "colorbar": {
              "outlinewidth": 0,
              "ticks": ""
             }
            },
            "type": "scatterpolargl"
           }
          ],
          "scatterternary": [
           {
            "marker": {
             "colorbar": {
              "outlinewidth": 0,
              "ticks": ""
             }
            },
            "type": "scatterternary"
           }
          ],
          "surface": [
           {
            "colorbar": {
             "outlinewidth": 0,
             "ticks": ""
            },
            "colorscale": [
             [
              0,
              "#0d0887"
             ],
             [
              0.1111111111111111,
              "#46039f"
             ],
             [
              0.2222222222222222,
              "#7201a8"
             ],
             [
              0.3333333333333333,
              "#9c179e"
             ],
             [
              0.4444444444444444,
              "#bd3786"
             ],
             [
              0.5555555555555556,
              "#d8576b"
             ],
             [
              0.6666666666666666,
              "#ed7953"
             ],
             [
              0.7777777777777778,
              "#fb9f3a"
             ],
             [
              0.8888888888888888,
              "#fdca26"
             ],
             [
              1,
              "#f0f921"
             ]
            ],
            "type": "surface"
           }
          ],
          "table": [
           {
            "cells": {
             "fill": {
              "color": "#EBF0F8"
             },
             "line": {
              "color": "white"
             }
            },
            "header": {
             "fill": {
              "color": "#C8D4E3"
             },
             "line": {
              "color": "white"
             }
            },
            "type": "table"
           }
          ]
         },
         "layout": {
          "annotationdefaults": {
           "arrowcolor": "#2a3f5f",
           "arrowhead": 0,
           "arrowwidth": 1
          },
          "autotypenumbers": "strict",
          "coloraxis": {
           "colorbar": {
            "outlinewidth": 0,
            "ticks": ""
           }
          },
          "colorscale": {
           "diverging": [
            [
             0,
             "#8e0152"
            ],
            [
             0.1,
             "#c51b7d"
            ],
            [
             0.2,
             "#de77ae"
            ],
            [
             0.3,
             "#f1b6da"
            ],
            [
             0.4,
             "#fde0ef"
            ],
            [
             0.5,
             "#f7f7f7"
            ],
            [
             0.6,
             "#e6f5d0"
            ],
            [
             0.7,
             "#b8e186"
            ],
            [
             0.8,
             "#7fbc41"
            ],
            [
             0.9,
             "#4d9221"
            ],
            [
             1,
             "#276419"
            ]
           ],
           "sequential": [
            [
             0,
             "#0d0887"
            ],
            [
             0.1111111111111111,
             "#46039f"
            ],
            [
             0.2222222222222222,
             "#7201a8"
            ],
            [
             0.3333333333333333,
             "#9c179e"
            ],
            [
             0.4444444444444444,
             "#bd3786"
            ],
            [
             0.5555555555555556,
             "#d8576b"
            ],
            [
             0.6666666666666666,
             "#ed7953"
            ],
            [
             0.7777777777777778,
             "#fb9f3a"
            ],
            [
             0.8888888888888888,
             "#fdca26"
            ],
            [
             1,
             "#f0f921"
            ]
           ],
           "sequentialminus": [
            [
             0,
             "#0d0887"
            ],
            [
             0.1111111111111111,
             "#46039f"
            ],
            [
             0.2222222222222222,
             "#7201a8"
            ],
            [
             0.3333333333333333,
             "#9c179e"
            ],
            [
             0.4444444444444444,
             "#bd3786"
            ],
            [
             0.5555555555555556,
             "#d8576b"
            ],
            [
             0.6666666666666666,
             "#ed7953"
            ],
            [
             0.7777777777777778,
             "#fb9f3a"
            ],
            [
             0.8888888888888888,
             "#fdca26"
            ],
            [
             1,
             "#f0f921"
            ]
           ]
          },
          "colorway": [
           "#636efa",
           "#EF553B",
           "#00cc96",
           "#ab63fa",
           "#FFA15A",
           "#19d3f3",
           "#FF6692",
           "#B6E880",
           "#FF97FF",
           "#FECB52"
          ],
          "font": {
           "color": "#2a3f5f"
          },
          "geo": {
           "bgcolor": "white",
           "lakecolor": "white",
           "landcolor": "#E5ECF6",
           "showlakes": true,
           "showland": true,
           "subunitcolor": "white"
          },
          "hoverlabel": {
           "align": "left"
          },
          "hovermode": "closest",
          "mapbox": {
           "style": "light"
          },
          "paper_bgcolor": "white",
          "plot_bgcolor": "#E5ECF6",
          "polar": {
           "angularaxis": {
            "gridcolor": "white",
            "linecolor": "white",
            "ticks": ""
           },
           "bgcolor": "#E5ECF6",
           "radialaxis": {
            "gridcolor": "white",
            "linecolor": "white",
            "ticks": ""
           }
          },
          "scene": {
           "xaxis": {
            "backgroundcolor": "#E5ECF6",
            "gridcolor": "white",
            "gridwidth": 2,
            "linecolor": "white",
            "showbackground": true,
            "ticks": "",
            "zerolinecolor": "white"
           },
           "yaxis": {
            "backgroundcolor": "#E5ECF6",
            "gridcolor": "white",
            "gridwidth": 2,
            "linecolor": "white",
            "showbackground": true,
            "ticks": "",
            "zerolinecolor": "white"
           },
           "zaxis": {
            "backgroundcolor": "#E5ECF6",
            "gridcolor": "white",
            "gridwidth": 2,
            "linecolor": "white",
            "showbackground": true,
            "ticks": "",
            "zerolinecolor": "white"
           }
          },
          "shapedefaults": {
           "line": {
            "color": "#2a3f5f"
           }
          },
          "ternary": {
           "aaxis": {
            "gridcolor": "white",
            "linecolor": "white",
            "ticks": ""
           },
           "baxis": {
            "gridcolor": "white",
            "linecolor": "white",
            "ticks": ""
           },
           "bgcolor": "#E5ECF6",
           "caxis": {
            "gridcolor": "white",
            "linecolor": "white",
            "ticks": ""
           }
          },
          "title": {
           "x": 0.05
          },
          "xaxis": {
           "automargin": true,
           "gridcolor": "white",
           "linecolor": "white",
           "ticks": "",
           "title": {
            "standoff": 15
           },
           "zerolinecolor": "white",
           "zerolinewidth": 2
          },
          "yaxis": {
           "automargin": true,
           "gridcolor": "white",
           "linecolor": "white",
           "ticks": "",
           "title": {
            "standoff": 15
           },
           "zerolinecolor": "white",
           "zerolinewidth": 2
          }
         }
        },
        "title": {
         "text": "True vs predicted sales"
        },
        "width": 1200,
        "xaxis": {
         "anchor": "y",
         "domain": [
          0,
          1
         ],
         "title": {
          "text": "index"
         }
        },
        "yaxis": {
         "anchor": "x",
         "domain": [
          0,
          1
         ],
         "title": {
          "text": "value"
         }
        }
       }
      }
     },
     "metadata": {},
     "output_type": "display_data"
    }
   ],
   "source": [
    "fig = px.line(X, \n",
    "              y=['sales', 'sales_pred'], \n",
    "              title='True vs predicted sales',\n",
    "              height=700,\n",
    "              width=1200\n",
    "              )\n",
    "fig.show()"
   ]
  },
  {
   "cell_type": "markdown",
   "metadata": {},
   "source": [
    "# Diminishing return"
   ]
  },
  {
   "cell_type": "markdown",
   "metadata": {},
   "source": [
    "**Calculate Adstock**"
   ]
  },
  {
   "cell_type": "code",
   "execution_count": 1187,
   "metadata": {},
   "outputs": [
    {
     "data": {
      "text/plain": [
       "'\\nA(t) = x(t) + A(t-1)*beta\\n\\nDR = A(t)^alfa\\n'"
      ]
     },
     "execution_count": 1187,
     "metadata": {},
     "output_type": "execute_result"
    }
   ],
   "source": [
    "'''\n",
    "A(t) = x(t) + A(t-1)*beta\n",
    "\n",
    "DR = A(t)^alfa\n",
    "'''"
   ]
  },
  {
   "cell_type": "code",
   "execution_count": 1188,
   "metadata": {},
   "outputs": [
    {
     "data": {
      "text/html": [
       "<div>\n",
       "<style scoped>\n",
       "    .dataframe tbody tr th:only-of-type {\n",
       "        vertical-align: middle;\n",
       "    }\n",
       "\n",
       "    .dataframe tbody tr th {\n",
       "        vertical-align: top;\n",
       "    }\n",
       "\n",
       "    .dataframe thead th {\n",
       "        text-align: right;\n",
       "    }\n",
       "</style>\n",
       "<table border=\"1\" class=\"dataframe\">\n",
       "  <thead>\n",
       "    <tr style=\"text-align: right;\">\n",
       "      <th></th>\n",
       "      <th>sales</th>\n",
       "    </tr>\n",
       "  </thead>\n",
       "  <tbody>\n",
       "    <tr>\n",
       "      <th>0</th>\n",
       "      <td>28225189.15</td>\n",
       "    </tr>\n",
       "    <tr>\n",
       "      <th>1</th>\n",
       "      <td>33173110.86</td>\n",
       "    </tr>\n",
       "    <tr>\n",
       "      <th>2</th>\n",
       "      <td>30504393.42</td>\n",
       "    </tr>\n",
       "    <tr>\n",
       "      <th>3</th>\n",
       "      <td>30335675.45</td>\n",
       "    </tr>\n",
       "    <tr>\n",
       "      <th>4</th>\n",
       "      <td>25670890.36</td>\n",
       "    </tr>\n",
       "  </tbody>\n",
       "</table>\n",
       "</div>"
      ],
      "text/plain": [
       "         sales\n",
       "0  28225189.15\n",
       "1  33173110.86\n",
       "2  30504393.42\n",
       "3  30335675.45\n",
       "4  25670890.36"
      ]
     },
     "execution_count": 1188,
     "metadata": {},
     "output_type": "execute_result"
    }
   ],
   "source": [
    "# Copy variables\n",
    "X_base = df_week[input_cols].copy()\n",
    "\n",
    "# Add unit vector (interception in line equation)\n",
    "X_base['unit vector'] = 1\n",
    "\n",
    "# Copy true values of 'sales'\n",
    "y_base = df_week[['sales']].copy()\n",
    "\n",
    "y_base.head(5)"
   ]
  },
  {
   "cell_type": "code",
   "execution_count": 1189,
   "metadata": {},
   "outputs": [],
   "source": [
    "# Function for Adstocked variables\n",
    "def adstock(x, beta):\n",
    "    return tsa.filters.recursive_filter(x, beta)\n",
    "\n",
    "# Function for Diminishing return\n",
    "def dr(x, alfa):\n",
    "    return x ** alfa"
   ]
  },
  {
   "cell_type": "code",
   "execution_count": 1190,
   "metadata": {},
   "outputs": [],
   "source": [
    "# Calculate gammas using the formula: γ = (X^T · X)^-1 · X^T · y\n",
    "def coeff(X, y):\n",
    "    XTX_inv = np.linalg.inv(X.T.dot(X))\n",
    "    XTy = X.T.dot(y)\n",
    "    gamma = XTX_inv.dot(XTy)\n",
    "    return gamma"
   ]
  },
  {
   "cell_type": "code",
   "execution_count": 1191,
   "metadata": {},
   "outputs": [],
   "source": [
    "# Loop through all combinations of beta and alfa\n",
    "def optimizing_function(beta_tv, alfa_tv, \n",
    "                        beta_press, alfa_press, \n",
    "                        beta_online, alfa_online,\n",
    "                        #beta_radio, alfa_radio,\n",
    "                        ):\n",
    "\n",
    "    new_X = {}\n",
    "    \n",
    "    # Add Diminishing returns\n",
    "    new_X['tv_spend'] = dr(adstock(X_base['investment_tv'], beta=beta_tv), alfa=alfa_tv)\n",
    "    new_X['press_spend'] = dr(adstock(X_base['investment_press'], beta=beta_press), alfa=alfa_press)\n",
    "    new_X['online_spend'] = dr(adstock(X_base['investment_online'], beta=beta_online), alfa=alfa_online)\n",
    "    #new_X['radio_spend'] = dr(adstock(X_base['investment_radio'], beta=beta_radio), alfa=alfa_radio)\n",
    "\n",
    "    # Create new DataFrame\n",
    "    df_new = pd.DataFrame.from_dict(new_X)\n",
    "    df_new = pd.concat([X_base, df_new], axis=1)\n",
    "\n",
    "    # Drop original sales\n",
    "    df_new = df_new.drop(['investment_tv', 'investment_online', 'investment_press'], axis=1)\n",
    "   \n",
    "    # Compute coefficients\n",
    "    gamma = coeff(df_new, y_base)\n",
    "\n",
    "    # Add calculated sales\n",
    "    df_new['sales_pred'] = np.dot(df_new, gamma)\n",
    "\n",
    "    # Add true value\n",
    "    df_new['sales'] = y_base['sales'].copy()\n",
    "\n",
    "    # Calculate MAPE\n",
    "    mape = (mean_absolute_percentage_error(y_base['sales'], df_new['sales_pred']) * 100).round(2)\n",
    "\n",
    "    return mape"
   ]
  },
  {
   "cell_type": "code",
   "execution_count": 1192,
   "metadata": {},
   "outputs": [],
   "source": [
    "# Define the list of hyperparameters to optimize\n",
    "instrum = ng.p.Instrumentation(\n",
    "\n",
    "    # Define boundaries of the optimized variables\n",
    "    beta_tv = ng.p.Scalar(lower=0, upper=1),\n",
    "    alfa_tv = ng.p.Scalar(lower=0, upper=1),\n",
    "    \n",
    "    alfa_press = ng.p.Scalar(lower=0, upper=1),\n",
    "    beta_press = ng.p.Scalar(lower=0, upper=1),\n",
    "\n",
    "    alfa_online = ng.p.Scalar(lower=0, upper=1),\n",
    "    beta_online = ng.p.Scalar(lower=0, upper=1),\n",
    "\n",
    "    #alfa_radio = ng.p.Scalar(lower=0, upper=1),\n",
    "    #beta_radio = ng.p.Scalar(lower=0, upper=1)\n",
    ")"
   ]
  },
  {
   "cell_type": "code",
   "execution_count": 1193,
   "metadata": {},
   "outputs": [],
   "source": [
    "# Set up the optimizer\n",
    "optimizer = ng.optimizers.NGOpt(parametrization=instrum, budget=2500)\n",
    "\n",
    "# Run the optimizer\n",
    "recommendation = optimizer.minimize(optimizing_function)"
   ]
  },
  {
   "cell_type": "code",
   "execution_count": 1194,
   "metadata": {},
   "outputs": [
    {
     "data": {
      "text/plain": [
       "{'beta_tv': 0.4933750033378601,\n",
       " 'alfa_tv': 0.999906599521637,\n",
       " 'alfa_press': 0.09486185014247896,\n",
       " 'beta_press': 0.6805704832077025,\n",
       " 'alfa_online': 0.010101156309247019,\n",
       " 'beta_online': 2.3134987714001912e-05}"
      ]
     },
     "execution_count": 1194,
     "metadata": {},
     "output_type": "execute_result"
    }
   ],
   "source": [
    "# Retreive the best values into a dictionary\n",
    "best_params = recommendation.value[1]\n",
    "\n",
    "best_params"
   ]
  },
  {
   "cell_type": "markdown",
   "metadata": {},
   "source": [
    "# Diminishing return - best params"
   ]
  },
  {
   "cell_type": "code",
   "execution_count": 1195,
   "metadata": {},
   "outputs": [
    {
     "data": {
      "text/plain": [
       "\" alfa_radio = best_params['alfa_radio']\\nbeta_radio = best_params['beta_radio'] \""
      ]
     },
     "execution_count": 1195,
     "metadata": {},
     "output_type": "execute_result"
    }
   ],
   "source": [
    "# Define best params \n",
    "alfa_tv = best_params['alfa_tv']\n",
    "beta_tv = best_params['beta_tv']\n",
    "\n",
    "alfa_press = best_params['alfa_press']\n",
    "beta_press = best_params['beta_press']\n",
    "\n",
    "alfa_online = best_params['alfa_online']\n",
    "beta_online = best_params['beta_online']\n",
    "\n",
    "\"\"\" alfa_radio = best_params['alfa_radio']\n",
    "beta_radio = best_params['beta_radio'] \"\"\""
   ]
  },
  {
   "cell_type": "code",
   "execution_count": 1196,
   "metadata": {},
   "outputs": [
    {
     "name": "stdout",
     "output_type": "stream",
     "text": [
      "MAPE: 3.75%\n"
     ]
    }
   ],
   "source": [
    "# Run with the best params\n",
    "new_X = {}\n",
    "    \n",
    "# Add Diminishing returns\n",
    "new_X['tv_spend'] = dr(adstock(X_base['investment_tv'], beta=beta_tv), alfa=alfa_tv)\n",
    "new_X['press_spend'] = dr(adstock(X_base['investment_press'], beta=beta_press), alfa=alfa_press)\n",
    "new_X['online_spend'] = dr(adstock(X_base['investment_online'], beta=beta_online), alfa=alfa_online)\n",
    "\n",
    "#new_X['radio_spend'] = dr(adstock(X_base['investment_radio'], beta=beta_radio), alfa=alfa_radio)\n",
    "\n",
    "# Create new DataFrame\n",
    "df_new = pd.DataFrame.from_dict(new_X)\n",
    "df_new = pd.concat([X_base, df_new], axis=1)\n",
    "\n",
    "# Drop original sales\n",
    "df_new = df_new.drop(['investment_tv', \n",
    "                      'investment_online', \n",
    "                      'investment_press', \n",
    "                      #'investment_radio'\n",
    "                      ], axis=1)\n",
    "\n",
    "# Compute coefficients\n",
    "gamma = coeff(df_new, y_base)\n",
    "\n",
    "# Add calculated sales\n",
    "df_new['sales_pred'] = np.dot(df_new, gamma)\n",
    "\n",
    "# Add true value\n",
    "df_new['sales'] = y_base['sales'].copy()\n",
    "\n",
    "\n",
    "\n",
    "# New df\n",
    "coeff_df = pd.DataFrame({'coeff':gamma.flatten().tolist()})\n",
    "coeff_df = coeff_df.iloc[:-1].copy()\n",
    "coeff_df['features'] = input_cols\n",
    "\n",
    "\n",
    "# Calculate MAPE\n",
    "mape = (mean_absolute_percentage_error(y_base['sales'], df_new['sales_pred']) * 100).round(2)\n",
    "\n",
    "print(f'MAPE: {mape}%')\n"
   ]
  },
  {
   "cell_type": "code",
   "execution_count": 1197,
   "metadata": {},
   "outputs": [
    {
     "data": {
      "text/html": [
       "<div>\n",
       "<style scoped>\n",
       "    .dataframe tbody tr th:only-of-type {\n",
       "        vertical-align: middle;\n",
       "    }\n",
       "\n",
       "    .dataframe tbody tr th {\n",
       "        vertical-align: top;\n",
       "    }\n",
       "\n",
       "    .dataframe thead th {\n",
       "        text-align: right;\n",
       "    }\n",
       "</style>\n",
       "<table border=\"1\" class=\"dataframe\">\n",
       "  <thead>\n",
       "    <tr style=\"text-align: right;\">\n",
       "      <th></th>\n",
       "      <th>coeff</th>\n",
       "      <th>features</th>\n",
       "    </tr>\n",
       "  </thead>\n",
       "  <tbody>\n",
       "    <tr>\n",
       "      <th>0</th>\n",
       "      <td>6.217781e+04</td>\n",
       "      <td>stores_opened</td>\n",
       "    </tr>\n",
       "    <tr>\n",
       "      <th>1</th>\n",
       "      <td>7.935409e+06</td>\n",
       "      <td>investment_tv</td>\n",
       "    </tr>\n",
       "    <tr>\n",
       "      <th>2</th>\n",
       "      <td>-8.988974e+04</td>\n",
       "      <td>investment_press</td>\n",
       "    </tr>\n",
       "    <tr>\n",
       "      <th>3</th>\n",
       "      <td>-5.859624e+06</td>\n",
       "      <td>investment_online</td>\n",
       "    </tr>\n",
       "    <tr>\n",
       "      <th>4</th>\n",
       "      <td>-4.032740e+02</td>\n",
       "      <td>brand_knowledge</td>\n",
       "    </tr>\n",
       "    <tr>\n",
       "      <th>5</th>\n",
       "      <td>-1.408062e+08</td>\n",
       "      <td>weather_index</td>\n",
       "    </tr>\n",
       "    <tr>\n",
       "      <th>6</th>\n",
       "      <td>1.050095e+00</td>\n",
       "      <td>christmas_dummy</td>\n",
       "    </tr>\n",
       "    <tr>\n",
       "      <th>7</th>\n",
       "      <td>9.963993e+05</td>\n",
       "      <td>economy_index</td>\n",
       "    </tr>\n",
       "  </tbody>\n",
       "</table>\n",
       "</div>"
      ],
      "text/plain": [
       "          coeff           features\n",
       "0  6.217781e+04      stores_opened\n",
       "1  7.935409e+06      investment_tv\n",
       "2 -8.988974e+04   investment_press\n",
       "3 -5.859624e+06  investment_online\n",
       "4 -4.032740e+02    brand_knowledge\n",
       "5 -1.408062e+08      weather_index\n",
       "6  1.050095e+00    christmas_dummy\n",
       "7  9.963993e+05      economy_index"
      ]
     },
     "execution_count": 1197,
     "metadata": {},
     "output_type": "execute_result"
    }
   ],
   "source": [
    "coeff_df"
   ]
  },
  {
   "cell_type": "markdown",
   "metadata": {},
   "source": [
    "**Run and plot with the best params**"
   ]
  },
  {
   "cell_type": "code",
   "execution_count": 1198,
   "metadata": {},
   "outputs": [],
   "source": [
    "df_new['sales_pred_base'] = X['sales_pred'].copy()\n",
    "df_new['date'] = df_week['Date']"
   ]
  },
  {
   "cell_type": "code",
   "execution_count": 1199,
   "metadata": {},
   "outputs": [
    {
     "data": {
      "application/vnd.plotly.v1+json": {
       "config": {
        "plotlyServerURL": "https://plot.ly"
       },
       "data": [
        {
         "hovertemplate": "variable=sales<br>index=%{x}<br>value=%{y}<extra></extra>",
         "legendgroup": "sales",
         "line": {
          "color": "#636efa",
          "dash": "solid"
         },
         "marker": {
          "symbol": "circle"
         },
         "mode": "lines",
         "name": "sales",
         "orientation": "v",
         "showlegend": true,
         "type": "scatter",
         "x": [
          0,
          1,
          2,
          3,
          4,
          5,
          6,
          7,
          8,
          9,
          10,
          11,
          12,
          13,
          14,
          15,
          16,
          17,
          18,
          19,
          20,
          21,
          22,
          23,
          24,
          25,
          26,
          27,
          28,
          29,
          30,
          31,
          32,
          33,
          34,
          35,
          36,
          37,
          38,
          39,
          40,
          41,
          42,
          43,
          44,
          45,
          46,
          47,
          48,
          49,
          50,
          51,
          52,
          53,
          54,
          55,
          56,
          57,
          58,
          59,
          60,
          61,
          62,
          63,
          64,
          65,
          66,
          67,
          68,
          69,
          70,
          71,
          72,
          73,
          74,
          75,
          76,
          77,
          78,
          79,
          80,
          81,
          82,
          83,
          84,
          85,
          86,
          87,
          88,
          89,
          90,
          91,
          92,
          93,
          94,
          95,
          96,
          97,
          98,
          99,
          100,
          101,
          102,
          103,
          104,
          105,
          106,
          107,
          108,
          109,
          110,
          111,
          112,
          113,
          114,
          115,
          116
         ],
         "xaxis": "x",
         "y": [
          28225189.15,
          33173110.86,
          30504393.42,
          30335675.45,
          25670890.36,
          26824918.57,
          26653974.71,
          26257305.38,
          24839121.5,
          26305326.78,
          28966252.69,
          25349735.4,
          22095166.29,
          22082960.78,
          24236775.52,
          23753677.15,
          26521716.87,
          25668923.49,
          24477684.09,
          25907335.9,
          25558956.59,
          22720145.3,
          25895859.89,
          22828392.69,
          24620026.48,
          21808258.95,
          26082514.6,
          27840619.92,
          29047308.36,
          26686465.62,
          27926273.77,
          24886218.95,
          27333117.98,
          25688613.22,
          25517329.85,
          25194532.49,
          25559263.97,
          23337014.37,
          25498230.27,
          25947190.7,
          24566472.07,
          23481982.48,
          24264460.59,
          26797927.92,
          25559603.98,
          23698202.71,
          23875610.46,
          25915912.55,
          27372598.24,
          28275902.88,
          28290532.32,
          28369905.64,
          27209320.3,
          29896487.48,
          29020978.18,
          26761749.57,
          25009863.85,
          24717214.64,
          25055794.41,
          25493087.64,
          22867670.63,
          21112909.3,
          19178161.63,
          24377121.68,
          17154295.98,
          20438235.45,
          21059248.16,
          23142620.41,
          24761991.42,
          22149384.78,
          23904600.85,
          25134359.05,
          26033152.6,
          25053870.71,
          22414756.08,
          22951143.07,
          22756744.17,
          20623698.37,
          22638909.43,
          22502096.31,
          23600997.03,
          23300279.22,
          22258357.23,
          24016963.91,
          25764926.7,
          28103233.79,
          26932970.4,
          27820630.92,
          25261623.9,
          22298625.16,
          25224595.85,
          21882421.65,
          23116602.73,
          25312063.91,
          23778017.42,
          23501393.22,
          23198362.15,
          23089258.81,
          23528118.98,
          24494584.45,
          23353596.53,
          23766081.06,
          28174833.5,
          25765629.14,
          22657372.33,
          24649339.11,
          24512053.49,
          25106030.61,
          20662177.73,
          23030454.16,
          23001408.35,
          23687667.85,
          23974410.26,
          20884279.92,
          21475590.81,
          23863407.52,
          15043045.07
         ],
         "yaxis": "y"
        },
        {
         "hovertemplate": "variable=sales_pred<br>index=%{x}<br>value=%{y}<extra></extra>",
         "legendgroup": "sales_pred",
         "line": {
          "color": "#EF553B",
          "dash": "solid"
         },
         "marker": {
          "symbol": "circle"
         },
         "mode": "lines",
         "name": "sales_pred",
         "orientation": "v",
         "showlegend": true,
         "type": "scatter",
         "x": [
          0,
          1,
          2,
          3,
          4,
          5,
          6,
          7,
          8,
          9,
          10,
          11,
          12,
          13,
          14,
          15,
          16,
          17,
          18,
          19,
          20,
          21,
          22,
          23,
          24,
          25,
          26,
          27,
          28,
          29,
          30,
          31,
          32,
          33,
          34,
          35,
          36,
          37,
          38,
          39,
          40,
          41,
          42,
          43,
          44,
          45,
          46,
          47,
          48,
          49,
          50,
          51,
          52,
          53,
          54,
          55,
          56,
          57,
          58,
          59,
          60,
          61,
          62,
          63,
          64,
          65,
          66,
          67,
          68,
          69,
          70,
          71,
          72,
          73,
          74,
          75,
          76,
          77,
          78,
          79,
          80,
          81,
          82,
          83,
          84,
          85,
          86,
          87,
          88,
          89,
          90,
          91,
          92,
          93,
          94,
          95,
          96,
          97,
          98,
          99,
          100,
          101,
          102,
          103,
          104,
          105,
          106,
          107,
          108,
          109,
          110,
          111,
          112,
          113,
          114,
          115,
          116
         ],
         "xaxis": "x",
         "y": [
          27547687.962156236,
          30533181.670705482,
          30965713.616097078,
          28361266.48099363,
          27794470.88857177,
          25125939.79122764,
          27121243.83978933,
          26237326.6697343,
          25770992.82603708,
          25328108.617942244,
          28381962.288142204,
          26951468.712208897,
          20717039.9912135,
          23426006.192395896,
          22978342.779433906,
          23190476.015408337,
          24909705.504704237,
          24699822.213419795,
          25164349.22842151,
          24350607.0898045,
          25586554.233629286,
          22796931.82404074,
          23825544.27531904,
          22884526.70736438,
          24532438.428999543,
          23728466.504473954,
          28220363.00056258,
          28556891.05593577,
          28843103.978845358,
          27935446.988152623,
          28338471.107939795,
          26625068.063126504,
          25791094.480129093,
          26942952.800866395,
          25902461.586139232,
          24679417.0882957,
          24437989.864497334,
          26152480.2893683,
          26575842.861326933,
          26110095.851201236,
          24141113.790227503,
          23692366.776691377,
          24240915.71255517,
          24410992.137485802,
          24524217.298323005,
          24787455.47653663,
          24190574.524924785,
          26128266.27974096,
          27304312.759069532,
          28302516.82818681,
          28196880.40375431,
          26821720.593013212,
          27996783.159418657,
          29510144.76866199,
          28910452.076681986,
          27785180.119313926,
          26078461.256862313,
          25634834.73902303,
          25342141.71068728,
          24724441.04886642,
          23941530.420463085,
          21916006.915068865,
          20683137.948793262,
          23444391.169409126,
          17526414.653946638,
          19860218.567346066,
          20899288.82361442,
          23415255.219107956,
          23951466.974642783,
          23021508.221594244,
          23868229.573379546,
          24663256.754556865,
          24528612.992248297,
          24524557.49839449,
          23427376.145489693,
          22953888.41013962,
          23950245.35705316,
          24105145.71156344,
          22815186.657601684,
          22665861.417727113,
          22316362.407570362,
          22399774.593479216,
          22111116.544306695,
          25417120.865534246,
          24756635.73018992,
          26034810.696078688,
          25728903.85326335,
          25068578.949916035,
          24640913.366468847,
          23507454.442106307,
          25974671.621204406,
          23426339.525064737,
          22025127.175971687,
          24325429.652301818,
          24508227.213456154,
          22933020.66962403,
          22976569.044207156,
          24080903.63889286,
          23629944.744148046,
          24491160.321837366,
          24160480.64318931,
          25547894.65845424,
          25721777.41484651,
          25193318.802369,
          22722909.84931609,
          23286032.480028212,
          24499124.50368747,
          23729317.324202716,
          21848296.26964709,
          22698361.120611936,
          23717130.924006313,
          23977192.251339734,
          23501337.86085263,
          22642443.995194823,
          22499935.942633063,
          22751575.14563921,
          16049052.695028663
         ],
         "yaxis": "y"
        },
        {
         "hovertemplate": "variable=sales_pred_base<br>index=%{x}<br>value=%{y}<extra></extra>",
         "legendgroup": "sales_pred_base",
         "line": {
          "color": "#00cc96",
          "dash": "solid"
         },
         "marker": {
          "symbol": "circle"
         },
         "mode": "lines",
         "name": "sales_pred_base",
         "orientation": "v",
         "showlegend": true,
         "type": "scatter",
         "x": [
          0,
          1,
          2,
          3,
          4,
          5,
          6,
          7,
          8,
          9,
          10,
          11,
          12,
          13,
          14,
          15,
          16,
          17,
          18,
          19,
          20,
          21,
          22,
          23,
          24,
          25,
          26,
          27,
          28,
          29,
          30,
          31,
          32,
          33,
          34,
          35,
          36,
          37,
          38,
          39,
          40,
          41,
          42,
          43,
          44,
          45,
          46,
          47,
          48,
          49,
          50,
          51,
          52,
          53,
          54,
          55,
          56,
          57,
          58,
          59,
          60,
          61,
          62,
          63,
          64,
          65,
          66,
          67,
          68,
          69,
          70,
          71,
          72,
          73,
          74,
          75,
          76,
          77,
          78,
          79,
          80,
          81,
          82,
          83,
          84,
          85,
          86,
          87,
          88,
          89,
          90,
          91,
          92,
          93,
          94,
          95,
          96,
          97,
          98,
          99,
          100,
          101,
          102,
          103,
          104,
          105,
          106,
          107,
          108,
          109,
          110,
          111,
          112,
          113,
          114,
          115,
          116
         ],
         "xaxis": "x",
         "y": [
          27485052.282438874,
          30696687.604282938,
          30189739.303868238,
          26658341.14221014,
          26676183.04832148,
          24449048.8109577,
          28578091.695532016,
          25383539.239519447,
          25638459.05595698,
          25324726.488270693,
          31308593.942438193,
          26766466.33349938,
          19603985.214327224,
          23929844.691026505,
          23286075.90764618,
          22723650.660016138,
          24645039.866768993,
          24239451.081563815,
          24524995.20320648,
          24643865.08907771,
          25626348.687126376,
          23041942.903258283,
          24206077.542379454,
          23080749.23661392,
          25273417.98819369,
          24956707.935963348,
          28812343.094917055,
          28157515.236998107,
          28200909.650048733,
          27319133.53305404,
          26950916.332898557,
          25501271.326212645,
          25133940.17441488,
          26553745.60786625,
          25978043.350657746,
          25600273.51157148,
          25461031.67336231,
          25678066.086789064,
          26661886.13501054,
          26323377.715751663,
          24857189.147520475,
          25186047.106029328,
          26000468.06028425,
          26003989.213300683,
          26299778.569766738,
          25783767.416382357,
          24921154.436397593,
          26768717.726131808,
          27681717.783911936,
          27444263.984585904,
          27496763.82830721,
          26262337.762255285,
          27507147.179756135,
          28304426.895210244,
          27940821.287073754,
          25624289.27439333,
          24555806.054469757,
          25106568.56027007,
          24539039.092123277,
          24208434.145726208,
          24200724.497912463,
          22676555.551833965,
          21744973.193764135,
          23870307.75205376,
          17973854.58279441,
          21255616.40148117,
          22299515.113154065,
          23577153.122291934,
          23601938.65288988,
          22270810.80369784,
          23562604.74500525,
          24304206.192794874,
          24071622.001193963,
          24000249.786552228,
          24337654.874175772,
          23469245.40216666,
          24248927.04752277,
          24497928.369158648,
          22553986.011153534,
          22780872.92999267,
          22326349.83354139,
          22897085.697464556,
          23252986.803078078,
          25553864.224695645,
          24450592.11677017,
          25706519.61792469,
          25370739.56488881,
          23809281.389200363,
          23852374.773586143,
          22729429.145292927,
          25834171.52143969,
          23726723.338925235,
          21976242.19668564,
          24368852.453926932,
          24772391.019520134,
          23353950.29954592,
          23113824.28744032,
          24965153.15073954,
          23620348.543846875,
          24624774.705094777,
          24445978.735426135,
          25562085.453216847,
          25562669.20748965,
          25002577.852593023,
          21924863.798369456,
          22829399.038667463,
          24604526.29096186,
          23626612.726963274,
          22038210.111748394,
          23041674.437852427,
          23797767.19358501,
          23351969.490206353,
          23003299.6869851,
          22219199.574892037,
          22086186.92680197,
          22628099.498652294,
          16714667.542889036
         ],
         "yaxis": "y"
        }
       ],
       "layout": {
        "height": 700,
        "legend": {
         "title": {
          "text": "variable"
         },
         "tracegroupgap": 0
        },
        "template": {
         "data": {
          "bar": [
           {
            "error_x": {
             "color": "#2a3f5f"
            },
            "error_y": {
             "color": "#2a3f5f"
            },
            "marker": {
             "line": {
              "color": "#E5ECF6",
              "width": 0.5
             },
             "pattern": {
              "fillmode": "overlay",
              "size": 10,
              "solidity": 0.2
             }
            },
            "type": "bar"
           }
          ],
          "barpolar": [
           {
            "marker": {
             "line": {
              "color": "#E5ECF6",
              "width": 0.5
             },
             "pattern": {
              "fillmode": "overlay",
              "size": 10,
              "solidity": 0.2
             }
            },
            "type": "barpolar"
           }
          ],
          "carpet": [
           {
            "aaxis": {
             "endlinecolor": "#2a3f5f",
             "gridcolor": "white",
             "linecolor": "white",
             "minorgridcolor": "white",
             "startlinecolor": "#2a3f5f"
            },
            "baxis": {
             "endlinecolor": "#2a3f5f",
             "gridcolor": "white",
             "linecolor": "white",
             "minorgridcolor": "white",
             "startlinecolor": "#2a3f5f"
            },
            "type": "carpet"
           }
          ],
          "choropleth": [
           {
            "colorbar": {
             "outlinewidth": 0,
             "ticks": ""
            },
            "type": "choropleth"
           }
          ],
          "contour": [
           {
            "colorbar": {
             "outlinewidth": 0,
             "ticks": ""
            },
            "colorscale": [
             [
              0,
              "#0d0887"
             ],
             [
              0.1111111111111111,
              "#46039f"
             ],
             [
              0.2222222222222222,
              "#7201a8"
             ],
             [
              0.3333333333333333,
              "#9c179e"
             ],
             [
              0.4444444444444444,
              "#bd3786"
             ],
             [
              0.5555555555555556,
              "#d8576b"
             ],
             [
              0.6666666666666666,
              "#ed7953"
             ],
             [
              0.7777777777777778,
              "#fb9f3a"
             ],
             [
              0.8888888888888888,
              "#fdca26"
             ],
             [
              1,
              "#f0f921"
             ]
            ],
            "type": "contour"
           }
          ],
          "contourcarpet": [
           {
            "colorbar": {
             "outlinewidth": 0,
             "ticks": ""
            },
            "type": "contourcarpet"
           }
          ],
          "heatmap": [
           {
            "colorbar": {
             "outlinewidth": 0,
             "ticks": ""
            },
            "colorscale": [
             [
              0,
              "#0d0887"
             ],
             [
              0.1111111111111111,
              "#46039f"
             ],
             [
              0.2222222222222222,
              "#7201a8"
             ],
             [
              0.3333333333333333,
              "#9c179e"
             ],
             [
              0.4444444444444444,
              "#bd3786"
             ],
             [
              0.5555555555555556,
              "#d8576b"
             ],
             [
              0.6666666666666666,
              "#ed7953"
             ],
             [
              0.7777777777777778,
              "#fb9f3a"
             ],
             [
              0.8888888888888888,
              "#fdca26"
             ],
             [
              1,
              "#f0f921"
             ]
            ],
            "type": "heatmap"
           }
          ],
          "heatmapgl": [
           {
            "colorbar": {
             "outlinewidth": 0,
             "ticks": ""
            },
            "colorscale": [
             [
              0,
              "#0d0887"
             ],
             [
              0.1111111111111111,
              "#46039f"
             ],
             [
              0.2222222222222222,
              "#7201a8"
             ],
             [
              0.3333333333333333,
              "#9c179e"
             ],
             [
              0.4444444444444444,
              "#bd3786"
             ],
             [
              0.5555555555555556,
              "#d8576b"
             ],
             [
              0.6666666666666666,
              "#ed7953"
             ],
             [
              0.7777777777777778,
              "#fb9f3a"
             ],
             [
              0.8888888888888888,
              "#fdca26"
             ],
             [
              1,
              "#f0f921"
             ]
            ],
            "type": "heatmapgl"
           }
          ],
          "histogram": [
           {
            "marker": {
             "pattern": {
              "fillmode": "overlay",
              "size": 10,
              "solidity": 0.2
             }
            },
            "type": "histogram"
           }
          ],
          "histogram2d": [
           {
            "colorbar": {
             "outlinewidth": 0,
             "ticks": ""
            },
            "colorscale": [
             [
              0,
              "#0d0887"
             ],
             [
              0.1111111111111111,
              "#46039f"
             ],
             [
              0.2222222222222222,
              "#7201a8"
             ],
             [
              0.3333333333333333,
              "#9c179e"
             ],
             [
              0.4444444444444444,
              "#bd3786"
             ],
             [
              0.5555555555555556,
              "#d8576b"
             ],
             [
              0.6666666666666666,
              "#ed7953"
             ],
             [
              0.7777777777777778,
              "#fb9f3a"
             ],
             [
              0.8888888888888888,
              "#fdca26"
             ],
             [
              1,
              "#f0f921"
             ]
            ],
            "type": "histogram2d"
           }
          ],
          "histogram2dcontour": [
           {
            "colorbar": {
             "outlinewidth": 0,
             "ticks": ""
            },
            "colorscale": [
             [
              0,
              "#0d0887"
             ],
             [
              0.1111111111111111,
              "#46039f"
             ],
             [
              0.2222222222222222,
              "#7201a8"
             ],
             [
              0.3333333333333333,
              "#9c179e"
             ],
             [
              0.4444444444444444,
              "#bd3786"
             ],
             [
              0.5555555555555556,
              "#d8576b"
             ],
             [
              0.6666666666666666,
              "#ed7953"
             ],
             [
              0.7777777777777778,
              "#fb9f3a"
             ],
             [
              0.8888888888888888,
              "#fdca26"
             ],
             [
              1,
              "#f0f921"
             ]
            ],
            "type": "histogram2dcontour"
           }
          ],
          "mesh3d": [
           {
            "colorbar": {
             "outlinewidth": 0,
             "ticks": ""
            },
            "type": "mesh3d"
           }
          ],
          "parcoords": [
           {
            "line": {
             "colorbar": {
              "outlinewidth": 0,
              "ticks": ""
             }
            },
            "type": "parcoords"
           }
          ],
          "pie": [
           {
            "automargin": true,
            "type": "pie"
           }
          ],
          "scatter": [
           {
            "fillpattern": {
             "fillmode": "overlay",
             "size": 10,
             "solidity": 0.2
            },
            "type": "scatter"
           }
          ],
          "scatter3d": [
           {
            "line": {
             "colorbar": {
              "outlinewidth": 0,
              "ticks": ""
             }
            },
            "marker": {
             "colorbar": {
              "outlinewidth": 0,
              "ticks": ""
             }
            },
            "type": "scatter3d"
           }
          ],
          "scattercarpet": [
           {
            "marker": {
             "colorbar": {
              "outlinewidth": 0,
              "ticks": ""
             }
            },
            "type": "scattercarpet"
           }
          ],
          "scattergeo": [
           {
            "marker": {
             "colorbar": {
              "outlinewidth": 0,
              "ticks": ""
             }
            },
            "type": "scattergeo"
           }
          ],
          "scattergl": [
           {
            "marker": {
             "colorbar": {
              "outlinewidth": 0,
              "ticks": ""
             }
            },
            "type": "scattergl"
           }
          ],
          "scattermapbox": [
           {
            "marker": {
             "colorbar": {
              "outlinewidth": 0,
              "ticks": ""
             }
            },
            "type": "scattermapbox"
           }
          ],
          "scatterpolar": [
           {
            "marker": {
             "colorbar": {
              "outlinewidth": 0,
              "ticks": ""
             }
            },
            "type": "scatterpolar"
           }
          ],
          "scatterpolargl": [
           {
            "marker": {
             "colorbar": {
              "outlinewidth": 0,
              "ticks": ""
             }
            },
            "type": "scatterpolargl"
           }
          ],
          "scatterternary": [
           {
            "marker": {
             "colorbar": {
              "outlinewidth": 0,
              "ticks": ""
             }
            },
            "type": "scatterternary"
           }
          ],
          "surface": [
           {
            "colorbar": {
             "outlinewidth": 0,
             "ticks": ""
            },
            "colorscale": [
             [
              0,
              "#0d0887"
             ],
             [
              0.1111111111111111,
              "#46039f"
             ],
             [
              0.2222222222222222,
              "#7201a8"
             ],
             [
              0.3333333333333333,
              "#9c179e"
             ],
             [
              0.4444444444444444,
              "#bd3786"
             ],
             [
              0.5555555555555556,
              "#d8576b"
             ],
             [
              0.6666666666666666,
              "#ed7953"
             ],
             [
              0.7777777777777778,
              "#fb9f3a"
             ],
             [
              0.8888888888888888,
              "#fdca26"
             ],
             [
              1,
              "#f0f921"
             ]
            ],
            "type": "surface"
           }
          ],
          "table": [
           {
            "cells": {
             "fill": {
              "color": "#EBF0F8"
             },
             "line": {
              "color": "white"
             }
            },
            "header": {
             "fill": {
              "color": "#C8D4E3"
             },
             "line": {
              "color": "white"
             }
            },
            "type": "table"
           }
          ]
         },
         "layout": {
          "annotationdefaults": {
           "arrowcolor": "#2a3f5f",
           "arrowhead": 0,
           "arrowwidth": 1
          },
          "autotypenumbers": "strict",
          "coloraxis": {
           "colorbar": {
            "outlinewidth": 0,
            "ticks": ""
           }
          },
          "colorscale": {
           "diverging": [
            [
             0,
             "#8e0152"
            ],
            [
             0.1,
             "#c51b7d"
            ],
            [
             0.2,
             "#de77ae"
            ],
            [
             0.3,
             "#f1b6da"
            ],
            [
             0.4,
             "#fde0ef"
            ],
            [
             0.5,
             "#f7f7f7"
            ],
            [
             0.6,
             "#e6f5d0"
            ],
            [
             0.7,
             "#b8e186"
            ],
            [
             0.8,
             "#7fbc41"
            ],
            [
             0.9,
             "#4d9221"
            ],
            [
             1,
             "#276419"
            ]
           ],
           "sequential": [
            [
             0,
             "#0d0887"
            ],
            [
             0.1111111111111111,
             "#46039f"
            ],
            [
             0.2222222222222222,
             "#7201a8"
            ],
            [
             0.3333333333333333,
             "#9c179e"
            ],
            [
             0.4444444444444444,
             "#bd3786"
            ],
            [
             0.5555555555555556,
             "#d8576b"
            ],
            [
             0.6666666666666666,
             "#ed7953"
            ],
            [
             0.7777777777777778,
             "#fb9f3a"
            ],
            [
             0.8888888888888888,
             "#fdca26"
            ],
            [
             1,
             "#f0f921"
            ]
           ],
           "sequentialminus": [
            [
             0,
             "#0d0887"
            ],
            [
             0.1111111111111111,
             "#46039f"
            ],
            [
             0.2222222222222222,
             "#7201a8"
            ],
            [
             0.3333333333333333,
             "#9c179e"
            ],
            [
             0.4444444444444444,
             "#bd3786"
            ],
            [
             0.5555555555555556,
             "#d8576b"
            ],
            [
             0.6666666666666666,
             "#ed7953"
            ],
            [
             0.7777777777777778,
             "#fb9f3a"
            ],
            [
             0.8888888888888888,
             "#fdca26"
            ],
            [
             1,
             "#f0f921"
            ]
           ]
          },
          "colorway": [
           "#636efa",
           "#EF553B",
           "#00cc96",
           "#ab63fa",
           "#FFA15A",
           "#19d3f3",
           "#FF6692",
           "#B6E880",
           "#FF97FF",
           "#FECB52"
          ],
          "font": {
           "color": "#2a3f5f"
          },
          "geo": {
           "bgcolor": "white",
           "lakecolor": "white",
           "landcolor": "#E5ECF6",
           "showlakes": true,
           "showland": true,
           "subunitcolor": "white"
          },
          "hoverlabel": {
           "align": "left"
          },
          "hovermode": "closest",
          "mapbox": {
           "style": "light"
          },
          "paper_bgcolor": "white",
          "plot_bgcolor": "#E5ECF6",
          "polar": {
           "angularaxis": {
            "gridcolor": "white",
            "linecolor": "white",
            "ticks": ""
           },
           "bgcolor": "#E5ECF6",
           "radialaxis": {
            "gridcolor": "white",
            "linecolor": "white",
            "ticks": ""
           }
          },
          "scene": {
           "xaxis": {
            "backgroundcolor": "#E5ECF6",
            "gridcolor": "white",
            "gridwidth": 2,
            "linecolor": "white",
            "showbackground": true,
            "ticks": "",
            "zerolinecolor": "white"
           },
           "yaxis": {
            "backgroundcolor": "#E5ECF6",
            "gridcolor": "white",
            "gridwidth": 2,
            "linecolor": "white",
            "showbackground": true,
            "ticks": "",
            "zerolinecolor": "white"
           },
           "zaxis": {
            "backgroundcolor": "#E5ECF6",
            "gridcolor": "white",
            "gridwidth": 2,
            "linecolor": "white",
            "showbackground": true,
            "ticks": "",
            "zerolinecolor": "white"
           }
          },
          "shapedefaults": {
           "line": {
            "color": "#2a3f5f"
           }
          },
          "ternary": {
           "aaxis": {
            "gridcolor": "white",
            "linecolor": "white",
            "ticks": ""
           },
           "baxis": {
            "gridcolor": "white",
            "linecolor": "white",
            "ticks": ""
           },
           "bgcolor": "#E5ECF6",
           "caxis": {
            "gridcolor": "white",
            "linecolor": "white",
            "ticks": ""
           }
          },
          "title": {
           "x": 0.05
          },
          "xaxis": {
           "automargin": true,
           "gridcolor": "white",
           "linecolor": "white",
           "ticks": "",
           "title": {
            "standoff": 15
           },
           "zerolinecolor": "white",
           "zerolinewidth": 2
          },
          "yaxis": {
           "automargin": true,
           "gridcolor": "white",
           "linecolor": "white",
           "ticks": "",
           "title": {
            "standoff": 15
           },
           "zerolinecolor": "white",
           "zerolinewidth": 2
          }
         }
        },
        "title": {
         "text": "True vs predicted sales with and without DR"
        },
        "width": 1200,
        "xaxis": {
         "anchor": "y",
         "domain": [
          0,
          1
         ],
         "title": {
          "text": "index"
         }
        },
        "yaxis": {
         "anchor": "x",
         "domain": [
          0,
          1
         ],
         "title": {
          "text": "value"
         }
        }
       }
      }
     },
     "metadata": {},
     "output_type": "display_data"
    }
   ],
   "source": [
    "fig = px.line(df_new,\n",
    "              y=['sales', 'sales_pred', 'sales_pred_base'], \n",
    "              title='True vs predicted sales with and without DR',\n",
    "              height=700,\n",
    "              width=1200\n",
    "              )\n",
    "fig.show()"
   ]
  }
 ],
 "metadata": {
  "kernelspec": {
   "display_name": "venv_portfolio-hkOMkeu3",
   "language": "python",
   "name": "python3"
  },
  "language_info": {
   "codemirror_mode": {
    "name": "ipython",
    "version": 3
   },
   "file_extension": ".py",
   "mimetype": "text/x-python",
   "name": "python",
   "nbconvert_exporter": "python",
   "pygments_lexer": "ipython3",
   "version": "3.10.10"
  }
 },
 "nbformat": 4,
 "nbformat_minor": 2
}
