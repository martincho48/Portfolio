{
 "cells": [
  {
   "cell_type": "code",
   "execution_count": 93,
   "metadata": {},
   "outputs": [],
   "source": [
    "import os\n",
    "import psycopg2 #PosgreSQL adapter for Python\n",
    "from dotenv import load_dotenv \n",
    "import pandas as pd\n",
    "from io import StringIO"
   ]
  },
  {
   "cell_type": "markdown",
   "metadata": {},
   "source": [
    "**Create a dataframe**"
   ]
  },
  {
   "cell_type": "code",
   "execution_count": 94,
   "metadata": {},
   "outputs": [
    {
     "data": {
      "text/html": [
       "<div>\n",
       "<style scoped>\n",
       "    .dataframe tbody tr th:only-of-type {\n",
       "        vertical-align: middle;\n",
       "    }\n",
       "\n",
       "    .dataframe tbody tr th {\n",
       "        vertical-align: top;\n",
       "    }\n",
       "\n",
       "    .dataframe thead th {\n",
       "        text-align: right;\n",
       "    }\n",
       "</style>\n",
       "<table border=\"1\" class=\"dataframe\">\n",
       "  <thead>\n",
       "    <tr style=\"text-align: right;\">\n",
       "      <th></th>\n",
       "      <th>name</th>\n",
       "      <th>surname</th>\n",
       "      <th>gender</th>\n",
       "      <th>nationality</th>\n",
       "      <th>age</th>\n",
       "    </tr>\n",
       "  </thead>\n",
       "  <tbody>\n",
       "    <tr>\n",
       "      <th>0</th>\n",
       "      <td>Martin</td>\n",
       "      <td>Bilek</td>\n",
       "      <td>male</td>\n",
       "      <td>CZE</td>\n",
       "      <td>39</td>\n",
       "    </tr>\n",
       "    <tr>\n",
       "      <th>1</th>\n",
       "      <td>Alex</td>\n",
       "      <td>Turner</td>\n",
       "      <td>male</td>\n",
       "      <td>US</td>\n",
       "      <td>28</td>\n",
       "    </tr>\n",
       "    <tr>\n",
       "      <th>2</th>\n",
       "      <td>Lucy</td>\n",
       "      <td>White</td>\n",
       "      <td>female</td>\n",
       "      <td>UK</td>\n",
       "      <td>36</td>\n",
       "    </tr>\n",
       "    <tr>\n",
       "      <th>3</th>\n",
       "      <td>Peter</td>\n",
       "      <td>Black</td>\n",
       "      <td>male</td>\n",
       "      <td>US</td>\n",
       "      <td>50</td>\n",
       "    </tr>\n",
       "    <tr>\n",
       "      <th>4</th>\n",
       "      <td>David</td>\n",
       "      <td>Baker</td>\n",
       "      <td>male</td>\n",
       "      <td>UK</td>\n",
       "      <td>66</td>\n",
       "    </tr>\n",
       "    <tr>\n",
       "      <th>5</th>\n",
       "      <td>Jane</td>\n",
       "      <td>Field</td>\n",
       "      <td>female</td>\n",
       "      <td>US</td>\n",
       "      <td>45</td>\n",
       "    </tr>\n",
       "  </tbody>\n",
       "</table>\n",
       "</div>"
      ],
      "text/plain": [
       "     name surname  gender nationality  age\n",
       "0  Martin   Bilek    male         CZE   39\n",
       "1    Alex  Turner    male          US   28\n",
       "2    Lucy   White  female          UK   36\n",
       "3   Peter   Black    male          US   50\n",
       "4   David   Baker    male          UK   66\n",
       "5    Jane   Field  female          US   45"
      ]
     },
     "execution_count": 94,
     "metadata": {},
     "output_type": "execute_result"
    }
   ],
   "source": [
    "#create a dataframe\n",
    "data = {\n",
    "    'name': ['Martin', 'Alex', 'Lucy', 'Peter', 'David', 'Jane'],\n",
    "    'surname': ['Bilek', 'Turner', 'White', 'Black', 'Baker', 'Field'],\n",
    "    'gender': ['male', 'male', 'female', 'male', 'male', 'female'],\n",
    "    'nationality':['CZE','US', 'UK', 'US', 'UK', 'US'],\n",
    "    'age': [39, 28, 36, 50, 66, 45]\n",
    "}\n",
    "\n",
    "df = pd.DataFrame(data)\n",
    "df"
   ]
  },
  {
   "cell_type": "markdown",
   "metadata": {},
   "source": [
    "**Create a connection with the database and open the cursor**"
   ]
  },
  {
   "cell_type": "code",
   "execution_count": 95,
   "metadata": {},
   "outputs": [],
   "source": [
    "#loads .env file = connects with the database\n",
    "load_dotenv()\n",
    "\n",
    "#set up connection with the database (psycopg2 is faster than Alchemy)\n",
    "url=os.getenv(\"DATABASE_URL\")\n",
    "connection=psycopg2.connect(url)\n",
    "\n",
    "\n",
    "#Open a cursor to perform database operations\n",
    "cursor = connection.cursor()"
   ]
  },
  {
   "cell_type": "markdown",
   "metadata": {},
   "source": [
    "**Define table**"
   ]
  },
  {
   "cell_type": "code",
   "execution_count": 96,
   "metadata": {},
   "outputs": [],
   "source": [
    "#define the table\n",
    "table_name='people'"
   ]
  },
  {
   "cell_type": "markdown",
   "metadata": {},
   "source": [
    "**Delete previous table**"
   ]
  },
  {
   "cell_type": "code",
   "execution_count": 97,
   "metadata": {},
   "outputs": [
    {
     "data": {
      "text/plain": [
       "' #SQL query to drop the table\\nDROP_TABLE_QUERY = f\"DROP TABLE IF EXISTS {table_name}\"\\n\\n\\n#Excute the operation\\ncursor.execute(DROP_TABLE_QUERY)\\n\\n#Commit changes to the database\\nconnection.commit() '"
      ]
     },
     "execution_count": 97,
     "metadata": {},
     "output_type": "execute_result"
    }
   ],
   "source": [
    "\"\"\" #SQL query to drop the table\n",
    "DROP_TABLE_QUERY = f\"DROP TABLE IF EXISTS {table_name}\"\n",
    "\n",
    "\n",
    "#Excute the operation\n",
    "cursor.execute(DROP_TABLE_QUERY)\n",
    "\n",
    "#Commit changes to the database\n",
    "connection.commit() \"\"\""
   ]
  },
  {
   "cell_type": "markdown",
   "metadata": {},
   "source": [
    "**Create a table**"
   ]
  },
  {
   "cell_type": "code",
   "execution_count": 98,
   "metadata": {},
   "outputs": [],
   "source": [
    "#Create a table\n",
    "CREATE_FIRST_TABLE=f\"\"\"CREATE TABLE IF NOT EXISTS {table_name}(\n",
    "            id SERIAL PRIMARY KEY,\n",
    "            name VARCHAR(50),\n",
    "            surname VARCHAR(50),\n",
    "            gender VARCHAR(50),\n",
    "            nationality VARCHAR(50),\n",
    "            age DECIMAL\n",
    "            )\"\"\"\n",
    "\n",
    "#Excute the operation\n",
    "cursor.execute(CREATE_FIRST_TABLE)\n",
    "\n",
    "#Commit changes to the database\n",
    "connection.commit()"
   ]
  },
  {
   "cell_type": "markdown",
   "metadata": {},
   "source": [
    "**Check the columns**"
   ]
  },
  {
   "cell_type": "code",
   "execution_count": 99,
   "metadata": {},
   "outputs": [
    {
     "data": {
      "text/plain": [
       "['id', 'name', 'surname', 'gender', 'nationality', 'age']"
      ]
     },
     "execution_count": 99,
     "metadata": {},
     "output_type": "execute_result"
    }
   ],
   "source": [
    "#SQL query to read data from the 'people' table\n",
    "READ_DATA = f\"SELECT * FROM {table_name}\"\n",
    "\n",
    "#Execute the query\n",
    "cursor.execute(READ_DATA)\n",
    "\n",
    "#Fetch all rows at once\n",
    "rows = cursor.fetchall()\n",
    "\n",
    "#Get the column names\n",
    "columns = [desc[0] for desc in cursor.description]\n",
    "columns"
   ]
  },
  {
   "cell_type": "markdown",
   "metadata": {},
   "source": [
    "**Delete previous data from the table**"
   ]
  },
  {
   "cell_type": "code",
   "execution_count": 100,
   "metadata": {},
   "outputs": [],
   "source": [
    "#delete previous data from the database\n",
    "\n",
    "DELETE_DATA = f\"DELETE FROM {table_name}\"\n",
    "\n",
    "#Execute the DELETE query\n",
    "cursor.execute(DELETE_DATA)\n",
    "\n",
    "#commit\n",
    "connection.commit()"
   ]
  },
  {
   "cell_type": "markdown",
   "metadata": {},
   "source": [
    "**Insert data into the table**"
   ]
  },
  {
   "cell_type": "code",
   "execution_count": 101,
   "metadata": {},
   "outputs": [],
   "source": [
    "#Insert a data into a table\n",
    "# Create a CSV string from the DataFrame (excluding the id column)\n",
    "csv_data = df[['name', 'surname', 'gender', 'nationality', 'age']].to_csv(index=False, header=False)\n",
    "\n",
    "# Use StringIO to create a file-like object from the CSV string\n",
    "csv_file = StringIO(csv_data)\n",
    "\n",
    "\n",
    "try:\n",
    "    # Use the COPY command to load data from the CSV file into the table\n",
    "    cursor.copy_from(csv_file, table_name, sep=',', columns=('name', 'surname', 'gender', 'nationality', 'age')) #NO capital letters!!!!\n",
    "\n",
    "except Exception as e:\n",
    "    print(f\"Error: {e}\")\n",
    "\n",
    "#commit\n",
    "connection.commit()"
   ]
  },
  {
   "cell_type": "markdown",
   "metadata": {},
   "source": [
    "**Read and filter the data from the table and insert them into a dataframe**"
   ]
  },
  {
   "cell_type": "code",
   "execution_count": 102,
   "metadata": {},
   "outputs": [
    {
     "data": {
      "text/html": [
       "<div>\n",
       "<style scoped>\n",
       "    .dataframe tbody tr th:only-of-type {\n",
       "        vertical-align: middle;\n",
       "    }\n",
       "\n",
       "    .dataframe tbody tr th {\n",
       "        vertical-align: top;\n",
       "    }\n",
       "\n",
       "    .dataframe thead th {\n",
       "        text-align: right;\n",
       "    }\n",
       "</style>\n",
       "<table border=\"1\" class=\"dataframe\">\n",
       "  <thead>\n",
       "    <tr style=\"text-align: right;\">\n",
       "      <th></th>\n",
       "      <th>id</th>\n",
       "      <th>name</th>\n",
       "      <th>surname</th>\n",
       "      <th>gender</th>\n",
       "      <th>nationality</th>\n",
       "      <th>age</th>\n",
       "    </tr>\n",
       "  </thead>\n",
       "  <tbody>\n",
       "    <tr>\n",
       "      <th>0</th>\n",
       "      <td>8</td>\n",
       "      <td>Alex</td>\n",
       "      <td>Turner</td>\n",
       "      <td>male</td>\n",
       "      <td>US</td>\n",
       "      <td>28</td>\n",
       "    </tr>\n",
       "    <tr>\n",
       "      <th>1</th>\n",
       "      <td>10</td>\n",
       "      <td>Peter</td>\n",
       "      <td>Black</td>\n",
       "      <td>male</td>\n",
       "      <td>US</td>\n",
       "      <td>50</td>\n",
       "    </tr>\n",
       "  </tbody>\n",
       "</table>\n",
       "</div>"
      ],
      "text/plain": [
       "   id   name surname gender nationality age\n",
       "0   8   Alex  Turner   male          US  28\n",
       "1  10  Peter   Black   male          US  50"
      ]
     },
     "execution_count": 102,
     "metadata": {},
     "output_type": "execute_result"
    }
   ],
   "source": [
    "#Read data from the table\n",
    "READ_DATA=f\"SELECT* FROM  {table_name} WHERE gender = 'male' AND  nationality = 'US' \"\n",
    "\n",
    "#Execute the query\n",
    "cursor.execute(READ_DATA)\n",
    "\n",
    "# Fetch all rows at once\n",
    "rows = cursor.fetchall()\n",
    "\n",
    "#Insert data into a dataframe\n",
    "columns = [desc[0] for desc in cursor.description] #get names of the columns\n",
    "df = pd.DataFrame(rows, columns=columns)\n",
    "df"
   ]
  },
  {
   "cell_type": "markdown",
   "metadata": {},
   "source": [
    "**Close the connection with the database**"
   ]
  },
  {
   "cell_type": "code",
   "execution_count": 103,
   "metadata": {},
   "outputs": [],
   "source": [
    "# Close the cursor and connection \n",
    "if cursor:\n",
    "    cursor.close()\n",
    "\n",
    "if connection:\n",
    "    connection.close()"
   ]
  }
 ],
 "metadata": {
  "kernelspec": {
   "display_name": "Python 3",
   "language": "python",
   "name": "python3"
  },
  "language_info": {
   "codemirror_mode": {
    "name": "ipython",
    "version": 3
   },
   "file_extension": ".py",
   "mimetype": "text/x-python",
   "name": "python",
   "nbconvert_exporter": "python",
   "pygments_lexer": "ipython3",
   "version": "3.10.10"
  }
 },
 "nbformat": 4,
 "nbformat_minor": 2
}
