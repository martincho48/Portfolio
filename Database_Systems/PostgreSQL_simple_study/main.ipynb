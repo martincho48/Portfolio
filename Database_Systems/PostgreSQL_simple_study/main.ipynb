{
 "cells": [
  {
   "cell_type": "code",
   "execution_count": 4,
   "metadata": {},
   "outputs": [],
   "source": [
    "import os\n",
    "import psycopg2 #PosgreSQL adapter for Python\n",
    "from dotenv import load_dotenv \n",
    "\n",
    "\n",
    "#loads .env file = connects with the database\n",
    "load_dotenv()\n",
    "\n",
    "#set up connection with the database (psycopg2 is faster than Alchemy)\n",
    "url=os.getenv(\"DATABASE_URL\")\n",
    "conn=psycopg2.connect(url)\n",
    "\n",
    "\n",
    "#Create a table \n",
    "#Open a cursor to perform database operations\n",
    "cur = conn.cursor()\n",
    "\n",
    "#Execute a command-create a table\n",
    "CREATE_FIRST_TABLE=\"\"\"CREATE TABLE IF NOT EXISTS temperature_table(\n",
    "            id SERIAL PRIMARY KEY,\n",
    "            date DATE,\n",
    "            temperature NUMERIC\n",
    "            );\"\"\"\n",
    "\n",
    "#excute the operation\n",
    "cur.execute(CREATE_FIRST_TABLE)\n",
    "\n",
    "\n",
    "\n",
    "\n",
    "\n",
    "\n",
    "#Make the changes to the database persistent\n",
    "conn.commit()\n",
    "\n",
    "#Close cursor and communication with the database\n",
    "cur.close()\n",
    "conn.close()\n"
   ]
  }
 ],
 "metadata": {
  "kernelspec": {
   "display_name": "Python 3",
   "language": "python",
   "name": "python3"
  },
  "language_info": {
   "codemirror_mode": {
    "name": "ipython",
    "version": 3
   },
   "file_extension": ".py",
   "mimetype": "text/x-python",
   "name": "python",
   "nbconvert_exporter": "python",
   "pygments_lexer": "ipython3",
   "version": "3.10.10"
  }
 },
 "nbformat": 4,
 "nbformat_minor": 2
}
